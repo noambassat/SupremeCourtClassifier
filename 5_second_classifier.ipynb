{
  "cells": [
    {
      "cell_type": "markdown",
      "metadata": {
        "id": "view-in-github",
        "colab_type": "text"
      },
      "source": [
        "<a href=\"https://colab.research.google.com/github/noambassat/SupremeCourtClassifier/blob/main/5_second_classifier.ipynb\" target=\"_parent\"><img src=\"https://colab.research.google.com/assets/colab-badge.svg\" alt=\"Open In Colab\"/></a>"
      ]
    },
    {
      "cell_type": "markdown",
      "id": "390cb142-eebf-4813-b1d1-11047c243db4",
      "metadata": {
        "id": "390cb142-eebf-4813-b1d1-11047c243db4"
      },
      "source": [
        "# Embedding + first classifier"
      ]
    },
    {
      "cell_type": "code",
      "execution_count": 1,
      "id": "9E55EdbICO6k",
      "metadata": {
        "id": "9E55EdbICO6k"
      },
      "outputs": [],
      "source": [
        "from transformers import AutoTokenizer, AutoModelForSequenceClassification, AutoModel\n",
        "import torch\n",
        "import numpy as np\n",
        "import pandas as pd\n",
        "import matplotlib.pyplot as plt\n",
        "from sklearn.linear_model import LogisticRegression\n",
        "from sklearn.model_selection import cross_validate, cross_val_score, StratifiedKFold,train_test_split,cross_val_predict\n",
        "from sklearn.metrics import make_scorer, accuracy_score, precision_score, recall_score, f1_score,make_scorer, accuracy_score, precision_score, recall_score, f1_score, confusion_matrix\n",
        "from imblearn.under_sampling import RandomUnderSampler\n"
      ]
    },
    {
      "cell_type": "code",
      "execution_count": 2,
      "id": "5532189c-1b24-4839-87d4-7d1790cff00c",
      "metadata": {
        "id": "5532189c-1b24-4839-87d4-7d1790cff00c"
      },
      "outputs": [],
      "source": [
        "data = pd.read_csv(\"full_final_df.csv\")"
      ]
    },
    {
      "cell_type": "code",
      "source": [],
      "metadata": {
        "id": "DSE04lRQ0pMY"
      },
      "id": "DSE04lRQ0pMY",
      "execution_count": 2,
      "outputs": []
    },
    {
      "cell_type": "code",
      "source": [
        "data[\"outcome_category\"].unique()"
      ],
      "metadata": {
        "colab": {
          "base_uri": "https://localhost:8080/"
        },
        "id": "l949sjrGhz2g",
        "outputId": "fba0e41d-2fc1-4cbd-9fb2-b35da7ecb91e"
      },
      "id": "l949sjrGhz2g",
      "execution_count": 3,
      "outputs": [
        {
          "output_type": "execute_result",
          "data": {
            "text/plain": [
              "array([1, 0, 2])"
            ]
          },
          "metadata": {},
          "execution_count": 3
        }
      ]
    },
    {
      "cell_type": "markdown",
      "id": "dIOnKZoNGgks",
      "metadata": {
        "id": "dIOnKZoNGgks"
      },
      "source": [
        "\n",
        "## Training"
      ]
    },
    {
      "cell_type": "code",
      "source": [
        "\n",
        "tokenizer = AutoTokenizer.from_pretrained(\"dean-ai/sentence_transformer_Legal-heBERT\")\n",
        "model = AutoModel.from_pretrained(\"dean-ai/sentence_transformer_Legal-heBERT\")"
      ],
      "metadata": {
        "colab": {
          "base_uri": "https://localhost:8080/",
          "height": 178,
          "referenced_widgets": [
            "920af3921d6246e0b8b673410ca43601",
            "ace6a3c9fbf446e7ada956a64e3b894a",
            "9ed63f9259d94f83ab185daa9b3bd88a",
            "a76fab3801ef4310a35474531f2ce5dc",
            "b32b5c2ef5d740dc9f70b429ad220b43",
            "07e0568c99f94017a0efbd5fdc722885",
            "c53e74ad43cc4448b0975c47c040ab07",
            "72e451db0a4a40688c58e3273eff00fd",
            "93c42e310a824c2cabbc9cb7c3332322",
            "acefda01d5b248e4a3539a057b0eaacd",
            "990de3a45b684c12b00c893e149a5352"
          ]
        },
        "id": "7dsKcvX1sNzC",
        "outputId": "d9dbbea1-e63a-4bb0-f27a-ffafb193c1b2"
      },
      "id": "7dsKcvX1sNzC",
      "execution_count": null,
      "outputs": [
        {
          "output_type": "stream",
          "name": "stderr",
          "text": [
            "/usr/local/lib/python3.10/dist-packages/huggingface_hub/utils/_auth.py:94: UserWarning: \n",
            "The secret `HF_TOKEN` does not exist in your Colab secrets.\n",
            "To authenticate with the Hugging Face Hub, create a token in your settings tab (https://huggingface.co/settings/tokens), set it as secret in your Google Colab and restart your session.\n",
            "You will be able to reuse this secret in all of your notebooks.\n",
            "Please note that authentication is recommended but still optional to access public models or datasets.\n",
            "  warnings.warn(\n"
          ]
        },
        {
          "output_type": "display_data",
          "data": {
            "text/plain": [
              "pytorch_model.bin:   0%|          | 0.00/498M [00:00<?, ?B/s]"
            ],
            "application/vnd.jupyter.widget-view+json": {
              "version_major": 2,
              "version_minor": 0,
              "model_id": "920af3921d6246e0b8b673410ca43601"
            }
          },
          "metadata": {}
        }
      ]
    },
    {
      "cell_type": "code",
      "source": [
        "# פונקציה שמקבלת טקסט ומחזירה את האימבדינג כוקטור\n",
        "def get_embeddings(text):\n",
        "    # המרת הטקסט לפורמט מתאים למודל\n",
        "    inputs = tokenizer(text, return_tensors=\"pt\", padding=True, truncation=True, max_length=512)\n",
        "    # חישוב האימבדינג של המודל\n",
        "    outputs = model(**inputs)\n",
        "    # חישוב ממוצע הוקטורים עבור כל טקסט\n",
        "    embeddings = outputs.last_hidden_state.mean(dim=1).detach().numpy()\n",
        "    return embeddings[0]"
      ],
      "metadata": {
        "id": "0Nol5tbvr_1O"
      },
      "id": "0Nol5tbvr_1O",
      "execution_count": null,
      "outputs": []
    },
    {
      "cell_type": "code",
      "source": [
        "# פונקציה לחיתוך הטקסט בהתאם לכללים\n",
        "def trim_text(text):\n",
        "    min_length = 500  # אורך מינימלי לשמירה\n",
        "    last_sen = 30     # מספר תווים להסרה מסוף הטקסט\n",
        "\n",
        "    # שמירת אורך מקורי לאבחון\n",
        "    original_length = len(text)\n",
        "\n",
        "    # הסרת מספר תווים מסוף הטקסט\n",
        "    text = text[:-last_sen]\n",
        "\n",
        "    # חיתוך ל-min_length האחרונים אם הטקסט ארוך יותר מהמינימום\n",
        "    if len(text) > min_length:\n",
        "        text = text[-min_length:]\n",
        "\n",
        "    # הדפסת פידבק רק אם הטקסט עבר שינוי\n",
        "    if len(text) != original_length:\n",
        "        print(f\"Trimmed Text (Original Length: {original_length}, Trimmed Length: {len(text)}):\")\n",
        "        formatted_text = \"\\n\".join([text[i:i+80] for i in range(0, len(text), 80)])\n",
        "        print(formatted_text)\n",
        "        print(\"##*******************************************************####\")\n",
        "    return text\n",
        "\n",
        "\n",
        "# הסרת שורות עם ערכים חסרים בעמודת הטקסט או בעמודת המטרה\n",
        "data = data.dropna(subset=[\"גוף המסמך\", \"outcome_category\"])\n",
        "\n",
        "# חיתוך הטקסטים בעמודת \"גוף המסמך\"\n",
        "data[\"גוף המסמך\"] = data[\"גוף המסמך\"].apply(trim_text)\n",
        "\n",
        "# # שמירת התוצאה לקובץ\n",
        "# file_path = 'final_trimmed_data.csv'\n",
        "# data.to_csv(file_path, index=False, encoding='utf-8')\n",
        "\n",
        "# print(f\"הקובץ נשמר בהצלחה בנתיב: {file_path}\")\n"
      ],
      "metadata": {
        "id": "NCFFQ8TpsDFo"
      },
      "id": "NCFFQ8TpsDFo",
      "execution_count": null,
      "outputs": []
    },
    {
      "cell_type": "code",
      "source": [
        "from sklearn.metrics import precision_recall_curve, accuracy_score, precision_score, recall_score, f1_score, confusion_matrix, make_scorer\n",
        "from sklearn.model_selection import cross_val_predict, cross_validate\n",
        "import joblib\n",
        "\n",
        "\n",
        "# עדכון עמודת המטרה ואימבדינג לאחר חיתוך הטקסטים\n",
        "y = data[\"outcome_category\"].values\n",
        "embeddings = np.array([get_embeddings(text) for text in data[\"גוף המסמך\"]])"
      ],
      "metadata": {
        "id": "r4dUB4ZFsJQC"
      },
      "id": "r4dUB4ZFsJQC",
      "execution_count": null,
      "outputs": []
    },
    {
      "cell_type": "code",
      "source": [
        "from sklearn.preprocessing import LabelEncoder\n",
        "from sklearn.linear_model import LogisticRegression\n",
        "from sklearn.model_selection import cross_val_predict, cross_validate\n",
        "from sklearn.metrics import accuracy_score, precision_score, recall_score, f1_score, confusion_matrix, make_scorer\n",
        "from imblearn.under_sampling import RandomUnderSampler\n",
        "import numpy as np\n",
        "import joblib\n",
        "\n",
        "# בדיקת הקטגוריות ותוויות היעד\n",
        "print(\"Unique categories in 'y_numeric':\", np.unique(data[\"outcome_category\"]))\n",
        "\n",
        "# חישוב התפלגות הקטגוריות המקורית\n",
        "unique, counts = np.unique(data[\"outcome_category\"], return_counts=True)\n",
        "class_distribution = dict(zip(unique, counts))\n",
        "print(\"Original class distribution:\", class_distribution)\n",
        "\n",
        "# הגדרת יחס הדגימה: undersampling למחלקה הגדולה ביותר\n",
        "major_class = max(class_distribution, key=class_distribution.get)  # מחלקה עם מספר הדוגמאות הגבוה ביותר\n",
        "sampling_strategy = {\n",
        "    major_class: int(class_distribution[major_class] * 0.6),  # הפחתת מספר הדוגמאות ב-40%\n",
        "    1: class_distribution[1],  # שמירה על כל הדוגמאות בקטגוריה \"ערעור התקבל\"\n",
        "    2: class_distribution[2]   # שמירה על כל הדוגמאות בקטגוריה \"אחר\"\n",
        "}\n",
        "print(\"Sampling strategy:\", sampling_strategy)\n",
        "\n",
        "# ביצוע undersampling\n",
        "undersampler = RandomUnderSampler(sampling_strategy=sampling_strategy, random_state=42)\n",
        "X_resampled, y_resampled = undersampler.fit_resample(embeddings, data[\"outcome_category\"])\n",
        "\n",
        "# שמירת האינדקסים המקוריים\n",
        "resampled_indices = undersampler.sample_indices_\n",
        "joblib.dump(resampled_indices, 'resampled_indices.pkl')\n",
        "\n",
        "# חישוב התפלגות לאחר undersampling\n",
        "unique_resampled, counts_resampled = np.unique(y_resampled, return_counts=True)\n",
        "resampled_distribution = dict(zip(unique_resampled, counts_resampled))\n",
        "print(\"Resampled class distribution:\", resampled_distribution)\n",
        "\n",
        "# הגדרת Logistic Regression עם משקל מוגדל לקטגוריה 1\n",
        "class_weights = {0: 1, 1: 3, 2: 1}  # משקל גבוה לקטגוריה 1\n",
        "classifier = LogisticRegression(random_state=42, max_iter=1000, class_weight=class_weights, multi_class='multinomial')\n",
        "\n",
        "# אימון המודל\n",
        "classifier.fit(X_resampled, y_resampled)\n",
        "\n",
        "# הגדרת מדדים לקרוס ולידציה\n",
        "scoring = {\n",
        "    'accuracy': make_scorer(accuracy_score),\n",
        "    'precision_macro': make_scorer(precision_score, average='macro'),\n",
        "    'recall_macro': make_scorer(recall_score, average='macro'),\n",
        "    'f1_macro': make_scorer(f1_score, average='macro')\n",
        "}\n",
        "\n",
        "# ביצוע Cross Validation\n",
        "cv_results = cross_validate(classifier, X_resampled, y_resampled, cv=5, scoring=scoring)\n",
        "\n",
        "# הדפסת תוצאות קרוס ולידציה\n",
        "print(\"\\nCross-Validation Results:\")\n",
        "print(\"Accuracy:\", cv_results['test_accuracy'])\n",
        "print(\"Mean Accuracy:\", cv_results['test_accuracy'].mean())\n",
        "print(\"Precision (Macro):\", cv_results['test_precision_macro'])\n",
        "print(\"Mean Precision (Macro):\", cv_results['test_precision_macro'].mean())\n",
        "print(\"Recall (Macro):\", cv_results['test_recall_macro'])\n",
        "print(\"Mean Recall (Macro):\", cv_results['test_recall_macro'].mean())\n",
        "print(\"F1 Score (Macro):\", cv_results['test_f1_macro'])\n",
        "print(\"Mean F1 Score (Macro):\", cv_results['test_f1_macro'].mean())\n",
        "\n",
        "# חיזוי תוויות על כל קפל לצורך יצירת קונפיוז'ן מטריקס\n",
        "y_pred = cross_val_predict(classifier, X_resampled, y_resampled, cv=5)\n",
        "\n",
        "# חישוב קונפיוז'ן מטריקס\n",
        "conf_matrix = confusion_matrix(y_resampled, y_pred)\n",
        "print(\"\\nConfusion Matrix:\")\n",
        "print(conf_matrix)\n",
        "\n",
        "# הדפסת FN, FP\n",
        "fn_count = np.sum((y_resampled == 1) & (y_pred != 1))\n",
        "fp_count = np.sum((y_resampled != 1) & (y_pred == 1))\n",
        "print(f\"False Negatives (FN): {fn_count}\")\n",
        "print(f\"False Positives (FP): {fp_count}\")\n",
        "\n",
        "# שמירת המודל\n",
        "joblib.dump(classifier, 'classifier_multiclass_model_with_weights.pkl')\n",
        "print(\"Model saved successfully!\")\n"
      ],
      "metadata": {
        "id": "Q4rnt_qpy_No"
      },
      "id": "Q4rnt_qpy_No",
      "execution_count": null,
      "outputs": []
    },
    {
      "cell_type": "code",
      "source": [
        "\n",
        "\n",
        "# בדיקה ראשונית של הקטגוריות\n",
        "print(\"Unique categories in 'y_numeric':\", np.unique(data[\"outcome_category\"]))\n",
        "\n",
        "# חישוב התפלגות הקטגוריות המקורית\n",
        "unique, counts = np.unique(data[\"outcome_category\"], return_counts=True)\n",
        "class_distribution = dict(zip(unique, counts))\n",
        "print(\"Original class distribution:\", class_distribution)\n",
        "\n",
        "# ביצוע Undersampling למחלקה הדומיננטית בלבד\n",
        "sampling_strategy = {\n",
        "    0: min(class_distribution[0], int(class_distribution[0] * 0.6)),  # קטגוריה 0\n",
        "    1: class_distribution[1],  # שימור המחלקה ללא שינוי\n",
        "    2: class_distribution[2]   # שימור המחלקה ללא שינוי\n",
        "}\n",
        "print(\"Sampling strategy:\", sampling_strategy)\n",
        "\n",
        "undersampler = RandomUnderSampler(sampling_strategy=sampling_strategy, random_state=42)\n",
        "X_resampled, y_resampled = undersampler.fit_resample(embeddings, data[\"outcome_category\"])\n",
        "\n",
        "# שמירת אינדקסים מקוריים\n",
        "resampled_indices = undersampler.sample_indices_\n",
        "joblib.dump(resampled_indices, 'resampled_indices.pkl')\n",
        "\n",
        "# חישוב התפלגות לאחר Undersampling\n",
        "unique_resampled, counts_resampled = np.unique(y_resampled, return_counts=True)\n",
        "resampled_distribution = dict(zip(unique_resampled, counts_resampled))\n",
        "print(\"Resampled class distribution:\", resampled_distribution)\n",
        "\n",
        "# הגדרת מסווג לוגיסטי עם משקלות מותאמים\n",
        "class_weights = {0: 1, 1: 3, 2: 5}  # משקל גבוה לקטגוריות 1 ו-2\n",
        "classifier = LogisticRegression(random_state=42, max_iter=1000, class_weight=class_weights)\n",
        "\n",
        "# אימון המודל\n",
        "classifier.fit(X_resampled, y_resampled)\n",
        "\n",
        "# הגדרת מדדים לקרוס ולידציה\n",
        "scoring = {\n",
        "    'accuracy': make_scorer(accuracy_score),\n",
        "    'precision_macro': make_scorer(precision_score, average='macro'),\n",
        "    'recall_macro': make_scorer(recall_score, average='macro'),\n",
        "    'f1_macro': make_scorer(f1_score, average='macro')\n",
        "}\n",
        "\n",
        "# ביצוע Cross Validation\n",
        "cv_results = cross_validate(classifier, X_resampled, y_resampled, cv=5, scoring=scoring)\n",
        "\n",
        "# הדפסת תוצאות קרוס ולידציה\n",
        "print(\"\\nCross-Validation Results:\")\n",
        "print(\"Accuracy:\", cv_results['test_accuracy'])\n",
        "print(\"Mean Accuracy:\", cv_results['test_accuracy'].mean())\n",
        "print(\"Precision (Macro):\", cv_results['test_precision_macro'])\n",
        "print(\"Mean Precision (Macro):\", cv_results['test_precision_macro'].mean())\n",
        "print(\"Recall (Macro):\", cv_results['test_recall_macro'])\n",
        "print(\"Mean Recall (Macro):\", cv_results['test_recall_macro'].mean())\n",
        "print(\"F1 Score (Macro):\", cv_results['test_f1_macro'])\n",
        "print(\"Mean F1 Score (Macro):\", cv_results['test_f1_macro'].mean())\n",
        "\n",
        "# חיזוי תוויות על כל קפל לצורך יצירת קונפיוז'ן מטריקס\n",
        "y_pred = cross_val_predict(classifier, X_resampled, y_resampled, cv=5)\n",
        "\n",
        "# חישוב קונפיוז'ן מטריקס\n",
        "conf_matrix = confusion_matrix(y_resampled, y_pred)\n",
        "print(\"\\nConfusion Matrix:\")\n",
        "print(conf_matrix)\n",
        "\n",
        "# חישוב FN ו-FP\n",
        "fn_count = np.sum((y_resampled == 1) & (y_pred != 1))\n",
        "fp_count = np.sum((y_resampled != 1) & (y_pred == 1))\n",
        "print(f\"False Negatives (FN): {fn_count}\")\n",
        "print(f\"False Positives (FP): {fp_count}\")\n",
        "\n",
        "# שמירת המודל\n",
        "joblib.dump(classifier, 'classifier_weighted_model.pkl')\n",
        "print(\"Model with adjusted class weights saved successfully!\")\n"
      ],
      "metadata": {
        "id": "Ia-GB4A-GTPV"
      },
      "id": "Ia-GB4A-GTPV",
      "execution_count": null,
      "outputs": []
    }
  ],
  "metadata": {
    "accelerator": "GPU",
    "colab": {
      "gpuType": "T4",
      "provenance": [],
      "include_colab_link": true
    },
    "kernelspec": {
      "display_name": "Python 3",
      "name": "python3"
    },
    "language_info": {
      "codemirror_mode": {
        "name": "ipython",
        "version": 3
      },
      "file_extension": ".py",
      "mimetype": "text/x-python",
      "name": "python",
      "nbconvert_exporter": "python",
      "pygments_lexer": "ipython3",
      "version": "3.11.7"
    },
    "widgets": {
      "application/vnd.jupyter.widget-state+json": {
        "920af3921d6246e0b8b673410ca43601": {
          "model_module": "@jupyter-widgets/controls",
          "model_name": "HBoxModel",
          "model_module_version": "1.5.0",
          "state": {
            "_dom_classes": [],
            "_model_module": "@jupyter-widgets/controls",
            "_model_module_version": "1.5.0",
            "_model_name": "HBoxModel",
            "_view_count": null,
            "_view_module": "@jupyter-widgets/controls",
            "_view_module_version": "1.5.0",
            "_view_name": "HBoxView",
            "box_style": "",
            "children": [
              "IPY_MODEL_ace6a3c9fbf446e7ada956a64e3b894a",
              "IPY_MODEL_9ed63f9259d94f83ab185daa9b3bd88a",
              "IPY_MODEL_a76fab3801ef4310a35474531f2ce5dc"
            ],
            "layout": "IPY_MODEL_b32b5c2ef5d740dc9f70b429ad220b43"
          }
        },
        "ace6a3c9fbf446e7ada956a64e3b894a": {
          "model_module": "@jupyter-widgets/controls",
          "model_name": "HTMLModel",
          "model_module_version": "1.5.0",
          "state": {
            "_dom_classes": [],
            "_model_module": "@jupyter-widgets/controls",
            "_model_module_version": "1.5.0",
            "_model_name": "HTMLModel",
            "_view_count": null,
            "_view_module": "@jupyter-widgets/controls",
            "_view_module_version": "1.5.0",
            "_view_name": "HTMLView",
            "description": "",
            "description_tooltip": null,
            "layout": "IPY_MODEL_07e0568c99f94017a0efbd5fdc722885",
            "placeholder": "​",
            "style": "IPY_MODEL_c53e74ad43cc4448b0975c47c040ab07",
            "value": "pytorch_model.bin:  51%"
          }
        },
        "9ed63f9259d94f83ab185daa9b3bd88a": {
          "model_module": "@jupyter-widgets/controls",
          "model_name": "FloatProgressModel",
          "model_module_version": "1.5.0",
          "state": {
            "_dom_classes": [],
            "_model_module": "@jupyter-widgets/controls",
            "_model_module_version": "1.5.0",
            "_model_name": "FloatProgressModel",
            "_view_count": null,
            "_view_module": "@jupyter-widgets/controls",
            "_view_module_version": "1.5.0",
            "_view_name": "ProgressView",
            "bar_style": "",
            "description": "",
            "description_tooltip": null,
            "layout": "IPY_MODEL_72e451db0a4a40688c58e3273eff00fd",
            "max": 497829798,
            "min": 0,
            "orientation": "horizontal",
            "style": "IPY_MODEL_93c42e310a824c2cabbc9cb7c3332322",
            "value": 251658240
          }
        },
        "a76fab3801ef4310a35474531f2ce5dc": {
          "model_module": "@jupyter-widgets/controls",
          "model_name": "HTMLModel",
          "model_module_version": "1.5.0",
          "state": {
            "_dom_classes": [],
            "_model_module": "@jupyter-widgets/controls",
            "_model_module_version": "1.5.0",
            "_model_name": "HTMLModel",
            "_view_count": null,
            "_view_module": "@jupyter-widgets/controls",
            "_view_module_version": "1.5.0",
            "_view_name": "HTMLView",
            "description": "",
            "description_tooltip": null,
            "layout": "IPY_MODEL_acefda01d5b248e4a3539a057b0eaacd",
            "placeholder": "​",
            "style": "IPY_MODEL_990de3a45b684c12b00c893e149a5352",
            "value": " 252M/498M [00:11&lt;00:11, 21.2MB/s]"
          }
        },
        "b32b5c2ef5d740dc9f70b429ad220b43": {
          "model_module": "@jupyter-widgets/base",
          "model_name": "LayoutModel",
          "model_module_version": "1.2.0",
          "state": {
            "_model_module": "@jupyter-widgets/base",
            "_model_module_version": "1.2.0",
            "_model_name": "LayoutModel",
            "_view_count": null,
            "_view_module": "@jupyter-widgets/base",
            "_view_module_version": "1.2.0",
            "_view_name": "LayoutView",
            "align_content": null,
            "align_items": null,
            "align_self": null,
            "border": null,
            "bottom": null,
            "display": null,
            "flex": null,
            "flex_flow": null,
            "grid_area": null,
            "grid_auto_columns": null,
            "grid_auto_flow": null,
            "grid_auto_rows": null,
            "grid_column": null,
            "grid_gap": null,
            "grid_row": null,
            "grid_template_areas": null,
            "grid_template_columns": null,
            "grid_template_rows": null,
            "height": null,
            "justify_content": null,
            "justify_items": null,
            "left": null,
            "margin": null,
            "max_height": null,
            "max_width": null,
            "min_height": null,
            "min_width": null,
            "object_fit": null,
            "object_position": null,
            "order": null,
            "overflow": null,
            "overflow_x": null,
            "overflow_y": null,
            "padding": null,
            "right": null,
            "top": null,
            "visibility": null,
            "width": null
          }
        },
        "07e0568c99f94017a0efbd5fdc722885": {
          "model_module": "@jupyter-widgets/base",
          "model_name": "LayoutModel",
          "model_module_version": "1.2.0",
          "state": {
            "_model_module": "@jupyter-widgets/base",
            "_model_module_version": "1.2.0",
            "_model_name": "LayoutModel",
            "_view_count": null,
            "_view_module": "@jupyter-widgets/base",
            "_view_module_version": "1.2.0",
            "_view_name": "LayoutView",
            "align_content": null,
            "align_items": null,
            "align_self": null,
            "border": null,
            "bottom": null,
            "display": null,
            "flex": null,
            "flex_flow": null,
            "grid_area": null,
            "grid_auto_columns": null,
            "grid_auto_flow": null,
            "grid_auto_rows": null,
            "grid_column": null,
            "grid_gap": null,
            "grid_row": null,
            "grid_template_areas": null,
            "grid_template_columns": null,
            "grid_template_rows": null,
            "height": null,
            "justify_content": null,
            "justify_items": null,
            "left": null,
            "margin": null,
            "max_height": null,
            "max_width": null,
            "min_height": null,
            "min_width": null,
            "object_fit": null,
            "object_position": null,
            "order": null,
            "overflow": null,
            "overflow_x": null,
            "overflow_y": null,
            "padding": null,
            "right": null,
            "top": null,
            "visibility": null,
            "width": null
          }
        },
        "c53e74ad43cc4448b0975c47c040ab07": {
          "model_module": "@jupyter-widgets/controls",
          "model_name": "DescriptionStyleModel",
          "model_module_version": "1.5.0",
          "state": {
            "_model_module": "@jupyter-widgets/controls",
            "_model_module_version": "1.5.0",
            "_model_name": "DescriptionStyleModel",
            "_view_count": null,
            "_view_module": "@jupyter-widgets/base",
            "_view_module_version": "1.2.0",
            "_view_name": "StyleView",
            "description_width": ""
          }
        },
        "72e451db0a4a40688c58e3273eff00fd": {
          "model_module": "@jupyter-widgets/base",
          "model_name": "LayoutModel",
          "model_module_version": "1.2.0",
          "state": {
            "_model_module": "@jupyter-widgets/base",
            "_model_module_version": "1.2.0",
            "_model_name": "LayoutModel",
            "_view_count": null,
            "_view_module": "@jupyter-widgets/base",
            "_view_module_version": "1.2.0",
            "_view_name": "LayoutView",
            "align_content": null,
            "align_items": null,
            "align_self": null,
            "border": null,
            "bottom": null,
            "display": null,
            "flex": null,
            "flex_flow": null,
            "grid_area": null,
            "grid_auto_columns": null,
            "grid_auto_flow": null,
            "grid_auto_rows": null,
            "grid_column": null,
            "grid_gap": null,
            "grid_row": null,
            "grid_template_areas": null,
            "grid_template_columns": null,
            "grid_template_rows": null,
            "height": null,
            "justify_content": null,
            "justify_items": null,
            "left": null,
            "margin": null,
            "max_height": null,
            "max_width": null,
            "min_height": null,
            "min_width": null,
            "object_fit": null,
            "object_position": null,
            "order": null,
            "overflow": null,
            "overflow_x": null,
            "overflow_y": null,
            "padding": null,
            "right": null,
            "top": null,
            "visibility": null,
            "width": null
          }
        },
        "93c42e310a824c2cabbc9cb7c3332322": {
          "model_module": "@jupyter-widgets/controls",
          "model_name": "ProgressStyleModel",
          "model_module_version": "1.5.0",
          "state": {
            "_model_module": "@jupyter-widgets/controls",
            "_model_module_version": "1.5.0",
            "_model_name": "ProgressStyleModel",
            "_view_count": null,
            "_view_module": "@jupyter-widgets/base",
            "_view_module_version": "1.2.0",
            "_view_name": "StyleView",
            "bar_color": null,
            "description_width": ""
          }
        },
        "acefda01d5b248e4a3539a057b0eaacd": {
          "model_module": "@jupyter-widgets/base",
          "model_name": "LayoutModel",
          "model_module_version": "1.2.0",
          "state": {
            "_model_module": "@jupyter-widgets/base",
            "_model_module_version": "1.2.0",
            "_model_name": "LayoutModel",
            "_view_count": null,
            "_view_module": "@jupyter-widgets/base",
            "_view_module_version": "1.2.0",
            "_view_name": "LayoutView",
            "align_content": null,
            "align_items": null,
            "align_self": null,
            "border": null,
            "bottom": null,
            "display": null,
            "flex": null,
            "flex_flow": null,
            "grid_area": null,
            "grid_auto_columns": null,
            "grid_auto_flow": null,
            "grid_auto_rows": null,
            "grid_column": null,
            "grid_gap": null,
            "grid_row": null,
            "grid_template_areas": null,
            "grid_template_columns": null,
            "grid_template_rows": null,
            "height": null,
            "justify_content": null,
            "justify_items": null,
            "left": null,
            "margin": null,
            "max_height": null,
            "max_width": null,
            "min_height": null,
            "min_width": null,
            "object_fit": null,
            "object_position": null,
            "order": null,
            "overflow": null,
            "overflow_x": null,
            "overflow_y": null,
            "padding": null,
            "right": null,
            "top": null,
            "visibility": null,
            "width": null
          }
        },
        "990de3a45b684c12b00c893e149a5352": {
          "model_module": "@jupyter-widgets/controls",
          "model_name": "DescriptionStyleModel",
          "model_module_version": "1.5.0",
          "state": {
            "_model_module": "@jupyter-widgets/controls",
            "_model_module_version": "1.5.0",
            "_model_name": "DescriptionStyleModel",
            "_view_count": null,
            "_view_module": "@jupyter-widgets/base",
            "_view_module_version": "1.2.0",
            "_view_name": "StyleView",
            "description_width": ""
          }
        }
      }
    }
  },
  "nbformat": 4,
  "nbformat_minor": 5
}