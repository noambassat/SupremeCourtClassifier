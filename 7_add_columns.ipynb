{
  "nbformat": 4,
  "nbformat_minor": 0,
  "metadata": {
    "colab": {
      "private_outputs": true,
      "provenance": [],
      "authorship_tag": "ABX9TyO7D7S2jp9ClWkklFR38HLN",
      "include_colab_link": true
    },
    "kernelspec": {
      "name": "python3",
      "display_name": "Python 3"
    },
    "language_info": {
      "name": "python"
    }
  },
  "cells": [
    {
      "cell_type": "markdown",
      "metadata": {
        "id": "view-in-github",
        "colab_type": "text"
      },
      "source": [
        "<a href=\"https://colab.research.google.com/github/noambassat/SupremeCourtClassifier/blob/main/7_add_columns.ipynb\" target=\"_parent\"><img src=\"https://colab.research.google.com/assets/colab-badge.svg\" alt=\"Open In Colab\"/></a>"
      ]
    },
    {
      "cell_type": "code",
      "execution_count": null,
      "metadata": {
        "id": "BJg6S23X0nBC"
      },
      "outputs": [],
      "source": [
        "import re\n",
        "import pandas as pd\n",
        "import matplotlib.pyplot as plt\n",
        "from pandas.api.types import CategoricalDtype\n",
        "import ast\n",
        "import joblib"
      ]
    },
    {
      "cell_type": "code",
      "source": [
        "raap = pd.read_csv(\"RAAP.csv\")"
      ],
      "metadata": {
        "id": "wzlAU-6W0n_W"
      },
      "execution_count": null,
      "outputs": []
    },
    {
      "cell_type": "code",
      "source": [
        "cut_cases_df = pd.read_csv(\"full_final_df.csv\")\n",
        "\n",
        "# סינון שורות כך שמספר ההליך לא נמצא ב-cut_cases_df\n",
        "raap = raap[~raap[\"מספר הליך\"].isin(cut_cases_df[\"מספר הליך\"])]"
      ],
      "metadata": {
        "id": "CrHDmalJ0tN7"
      },
      "execution_count": null,
      "outputs": []
    },
    {
      "cell_type": "code",
      "source": [
        "for col in raap.columns:\n",
        "  print(col)"
      ],
      "metadata": {
        "id": "Dnpp67hB08tY"
      },
      "execution_count": null,
      "outputs": []
    },
    {
      "cell_type": "code",
      "source": [
        "sides = raap[[\n",
        "\"צד א'\",\n",
        "\"צד ב'\"\n",
        "]]"
      ],
      "metadata": {
        "id": "2fjkL6dr12hL"
      },
      "execution_count": null,
      "outputs": []
    },
    {
      "cell_type": "code",
      "source": [
        "values = [val for value in sides.values for val in value]\n",
        "values"
      ],
      "metadata": {
        "id": "cbgBE4ARKFuK"
      },
      "execution_count": null,
      "outputs": []
    },
    {
      "cell_type": "code",
      "source": [
        "clean_values = set()\n",
        "for val in values:\n",
        "    val_str = str(val)  # המרה למחרוזת\n",
        "    cleaned_val = re.sub(r\"[\\[\\]'\\\\n]\", \"\", val_str).strip()\n",
        "    clean_values.add(cleaned_val)"
      ],
      "metadata": {
        "id": "2qZwFusBLqId"
      },
      "execution_count": null,
      "outputs": []
    },
    {
      "cell_type": "code",
      "source": [
        "clean_values"
      ],
      "metadata": {
        "id": "puE5QLmQMVgk"
      },
      "execution_count": null,
      "outputs": []
    },
    {
      "cell_type": "code",
      "source": [
        "def check_sub(value,sub=\"מדינת ישראל\"):\n",
        "  if(value.find(sub)!=-1):\n",
        "    return 1\n",
        "  return 0\n",
        "\n",
        "check_sub(\"מדינת ישראל – משרד התחבורה\")"
      ],
      "metadata": {
        "id": "ewhOZUMFMdJG"
      },
      "execution_count": null,
      "outputs": []
    },
    {
      "cell_type": "code",
      "source": [
        "new_sides = set()\n",
        "for side in clean_values:\n",
        "  if(check_sub(side)==0):\n",
        "    new_sides.add(side)\n"
      ],
      "metadata": {
        "id": "yKgex7WoMzO7"
      },
      "execution_count": null,
      "outputs": []
    },
    {
      "cell_type": "code",
      "source": [
        "for side in new_sides:\n",
        "  if(check_sub(side,\"ישראל\")==1):\n",
        "    print(side)"
      ],
      "metadata": {
        "id": "HXhVK_imM-lF"
      },
      "execution_count": null,
      "outputs": []
    }
  ]
}