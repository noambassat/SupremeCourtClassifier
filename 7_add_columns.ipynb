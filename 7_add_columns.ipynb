{
  "nbformat": 4,
  "nbformat_minor": 0,
  "metadata": {
    "colab": {
      "private_outputs": true,
      "provenance": [],
      "authorship_tag": "ABX9TyPD/3zby7LQT2nvmak1vwqT",
      "include_colab_link": true
    },
    "kernelspec": {
      "name": "python3",
      "display_name": "Python 3"
    },
    "language_info": {
      "name": "python"
    }
  },
  "cells": [
    {
      "cell_type": "markdown",
      "metadata": {
        "id": "view-in-github",
        "colab_type": "text"
      },
      "source": [
        "<a href=\"https://colab.research.google.com/github/noambassat/SupremeCourtClassifier/blob/main/7_add_columns.ipynb\" target=\"_parent\"><img src=\"https://colab.research.google.com/assets/colab-badge.svg\" alt=\"Open In Colab\"/></a>"
      ]
    },
    {
      "cell_type": "code",
      "execution_count": null,
      "metadata": {
        "id": "BJg6S23X0nBC"
      },
      "outputs": [],
      "source": [
        "import re\n",
        "import pandas as pd\n",
        "import matplotlib.pyplot as plt\n",
        "from pandas.api.types import CategoricalDtype\n",
        "import ast\n",
        "import joblib"
      ]
    },
    {
      "cell_type": "code",
      "source": [
        "RAAP = pd.read_csv(\"RAAP.csv\")"
      ],
      "metadata": {
        "id": "wzlAU-6W0n_W"
      },
      "execution_count": null,
      "outputs": []
    },
    {
      "cell_type": "code",
      "source": [
        "full_ra_rap = pd.read_excel(\"full_ra_rap.xlsx\")"
      ],
      "metadata": {
        "id": "8UCe9a_Dnmy6"
      },
      "execution_count": null,
      "outputs": []
    },
    {
      "cell_type": "code",
      "source": [
        "full_rap = full_ra_rap[full_ra_rap[\"סוג הליך\"]=='רע\"פ']\n",
        "# בדיקה אם בעמודת \"גוף המסמך\" קיימת המילה \"רע\"פ\"\n",
        "full_rap = full_rap[full_rap[\"גוף המסמך\"].str.contains('רע\"פ', na=False)]"
      ],
      "metadata": {
        "id": "0TkZXZzfzgc5"
      },
      "execution_count": null,
      "outputs": []
    },
    {
      "cell_type": "code",
      "source": [
        "full_rap"
      ],
      "metadata": {
        "id": "cqjxrIJ814Oq"
      },
      "execution_count": null,
      "outputs": []
    },
    {
      "cell_type": "code",
      "source": [
        "full_rap.shape"
      ],
      "metadata": {
        "id": "HKyKyb6v1o4r"
      },
      "execution_count": null,
      "outputs": []
    },
    {
      "cell_type": "code",
      "source": [
        "full_rap[[\"גוף המסמך\"]].dropna(how='any', ignore_index=True,inplace=True)\n",
        "full_rap[[\"מספר הליך\",\"שם הליך\"]].dropna(how='all', ignore_index=True,inplace=True)\n",
        "full_rap[[\"מספר הליך\",\"שם הליך\"]].drop_duplicates(inplace=True, ignore_index=True)"
      ],
      "metadata": {
        "id": "yyhCbzCE18jj"
      },
      "execution_count": null,
      "outputs": []
    },
    {
      "cell_type": "code",
      "source": [
        "# פונקציה להמרת טקסט שמופיע כרשימה למחרוזת רגילה\n",
        "def convert_list_to_string(text):\n",
        "    if isinstance(text, str) and text.startswith(\"[\") and text.endswith(\"]\"):\n",
        "        try:\n",
        "            # מנסה להמיר את התוכן בתוך הסוגריים לרשימה אמיתית\n",
        "            text_list = ast.literal_eval(text)\n",
        "            # איחוד המחרוזות לרצף טקסט אחד\n",
        "            return ' '.join(text_list)\n",
        "        except (ValueError, SyntaxError):\n",
        "            return text\n",
        "    return text\n",
        "\n",
        "# פונקציה לניקוי התווים המיותרים\n",
        "def clean_text(text):\n",
        "    if isinstance(text, list):\n",
        "        text = ' '.join(text)  # הפיכת רשימה למחרוזת\n",
        "    elif isinstance(text, str):\n",
        "        # הסרת תווי רווח מיותרים ותווים מיוחדים\n",
        "        text = re.sub(r'\\n+', ' ', text)  # הסרת שורות חדשות מרובות\n",
        "        text = re.sub(r'\\\\n', '', text)   # הסרת תווי newline \\n מהטקסט\n",
        "        text = re.sub(r'\\\\xa0', ' ', text)  # הסרת תווי \\xa0 מהטקסט\n",
        "        text = re.sub(r'\\s+', ' ', text)  # הסרת רווחים מרובים\n",
        "        return text.strip()\n",
        "    return text\n",
        "\n",
        "# הדפסת שורות לא קריאות לפני המרה\n",
        "print(\"שורות לא קריאות לפני המרה:\")\n",
        "print(full_rap[\"גוף המסמך\"].head())\n",
        "\n",
        "# המרה של הטקסטים הלא קריאים לטקסטים קריאים ושמירה על הדאטה המקורי\n",
        "full_rap[\"גוף המסמך\"] = full_rap[\"גוף המסמך\"].apply(clean_text)\n",
        "\n",
        "print(\"\\nשורות לאחר המרה:\")\n",
        "print(full_rap[\"גוף המסמך\"].head())\n",
        "\n",
        "file_path = 'full_rap_df_cleaned.csv'\n",
        "full_rap.to_csv(file_path, index=False, encoding='utf-8')\n",
        "\n",
        "# print(f\"הקובץ נשמר בהצלחה בנתיב: {file_path}\")\n"
      ],
      "metadata": {
        "id": "P4-tNosi2Eoc"
      },
      "execution_count": null,
      "outputs": []
    },
    {
      "cell_type": "code",
      "source": [
        "full_rap"
      ],
      "metadata": {
        "id": "PPlpIGQQ2bEy"
      },
      "execution_count": null,
      "outputs": []
    },
    {
      "cell_type": "code",
      "source": [
        "full_final_df = pd.read_csv(\"full_final_df.csv\")"
      ],
      "metadata": {
        "id": "oKNnsl6d0Yfh"
      },
      "execution_count": null,
      "outputs": []
    },
    {
      "cell_type": "code",
      "source": [
        "full_final_df.shape"
      ],
      "metadata": {
        "id": "KUKOeXoG0jJe"
      },
      "execution_count": null,
      "outputs": []
    },
    {
      "cell_type": "code",
      "source": [],
      "metadata": {
        "id": "rfU7YyxL0qDg"
      },
      "execution_count": null,
      "outputs": []
    },
    {
      "cell_type": "code",
      "source": [],
      "metadata": {
        "id": "hHv428bA0qF8"
      },
      "execution_count": null,
      "outputs": []
    },
    {
      "cell_type": "code",
      "source": [],
      "metadata": {
        "id": "JhwsRNES0qIQ"
      },
      "execution_count": null,
      "outputs": []
    },
    {
      "cell_type": "code",
      "source": [],
      "metadata": {
        "id": "xj1QFPU30qKU"
      },
      "execution_count": null,
      "outputs": []
    },
    {
      "cell_type": "code",
      "source": [
        "for col in RAAP.columns:\n",
        "  print(col)"
      ],
      "metadata": {
        "id": "Dnpp67hB08tY"
      },
      "execution_count": null,
      "outputs": []
    },
    {
      "cell_type": "code",
      "source": [
        "sides = raap[[\n",
        "\"צד א'\",\n",
        "\"צד ב'\"\n",
        "]]"
      ],
      "metadata": {
        "id": "2fjkL6dr12hL"
      },
      "execution_count": null,
      "outputs": []
    },
    {
      "cell_type": "code",
      "source": [
        "values = [val for value in sides.values for val in value]\n",
        "values"
      ],
      "metadata": {
        "id": "cbgBE4ARKFuK"
      },
      "execution_count": null,
      "outputs": []
    },
    {
      "cell_type": "code",
      "source": [
        "clean_values = set()\n",
        "for val in values:\n",
        "    val_str = str(val)  # המרה למחרוזת\n",
        "    cleaned_val = re.sub(r\"[\\[\\]'\\\\n]\", \"\", val_str).strip()\n",
        "    clean_values.add(cleaned_val)"
      ],
      "metadata": {
        "id": "2qZwFusBLqId"
      },
      "execution_count": null,
      "outputs": []
    },
    {
      "cell_type": "code",
      "source": [
        "clean_values"
      ],
      "metadata": {
        "id": "puE5QLmQMVgk"
      },
      "execution_count": null,
      "outputs": []
    },
    {
      "cell_type": "code",
      "source": [
        "def check_sub(value,sub=\"מדינת ישראל\"):\n",
        "  if(value.find(sub)!=-1):\n",
        "    return 1\n",
        "  return 0\n",
        "\n",
        "check_sub(\"מדינת ישראל – משרד התחבורה\")"
      ],
      "metadata": {
        "id": "ewhOZUMFMdJG"
      },
      "execution_count": null,
      "outputs": []
    },
    {
      "cell_type": "code",
      "source": [
        "new_sides = set()\n",
        "for side in clean_values:\n",
        "  if(check_sub(side)==0):\n",
        "    new_sides.add(side)\n"
      ],
      "metadata": {
        "id": "yKgex7WoMzO7"
      },
      "execution_count": null,
      "outputs": []
    },
    {
      "cell_type": "code",
      "source": [
        "for side in new_sides:\n",
        "  if(check_sub(side,\"ישראל\")==1):\n",
        "    print(side)"
      ],
      "metadata": {
        "id": "HXhVK_imM-lF"
      },
      "execution_count": null,
      "outputs": []
    },
    {
      "cell_type": "code",
      "source": [],
      "metadata": {
        "id": "LSBXxD4RbMxc"
      },
      "execution_count": null,
      "outputs": []
    },
    {
      "cell_type": "code",
      "source": [],
      "metadata": {
        "id": "D8Hua7gbbM0B"
      },
      "execution_count": null,
      "outputs": []
    },
    {
      "cell_type": "code",
      "source": [],
      "metadata": {
        "id": "mJuQ4krcbM2s"
      },
      "execution_count": null,
      "outputs": []
    },
    {
      "cell_type": "code",
      "source": [
        "RAAP.shape"
      ],
      "metadata": {
        "id": "EGxLZEFabM5V"
      },
      "execution_count": null,
      "outputs": []
    },
    {
      "cell_type": "code",
      "source": [
        "ignore_df_1 = pd.read_excel(\"full_data_BOTH_models_with_predictions_V.xlsx\")\n",
        "ignore_df_1.dropna(subset=['בקשה לרשות ערעור התקבלה?'],inplace=True)"
      ],
      "metadata": {
        "id": "IYqdml6Vd5DL"
      },
      "execution_count": null,
      "outputs": []
    },
    {
      "cell_type": "code",
      "source": [
        "ignore_df_2 = pd.read_excel(\"2_full_data_with_predictions V2.xlsx\")\n",
        "ignore_df_2.dropna(subset=['בקשה לרשות ערעור התקבלה?'],inplace=True)"
      ],
      "metadata": {
        "id": "bEK6yfoDd5FY"
      },
      "execution_count": null,
      "outputs": []
    },
    {
      "cell_type": "code",
      "source": [
        "ignore_df_3 = pd.read_excel(\"full_data_with_predictions-VETTING.xlsx\")\n",
        "ignore_df_3.dropna(subset=['בקשה לרשות ערעור התקבלה?'],inplace=True)"
      ],
      "metadata": {
        "id": "qSEetgvJd5AM"
      },
      "execution_count": null,
      "outputs": []
    },
    {
      "cell_type": "code",
      "source": [
        "ignore_df = pd.concat([ignore_df_1,ignore_df_2,ignore_df_3])"
      ],
      "metadata": {
        "id": "5jzNw2K_d5Hz"
      },
      "execution_count": null,
      "outputs": []
    },
    {
      "cell_type": "code",
      "source": [
        "ignore_df.dropna(subset=['בקשה לרשות ערעור התקבלה?'],inplace=True)"
      ],
      "metadata": {
        "id": "1VYCZeAOeYdJ"
      },
      "execution_count": null,
      "outputs": []
    },
    {
      "cell_type": "code",
      "source": [
        "ignore_df.shape"
      ],
      "metadata": {
        "id": "veTv9POXem9V"
      },
      "execution_count": null,
      "outputs": []
    },
    {
      "cell_type": "code",
      "source": [
        "ignore_df.drop_duplicates(subset=['מספר הליך'],inplace=True)\n",
        "ignore_df.shape"
      ],
      "metadata": {
        "id": "K-KGNMdNestT"
      },
      "execution_count": null,
      "outputs": []
    },
    {
      "cell_type": "code",
      "source": [
        "\n",
        "raap = RAAP[~RAAP[\"מספר הליך\"].isin(ignore_df[\"מספר הליך\"])]"
      ],
      "metadata": {
        "id": "Li78RR0CcKeO"
      },
      "execution_count": null,
      "outputs": []
    },
    {
      "cell_type": "code",
      "source": [
        "raap.shape"
      ],
      "metadata": {
        "id": "ZFTfG7K7bM7g"
      },
      "execution_count": null,
      "outputs": []
    },
    {
      "cell_type": "code",
      "source": [
        "# פונקציה להמרת טקסט שמופיע כרשימה למחרוזת רגילה\n",
        "def convert_list_to_string(text):\n",
        "    if isinstance(text, str) and text.startswith(\"[\") and text.endswith(\"]\"):\n",
        "        try:\n",
        "            # מנסה להמיר את התוכן בתוך הסוגריים לרשימה אמיתית\n",
        "            text_list = ast.literal_eval(text)\n",
        "            # איחוד המחרוזות לרצף טקסט אחד\n",
        "            return ' '.join(text_list)\n",
        "        except (ValueError, SyntaxError):\n",
        "            return text\n",
        "    return text\n",
        "\n",
        "# פונקציה לניקוי התווים המיותרים\n",
        "def clean_text(text):\n",
        "    if isinstance(text, list):\n",
        "        text = ' '.join(text)  # הפיכת רשימה למחרוזת\n",
        "    elif isinstance(text, str):\n",
        "        # הסרת תווי רווח מיותרים ותווים מיוחדים\n",
        "        text = re.sub(r'\\n+', ' ', text)  # הסרת שורות חדשות מרובות\n",
        "        text = re.sub(r'\\\\n', '', text)   # הסרת תווי newline \\n מהטקסט\n",
        "        text = re.sub(r'\\\\xa0', ' ', text)  # הסרת תווי \\xa0 מהטקסט\n",
        "        text = re.sub(r'\\s+', ' ', text)  # הסרת רווחים מרובים\n",
        "        return text.strip()\n",
        "    return text\n",
        "\n",
        "# הדפסת שורות לא קריאות לפני המרה\n",
        "print(\"שורות לא קריאות לפני המרה:\")\n",
        "print(raap[\"גוף המסמך\"].head())\n",
        "\n",
        "# המרה של הטקסטים הלא קריאים לטקסטים קריאים ושמירה על הדאטה המקורי\n",
        "raap[\"גוף המסמך\"] = raap[\"גוף המסמך\"].apply(clean_text)\n",
        "\n",
        "print(\"\\nשורות לאחר המרה:\")\n",
        "print(raap[\"גוף המסמך\"].head())\n",
        "\n",
        "# file_path = 'full_final_df_cleaned.csv'\n",
        "# df_full_ra_rap.to_csv(file_path, index=False, encoding='utf-8')\n",
        "\n",
        "# print(f\"הקובץ נשמר בהצלחה בנתיב: {file_path}\")\n"
      ],
      "metadata": {
        "id": "iPb9Fb7AbOms"
      },
      "execution_count": null,
      "outputs": []
    }
  ]
}