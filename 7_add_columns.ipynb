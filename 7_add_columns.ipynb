{
  "nbformat": 4,
  "nbformat_minor": 0,
  "metadata": {
    "colab": {
      "private_outputs": true,
      "provenance": [],
      "machine_shape": "hm",
      "gpuType": "T4",
      "authorship_tag": "ABX9TyPzkbu2PqVPCUXgvAVA+Wl0",
      "include_colab_link": true
    },
    "kernelspec": {
      "name": "python3",
      "display_name": "Python 3"
    },
    "language_info": {
      "name": "python"
    },
    "accelerator": "GPU"
  },
  "cells": [
    {
      "cell_type": "markdown",
      "metadata": {
        "id": "view-in-github",
        "colab_type": "text"
      },
      "source": [
        "<a href=\"https://colab.research.google.com/github/noambassat/SupremeCourtClassifier/blob/main/7_add_columns.ipynb\" target=\"_parent\"><img src=\"https://colab.research.google.com/assets/colab-badge.svg\" alt=\"Open In Colab\"/></a>"
      ]
    },
    {
      "cell_type": "code",
      "execution_count": null,
      "metadata": {
        "id": "BJg6S23X0nBC"
      },
      "outputs": [],
      "source": [
        "import re\n",
        "import pandas as pd\n",
        "import matplotlib.pyplot as plt\n",
        "from pandas.api.types import CategoricalDtype\n",
        "import ast\n",
        "import joblib"
      ]
    },
    {
      "cell_type": "code",
      "source": [
        "# RAAP = pd.read_csv(\"/.RAAP.csv\")\n",
        "# raap = pd.read_csv(\"raap.csv\")"
      ],
      "metadata": {
        "id": "wzlAU-6W0n_W"
      },
      "execution_count": null,
      "outputs": []
    },
    {
      "cell_type": "code",
      "source": [
        "full_ra_rap = pd.read_excel(\"full_ra_rap.xlsx\")"
      ],
      "metadata": {
        "id": "8UCe9a_Dnmy6"
      },
      "execution_count": null,
      "outputs": []
    },
    {
      "cell_type": "code",
      "source": [
        "full_rap = full_ra_rap[full_ra_rap[\"סוג הליך\"]=='רע\"פ']\n",
        "# בדיקה אם בעמודת \"גוף המסמך\" קיימת המילה \"רע\"פ\"\n",
        "full_rap = full_rap[full_rap[\"גוף המסמך\"].str.contains('רע\"פ', na=False)]"
      ],
      "metadata": {
        "id": "0TkZXZzfzgc5"
      },
      "execution_count": null,
      "outputs": []
    },
    {
      "cell_type": "code",
      "source": [
        "full_rap"
      ],
      "metadata": {
        "id": "cqjxrIJ814Oq"
      },
      "execution_count": null,
      "outputs": []
    },
    {
      "cell_type": "code",
      "source": [
        "full_rap.shape"
      ],
      "metadata": {
        "id": "HKyKyb6v1o4r"
      },
      "execution_count": null,
      "outputs": []
    },
    {
      "cell_type": "code",
      "source": [
        "full_rap[[\"גוף המסמך\"]].dropna(how='any', ignore_index=True,inplace=True)\n",
        "full_rap[[\"מספר הליך\",\"שם הליך\"]].dropna(how='all', ignore_index=True,inplace=True)\n",
        "full_rap[[\"מספר הליך\",\"שם הליך\"]].drop_duplicates(inplace=True, ignore_index=True)"
      ],
      "metadata": {
        "id": "yyhCbzCE18jj"
      },
      "execution_count": null,
      "outputs": []
    },
    {
      "cell_type": "code",
      "source": [
        "# פונקציה להמרת טקסט שמופיע כרשימה למחרוזת רגילה\n",
        "def convert_list_to_string(text):\n",
        "    if isinstance(text, str) and text.startswith(\"[\") and text.endswith(\"]\"):\n",
        "        try:\n",
        "            # מנסה להמיר את התוכן בתוך הסוגריים לרשימה אמיתית\n",
        "            text_list = ast.literal_eval(text)\n",
        "            # איחוד המחרוזות לרצף טקסט אחד\n",
        "            return ' '.join(text_list)\n",
        "        except (ValueError, SyntaxError):\n",
        "            return text\n",
        "    return text\n",
        "\n",
        "# פונקציה לניקוי התווים המיותרים\n",
        "def clean_text(text):\n",
        "    if isinstance(text, list):\n",
        "        text = ' '.join(text)  # הפיכת רשימה למחרוזת\n",
        "    elif isinstance(text, str):\n",
        "        # הסרת תווי רווח מיותרים ותווים מיוחדים\n",
        "        text = re.sub(r'\\n+', ' ', text)  # הסרת שורות חדשות מרובות\n",
        "        text = re.sub(r'\\\\n', '', text)   # הסרת תווי newline \\n מהטקסט\n",
        "        text = re.sub(r'\\\\xa0', ' ', text)  # הסרת תווי \\xa0 מהטקסט\n",
        "        text = re.sub(r'\\s+', ' ', text)  # הסרת רווחים מרובים\n",
        "        return text.strip()\n",
        "    return text\n",
        "\n",
        "# הדפסת שורות לא קריאות לפני המרה\n",
        "print(\"שורות לא קריאות לפני המרה:\")\n",
        "print(full_rap[\"גוף המסמך\"].head())\n",
        "\n",
        "# המרה של הטקסטים הלא קריאים לטקסטים קריאים ושמירה על הדאטה המקורי\n",
        "full_rap[\"גוף המסמך\"] = full_rap[\"גוף המסמך\"].apply(clean_text)\n",
        "\n",
        "print(\"\\nשורות לאחר המרה:\")\n",
        "print(full_rap[\"גוף המסמך\"].head())\n",
        "\n",
        "file_path = 'full_rap_df_cleaned.csv'\n",
        "full_rap.to_csv(file_path, index=False, encoding='utf-8')\n",
        "\n",
        "# print(f\"הקובץ נשמר בהצלחה בנתיב: {file_path}\")\n"
      ],
      "metadata": {
        "id": "P4-tNosi2Eoc"
      },
      "execution_count": null,
      "outputs": []
    },
    {
      "cell_type": "code",
      "source": [
        "# בדיקה אם הערכים השתנו\n",
        "changed_rows = full_rap[\"גוף המסמך\"] != full_rap[\"גוף המסמך\"].apply(clean_text)\n",
        "print(f\"מספר שורות ששונו: {changed_rows.sum()}\")\n",
        "print(\"שורות ששונו:\")\n",
        "print(full_rap.loc[changed_rows, \"גוף המסמך\"].head())\n"
      ],
      "metadata": {
        "id": "zGZpVinogEnG"
      },
      "execution_count": null,
      "outputs": []
    },
    {
      "cell_type": "code",
      "source": [
        "full_rap"
      ],
      "metadata": {
        "id": "PPlpIGQQ2bEy"
      },
      "execution_count": null,
      "outputs": []
    },
    {
      "cell_type": "code",
      "source": [
        "# הגדרת פונקציה לעיצוב טקסט\n",
        "def format_text(text, line_length=80):\n",
        "    \"\"\"\n",
        "    פורמט טקסט כך שיהיה נוח לקריאה עם שורות שאורכן מוגבל.\n",
        "    \"\"\"\n",
        "    import textwrap\n",
        "    return \"\\n\".join(textwrap.wrap(text, width=line_length))\n"
      ],
      "metadata": {
        "id": "rfU7YyxL0qDg"
      },
      "execution_count": null,
      "outputs": []
    },
    {
      "cell_type": "code",
      "source": [
        "# ביטויים לבדיקה\n",
        "keywords = [\"העותק כפוף לשינויי עריכה וניסוח\", \"העתק מתאים\", 'ניתנההיום', 'ניתןהיום', 'ניתן היום', 'ניתנה היום',\n",
        "            \"העתקמתאים\", \"מזכיר ראשי\", \"supreme.court.gov.il\", \"מרכז מידע\", \"מרכזמידע\"]\n",
        "\n",
        "# בדיקה אילו שורות מכילות אחד מהביטויים\n",
        "rows_with_keyword = full_rap[\"גוף המסמך\"].apply(\n",
        "    lambda x: any(keyword in x for keyword in keywords) if isinstance(x, str) else False\n",
        ")\n",
        "\n",
        "# סינון שורות שלא מכילות את הביטוי\n",
        "filtered_data = full_rap[rows_with_keyword]\n",
        "\n",
        "# הדפסת מספר השורות שנמחקו\n",
        "num_removed = len(full_rap) - len(filtered_data)  # **שונה לחישוב מדויק**\n",
        "print(f\"\\nמספר השורות שנמחקו: {num_removed}\")\n",
        "\n",
        "# **שינוי לצורך סעיף 6**: בדיקה אם נותרו ערכים חסרים בעמודת \"גוף המסמך\"\n",
        "missing_values_count = filtered_data[\"גוף המסמך\"].isna().sum()\n",
        "if missing_values_count > 0:\n",
        "    print(f\"\\nנותרו {missing_values_count} ערכים חסרים בעמודת 'גוף המסמך' לאחר סינון.\")\n",
        "else:\n",
        "    print(\"\\nאין ערכים חסרים בעמודת 'גוף המסמך' לאחר סינון.\")\n",
        "\n",
        "# שמירת הנתונים המסוננים לקובץ חדש\n",
        "filtered_data.to_csv(\"full_rap_df_cleaned.csv\", index=False, encoding='utf-8')\n",
        "print(\"\\nהנתונים המסוננים נשמרו לקובץ: 'new_filtered_data.csv'\")\n",
        "\n",
        "\n",
        "full_rap = filtered_data.copy()  # **שונה להעתקה בטוחה**\n"
      ],
      "metadata": {
        "id": "hHv428bA0qF8"
      },
      "execution_count": null,
      "outputs": []
    },
    {
      "cell_type": "code",
      "source": [
        "full_rap"
      ],
      "metadata": {
        "id": "JhwsRNES0qIQ"
      },
      "execution_count": null,
      "outputs": []
    },
    {
      "cell_type": "code",
      "source": [
        "for col in full_rap.columns:\n",
        "  print(col)"
      ],
      "metadata": {
        "id": "Dnpp67hB08tY"
      },
      "execution_count": null,
      "outputs": []
    },
    {
      "cell_type": "code",
      "source": [
        "sides = full_rap[[\n",
        "\"צד א'\",\n",
        "\"צד ב'\"\n",
        "]]"
      ],
      "metadata": {
        "id": "2fjkL6dr12hL"
      },
      "execution_count": null,
      "outputs": []
    },
    {
      "cell_type": "code",
      "source": [
        "values = [val for value in sides.values for val in value]\n",
        "values"
      ],
      "metadata": {
        "id": "cbgBE4ARKFuK"
      },
      "execution_count": null,
      "outputs": []
    },
    {
      "cell_type": "code",
      "source": [
        "clean_values = set()\n",
        "for val in values:\n",
        "    val_str = str(val)  # המרה למחרוזת\n",
        "    cleaned_val = re.sub(r\"[\\[\\]'\\\\n]\", \"\", val_str).strip()\n",
        "    clean_values.add(cleaned_val)"
      ],
      "metadata": {
        "id": "2qZwFusBLqId"
      },
      "execution_count": null,
      "outputs": []
    },
    {
      "cell_type": "code",
      "source": [
        "clean_values"
      ],
      "metadata": {
        "id": "puE5QLmQMVgk"
      },
      "execution_count": null,
      "outputs": []
    },
    {
      "cell_type": "code",
      "source": [
        "def check_sub(value,subs):\n",
        "  for sub in subs:\n",
        "    if(value.find(sub)!=-1):\n",
        "      return 1\n",
        "  return 0"
      ],
      "metadata": {
        "id": "ewhOZUMFMdJG"
      },
      "execution_count": null,
      "outputs": []
    },
    {
      "cell_type": "code",
      "source": [
        "private_sides = set()\n",
        "public_sides = set()\n",
        "for value in clean_values:\n",
        "  if(check_sub(value,[\"רשות מקרקעי ישראל\",\"מדינת \",\"מועצה \",\"שירות ה\",\"היחידה הארצי\",\"לאכיפת \",\"הרשות ל\",\"המשרד ל\",'יועמ\"ש',\"המשפטי לממשלה\",\"מנהל מקרקעי\",\"פרקליטות\",\"שירות בתי הסוהר\",'שב\"ס',\"מינהל מקרקעי\",\"עירית \",\"רשויות\",\"איגוד ערים\",\"עיריית \",\"מדינת ישראל\",\"משרד ה\",\"רשות ה\",\"אלוף \",'יו\"ר',\"יושב ראש\",\"מדינת ישראל\",\"ראש עיריית\",\"ועדה\",\"צבא\",\"מפקד\",\"פיקוד\",\"משטרת\"])==0):\n",
        "    private_sides.add(value)\n",
        "  else:\n",
        "    public_sides.add(value)"
      ],
      "metadata": {
        "id": "yKgex7WoMzO7"
      },
      "execution_count": null,
      "outputs": []
    },
    {
      "cell_type": "code",
      "source": [
        "for side in private_sides:\n",
        "  print(side)"
      ],
      "metadata": {
        "id": "HXhVK_imM-lF"
      },
      "execution_count": null,
      "outputs": []
    },
    {
      "cell_type": "code",
      "source": [
        "for side in public_sides:\n",
        "  print(side)"
      ],
      "metadata": {
        "id": "8mhcru_onwJf"
      },
      "execution_count": null,
      "outputs": []
    },
    {
      "cell_type": "code",
      "source": [
        "sides_A = full_rap[[\n",
        "\"צד א'\"\n",
        "]]\n",
        "\n",
        "values_A = [val for value in sides_A.values for val in value]\n",
        "values_A"
      ],
      "metadata": {
        "id": "LSBXxD4RbMxc"
      },
      "execution_count": null,
      "outputs": []
    },
    {
      "cell_type": "code",
      "source": [],
      "metadata": {
        "id": "08XJzGEjpEsb"
      },
      "execution_count": null,
      "outputs": []
    },
    {
      "cell_type": "code",
      "source": [
        "def check_contry_side(value):\n",
        "    # רשימת מילות מפתח\n",
        "    subs = [\n",
        "        \"רשות מקרקעי ישראל\", \"מדינת \", \"מועצה \", \"שירות ה\", \"היחידה הארצי\", \"לאכיפת \", \"הרשות ל\",\n",
        "        \"המשרד ל\", 'יועמ\"ש', \"המשפטי לממשלה\", \"מנהל מקרקעי\", \"פרקליטות\", \"שירות בתי הסוהר\", 'שב\"ס',\n",
        "        \"מינהל מקרקעי\", \"עירית \", \"רשויות\", \"איגוד ערים\", \"עיריית \", \"מדינת ישראל\", \"משרד ה\", \"מקרקעי ישראל\",\n",
        "        \"רשות ה\", \"אלוף \", 'יו\"ר', \"יושב ראש\", \"ראש עיריית\", \"ועדה\", \"צבא\", \"מפקד\", \"פיקוד\", \"משטרת\"\n",
        "    ]\n",
        "\n",
        "    # ניקוי רווחים והפיכת המחרוזת לאותיות קטנות\n",
        "    try:\n",
        "      value = value.strip()\n",
        "\n",
        "    except AttributeError:\n",
        "      return 0\n",
        "\n",
        "    # בדיקה אם אחת המחרוזות קיימת ב-value\n",
        "    if any(sub in value for sub in subs):\n",
        "        return 1\n",
        "    print(value)\n",
        "\n",
        "    return 0"
      ],
      "metadata": {
        "id": "TX02-aQbpF_v"
      },
      "execution_count": null,
      "outputs": []
    },
    {
      "cell_type": "code",
      "source": [
        "check_none = full_rap[full_rap[\"צד א'\"].isna()]\n",
        "check_none.loc[:,\"צד ב'\"]"
      ],
      "metadata": {
        "id": "2JQLsnYssaaR"
      },
      "execution_count": null,
      "outputs": []
    },
    {
      "cell_type": "code",
      "source": [
        "full_rap[full_rap[\"צד א'\"].isna() & full_rap[\"צד ב'\"].isna()].shape[0]"
      ],
      "metadata": {
        "id": "r3AB0kzLr3wi"
      },
      "execution_count": null,
      "outputs": []
    },
    {
      "cell_type": "code",
      "source": [
        "full_rap.dropna(subset=[\"צד א'\",\"צד ב'\"],how='all',inplace=True)"
      ],
      "metadata": {
        "id": "FiUfegLur3BX"
      },
      "execution_count": null,
      "outputs": []
    },
    {
      "cell_type": "code",
      "source": [
        "full_rap[\"מדינת ישראל בצד א'\"] = full_rap[\"צד א'\"].apply(lambda x: check_contry_side(x))"
      ],
      "metadata": {
        "id": "D8Hua7gbbM0B"
      },
      "execution_count": null,
      "outputs": []
    },
    {
      "cell_type": "code",
      "source": [],
      "metadata": {
        "id": "nsGZxISmrzIo"
      },
      "execution_count": null,
      "outputs": []
    },
    {
      "cell_type": "code",
      "source": [],
      "metadata": {
        "id": "R1Xad7N2tbI-"
      },
      "execution_count": null,
      "outputs": []
    },
    {
      "cell_type": "code",
      "source": [],
      "metadata": {
        "id": "unmkHrmVtbLa"
      },
      "execution_count": null,
      "outputs": []
    },
    {
      "cell_type": "code",
      "source": [],
      "metadata": {
        "id": "XSYMnCk6tbON"
      },
      "execution_count": null,
      "outputs": []
    },
    {
      "cell_type": "code",
      "source": [],
      "metadata": {
        "id": "IYqdml6Vd5DL"
      },
      "execution_count": null,
      "outputs": []
    },
    {
      "cell_type": "code",
      "source": [],
      "metadata": {
        "id": "bEK6yfoDd5FY"
      },
      "execution_count": null,
      "outputs": []
    },
    {
      "cell_type": "code",
      "source": [],
      "metadata": {
        "id": "qSEetgvJd5AM"
      },
      "execution_count": null,
      "outputs": []
    },
    {
      "cell_type": "code",
      "source": [],
      "metadata": {
        "id": "5jzNw2K_d5Hz"
      },
      "execution_count": null,
      "outputs": []
    },
    {
      "cell_type": "code",
      "source": [],
      "metadata": {
        "id": "1VYCZeAOeYdJ"
      },
      "execution_count": null,
      "outputs": []
    },
    {
      "cell_type": "code",
      "source": [],
      "metadata": {
        "id": "veTv9POXem9V"
      },
      "execution_count": null,
      "outputs": []
    },
    {
      "cell_type": "markdown",
      "source": [
        "# Create checked data - to remove from predictions"
      ],
      "metadata": {
        "id": "LsxlzvTd0-Rp"
      }
    },
    {
      "cell_type": "code",
      "source": [
        "dca = pd.read_csv(\"dca_for_classifier.csv\")"
      ],
      "metadata": {
        "id": "K-KGNMdNestT"
      },
      "execution_count": null,
      "outputs": []
    },
    {
      "cell_type": "code",
      "source": [
        "ignore_df_1 = pd.read_excel(\"full_data_BOTH_models_with_predictions_V.xlsx\")\n",
        "ignore_df_1.dropna(subset=['בקשה לרשות ערעור התקבלה?'],inplace=True)\n",
        "ignore_df_2 = pd.read_excel(\"2_full_data_with_predictions V2.xlsx\")\n",
        "ignore_df_2.dropna(subset=['בקשה לרשות ערעור התקבלה?'],inplace=True)\n",
        "ignore_df_3 = pd.read_excel(\"full_data_with_predictions-VETTING.xlsx\")\n",
        "ignore_df_3.dropna(subset=['בקשה לרשות ערעור התקבלה?'],inplace=True)\n",
        "ignore_df = pd.concat([ignore_df_1,ignore_df_2,ignore_df_3,dca])\n",
        "ignore_df.dropna(subset=['בקשה לרשות ערעור התקבלה?'],inplace=True)\n",
        "ignore_df.drop_duplicates(subset=['מספר הליך'],keep='first',inplace=True)\n",
        "\n"
      ],
      "metadata": {
        "id": "Li78RR0CcKeO"
      },
      "execution_count": null,
      "outputs": []
    },
    {
      "cell_type": "code",
      "source": [
        "ignore_df.shape"
      ],
      "metadata": {
        "id": "yMx-PtivyOHU"
      },
      "execution_count": null,
      "outputs": []
    },
    {
      "cell_type": "code",
      "source": [
        "ignore_df['רע\"פ בקשה אחרת או דלמטה מיוחד'].value_counts()"
      ],
      "metadata": {
        "id": "ijtShKjIxjYm"
      },
      "execution_count": null,
      "outputs": []
    },
    {
      "cell_type": "code",
      "source": [
        "ignore_df[~ignore_df['רע\"פ בקשה אחרת או דלמטה מיוחד'].isna()].shape"
      ],
      "metadata": {
        "id": "JrUVl98PzZGy"
      },
      "execution_count": null,
      "outputs": []
    },
    {
      "cell_type": "code",
      "source": [
        "# ignore_df[(ignore_df['רע\"פ בקשה אחרת או דלמטה מיוחד'] != 'בקשה אחרת') & (ignore_df['רע\"פ בקשה אחרת או דלמטה מיוחד'] != 'דלמטה מיוחד')].shape"
      ],
      "metadata": {
        "id": "OCcWXk38y1Pc"
      },
      "execution_count": null,
      "outputs": []
    },
    {
      "cell_type": "code",
      "source": [
        "ignore_df[~ignore_df['רע\"פ בקשה אחרת או דלמטה מיוחד'].isna()].shape"
      ],
      "metadata": {
        "id": "zz_Vf-8azHLk"
      },
      "execution_count": null,
      "outputs": []
    },
    {
      "cell_type": "code",
      "source": [
        "delete_from_main_df = ignore_df[~ignore_df['רע\"פ בקשה אחרת או דלמטה מיוחד'].isna()]\n",
        "delete_from_main_df.shape"
      ],
      "metadata": {
        "id": "NMwnGVtnzA5e"
      },
      "execution_count": null,
      "outputs": []
    },
    {
      "cell_type": "code",
      "source": [
        "ignore_df[(ignore_df['בקשה לרשות ערעור התקבלה?']== 'אחר')].shape"
      ],
      "metadata": {
        "id": "OoBGj4mHyJ9n"
      },
      "execution_count": null,
      "outputs": []
    },
    {
      "cell_type": "code",
      "source": [
        "ignore_df.to_csv(\"allready_checked_data_with_dca.csv\", index=False, encoding='utf-8')"
      ],
      "metadata": {
        "id": "ow_t4Sk913Gy"
      },
      "execution_count": null,
      "outputs": []
    },
    {
      "cell_type": "code",
      "source": [
        "delete_from_main_df = pd.concat([delete_from_main_df,ignore_df[(ignore_df['בקשה לרשות ערעור התקבלה?'] == 'אחר')]])"
      ],
      "metadata": {
        "id": "ISvM0lMozhuA"
      },
      "execution_count": null,
      "outputs": []
    },
    {
      "cell_type": "code",
      "source": [
        "delete_from_main_df.shape"
      ],
      "metadata": {
        "id": "AvsMQKDizooK"
      },
      "execution_count": null,
      "outputs": []
    },
    {
      "cell_type": "code",
      "source": [
        "delete_from_main_df.drop_duplicates(subset=['מספר הליך'],keep='first',inplace=True)"
      ],
      "metadata": {
        "id": "kslMPDWf0kQ2"
      },
      "execution_count": null,
      "outputs": []
    },
    {
      "cell_type": "code",
      "source": [
        "delete_from_main_df.shape"
      ],
      "metadata": {
        "id": "hUBJjodp1PKL"
      },
      "execution_count": null,
      "outputs": []
    },
    {
      "cell_type": "code",
      "source": [
        "full_rap.shape"
      ],
      "metadata": {
        "id": "iR9Bov-m08oY"
      },
      "execution_count": null,
      "outputs": []
    },
    {
      "cell_type": "code",
      "source": [
        "full_rap = full_rap[~full_rap[\"מספר הליך\"].isin(delete_from_main_df[\"מספר הליך\"])]"
      ],
      "metadata": {
        "id": "WaBR91OJ0zH_"
      },
      "execution_count": null,
      "outputs": []
    },
    {
      "cell_type": "code",
      "source": [],
      "metadata": {
        "id": "qb_nxpPW1acn"
      },
      "execution_count": null,
      "outputs": []
    },
    {
      "cell_type": "code",
      "source": [
        "full_rap.to_csv(\"full_rap_df_cleaned.csv\", index=False, encoding='utf-8')"
      ],
      "metadata": {
        "id": "EhsGhVwZ1WL1"
      },
      "execution_count": null,
      "outputs": []
    },
    {
      "cell_type": "code",
      "source": [
        "full_rap"
      ],
      "metadata": {
        "id": "RdKJgiXU1l9L"
      },
      "execution_count": null,
      "outputs": []
    },
    {
      "cell_type": "code",
      "source": [],
      "metadata": {
        "id": "zsYwMRg81l_w"
      },
      "execution_count": null,
      "outputs": []
    },
    {
      "cell_type": "code",
      "source": [],
      "metadata": {
        "id": "L6mTLybi1mCj"
      },
      "execution_count": null,
      "outputs": []
    },
    {
      "cell_type": "code",
      "source": [],
      "metadata": {
        "id": "ZbNSl9lk1mFP"
      },
      "execution_count": null,
      "outputs": []
    },
    {
      "cell_type": "markdown",
      "source": [
        "# Remove checked data from the prediction's sample!!!"
      ],
      "metadata": {
        "id": "pazQdALw1m2s"
      }
    },
    {
      "cell_type": "code",
      "source": [
        "none_checked_raap = full_rap[~full_rap[\"מספר הליך\"].isin(ignore_df[\"מספר הליך\"])]"
      ],
      "metadata": {
        "id": "R0-Fsuia1mHN"
      },
      "execution_count": null,
      "outputs": []
    }
  ]
}