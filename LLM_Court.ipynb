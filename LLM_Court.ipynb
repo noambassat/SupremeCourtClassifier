{
  "nbformat": 4,
  "nbformat_minor": 0,
  "metadata": {
    "colab": {
      "provenance": [],
      "machine_shape": "hm",
      "gpuType": "T4",
      "cell_execution_strategy": "setup",
      "toc_visible": true,
      "authorship_tag": "ABX9TyNuY2JmJ8K3wBRVC+p6Fnir",
      "include_colab_link": true
    },
    "kernelspec": {
      "name": "python3",
      "display_name": "Python 3"
    },
    "language_info": {
      "name": "python"
    },
    "accelerator": "GPU"
  },
  "cells": [
    {
      "cell_type": "markdown",
      "metadata": {
        "id": "view-in-github",
        "colab_type": "text"
      },
      "source": [
        "<a href=\"https://colab.research.google.com/github/noambassat/SupremeCourtClassifier/blob/main/LLM_Court.ipynb\" target=\"_parent\"><img src=\"https://colab.research.google.com/assets/colab-badge.svg\" alt=\"Open In Colab\"/></a>"
      ]
    },
    {
      "cell_type": "code",
      "execution_count": 1,
      "metadata": {
        "id": "vvVtg-CzCG2y"
      },
      "outputs": [],
      "source": [
        "import matplotlib.pyplot as plt\n",
        "import torch\n",
        "import joblib\n",
        "import os\n",
        "import numpy as np\n",
        "import pandas as pd\n",
        "import matplotlib.pyplot as plt\n",
        "from google.colab import drive\n",
        "import time\n",
        "import re\n",
        "import openai\n",
        "import json\n",
        "from sklearn.model_selection import train_test_split\n",
        "import ast\n",
        "from google.colab import userdata"
      ]
    },
    {
      "cell_type": "code",
      "source": [
        "def fix_hebrew_labels(ax):\n",
        "    \"\"\" Reverse Hebrew labels in Matplotlib plots. \"\"\"\n",
        "    for label in ax.get_xticklabels() + ax.get_yticklabels():\n",
        "        text = label.get_text()\n",
        "        if any(\"\\u0590\" <= char <= \"\\u05FF\" for char in text):  # Detect Hebrew characters\n",
        "            label.set_text(text[::-1])\n",
        "    ax.figure.canvas.draw()\n"
      ],
      "metadata": {
        "id": "V-qebznTV7Sm"
      },
      "execution_count": 2,
      "outputs": []
    },
    {
      "cell_type": "code",
      "source": [
        "\n",
        "drive.mount('/content/drive')\n"
      ],
      "metadata": {
        "colab": {
          "base_uri": "https://localhost:8080/"
        },
        "id": "rUu4l0zkFPox",
        "outputId": "115c7af4-414c-45c8-d0b5-de9c41946806"
      },
      "execution_count": 3,
      "outputs": [
        {
          "output_type": "stream",
          "name": "stdout",
          "text": [
            "Mounted at /content/drive\n"
          ]
        }
      ]
    },
    {
      "cell_type": "code",
      "source": [
        "\n",
        "folder_id = \"בית המשפט - קבצים שנבדקו\"\n",
        "directory_path = f\"/content/drive/My Drive/{folder_id}\"\n",
        "classifiers_path = \"/content/drive/MyDrive/בית המשפט - מסווגים/\"\n",
        "\n",
        "if not os.path.exists(directory_path):\n",
        "    print(f\"Directory {directory_path} does not exist. Please check the folder path.\")\n",
        "else:\n",
        "    dataframes = []\n",
        "\n",
        "    for file_name in os.listdir(directory_path):\n",
        "        if file_name.endswith(\".xlsx\") or file_name.endswith(\".xls\"):\n",
        "            file_path = os.path.join(directory_path, file_name)\n",
        "            try:\n",
        "                df = pd.read_excel(file_path)\n",
        "                dataframes.append(df)\n",
        "            except Exception as e:\n",
        "                print(f\"Failed to read {file_name}: {e}\")\n",
        "\n",
        "    if dataframes:\n",
        "        combined_df = pd.concat(dataframes, ignore_index=True)\n",
        "        print(\"All Excel files have been concatenated successfully!\")"
      ],
      "metadata": {
        "colab": {
          "base_uri": "https://localhost:8080/"
        },
        "id": "7-8rCVEjDjXf",
        "outputId": "ecc5dd6f-5da9-46c0-8e19-073b68034884"
      },
      "execution_count": 4,
      "outputs": [
        {
          "output_type": "stream",
          "name": "stderr",
          "text": [
            "/usr/local/lib/python3.11/dist-packages/openpyxl/worksheet/_reader.py:329: UserWarning: Data Validation extension is not supported and will be removed\n",
            "  warn(msg)\n",
            "/usr/local/lib/python3.11/dist-packages/openpyxl/worksheet/_reader.py:329: UserWarning: Data Validation extension is not supported and will be removed\n",
            "  warn(msg)\n",
            "/usr/local/lib/python3.11/dist-packages/openpyxl/worksheet/_reader.py:329: UserWarning: Data Validation extension is not supported and will be removed\n",
            "  warn(msg)\n",
            "/usr/local/lib/python3.11/dist-packages/openpyxl/worksheet/_reader.py:329: UserWarning: Data Validation extension is not supported and will be removed\n",
            "  warn(msg)\n"
          ]
        },
        {
          "output_type": "stream",
          "name": "stdout",
          "text": [
            "All Excel files have been concatenated successfully!\n"
          ]
        }
      ]
    },
    {
      "cell_type": "code",
      "source": [
        "full_ra_rap = pd.read_excel(\"/content/drive/My Drive/full_ra_rap.xlsx\")"
      ],
      "metadata": {
        "id": "ysV94PcW_8Ol"
      },
      "execution_count": 5,
      "outputs": []
    },
    {
      "cell_type": "code",
      "source": [
        "check_gender_bias = pd.concat([dataframes[0], dataframes[1], dataframes[2]])\n",
        "check_gender_bias = pd.merge(full_ra_rap, check_gender_bias, on='מספר הליך', how='left')\n",
        "check_gender_bias.drop_duplicates(subset = 'מספר הליך',inplace = True)\n",
        "check_gender_bias.dropna(subset = [\"בקשה לרשות ערעור התקבלה?\"],inplace=True)"
      ],
      "metadata": {
        "id": "ZsdLraC9_0iM"
      },
      "execution_count": 6,
      "outputs": []
    },
    {
      "cell_type": "code",
      "source": [
        "for col in check_gender_bias.columns:\n",
        "    if(col.find(\"מגדר\")!=-1 or col.find(\"ערעור\")!=-1 or col.find(\"מספר \")!=-1):\n",
        "      print(col)"
      ],
      "metadata": {
        "colab": {
          "base_uri": "https://localhost:8080/"
        },
        "id": "FljLeZkhB5yE",
        "outputId": "978d00f2-9cd0-4fe1-9bfb-887c720313ce"
      },
      "execution_count": 7,
      "outputs": [
        {
          "output_type": "stream",
          "name": "stdout",
          "text": [
            "מספר תיק\n",
            "מספר החלטות בתיק\n",
            "מספר הליך\n",
            "מספר גורמים שיפוטיים במותב\n",
            "מגדר\n",
            "מספר מילים בגוף המסמך\n",
            "מספר עמודים\n",
            "מספר צדדים בתיק\n",
            "מספר תיקי דלמטה בתיק\n",
            "מספר דיונים בתיק\n",
            "מספר אירועים בתיק\n",
            "מספר אישורי מסירה בתיק\n",
            "מספר בקשות בתיק\n",
            "מספר צד\n",
            "מספר הבקשה\n",
            "מספר תיק דלמטה מלא\n",
            "מספר תיק דלמטה\n",
            "מספר תיק מלא\n",
            "מספר השופטים\n",
            "בקשה לרשות ערעור התקבלה?\n",
            "הערעור התקבל?\n",
            "הערות תוצאת ערעור\n",
            "prediction_adjusted_threshold\n",
            "בקשת רשות ערעור התקבלה?\n",
            "prediction_second_model_adjusted\n",
            "ערעור התקבל?\n"
          ]
        }
      ]
    },
    {
      "cell_type": "code",
      "source": [
        "check_gender_bias = check_gender_bias[[\"מספר הליך\",\"מספר השופטים\",\"בקשה לרשות ערעור התקבלה?\",\"מגדר\"]]"
      ],
      "metadata": {
        "id": "h8EkRHnENJTS"
      },
      "execution_count": 8,
      "outputs": []
    },
    {
      "cell_type": "code",
      "source": [
        "check_gender_bias[[\"בקשה לרשות ערעור התקבלה?\",\"מגדר\"]]"
      ],
      "metadata": {
        "colab": {
          "base_uri": "https://localhost:8080/",
          "height": 423
        },
        "id": "tczUJbPLCHcA",
        "outputId": "b4baaaf7-fe46-43b8-82f2-23e10a1f6dd8"
      },
      "execution_count": 9,
      "outputs": [
        {
          "output_type": "execute_result",
          "data": {
            "text/plain": [
              "      בקשה לרשות ערעור התקבלה?                     מגדר\n",
              "495                       נדחה                  ['זכר']\n",
              "503                       נדחה                  ['זכר']\n",
              "537                       נדחה                  ['זכר']\n",
              "539                        אחר                  ['זכר']\n",
              "550                       נדחה                  ['זכר']\n",
              "...                        ...                      ...\n",
              "20482                     נדחה                  ['זכר']\n",
              "20499                    התקבל  ['זכר', 'נקבה', 'נקבה']\n",
              "20503                    התקבל   ['זכר', 'נקבה', 'זכר']\n",
              "20540                      אחר                 ['נקבה']\n",
              "20560                    התקבל    ['זכר', 'זכר', 'זכר']\n",
              "\n",
              "[702 rows x 2 columns]"
            ],
            "text/html": [
              "\n",
              "  <div id=\"df-3ccf352a-83d0-4674-bf82-e035ab6a4ff8\" class=\"colab-df-container\">\n",
              "    <div>\n",
              "<style scoped>\n",
              "    .dataframe tbody tr th:only-of-type {\n",
              "        vertical-align: middle;\n",
              "    }\n",
              "\n",
              "    .dataframe tbody tr th {\n",
              "        vertical-align: top;\n",
              "    }\n",
              "\n",
              "    .dataframe thead th {\n",
              "        text-align: right;\n",
              "    }\n",
              "</style>\n",
              "<table border=\"1\" class=\"dataframe\">\n",
              "  <thead>\n",
              "    <tr style=\"text-align: right;\">\n",
              "      <th></th>\n",
              "      <th>בקשה לרשות ערעור התקבלה?</th>\n",
              "      <th>מגדר</th>\n",
              "    </tr>\n",
              "  </thead>\n",
              "  <tbody>\n",
              "    <tr>\n",
              "      <th>495</th>\n",
              "      <td>נדחה</td>\n",
              "      <td>['זכר']</td>\n",
              "    </tr>\n",
              "    <tr>\n",
              "      <th>503</th>\n",
              "      <td>נדחה</td>\n",
              "      <td>['זכר']</td>\n",
              "    </tr>\n",
              "    <tr>\n",
              "      <th>537</th>\n",
              "      <td>נדחה</td>\n",
              "      <td>['זכר']</td>\n",
              "    </tr>\n",
              "    <tr>\n",
              "      <th>539</th>\n",
              "      <td>אחר</td>\n",
              "      <td>['זכר']</td>\n",
              "    </tr>\n",
              "    <tr>\n",
              "      <th>550</th>\n",
              "      <td>נדחה</td>\n",
              "      <td>['זכר']</td>\n",
              "    </tr>\n",
              "    <tr>\n",
              "      <th>...</th>\n",
              "      <td>...</td>\n",
              "      <td>...</td>\n",
              "    </tr>\n",
              "    <tr>\n",
              "      <th>20482</th>\n",
              "      <td>נדחה</td>\n",
              "      <td>['זכר']</td>\n",
              "    </tr>\n",
              "    <tr>\n",
              "      <th>20499</th>\n",
              "      <td>התקבל</td>\n",
              "      <td>['זכר', 'נקבה', 'נקבה']</td>\n",
              "    </tr>\n",
              "    <tr>\n",
              "      <th>20503</th>\n",
              "      <td>התקבל</td>\n",
              "      <td>['זכר', 'נקבה', 'זכר']</td>\n",
              "    </tr>\n",
              "    <tr>\n",
              "      <th>20540</th>\n",
              "      <td>אחר</td>\n",
              "      <td>['נקבה']</td>\n",
              "    </tr>\n",
              "    <tr>\n",
              "      <th>20560</th>\n",
              "      <td>התקבל</td>\n",
              "      <td>['זכר', 'זכר', 'זכר']</td>\n",
              "    </tr>\n",
              "  </tbody>\n",
              "</table>\n",
              "<p>702 rows × 2 columns</p>\n",
              "</div>\n",
              "    <div class=\"colab-df-buttons\">\n",
              "\n",
              "  <div class=\"colab-df-container\">\n",
              "    <button class=\"colab-df-convert\" onclick=\"convertToInteractive('df-3ccf352a-83d0-4674-bf82-e035ab6a4ff8')\"\n",
              "            title=\"Convert this dataframe to an interactive table.\"\n",
              "            style=\"display:none;\">\n",
              "\n",
              "  <svg xmlns=\"http://www.w3.org/2000/svg\" height=\"24px\" viewBox=\"0 -960 960 960\">\n",
              "    <path d=\"M120-120v-720h720v720H120Zm60-500h600v-160H180v160Zm220 220h160v-160H400v160Zm0 220h160v-160H400v160ZM180-400h160v-160H180v160Zm440 0h160v-160H620v160ZM180-180h160v-160H180v160Zm440 0h160v-160H620v160Z\"/>\n",
              "  </svg>\n",
              "    </button>\n",
              "\n",
              "  <style>\n",
              "    .colab-df-container {\n",
              "      display:flex;\n",
              "      gap: 12px;\n",
              "    }\n",
              "\n",
              "    .colab-df-convert {\n",
              "      background-color: #E8F0FE;\n",
              "      border: none;\n",
              "      border-radius: 50%;\n",
              "      cursor: pointer;\n",
              "      display: none;\n",
              "      fill: #1967D2;\n",
              "      height: 32px;\n",
              "      padding: 0 0 0 0;\n",
              "      width: 32px;\n",
              "    }\n",
              "\n",
              "    .colab-df-convert:hover {\n",
              "      background-color: #E2EBFA;\n",
              "      box-shadow: 0px 1px 2px rgba(60, 64, 67, 0.3), 0px 1px 3px 1px rgba(60, 64, 67, 0.15);\n",
              "      fill: #174EA6;\n",
              "    }\n",
              "\n",
              "    .colab-df-buttons div {\n",
              "      margin-bottom: 4px;\n",
              "    }\n",
              "\n",
              "    [theme=dark] .colab-df-convert {\n",
              "      background-color: #3B4455;\n",
              "      fill: #D2E3FC;\n",
              "    }\n",
              "\n",
              "    [theme=dark] .colab-df-convert:hover {\n",
              "      background-color: #434B5C;\n",
              "      box-shadow: 0px 1px 3px 1px rgba(0, 0, 0, 0.15);\n",
              "      filter: drop-shadow(0px 1px 2px rgba(0, 0, 0, 0.3));\n",
              "      fill: #FFFFFF;\n",
              "    }\n",
              "  </style>\n",
              "\n",
              "    <script>\n",
              "      const buttonEl =\n",
              "        document.querySelector('#df-3ccf352a-83d0-4674-bf82-e035ab6a4ff8 button.colab-df-convert');\n",
              "      buttonEl.style.display =\n",
              "        google.colab.kernel.accessAllowed ? 'block' : 'none';\n",
              "\n",
              "      async function convertToInteractive(key) {\n",
              "        const element = document.querySelector('#df-3ccf352a-83d0-4674-bf82-e035ab6a4ff8');\n",
              "        const dataTable =\n",
              "          await google.colab.kernel.invokeFunction('convertToInteractive',\n",
              "                                                    [key], {});\n",
              "        if (!dataTable) return;\n",
              "\n",
              "        const docLinkHtml = 'Like what you see? Visit the ' +\n",
              "          '<a target=\"_blank\" href=https://colab.research.google.com/notebooks/data_table.ipynb>data table notebook</a>'\n",
              "          + ' to learn more about interactive tables.';\n",
              "        element.innerHTML = '';\n",
              "        dataTable['output_type'] = 'display_data';\n",
              "        await google.colab.output.renderOutput(dataTable, element);\n",
              "        const docLink = document.createElement('div');\n",
              "        docLink.innerHTML = docLinkHtml;\n",
              "        element.appendChild(docLink);\n",
              "      }\n",
              "    </script>\n",
              "  </div>\n",
              "\n",
              "\n",
              "<div id=\"df-87664e5a-6688-4503-995b-e7f07bd2521e\">\n",
              "  <button class=\"colab-df-quickchart\" onclick=\"quickchart('df-87664e5a-6688-4503-995b-e7f07bd2521e')\"\n",
              "            title=\"Suggest charts\"\n",
              "            style=\"display:none;\">\n",
              "\n",
              "<svg xmlns=\"http://www.w3.org/2000/svg\" height=\"24px\"viewBox=\"0 0 24 24\"\n",
              "     width=\"24px\">\n",
              "    <g>\n",
              "        <path d=\"M19 3H5c-1.1 0-2 .9-2 2v14c0 1.1.9 2 2 2h14c1.1 0 2-.9 2-2V5c0-1.1-.9-2-2-2zM9 17H7v-7h2v7zm4 0h-2V7h2v10zm4 0h-2v-4h2v4z\"/>\n",
              "    </g>\n",
              "</svg>\n",
              "  </button>\n",
              "\n",
              "<style>\n",
              "  .colab-df-quickchart {\n",
              "      --bg-color: #E8F0FE;\n",
              "      --fill-color: #1967D2;\n",
              "      --hover-bg-color: #E2EBFA;\n",
              "      --hover-fill-color: #174EA6;\n",
              "      --disabled-fill-color: #AAA;\n",
              "      --disabled-bg-color: #DDD;\n",
              "  }\n",
              "\n",
              "  [theme=dark] .colab-df-quickchart {\n",
              "      --bg-color: #3B4455;\n",
              "      --fill-color: #D2E3FC;\n",
              "      --hover-bg-color: #434B5C;\n",
              "      --hover-fill-color: #FFFFFF;\n",
              "      --disabled-bg-color: #3B4455;\n",
              "      --disabled-fill-color: #666;\n",
              "  }\n",
              "\n",
              "  .colab-df-quickchart {\n",
              "    background-color: var(--bg-color);\n",
              "    border: none;\n",
              "    border-radius: 50%;\n",
              "    cursor: pointer;\n",
              "    display: none;\n",
              "    fill: var(--fill-color);\n",
              "    height: 32px;\n",
              "    padding: 0;\n",
              "    width: 32px;\n",
              "  }\n",
              "\n",
              "  .colab-df-quickchart:hover {\n",
              "    background-color: var(--hover-bg-color);\n",
              "    box-shadow: 0 1px 2px rgba(60, 64, 67, 0.3), 0 1px 3px 1px rgba(60, 64, 67, 0.15);\n",
              "    fill: var(--button-hover-fill-color);\n",
              "  }\n",
              "\n",
              "  .colab-df-quickchart-complete:disabled,\n",
              "  .colab-df-quickchart-complete:disabled:hover {\n",
              "    background-color: var(--disabled-bg-color);\n",
              "    fill: var(--disabled-fill-color);\n",
              "    box-shadow: none;\n",
              "  }\n",
              "\n",
              "  .colab-df-spinner {\n",
              "    border: 2px solid var(--fill-color);\n",
              "    border-color: transparent;\n",
              "    border-bottom-color: var(--fill-color);\n",
              "    animation:\n",
              "      spin 1s steps(1) infinite;\n",
              "  }\n",
              "\n",
              "  @keyframes spin {\n",
              "    0% {\n",
              "      border-color: transparent;\n",
              "      border-bottom-color: var(--fill-color);\n",
              "      border-left-color: var(--fill-color);\n",
              "    }\n",
              "    20% {\n",
              "      border-color: transparent;\n",
              "      border-left-color: var(--fill-color);\n",
              "      border-top-color: var(--fill-color);\n",
              "    }\n",
              "    30% {\n",
              "      border-color: transparent;\n",
              "      border-left-color: var(--fill-color);\n",
              "      border-top-color: var(--fill-color);\n",
              "      border-right-color: var(--fill-color);\n",
              "    }\n",
              "    40% {\n",
              "      border-color: transparent;\n",
              "      border-right-color: var(--fill-color);\n",
              "      border-top-color: var(--fill-color);\n",
              "    }\n",
              "    60% {\n",
              "      border-color: transparent;\n",
              "      border-right-color: var(--fill-color);\n",
              "    }\n",
              "    80% {\n",
              "      border-color: transparent;\n",
              "      border-right-color: var(--fill-color);\n",
              "      border-bottom-color: var(--fill-color);\n",
              "    }\n",
              "    90% {\n",
              "      border-color: transparent;\n",
              "      border-bottom-color: var(--fill-color);\n",
              "    }\n",
              "  }\n",
              "</style>\n",
              "\n",
              "  <script>\n",
              "    async function quickchart(key) {\n",
              "      const quickchartButtonEl =\n",
              "        document.querySelector('#' + key + ' button');\n",
              "      quickchartButtonEl.disabled = true;  // To prevent multiple clicks.\n",
              "      quickchartButtonEl.classList.add('colab-df-spinner');\n",
              "      try {\n",
              "        const charts = await google.colab.kernel.invokeFunction(\n",
              "            'suggestCharts', [key], {});\n",
              "      } catch (error) {\n",
              "        console.error('Error during call to suggestCharts:', error);\n",
              "      }\n",
              "      quickchartButtonEl.classList.remove('colab-df-spinner');\n",
              "      quickchartButtonEl.classList.add('colab-df-quickchart-complete');\n",
              "    }\n",
              "    (() => {\n",
              "      let quickchartButtonEl =\n",
              "        document.querySelector('#df-87664e5a-6688-4503-995b-e7f07bd2521e button');\n",
              "      quickchartButtonEl.style.display =\n",
              "        google.colab.kernel.accessAllowed ? 'block' : 'none';\n",
              "    })();\n",
              "  </script>\n",
              "</div>\n",
              "\n",
              "    </div>\n",
              "  </div>\n"
            ],
            "application/vnd.google.colaboratory.intrinsic+json": {
              "type": "dataframe",
              "summary": "{\n  \"name\": \"check_gender_bias[[\\\"\\u05d1\\u05e7\\u05e9\\u05d4 \\u05dc\\u05e8\\u05e9\\u05d5\\u05ea \\u05e2\\u05e8\\u05e2\\u05d5\\u05e8 \\u05d4\\u05ea\\u05e7\\u05d1\\u05dc\\u05d4?\\\",\\\"\\u05de\\u05d2\\u05d3\\u05e8\\\"]]\",\n  \"rows\": 702,\n  \"fields\": [\n    {\n      \"column\": \"\\u05d1\\u05e7\\u05e9\\u05d4 \\u05dc\\u05e8\\u05e9\\u05d5\\u05ea \\u05e2\\u05e8\\u05e2\\u05d5\\u05e8 \\u05d4\\u05ea\\u05e7\\u05d1\\u05dc\\u05d4?\",\n      \"properties\": {\n        \"dtype\": \"category\",\n        \"num_unique_values\": 4,\n        \"samples\": [\n          \"\\u05d0\\u05d7\\u05e8\",\n          \"\\u05d7\\u05dc\\u05e7\\u05d9\",\n          \"\\u05e0\\u05d3\\u05d7\\u05d4\"\n        ],\n        \"semantic_type\": \"\",\n        \"description\": \"\"\n      }\n    },\n    {\n      \"column\": \"\\u05de\\u05d2\\u05d3\\u05e8\",\n      \"properties\": {\n        \"dtype\": \"category\",\n        \"num_unique_values\": 15,\n        \"samples\": [\n          \"['\\u05d6\\u05db\\u05e8', '\\u05e0\\u05e7\\u05d1\\u05d4']\",\n          \"['\\u05e0\\u05e7\\u05d1\\u05d4', '\\u05d6\\u05db\\u05e8', '\\u05d6\\u05db\\u05e8', '\\u05d6\\u05db\\u05e8', '\\u05d6\\u05db\\u05e8']\",\n          \"['\\u05d6\\u05db\\u05e8']\"\n        ],\n        \"semantic_type\": \"\",\n        \"description\": \"\"\n      }\n    }\n  ]\n}"
            }
          },
          "metadata": {},
          "execution_count": 9
        }
      ]
    },
    {
      "cell_type": "code",
      "source": [
        "import pandas as pd\n",
        "import matplotlib.pyplot as plt\n",
        "import seaborn as sns\n",
        "from ast import literal_eval\n",
        "\n",
        "\n",
        "# המרת המחרוזת ברשימת מגדרים למבנה רשימה\n",
        "check_gender_bias[\"מגדר\"] = check_gender_bias[\"מגדר\"].apply(literal_eval)  # ממיר טקסט לרשימה\n",
        "\n",
        "# פונקציה להשטחת הנתונים – כל שופט יקבל שורה משלו\n",
        "def expand_genders(df):\n",
        "    expanded_data = []\n",
        "    for _, row in df.iterrows():\n",
        "        for gender in row[\"מגדר\"]:\n",
        "            expanded_data.append({\"Gender\": gender, \"Appeal Outcome\": row[\"בקשה לרשות ערעור התקבלה?\"]})\n",
        "    return pd.DataFrame(expanded_data)\n",
        "\n",
        "# הרחבת הטבלה\n",
        "df_expanded = expand_genders(check_gender_bias)\n",
        "\n",
        "# ספירת תוצאות הערעור לפי מגדר\n",
        "outcome_counts = df_expanded.groupby([\"Gender\", \"Appeal Outcome\"]).size().unstack().fillna(0)\n",
        "\n",
        "# יצירת גרף התפלגות תוצאות לפי מגדר\n",
        "plt.figure(figsize=(8, 5))\n",
        "outcome_counts.plot(kind=\"bar\", stacked=True)\n",
        "plt.ylabel(\"מספר ערעורים\")\n",
        "plt.title(\"התפלגות תוצאות הערעור לפי מגדר השופט/ת\")\n",
        "plt.xticks(rotation=0)\n",
        "plt.legend(title=\"תוצאת הערעור\")\n",
        "plt.show()\n",
        "\n",
        "# חישוב יחס קבלת ערעור לכל מגדר\n",
        "outcome_counts[\"Total\"] = outcome_counts.sum(axis=1)\n",
        "outcome_counts[\"Acceptance Rate\"] = outcome_counts.get(\"התקבל\", 0) / outcome_counts[\"Total\"]\n",
        "\n",
        "# יצירת גרף של אחוזי קבלת ערעור לפי מגדר\n",
        "plt.figure(figsize=(8, 5))\n",
        "sns.barplot(x=outcome_counts.index, y=outcome_counts[\"Acceptance Rate\"])\n",
        "plt.ylabel(\"שיעור קבלת ערעור\")\n",
        "plt.title(\"שיעור קבלת ערעור לפי מגדר השופט/ת\")\n",
        "plt.ylim(0, 1)\n",
        "plt.show()\n",
        "\n",
        "# הצגת הטבלה עם התוצאות\n",
        "print(outcome_counts)\n"
      ],
      "metadata": {
        "colab": {
          "base_uri": "https://localhost:8080/",
          "height": 1000
        },
        "id": "UiCOhdOnDn7H",
        "outputId": "e624ffdd-318d-4ab8-f4f4-0f9910ddea9d"
      },
      "execution_count": 10,
      "outputs": [
        {
          "output_type": "display_data",
          "data": {
            "text/plain": [
              "<Figure size 800x500 with 0 Axes>"
            ]
          },
          "metadata": {}
        },
        {
          "output_type": "display_data",
          "data": {
            "text/plain": [
              "<Figure size 640x480 with 1 Axes>"
            ],
            "image/png": "[encoded data removed]"
          },
          "metadata": {}
        },
        {
          "output_type": "display_data",
          "data": {
            "text/plain": [
              "<Figure size 800x500 with 1 Axes>"
            ],
            "image/png": "[encoded data removed]"
          },
          "metadata": {}
        },
        {
          "output_type": "stream",
          "name": "stdout",
          "text": [
            "Appeal Outcome  אחר  התקבל  חלקי  נדחה  Total  Acceptance Rate\n",
            "Gender                                                        \n",
            "זכר             130    346    34   437    947         0.365364\n",
            "נקבה             38    101    11    59    209         0.483254\n"
          ]
        }
      ]
    },
    {
      "cell_type": "code",
      "source": [],
      "metadata": {
        "id": "oD0_v0cYHx7W"
      },
      "execution_count": 10,
      "outputs": []
    },
    {
      "cell_type": "markdown",
      "source": [],
      "metadata": {
        "id": "NBZadrvUE0bf"
      }
    },
    {
      "cell_type": "code",
      "source": [],
      "metadata": {
        "id": "oWEkpygnFz8R"
      },
      "execution_count": 10,
      "outputs": []
    },
    {
      "cell_type": "markdown",
      "source": [
        "# Bias - number of Judges"
      ],
      "metadata": {
        "id": "n4HEGAa7HeQZ"
      }
    },
    {
      "cell_type": "code",
      "source": [
        "import pandas as pd\n",
        "import matplotlib.pyplot as plt\n",
        "import seaborn as sns\n",
        "from ast import literal_eval\n",
        "\n",
        "# טעינת הנתונים\n",
        "df = check_gender_bias.copy()\n",
        "\n",
        "# חישוב מספר השופטים בכל תיק\n",
        "df[\"מספר שופטים\"] = df[\"מגדר\"].apply(len)\n",
        "\n",
        "# חלוקת המקרים לשתי קבוצות: שופט יחיד או יותר מאחד\n",
        "df[\"יותר משופט אחד\"] = df[\"מספר שופטים\"] > 1\n",
        "\n",
        "# ספירת המקרים לפי מספר השופטים והאם הערעור התקבל\n",
        "outcome_counts = df.groupby(\"יותר משופט אחד\")[\"בקשה לרשות ערעור התקבלה?\"].value_counts(normalize=True).unstack()\n",
        "\n",
        "# יצירת גרף\n",
        "plt.figure(figsize=(8, 5))\n",
        "outcome_counts.plot(kind=\"bar\", stacked=True)\n",
        "plt.ylabel(\"שיעור הערעורים (%)\")\n",
        "plt.title(\"השפעת מספר השופטים על קבלת הערעור\")\n",
        "plt.xticks([0, 1], [\"שופט אחד\", \"יותר משופט אחד\"], rotation=0)\n",
        "plt.legend(title=\"תוצאת הערעור\")\n",
        "plt.show()\n",
        "\n",
        "# חישוב אחוז קבלת ערעור לפי מספר השופטים\n",
        "acceptance_rate = outcome_counts.get(\"התקבל\", 0)\n",
        "\n",
        "# הדפסת סטטיסטיקה\n",
        "print(\"שיעור קבלת הערעור לפי מספר שופטים:\")\n",
        "print(acceptance_rate)\n"
      ],
      "metadata": {
        "colab": {
          "base_uri": "https://localhost:8080/",
          "height": 581
        },
        "id": "tuLNzfE5BBhg",
        "outputId": "864f3d25-7258-4a5a-d2ff-f9d735f200a9"
      },
      "execution_count": 11,
      "outputs": [
        {
          "output_type": "display_data",
          "data": {
            "text/plain": [
              "<Figure size 800x500 with 0 Axes>"
            ]
          },
          "metadata": {}
        },
        {
          "output_type": "display_data",
          "data": {
            "text/plain": [
              "<Figure size 640x480 with 1 Axes>"
            ],
            "image/png": "[encoded data removed]"
          },
          "metadata": {}
        },
        {
          "output_type": "stream",
          "name": "stdout",
          "text": [
            "שיעור קבלת הערעור לפי מספר שופטים:\n",
            "יותר משופט אחד\n",
            "False    0.065126\n",
            "True     0.606195\n",
            "Name: התקבל, dtype: float64\n"
          ]
        }
      ]
    },
    {
      "cell_type": "code",
      "source": [
        "import pandas as pd\n",
        "import ast\n",
        "import matplotlib.pyplot as plt\n",
        "import seaborn as sns\n",
        "from scipy.stats import chi2_contingency\n",
        "\n",
        "df = check_gender_bias.copy()\n",
        "\n",
        "# לוודא שהעמודה 'מגדר' היא רשימה ולא מחרוזת\n",
        "df[\"מגדר\"] = df[\"מגדר\"].apply(lambda x: ast.literal_eval(x) if isinstance(x, str) else x)\n",
        "\n",
        "# הוספת עמודת מספר השופטים בכל מקרה\n",
        "df[\"מספר שופטים\"] = df[\"מגדר\"].apply(len)\n",
        "\n",
        "# יצירת עמודת אינדיקטור אם הערעור התקבל או לא\n",
        "df[\"ערעור התקבל\"] = df[\"בקשה לרשות ערעור התקבלה?\"].apply(lambda x: 1 if x == \"התקבל\" else 0)\n",
        "\n",
        "### בדיקת הקשר בין מספר השופטים להחלטה ###\n",
        "grouped_by_judges = df.groupby(\"מספר שופטים\")[\"ערעור התקבל\"].mean()\n",
        "plt.figure(figsize=(8, 6))\n",
        "sns.barplot(x=grouped_by_judges.index, y=grouped_by_judges.values, palette=\"Blues_r\")\n",
        "plt.xlabel(\"מספר שופטים\")\n",
        "plt.ylabel(\"שיעור קבלת ערעור\")\n",
        "plt.title(\"השפעת מספר השופטים על קבלת הערעור\")\n",
        "plt.show()\n",
        "\n",
        "# טבלת שכיחות\n",
        "judge_count_table = df.groupby(\"מספר שופטים\")[\"ערעור התקבל\"].value_counts().unstack()\n",
        "print(judge_count_table)\n",
        "\n",
        "# בדיקה סטטיסטית - האם יש קשר מובהק בין מספר שופטים להחלטה\n",
        "chi2, p, _, _ = chi2_contingency(judge_count_table.fillna(0))\n",
        "print(f\"Chi-Square Test: p-value = {p:.4f}\")\n",
        "if p < 0.05:\n",
        "    print(\"מסקנה: קיים קשר מובהק סטטיסטית בין מספר השופטים לקבלת הערעור.\")\n",
        "else:\n",
        "    print(\"מסקנה: אין קשר מובהק סטטיסטית בין מספר השופטים לקבלת הערעור.\")\n",
        "\n",
        "### בדיקת ביאס מגדרי ###\n",
        "# חישוב אחוז קבלת ערעור לפי מגדר\n",
        "def get_gender_stats(gender_list, outcome):\n",
        "    return any(g in gender_list for g in outcome)\n",
        "\n",
        "df[\"מכיל זכר\"] = df[\"מגדר\"].apply(lambda x: \"זכר\" in x)\n",
        "df[\"מכיל נקבה\"] = df[\"מגדר\"].apply(lambda x: \"נקבה\" in x)\n",
        "\n",
        "# בדיקת הבדל בין מקרים עם לפחות שופטת לבין אלו ללא\n",
        "gender_bias_table = df.groupby(\"מכיל נקבה\")[\"ערעור התקבל\"].value_counts().unstack()\n",
        "print(\"טבלת שכיחות לפי נוכחות שופטות:\\n\", gender_bias_table)\n",
        "\n",
        "plt.figure(figsize=(8, 6))\n",
        "sns.barplot(x=gender_bias_table.index, y=gender_bias_table[1] / (gender_bias_table[1] + gender_bias_table[0]), palette=\"Reds_r\")\n",
        "plt.xlabel(\"האם יש לפחות שופטת?\")\n",
        "plt.ylabel(\"שיעור קבלת ערעור\")\n",
        "plt.title(\"השפעת נוכחות שופטת על קבלת הערעור\")\n",
        "plt.show()\n",
        "\n",
        "# בדיקה סטטיסטית - האם יש הבדל מובהק\n",
        "chi2, p, _, _ = chi2_contingency(gender_bias_table.fillna(0))\n",
        "print(f\"Chi-Square Test for Gender Bias: p-value = {p:.4f}\")\n",
        "if p < 0.05:\n",
        "    print(\"מסקנה: יש עדות מובהקת לכך שנוכחות שופטות משפיעה על החלטת הערעור.\")\n",
        "else:\n",
        "    print(\"מסקנה: אין עדות מובהקת לכך שנוכחות שופטות משפיעה על החלטת הערעור.\")\n"
      ],
      "metadata": {
        "colab": {
          "base_uri": "https://localhost:8080/",
          "height": 1000
        },
        "id": "FMphMwfMI3Sg",
        "outputId": "85e59d89-b4c1-44d9-dfe3-feb28fa4d332"
      },
      "execution_count": 12,
      "outputs": [
        {
          "output_type": "stream",
          "name": "stderr",
          "text": [
            "<ipython-input-12-9995a47b4688>:21: FutureWarning: \n",
            "\n",
            "Passing `palette` without assigning `hue` is deprecated and will be removed in v0.14.0. Assign the `x` variable to `hue` and set `legend=False` for the same effect.\n",
            "\n",
            "  sns.barplot(x=grouped_by_judges.index, y=grouped_by_judges.values, palette=\"Blues_r\")\n"
          ]
        },
        {
          "output_type": "display_data",
          "data": {
            "text/plain": [
              "<Figure size 800x600 with 1 Axes>"
            ],
            "image/png": "[encoded data removed]"
          },
          "metadata": {}
        },
        {
          "output_type": "stream",
          "name": "stdout",
          "text": [
            "ערעור התקבל      0      1\n",
            "מספר שופטים              \n",
            "0              2.0    1.0\n",
            "1            443.0   30.0\n",
            "2              1.0    NaN\n",
            "3             88.0  134.0\n",
            "5              NaN    3.0\n",
            "Chi-Square Test: p-value = 0.0000\n",
            "מסקנה: קיים קשר מובהק סטטיסטית בין מספר השופטים לקבלת הערעור.\n",
            "טבלת שכיחות לפי נוכחות שופטות:\n",
            " ערעור התקבל    0   1\n",
            "מכיל נקבה           \n",
            "False        433  87\n",
            "True         101  81\n"
          ]
        },
        {
          "output_type": "stream",
          "name": "stderr",
          "text": [
            "<ipython-input-12-9995a47b4688>:52: FutureWarning: \n",
            "\n",
            "Passing `palette` without assigning `hue` is deprecated and will be removed in v0.14.0. Assign the `x` variable to `hue` and set `legend=False` for the same effect.\n",
            "\n",
            "  sns.barplot(x=gender_bias_table.index, y=gender_bias_table[1] / (gender_bias_table[1] + gender_bias_table[0]), palette=\"Reds_r\")\n"
          ]
        },
        {
          "output_type": "display_data",
          "data": {
            "text/plain": [
              "<Figure size 800x600 with 1 Axes>"
            ],
            "image/png": "[encoded data removed]"
          },
          "metadata": {}
        },
        {
          "output_type": "stream",
          "name": "stdout",
          "text": [
            "Chi-Square Test for Gender Bias: p-value = 0.0000\n",
            "מסקנה: יש עדות מובהקת לכך שנוכחות שופטות משפיעה על החלטת הערעור.\n"
          ]
        }
      ]
    },
    {
      "cell_type": "code",
      "source": [
        "len(dataframes)"
      ],
      "metadata": {
        "colab": {
          "base_uri": "https://localhost:8080/"
        },
        "id": "cPRCkVSd61os",
        "outputId": "d12dc163-9f80-493b-bde5-f092b7655f6b"
      },
      "execution_count": 13,
      "outputs": [
        {
          "output_type": "execute_result",
          "data": {
            "text/plain": [
              "6"
            ]
          },
          "metadata": {},
          "execution_count": 13
        }
      ]
    },
    {
      "cell_type": "code",
      "source": [
        "df_1 = dataframes[0].copy()\n",
        "\n",
        "df_1.columns"
      ],
      "metadata": {
        "colab": {
          "base_uri": "https://localhost:8080/"
        },
        "id": "5Rv2ZUDm8Dk6",
        "outputId": "8264557c-aae8-416e-eb5b-f5f6b77a14eb"
      },
      "execution_count": 14,
      "outputs": [
        {
          "output_type": "execute_result",
          "data": {
            "text/plain": [
              "Index(['level_0', 'index', 'גוף המסמך', 'מספר הליך', 'שם הליך',\n",
              "       'שנת פתיחת ההליך', 'גוף המסמך חתוך', 'predicted_probability',\n",
              "       'prediction_original_model', 'בקשה לרשות ערעור התקבלה?',\n",
              "       'טקסט שמצביע על תוצאת בקשה שונה', 'הערעור התקבל?',\n",
              "       'רע\"פ בקשה אחרת או דלמטה מיוחד', 'קידוד', 'קידוד חוזר', 'הערות ',\n",
              "       'הערות קידוד חוזר'],\n",
              "      dtype='object')"
            ]
          },
          "metadata": {},
          "execution_count": 14
        }
      ]
    },
    {
      "cell_type": "code",
      "source": [
        "df_1 = df_1[['גוף המסמך', 'מספר הליך', 'שם הליך',\n",
        "       'שנת פתיחת ההליך', 'גוף המסמך חתוך',  'בקשה לרשות ערעור התקבלה?',\n",
        "       'טקסט שמצביע על תוצאת בקשה שונה', 'הערעור התקבל?',\n",
        "       'רע\"פ בקשה אחרת או דלמטה מיוחד', 'הערות ',\n",
        "       'הערות קידוד חוזר']]"
      ],
      "metadata": {
        "id": "DY_3qlUc-I43"
      },
      "execution_count": 15,
      "outputs": []
    },
    {
      "cell_type": "code",
      "source": [
        "df_2 = dataframes[1].copy()"
      ],
      "metadata": {
        "id": "uawB3EtE-t8N"
      },
      "execution_count": 16,
      "outputs": []
    },
    {
      "cell_type": "code",
      "source": [
        "df_2 = df_2[['גוף המסמך', 'מספר הליך', 'שם הליך',\n",
        "       'שנת פתיחת ההליך', 'גוף המסמך חתוך',\n",
        "       'בקשה לרשות ערעור התקבלה?',\n",
        "       'טקסט שמצביע על תוצאת בקשה שונה (טקסטים שונים מופרדים ב-**)',\n",
        "       'הערעור התקבל?', 'רע\"פ בקשה אחרת או דלמטה מיוחד',\n",
        "       'הערות תוצאת ערעור', 'הערות ', 'הערות קידוד חוזר']]"
      ],
      "metadata": {
        "id": "JXniQQU3-2Gz"
      },
      "execution_count": 17,
      "outputs": []
    },
    {
      "cell_type": "code",
      "source": [
        "df = pd.concat([df_1, df_2], ignore_index=True)"
      ],
      "metadata": {
        "id": "z0NIHaoM_lDF"
      },
      "execution_count": 18,
      "outputs": []
    },
    {
      "cell_type": "code",
      "source": [
        "df_3 = dataframes[2].copy()"
      ],
      "metadata": {
        "id": "GTp1f9y2_G3l"
      },
      "execution_count": 19,
      "outputs": []
    },
    {
      "cell_type": "code",
      "source": [
        "df_3 = df_3[['גוף המסמך', 'מספר הליך', 'שם הליך',\n",
        "       'שנת פתיחת ההליך',\n",
        "       'בקשה לרשות ערעור התקבלה?',\n",
        "       'טקסט שמצביע על תוצאת בקשה שונה (טקסטים שונים מופרדים ב-**)',\n",
        "       'הערעור התקבל?', 'הערות תוצאת ערעור', 'רע\"פ בקשה אחרת או דלמטה מיוחד', 'הערות ']]"
      ],
      "metadata": {
        "id": "KY4yog2-_usH"
      },
      "execution_count": 20,
      "outputs": []
    },
    {
      "cell_type": "code",
      "source": [
        "df = pd.concat([df, df_3], ignore_index=True)"
      ],
      "metadata": {
        "id": "VVsLDIhj_G71"
      },
      "execution_count": 21,
      "outputs": []
    },
    {
      "cell_type": "code",
      "source": [],
      "metadata": {
        "id": "zmxYCBBC_B2h"
      },
      "execution_count": 21,
      "outputs": []
    },
    {
      "cell_type": "code",
      "source": [
        "columns_to_check = [\n",
        "    \"הערות \",\n",
        "    \"הערות תוצאת ערעור\",\n",
        "    \"הערות קידוד חוזר\",\n",
        "    \"טקסט שמצביע על תוצאת בקשה שונה\",\n",
        "    \"טקסט שמצביע על תוצאת בקשה שונה (טקסטים שונים מופרדים ב-**)\",\n",
        "    \"טקסט שמצביע על תוצאת בקשה שונה (טקסטים שונים מופרדים ב-**)\"\n",
        "]\n",
        "\n",
        "\n",
        "df = df[~df[columns_to_check].isna().all(axis=1)]"
      ],
      "metadata": {
        "id": "HYPwg-TeAoWD"
      },
      "execution_count": 22,
      "outputs": []
    },
    {
      "cell_type": "code",
      "source": [
        "df.shape"
      ],
      "metadata": {
        "colab": {
          "base_uri": "https://localhost:8080/"
        },
        "id": "yBNrZ9ST4YK_",
        "outputId": "a6502ac7-4c9b-4070-b60f-025bf1631357"
      },
      "execution_count": 23,
      "outputs": [
        {
          "output_type": "execute_result",
          "data": {
            "text/plain": [
              "(348, 13)"
            ]
          },
          "metadata": {},
          "execution_count": 23
        }
      ]
    },
    {
      "cell_type": "code",
      "source": [],
      "metadata": {
        "id": "jQd6gOcv_C0u"
      },
      "execution_count": 23,
      "outputs": []
    },
    {
      "cell_type": "code",
      "source": [],
      "metadata": {
        "id": "IQTmuq1v_c1J"
      },
      "execution_count": 23,
      "outputs": []
    },
    {
      "cell_type": "code",
      "source": [],
      "metadata": {
        "id": "SKArgzv3_lC5"
      },
      "execution_count": 23,
      "outputs": []
    },
    {
      "cell_type": "code",
      "source": [
        "len(df[\"גוף המסמך\"])\n",
        "\n",
        "df[\"length\"] = df[\"גוף המסמך\"].apply(lambda x: len(str(x).split()))\n",
        "\n",
        "average_length = df[\"length\"].mean()\n",
        "max_length = df[\"length\"].max()\n",
        "min_length = df[\"length\"].min()\n",
        "\n",
        "print(f\"אורך ממוצע של פסקי דין: {average_length:.2f} מילים\")\n",
        "print(f\"פסק הדין הארוך ביותר מכיל {max_length} מילים\")\n",
        "print(f\"פסק הדין הקצר ביותר מכיל {min_length} מילים\")\n"
      ],
      "metadata": {
        "colab": {
          "base_uri": "https://localhost:8080/"
        },
        "id": "KEkZ-UDy4gbv",
        "outputId": "a91e8beb-5d33-4c67-b762-014fc7d49b75"
      },
      "execution_count": 24,
      "outputs": [
        {
          "output_type": "stream",
          "name": "stdout",
          "text": [
            "אורך ממוצע של פסקי דין: 722.41 מילים\n",
            "פסק הדין הארוך ביותר מכיל 5920 מילים\n",
            "פסק הדין הקצר ביותר מכיל 60 מילים\n"
          ]
        }
      ]
    },
    {
      "cell_type": "code",
      "source": [
        "def convert_list_to_string(text):\n",
        "    if isinstance(text, str) and text.startswith(\"[\") and text.endswith(\"]\"):\n",
        "        try:\n",
        "            text_list = ast.literal_eval(text)\n",
        "            return ' '.join(text_list)\n",
        "        except (ValueError, SyntaxError):\n",
        "            return text\n",
        "    return text\n",
        "\n",
        "def clean_text(text):\n",
        "    if isinstance(text, list):\n",
        "        text = ' '.join(text)\n",
        "    elif isinstance(text, str):\n",
        "        text = re.sub(r'\\n+', ' ', text)  # הסרת שורות חדשות מרובות\n",
        "        text = re.sub(r'\\n', '', text)   # הסרת תווי newline \\n מהטקסט\n",
        "        text = re.sub(r'\\xa0', ' ', text)  # הסרת תווי \\xa0 מהטקסט\n",
        "        text = re.sub(r'\\s+', ' ', text)  # הסרת רווחים מרובים\n",
        "\n",
        "        text = re.sub(r\"העותק כפוף לשינויי עריכה וניסוח.*?$\", \"\", text, flags=re.MULTILINE)\n",
        "        text = re.sub(r\"מרכז מידע, טל' \\d{2,3}-\\d{6,7}.*?$\", \"\", text, flags=re.MULTILINE)\n",
        "        text = re.sub(r\"אתר אינטרנט, .*?$\", \"\", text, flags=re.MULTILINE)\n",
        "    return text\n",
        "\n",
        "print(\"שורות לא קריאות לפני המרה:\")\n",
        "print(df[\"גוף המסמך\"].head())\n",
        "\n",
        "df[\"גוף המסמך\"] = df[\"גוף המסמך\"].apply(clean_text)\n",
        "\n",
        "print(\"\\nשורות לאחר המרה:\")\n",
        "print(df[\"גוף המסמך\"].head())\n",
        "\n",
        "file_path_full = 'checked_df_cleaned.csv' # FULL RAP DATA CLEANED\n",
        "df.to_csv(file_path_full, index=False, encoding='utf-8')\n"
      ],
      "metadata": {
        "colab": {
          "base_uri": "https://localhost:8080/"
        },
        "id": "lLLLzAUR6XvO",
        "outputId": "31a47367-89fb-4a72-f31b-13047030bf6e"
      },
      "execution_count": 25,
      "outputs": [
        {
          "output_type": "stream",
          "name": "stdout",
          "text": [
            "שורות לא קריאות לפני המרה:\n",
            "5      ['החלטה בתיק רע\"פ 3622/15 בבית המשפט העליון רע...\n",
            "31     ['החלטה בתיק רע\"פ 825/15 בבית המשפט העליון רע\"...\n",
            "67     ['החלטה בתיק רע\"פ 54/15 בבית המשפט העליון רע\"פ...\n",
            "73     ['פסק דין בתיק רע\"פ 2811/15 בבית המשפט העליון ...\n",
            "114    ['פסק דין בתיק רע\"פ 2195/15 בבית המשפט העליון ...\n",
            "Name: גוף המסמך, dtype: object\n",
            "\n",
            "שורות לאחר המרה:\n",
            "5      ['החלטה בתיק רע\"פ 3622/15 בבית המשפט העליון רע...\n",
            "31     ['החלטה בתיק רע\"פ 825/15 בבית המשפט העליון רע\"...\n",
            "67     ['החלטה בתיק רע\"פ 54/15 בבית המשפט העליון רע\"פ...\n",
            "73     ['פסק דין בתיק רע\"פ 2811/15 בבית המשפט העליון ...\n",
            "114    ['פסק דין בתיק רע\"פ 2195/15 בבית המשפט העליון ...\n",
            "Name: גוף המסמך, dtype: object\n"
          ]
        }
      ]
    },
    {
      "cell_type": "code",
      "source": [
        "def extract_relevant_part(text):\n",
        "    words = str(text).split()\n",
        "    if len(words) > 1000:\n",
        "        return \" \".join(words[-800:-20])\n",
        "    return text\n",
        "\n",
        "df[\"גוף המסמך חתוך\"] = df[\"גוף המסמך\"].apply(extract_relevant_part)\n",
        "\n",
        "df[[\"גוף המסמך\", \"גוף המסמך חתוך\"]].head()\n"
      ],
      "metadata": {
        "colab": {
          "base_uri": "https://localhost:8080/",
          "height": 206
        },
        "id": "997LkOwE5bcg",
        "outputId": "166b9689-1838-47f1-9aba-03a8ffc0bc9a"
      },
      "execution_count": 26,
      "outputs": [
        {
          "output_type": "execute_result",
          "data": {
            "text/plain": [
              "                                             גוף המסמך  \\\n",
              "5    ['החלטה בתיק רע\"פ 3622/15 בבית המשפט העליון רע...   \n",
              "31   ['החלטה בתיק רע\"פ 825/15 בבית המשפט העליון רע\"...   \n",
              "67   ['החלטה בתיק רע\"פ 54/15 בבית המשפט העליון רע\"פ...   \n",
              "73   ['פסק דין בתיק רע\"פ 2811/15 בבית המשפט העליון ...   \n",
              "114  ['פסק דין בתיק רע\"פ 2195/15 בבית המשפט העליון ...   \n",
              "\n",
              "                                        גוף המסמך חתוך  \n",
              "5    מאסר תמורתו. 6. המבקש ערער לבית המשפט המחוזי ע...  \n",
              "31   ['החלטה בתיק רע\"פ 825/15 בבית המשפט העליון רע\"...  \n",
              "67   (13.1.2015); רע\"פ 8087/14 נדים אנגנאץ נ\\' מדינ...  \n",
              "73   ['פסק דין בתיק רע\"פ 2811/15 בבית המשפט העליון ...  \n",
              "114  ['פסק דין בתיק רע\"פ 2195/15 בבית המשפט העליון ...  "
            ],
            "text/html": [
              "\n",
              "  <div id=\"df-c895b7f9-d87e-44cd-91f0-e219d6f1309e\" class=\"colab-df-container\">\n",
              "    <div>\n",
              "<style scoped>\n",
              "    .dataframe tbody tr th:only-of-type {\n",
              "        vertical-align: middle;\n",
              "    }\n",
              "\n",
              "    .dataframe tbody tr th {\n",
              "        vertical-align: top;\n",
              "    }\n",
              "\n",
              "    .dataframe thead th {\n",
              "        text-align: right;\n",
              "    }\n",
              "</style>\n",
              "<table border=\"1\" class=\"dataframe\">\n",
              "  <thead>\n",
              "    <tr style=\"text-align: right;\">\n",
              "      <th></th>\n",
              "      <th>גוף המסמך</th>\n",
              "      <th>גוף המסמך חתוך</th>\n",
              "    </tr>\n",
              "  </thead>\n",
              "  <tbody>\n",
              "    <tr>\n",
              "      <th>5</th>\n",
              "      <td>['החלטה בתיק רע\"פ 3622/15 בבית המשפט העליון רע...</td>\n",
              "      <td>מאסר תמורתו. 6. המבקש ערער לבית המשפט המחוזי ע...</td>\n",
              "    </tr>\n",
              "    <tr>\n",
              "      <th>31</th>\n",
              "      <td>['החלטה בתיק רע\"פ 825/15 בבית המשפט העליון רע\"...</td>\n",
              "      <td>['החלטה בתיק רע\"פ 825/15 בבית המשפט העליון רע\"...</td>\n",
              "    </tr>\n",
              "    <tr>\n",
              "      <th>67</th>\n",
              "      <td>['החלטה בתיק רע\"פ 54/15 בבית המשפט העליון רע\"פ...</td>\n",
              "      <td>(13.1.2015); רע\"פ 8087/14 נדים אנגנאץ נ\\' מדינ...</td>\n",
              "    </tr>\n",
              "    <tr>\n",
              "      <th>73</th>\n",
              "      <td>['פסק דין בתיק רע\"פ 2811/15 בבית המשפט העליון ...</td>\n",
              "      <td>['פסק דין בתיק רע\"פ 2811/15 בבית המשפט העליון ...</td>\n",
              "    </tr>\n",
              "    <tr>\n",
              "      <th>114</th>\n",
              "      <td>['פסק דין בתיק רע\"פ 2195/15 בבית המשפט העליון ...</td>\n",
              "      <td>['פסק דין בתיק רע\"פ 2195/15 בבית המשפט העליון ...</td>\n",
              "    </tr>\n",
              "  </tbody>\n",
              "</table>\n",
              "</div>\n",
              "    <div class=\"colab-df-buttons\">\n",
              "\n",
              "  <div class=\"colab-df-container\">\n",
              "    <button class=\"colab-df-convert\" onclick=\"convertToInteractive('df-c895b7f9-d87e-44cd-91f0-e219d6f1309e')\"\n",
              "            title=\"Convert this dataframe to an interactive table.\"\n",
              "            style=\"display:none;\">\n",
              "\n",
              "  <svg xmlns=\"http://www.w3.org/2000/svg\" height=\"24px\" viewBox=\"0 -960 960 960\">\n",
              "    <path d=\"M120-120v-720h720v720H120Zm60-500h600v-160H180v160Zm220 220h160v-160H400v160Zm0 220h160v-160H400v160ZM180-400h160v-160H180v160Zm440 0h160v-160H620v160ZM180-180h160v-160H180v160Zm440 0h160v-160H620v160Z\"/>\n",
              "  </svg>\n",
              "    </button>\n",
              "\n",
              "  <style>\n",
              "    .colab-df-container {\n",
              "      display:flex;\n",
              "      gap: 12px;\n",
              "    }\n",
              "\n",
              "    .colab-df-convert {\n",
              "      background-color: #E8F0FE;\n",
              "      border: none;\n",
              "      border-radius: 50%;\n",
              "      cursor: pointer;\n",
              "      display: none;\n",
              "      fill: #1967D2;\n",
              "      height: 32px;\n",
              "      padding: 0 0 0 0;\n",
              "      width: 32px;\n",
              "    }\n",
              "\n",
              "    .colab-df-convert:hover {\n",
              "      background-color: #E2EBFA;\n",
              "      box-shadow: 0px 1px 2px rgba(60, 64, 67, 0.3), 0px 1px 3px 1px rgba(60, 64, 67, 0.15);\n",
              "      fill: #174EA6;\n",
              "    }\n",
              "\n",
              "    .colab-df-buttons div {\n",
              "      margin-bottom: 4px;\n",
              "    }\n",
              "\n",
              "    [theme=dark] .colab-df-convert {\n",
              "      background-color: #3B4455;\n",
              "      fill: #D2E3FC;\n",
              "    }\n",
              "\n",
              "    [theme=dark] .colab-df-convert:hover {\n",
              "      background-color: #434B5C;\n",
              "      box-shadow: 0px 1px 3px 1px rgba(0, 0, 0, 0.15);\n",
              "      filter: drop-shadow(0px 1px 2px rgba(0, 0, 0, 0.3));\n",
              "      fill: #FFFFFF;\n",
              "    }\n",
              "  </style>\n",
              "\n",
              "    <script>\n",
              "      const buttonEl =\n",
              "        document.querySelector('#df-c895b7f9-d87e-44cd-91f0-e219d6f1309e button.colab-df-convert');\n",
              "      buttonEl.style.display =\n",
              "        google.colab.kernel.accessAllowed ? 'block' : 'none';\n",
              "\n",
              "      async function convertToInteractive(key) {\n",
              "        const element = document.querySelector('#df-c895b7f9-d87e-44cd-91f0-e219d6f1309e');\n",
              "        const dataTable =\n",
              "          await google.colab.kernel.invokeFunction('convertToInteractive',\n",
              "                                                    [key], {});\n",
              "        if (!dataTable) return;\n",
              "\n",
              "        const docLinkHtml = 'Like what you see? Visit the ' +\n",
              "          '<a target=\"_blank\" href=https://colab.research.google.com/notebooks/data_table.ipynb>data table notebook</a>'\n",
              "          + ' to learn more about interactive tables.';\n",
              "        element.innerHTML = '';\n",
              "        dataTable['output_type'] = 'display_data';\n",
              "        await google.colab.output.renderOutput(dataTable, element);\n",
              "        const docLink = document.createElement('div');\n",
              "        docLink.innerHTML = docLinkHtml;\n",
              "        element.appendChild(docLink);\n",
              "      }\n",
              "    </script>\n",
              "  </div>\n",
              "\n",
              "\n",
              "<div id=\"df-2c30ec6f-5535-4b42-b716-29a3d5f3acba\">\n",
              "  <button class=\"colab-df-quickchart\" onclick=\"quickchart('df-2c30ec6f-5535-4b42-b716-29a3d5f3acba')\"\n",
              "            title=\"Suggest charts\"\n",
              "            style=\"display:none;\">\n",
              "\n",
              "<svg xmlns=\"http://www.w3.org/2000/svg\" height=\"24px\"viewBox=\"0 0 24 24\"\n",
              "     width=\"24px\">\n",
              "    <g>\n",
              "        <path d=\"M19 3H5c-1.1 0-2 .9-2 2v14c0 1.1.9 2 2 2h14c1.1 0 2-.9 2-2V5c0-1.1-.9-2-2-2zM9 17H7v-7h2v7zm4 0h-2V7h2v10zm4 0h-2v-4h2v4z\"/>\n",
              "    </g>\n",
              "</svg>\n",
              "  </button>\n",
              "\n",
              "<style>\n",
              "  .colab-df-quickchart {\n",
              "      --bg-color: #E8F0FE;\n",
              "      --fill-color: #1967D2;\n",
              "      --hover-bg-color: #E2EBFA;\n",
              "      --hover-fill-color: #174EA6;\n",
              "      --disabled-fill-color: #AAA;\n",
              "      --disabled-bg-color: #DDD;\n",
              "  }\n",
              "\n",
              "  [theme=dark] .colab-df-quickchart {\n",
              "      --bg-color: #3B4455;\n",
              "      --fill-color: #D2E3FC;\n",
              "      --hover-bg-color: #434B5C;\n",
              "      --hover-fill-color: #FFFFFF;\n",
              "      --disabled-bg-color: #3B4455;\n",
              "      --disabled-fill-color: #666;\n",
              "  }\n",
              "\n",
              "  .colab-df-quickchart {\n",
              "    background-color: var(--bg-color);\n",
              "    border: none;\n",
              "    border-radius: 50%;\n",
              "    cursor: pointer;\n",
              "    display: none;\n",
              "    fill: var(--fill-color);\n",
              "    height: 32px;\n",
              "    padding: 0;\n",
              "    width: 32px;\n",
              "  }\n",
              "\n",
              "  .colab-df-quickchart:hover {\n",
              "    background-color: var(--hover-bg-color);\n",
              "    box-shadow: 0 1px 2px rgba(60, 64, 67, 0.3), 0 1px 3px 1px rgba(60, 64, 67, 0.15);\n",
              "    fill: var(--button-hover-fill-color);\n",
              "  }\n",
              "\n",
              "  .colab-df-quickchart-complete:disabled,\n",
              "  .colab-df-quickchart-complete:disabled:hover {\n",
              "    background-color: var(--disabled-bg-color);\n",
              "    fill: var(--disabled-fill-color);\n",
              "    box-shadow: none;\n",
              "  }\n",
              "\n",
              "  .colab-df-spinner {\n",
              "    border: 2px solid var(--fill-color);\n",
              "    border-color: transparent;\n",
              "    border-bottom-color: var(--fill-color);\n",
              "    animation:\n",
              "      spin 1s steps(1) infinite;\n",
              "  }\n",
              "\n",
              "  @keyframes spin {\n",
              "    0% {\n",
              "      border-color: transparent;\n",
              "      border-bottom-color: var(--fill-color);\n",
              "      border-left-color: var(--fill-color);\n",
              "    }\n",
              "    20% {\n",
              "      border-color: transparent;\n",
              "      border-left-color: var(--fill-color);\n",
              "      border-top-color: var(--fill-color);\n",
              "    }\n",
              "    30% {\n",
              "      border-color: transparent;\n",
              "      border-left-color: var(--fill-color);\n",
              "      border-top-color: var(--fill-color);\n",
              "      border-right-color: var(--fill-color);\n",
              "    }\n",
              "    40% {\n",
              "      border-color: transparent;\n",
              "      border-right-color: var(--fill-color);\n",
              "      border-top-color: var(--fill-color);\n",
              "    }\n",
              "    60% {\n",
              "      border-color: transparent;\n",
              "      border-right-color: var(--fill-color);\n",
              "    }\n",
              "    80% {\n",
              "      border-color: transparent;\n",
              "      border-right-color: var(--fill-color);\n",
              "      border-bottom-color: var(--fill-color);\n",
              "    }\n",
              "    90% {\n",
              "      border-color: transparent;\n",
              "      border-bottom-color: var(--fill-color);\n",
              "    }\n",
              "  }\n",
              "</style>\n",
              "\n",
              "  <script>\n",
              "    async function quickchart(key) {\n",
              "      const quickchartButtonEl =\n",
              "        document.querySelector('#' + key + ' button');\n",
              "      quickchartButtonEl.disabled = true;  // To prevent multiple clicks.\n",
              "      quickchartButtonEl.classList.add('colab-df-spinner');\n",
              "      try {\n",
              "        const charts = await google.colab.kernel.invokeFunction(\n",
              "            'suggestCharts', [key], {});\n",
              "      } catch (error) {\n",
              "        console.error('Error during call to suggestCharts:', error);\n",
              "      }\n",
              "      quickchartButtonEl.classList.remove('colab-df-spinner');\n",
              "      quickchartButtonEl.classList.add('colab-df-quickchart-complete');\n",
              "    }\n",
              "    (() => {\n",
              "      let quickchartButtonEl =\n",
              "        document.querySelector('#df-2c30ec6f-5535-4b42-b716-29a3d5f3acba button');\n",
              "      quickchartButtonEl.style.display =\n",
              "        google.colab.kernel.accessAllowed ? 'block' : 'none';\n",
              "    })();\n",
              "  </script>\n",
              "</div>\n",
              "\n",
              "    </div>\n",
              "  </div>\n"
            ],
            "application/vnd.google.colaboratory.intrinsic+json": {
              "type": "dataframe",
              "summary": "{\n  \"name\": \"df[[\\\"\\u05d2\\u05d5\\u05e3 \\u05d4\\u05de\\u05e1\\u05de\\u05da\\\", \\\"\\u05d2\\u05d5\\u05e3 \\u05d4\\u05de\\u05e1\\u05de\\u05da \\u05d7\\u05ea\\u05d5\\u05da\\\"]]\",\n  \"rows\": 5,\n  \"fields\": [\n    {\n      \"column\": \"\\u05d2\\u05d5\\u05e3 \\u05d4\\u05de\\u05e1\\u05de\\u05da\",\n      \"properties\": {\n        \"dtype\": \"string\",\n        \"num_unique_values\": 5,\n        \"samples\": [\n          \"['\\u05d4\\u05d7\\u05dc\\u05d8\\u05d4 \\u05d1\\u05ea\\u05d9\\u05e7 \\u05e8\\u05e2\\\"\\u05e4 825/15 \\u05d1\\u05d1\\u05d9\\u05ea \\u05d4\\u05de\\u05e9\\u05e4\\u05d8 \\u05d4\\u05e2\\u05dc\\u05d9\\u05d5\\u05df \\u05e8\\u05e2\\\"\\u05e4 825/15 - \\u05d1\\\\' \\u05dc\\u05e4\\u05e0\\u05d9: \\u05db\\u05d1\\u05d5\\u05d3 \\u05d4\\u05e9\\u05d5\\u05e4\\u05d8 \\u05d7\\\\' \\u05de\\u05dc\\u05e6\\u05e8 \\u05d4\\u05de\\u05d1\\u05e7\\u05e9: \\u05de\\u05e8\\u05d3\\u05db\\u05d9 \\u05e7\\u05d9\\u05e1\\u05d5\\u05e1 \\u05e0\\u05d2\\u05d3 \\u05d4\\u05de\\u05e9\\u05d9\\u05d1\\u05d4: \\u05de\\u05d3\\u05d9\\u05e0\\u05ea \\u05d9\\u05e9\\u05e8\\u05d0\\u05dc \\u05d1\\u05e7\\u05e9\\u05d4 \\u05dc\\u05e2\\u05d9\\u05db\\u05d5\\u05d1 \\u05d1\\u05d9\\u05e6\\u05d5\\u05e2 \\u05e2\\u05d5\\u05e0\\u05e9 \\u05de\\u05d0\\u05e1\\u05e8 \\u05de\\u05ea\\u05d0\\u05e8\\u05d9\\u05da 18.02.2015; \\u05ea\\u05d2\\u05d5\\u05d1\\u05ea \\u05d4\\u05de\\u05e9\\u05d9\\u05d1\\u05d4 \\u05dc\\u05d1\\u05e7\\u05e9\\u05d4 \\u05de\\u05ea\\u05d0\\u05e8\\u05d9\\u05da 19.02.2015 \\u05d1\\u05e9\\u05dd \\u05d4\\u05de\\u05d1\\u05e7\\u05e9: \\u05e2\\u05d5\\\"\\u05d3 \\u05e9\\u05de\\u05d5\\u05d0\\u05dc \\u05d1\\u05e8\\u05d6\\u05e0\\u05d9 \\u05d1\\u05e9\\u05dd \\u05d4\\u05de\\u05e9\\u05d9\\u05d1\\u05d4: \\u05e2\\u05d5\\\"\\u05d3 \\u05e1\\u05d9\\u05d2\\u05dc \\u05d1\\u05dc\\u05d5\\u05dd \\u05d4\\u05d7\\u05dc\\u05d8\\u05d4 \\u05db\\u05de\\u05d1\\u05d5\\u05e7\\u05e9 \\u05d5\\u05db\\u05de\\u05d5\\u05e1\\u05db\\u05dd \\u05d4\\u05de\\u05d1\\u05e7\\u05e9 \\u05d9\\u05ea\\u05d9\\u05d9\\u05e6\\u05d1 \\u05dc\\u05e8\\u05d9\\u05e6\\u05d5\\u05d9 \\u05e2\\u05d5\\u05e0\\u05e9 \\u05d4\\u05de\\u05d0\\u05e1\\u05e8 \\u05e9\\u05e0\\u05d2\\u05d6\\u05e8 \\u05e2\\u05dc\\u05d9\\u05d5 \\u2013 \\u05d1\\u05ea\\u05d0\\u05e8\\u05d9\\u05da 13.04.2015 \\u05e2\\u05d3 \\u05dc\\u05e9\\u05e2\\u05d4 10:00, \\u05d1\\u05d1\\u05d9\\u05de\\\"\\u05e8 \\u05e7\\u05d9\\u05e9\\u05d5\\u05df, \\u05d0\\u05d5 \\u05d1\\u05de\\u05e7\\u05d5\\u05dd \\u05d0\\u05d7\\u05e8 \\u05e2\\u05dc \\u05e4\\u05d9 \\u05d4\\u05d7\\u05dc\\u05d8\\u05ea \\u05e9\\u05d9\\u05e8\\u05d5\\u05ea \\u05d1\\u05ea\\u05d9 \\u05d4\\u05e1\\u05d5\\u05d4\\u05e8, \\u05db\\u05e9\\u05d1\\u05e8\\u05e9\\u05d5\\u05ea\\u05d5 \\u05ea\\u05e2\\u05d5\\u05d3\\u05ea \\u05d6\\u05d4\\u05d5\\u05ea, \\u05d0\\u05d5 \\u05d3\\u05e8\\u05db\\u05d5\\u05df. \\u05e2\\u05dc \\u05d4\\u05de\\u05d1\\u05e7\\u05e9 \\u05dc\\u05ea\\u05d0\\u05dd \\u05d0\\u05ea \\u05d4\\u05db\\u05e0\\u05d9\\u05e1\\u05d4 \\u05dc\\u05de\\u05d0\\u05e1\\u05e8, \\u05db\\u05d5\\u05dc\\u05dc \\u05d4\\u05d0\\u05e4\\u05e9\\u05e8\\u05d5\\u05ea \\u05dc\\u05de\\u05d9\\u05d5\\u05df \\u05de\\u05d5\\u05e7\\u05d3\\u05dd, \\u05e2\\u05dd \\u05e2\\u05e0\\u05e3 \\u05d0\\u05d1\\u05d7\\u05d5\\u05df \\u05d5\\u05de\\u05d9\\u05d5\\u05df \\u05e9\\u05dc \\u05e9\\u05d9\\u05e8\\u05d5\\u05ea \\u05d1\\u05ea\\u05d9 \\u05d4\\u05e1\\u05d5\\u05d4\\u05e8, \\u05d8\\u05dc\\u05e4\\u05d5\\u05e0\\u05d9\\u05dd: 08-9787377 \\u05d0\\u05d5 08-9787336. \\u05e0\\u05d9\\u05ea\\u05e0\\u05d4 \\u05d4\\u05d9\\u05d5\\u05dd, \\\\u200f\\u05d2\\\\' \\u05d1\\u05d0\\u05d3\\u05e8 \\u05d4\\u05ea\\u05e9\\u05e2\\\"\\u05d4 (\\\\u200f22.2.2015). \\u05e9 \\u05d5 \\u05e4 \\u05d8 _________________________ \",\n          \"['\\u05e4\\u05e1\\u05e7 \\u05d3\\u05d9\\u05df \\u05d1\\u05ea\\u05d9\\u05e7 \\u05e8\\u05e2\\\"\\u05e4 2195/15 \\u05d1\\u05d1\\u05d9\\u05ea \\u05d4\\u05de\\u05e9\\u05e4\\u05d8 \\u05d4\\u05e2\\u05dc\\u05d9\\u05d5\\u05df \\u05e8\\u05e2\\\"\\u05e4 2195/15 \\u05e8\\u05e2\\\"\\u05e4 2231/15 \\u05dc\\u05e4\\u05e0\\u05d9: \\u05db\\u05d1\\u05d5\\u05d3 \\u05d4\\u05e9\\u05d5\\u05e4\\u05d8 \\u05e1\\\\' \\u05d2\\\\'\\u05d5\\u05d1\\u05e8\\u05d0\\u05df \\u05db\\u05d1\\u05d5\\u05d3 \\u05d4\\u05e9\\u05d5\\u05e4\\u05d8 \\u05e0\\\\' \\u05d4\\u05e0\\u05d3\\u05dc \\u05db\\u05d1\\u05d5\\u05d3 \\u05d4\\u05e9\\u05d5\\u05e4\\u05d8 \\u05d0\\\\' \\u05e9\\u05d4\\u05dd \\u05d4\\u05de\\u05d1\\u05e7\\u05e9\\u05d9\\u05dd \\u05d1\\u05e8\\u05e2\\\"\\u05e4 2195/15: 1. \\u05d0\\u05d4\\u05d5\\u05d3 \\u05d9\\u05e4\\u05e8\\u05d7 2. \\u05d7\\u05d1\\\\' \\u05d0\\u05d4\\u05d5\\u05d3 \\u05de\\u05d0\\u05d9\\u05e8 \\u05e9\\u05d0\\u05d9\\u05d1\\u05d5\\u05ea \\u05d1\\u05e2\\\"\\u05de 3. \\u05d8\\u05d9\\u05d4\\u05dc \\u05e0\\u05db\\u05e1\\u05d9\\u05dd \\u05d1\\u05e2\\\"\\u05de 4. \\u05dc\\u05d9 \\u05d9\\u05e4\\u05e8\\u05d7 \\u05d4\\u05de\\u05d1\\u05e7\\u05e9\\u05d9\\u05dd \\u05d1\\u05e8\\u05e2\\\"\\u05e4 2231/15: 1. \\u05d9\\u05d5\\u05e1\\u05d9 \\u05dc\\u05d9\\u05d1\\u05d5\\u05d1\\u05d9\\u05e5\\\\' 2. \\u05e8\\u05d9\\u05e0\\u05ea \\u05dc\\u05d9\\u05d1\\u05d5\\u05d1\\u05d9\\u05e5\\\\' \\u05e0\\u05d2\\u05d3 \\u05d4\\u05de\\u05e9\\u05d9\\u05d1\\u05d4: \\u05de\\u05d3\\u05d9\\u05e0\\u05ea \\u05d9\\u05e9\\u05e8\\u05d0\\u05dc \\u05d1\\u05e7\\u05e9\\u05d5\\u05ea \\u05e8\\u05e9\\u05d5\\u05ea \\u05e2\\u05e8\\u05e2\\u05d5\\u05e8 \\u05e2\\u05dc \\u05d4\\u05d7\\u05dc\\u05d8\\u05ea\\u05d5 \\u05e9\\u05dc \\u05d1\\u05d9\\u05ea \\u05d4\\u05de\\u05e9\\u05e4\\u05d8 \\u05d4\\u05de\\u05d7\\u05d5\\u05d6\\u05d9 \\u05de\\u05e8\\u05db\\u05d6-\\u05dc\\u05d5\\u05d3 \\u05de\\u05d9\\u05d5\\u05dd 26.2.2015 \\u05d1\\u05e2\\\"\\u05d7 28595-01-15 \\u05e9\\u05e0\\u05d9\\u05ea\\u05df \\u05e2\\u05dc \\u05d9\\u05d3\\u05d9 \\u05db\\u05d1\\u05d5\\u05d3 \\u05d4\\u05e9\\u05d5\\u05e4\\u05d8\\u05ea \\u05d3\\u05d1\\u05d5\\u05e8\\u05d4 \\u05e2\\u05d8\\u05e8 \\u05ea\\u05d0\\u05e8\\u05d9\\u05da \\u05d4\\u05d9\\u05e9\\u05d9\\u05d1\\u05d4: \\u05db\\\"\\u05d2 \\u05d1\\u05d0\\u05dc\\u05d5\\u05dc \\u05d4\\u05ea\\u05e9\\u05e2\\\"\\u05d4 (7.9.2015) \\u05d1\\u05e9\\u05dd \\u05d4\\u05de\\u05d1\\u05e7\\u05e9\\u05d9\\u05dd \\u05d1\\u05e8\\u05e2\\\"\\u05e4 2195/15: \\u05e2\\u05d5\\\"\\u05d3 \\u05d3\\u05e8\\u05d5\\u05e8 \\u05de\\u05ea\\u05ea\\u05d9\\u05d4\\u05d5; \\u05e2\\u05d5\\\"\\u05d3 \\u05d4\\u05d2\\u05e8 \\u05e0\\u05d2\\u05dc\\u05e8 \\u05d1\\u05e9\\u05dd \\u05d4\\u05de\\u05d1\\u05e7\\u05e9\\u05d9\\u05dd \\u05d1\\u05e8\\u05e2\\\"\\u05e4 2231/15: \\u05e2\\u05d5\\\"\\u05d3 \\u05d9\\u05d4\\u05d5\\u05e9\\u05e2 \\u05e8\\u05d6\\u05e0\\u05d9\\u05e7; \\u05e2\\u05d5\\\"\\u05d3 \\u05e6\\u05d9\\u05d5\\u05df \\u05e1\\u05d4\\u05e8\\u05d0\\u05d9 \\u05d1\\u05e9\\u05dd \\u05d4\\u05de\\u05e9\\u05d9\\u05d1\\u05d4: \\u05e2\\u05d5\\\"\\u05d3 \\u05d0\\u05d1\\u05d9 \\u05d5\\u05e1\\u05d8\\u05e8\\u05de\\u05df; \\u05e2\\u05d5\\\"\\u05d3 \\u05d9\\u05e4\\u05e2\\u05ea \\u05e9\\u05d8\\u05d9\\u05d9\\u05df \\u05e4\\u05e1\\u05e7 \\u05d3\\u05d9\\u05df \\u05d1\\u05d4\\u05de\\u05dc\\u05e6\\u05ea\\u05e0\\u05d5 \\u05d7\\u05d6\\u05e8\\u05d5 \\u05d1\\u05d4\\u05dd \\u05d1\\u05d0\\u05d9 \\u05db\\u05d5\\u05d7 \\u05d4\\u05de\\u05d1\\u05e7\\u05e9\\u05d9\\u05dd \\u05de\\u05d4\\u05d1\\u05e7\\u05e9\\u05d5\\u05ea \\u05dc\\u05de\\u05ea\\u05df \\u05e8\\u05e9\\u05d5\\u05ea \\u05e2\\u05e8\\u05e2\\u05d5\\u05e8, \\u05d5\\u05d4\\u05d1\\u05e7\\u05e9\\u05d5\\u05ea \\u05e0\\u05d3\\u05d7\\u05d5\\u05ea \\u05d1\\u05d6\\u05d4. \\u05e0\\u05d9\\u05ea\\u05df \\u05d4\\u05d9\\u05d5\\u05dd, \\u05db\\\"\\u05d2 \\u05d1\\u05d0\\u05dc\\u05d5\\u05dc \\u05d4\\u05ea\\u05e9\\u05e2\\\"\\u05d4 (\\\\u200f7.9.2015). \\u05e9 \\u05d5 \\u05e4 \\u05d8 \\u05e9 \\u05d5 \\u05e4 \\u05d8 \\u05e9 \\u05d5 \\u05e4 \\u05d8 _________________________ \",\n          \"['\\u05d4\\u05d7\\u05dc\\u05d8\\u05d4 \\u05d1\\u05ea\\u05d9\\u05e7 \\u05e8\\u05e2\\\"\\u05e4 54/15 \\u05d1\\u05d1\\u05d9\\u05ea \\u05d4\\u05de\\u05e9\\u05e4\\u05d8 \\u05d4\\u05e2\\u05dc\\u05d9\\u05d5\\u05df \\u05e8\\u05e2\\\"\\u05e4 54/15 \\u05dc\\u05e4\\u05e0\\u05d9: \\u05db\\u05d1\\u05d5\\u05d3 \\u05d4\\u05e9\\u05d5\\u05e4\\u05d8 \\u05d0\\\\' \\u05e9\\u05d4\\u05dd \\u05d4\\u05de\\u05d1\\u05e7\\u05e9\\u05d9\\u05dd: 1. \\u05e4\\u05dc\\u05d5\\u05e0\\u05d9 2. \\u05e4\\u05dc\\u05d5\\u05e0\\u05d9 \\u05e0\\u05d2\\u05d3 \\u05d4\\u05de\\u05e9\\u05d9\\u05d1\\u05d4: \\u05de\\u05d3\\u05d9\\u05e0\\u05ea \\u05d9\\u05e9\\u05e8\\u05d0\\u05dc \\u05d1\\u05e7\\u05e9\\u05ea \\u05e8\\u05e9\\u05d5\\u05ea \\u05e2\\u05e8\\u05e2\\u05d5\\u05e8 \\u05e2\\u05dc \\u05e4\\u05e1\\u05e7 \\u05d3\\u05d9\\u05e0\\u05d5 \\u05e9\\u05dc \\u05d1\\u05d9\\u05ea \\u05d4\\u05de\\u05e9\\u05e4\\u05d8 \\u05d4\\u05de\\u05d7\\u05d5\\u05d6\\u05d9 \\u05d1\\u05d9\\u05e8\\u05d5\\u05e9\\u05dc\\u05d9\\u05dd, \\u05de\\u05d9\\u05d5\\u05dd 8.12.2014, \\u05d1\\u05e2\\u05e0\\\"\\u05e4 29336-07-14, \\u05e9\\u05e0\\u05d9\\u05ea\\u05df \\u05e2\\u05dc-\\u05d9\\u05d3\\u05d9 \\u05db\\u05d1\\\\' \\u05d4\\u05e9\\u05d5\\u05e4\\u05d8\\u05d9\\u05dd \\u05d0\\\\' \\u05e8\\u05d5\\u05de\\u05e0\\u05d5\\u05d1; \\u05d3\\\\' \\u05de\\u05d9\\u05e0\\u05e5; \\u05d0\\\\' \\u05e0\\u05d7\\u05dc\\u05d9\\u05d0\\u05dc\\u05d9-\\u05d7\\u05d9\\u05d0\\u05d8 \\u05d1\\u05e9\\u05dd \\u05d4\\u05de\\u05d1\\u05e7\\u05e9\\u05d9\\u05dd: \\u05e2\\u05d5\\\"\\u05d3 \\u05d7\\u05d0\\u05d2\\\\' \\u05de\\u05d5\\u05e4\\u05d9\\u05d3 \\u05d4\\u05d7\\u05dc\\u05d8\\u05d4 1. \\u05dc\\u05e4\\u05e0\\u05d9\\u05d9 \\u05d1\\u05e7\\u05e9\\u05d4 \\u05dc\\u05e8\\u05e9\\u05d5\\u05ea \\u05e2\\u05e8\\u05e2\\u05d5\\u05e8 \\u05e2\\u05dc \\u05e4\\u05e1\\u05e7 \\u05d3\\u05d9\\u05e0\\u05d5 \\u05e9\\u05dc \\u05d1\\u05d9\\u05ea \\u05d4\\u05de\\u05e9\\u05e4\\u05d8 \\u05d4\\u05de\\u05d7\\u05d5\\u05d6\\u05d9 \\u05d1\\u05d9\\u05e8\\u05d5\\u05e9\\u05dc\\u05d9\\u05dd (\\u05db\\u05d1\\\\' \\u05d4\\u05e9\\u05d5\\u05e4\\u05d8\\u05d9\\u05dd \\u05d0\\\\' \\u05e8\\u05d5\\u05de\\u05e0\\u05d5\\u05d1; \\u05d3\\\\' \\u05de\\u05d9\\u05e0\\u05e5; \\u05d0\\\\' \\u05e0\\u05d7\\u05dc\\u05d9\\u05d0\\u05dc\\u05d9-\\u05d7\\u05d9\\u05d0\\u05d8), \\u05d1\\u05e2\\u05e0\\\"\\u05e4 29336-07-14, \\u05de\\u05d9\\u05d5\\u05dd 8.12.2014, \\u05d1\\u05d2\\u05d3\\u05e8\\u05d5 \\u05d4\\u05ea\\u05e7\\u05d1\\u05dc \\u05e2\\u05e8\\u05e2\\u05d5\\u05e8\\u05d4 \\u05e9\\u05dc \\u05d4\\u05de\\u05e9\\u05d9\\u05d1\\u05d4 \\u05e2\\u05dc \\u05d2\\u05d6\\u05e8 \\u05d3\\u05d9\\u05e0\\u05d5 \\u05e9\\u05dc \\u05d1\\u05d9\\u05ea \\u05de\\u05e9\\u05e4\\u05d8 \\u05d4\\u05e9\\u05dc\\u05d5\\u05dd \\u05d1\\u05d9\\u05e8\\u05d5\\u05e9\\u05dc\\u05d9\\u05dd, \\u05d1\\u05e9\\u05d1\\u05ea\\u05d5 \\u05db\\u05d1\\u05d9\\u05ea \\u05de\\u05e9\\u05e4\\u05d8 \\u05d4\\u05e9\\u05dc\\u05d5\\u05dd \\u05dc\\u05e0\\u05d5\\u05e2\\u05e8 (\\u05db\\u05d1\\\\' \\u05d4\\u05e9\\u05d5\\u05e4\\u05d8 \\u05e9\\\\' \\u05dc\\u05d9\\u05d9\\u05d1\\u05d5) (\\u05dc\\u05d4\\u05dc\\u05df: \\u05d1\\u05d9\\u05ea \\u05de\\u05e9\\u05e4\\u05d8 \\u05d4\\u05e9\\u05dc\\u05d5\\u05dd), \\u05d1\\u05ea\\\"\\u05e4 25628-03-13, \\u05de\\u05d9\\u05d5\\u05dd 17.6.2014. \\u05d1\\u05d3 \\u05d1\\u05d1\\u05d3 \\u05e2\\u05dd \\u05d4\\u05d1\\u05e7\\u05e9\\u05d4 \\u05dc\\u05e8\\u05e9\\u05d5\\u05ea \\u05e2\\u05e8\\u05e2\\u05d5\\u05e8, \\u05d4\\u05d2\\u05d9\\u05e9\\u05d5 \\u05d4\\u05de\\u05d1\\u05e7\\u05e9\\u05d9\\u05dd \\u05d1\\u05e7\\u05e9\\u05d4 \\u05dc\\u05e2\\u05d9\\u05db\\u05d5\\u05d1 \\u05d1\\u05d9\\u05e6\\u05d5\\u05e2 \\u05e2\\u05d5\\u05e0\\u05e9 \\u05d4\\u05de\\u05d0\\u05e1\\u05e8 \\u05d1\\u05e4\\u05d5\\u05e2\\u05dc, \\u05d0\\u05e9\\u05e8 \\u05d4\\u05d5\\u05e9\\u05ea \\u05e2\\u05dc\\u05d9\\u05d4\\u05dd. \\u05d1\\u05d4\\u05d7\\u05dc\\u05d8\\u05ea\\u05d9 \\u05de\\u05d9\\u05d5\\u05dd 11.1.2015, \\u05d4\\u05d5\\u05e8\\u05d9\\u05ea\\u05d9 \\u05e2\\u05dc \\u05e2\\u05d9\\u05db\\u05d5\\u05d1 \\u05d1\\u05d9\\u05e6\\u05d5\\u05e2 \\u05d4\\u05e2\\u05d5\\u05e0\\u05e9 \\u05e2\\u05d3 \\u05dc\\u05d4\\u05db\\u05e8\\u05e2\\u05d4 \\u05d1\\u05d1\\u05e7\\u05e9\\u05d4 \\u05dc\\u05e8\\u05e9\\u05d5\\u05ea \\u05e2\\u05e8\\u05e2\\u05d5\\u05e8. \\u05e8\\u05e7\\u05e2 \\u05d5\\u05d4\\u05dc\\u05d9\\u05db\\u05d9\\u05dd \\u05e7\\u05d5\\u05d3\\u05de\\u05d9\\u05dd 1. \\u05e0\\u05d2\\u05d3 \\u05d4\\u05de\\u05d1\\u05e7\\u05e9\\u05d9\\u05dd \\u05d4\\u05d5\\u05d2\\u05e9 \\u05db\\u05ea\\u05d1 \\u05d0\\u05d9\\u05e9\\u05d5\\u05dd, \\u05d4\\u05de\\u05d9\\u05d9\\u05d7\\u05e1 \\u05dc\\u05d4\\u05dd \\u05e2\\u05d1\\u05d9\\u05e8\\u05d5\\u05ea \\u05e9\\u05dc \\u05d4\\u05ea\\u05e4\\u05e8\\u05e2\\u05d5\\u05ea, \\u05dc\\u05e4\\u05d9 \\u05e1\\u05e2\\u05d9\\u05e3 152 \\u05dc\\u05d7\\u05d5\\u05e7 \\u05d4\\u05e2\\u05d5\\u05e0\\u05e9\\u05d9\\u05df, \\u05d4\\u05ea\\u05e9\\u05dc\\\"\\u05d6 \\u2013 1977 (\\u05dc\\u05d4\\u05dc\\u05df: \\u05d7\\u05d5\\u05e7 \\u05d4\\u05e2\\u05d5\\u05e0\\u05e9\\u05d9\\u05df); \\u05d5\\u05e0\\u05d9\\u05e1\\u05d9\\u05d5\\u05df \\u05ea\\u05e7\\u05d9\\u05e4\\u05ea \\u05e9\\u05d5\\u05d8\\u05e8 \\u05d1\\u05e0\\u05e1\\u05d9\\u05d1\\u05d5\\u05ea \\u05de\\u05d7\\u05de\\u05d9\\u05e8\\u05d5\\u05ea, \\u05dc\\u05e4\\u05d9 \\u05e1\\u05e2\\u05d9\\u05e3 274 (1), (2) \\u05d5-(3) \\u05dc\\u05d7\\u05d5\\u05e7 \\u05d4\\u05e2\\u05d5\\u05e0\\u05e9\\u05d9\\u05df, \\u05d1\\u05e6\\u05d9\\u05e8\\u05d5\\u05e3 \\u05e2\\u05dd \\u05e1\\u05e2\\u05d9\\u05e3 25 \\u05dc\\u05d7\\u05d5\\u05e7 \\u05d4\\u05e2\\u05d5\\u05e0\\u05e9\\u05d9\\u05df. 2. \\u05d1\\u05db\\u05ea\\u05d1 \\u05d4\\u05d0\\u05d9\\u05e9\\u05d5\\u05dd \\u05e0\\u05d8\\u05e2\\u05df, \\u05db\\u05d9 \\u05d1\\u05d9\\u05d5\\u05dd 8.3.2013, \\u05d1\\u05e1\\u05d9\\u05d5\\u05de\\u05d4 \\u05e9\\u05dc \\u05ea\\u05e4\\u05d9\\u05dc\\u05ea \\u05d9\\u05d5\\u05dd \\u05d4\\u05e9\\u05d9\\u05e9\\u05d9, \\u05e0\\u05d8\\u05dc\\u05d5 \\u05d4\\u05de\\u05d1\\u05e7\\u05e9\\u05d9\\u05dd \\u05d7\\u05dc\\u05e7 \\u05d1\\u05d4\\u05e4\\u05d2\\u05e0\\u05d5\\u05ea \\u05d0\\u05dc\\u05d9\\u05de\\u05d5\\u05ea \\u05d0\\u05e9\\u05e8 \\u05d4\\u05ea\\u05e7\\u05d9\\u05d9\\u05de\\u05d5 \\u05d1\\u05d4\\u05e8 \\u05d4\\u05d1\\u05d9\\u05ea (\\u05dc\\u05d4\\u05dc\\u05df: \\u05d4\\u05d4\\u05ea\\u05e4\\u05e8\\u05e2\\u05d5\\u05d9\\u05d5\\u05ea), \\u05d5\\u05d9\\u05d9\\u05d3\\u05d5 \\u05d9\\u05d7\\u05d3 \\u05e2\\u05dd \\u05d0\\u05d7\\u05e8\\u05d9\\u05dd \\u05d0\\u05d1\\u05e0\\u05d9\\u05dd \\u05dc\\u05e2\\u05d1\\u05e8 \\u05db\\u05d5\\u05d7\\u05d5\\u05ea \\u05d4\\u05de\\u05e9\\u05d8\\u05e8\\u05d4 \\u05e9\\u05e0\\u05db\\u05d7\\u05d5 \\u05d1\\u05de\\u05e7\\u05d5\\u05dd, \\u05d1\\u05de\\u05e1\\u05d2\\u05e8\\u05ea \\u05ea\\u05e4\\u05e7\\u05d9\\u05d3\\u05dd. \\u05d1\\u05de\\u05d4\\u05dc\\u05da \\u05d4\\u05d4\\u05ea\\u05e4\\u05e8\\u05e2\\u05d5\\u05d9\\u05d5\\u05ea, \\u05e0\\u05d5\\u05e8\\u05d4 \\u05d1\\u05e7\\u05d1\\u05d5\\u05e7 \\u05ea\\u05d1\\u05e2\\u05e8\\u05d4 \\u05e2\\u05dc-\\u05d9\\u05d3\\u05d9 \\u05d0\\u05d7\\u05e8, \\u05d5\\u05e4\\u05d2\\u05e2 \\u05d1\\u05e9\\u05d5\\u05d8\\u05e8. \\u05e2\\u05d5\\u05d3 \\u05e0\\u05d0\\u05de\\u05e8 \\u05d1\\u05db\\u05ea\\u05d1 \\u05d4\\u05d0\\u05d9\\u05e9\\u05d5\\u05dd, \\u05db\\u05d9 \\u05d4\\u05de\\u05d1\\u05e7\\u05e9\\u05d9\\u05dd \\u05d4\\u05e9\\u05ea\\u05ea\\u05e4\\u05d5 \\u05d1\\u05d4\\u05ea\\u05e7\\u05d4\\u05dc\\u05d5\\u05ea \\u05d0\\u05e1\\u05d5\\u05e8\\u05d4, \\u05e9\\u05d9\\u05e9 \\u05d1\\u05d4 \\u05db\\u05d3\\u05d9 \\u05dc\\u05d4\\u05d8\\u05d9\\u05dc \\u05d0\\u05d9\\u05de\\u05d4 \\u05e2\\u05dc \\u05d4\\u05e6\\u05d9\\u05d1\\u05d5\\u05e8; \\u05d5\\u05e0\\u05d9\\u05e1\\u05d5 \\u05dc\\u05ea\\u05e7\\u05d5\\u05e3 \\u05e9\\u05d5\\u05d8\\u05e8\\u05d9\\u05dd \\u05db\\u05e9\\u05d4\\u05dd \\u05de\\u05de\\u05dc\\u05d0\\u05d9\\u05dd \\u05d0\\u05ea \\u05ea\\u05e4\\u05e7\\u05d9\\u05d3\\u05dd \\u05db\\u05d7\\u05d5\\u05e7, \\u05d1\\u05d4\\u05d9\\u05d5\\u05ea\\u05dd \\u05d1\\u05e6\\u05d5\\u05d5\\u05ea\\u05d0 \\u05d7\\u05d3\\u05d0 \\u05e2\\u05dd \\u05d9\\u05d5\\u05ea\\u05e8 \\u05de\\u05e9\\u05e0\\u05d9 \\u05d0\\u05e0\\u05e9\\u05d9\\u05dd, \\u05db\\u05e9\\u05d4\\u05dd \\u05de\\u05d6\\u05d5\\u05d9\\u05d9\\u05e0\\u05d9\\u05dd \\u05d1\\u05d0\\u05d1\\u05df, \\u05d1\\u05db\\u05d5\\u05d5\\u05e0\\u05d4 \\u05dc\\u05d4\\u05e4\\u05e8\\u05d9\\u05e2 \\u05dc\\u05e9\\u05d5\\u05d8\\u05e8\\u05d9\\u05dd \\u05d1\\u05de\\u05d9\\u05dc\\u05d5\\u05d9 \\u05ea\\u05e4\\u05e7\\u05d9\\u05d3\\u05dd. 3. \\u05d1\\u05d9\\u05d5\\u05dd 10.2.2014, \\u05d4\\u05d5\\u05d3\\u05d5 \\u05d4\\u05de\\u05d1\\u05e7\\u05e9\\u05d9\\u05dd \\u05d1\\u05e2\\u05d5\\u05d1\\u05d3\\u05d5\\u05ea \\u05db\\u05ea\\u05d1 \\u05d4\\u05d0\\u05d9\\u05e9\\u05d5\\u05dd, \\u05d5\\u05e2\\u05dc \\u05d9\\u05e1\\u05d5\\u05d3 \\u05d4\\u05d5\\u05d3\\u05d0\\u05ea\\u05dd \\u05d6\\u05d5, \\u05e7\\u05d1\\u05e2 \\u05d1\\u05d9\\u05ea \\u05de\\u05e9\\u05e4\\u05d8 \\u05d4\\u05e9\\u05dc\\u05d5\\u05dd, \\u05db\\u05d9 \\u05d4\\u05de\\u05d1\\u05e7\\u05e9\\u05d9\\u05dd \\u05d1\\u05d9\\u05e6\\u05e2\\u05d5 \\u05d0\\u05ea \\u05d4\\u05e2\\u05d1\\u05d9\\u05e8\\u05d5\\u05ea \\u05e9\\u05d9\\u05d5\\u05d7\\u05e1\\u05d5 \\u05dc\\u05d4\\u05dd \\u05d1\\u05db\\u05ea\\u05d1 \\u05d4\\u05d0\\u05d9\\u05e9\\u05d5\\u05dd, \\u05d5\\u05d4\\u05d5\\u05e8\\u05d4 \\u05e2\\u05dc \\u05e7\\u05d1\\u05dc\\u05ea \\u05ea\\u05e1\\u05e7\\u05d9\\u05e8 \\u05e9\\u05d9\\u05e8\\u05d5\\u05ea \\u05de\\u05d1\\u05d7\\u05df, \\u05d1\\u05e2\\u05e0\\u05d9\\u05d9\\u05e0\\u05dd \\u05e9\\u05dc \\u05d4\\u05de\\u05d1\\u05e7\\u05e9\\u05d9\\u05dd. 4. \\u05d1\\u05d9\\u05d5\\u05dd 17.6.2014, \\u05d4\\u05d7\\u05dc\\u05d9\\u05d8 \\u05d1\\u05d9\\u05ea \\u05de\\u05e9\\u05e4\\u05d8 \\u05d4\\u05e9\\u05dc\\u05d5\\u05dd, \\u05dc\\u05d0\\u05de\\u05e5 \\u05d0\\u05ea \\u05d4\\u05de\\u05dc\\u05e6\\u05ea \\u05e9\\u05d9\\u05e8\\u05d5\\u05ea \\u05d4\\u05de\\u05d1\\u05d7\\u05df, \\u05d1\\u05e2\\u05e0\\u05d9\\u05d9\\u05e0\\u05dd \\u05e9\\u05dc \\u05d4\\u05de\\u05d1\\u05e7\\u05e9\\u05d9\\u05dd, \\u05d5\\u05dc\\u05d4\\u05d9\\u05de\\u05e0\\u05e2 \\u05de\\u05d4\\u05e8\\u05e9\\u05e2\\u05ea\\u05dd \\u05d1\\u05e2\\u05d1\\u05d9\\u05e8\\u05d5\\u05ea \\u05d0\\u05d5\\u05ea\\u05df \\u05d1\\u05d9\\u05e6\\u05e2\\u05d5. \\u05d1\\u05d4\\u05de\\u05e9\\u05da, \\u05d4\\u05d7\\u05dc\\u05d9\\u05d8 \\u05d1\\u05d9\\u05ea \\u05de\\u05e9\\u05e4\\u05d8 \\u05d4\\u05e9\\u05dc\\u05d5\\u05dd \\u05dc\\u05e0\\u05e7\\u05d5\\u05d8 \\u05db\\u05dc\\u05e4\\u05d9 \\u05d4\\u05de\\u05d1\\u05e7\\u05e9\\u05d9\\u05dd \\u05d1\\u05d3\\u05e8\\u05db\\u05d9 \\u05d8\\u05d9\\u05e4\\u05d5\\u05dc \\u05dc\\u05e4\\u05d9 \\u05e1\\u05e2\\u05d9\\u05e3 26 \\u05dc\\u05d7\\u05d5\\u05e7 \\u05d4\\u05e0\\u05d5\\u05e2\\u05e8 (\\u05e9\\u05e4\\u05d9\\u05d8\\u05d4, \\u05e2\\u05e0\\u05d9\\u05e9\\u05d4 \\u05d5\\u05d3\\u05e8\\u05db\\u05d9 \\u05d8\\u05d9\\u05e4\\u05d5\\u05dc), \\u05d4\\u05ea\\u05e9\\u05dc\\\"\\u05d0 \\u2013 1971. \\u05d1\\u05d4\\u05e7\\u05e9\\u05e8 \\u05d6\\u05d4, \\u05e6\\u05d9\\u05d9\\u05df \\u05d1\\u05d9\\u05ea \\u05de\\u05e9\\u05e4\\u05d8 \\u05d4\\u05e9\\u05dc\\u05d5\\u05dd, \\u05db\\u05d9 \\\"\\u05de\\u05d3\\u05d5\\u05d1\\u05e8 \\u05d1\\u05e0\\u05d0\\u05e9\\u05de\\u05d9\\u05dd \\u05d0\\u05e9\\u05e8 \\u05e0\\u05d8\\u05dc\\u05d5 \\u05d0\\u05d7\\u05e8\\u05d9\\u05d5\\u05ea \\u05e2\\u05dc \\u05de\\u05e2\\u05e9\\u05d9\\u05d4\\u05dd, \\u05d4\\u05d1\\u05d9\\u05e2\\u05d5 \\u05d7\\u05e8\\u05d8\\u05d4. \\u05d4\\u05ea\\u05e1\\u05e7\\u05d9\\u05e8 \\u05e9\\u05e0\\u05d9\\u05ea\\u05df \\u05d1\\u05e2\\u05e0\\u05d9\\u05d9\\u05e0\\u05dd \\u05d4\\u05d9\\u05e0\\u05d5 \\u05ea\\u05e1\\u05e7\\u05d9\\u05e8 \\u05d7\\u05d9\\u05d5\\u05d1\\u05d9 \\u05d5\\u05de\\u05ea\\u05d9\\u05d9\\u05d7\\u05e1 \\u05dc\\u05e4\\u05df \\u05d4\\u05e9\\u05d9\\u05e7\\u05d5\\u05de\\u05d9 \\u05d8\\u05d9\\u05e4\\u05d5\\u05dc\\u05d9 \\u05d4\\u05e0\\u05d5\\u05d2\\u05e2 \\u05e1\\u05e4\\u05e6\\u05d9\\u05e4\\u05d9\\u05ea \\u05dc\\u05e2\\u05d1\\u05d9\\u05e8\\u05d5\\u05ea \\u05d4\\u05de\\u05d9\\u05d5\\u05d7\\u05e1\\u05d5\\u05ea \\u05dc\\u05d4\\u05dd. \\u05e9\\u05d9\\u05e8\\u05d5\\u05ea \\u05d4\\u05de\\u05d1\\u05d7\\u05df \\u05e6\\u05d9\\u05d9\\u05df \\u05d4\\u05e9\\u05ea\\u05ea\\u05e4\\u05d5\\u05ea \\u05e2\\u05e8\\u05d4 \\u05d5\\u05e4\\u05e2\\u05d9\\u05dc\\u05d4 \\u05de\\u05e6\\u05d9\\u05d3\\u05dd \\u05e9\\u05dc \\u05e9\\u05e0\\u05d9 \\u05d4\\u05e0\\u05d0\\u05e9\\u05de\\u05d9\\u05dd \\u05d1\\u05e1\\u05d3\\u05e0\\u05ea \\u05d7\\u05d5\\u05e7 \\u05d5\\u05de\\u05e9\\u05e4\\u05d8. \\u05d9\\u05d5\\u05d3\\u05d2\\u05e9 \\u05db\\u05d9 \\u05de\\u05d3\\u05d5\\u05d1\\u05e8 \\u05d1\\u05e0\\u05d0\\u05e9\\u05de\\u05d9\\u05dd \\u05d0\\u05e9\\u05e8 \\u05d6\\u05d4\\u05d5 \\u05dc\\u05d4\\u05dd \\u05de\\u05e2\\u05de\\u05d3 \\u05e8\\u05d0\\u05e9\\u05d5\\u05df \\u05d1\\u05d1\\u05d9\\u05ea \\u05d4\\u05de\\u05e9\\u05e4\\u05d8, \\u05d5\\u05d1\\u05d0\\u05d9\\u05e8\\u05d5\\u05e2 \\u05dc\\u05e4\\u05e0\\u05d9 \\u05de\\u05e2\\u05dc \\u05dc\\u05e9\\u05e0\\u05d4. \\u05d0\\u05d9\\u05df \\u05d0\\u05d9\\u05e0\\u05d3\\u05d9\\u05e7\\u05e6\\u05d9\\u05d4 \\u05dc\\u05d4\\u05e1\\u05ea\\u05d1\\u05db\\u05d5\\u05d9\\u05d5\\u05ea \\u05e0\\u05d5\\u05e1\\u05e4\\u05d5\\u05ea \\u05de\\u05e6\\u05d9\\u05d3\\u05dd\\\". 5. \\u05d1\\u05d2\\u05d6\\u05e8 \\u05d3\\u05d9\\u05e0\\u05d5, \\u05e7\\u05d1\\u05e2 \\u05d1\\u05d9\\u05ea \\u05de\\u05e9\\u05e4\\u05d8 \\u05d4\\u05e9\\u05dc\\u05d5\\u05dd, \\u05db\\u05d9 \\u05d4\\u05de\\u05d1\\u05e7\\u05e9\\u05d9\\u05dd \\u05d9\\u05d7\\u05ea\\u05de\\u05d5 \\u05db\\u05dc \\u05d0\\u05d7\\u05d3 \\u05e2\\u05dc \\u05d4\\u05ea\\u05d7\\u05d9\\u05d9\\u05d1\\u05d5\\u05ea \\u05e2\\u05e6\\u05de\\u05d9\\u05ea \\u05d1\\u05e1\\u05da 1,000 \\u20aa, \\u05dc\\u05e4\\u05d9\\u05d4 \\u05d9\\u05de\\u05e0\\u05e2\\u05d5 \\u05d1\\u05de\\u05e9\\u05da \\u05e9\\u05e0\\u05d4, \\u05de\\u05d1\\u05d9\\u05e6\\u05d5\\u05e2 \\u05d4\\u05e2\\u05d1\\u05d9\\u05e8\\u05d5\\u05ea \\u05d1\\u05d4\\u05df \\u05e0\\u05e7\\u05d1\\u05e2\\u05d4 \\u05d0\\u05d7\\u05e8\\u05d9\\u05d5\\u05ea\\u05dd; \\u05d5\\u05d4\\u05d5\\u05e8\\u05d4 \\u05e2\\u05dc \\u05d4\\u05e2\\u05de\\u05d3\\u05ea \\u05d4\\u05de\\u05d1\\u05e7\\u05e9\\u05d9\\u05dd \\u05d1\\u05e6\\u05d5 \\u05de\\u05d1\\u05d7\\u05df \\u05dc\\u05ea\\u05e7\\u05d5\\u05e4\\u05d4 \\u05d1\\u05ea \\u05e9\\u05d9\\u05e9\\u05d4 \\u05d7\\u05d5\\u05d3\\u05e9\\u05d9\\u05dd, \\u05d1\\u05de\\u05d4\\u05dc\\u05db\\u05d5 \\u05d9\\u05e9\\u05dc\\u05d9\\u05de\\u05d5 \\u05d4\\u05de\\u05d1\\u05e7\\u05e9\\u05d9\\u05dd \\u05d0\\u05ea \\u05e1\\u05d3\\u05e0\\u05ea \\u05d7\\u05d5\\u05e7 \\u05d5\\u05de\\u05e9\\u05e4\\u05d8 \\u05d1\\u05d4 \\u05d4\\u05d7\\u05dc\\u05d5. \\u05dc\\u05e6\\u05d3 \\u05d6\\u05d0\\u05ea, \\u05d4\\u05d8\\u05d9\\u05dc \\u05d1\\u05d9\\u05ea \\u05de\\u05e9\\u05e4\\u05d8 \\u05d4\\u05e9\\u05dc\\u05d5\\u05dd \\u05e2\\u05dc \\u05d4\\u05de\\u05d1\\u05e7\\u05e9 1 \\u05dc\\u05d1\\u05e6\\u05e2 \\u05e9\\u05d9\\u05e8\\u05d5\\u05ea \\u05dc\\u05ea\\u05d5\\u05e2\\u05dc\\u05ea \\u05d4\\u05e6\\u05d9\\u05d1\\u05d5\\u05e8, \\u05d1\\u05d4\\u05d9\\u05e7\\u05e3 \\u05e9\\u05dc 150 \\u05e9\\u05e2\\u05d5\\u05ea; \\u05d5\\u05e2\\u05dc \\u05d4\\u05de\\u05d1\\u05e7\\u05e9 2 \\u05d4\\u05d8\\u05d9\\u05dc \\u05dc\\u05d1\\u05e6\\u05e2 \\u05e9\\u05d9\\u05e8\\u05d5\\u05ea \\u05dc\\u05ea\\u05d5\\u05e2\\u05dc\\u05ea \\u05d4\\u05e6\\u05d9\\u05d1\\u05d5\\u05e8, \\u05d1\\u05d4\\u05d9\\u05e7\\u05e3 \\u05e9\\u05dc 120 \\u05e9\\u05e2\\u05d5\\u05ea. \\u05d1\\u05d9\\u05ea \\u05de\\u05e9\\u05e4\\u05d8 \\u05d4\\u05e9\\u05dc\\u05d5\\u05dd \\u05d4\\u05d7\\u05dc\\u05d9\\u05d8 \\u05e2\\u05dc \\u05d4\\u05d9\\u05e7\\u05e3 \\u05e9\\u05e2\\u05d5\\u05ea \\u05e9\\u05d5\\u05e0\\u05d4, \\u05dc\\u05e0\\u05d5\\u05db\\u05d7 \\u05d4\\u05d1\\u05d3\\u05dc\\u05d9 \\u05d4\\u05d2\\u05d9\\u05dc \\u05d1\\u05d9\\u05df \\u05d4\\u05de\\u05d1\\u05e7\\u05e9\\u05d9\\u05dd: \\u05d4\\u05de\\u05d1\\u05e7\\u05e9 1 \\u05d4\\u05d9\\u05d4 \\u05db\\u05d1\\u05df 17 \\u05d5\\u05d0\\u05e8\\u05d1\\u05e2\\u05d4 \\u05d7\\u05d5\\u05d3\\u05e9\\u05d9\\u05dd \\u05d1\\u05de\\u05d5\\u05e2\\u05d3 \\u05d1\\u05d9\\u05e6\\u05d5\\u05e2 \\u05d4\\u05e2\\u05d1\\u05d9\\u05e8\\u05d5\\u05ea, \\u05d5\\u05d0\\u05d9\\u05dc\\u05d5 \\u05d4\\u05de\\u05d1\\u05e7\\u05e9 2 \\u05d4\\u05d9\\u05d4 \\u05db\\u05d1\\u05df 16 \\u05d1\\u05de\\u05d5\\u05e2\\u05d3 \\u05d6\\u05d4. \\u05e0\\u05d5\\u05e1\\u05e3 \\u05e2\\u05dc \\u05db\\u05da, \\u05d4\\u05e9\\u05d9\\u05ea \\u05d1\\u05d9\\u05ea \\u05d4\\u05de\\u05e9\\u05e4\\u05d8 \\u05e2\\u05dc \\u05db\\u05dc \\u05d0\\u05d7\\u05d3 \\u05de\\u05df \\u05d4\\u05de\\u05d1\\u05e7\\u05e9\\u05d9\\u05dd \\u05e7\\u05e0\\u05e1 \\u05d1\\u05e1\\u05da \\u05e9\\u05dc 3,600 \\u20aa \\u05d0\\u05d5 30 \\u05d9\\u05de\\u05d9 \\u05de\\u05d0\\u05e1\\u05e8 \\u05ea\\u05de\\u05d5\\u05e8\\u05ea\\u05d5. 6. \\u05d4\\u05de\\u05e9\\u05d9\\u05d1\\u05d4 \\u05dc\\u05d0 \\u05d4\\u05e9\\u05dc\\u05d9\\u05de\\u05d4 \\u05e2\\u05dd \\u05ea\\u05d5\\u05e6\\u05d0\\u05d4 \\u05d6\\u05d5, \\u05d5\\u05d4\\u05d2\\u05d9\\u05e9\\u05d4 \\u05e2\\u05e8\\u05e2\\u05d5\\u05e8 \\u05dc\\u05d1\\u05d9\\u05ea \\u05d4\\u05de\\u05e9\\u05e4\\u05d8 \\u05d4\\u05de\\u05d7\\u05d5\\u05d6\\u05d9 \\u05d1\\u05d9\\u05e8\\u05d5\\u05e9\\u05dc\\u05d9\\u05dd, \\u05d1\\u05de\\u05e1\\u05d2\\u05e8\\u05ea\\u05d5 \\u05d1\\u05d9\\u05e7\\u05e9\\u05d4 \\u05dc\\u05d4\\u05e8\\u05e9\\u05d9\\u05e2 \\u05d0\\u05ea \\u05d4\\u05de\\u05d1\\u05e7\\u05e9\\u05d9\\u05dd \\u05d1\\u05d3\\u05d9\\u05df, \\u05d5\\u05dc\\u05d4\\u05e9\\u05d9\\u05ea \\u05e2\\u05dc\\u05d9\\u05d4\\u05dd \\u05e2\\u05d5\\u05e0\\u05e9\\u05d9 \\u05de\\u05d0\\u05e1\\u05e8 \\u05d1\\u05e4\\u05d5\\u05e2\\u05dc. \\u05dc\\u05d8\\u05e2\\u05e0\\u05ea \\u05d4\\u05de\\u05e9\\u05d9\\u05d1\\u05d4, \\u05d1\\u05d9\\u05ea \\u05de\\u05e9\\u05e4\\u05d8 \\u05d4\\u05e9\\u05dc\\u05d5\\u05dd \\u05dc\\u05d0 \\u05e0\\u05ea\\u05df \\u05de\\u05e9\\u05e7\\u05dc \\u05e8\\u05d0\\u05d5\\u05d9 \\u05dc\\u05e0\\u05e1\\u05d9\\u05d1\\u05d5\\u05ea \\u05d4\\u05d7\\u05de\\u05d5\\u05e8\\u05d5\\u05ea \\u05e9\\u05dc \\u05de\\u05e2\\u05e9\\u05d9 \\u05d4\\u05de\\u05d1\\u05e7\\u05e9\\u05d9\\u05dd, \\u05d0\\u05e9\\u05e8 \\u05e0\\u05e2\\u05e9\\u05d5 \\u05d1\\u05e1\\u05d9\\u05d5\\u05dd \\u05ea\\u05e4\\u05d9\\u05dc\\u05d5\\u05ea \\u05d9\\u05d5\\u05dd \\u05d4\\u05e9\\u05d9\\u05e9\\u05d9 \\u05d1\\u05d4\\u05e8 \\u05d4\\u05d1\\u05d9\\u05ea, \\u05e2\\u05dc \\u05db\\u05dc \\u05d4\\u05de\\u05e9\\u05de\\u05e2\\u05d5\\u05d9\\u05d5\\u05ea \\u05d4\\u05e0\\u05dc\\u05d5\\u05d5\\u05ea \\u05dc\\u05db\\u05da; \\u05db\\u05d9 \\u05d0\\u05d9 \\u05d4\\u05e8\\u05e9\\u05e2\\u05ea \\u05d4\\u05de\\u05d1\\u05e7\\u05e9\\u05d9\\u05dd \\u05de\\u05e9\\u05d3\\u05e8\\u05ea \\u05de\\u05e1\\u05e8 \\u05e1\\u05dc\\u05d7\\u05e0\\u05d9 \\u05d5\\u05e4\\u05d5\\u05d2\\u05e2\\u05ea \\u05d1\\u05d0\\u05e4\\u05e7\\u05d8 \\u05d4\\u05d4\\u05e8\\u05ea\\u05e2\\u05d4; \\u05d5\\u05db\\u05d9 \\u05d4\\u05e2\\u05d5\\u05d1\\u05d3\\u05d4 \\u05e9\\u05d4\\u05de\\u05d1\\u05e7\\u05e9\\u05d9\\u05dd \\u05d4\\u05dd \\u05e7\\u05d8\\u05d9\\u05e0\\u05d9\\u05dd \\u05d0\\u05d9\\u05e0\\u05d4 \\u05de\\u05d4\\u05d5\\u05d5\\u05d4 \\u05d7\\u05e1\\u05d9\\u05e0\\u05d5\\u05ea \\u05de\\u05e4\\u05e0\\u05d9 \\u05d4\\u05e8\\u05e9\\u05e2\\u05d4. 7. \\u05d1\\u05d9\\u05ea \\u05d4\\u05de\\u05e9\\u05e4\\u05d8 \\u05d4\\u05de\\u05d7\\u05d5\\u05d6\\u05d9 \\u05e7\\u05d9\\u05d1\\u05dc \\u05d0\\u05ea \\u05d4\\u05e2\\u05e8\\u05e2\\u05d5\\u05e8, \\u05d5\\u05e7\\u05d1\\u05e2 \\u05db\\u05d9 \\u05d9\\u05e9 \\u05dc\\u05d4\\u05e8\\u05e9\\u05d9\\u05e2 \\u05d0\\u05ea \\u05d4\\u05de\\u05d1\\u05e7\\u05e9\\u05d9\\u05dd, \\u05d5\\u05dc\\u05d4\\u05d8\\u05d9\\u05dc \\u05e2\\u05dc\\u05d9\\u05d4\\u05dd \\u05e2\\u05d5\\u05e0\\u05e9\\u05d9 \\u05de\\u05d0\\u05e1\\u05e8 \\u05d1\\u05e4\\u05d5\\u05e2\\u05dc. \\u05d1\\u05de\\u05e1\\u05d2\\u05e8\\u05ea \\u05e4\\u05e1\\u05e7 \\u05d3\\u05d9\\u05e0\\u05d5, \\u05e0\\u05ea\\u05df \\u05d1\\u05d9\\u05ea \\u05d4\\u05de\\u05e9\\u05e4\\u05d8 \\u05d4\\u05de\\u05d7\\u05d5\\u05d6\\u05d9 \\u05d0\\u05ea \\u05d3\\u05e2\\u05ea\\u05d5 \\u05dc\\u05d7\\u05d5\\u05de\\u05e8\\u05ea \\u05d4\\u05de\\u05e2\\u05e9\\u05d9\\u05dd \\u05e9\\u05d9\\u05d5\\u05d7\\u05e1\\u05d5 \\u05dc\\u05de\\u05d1\\u05e7\\u05e9\\u05d9\\u05dd, \\u05d5\\u05e7\\u05d1\\u05e2, \\u05db\\u05d9 \\\"\\u05dc\\u05e0\\u05d5\\u05db\\u05d7 \\u05e9\\u05db\\u05d9\\u05d7\\u05d5\\u05ea \\u05e1\\u05d5\\u05d2 \\u05d4\\u05e2\\u05d1\\u05d9\\u05e8\\u05d5\\u05ea \\u05e9\\u05d4\\u05de\\u05e9\\u05d9\\u05d1\\u05d9\\u05dd \\u05d1\\u05d9\\u05e6\\u05e2\\u05d5...\\u05d5\\u05dc\\u05e0\\u05d5\\u05db\\u05d7 \\u05e0\\u05e1\\u05d9\\u05d1\\u05d5\\u05ea \\u05d1\\u05d9\\u05e6\\u05d5\\u05e2\\u05df...\\u05d4\\u05d9\\u05d4 \\u05de\\u05e7\\u05d5\\u05dd \\u05dc\\u05ea\\u05ea \\u05d1\\u05db\\u05d5\\u05e8\\u05d4 \\u05dc\\u05e9\\u05d9\\u05e7\\u05d5\\u05dc\\u05d9 \\u05d2\\u05de\\u05d5\\u05dc \\u05d5\\u05d4\\u05e8\\u05ea\\u05e2\\u05d4 \\u05d5\\u05dc\\u05d4\\u05e2\\u05d3\\u05d9\\u05e4\\u05dd \\u05e2\\u05dc \\u05e4\\u05e0\\u05d9 \\u05d4\\u05e9\\u05d9\\u05e7\\u05d5\\u05dc\\u05d9\\u05dd \\u05d4\\u05e4\\u05e8\\u05d8\\u05e0\\u05d9\\u05d9\\u05dd \\u05e9\\u05dc \\u05d4\\u05de\\u05e9\\u05d9\\u05d1\\u05d9\\u05dd\\\". \\u05e2\\u05d5\\u05d3 \\u05e0\\u05e7\\u05d1\\u05e2, \\u05db\\u05d9 \\u05d2\\u05dd \\u05db\\u05d0\\u05e9\\u05e8 \\u05de\\u05d3\\u05d5\\u05d1\\u05e8 \\u05d1\\u05e7\\u05d8\\u05d9\\u05e0\\u05d9\\u05dd, \\u05d9\\u05e9 \\u05dc\\u05d4\\u05e2\\u05d3\\u05d9\\u05e3 \\u05d0\\u05ea \\u05d4\\u05d0\\u05d9\\u05e0\\u05d8\\u05e8\\u05e1 \\u05d4\\u05e6\\u05d9\\u05d1\\u05d5\\u05e8\\u05d9, \\u05d5\\u05dc\\u05d4\\u05d5\\u05e8\\u05d5\\u05ea \\u05e2\\u05dc \\u05d4\\u05e8\\u05e9\\u05e2\\u05ea \\u05de\\u05d1\\u05e6\\u05e2\\u05d9 \\u05d4\\u05e2\\u05d1\\u05d9\\u05e8\\u05d5\\u05ea, \\u05d5\\u05d6\\u05d0\\u05ea \\u05e2\\u05dc \\u05de\\u05e0\\u05ea \\u05dc\\u05e9\\u05e8\\u05e9 \\u05d0\\u05ea \\u05d4\\u05ea\\u05d5\\u05e4\\u05e2\\u05d4 \\u05d4\\u05d7\\u05de\\u05d5\\u05e8\\u05d4 \\u05e9\\u05dc \\u05d4\\u05ea\\u05e4\\u05e8\\u05e2\\u05d5\\u05d9\\u05d5\\u05ea \\u05d5\\u05d9\\u05d9\\u05d3\\u05d5\\u05d9 \\u05d0\\u05d1\\u05e0\\u05d9\\u05dd \\u05dc\\u05e2\\u05d1\\u05e8 \\u05db\\u05d5\\u05d7\\u05d5\\u05ea \\u05d4\\u05de\\u05e9\\u05d8\\u05e8\\u05d4. \\u05dc\\u05d0\\u05d7\\u05e8 \\u05d6\\u05d0\\u05ea, \\u05d4\\u05e8\\u05e9\\u05d9\\u05e2 \\u05d1\\u05d9\\u05ea \\u05d4\\u05de\\u05e9\\u05e4\\u05d8 \\u05d4\\u05de\\u05d7\\u05d5\\u05d6\\u05d9 \\u05d0\\u05ea \\u05d4\\u05de\\u05d1\\u05e7\\u05e9\\u05d9\\u05dd \\u05d1\\u05e2\\u05d1\\u05d9\\u05e8\\u05d5\\u05ea \\u05e9\\u05d9\\u05d5\\u05d7\\u05e1\\u05d5 \\u05dc\\u05d4\\u05dd \\u05d1\\u05db\\u05ea\\u05d1 \\u05d4\\u05d0\\u05d9\\u05e9\\u05d5\\u05dd. \\u05d0\\u05e9\\u05e8 \\u05dc\\u05e2\\u05d5\\u05e0\\u05e9, \\u05e6\\u05d9\\u05d9\\u05df \\u05d1\\u05d9\\u05ea \\u05d4\\u05de\\u05e9\\u05e4\\u05d8 \\u05d4\\u05de\\u05d7\\u05d5\\u05d6\\u05d9, \\u05db\\u05d9 \\u05de\\u05d0\\u05d7\\u05e8 \\u05e9\\u05de\\u05e2\\u05e9\\u05d9 \\u05d4\\u05de\\u05d1\\u05e7\\u05e9\\u05d9\\u05dd, \\u05d1\\u05de\\u05e7\\u05e8\\u05d4 \\u05d6\\u05d4, \\u05d4\\u05dd \\u05d7\\u05de\\u05d5\\u05e8\\u05d9\\u05dd \\u05d1\\u05d9\\u05d5\\u05ea\\u05e8 \\u2013 \\u05d0\\u05d9\\u05df \\u05d3\\u05d9 \\u05d1\\u05e9\\u05d9\\u05e8\\u05d5\\u05ea \\u05dc\\u05ea\\u05d5\\u05e2\\u05dc\\u05ea \\u05d4\\u05e6\\u05d9\\u05d1\\u05d5\\u05e8, \\u05d5\\u05e7\\u05d9\\u05d9\\u05de\\u05ea \\u05d4\\u05e6\\u05d3\\u05e7\\u05d4 \\u05dc\\u05d4\\u05d8\\u05d9\\u05dc \\u05e2\\u05dc\\u05d9\\u05d4\\u05dd \\u05e2\\u05d5\\u05e0\\u05e9\\u05d9 \\u05de\\u05d0\\u05e1\\u05e8 \\u05dc\\u05e8\\u05d9\\u05e6\\u05d5\\u05d9 \\u05d1\\u05e4\\u05d5\\u05e2\\u05dc. \\u05dc\\u05e4\\u05d9\\u05db\\u05da, \\u05d1\\u05d9\\u05d8\\u05dc \\u05d1\\u05d9\\u05ea \\u05d4\\u05de\\u05e9\\u05e4\\u05d8 \\u05d4\\u05de\\u05d7\\u05d5\\u05d6\\u05d9 \\u05d0\\u05ea \\u05d4\\u05e8\\u05db\\u05d9\\u05d1\\u05d9\\u05dd \\u05d1\\u05d2\\u05d6\\u05e8 \\u05d4\\u05d3\\u05d9\\u05df, \\u05e9\\u05e2\\u05e0\\u05d9\\u05d9\\u05e0\\u05dd \\u05d7\\u05ea\\u05d9\\u05de\\u05d4 \\u05e2\\u05dc \\u05d4\\u05ea\\u05d7\\u05d9\\u05d9\\u05d1\\u05d5\\u05ea \\u05e2\\u05e6\\u05de\\u05d9\\u05ea, \\u05d5\\u05e9\\u05d9\\u05e8\\u05d5\\u05ea \\u05dc\\u05ea\\u05d5\\u05e2\\u05dc\\u05ea \\u05d4\\u05e6\\u05d9\\u05d1\\u05d5\\u05e8, \\u05d5\\u05d1\\u05de\\u05e7\\u05d5\\u05de\\u05dd \\u05d4\\u05d8\\u05d9\\u05dc \\u05e2\\u05dc \\u05d4\\u05de\\u05d1\\u05e7\\u05e9 1 \\u05de\\u05d0\\u05e1\\u05e8 \\u05d1\\u05e4\\u05d5\\u05e2\\u05dc \\u05dc\\u05ea\\u05e7\\u05d5\\u05e4\\u05d4 \\u05e9\\u05dc \\u05e9\\u05dc\\u05d5\\u05e9\\u05d4 \\u05d5\\u05d7\\u05e6\\u05d9 \\u05d7\\u05d5\\u05d3\\u05e9\\u05d9\\u05dd, \\u05d5\\u05e2\\u05dc \\u05d4\\u05de\\u05d1\\u05e7\\u05e9 2 \\u05de\\u05d0\\u05e1\\u05e8 \\u05d1\\u05e4\\u05d5\\u05e2\\u05dc \\u05dc\\u05ea\\u05e7\\u05d5\\u05e4\\u05d4 \\u05e9\\u05dc \\u05e9\\u05dc\\u05d5\\u05e9\\u05d4 \\u05d7\\u05d5\\u05d3\\u05e9\\u05d9\\u05dd \\u05d5\\u05d9\\u05d5\\u05dd \\u05d0\\u05d7\\u05d3. \\u05db\\u05de\\u05d5 \\u05db\\u05df, \\u05d4\\u05e9\\u05d9\\u05ea \\u05d1\\u05d9\\u05ea \\u05d4\\u05de\\u05e9\\u05e4\\u05d8 \\u05d4\\u05de\\u05d7\\u05d5\\u05d6\\u05d9 \\u05e2\\u05dc \\u05d4\\u05de\\u05d1\\u05e7\\u05e9\\u05d9\\u05dd \\u05de\\u05d0\\u05e1\\u05e8 \\u05de\\u05d5\\u05ea\\u05e0\\u05d4 \\u05d1\\u05df 3 \\u05d7\\u05d5\\u05d3\\u05e9\\u05d9\\u05dd, \\u05dc\\u05de\\u05e9\\u05da \\u05e9\\u05e0\\u05ea\\u05d9\\u05d9\\u05dd, \\u05dc\\u05d1\\u05dc \\u05d9\\u05e2\\u05d1\\u05e8\\u05d5 \\u05d4\\u05e2\\u05d1\\u05d9\\u05e8\\u05d5\\u05ea \\u05d1\\u05d4\\u05df \\u05d4\\u05d5\\u05e8\\u05e9\\u05e2\\u05d5 \\u05d1\\u05ea\\u05d9\\u05e7 \\u05d6\\u05d4. \\u05d9\\u05ea\\u05e8 \\u05e8\\u05db\\u05d9\\u05d1\\u05d9 \\u05d4\\u05e2\\u05d5\\u05e0\\u05e9, \\u05d0\\u05e9\\u05e8 \\u05e0\\u05e7\\u05d1\\u05e2\\u05d5 \\u05d1\\u05d2\\u05d6\\u05e8 \\u05d3\\u05d9\\u05e0\\u05d5 \\u05e9\\u05dc \\u05d1\\u05d9\\u05ea \\u05de\\u05e9\\u05e4\\u05d8 \\u05d4\\u05e9\\u05dc\\u05d5\\u05dd, \\u05e0\\u05d5\\u05ea\\u05e8\\u05d5 \\u05d1\\u05e2\\u05d9\\u05e0\\u05dd. \\u05d4\\u05d1\\u05e7\\u05e9\\u05d4 \\u05dc\\u05e8\\u05e9\\u05d5\\u05ea \\u05e2\\u05e8\\u05e2\\u05d5\\u05e8 8. \\u05d1\\u05d1\\u05e7\\u05e9\\u05d4 \\u05e9\\u05dc\\u05e4\\u05e0\\u05d9\\u05d9, \\u05e0\\u05d8\\u05e2\\u05df, \\u05db\\u05d9 \\u05e4\\u05e1\\u05e7 \\u05d3\\u05d9\\u05e0\\u05d5 \\u05e9\\u05dc \\u05d1\\u05d9\\u05ea \\u05d4\\u05de\\u05e9\\u05e4\\u05d8 \\u05d4\\u05de\\u05d7\\u05d5\\u05d6\\u05d9 \\\"\\u05e1\\u05d5\\u05ea\\u05e8\\\" \\u05d0\\u05ea \\u05e2\\u05e7\\u05e8\\u05d5\\u05df \\u05d4\\u05e9\\u05d5\\u05d5\\u05d9\\u05d5\\u05df, \\u05de\\u05de\\u05e0\\u05d5 \\u05e0\\u05d2\\u05d6\\u05e8 \\u05e2\\u05e7\\u05e8\\u05d5\\u05df \\u05d0\\u05d7\\u05d9\\u05d3\\u05d5\\u05ea \\u05d4\\u05e2\\u05e0\\u05d9\\u05e9\\u05d4. \\u05e6\\u05d5\\u05d9\\u05d9\\u05df, \\u05dc\\u05e2\\u05e0\\u05d9\\u05d9\\u05df \\u05d6\\u05d4, \\u05db\\u05d9 \\u05d1\\u05d2\\u05d9\\u05df \\u05d4\\u05d4\\u05ea\\u05e4\\u05e8\\u05e2\\u05d5\\u05d9\\u05d5\\u05ea \\u05e9\\u05d4\\u05ea\\u05e8\\u05d7\\u05e9\\u05d5 \\u05d1\\u05d9\\u05d5\\u05dd 8.3.2013, \\u05d4\\u05d5\\u05d2\\u05e9\\u05d5 \\u05e9\\u05dc\\u05d5\\u05e9\\u05d4 \\u05db\\u05ea\\u05d1\\u05d9 \\u05d0\\u05d9\\u05e9\\u05d5\\u05dd: \\u05db\\u05ea\\u05d1 \\u05d0\\u05d9\\u05e9\\u05d5\\u05dd \\u05e0\\u05d2\\u05d3 7 \\u05d1\\u05d2\\u05d9\\u05e8\\u05d9\\u05dd; \\u05db\\u05ea\\u05d1 \\u05d0\\u05d9\\u05e9\\u05d5\\u05dd \\u05e0\\u05d2\\u05d3 \\u05e7\\u05d8\\u05d9\\u05df \\u05e0\\u05d5\\u05e1\\u05e3 \\u05d1\\u05d1\\u05d9\\u05ea \\u05de\\u05e9\\u05e4\\u05d8 \\u05d4\\u05e9\\u05dc\\u05d5\\u05dd \\u05dc\\u05e0\\u05d5\\u05e2\\u05e8; \\u05d5\\u05db\\u05ea\\u05d1 \\u05d0\\u05d9\\u05e9\\u05d5\\u05dd \\u05d1\\u05e2\\u05e0\\u05d9\\u05d9\\u05e0\\u05dd \\u05e9\\u05dc \\u05d4\\u05de\\u05d1\\u05e7\\u05e9\\u05d9\\u05dd. \\u05d4\\u05de\\u05d1\\u05e7\\u05e9\\u05d9\\u05dd \\u05e1\\u05d1\\u05d5\\u05e8\\u05d9\\u05dd, \\u05db\\u05d9 \\u05d1\\u05e9\\u05dc \\u05d4\\u05e2\\u05d5\\u05d1\\u05d3\\u05d4, \\u05e9\\u05e4\\u05e1\\u05e7 \\u05d4\\u05d3\\u05d9\\u05df \\u05d1\\u05e2\\u05e8\\u05e2\\u05d5\\u05e8 \\u05e0\\u05d9\\u05ea\\u05df \\u05d1\\u05d6\\u05de\\u05df \\u05e9\\u05dc \\u05e8\\u05d9\\u05d1\\u05d5\\u05d9 \\u05d4\\u05ea\\u05e4\\u05e8\\u05e2\\u05d5\\u05d9\\u05d5\\u05ea \\u05d5\\u05d4\\u05e4\\u05e8\\u05d5\\u05ea \\u05e1\\u05d3\\u05e8 \\u05d1\\u05d9\\u05e8\\u05d5\\u05e9\\u05dc\\u05d9\\u05dd \\u2013 \\u05d4\\u05e2\\u05d5\\u05e0\\u05e9\\u05d9\\u05dd \\u05d0\\u05e9\\u05e8 \\u05d4\\u05d5\\u05d8\\u05dc\\u05d5 \\u05e2\\u05dc\\u05d9\\u05d4\\u05dd \\u05d7\\u05de\\u05d5\\u05e8\\u05d9\\u05dd \\u05de\\u05d0\\u05dc\\u05d4 \\u05e9\\u05d4\\u05d5\\u05d8\\u05dc\\u05d5 \\u05e2\\u05dc \\u05d4\\u05d1\\u05d2\\u05d9\\u05e8\\u05d9\\u05dd \\u05d5\\u05e2\\u05dc \\u05d4\\u05e7\\u05d8\\u05d9\\u05df \\u05d4\\u05e0\\u05d5\\u05e1\\u05e3. \\u05db\\u05de\\u05d5 \\u05db\\u05df, \\u05dc\\u05d8\\u05e2\\u05e0\\u05ea \\u05d4\\u05de\\u05d1\\u05e7\\u05e9\\u05d9\\u05dd, \\u05d1\\u05e7\\u05e9\\u05ea\\u05dd \\u05de\\u05e6\\u05d3\\u05d9\\u05e7\\u05d4 \\u05e8\\u05e9\\u05d5\\u05ea \\u05e2\\u05e8\\u05e2\\u05d5\\u05e8, \\u05e9\\u05db\\u05df \\u05d6\\u05d5 \\u05de\\u05e2\\u05dc\\u05d4 \\u05e9\\u05d0\\u05dc\\u05d4 \\u05de\\u05e9\\u05e4\\u05d8\\u05d9\\u05ea \\u05e2\\u05e7\\u05e8\\u05d5\\u05e0\\u05d9\\u05ea, \\u05d4\\u05e0\\u05d5\\u05d2\\u05e2\\u05ea \\u05dc\\u05de\\u05d3\\u05d9\\u05e0\\u05d9\\u05d5\\u05ea \\u05d4\\u05e2\\u05e0\\u05d9\\u05e9\\u05d4 \\u05d4\\u05e8\\u05d0\\u05d5\\u05d9\\u05d4 \\u05d1\\u05e2\\u05d1\\u05d9\\u05e8\\u05d5\\u05ea \\u05db\\u05d2\\u05d5\\u05df \\u05d3\\u05d0; \\u05d5\\u05dc\\u05e0\\u05d5\\u05db\\u05d7 \\u05d4\\u05e4\\u05e2\\u05e8 \\u05d4\\u05d7\\u05e8\\u05d9\\u05d2 \\u05d1\\u05d9\\u05df \\u05e8\\u05de\\u05ea \\u05d4\\u05e2\\u05e0\\u05d9\\u05e9\\u05d4 \\u05e9\\u05e0\\u05e7\\u05d1\\u05e2\\u05d4 \\u05d1\\u05d1\\u05d9\\u05ea \\u05d4\\u05de\\u05e9\\u05e4\\u05d8 \\u05d4\\u05de\\u05d7\\u05d5\\u05d6\\u05d9, \\u05dc\\u05d1\\u05d9\\u05df \\u05d6\\u05d5 \\u05e9\\u05e0\\u05e7\\u05d1\\u05e2\\u05d4 \\u05d1\\u05d1\\u05d9\\u05ea \\u05de\\u05e9\\u05e4\\u05d8 \\u05d4\\u05e9\\u05dc\\u05d5\\u05dd. \\u05d1\\u05d4\\u05de\\u05e9\\u05da, \\u05d8\\u05e2\\u05e0\\u05d5 \\u05d4\\u05de\\u05d1\\u05e7\\u05e9\\u05d9\\u05dd \\u05db\\u05d9 \\u05d1\\u05d9\\u05ea \\u05d4\\u05de\\u05e9\\u05e4\\u05d8 \\u05d4\\u05de\\u05d7\\u05d5\\u05d6\\u05d9 \\u05e9\\u05d2\\u05d4, \\u05d1\\u05db\\u05da \\u05e9\\u05dc\\u05d0 \\u05d4\\u05ea\\u05d0\\u05d9\\u05dd \\u05d0\\u05ea \\u05d4\\u05e2\\u05e0\\u05d9\\u05e9\\u05d4 \\u05dc\\u05e0\\u05e1\\u05d9\\u05d1\\u05d5\\u05ea\\u05d9\\u05d4\\u05dd \\u05d4\\u05d0\\u05d9\\u05e9\\u05d9\\u05d5\\u05ea \\u05e9\\u05dc \\u05d4\\u05de\\u05d1\\u05e7\\u05e9\\u05d9\\u05dd, \\u05d5\\u05d1\\u05db\\u05dc\\u05dc \\u05d6\\u05d4 \\u05dc\\u05e9\\u05d9\\u05e7\\u05d5\\u05dc\\u05d9 \\u05e9\\u05d9\\u05e7\\u05d5\\u05dd, \\u05d5\\u05dc\\u05e2\\u05e6\\u05dd \\u05d4\\u05d9\\u05d5\\u05ea\\u05dd \\u05e9\\u05dc \\u05d4\\u05de\\u05d1\\u05e7\\u05e9\\u05d9\\u05dd \\u05e7\\u05d8\\u05d9\\u05e0\\u05d9\\u05dd \\u05d1\\u05de\\u05d5\\u05e2\\u05d3 \\u05d1\\u05d9\\u05e6\\u05d5\\u05e2 \\u05d4\\u05e2\\u05d1\\u05d9\\u05e8\\u05d5\\u05ea. \\u05d3\\u05d9\\u05d5\\u05df \\u05d5\\u05d4\\u05db\\u05e8\\u05e2\\u05d4 9. \\u05dc\\u05d0\\u05d7\\u05e8 \\u05e9\\u05e2\\u05d9\\u05d9\\u05e0\\u05ea\\u05d9 \\u05d1\\u05d1\\u05e7\\u05e9\\u05d4 \\u05dc\\u05e8\\u05e9\\u05d5\\u05ea \\u05e2\\u05e8\\u05e2\\u05d5\\u05e8 \\u05d5\\u05d1\\u05e0\\u05e1\\u05e4\\u05d7\\u05d9\\u05d4, \\u05d4\\u05d2\\u05e2\\u05ea\\u05d9 \\u05dc\\u05db\\u05dc\\u05dc \\u05de\\u05e1\\u05e7\\u05e0\\u05d4 \\u05db\\u05d9 \\u05d0\\u05d9\\u05df \\u05de\\u05e7\\u05d5\\u05dd \\u05dc\\u05d9\\u05ea\\u05df \\u05dc\\u05de\\u05d1\\u05e7\\u05e9\\u05d9\\u05dd \\u05e8\\u05e9\\u05d5\\u05ea \\u05e2\\u05e8\\u05e2\\u05d5\\u05e8 \\\"\\u05d1\\u05d2\\u05dc\\u05d2\\u05d5\\u05dc \\u05e9\\u05dc\\u05d9\\u05e9\\u05d9\\\". \\u05d4\\u05dc\\u05db\\u05d4 \\u05de\\u05d5\\u05e9\\u05e8\\u05e9\\u05ea \\u05d4\\u05d9\\u05d0, \\u05db\\u05d9 \\u05e8\\u05e9\\u05d5\\u05ea \\u05e2\\u05e8\\u05e2\\u05d5\\u05e8 \\u05ea\\u05d9\\u05e0\\u05ea\\u05df \\u05d1\\u05de\\u05e9\\u05d5\\u05e8\\u05d4, \\u05d5\\u05e8\\u05e7 \\u05d1\\u05de\\u05e7\\u05e8\\u05d9\\u05dd \\u05d0\\u05e9\\u05e8 \\u05de\\u05e2\\u05d5\\u05e8\\u05e8\\u05d9\\u05dd \\u05e1\\u05d5\\u05d2\\u05d9\\u05d4 \\u05de\\u05e9\\u05e4\\u05d8\\u05d9\\u05ea \\u05db\\u05d1\\u05d3\\u05ea \\u05de\\u05e9\\u05e7\\u05dc \\u05d0\\u05d5 \\u05d1\\u05e2\\u05dc\\u05ea \\u05d4\\u05e9\\u05e4\\u05e2\\u05d4 \\u05e8\\u05d7\\u05d1\\u05d4, \\u05d5\\u05db\\u05df \\u05d1\\u05de\\u05e7\\u05e8\\u05d9\\u05dd \\u05d7\\u05e8\\u05d9\\u05d2\\u05d9\\u05dd \\u05d0\\u05e9\\u05e8 \\u05de\\u05ea\\u05d2\\u05dc\\u05d4 \\u05d1\\u05d4\\u05dd \\u05d0\\u05d9-\\u05e6\\u05d3\\u05e7 \\u05d0\\u05d5 \\u05e2\\u05d9\\u05d5\\u05d5\\u05ea \\u05d3\\u05d9\\u05df \\u05db\\u05dc\\u05e4\\u05d9 \\u05d4\\u05de\\u05d1\\u05e7\\u05e9 (\\u05e8\\u05e2\\\"\\u05e4 8858/14 \\u05d9\\u05e2\\u05e7\\u05d5\\u05d1\\u05d5\\u05d1 \\u05e0\\\\' \\u05de\\u05d3\\u05d9\\u05e0\\u05ea \\u05d9\\u05e9\\u05e8\\u05d0\\u05dc (15.1.2015); \\u05e8\\u05e2\\\"\\u05e4 16/15 \\u05d1\\u05e1\\u05d9\\u05e8 \\u05e1\\u05e2\\u05d0\\u05d9\\u05d3\\u05d4 \\u05e0\\\\' \\u05de\\u05d3\\u05d9\\u05e0\\u05ea \\u05d9\\u05e9\\u05e8\\u05d0\\u05dc (13.1.2015); \\u05e8\\u05e2\\\"\\u05e4 8087/14 \\u05e0\\u05d3\\u05d9\\u05dd \\u05d0\\u05e0\\u05d2\\u05e0\\u05d0\\u05e5 \\u05e0\\\\' \\u05de\\u05d3\\u05d9\\u05e0\\u05ea \\u05d9\\u05e9\\u05e8\\u05d0\\u05dc (10.12.2014)). \\u05d4\\u05d1\\u05e7\\u05e9\\u05d4 \\u05e9\\u05dc\\u05e4\\u05e0\\u05d9\\u05d9 \\u05d0\\u05d9\\u05e0\\u05d4 \\u05d7\\u05d5\\u05e8\\u05d2\\u05ea \\u05de\\u05e2\\u05e0\\u05d9\\u05d9\\u05e0\\u05dd \\u05d4\\u05e4\\u05e8\\u05d8\\u05d9 \\u05e9\\u05dc \\u05d4\\u05de\\u05d1\\u05e7\\u05e9\\u05d9\\u05dd, \\u05d5\\u05d7\\u05e8\\u05e3 \\u05d4\\u05d0\\u05de\\u05d5\\u05e8 \\u05d1\\u05d4, \\u05e0\\u05e1\\u05d9\\u05d1\\u05d5\\u05ea \\u05d4\\u05de\\u05e7\\u05e8\\u05d4 \\u05d0\\u05d9\\u05e0\\u05df \\u05de\\u05e2\\u05d5\\u05e8\\u05e8\\u05d5\\u05ea \\u05db\\u05dc \\u05e9\\u05d0\\u05dc\\u05d4 \\u05de\\u05e9\\u05e4\\u05d8\\u05d9\\u05ea \\u05d4\\u05e2\\u05e9\\u05d5\\u05d9\\u05d4 \\u05dc\\u05d4\\u05e6\\u05d3\\u05d9\\u05e7 \\u05e8\\u05e9\\u05d5\\u05ea \\u05e2\\u05e8\\u05e2\\u05d5\\u05e8 \\u05d1\\u05e4\\u05e0\\u05d9 \\u05d1\\u05d9\\u05ea \\u05de\\u05e9\\u05e4\\u05d8 \\u05d6\\u05d4. \\u05db\\u05de\\u05d5 \\u05db\\u05df, \\u05dc\\u05d0 \\u05e2\\u05d5\\u05dc\\u05d4 \\u05d7\\u05e9\\u05e9 \\u05dc\\u05e2\\u05d9\\u05d5\\u05d5\\u05ea \\u05d3\\u05d9\\u05df \\u05db\\u05dc\\u05e4\\u05d9 \\u05d4\\u05de\\u05d1\\u05e7\\u05e9\\u05d9\\u05dd \\u05d0\\u05d5 \\u05db\\u05d9 \\u05de\\u05ea\\u05e7\\u05d9\\u05d9\\u05de\\u05d9\\u05dd \\u05e9\\u05d9\\u05e7\\u05d5\\u05dc\\u05d9 \\u05e6\\u05d3\\u05e7 \\u05db\\u05dc\\u05e4\\u05d9\\u05d4\\u05dd. \\u05d0\\u05e3 \\u05d0\\u05dd \\u05d1\\u05d9\\u05ea \\u05de\\u05e9\\u05e4\\u05d8 \\u05d4\\u05e9\\u05dc\\u05d5\\u05dd \\u05d5\\u05d1\\u05d9\\u05ea \\u05d4\\u05de\\u05e9\\u05e4\\u05d8 \\u05d4\\u05de\\u05d7\\u05d5\\u05d6\\u05d9 \\u05d4\\u05d2\\u05d9\\u05e2\\u05d5 \\u05dc\\u05de\\u05e1\\u05e7\\u05e0\\u05d5\\u05ea \\u05e9\\u05d5\\u05e0\\u05d5\\u05ea, \\u05d0\\u05d9\\u05df \\u05d1\\u05db\\u05da \\u05de\\u05e9\\u05d5\\u05dd \\u05d4\\u05e6\\u05d3\\u05e7\\u05d4 \\u05dc\\u05e7\\u05d9\\u05d9\\u05dd \\u05d3\\u05d9\\u05d5\\u05df \\u05e0\\u05d5\\u05e1\\u05e3 \\u05d1\\u05e2\\u05e0\\u05d9\\u05d9\\u05e0\\u05d5 \\u05e9\\u05dc \\u05d4\\u05de\\u05d1\\u05e7\\u05e9, \\u05d1\\u05e4\\u05e0\\u05d9 \\u05d1\\u05d9\\u05ea \\u05de\\u05e9\\u05e4\\u05d8 \\u05d6\\u05d4 (\\u05e8\\u05e2\\\"\\u05e4 4070/14 \\\\u200f\\u05e4\\u05dc\\u05d5\\u05e0\\u05d9\\u05ea \\u05e0\\\\' \\u05de\\u05d3\\u05d9\\u05e0\\u05ea \\u05d9\\u05e9\\u05e8\\u05d0\\u05dc (17.6.2014); \\u05e8\\u05e2\\\"\\u05e4 2180/14 \\u05e9\\u05de\\u05d5\\u05d0\\u05dc\\u05d9 \\u05e0\\\\' \\u05de\\u05d3\\u05d9\\u05e0\\u05ea \\u05d9\\u05e9\\u05e8\\u05d0\\u05dc (24.4.2014)). 10. \\u05d4\\u05d0\\u05e4\\u05e9\\u05e8\\u05d5\\u05ea \\u05d4\\u05e0\\u05ea\\u05d5\\u05e0\\u05d4 \\u05dc\\u05d1\\u05d9\\u05ea \\u05d4\\u05de\\u05e9\\u05e4\\u05d8 \\u05dc\\u05d4\\u05d9\\u05de\\u05e0\\u05e2 \\u05de\\u05d4\\u05e8\\u05e9\\u05e2\\u05ea\\u05d5 \\u05e9\\u05dc \\u05e0\\u05d0\\u05e9\\u05dd \\u05e9\\u05d1\\u05d9\\u05e6\\u05e2 \\u05e2\\u05d1\\u05d9\\u05e8\\u05d4, \\u05de\\u05e2\\u05d5\\u05d2\\u05e0\\u05ea \\u05d1\\u05e1\\u05e2\\u05d9\\u05e3 71\\u05d0(\\u05d1) \\u05dc\\u05d7\\u05d5\\u05e7 \\u05d4\\u05e2\\u05d5\\u05e0\\u05e9\\u05d9\\u05df, \\u05d5\\u05d4\\u05d9\\u05d0 \\u05de\\u05d4\\u05d5\\u05d5\\u05d4 \\u05d7\\u05e8\\u05d9\\u05d2 \\u05dc\\u05db\\u05dc\\u05dc, \\u05dc\\u05e4\\u05d9\\u05d5 \\u05de\\u05e9\\u05d4\\u05d5\\u05db\\u05d7 \\u05d1\\u05d9\\u05e6\\u05d5\\u05e2\\u05d4 \\u05e9\\u05dc \\u05e2\\u05d1\\u05d9\\u05e8\\u05d4 \\u05d9\\u05e9 \\u05dc\\u05d4\\u05e8\\u05e9\\u05d9\\u05e2 \\u05d0\\u05ea \\u05d4\\u05e0\\u05d0\\u05e9\\u05dd. \\u05d1\\u05de\\u05d9\\u05dc\\u05d9\\u05dd \\u05d0\\u05d7\\u05e8\\u05d5\\u05ea, \\u05ea\\u05d5\\u05e6\\u05d0\\u05d4 \\u05e9\\u05dc \\u05d4\\u05d9\\u05de\\u05e0\\u05e2\\u05d5\\u05ea \\u05de\\u05d4\\u05e8\\u05e9\\u05e2\\u05d4, \\u05d7\\u05e8\\u05e3 \\u05d4\\u05e7\\u05d1\\u05d9\\u05e2\\u05d4 \\u05db\\u05d9 \\u05d4\\u05e0\\u05d0\\u05e9\\u05dd \\u05d1\\u05d9\\u05e6\\u05e2 \\u05d0\\u05ea \\u05d4\\u05e2\\u05d1\\u05d9\\u05e8\\u05d4, \\u05d4\\u05d9\\u05d0 \\u05ea\\u05d5\\u05e6\\u05d0\\u05d4 \\u05d7\\u05e8\\u05d9\\u05d2\\u05d4, \\u05d4\\u05e9\\u05de\\u05d5\\u05e8\\u05d4 \\u05dc\\u05de\\u05e7\\u05e8\\u05d9\\u05dd \\u05de\\u05d9\\u05d5\\u05d7\\u05d3\\u05d9\\u05dd \\u05d5\\u05d9\\u05d5\\u05e6\\u05d0\\u05d9 \\u05d3\\u05d5\\u05e4\\u05df. \\u05e9\\u05e0\\u05d9 \\u05ea\\u05e0\\u05d0\\u05d9\\u05dd \\u05de\\u05e6\\u05d8\\u05d1\\u05e8\\u05d9\\u05dd \\u05e0\\u05e7\\u05d1\\u05e2\\u05d5, \\u05e2\\u05dc \\u05de\\u05e0\\u05ea \\u05dc\\u05d4\\u05d9\\u05de\\u05e0\\u05e2 \\u05de\\u05d4\\u05e8\\u05e9\\u05e2\\u05d4: \\\"\\u05e8\\u05d0\\u05e9\\u05d9\\u05ea, \\u05e2\\u05dc \\u05d4\\u05d4\\u05e8\\u05e9\\u05e2\\u05d4 \\u05dc\\u05e4\\u05d2\\u05d5\\u05e2 \\u05e4\\u05d2\\u05d9\\u05e2\\u05d4 \\u05d7\\u05de\\u05d5\\u05e8\\u05d4 \\u05d1\\u05e9\\u05d9\\u05e7\\u05d5\\u05dd \\u05d4\\u05e0\\u05d0\\u05e9\\u05dd, \\u05d5\\u05e9\\u05e0\\u05d9\\u05ea, \\u05e1\\u05d5\\u05d2 \\u05d4\\u05e2\\u05d1\\u05d9\\u05e8\\u05d4 \\u05de\\u05d0\\u05e4\\u05e9\\u05e8 \\u05dc\\u05d5\\u05d5\\u05ea\\u05e8 \\u05d1\\u05e0\\u05e1\\u05d9\\u05d1\\u05d5\\u05ea \\u05d4\\u05de\\u05e7\\u05e8\\u05d4 \\u05d4\\u05de\\u05e1\\u05d5\\u05d9\\u05dd \\u05e2\\u05dc \\u05d4\\u05d4\\u05e8\\u05e9\\u05e2\\u05d4 \\u05d1\\u05dc\\u05d9 \\u05dc\\u05e4\\u05d2\\u05d5\\u05e2 \\u05d1\\u05d0\\u05d5\\u05e4\\u05df \\u05de\\u05d4\\u05d5\\u05ea\\u05d9 \\u05d1\\u05e9\\u05d9\\u05e7\\u05d5\\u05dc\\u05d9 \\u05d4\\u05e2\\u05e0\\u05d9\\u05e9\\u05d4 \\u05d4\\u05d0\\u05d7\\u05e8\\u05d9\\u05dd\\\" (\\u05e2\\\"\\u05e4 2083/96 \\u05db\\u05ea\\u05d1 \\u05e0\\\\' \\u05de\\u05d3\\u05d9\\u05e0\\u05ea \\u05d9\\u05e9\\u05e8\\u05d0\\u05dc, \\u05e4\\\"\\u05d3 \\u05e0\\u05d1(3) 337 (1997), \\u05e4\\u05e1\\u05e7\\u05d4 7 \\u05dc\\u05e4\\u05e1\\u05e7-\\u05d3\\u05d9\\u05e0\\u05d4 \\u05e9\\u05dc \\u05d4\\u05e9\\u05d5\\u05e4\\u05d8\\u05ea \\u05d3\\\\' \\u05d3\\u05d5\\u05e8\\u05e0\\u05e8). \\u05d9\\u05d9\\u05e9\\u05d5\\u05dd \\u05ea\\u05e0\\u05d0\\u05d9\\u05dd \\u05d0\\u05dc\\u05d4, \\u05d1\\u05e0\\u05e1\\u05d9\\u05d1\\u05d5\\u05ea \\u05d4\\u05de\\u05e7\\u05e8\\u05d4, \\u05de\\u05d5\\u05d1\\u05d9\\u05dc \\u05dc\\u05de\\u05e1\\u05e7\\u05e0\\u05d4 \\u05db\\u05d9 \\u05e2\\u05e0\\u05d9\\u05d9\\u05e0\\u05dd \\u05e9\\u05dc \\u05d4\\u05de\\u05d1\\u05e7\\u05e9\\u05d9\\u05dd \\u05d0\\u05d9\\u05e0\\u05e0\\u05d5 \\u05e0\\u05de\\u05e0\\u05d4 \\u05e2\\u05dc \\u05d0\\u05d5\\u05ea\\u05dd \\u05de\\u05e7\\u05e8\\u05d9\\u05dd \\u05d7\\u05e8\\u05d9\\u05d2\\u05d9\\u05dd, \\u05e9\\u05e7\\u05d9\\u05d9\\u05de\\u05ea \\u05d1\\u05d4\\u05dd \\u05d4\\u05e6\\u05d3\\u05e7\\u05d4 \\u05dc\\u05d4\\u05d9\\u05de\\u05e0\\u05e2\\u05d5\\u05ea \\u05de\\u05d4\\u05e8\\u05e9\\u05e2\\u05d4. 11. \\u05d1\\u05de\\u05e1\\u05d2\\u05e8\\u05ea \\u05e4\\u05e1\\u05e7 \\u05d3\\u05d9\\u05e0\\u05d5, \\u05d4\\u05ea\\u05d9\\u05d9\\u05d7\\u05e1 \\u05d1\\u05d9\\u05ea \\u05d4\\u05de\\u05e9\\u05e4\\u05d8 \\u05d4\\u05de\\u05d7\\u05d5\\u05d6\\u05d9, \\u05dc\\u05d7\\u05d5\\u05de\\u05e8\\u05ea \\u05d4\\u05e2\\u05d1\\u05d9\\u05e8\\u05d5\\u05ea \\u05e9\\u05d1\\u05d5\\u05e6\\u05e2\\u05d5 \\u05e2\\u05dc-\\u05d9\\u05d3\\u05d9 \\u05d4\\u05de\\u05d1\\u05e7\\u05e9\\u05d9\\u05dd, \\u05d1\\u05e7\\u05d5\\u05d1\\u05e2\\u05d5 \\u05db\\u05d9: \\\"\\u05dc\\u05d0 \\u05e8\\u05d0\\u05d9\\u05e0\\u05d5 \\u05dc\\u05d4\\u05e1\\u05ea\\u05e4\\u05e7 \\u05d1\\u05d3\\u05e8\\u05da \\u05d1\\u05d4 \\u05d4\\u05dc\\u05da \\u05d1\\u05d9\\u05ea \\u05d4\\u05de\\u05e9\\u05e4\\u05d8 \\u05e7\\u05de\\u05d0, \\u05d5\\u05d4\\u05e1\\u05d9\\u05db\\u05d5\\u05df \\u05d4\\u05e8\\u05d1 \\u05d4\\u05e0\\u05e9\\u05e7\\u05e3 \\u05de\\u05d9\\u05d9\\u05d3\\u05d5\\u05d9 \\u05d4\\u05d0\\u05d1\\u05e0\\u05d9\\u05dd \\u05d5\\u05de\\u05d0\\u05dc\\u05d9\\u05de\\u05d5\\u05ea \\u05db\\u05dc\\u05e4\\u05d9 \\u05e9\\u05d5\\u05d8\\u05e8\\u05d9\\u05dd, \\u05de\\u05d7\\u05d9\\u05d9\\u05d1 \\u05e2\\u05de\\u05d3\\u05d4 \\u05e2\\u05d5\\u05e0\\u05e9\\u05d9\\u05ea \\u05e0\\u05d7\\u05e8\\u05e6\\u05ea \\u05e9\\u05d9\\u05e9 \\u05d1\\u05d4 \\\\'\\u05dc\\u05d4\\u05e8\\u05ea\\u05d9\\u05e2 \\u05d0\\u05ea \\u05d4\\u05de\\u05d1\\u05e6\\u05e2 \\u05e2\\u05e6\\u05de\\u05d5 \\u05d5\\u05d0\\u05ea \\u05d4\\u05e2\\u05d1\\u05e8\\u05d9\\u05d9\\u05e0\\u05d9\\u05dd \\u05d1\\u05db\\u05d5\\u05d7, \\u05e6\\u05e2\\u05d9\\u05e8\\u05d9\\u05dd \\u05d4\\u05de\\u05ea\\u05e4\\u05ea\\u05d9\\u05dd \\u05e2\\u05dc \\u05e0\\u05e7\\u05dc\\u05d4 \\u05dc\\u05d4\\u05e9\\u05dc\\u05d9\\u05da \\u05d0\\u05d1\\u05e0\\u05d9\\u05dd \\u05d5\\u05d1\\u05e7\\u05d1\\u05d5\\u05e7\\u05d9 \\u05ea\\u05d1\\u05e2\\u05e8\\u05d4 \\u05d5\\u05dc\\u05e1\\u05db\\u05df \\u05d7\\u05d9\\u05d9 \\u05d0\\u05d3\\u05dd\\\\'...\\u05dc\\u05db\\u05df, \\u05d1\\u05d4\\u05d1\\u05d9\\u05d0\\u05e0\\u05d5 \\u05d1\\u05de\\u05e1\\u05d2\\u05e8\\u05ea \\u05d4\\u05e9\\u05d9\\u05e7\\u05d5\\u05dc\\u05d9\\u05dd \\u05d0\\u05ea \\u05d4\\u05e0\\u05e1\\u05d9\\u05d1\\u05d5\\u05ea \\u05d5\\u05d0\\u05ea \\u05d4\\u05d7\\u05d5\\u05de\\u05e8\\u05d4 \\u05e9\\u05d9\\u05e9 \\u05dc\\u05d9\\u05d9\\u05d7\\u05e1 \\u05dc\\u05e2\\u05d1\\u05d9\\u05e8\\u05d5\\u05ea \\u05d0\\u05dc\\u05d9\\u05de\\u05d5\\u05ea \\u05db\\u05dc\\u05e4\\u05d9 \\u05e9\\u05d5\\u05d8\\u05e8\\u05d9\\u05dd \\u05d5\\u05d4\\u05ea\\u05e4\\u05e8\\u05e2\\u05d5\\u05d9\\u05d5\\u05ea \\u05e9\\u05d1\\u05de\\u05d4\\u05dc\\u05db\\u05df \\u05de\\u05d9\\u05d9\\u05d3\\u05d9\\u05dd \\u05e7\\u05d8\\u05d9\\u05e0\\u05d9\\u05dd \\u05d0\\u05d1\\u05e0\\u05d9\\u05dd \\u05d5\\u05de\\u05d5\\u05e9\\u05dc\\u05db\\u05d9\\u05dd \\u05d0\\u05e3 \\u05d1\\u05e7\\u05d1\\u05d5\\u05e7\\u05d9 \\u05ea\\u05d1\\u05e2\\u05e8\\u05d4, \\u05ea\\u05d5\\u05e4\\u05e2\\u05d4 \\u05d4\\u05d4\\u05d5\\u05dc\\u05db\\u05ea \\u05d5\\u05de\\u05ea\\u05e2\\u05e6\\u05de\\u05ea \\u05de\\u05d6\\u05d4 \\u05d6\\u05de\\u05df \\u05d0\\u05e8\\u05d5\\u05da, \\u05d0\\u05e0\\u05d5 \\u05e1\\u05d1\\u05d5\\u05e8\\u05d9\\u05dd \\u05db\\u05d9 \\u05e8\\u05d0\\u05d5\\u05d9 \\u05dc\\u05d4\\u05e2\\u05d1\\u05d9\\u05e8 \\u05de\\u05e1\\u05e8 \\u05d0\\u05d7\\u05d3 \\u05d1\\u05e2\\u05d1\\u05d9\\u05e8\\u05d5\\u05ea \\u05db\\u05d0\\u05dc\\u05d4 \\u05db\\u05d9 \\u05d0\\u05d9\\u05df \\u05dc\\u05d4\\u05e1\\u05ea\\u05e4\\u05e7 \\u05d1\\u05e4\\u05df \\u05d4\\u05e9\\u05d9\\u05e7\\u05d5\\u05de\\u05d9 \\u05d5\\u05d4\\u05db\\u05dc\\u05dc \\u05d4\\u05d5\\u05d0 \\u05db\\u05d9 \\u05d9\\u05e9 \\u05dc\\u05d4\\u05e8\\u05e9\\u05d9\\u05e2 \\u05d0\\u05ea \\u05d4\\u05de\\u05e9\\u05d9\\u05d1\\u05d9\\u05dd \\u05d0\\u05e3 \\u05d0\\u05dd \\u05de\\u05d3\\u05d5\\u05d1\\u05e8 \\u05d1\\u05e7\\u05d8\\u05d9\\u05e0\\u05d9\\u05dd \\u05e9\\u05d6\\u05d5 \\u05dc\\u05d4\\u05dd \\u05d4\\u05e2\\u05d1\\u05d9\\u05e8\\u05d4 \\u05d4\\u05e8\\u05d0\\u05e9\\u05d5\\u05e0\\u05d4...\\\" \\u05dc\\u05d8\\u05e2\\u05de\\u05d9, \\u05d1\\u05d9\\u05ea \\u05d4\\u05de\\u05e9\\u05e4\\u05d8 \\u05d4\\u05de\\u05d7\\u05d5\\u05d6\\u05d9 \\u05e6\\u05d3\\u05e7 \\u05d1\\u05e7\\u05d1\\u05d9\\u05e2\\u05ea\\u05d5 \\u05d6\\u05d5, \\u05e9\\u05db\\u05df \\u05e1\\u05d5\\u05d2 \\u05d4\\u05e2\\u05d1\\u05d9\\u05e8\\u05d4 \\u05d5\\u05e0\\u05e1\\u05d9\\u05d1\\u05d5\\u05ea\\u05d9\\u05d4, \\u05d0\\u05d9\\u05e0\\u05dd \\u05de\\u05d0\\u05e4\\u05e9\\u05e8\\u05d9\\u05dd, \\u05d1\\u05e0\\u05d3\\u05d5\\u05df \\u05d3\\u05d9\\u05d3\\u05df, \\u05dc\\u05d4\\u05d9\\u05de\\u05e0\\u05e2 \\u05de\\u05d4\\u05e8\\u05e9\\u05e2\\u05d4. 12. \\u05d1\\u05db\\u05dc \\u05d4\\u05e0\\u05d5\\u05d2\\u05e2 \\u05dc\\u05e9\\u05d0\\u05dc\\u05d4 \\u05e9\\u05e2\\u05e0\\u05d9\\u05d9\\u05e0\\u05d4 \\u05d4\\u05e4\\u05d2\\u05d9\\u05e2\\u05d4 \\u05d1\\u05e6\\u05d5\\u05e8\\u05db\\u05d9 \\u05e9\\u05d9\\u05e7\\u05d5\\u05de\\u05d5 \\u05e9\\u05dc \\u05d4\\u05e0\\u05d0\\u05e9\\u05dd, \\u05e0\\u05e7\\u05d1\\u05e2, \\u05db\\u05d9 \\u05d0\\u05d9\\u05df \\u05de\\u05e7\\u05d5\\u05dd \\u05dc\\u05d4\\u05e1\\u05ea\\u05e4\\u05e7 \\u05d1\\\"\\u05ea\\u05e8\\u05d7\\u05d9\\u05e9 \\u05ea\\u05d9\\u05d0\\u05d5\\u05e8\\u05d8\\u05d9\\\", \\u05d5\\u05d9\\u05e9 \\u05dc\\u05d4\\u05e6\\u05d1\\u05d9\\u05e2 \\u05e2\\u05dc \\u05e7\\u05d9\\u05d5\\u05de\\u05d5 \\u05e9\\u05dc \\u05e0\\u05d6\\u05e7 \\\"\\u05de\\u05d5\\u05d7\\u05e9\\u05d9 \\u05d5\\u05e7\\u05d5\\u05e0\\u05e7\\u05e8\\u05d8\\u05d9\\\" \\u05d0\\u05e9\\u05e8 \\u05e6\\u05e4\\u05d5\\u05d9 \\u05dc\\u05e0\\u05d0\\u05e9\\u05dd \\u05db\\u05ea\\u05d5\\u05e6\\u05d0\\u05d4 \\u05de\\u05e2\\u05e6\\u05dd \\u05d4\\u05d4\\u05e8\\u05e9\\u05e2\\u05d4 (\\u05e8\\u05e2\\\"\\u05e4 1439/13 \\\\u200f\\u05e7\\u05e9\\u05ea \\u05e0\\\\' \\u05de\\u05d3\\u05d9\\u05e0\\u05ea \\u05d9\\u05e9\\u05e8\\u05d0\\u05dc (4.3.2013); \\u05e8\\u05e2\\\"\\u05e4 8627/12 \\u05d4\\u05e0\\u05e1\\u05d1 \\u05e0\\\\' \\u05de\\u05d3\\u05d9\\u05e0\\u05ea \\u05d9\\u05e9\\u05e8\\u05d0\\u05dc (31.12.2012)). \\u05d9\\u05e6\\u05d5\\u05d9\\u05d9\\u05df, \\u05db\\u05d9 \\u05d3\\u05e8\\u05d9\\u05e9\\u05d4 \\u05d6\\u05d5 \\u05d0\\u05d9\\u05e0\\u05d4 \\u05de\\u05ea\\u05d9\\u05d9\\u05ea\\u05e8\\u05ea, \\u05d2\\u05dd \\u05db\\u05d0\\u05e9\\u05e8 \\u05de\\u05d3\\u05d5\\u05d1\\u05e8 \\u05d1\\u05e7\\u05d8\\u05d9\\u05e0\\u05d9\\u05dd (\\u05e8\\u05d0\\u05d5 \\u05e2\\u05de\\u05d3\\u05ea\\u05d9 \\u05d1\\u05e2\\\"\\u05e4 5931/13 \\u05e4\\u05dc\\u05d5\\u05e0\\u05d9 \\u05e0\\\\' \\u05de\\u05d3\\u05d9\\u05e0\\u05ea \\u05d9\\u05e9\\u05e8\\u05d0\\u05dc (10.2.2014); \\u05e8\\u05e2\\\"\\u05e4 2180/14 \\u05e1\\u05e4\\u05d9\\u05e8 \\u05e9\\u05de\\u05d5\\u05d0\\u05dc\\u05d9 \\u05e0\\\\' \\u05de\\u05d3\\u05d9\\u05e0\\u05ea \\u05d9\\u05e9\\u05e8\\u05d0\\u05dc (24.4.2014)). \\u05d1\\u05de\\u05e7\\u05e8\\u05d4 \\u05e9\\u05dc\\u05e4\\u05e0\\u05d9\\u05e0\\u05d5, \\u05dc\\u05d0 \\u05de\\u05e6\\u05d0\\u05ea\\u05d9, \\u05db\\u05d9 \\u05d4\\u05e8\\u05e9\\u05e2\\u05ea \\u05d4\\u05de\\u05d1\\u05e7\\u05e9\\u05d9\\u05dd \\u05ea\\u05e4\\u05d2\\u05e2 \\u05d1\\u05d4\\u05dd \\u05e4\\u05d2\\u05d9\\u05e2\\u05d4 \\u05d7\\u05de\\u05d5\\u05e8\\u05d4, \\u05de\\u05d4 \\u05d2\\u05dd \\u05e9\\u05dc\\u05d0 \\u05e2\\u05dc\\u05d4 \\u05d1\\u05d9\\u05d3\\u05d9 \\u05d4\\u05de\\u05d1\\u05e7\\u05e9\\u05d9\\u05dd \\u05dc\\u05d4\\u05e8\\u05d0\\u05d5\\u05ea, \\u05db\\u05d9 \\u05d4\\u05e8\\u05e9\\u05e2\\u05ea\\u05dd \\u05ea\\u05d5\\u05d1\\u05d9\\u05dc \\u05dc\\u05e4\\u05d2\\u05d9\\u05e2\\u05d4 \\u05de\\u05d4\\u05d5\\u05ea\\u05d9\\u05ea \\u05d5\\u05e7\\u05d5\\u05e0\\u05e7\\u05e8\\u05d8\\u05d9\\u05ea \\u05d1\\u05e2\\u05ea\\u05d9\\u05d3\\u05dd \\u05d0\\u05d5 \\u05d1\\u05e6\\u05d5\\u05e8\\u05db\\u05d9 \\u05e9\\u05d9\\u05e7\\u05d5\\u05de\\u05dd. 13. \\u05dc\\u05de\\u05e2\\u05dc\\u05d4 \\u05de\\u05df \\u05d4\\u05e6\\u05d5\\u05e8\\u05da, \\u05d0\\u05d3\\u05e8\\u05e9, \\u05d1\\u05e7\\u05e6\\u05e8\\u05d4, \\u05dc\\u05d8\\u05e2\\u05e0\\u05d5\\u05ea\\u05d9\\u05d4\\u05dd \\u05e9\\u05dc \\u05d4\\u05de\\u05d1\\u05e7\\u05e9\\u05d9\\u05dd \\u05dc\\u05d2\\u05d5\\u05e4\\u05df. \\u05e8\\u05d0\\u05e9\\u05d9\\u05ea, \\u05d0\\u05d9\\u05df \\u05d1\\u05d9\\u05d3\\u05d9 \\u05dc\\u05e7\\u05d1\\u05dc \\u05d0\\u05ea \\u05d8\\u05e2\\u05e0\\u05ea \\u05d4\\u05de\\u05d1\\u05e7\\u05e9\\u05d9\\u05dd, \\u05dc\\u05e4\\u05d9\\u05d4 \\u05e4\\u05e1\\u05e7 \\u05d3\\u05d9\\u05e0\\u05d5 \\u05e9\\u05dc \\u05d1\\u05d9\\u05ea \\u05d4\\u05de\\u05e9\\u05e4\\u05d8 \\u05d4\\u05de\\u05d7\\u05d5\\u05d6\\u05d9 \\u05e4\\u05d5\\u05d2\\u05e2 \\u05d1\\u05e2\\u05e7\\u05e8\\u05d5\\u05df \\u05d4\\u05e9\\u05d5\\u05d5\\u05d9\\u05d5\\u05df, \\u05de\\u05e9\\u05d5\\u05dd \\u05e9\\u05dc\\u05d3\\u05d1\\u05e8\\u05d9\\u05d4\\u05dd \\u05d4\\u05e2\\u05d5\\u05e0\\u05e9\\u05d9\\u05dd \\u05d0\\u05e9\\u05e8 \\u05d4\\u05d5\\u05d8\\u05dc\\u05d5 \\u05e2\\u05dc\\u05d9\\u05d4\\u05dd \\u05d7\\u05de\\u05d5\\u05e8\\u05d9\\u05dd \\u05de\\u05d0\\u05dc\\u05d4 \\u05e9\\u05d4\\u05d5\\u05d8\\u05dc\\u05d5 \\u05e2\\u05dc \\u05d4\\u05e0\\u05d0\\u05e9\\u05de\\u05d9\\u05dd \\u05d4\\u05e0\\u05d5\\u05e1\\u05e4\\u05d9\\u05dd \\u05e9\\u05d4\\u05d9\\u05d5 \\u05e9\\u05d5\\u05ea\\u05e4\\u05d9\\u05dd \\u05dc\\u05d0\\u05d5\\u05ea\\u05df \\u05d4\\u05ea\\u05e4\\u05e8\\u05e2\\u05d5\\u05d9\\u05d5\\u05ea. \\u05d1\\u05d9\\u05ea \\u05d4\\u05de\\u05e9\\u05e4\\u05d8 \\u05d4\\u05de\\u05d7\\u05d5\\u05d6\\u05d9 \\u05e0\\u05ea\\u05df \\u05d0\\u05ea \\u05d3\\u05e2\\u05ea\\u05d5 \\u05dc\\u05e4\\u05e1\\u05d9\\u05e7\\u05d4 \\u05d0\\u05dc\\u05d9\\u05d4 \\u05d4\\u05e4\\u05e0\\u05d5 \\u05d4\\u05e6\\u05d3\\u05d3\\u05d9\\u05dd, \\u05d5\\u05d4\\u05d1\\u05d4\\u05d9\\u05e8, \\u05db\\u05d9 \\\"\\u05de\\u05e2\\u05e9\\u05d9 \\u05d4\\u05de\\u05e9\\u05d9\\u05d1\\u05d9\\u05dd \\u05d1\\u05de\\u05e7\\u05e8\\u05d4 \\u05d6\\u05d4 \\u05d7\\u05de\\u05d5\\u05e8\\u05d9\\u05dd \\u05d1\\u05d9\\u05d5\\u05ea\\u05e8, \\u05de\\u05e2\\u05d1\\u05e8 \\u05dc\\u05d7\\u05d5\\u05de\\u05e8\\u05d4 \\u05e9\\u05ea\\u05d5\\u05d0\\u05e8\\u05d4 \\u05d1\\u05e8\\u05d1\\u05d9\\u05dd \\u05de\\u05e4\\u05e1\\u05e7\\u05d9 \\u05d4\\u05d3\\u05d9\\u05df \\u05e9\\u05e4\\u05d5\\u05e8\\u05d8\\u05d5 \\u05dc\\u05e2\\u05d9\\u05dc\\\". \\u05de\\u05e2\\u05d1\\u05e8 \\u05dc\\u05d6\\u05d0\\u05ea, \\u05d4\\u05dc\\u05db\\u05d4 \\u05d4\\u05d9\\u05d0, \\u05db\\u05d9 \\u05d4\\u05e9\\u05d2\\u05d4 \\u05e2\\u05dc \\u05de\\u05d9\\u05d3\\u05ea \\u05d4\\u05e2\\u05d5\\u05e0\\u05e9 \\u05d0\\u05d9\\u05df \\u05d1\\u05db\\u05d5\\u05d7\\u05d4 \\u05dc\\u05d4\\u05e6\\u05d3\\u05d9\\u05e7 \\u05de\\u05ea\\u05df \\u05e8\\u05e9\\u05d5\\u05ea \\u05e2\\u05e8\\u05e2\\u05d5\\u05e8, \\u05dc\\u05de\\u05e2\\u05d8 \\u05d1\\u05de\\u05e7\\u05e8\\u05d9\\u05dd \\u05d1\\u05d4\\u05dd \\u05e0\\u05d9\\u05db\\u05e8\\u05ea \\u05d7\\u05e8\\u05d9\\u05d2\\u05d4 \\u05e7\\u05d9\\u05e6\\u05d5\\u05e0\\u05d9\\u05ea \\u05de\\u05de\\u05d3\\u05d9\\u05e0\\u05d9\\u05d5\\u05ea \\u05d4\\u05e2\\u05e0\\u05d9\\u05e9\\u05d4 \\u05d4\\u05e8\\u05d0\\u05d5\\u05d9\\u05d4 \\u05d5\\u05d4\\u05de\\u05e7\\u05d5\\u05d1\\u05dc\\u05ea \\u05d1\\u05de\\u05e7\\u05e8\\u05d9\\u05dd \\u05d3\\u05d5\\u05de\\u05d9\\u05dd (\\u05e8\\u05e2\\\"\\u05e4 8719/14 \\u05d9\\u05e2\\u05e7\\u05d1 \\u05d1\\u05df \\u05d8\\u05d5\\u05dc\\u05d9\\u05dc\\u05d4 \\u05e0\\\\' \\u05de\\u05d3\\u05d9\\u05e0\\u05ea \\u05d9\\u05e9\\u05e8\\u05d0\\u05dc (14.1.2015); \\u05e8\\u05e2\\\"\\u05e4 7584/14 \\u05d0\\u05d1\\u05d5 \\u05e9\\u05d5\\u05e7\\u05d5\\u05e8 \\u05e0\\\\' \\u05de\\u05d3\\u05d9\\u05e0\\u05ea \\u05d9\\u05e9\\u05e8\\u05d0\\u05dc (2.12.2014); \\u05e8\\u05e2\\\"\\u05e4 7641/14 \\u05d0\\u05dc\\u05d8\\u05d5\\u05e8\\u05d9 \\u05e0\\\\' \\u05de\\u05d3\\u05d9\\u05e0\\u05ea \\u05d9\\u05e9\\u05e8\\u05d0\\u05dc (30.11.2014)). \\u05d2\\u05dd \\u05d0\\u05dd \\u05e0\\u05d9\\u05ea\\u05df \\u05d4\\u05d9\\u05d4 \\u05dc\\u05de\\u05e6\\u05d5\\u05d0 \\u05d2\\u05d6\\u05e8\\u05d9 \\u05d3\\u05d9\\u05df \\u05de\\u05e7\\u05dc\\u05d9\\u05dd \\u05d9\\u05d5\\u05ea\\u05e8, \\u05d1\\u05e0\\u05e1\\u05d9\\u05d1\\u05d5\\u05ea \\u05d4\\u05d3\\u05d5\\u05de\\u05d5\\u05ea \\u05dc\\u05e2\\u05e0\\u05d9\\u05d9\\u05e0\\u05e0\\u05d5, \\u05d0\\u05d9\\u05df \\u05d4\\u05d3\\u05d1\\u05e8 \\u05de\\u05e2\\u05d9\\u05d3 \\u05db\\u05d9 \\u05d4\\u05e2\\u05d5\\u05e0\\u05e9 \\u05d0\\u05e9\\u05e8 \\u05d4\\u05d5\\u05e9\\u05ea \\u05e2\\u05dc \\u05d4\\u05de\\u05d1\\u05e7\\u05e9\\u05d9\\u05dd \\u05d7\\u05d5\\u05e8\\u05d2 \\u05d1\\u05d0\\u05d5\\u05e4\\u05df \\u05de\\u05d4\\u05d5\\u05ea\\u05d9 \\u05de\\u05de\\u05d3\\u05d9\\u05e0\\u05d9\\u05d5\\u05ea \\u05d4\\u05e2\\u05e0\\u05d9\\u05e9\\u05d4 \\u05d4\\u05e8\\u05d0\\u05d5\\u05d9\\u05d4. \\u05d1\\u05de\\u05e6\\u05d1 \\u05d3\\u05d1\\u05e8\\u05d9\\u05dd \\u05d6\\u05d4, \\u05e1\\u05d1\\u05d5\\u05e8\\u05e0\\u05d9 \\u05db\\u05d9 \\u05dc\\u05d0 \\u05e0\\u05e4\\u05dc \\u05db\\u05dc \\u05e4\\u05d2\\u05dd \\u05d1\\u05e2\\u05d5\\u05e0\\u05e9\\u05d9\\u05dd \\u05d0\\u05e9\\u05e8 \\u05d4\\u05d5\\u05e9\\u05ea\\u05d5 \\u05e2\\u05dc \\u05d4\\u05de\\u05d1\\u05e7\\u05e9\\u05d9\\u05dd \\u05e2\\u05dc-\\u05d9\\u05d3\\u05d9 \\u05d1\\u05d9\\u05ea \\u05d4\\u05de\\u05e9\\u05e4\\u05d8 \\u05d4\\u05de\\u05d7\\u05d5\\u05d6\\u05d9. 14. \\u05d1\\u05d0\\u05d5\\u05e4\\u05df \\u05d3\\u05d5\\u05de\\u05d4, \\u05dc\\u05d0 \\u05de\\u05e6\\u05d0\\u05ea\\u05d9 \\u05de\\u05de\\u05e9 \\u05d1\\u05d8\\u05e2\\u05e0\\u05ea \\u05d4\\u05de\\u05d1\\u05e7\\u05e9\\u05d9\\u05dd, \\u05db\\u05d9 \\u05d1\\u05d9\\u05ea \\u05d4\\u05de\\u05e9\\u05e4\\u05d8 \\u05d4\\u05de\\u05d7\\u05d5\\u05d6\\u05d9 \\u05dc\\u05d0 \\u05d4\\u05ea\\u05d0\\u05d9\\u05dd \\u05d0\\u05ea \\u05d4\\u05e2\\u05e0\\u05d9\\u05e9\\u05d4 \\u05dc\\u05e0\\u05e1\\u05d9\\u05d1\\u05d5\\u05ea\\u05d9\\u05d4\\u05dd \\u05d4\\u05d0\\u05d9\\u05e9\\u05d9\\u05d5\\u05ea. \\u05dc\\u05e2\\u05e0\\u05d9\\u05d9\\u05df \\u05d6\\u05d4, \\u05e7\\u05d1\\u05e2 \\u05d1\\u05d9\\u05ea \\u05d4\\u05de\\u05e9\\u05e4\\u05d8 \\u05d4\\u05de\\u05d7\\u05d5\\u05d6\\u05d9, \\u05db\\u05d9: \\\"\\u05d1\\u05e6\\u05d3 \\u05d4\\u05d7\\u05d5\\u05de\\u05e8\\u05d4 \\u05e9\\u05e8\\u05d0\\u05d9\\u05e0\\u05d5 \\u05dc\\u05d9\\u05d9\\u05d7\\u05e1 \\u05dc\\u05e2\\u05d1\\u05d9\\u05e8\\u05d5\\u05ea \\u05e9\\u05d1\\u05d4\\u05df \\u05d4\\u05d5\\u05e8\\u05e9\\u05e2\\u05d5 \\u05d4\\u05de\\u05e9\\u05d9\\u05d1\\u05d9\\u05dd, \\u05e0\\u05ea\\u05e0\\u05d5 \\u05d3\\u05e2\\u05ea\\u05e0\\u05d5 \\u05dc\\u05e0\\u05e1\\u05d9\\u05d1\\u05d5\\u05ea\\u05d9\\u05d4\\u05dd \\u05d4\\u05d0\\u05d9\\u05e9\\u05d9\\u05d5\\u05ea \\u05e9\\u05dc \\u05d4\\u05de\\u05e9\\u05d9\\u05d1\\u05d9\\u05dd, \\u05dc\\u05d2\\u05d9\\u05dc\\u05dd \\u05d1\\u05e2\\u05ea \\u05d1\\u05d9\\u05e6\\u05d5\\u05e2 \\u05d4\\u05e2\\u05d1\\u05d9\\u05e8\\u05d5\\u05ea, \\u05dc\\u05ea\\u05e1\\u05e7\\u05d9\\u05e8 \\u05e9\\u05d9\\u05e8\\u05d5\\u05ea \\u05d4\\u05de\\u05d1\\u05d7\\u05df, \\u05dc\\u05d4\\u05e2\\u05d3\\u05e8 \\u05e8\\u05d9\\u05e9\\u05d5\\u05dd \\u05e4\\u05dc\\u05d9\\u05dc\\u05d9 \\u05d5\\u05dc\\u05d4\\u05ea\\u05d9\\u05d9\\u05d7\\u05e1\\u05d5\\u05ea \\u05d1\\u05d9\\u05ea \\u05de\\u05e9\\u05e4\\u05d8 \\u05e7\\u05de\\u05d0 \\u05dc\\u05e0\\u05e1\\u05d9\\u05d1\\u05d5\\u05ea \\u05e9\\u05dc \\u05d4\\u05de\\u05e9\\u05d9\\u05d1\\u05d9\\u05dd \\u05db\\u05d0\\u05de\\u05d5\\u05e8 \\u05d1\\u05d2\\u05d6\\u05e8 \\u05d4\\u05d3\\u05d9\\u05df, \\u05d5\\u05e8\\u05d0\\u05d9\\u05e0\\u05d5 \\u05d0\\u05e3 \\u05dc\\u05d0\\u05de\\u05e5 \\u05d0\\u05ea \\u05d3\\u05d1\\u05e8\\u05d9\\u05d5 \\u05d0\\u05e9\\u05e8 \\u05dc\\u05de\\u05e9\\u05d9\\u05d1\\u05d9\\u05dd \\u05d5\\u05d0\\u05e9\\u05e8 \\u05dc\\u05de\\u05d3\\u05e8\\u05d2 \\u05e9\\u05e7\\u05d1\\u05e2 \\u05d1\\u05e2\\u05e0\\u05d9\\u05e9\\u05d4 \\u05dc\\u05d2\\u05d1\\u05d9\\u05d4\\u05dd \\u05d1\\u05e9\\u05dc \\u05d4\\u05e9\\u05d5\\u05e0\\u05d9 \\u05d1\\u05d2\\u05d9\\u05dc\\u05dd...\\\" \\u05d4\\u05e0\\u05d4 \\u05db\\u05d9 \\u05db\\u05df, \\u05d1\\u05d9\\u05ea \\u05d4\\u05de\\u05e9\\u05e4\\u05d8 \\u05d4\\u05de\\u05d7\\u05d5\\u05d6\\u05d9 \\u05dc\\u05d0 \\u05d4\\u05ea\\u05e2\\u05dc\\u05dd \\u05de\\u05e0\\u05e1\\u05d9\\u05d1\\u05d5\\u05ea\\u05d9\\u05d4\\u05dd \\u05d4\\u05e4\\u05e8\\u05d8\\u05e0\\u05d9\\u05d5\\u05ea \\u05e9\\u05dc \\u05d4\\u05de\\u05d1\\u05e7\\u05e9\\u05d9\\u05dd, \\u05d5\\u05de\\u05d9\\u05ea\\u05e8 \\u05d4\\u05e9\\u05d9\\u05e7\\u05d5\\u05dc\\u05d9\\u05dd \\u05dc\\u05e7\\u05d5\\u05dc\\u05d4. \\u05d1\\u05d9\\u05ea \\u05d4\\u05de\\u05e9\\u05e4\\u05d8 \\u05d4\\u05de\\u05d7\\u05d5\\u05d6\\u05d9 \\u05e0\\u05ea\\u05df \\u05d0\\u05ea \\u05d3\\u05e2\\u05ea\\u05d5 \\u05dc\\u05de\\u05db\\u05dc\\u05d5\\u05dc \\u05e9\\u05d9\\u05e7\\u05d5\\u05dc\\u05d9 \\u05d4\\u05e2\\u05e0\\u05d9\\u05e9\\u05d4 \\u05d4\\u05e8\\u05dc\\u05d5\\u05d5\\u05e0\\u05d8\\u05d9\\u05d9\\u05dd, \\u05d5\\u05e2\\u05e8\\u05da \\u05d1\\u05d9\\u05e0\\u05d9\\u05d4\\u05dd \\u05d0\\u05d9\\u05d6\\u05d5\\u05df \\u05e8\\u05d0\\u05d5\\u05d9, \\u05d1\\u05e0\\u05e1\\u05d9\\u05d1\\u05d5\\u05ea \\u05d4\\u05e2\\u05e0\\u05d9\\u05d9\\u05df. \\u05dc\\u05e4\\u05d9\\u05db\\u05da, \\u05d0\\u05d9\\u05e0\\u05e0\\u05d9 \\u05e8\\u05d5\\u05d0\\u05d4 \\u05db\\u05dc \\u05d4\\u05e6\\u05d3\\u05e7\\u05d4 \\u05dc\\u05d4\\u05ea\\u05e2\\u05e8\\u05d1 \\u05d1\\u05de\\u05d9\\u05d3\\u05ea \\u05e2\\u05d5\\u05e0\\u05e9\\u05dd \\u05e9\\u05dc \\u05d4\\u05de\\u05d1\\u05e7\\u05e9\\u05d9\\u05dd, \\u05d5\\u05d4\\u05d3\\u05d1\\u05e8\\u05d9\\u05dd \\u05e0\\u05d0\\u05de\\u05e8\\u05d9\\u05dd \\u05d1\\u05d9\\u05ea\\u05e8 \\u05e9\\u05d0\\u05ea \\u05db\\u05d0\\u05e9\\u05e8 \\u05de\\u05d3\\u05d5\\u05d1\\u05e8 \\u05d1\\u05d3\\u05d9\\u05d5\\u05df \\u05d1\\\"\\u05d2\\u05dc\\u05d2\\u05d5\\u05dc \\u05e9\\u05dc\\u05d9\\u05e9\\u05d9\\\". 15. \\u05d0\\u05e9\\u05e8 \\u05e2\\u05dc \\u05db\\u05df, \\u05d4\\u05d1\\u05e7\\u05e9\\u05d4 \\u05dc\\u05e8\\u05e9\\u05d5\\u05ea \\u05e2\\u05e8\\u05e2\\u05d5\\u05e8 \\u05e0\\u05d3\\u05d7\\u05d9\\u05ea \\u05d1\\u05d6\\u05d0\\u05ea. \\u05d4\\u05de\\u05d1\\u05e7\\u05e9\\u05d9\\u05dd \\u05d9\\u05ea\\u05d9\\u05d9\\u05e6\\u05d1\\u05d5 \\u05dc\\u05e8\\u05d9\\u05e6\\u05d5\\u05d9 \\u05e2\\u05d5\\u05e0\\u05e9\\u05dd \\u05d1\\u05d9\\u05d5\\u05dd 1.3.2015, \\u05e2\\u05d3 \\u05dc\\u05e9\\u05e2\\u05d4 10:00, \\u05d1\\u05d9\\u05de\\\"\\u05e8 \\u05e0\\u05d9\\u05e6\\u05df, \\u05d0\\u05d5 \\u05e2\\u05dc \\u05e4\\u05d9 \\u05d4\\u05d7\\u05dc\\u05d8\\u05ea \\u05e9\\u05d9\\u05e8\\u05d5\\u05ea \\u05d1\\u05ea\\u05d9 \\u05d4\\u05e1\\u05d5\\u05d4\\u05e8, \\u05db\\u05e9\\u05d1\\u05e8\\u05e9\\u05d5\\u05ea\\u05dd \\u05ea\\u05e2\\u05d5\\u05d3\\u05ea \\u05d6\\u05d4\\u05d5\\u05ea \\u05d0\\u05d5 \\u05d3\\u05e8\\u05db\\u05d5\\u05df \\u05d5\\u05e2\\u05d5\\u05ea\\u05e7 \\u05de\\u05d4\\u05d7\\u05dc\\u05d8\\u05d4 \\u05d6\\u05d5. \\u05e2\\u05dc \\u05d4\\u05de\\u05d1\\u05e7\\u05e9\\u05d9\\u05dd \\u05dc\\u05ea\\u05d0\\u05dd \\u05d0\\u05ea \\u05d4\\u05db\\u05e0\\u05d9\\u05e1\\u05d4 \\u05dc\\u05de\\u05d0\\u05e1\\u05e8, \\u05e2\\u05dd \\u05e2\\u05e0\\u05e3 \\u05d0\\u05d1\\u05d7\\u05d5\\u05df \\u05d5\\u05de\\u05d9\\u05d5\\u05df \\u05e9\\u05dc \\u05e9\\u05d9\\u05e8\\u05d5\\u05ea \\u05d1\\u05ea\\u05d9 \\u05d4\\u05e1\\u05d5\\u05d4\\u05e8, \\u05d1\\u05d8\\u05dc\\u05e4\\u05d5\\u05e0\\u05d9\\u05dd: 08-9787377 \\u05d0\\u05d5 08-9787336. \\u05e0\\u05d9\\u05ea\\u05e0\\u05d4 \\u05d1\\u05d9\\u05d5\\u05dd, \\\\u200f\\u05d5\\\\' \\u05d1\\u05e9\\u05d1\\u05d8 \\u05d4\\u05ea\\u05e9\\u05e2\\\"\\u05d4 (\\\\u200f26.1.2015). \\u05ea\\u05d5\\u05e7\\u05e0\\u05d4 \\u05d4\\u05d9\\u05d5\\u05dd, \\u05d6\\\\' \\u05d1\\u05e9\\u05d1\\u05d8 \\u05d4\\u05ea\\u05e9\\u05e2\\\"\\u05d4 (27.1.2015). \\u05e9 \\u05d5 \\u05e4 \\u05d8 _________________________ \"\n        ],\n        \"semantic_type\": \"\",\n        \"description\": \"\"\n      }\n    },\n    {\n      \"column\": \"\\u05d2\\u05d5\\u05e3 \\u05d4\\u05de\\u05e1\\u05de\\u05da \\u05d7\\u05ea\\u05d5\\u05da\",\n      \"properties\": {\n        \"dtype\": \"string\",\n        \"num_unique_values\": 5,\n        \"samples\": [\n          \"['\\u05d4\\u05d7\\u05dc\\u05d8\\u05d4 \\u05d1\\u05ea\\u05d9\\u05e7 \\u05e8\\u05e2\\\"\\u05e4 825/15 \\u05d1\\u05d1\\u05d9\\u05ea \\u05d4\\u05de\\u05e9\\u05e4\\u05d8 \\u05d4\\u05e2\\u05dc\\u05d9\\u05d5\\u05df \\u05e8\\u05e2\\\"\\u05e4 825/15 - \\u05d1\\\\' \\u05dc\\u05e4\\u05e0\\u05d9: \\u05db\\u05d1\\u05d5\\u05d3 \\u05d4\\u05e9\\u05d5\\u05e4\\u05d8 \\u05d7\\\\' \\u05de\\u05dc\\u05e6\\u05e8 \\u05d4\\u05de\\u05d1\\u05e7\\u05e9: \\u05de\\u05e8\\u05d3\\u05db\\u05d9 \\u05e7\\u05d9\\u05e1\\u05d5\\u05e1 \\u05e0\\u05d2\\u05d3 \\u05d4\\u05de\\u05e9\\u05d9\\u05d1\\u05d4: \\u05de\\u05d3\\u05d9\\u05e0\\u05ea \\u05d9\\u05e9\\u05e8\\u05d0\\u05dc \\u05d1\\u05e7\\u05e9\\u05d4 \\u05dc\\u05e2\\u05d9\\u05db\\u05d5\\u05d1 \\u05d1\\u05d9\\u05e6\\u05d5\\u05e2 \\u05e2\\u05d5\\u05e0\\u05e9 \\u05de\\u05d0\\u05e1\\u05e8 \\u05de\\u05ea\\u05d0\\u05e8\\u05d9\\u05da 18.02.2015; \\u05ea\\u05d2\\u05d5\\u05d1\\u05ea \\u05d4\\u05de\\u05e9\\u05d9\\u05d1\\u05d4 \\u05dc\\u05d1\\u05e7\\u05e9\\u05d4 \\u05de\\u05ea\\u05d0\\u05e8\\u05d9\\u05da 19.02.2015 \\u05d1\\u05e9\\u05dd \\u05d4\\u05de\\u05d1\\u05e7\\u05e9: \\u05e2\\u05d5\\\"\\u05d3 \\u05e9\\u05de\\u05d5\\u05d0\\u05dc \\u05d1\\u05e8\\u05d6\\u05e0\\u05d9 \\u05d1\\u05e9\\u05dd \\u05d4\\u05de\\u05e9\\u05d9\\u05d1\\u05d4: \\u05e2\\u05d5\\\"\\u05d3 \\u05e1\\u05d9\\u05d2\\u05dc \\u05d1\\u05dc\\u05d5\\u05dd \\u05d4\\u05d7\\u05dc\\u05d8\\u05d4 \\u05db\\u05de\\u05d1\\u05d5\\u05e7\\u05e9 \\u05d5\\u05db\\u05de\\u05d5\\u05e1\\u05db\\u05dd \\u05d4\\u05de\\u05d1\\u05e7\\u05e9 \\u05d9\\u05ea\\u05d9\\u05d9\\u05e6\\u05d1 \\u05dc\\u05e8\\u05d9\\u05e6\\u05d5\\u05d9 \\u05e2\\u05d5\\u05e0\\u05e9 \\u05d4\\u05de\\u05d0\\u05e1\\u05e8 \\u05e9\\u05e0\\u05d2\\u05d6\\u05e8 \\u05e2\\u05dc\\u05d9\\u05d5 \\u2013 \\u05d1\\u05ea\\u05d0\\u05e8\\u05d9\\u05da 13.04.2015 \\u05e2\\u05d3 \\u05dc\\u05e9\\u05e2\\u05d4 10:00, \\u05d1\\u05d1\\u05d9\\u05de\\\"\\u05e8 \\u05e7\\u05d9\\u05e9\\u05d5\\u05df, \\u05d0\\u05d5 \\u05d1\\u05de\\u05e7\\u05d5\\u05dd \\u05d0\\u05d7\\u05e8 \\u05e2\\u05dc \\u05e4\\u05d9 \\u05d4\\u05d7\\u05dc\\u05d8\\u05ea \\u05e9\\u05d9\\u05e8\\u05d5\\u05ea \\u05d1\\u05ea\\u05d9 \\u05d4\\u05e1\\u05d5\\u05d4\\u05e8, \\u05db\\u05e9\\u05d1\\u05e8\\u05e9\\u05d5\\u05ea\\u05d5 \\u05ea\\u05e2\\u05d5\\u05d3\\u05ea \\u05d6\\u05d4\\u05d5\\u05ea, \\u05d0\\u05d5 \\u05d3\\u05e8\\u05db\\u05d5\\u05df. \\u05e2\\u05dc \\u05d4\\u05de\\u05d1\\u05e7\\u05e9 \\u05dc\\u05ea\\u05d0\\u05dd \\u05d0\\u05ea \\u05d4\\u05db\\u05e0\\u05d9\\u05e1\\u05d4 \\u05dc\\u05de\\u05d0\\u05e1\\u05e8, \\u05db\\u05d5\\u05dc\\u05dc \\u05d4\\u05d0\\u05e4\\u05e9\\u05e8\\u05d5\\u05ea \\u05dc\\u05de\\u05d9\\u05d5\\u05df \\u05de\\u05d5\\u05e7\\u05d3\\u05dd, \\u05e2\\u05dd \\u05e2\\u05e0\\u05e3 \\u05d0\\u05d1\\u05d7\\u05d5\\u05df \\u05d5\\u05de\\u05d9\\u05d5\\u05df \\u05e9\\u05dc \\u05e9\\u05d9\\u05e8\\u05d5\\u05ea \\u05d1\\u05ea\\u05d9 \\u05d4\\u05e1\\u05d5\\u05d4\\u05e8, \\u05d8\\u05dc\\u05e4\\u05d5\\u05e0\\u05d9\\u05dd: 08-9787377 \\u05d0\\u05d5 08-9787336. \\u05e0\\u05d9\\u05ea\\u05e0\\u05d4 \\u05d4\\u05d9\\u05d5\\u05dd, \\\\u200f\\u05d2\\\\' \\u05d1\\u05d0\\u05d3\\u05e8 \\u05d4\\u05ea\\u05e9\\u05e2\\\"\\u05d4 (\\\\u200f22.2.2015). \\u05e9 \\u05d5 \\u05e4 \\u05d8 _________________________ \",\n          \"['\\u05e4\\u05e1\\u05e7 \\u05d3\\u05d9\\u05df \\u05d1\\u05ea\\u05d9\\u05e7 \\u05e8\\u05e2\\\"\\u05e4 2195/15 \\u05d1\\u05d1\\u05d9\\u05ea \\u05d4\\u05de\\u05e9\\u05e4\\u05d8 \\u05d4\\u05e2\\u05dc\\u05d9\\u05d5\\u05df \\u05e8\\u05e2\\\"\\u05e4 2195/15 \\u05e8\\u05e2\\\"\\u05e4 2231/15 \\u05dc\\u05e4\\u05e0\\u05d9: \\u05db\\u05d1\\u05d5\\u05d3 \\u05d4\\u05e9\\u05d5\\u05e4\\u05d8 \\u05e1\\\\' \\u05d2\\\\'\\u05d5\\u05d1\\u05e8\\u05d0\\u05df \\u05db\\u05d1\\u05d5\\u05d3 \\u05d4\\u05e9\\u05d5\\u05e4\\u05d8 \\u05e0\\\\' \\u05d4\\u05e0\\u05d3\\u05dc \\u05db\\u05d1\\u05d5\\u05d3 \\u05d4\\u05e9\\u05d5\\u05e4\\u05d8 \\u05d0\\\\' \\u05e9\\u05d4\\u05dd \\u05d4\\u05de\\u05d1\\u05e7\\u05e9\\u05d9\\u05dd \\u05d1\\u05e8\\u05e2\\\"\\u05e4 2195/15: 1. \\u05d0\\u05d4\\u05d5\\u05d3 \\u05d9\\u05e4\\u05e8\\u05d7 2. \\u05d7\\u05d1\\\\' \\u05d0\\u05d4\\u05d5\\u05d3 \\u05de\\u05d0\\u05d9\\u05e8 \\u05e9\\u05d0\\u05d9\\u05d1\\u05d5\\u05ea \\u05d1\\u05e2\\\"\\u05de 3. \\u05d8\\u05d9\\u05d4\\u05dc \\u05e0\\u05db\\u05e1\\u05d9\\u05dd \\u05d1\\u05e2\\\"\\u05de 4. \\u05dc\\u05d9 \\u05d9\\u05e4\\u05e8\\u05d7 \\u05d4\\u05de\\u05d1\\u05e7\\u05e9\\u05d9\\u05dd \\u05d1\\u05e8\\u05e2\\\"\\u05e4 2231/15: 1. \\u05d9\\u05d5\\u05e1\\u05d9 \\u05dc\\u05d9\\u05d1\\u05d5\\u05d1\\u05d9\\u05e5\\\\' 2. \\u05e8\\u05d9\\u05e0\\u05ea \\u05dc\\u05d9\\u05d1\\u05d5\\u05d1\\u05d9\\u05e5\\\\' \\u05e0\\u05d2\\u05d3 \\u05d4\\u05de\\u05e9\\u05d9\\u05d1\\u05d4: \\u05de\\u05d3\\u05d9\\u05e0\\u05ea \\u05d9\\u05e9\\u05e8\\u05d0\\u05dc \\u05d1\\u05e7\\u05e9\\u05d5\\u05ea \\u05e8\\u05e9\\u05d5\\u05ea \\u05e2\\u05e8\\u05e2\\u05d5\\u05e8 \\u05e2\\u05dc \\u05d4\\u05d7\\u05dc\\u05d8\\u05ea\\u05d5 \\u05e9\\u05dc \\u05d1\\u05d9\\u05ea \\u05d4\\u05de\\u05e9\\u05e4\\u05d8 \\u05d4\\u05de\\u05d7\\u05d5\\u05d6\\u05d9 \\u05de\\u05e8\\u05db\\u05d6-\\u05dc\\u05d5\\u05d3 \\u05de\\u05d9\\u05d5\\u05dd 26.2.2015 \\u05d1\\u05e2\\\"\\u05d7 28595-01-15 \\u05e9\\u05e0\\u05d9\\u05ea\\u05df \\u05e2\\u05dc \\u05d9\\u05d3\\u05d9 \\u05db\\u05d1\\u05d5\\u05d3 \\u05d4\\u05e9\\u05d5\\u05e4\\u05d8\\u05ea \\u05d3\\u05d1\\u05d5\\u05e8\\u05d4 \\u05e2\\u05d8\\u05e8 \\u05ea\\u05d0\\u05e8\\u05d9\\u05da \\u05d4\\u05d9\\u05e9\\u05d9\\u05d1\\u05d4: \\u05db\\\"\\u05d2 \\u05d1\\u05d0\\u05dc\\u05d5\\u05dc \\u05d4\\u05ea\\u05e9\\u05e2\\\"\\u05d4 (7.9.2015) \\u05d1\\u05e9\\u05dd \\u05d4\\u05de\\u05d1\\u05e7\\u05e9\\u05d9\\u05dd \\u05d1\\u05e8\\u05e2\\\"\\u05e4 2195/15: \\u05e2\\u05d5\\\"\\u05d3 \\u05d3\\u05e8\\u05d5\\u05e8 \\u05de\\u05ea\\u05ea\\u05d9\\u05d4\\u05d5; \\u05e2\\u05d5\\\"\\u05d3 \\u05d4\\u05d2\\u05e8 \\u05e0\\u05d2\\u05dc\\u05e8 \\u05d1\\u05e9\\u05dd \\u05d4\\u05de\\u05d1\\u05e7\\u05e9\\u05d9\\u05dd \\u05d1\\u05e8\\u05e2\\\"\\u05e4 2231/15: \\u05e2\\u05d5\\\"\\u05d3 \\u05d9\\u05d4\\u05d5\\u05e9\\u05e2 \\u05e8\\u05d6\\u05e0\\u05d9\\u05e7; \\u05e2\\u05d5\\\"\\u05d3 \\u05e6\\u05d9\\u05d5\\u05df \\u05e1\\u05d4\\u05e8\\u05d0\\u05d9 \\u05d1\\u05e9\\u05dd \\u05d4\\u05de\\u05e9\\u05d9\\u05d1\\u05d4: \\u05e2\\u05d5\\\"\\u05d3 \\u05d0\\u05d1\\u05d9 \\u05d5\\u05e1\\u05d8\\u05e8\\u05de\\u05df; \\u05e2\\u05d5\\\"\\u05d3 \\u05d9\\u05e4\\u05e2\\u05ea \\u05e9\\u05d8\\u05d9\\u05d9\\u05df \\u05e4\\u05e1\\u05e7 \\u05d3\\u05d9\\u05df \\u05d1\\u05d4\\u05de\\u05dc\\u05e6\\u05ea\\u05e0\\u05d5 \\u05d7\\u05d6\\u05e8\\u05d5 \\u05d1\\u05d4\\u05dd \\u05d1\\u05d0\\u05d9 \\u05db\\u05d5\\u05d7 \\u05d4\\u05de\\u05d1\\u05e7\\u05e9\\u05d9\\u05dd \\u05de\\u05d4\\u05d1\\u05e7\\u05e9\\u05d5\\u05ea \\u05dc\\u05de\\u05ea\\u05df \\u05e8\\u05e9\\u05d5\\u05ea \\u05e2\\u05e8\\u05e2\\u05d5\\u05e8, \\u05d5\\u05d4\\u05d1\\u05e7\\u05e9\\u05d5\\u05ea \\u05e0\\u05d3\\u05d7\\u05d5\\u05ea \\u05d1\\u05d6\\u05d4. \\u05e0\\u05d9\\u05ea\\u05df \\u05d4\\u05d9\\u05d5\\u05dd, \\u05db\\\"\\u05d2 \\u05d1\\u05d0\\u05dc\\u05d5\\u05dc \\u05d4\\u05ea\\u05e9\\u05e2\\\"\\u05d4 (\\\\u200f7.9.2015). \\u05e9 \\u05d5 \\u05e4 \\u05d8 \\u05e9 \\u05d5 \\u05e4 \\u05d8 \\u05e9 \\u05d5 \\u05e4 \\u05d8 _________________________ \",\n          \"(13.1.2015); \\u05e8\\u05e2\\\"\\u05e4 8087/14 \\u05e0\\u05d3\\u05d9\\u05dd \\u05d0\\u05e0\\u05d2\\u05e0\\u05d0\\u05e5 \\u05e0\\\\' \\u05de\\u05d3\\u05d9\\u05e0\\u05ea \\u05d9\\u05e9\\u05e8\\u05d0\\u05dc (10.12.2014)). \\u05d4\\u05d1\\u05e7\\u05e9\\u05d4 \\u05e9\\u05dc\\u05e4\\u05e0\\u05d9\\u05d9 \\u05d0\\u05d9\\u05e0\\u05d4 \\u05d7\\u05d5\\u05e8\\u05d2\\u05ea \\u05de\\u05e2\\u05e0\\u05d9\\u05d9\\u05e0\\u05dd \\u05d4\\u05e4\\u05e8\\u05d8\\u05d9 \\u05e9\\u05dc \\u05d4\\u05de\\u05d1\\u05e7\\u05e9\\u05d9\\u05dd, \\u05d5\\u05d7\\u05e8\\u05e3 \\u05d4\\u05d0\\u05de\\u05d5\\u05e8 \\u05d1\\u05d4, \\u05e0\\u05e1\\u05d9\\u05d1\\u05d5\\u05ea \\u05d4\\u05de\\u05e7\\u05e8\\u05d4 \\u05d0\\u05d9\\u05e0\\u05df \\u05de\\u05e2\\u05d5\\u05e8\\u05e8\\u05d5\\u05ea \\u05db\\u05dc \\u05e9\\u05d0\\u05dc\\u05d4 \\u05de\\u05e9\\u05e4\\u05d8\\u05d9\\u05ea \\u05d4\\u05e2\\u05e9\\u05d5\\u05d9\\u05d4 \\u05dc\\u05d4\\u05e6\\u05d3\\u05d9\\u05e7 \\u05e8\\u05e9\\u05d5\\u05ea \\u05e2\\u05e8\\u05e2\\u05d5\\u05e8 \\u05d1\\u05e4\\u05e0\\u05d9 \\u05d1\\u05d9\\u05ea \\u05de\\u05e9\\u05e4\\u05d8 \\u05d6\\u05d4. \\u05db\\u05de\\u05d5 \\u05db\\u05df, \\u05dc\\u05d0 \\u05e2\\u05d5\\u05dc\\u05d4 \\u05d7\\u05e9\\u05e9 \\u05dc\\u05e2\\u05d9\\u05d5\\u05d5\\u05ea \\u05d3\\u05d9\\u05df \\u05db\\u05dc\\u05e4\\u05d9 \\u05d4\\u05de\\u05d1\\u05e7\\u05e9\\u05d9\\u05dd \\u05d0\\u05d5 \\u05db\\u05d9 \\u05de\\u05ea\\u05e7\\u05d9\\u05d9\\u05de\\u05d9\\u05dd \\u05e9\\u05d9\\u05e7\\u05d5\\u05dc\\u05d9 \\u05e6\\u05d3\\u05e7 \\u05db\\u05dc\\u05e4\\u05d9\\u05d4\\u05dd. \\u05d0\\u05e3 \\u05d0\\u05dd \\u05d1\\u05d9\\u05ea \\u05de\\u05e9\\u05e4\\u05d8 \\u05d4\\u05e9\\u05dc\\u05d5\\u05dd \\u05d5\\u05d1\\u05d9\\u05ea \\u05d4\\u05de\\u05e9\\u05e4\\u05d8 \\u05d4\\u05de\\u05d7\\u05d5\\u05d6\\u05d9 \\u05d4\\u05d2\\u05d9\\u05e2\\u05d5 \\u05dc\\u05de\\u05e1\\u05e7\\u05e0\\u05d5\\u05ea \\u05e9\\u05d5\\u05e0\\u05d5\\u05ea, \\u05d0\\u05d9\\u05df \\u05d1\\u05db\\u05da \\u05de\\u05e9\\u05d5\\u05dd \\u05d4\\u05e6\\u05d3\\u05e7\\u05d4 \\u05dc\\u05e7\\u05d9\\u05d9\\u05dd \\u05d3\\u05d9\\u05d5\\u05df \\u05e0\\u05d5\\u05e1\\u05e3 \\u05d1\\u05e2\\u05e0\\u05d9\\u05d9\\u05e0\\u05d5 \\u05e9\\u05dc \\u05d4\\u05de\\u05d1\\u05e7\\u05e9, \\u05d1\\u05e4\\u05e0\\u05d9 \\u05d1\\u05d9\\u05ea \\u05de\\u05e9\\u05e4\\u05d8 \\u05d6\\u05d4 (\\u05e8\\u05e2\\\"\\u05e4 4070/14 \\\\u200f\\u05e4\\u05dc\\u05d5\\u05e0\\u05d9\\u05ea \\u05e0\\\\' \\u05de\\u05d3\\u05d9\\u05e0\\u05ea \\u05d9\\u05e9\\u05e8\\u05d0\\u05dc (17.6.2014); \\u05e8\\u05e2\\\"\\u05e4 2180/14 \\u05e9\\u05de\\u05d5\\u05d0\\u05dc\\u05d9 \\u05e0\\\\' \\u05de\\u05d3\\u05d9\\u05e0\\u05ea \\u05d9\\u05e9\\u05e8\\u05d0\\u05dc (24.4.2014)). 10. \\u05d4\\u05d0\\u05e4\\u05e9\\u05e8\\u05d5\\u05ea \\u05d4\\u05e0\\u05ea\\u05d5\\u05e0\\u05d4 \\u05dc\\u05d1\\u05d9\\u05ea \\u05d4\\u05de\\u05e9\\u05e4\\u05d8 \\u05dc\\u05d4\\u05d9\\u05de\\u05e0\\u05e2 \\u05de\\u05d4\\u05e8\\u05e9\\u05e2\\u05ea\\u05d5 \\u05e9\\u05dc \\u05e0\\u05d0\\u05e9\\u05dd \\u05e9\\u05d1\\u05d9\\u05e6\\u05e2 \\u05e2\\u05d1\\u05d9\\u05e8\\u05d4, \\u05de\\u05e2\\u05d5\\u05d2\\u05e0\\u05ea \\u05d1\\u05e1\\u05e2\\u05d9\\u05e3 71\\u05d0(\\u05d1) \\u05dc\\u05d7\\u05d5\\u05e7 \\u05d4\\u05e2\\u05d5\\u05e0\\u05e9\\u05d9\\u05df, \\u05d5\\u05d4\\u05d9\\u05d0 \\u05de\\u05d4\\u05d5\\u05d5\\u05d4 \\u05d7\\u05e8\\u05d9\\u05d2 \\u05dc\\u05db\\u05dc\\u05dc, \\u05dc\\u05e4\\u05d9\\u05d5 \\u05de\\u05e9\\u05d4\\u05d5\\u05db\\u05d7 \\u05d1\\u05d9\\u05e6\\u05d5\\u05e2\\u05d4 \\u05e9\\u05dc \\u05e2\\u05d1\\u05d9\\u05e8\\u05d4 \\u05d9\\u05e9 \\u05dc\\u05d4\\u05e8\\u05e9\\u05d9\\u05e2 \\u05d0\\u05ea \\u05d4\\u05e0\\u05d0\\u05e9\\u05dd. \\u05d1\\u05de\\u05d9\\u05dc\\u05d9\\u05dd \\u05d0\\u05d7\\u05e8\\u05d5\\u05ea, \\u05ea\\u05d5\\u05e6\\u05d0\\u05d4 \\u05e9\\u05dc \\u05d4\\u05d9\\u05de\\u05e0\\u05e2\\u05d5\\u05ea \\u05de\\u05d4\\u05e8\\u05e9\\u05e2\\u05d4, \\u05d7\\u05e8\\u05e3 \\u05d4\\u05e7\\u05d1\\u05d9\\u05e2\\u05d4 \\u05db\\u05d9 \\u05d4\\u05e0\\u05d0\\u05e9\\u05dd \\u05d1\\u05d9\\u05e6\\u05e2 \\u05d0\\u05ea \\u05d4\\u05e2\\u05d1\\u05d9\\u05e8\\u05d4, \\u05d4\\u05d9\\u05d0 \\u05ea\\u05d5\\u05e6\\u05d0\\u05d4 \\u05d7\\u05e8\\u05d9\\u05d2\\u05d4, \\u05d4\\u05e9\\u05de\\u05d5\\u05e8\\u05d4 \\u05dc\\u05de\\u05e7\\u05e8\\u05d9\\u05dd \\u05de\\u05d9\\u05d5\\u05d7\\u05d3\\u05d9\\u05dd \\u05d5\\u05d9\\u05d5\\u05e6\\u05d0\\u05d9 \\u05d3\\u05d5\\u05e4\\u05df. \\u05e9\\u05e0\\u05d9 \\u05ea\\u05e0\\u05d0\\u05d9\\u05dd \\u05de\\u05e6\\u05d8\\u05d1\\u05e8\\u05d9\\u05dd \\u05e0\\u05e7\\u05d1\\u05e2\\u05d5, \\u05e2\\u05dc \\u05de\\u05e0\\u05ea \\u05dc\\u05d4\\u05d9\\u05de\\u05e0\\u05e2 \\u05de\\u05d4\\u05e8\\u05e9\\u05e2\\u05d4: \\\"\\u05e8\\u05d0\\u05e9\\u05d9\\u05ea, \\u05e2\\u05dc \\u05d4\\u05d4\\u05e8\\u05e9\\u05e2\\u05d4 \\u05dc\\u05e4\\u05d2\\u05d5\\u05e2 \\u05e4\\u05d2\\u05d9\\u05e2\\u05d4 \\u05d7\\u05de\\u05d5\\u05e8\\u05d4 \\u05d1\\u05e9\\u05d9\\u05e7\\u05d5\\u05dd \\u05d4\\u05e0\\u05d0\\u05e9\\u05dd, \\u05d5\\u05e9\\u05e0\\u05d9\\u05ea, \\u05e1\\u05d5\\u05d2 \\u05d4\\u05e2\\u05d1\\u05d9\\u05e8\\u05d4 \\u05de\\u05d0\\u05e4\\u05e9\\u05e8 \\u05dc\\u05d5\\u05d5\\u05ea\\u05e8 \\u05d1\\u05e0\\u05e1\\u05d9\\u05d1\\u05d5\\u05ea \\u05d4\\u05de\\u05e7\\u05e8\\u05d4 \\u05d4\\u05de\\u05e1\\u05d5\\u05d9\\u05dd \\u05e2\\u05dc \\u05d4\\u05d4\\u05e8\\u05e9\\u05e2\\u05d4 \\u05d1\\u05dc\\u05d9 \\u05dc\\u05e4\\u05d2\\u05d5\\u05e2 \\u05d1\\u05d0\\u05d5\\u05e4\\u05df \\u05de\\u05d4\\u05d5\\u05ea\\u05d9 \\u05d1\\u05e9\\u05d9\\u05e7\\u05d5\\u05dc\\u05d9 \\u05d4\\u05e2\\u05e0\\u05d9\\u05e9\\u05d4 \\u05d4\\u05d0\\u05d7\\u05e8\\u05d9\\u05dd\\\" (\\u05e2\\\"\\u05e4 2083/96 \\u05db\\u05ea\\u05d1 \\u05e0\\\\' \\u05de\\u05d3\\u05d9\\u05e0\\u05ea \\u05d9\\u05e9\\u05e8\\u05d0\\u05dc, \\u05e4\\\"\\u05d3 \\u05e0\\u05d1(3) 337 (1997), \\u05e4\\u05e1\\u05e7\\u05d4 7 \\u05dc\\u05e4\\u05e1\\u05e7-\\u05d3\\u05d9\\u05e0\\u05d4 \\u05e9\\u05dc \\u05d4\\u05e9\\u05d5\\u05e4\\u05d8\\u05ea \\u05d3\\\\' \\u05d3\\u05d5\\u05e8\\u05e0\\u05e8). \\u05d9\\u05d9\\u05e9\\u05d5\\u05dd \\u05ea\\u05e0\\u05d0\\u05d9\\u05dd \\u05d0\\u05dc\\u05d4, \\u05d1\\u05e0\\u05e1\\u05d9\\u05d1\\u05d5\\u05ea \\u05d4\\u05de\\u05e7\\u05e8\\u05d4, \\u05de\\u05d5\\u05d1\\u05d9\\u05dc \\u05dc\\u05de\\u05e1\\u05e7\\u05e0\\u05d4 \\u05db\\u05d9 \\u05e2\\u05e0\\u05d9\\u05d9\\u05e0\\u05dd \\u05e9\\u05dc \\u05d4\\u05de\\u05d1\\u05e7\\u05e9\\u05d9\\u05dd \\u05d0\\u05d9\\u05e0\\u05e0\\u05d5 \\u05e0\\u05de\\u05e0\\u05d4 \\u05e2\\u05dc \\u05d0\\u05d5\\u05ea\\u05dd \\u05de\\u05e7\\u05e8\\u05d9\\u05dd \\u05d7\\u05e8\\u05d9\\u05d2\\u05d9\\u05dd, \\u05e9\\u05e7\\u05d9\\u05d9\\u05de\\u05ea \\u05d1\\u05d4\\u05dd \\u05d4\\u05e6\\u05d3\\u05e7\\u05d4 \\u05dc\\u05d4\\u05d9\\u05de\\u05e0\\u05e2\\u05d5\\u05ea \\u05de\\u05d4\\u05e8\\u05e9\\u05e2\\u05d4. 11. \\u05d1\\u05de\\u05e1\\u05d2\\u05e8\\u05ea \\u05e4\\u05e1\\u05e7 \\u05d3\\u05d9\\u05e0\\u05d5, \\u05d4\\u05ea\\u05d9\\u05d9\\u05d7\\u05e1 \\u05d1\\u05d9\\u05ea \\u05d4\\u05de\\u05e9\\u05e4\\u05d8 \\u05d4\\u05de\\u05d7\\u05d5\\u05d6\\u05d9, \\u05dc\\u05d7\\u05d5\\u05de\\u05e8\\u05ea \\u05d4\\u05e2\\u05d1\\u05d9\\u05e8\\u05d5\\u05ea \\u05e9\\u05d1\\u05d5\\u05e6\\u05e2\\u05d5 \\u05e2\\u05dc-\\u05d9\\u05d3\\u05d9 \\u05d4\\u05de\\u05d1\\u05e7\\u05e9\\u05d9\\u05dd, \\u05d1\\u05e7\\u05d5\\u05d1\\u05e2\\u05d5 \\u05db\\u05d9: \\\"\\u05dc\\u05d0 \\u05e8\\u05d0\\u05d9\\u05e0\\u05d5 \\u05dc\\u05d4\\u05e1\\u05ea\\u05e4\\u05e7 \\u05d1\\u05d3\\u05e8\\u05da \\u05d1\\u05d4 \\u05d4\\u05dc\\u05da \\u05d1\\u05d9\\u05ea \\u05d4\\u05de\\u05e9\\u05e4\\u05d8 \\u05e7\\u05de\\u05d0, \\u05d5\\u05d4\\u05e1\\u05d9\\u05db\\u05d5\\u05df \\u05d4\\u05e8\\u05d1 \\u05d4\\u05e0\\u05e9\\u05e7\\u05e3 \\u05de\\u05d9\\u05d9\\u05d3\\u05d5\\u05d9 \\u05d4\\u05d0\\u05d1\\u05e0\\u05d9\\u05dd \\u05d5\\u05de\\u05d0\\u05dc\\u05d9\\u05de\\u05d5\\u05ea \\u05db\\u05dc\\u05e4\\u05d9 \\u05e9\\u05d5\\u05d8\\u05e8\\u05d9\\u05dd, \\u05de\\u05d7\\u05d9\\u05d9\\u05d1 \\u05e2\\u05de\\u05d3\\u05d4 \\u05e2\\u05d5\\u05e0\\u05e9\\u05d9\\u05ea \\u05e0\\u05d7\\u05e8\\u05e6\\u05ea \\u05e9\\u05d9\\u05e9 \\u05d1\\u05d4 \\\\'\\u05dc\\u05d4\\u05e8\\u05ea\\u05d9\\u05e2 \\u05d0\\u05ea \\u05d4\\u05de\\u05d1\\u05e6\\u05e2 \\u05e2\\u05e6\\u05de\\u05d5 \\u05d5\\u05d0\\u05ea \\u05d4\\u05e2\\u05d1\\u05e8\\u05d9\\u05d9\\u05e0\\u05d9\\u05dd \\u05d1\\u05db\\u05d5\\u05d7, \\u05e6\\u05e2\\u05d9\\u05e8\\u05d9\\u05dd \\u05d4\\u05de\\u05ea\\u05e4\\u05ea\\u05d9\\u05dd \\u05e2\\u05dc \\u05e0\\u05e7\\u05dc\\u05d4 \\u05dc\\u05d4\\u05e9\\u05dc\\u05d9\\u05da \\u05d0\\u05d1\\u05e0\\u05d9\\u05dd \\u05d5\\u05d1\\u05e7\\u05d1\\u05d5\\u05e7\\u05d9 \\u05ea\\u05d1\\u05e2\\u05e8\\u05d4 \\u05d5\\u05dc\\u05e1\\u05db\\u05df \\u05d7\\u05d9\\u05d9 \\u05d0\\u05d3\\u05dd\\\\'...\\u05dc\\u05db\\u05df, \\u05d1\\u05d4\\u05d1\\u05d9\\u05d0\\u05e0\\u05d5 \\u05d1\\u05de\\u05e1\\u05d2\\u05e8\\u05ea \\u05d4\\u05e9\\u05d9\\u05e7\\u05d5\\u05dc\\u05d9\\u05dd \\u05d0\\u05ea \\u05d4\\u05e0\\u05e1\\u05d9\\u05d1\\u05d5\\u05ea \\u05d5\\u05d0\\u05ea \\u05d4\\u05d7\\u05d5\\u05de\\u05e8\\u05d4 \\u05e9\\u05d9\\u05e9 \\u05dc\\u05d9\\u05d9\\u05d7\\u05e1 \\u05dc\\u05e2\\u05d1\\u05d9\\u05e8\\u05d5\\u05ea \\u05d0\\u05dc\\u05d9\\u05de\\u05d5\\u05ea \\u05db\\u05dc\\u05e4\\u05d9 \\u05e9\\u05d5\\u05d8\\u05e8\\u05d9\\u05dd \\u05d5\\u05d4\\u05ea\\u05e4\\u05e8\\u05e2\\u05d5\\u05d9\\u05d5\\u05ea \\u05e9\\u05d1\\u05de\\u05d4\\u05dc\\u05db\\u05df \\u05de\\u05d9\\u05d9\\u05d3\\u05d9\\u05dd \\u05e7\\u05d8\\u05d9\\u05e0\\u05d9\\u05dd \\u05d0\\u05d1\\u05e0\\u05d9\\u05dd \\u05d5\\u05de\\u05d5\\u05e9\\u05dc\\u05db\\u05d9\\u05dd \\u05d0\\u05e3 \\u05d1\\u05e7\\u05d1\\u05d5\\u05e7\\u05d9 \\u05ea\\u05d1\\u05e2\\u05e8\\u05d4, \\u05ea\\u05d5\\u05e4\\u05e2\\u05d4 \\u05d4\\u05d4\\u05d5\\u05dc\\u05db\\u05ea \\u05d5\\u05de\\u05ea\\u05e2\\u05e6\\u05de\\u05ea \\u05de\\u05d6\\u05d4 \\u05d6\\u05de\\u05df \\u05d0\\u05e8\\u05d5\\u05da, \\u05d0\\u05e0\\u05d5 \\u05e1\\u05d1\\u05d5\\u05e8\\u05d9\\u05dd \\u05db\\u05d9 \\u05e8\\u05d0\\u05d5\\u05d9 \\u05dc\\u05d4\\u05e2\\u05d1\\u05d9\\u05e8 \\u05de\\u05e1\\u05e8 \\u05d0\\u05d7\\u05d3 \\u05d1\\u05e2\\u05d1\\u05d9\\u05e8\\u05d5\\u05ea \\u05db\\u05d0\\u05dc\\u05d4 \\u05db\\u05d9 \\u05d0\\u05d9\\u05df \\u05dc\\u05d4\\u05e1\\u05ea\\u05e4\\u05e7 \\u05d1\\u05e4\\u05df \\u05d4\\u05e9\\u05d9\\u05e7\\u05d5\\u05de\\u05d9 \\u05d5\\u05d4\\u05db\\u05dc\\u05dc \\u05d4\\u05d5\\u05d0 \\u05db\\u05d9 \\u05d9\\u05e9 \\u05dc\\u05d4\\u05e8\\u05e9\\u05d9\\u05e2 \\u05d0\\u05ea \\u05d4\\u05de\\u05e9\\u05d9\\u05d1\\u05d9\\u05dd \\u05d0\\u05e3 \\u05d0\\u05dd \\u05de\\u05d3\\u05d5\\u05d1\\u05e8 \\u05d1\\u05e7\\u05d8\\u05d9\\u05e0\\u05d9\\u05dd \\u05e9\\u05d6\\u05d5 \\u05dc\\u05d4\\u05dd \\u05d4\\u05e2\\u05d1\\u05d9\\u05e8\\u05d4 \\u05d4\\u05e8\\u05d0\\u05e9\\u05d5\\u05e0\\u05d4...\\\" \\u05dc\\u05d8\\u05e2\\u05de\\u05d9, \\u05d1\\u05d9\\u05ea \\u05d4\\u05de\\u05e9\\u05e4\\u05d8 \\u05d4\\u05de\\u05d7\\u05d5\\u05d6\\u05d9 \\u05e6\\u05d3\\u05e7 \\u05d1\\u05e7\\u05d1\\u05d9\\u05e2\\u05ea\\u05d5 \\u05d6\\u05d5, \\u05e9\\u05db\\u05df \\u05e1\\u05d5\\u05d2 \\u05d4\\u05e2\\u05d1\\u05d9\\u05e8\\u05d4 \\u05d5\\u05e0\\u05e1\\u05d9\\u05d1\\u05d5\\u05ea\\u05d9\\u05d4, \\u05d0\\u05d9\\u05e0\\u05dd \\u05de\\u05d0\\u05e4\\u05e9\\u05e8\\u05d9\\u05dd, \\u05d1\\u05e0\\u05d3\\u05d5\\u05df \\u05d3\\u05d9\\u05d3\\u05df, \\u05dc\\u05d4\\u05d9\\u05de\\u05e0\\u05e2 \\u05de\\u05d4\\u05e8\\u05e9\\u05e2\\u05d4. 12. \\u05d1\\u05db\\u05dc \\u05d4\\u05e0\\u05d5\\u05d2\\u05e2 \\u05dc\\u05e9\\u05d0\\u05dc\\u05d4 \\u05e9\\u05e2\\u05e0\\u05d9\\u05d9\\u05e0\\u05d4 \\u05d4\\u05e4\\u05d2\\u05d9\\u05e2\\u05d4 \\u05d1\\u05e6\\u05d5\\u05e8\\u05db\\u05d9 \\u05e9\\u05d9\\u05e7\\u05d5\\u05de\\u05d5 \\u05e9\\u05dc \\u05d4\\u05e0\\u05d0\\u05e9\\u05dd, \\u05e0\\u05e7\\u05d1\\u05e2, \\u05db\\u05d9 \\u05d0\\u05d9\\u05df \\u05de\\u05e7\\u05d5\\u05dd \\u05dc\\u05d4\\u05e1\\u05ea\\u05e4\\u05e7 \\u05d1\\\"\\u05ea\\u05e8\\u05d7\\u05d9\\u05e9 \\u05ea\\u05d9\\u05d0\\u05d5\\u05e8\\u05d8\\u05d9\\\", \\u05d5\\u05d9\\u05e9 \\u05dc\\u05d4\\u05e6\\u05d1\\u05d9\\u05e2 \\u05e2\\u05dc \\u05e7\\u05d9\\u05d5\\u05de\\u05d5 \\u05e9\\u05dc \\u05e0\\u05d6\\u05e7 \\\"\\u05de\\u05d5\\u05d7\\u05e9\\u05d9 \\u05d5\\u05e7\\u05d5\\u05e0\\u05e7\\u05e8\\u05d8\\u05d9\\\" \\u05d0\\u05e9\\u05e8 \\u05e6\\u05e4\\u05d5\\u05d9 \\u05dc\\u05e0\\u05d0\\u05e9\\u05dd \\u05db\\u05ea\\u05d5\\u05e6\\u05d0\\u05d4 \\u05de\\u05e2\\u05e6\\u05dd \\u05d4\\u05d4\\u05e8\\u05e9\\u05e2\\u05d4 (\\u05e8\\u05e2\\\"\\u05e4 1439/13 \\\\u200f\\u05e7\\u05e9\\u05ea \\u05e0\\\\' \\u05de\\u05d3\\u05d9\\u05e0\\u05ea \\u05d9\\u05e9\\u05e8\\u05d0\\u05dc (4.3.2013); \\u05e8\\u05e2\\\"\\u05e4 8627/12 \\u05d4\\u05e0\\u05e1\\u05d1 \\u05e0\\\\' \\u05de\\u05d3\\u05d9\\u05e0\\u05ea \\u05d9\\u05e9\\u05e8\\u05d0\\u05dc (31.12.2012)). \\u05d9\\u05e6\\u05d5\\u05d9\\u05d9\\u05df, \\u05db\\u05d9 \\u05d3\\u05e8\\u05d9\\u05e9\\u05d4 \\u05d6\\u05d5 \\u05d0\\u05d9\\u05e0\\u05d4 \\u05de\\u05ea\\u05d9\\u05d9\\u05ea\\u05e8\\u05ea, \\u05d2\\u05dd \\u05db\\u05d0\\u05e9\\u05e8 \\u05de\\u05d3\\u05d5\\u05d1\\u05e8 \\u05d1\\u05e7\\u05d8\\u05d9\\u05e0\\u05d9\\u05dd (\\u05e8\\u05d0\\u05d5 \\u05e2\\u05de\\u05d3\\u05ea\\u05d9 \\u05d1\\u05e2\\\"\\u05e4 5931/13 \\u05e4\\u05dc\\u05d5\\u05e0\\u05d9 \\u05e0\\\\' \\u05de\\u05d3\\u05d9\\u05e0\\u05ea \\u05d9\\u05e9\\u05e8\\u05d0\\u05dc (10.2.2014); \\u05e8\\u05e2\\\"\\u05e4 2180/14 \\u05e1\\u05e4\\u05d9\\u05e8 \\u05e9\\u05de\\u05d5\\u05d0\\u05dc\\u05d9 \\u05e0\\\\' \\u05de\\u05d3\\u05d9\\u05e0\\u05ea \\u05d9\\u05e9\\u05e8\\u05d0\\u05dc (24.4.2014)). \\u05d1\\u05de\\u05e7\\u05e8\\u05d4 \\u05e9\\u05dc\\u05e4\\u05e0\\u05d9\\u05e0\\u05d5, \\u05dc\\u05d0 \\u05de\\u05e6\\u05d0\\u05ea\\u05d9, \\u05db\\u05d9 \\u05d4\\u05e8\\u05e9\\u05e2\\u05ea \\u05d4\\u05de\\u05d1\\u05e7\\u05e9\\u05d9\\u05dd \\u05ea\\u05e4\\u05d2\\u05e2 \\u05d1\\u05d4\\u05dd \\u05e4\\u05d2\\u05d9\\u05e2\\u05d4 \\u05d7\\u05de\\u05d5\\u05e8\\u05d4, \\u05de\\u05d4 \\u05d2\\u05dd \\u05e9\\u05dc\\u05d0 \\u05e2\\u05dc\\u05d4 \\u05d1\\u05d9\\u05d3\\u05d9 \\u05d4\\u05de\\u05d1\\u05e7\\u05e9\\u05d9\\u05dd \\u05dc\\u05d4\\u05e8\\u05d0\\u05d5\\u05ea, \\u05db\\u05d9 \\u05d4\\u05e8\\u05e9\\u05e2\\u05ea\\u05dd \\u05ea\\u05d5\\u05d1\\u05d9\\u05dc \\u05dc\\u05e4\\u05d2\\u05d9\\u05e2\\u05d4 \\u05de\\u05d4\\u05d5\\u05ea\\u05d9\\u05ea \\u05d5\\u05e7\\u05d5\\u05e0\\u05e7\\u05e8\\u05d8\\u05d9\\u05ea \\u05d1\\u05e2\\u05ea\\u05d9\\u05d3\\u05dd \\u05d0\\u05d5 \\u05d1\\u05e6\\u05d5\\u05e8\\u05db\\u05d9 \\u05e9\\u05d9\\u05e7\\u05d5\\u05de\\u05dd. 13. \\u05dc\\u05de\\u05e2\\u05dc\\u05d4 \\u05de\\u05df \\u05d4\\u05e6\\u05d5\\u05e8\\u05da, \\u05d0\\u05d3\\u05e8\\u05e9, \\u05d1\\u05e7\\u05e6\\u05e8\\u05d4, \\u05dc\\u05d8\\u05e2\\u05e0\\u05d5\\u05ea\\u05d9\\u05d4\\u05dd \\u05e9\\u05dc \\u05d4\\u05de\\u05d1\\u05e7\\u05e9\\u05d9\\u05dd \\u05dc\\u05d2\\u05d5\\u05e4\\u05df. \\u05e8\\u05d0\\u05e9\\u05d9\\u05ea, \\u05d0\\u05d9\\u05df \\u05d1\\u05d9\\u05d3\\u05d9 \\u05dc\\u05e7\\u05d1\\u05dc \\u05d0\\u05ea \\u05d8\\u05e2\\u05e0\\u05ea \\u05d4\\u05de\\u05d1\\u05e7\\u05e9\\u05d9\\u05dd, \\u05dc\\u05e4\\u05d9\\u05d4 \\u05e4\\u05e1\\u05e7 \\u05d3\\u05d9\\u05e0\\u05d5 \\u05e9\\u05dc \\u05d1\\u05d9\\u05ea \\u05d4\\u05de\\u05e9\\u05e4\\u05d8 \\u05d4\\u05de\\u05d7\\u05d5\\u05d6\\u05d9 \\u05e4\\u05d5\\u05d2\\u05e2 \\u05d1\\u05e2\\u05e7\\u05e8\\u05d5\\u05df \\u05d4\\u05e9\\u05d5\\u05d5\\u05d9\\u05d5\\u05df, \\u05de\\u05e9\\u05d5\\u05dd \\u05e9\\u05dc\\u05d3\\u05d1\\u05e8\\u05d9\\u05d4\\u05dd \\u05d4\\u05e2\\u05d5\\u05e0\\u05e9\\u05d9\\u05dd \\u05d0\\u05e9\\u05e8 \\u05d4\\u05d5\\u05d8\\u05dc\\u05d5 \\u05e2\\u05dc\\u05d9\\u05d4\\u05dd \\u05d7\\u05de\\u05d5\\u05e8\\u05d9\\u05dd \\u05de\\u05d0\\u05dc\\u05d4 \\u05e9\\u05d4\\u05d5\\u05d8\\u05dc\\u05d5 \\u05e2\\u05dc \\u05d4\\u05e0\\u05d0\\u05e9\\u05de\\u05d9\\u05dd \\u05d4\\u05e0\\u05d5\\u05e1\\u05e4\\u05d9\\u05dd \\u05e9\\u05d4\\u05d9\\u05d5 \\u05e9\\u05d5\\u05ea\\u05e4\\u05d9\\u05dd \\u05dc\\u05d0\\u05d5\\u05ea\\u05df \\u05d4\\u05ea\\u05e4\\u05e8\\u05e2\\u05d5\\u05d9\\u05d5\\u05ea. \\u05d1\\u05d9\\u05ea \\u05d4\\u05de\\u05e9\\u05e4\\u05d8 \\u05d4\\u05de\\u05d7\\u05d5\\u05d6\\u05d9 \\u05e0\\u05ea\\u05df \\u05d0\\u05ea \\u05d3\\u05e2\\u05ea\\u05d5 \\u05dc\\u05e4\\u05e1\\u05d9\\u05e7\\u05d4 \\u05d0\\u05dc\\u05d9\\u05d4 \\u05d4\\u05e4\\u05e0\\u05d5 \\u05d4\\u05e6\\u05d3\\u05d3\\u05d9\\u05dd, \\u05d5\\u05d4\\u05d1\\u05d4\\u05d9\\u05e8, \\u05db\\u05d9 \\\"\\u05de\\u05e2\\u05e9\\u05d9 \\u05d4\\u05de\\u05e9\\u05d9\\u05d1\\u05d9\\u05dd \\u05d1\\u05de\\u05e7\\u05e8\\u05d4 \\u05d6\\u05d4 \\u05d7\\u05de\\u05d5\\u05e8\\u05d9\\u05dd \\u05d1\\u05d9\\u05d5\\u05ea\\u05e8, \\u05de\\u05e2\\u05d1\\u05e8 \\u05dc\\u05d7\\u05d5\\u05de\\u05e8\\u05d4 \\u05e9\\u05ea\\u05d5\\u05d0\\u05e8\\u05d4 \\u05d1\\u05e8\\u05d1\\u05d9\\u05dd \\u05de\\u05e4\\u05e1\\u05e7\\u05d9 \\u05d4\\u05d3\\u05d9\\u05df \\u05e9\\u05e4\\u05d5\\u05e8\\u05d8\\u05d5 \\u05dc\\u05e2\\u05d9\\u05dc\\\". \\u05de\\u05e2\\u05d1\\u05e8 \\u05dc\\u05d6\\u05d0\\u05ea, \\u05d4\\u05dc\\u05db\\u05d4 \\u05d4\\u05d9\\u05d0, \\u05db\\u05d9 \\u05d4\\u05e9\\u05d2\\u05d4 \\u05e2\\u05dc \\u05de\\u05d9\\u05d3\\u05ea \\u05d4\\u05e2\\u05d5\\u05e0\\u05e9 \\u05d0\\u05d9\\u05df \\u05d1\\u05db\\u05d5\\u05d7\\u05d4 \\u05dc\\u05d4\\u05e6\\u05d3\\u05d9\\u05e7 \\u05de\\u05ea\\u05df \\u05e8\\u05e9\\u05d5\\u05ea \\u05e2\\u05e8\\u05e2\\u05d5\\u05e8, \\u05dc\\u05de\\u05e2\\u05d8 \\u05d1\\u05de\\u05e7\\u05e8\\u05d9\\u05dd \\u05d1\\u05d4\\u05dd \\u05e0\\u05d9\\u05db\\u05e8\\u05ea \\u05d7\\u05e8\\u05d9\\u05d2\\u05d4 \\u05e7\\u05d9\\u05e6\\u05d5\\u05e0\\u05d9\\u05ea \\u05de\\u05de\\u05d3\\u05d9\\u05e0\\u05d9\\u05d5\\u05ea \\u05d4\\u05e2\\u05e0\\u05d9\\u05e9\\u05d4 \\u05d4\\u05e8\\u05d0\\u05d5\\u05d9\\u05d4 \\u05d5\\u05d4\\u05de\\u05e7\\u05d5\\u05d1\\u05dc\\u05ea \\u05d1\\u05de\\u05e7\\u05e8\\u05d9\\u05dd \\u05d3\\u05d5\\u05de\\u05d9\\u05dd (\\u05e8\\u05e2\\\"\\u05e4 8719/14 \\u05d9\\u05e2\\u05e7\\u05d1 \\u05d1\\u05df \\u05d8\\u05d5\\u05dc\\u05d9\\u05dc\\u05d4 \\u05e0\\\\' \\u05de\\u05d3\\u05d9\\u05e0\\u05ea \\u05d9\\u05e9\\u05e8\\u05d0\\u05dc (14.1.2015); \\u05e8\\u05e2\\\"\\u05e4 7584/14 \\u05d0\\u05d1\\u05d5 \\u05e9\\u05d5\\u05e7\\u05d5\\u05e8 \\u05e0\\\\' \\u05de\\u05d3\\u05d9\\u05e0\\u05ea \\u05d9\\u05e9\\u05e8\\u05d0\\u05dc (2.12.2014); \\u05e8\\u05e2\\\"\\u05e4 7641/14 \\u05d0\\u05dc\\u05d8\\u05d5\\u05e8\\u05d9 \\u05e0\\\\' \\u05de\\u05d3\\u05d9\\u05e0\\u05ea \\u05d9\\u05e9\\u05e8\\u05d0\\u05dc (30.11.2014)). \\u05d2\\u05dd \\u05d0\\u05dd \\u05e0\\u05d9\\u05ea\\u05df \\u05d4\\u05d9\\u05d4 \\u05dc\\u05de\\u05e6\\u05d5\\u05d0 \\u05d2\\u05d6\\u05e8\\u05d9 \\u05d3\\u05d9\\u05df \\u05de\\u05e7\\u05dc\\u05d9\\u05dd \\u05d9\\u05d5\\u05ea\\u05e8, \\u05d1\\u05e0\\u05e1\\u05d9\\u05d1\\u05d5\\u05ea \\u05d4\\u05d3\\u05d5\\u05de\\u05d5\\u05ea \\u05dc\\u05e2\\u05e0\\u05d9\\u05d9\\u05e0\\u05e0\\u05d5, \\u05d0\\u05d9\\u05df \\u05d4\\u05d3\\u05d1\\u05e8 \\u05de\\u05e2\\u05d9\\u05d3 \\u05db\\u05d9 \\u05d4\\u05e2\\u05d5\\u05e0\\u05e9 \\u05d0\\u05e9\\u05e8 \\u05d4\\u05d5\\u05e9\\u05ea \\u05e2\\u05dc \\u05d4\\u05de\\u05d1\\u05e7\\u05e9\\u05d9\\u05dd \\u05d7\\u05d5\\u05e8\\u05d2 \\u05d1\\u05d0\\u05d5\\u05e4\\u05df \\u05de\\u05d4\\u05d5\\u05ea\\u05d9 \\u05de\\u05de\\u05d3\\u05d9\\u05e0\\u05d9\\u05d5\\u05ea \\u05d4\\u05e2\\u05e0\\u05d9\\u05e9\\u05d4 \\u05d4\\u05e8\\u05d0\\u05d5\\u05d9\\u05d4. \\u05d1\\u05de\\u05e6\\u05d1 \\u05d3\\u05d1\\u05e8\\u05d9\\u05dd \\u05d6\\u05d4, \\u05e1\\u05d1\\u05d5\\u05e8\\u05e0\\u05d9 \\u05db\\u05d9 \\u05dc\\u05d0 \\u05e0\\u05e4\\u05dc \\u05db\\u05dc \\u05e4\\u05d2\\u05dd \\u05d1\\u05e2\\u05d5\\u05e0\\u05e9\\u05d9\\u05dd \\u05d0\\u05e9\\u05e8 \\u05d4\\u05d5\\u05e9\\u05ea\\u05d5 \\u05e2\\u05dc \\u05d4\\u05de\\u05d1\\u05e7\\u05e9\\u05d9\\u05dd \\u05e2\\u05dc-\\u05d9\\u05d3\\u05d9 \\u05d1\\u05d9\\u05ea \\u05d4\\u05de\\u05e9\\u05e4\\u05d8 \\u05d4\\u05de\\u05d7\\u05d5\\u05d6\\u05d9. 14. \\u05d1\\u05d0\\u05d5\\u05e4\\u05df \\u05d3\\u05d5\\u05de\\u05d4, \\u05dc\\u05d0 \\u05de\\u05e6\\u05d0\\u05ea\\u05d9 \\u05de\\u05de\\u05e9 \\u05d1\\u05d8\\u05e2\\u05e0\\u05ea \\u05d4\\u05de\\u05d1\\u05e7\\u05e9\\u05d9\\u05dd, \\u05db\\u05d9 \\u05d1\\u05d9\\u05ea \\u05d4\\u05de\\u05e9\\u05e4\\u05d8 \\u05d4\\u05de\\u05d7\\u05d5\\u05d6\\u05d9 \\u05dc\\u05d0 \\u05d4\\u05ea\\u05d0\\u05d9\\u05dd \\u05d0\\u05ea \\u05d4\\u05e2\\u05e0\\u05d9\\u05e9\\u05d4 \\u05dc\\u05e0\\u05e1\\u05d9\\u05d1\\u05d5\\u05ea\\u05d9\\u05d4\\u05dd \\u05d4\\u05d0\\u05d9\\u05e9\\u05d9\\u05d5\\u05ea. \\u05dc\\u05e2\\u05e0\\u05d9\\u05d9\\u05df \\u05d6\\u05d4, \\u05e7\\u05d1\\u05e2 \\u05d1\\u05d9\\u05ea \\u05d4\\u05de\\u05e9\\u05e4\\u05d8 \\u05d4\\u05de\\u05d7\\u05d5\\u05d6\\u05d9, \\u05db\\u05d9: \\\"\\u05d1\\u05e6\\u05d3 \\u05d4\\u05d7\\u05d5\\u05de\\u05e8\\u05d4 \\u05e9\\u05e8\\u05d0\\u05d9\\u05e0\\u05d5 \\u05dc\\u05d9\\u05d9\\u05d7\\u05e1 \\u05dc\\u05e2\\u05d1\\u05d9\\u05e8\\u05d5\\u05ea \\u05e9\\u05d1\\u05d4\\u05df \\u05d4\\u05d5\\u05e8\\u05e9\\u05e2\\u05d5 \\u05d4\\u05de\\u05e9\\u05d9\\u05d1\\u05d9\\u05dd, \\u05e0\\u05ea\\u05e0\\u05d5 \\u05d3\\u05e2\\u05ea\\u05e0\\u05d5 \\u05dc\\u05e0\\u05e1\\u05d9\\u05d1\\u05d5\\u05ea\\u05d9\\u05d4\\u05dd \\u05d4\\u05d0\\u05d9\\u05e9\\u05d9\\u05d5\\u05ea \\u05e9\\u05dc \\u05d4\\u05de\\u05e9\\u05d9\\u05d1\\u05d9\\u05dd, \\u05dc\\u05d2\\u05d9\\u05dc\\u05dd \\u05d1\\u05e2\\u05ea \\u05d1\\u05d9\\u05e6\\u05d5\\u05e2 \\u05d4\\u05e2\\u05d1\\u05d9\\u05e8\\u05d5\\u05ea, \\u05dc\\u05ea\\u05e1\\u05e7\\u05d9\\u05e8 \\u05e9\\u05d9\\u05e8\\u05d5\\u05ea \\u05d4\\u05de\\u05d1\\u05d7\\u05df, \\u05dc\\u05d4\\u05e2\\u05d3\\u05e8 \\u05e8\\u05d9\\u05e9\\u05d5\\u05dd \\u05e4\\u05dc\\u05d9\\u05dc\\u05d9 \\u05d5\\u05dc\\u05d4\\u05ea\\u05d9\\u05d9\\u05d7\\u05e1\\u05d5\\u05ea \\u05d1\\u05d9\\u05ea \\u05de\\u05e9\\u05e4\\u05d8 \\u05e7\\u05de\\u05d0 \\u05dc\\u05e0\\u05e1\\u05d9\\u05d1\\u05d5\\u05ea \\u05e9\\u05dc \\u05d4\\u05de\\u05e9\\u05d9\\u05d1\\u05d9\\u05dd \\u05db\\u05d0\\u05de\\u05d5\\u05e8 \\u05d1\\u05d2\\u05d6\\u05e8 \\u05d4\\u05d3\\u05d9\\u05df, \\u05d5\\u05e8\\u05d0\\u05d9\\u05e0\\u05d5 \\u05d0\\u05e3 \\u05dc\\u05d0\\u05de\\u05e5 \\u05d0\\u05ea \\u05d3\\u05d1\\u05e8\\u05d9\\u05d5 \\u05d0\\u05e9\\u05e8 \\u05dc\\u05de\\u05e9\\u05d9\\u05d1\\u05d9\\u05dd \\u05d5\\u05d0\\u05e9\\u05e8 \\u05dc\\u05de\\u05d3\\u05e8\\u05d2 \\u05e9\\u05e7\\u05d1\\u05e2 \\u05d1\\u05e2\\u05e0\\u05d9\\u05e9\\u05d4 \\u05dc\\u05d2\\u05d1\\u05d9\\u05d4\\u05dd \\u05d1\\u05e9\\u05dc \\u05d4\\u05e9\\u05d5\\u05e0\\u05d9 \\u05d1\\u05d2\\u05d9\\u05dc\\u05dd...\\\" \\u05d4\\u05e0\\u05d4 \\u05db\\u05d9 \\u05db\\u05df, \\u05d1\\u05d9\\u05ea \\u05d4\\u05de\\u05e9\\u05e4\\u05d8 \\u05d4\\u05de\\u05d7\\u05d5\\u05d6\\u05d9 \\u05dc\\u05d0 \\u05d4\\u05ea\\u05e2\\u05dc\\u05dd \\u05de\\u05e0\\u05e1\\u05d9\\u05d1\\u05d5\\u05ea\\u05d9\\u05d4\\u05dd \\u05d4\\u05e4\\u05e8\\u05d8\\u05e0\\u05d9\\u05d5\\u05ea \\u05e9\\u05dc \\u05d4\\u05de\\u05d1\\u05e7\\u05e9\\u05d9\\u05dd, \\u05d5\\u05de\\u05d9\\u05ea\\u05e8 \\u05d4\\u05e9\\u05d9\\u05e7\\u05d5\\u05dc\\u05d9\\u05dd \\u05dc\\u05e7\\u05d5\\u05dc\\u05d4. \\u05d1\\u05d9\\u05ea \\u05d4\\u05de\\u05e9\\u05e4\\u05d8 \\u05d4\\u05de\\u05d7\\u05d5\\u05d6\\u05d9 \\u05e0\\u05ea\\u05df \\u05d0\\u05ea \\u05d3\\u05e2\\u05ea\\u05d5 \\u05dc\\u05de\\u05db\\u05dc\\u05d5\\u05dc \\u05e9\\u05d9\\u05e7\\u05d5\\u05dc\\u05d9 \\u05d4\\u05e2\\u05e0\\u05d9\\u05e9\\u05d4 \\u05d4\\u05e8\\u05dc\\u05d5\\u05d5\\u05e0\\u05d8\\u05d9\\u05d9\\u05dd, \\u05d5\\u05e2\\u05e8\\u05da \\u05d1\\u05d9\\u05e0\\u05d9\\u05d4\\u05dd \\u05d0\\u05d9\\u05d6\\u05d5\\u05df \\u05e8\\u05d0\\u05d5\\u05d9, \\u05d1\\u05e0\\u05e1\\u05d9\\u05d1\\u05d5\\u05ea \\u05d4\\u05e2\\u05e0\\u05d9\\u05d9\\u05df. \\u05dc\\u05e4\\u05d9\\u05db\\u05da, \\u05d0\\u05d9\\u05e0\\u05e0\\u05d9 \\u05e8\\u05d5\\u05d0\\u05d4 \\u05db\\u05dc \\u05d4\\u05e6\\u05d3\\u05e7\\u05d4 \\u05dc\\u05d4\\u05ea\\u05e2\\u05e8\\u05d1 \\u05d1\\u05de\\u05d9\\u05d3\\u05ea \\u05e2\\u05d5\\u05e0\\u05e9\\u05dd \\u05e9\\u05dc \\u05d4\\u05de\\u05d1\\u05e7\\u05e9\\u05d9\\u05dd, \\u05d5\\u05d4\\u05d3\\u05d1\\u05e8\\u05d9\\u05dd \\u05e0\\u05d0\\u05de\\u05e8\\u05d9\\u05dd \\u05d1\\u05d9\\u05ea\\u05e8 \\u05e9\\u05d0\\u05ea \\u05db\\u05d0\\u05e9\\u05e8 \\u05de\\u05d3\\u05d5\\u05d1\\u05e8 \\u05d1\\u05d3\\u05d9\\u05d5\\u05df \\u05d1\\\"\\u05d2\\u05dc\\u05d2\\u05d5\\u05dc \\u05e9\\u05dc\\u05d9\\u05e9\\u05d9\\\". 15. \\u05d0\\u05e9\\u05e8 \\u05e2\\u05dc \\u05db\\u05df, \\u05d4\\u05d1\\u05e7\\u05e9\\u05d4 \\u05dc\\u05e8\\u05e9\\u05d5\\u05ea \\u05e2\\u05e8\\u05e2\\u05d5\\u05e8 \\u05e0\\u05d3\\u05d7\\u05d9\\u05ea \\u05d1\\u05d6\\u05d0\\u05ea. \\u05d4\\u05de\\u05d1\\u05e7\\u05e9\\u05d9\\u05dd \\u05d9\\u05ea\\u05d9\\u05d9\\u05e6\\u05d1\\u05d5 \\u05dc\\u05e8\\u05d9\\u05e6\\u05d5\\u05d9 \\u05e2\\u05d5\\u05e0\\u05e9\\u05dd \\u05d1\\u05d9\\u05d5\\u05dd 1.3.2015, \\u05e2\\u05d3 \\u05dc\\u05e9\\u05e2\\u05d4 10:00, \\u05d1\\u05d9\\u05de\\\"\\u05e8 \\u05e0\\u05d9\\u05e6\\u05df, \\u05d0\\u05d5 \\u05e2\\u05dc \\u05e4\\u05d9 \\u05d4\\u05d7\\u05dc\\u05d8\\u05ea \\u05e9\\u05d9\\u05e8\\u05d5\\u05ea \\u05d1\\u05ea\\u05d9 \\u05d4\\u05e1\\u05d5\\u05d4\\u05e8, \\u05db\\u05e9\\u05d1\\u05e8\\u05e9\\u05d5\\u05ea\\u05dd \\u05ea\\u05e2\\u05d5\\u05d3\\u05ea \\u05d6\\u05d4\\u05d5\\u05ea \\u05d0\\u05d5 \\u05d3\\u05e8\\u05db\\u05d5\\u05df \\u05d5\\u05e2\\u05d5\\u05ea\\u05e7 \\u05de\\u05d4\\u05d7\\u05dc\\u05d8\\u05d4 \\u05d6\\u05d5. \\u05e2\\u05dc \\u05d4\\u05de\\u05d1\\u05e7\\u05e9\\u05d9\\u05dd \\u05dc\\u05ea\\u05d0\\u05dd \\u05d0\\u05ea \\u05d4\\u05db\\u05e0\\u05d9\\u05e1\\u05d4 \\u05dc\\u05de\\u05d0\\u05e1\\u05e8, \\u05e2\\u05dd \\u05e2\\u05e0\\u05e3 \\u05d0\\u05d1\\u05d7\\u05d5\\u05df \\u05d5\\u05de\\u05d9\\u05d5\\u05df \\u05e9\\u05dc \\u05e9\\u05d9\\u05e8\\u05d5\\u05ea \\u05d1\\u05ea\\u05d9 \\u05d4\\u05e1\\u05d5\\u05d4\\u05e8, \\u05d1\\u05d8\\u05dc\\u05e4\\u05d5\\u05e0\\u05d9\\u05dd:\"\n        ],\n        \"semantic_type\": \"\",\n        \"description\": \"\"\n      }\n    }\n  ]\n}"
            }
          },
          "metadata": {},
          "execution_count": 26
        }
      ]
    },
    {
      "cell_type": "code",
      "source": [],
      "metadata": {
        "id": "yI75UNYF-8eD"
      },
      "execution_count": 26,
      "outputs": []
    },
    {
      "cell_type": "code",
      "source": [
        "df = df[['גוף המסמך', 'מספר הליך', 'שם הליך', 'שנת פתיחת ההליך',\n",
        "       'גוף המסמך חתוך', 'בקשה לרשות ערעור התקבלה?',\n",
        "       'טקסט שמצביע על תוצאת בקשה שונה', 'הערעור התקבל?',\n",
        "       'רע\"פ בקשה אחרת או דלמטה מיוחד', 'הערות ', 'הערות קידוד חוזר',\n",
        "       'טקסט שמצביע על תוצאת בקשה שונה (טקסטים שונים מופרדים ב-**)',\n",
        "       'הערות תוצאת ערעור', 'length',]]"
      ],
      "metadata": {
        "id": "2SuWC1ad7GuW"
      },
      "execution_count": 27,
      "outputs": []
    },
    {
      "cell_type": "code",
      "source": [
        "df.columns = df.columns.str.strip()\n",
        "df.columns = df.columns.str.replace(\"\\n\", \"\")\n",
        "df.columns = df.columns.str.replace(\"  \", \" \")"
      ],
      "metadata": {
        "id": "yAKcKxV--dai"
      },
      "execution_count": 28,
      "outputs": []
    },
    {
      "cell_type": "code",
      "source": [
        "df.rename(columns={\n",
        "    'הערות ':\"הערות\",\n",
        "    'טקסט שמצביע על תוצאת בקשה שונה':\"טקסט שמצביע על תוצאת בקשה\",\n",
        "    \"טקסט שמצביע על תוצאת בקשה שונה (טקסטים שונים מופרדים ב-**)\": \"טקסט שמצביע על התוצאה\"\n",
        "}, inplace=True)\n",
        "\n",
        "df.columns\n"
      ],
      "metadata": {
        "colab": {
          "base_uri": "https://localhost:8080/"
        },
        "id": "kdd6KMu89uSk",
        "outputId": "f00df3e3-6554-4627-bb2a-bb98a158ed74"
      },
      "execution_count": 29,
      "outputs": [
        {
          "output_type": "execute_result",
          "data": {
            "text/plain": [
              "Index(['גוף המסמך', 'מספר הליך', 'שם הליך', 'שנת פתיחת ההליך',\n",
              "       'גוף המסמך חתוך', 'בקשה לרשות ערעור התקבלה?',\n",
              "       'טקסט שמצביע על תוצאת בקשה', 'הערעור התקבל?',\n",
              "       'רע\"פ בקשה אחרת או דלמטה מיוחד', 'הערות', 'הערות קידוד חוזר',\n",
              "       'טקסט שמצביע על התוצאה', 'הערות תוצאת ערעור', 'length'],\n",
              "      dtype='object')"
            ]
          },
          "metadata": {},
          "execution_count": 29
        }
      ]
    },
    {
      "cell_type": "code",
      "source": [
        "columns_to_merge = [\n",
        "    'טקסט שמצביע על תוצאת בקשה',\n",
        "    'רע\"פ בקשה אחרת או דלמטה מיוחד',  \"הערות\", 'הערות קידוד חוזר',\n",
        "    \"טקסט שמצביע על התוצאה\",\n",
        "    'הערות תוצאת ערעור'\n",
        "]\n",
        "\n",
        "def clean_merge_columns(row, columns):\n",
        "    values = []\n",
        "    for col in columns:\n",
        "        if pd.notna(row[col]) and str(row[col]).strip():\n",
        "            text = f\"{str(row[col]).strip()}\"\n",
        "            text.replace(\"?\", \"\")\n",
        "            text\n",
        "            text = re.sub(r\"הערה של \\S+\\s*\", \"\", text)\n",
        "            values.append(text)\n",
        "\n",
        "    return \"\\n\".join(values) if values else None\n",
        "\n",
        "# יצירת עמודה מאוחדת עם כותרות לכל ערך\n",
        "df[\"תוצאה מסכמת\"] = df.apply(lambda row: clean_merge_columns(row, columns_to_merge), axis=1)\n",
        "\n",
        "\n",
        "# הצגת מספר דוגמאות לבדיקה\n",
        "df[[\"תוצאה מסכמת\"]].head()\n"
      ],
      "metadata": {
        "colab": {
          "base_uri": "https://localhost:8080/",
          "height": 206
        },
        "id": "SIeNQC_W8IBy",
        "outputId": "b6a416a3-c0c5-4e90-a50f-fb15f599e6dd"
      },
      "execution_count": 30,
      "outputs": [
        {
          "output_type": "execute_result",
          "data": {
            "text/plain": [
              "                                           תוצאה מסכמת\n",
              "5    לנוכח כל האמור לעיל – הבקשה למתן רשות ערעור נדחית\n",
              "31              בקשה לעיכוב ביצוע עונש מאסר\\nבקשה אחרת\n",
              "67             אשר על כן, הבקשה לרשות ערעור נדחית בזאת\n",
              "73                                 - זהו פסק דין משלים\n",
              "114  חזרו בהם באי כוח המבקשים מהבקשות למתן רשות ערע..."
            ],
            "text/html": [
              "\n",
              "  <div id=\"df-cb3a1d74-499a-46fd-81fb-3e5c30b10043\" class=\"colab-df-container\">\n",
              "    <div>\n",
              "<style scoped>\n",
              "    .dataframe tbody tr th:only-of-type {\n",
              "        vertical-align: middle;\n",
              "    }\n",
              "\n",
              "    .dataframe tbody tr th {\n",
              "        vertical-align: top;\n",
              "    }\n",
              "\n",
              "    .dataframe thead th {\n",
              "        text-align: right;\n",
              "    }\n",
              "</style>\n",
              "<table border=\"1\" class=\"dataframe\">\n",
              "  <thead>\n",
              "    <tr style=\"text-align: right;\">\n",
              "      <th></th>\n",
              "      <th>תוצאה מסכמת</th>\n",
              "    </tr>\n",
              "  </thead>\n",
              "  <tbody>\n",
              "    <tr>\n",
              "      <th>5</th>\n",
              "      <td>לנוכח כל האמור לעיל – הבקשה למתן רשות ערעור נדחית</td>\n",
              "    </tr>\n",
              "    <tr>\n",
              "      <th>31</th>\n",
              "      <td>בקשה לעיכוב ביצוע עונש מאסר\\nבקשה אחרת</td>\n",
              "    </tr>\n",
              "    <tr>\n",
              "      <th>67</th>\n",
              "      <td>אשר על כן, הבקשה לרשות ערעור נדחית בזאת</td>\n",
              "    </tr>\n",
              "    <tr>\n",
              "      <th>73</th>\n",
              "      <td>- זהו פסק דין משלים</td>\n",
              "    </tr>\n",
              "    <tr>\n",
              "      <th>114</th>\n",
              "      <td>חזרו בהם באי כוח המבקשים מהבקשות למתן רשות ערע...</td>\n",
              "    </tr>\n",
              "  </tbody>\n",
              "</table>\n",
              "</div>\n",
              "    <div class=\"colab-df-buttons\">\n",
              "\n",
              "  <div class=\"colab-df-container\">\n",
              "    <button class=\"colab-df-convert\" onclick=\"convertToInteractive('df-cb3a1d74-499a-46fd-81fb-3e5c30b10043')\"\n",
              "            title=\"Convert this dataframe to an interactive table.\"\n",
              "            style=\"display:none;\">\n",
              "\n",
              "  <svg xmlns=\"http://www.w3.org/2000/svg\" height=\"24px\" viewBox=\"0 -960 960 960\">\n",
              "    <path d=\"M120-120v-720h720v720H120Zm60-500h600v-160H180v160Zm220 220h160v-160H400v160Zm0 220h160v-160H400v160ZM180-400h160v-160H180v160Zm440 0h160v-160H620v160ZM180-180h160v-160H180v160Zm440 0h160v-160H620v160Z\"/>\n",
              "  </svg>\n",
              "    </button>\n",
              "\n",
              "  <style>\n",
              "    .colab-df-container {\n",
              "      display:flex;\n",
              "      gap: 12px;\n",
              "    }\n",
              "\n",
              "    .colab-df-convert {\n",
              "      background-color: #E8F0FE;\n",
              "      border: none;\n",
              "      border-radius: 50%;\n",
              "      cursor: pointer;\n",
              "      display: none;\n",
              "      fill: #1967D2;\n",
              "      height: 32px;\n",
              "      padding: 0 0 0 0;\n",
              "      width: 32px;\n",
              "    }\n",
              "\n",
              "    .colab-df-convert:hover {\n",
              "      background-color: #E2EBFA;\n",
              "      box-shadow: 0px 1px 2px rgba(60, 64, 67, 0.3), 0px 1px 3px 1px rgba(60, 64, 67, 0.15);\n",
              "      fill: #174EA6;\n",
              "    }\n",
              "\n",
              "    .colab-df-buttons div {\n",
              "      margin-bottom: 4px;\n",
              "    }\n",
              "\n",
              "    [theme=dark] .colab-df-convert {\n",
              "      background-color: #3B4455;\n",
              "      fill: #D2E3FC;\n",
              "    }\n",
              "\n",
              "    [theme=dark] .colab-df-convert:hover {\n",
              "      background-color: #434B5C;\n",
              "      box-shadow: 0px 1px 3px 1px rgba(0, 0, 0, 0.15);\n",
              "      filter: drop-shadow(0px 1px 2px rgba(0, 0, 0, 0.3));\n",
              "      fill: #FFFFFF;\n",
              "    }\n",
              "  </style>\n",
              "\n",
              "    <script>\n",
              "      const buttonEl =\n",
              "        document.querySelector('#df-cb3a1d74-499a-46fd-81fb-3e5c30b10043 button.colab-df-convert');\n",
              "      buttonEl.style.display =\n",
              "        google.colab.kernel.accessAllowed ? 'block' : 'none';\n",
              "\n",
              "      async function convertToInteractive(key) {\n",
              "        const element = document.querySelector('#df-cb3a1d74-499a-46fd-81fb-3e5c30b10043');\n",
              "        const dataTable =\n",
              "          await google.colab.kernel.invokeFunction('convertToInteractive',\n",
              "                                                    [key], {});\n",
              "        if (!dataTable) return;\n",
              "\n",
              "        const docLinkHtml = 'Like what you see? Visit the ' +\n",
              "          '<a target=\"_blank\" href=https://colab.research.google.com/notebooks/data_table.ipynb>data table notebook</a>'\n",
              "          + ' to learn more about interactive tables.';\n",
              "        element.innerHTML = '';\n",
              "        dataTable['output_type'] = 'display_data';\n",
              "        await google.colab.output.renderOutput(dataTable, element);\n",
              "        const docLink = document.createElement('div');\n",
              "        docLink.innerHTML = docLinkHtml;\n",
              "        element.appendChild(docLink);\n",
              "      }\n",
              "    </script>\n",
              "  </div>\n",
              "\n",
              "\n",
              "<div id=\"df-d56bd53f-d46b-4bae-aa61-bdeaa4ff0751\">\n",
              "  <button class=\"colab-df-quickchart\" onclick=\"quickchart('df-d56bd53f-d46b-4bae-aa61-bdeaa4ff0751')\"\n",
              "            title=\"Suggest charts\"\n",
              "            style=\"display:none;\">\n",
              "\n",
              "<svg xmlns=\"http://www.w3.org/2000/svg\" height=\"24px\"viewBox=\"0 0 24 24\"\n",
              "     width=\"24px\">\n",
              "    <g>\n",
              "        <path d=\"M19 3H5c-1.1 0-2 .9-2 2v14c0 1.1.9 2 2 2h14c1.1 0 2-.9 2-2V5c0-1.1-.9-2-2-2zM9 17H7v-7h2v7zm4 0h-2V7h2v10zm4 0h-2v-4h2v4z\"/>\n",
              "    </g>\n",
              "</svg>\n",
              "  </button>\n",
              "\n",
              "<style>\n",
              "  .colab-df-quickchart {\n",
              "      --bg-color: #E8F0FE;\n",
              "      --fill-color: #1967D2;\n",
              "      --hover-bg-color: #E2EBFA;\n",
              "      --hover-fill-color: #174EA6;\n",
              "      --disabled-fill-color: #AAA;\n",
              "      --disabled-bg-color: #DDD;\n",
              "  }\n",
              "\n",
              "  [theme=dark] .colab-df-quickchart {\n",
              "      --bg-color: #3B4455;\n",
              "      --fill-color: #D2E3FC;\n",
              "      --hover-bg-color: #434B5C;\n",
              "      --hover-fill-color: #FFFFFF;\n",
              "      --disabled-bg-color: #3B4455;\n",
              "      --disabled-fill-color: #666;\n",
              "  }\n",
              "\n",
              "  .colab-df-quickchart {\n",
              "    background-color: var(--bg-color);\n",
              "    border: none;\n",
              "    border-radius: 50%;\n",
              "    cursor: pointer;\n",
              "    display: none;\n",
              "    fill: var(--fill-color);\n",
              "    height: 32px;\n",
              "    padding: 0;\n",
              "    width: 32px;\n",
              "  }\n",
              "\n",
              "  .colab-df-quickchart:hover {\n",
              "    background-color: var(--hover-bg-color);\n",
              "    box-shadow: 0 1px 2px rgba(60, 64, 67, 0.3), 0 1px 3px 1px rgba(60, 64, 67, 0.15);\n",
              "    fill: var(--button-hover-fill-color);\n",
              "  }\n",
              "\n",
              "  .colab-df-quickchart-complete:disabled,\n",
              "  .colab-df-quickchart-complete:disabled:hover {\n",
              "    background-color: var(--disabled-bg-color);\n",
              "    fill: var(--disabled-fill-color);\n",
              "    box-shadow: none;\n",
              "  }\n",
              "\n",
              "  .colab-df-spinner {\n",
              "    border: 2px solid var(--fill-color);\n",
              "    border-color: transparent;\n",
              "    border-bottom-color: var(--fill-color);\n",
              "    animation:\n",
              "      spin 1s steps(1) infinite;\n",
              "  }\n",
              "\n",
              "  @keyframes spin {\n",
              "    0% {\n",
              "      border-color: transparent;\n",
              "      border-bottom-color: var(--fill-color);\n",
              "      border-left-color: var(--fill-color);\n",
              "    }\n",
              "    20% {\n",
              "      border-color: transparent;\n",
              "      border-left-color: var(--fill-color);\n",
              "      border-top-color: var(--fill-color);\n",
              "    }\n",
              "    30% {\n",
              "      border-color: transparent;\n",
              "      border-left-color: var(--fill-color);\n",
              "      border-top-color: var(--fill-color);\n",
              "      border-right-color: var(--fill-color);\n",
              "    }\n",
              "    40% {\n",
              "      border-color: transparent;\n",
              "      border-right-color: var(--fill-color);\n",
              "      border-top-color: var(--fill-color);\n",
              "    }\n",
              "    60% {\n",
              "      border-color: transparent;\n",
              "      border-right-color: var(--fill-color);\n",
              "    }\n",
              "    80% {\n",
              "      border-color: transparent;\n",
              "      border-right-color: var(--fill-color);\n",
              "      border-bottom-color: var(--fill-color);\n",
              "    }\n",
              "    90% {\n",
              "      border-color: transparent;\n",
              "      border-bottom-color: var(--fill-color);\n",
              "    }\n",
              "  }\n",
              "</style>\n",
              "\n",
              "  <script>\n",
              "    async function quickchart(key) {\n",
              "      const quickchartButtonEl =\n",
              "        document.querySelector('#' + key + ' button');\n",
              "      quickchartButtonEl.disabled = true;  // To prevent multiple clicks.\n",
              "      quickchartButtonEl.classList.add('colab-df-spinner');\n",
              "      try {\n",
              "        const charts = await google.colab.kernel.invokeFunction(\n",
              "            'suggestCharts', [key], {});\n",
              "      } catch (error) {\n",
              "        console.error('Error during call to suggestCharts:', error);\n",
              "      }\n",
              "      quickchartButtonEl.classList.remove('colab-df-spinner');\n",
              "      quickchartButtonEl.classList.add('colab-df-quickchart-complete');\n",
              "    }\n",
              "    (() => {\n",
              "      let quickchartButtonEl =\n",
              "        document.querySelector('#df-d56bd53f-d46b-4bae-aa61-bdeaa4ff0751 button');\n",
              "      quickchartButtonEl.style.display =\n",
              "        google.colab.kernel.accessAllowed ? 'block' : 'none';\n",
              "    })();\n",
              "  </script>\n",
              "</div>\n",
              "\n",
              "    </div>\n",
              "  </div>\n"
            ],
            "application/vnd.google.colaboratory.intrinsic+json": {
              "type": "dataframe",
              "summary": "{\n  \"name\": \"df[[\\\"\\u05ea\\u05d5\\u05e6\\u05d0\\u05d4 \\u05de\\u05e1\\u05db\\u05de\\u05ea\\\"]]\",\n  \"rows\": 5,\n  \"fields\": [\n    {\n      \"column\": \"\\u05ea\\u05d5\\u05e6\\u05d0\\u05d4 \\u05de\\u05e1\\u05db\\u05de\\u05ea\",\n      \"properties\": {\n        \"dtype\": \"string\",\n        \"num_unique_values\": 5,\n        \"samples\": [\n          \"\\u05d1\\u05e7\\u05e9\\u05d4 \\u05dc\\u05e2\\u05d9\\u05db\\u05d5\\u05d1 \\u05d1\\u05d9\\u05e6\\u05d5\\u05e2 \\u05e2\\u05d5\\u05e0\\u05e9 \\u05de\\u05d0\\u05e1\\u05e8\\n\\u05d1\\u05e7\\u05e9\\u05d4 \\u05d0\\u05d7\\u05e8\\u05ea\",\n          \"\\u05d7\\u05d6\\u05e8\\u05d5 \\u05d1\\u05d4\\u05dd \\u05d1\\u05d0\\u05d9 \\u05db\\u05d5\\u05d7 \\u05d4\\u05de\\u05d1\\u05e7\\u05e9\\u05d9\\u05dd \\u05de\\u05d4\\u05d1\\u05e7\\u05e9\\u05d5\\u05ea \\u05dc\\u05de\\u05ea\\u05df \\u05e8\\u05e9\\u05d5\\u05ea \\u05e2\\u05e8\\u05e2\\u05d5\\u05e8, \\u05d5\\u05d4\\u05d1\\u05e7\\u05e9\\u05d5\\u05ea \\u05e0\\u05d3\\u05d7\\u05d5\\u05ea \\u05d1\\u05d6\\u05d4\",\n          \"\\u05d0\\u05e9\\u05e8 \\u05e2\\u05dc \\u05db\\u05df, \\u05d4\\u05d1\\u05e7\\u05e9\\u05d4 \\u05dc\\u05e8\\u05e9\\u05d5\\u05ea \\u05e2\\u05e8\\u05e2\\u05d5\\u05e8 \\u05e0\\u05d3\\u05d7\\u05d9\\u05ea \\u05d1\\u05d6\\u05d0\\u05ea\"\n        ],\n        \"semantic_type\": \"\",\n        \"description\": \"\"\n      }\n    }\n  ]\n}"
            }
          },
          "metadata": {},
          "execution_count": 30
        }
      ]
    },
    {
      "cell_type": "code",
      "source": [
        "\n",
        "for i in range(3):\n",
        "    print(f\"פסק דין {i+1} (תוצאה מסכמת):\\n\")\n",
        "    print(df[\"תוצאה מסכמת\"].iloc[i])\n",
        "    print(\"=\"*80)\n"
      ],
      "metadata": {
        "colab": {
          "base_uri": "https://localhost:8080/"
        },
        "id": "bqBlYGtW7B_u",
        "outputId": "7c7a7b62-e447-4e86-cb71-6de3b27b9866"
      },
      "execution_count": 31,
      "outputs": [
        {
          "output_type": "stream",
          "name": "stdout",
          "text": [
            "פסק דין 1 (תוצאה מסכמת):\n",
            "\n",
            "לנוכח כל האמור לעיל – הבקשה למתן רשות ערעור נדחית\n",
            "================================================================================\n",
            "פסק דין 2 (תוצאה מסכמת):\n",
            "\n",
            "בקשה לעיכוב ביצוע עונש מאסר\n",
            "בקשה אחרת\n",
            "================================================================================\n",
            "פסק דין 3 (תוצאה מסכמת):\n",
            "\n",
            "אשר על כן, הבקשה לרשות ערעור נדחית בזאת\n",
            "================================================================================\n"
          ]
        }
      ]
    },
    {
      "cell_type": "code",
      "source": [
        "pd.set_option('display.max_colwidth', None)\n",
        "\n",
        "df[[\"גוף המסמך חתוך\", \"תוצאה מסכמת\"]].sample(5, random_state=42)"
      ],
      "metadata": {
        "colab": {
          "base_uri": "https://localhost:8080/",
          "height": 779
        },
        "id": "3sAWoccf8nIb",
        "outputId": "52791d9b-2fe5-48b8-9432-57b2a650cb00"
      },
      "execution_count": 32,
      "outputs": [
        {
          "output_type": "execute_result",
          "data": {
            "text/plain": [
              "                                                                                                                                                                                                                                                                                                                                                                                                                                                                                                                                                                                                                                                                                                                                                                                                                                                                                                                                                                                                                                                                                                                                                                                                                                                                                                                                                                                                                                                                                                                                                                                                                                                                                                                                                  גוף המסמך חתוך  \\\n",
              "3004                                                                                                                                                                                                                                                                                                                                                                                                                                                                                                                                                                                                                                                                                                                                                                                                                                                                                                                                                                                                                                       ['פסק דין בתיק רע\"פ 4386/08 בבית המשפט העליון רע\"פ 4386/08 בפני: כבוד השופטת א\\' פרוקצ\\'יה כבוד השופט א\\' רובינשטיין כבוד השופט ס\\' ג\\'ובראן המבקש: גד כהן נגד המשיבה: מדינת ישראל בקשת רשות ערעור על פסק-דינו של בית המשפט המחוזי בירושלים מיום 30.4.08 בע\"פ 2074/08 שניתן על-ידי כבוד השופט ע\\' חבש – סג\"נ בשם המבקש: עו\"ד דוד גולן בשם המשיבה: עו\"ד מיטל בוכמן-שינדל פסק דין לאור הסכמת הצדדים, המוצאת את ביטויה בסעיף 3 לתגובת המשיבה, ניתנת בזאת רשות ערעור, והערעור מתקבל במובן זה שפסקי הדין נשוא הבקשה שניתנו בעניינו של המבקש מבוטלים בזאת, והתיק מוחזר לבית משפט השלום לתעבורה בירושלים לדיון מחודש בעניינו. ניתן היום, א\\' בחשון התשס\"ט (30.10.2008). ש ו פ ט ת ש ו פ ט ש ו פ ט _________________________    \n",
              "1922                                                                                                                                                                                                                                                                                                                                                                                                                                                                                                                                                                                                                                                                                                                                                                                                                                                                                                                                                                                                                                                                                                                                                                                                                                                                                                                                                                                                                                                       ['החלטה בתיק רע\"פ 1682/11 בבית המשפט העליון רע\"פ 1682/11 בפני: כבוד השופט ס\\' ג\\'ובראן המבקש: ואיל מזערה נגד המשיבה: מדינת ישראל בקשה לדחיית מועד תחילת ריצוי עונש המאסר בשם המבקש: עו\"ד מאליק מנצור החלטה הבקשה נדחית. ניתנה היום, כ\"ה באדר ב התשע\"א (31.3.2011). ש ו פ ט _________________________    \n",
              "3096  ['החלטה בתיק בש\"פ 1092/17 בבית המשפט העליון רע\"פ 1092/17 לפני: כבוד השופטת ד\\' ברק-ארז המערערים: 1. כפיר דהן 2. שירה דהן נגד המשיבה: הוועדה המקומית לתכנון ובניה מטה יהודה בקשת רשות ערעור על פסק דינו של בית המשפט המחוזי בירושלים מיום 30.1.2017 בע\"פ 23940-12-16 שניתן על-ידי כבוד השופט ח\\' מ\\' לומפ בשם המערערים: בעצמם בשם המשיבה: עו\"ד רעות אהרון, עו\"ד מאיר בן דוד פסק דין 1. הבקשה שבפני נקלטה במזכירות בית המשפט, בטעות, תחת הסיווג בש\"פ. הלכה למעשה, מדובר בבקשת רשות לערער על פסק דינו של בית המשפט המחוזי בירושלים מיום 30.1.2017 (ע\"פ 23940-12-16, השופטת ח\\' מ\\' לומפ). סיווגה הראוי אפוא הוא רע\"פ, וכך אני מורה. 2. מקורו של ההליך דנן הוא בבקשה למתן אורכה לביצועו של צו ההריסה שהוצא ביחס למבנה היביל שבו מתגוררים המבקשים במסגרת הליך פלילי לפי חוק התכנון והבניה, התשכ\"ה-1965. הבקשה נדחתה על ידי בית המשפט לעניינים מקומיים בבית שמש ועל כן הגישו המבקשים ערעור לבית המשפט המחוזי, אשר קבע כי תינתן למבקשים אורכה לפנות את המבנה עד ליום 1.4.2017 ולהרסו עד ליום 2.5.2017. לאחר מכן המבקשים הגישו בקשת אורכה נוספת לבית המשפט המחוזי, וזו נדחתה. על כך נסבה הבקשה שבפני. 3. בתשובה שהוגשה מטעם המשיבה צוין כי המקרה העומד ביסוד ההליך כרוך בנסיבות אישיות ומשפחתיות חריגות וקשות ועל כן היא מבקשת להותיר את ההכרעה בו לשיקול דעתו של בית המשפט. בהתחשב בכך ולאחר שבחנתי את מכלול הנסיבות העניין, אני מורה על מתן אורכה נוספת למבקשים לפנות את המבנה עד ליום 1.7.2017 ולהרסו עד ליום 2.8.2017 (בתנאים שנקבעו בפסק דינו של בית המשפט המחוזי). 4. הבקשה מתקבלת אפוא כמפורט בפסקה 3. על המבקשים להבין כי ההיענות לבקשתם התאפשרה לנוכח העמדה שגילתה המשיבה, וכי אל להם לצפות לכל הקלות נוספות, אלא להיערך לביצוע הצו השיפוטי, משתמו ההליכים כולם. ניתן היום, \\u200fי\"ט בשבט התשע\"ז (\\u200f15.2.2017). ש ו פ ט ת _________________________    \n",
              "3022                                                                                                                                                                                                                                                                                                                                                                                                                                                                                                                                                                                                                                                                                                                                                                                                                                                                                                                                                                                 ['פסק דין בתיק רע\"פ 1793/09 בבית המשפט העליון רע\"פ 1793/09 בפני: כבוד השופט א\\' א\\' לוי כבוד השופטת ע\\' ארבל כבוד השופט י\\' דנציגר המבקשים: 1. פאבל מינסטר 2. זאב שוורץ נגד המשיבה: מדינת ישראל בקשת רשות ערעור על פסק-דינו של ביתה משפט המחוזי בתל-אביב, בע\"פ 70149/08, מיום 28.1.09, שניתן על ידי כבוד ס\\' הנשיא השופטת ד\\' ברלינר, ס. הנשיא השופט ז\\' המר, ס. הנשיא השופטת ב\\' אופיר-תום בשם המבקש 1: עו\"ד אמיר ציון בשם המבקש 2: עו\"ד רובינשטיין מנחם פסק דין נוכח האמור בתגובת המשיבה, ניתנת בזאת רשות ערעור והבקשה תידון כבערעור גופו. עניינם של המבקשים יובא בשנית בפני בית המשפט המחוזי, המתבקש להבהיר אם תוצאת פסק-דינו היא זיכוי מוחלט של המבקשים או זיכוי מחמת הספק. ניתן היום, ט\"ו באדר התשס\"ט (11.03.09). ש ו פ ט ש ו פ ט ת ש ו פ ט _________________________    \n",
              "2649                                                                                                                                                                                                    ['בבית המשפט העליון בירושלים רע\"פ 9608/01 בפני: כבוד השופט א\\' ריבלין המבקשים: 1. גשמי ברכה ה.ש.י.ג.(1995) 2. גשמי ברכה בע\"מ 3. ה.ש.י.ג.(1995)יזום פרוייקטים 4. שנהב זאב נגד המשיבה: מדינת ישראל בקשת רשות ערעור על פסק-דינו של בית המשפט המחוזי בתל-אביב-יפו מיום 23.10.2001 בתיק עפ\"א 80190/01 שניתן על ידי כבוד השופטים: ד\\' ברלינר, ז\\' המר, י\\' שטופמן בשם המבקשים: עו\"ד שרית שלמון בשם המשיבה: עו\"ד ענבר פלש החלטה בית המשפט לעניינים מקומיים בפתח תקוה (כבוד השופט ג\\' שטרסמן) ביטל את כתב האישום שהוגש כנגד המבקשים, והמייחס להם ביצוע עבירות טעונות היתר בסטיה מהיתר או מתכנית. ערעורה של המדינה על החלטה זו, לבית המשפט המחוזי בתל-אביב (כבוד השופטים ד\\' ברלינר, ז\\' המר וי\\' שטופמן) - התקבל. ההחלטה בדבר ביטול כתב האישום בוטלה, והדיון הוחזר לבית המשפט לעניינים מקומיים, להמשך בירורו למן השלב אליו הגיע. כנגד פסק-דינו של בית המשפט המחוזי מופנית הבקשה שלפנינו. דא עקא, משטרם נתברר, וממילא טרם הוכרע, עניינם של המבקשים - לגופו - בערכאה הראשונה, אין מקום לדון בטענותיהם בפני בית משפט זה. לאחר שימוצו ההליכים בבית משפט השלום, ואם יהיה צורך גם בבית המשפט המחוזי - יהיו רשאים המבקשים - שוב, אם יהיה צורך - לפנות לבית משפט זה בבקשת רשות ערעור (ראו רע\"פ 4632/97 אקסלרוד נ\\' מדינת ישראל (תק-על 97(3) 118)). ניתנה היום, ה\\' באדר תשס\"ב (17.2.2002). ש ו פ ט _________________ העתק מתאים למקור 01096080.P02 /אמ נוסח זה כפוף לשינויי עריכה וניסוח. שמריהו כהן - מזכיר ראשי בבית המשפט העליון פועל מרכז מידע, טל\\' 02-6750444 בית המשפט פתוח להערות והצעות: pniot@supreme.court.gov.il לבתי המשפט אתר באינטרנט: www.court.gov.il']   \n",
              "\n",
              "                                                                                                                                                                                                                                                                             תוצאה מסכמת  \n",
              "3004                                                                                                                                       ניתנת בזאת רשות ערעור, והערעור מתקבל במובן זה שפסקי הדין נשוא הבקשה שניתנו בעניינו של המבקש מבוטלים בזאת, והתיק מוחזר לבית משפט השלום לתעבורה  \n",
              "1922                                                                                                                                                                                                                                  בקשה אחרת\\nבקשה לדחיית מועד תחילת ריצוי עונש המאסר  \n",
              "3096                                                                                                                                                                                                         ביהמ׳׳ש נתן אורכה אך לא ביטל את צו ההריסה\\nהבקשה מתקבלת אפוא כמפורט בפסקה 3  \n",
              "3022                                                                                                                                                                                                                                      ביהמש לא הכריע בערעור והחזיר לדיון נוסף במחוזי  \n",
              "2649  דא עקא, משטרם נתברר, וממילא טרם הוכרע, עניינם של המבקשים - לגופו - בערכאה הראשונה, אין מקום לדון בטענותיהם בפני בית משפט זה. לאחר שימוצו ההליכים בבית משפט השלום, ואם יהיה צורך גם בבית המשפט המחוזי - יהיו רשאים המבקשים - שוב, אם יהיה צורך - לפנות לבית משפט זה בבקשת רשות ערעו  "
            ],
            "text/html": [
              "\n",
              "  <div id=\"df-46503922-1211-4143-8d39-f28c5bdb088f\" class=\"colab-df-container\">\n",
              "    <div>\n",
              "<style scoped>\n",
              "    .dataframe tbody tr th:only-of-type {\n",
              "        vertical-align: middle;\n",
              "    }\n",
              "\n",
              "    .dataframe tbody tr th {\n",
              "        vertical-align: top;\n",
              "    }\n",
              "\n",
              "    .dataframe thead th {\n",
              "        text-align: right;\n",
              "    }\n",
              "</style>\n",
              "<table border=\"1\" class=\"dataframe\">\n",
              "  <thead>\n",
              "    <tr style=\"text-align: right;\">\n",
              "      <th></th>\n",
              "      <th>גוף המסמך חתוך</th>\n",
              "      <th>תוצאה מסכמת</th>\n",
              "    </tr>\n",
              "  </thead>\n",
              "  <tbody>\n",
              "    <tr>\n",
              "      <th>3004</th>\n",
              "      <td>['פסק דין בתיק רע\"פ 4386/08 בבית המשפט העליון רע\"פ 4386/08 בפני: כבוד השופטת א\\' פרוקצ\\'יה כבוד השופט א\\' רובינשטיין כבוד השופט ס\\' ג\\'ובראן המבקש: גד כהן נגד המשיבה: מדינת ישראל בקשת רשות ערעור על פסק-דינו של בית המשפט המחוזי בירושלים מיום 30.4.08 בע\"פ 2074/08 שניתן על-ידי כבוד השופט ע\\' חבש – סג\"נ בשם המבקש: עו\"ד דוד גולן בשם המשיבה: עו\"ד מיטל בוכמן-שינדל פסק דין לאור הסכמת הצדדים, המוצאת את ביטויה בסעיף 3 לתגובת המשיבה, ניתנת בזאת רשות ערעור, והערעור מתקבל במובן זה שפסקי הדין נשוא הבקשה שניתנו בעניינו של המבקש מבוטלים בזאת, והתיק מוחזר לבית משפט השלום לתעבורה בירושלים לדיון מחודש בעניינו. ניתן היום, א\\' בחשון התשס\"ט (30.10.2008). ש ו פ ט ת ש ו פ ט ש ו פ ט _________________________</td>\n",
              "      <td>ניתנת בזאת רשות ערעור, והערעור מתקבל במובן זה שפסקי הדין נשוא הבקשה שניתנו בעניינו של המבקש מבוטלים בזאת, והתיק מוחזר לבית משפט השלום לתעבורה</td>\n",
              "    </tr>\n",
              "    <tr>\n",
              "      <th>1922</th>\n",
              "      <td>['החלטה בתיק רע\"פ 1682/11 בבית המשפט העליון רע\"פ 1682/11 בפני: כבוד השופט ס\\' ג\\'ובראן המבקש: ואיל מזערה נגד המשיבה: מדינת ישראל בקשה לדחיית מועד תחילת ריצוי עונש המאסר בשם המבקש: עו\"ד מאליק מנצור החלטה הבקשה נדחית. ניתנה היום, כ\"ה באדר ב התשע\"א (31.3.2011). ש ו פ ט _________________________</td>\n",
              "      <td>בקשה אחרת\\nבקשה לדחיית מועד תחילת ריצוי עונש המאסר</td>\n",
              "    </tr>\n",
              "    <tr>\n",
              "      <th>3096</th>\n",
              "      <td>['החלטה בתיק בש\"פ 1092/17 בבית המשפט העליון רע\"פ 1092/17 לפני: כבוד השופטת ד\\' ברק-ארז המערערים: 1. כפיר דהן 2. שירה דהן נגד המשיבה: הוועדה המקומית לתכנון ובניה מטה יהודה בקשת רשות ערעור על פסק דינו של בית המשפט המחוזי בירושלים מיום 30.1.2017 בע\"פ 23940-12-16 שניתן על-ידי כבוד השופט ח\\' מ\\' לומפ בשם המערערים: בעצמם בשם המשיבה: עו\"ד רעות אהרון, עו\"ד מאיר בן דוד פסק דין 1. הבקשה שבפני נקלטה במזכירות בית המשפט, בטעות, תחת הסיווג בש\"פ. הלכה למעשה, מדובר בבקשת רשות לערער על פסק דינו של בית המשפט המחוזי בירושלים מיום 30.1.2017 (ע\"פ 23940-12-16, השופטת ח\\' מ\\' לומפ). סיווגה הראוי אפוא הוא רע\"פ, וכך אני מורה. 2. מקורו של ההליך דנן הוא בבקשה למתן אורכה לביצועו של צו ההריסה שהוצא ביחס למבנה היביל שבו מתגוררים המבקשים במסגרת הליך פלילי לפי חוק התכנון והבניה, התשכ\"ה-1965. הבקשה נדחתה על ידי בית המשפט לעניינים מקומיים בבית שמש ועל כן הגישו המבקשים ערעור לבית המשפט המחוזי, אשר קבע כי תינתן למבקשים אורכה לפנות את המבנה עד ליום 1.4.2017 ולהרסו עד ליום 2.5.2017. לאחר מכן המבקשים הגישו בקשת אורכה נוספת לבית המשפט המחוזי, וזו נדחתה. על כך נסבה הבקשה שבפני. 3. בתשובה שהוגשה מטעם המשיבה צוין כי המקרה העומד ביסוד ההליך כרוך בנסיבות אישיות ומשפחתיות חריגות וקשות ועל כן היא מבקשת להותיר את ההכרעה בו לשיקול דעתו של בית המשפט. בהתחשב בכך ולאחר שבחנתי את מכלול הנסיבות העניין, אני מורה על מתן אורכה נוספת למבקשים לפנות את המבנה עד ליום 1.7.2017 ולהרסו עד ליום 2.8.2017 (בתנאים שנקבעו בפסק דינו של בית המשפט המחוזי). 4. הבקשה מתקבלת אפוא כמפורט בפסקה 3. על המבקשים להבין כי ההיענות לבקשתם התאפשרה לנוכח העמדה שגילתה המשיבה, וכי אל להם לצפות לכל הקלות נוספות, אלא להיערך לביצוע הצו השיפוטי, משתמו ההליכים כולם. ניתן היום, \\u200fי\"ט בשבט התשע\"ז (\\u200f15.2.2017). ש ו פ ט ת _________________________</td>\n",
              "      <td>ביהמ׳׳ש נתן אורכה אך לא ביטל את צו ההריסה\\nהבקשה מתקבלת אפוא כמפורט בפסקה 3</td>\n",
              "    </tr>\n",
              "    <tr>\n",
              "      <th>3022</th>\n",
              "      <td>['פסק דין בתיק רע\"פ 1793/09 בבית המשפט העליון רע\"פ 1793/09 בפני: כבוד השופט א\\' א\\' לוי כבוד השופטת ע\\' ארבל כבוד השופט י\\' דנציגר המבקשים: 1. פאבל מינסטר 2. זאב שוורץ נגד המשיבה: מדינת ישראל בקשת רשות ערעור על פסק-דינו של ביתה משפט המחוזי בתל-אביב, בע\"פ 70149/08, מיום 28.1.09, שניתן על ידי כבוד ס\\' הנשיא השופטת ד\\' ברלינר, ס. הנשיא השופט ז\\' המר, ס. הנשיא השופטת ב\\' אופיר-תום בשם המבקש 1: עו\"ד אמיר ציון בשם המבקש 2: עו\"ד רובינשטיין מנחם פסק דין נוכח האמור בתגובת המשיבה, ניתנת בזאת רשות ערעור והבקשה תידון כבערעור גופו. עניינם של המבקשים יובא בשנית בפני בית המשפט המחוזי, המתבקש להבהיר אם תוצאת פסק-דינו היא זיכוי מוחלט של המבקשים או זיכוי מחמת הספק. ניתן היום, ט\"ו באדר התשס\"ט (11.03.09). ש ו פ ט ש ו פ ט ת ש ו פ ט _________________________</td>\n",
              "      <td>ביהמש לא הכריע בערעור והחזיר לדיון נוסף במחוזי</td>\n",
              "    </tr>\n",
              "    <tr>\n",
              "      <th>2649</th>\n",
              "      <td>['בבית המשפט העליון בירושלים רע\"פ 9608/01 בפני: כבוד השופט א\\' ריבלין המבקשים: 1. גשמי ברכה ה.ש.י.ג.(1995) 2. גשמי ברכה בע\"מ 3. ה.ש.י.ג.(1995)יזום פרוייקטים 4. שנהב זאב נגד המשיבה: מדינת ישראל בקשת רשות ערעור על פסק-דינו של בית המשפט המחוזי בתל-אביב-יפו מיום 23.10.2001 בתיק עפ\"א 80190/01 שניתן על ידי כבוד השופטים: ד\\' ברלינר, ז\\' המר, י\\' שטופמן בשם המבקשים: עו\"ד שרית שלמון בשם המשיבה: עו\"ד ענבר פלש החלטה בית המשפט לעניינים מקומיים בפתח תקוה (כבוד השופט ג\\' שטרסמן) ביטל את כתב האישום שהוגש כנגד המבקשים, והמייחס להם ביצוע עבירות טעונות היתר בסטיה מהיתר או מתכנית. ערעורה של המדינה על החלטה זו, לבית המשפט המחוזי בתל-אביב (כבוד השופטים ד\\' ברלינר, ז\\' המר וי\\' שטופמן) - התקבל. ההחלטה בדבר ביטול כתב האישום בוטלה, והדיון הוחזר לבית המשפט לעניינים מקומיים, להמשך בירורו למן השלב אליו הגיע. כנגד פסק-דינו של בית המשפט המחוזי מופנית הבקשה שלפנינו. דא עקא, משטרם נתברר, וממילא טרם הוכרע, עניינם של המבקשים - לגופו - בערכאה הראשונה, אין מקום לדון בטענותיהם בפני בית משפט זה. לאחר שימוצו ההליכים בבית משפט השלום, ואם יהיה צורך גם בבית המשפט המחוזי - יהיו רשאים המבקשים - שוב, אם יהיה צורך - לפנות לבית משפט זה בבקשת רשות ערעור (ראו רע\"פ 4632/97 אקסלרוד נ\\' מדינת ישראל (תק-על 97(3) 118)). ניתנה היום, ה\\' באדר תשס\"ב (17.2.2002). ש ו פ ט _________________ העתק מתאים למקור 01096080.P02 /אמ נוסח זה כפוף לשינויי עריכה וניסוח. שמריהו כהן - מזכיר ראשי בבית המשפט העליון פועל מרכז מידע, טל\\' 02-6750444 בית המשפט פתוח להערות והצעות: pniot@supreme.court.gov.il לבתי המשפט אתר באינטרנט: www.court.gov.il']</td>\n",
              "      <td>דא עקא, משטרם נתברר, וממילא טרם הוכרע, עניינם של המבקשים - לגופו - בערכאה הראשונה, אין מקום לדון בטענותיהם בפני בית משפט זה. לאחר שימוצו ההליכים בבית משפט השלום, ואם יהיה צורך גם בבית המשפט המחוזי - יהיו רשאים המבקשים - שוב, אם יהיה צורך - לפנות לבית משפט זה בבקשת רשות ערעו</td>\n",
              "    </tr>\n",
              "  </tbody>\n",
              "</table>\n",
              "</div>\n",
              "    <div class=\"colab-df-buttons\">\n",
              "\n",
              "  <div class=\"colab-df-container\">\n",
              "    <button class=\"colab-df-convert\" onclick=\"convertToInteractive('df-46503922-1211-4143-8d39-f28c5bdb088f')\"\n",
              "            title=\"Convert this dataframe to an interactive table.\"\n",
              "            style=\"display:none;\">\n",
              "\n",
              "  <svg xmlns=\"http://www.w3.org/2000/svg\" height=\"24px\" viewBox=\"0 -960 960 960\">\n",
              "    <path d=\"M120-120v-720h720v720H120Zm60-500h600v-160H180v160Zm220 220h160v-160H400v160Zm0 220h160v-160H400v160ZM180-400h160v-160H180v160Zm440 0h160v-160H620v160ZM180-180h160v-160H180v160Zm440 0h160v-160H620v160Z\"/>\n",
              "  </svg>\n",
              "    </button>\n",
              "\n",
              "  <style>\n",
              "    .colab-df-container {\n",
              "      display:flex;\n",
              "      gap: 12px;\n",
              "    }\n",
              "\n",
              "    .colab-df-convert {\n",
              "      background-color: #E8F0FE;\n",
              "      border: none;\n",
              "      border-radius: 50%;\n",
              "      cursor: pointer;\n",
              "      display: none;\n",
              "      fill: #1967D2;\n",
              "      height: 32px;\n",
              "      padding: 0 0 0 0;\n",
              "      width: 32px;\n",
              "    }\n",
              "\n",
              "    .colab-df-convert:hover {\n",
              "      background-color: #E2EBFA;\n",
              "      box-shadow: 0px 1px 2px rgba(60, 64, 67, 0.3), 0px 1px 3px 1px rgba(60, 64, 67, 0.15);\n",
              "      fill: #174EA6;\n",
              "    }\n",
              "\n",
              "    .colab-df-buttons div {\n",
              "      margin-bottom: 4px;\n",
              "    }\n",
              "\n",
              "    [theme=dark] .colab-df-convert {\n",
              "      background-color: #3B4455;\n",
              "      fill: #D2E3FC;\n",
              "    }\n",
              "\n",
              "    [theme=dark] .colab-df-convert:hover {\n",
              "      background-color: #434B5C;\n",
              "      box-shadow: 0px 1px 3px 1px rgba(0, 0, 0, 0.15);\n",
              "      filter: drop-shadow(0px 1px 2px rgba(0, 0, 0, 0.3));\n",
              "      fill: #FFFFFF;\n",
              "    }\n",
              "  </style>\n",
              "\n",
              "    <script>\n",
              "      const buttonEl =\n",
              "        document.querySelector('#df-46503922-1211-4143-8d39-f28c5bdb088f button.colab-df-convert');\n",
              "      buttonEl.style.display =\n",
              "        google.colab.kernel.accessAllowed ? 'block' : 'none';\n",
              "\n",
              "      async function convertToInteractive(key) {\n",
              "        const element = document.querySelector('#df-46503922-1211-4143-8d39-f28c5bdb088f');\n",
              "        const dataTable =\n",
              "          await google.colab.kernel.invokeFunction('convertToInteractive',\n",
              "                                                    [key], {});\n",
              "        if (!dataTable) return;\n",
              "\n",
              "        const docLinkHtml = 'Like what you see? Visit the ' +\n",
              "          '<a target=\"_blank\" href=https://colab.research.google.com/notebooks/data_table.ipynb>data table notebook</a>'\n",
              "          + ' to learn more about interactive tables.';\n",
              "        element.innerHTML = '';\n",
              "        dataTable['output_type'] = 'display_data';\n",
              "        await google.colab.output.renderOutput(dataTable, element);\n",
              "        const docLink = document.createElement('div');\n",
              "        docLink.innerHTML = docLinkHtml;\n",
              "        element.appendChild(docLink);\n",
              "      }\n",
              "    </script>\n",
              "  </div>\n",
              "\n",
              "\n",
              "<div id=\"df-423c835e-a72c-4de1-b53b-e119406ea982\">\n",
              "  <button class=\"colab-df-quickchart\" onclick=\"quickchart('df-423c835e-a72c-4de1-b53b-e119406ea982')\"\n",
              "            title=\"Suggest charts\"\n",
              "            style=\"display:none;\">\n",
              "\n",
              "<svg xmlns=\"http://www.w3.org/2000/svg\" height=\"24px\"viewBox=\"0 0 24 24\"\n",
              "     width=\"24px\">\n",
              "    <g>\n",
              "        <path d=\"M19 3H5c-1.1 0-2 .9-2 2v14c0 1.1.9 2 2 2h14c1.1 0 2-.9 2-2V5c0-1.1-.9-2-2-2zM9 17H7v-7h2v7zm4 0h-2V7h2v10zm4 0h-2v-4h2v4z\"/>\n",
              "    </g>\n",
              "</svg>\n",
              "  </button>\n",
              "\n",
              "<style>\n",
              "  .colab-df-quickchart {\n",
              "      --bg-color: #E8F0FE;\n",
              "      --fill-color: #1967D2;\n",
              "      --hover-bg-color: #E2EBFA;\n",
              "      --hover-fill-color: #174EA6;\n",
              "      --disabled-fill-color: #AAA;\n",
              "      --disabled-bg-color: #DDD;\n",
              "  }\n",
              "\n",
              "  [theme=dark] .colab-df-quickchart {\n",
              "      --bg-color: #3B4455;\n",
              "      --fill-color: #D2E3FC;\n",
              "      --hover-bg-color: #434B5C;\n",
              "      --hover-fill-color: #FFFFFF;\n",
              "      --disabled-bg-color: #3B4455;\n",
              "      --disabled-fill-color: #666;\n",
              "  }\n",
              "\n",
              "  .colab-df-quickchart {\n",
              "    background-color: var(--bg-color);\n",
              "    border: none;\n",
              "    border-radius: 50%;\n",
              "    cursor: pointer;\n",
              "    display: none;\n",
              "    fill: var(--fill-color);\n",
              "    height: 32px;\n",
              "    padding: 0;\n",
              "    width: 32px;\n",
              "  }\n",
              "\n",
              "  .colab-df-quickchart:hover {\n",
              "    background-color: var(--hover-bg-color);\n",
              "    box-shadow: 0 1px 2px rgba(60, 64, 67, 0.3), 0 1px 3px 1px rgba(60, 64, 67, 0.15);\n",
              "    fill: var(--button-hover-fill-color);\n",
              "  }\n",
              "\n",
              "  .colab-df-quickchart-complete:disabled,\n",
              "  .colab-df-quickchart-complete:disabled:hover {\n",
              "    background-color: var(--disabled-bg-color);\n",
              "    fill: var(--disabled-fill-color);\n",
              "    box-shadow: none;\n",
              "  }\n",
              "\n",
              "  .colab-df-spinner {\n",
              "    border: 2px solid var(--fill-color);\n",
              "    border-color: transparent;\n",
              "    border-bottom-color: var(--fill-color);\n",
              "    animation:\n",
              "      spin 1s steps(1) infinite;\n",
              "  }\n",
              "\n",
              "  @keyframes spin {\n",
              "    0% {\n",
              "      border-color: transparent;\n",
              "      border-bottom-color: var(--fill-color);\n",
              "      border-left-color: var(--fill-color);\n",
              "    }\n",
              "    20% {\n",
              "      border-color: transparent;\n",
              "      border-left-color: var(--fill-color);\n",
              "      border-top-color: var(--fill-color);\n",
              "    }\n",
              "    30% {\n",
              "      border-color: transparent;\n",
              "      border-left-color: var(--fill-color);\n",
              "      border-top-color: var(--fill-color);\n",
              "      border-right-color: var(--fill-color);\n",
              "    }\n",
              "    40% {\n",
              "      border-color: transparent;\n",
              "      border-right-color: var(--fill-color);\n",
              "      border-top-color: var(--fill-color);\n",
              "    }\n",
              "    60% {\n",
              "      border-color: transparent;\n",
              "      border-right-color: var(--fill-color);\n",
              "    }\n",
              "    80% {\n",
              "      border-color: transparent;\n",
              "      border-right-color: var(--fill-color);\n",
              "      border-bottom-color: var(--fill-color);\n",
              "    }\n",
              "    90% {\n",
              "      border-color: transparent;\n",
              "      border-bottom-color: var(--fill-color);\n",
              "    }\n",
              "  }\n",
              "</style>\n",
              "\n",
              "  <script>\n",
              "    async function quickchart(key) {\n",
              "      const quickchartButtonEl =\n",
              "        document.querySelector('#' + key + ' button');\n",
              "      quickchartButtonEl.disabled = true;  // To prevent multiple clicks.\n",
              "      quickchartButtonEl.classList.add('colab-df-spinner');\n",
              "      try {\n",
              "        const charts = await google.colab.kernel.invokeFunction(\n",
              "            'suggestCharts', [key], {});\n",
              "      } catch (error) {\n",
              "        console.error('Error during call to suggestCharts:', error);\n",
              "      }\n",
              "      quickchartButtonEl.classList.remove('colab-df-spinner');\n",
              "      quickchartButtonEl.classList.add('colab-df-quickchart-complete');\n",
              "    }\n",
              "    (() => {\n",
              "      let quickchartButtonEl =\n",
              "        document.querySelector('#df-423c835e-a72c-4de1-b53b-e119406ea982 button');\n",
              "      quickchartButtonEl.style.display =\n",
              "        google.colab.kernel.accessAllowed ? 'block' : 'none';\n",
              "    })();\n",
              "  </script>\n",
              "</div>\n",
              "\n",
              "    </div>\n",
              "  </div>\n"
            ],
            "application/vnd.google.colaboratory.intrinsic+json": {
              "type": "dataframe",
              "summary": "{\n  \"name\": \"df[[\\\"\\u05d2\\u05d5\\u05e3 \\u05d4\\u05de\\u05e1\\u05de\\u05da \\u05d7\\u05ea\\u05d5\\u05da\\\", \\\"\\u05ea\\u05d5\\u05e6\\u05d0\\u05d4 \\u05de\\u05e1\\u05db\\u05de\\u05ea\\\"]]\",\n  \"rows\": 5,\n  \"fields\": [\n    {\n      \"column\": \"\\u05d2\\u05d5\\u05e3 \\u05d4\\u05de\\u05e1\\u05de\\u05da \\u05d7\\u05ea\\u05d5\\u05da\",\n      \"properties\": {\n        \"dtype\": \"string\",\n        \"num_unique_values\": 5,\n        \"samples\": [\n          \"['\\u05d4\\u05d7\\u05dc\\u05d8\\u05d4 \\u05d1\\u05ea\\u05d9\\u05e7 \\u05e8\\u05e2\\\"\\u05e4 1682/11 \\u05d1\\u05d1\\u05d9\\u05ea \\u05d4\\u05de\\u05e9\\u05e4\\u05d8 \\u05d4\\u05e2\\u05dc\\u05d9\\u05d5\\u05df \\u05e8\\u05e2\\\"\\u05e4 1682/11 \\u05d1\\u05e4\\u05e0\\u05d9: \\u05db\\u05d1\\u05d5\\u05d3 \\u05d4\\u05e9\\u05d5\\u05e4\\u05d8 \\u05e1\\\\' \\u05d2\\\\'\\u05d5\\u05d1\\u05e8\\u05d0\\u05df \\u05d4\\u05de\\u05d1\\u05e7\\u05e9: \\u05d5\\u05d0\\u05d9\\u05dc \\u05de\\u05d6\\u05e2\\u05e8\\u05d4 \\u05e0\\u05d2\\u05d3 \\u05d4\\u05de\\u05e9\\u05d9\\u05d1\\u05d4: \\u05de\\u05d3\\u05d9\\u05e0\\u05ea \\u05d9\\u05e9\\u05e8\\u05d0\\u05dc \\u05d1\\u05e7\\u05e9\\u05d4 \\u05dc\\u05d3\\u05d7\\u05d9\\u05d9\\u05ea \\u05de\\u05d5\\u05e2\\u05d3 \\u05ea\\u05d7\\u05d9\\u05dc\\u05ea \\u05e8\\u05d9\\u05e6\\u05d5\\u05d9 \\u05e2\\u05d5\\u05e0\\u05e9 \\u05d4\\u05de\\u05d0\\u05e1\\u05e8 \\u05d1\\u05e9\\u05dd \\u05d4\\u05de\\u05d1\\u05e7\\u05e9: \\u05e2\\u05d5\\\"\\u05d3 \\u05de\\u05d0\\u05dc\\u05d9\\u05e7 \\u05de\\u05e0\\u05e6\\u05d5\\u05e8 \\u05d4\\u05d7\\u05dc\\u05d8\\u05d4 \\u05d4\\u05d1\\u05e7\\u05e9\\u05d4 \\u05e0\\u05d3\\u05d7\\u05d9\\u05ea. \\u05e0\\u05d9\\u05ea\\u05e0\\u05d4 \\u05d4\\u05d9\\u05d5\\u05dd, \\u05db\\\"\\u05d4 \\u05d1\\u05d0\\u05d3\\u05e8 \\u05d1 \\u05d4\\u05ea\\u05e9\\u05e2\\\"\\u05d0 (31.3.2011). \\u05e9 \\u05d5 \\u05e4 \\u05d8 _________________________ \",\n          \"['\\u05d1\\u05d1\\u05d9\\u05ea \\u05d4\\u05de\\u05e9\\u05e4\\u05d8 \\u05d4\\u05e2\\u05dc\\u05d9\\u05d5\\u05df \\u05d1\\u05d9\\u05e8\\u05d5\\u05e9\\u05dc\\u05d9\\u05dd \\u05e8\\u05e2\\\"\\u05e4 9608/01 \\u05d1\\u05e4\\u05e0\\u05d9: \\u05db\\u05d1\\u05d5\\u05d3 \\u05d4\\u05e9\\u05d5\\u05e4\\u05d8 \\u05d0\\\\' \\u05e8\\u05d9\\u05d1\\u05dc\\u05d9\\u05df \\u05d4\\u05de\\u05d1\\u05e7\\u05e9\\u05d9\\u05dd: 1. \\u05d2\\u05e9\\u05de\\u05d9 \\u05d1\\u05e8\\u05db\\u05d4 \\u05d4.\\u05e9.\\u05d9.\\u05d2.(1995) 2. \\u05d2\\u05e9\\u05de\\u05d9 \\u05d1\\u05e8\\u05db\\u05d4 \\u05d1\\u05e2\\\"\\u05de 3. \\u05d4.\\u05e9.\\u05d9.\\u05d2.(1995)\\u05d9\\u05d6\\u05d5\\u05dd \\u05e4\\u05e8\\u05d5\\u05d9\\u05d9\\u05e7\\u05d8\\u05d9\\u05dd 4. \\u05e9\\u05e0\\u05d4\\u05d1 \\u05d6\\u05d0\\u05d1 \\u05e0\\u05d2\\u05d3 \\u05d4\\u05de\\u05e9\\u05d9\\u05d1\\u05d4: \\u05de\\u05d3\\u05d9\\u05e0\\u05ea \\u05d9\\u05e9\\u05e8\\u05d0\\u05dc \\u05d1\\u05e7\\u05e9\\u05ea \\u05e8\\u05e9\\u05d5\\u05ea \\u05e2\\u05e8\\u05e2\\u05d5\\u05e8 \\u05e2\\u05dc \\u05e4\\u05e1\\u05e7-\\u05d3\\u05d9\\u05e0\\u05d5 \\u05e9\\u05dc \\u05d1\\u05d9\\u05ea \\u05d4\\u05de\\u05e9\\u05e4\\u05d8 \\u05d4\\u05de\\u05d7\\u05d5\\u05d6\\u05d9 \\u05d1\\u05ea\\u05dc-\\u05d0\\u05d1\\u05d9\\u05d1-\\u05d9\\u05e4\\u05d5 \\u05de\\u05d9\\u05d5\\u05dd 23.10.2001 \\u05d1\\u05ea\\u05d9\\u05e7 \\u05e2\\u05e4\\\"\\u05d0 80190/01 \\u05e9\\u05e0\\u05d9\\u05ea\\u05df \\u05e2\\u05dc \\u05d9\\u05d3\\u05d9 \\u05db\\u05d1\\u05d5\\u05d3 \\u05d4\\u05e9\\u05d5\\u05e4\\u05d8\\u05d9\\u05dd: \\u05d3\\\\' \\u05d1\\u05e8\\u05dc\\u05d9\\u05e0\\u05e8, \\u05d6\\\\' \\u05d4\\u05de\\u05e8, \\u05d9\\\\' \\u05e9\\u05d8\\u05d5\\u05e4\\u05de\\u05df \\u05d1\\u05e9\\u05dd \\u05d4\\u05de\\u05d1\\u05e7\\u05e9\\u05d9\\u05dd: \\u05e2\\u05d5\\\"\\u05d3 \\u05e9\\u05e8\\u05d9\\u05ea \\u05e9\\u05dc\\u05de\\u05d5\\u05df \\u05d1\\u05e9\\u05dd \\u05d4\\u05de\\u05e9\\u05d9\\u05d1\\u05d4: \\u05e2\\u05d5\\\"\\u05d3 \\u05e2\\u05e0\\u05d1\\u05e8 \\u05e4\\u05dc\\u05e9 \\u05d4\\u05d7\\u05dc\\u05d8\\u05d4 \\u05d1\\u05d9\\u05ea \\u05d4\\u05de\\u05e9\\u05e4\\u05d8 \\u05dc\\u05e2\\u05e0\\u05d9\\u05d9\\u05e0\\u05d9\\u05dd \\u05de\\u05e7\\u05d5\\u05de\\u05d9\\u05d9\\u05dd \\u05d1\\u05e4\\u05ea\\u05d7 \\u05ea\\u05e7\\u05d5\\u05d4 (\\u05db\\u05d1\\u05d5\\u05d3 \\u05d4\\u05e9\\u05d5\\u05e4\\u05d8 \\u05d2\\\\' \\u05e9\\u05d8\\u05e8\\u05e1\\u05de\\u05df) \\u05d1\\u05d9\\u05d8\\u05dc \\u05d0\\u05ea \\u05db\\u05ea\\u05d1 \\u05d4\\u05d0\\u05d9\\u05e9\\u05d5\\u05dd \\u05e9\\u05d4\\u05d5\\u05d2\\u05e9 \\u05db\\u05e0\\u05d2\\u05d3 \\u05d4\\u05de\\u05d1\\u05e7\\u05e9\\u05d9\\u05dd, \\u05d5\\u05d4\\u05de\\u05d9\\u05d9\\u05d7\\u05e1 \\u05dc\\u05d4\\u05dd \\u05d1\\u05d9\\u05e6\\u05d5\\u05e2 \\u05e2\\u05d1\\u05d9\\u05e8\\u05d5\\u05ea \\u05d8\\u05e2\\u05d5\\u05e0\\u05d5\\u05ea \\u05d4\\u05d9\\u05ea\\u05e8 \\u05d1\\u05e1\\u05d8\\u05d9\\u05d4 \\u05de\\u05d4\\u05d9\\u05ea\\u05e8 \\u05d0\\u05d5 \\u05de\\u05ea\\u05db\\u05e0\\u05d9\\u05ea. \\u05e2\\u05e8\\u05e2\\u05d5\\u05e8\\u05d4 \\u05e9\\u05dc \\u05d4\\u05de\\u05d3\\u05d9\\u05e0\\u05d4 \\u05e2\\u05dc \\u05d4\\u05d7\\u05dc\\u05d8\\u05d4 \\u05d6\\u05d5, \\u05dc\\u05d1\\u05d9\\u05ea \\u05d4\\u05de\\u05e9\\u05e4\\u05d8 \\u05d4\\u05de\\u05d7\\u05d5\\u05d6\\u05d9 \\u05d1\\u05ea\\u05dc-\\u05d0\\u05d1\\u05d9\\u05d1 (\\u05db\\u05d1\\u05d5\\u05d3 \\u05d4\\u05e9\\u05d5\\u05e4\\u05d8\\u05d9\\u05dd \\u05d3\\\\' \\u05d1\\u05e8\\u05dc\\u05d9\\u05e0\\u05e8, \\u05d6\\\\' \\u05d4\\u05de\\u05e8 \\u05d5\\u05d9\\\\' \\u05e9\\u05d8\\u05d5\\u05e4\\u05de\\u05df) - \\u05d4\\u05ea\\u05e7\\u05d1\\u05dc. \\u05d4\\u05d4\\u05d7\\u05dc\\u05d8\\u05d4 \\u05d1\\u05d3\\u05d1\\u05e8 \\u05d1\\u05d9\\u05d8\\u05d5\\u05dc \\u05db\\u05ea\\u05d1 \\u05d4\\u05d0\\u05d9\\u05e9\\u05d5\\u05dd \\u05d1\\u05d5\\u05d8\\u05dc\\u05d4, \\u05d5\\u05d4\\u05d3\\u05d9\\u05d5\\u05df \\u05d4\\u05d5\\u05d7\\u05d6\\u05e8 \\u05dc\\u05d1\\u05d9\\u05ea \\u05d4\\u05de\\u05e9\\u05e4\\u05d8 \\u05dc\\u05e2\\u05e0\\u05d9\\u05d9\\u05e0\\u05d9\\u05dd \\u05de\\u05e7\\u05d5\\u05de\\u05d9\\u05d9\\u05dd, \\u05dc\\u05d4\\u05de\\u05e9\\u05da \\u05d1\\u05d9\\u05e8\\u05d5\\u05e8\\u05d5 \\u05dc\\u05de\\u05df \\u05d4\\u05e9\\u05dc\\u05d1 \\u05d0\\u05dc\\u05d9\\u05d5 \\u05d4\\u05d2\\u05d9\\u05e2. \\u05db\\u05e0\\u05d2\\u05d3 \\u05e4\\u05e1\\u05e7-\\u05d3\\u05d9\\u05e0\\u05d5 \\u05e9\\u05dc \\u05d1\\u05d9\\u05ea \\u05d4\\u05de\\u05e9\\u05e4\\u05d8 \\u05d4\\u05de\\u05d7\\u05d5\\u05d6\\u05d9 \\u05de\\u05d5\\u05e4\\u05e0\\u05d9\\u05ea \\u05d4\\u05d1\\u05e7\\u05e9\\u05d4 \\u05e9\\u05dc\\u05e4\\u05e0\\u05d9\\u05e0\\u05d5. \\u05d3\\u05d0 \\u05e2\\u05e7\\u05d0, \\u05de\\u05e9\\u05d8\\u05e8\\u05dd \\u05e0\\u05ea\\u05d1\\u05e8\\u05e8, \\u05d5\\u05de\\u05de\\u05d9\\u05dc\\u05d0 \\u05d8\\u05e8\\u05dd \\u05d4\\u05d5\\u05db\\u05e8\\u05e2, \\u05e2\\u05e0\\u05d9\\u05d9\\u05e0\\u05dd \\u05e9\\u05dc \\u05d4\\u05de\\u05d1\\u05e7\\u05e9\\u05d9\\u05dd - \\u05dc\\u05d2\\u05d5\\u05e4\\u05d5 - \\u05d1\\u05e2\\u05e8\\u05db\\u05d0\\u05d4 \\u05d4\\u05e8\\u05d0\\u05e9\\u05d5\\u05e0\\u05d4, \\u05d0\\u05d9\\u05df \\u05de\\u05e7\\u05d5\\u05dd \\u05dc\\u05d3\\u05d5\\u05df \\u05d1\\u05d8\\u05e2\\u05e0\\u05d5\\u05ea\\u05d9\\u05d4\\u05dd \\u05d1\\u05e4\\u05e0\\u05d9 \\u05d1\\u05d9\\u05ea \\u05de\\u05e9\\u05e4\\u05d8 \\u05d6\\u05d4. \\u05dc\\u05d0\\u05d7\\u05e8 \\u05e9\\u05d9\\u05de\\u05d5\\u05e6\\u05d5 \\u05d4\\u05d4\\u05dc\\u05d9\\u05db\\u05d9\\u05dd \\u05d1\\u05d1\\u05d9\\u05ea \\u05de\\u05e9\\u05e4\\u05d8 \\u05d4\\u05e9\\u05dc\\u05d5\\u05dd, \\u05d5\\u05d0\\u05dd \\u05d9\\u05d4\\u05d9\\u05d4 \\u05e6\\u05d5\\u05e8\\u05da \\u05d2\\u05dd \\u05d1\\u05d1\\u05d9\\u05ea \\u05d4\\u05de\\u05e9\\u05e4\\u05d8 \\u05d4\\u05de\\u05d7\\u05d5\\u05d6\\u05d9 - \\u05d9\\u05d4\\u05d9\\u05d5 \\u05e8\\u05e9\\u05d0\\u05d9\\u05dd \\u05d4\\u05de\\u05d1\\u05e7\\u05e9\\u05d9\\u05dd - \\u05e9\\u05d5\\u05d1, \\u05d0\\u05dd \\u05d9\\u05d4\\u05d9\\u05d4 \\u05e6\\u05d5\\u05e8\\u05da - \\u05dc\\u05e4\\u05e0\\u05d5\\u05ea \\u05dc\\u05d1\\u05d9\\u05ea \\u05de\\u05e9\\u05e4\\u05d8 \\u05d6\\u05d4 \\u05d1\\u05d1\\u05e7\\u05e9\\u05ea \\u05e8\\u05e9\\u05d5\\u05ea \\u05e2\\u05e8\\u05e2\\u05d5\\u05e8 (\\u05e8\\u05d0\\u05d5 \\u05e8\\u05e2\\\"\\u05e4 4632/97 \\u05d0\\u05e7\\u05e1\\u05dc\\u05e8\\u05d5\\u05d3 \\u05e0\\\\' \\u05de\\u05d3\\u05d9\\u05e0\\u05ea \\u05d9\\u05e9\\u05e8\\u05d0\\u05dc (\\u05ea\\u05e7-\\u05e2\\u05dc 97(3) 118)). \\u05e0\\u05d9\\u05ea\\u05e0\\u05d4 \\u05d4\\u05d9\\u05d5\\u05dd, \\u05d4\\\\' \\u05d1\\u05d0\\u05d3\\u05e8 \\u05ea\\u05e9\\u05e1\\\"\\u05d1 (17.2.2002). \\u05e9 \\u05d5 \\u05e4 \\u05d8 _________________ \\u05d4\\u05e2\\u05ea\\u05e7 \\u05de\\u05ea\\u05d0\\u05d9\\u05dd \\u05dc\\u05de\\u05e7\\u05d5\\u05e8 01096080.P02 /\\u05d0\\u05de \\u05e0\\u05d5\\u05e1\\u05d7 \\u05d6\\u05d4 \\u05db\\u05e4\\u05d5\\u05e3 \\u05dc\\u05e9\\u05d9\\u05e0\\u05d5\\u05d9\\u05d9 \\u05e2\\u05e8\\u05d9\\u05db\\u05d4 \\u05d5\\u05e0\\u05d9\\u05e1\\u05d5\\u05d7. \\u05e9\\u05de\\u05e8\\u05d9\\u05d4\\u05d5 \\u05db\\u05d4\\u05df - \\u05de\\u05d6\\u05db\\u05d9\\u05e8 \\u05e8\\u05d0\\u05e9\\u05d9 \\u05d1\\u05d1\\u05d9\\u05ea \\u05d4\\u05de\\u05e9\\u05e4\\u05d8 \\u05d4\\u05e2\\u05dc\\u05d9\\u05d5\\u05df \\u05e4\\u05d5\\u05e2\\u05dc \\u05de\\u05e8\\u05db\\u05d6 \\u05de\\u05d9\\u05d3\\u05e2, \\u05d8\\u05dc\\\\' 02-6750444 \\u05d1\\u05d9\\u05ea \\u05d4\\u05de\\u05e9\\u05e4\\u05d8 \\u05e4\\u05ea\\u05d5\\u05d7 \\u05dc\\u05d4\\u05e2\\u05e8\\u05d5\\u05ea \\u05d5\\u05d4\\u05e6\\u05e2\\u05d5\\u05ea: pniot@supreme.court.gov.il \\u05dc\\u05d1\\u05ea\\u05d9 \\u05d4\\u05de\\u05e9\\u05e4\\u05d8 \\u05d0\\u05ea\\u05e8 \\u05d1\\u05d0\\u05d9\\u05e0\\u05d8\\u05e8\\u05e0\\u05d8: www.court.gov.il']\",\n          \"['\\u05d4\\u05d7\\u05dc\\u05d8\\u05d4 \\u05d1\\u05ea\\u05d9\\u05e7 \\u05d1\\u05e9\\\"\\u05e4 1092/17 \\u05d1\\u05d1\\u05d9\\u05ea \\u05d4\\u05de\\u05e9\\u05e4\\u05d8 \\u05d4\\u05e2\\u05dc\\u05d9\\u05d5\\u05df \\u05e8\\u05e2\\\"\\u05e4 1092/17 \\u05dc\\u05e4\\u05e0\\u05d9: \\u05db\\u05d1\\u05d5\\u05d3 \\u05d4\\u05e9\\u05d5\\u05e4\\u05d8\\u05ea \\u05d3\\\\' \\u05d1\\u05e8\\u05e7-\\u05d0\\u05e8\\u05d6 \\u05d4\\u05de\\u05e2\\u05e8\\u05e2\\u05e8\\u05d9\\u05dd: 1. \\u05db\\u05e4\\u05d9\\u05e8 \\u05d3\\u05d4\\u05df 2. \\u05e9\\u05d9\\u05e8\\u05d4 \\u05d3\\u05d4\\u05df \\u05e0\\u05d2\\u05d3 \\u05d4\\u05de\\u05e9\\u05d9\\u05d1\\u05d4: \\u05d4\\u05d5\\u05d5\\u05e2\\u05d3\\u05d4 \\u05d4\\u05de\\u05e7\\u05d5\\u05de\\u05d9\\u05ea \\u05dc\\u05ea\\u05db\\u05e0\\u05d5\\u05df \\u05d5\\u05d1\\u05e0\\u05d9\\u05d4 \\u05de\\u05d8\\u05d4 \\u05d9\\u05d4\\u05d5\\u05d3\\u05d4 \\u05d1\\u05e7\\u05e9\\u05ea \\u05e8\\u05e9\\u05d5\\u05ea \\u05e2\\u05e8\\u05e2\\u05d5\\u05e8 \\u05e2\\u05dc \\u05e4\\u05e1\\u05e7 \\u05d3\\u05d9\\u05e0\\u05d5 \\u05e9\\u05dc \\u05d1\\u05d9\\u05ea \\u05d4\\u05de\\u05e9\\u05e4\\u05d8 \\u05d4\\u05de\\u05d7\\u05d5\\u05d6\\u05d9 \\u05d1\\u05d9\\u05e8\\u05d5\\u05e9\\u05dc\\u05d9\\u05dd \\u05de\\u05d9\\u05d5\\u05dd 30.1.2017 \\u05d1\\u05e2\\\"\\u05e4 23940-12-16 \\u05e9\\u05e0\\u05d9\\u05ea\\u05df \\u05e2\\u05dc-\\u05d9\\u05d3\\u05d9 \\u05db\\u05d1\\u05d5\\u05d3 \\u05d4\\u05e9\\u05d5\\u05e4\\u05d8 \\u05d7\\\\' \\u05de\\\\' \\u05dc\\u05d5\\u05de\\u05e4 \\u05d1\\u05e9\\u05dd \\u05d4\\u05de\\u05e2\\u05e8\\u05e2\\u05e8\\u05d9\\u05dd: \\u05d1\\u05e2\\u05e6\\u05de\\u05dd \\u05d1\\u05e9\\u05dd \\u05d4\\u05de\\u05e9\\u05d9\\u05d1\\u05d4: \\u05e2\\u05d5\\\"\\u05d3 \\u05e8\\u05e2\\u05d5\\u05ea \\u05d0\\u05d4\\u05e8\\u05d5\\u05df, \\u05e2\\u05d5\\\"\\u05d3 \\u05de\\u05d0\\u05d9\\u05e8 \\u05d1\\u05df \\u05d3\\u05d5\\u05d3 \\u05e4\\u05e1\\u05e7 \\u05d3\\u05d9\\u05df 1. \\u05d4\\u05d1\\u05e7\\u05e9\\u05d4 \\u05e9\\u05d1\\u05e4\\u05e0\\u05d9 \\u05e0\\u05e7\\u05dc\\u05d8\\u05d4 \\u05d1\\u05de\\u05d6\\u05db\\u05d9\\u05e8\\u05d5\\u05ea \\u05d1\\u05d9\\u05ea \\u05d4\\u05de\\u05e9\\u05e4\\u05d8, \\u05d1\\u05d8\\u05e2\\u05d5\\u05ea, \\u05ea\\u05d7\\u05ea \\u05d4\\u05e1\\u05d9\\u05d5\\u05d5\\u05d2 \\u05d1\\u05e9\\\"\\u05e4. \\u05d4\\u05dc\\u05db\\u05d4 \\u05dc\\u05de\\u05e2\\u05e9\\u05d4, \\u05de\\u05d3\\u05d5\\u05d1\\u05e8 \\u05d1\\u05d1\\u05e7\\u05e9\\u05ea \\u05e8\\u05e9\\u05d5\\u05ea \\u05dc\\u05e2\\u05e8\\u05e2\\u05e8 \\u05e2\\u05dc \\u05e4\\u05e1\\u05e7 \\u05d3\\u05d9\\u05e0\\u05d5 \\u05e9\\u05dc \\u05d1\\u05d9\\u05ea \\u05d4\\u05de\\u05e9\\u05e4\\u05d8 \\u05d4\\u05de\\u05d7\\u05d5\\u05d6\\u05d9 \\u05d1\\u05d9\\u05e8\\u05d5\\u05e9\\u05dc\\u05d9\\u05dd \\u05de\\u05d9\\u05d5\\u05dd 30.1.2017 (\\u05e2\\\"\\u05e4 23940-12-16, \\u05d4\\u05e9\\u05d5\\u05e4\\u05d8\\u05ea \\u05d7\\\\' \\u05de\\\\' \\u05dc\\u05d5\\u05de\\u05e4). \\u05e1\\u05d9\\u05d5\\u05d5\\u05d2\\u05d4 \\u05d4\\u05e8\\u05d0\\u05d5\\u05d9 \\u05d0\\u05e4\\u05d5\\u05d0 \\u05d4\\u05d5\\u05d0 \\u05e8\\u05e2\\\"\\u05e4, \\u05d5\\u05db\\u05da \\u05d0\\u05e0\\u05d9 \\u05de\\u05d5\\u05e8\\u05d4. 2. \\u05de\\u05e7\\u05d5\\u05e8\\u05d5 \\u05e9\\u05dc \\u05d4\\u05d4\\u05dc\\u05d9\\u05da \\u05d3\\u05e0\\u05df \\u05d4\\u05d5\\u05d0 \\u05d1\\u05d1\\u05e7\\u05e9\\u05d4 \\u05dc\\u05de\\u05ea\\u05df \\u05d0\\u05d5\\u05e8\\u05db\\u05d4 \\u05dc\\u05d1\\u05d9\\u05e6\\u05d5\\u05e2\\u05d5 \\u05e9\\u05dc \\u05e6\\u05d5 \\u05d4\\u05d4\\u05e8\\u05d9\\u05e1\\u05d4 \\u05e9\\u05d4\\u05d5\\u05e6\\u05d0 \\u05d1\\u05d9\\u05d7\\u05e1 \\u05dc\\u05de\\u05d1\\u05e0\\u05d4 \\u05d4\\u05d9\\u05d1\\u05d9\\u05dc \\u05e9\\u05d1\\u05d5 \\u05de\\u05ea\\u05d2\\u05d5\\u05e8\\u05e8\\u05d9\\u05dd \\u05d4\\u05de\\u05d1\\u05e7\\u05e9\\u05d9\\u05dd \\u05d1\\u05de\\u05e1\\u05d2\\u05e8\\u05ea \\u05d4\\u05dc\\u05d9\\u05da \\u05e4\\u05dc\\u05d9\\u05dc\\u05d9 \\u05dc\\u05e4\\u05d9 \\u05d7\\u05d5\\u05e7 \\u05d4\\u05ea\\u05db\\u05e0\\u05d5\\u05df \\u05d5\\u05d4\\u05d1\\u05e0\\u05d9\\u05d4, \\u05d4\\u05ea\\u05e9\\u05db\\\"\\u05d4-1965. \\u05d4\\u05d1\\u05e7\\u05e9\\u05d4 \\u05e0\\u05d3\\u05d7\\u05ea\\u05d4 \\u05e2\\u05dc \\u05d9\\u05d3\\u05d9 \\u05d1\\u05d9\\u05ea \\u05d4\\u05de\\u05e9\\u05e4\\u05d8 \\u05dc\\u05e2\\u05e0\\u05d9\\u05d9\\u05e0\\u05d9\\u05dd \\u05de\\u05e7\\u05d5\\u05de\\u05d9\\u05d9\\u05dd \\u05d1\\u05d1\\u05d9\\u05ea \\u05e9\\u05de\\u05e9 \\u05d5\\u05e2\\u05dc \\u05db\\u05df \\u05d4\\u05d2\\u05d9\\u05e9\\u05d5 \\u05d4\\u05de\\u05d1\\u05e7\\u05e9\\u05d9\\u05dd \\u05e2\\u05e8\\u05e2\\u05d5\\u05e8 \\u05dc\\u05d1\\u05d9\\u05ea \\u05d4\\u05de\\u05e9\\u05e4\\u05d8 \\u05d4\\u05de\\u05d7\\u05d5\\u05d6\\u05d9, \\u05d0\\u05e9\\u05e8 \\u05e7\\u05d1\\u05e2 \\u05db\\u05d9 \\u05ea\\u05d9\\u05e0\\u05ea\\u05df \\u05dc\\u05de\\u05d1\\u05e7\\u05e9\\u05d9\\u05dd \\u05d0\\u05d5\\u05e8\\u05db\\u05d4 \\u05dc\\u05e4\\u05e0\\u05d5\\u05ea \\u05d0\\u05ea \\u05d4\\u05de\\u05d1\\u05e0\\u05d4 \\u05e2\\u05d3 \\u05dc\\u05d9\\u05d5\\u05dd 1.4.2017 \\u05d5\\u05dc\\u05d4\\u05e8\\u05e1\\u05d5 \\u05e2\\u05d3 \\u05dc\\u05d9\\u05d5\\u05dd 2.5.2017. \\u05dc\\u05d0\\u05d7\\u05e8 \\u05de\\u05db\\u05df \\u05d4\\u05de\\u05d1\\u05e7\\u05e9\\u05d9\\u05dd \\u05d4\\u05d2\\u05d9\\u05e9\\u05d5 \\u05d1\\u05e7\\u05e9\\u05ea \\u05d0\\u05d5\\u05e8\\u05db\\u05d4 \\u05e0\\u05d5\\u05e1\\u05e4\\u05ea \\u05dc\\u05d1\\u05d9\\u05ea \\u05d4\\u05de\\u05e9\\u05e4\\u05d8 \\u05d4\\u05de\\u05d7\\u05d5\\u05d6\\u05d9, \\u05d5\\u05d6\\u05d5 \\u05e0\\u05d3\\u05d7\\u05ea\\u05d4. \\u05e2\\u05dc \\u05db\\u05da \\u05e0\\u05e1\\u05d1\\u05d4 \\u05d4\\u05d1\\u05e7\\u05e9\\u05d4 \\u05e9\\u05d1\\u05e4\\u05e0\\u05d9. 3. \\u05d1\\u05ea\\u05e9\\u05d5\\u05d1\\u05d4 \\u05e9\\u05d4\\u05d5\\u05d2\\u05e9\\u05d4 \\u05de\\u05d8\\u05e2\\u05dd \\u05d4\\u05de\\u05e9\\u05d9\\u05d1\\u05d4 \\u05e6\\u05d5\\u05d9\\u05df \\u05db\\u05d9 \\u05d4\\u05de\\u05e7\\u05e8\\u05d4 \\u05d4\\u05e2\\u05d5\\u05de\\u05d3 \\u05d1\\u05d9\\u05e1\\u05d5\\u05d3 \\u05d4\\u05d4\\u05dc\\u05d9\\u05da \\u05db\\u05e8\\u05d5\\u05da \\u05d1\\u05e0\\u05e1\\u05d9\\u05d1\\u05d5\\u05ea \\u05d0\\u05d9\\u05e9\\u05d9\\u05d5\\u05ea \\u05d5\\u05de\\u05e9\\u05e4\\u05d7\\u05ea\\u05d9\\u05d5\\u05ea \\u05d7\\u05e8\\u05d9\\u05d2\\u05d5\\u05ea \\u05d5\\u05e7\\u05e9\\u05d5\\u05ea \\u05d5\\u05e2\\u05dc \\u05db\\u05df \\u05d4\\u05d9\\u05d0 \\u05de\\u05d1\\u05e7\\u05e9\\u05ea \\u05dc\\u05d4\\u05d5\\u05ea\\u05d9\\u05e8 \\u05d0\\u05ea \\u05d4\\u05d4\\u05db\\u05e8\\u05e2\\u05d4 \\u05d1\\u05d5 \\u05dc\\u05e9\\u05d9\\u05e7\\u05d5\\u05dc \\u05d3\\u05e2\\u05ea\\u05d5 \\u05e9\\u05dc \\u05d1\\u05d9\\u05ea \\u05d4\\u05de\\u05e9\\u05e4\\u05d8. \\u05d1\\u05d4\\u05ea\\u05d7\\u05e9\\u05d1 \\u05d1\\u05db\\u05da \\u05d5\\u05dc\\u05d0\\u05d7\\u05e8 \\u05e9\\u05d1\\u05d7\\u05e0\\u05ea\\u05d9 \\u05d0\\u05ea \\u05de\\u05db\\u05dc\\u05d5\\u05dc \\u05d4\\u05e0\\u05e1\\u05d9\\u05d1\\u05d5\\u05ea \\u05d4\\u05e2\\u05e0\\u05d9\\u05d9\\u05df, \\u05d0\\u05e0\\u05d9 \\u05de\\u05d5\\u05e8\\u05d4 \\u05e2\\u05dc \\u05de\\u05ea\\u05df \\u05d0\\u05d5\\u05e8\\u05db\\u05d4 \\u05e0\\u05d5\\u05e1\\u05e4\\u05ea \\u05dc\\u05de\\u05d1\\u05e7\\u05e9\\u05d9\\u05dd \\u05dc\\u05e4\\u05e0\\u05d5\\u05ea \\u05d0\\u05ea \\u05d4\\u05de\\u05d1\\u05e0\\u05d4 \\u05e2\\u05d3 \\u05dc\\u05d9\\u05d5\\u05dd 1.7.2017 \\u05d5\\u05dc\\u05d4\\u05e8\\u05e1\\u05d5 \\u05e2\\u05d3 \\u05dc\\u05d9\\u05d5\\u05dd 2.8.2017 (\\u05d1\\u05ea\\u05e0\\u05d0\\u05d9\\u05dd \\u05e9\\u05e0\\u05e7\\u05d1\\u05e2\\u05d5 \\u05d1\\u05e4\\u05e1\\u05e7 \\u05d3\\u05d9\\u05e0\\u05d5 \\u05e9\\u05dc \\u05d1\\u05d9\\u05ea \\u05d4\\u05de\\u05e9\\u05e4\\u05d8 \\u05d4\\u05de\\u05d7\\u05d5\\u05d6\\u05d9). 4. \\u05d4\\u05d1\\u05e7\\u05e9\\u05d4 \\u05de\\u05ea\\u05e7\\u05d1\\u05dc\\u05ea \\u05d0\\u05e4\\u05d5\\u05d0 \\u05db\\u05de\\u05e4\\u05d5\\u05e8\\u05d8 \\u05d1\\u05e4\\u05e1\\u05e7\\u05d4 3. \\u05e2\\u05dc \\u05d4\\u05de\\u05d1\\u05e7\\u05e9\\u05d9\\u05dd \\u05dc\\u05d4\\u05d1\\u05d9\\u05df \\u05db\\u05d9 \\u05d4\\u05d4\\u05d9\\u05e2\\u05e0\\u05d5\\u05ea \\u05dc\\u05d1\\u05e7\\u05e9\\u05ea\\u05dd \\u05d4\\u05ea\\u05d0\\u05e4\\u05e9\\u05e8\\u05d4 \\u05dc\\u05e0\\u05d5\\u05db\\u05d7 \\u05d4\\u05e2\\u05de\\u05d3\\u05d4 \\u05e9\\u05d2\\u05d9\\u05dc\\u05ea\\u05d4 \\u05d4\\u05de\\u05e9\\u05d9\\u05d1\\u05d4, \\u05d5\\u05db\\u05d9 \\u05d0\\u05dc \\u05dc\\u05d4\\u05dd \\u05dc\\u05e6\\u05e4\\u05d5\\u05ea \\u05dc\\u05db\\u05dc \\u05d4\\u05e7\\u05dc\\u05d5\\u05ea \\u05e0\\u05d5\\u05e1\\u05e4\\u05d5\\u05ea, \\u05d0\\u05dc\\u05d0 \\u05dc\\u05d4\\u05d9\\u05e2\\u05e8\\u05da \\u05dc\\u05d1\\u05d9\\u05e6\\u05d5\\u05e2 \\u05d4\\u05e6\\u05d5 \\u05d4\\u05e9\\u05d9\\u05e4\\u05d5\\u05d8\\u05d9, \\u05de\\u05e9\\u05ea\\u05de\\u05d5 \\u05d4\\u05d4\\u05dc\\u05d9\\u05db\\u05d9\\u05dd \\u05db\\u05d5\\u05dc\\u05dd. \\u05e0\\u05d9\\u05ea\\u05df \\u05d4\\u05d9\\u05d5\\u05dd, \\\\u200f\\u05d9\\\"\\u05d8 \\u05d1\\u05e9\\u05d1\\u05d8 \\u05d4\\u05ea\\u05e9\\u05e2\\\"\\u05d6 (\\\\u200f15.2.2017). \\u05e9 \\u05d5 \\u05e4 \\u05d8 \\u05ea _________________________ \"\n        ],\n        \"semantic_type\": \"\",\n        \"description\": \"\"\n      }\n    },\n    {\n      \"column\": \"\\u05ea\\u05d5\\u05e6\\u05d0\\u05d4 \\u05de\\u05e1\\u05db\\u05de\\u05ea\",\n      \"properties\": {\n        \"dtype\": \"string\",\n        \"num_unique_values\": 5,\n        \"samples\": [\n          \"\\u05d1\\u05e7\\u05e9\\u05d4 \\u05d0\\u05d7\\u05e8\\u05ea\\n\\u05d1\\u05e7\\u05e9\\u05d4 \\u05dc\\u05d3\\u05d7\\u05d9\\u05d9\\u05ea \\u05de\\u05d5\\u05e2\\u05d3 \\u05ea\\u05d7\\u05d9\\u05dc\\u05ea \\u05e8\\u05d9\\u05e6\\u05d5\\u05d9 \\u05e2\\u05d5\\u05e0\\u05e9 \\u05d4\\u05de\\u05d0\\u05e1\\u05e8\",\n          \"\\u05d3\\u05d0 \\u05e2\\u05e7\\u05d0, \\u05de\\u05e9\\u05d8\\u05e8\\u05dd \\u05e0\\u05ea\\u05d1\\u05e8\\u05e8, \\u05d5\\u05de\\u05de\\u05d9\\u05dc\\u05d0 \\u05d8\\u05e8\\u05dd \\u05d4\\u05d5\\u05db\\u05e8\\u05e2, \\u05e2\\u05e0\\u05d9\\u05d9\\u05e0\\u05dd \\u05e9\\u05dc \\u05d4\\u05de\\u05d1\\u05e7\\u05e9\\u05d9\\u05dd - \\u05dc\\u05d2\\u05d5\\u05e4\\u05d5 - \\u05d1\\u05e2\\u05e8\\u05db\\u05d0\\u05d4 \\u05d4\\u05e8\\u05d0\\u05e9\\u05d5\\u05e0\\u05d4, \\u05d0\\u05d9\\u05df \\u05de\\u05e7\\u05d5\\u05dd \\u05dc\\u05d3\\u05d5\\u05df \\u05d1\\u05d8\\u05e2\\u05e0\\u05d5\\u05ea\\u05d9\\u05d4\\u05dd \\u05d1\\u05e4\\u05e0\\u05d9 \\u05d1\\u05d9\\u05ea \\u05de\\u05e9\\u05e4\\u05d8 \\u05d6\\u05d4. \\u05dc\\u05d0\\u05d7\\u05e8 \\u05e9\\u05d9\\u05de\\u05d5\\u05e6\\u05d5 \\u05d4\\u05d4\\u05dc\\u05d9\\u05db\\u05d9\\u05dd \\u05d1\\u05d1\\u05d9\\u05ea \\u05de\\u05e9\\u05e4\\u05d8 \\u05d4\\u05e9\\u05dc\\u05d5\\u05dd, \\u05d5\\u05d0\\u05dd \\u05d9\\u05d4\\u05d9\\u05d4 \\u05e6\\u05d5\\u05e8\\u05da \\u05d2\\u05dd \\u05d1\\u05d1\\u05d9\\u05ea \\u05d4\\u05de\\u05e9\\u05e4\\u05d8 \\u05d4\\u05de\\u05d7\\u05d5\\u05d6\\u05d9 - \\u05d9\\u05d4\\u05d9\\u05d5 \\u05e8\\u05e9\\u05d0\\u05d9\\u05dd \\u05d4\\u05de\\u05d1\\u05e7\\u05e9\\u05d9\\u05dd - \\u05e9\\u05d5\\u05d1, \\u05d0\\u05dd \\u05d9\\u05d4\\u05d9\\u05d4 \\u05e6\\u05d5\\u05e8\\u05da - \\u05dc\\u05e4\\u05e0\\u05d5\\u05ea \\u05dc\\u05d1\\u05d9\\u05ea \\u05de\\u05e9\\u05e4\\u05d8 \\u05d6\\u05d4 \\u05d1\\u05d1\\u05e7\\u05e9\\u05ea \\u05e8\\u05e9\\u05d5\\u05ea \\u05e2\\u05e8\\u05e2\\u05d5\",\n          \"\\u05d1\\u05d9\\u05d4\\u05de\\u05f3\\u05f3\\u05e9 \\u05e0\\u05ea\\u05df \\u05d0\\u05d5\\u05e8\\u05db\\u05d4 \\u05d0\\u05da \\u05dc\\u05d0 \\u05d1\\u05d9\\u05d8\\u05dc \\u05d0\\u05ea \\u05e6\\u05d5 \\u05d4\\u05d4\\u05e8\\u05d9\\u05e1\\u05d4\\n\\u05d4\\u05d1\\u05e7\\u05e9\\u05d4 \\u05de\\u05ea\\u05e7\\u05d1\\u05dc\\u05ea \\u05d0\\u05e4\\u05d5\\u05d0 \\u05db\\u05de\\u05e4\\u05d5\\u05e8\\u05d8 \\u05d1\\u05e4\\u05e1\\u05e7\\u05d4 3\"\n        ],\n        \"semantic_type\": \"\",\n        \"description\": \"\"\n      }\n    }\n  ]\n}"
            }
          },
          "metadata": {},
          "execution_count": 32
        }
      ]
    },
    {
      "cell_type": "code",
      "source": [
        "df[[\"גוף המסמך חתוך\", \"תוצאה מסכמת\"]].sample(5, random_state=42)"
      ],
      "metadata": {
        "colab": {
          "base_uri": "https://localhost:8080/",
          "height": 779
        },
        "id": "mIGeDoOU8nNx",
        "outputId": "1716bf2e-7867-40b3-f2cf-d11c2d9afe6e"
      },
      "execution_count": 33,
      "outputs": [
        {
          "output_type": "execute_result",
          "data": {
            "text/plain": [
              "                                                                                                                                                                                                                                                                                                                                                                                                                                                                                                                                                                                                                                                                                                                                                                                                                                                                                                                                                                                                                                                                                                                                                                                                                                                                                                                                                                                                                                                                                                                                                                                                                                                                                                                                                  גוף המסמך חתוך  \\\n",
              "3004                                                                                                                                                                                                                                                                                                                                                                                                                                                                                                                                                                                                                                                                                                                                                                                                                                                                                                                                                                                                                                       ['פסק דין בתיק רע\"פ 4386/08 בבית המשפט העליון רע\"פ 4386/08 בפני: כבוד השופטת א\\' פרוקצ\\'יה כבוד השופט א\\' רובינשטיין כבוד השופט ס\\' ג\\'ובראן המבקש: גד כהן נגד המשיבה: מדינת ישראל בקשת רשות ערעור על פסק-דינו של בית המשפט המחוזי בירושלים מיום 30.4.08 בע\"פ 2074/08 שניתן על-ידי כבוד השופט ע\\' חבש – סג\"נ בשם המבקש: עו\"ד דוד גולן בשם המשיבה: עו\"ד מיטל בוכמן-שינדל פסק דין לאור הסכמת הצדדים, המוצאת את ביטויה בסעיף 3 לתגובת המשיבה, ניתנת בזאת רשות ערעור, והערעור מתקבל במובן זה שפסקי הדין נשוא הבקשה שניתנו בעניינו של המבקש מבוטלים בזאת, והתיק מוחזר לבית משפט השלום לתעבורה בירושלים לדיון מחודש בעניינו. ניתן היום, א\\' בחשון התשס\"ט (30.10.2008). ש ו פ ט ת ש ו פ ט ש ו פ ט _________________________    \n",
              "1922                                                                                                                                                                                                                                                                                                                                                                                                                                                                                                                                                                                                                                                                                                                                                                                                                                                                                                                                                                                                                                                                                                                                                                                                                                                                                                                                                                                                                                                       ['החלטה בתיק רע\"פ 1682/11 בבית המשפט העליון רע\"פ 1682/11 בפני: כבוד השופט ס\\' ג\\'ובראן המבקש: ואיל מזערה נגד המשיבה: מדינת ישראל בקשה לדחיית מועד תחילת ריצוי עונש המאסר בשם המבקש: עו\"ד מאליק מנצור החלטה הבקשה נדחית. ניתנה היום, כ\"ה באדר ב התשע\"א (31.3.2011). ש ו פ ט _________________________    \n",
              "3096  ['החלטה בתיק בש\"פ 1092/17 בבית המשפט העליון רע\"פ 1092/17 לפני: כבוד השופטת ד\\' ברק-ארז המערערים: 1. כפיר דהן 2. שירה דהן נגד המשיבה: הוועדה המקומית לתכנון ובניה מטה יהודה בקשת רשות ערעור על פסק דינו של בית המשפט המחוזי בירושלים מיום 30.1.2017 בע\"פ 23940-12-16 שניתן על-ידי כבוד השופט ח\\' מ\\' לומפ בשם המערערים: בעצמם בשם המשיבה: עו\"ד רעות אהרון, עו\"ד מאיר בן דוד פסק דין 1. הבקשה שבפני נקלטה במזכירות בית המשפט, בטעות, תחת הסיווג בש\"פ. הלכה למעשה, מדובר בבקשת רשות לערער על פסק דינו של בית המשפט המחוזי בירושלים מיום 30.1.2017 (ע\"פ 23940-12-16, השופטת ח\\' מ\\' לומפ). סיווגה הראוי אפוא הוא רע\"פ, וכך אני מורה. 2. מקורו של ההליך דנן הוא בבקשה למתן אורכה לביצועו של צו ההריסה שהוצא ביחס למבנה היביל שבו מתגוררים המבקשים במסגרת הליך פלילי לפי חוק התכנון והבניה, התשכ\"ה-1965. הבקשה נדחתה על ידי בית המשפט לעניינים מקומיים בבית שמש ועל כן הגישו המבקשים ערעור לבית המשפט המחוזי, אשר קבע כי תינתן למבקשים אורכה לפנות את המבנה עד ליום 1.4.2017 ולהרסו עד ליום 2.5.2017. לאחר מכן המבקשים הגישו בקשת אורכה נוספת לבית המשפט המחוזי, וזו נדחתה. על כך נסבה הבקשה שבפני. 3. בתשובה שהוגשה מטעם המשיבה צוין כי המקרה העומד ביסוד ההליך כרוך בנסיבות אישיות ומשפחתיות חריגות וקשות ועל כן היא מבקשת להותיר את ההכרעה בו לשיקול דעתו של בית המשפט. בהתחשב בכך ולאחר שבחנתי את מכלול הנסיבות העניין, אני מורה על מתן אורכה נוספת למבקשים לפנות את המבנה עד ליום 1.7.2017 ולהרסו עד ליום 2.8.2017 (בתנאים שנקבעו בפסק דינו של בית המשפט המחוזי). 4. הבקשה מתקבלת אפוא כמפורט בפסקה 3. על המבקשים להבין כי ההיענות לבקשתם התאפשרה לנוכח העמדה שגילתה המשיבה, וכי אל להם לצפות לכל הקלות נוספות, אלא להיערך לביצוע הצו השיפוטי, משתמו ההליכים כולם. ניתן היום, \\u200fי\"ט בשבט התשע\"ז (\\u200f15.2.2017). ש ו פ ט ת _________________________    \n",
              "3022                                                                                                                                                                                                                                                                                                                                                                                                                                                                                                                                                                                                                                                                                                                                                                                                                                                                                                                                                                                 ['פסק דין בתיק רע\"פ 1793/09 בבית המשפט העליון רע\"פ 1793/09 בפני: כבוד השופט א\\' א\\' לוי כבוד השופטת ע\\' ארבל כבוד השופט י\\' דנציגר המבקשים: 1. פאבל מינסטר 2. זאב שוורץ נגד המשיבה: מדינת ישראל בקשת רשות ערעור על פסק-דינו של ביתה משפט המחוזי בתל-אביב, בע\"פ 70149/08, מיום 28.1.09, שניתן על ידי כבוד ס\\' הנשיא השופטת ד\\' ברלינר, ס. הנשיא השופט ז\\' המר, ס. הנשיא השופטת ב\\' אופיר-תום בשם המבקש 1: עו\"ד אמיר ציון בשם המבקש 2: עו\"ד רובינשטיין מנחם פסק דין נוכח האמור בתגובת המשיבה, ניתנת בזאת רשות ערעור והבקשה תידון כבערעור גופו. עניינם של המבקשים יובא בשנית בפני בית המשפט המחוזי, המתבקש להבהיר אם תוצאת פסק-דינו היא זיכוי מוחלט של המבקשים או זיכוי מחמת הספק. ניתן היום, ט\"ו באדר התשס\"ט (11.03.09). ש ו פ ט ש ו פ ט ת ש ו פ ט _________________________    \n",
              "2649                                                                                                                                                                                                    ['בבית המשפט העליון בירושלים רע\"פ 9608/01 בפני: כבוד השופט א\\' ריבלין המבקשים: 1. גשמי ברכה ה.ש.י.ג.(1995) 2. גשמי ברכה בע\"מ 3. ה.ש.י.ג.(1995)יזום פרוייקטים 4. שנהב זאב נגד המשיבה: מדינת ישראל בקשת רשות ערעור על פסק-דינו של בית המשפט המחוזי בתל-אביב-יפו מיום 23.10.2001 בתיק עפ\"א 80190/01 שניתן על ידי כבוד השופטים: ד\\' ברלינר, ז\\' המר, י\\' שטופמן בשם המבקשים: עו\"ד שרית שלמון בשם המשיבה: עו\"ד ענבר פלש החלטה בית המשפט לעניינים מקומיים בפתח תקוה (כבוד השופט ג\\' שטרסמן) ביטל את כתב האישום שהוגש כנגד המבקשים, והמייחס להם ביצוע עבירות טעונות היתר בסטיה מהיתר או מתכנית. ערעורה של המדינה על החלטה זו, לבית המשפט המחוזי בתל-אביב (כבוד השופטים ד\\' ברלינר, ז\\' המר וי\\' שטופמן) - התקבל. ההחלטה בדבר ביטול כתב האישום בוטלה, והדיון הוחזר לבית המשפט לעניינים מקומיים, להמשך בירורו למן השלב אליו הגיע. כנגד פסק-דינו של בית המשפט המחוזי מופנית הבקשה שלפנינו. דא עקא, משטרם נתברר, וממילא טרם הוכרע, עניינם של המבקשים - לגופו - בערכאה הראשונה, אין מקום לדון בטענותיהם בפני בית משפט זה. לאחר שימוצו ההליכים בבית משפט השלום, ואם יהיה צורך גם בבית המשפט המחוזי - יהיו רשאים המבקשים - שוב, אם יהיה צורך - לפנות לבית משפט זה בבקשת רשות ערעור (ראו רע\"פ 4632/97 אקסלרוד נ\\' מדינת ישראל (תק-על 97(3) 118)). ניתנה היום, ה\\' באדר תשס\"ב (17.2.2002). ש ו פ ט _________________ העתק מתאים למקור 01096080.P02 /אמ נוסח זה כפוף לשינויי עריכה וניסוח. שמריהו כהן - מזכיר ראשי בבית המשפט העליון פועל מרכז מידע, טל\\' 02-6750444 בית המשפט פתוח להערות והצעות: pniot@supreme.court.gov.il לבתי המשפט אתר באינטרנט: www.court.gov.il']   \n",
              "\n",
              "                                                                                                                                                                                                                                                                             תוצאה מסכמת  \n",
              "3004                                                                                                                                       ניתנת בזאת רשות ערעור, והערעור מתקבל במובן זה שפסקי הדין נשוא הבקשה שניתנו בעניינו של המבקש מבוטלים בזאת, והתיק מוחזר לבית משפט השלום לתעבורה  \n",
              "1922                                                                                                                                                                                                                                  בקשה אחרת\\nבקשה לדחיית מועד תחילת ריצוי עונש המאסר  \n",
              "3096                                                                                                                                                                                                         ביהמ׳׳ש נתן אורכה אך לא ביטל את צו ההריסה\\nהבקשה מתקבלת אפוא כמפורט בפסקה 3  \n",
              "3022                                                                                                                                                                                                                                      ביהמש לא הכריע בערעור והחזיר לדיון נוסף במחוזי  \n",
              "2649  דא עקא, משטרם נתברר, וממילא טרם הוכרע, עניינם של המבקשים - לגופו - בערכאה הראשונה, אין מקום לדון בטענותיהם בפני בית משפט זה. לאחר שימוצו ההליכים בבית משפט השלום, ואם יהיה צורך גם בבית המשפט המחוזי - יהיו רשאים המבקשים - שוב, אם יהיה צורך - לפנות לבית משפט זה בבקשת רשות ערעו  "
            ],
            "text/html": [
              "\n",
              "  <div id=\"df-bfcaf89c-2d8d-4bdc-8cd3-5e6af765f144\" class=\"colab-df-container\">\n",
              "    <div>\n",
              "<style scoped>\n",
              "    .dataframe tbody tr th:only-of-type {\n",
              "        vertical-align: middle;\n",
              "    }\n",
              "\n",
              "    .dataframe tbody tr th {\n",
              "        vertical-align: top;\n",
              "    }\n",
              "\n",
              "    .dataframe thead th {\n",
              "        text-align: right;\n",
              "    }\n",
              "</style>\n",
              "<table border=\"1\" class=\"dataframe\">\n",
              "  <thead>\n",
              "    <tr style=\"text-align: right;\">\n",
              "      <th></th>\n",
              "      <th>גוף המסמך חתוך</th>\n",
              "      <th>תוצאה מסכמת</th>\n",
              "    </tr>\n",
              "  </thead>\n",
              "  <tbody>\n",
              "    <tr>\n",
              "      <th>3004</th>\n",
              "      <td>['פסק דין בתיק רע\"פ 4386/08 בבית המשפט העליון רע\"פ 4386/08 בפני: כבוד השופטת א\\' פרוקצ\\'יה כבוד השופט א\\' רובינשטיין כבוד השופט ס\\' ג\\'ובראן המבקש: גד כהן נגד המשיבה: מדינת ישראל בקשת רשות ערעור על פסק-דינו של בית המשפט המחוזי בירושלים מיום 30.4.08 בע\"פ 2074/08 שניתן על-ידי כבוד השופט ע\\' חבש – סג\"נ בשם המבקש: עו\"ד דוד גולן בשם המשיבה: עו\"ד מיטל בוכמן-שינדל פסק דין לאור הסכמת הצדדים, המוצאת את ביטויה בסעיף 3 לתגובת המשיבה, ניתנת בזאת רשות ערעור, והערעור מתקבל במובן זה שפסקי הדין נשוא הבקשה שניתנו בעניינו של המבקש מבוטלים בזאת, והתיק מוחזר לבית משפט השלום לתעבורה בירושלים לדיון מחודש בעניינו. ניתן היום, א\\' בחשון התשס\"ט (30.10.2008). ש ו פ ט ת ש ו פ ט ש ו פ ט _________________________</td>\n",
              "      <td>ניתנת בזאת רשות ערעור, והערעור מתקבל במובן זה שפסקי הדין נשוא הבקשה שניתנו בעניינו של המבקש מבוטלים בזאת, והתיק מוחזר לבית משפט השלום לתעבורה</td>\n",
              "    </tr>\n",
              "    <tr>\n",
              "      <th>1922</th>\n",
              "      <td>['החלטה בתיק רע\"פ 1682/11 בבית המשפט העליון רע\"פ 1682/11 בפני: כבוד השופט ס\\' ג\\'ובראן המבקש: ואיל מזערה נגד המשיבה: מדינת ישראל בקשה לדחיית מועד תחילת ריצוי עונש המאסר בשם המבקש: עו\"ד מאליק מנצור החלטה הבקשה נדחית. ניתנה היום, כ\"ה באדר ב התשע\"א (31.3.2011). ש ו פ ט _________________________</td>\n",
              "      <td>בקשה אחרת\\nבקשה לדחיית מועד תחילת ריצוי עונש המאסר</td>\n",
              "    </tr>\n",
              "    <tr>\n",
              "      <th>3096</th>\n",
              "      <td>['החלטה בתיק בש\"פ 1092/17 בבית המשפט העליון רע\"פ 1092/17 לפני: כבוד השופטת ד\\' ברק-ארז המערערים: 1. כפיר דהן 2. שירה דהן נגד המשיבה: הוועדה המקומית לתכנון ובניה מטה יהודה בקשת רשות ערעור על פסק דינו של בית המשפט המחוזי בירושלים מיום 30.1.2017 בע\"פ 23940-12-16 שניתן על-ידי כבוד השופט ח\\' מ\\' לומפ בשם המערערים: בעצמם בשם המשיבה: עו\"ד רעות אהרון, עו\"ד מאיר בן דוד פסק דין 1. הבקשה שבפני נקלטה במזכירות בית המשפט, בטעות, תחת הסיווג בש\"פ. הלכה למעשה, מדובר בבקשת רשות לערער על פסק דינו של בית המשפט המחוזי בירושלים מיום 30.1.2017 (ע\"פ 23940-12-16, השופטת ח\\' מ\\' לומפ). סיווגה הראוי אפוא הוא רע\"פ, וכך אני מורה. 2. מקורו של ההליך דנן הוא בבקשה למתן אורכה לביצועו של צו ההריסה שהוצא ביחס למבנה היביל שבו מתגוררים המבקשים במסגרת הליך פלילי לפי חוק התכנון והבניה, התשכ\"ה-1965. הבקשה נדחתה על ידי בית המשפט לעניינים מקומיים בבית שמש ועל כן הגישו המבקשים ערעור לבית המשפט המחוזי, אשר קבע כי תינתן למבקשים אורכה לפנות את המבנה עד ליום 1.4.2017 ולהרסו עד ליום 2.5.2017. לאחר מכן המבקשים הגישו בקשת אורכה נוספת לבית המשפט המחוזי, וזו נדחתה. על כך נסבה הבקשה שבפני. 3. בתשובה שהוגשה מטעם המשיבה צוין כי המקרה העומד ביסוד ההליך כרוך בנסיבות אישיות ומשפחתיות חריגות וקשות ועל כן היא מבקשת להותיר את ההכרעה בו לשיקול דעתו של בית המשפט. בהתחשב בכך ולאחר שבחנתי את מכלול הנסיבות העניין, אני מורה על מתן אורכה נוספת למבקשים לפנות את המבנה עד ליום 1.7.2017 ולהרסו עד ליום 2.8.2017 (בתנאים שנקבעו בפסק דינו של בית המשפט המחוזי). 4. הבקשה מתקבלת אפוא כמפורט בפסקה 3. על המבקשים להבין כי ההיענות לבקשתם התאפשרה לנוכח העמדה שגילתה המשיבה, וכי אל להם לצפות לכל הקלות נוספות, אלא להיערך לביצוע הצו השיפוטי, משתמו ההליכים כולם. ניתן היום, \\u200fי\"ט בשבט התשע\"ז (\\u200f15.2.2017). ש ו פ ט ת _________________________</td>\n",
              "      <td>ביהמ׳׳ש נתן אורכה אך לא ביטל את צו ההריסה\\nהבקשה מתקבלת אפוא כמפורט בפסקה 3</td>\n",
              "    </tr>\n",
              "    <tr>\n",
              "      <th>3022</th>\n",
              "      <td>['פסק דין בתיק רע\"פ 1793/09 בבית המשפט העליון רע\"פ 1793/09 בפני: כבוד השופט א\\' א\\' לוי כבוד השופטת ע\\' ארבל כבוד השופט י\\' דנציגר המבקשים: 1. פאבל מינסטר 2. זאב שוורץ נגד המשיבה: מדינת ישראל בקשת רשות ערעור על פסק-דינו של ביתה משפט המחוזי בתל-אביב, בע\"פ 70149/08, מיום 28.1.09, שניתן על ידי כבוד ס\\' הנשיא השופטת ד\\' ברלינר, ס. הנשיא השופט ז\\' המר, ס. הנשיא השופטת ב\\' אופיר-תום בשם המבקש 1: עו\"ד אמיר ציון בשם המבקש 2: עו\"ד רובינשטיין מנחם פסק דין נוכח האמור בתגובת המשיבה, ניתנת בזאת רשות ערעור והבקשה תידון כבערעור גופו. עניינם של המבקשים יובא בשנית בפני בית המשפט המחוזי, המתבקש להבהיר אם תוצאת פסק-דינו היא זיכוי מוחלט של המבקשים או זיכוי מחמת הספק. ניתן היום, ט\"ו באדר התשס\"ט (11.03.09). ש ו פ ט ש ו פ ט ת ש ו פ ט _________________________</td>\n",
              "      <td>ביהמש לא הכריע בערעור והחזיר לדיון נוסף במחוזי</td>\n",
              "    </tr>\n",
              "    <tr>\n",
              "      <th>2649</th>\n",
              "      <td>['בבית המשפט העליון בירושלים רע\"פ 9608/01 בפני: כבוד השופט א\\' ריבלין המבקשים: 1. גשמי ברכה ה.ש.י.ג.(1995) 2. גשמי ברכה בע\"מ 3. ה.ש.י.ג.(1995)יזום פרוייקטים 4. שנהב זאב נגד המשיבה: מדינת ישראל בקשת רשות ערעור על פסק-דינו של בית המשפט המחוזי בתל-אביב-יפו מיום 23.10.2001 בתיק עפ\"א 80190/01 שניתן על ידי כבוד השופטים: ד\\' ברלינר, ז\\' המר, י\\' שטופמן בשם המבקשים: עו\"ד שרית שלמון בשם המשיבה: עו\"ד ענבר פלש החלטה בית המשפט לעניינים מקומיים בפתח תקוה (כבוד השופט ג\\' שטרסמן) ביטל את כתב האישום שהוגש כנגד המבקשים, והמייחס להם ביצוע עבירות טעונות היתר בסטיה מהיתר או מתכנית. ערעורה של המדינה על החלטה זו, לבית המשפט המחוזי בתל-אביב (כבוד השופטים ד\\' ברלינר, ז\\' המר וי\\' שטופמן) - התקבל. ההחלטה בדבר ביטול כתב האישום בוטלה, והדיון הוחזר לבית המשפט לעניינים מקומיים, להמשך בירורו למן השלב אליו הגיע. כנגד פסק-דינו של בית המשפט המחוזי מופנית הבקשה שלפנינו. דא עקא, משטרם נתברר, וממילא טרם הוכרע, עניינם של המבקשים - לגופו - בערכאה הראשונה, אין מקום לדון בטענותיהם בפני בית משפט זה. לאחר שימוצו ההליכים בבית משפט השלום, ואם יהיה צורך גם בבית המשפט המחוזי - יהיו רשאים המבקשים - שוב, אם יהיה צורך - לפנות לבית משפט זה בבקשת רשות ערעור (ראו רע\"פ 4632/97 אקסלרוד נ\\' מדינת ישראל (תק-על 97(3) 118)). ניתנה היום, ה\\' באדר תשס\"ב (17.2.2002). ש ו פ ט _________________ העתק מתאים למקור 01096080.P02 /אמ נוסח זה כפוף לשינויי עריכה וניסוח. שמריהו כהן - מזכיר ראשי בבית המשפט העליון פועל מרכז מידע, טל\\' 02-6750444 בית המשפט פתוח להערות והצעות: pniot@supreme.court.gov.il לבתי המשפט אתר באינטרנט: www.court.gov.il']</td>\n",
              "      <td>דא עקא, משטרם נתברר, וממילא טרם הוכרע, עניינם של המבקשים - לגופו - בערכאה הראשונה, אין מקום לדון בטענותיהם בפני בית משפט זה. לאחר שימוצו ההליכים בבית משפט השלום, ואם יהיה צורך גם בבית המשפט המחוזי - יהיו רשאים המבקשים - שוב, אם יהיה צורך - לפנות לבית משפט זה בבקשת רשות ערעו</td>\n",
              "    </tr>\n",
              "  </tbody>\n",
              "</table>\n",
              "</div>\n",
              "    <div class=\"colab-df-buttons\">\n",
              "\n",
              "  <div class=\"colab-df-container\">\n",
              "    <button class=\"colab-df-convert\" onclick=\"convertToInteractive('df-bfcaf89c-2d8d-4bdc-8cd3-5e6af765f144')\"\n",
              "            title=\"Convert this dataframe to an interactive table.\"\n",
              "            style=\"display:none;\">\n",
              "\n",
              "  <svg xmlns=\"http://www.w3.org/2000/svg\" height=\"24px\" viewBox=\"0 -960 960 960\">\n",
              "    <path d=\"M120-120v-720h720v720H120Zm60-500h600v-160H180v160Zm220 220h160v-160H400v160Zm0 220h160v-160H400v160ZM180-400h160v-160H180v160Zm440 0h160v-160H620v160ZM180-180h160v-160H180v160Zm440 0h160v-160H620v160Z\"/>\n",
              "  </svg>\n",
              "    </button>\n",
              "\n",
              "  <style>\n",
              "    .colab-df-container {\n",
              "      display:flex;\n",
              "      gap: 12px;\n",
              "    }\n",
              "\n",
              "    .colab-df-convert {\n",
              "      background-color: #E8F0FE;\n",
              "      border: none;\n",
              "      border-radius: 50%;\n",
              "      cursor: pointer;\n",
              "      display: none;\n",
              "      fill: #1967D2;\n",
              "      height: 32px;\n",
              "      padding: 0 0 0 0;\n",
              "      width: 32px;\n",
              "    }\n",
              "\n",
              "    .colab-df-convert:hover {\n",
              "      background-color: #E2EBFA;\n",
              "      box-shadow: 0px 1px 2px rgba(60, 64, 67, 0.3), 0px 1px 3px 1px rgba(60, 64, 67, 0.15);\n",
              "      fill: #174EA6;\n",
              "    }\n",
              "\n",
              "    .colab-df-buttons div {\n",
              "      margin-bottom: 4px;\n",
              "    }\n",
              "\n",
              "    [theme=dark] .colab-df-convert {\n",
              "      background-color: #3B4455;\n",
              "      fill: #D2E3FC;\n",
              "    }\n",
              "\n",
              "    [theme=dark] .colab-df-convert:hover {\n",
              "      background-color: #434B5C;\n",
              "      box-shadow: 0px 1px 3px 1px rgba(0, 0, 0, 0.15);\n",
              "      filter: drop-shadow(0px 1px 2px rgba(0, 0, 0, 0.3));\n",
              "      fill: #FFFFFF;\n",
              "    }\n",
              "  </style>\n",
              "\n",
              "    <script>\n",
              "      const buttonEl =\n",
              "        document.querySelector('#df-bfcaf89c-2d8d-4bdc-8cd3-5e6af765f144 button.colab-df-convert');\n",
              "      buttonEl.style.display =\n",
              "        google.colab.kernel.accessAllowed ? 'block' : 'none';\n",
              "\n",
              "      async function convertToInteractive(key) {\n",
              "        const element = document.querySelector('#df-bfcaf89c-2d8d-4bdc-8cd3-5e6af765f144');\n",
              "        const dataTable =\n",
              "          await google.colab.kernel.invokeFunction('convertToInteractive',\n",
              "                                                    [key], {});\n",
              "        if (!dataTable) return;\n",
              "\n",
              "        const docLinkHtml = 'Like what you see? Visit the ' +\n",
              "          '<a target=\"_blank\" href=https://colab.research.google.com/notebooks/data_table.ipynb>data table notebook</a>'\n",
              "          + ' to learn more about interactive tables.';\n",
              "        element.innerHTML = '';\n",
              "        dataTable['output_type'] = 'display_data';\n",
              "        await google.colab.output.renderOutput(dataTable, element);\n",
              "        const docLink = document.createElement('div');\n",
              "        docLink.innerHTML = docLinkHtml;\n",
              "        element.appendChild(docLink);\n",
              "      }\n",
              "    </script>\n",
              "  </div>\n",
              "\n",
              "\n",
              "<div id=\"df-7d3e6a3a-f8e7-463c-9c33-b9d20a049583\">\n",
              "  <button class=\"colab-df-quickchart\" onclick=\"quickchart('df-7d3e6a3a-f8e7-463c-9c33-b9d20a049583')\"\n",
              "            title=\"Suggest charts\"\n",
              "            style=\"display:none;\">\n",
              "\n",
              "<svg xmlns=\"http://www.w3.org/2000/svg\" height=\"24px\"viewBox=\"0 0 24 24\"\n",
              "     width=\"24px\">\n",
              "    <g>\n",
              "        <path d=\"M19 3H5c-1.1 0-2 .9-2 2v14c0 1.1.9 2 2 2h14c1.1 0 2-.9 2-2V5c0-1.1-.9-2-2-2zM9 17H7v-7h2v7zm4 0h-2V7h2v10zm4 0h-2v-4h2v4z\"/>\n",
              "    </g>\n",
              "</svg>\n",
              "  </button>\n",
              "\n",
              "<style>\n",
              "  .colab-df-quickchart {\n",
              "      --bg-color: #E8F0FE;\n",
              "      --fill-color: #1967D2;\n",
              "      --hover-bg-color: #E2EBFA;\n",
              "      --hover-fill-color: #174EA6;\n",
              "      --disabled-fill-color: #AAA;\n",
              "      --disabled-bg-color: #DDD;\n",
              "  }\n",
              "\n",
              "  [theme=dark] .colab-df-quickchart {\n",
              "      --bg-color: #3B4455;\n",
              "      --fill-color: #D2E3FC;\n",
              "      --hover-bg-color: #434B5C;\n",
              "      --hover-fill-color: #FFFFFF;\n",
              "      --disabled-bg-color: #3B4455;\n",
              "      --disabled-fill-color: #666;\n",
              "  }\n",
              "\n",
              "  .colab-df-quickchart {\n",
              "    background-color: var(--bg-color);\n",
              "    border: none;\n",
              "    border-radius: 50%;\n",
              "    cursor: pointer;\n",
              "    display: none;\n",
              "    fill: var(--fill-color);\n",
              "    height: 32px;\n",
              "    padding: 0;\n",
              "    width: 32px;\n",
              "  }\n",
              "\n",
              "  .colab-df-quickchart:hover {\n",
              "    background-color: var(--hover-bg-color);\n",
              "    box-shadow: 0 1px 2px rgba(60, 64, 67, 0.3), 0 1px 3px 1px rgba(60, 64, 67, 0.15);\n",
              "    fill: var(--button-hover-fill-color);\n",
              "  }\n",
              "\n",
              "  .colab-df-quickchart-complete:disabled,\n",
              "  .colab-df-quickchart-complete:disabled:hover {\n",
              "    background-color: var(--disabled-bg-color);\n",
              "    fill: var(--disabled-fill-color);\n",
              "    box-shadow: none;\n",
              "  }\n",
              "\n",
              "  .colab-df-spinner {\n",
              "    border: 2px solid var(--fill-color);\n",
              "    border-color: transparent;\n",
              "    border-bottom-color: var(--fill-color);\n",
              "    animation:\n",
              "      spin 1s steps(1) infinite;\n",
              "  }\n",
              "\n",
              "  @keyframes spin {\n",
              "    0% {\n",
              "      border-color: transparent;\n",
              "      border-bottom-color: var(--fill-color);\n",
              "      border-left-color: var(--fill-color);\n",
              "    }\n",
              "    20% {\n",
              "      border-color: transparent;\n",
              "      border-left-color: var(--fill-color);\n",
              "      border-top-color: var(--fill-color);\n",
              "    }\n",
              "    30% {\n",
              "      border-color: transparent;\n",
              "      border-left-color: var(--fill-color);\n",
              "      border-top-color: var(--fill-color);\n",
              "      border-right-color: var(--fill-color);\n",
              "    }\n",
              "    40% {\n",
              "      border-color: transparent;\n",
              "      border-right-color: var(--fill-color);\n",
              "      border-top-color: var(--fill-color);\n",
              "    }\n",
              "    60% {\n",
              "      border-color: transparent;\n",
              "      border-right-color: var(--fill-color);\n",
              "    }\n",
              "    80% {\n",
              "      border-color: transparent;\n",
              "      border-right-color: var(--fill-color);\n",
              "      border-bottom-color: var(--fill-color);\n",
              "    }\n",
              "    90% {\n",
              "      border-color: transparent;\n",
              "      border-bottom-color: var(--fill-color);\n",
              "    }\n",
              "  }\n",
              "</style>\n",
              "\n",
              "  <script>\n",
              "    async function quickchart(key) {\n",
              "      const quickchartButtonEl =\n",
              "        document.querySelector('#' + key + ' button');\n",
              "      quickchartButtonEl.disabled = true;  // To prevent multiple clicks.\n",
              "      quickchartButtonEl.classList.add('colab-df-spinner');\n",
              "      try {\n",
              "        const charts = await google.colab.kernel.invokeFunction(\n",
              "            'suggestCharts', [key], {});\n",
              "      } catch (error) {\n",
              "        console.error('Error during call to suggestCharts:', error);\n",
              "      }\n",
              "      quickchartButtonEl.classList.remove('colab-df-spinner');\n",
              "      quickchartButtonEl.classList.add('colab-df-quickchart-complete');\n",
              "    }\n",
              "    (() => {\n",
              "      let quickchartButtonEl =\n",
              "        document.querySelector('#df-7d3e6a3a-f8e7-463c-9c33-b9d20a049583 button');\n",
              "      quickchartButtonEl.style.display =\n",
              "        google.colab.kernel.accessAllowed ? 'block' : 'none';\n",
              "    })();\n",
              "  </script>\n",
              "</div>\n",
              "\n",
              "    </div>\n",
              "  </div>\n"
            ],
            "application/vnd.google.colaboratory.intrinsic+json": {
              "type": "dataframe",
              "summary": "{\n  \"name\": \"df[[\\\"\\u05d2\\u05d5\\u05e3 \\u05d4\\u05de\\u05e1\\u05de\\u05da \\u05d7\\u05ea\\u05d5\\u05da\\\", \\\"\\u05ea\\u05d5\\u05e6\\u05d0\\u05d4 \\u05de\\u05e1\\u05db\\u05de\\u05ea\\\"]]\",\n  \"rows\": 5,\n  \"fields\": [\n    {\n      \"column\": \"\\u05d2\\u05d5\\u05e3 \\u05d4\\u05de\\u05e1\\u05de\\u05da \\u05d7\\u05ea\\u05d5\\u05da\",\n      \"properties\": {\n        \"dtype\": \"string\",\n        \"num_unique_values\": 5,\n        \"samples\": [\n          \"['\\u05d4\\u05d7\\u05dc\\u05d8\\u05d4 \\u05d1\\u05ea\\u05d9\\u05e7 \\u05e8\\u05e2\\\"\\u05e4 1682/11 \\u05d1\\u05d1\\u05d9\\u05ea \\u05d4\\u05de\\u05e9\\u05e4\\u05d8 \\u05d4\\u05e2\\u05dc\\u05d9\\u05d5\\u05df \\u05e8\\u05e2\\\"\\u05e4 1682/11 \\u05d1\\u05e4\\u05e0\\u05d9: \\u05db\\u05d1\\u05d5\\u05d3 \\u05d4\\u05e9\\u05d5\\u05e4\\u05d8 \\u05e1\\\\' \\u05d2\\\\'\\u05d5\\u05d1\\u05e8\\u05d0\\u05df \\u05d4\\u05de\\u05d1\\u05e7\\u05e9: \\u05d5\\u05d0\\u05d9\\u05dc \\u05de\\u05d6\\u05e2\\u05e8\\u05d4 \\u05e0\\u05d2\\u05d3 \\u05d4\\u05de\\u05e9\\u05d9\\u05d1\\u05d4: \\u05de\\u05d3\\u05d9\\u05e0\\u05ea \\u05d9\\u05e9\\u05e8\\u05d0\\u05dc \\u05d1\\u05e7\\u05e9\\u05d4 \\u05dc\\u05d3\\u05d7\\u05d9\\u05d9\\u05ea \\u05de\\u05d5\\u05e2\\u05d3 \\u05ea\\u05d7\\u05d9\\u05dc\\u05ea \\u05e8\\u05d9\\u05e6\\u05d5\\u05d9 \\u05e2\\u05d5\\u05e0\\u05e9 \\u05d4\\u05de\\u05d0\\u05e1\\u05e8 \\u05d1\\u05e9\\u05dd \\u05d4\\u05de\\u05d1\\u05e7\\u05e9: \\u05e2\\u05d5\\\"\\u05d3 \\u05de\\u05d0\\u05dc\\u05d9\\u05e7 \\u05de\\u05e0\\u05e6\\u05d5\\u05e8 \\u05d4\\u05d7\\u05dc\\u05d8\\u05d4 \\u05d4\\u05d1\\u05e7\\u05e9\\u05d4 \\u05e0\\u05d3\\u05d7\\u05d9\\u05ea. \\u05e0\\u05d9\\u05ea\\u05e0\\u05d4 \\u05d4\\u05d9\\u05d5\\u05dd, \\u05db\\\"\\u05d4 \\u05d1\\u05d0\\u05d3\\u05e8 \\u05d1 \\u05d4\\u05ea\\u05e9\\u05e2\\\"\\u05d0 (31.3.2011). \\u05e9 \\u05d5 \\u05e4 \\u05d8 _________________________ \",\n          \"['\\u05d1\\u05d1\\u05d9\\u05ea \\u05d4\\u05de\\u05e9\\u05e4\\u05d8 \\u05d4\\u05e2\\u05dc\\u05d9\\u05d5\\u05df \\u05d1\\u05d9\\u05e8\\u05d5\\u05e9\\u05dc\\u05d9\\u05dd \\u05e8\\u05e2\\\"\\u05e4 9608/01 \\u05d1\\u05e4\\u05e0\\u05d9: \\u05db\\u05d1\\u05d5\\u05d3 \\u05d4\\u05e9\\u05d5\\u05e4\\u05d8 \\u05d0\\\\' \\u05e8\\u05d9\\u05d1\\u05dc\\u05d9\\u05df \\u05d4\\u05de\\u05d1\\u05e7\\u05e9\\u05d9\\u05dd: 1. \\u05d2\\u05e9\\u05de\\u05d9 \\u05d1\\u05e8\\u05db\\u05d4 \\u05d4.\\u05e9.\\u05d9.\\u05d2.(1995) 2. \\u05d2\\u05e9\\u05de\\u05d9 \\u05d1\\u05e8\\u05db\\u05d4 \\u05d1\\u05e2\\\"\\u05de 3. \\u05d4.\\u05e9.\\u05d9.\\u05d2.(1995)\\u05d9\\u05d6\\u05d5\\u05dd \\u05e4\\u05e8\\u05d5\\u05d9\\u05d9\\u05e7\\u05d8\\u05d9\\u05dd 4. \\u05e9\\u05e0\\u05d4\\u05d1 \\u05d6\\u05d0\\u05d1 \\u05e0\\u05d2\\u05d3 \\u05d4\\u05de\\u05e9\\u05d9\\u05d1\\u05d4: \\u05de\\u05d3\\u05d9\\u05e0\\u05ea \\u05d9\\u05e9\\u05e8\\u05d0\\u05dc \\u05d1\\u05e7\\u05e9\\u05ea \\u05e8\\u05e9\\u05d5\\u05ea \\u05e2\\u05e8\\u05e2\\u05d5\\u05e8 \\u05e2\\u05dc \\u05e4\\u05e1\\u05e7-\\u05d3\\u05d9\\u05e0\\u05d5 \\u05e9\\u05dc \\u05d1\\u05d9\\u05ea \\u05d4\\u05de\\u05e9\\u05e4\\u05d8 \\u05d4\\u05de\\u05d7\\u05d5\\u05d6\\u05d9 \\u05d1\\u05ea\\u05dc-\\u05d0\\u05d1\\u05d9\\u05d1-\\u05d9\\u05e4\\u05d5 \\u05de\\u05d9\\u05d5\\u05dd 23.10.2001 \\u05d1\\u05ea\\u05d9\\u05e7 \\u05e2\\u05e4\\\"\\u05d0 80190/01 \\u05e9\\u05e0\\u05d9\\u05ea\\u05df \\u05e2\\u05dc \\u05d9\\u05d3\\u05d9 \\u05db\\u05d1\\u05d5\\u05d3 \\u05d4\\u05e9\\u05d5\\u05e4\\u05d8\\u05d9\\u05dd: \\u05d3\\\\' \\u05d1\\u05e8\\u05dc\\u05d9\\u05e0\\u05e8, \\u05d6\\\\' \\u05d4\\u05de\\u05e8, \\u05d9\\\\' \\u05e9\\u05d8\\u05d5\\u05e4\\u05de\\u05df \\u05d1\\u05e9\\u05dd \\u05d4\\u05de\\u05d1\\u05e7\\u05e9\\u05d9\\u05dd: \\u05e2\\u05d5\\\"\\u05d3 \\u05e9\\u05e8\\u05d9\\u05ea \\u05e9\\u05dc\\u05de\\u05d5\\u05df \\u05d1\\u05e9\\u05dd \\u05d4\\u05de\\u05e9\\u05d9\\u05d1\\u05d4: \\u05e2\\u05d5\\\"\\u05d3 \\u05e2\\u05e0\\u05d1\\u05e8 \\u05e4\\u05dc\\u05e9 \\u05d4\\u05d7\\u05dc\\u05d8\\u05d4 \\u05d1\\u05d9\\u05ea \\u05d4\\u05de\\u05e9\\u05e4\\u05d8 \\u05dc\\u05e2\\u05e0\\u05d9\\u05d9\\u05e0\\u05d9\\u05dd \\u05de\\u05e7\\u05d5\\u05de\\u05d9\\u05d9\\u05dd \\u05d1\\u05e4\\u05ea\\u05d7 \\u05ea\\u05e7\\u05d5\\u05d4 (\\u05db\\u05d1\\u05d5\\u05d3 \\u05d4\\u05e9\\u05d5\\u05e4\\u05d8 \\u05d2\\\\' \\u05e9\\u05d8\\u05e8\\u05e1\\u05de\\u05df) \\u05d1\\u05d9\\u05d8\\u05dc \\u05d0\\u05ea \\u05db\\u05ea\\u05d1 \\u05d4\\u05d0\\u05d9\\u05e9\\u05d5\\u05dd \\u05e9\\u05d4\\u05d5\\u05d2\\u05e9 \\u05db\\u05e0\\u05d2\\u05d3 \\u05d4\\u05de\\u05d1\\u05e7\\u05e9\\u05d9\\u05dd, \\u05d5\\u05d4\\u05de\\u05d9\\u05d9\\u05d7\\u05e1 \\u05dc\\u05d4\\u05dd \\u05d1\\u05d9\\u05e6\\u05d5\\u05e2 \\u05e2\\u05d1\\u05d9\\u05e8\\u05d5\\u05ea \\u05d8\\u05e2\\u05d5\\u05e0\\u05d5\\u05ea \\u05d4\\u05d9\\u05ea\\u05e8 \\u05d1\\u05e1\\u05d8\\u05d9\\u05d4 \\u05de\\u05d4\\u05d9\\u05ea\\u05e8 \\u05d0\\u05d5 \\u05de\\u05ea\\u05db\\u05e0\\u05d9\\u05ea. \\u05e2\\u05e8\\u05e2\\u05d5\\u05e8\\u05d4 \\u05e9\\u05dc \\u05d4\\u05de\\u05d3\\u05d9\\u05e0\\u05d4 \\u05e2\\u05dc \\u05d4\\u05d7\\u05dc\\u05d8\\u05d4 \\u05d6\\u05d5, \\u05dc\\u05d1\\u05d9\\u05ea \\u05d4\\u05de\\u05e9\\u05e4\\u05d8 \\u05d4\\u05de\\u05d7\\u05d5\\u05d6\\u05d9 \\u05d1\\u05ea\\u05dc-\\u05d0\\u05d1\\u05d9\\u05d1 (\\u05db\\u05d1\\u05d5\\u05d3 \\u05d4\\u05e9\\u05d5\\u05e4\\u05d8\\u05d9\\u05dd \\u05d3\\\\' \\u05d1\\u05e8\\u05dc\\u05d9\\u05e0\\u05e8, \\u05d6\\\\' \\u05d4\\u05de\\u05e8 \\u05d5\\u05d9\\\\' \\u05e9\\u05d8\\u05d5\\u05e4\\u05de\\u05df) - \\u05d4\\u05ea\\u05e7\\u05d1\\u05dc. \\u05d4\\u05d4\\u05d7\\u05dc\\u05d8\\u05d4 \\u05d1\\u05d3\\u05d1\\u05e8 \\u05d1\\u05d9\\u05d8\\u05d5\\u05dc \\u05db\\u05ea\\u05d1 \\u05d4\\u05d0\\u05d9\\u05e9\\u05d5\\u05dd \\u05d1\\u05d5\\u05d8\\u05dc\\u05d4, \\u05d5\\u05d4\\u05d3\\u05d9\\u05d5\\u05df \\u05d4\\u05d5\\u05d7\\u05d6\\u05e8 \\u05dc\\u05d1\\u05d9\\u05ea \\u05d4\\u05de\\u05e9\\u05e4\\u05d8 \\u05dc\\u05e2\\u05e0\\u05d9\\u05d9\\u05e0\\u05d9\\u05dd \\u05de\\u05e7\\u05d5\\u05de\\u05d9\\u05d9\\u05dd, \\u05dc\\u05d4\\u05de\\u05e9\\u05da \\u05d1\\u05d9\\u05e8\\u05d5\\u05e8\\u05d5 \\u05dc\\u05de\\u05df \\u05d4\\u05e9\\u05dc\\u05d1 \\u05d0\\u05dc\\u05d9\\u05d5 \\u05d4\\u05d2\\u05d9\\u05e2. \\u05db\\u05e0\\u05d2\\u05d3 \\u05e4\\u05e1\\u05e7-\\u05d3\\u05d9\\u05e0\\u05d5 \\u05e9\\u05dc \\u05d1\\u05d9\\u05ea \\u05d4\\u05de\\u05e9\\u05e4\\u05d8 \\u05d4\\u05de\\u05d7\\u05d5\\u05d6\\u05d9 \\u05de\\u05d5\\u05e4\\u05e0\\u05d9\\u05ea \\u05d4\\u05d1\\u05e7\\u05e9\\u05d4 \\u05e9\\u05dc\\u05e4\\u05e0\\u05d9\\u05e0\\u05d5. \\u05d3\\u05d0 \\u05e2\\u05e7\\u05d0, \\u05de\\u05e9\\u05d8\\u05e8\\u05dd \\u05e0\\u05ea\\u05d1\\u05e8\\u05e8, \\u05d5\\u05de\\u05de\\u05d9\\u05dc\\u05d0 \\u05d8\\u05e8\\u05dd \\u05d4\\u05d5\\u05db\\u05e8\\u05e2, \\u05e2\\u05e0\\u05d9\\u05d9\\u05e0\\u05dd \\u05e9\\u05dc \\u05d4\\u05de\\u05d1\\u05e7\\u05e9\\u05d9\\u05dd - \\u05dc\\u05d2\\u05d5\\u05e4\\u05d5 - \\u05d1\\u05e2\\u05e8\\u05db\\u05d0\\u05d4 \\u05d4\\u05e8\\u05d0\\u05e9\\u05d5\\u05e0\\u05d4, \\u05d0\\u05d9\\u05df \\u05de\\u05e7\\u05d5\\u05dd \\u05dc\\u05d3\\u05d5\\u05df \\u05d1\\u05d8\\u05e2\\u05e0\\u05d5\\u05ea\\u05d9\\u05d4\\u05dd \\u05d1\\u05e4\\u05e0\\u05d9 \\u05d1\\u05d9\\u05ea \\u05de\\u05e9\\u05e4\\u05d8 \\u05d6\\u05d4. \\u05dc\\u05d0\\u05d7\\u05e8 \\u05e9\\u05d9\\u05de\\u05d5\\u05e6\\u05d5 \\u05d4\\u05d4\\u05dc\\u05d9\\u05db\\u05d9\\u05dd \\u05d1\\u05d1\\u05d9\\u05ea \\u05de\\u05e9\\u05e4\\u05d8 \\u05d4\\u05e9\\u05dc\\u05d5\\u05dd, \\u05d5\\u05d0\\u05dd \\u05d9\\u05d4\\u05d9\\u05d4 \\u05e6\\u05d5\\u05e8\\u05da \\u05d2\\u05dd \\u05d1\\u05d1\\u05d9\\u05ea \\u05d4\\u05de\\u05e9\\u05e4\\u05d8 \\u05d4\\u05de\\u05d7\\u05d5\\u05d6\\u05d9 - \\u05d9\\u05d4\\u05d9\\u05d5 \\u05e8\\u05e9\\u05d0\\u05d9\\u05dd \\u05d4\\u05de\\u05d1\\u05e7\\u05e9\\u05d9\\u05dd - \\u05e9\\u05d5\\u05d1, \\u05d0\\u05dd \\u05d9\\u05d4\\u05d9\\u05d4 \\u05e6\\u05d5\\u05e8\\u05da - \\u05dc\\u05e4\\u05e0\\u05d5\\u05ea \\u05dc\\u05d1\\u05d9\\u05ea \\u05de\\u05e9\\u05e4\\u05d8 \\u05d6\\u05d4 \\u05d1\\u05d1\\u05e7\\u05e9\\u05ea \\u05e8\\u05e9\\u05d5\\u05ea \\u05e2\\u05e8\\u05e2\\u05d5\\u05e8 (\\u05e8\\u05d0\\u05d5 \\u05e8\\u05e2\\\"\\u05e4 4632/97 \\u05d0\\u05e7\\u05e1\\u05dc\\u05e8\\u05d5\\u05d3 \\u05e0\\\\' \\u05de\\u05d3\\u05d9\\u05e0\\u05ea \\u05d9\\u05e9\\u05e8\\u05d0\\u05dc (\\u05ea\\u05e7-\\u05e2\\u05dc 97(3) 118)). \\u05e0\\u05d9\\u05ea\\u05e0\\u05d4 \\u05d4\\u05d9\\u05d5\\u05dd, \\u05d4\\\\' \\u05d1\\u05d0\\u05d3\\u05e8 \\u05ea\\u05e9\\u05e1\\\"\\u05d1 (17.2.2002). \\u05e9 \\u05d5 \\u05e4 \\u05d8 _________________ \\u05d4\\u05e2\\u05ea\\u05e7 \\u05de\\u05ea\\u05d0\\u05d9\\u05dd \\u05dc\\u05de\\u05e7\\u05d5\\u05e8 01096080.P02 /\\u05d0\\u05de \\u05e0\\u05d5\\u05e1\\u05d7 \\u05d6\\u05d4 \\u05db\\u05e4\\u05d5\\u05e3 \\u05dc\\u05e9\\u05d9\\u05e0\\u05d5\\u05d9\\u05d9 \\u05e2\\u05e8\\u05d9\\u05db\\u05d4 \\u05d5\\u05e0\\u05d9\\u05e1\\u05d5\\u05d7. \\u05e9\\u05de\\u05e8\\u05d9\\u05d4\\u05d5 \\u05db\\u05d4\\u05df - \\u05de\\u05d6\\u05db\\u05d9\\u05e8 \\u05e8\\u05d0\\u05e9\\u05d9 \\u05d1\\u05d1\\u05d9\\u05ea \\u05d4\\u05de\\u05e9\\u05e4\\u05d8 \\u05d4\\u05e2\\u05dc\\u05d9\\u05d5\\u05df \\u05e4\\u05d5\\u05e2\\u05dc \\u05de\\u05e8\\u05db\\u05d6 \\u05de\\u05d9\\u05d3\\u05e2, \\u05d8\\u05dc\\\\' 02-6750444 \\u05d1\\u05d9\\u05ea \\u05d4\\u05de\\u05e9\\u05e4\\u05d8 \\u05e4\\u05ea\\u05d5\\u05d7 \\u05dc\\u05d4\\u05e2\\u05e8\\u05d5\\u05ea \\u05d5\\u05d4\\u05e6\\u05e2\\u05d5\\u05ea: pniot@supreme.court.gov.il \\u05dc\\u05d1\\u05ea\\u05d9 \\u05d4\\u05de\\u05e9\\u05e4\\u05d8 \\u05d0\\u05ea\\u05e8 \\u05d1\\u05d0\\u05d9\\u05e0\\u05d8\\u05e8\\u05e0\\u05d8: www.court.gov.il']\",\n          \"['\\u05d4\\u05d7\\u05dc\\u05d8\\u05d4 \\u05d1\\u05ea\\u05d9\\u05e7 \\u05d1\\u05e9\\\"\\u05e4 1092/17 \\u05d1\\u05d1\\u05d9\\u05ea \\u05d4\\u05de\\u05e9\\u05e4\\u05d8 \\u05d4\\u05e2\\u05dc\\u05d9\\u05d5\\u05df \\u05e8\\u05e2\\\"\\u05e4 1092/17 \\u05dc\\u05e4\\u05e0\\u05d9: \\u05db\\u05d1\\u05d5\\u05d3 \\u05d4\\u05e9\\u05d5\\u05e4\\u05d8\\u05ea \\u05d3\\\\' \\u05d1\\u05e8\\u05e7-\\u05d0\\u05e8\\u05d6 \\u05d4\\u05de\\u05e2\\u05e8\\u05e2\\u05e8\\u05d9\\u05dd: 1. \\u05db\\u05e4\\u05d9\\u05e8 \\u05d3\\u05d4\\u05df 2. \\u05e9\\u05d9\\u05e8\\u05d4 \\u05d3\\u05d4\\u05df \\u05e0\\u05d2\\u05d3 \\u05d4\\u05de\\u05e9\\u05d9\\u05d1\\u05d4: \\u05d4\\u05d5\\u05d5\\u05e2\\u05d3\\u05d4 \\u05d4\\u05de\\u05e7\\u05d5\\u05de\\u05d9\\u05ea \\u05dc\\u05ea\\u05db\\u05e0\\u05d5\\u05df \\u05d5\\u05d1\\u05e0\\u05d9\\u05d4 \\u05de\\u05d8\\u05d4 \\u05d9\\u05d4\\u05d5\\u05d3\\u05d4 \\u05d1\\u05e7\\u05e9\\u05ea \\u05e8\\u05e9\\u05d5\\u05ea \\u05e2\\u05e8\\u05e2\\u05d5\\u05e8 \\u05e2\\u05dc \\u05e4\\u05e1\\u05e7 \\u05d3\\u05d9\\u05e0\\u05d5 \\u05e9\\u05dc \\u05d1\\u05d9\\u05ea \\u05d4\\u05de\\u05e9\\u05e4\\u05d8 \\u05d4\\u05de\\u05d7\\u05d5\\u05d6\\u05d9 \\u05d1\\u05d9\\u05e8\\u05d5\\u05e9\\u05dc\\u05d9\\u05dd \\u05de\\u05d9\\u05d5\\u05dd 30.1.2017 \\u05d1\\u05e2\\\"\\u05e4 23940-12-16 \\u05e9\\u05e0\\u05d9\\u05ea\\u05df \\u05e2\\u05dc-\\u05d9\\u05d3\\u05d9 \\u05db\\u05d1\\u05d5\\u05d3 \\u05d4\\u05e9\\u05d5\\u05e4\\u05d8 \\u05d7\\\\' \\u05de\\\\' \\u05dc\\u05d5\\u05de\\u05e4 \\u05d1\\u05e9\\u05dd \\u05d4\\u05de\\u05e2\\u05e8\\u05e2\\u05e8\\u05d9\\u05dd: \\u05d1\\u05e2\\u05e6\\u05de\\u05dd \\u05d1\\u05e9\\u05dd \\u05d4\\u05de\\u05e9\\u05d9\\u05d1\\u05d4: \\u05e2\\u05d5\\\"\\u05d3 \\u05e8\\u05e2\\u05d5\\u05ea \\u05d0\\u05d4\\u05e8\\u05d5\\u05df, \\u05e2\\u05d5\\\"\\u05d3 \\u05de\\u05d0\\u05d9\\u05e8 \\u05d1\\u05df \\u05d3\\u05d5\\u05d3 \\u05e4\\u05e1\\u05e7 \\u05d3\\u05d9\\u05df 1. \\u05d4\\u05d1\\u05e7\\u05e9\\u05d4 \\u05e9\\u05d1\\u05e4\\u05e0\\u05d9 \\u05e0\\u05e7\\u05dc\\u05d8\\u05d4 \\u05d1\\u05de\\u05d6\\u05db\\u05d9\\u05e8\\u05d5\\u05ea \\u05d1\\u05d9\\u05ea \\u05d4\\u05de\\u05e9\\u05e4\\u05d8, \\u05d1\\u05d8\\u05e2\\u05d5\\u05ea, \\u05ea\\u05d7\\u05ea \\u05d4\\u05e1\\u05d9\\u05d5\\u05d5\\u05d2 \\u05d1\\u05e9\\\"\\u05e4. \\u05d4\\u05dc\\u05db\\u05d4 \\u05dc\\u05de\\u05e2\\u05e9\\u05d4, \\u05de\\u05d3\\u05d5\\u05d1\\u05e8 \\u05d1\\u05d1\\u05e7\\u05e9\\u05ea \\u05e8\\u05e9\\u05d5\\u05ea \\u05dc\\u05e2\\u05e8\\u05e2\\u05e8 \\u05e2\\u05dc \\u05e4\\u05e1\\u05e7 \\u05d3\\u05d9\\u05e0\\u05d5 \\u05e9\\u05dc \\u05d1\\u05d9\\u05ea \\u05d4\\u05de\\u05e9\\u05e4\\u05d8 \\u05d4\\u05de\\u05d7\\u05d5\\u05d6\\u05d9 \\u05d1\\u05d9\\u05e8\\u05d5\\u05e9\\u05dc\\u05d9\\u05dd \\u05de\\u05d9\\u05d5\\u05dd 30.1.2017 (\\u05e2\\\"\\u05e4 23940-12-16, \\u05d4\\u05e9\\u05d5\\u05e4\\u05d8\\u05ea \\u05d7\\\\' \\u05de\\\\' \\u05dc\\u05d5\\u05de\\u05e4). \\u05e1\\u05d9\\u05d5\\u05d5\\u05d2\\u05d4 \\u05d4\\u05e8\\u05d0\\u05d5\\u05d9 \\u05d0\\u05e4\\u05d5\\u05d0 \\u05d4\\u05d5\\u05d0 \\u05e8\\u05e2\\\"\\u05e4, \\u05d5\\u05db\\u05da \\u05d0\\u05e0\\u05d9 \\u05de\\u05d5\\u05e8\\u05d4. 2. \\u05de\\u05e7\\u05d5\\u05e8\\u05d5 \\u05e9\\u05dc \\u05d4\\u05d4\\u05dc\\u05d9\\u05da \\u05d3\\u05e0\\u05df \\u05d4\\u05d5\\u05d0 \\u05d1\\u05d1\\u05e7\\u05e9\\u05d4 \\u05dc\\u05de\\u05ea\\u05df \\u05d0\\u05d5\\u05e8\\u05db\\u05d4 \\u05dc\\u05d1\\u05d9\\u05e6\\u05d5\\u05e2\\u05d5 \\u05e9\\u05dc \\u05e6\\u05d5 \\u05d4\\u05d4\\u05e8\\u05d9\\u05e1\\u05d4 \\u05e9\\u05d4\\u05d5\\u05e6\\u05d0 \\u05d1\\u05d9\\u05d7\\u05e1 \\u05dc\\u05de\\u05d1\\u05e0\\u05d4 \\u05d4\\u05d9\\u05d1\\u05d9\\u05dc \\u05e9\\u05d1\\u05d5 \\u05de\\u05ea\\u05d2\\u05d5\\u05e8\\u05e8\\u05d9\\u05dd \\u05d4\\u05de\\u05d1\\u05e7\\u05e9\\u05d9\\u05dd \\u05d1\\u05de\\u05e1\\u05d2\\u05e8\\u05ea \\u05d4\\u05dc\\u05d9\\u05da \\u05e4\\u05dc\\u05d9\\u05dc\\u05d9 \\u05dc\\u05e4\\u05d9 \\u05d7\\u05d5\\u05e7 \\u05d4\\u05ea\\u05db\\u05e0\\u05d5\\u05df \\u05d5\\u05d4\\u05d1\\u05e0\\u05d9\\u05d4, \\u05d4\\u05ea\\u05e9\\u05db\\\"\\u05d4-1965. \\u05d4\\u05d1\\u05e7\\u05e9\\u05d4 \\u05e0\\u05d3\\u05d7\\u05ea\\u05d4 \\u05e2\\u05dc \\u05d9\\u05d3\\u05d9 \\u05d1\\u05d9\\u05ea \\u05d4\\u05de\\u05e9\\u05e4\\u05d8 \\u05dc\\u05e2\\u05e0\\u05d9\\u05d9\\u05e0\\u05d9\\u05dd \\u05de\\u05e7\\u05d5\\u05de\\u05d9\\u05d9\\u05dd \\u05d1\\u05d1\\u05d9\\u05ea \\u05e9\\u05de\\u05e9 \\u05d5\\u05e2\\u05dc \\u05db\\u05df \\u05d4\\u05d2\\u05d9\\u05e9\\u05d5 \\u05d4\\u05de\\u05d1\\u05e7\\u05e9\\u05d9\\u05dd \\u05e2\\u05e8\\u05e2\\u05d5\\u05e8 \\u05dc\\u05d1\\u05d9\\u05ea \\u05d4\\u05de\\u05e9\\u05e4\\u05d8 \\u05d4\\u05de\\u05d7\\u05d5\\u05d6\\u05d9, \\u05d0\\u05e9\\u05e8 \\u05e7\\u05d1\\u05e2 \\u05db\\u05d9 \\u05ea\\u05d9\\u05e0\\u05ea\\u05df \\u05dc\\u05de\\u05d1\\u05e7\\u05e9\\u05d9\\u05dd \\u05d0\\u05d5\\u05e8\\u05db\\u05d4 \\u05dc\\u05e4\\u05e0\\u05d5\\u05ea \\u05d0\\u05ea \\u05d4\\u05de\\u05d1\\u05e0\\u05d4 \\u05e2\\u05d3 \\u05dc\\u05d9\\u05d5\\u05dd 1.4.2017 \\u05d5\\u05dc\\u05d4\\u05e8\\u05e1\\u05d5 \\u05e2\\u05d3 \\u05dc\\u05d9\\u05d5\\u05dd 2.5.2017. \\u05dc\\u05d0\\u05d7\\u05e8 \\u05de\\u05db\\u05df \\u05d4\\u05de\\u05d1\\u05e7\\u05e9\\u05d9\\u05dd \\u05d4\\u05d2\\u05d9\\u05e9\\u05d5 \\u05d1\\u05e7\\u05e9\\u05ea \\u05d0\\u05d5\\u05e8\\u05db\\u05d4 \\u05e0\\u05d5\\u05e1\\u05e4\\u05ea \\u05dc\\u05d1\\u05d9\\u05ea \\u05d4\\u05de\\u05e9\\u05e4\\u05d8 \\u05d4\\u05de\\u05d7\\u05d5\\u05d6\\u05d9, \\u05d5\\u05d6\\u05d5 \\u05e0\\u05d3\\u05d7\\u05ea\\u05d4. \\u05e2\\u05dc \\u05db\\u05da \\u05e0\\u05e1\\u05d1\\u05d4 \\u05d4\\u05d1\\u05e7\\u05e9\\u05d4 \\u05e9\\u05d1\\u05e4\\u05e0\\u05d9. 3. \\u05d1\\u05ea\\u05e9\\u05d5\\u05d1\\u05d4 \\u05e9\\u05d4\\u05d5\\u05d2\\u05e9\\u05d4 \\u05de\\u05d8\\u05e2\\u05dd \\u05d4\\u05de\\u05e9\\u05d9\\u05d1\\u05d4 \\u05e6\\u05d5\\u05d9\\u05df \\u05db\\u05d9 \\u05d4\\u05de\\u05e7\\u05e8\\u05d4 \\u05d4\\u05e2\\u05d5\\u05de\\u05d3 \\u05d1\\u05d9\\u05e1\\u05d5\\u05d3 \\u05d4\\u05d4\\u05dc\\u05d9\\u05da \\u05db\\u05e8\\u05d5\\u05da \\u05d1\\u05e0\\u05e1\\u05d9\\u05d1\\u05d5\\u05ea \\u05d0\\u05d9\\u05e9\\u05d9\\u05d5\\u05ea \\u05d5\\u05de\\u05e9\\u05e4\\u05d7\\u05ea\\u05d9\\u05d5\\u05ea \\u05d7\\u05e8\\u05d9\\u05d2\\u05d5\\u05ea \\u05d5\\u05e7\\u05e9\\u05d5\\u05ea \\u05d5\\u05e2\\u05dc \\u05db\\u05df \\u05d4\\u05d9\\u05d0 \\u05de\\u05d1\\u05e7\\u05e9\\u05ea \\u05dc\\u05d4\\u05d5\\u05ea\\u05d9\\u05e8 \\u05d0\\u05ea \\u05d4\\u05d4\\u05db\\u05e8\\u05e2\\u05d4 \\u05d1\\u05d5 \\u05dc\\u05e9\\u05d9\\u05e7\\u05d5\\u05dc \\u05d3\\u05e2\\u05ea\\u05d5 \\u05e9\\u05dc \\u05d1\\u05d9\\u05ea \\u05d4\\u05de\\u05e9\\u05e4\\u05d8. \\u05d1\\u05d4\\u05ea\\u05d7\\u05e9\\u05d1 \\u05d1\\u05db\\u05da \\u05d5\\u05dc\\u05d0\\u05d7\\u05e8 \\u05e9\\u05d1\\u05d7\\u05e0\\u05ea\\u05d9 \\u05d0\\u05ea \\u05de\\u05db\\u05dc\\u05d5\\u05dc \\u05d4\\u05e0\\u05e1\\u05d9\\u05d1\\u05d5\\u05ea \\u05d4\\u05e2\\u05e0\\u05d9\\u05d9\\u05df, \\u05d0\\u05e0\\u05d9 \\u05de\\u05d5\\u05e8\\u05d4 \\u05e2\\u05dc \\u05de\\u05ea\\u05df \\u05d0\\u05d5\\u05e8\\u05db\\u05d4 \\u05e0\\u05d5\\u05e1\\u05e4\\u05ea \\u05dc\\u05de\\u05d1\\u05e7\\u05e9\\u05d9\\u05dd \\u05dc\\u05e4\\u05e0\\u05d5\\u05ea \\u05d0\\u05ea \\u05d4\\u05de\\u05d1\\u05e0\\u05d4 \\u05e2\\u05d3 \\u05dc\\u05d9\\u05d5\\u05dd 1.7.2017 \\u05d5\\u05dc\\u05d4\\u05e8\\u05e1\\u05d5 \\u05e2\\u05d3 \\u05dc\\u05d9\\u05d5\\u05dd 2.8.2017 (\\u05d1\\u05ea\\u05e0\\u05d0\\u05d9\\u05dd \\u05e9\\u05e0\\u05e7\\u05d1\\u05e2\\u05d5 \\u05d1\\u05e4\\u05e1\\u05e7 \\u05d3\\u05d9\\u05e0\\u05d5 \\u05e9\\u05dc \\u05d1\\u05d9\\u05ea \\u05d4\\u05de\\u05e9\\u05e4\\u05d8 \\u05d4\\u05de\\u05d7\\u05d5\\u05d6\\u05d9). 4. \\u05d4\\u05d1\\u05e7\\u05e9\\u05d4 \\u05de\\u05ea\\u05e7\\u05d1\\u05dc\\u05ea \\u05d0\\u05e4\\u05d5\\u05d0 \\u05db\\u05de\\u05e4\\u05d5\\u05e8\\u05d8 \\u05d1\\u05e4\\u05e1\\u05e7\\u05d4 3. \\u05e2\\u05dc \\u05d4\\u05de\\u05d1\\u05e7\\u05e9\\u05d9\\u05dd \\u05dc\\u05d4\\u05d1\\u05d9\\u05df \\u05db\\u05d9 \\u05d4\\u05d4\\u05d9\\u05e2\\u05e0\\u05d5\\u05ea \\u05dc\\u05d1\\u05e7\\u05e9\\u05ea\\u05dd \\u05d4\\u05ea\\u05d0\\u05e4\\u05e9\\u05e8\\u05d4 \\u05dc\\u05e0\\u05d5\\u05db\\u05d7 \\u05d4\\u05e2\\u05de\\u05d3\\u05d4 \\u05e9\\u05d2\\u05d9\\u05dc\\u05ea\\u05d4 \\u05d4\\u05de\\u05e9\\u05d9\\u05d1\\u05d4, \\u05d5\\u05db\\u05d9 \\u05d0\\u05dc \\u05dc\\u05d4\\u05dd \\u05dc\\u05e6\\u05e4\\u05d5\\u05ea \\u05dc\\u05db\\u05dc \\u05d4\\u05e7\\u05dc\\u05d5\\u05ea \\u05e0\\u05d5\\u05e1\\u05e4\\u05d5\\u05ea, \\u05d0\\u05dc\\u05d0 \\u05dc\\u05d4\\u05d9\\u05e2\\u05e8\\u05da \\u05dc\\u05d1\\u05d9\\u05e6\\u05d5\\u05e2 \\u05d4\\u05e6\\u05d5 \\u05d4\\u05e9\\u05d9\\u05e4\\u05d5\\u05d8\\u05d9, \\u05de\\u05e9\\u05ea\\u05de\\u05d5 \\u05d4\\u05d4\\u05dc\\u05d9\\u05db\\u05d9\\u05dd \\u05db\\u05d5\\u05dc\\u05dd. \\u05e0\\u05d9\\u05ea\\u05df \\u05d4\\u05d9\\u05d5\\u05dd, \\\\u200f\\u05d9\\\"\\u05d8 \\u05d1\\u05e9\\u05d1\\u05d8 \\u05d4\\u05ea\\u05e9\\u05e2\\\"\\u05d6 (\\\\u200f15.2.2017). \\u05e9 \\u05d5 \\u05e4 \\u05d8 \\u05ea _________________________ \"\n        ],\n        \"semantic_type\": \"\",\n        \"description\": \"\"\n      }\n    },\n    {\n      \"column\": \"\\u05ea\\u05d5\\u05e6\\u05d0\\u05d4 \\u05de\\u05e1\\u05db\\u05de\\u05ea\",\n      \"properties\": {\n        \"dtype\": \"string\",\n        \"num_unique_values\": 5,\n        \"samples\": [\n          \"\\u05d1\\u05e7\\u05e9\\u05d4 \\u05d0\\u05d7\\u05e8\\u05ea\\n\\u05d1\\u05e7\\u05e9\\u05d4 \\u05dc\\u05d3\\u05d7\\u05d9\\u05d9\\u05ea \\u05de\\u05d5\\u05e2\\u05d3 \\u05ea\\u05d7\\u05d9\\u05dc\\u05ea \\u05e8\\u05d9\\u05e6\\u05d5\\u05d9 \\u05e2\\u05d5\\u05e0\\u05e9 \\u05d4\\u05de\\u05d0\\u05e1\\u05e8\",\n          \"\\u05d3\\u05d0 \\u05e2\\u05e7\\u05d0, \\u05de\\u05e9\\u05d8\\u05e8\\u05dd \\u05e0\\u05ea\\u05d1\\u05e8\\u05e8, \\u05d5\\u05de\\u05de\\u05d9\\u05dc\\u05d0 \\u05d8\\u05e8\\u05dd \\u05d4\\u05d5\\u05db\\u05e8\\u05e2, \\u05e2\\u05e0\\u05d9\\u05d9\\u05e0\\u05dd \\u05e9\\u05dc \\u05d4\\u05de\\u05d1\\u05e7\\u05e9\\u05d9\\u05dd - \\u05dc\\u05d2\\u05d5\\u05e4\\u05d5 - \\u05d1\\u05e2\\u05e8\\u05db\\u05d0\\u05d4 \\u05d4\\u05e8\\u05d0\\u05e9\\u05d5\\u05e0\\u05d4, \\u05d0\\u05d9\\u05df \\u05de\\u05e7\\u05d5\\u05dd \\u05dc\\u05d3\\u05d5\\u05df \\u05d1\\u05d8\\u05e2\\u05e0\\u05d5\\u05ea\\u05d9\\u05d4\\u05dd \\u05d1\\u05e4\\u05e0\\u05d9 \\u05d1\\u05d9\\u05ea \\u05de\\u05e9\\u05e4\\u05d8 \\u05d6\\u05d4. \\u05dc\\u05d0\\u05d7\\u05e8 \\u05e9\\u05d9\\u05de\\u05d5\\u05e6\\u05d5 \\u05d4\\u05d4\\u05dc\\u05d9\\u05db\\u05d9\\u05dd \\u05d1\\u05d1\\u05d9\\u05ea \\u05de\\u05e9\\u05e4\\u05d8 \\u05d4\\u05e9\\u05dc\\u05d5\\u05dd, \\u05d5\\u05d0\\u05dd \\u05d9\\u05d4\\u05d9\\u05d4 \\u05e6\\u05d5\\u05e8\\u05da \\u05d2\\u05dd \\u05d1\\u05d1\\u05d9\\u05ea \\u05d4\\u05de\\u05e9\\u05e4\\u05d8 \\u05d4\\u05de\\u05d7\\u05d5\\u05d6\\u05d9 - \\u05d9\\u05d4\\u05d9\\u05d5 \\u05e8\\u05e9\\u05d0\\u05d9\\u05dd \\u05d4\\u05de\\u05d1\\u05e7\\u05e9\\u05d9\\u05dd - \\u05e9\\u05d5\\u05d1, \\u05d0\\u05dd \\u05d9\\u05d4\\u05d9\\u05d4 \\u05e6\\u05d5\\u05e8\\u05da - \\u05dc\\u05e4\\u05e0\\u05d5\\u05ea \\u05dc\\u05d1\\u05d9\\u05ea \\u05de\\u05e9\\u05e4\\u05d8 \\u05d6\\u05d4 \\u05d1\\u05d1\\u05e7\\u05e9\\u05ea \\u05e8\\u05e9\\u05d5\\u05ea \\u05e2\\u05e8\\u05e2\\u05d5\",\n          \"\\u05d1\\u05d9\\u05d4\\u05de\\u05f3\\u05f3\\u05e9 \\u05e0\\u05ea\\u05df \\u05d0\\u05d5\\u05e8\\u05db\\u05d4 \\u05d0\\u05da \\u05dc\\u05d0 \\u05d1\\u05d9\\u05d8\\u05dc \\u05d0\\u05ea \\u05e6\\u05d5 \\u05d4\\u05d4\\u05e8\\u05d9\\u05e1\\u05d4\\n\\u05d4\\u05d1\\u05e7\\u05e9\\u05d4 \\u05de\\u05ea\\u05e7\\u05d1\\u05dc\\u05ea \\u05d0\\u05e4\\u05d5\\u05d0 \\u05db\\u05de\\u05e4\\u05d5\\u05e8\\u05d8 \\u05d1\\u05e4\\u05e1\\u05e7\\u05d4 3\"\n        ],\n        \"semantic_type\": \"\",\n        \"description\": \"\"\n      }\n    }\n  ]\n}"
            }
          },
          "metadata": {},
          "execution_count": 33
        }
      ]
    },
    {
      "cell_type": "code",
      "source": [
        "df.to_excel(\"/content/dataframe_cleaned.xlsx\", index=False)"
      ],
      "metadata": {
        "id": "sWN2TicK8nF6"
      },
      "execution_count": 34,
      "outputs": []
    },
    {
      "cell_type": "markdown",
      "source": [
        "# split - train, validation, test"
      ],
      "metadata": {
        "id": "DvkoVz9nl7qx"
      }
    },
    {
      "cell_type": "code",
      "source": [
        "train_data, temp_data = train_test_split(df, test_size=0.2, random_state=42)\n",
        "valid_data, test_data = train_test_split(temp_data, test_size=0.5, random_state=42)\n",
        "\n",
        "def convert_to_jsonl(data, filename):\n",
        "    with open(filename, \"w\", encoding=\"utf-8\") as f:\n",
        "        for _, row in data.iterrows():\n",
        "            json.dump({\n",
        "                \"messages\": [\n",
        "                    {\"role\": \"system\", \"content\": \"אתה עוזר משפטי לניתוח פסקי דין מסוג רע\\\"פ\"},\n",
        "                    {\"role\": \"user\", \"content\": row[\"גוף המסמך חתוך\"]},\n",
        "                    {\"role\": \"assistant\", \"content\": row[\"תוצאה מסכמת\"]}\n",
        "                ]\n",
        "            }, f, ensure_ascii=False)\n",
        "            f.write(\"\\n\")\n",
        "test_df = pd.DataFrame(test_data)\n",
        "convert_to_jsonl(train_data, \"train.jsonl\")\n",
        "convert_to_jsonl(valid_data, \"valid.jsonl\")\n",
        "convert_to_jsonl(test_data, \"test.jsonl\")\n"
      ],
      "metadata": {
        "id": "-bvQXAHkypbm"
      },
      "execution_count": 89,
      "outputs": []
    },
    {
      "cell_type": "code",
      "source": [
        "test_df[\"תוצאה מסכמת\"].head()"
      ],
      "metadata": {
        "colab": {
          "base_uri": "https://localhost:8080/",
          "height": 241
        },
        "id": "EQ4hzZ4tkZyb",
        "outputId": "5061f788-8822-4295-c464-c318466b8c8a"
      },
      "execution_count": 92,
      "outputs": [
        {
          "output_type": "execute_result",
          "data": {
            "text/plain": [
              "76                                                                 דלמטה מיוחד\\nביה\"ד צבאי, הערעור התקבל בהתארם לפשרה בין הצדדים שהסכימו על היקשרות בהסדר מותנה\n",
              "232    והערעור הוגש והתקבל באופן שהיקף שעות השל\"צ שעל המערער (המבקש) לבצע יעמוד על 100 שעות במקום 150 שעות. ההוראה בדבר פיקוח שירות המבחן למשך שנה תעמוד בעינה.\n",
              "174                                                        דלמטה מיוחד\\nבקשת רשות ערעור על פסק דינו של בית הדין הצבאי לערעורים\\nבקשת הערעור התקבלה והערעור נדחה\n",
              "310                                                                                                                  הערעור נמחק\\nבכפוף לאמור לעיל, הערעור נמחק\n",
              "120                                                                                                                                בקשת ערעור+עיכוב ביצוע העונש\n",
              "Name: תוצאה מסכמת, dtype: object"
            ],
            "text/html": [
              "<div>\n",
              "<style scoped>\n",
              "    .dataframe tbody tr th:only-of-type {\n",
              "        vertical-align: middle;\n",
              "    }\n",
              "\n",
              "    .dataframe tbody tr th {\n",
              "        vertical-align: top;\n",
              "    }\n",
              "\n",
              "    .dataframe thead th {\n",
              "        text-align: right;\n",
              "    }\n",
              "</style>\n",
              "<table border=\"1\" class=\"dataframe\">\n",
              "  <thead>\n",
              "    <tr style=\"text-align: right;\">\n",
              "      <th></th>\n",
              "      <th>תוצאה מסכמת</th>\n",
              "    </tr>\n",
              "  </thead>\n",
              "  <tbody>\n",
              "    <tr>\n",
              "      <th>76</th>\n",
              "      <td>דלמטה מיוחד\\nביה\"ד צבאי, הערעור התקבל בהתארם לפשרה בין הצדדים שהסכימו על היקשרות בהסדר מותנה</td>\n",
              "    </tr>\n",
              "    <tr>\n",
              "      <th>232</th>\n",
              "      <td>והערעור הוגש והתקבל באופן שהיקף שעות השל\"צ שעל המערער (המבקש) לבצע יעמוד על 100 שעות במקום 150 שעות. ההוראה בדבר פיקוח שירות המבחן למשך שנה תעמוד בעינה.</td>\n",
              "    </tr>\n",
              "    <tr>\n",
              "      <th>174</th>\n",
              "      <td>דלמטה מיוחד\\nבקשת רשות ערעור על פסק דינו של בית הדין הצבאי לערעורים\\nבקשת הערעור התקבלה והערעור נדחה</td>\n",
              "    </tr>\n",
              "    <tr>\n",
              "      <th>310</th>\n",
              "      <td>הערעור נמחק\\nבכפוף לאמור לעיל, הערעור נמחק</td>\n",
              "    </tr>\n",
              "    <tr>\n",
              "      <th>120</th>\n",
              "      <td>בקשת ערעור+עיכוב ביצוע העונש</td>\n",
              "    </tr>\n",
              "  </tbody>\n",
              "</table>\n",
              "</div><br><label><b>dtype:</b> object</label>"
            ]
          },
          "metadata": {},
          "execution_count": 92
        }
      ]
    },
    {
      "cell_type": "markdown",
      "source": [
        "# Fine tune Llama 2 using LoRA"
      ],
      "metadata": {
        "id": "trxAYL0pM2fe"
      }
    },
    {
      "cell_type": "code",
      "source": [
        "# from huggingface_hub import login\n",
        "# from transformers import AutoTokenizer, AutoModelForCausalLM\n",
        "# import json\n",
        "# from peft import LoraConfig, get_peft_model, TaskType\n",
        "# from transformers import TrainingArguments, Trainer"
      ],
      "metadata": {
        "id": "QA46zLkn0dE7"
      },
      "execution_count": 36,
      "outputs": []
    },
    {
      "cell_type": "code",
      "source": [
        "\n",
        "\n",
        "# login(userdata.get('llama_login'))\n",
        "\n",
        "# MODEL_NAME = \"meta-llama/Llama-2-7b-chat-hf\"\n",
        "\n",
        "# tokenizer = AutoTokenizer.from_pretrained(MODEL_NAME, use_auth_token=True)\n",
        "# model = AutoModelForCausalLM.from_pretrained(MODEL_NAME, torch_dtype=\"auto\", device_map=\"auto\", use_auth_token=True)\n",
        "\n",
        "# print(\"🎯 המודל נטען בהצלחה!\")\n"
      ],
      "metadata": {
        "id": "e9nziHo7OYqg"
      },
      "execution_count": 37,
      "outputs": []
    },
    {
      "cell_type": "code",
      "source": [
        "# def generate_summary_llama2(case_text):\n",
        "#     input_ids = tokenizer(case_text, return_tensors=\"pt\").input_ids.to(\"cuda\")\n",
        "#     output = model.generate(input_ids, max_new_tokens=100)\n",
        "#     return tokenizer.decode(output[0], skip_special_tokens=True)\n",
        "\n",
        "# # בודקים פסק דין לדוגמה\n",
        "# sample_case = dataset[\"valid\"][0][\"messages\"][1][\"content\"]\n",
        "# llama2_summary = generate_summary_llama2(sample_case)\n",
        "\n",
        "# print(llama2_summary)\n"
      ],
      "metadata": {
        "id": "P1nOtQI51LNd"
      },
      "execution_count": 38,
      "outputs": []
    },
    {
      "cell_type": "code",
      "source": [],
      "metadata": {
        "id": "aZWwNNhE4k95"
      },
      "execution_count": 38,
      "outputs": []
    },
    {
      "cell_type": "code",
      "source": [
        "# test_text = \"פסק דין משפטי לדוגמה על סכסוך אזרחי\"\n",
        "# input_ids = tokenizer(test_text, return_tensors=\"pt\").input_ids.to(\"cuda\")\n",
        "\n",
        "# output = model.generate(input_ids, max_new_tokens=100)\n",
        "# generated_text = tokenizer.decode(output[0], skip_special_tokens=True)\n",
        "\n",
        "# print(\"פלט המודל ללא Fine-Tuning:\\n\", generated_text)\n"
      ],
      "metadata": {
        "id": "S8GBbJ7m3mTS"
      },
      "execution_count": 39,
      "outputs": []
    },
    {
      "cell_type": "code",
      "source": [
        "# def generate_summary_llama2(case_text):\n",
        "#     prompt = (\n",
        "#         \"סכם את פסק הדין הבא בצורה תמציתית:\\n\\n\"\n",
        "#         f\"{case_text}\\n\\n\"\n",
        "#         \"סיכום משפטי: \"\n",
        "#     )\n",
        "#     input_ids = tokenizer(prompt, return_tensors=\"pt\").input_ids.to(\"cuda\")\n",
        "#     output = model.generate(input_ids, max_new_tokens=100)\n",
        "#     return tokenizer.decode(output[0], skip_special_tokens=True)\n",
        "\n",
        "\n",
        "# llama2_summary = generate_summary_llama2(sample_case)\n",
        "# print(\"סיכום משופר על ידי Llama 2:\", llama2_summary)\n"
      ],
      "metadata": {
        "id": "xim3_RSeMz7d"
      },
      "execution_count": 40,
      "outputs": []
    },
    {
      "cell_type": "markdown",
      "source": [
        "# GPT Fine tuning"
      ],
      "metadata": {
        "id": "sQs5YfJclw-_"
      }
    },
    {
      "cell_type": "code",
      "source": [
        "\n",
        "\n",
        "\n",
        "# client = openai.OpenAI(api_key=userdata.get('open_ai_key'))\n",
        "\n",
        "# train_file = client.files.create(\n",
        "#     file=open(\"train.jsonl\", \"rb\"),\n",
        "#     purpose=\"fine-tune\"\n",
        "# )\n",
        "\n",
        "# print(\"Train File ID:\", train_file.id)"
      ],
      "metadata": {
        "id": "aIVvqpF7B5j-"
      },
      "execution_count": 41,
      "outputs": []
    },
    {
      "cell_type": "code",
      "source": [
        "# files = client.files.list()\n",
        "# print(files)"
      ],
      "metadata": {
        "id": "wv5HKJP8QAWN"
      },
      "execution_count": 42,
      "outputs": []
    },
    {
      "cell_type": "code",
      "source": [
        "# fine_tune = client.fine_tuning.jobs.create(\n",
        "#     training_file=train_file.id,\n",
        "#     model=\"gpt-3.5-turbo\"\n",
        "# )\n",
        "\n",
        "# print(\"Fine-Tuning Job ID:\", fine_tune.id)"
      ],
      "metadata": {
        "id": "surRCAvEQEYC"
      },
      "execution_count": 43,
      "outputs": []
    },
    {
      "cell_type": "code",
      "source": [
        "# fine_tune_status = client.fine_tuning.jobs.retrieve(fine_tune.id)\n",
        "# print(fine_tune_status)"
      ],
      "metadata": {
        "id": "8qqWR0MtQPb-"
      },
      "execution_count": 44,
      "outputs": []
    },
    {
      "cell_type": "code",
      "source": [
        "# job_id = fine_tune_status.id\n",
        "# while True:\n",
        "#     fine_tune_job = client.fine_tuning.jobs.retrieve(job_id)\n",
        "#     print(f\"Status: {fine_tune_job.status}\")\n",
        "\n",
        "#     if fine_tune_job.status in [\"succeeded\", \"failed\", \"cancelled\"]:\n",
        "#         print(f\"Fine-Tuned Model ID: {fine_tune_job.fine_tuned_model}\")\n",
        "#         break\n",
        "\n",
        "#     time.sleep(60*5)"
      ],
      "metadata": {
        "id": "GVzAVhHfQ-nS"
      },
      "execution_count": 45,
      "outputs": []
    },
    {
      "cell_type": "code",
      "source": [
        "\n",
        "# print(fine_tune_job.trained_tokens)\n",
        "# print(fine_tune_job.fine_tuned_model)"
      ],
      "metadata": {
        "id": "MKax7TTrQqsn"
      },
      "execution_count": 46,
      "outputs": []
    },
    {
      "cell_type": "code",
      "source": [
        "# # Save the fine-tuned model ID in a text file (only needs to be done once)\n",
        "# with open(\"/content/fine_tuned_model.txt\", \"w\") as file:\n",
        "#     file.write(fine_tune_job.fine_tuned_model)\n"
      ],
      "metadata": {
        "id": "pF6oKBjFtPkg"
      },
      "execution_count": 47,
      "outputs": []
    },
    {
      "cell_type": "code",
      "source": [
        "# result_files = client.files.list()\n",
        "# for file in result_files.data:\n",
        "#     if \"fine-tuning\" in file.purpose:\n",
        "#         print(file.filename, file.id)"
      ],
      "metadata": {
        "id": "Y75Vbz6sQxLf"
      },
      "execution_count": 48,
      "outputs": []
    },
    {
      "cell_type": "code",
      "source": [],
      "metadata": {
        "id": "ta0M4jRlhGuq"
      },
      "execution_count": 48,
      "outputs": []
    },
    {
      "cell_type": "code",
      "source": [
        "# response = client.chat.completions.create(\n",
        "#     model=fine_tune_job.fine_tuned_model,\n",
        "#     messages=[\n",
        "#         {\"role\": \"system\", \"content\": 'אתה מומחה משפטי לניתוח ותמצות שורה תחתונה של פסקי דין מסוג רע\"פ'},\n",
        "#         {\"role\": \"user\", \"content\": test_data.iloc[0][\"גוף המסמך חתוך\"]}\n",
        "#     ]\n",
        "# )\n",
        "\n",
        "# print(\"תשובה שהמודל נתן:\")\n",
        "# print(response.choices[0].message.content)\n",
        "\n",
        "# print(\"תוצאה מקורית:\\n\")\n",
        "# print(test_data.iloc[0][\"תוצאה מסכמת\"])\n"
      ],
      "metadata": {
        "id": "aRWCn-FFnE61"
      },
      "execution_count": 49,
      "outputs": []
    },
    {
      "cell_type": "code",
      "source": [
        "# for i in range(len(test_data)):\n",
        "#   response = client.chat.completions.create(\n",
        "#     model=fine_tune_job.fine_tuned_model,\n",
        "#     messages=[\n",
        "#         {\"role\": \"system\", \"content\": 'אתה מומחה משפטי לניתוח ותמצות שורה תחתונה של פסקי דין מסוג רע\"פ'},\n",
        "#         {\"role\": \"user\", \"content\": test_data.iloc[i][\"גוף המסמך חתוך\"]}\n",
        "#     ]\n",
        "#   )\n",
        "#   print(f\"מסמך מספר {i+1}:\")\n",
        "#   print(\"פסק דין:\")\n",
        "#   print(test_data.iloc[i][\"גוף המסמך חתוך\"])\n",
        "\n",
        "#   print(\"תשובה שהמודל נתן:\")\n",
        "#   print(response.choices[0].message.content)\n",
        "\n",
        "#   print(\"תוצאה מקורית:\")\n",
        "#   print(test_data.iloc[i][\"תוצאה מסכמת\"])\n",
        "\n",
        "#   print(\"-------------------------------\")"
      ],
      "metadata": {
        "id": "QyoNDWY3xL9A"
      },
      "execution_count": 50,
      "outputs": []
    },
    {
      "cell_type": "markdown",
      "source": [
        "## GPT - Evaluation"
      ],
      "metadata": {
        "id": "thNQeKO5sGpn"
      }
    },
    {
      "cell_type": "code",
      "source": [
        "from transformers import AutoTokenizer, AutoModelForSequenceClassification, AutoModel\n",
        "\n",
        "client = openai.OpenAI(api_key=userdata.get('open_ai_key'))\n",
        "\n",
        "\n",
        "# Fetch all fine-tuned models\n",
        "fine_tuned_models = client.fine_tuning.jobs.list()\n",
        "\n",
        "# Extract the most recent fine-tuned model ID\n",
        "latest_model = None\n",
        "for model in fine_tuned_models:\n",
        "    if model.status == \"succeeded\":  # Making sure it's fully trained\n",
        "        latest_model = model.fine_tuned_model\n",
        "        break\n",
        "\n",
        "if latest_model:\n",
        "    print(\"Using Fine-Tuned Model\")\n",
        "else:\n",
        "    print(\"No fine-tuned model found.\")\n"
      ],
      "metadata": {
        "colab": {
          "base_uri": "https://localhost:8080/"
        },
        "id": "0LgQY73yiM6n",
        "outputId": "1cf029f1-70e7-4f3c-ae8f-12672c451c6f"
      },
      "execution_count": 100,
      "outputs": [
        {
          "output_type": "stream",
          "name": "stdout",
          "text": [
            "Using Fine-Tuned Model\n"
          ]
        }
      ]
    },
    {
      "cell_type": "code",
      "source": [
        "\n",
        "import time\n",
        "from tqdm import tqdm\n",
        "\n",
        "# פונקציה שמקבלת טקסט של מקרה ומחזירה סיכום מ-GPT\n",
        "def generate_summary_gpt3(case_text):\n",
        "    try:\n",
        "        response = client.chat.completions.create(\n",
        "            model=latest_model,\n",
        "            messages=[\n",
        "                {\"role\": \"system\", \"content\": \"אתה עוזר משפטי. המשימה שלך היא לסכם טקסטים משפטיים **תוך שמירה על דיוק מירבי וללא שינוי המשמעות**. עליך להימנע מהוספת מידע חדש, השמטת מידע חשוב, או הכללות שגויות.\"},\n",
        "                {\"role\": \"user\", \"content\": case_text}\n",
        "            ]\n",
        "        )\n",
        "        return response.choices[0].message.content\n",
        "    except Exception as e:\n",
        "        print(f\"Error processing case: {e}\")\n",
        "        return None\n",
        "\n",
        "\n",
        "tqdm.pandas()\n",
        "\n",
        "test_df[\"gpt_res\"] = test_df[\"גוף המסמך חתוך\"].progress_apply(generate_summary_gpt3)\n"
      ],
      "metadata": {
        "colab": {
          "base_uri": "https://localhost:8080/"
        },
        "id": "Ihejf9AimCg1",
        "outputId": "87940e1d-4449-45dd-b987-57c2c052c3a6"
      },
      "execution_count": null,
      "outputs": [
        {
          "output_type": "stream",
          "name": "stderr",
          "text": [
            " 21%|██        | 7/33 [00:16<00:55,  2.12s/it]"
          ]
        }
      ]
    },
    {
      "cell_type": "code",
      "source": [
        "tokenizer = AutoTokenizer.from_pretrained(\"dean-ai/sentence_transformer_Legal-heBERT\")\n",
        "model = AutoModel.from_pretrained(\"dean-ai/sentence_transformer_Legal-heBERT\")"
      ],
      "metadata": {
        "id": "E3z5sIFWiLi1"
      },
      "execution_count": null,
      "outputs": []
    },
    {
      "cell_type": "code",
      "source": [
        "def get_embeddings(text):\n",
        "    inputs = tokenizer(text, return_tensors=\"pt\", padding=True, truncation=True, max_length=512)\n",
        "    outputs = model(**inputs)\n",
        "    embeddings = outputs.last_hidden_state.mean(dim=1).detach().numpy()\n",
        "    return embeddings[0]\n",
        ""
      ],
      "metadata": {
        "id": "k6JvzMTMiE3e"
      },
      "execution_count": null,
      "outputs": []
    },
    {
      "cell_type": "code",
      "source": [
        "get_embeddings(test_df[\"תוצאה מסכמת\"].iloc[0])[0]"
      ],
      "metadata": {
        "id": "t7AanEuHoTB3"
      },
      "execution_count": null,
      "outputs": []
    },
    {
      "cell_type": "code",
      "source": [
        "test_df[\"תוצאה מסכמת- embeddings\"] = test_df[\"תוצאה מסכמת\"].apply(lambda text: get_embeddings(text))\n",
        "\n",
        "test_df[\"gpt_res_emb\"] = test_df[\"gpt_res\"].apply(lambda text: get_embeddings(text))"
      ],
      "metadata": {
        "id": "KVygqapAlA0E"
      },
      "execution_count": null,
      "outputs": []
    },
    {
      "cell_type": "code",
      "source": [
        "test_df.columns"
      ],
      "metadata": {
        "id": "wx5UbWTWsZWn"
      },
      "execution_count": null,
      "outputs": []
    },
    {
      "cell_type": "code",
      "source": [
        "test_df = test_df[['גוף המסמך', 'מספר הליך', 'שם הליך', 'שנת פתיחת ההליך',\n",
        "       'גוף המסמך חתוך', 'בקשה לרשות ערעור התקבלה?',\n",
        "       'הערעור התקבל?',\n",
        "       'רע\"פ בקשה אחרת או דלמטה מיוחד', 'length', 'תוצאה מסכמת',\n",
        "       'מספר השופטים', 'מגדר', 'num_judges', 'תוצאה מסכמת- embeddings',\n",
        "       'gpt_res', 'gpt_res_emb']]"
      ],
      "metadata": {
        "id": "BBeszoCCsbxk"
      },
      "execution_count": null,
      "outputs": []
    },
    {
      "cell_type": "code",
      "source": [
        "import seaborn as sns\n",
        "from sklearn.metrics.pairwise import cosine_similarity\n",
        "\n",
        "# המרה לרשימות NumPy אם הווקטורים מאוחסנים כמחרוזות\n",
        "test_df[\"תוצאה מסכמת- embeddings\"] = test_df[\"תוצאה מסכמת- embeddings\"].apply(lambda x: np.array(eval(x)) if isinstance(x, str) else x)\n",
        "test_df[\"gpt_res_emb\"] = test_df[\"gpt_res_emb\"].apply(lambda x: np.array(eval(x)) if isinstance(x, str) else x)\n",
        "\n",
        "# חישוב דמיון קוסינוסי לכל שורה\n",
        "test_df[\"similarity\"] = test_df.apply(lambda row: cosine_similarity([row[\"תוצאה מסכמת- embeddings\"]], [row[\"gpt_res_emb\"]])[0][0], axis=1)\n",
        "\n",
        "average_similarity = test_df[\"similarity\"].mean()\n",
        "print(f\"Average Cosine Similarity: {average_similarity:.4f}\")\n",
        "\n",
        "plt.figure(figsize=(8, 5))\n",
        "sns.histplot(test_df[\"similarity\"], bins=30, kde=True)\n",
        "plt.xlabel(\"Cosine Similarity Score\")\n",
        "plt.ylabel(\"Count\")\n",
        "plt.title(\"Distribution of Similarity Scores\")\n",
        "plt.show()\n",
        "\n"
      ],
      "metadata": {
        "id": "5-3hGrK4jBj-"
      },
      "execution_count": null,
      "outputs": []
    },
    {
      "cell_type": "code",
      "source": [
        "high_sim_cases = test_df[test_df[\"similarity\"] >= 0.8][[\"תוצאה מסכמת\", \"gpt_res\"]]\n",
        "for index, row in high_sim_cases.iterrows():\n",
        "    print(f\"**Case {index}:**\")\n",
        "    print(f\"**Original Text:** {row['תוצאה מסכמת']}\")  # מציג חלק מהטקסט\n",
        "    print(f\"**GPT Summary:** {row['gpt_res']}\")\n",
        "    print(\"-\" * 100)\n"
      ],
      "metadata": {
        "id": "sD-0fXL2syBJ"
      },
      "execution_count": null,
      "outputs": []
    },
    {
      "cell_type": "code",
      "source": [
        "low_sim_cases = test_df[test_df[\"similarity\"] < 0.6][[\"תוצאה מסכמת\", \"gpt_res\"]]\n",
        "for index, row in low_sim_cases.iterrows():\n",
        "    print(f\"**Case {index}:**\")\n",
        "    print(f\"**Original Text:** {row['תוצאה מסכמת']}\")  # מציג חלק מהטקסט\n",
        "    print(f\"**GPT Summary:** {row['gpt_res']}\")\n",
        "    print(\"-\" * 100)\n"
      ],
      "metadata": {
        "id": "XBDn6LdkqRbl"
      },
      "execution_count": null,
      "outputs": []
    },
    {
      "cell_type": "code",
      "source": [
        "comp_df[comp_df[\"similarity\"] >= 0.6].shape\n"
      ],
      "metadata": {
        "id": "ApXmAU8lqc1L"
      },
      "execution_count": null,
      "outputs": []
    },
    {
      "cell_type": "code",
      "source": [],
      "metadata": {
        "id": "h7-x6vNtowft"
      },
      "execution_count": null,
      "outputs": []
    },
    {
      "cell_type": "code",
      "source": [
        "\n",
        "df_qa['pred_by_article'] = df_qa['question_embedding'].progress_apply(\n",
        "    lambda q_emb: rank_similar_articles(q_emb, df_articles, 'article_embedding')\n",
        ")\n",
        ""
      ],
      "metadata": {
        "id": "DfQEpcM1jCNw"
      },
      "execution_count": null,
      "outputs": []
    },
    {
      "cell_type": "code",
      "source": [
        "\n",
        "def plot_recall(col_name):\n",
        "  ans = []\n",
        "  for k in range(1, 20):\n",
        "    ans.append(\n",
        "        df_qa.apply(\n",
        "            lambda row: (\n",
        "                len(set(row['article_ids']) & set(row[col_name][:k]))\n",
        "            ) / len(row['article_ids']),\n",
        "            axis=1\n",
        "        ).mean()\n",
        "      )\n",
        "  sns.lineplot(ans, label=col_name)\n",
        "\n",
        "\n",
        "plot_recall('pred_by_article')"
      ],
      "metadata": {
        "id": "FfqcD1NFjHRi"
      },
      "execution_count": null,
      "outputs": []
    },
    {
      "cell_type": "code",
      "source": [
        "#data[\"גוף המסמך חתוך לתיקים אחרים - embeddings\"] = data[\"גוף המסמך חתוך לתיקים אחרים\"] .apply(lambda text: get_embeddings(text))"
      ],
      "metadata": {
        "id": "5i8XNzROirrQ"
      },
      "execution_count": null,
      "outputs": []
    },
    {
      "cell_type": "code",
      "source": [
        "df = pd.merge(df, check_gender_bias, on=\"מספר הליך\", how=\"left\", suffixes=('', '_dup'))\n",
        "\n",
        "df = df.loc[:, ~df.columns.str.endswith('_dup')]\n"
      ],
      "metadata": {
        "id": "jknPah_8NoFc"
      },
      "execution_count": null,
      "outputs": []
    },
    {
      "cell_type": "code",
      "source": [
        "df.columns"
      ],
      "metadata": {
        "id": "IIvYn9i7P1MO"
      },
      "execution_count": null,
      "outputs": []
    },
    {
      "cell_type": "code",
      "source": [
        "import openai\n",
        "import json\n",
        "import pandas as pd\n",
        "import seaborn as sns\n",
        "import matplotlib.pyplot as plt\n",
        "import scipy.stats as stats\n",
        "import ast\n"
      ],
      "metadata": {
        "id": "DazRrJnLS5Z_"
      },
      "execution_count": null,
      "outputs": []
    },
    {
      "cell_type": "code",
      "source": [
        "\n",
        "# Ensure 'מגדר' column is properly formatted as a list\n",
        "def safe_eval(value):\n",
        "    \"\"\" Convert string representation of a list to an actual list safely. \"\"\"\n",
        "    if isinstance(value, str):\n",
        "        try:\n",
        "            return ast.literal_eval(value)  # Convert string to list\n",
        "        except (SyntaxError, ValueError):\n",
        "            return None  # If conversion fails, return None\n",
        "    elif isinstance(value, list):\n",
        "        return value\n",
        "    else:\n",
        "        return None  # If it's NaN or other type, return None\n",
        "\n",
        "df[\"מגדר\"] = df[\"מגדר\"].apply(safe_eval)\n",
        "\n",
        "# Drop rows where we don't have judge information\n",
        "df = df[df[\"מגדר\"].notna()]\n",
        "\n",
        "# Create a new column for number of judges\n",
        "df[\"num_judges\"] = df[\"מגדר\"].apply(len)\n",
        "\n",
        "\n",
        "df = df[df[\"num_judges\"] > 0]\n",
        "\n",
        "\n",
        "# Count occurrences of appeal acceptance based on number of judges\n",
        "real_counts = df.groupby(\"num_judges\")[\"בקשה לרשות ערעור התקבלה?\"].value_counts().unstack().fillna(0)\n",
        "\n",
        "# Plot real data\n",
        "plt.figure(figsize=(10, 6))\n",
        "real_counts.div(real_counts.sum(axis=1), axis=0).plot(kind=\"bar\", stacked=True, colormap=\"Reds_r\")\n",
        "plt.title(\"Actual Appeal Acceptance Rate by Number of Judges\")\n",
        "plt.xlabel(\"Number of Judges\")\n",
        "plt.ylabel(\"Proportion\")\n",
        "plt.xticks(rotation=0)\n",
        "plt.legend(title=\"Appeal Outcome\")\n",
        "plt.show()\n",
        "\n",
        "# Chi-Square test to check statistical significance\n",
        "chi2, p_value, _, _ = stats.chi2_contingency(real_counts)\n",
        "print(f\"Chi-Square Test: p-value = {p_value:.4f}\")\n",
        "\n",
        "# Interpretation\n",
        "if p_value > 0.05:\n",
        "    print(\"No statistically significant relationship between the number of judges and appeal acceptance.\")\n",
        "else:\n",
        "    print(\"A statistically significant relationship exists between the number of judges and appeal acceptance.\")\n"
      ],
      "metadata": {
        "id": "9uoYNHxKN_ce"
      },
      "execution_count": null,
      "outputs": []
    },
    {
      "cell_type": "code",
      "source": [],
      "metadata": {
        "id": "AnjBS-jpTVV7"
      },
      "execution_count": null,
      "outputs": []
    },
    {
      "cell_type": "code",
      "source": [
        "# # Function to ask GPT to explain its reasoning\n",
        "# def gpt_explain_patterns(case_text):\n",
        "#     response = client.chat.completions.create(\n",
        "#         model=latest_model,\n",
        "#         messages=[\n",
        "#             {\"role\": \"system\", \"content\":\"אתה מומחה משפטי. הסבר את הנימוקים מאחורי ההחלטה במקרה הנתון.\"},\n",
        "#             {\"role\": \"user\", \"content\": f\"Case: {case_text}\\n\\nמהם הגורמים המרכזיים המשפיעים על ההחלטה?\"}\n",
        "#         ]\n",
        "#     )\n",
        "#     return response.choices[0].message.content\n",
        "\n",
        "# # Apply GPT explanation function\n",
        "# df[\"model_patterns\"] = df[\"בקשה לרשות ערעור התקבלה?\"].apply(lambda x: gpt_explain_patterns(x))\n",
        "\n",
        "# # Display examples of patterns extracted by GPT\n",
        "# print(df[[\"בקשה לרשות ערעור התקבלה?\", \"model_patterns\"]].head())\n"
      ],
      "metadata": {
        "id": "tC1vY02iSr0P"
      },
      "execution_count": null,
      "outputs": []
    },
    {
      "cell_type": "code",
      "source": [
        "\n",
        "# df[\"num_judges\"] = df[\"מגדר\"].apply(len)  # חישוב מספר השופטים בפועל\n",
        "# df[\"model_predicted_outcome\"] = df[\"model_patterns\"].apply(lambda x: \"התקבל\" if \"ערעור התקבל\" in x else \"נדחה\")\n",
        "\n",
        "# # יצירת טבלת שכיחות - השוואת תוצאות אמיתיות מול תחזיות המודל\n",
        "# comparison_table = df.groupby(\"num_judges\")[[\"בקשה לרשות ערעור התקבלה?\", \"model_predicted_outcome\"]].value_counts().unstack()\n",
        "# comparison_table.fillna(0, inplace=True)\n",
        "\n",
        "# # בדיקת מתאם סטטיסטי בין מספר השופטים לבין קבלת הערעור בתחזיות המודל\n",
        "# chi2, p_value, _, _ = stats.chi2_contingency(comparison_table)\n",
        "# print(f\"Chi-Square Test (Model Predictions): p-value = {p_value:.4f}\")\n",
        "\n",
        "# if p_value > 0.05:\n",
        "#     print(\"המודל לא למד את הדפוס בין מספר השופטים לקבלת הערעור.\")\n",
        "# else:\n",
        "#     print(\"המודל הצליח ללמוד את הדפוס בין מספר השופטים לקבלת הערעור.\")\n"
      ],
      "metadata": {
        "id": "ULb5eHXiakBN"
      },
      "execution_count": null,
      "outputs": []
    },
    {
      "cell_type": "code",
      "source": [
        "import shap\n",
        "from sklearn.feature_extraction.text import TfidfVectorizer\n",
        "from sklearn.linear_model import LogisticRegression\n",
        "import numpy as np\n",
        "import pandas as pd\n",
        "import matplotlib.pyplot as plt\n",
        "\n",
        "\n",
        "# Convert the column to string format\n",
        "X_text = df[\"גוף המסמך חתוך\"].astype(str)\n",
        "\n",
        "# Convert text to TF-IDF vectors\n",
        "vectorizer = TfidfVectorizer()\n",
        "X_tfidf = vectorizer.fit_transform(X_text)\n",
        "\n",
        "# Create the target variable, handling all possible values\n",
        "y_target = df[\"בקשה לרשות ערעור התקבלה?\"].apply(\n",
        "    lambda x: 1 if x in [\"התקבל\", \"חלקי\"] else 0  # Considering \"חלקי\" as a positive case\n",
        ")\n",
        "\n",
        "# Train a logistic regression model as a proxy for GPT\n",
        "clf = LogisticRegression()\n",
        "clf.fit(X_tfidf, y_target)\n",
        "\n",
        "# Create SHAP explainer object\n",
        "explainer = shap.Explainer(clf, X_tfidf)\n",
        "\n",
        "# Compute SHAP values\n",
        "shap_values = explainer(X_tfidf)\n",
        "\n",
        "\n"
      ],
      "metadata": {
        "id": "q7bXxB1Fa7il"
      },
      "execution_count": null,
      "outputs": []
    },
    {
      "cell_type": "code",
      "source": [
        "import shap\n",
        "import matplotlib.pyplot as plt\n",
        "\n",
        "# Function to fix Hebrew labels in SHAP summary plot\n",
        "def fix_hebrew_labels(ax):\n",
        "    \"\"\" Reverse Hebrew labels in Matplotlib plots. \"\"\"\n",
        "    labels = [label.get_text()[::-1] for label in ax.get_yticklabels()]\n",
        "    ax.set_yticklabels(labels, rotation=0, ha='right')\n",
        "    ax.figure.canvas.draw()\n",
        "\n",
        "# Generate SHAP summary plot\n",
        "plt.figure(figsize=(10, 6))\n",
        "shap.summary_plot(shap_values, feature_names=[w[::-1] for w in vectorizer.get_feature_names_out()])\n",
        "\n",
        "# Fix Hebrew text direction in the labels\n",
        "ax = plt.gca()\n",
        "fix_hebrew_labels(ax)\n",
        "plt.show()\n"
      ],
      "metadata": {
        "id": "KFsxAg6UeArh"
      },
      "execution_count": null,
      "outputs": []
    },
    {
      "cell_type": "code",
      "source": [
        "import lime\n",
        "import lime.lime_text\n",
        "from sklearn.pipeline import make_pipeline\n",
        "from sklearn.feature_extraction.text import TfidfVectorizer\n",
        "from sklearn.linear_model import LogisticRegression\n",
        "\n",
        "# Convert the column to string format\n",
        "X_text = df[\"גוף המסמך חתוך\"].astype(str)\n",
        "\n",
        "# Create TF-IDF vectorizer\n",
        "vectorizer = TfidfVectorizer()\n",
        "X_tfidf = vectorizer.fit_transform(X_text)\n",
        "\n",
        "# Create the target variable, handling all possible values\n",
        "y_target = df[\"בקשה לרשות ערעור התקבלה?\"].apply(\n",
        "    lambda x: 1 if x in [\"התקבל\", \"חלקי\"] else 0  # Considering \"חלקי\" as a positive case\n",
        ")\n",
        "\n",
        "# Train a logistic regression model as a proxy for GPT\n",
        "clf = LogisticRegression()\n",
        "clf.fit(X_tfidf, y_target)\n",
        "\n",
        "# Create a LIME explainer for text\n",
        "explainer = lime.lime_text.LimeTextExplainer(class_names=[\"Rejected\", \"Accepted\"])\n",
        "\n",
        "# Select an index of a judgment to explain\n",
        "idx = 0\n",
        "text_sample = X_text.iloc[idx]  # Retrieve the corresponding judgment text\n",
        "\n",
        "# Function to convert text to TF-IDF and predict probabilities\n",
        "def predict_proba(texts):\n",
        "    tfidf_texts = vectorizer.transform(texts)  # Convert text to vector representation\n",
        "    return clf.predict_proba(tfidf_texts)  # Return class probabilities\n",
        "\n",
        "# Generate the LIME explanation\n",
        "exp = explainer.explain_instance(\n",
        "    text_sample,  # Input text\n",
        "    predict_proba,  # Prediction function\n",
        "    num_features=10  # Number of key features to display\n",
        ")\n",
        "\n",
        "# Display the explanation\n",
        "exp.show_in_notebook()\n"
      ],
      "metadata": {
        "id": "HMcQif70NoOd"
      },
      "execution_count": null,
      "outputs": []
    },
    {
      "cell_type": "markdown",
      "source": [
        "בדקנו אם המודל שלנו (GPT שאימנו) מזהה דפוסים משפטיים דרך הסברי LIME. כדי לעשות זאת, יצרנו Proxy Model (לוגיסטי עם TF-IDF), והרצנו עליו את LIME כדי לזהות אילו מילים משפיעות על קבלת הערעור. כך אפשר לחשוף איך המודל באמת \"חושב\" ולהשוות את זה לנתונים האמיתיים."
      ],
      "metadata": {
        "id": "h0F1ZxA6bWZi"
      }
    },
    {
      "cell_type": "code",
      "source": [
        "# Load test dataset\n",
        "def load_jsonl(filename):\n",
        "    with open(filename, \"r\", encoding=\"utf-8\") as f:\n",
        "        return [json.loads(line) for line in f]\n",
        "\n",
        "test_data = load_jsonl(\"test.jsonl\")"
      ],
      "metadata": {
        "id": "geq-TedN50BA"
      },
      "execution_count": null,
      "outputs": []
    },
    {
      "cell_type": "markdown",
      "source": [
        "### Fairness"
      ],
      "metadata": {
        "id": "dkOKjhBEuWWU"
      }
    },
    {
      "cell_type": "code",
      "source": [
        "\n",
        "# Function to evaluate factuality (Faithfulness)\n",
        "def evaluate_factuality(original_text, generated_summary):\n",
        "    response = client.chat.completions.create(\n",
        "        model=latest_model,\n",
        "        messages=[\n",
        "            {\"role\": \"system\", \"content\": 'אתה מומחה משפטי. דרג את מידת הנאמנות של התקציר לפסק הדין המקורי בסולם של 1-5, כאשר 5 הוא הנאמנות הגבוהה ביותר.'},\n",
        "            {\"role\": \"user\", \"content\": f\"פסק דין: {original_text}\\n\\nסיכום: {generated_summary}\\n\\nעד כמה הסיכום מדויק ונאמן למקור?\"}\n",
        "        ]\n",
        "    )\n",
        "\n",
        "    return response.choices[0].message.content\n",
        "\n",
        "# Evaluate on test data\n",
        "for i, case in enumerate(test_data[:5]):  # Running on the first 5 cases\n",
        "    original_text = case[\"messages\"][1][\"content\"]\n",
        "    generated_summary = case[\"messages\"][2][\"content\"]\n",
        "\n",
        "    faithfulness_score = evaluate_factuality(original_text, generated_summary)\n",
        "\n",
        "    print(f\"Case {i+1}:\")\n",
        "    print(\"Original Judgment:\", original_text)\n",
        "    print(\"Generated Summary:\", generated_summary)\n",
        "    print(\"Faithfulness Score:\", faithfulness_score)\n",
        "    print(\"-------------------------------------------------\")\n"
      ],
      "metadata": {
        "id": "zCHXUvfh7nbb"
      },
      "execution_count": null,
      "outputs": []
    },
    {
      "cell_type": "markdown",
      "source": [
        "המודל לא מוסיף או משנה מידע קריטי.\n",
        "\n",
        "שיפור אפשרי -\n",
        "1. הוספת PENALTY למודל על השמטה של מידע מהותי. למשל אם הערעור מתקבל חלקית והמודל טוען שנדחה לגמרי.\n",
        "2. חיבור לRAG - כדי למנוע עוד טעויות (מאגר משפטי נוסף)"
      ],
      "metadata": {
        "id": "mOR-g9qg6dux"
      }
    },
    {
      "cell_type": "markdown",
      "source": [
        "### Bias"
      ],
      "metadata": {
        "id": "avLNRRMguxps"
      }
    },
    {
      "cell_type": "code",
      "source": [
        "import shap\n",
        "\n",
        "# Function to check SHAP (explainability)\n",
        "def explain_shap(case_text):\n",
        "    explainer = shap.Explainer(client.chat.completions.create)\n",
        "    shap_values = explainer([case_text])\n",
        "    return shap_values\n",
        "\n",
        "# Function to check Counterfactual Fairness\n",
        "def check_bias(input_text, changed_text):\n",
        "    response_base = client.chat.completions.create(\n",
        "        model=latest_model,\n",
        "        messages=[{\"role\": \"user\", \"content\": input_text}]\n",
        "    )\n",
        "\n",
        "    response_changed = client.chat.completions.create(\n",
        "        model=latest_model,\n",
        "        messages=[{\"role\": \"user\", \"content\": changed_text}]\n",
        "    )\n",
        "\n",
        "    return response_base.choices[0].message.content == response_changed.choices[0].message.content\n",
        "\n",
        "# Running Bias & Fairness Checks on Test Data\n",
        "for i, case in enumerate(test_data[:5]):\n",
        "    original_text = case[\"messages\"][1][\"content\"]\n",
        "    modified_text = original_text.replace(\"השופט\", \"השופטת\")  # Small gender swap for bias testing\n",
        "\n",
        "    bias_detected = check_bias(original_text, modified_text)\n",
        "\n",
        "    print(f\"Case {i+1}:\")\n",
        "    print(\"Original Judgment:\", original_text)\n",
        "    print(\"Modified Judgment:\", modified_text)\n",
        "    print(f\"Bias Detected (Counterfactual Fairness Check): {bias_detected}\")\n",
        "    print(\"-------------------------------------------------\")\n"
      ],
      "metadata": {
        "id": "xtz_uNBou0JI"
      },
      "execution_count": null,
      "outputs": []
    },
    {
      "cell_type": "markdown",
      "source": [
        "ב4 מתוך 5 מקרים לא היתה הטיה מגדרית."
      ],
      "metadata": {
        "id": "Gz0jnUCNzBpZ"
      }
    },
    {
      "cell_type": "code",
      "source": [],
      "metadata": {
        "id": "l7jmE17j8jXp"
      },
      "execution_count": null,
      "outputs": []
    },
    {
      "cell_type": "code",
      "source": [
        "\n",
        "# Function to check bias\n",
        "def check_bias(model_name, input_text, changed_feature):\n",
        "    response1 = client.chat.completions.create(\n",
        "        model=model_name,\n",
        "        messages=[{\"role\": \"system\", \"content\": \"אתה מומחה משפטי לניתוח פסקי דין\"},\n",
        "                  {\"role\": \"user\", \"content\": input_text}]\n",
        "    )\n",
        "\n",
        "    response2 = client.chat.completions.create(\n",
        "        model=model_name,\n",
        "        messages=[{\"role\": \"system\", \"content\": \"אתה מומחה משפטי לניתוח פסקי דין\"},\n",
        "                  {\"role\": \"user\", \"content\": changed_feature}]\n",
        "    )\n",
        "\n",
        "    return response1.choices[0].message.content == response2.choices[0].message.content\n",
        "\n",
        "input_text = \"השופט גבריאל פסל את הערעור.\"\n",
        "changed_text = \"השופטת גבריאלה פסלה את הערעור.\"\n",
        "\n",
        "bias_detected = check_bias(latest_model, input_text, changed_text)\n",
        "print(f\"Bias Detected: {bias_detected}\")\n"
      ],
      "metadata": {
        "id": "zlnapDQNzM8i"
      },
      "execution_count": null,
      "outputs": []
    },
    {
      "cell_type": "markdown",
      "source": [
        "#### בדיקה אם יש Bias בטקסטים המקוריים"
      ],
      "metadata": {
        "id": "4whyfl-s3VZs"
      }
    },
    {
      "cell_type": "code",
      "source": [
        "def check_bias_in_original_data(df):\n",
        "    male_terms = [\"השופט\", \"התובע\", \"הנאשם\", \"העותר\"]\n",
        "    female_terms = [\"השופטת\", \"התובעת\", \"הנאשמת\", \"העותרת\"]\n",
        "\n",
        "    male_count = sum(df[\"גוף המסמך חתוך\"].str.count('|'.join(male_terms)))\n",
        "    female_count = sum(df[\"גוף המסמך חתוך\"].str.count('|'.join(female_terms)))\n",
        "\n",
        "    return {\"Male Count\": male_count, \"Female Count\": female_count, \"Bias Ratio\": male_count / (female_count + 1)}\n",
        "\n",
        "bias_in_data = check_bias_in_original_data(df)\n",
        "print(\"Bias in Original Data:\", bias_in_data)\n"
      ],
      "metadata": {
        "id": "vV1cHqHP3TOj"
      },
      "execution_count": null,
      "outputs": []
    },
    {
      "cell_type": "markdown",
      "source": [
        "יש הטייה בנתוני המקור.\n",
        "1. Data Augmentation\n",
        "2. UnderSamling\n",
        "3. Regulariation"
      ],
      "metadata": {
        "id": "pICzSzDu8F0h"
      }
    },
    {
      "cell_type": "markdown",
      "source": [
        "#### האם המודל מחמיר את ההטיה הקיימת"
      ],
      "metadata": {
        "id": "rCuMwzHU3d0e"
      }
    },
    {
      "cell_type": "code",
      "source": [
        "def check_bias_in_model(model_name, input_text_male, input_text_female):\n",
        "    response_male = client.chat.completions.create(\n",
        "        model=model_name,\n",
        "        messages=[{\"role\": \"system\", \"content\": \"סכם את פסק הדין בקצרה.\"},\n",
        "                  {\"role\": \"user\", \"content\": input_text_male}]\n",
        "    ).choices[0].message.content\n",
        "\n",
        "    response_female = client.chat.completions.create(\n",
        "        model=model_name,\n",
        "        messages=[{\"role\": \"system\", \"content\": \"סכם את פסק הדין בקצרה.\"},\n",
        "                  {\"role\": \"user\", \"content\": input_text_female}]\n",
        "    ).choices[0].message.content\n",
        "\n",
        "    return {\"Male Output\": response_male, \"Female Output\": response_female}\n",
        "\n",
        "bias_in_model = check_bias_in_model(latest_model, input_text, changed_text)\n",
        "print(\"Bias in Model:\", bias_in_model)\n"
      ],
      "metadata": {
        "id": "-1CPmfqk05Br"
      },
      "execution_count": null,
      "outputs": []
    },
    {
      "cell_type": "markdown",
      "source": [
        "מסקנה -\n",
        "\n",
        "אין הטיה מגדרית מבחינת מונחים כלליים (השופט - השופטת)\n",
        "\n",
        "אבל - יש השפעה של שמות ספציפיים מה שמרמז על BIAS בנתונים המקוריים.\n"
      ],
      "metadata": {
        "id": "lzTU1goY9uGW"
      }
    },
    {
      "cell_type": "code",
      "source": [
        "df.columns"
      ],
      "metadata": {
        "id": "-KFwRZTO9-B2"
      },
      "execution_count": null,
      "outputs": []
    },
    {
      "cell_type": "markdown",
      "source": [
        "### FactScore\n",
        "מדד לשימור משמעות משפטית"
      ],
      "metadata": {
        "id": "XOE5hiVp05cE"
      }
    },
    {
      "cell_type": "code",
      "source": [
        "def evaluate_factscore_smart(model_name, original_text, generated_summary):\n",
        "    response = client.chat.completions.create(\n",
        "        model=model_name,\n",
        "        messages=[{\"role\": \"system\", \"content\": \"אתה מומחה משפטי. האם הסיכום הבא תואם להחלטת פסק הדין? התייחס למשמעות המשפטית ולא רק לניסוח מילולי.\"},\n",
        "                  {\"role\": \"user\", \"content\": f\"טקסט מקורי: {original_text}\\nסיכום: {generated_summary}\\nהאם הסיכום נאמן למשמעות של פסק הדין?\"}]\n",
        "    )\n",
        "    return response.choices[0].message.content\n",
        "\n",
        "factscore_result = evaluate_factscore_smart(latest_model, original_text, generated_summary)\n",
        "print(f\"FactScore Evaluation (Smart): {factscore_result}\")\n"
      ],
      "metadata": {
        "id": "giUhDlvN09aT"
      },
      "execution_count": null,
      "outputs": []
    },
    {
      "cell_type": "code",
      "source": [
        "original_text"
      ],
      "metadata": {
        "id": "CeoBOONa4FJy"
      },
      "execution_count": null,
      "outputs": []
    },
    {
      "cell_type": "code",
      "source": [
        "generated_summary"
      ],
      "metadata": {
        "id": "1IrXohx74IVG"
      },
      "execution_count": null,
      "outputs": []
    },
    {
      "cell_type": "markdown",
      "source": [
        "תוצאה - המודל משמר את המשמעות המשפטית של ההחלטה המקורית ונאמן למקור\n",
        "\n",
        "שיפורים לבדיקות\n",
        "1.   Edge cases\n",
        "\n"
      ],
      "metadata": {
        "id": "cd__qsKG7dOm"
      }
    },
    {
      "cell_type": "markdown",
      "source": [
        "### Attributable Generation"
      ],
      "metadata": {
        "id": "PrSerzS71H8A"
      }
    },
    {
      "cell_type": "markdown",
      "source": [
        "בדיקת בעיית Hallucination"
      ],
      "metadata": {
        "id": "XN2klCnj7vf2"
      }
    },
    {
      "cell_type": "code",
      "source": [
        "def check_attributable_generation_smart(model_name, original_text, generated_summary):\n",
        "    response = client.chat.completions.create(\n",
        "        model=model_name,\n",
        "        messages=[{\"role\": \"system\", \"content\": \"האם הסיכום הבא מתבסס על החלטות משפטיות קודמות, או שהוא מכיל מידע מומצא שלא נתמך בטקסט?\"},\n",
        "                  {\"role\": \"user\", \"content\": f\"טקסט מקורי: {original_text}\\nסיכום: {generated_summary}\\nהאם הסיכום מתבסס על מידע משפטי קיים?\"}]\n",
        "    )\n",
        "    return response.choices[0].message.content\n",
        "\n",
        "attribution_score = check_attributable_generation_smart(latest_model, original_text, generated_summary)\n",
        "print(f\"Attributable Generation Score (Smart): {attribution_score}\")\n"
      ],
      "metadata": {
        "id": "iCGcg2G81FVM"
      },
      "execution_count": null,
      "outputs": []
    },
    {
      "cell_type": "markdown",
      "source": [
        "### Promt engineering vs Fine tuning"
      ],
      "metadata": {
        "id": "1g7Slv5uvaup"
      }
    },
    {
      "cell_type": "code",
      "source": [
        "\n",
        "# Function for Prompt Engineering Approach\n",
        "def prompt_engineering_example(query):\n",
        "    engineered_prompt = f\"אתה מומחה משפטי. סכם את פסק הדין הבא בקצרה:\\n\\n{query}\"\n",
        "    response = client.chat.completions.create(\n",
        "        model=\"gpt-3.5-turbo-0125\",\n",
        "        messages=[{\"role\": \"user\", \"content\": engineered_prompt}]\n",
        "    )\n",
        "    return response.choices[0].message.content\n",
        "\n",
        "# Function for Fine-Tuning Approach\n",
        "def fine_tuning_example(query):\n",
        "    response = client.chat.completions.create(\n",
        "        model= latest_model,\n",
        "        messages=[{\"role\": \"user\", \"content\": query}]\n",
        "    )\n",
        "    return response.choices[0].message.content\n",
        "\n",
        "# Running the test on real cases\n",
        "for i, case in enumerate(test_data[:5]):\n",
        "    original_text = case[\"messages\"][1][\"content\"]\n",
        "\n",
        "    prompt_result = prompt_engineering_example(original_text)\n",
        "    fine_tuned_result = fine_tuning_example(original_text)\n",
        "\n",
        "    print(f\"Case {i+1}:\")\n",
        "    print(\"Original Judgment:\", original_text)\n",
        "    print(\"\\n📌 Prompt Engineering Result:\", prompt_result)\n",
        "    print(\"\\n📌 Fine-Tuning Result:\", fine_tuned_result)\n",
        "    print(\"-------------------------------------------------\")\n"
      ],
      "metadata": {
        "id": "9FQ2gbaJvhXM"
      },
      "execution_count": null,
      "outputs": []
    },
    {
      "cell_type": "markdown",
      "source": [
        "# Compare models"
      ],
      "metadata": {
        "id": "DjKF2l4C7n6J"
      }
    },
    {
      "cell_type": "code",
      "source": [
        "import shutil"
      ],
      "metadata": {
        "id": "F-B6-wfaGJts"
      },
      "execution_count": null,
      "outputs": []
    },
    {
      "cell_type": "code",
      "source": [
        "\n",
        "client = openai.OpenAI(api_key=userdata.get('open_ai_key'))\n",
        "\n",
        "train_file = client.files.create(\n",
        "    file=open(\"train.jsonl\", \"rb\"),\n",
        "    purpose=\"fine-tune\"\n",
        ")\n",
        "\n",
        "# print(\"Train File ID:\", train_file.id)"
      ],
      "metadata": {
        "id": "B_3rtPbxB6HH"
      },
      "execution_count": null,
      "outputs": []
    },
    {
      "cell_type": "code",
      "source": [
        "\n",
        "def generate_summary_gpt3(case_text):\n",
        "    response = client.chat.completions.create(\n",
        "        model=lates_model,\n",
        "        messages=[\n",
        "            {\"role\": \"system\", \"content\": \"אתה עוזר משפטי המסכם פסקי דין.\"},\n",
        "            {\"role\": \"user\", \"content\": case_text}\n",
        "        ]\n",
        "    )\n",
        "    return response.choices[0].message.content\n",
        "\n"
      ],
      "metadata": {
        "id": "VkQN9Vr38TEL"
      },
      "execution_count": null,
      "outputs": []
    },
    {
      "cell_type": "code",
      "source": [
        "def generate_summary_llama2(case_text):\n",
        "    prompt = (\n",
        "        f\"{case_text}\\n\\n\"\n",
        "        \"### Task: Summarize the court ruling in one sentence.\\n\"\n",
        "        \"Summary:\"\n",
        "    )\n",
        "    input_ids = tokenizer(prompt, return_tensors=\"pt\").input_ids.to(\"cuda\")\n",
        "    output = model.generate(input_ids, max_new_tokens=50)\n",
        "    return tokenizer.decode(output[0], skip_special_tokens=True).strip()\n"
      ],
      "metadata": {
        "id": "njGD9Try9TVd"
      },
      "execution_count": null,
      "outputs": []
    },
    {
      "cell_type": "code",
      "source": [
        "from nltk.translate.bleu_score import sentence_bleu\n",
        "from rouge import Rouge\n",
        "\n",
        "# 📌 פונקציה להשוואת ביצועים בין המודלים\n",
        "def compare_models(original_text, human_summary):\n",
        "    gpt_summary = generate_summary_gpt3(original_text)  #  GPT-3.5\n",
        "    llama_summary = generate_summary_llama2(original_text)  #  Llama 2\n",
        "\n",
        "    bleu_gpt = sentence_bleu([human_summary.split()], gpt_summary.split())\n",
        "    bleu_llama = sentence_bleu([human_summary.split()], llama_summary.split())\n",
        "\n",
        "    rouge = Rouge()\n",
        "    rouge_gpt = rouge.get_scores(gpt_summary, human_summary)[0][\"rouge-l\"][\"f\"]\n",
        "    rouge_llama = rouge.get_scores(llama_summary, human_summary)[0][\"rouge-l\"][\"f\"]\n",
        "\n",
        "    print(f\"📌 BLEU GPT-3.5: {bleu_gpt:.4f}, BLEU Llama-2: {bleu_llama:.4f}\")\n",
        "    print(f\"📌 ROUGE GPT-3.5: {rouge_gpt:.4f}, ROUGE Llama-2: {rouge_llama:.4f}\")\n",
        "\n",
        "    return gpt_summary, llama_summary\n",
        "\n",
        "# 📌 הרצת השוואה לדוגמה\n",
        "original_case = dataset[\"valid\"][0][\"messages\"][1][\"content\"]\n",
        "human_summary = dataset[\"valid\"][0][\"messages\"][2][\"content\"]\n",
        "\n",
        "gpt_output, llama_output = compare_models(original_case, human_summary)\n",
        "\n",
        "print( gpt_output)\n",
        "print(llama_output)\n"
      ],
      "metadata": {
        "id": "LcYa9cSaCXXn"
      },
      "execution_count": null,
      "outputs": []
    }
  ]
}