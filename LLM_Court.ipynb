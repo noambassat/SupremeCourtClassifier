{
  "nbformat": 4,
  "nbformat_minor": 0,
  "metadata": {
    "colab": {
      "provenance": [],
      "machine_shape": "hm",
      "gpuType": "T4",
      "cell_execution_strategy": "setup",
      "authorship_tag": "ABX9TyNi1YquBsEnrGPyvC4MbBvB",
      "include_colab_link": true
    },
    "kernelspec": {
      "name": "python3",
      "display_name": "Python 3"
    },
    "language_info": {
      "name": "python"
    },
    "accelerator": "GPU"
  },
  "cells": [
    {
      "cell_type": "markdown",
      "metadata": {
        "id": "view-in-github",
        "colab_type": "text"
      },
      "source": [
        "<a href=\"https://colab.research.google.com/github/noambassat/SupremeCourtClassifier/blob/main/LLM_Court.ipynb\" target=\"_parent\"><img src=\"https://colab.research.google.com/assets/colab-badge.svg\" alt=\"Open In Colab\"/></a>"
      ]
    },
    {
      "cell_type": "code",
      "execution_count": 3,
      "metadata": {
        "id": "vvVtg-CzCG2y"
      },
      "outputs": [],
      "source": [
        "import matplotlib.pyplot as plt\n",
        "import torch\n",
        "import joblib\n",
        "import os\n",
        "import numpy as np\n",
        "import pandas as pd\n",
        "import matplotlib.pyplot as plt\n",
        "from google.colab import drive\n",
        "import time\n",
        "import re\n",
        "import openai\n",
        "import json\n",
        "from sklearn.model_selection import train_test_split\n",
        "import ast"
      ]
    },
    {
      "cell_type": "code",
      "source": [
        "\n",
        "drive.mount('/content/drive')\n"
      ],
      "metadata": {
        "colab": {
          "base_uri": "https://localhost:8080/"
        },
        "id": "rUu4l0zkFPox",
        "outputId": "1591875a-7339-403c-be9b-b1f1e945bddc"
      },
      "execution_count": 4,
      "outputs": [
        {
          "output_type": "stream",
          "name": "stdout",
          "text": [
            "Mounted at /content/drive\n"
          ]
        }
      ]
    },
    {
      "cell_type": "code",
      "source": [
        "\n",
        "folder_id = \"בית המשפט - קבצים שנבדקו\"\n",
        "directory_path = f\"/content/drive/My Drive/{folder_id}\"\n",
        "classifiers_path = \"/content/drive/MyDrive/בית המשפט - מסווגים/\"\n",
        "\n",
        "if not os.path.exists(directory_path):\n",
        "    print(f\"Directory {directory_path} does not exist. Please check the folder path.\")\n",
        "else:\n",
        "    dataframes = []\n",
        "\n",
        "    for file_name in os.listdir(directory_path):\n",
        "        if file_name.endswith(\".xlsx\") or file_name.endswith(\".xls\"):\n",
        "            file_path = os.path.join(directory_path, file_name)\n",
        "            try:\n",
        "                df = pd.read_excel(file_path)\n",
        "                dataframes.append(df)\n",
        "            except Exception as e:\n",
        "                print(f\"Failed to read {file_name}: {e}\")\n",
        "\n",
        "    if dataframes:\n",
        "        combined_df = pd.concat(dataframes, ignore_index=True)\n",
        "        print(\"All Excel files have been concatenated successfully!\")"
      ],
      "metadata": {
        "colab": {
          "base_uri": "https://localhost:8080/"
        },
        "id": "7-8rCVEjDjXf",
        "outputId": "665f792b-e578-4a85-9bdf-f3acc82d40ea"
      },
      "execution_count": 5,
      "outputs": [
        {
          "output_type": "stream",
          "name": "stderr",
          "text": [
            "/usr/local/lib/python3.11/dist-packages/openpyxl/worksheet/_reader.py:329: UserWarning: Data Validation extension is not supported and will be removed\n",
            "  warn(msg)\n",
            "/usr/local/lib/python3.11/dist-packages/openpyxl/worksheet/_reader.py:329: UserWarning: Data Validation extension is not supported and will be removed\n",
            "  warn(msg)\n",
            "/usr/local/lib/python3.11/dist-packages/openpyxl/worksheet/_reader.py:329: UserWarning: Data Validation extension is not supported and will be removed\n",
            "  warn(msg)\n",
            "/usr/local/lib/python3.11/dist-packages/openpyxl/worksheet/_reader.py:329: UserWarning: Data Validation extension is not supported and will be removed\n",
            "  warn(msg)\n"
          ]
        },
        {
          "output_type": "stream",
          "name": "stdout",
          "text": [
            "All Excel files have been concatenated successfully!\n"
          ]
        }
      ]
    },
    {
      "cell_type": "code",
      "source": [
        "full_ra_rap = pd.read_excel(\"/content/drive/My Drive/full_ra_rap.xlsx\")"
      ],
      "metadata": {
        "id": "ysV94PcW_8Ol"
      },
      "execution_count": 6,
      "outputs": []
    },
    {
      "cell_type": "code",
      "source": [
        "check_gender_bias = pd.concat([dataframes[0], dataframes[1], dataframes[2]])\n",
        "check_gender_bias = pd.merge(full_ra_rap, check_gender_bias, on='מספר הליך', how='right')\n",
        "check_gender_bias.drop_duplicates(subset = 'מספר הליך',inplace = True)\n",
        "check_gender_bias.dropna(subset = [\"בקשה לרשות ערעור התקבלה?\"],inplace=True)"
      ],
      "metadata": {
        "id": "ZsdLraC9_0iM"
      },
      "execution_count": 26,
      "outputs": []
    },
    {
      "cell_type": "code",
      "source": [
        "for col in check_gender_bias.columns:\n",
        "    if(col.find(\"מגדר\")!=-1 or col.find(\"ערעור\")!=-1):\n",
        "      print(col)"
      ],
      "metadata": {
        "colab": {
          "base_uri": "https://localhost:8080/"
        },
        "id": "FljLeZkhB5yE",
        "outputId": "f9a9e176-de5a-4c30-870d-6cd9384d8568"
      },
      "execution_count": 27,
      "outputs": [
        {
          "output_type": "stream",
          "name": "stdout",
          "text": [
            "מגדר\n",
            "בקשה לרשות ערעור התקבלה?\n",
            "הערעור התקבל?\n",
            "הערות תוצאת ערעור\n",
            "prediction_adjusted_threshold\n",
            "בקשת רשות ערעור התקבלה?\n",
            "prediction_second_model_adjusted\n",
            "ערעור התקבל?\n"
          ]
        }
      ]
    },
    {
      "cell_type": "code",
      "source": [
        "check_gender_bias[[\"בקשה לרשות ערעור התקבלה?\",\"מגדר\"]]"
      ],
      "metadata": {
        "colab": {
          "base_uri": "https://localhost:8080/",
          "height": 423
        },
        "id": "tczUJbPLCHcA",
        "outputId": "eb013298-3f22-45bc-8051-bb8934b805ba"
      },
      "execution_count": 28,
      "outputs": [
        {
          "output_type": "execute_result",
          "data": {
            "text/plain": [
              "     בקשה לרשות ערעור התקבלה?                   מגדר\n",
              "0                        נדחה                ['זכר']\n",
              "1                        נדחה                ['זכר']\n",
              "3                       התקבל  ['זכר', 'זכר', 'זכר']\n",
              "5                        נדחה                ['זכר']\n",
              "6                        נדחה                ['זכר']\n",
              "...                       ...                    ...\n",
              "5455                     נדחה                ['זכר']\n",
              "5474                     נדחה                ['זכר']\n",
              "5592                     נדחה                ['זכר']\n",
              "5606                     נדחה                ['זכר']\n",
              "5739                     נדחה                ['זכר']\n",
              "\n",
              "[702 rows x 2 columns]"
            ],
            "text/html": [
              "\n",
              "  <div id=\"df-b39d114b-eeef-4f2c-b384-ffe7fc3283a3\" class=\"colab-df-container\">\n",
              "    <div>\n",
              "<style scoped>\n",
              "    .dataframe tbody tr th:only-of-type {\n",
              "        vertical-align: middle;\n",
              "    }\n",
              "\n",
              "    .dataframe tbody tr th {\n",
              "        vertical-align: top;\n",
              "    }\n",
              "\n",
              "    .dataframe thead th {\n",
              "        text-align: right;\n",
              "    }\n",
              "</style>\n",
              "<table border=\"1\" class=\"dataframe\">\n",
              "  <thead>\n",
              "    <tr style=\"text-align: right;\">\n",
              "      <th></th>\n",
              "      <th>בקשה לרשות ערעור התקבלה?</th>\n",
              "      <th>מגדר</th>\n",
              "    </tr>\n",
              "  </thead>\n",
              "  <tbody>\n",
              "    <tr>\n",
              "      <th>0</th>\n",
              "      <td>נדחה</td>\n",
              "      <td>['זכר']</td>\n",
              "    </tr>\n",
              "    <tr>\n",
              "      <th>1</th>\n",
              "      <td>נדחה</td>\n",
              "      <td>['זכר']</td>\n",
              "    </tr>\n",
              "    <tr>\n",
              "      <th>3</th>\n",
              "      <td>התקבל</td>\n",
              "      <td>['זכר', 'זכר', 'זכר']</td>\n",
              "    </tr>\n",
              "    <tr>\n",
              "      <th>5</th>\n",
              "      <td>נדחה</td>\n",
              "      <td>['זכר']</td>\n",
              "    </tr>\n",
              "    <tr>\n",
              "      <th>6</th>\n",
              "      <td>נדחה</td>\n",
              "      <td>['זכר']</td>\n",
              "    </tr>\n",
              "    <tr>\n",
              "      <th>...</th>\n",
              "      <td>...</td>\n",
              "      <td>...</td>\n",
              "    </tr>\n",
              "    <tr>\n",
              "      <th>5455</th>\n",
              "      <td>נדחה</td>\n",
              "      <td>['זכר']</td>\n",
              "    </tr>\n",
              "    <tr>\n",
              "      <th>5474</th>\n",
              "      <td>נדחה</td>\n",
              "      <td>['זכר']</td>\n",
              "    </tr>\n",
              "    <tr>\n",
              "      <th>5592</th>\n",
              "      <td>נדחה</td>\n",
              "      <td>['זכר']</td>\n",
              "    </tr>\n",
              "    <tr>\n",
              "      <th>5606</th>\n",
              "      <td>נדחה</td>\n",
              "      <td>['זכר']</td>\n",
              "    </tr>\n",
              "    <tr>\n",
              "      <th>5739</th>\n",
              "      <td>נדחה</td>\n",
              "      <td>['זכר']</td>\n",
              "    </tr>\n",
              "  </tbody>\n",
              "</table>\n",
              "<p>702 rows × 2 columns</p>\n",
              "</div>\n",
              "    <div class=\"colab-df-buttons\">\n",
              "\n",
              "  <div class=\"colab-df-container\">\n",
              "    <button class=\"colab-df-convert\" onclick=\"convertToInteractive('df-b39d114b-eeef-4f2c-b384-ffe7fc3283a3')\"\n",
              "            title=\"Convert this dataframe to an interactive table.\"\n",
              "            style=\"display:none;\">\n",
              "\n",
              "  <svg xmlns=\"http://www.w3.org/2000/svg\" height=\"24px\" viewBox=\"0 -960 960 960\">\n",
              "    <path d=\"M120-120v-720h720v720H120Zm60-500h600v-160H180v160Zm220 220h160v-160H400v160Zm0 220h160v-160H400v160ZM180-400h160v-160H180v160Zm440 0h160v-160H620v160ZM180-180h160v-160H180v160Zm440 0h160v-160H620v160Z\"/>\n",
              "  </svg>\n",
              "    </button>\n",
              "\n",
              "  <style>\n",
              "    .colab-df-container {\n",
              "      display:flex;\n",
              "      gap: 12px;\n",
              "    }\n",
              "\n",
              "    .colab-df-convert {\n",
              "      background-color: #E8F0FE;\n",
              "      border: none;\n",
              "      border-radius: 50%;\n",
              "      cursor: pointer;\n",
              "      display: none;\n",
              "      fill: #1967D2;\n",
              "      height: 32px;\n",
              "      padding: 0 0 0 0;\n",
              "      width: 32px;\n",
              "    }\n",
              "\n",
              "    .colab-df-convert:hover {\n",
              "      background-color: #E2EBFA;\n",
              "      box-shadow: 0px 1px 2px rgba(60, 64, 67, 0.3), 0px 1px 3px 1px rgba(60, 64, 67, 0.15);\n",
              "      fill: #174EA6;\n",
              "    }\n",
              "\n",
              "    .colab-df-buttons div {\n",
              "      margin-bottom: 4px;\n",
              "    }\n",
              "\n",
              "    [theme=dark] .colab-df-convert {\n",
              "      background-color: #3B4455;\n",
              "      fill: #D2E3FC;\n",
              "    }\n",
              "\n",
              "    [theme=dark] .colab-df-convert:hover {\n",
              "      background-color: #434B5C;\n",
              "      box-shadow: 0px 1px 3px 1px rgba(0, 0, 0, 0.15);\n",
              "      filter: drop-shadow(0px 1px 2px rgba(0, 0, 0, 0.3));\n",
              "      fill: #FFFFFF;\n",
              "    }\n",
              "  </style>\n",
              "\n",
              "    <script>\n",
              "      const buttonEl =\n",
              "        document.querySelector('#df-b39d114b-eeef-4f2c-b384-ffe7fc3283a3 button.colab-df-convert');\n",
              "      buttonEl.style.display =\n",
              "        google.colab.kernel.accessAllowed ? 'block' : 'none';\n",
              "\n",
              "      async function convertToInteractive(key) {\n",
              "        const element = document.querySelector('#df-b39d114b-eeef-4f2c-b384-ffe7fc3283a3');\n",
              "        const dataTable =\n",
              "          await google.colab.kernel.invokeFunction('convertToInteractive',\n",
              "                                                    [key], {});\n",
              "        if (!dataTable) return;\n",
              "\n",
              "        const docLinkHtml = 'Like what you see? Visit the ' +\n",
              "          '<a target=\"_blank\" href=https://colab.research.google.com/notebooks/data_table.ipynb>data table notebook</a>'\n",
              "          + ' to learn more about interactive tables.';\n",
              "        element.innerHTML = '';\n",
              "        dataTable['output_type'] = 'display_data';\n",
              "        await google.colab.output.renderOutput(dataTable, element);\n",
              "        const docLink = document.createElement('div');\n",
              "        docLink.innerHTML = docLinkHtml;\n",
              "        element.appendChild(docLink);\n",
              "      }\n",
              "    </script>\n",
              "  </div>\n",
              "\n",
              "\n",
              "<div id=\"df-06470f07-bc69-4cf6-b0ac-be47f781212b\">\n",
              "  <button class=\"colab-df-quickchart\" onclick=\"quickchart('df-06470f07-bc69-4cf6-b0ac-be47f781212b')\"\n",
              "            title=\"Suggest charts\"\n",
              "            style=\"display:none;\">\n",
              "\n",
              "<svg xmlns=\"http://www.w3.org/2000/svg\" height=\"24px\"viewBox=\"0 0 24 24\"\n",
              "     width=\"24px\">\n",
              "    <g>\n",
              "        <path d=\"M19 3H5c-1.1 0-2 .9-2 2v14c0 1.1.9 2 2 2h14c1.1 0 2-.9 2-2V5c0-1.1-.9-2-2-2zM9 17H7v-7h2v7zm4 0h-2V7h2v10zm4 0h-2v-4h2v4z\"/>\n",
              "    </g>\n",
              "</svg>\n",
              "  </button>\n",
              "\n",
              "<style>\n",
              "  .colab-df-quickchart {\n",
              "      --bg-color: #E8F0FE;\n",
              "      --fill-color: #1967D2;\n",
              "      --hover-bg-color: #E2EBFA;\n",
              "      --hover-fill-color: #174EA6;\n",
              "      --disabled-fill-color: #AAA;\n",
              "      --disabled-bg-color: #DDD;\n",
              "  }\n",
              "\n",
              "  [theme=dark] .colab-df-quickchart {\n",
              "      --bg-color: #3B4455;\n",
              "      --fill-color: #D2E3FC;\n",
              "      --hover-bg-color: #434B5C;\n",
              "      --hover-fill-color: #FFFFFF;\n",
              "      --disabled-bg-color: #3B4455;\n",
              "      --disabled-fill-color: #666;\n",
              "  }\n",
              "\n",
              "  .colab-df-quickchart {\n",
              "    background-color: var(--bg-color);\n",
              "    border: none;\n",
              "    border-radius: 50%;\n",
              "    cursor: pointer;\n",
              "    display: none;\n",
              "    fill: var(--fill-color);\n",
              "    height: 32px;\n",
              "    padding: 0;\n",
              "    width: 32px;\n",
              "  }\n",
              "\n",
              "  .colab-df-quickchart:hover {\n",
              "    background-color: var(--hover-bg-color);\n",
              "    box-shadow: 0 1px 2px rgba(60, 64, 67, 0.3), 0 1px 3px 1px rgba(60, 64, 67, 0.15);\n",
              "    fill: var(--button-hover-fill-color);\n",
              "  }\n",
              "\n",
              "  .colab-df-quickchart-complete:disabled,\n",
              "  .colab-df-quickchart-complete:disabled:hover {\n",
              "    background-color: var(--disabled-bg-color);\n",
              "    fill: var(--disabled-fill-color);\n",
              "    box-shadow: none;\n",
              "  }\n",
              "\n",
              "  .colab-df-spinner {\n",
              "    border: 2px solid var(--fill-color);\n",
              "    border-color: transparent;\n",
              "    border-bottom-color: var(--fill-color);\n",
              "    animation:\n",
              "      spin 1s steps(1) infinite;\n",
              "  }\n",
              "\n",
              "  @keyframes spin {\n",
              "    0% {\n",
              "      border-color: transparent;\n",
              "      border-bottom-color: var(--fill-color);\n",
              "      border-left-color: var(--fill-color);\n",
              "    }\n",
              "    20% {\n",
              "      border-color: transparent;\n",
              "      border-left-color: var(--fill-color);\n",
              "      border-top-color: var(--fill-color);\n",
              "    }\n",
              "    30% {\n",
              "      border-color: transparent;\n",
              "      border-left-color: var(--fill-color);\n",
              "      border-top-color: var(--fill-color);\n",
              "      border-right-color: var(--fill-color);\n",
              "    }\n",
              "    40% {\n",
              "      border-color: transparent;\n",
              "      border-right-color: var(--fill-color);\n",
              "      border-top-color: var(--fill-color);\n",
              "    }\n",
              "    60% {\n",
              "      border-color: transparent;\n",
              "      border-right-color: var(--fill-color);\n",
              "    }\n",
              "    80% {\n",
              "      border-color: transparent;\n",
              "      border-right-color: var(--fill-color);\n",
              "      border-bottom-color: var(--fill-color);\n",
              "    }\n",
              "    90% {\n",
              "      border-color: transparent;\n",
              "      border-bottom-color: var(--fill-color);\n",
              "    }\n",
              "  }\n",
              "</style>\n",
              "\n",
              "  <script>\n",
              "    async function quickchart(key) {\n",
              "      const quickchartButtonEl =\n",
              "        document.querySelector('#' + key + ' button');\n",
              "      quickchartButtonEl.disabled = true;  // To prevent multiple clicks.\n",
              "      quickchartButtonEl.classList.add('colab-df-spinner');\n",
              "      try {\n",
              "        const charts = await google.colab.kernel.invokeFunction(\n",
              "            'suggestCharts', [key], {});\n",
              "      } catch (error) {\n",
              "        console.error('Error during call to suggestCharts:', error);\n",
              "      }\n",
              "      quickchartButtonEl.classList.remove('colab-df-spinner');\n",
              "      quickchartButtonEl.classList.add('colab-df-quickchart-complete');\n",
              "    }\n",
              "    (() => {\n",
              "      let quickchartButtonEl =\n",
              "        document.querySelector('#df-06470f07-bc69-4cf6-b0ac-be47f781212b button');\n",
              "      quickchartButtonEl.style.display =\n",
              "        google.colab.kernel.accessAllowed ? 'block' : 'none';\n",
              "    })();\n",
              "  </script>\n",
              "</div>\n",
              "\n",
              "    </div>\n",
              "  </div>\n"
            ],
            "application/vnd.google.colaboratory.intrinsic+json": {
              "type": "dataframe",
              "summary": "{\n  \"name\": \"check_gender_bias[[\\\"\\u05d1\\u05e7\\u05e9\\u05d4 \\u05dc\\u05e8\\u05e9\\u05d5\\u05ea \\u05e2\\u05e8\\u05e2\\u05d5\\u05e8 \\u05d4\\u05ea\\u05e7\\u05d1\\u05dc\\u05d4?\\\",\\\"\\u05de\\u05d2\\u05d3\\u05e8\\\"]]\",\n  \"rows\": 702,\n  \"fields\": [\n    {\n      \"column\": \"\\u05d1\\u05e7\\u05e9\\u05d4 \\u05dc\\u05e8\\u05e9\\u05d5\\u05ea \\u05e2\\u05e8\\u05e2\\u05d5\\u05e8 \\u05d4\\u05ea\\u05e7\\u05d1\\u05dc\\u05d4?\",\n      \"properties\": {\n        \"dtype\": \"category\",\n        \"num_unique_values\": 4,\n        \"samples\": [\n          \"\\u05d4\\u05ea\\u05e7\\u05d1\\u05dc\",\n          \"\\u05d7\\u05dc\\u05e7\\u05d9\",\n          \"\\u05e0\\u05d3\\u05d7\\u05d4\"\n        ],\n        \"semantic_type\": \"\",\n        \"description\": \"\"\n      }\n    },\n    {\n      \"column\": \"\\u05de\\u05d2\\u05d3\\u05e8\",\n      \"properties\": {\n        \"dtype\": \"category\",\n        \"num_unique_values\": 15,\n        \"samples\": [\n          \"['\\u05e0\\u05e7\\u05d1\\u05d4', '\\u05e0\\u05e7\\u05d1\\u05d4', '\\u05d6\\u05db\\u05e8']\",\n          \"['\\u05d6\\u05db\\u05e8', '\\u05e0\\u05e7\\u05d1\\u05d4']\",\n          \"['\\u05d6\\u05db\\u05e8']\"\n        ],\n        \"semantic_type\": \"\",\n        \"description\": \"\"\n      }\n    }\n  ]\n}"
            }
          },
          "metadata": {},
          "execution_count": 28
        }
      ]
    },
    {
      "cell_type": "code",
      "source": [
        "import pandas as pd\n",
        "import matplotlib.pyplot as plt\n",
        "import seaborn as sns\n",
        "from ast import literal_eval\n",
        "\n",
        "\n",
        "# המרת המחרוזת ברשימת מגדרים למבנה רשימה\n",
        "check_gender_bias[\"מגדר\"] = check_gender_bias[\"מגדר\"].apply(literal_eval)  # ממיר טקסט לרשימה\n",
        "\n",
        "# פונקציה להשטחת הנתונים – כל שופט יקבל שורה משלו\n",
        "def expand_genders(df):\n",
        "    expanded_data = []\n",
        "    for _, row in df.iterrows():\n",
        "        for gender in row[\"מגדר\"]:\n",
        "            expanded_data.append({\"Gender\": gender, \"Appeal Outcome\": row[\"בקשה לרשות ערעור התקבלה?\"]})\n",
        "    return pd.DataFrame(expanded_data)\n",
        "\n",
        "# הרחבת הטבלה\n",
        "df_expanded = expand_genders(check_gender_bias)\n",
        "\n",
        "# ספירת תוצאות הערעור לפי מגדר\n",
        "outcome_counts = df_expanded.groupby([\"Gender\", \"Appeal Outcome\"]).size().unstack().fillna(0)\n",
        "\n",
        "# יצירת גרף התפלגות תוצאות לפי מגדר\n",
        "plt.figure(figsize=(8, 5))\n",
        "outcome_counts.plot(kind=\"bar\", stacked=True)\n",
        "plt.ylabel(\"מספר ערעורים\")\n",
        "plt.title(\"התפלגות תוצאות הערעור לפי מגדר השופט/ת\")\n",
        "plt.xticks(rotation=0)\n",
        "plt.legend(title=\"תוצאת הערעור\")\n",
        "plt.show()\n",
        "\n",
        "# חישוב יחס קבלת ערעור לכל מגדר\n",
        "outcome_counts[\"Total\"] = outcome_counts.sum(axis=1)\n",
        "outcome_counts[\"Acceptance Rate\"] = outcome_counts.get(\"התקבל\", 0) / outcome_counts[\"Total\"]\n",
        "\n",
        "# יצירת גרף של אחוזי קבלת ערעור לפי מגדר\n",
        "plt.figure(figsize=(8, 5))\n",
        "sns.barplot(x=outcome_counts.index, y=outcome_counts[\"Acceptance Rate\"])\n",
        "plt.ylabel(\"שיעור קבלת ערעור\")\n",
        "plt.title(\"שיעור קבלת ערעור לפי מגדר השופט/ת\")\n",
        "plt.ylim(0, 1)\n",
        "plt.show()\n",
        "\n",
        "# הצגת הטבלה עם התוצאות\n",
        "print(outcome_counts)\n"
      ],
      "metadata": {
        "colab": {
          "base_uri": "https://localhost:8080/",
          "height": 1000
        },
        "id": "UiCOhdOnDn7H",
        "outputId": "0808e16f-39da-4ec8-ebe8-8180d8308ff1"
      },
      "execution_count": 33,
      "outputs": [
        {
          "output_type": "display_data",
          "data": {
            "text/plain": [
              "<Figure size 800x500 with 0 Axes>"
            ]
          },
          "metadata": {}
        },
        {
          "output_type": "display_data",
          "data": {
            "text/plain": [
              "<Figure size 640x480 with 1 Axes>"
            ],
            "image/png": "[encoded data removed]"
          },
          "metadata": {}
        },
        {
          "output_type": "display_data",
          "data": {
            "text/plain": [
              "<Figure size 800x500 with 1 Axes>"
            ],
            "image/png": "[encoded data removed]"
          },
          "metadata": {}
        },
        {
          "output_type": "stream",
          "name": "stdout",
          "text": [
            "Appeal Outcome  אחר  התקבל  חלקי  נדחה  Total  Acceptance Rate\n",
            "Gender                                                        \n",
            "זכר             130    346    34   437    947         0.365364\n",
            "נקבה             38    101    11    59    209         0.483254\n"
          ]
        }
      ]
    },
    {
      "cell_type": "code",
      "source": [],
      "metadata": {
        "id": "oD0_v0cYHx7W"
      },
      "execution_count": null,
      "outputs": []
    },
    {
      "cell_type": "markdown",
      "source": [],
      "metadata": {
        "id": "NBZadrvUE0bf"
      }
    },
    {
      "cell_type": "code",
      "source": [],
      "metadata": {
        "colab": {
          "base_uri": "https://localhost:8080/",
          "height": 36
        },
        "id": "oWEkpygnFz8R",
        "outputId": "fb1631ff-ee71-4507-c697-9aee836e22a5"
      },
      "execution_count": 54,
      "outputs": [
        {
          "output_type": "execute_result",
          "data": {
            "text/plain": [
              "'זכר'"
            ],
            "application/vnd.google.colaboratory.intrinsic+json": {
              "type": "string"
            }
          },
          "metadata": {},
          "execution_count": 54
        }
      ]
    },
    {
      "cell_type": "markdown",
      "source": [
        "# Bias - number of Judges"
      ],
      "metadata": {
        "id": "n4HEGAa7HeQZ"
      }
    },
    {
      "cell_type": "code",
      "source": [
        "import pandas as pd\n",
        "import matplotlib.pyplot as plt\n",
        "import seaborn as sns\n",
        "from ast import literal_eval\n",
        "\n",
        "# טעינת הנתונים\n",
        "df = check_gender_bias.copy()\n",
        "\n",
        "# חישוב מספר השופטים בכל תיק\n",
        "df[\"מספר שופטים\"] = df[\"מגדר\"].apply(len)\n",
        "\n",
        "# חלוקת המקרים לשתי קבוצות: שופט יחיד או יותר מאחד\n",
        "df[\"יותר משופט אחד\"] = df[\"מספר שופטים\"] > 1\n",
        "\n",
        "# ספירת המקרים לפי מספר השופטים והאם הערעור התקבל\n",
        "outcome_counts = df.groupby(\"יותר משופט אחד\")[\"בקשה לרשות ערעור התקבלה?\"].value_counts(normalize=True).unstack()\n",
        "\n",
        "# יצירת גרף\n",
        "plt.figure(figsize=(8, 5))\n",
        "outcome_counts.plot(kind=\"bar\", stacked=True)\n",
        "plt.ylabel(\"שיעור הערעורים (%)\")\n",
        "plt.title(\"השפעת מספר השופטים על קבלת הערעור\")\n",
        "plt.xticks([0, 1], [\"שופט אחד\", \"יותר משופט אחד\"], rotation=0)\n",
        "plt.legend(title=\"תוצאת הערעור\")\n",
        "plt.show()\n",
        "\n",
        "# חישוב אחוז קבלת ערעור לפי מספר השופטים\n",
        "acceptance_rate = outcome_counts.get(\"התקבל\", 0)\n",
        "\n",
        "# הדפסת סטטיסטיקה\n",
        "print(\"שיעור קבלת הערעור לפי מספר שופטים:\")\n",
        "print(acceptance_rate)\n"
      ],
      "metadata": {
        "colab": {
          "base_uri": "https://localhost:8080/",
          "height": 581
        },
        "id": "tuLNzfE5BBhg",
        "outputId": "fda0ca28-ec2a-4a6a-a559-cf35cb77ecf4"
      },
      "execution_count": 58,
      "outputs": [
        {
          "output_type": "display_data",
          "data": {
            "text/plain": [
              "<Figure size 800x500 with 0 Axes>"
            ]
          },
          "metadata": {}
        },
        {
          "output_type": "display_data",
          "data": {
            "text/plain": [
              "<Figure size 640x480 with 1 Axes>"
            ],
            "image/png": "[encoded data removed]"
          },
          "metadata": {}
        },
        {
          "output_type": "stream",
          "name": "stdout",
          "text": [
            "שיעור קבלת הערעור לפי מספר שופטים:\n",
            "יותר משופט אחד\n",
            "False    0.065126\n",
            "True     0.606195\n",
            "Name: התקבל, dtype: float64\n"
          ]
        }
      ]
    },
    {
      "cell_type": "code",
      "source": [
        "len(dataframes)"
      ],
      "metadata": {
        "colab": {
          "base_uri": "https://localhost:8080/"
        },
        "id": "cPRCkVSd61os",
        "outputId": "b2ae3083-fcc8-493c-ffe8-0057e1b14958"
      },
      "execution_count": 99,
      "outputs": [
        {
          "output_type": "execute_result",
          "data": {
            "text/plain": [
              "6"
            ]
          },
          "metadata": {},
          "execution_count": 99
        }
      ]
    },
    {
      "cell_type": "code",
      "source": [
        "df_1 = dataframes[0].copy()\n",
        "\n",
        "df_1.columns"
      ],
      "metadata": {
        "colab": {
          "base_uri": "https://localhost:8080/"
        },
        "id": "5Rv2ZUDm8Dk6",
        "outputId": "dfac0e26-d380-4aaf-e611-a94236e9e5c6"
      },
      "execution_count": 100,
      "outputs": [
        {
          "output_type": "execute_result",
          "data": {
            "text/plain": [
              "Index(['level_0', 'index', 'גוף המסמך', 'מספר הליך', 'שם הליך',\n",
              "       'שנת פתיחת ההליך', 'גוף המסמך חתוך', 'predicted_probability',\n",
              "       'prediction_original_model', 'בקשה לרשות ערעור התקבלה?',\n",
              "       'טקסט שמצביע על תוצאת בקשה שונה', 'הערעור התקבל?',\n",
              "       'רע\"פ בקשה אחרת או דלמטה מיוחד', 'קידוד', 'קידוד חוזר', 'הערות ',\n",
              "       'הערות קידוד חוזר'],\n",
              "      dtype='object')"
            ]
          },
          "metadata": {},
          "execution_count": 100
        }
      ]
    },
    {
      "cell_type": "code",
      "source": [
        "df_1 = df_1[['גוף המסמך', 'מספר הליך', 'שם הליך',\n",
        "       'שנת פתיחת ההליך', 'גוף המסמך חתוך',  'בקשה לרשות ערעור התקבלה?',\n",
        "       'טקסט שמצביע על תוצאת בקשה שונה', 'הערעור התקבל?',\n",
        "       'רע\"פ בקשה אחרת או דלמטה מיוחד', 'הערות ',\n",
        "       'הערות קידוד חוזר']]"
      ],
      "metadata": {
        "id": "DY_3qlUc-I43"
      },
      "execution_count": 101,
      "outputs": []
    },
    {
      "cell_type": "code",
      "source": [
        "df_2 = dataframes[1].copy()"
      ],
      "metadata": {
        "id": "uawB3EtE-t8N"
      },
      "execution_count": 102,
      "outputs": []
    },
    {
      "cell_type": "code",
      "source": [
        "df_2 = df_2[['גוף המסמך', 'מספר הליך', 'שם הליך',\n",
        "       'שנת פתיחת ההליך', 'גוף המסמך חתוך',\n",
        "       'בקשה לרשות ערעור התקבלה?',\n",
        "       'טקסט שמצביע על תוצאת בקשה שונה (טקסטים שונים מופרדים ב-**)',\n",
        "       'הערעור התקבל?', 'רע\"פ בקשה אחרת או דלמטה מיוחד',\n",
        "       'הערות תוצאת ערעור', 'הערות ', 'הערות קידוד חוזר']]"
      ],
      "metadata": {
        "id": "JXniQQU3-2Gz"
      },
      "execution_count": 103,
      "outputs": []
    },
    {
      "cell_type": "code",
      "source": [
        "df = pd.concat([df_1, df_2], ignore_index=True)"
      ],
      "metadata": {
        "id": "z0NIHaoM_lDF"
      },
      "execution_count": 104,
      "outputs": []
    },
    {
      "cell_type": "code",
      "source": [
        "df_3 = dataframes[2].copy()"
      ],
      "metadata": {
        "id": "GTp1f9y2_G3l"
      },
      "execution_count": 105,
      "outputs": []
    },
    {
      "cell_type": "code",
      "source": [
        "df_3 = df_3[['גוף המסמך', 'מספר הליך', 'שם הליך',\n",
        "       'שנת פתיחת ההליך',\n",
        "       'בקשה לרשות ערעור התקבלה?',\n",
        "       'טקסט שמצביע על תוצאת בקשה שונה (טקסטים שונים מופרדים ב-**)',\n",
        "       'הערעור התקבל?', 'הערות תוצאת ערעור', 'רע\"פ בקשה אחרת או דלמטה מיוחד', 'הערות ']]"
      ],
      "metadata": {
        "id": "KY4yog2-_usH"
      },
      "execution_count": 106,
      "outputs": []
    },
    {
      "cell_type": "code",
      "source": [
        "df = pd.concat([df, df_3], ignore_index=True)"
      ],
      "metadata": {
        "id": "VVsLDIhj_G71"
      },
      "execution_count": 107,
      "outputs": []
    },
    {
      "cell_type": "code",
      "source": [],
      "metadata": {
        "id": "zmxYCBBC_B2h"
      },
      "execution_count": 107,
      "outputs": []
    },
    {
      "cell_type": "code",
      "source": [
        "columns_to_check = [\n",
        "    \"הערות \",\n",
        "    \"הערות תוצאת ערעור\",\n",
        "    \"הערות קידוד חוזר\",\n",
        "    \"טקסט שמצביע על תוצאת בקשה שונה\",\n",
        "    \"טקסט שמצביע על תוצאת בקשה שונה (טקסטים שונים מופרדים ב-**)\",\n",
        "    \"טקסט שמצביע על תוצאת בקשה שונה (טקסטים שונים מופרדים ב-**)\"\n",
        "]\n",
        "\n",
        "\n",
        "df = df[~df[columns_to_check].isna().all(axis=1)]"
      ],
      "metadata": {
        "id": "HYPwg-TeAoWD"
      },
      "execution_count": 108,
      "outputs": []
    },
    {
      "cell_type": "code",
      "source": [
        "df.shape"
      ],
      "metadata": {
        "colab": {
          "base_uri": "https://localhost:8080/"
        },
        "id": "yBNrZ9ST4YK_",
        "outputId": "be326685-54af-4dae-fae5-068ca9936258"
      },
      "execution_count": 109,
      "outputs": [
        {
          "output_type": "execute_result",
          "data": {
            "text/plain": [
              "(348, 13)"
            ]
          },
          "metadata": {},
          "execution_count": 109
        }
      ]
    },
    {
      "cell_type": "code",
      "source": [],
      "metadata": {
        "colab": {
          "base_uri": "https://localhost:8080/"
        },
        "id": "jQd6gOcv_C0u",
        "outputId": "123c8ee7-c7cc-44a0-d487-20de3ba5a2ee"
      },
      "execution_count": 110,
      "outputs": [
        {
          "output_type": "execute_result",
          "data": {
            "text/plain": [
              "Index(['level_0', 'index', 'גוף המסמך', 'מספר הליך', 'שם הליך',\n",
              "       'שנת פתיחת ההליך', 'גוף המסמך חתוך', 'predicted_probability',\n",
              "       'prediction_original_model', 'בקשה לרשות ערעור התקבלה?',\n",
              "       'טקסט שמצביע על תוצאת בקשה שונה', 'הערעור התקבל?',\n",
              "       'רע\"פ בקשה אחרת או דלמטה מיוחד', 'קידוד', 'קידוד חוזר', 'הערות ',\n",
              "       'הערות קידוד חוזר', 'prediction_custom_threshold',\n",
              "       'טקסט שמצביע על תוצאת בקשה שונה (טקסטים שונים מופרדים ב-**)',\n",
              "       'הערות תוצאת ערעור',\n",
              "       'prediction_adjusted_threshold\\nבקשת רשות ערעור התקבלה?',\n",
              "       'גוף המסמך חתוך מסווג שני', 'prediction_second_model',\n",
              "       'second_model_predicted_probability',\n",
              "       'prediction_second_model_adjusted\\nערעור התקבל?'],\n",
              "      dtype='object')"
            ]
          },
          "metadata": {},
          "execution_count": 110
        }
      ]
    },
    {
      "cell_type": "code",
      "source": [],
      "metadata": {
        "id": "IQTmuq1v_c1J"
      },
      "execution_count": 94,
      "outputs": []
    },
    {
      "cell_type": "code",
      "source": [],
      "metadata": {
        "colab": {
          "base_uri": "https://localhost:8080/"
        },
        "id": "SKArgzv3_lC5",
        "outputId": "da695803-6473-4940-dbd7-2c400d4f40ed"
      },
      "execution_count": 95,
      "outputs": [
        {
          "output_type": "execute_result",
          "data": {
            "text/plain": [
              "Index(['level_0', 'index', 'גוף המסמך', 'מספר הליך', 'שם הליך',\n",
              "       'שנת פתיחת ההליך', 'גוף המסמך חתוך', 'predicted_probability',\n",
              "       'prediction_original_model', 'בקשה לרשות ערעור התקבלה?',\n",
              "       'טקסט שמצביע על תוצאת בקשה שונה', 'הערעור התקבל?',\n",
              "       'רע\"פ בקשה אחרת או דלמטה מיוחד', 'קידוד', 'קידוד חוזר', 'הערות ',\n",
              "       'הערות קידוד חוזר', 'prediction_custom_threshold',\n",
              "       'טקסט שמצביע על תוצאת בקשה שונה (טקסטים שונים מופרדים ב-**)',\n",
              "       'הערות תוצאת ערעור',\n",
              "       'prediction_adjusted_threshold\\nבקשת רשות ערעור התקבלה?',\n",
              "       'גוף המסמך חתוך מסווג שני', 'prediction_second_model',\n",
              "       'second_model_predicted_probability',\n",
              "       'prediction_second_model_adjusted\\nערעור התקבל?'],\n",
              "      dtype='object')"
            ]
          },
          "metadata": {},
          "execution_count": 95
        }
      ]
    },
    {
      "cell_type": "code",
      "source": [
        "len(df[\"גוף המסמך\"])\n",
        "\n",
        "df[\"length\"] = df[\"גוף המסמך\"].apply(lambda x: len(str(x).split()))\n",
        "\n",
        "average_length = df[\"length\"].mean()\n",
        "max_length = df[\"length\"].max()\n",
        "min_length = df[\"length\"].min()\n",
        "\n",
        "print(f\"אורך ממוצע של פסקי דין: {average_length:.2f} מילים\")\n",
        "print(f\"פסק הדין הארוך ביותר מכיל {max_length} מילים\")\n",
        "print(f\"פסק הדין הקצר ביותר מכיל {min_length} מילים\")\n"
      ],
      "metadata": {
        "colab": {
          "base_uri": "https://localhost:8080/"
        },
        "id": "KEkZ-UDy4gbv",
        "outputId": "44c754f8-2415-4e3d-d797-d5fe50aac246"
      },
      "execution_count": 73,
      "outputs": [
        {
          "output_type": "stream",
          "name": "stdout",
          "text": [
            "אורך ממוצע של פסקי דין: 722.41 מילים\n",
            "פסק הדין הארוך ביותר מכיל 5920 מילים\n",
            "פסק הדין הקצר ביותר מכיל 60 מילים\n"
          ]
        }
      ]
    },
    {
      "cell_type": "code",
      "source": [
        "def convert_list_to_string(text):\n",
        "    if isinstance(text, str) and text.startswith(\"[\") and text.endswith(\"]\"):\n",
        "        try:\n",
        "            text_list = ast.literal_eval(text)\n",
        "            return ' '.join(text_list)\n",
        "        except (ValueError, SyntaxError):\n",
        "            return text\n",
        "    return text\n",
        "\n",
        "def clean_text(text):\n",
        "    if isinstance(text, list):\n",
        "        text = ' '.join(text)\n",
        "    elif isinstance(text, str):\n",
        "        text = re.sub(r'\\n+', ' ', text)  # הסרת שורות חדשות מרובות\n",
        "        text = re.sub(r'\\n', '', text)   # הסרת תווי newline \\n מהטקסט\n",
        "        text = re.sub(r'\\xa0', ' ', text)  # הסרת תווי \\xa0 מהטקסט\n",
        "        text = re.sub(r'\\s+', ' ', text)  # הסרת רווחים מרובים\n",
        "\n",
        "        text = re.sub(r\"העותק כפוף לשינויי עריכה וניסוח.*?$\", \"\", text, flags=re.MULTILINE)\n",
        "        text = re.sub(r\"מרכז מידע, טל' \\d{2,3}-\\d{6,7}.*?$\", \"\", text, flags=re.MULTILINE)\n",
        "        text = re.sub(r\"אתר אינטרנט, .*?$\", \"\", text, flags=re.MULTILINE)\n",
        "    return text\n",
        "\n",
        "print(\"שורות לא קריאות לפני המרה:\")\n",
        "print(df[\"גוף המסמך\"].head())\n",
        "\n",
        "df[\"גוף המסמך\"] = df[\"גוף המסמך\"].apply(clean_text)\n",
        "\n",
        "print(\"\\nשורות לאחר המרה:\")\n",
        "print(df[\"גוף המסמך\"].head())\n",
        "\n",
        "file_path_full = 'checked_df_cleaned.csv' # FULL RAP DATA CLEANED\n",
        "df.to_csv(file_path_full, index=False, encoding='utf-8')\n"
      ],
      "metadata": {
        "colab": {
          "base_uri": "https://localhost:8080/"
        },
        "id": "lLLLzAUR6XvO",
        "outputId": "2051f98c-4983-465b-9c24-455e73051cfd"
      },
      "execution_count": 74,
      "outputs": [
        {
          "output_type": "stream",
          "name": "stdout",
          "text": [
            "שורות לא קריאות לפני המרה:\n",
            "5                                                                                                                                                                                                                                                                                                                                                                                                                                                                                                                                                                                                                                                                                                                                                                                                                                                                                                                                                                                                                                                                                                                                                                                                                                                                                                                                                                                                                                                                                                                                                                                                                                                                                                                                                                                                                                                                                                                                                                                                                                                                                                                                                                                                                                                                                                                                                                                                                                                                                                                                                                                                                                                                                                                                                                                                                                                                                                                                                                                                                                                                                                                                                      ['החלטה בתיק רע\"פ 3622/15 בבית המשפט העליון רע\"פ 3622/15 לפני: כבוד השופט ח\\' מלצר המבקש: יעקב סארה נגד המשיבה: מדינת ישראל בקשת רשות ערעור על פסק דינו של בית המשפט המחוזי בנצרת (כב\\' השופטים: א\\' הלמן, י\\' שיטרית, ס\\' דבור) מתאריך 12.05.2015 ב-ע\"פ 28199-03-15 בשם המבקש: עו\"ד בוריס קסונוביץ; עו\"ד אלפסי ברנרד החלטה 1. לפני בקשת רשות ערעור על פסק דינו של בית המשפט המחוזי בנצרת (כב\\' השופטים: א\\' הלמן, י\\' שיטרית, ס\\' דבור) ב-ע\"פ 28199-03-15, בגדרו התקבל, באופן חלקי, ערעורו של המבקש על גזר דינו של בית המשפט השלום בנצרת (כב\\' סגנית הנשיא ל\\' יונג-גפר) ב-ת\"פ 1687-01-14. לצד בקשת רשות הערעור, הוגשה גם בקשה לעיכוב ביצוע של עונש המאסר שהושת על המבקש. בהקשר זה הוריתי כי עונש המאסר בפועל שהושת על המבקש יעוכב עד למתן החלטה אחרת. אביא עתה את הנתונים הרלבנטיים להכרעה במכלול. רקע והליכים קודמים 2. בית משפט השלום הנכבד הרשיע את המבקש, על פי הודאתו, במסגרת הסדר טיעון – בעבירות אלימות שיוחסו לו בכתב אישום מתוקן שהוגש נגדו ונגד שני נאשמים נוספים (להלן: נאשם 1 ונאשם 3 בהתאמה, או שני הנאשמים האחרים). 3. מעובדות כתב האישום המתוקן עולה כי, בתאריך 29.12.2013, בשעה 21:45, או בסמוך לכך, המתלוננים בילו בבית קפה בקניון בנצרת עלית. כאשר באו לעזוב את בית הקפה, פנה נאשם 3 לאחד המתלוננים ושאל אותו מי הוא ומהיכן הוא, ובתגובה לכך המתלונן השיב: \"מה אכפת לך\". בסמוך לאחר מכן המתלוננים יצאו מהקניון, תוך שהמבקש ושני הנאשמים האחרים דולקים אחריהם, ובשעה שנאשם 3 מסליק בשרוול חולצתו סכין מטבח חדה (להלן: הסכין). המבקש, אשר זיהה את המתלוננים, רץ לעבר אחד מהם והחל לתקוף אותו באגרופים ובבעיטות בראש ובגוף. לאחר זאת, שני הנאשמים האחרים חברו אל המבקש ותקפו אף הם את המתלוננים. במהלך התקיפה האמורה להב הסכין ננעץ בראשו של אחד המתלוננים, וכתוצאה מכך נגרמו לו פצעי חתך, שהצריכו תפרים. נוכח האמור לעיל – המבקש ושני הנאשמים הנוספים הואשמו בעבירות הבאות: תקיפה סתם לפי סעיף 382(א) לחוק העונשין, התשל\"ז-1977 (להלן: חוק העונשין)), וחבלה ופציעה בנסיבות מחמירות לפי סעיף 335(א)(2) לחוק העונשין. בנוסף, נאשם 3 הואשם בעבירה של החזקת אגרופן, או סכין למטרה לא כשרה לפי סעיף 186(א) לחוק העונשין. 4. בהתאם להסכמת הצדדים, המבקש ושני הנאשמים הנוספים נשלחו אל שירות המבחן לצורך הכנת תסקיר מבחן בעניינם טרם גזירת עונשם. שירות המבחן נמנע מליתן המלצה טיפולית בעניינו של המבקש, וזאת בשל אי-הבעת נזקקות מצידו, וכן נוכח עמדתה של קצינת המבחן לפיה המבקש לא היה בשל לטיפול והתקשה להבין את חומרת מעשיו. לבקשת סנגורו של המבקש ולאור הטענה כי המבקש לא הובן בשל קשיי שפה – המבקש נשלח לשירות המבחן פעם נוספת לשם עריכת תסקיר משלים בענייננו. מהתסקיר המשלים עלה כי המבקש מדבר עברית שוטפת, ללא קשיי שפה כלשהם. עוד צוין, כי קצינת המבחן לא התרשמה כי חל שינוי בהתייחסותו של המבקש לעבירות שביצע. עם זאת, קצינת המבחן ציינה כי המבקש הביע בפגישה החוזרת מוטיבציה לקחת חלק בהליך טיפולי, ועל כן המליצה להעמידו בצו מבחן למשך 18 חודשים וכן להשית עליו עונש מאסר לריצוי בדרך של עבודות שירות וענישה מותנית לתקופה משמעותית. 5. בית המשפט החליט שלא לקבל את המלצות שירות המבחן, ובגזר דינו השית על המבקש את העונשים הבאים: 9 חודשי מאסר בפועל בניכוי ימי מעצרו; 12 עונשי מאסר על תנאי, לבל יעבור המבקש, במשך שלוש שנים מיום שחרורו ממאסר, כל עבירת אלימות מסוג פשע; 6 חודשי מאסר על תנאי, לבל יעבור המבקש, במשך שלוש שנים מיום שחרורו ממאסר, כל עבירת אלימות מסוג עוון; וקנס בסך 2,500 ש\"ח, או 25 ימי מאסר תמורתו. 6. המבקש ערער לבית המשפט המחוזי על חומרת העונש שהושת עליו. בערעורו, טען המבקש כי חלקו הפחות בפרשה ביחס לזה של נאשם 3, עברו הפלילי הנקי ונסיבותיו האישיות – מצדיקות הקלה בעונש המאסר שהושת עליו, לתקופה אותה ניתן לרצות בדרך של עבודות שירות. בית המשפט המחוזי הנכבד קיבל את ערעורו של המבקש באופן חלקי, וקיצר את תקופת המאסר שהושתה על המבקש בחודש, כך שהעמידה על 8 חודשי מאסר לריצוי בפועל, בקובעו, בין השאר, כדלקמן: \"נוכח חלקו השונה של המערער מס\\' 2 באחריות לנסיבות העבירה והתוצאה שנגרמה למתלונן, היה מקום להקל בעונשו ביחס למערער מס\\' 3 וזאת בהתאם לעיקרון אחידות הענישה. יחד עם זאת, אין אנו סבורים כדעת בא כוחו של המערער מס\\' 2, כי הקלה זו צריכה להביא בגזירת עונשו ברף הנמוך הקיצון, כך שיגזרו עליו 6 חודשי מאסר בפועל לריצוי בדרך של עבודות שירות\" (עמ\\' 11 לפסק הדין). מכאן בקשת רשות הערעור שלפני. טענות המבקש 7. בבקשה למתן רשות ערעור – המבקש טוען כי פסק דינו של בית המשפט המחוזי הנכבד לא היה מנומק דיו, ודי בטעם זה כדי להצדיק מתן רשות ערעור בנסיבות. עוד נטען, כי הערכאות הקודמות לא ייחסו חשיבות מספקת להסדר ה\"סולחה\" שנערך בין הצדדים בעקבות האירוע המתואר בכתב האישום המתוקן. בנוסף, המבקש מלין על חומרת העונש שהושת עליו. בתוך כך, המבקש טוען כי בית המשפט המחוזי לא נתן את המשקל הראוי לנתונים הבאים: המלצת שירות המבחן בעניינו, הודאתו בעובדות כתב האישום המתוקן, היותו נעדר עבר פלילי, חלקו היחסי הקטן באירוע, ויתר נסיבותיו האישיות. דיון והכרעה 8. לאחר עיון בבקשה ובחומר שצורף אליה – הגעתי למסקנה כי דין הבקשה לרשות ערעור – להידחות. טעמי לכך יובאו בתמציתיות מיד בסמוך. 9. הלכה היא כי בקשת רשות ערעור ב\"גלגול שלישי\" תתקבל במקרים מיוחדים, בהם מתעוררת שאלה משפטית רחבת היקף וכבדת משקל, בעלת השלכות ציבוריות החורגות מעניינם הקונקרטי של הצדדים לבקשה, או בנסיבות המעוררות חשש מפני עיוות דין, או אי-צדק חמור שנגרם למבקש (ראו: ר\"ע 103/82 חניון חיפה בע\"מ נ\\' מצת אור (הדר חיפה) בע\"מ, פ\"ד לו(3) 123 (1982); רע\"פ 6487/12 דביר נ\\' מדינת ישראל (15.07.2013); רע\"פ 3101/15 אבו רמילה נ\\' מדינת ישראל (\\u200f25.05.2015)). 10. לאחר שבחנתי את הבקשה שלפני, סבורני כי היא איננה עומדת בקריטריונים שנקבעו בפסיקה למתן רשות ערעור \"בגלגול שלישי\" – הבקשה איננה חורגת מעובדות המקרה הקונקרטי, ואיננה מעוררת כל שאלה משפטית עקרונית. כמו כן לא מצאתי כי נגרם למבקש עיוות דין, או כי מתקיימים שיקולי צדק התומכים במתן רשות ערעור בעניינו. 11. מעבר לכך – עניינה של הבקשה הוא בחומרת העונש שהושת על המבקש, וכפי שנפסק על ידי בית משפט זה – השגה על חומרת העונש איננה מקימה עילה לקיום דיון \"בגלגול שלישי\" בפני בית משפט זה, למעט במקרים חריגים, בהם העונש, אשר הושת על המבקש סוטה סטייה ניכרת ממדיניות הענישה הראויה והמקובלת בעבירות דומות (ראו למשל: רע\"פ 3929/09 דהן נ\\' מדינת ישראל (16.08.2009)). בנסיבות העניין, סבורני כי העונש שהושת על המבקש איננו סוטה לחומרא ממדיניות הענישה שנקבעה בעניינים כגון דא (השוו: רע\"פ 3552/14 אזולאי-דלה נ\\' מדינת ישראל (\\u200f28.05.2014); רע\"פ 4849/14 יזזאו נ\\' מדינת ישראל (13.07.2014)). די בטעמים אלו, כשלעצמם, כדי לדחות את הבקשה לרשות ערעור. 12. אף לגופו של עניין, לא מצאתי כי טענתיו של המבקש מצדיקות מתן רשות ערעור ב\"גלגול שלישי\". בניגוד לטענתו של המבקש, התרשמתי כי הערכאות הקודמות העניקו משקל ראוי לנסיבותיו האישיות, לנסיבות ביצוע העבירה, וכן להסדר ה\"סולחה\" שנערך בין הצדדים. מגזר דינו של בית משפט השלום הנכבד עולה כי הסדר ה\"סולחה\" שימש כאחד הטעמים לכך שנגזרו על המבקש ושני הנאשמים הנוספים עונשים ברף הנמוך של מתחם העונש שנקבע, ומשכך דומה עלי כי ניתן להסדר ה\"סולחה\" המשקל הראוי בנסיבות, ויפים לעניין זה הדברים שציינתי ב-ע\"פ 9468/07 שלאבנה נ\\' מדינת ישראל (09.03.2009), לפיהם: \"בית משפט זה נכון, עקרונית, להעניק לעיתים משקל-מה להסדר סולחה בהתקיים נסיבות מסוימות... אך מובן כי אין בכוחה של ה\\'סולחה\\' לאיין לחלוטין את חומרתה של העבירה\" (שם, בפיסקה 12). 13. זאת ועוד: מקובלת עלי עמדתו של המבקש לפיה מתחייבת הבחנה בין העונש שהושת עליו לבין זה שהושת על נאשם 3, וזאת לנוכח ההבדל במעורבותם בביצוע העבירות. עם זאת, לאור העובדה כי המבקש פעל בצוותא עם שני הנאשמים האחרים, ובשים לב לכך שהיה זה הוא שאיתר את המתלוננים (לאחר שעזבו את בית הקפה), רץ לעברם והחל לתקוף אותם, ובכך תרם תרומה ממשית להתפתחות האלימה, מושא כתב האישום המתוקן – סבורני כי אין הצדקה להתערבות נוספת בעונש שהושת על המבקש. 14. לבסוף אציין כי לא מצאתי ממש בטענתו של המבקש בנוגע להיעדר הנמקה בפסק דינו של בית המשפט המחוזי, וגם מטעם זה יש לדחות את הבקשה. 15. לנוכח כל האמור לעיל – הבקשה למתן רשות ערעור נדחית. 16. עיכוב ביצוע העונש שעליו הוריתי – מבוטל איפוא. המבקש יתייצב לריצוי עונש המאסר שנגזר עליו – בתאריך 29.03.2016 עד לשעה 10:00, בבימ\"ר קישון, או במקום אחר על פי החלטת שירות בתי הסוהר, כשברשותו תעודת זהות, או דרכון. על המבקש לתאם את הכניסה למאסר, כולל האפשרות למיון מוקדם, עם ענף אבחון ומיון של שירות בתי הסוהר, טלפונים: 08-9787377 או 08-9787336. ניתנה היום, \\u200fכ\"א באדר א התשע\"ו (\\u200f01.03.2016). ש ו פ ט _________________________ העותק כפוף לשינויי עריכה וניסוח. 15036220_K02.doc שח מרכז מידע, טל\\' 077-2703333 ; אתר אינטרנט, www.court.gov.il']\n",
            "31                                                                                                                                                                                                                                                                                                                                                                                                                                                                                                                                                                                                                                                                                                                                                                                                                                                                                                                                                                                                                                                                                                                                                                                                                                                                                                                                                                                                                                                                                                                                                                                                                                                                                                                                                                                                                                                                                                                                                                                                                                                                                                                                                                                                                                                                                                                                                                                                                                                                                                                                                                                                                                                                                                                                                                                                                                                                                                                                                                                                                                                                                                                                                                                                                                                                                                                                                                                                                                                                                                                                                                                                                                                                                                                                                                                                                                                                                                                                                                                                                                                                                                                                                                                                                                                                                                                                                                                                                                                                                                                                                                                                                                                                                                                                                                                                                                                                                                                                                                                                                                                                                                                                                                                                                                                                                                                                                                                                                                                                                                                                                                                                                                                                                                                                                                                                                                                                                                                                                                                                                                                                                                                                                                                                                                                                                                                                                                                                                                                                                                                                                                                                                                                                                                                                                                                                                                                                                                                                                                                                                                                                                                                                                                                                                                                                                                                                                                                                                                                                                                                                                                                                                                                                                                                                                                                                                                                                                                                                                                                                                                                                                                                                                                                                                                                                                                                                                                                                                                                                                                                                                                                                                                                                                                                                                                                                                                                                                                                                                                                                                                                                                                                                                                                                                                                                                                                                                                                                                                                                                                                                                                                                                                                                                                                                                                                                                                                                                                                                                                                                                                                                                                                                                                                                                                                                                                                                                                                                                                                              ['החלטה בתיק רע\"פ 825/15 בבית המשפט העליון רע\"פ 825/15 - ב\\' לפני: כבוד השופט ח\\' מלצר המבקש: מרדכי קיסוס נגד המשיבה: מדינת ישראל בקשה לעיכוב ביצוע עונש מאסר מתאריך 18.02.2015; תגובת המשיבה לבקשה מתאריך 19.02.2015 בשם המבקש: עו\"ד שמואל ברזני בשם המשיבה: עו\"ד סיגל בלום החלטה כמבוקש וכמוסכם המבקש יתייצב לריצוי עונש המאסר שנגזר עליו – בתאריך 13.04.2015 עד לשעה 10:00, בבימ\"ר קישון, או במקום אחר על פי החלטת שירות בתי הסוהר, כשברשותו תעודת זהות, או דרכון. על המבקש לתאם את הכניסה למאסר, כולל האפשרות למיון מוקדם, עם ענף אבחון ומיון של שירות בתי הסוהר, טלפונים: 08-9787377 או 08-9787336. ניתנה היום, \\u200fג\\' באדר התשע\"ה (\\u200f22.2.2015). ש ו פ ט _________________________ העותק כפוף לשינויי עריכה וניסוח. 15008250_K04.doc מה מרכז מידע, טל\\' 077-2703333 ; אתר אינטרנט, www.court.gov.il']\n",
            "67     ['החלטה בתיק רע\"פ 54/15 בבית המשפט העליון רע\"פ 54/15 לפני: כבוד השופט א\\' שהם המבקשים: 1. פלוני 2. פלוני נגד המשיבה: מדינת ישראל בקשת רשות ערעור על פסק דינו של בית המשפט המחוזי בירושלים, מיום 8.12.2014, בענ\"פ 29336-07-14, שניתן על-ידי כב\\' השופטים א\\' רומנוב; ד\\' מינץ; א\\' נחליאלי-חיאט בשם המבקשים: עו\"ד חאג\\' מופיד החלטה 1. לפניי בקשה לרשות ערעור על פסק דינו של בית המשפט המחוזי בירושלים (כב\\' השופטים א\\' רומנוב; ד\\' מינץ; א\\' נחליאלי-חיאט), בענ\"פ 29336-07-14, מיום 8.12.2014, בגדרו התקבל ערעורה של המשיבה על גזר דינו של בית משפט השלום בירושלים, בשבתו כבית משפט השלום לנוער (כב\\' השופט ש\\' לייבו) (להלן: בית משפט השלום), בת\"פ 25628-03-13, מיום 17.6.2014. בד בבד עם הבקשה לרשות ערעור, הגישו המבקשים בקשה לעיכוב ביצוע עונש המאסר בפועל, אשר הושת עליהם. בהחלטתי מיום 11.1.2015, הוריתי על עיכוב ביצוע העונש עד להכרעה בבקשה לרשות ערעור. רקע והליכים קודמים 1. נגד המבקשים הוגש כתב אישום, המייחס להם עבירות של התפרעות, לפי סעיף 152 לחוק העונשין, התשל\"ז – 1977 (להלן: חוק העונשין); וניסיון תקיפת שוטר בנסיבות מחמירות, לפי סעיף 274 (1), (2) ו-(3) לחוק העונשין, בצירוף עם סעיף 25 לחוק העונשין. 2. בכתב האישום נטען, כי ביום 8.3.2013, בסיומה של תפילת יום השישי, נטלו המבקשים חלק בהפגנות אלימות אשר התקיימו בהר הבית (להלן: ההתפרעויות), ויידו יחד עם אחרים אבנים לעבר כוחות המשטרה שנכחו במקום, במסגרת תפקידם. במהלך ההתפרעויות, נורה בקבוק תבערה על-ידי אחר, ופגע בשוטר. עוד נאמר בכתב האישום, כי המבקשים השתתפו בהתקהלות אסורה, שיש בה כדי להטיל אימה על הציבור; וניסו לתקוף שוטרים כשהם ממלאים את תפקידם כחוק, בהיותם בצוותא חדא עם יותר משני אנשים, כשהם מזויינים באבן, בכוונה להפריע לשוטרים במילוי תפקידם. 3. ביום 10.2.2014, הודו המבקשים בעובדות כתב האישום, ועל יסוד הודאתם זו, קבע בית משפט השלום, כי המבקשים ביצעו את העבירות שיוחסו להם בכתב האישום, והורה על קבלת תסקיר שירות מבחן, בעניינם של המבקשים. 4. ביום 17.6.2014, החליט בית משפט השלום, לאמץ את המלצת שירות המבחן, בעניינם של המבקשים, ולהימנע מהרשעתם בעבירות אותן ביצעו. בהמשך, החליט בית משפט השלום לנקוט כלפי המבקשים בדרכי טיפול לפי סעיף 26 לחוק הנוער (שפיטה, ענישה ודרכי טיפול), התשל\"א – 1971. בהקשר זה, ציין בית משפט השלום, כי \"מדובר בנאשמים אשר נטלו אחריות על מעשיהם, הביעו חרטה. התסקיר שניתן בעניינם הינו תסקיר חיובי ומתייחס לפן השיקומי טיפולי הנוגע ספציפית לעבירות המיוחסות להם. שירות המבחן ציין השתתפות ערה ופעילה מצידם של שני הנאשמים בסדנת חוק ומשפט. יודגש כי מדובר בנאשמים אשר זהו להם מעמד ראשון בבית המשפט, ובאירוע לפני מעל לשנה. אין אינדיקציה להסתבכויות נוספות מצידם\". 5. בגזר דינו, קבע בית משפט השלום, כי המבקשים יחתמו כל אחד על התחייבות עצמית בסך 1,000 ₪, לפיה ימנעו במשך שנה, מביצוע העבירות בהן נקבעה אחריותם; והורה על העמדת המבקשים בצו מבחן לתקופה בת שישה חודשים, במהלכו ישלימו המבקשים את סדנת חוק ומשפט בה החלו. לצד זאת, הטיל בית משפט השלום על המבקש 1 לבצע שירות לתועלת הציבור, בהיקף של 150 שעות; ועל המבקש 2 הטיל לבצע שירות לתועלת הציבור, בהיקף של 120 שעות. בית משפט השלום החליט על היקף שעות שונה, לנוכח הבדלי הגיל בין המבקשים: המבקש 1 היה כבן 17 וארבעה חודשים במועד ביצוע העבירות, ואילו המבקש 2 היה כבן 16 במועד זה. נוסף על כך, השית בית המשפט על כל אחד מן המבקשים קנס בסך של 3,600 ₪ או 30 ימי מאסר תמורתו. 6. המשיבה לא השלימה עם תוצאה זו, והגישה ערעור לבית המשפט המחוזי בירושלים, במסגרתו ביקשה להרשיע את המבקשים בדין, ולהשית עליהם עונשי מאסר בפועל. לטענת המשיבה, בית משפט השלום לא נתן משקל ראוי לנסיבות החמורות של מעשי המבקשים, אשר נעשו בסיום תפילות יום השישי בהר הבית, על כל המשמעויות הנלוות לכך; כי אי הרשעת המבקשים משדרת מסר סלחני ופוגעת באפקט ההרתעה; וכי העובדה שהמבקשים הם קטינים אינה מהווה חסינות מפני הרשעה. 7. בית המשפט המחוזי קיבל את הערעור, וקבע כי יש להרשיע את המבקשים, ולהטיל עליהם עונשי מאסר בפועל. במסגרת פסק דינו, נתן בית המשפט המחוזי את דעתו לחומרת המעשים שיוחסו למבקשים, וקבע, כי \"לנוכח שכיחות סוג העבירות שהמשיבים ביצעו...ולנוכח נסיבות ביצוען...היה מקום לתת בכורה לשיקולי גמול והרתעה ולהעדיפם על פני השיקולים הפרטניים של המשיבים\". עוד נקבע, כי גם כאשר מדובר בקטינים, יש להעדיף את האינטרס הציבורי, ולהורות על הרשעת מבצעי העבירות, וזאת על מנת לשרש את התופעה החמורה של התפרעויות ויידוי אבנים לעבר כוחות המשטרה. לאחר זאת, הרשיע בית המשפט המחוזי את המבקשים בעבירות שיוחסו להם בכתב האישום. אשר לעונש, ציין בית המשפט המחוזי, כי מאחר שמעשי המבקשים, במקרה זה, הם חמורים ביותר – אין די בשירות לתועלת הציבור, וקיימת הצדקה להטיל עליהם עונשי מאסר לריצוי בפועל. לפיכך, ביטל בית המשפט המחוזי את הרכיבים בגזר הדין, שעניינם חתימה על התחייבות עצמית, ושירות לתועלת הציבור, ובמקומם הטיל על המבקש 1 מאסר בפועל לתקופה של שלושה וחצי חודשים, ועל המבקש 2 מאסר בפועל לתקופה של שלושה חודשים ויום אחד. כמו כן, השית בית המשפט המחוזי על המבקשים מאסר מותנה בן 3 חודשים, למשך שנתיים, לבל יעברו העבירות בהן הורשעו בתיק זה. יתר רכיבי העונש, אשר נקבעו בגזר דינו של בית משפט השלום, נותרו בעינם. הבקשה לרשות ערעור 8. בבקשה שלפניי, נטען, כי פסק דינו של בית המשפט המחוזי \"סותר\" את עקרון השוויון, ממנו נגזר עקרון אחידות הענישה. צויין, לעניין זה, כי בגין ההתפרעויות שהתרחשו ביום 8.3.2013, הוגשו שלושה כתבי אישום: כתב אישום נגד 7 בגירים; כתב אישום נגד קטין נוסף בבית משפט השלום לנוער; וכתב אישום בעניינם של המבקשים. המבקשים סבורים, כי בשל העובדה, שפסק הדין בערעור ניתן בזמן של ריבוי התפרעויות והפרות סדר בירושלים – העונשים אשר הוטלו עליהם חמורים מאלה שהוטלו על הבגירים ועל הקטין הנוסף. כמו כן, לטענת המבקשים, בקשתם מצדיקה רשות ערעור, שכן זו מעלה שאלה משפטית עקרונית, הנוגעת למדיניות הענישה הראויה בעבירות כגון דא; ולנוכח הפער החריג בין רמת הענישה שנקבעה בבית המשפט המחוזי, לבין זו שנקבעה בבית משפט השלום. בהמשך, טענו המבקשים כי בית המשפט המחוזי שגה, בכך שלא התאים את הענישה לנסיבותיהם האישיות של המבקשים, ובכלל זה לשיקולי שיקום, ולעצם היותם של המבקשים קטינים במועד ביצוע העבירות. דיון והכרעה 9. לאחר שעיינתי בבקשה לרשות ערעור ובנספחיה, הגעתי לכלל מסקנה כי אין מקום ליתן למבקשים רשות ערעור \"בגלגול שלישי\". הלכה מושרשת היא, כי רשות ערעור תינתן במשורה, ורק במקרים אשר מעוררים סוגיה משפטית כבדת משקל או בעלת השפעה רחבה, וכן במקרים חריגים אשר מתגלה בהם אי-צדק או עיוות דין כלפי המבקש (רע\"פ 8858/14 יעקובוב נ\\' מדינת ישראל (15.1.2015); רע\"פ 16/15 בסיר סעאידה נ\\' מדינת ישראל (13.1.2015); רע\"פ 8087/14 נדים אנגנאץ נ\\' מדינת ישראל (10.12.2014)). הבקשה שלפניי אינה חורגת מעניינם הפרטי של המבקשים, וחרף האמור בה, נסיבות המקרה אינן מעוררות כל שאלה משפטית העשויה להצדיק רשות ערעור בפני בית משפט זה. כמו כן, לא עולה חשש לעיוות דין כלפי המבקשים או כי מתקיימים שיקולי צדק כלפיהם. אף אם בית משפט השלום ובית המשפט המחוזי הגיעו למסקנות שונות, אין בכך משום הצדקה לקיים דיון נוסף בעניינו של המבקש, בפני בית משפט זה (רע\"פ 4070/14 \\u200fפלונית נ\\' מדינת ישראל (17.6.2014); רע\"פ 2180/14 שמואלי נ\\' מדינת ישראל (24.4.2014)). 10. האפשרות הנתונה לבית המשפט להימנע מהרשעתו של נאשם שביצע עבירה, מעוגנת בסעיף 71א(ב) לחוק העונשין, והיא מהווה חריג לכלל, לפיו משהוכח ביצועה של עבירה יש להרשיע את הנאשם. במילים אחרות, תוצאה של הימנעות מהרשעה, חרף הקביעה כי הנאשם ביצע את העבירה, היא תוצאה חריגה, השמורה למקרים מיוחדים ויוצאי דופן. שני תנאים מצטברים נקבעו, על מנת להימנע מהרשעה: \"ראשית, על ההרשעה לפגוע פגיעה חמורה בשיקום הנאשם, ושנית, סוג העבירה מאפשר לוותר בנסיבות המקרה המסוים על ההרשעה בלי לפגוע באופן מהותי בשיקולי הענישה האחרים\" (ע\"פ 2083/96 כתב נ\\' מדינת ישראל, פ\"ד נב(3) 337 (1997), פסקה 7 לפסק-דינה של השופטת ד\\' דורנר). יישום תנאים אלה, בנסיבות המקרה, מוביל למסקנה כי עניינם של המבקשים איננו נמנה על אותם מקרים חריגים, שקיימת בהם הצדקה להימנעות מהרשעה. 11. במסגרת פסק דינו, התייחס בית המשפט המחוזי, לחומרת העבירות שבוצעו על-ידי המבקשים, בקובעו כי: \"לא ראינו להסתפק בדרך בה הלך בית המשפט קמא, והסיכון הרב הנשקף מיידוי האבנים ומאלימות כלפי שוטרים, מחייב עמדה עונשית נחרצת שיש בה \\'להרתיע את המבצע עצמו ואת העבריינים בכוח, צעירים המתפתים על נקלה להשליך אבנים ובקבוקי תבערה ולסכן חיי אדם\\'...לכן, בהביאנו במסגרת השיקולים את הנסיבות ואת החומרה שיש לייחס לעבירות אלימות כלפי שוטרים והתפרעויות שבמהלכן מיידים קטינים אבנים ומושלכים אף בקבוקי תבערה, תופעה ההולכת ומתעצמת מזה זמן ארוך, אנו סבורים כי ראוי להעביר מסר אחד בעבירות כאלה כי אין להסתפק בפן השיקומי והכלל הוא כי יש להרשיע את המשיבים אף אם מדובר בקטינים שזו להם העבירה הראשונה...\" לטעמי, בית המשפט המחוזי צדק בקביעתו זו, שכן סוג העבירה ונסיבותיה, אינם מאפשרים, בנדון דידן, להימנע מהרשעה. 12. בכל הנוגע לשאלה שעניינה הפגיעה בצורכי שיקומו של הנאשם, נקבע, כי אין מקום להסתפק ב\"תרחיש תיאורטי\", ויש להצביע על קיומו של נזק \"מוחשי וקונקרטי\" אשר צפוי לנאשם כתוצאה מעצם ההרשעה (רע\"פ 1439/13 \\u200fקשת נ\\' מדינת ישראל (4.3.2013); רע\"פ 8627/12 הנסב נ\\' מדינת ישראל (31.12.2012)). יצויין, כי דרישה זו אינה מתייתרת, גם כאשר מדובר בקטינים (ראו עמדתי בע\"פ 5931/13 פלוני נ\\' מדינת ישראל (10.2.2014); רע\"פ 2180/14 ספיר שמואלי נ\\' מדינת ישראל (24.4.2014)). במקרה שלפנינו, לא מצאתי, כי הרשעת המבקשים תפגע בהם פגיעה חמורה, מה גם שלא עלה בידי המבקשים להראות, כי הרשעתם תוביל לפגיעה מהותית וקונקרטית בעתידם או בצורכי שיקומם. 13. למעלה מן הצורך, אדרש, בקצרה, לטענותיהם של המבקשים לגופן. ראשית, אין בידי לקבל את טענת המבקשים, לפיה פסק דינו של בית המשפט המחוזי פוגע בעקרון השוויון, משום שלדבריהם העונשים אשר הוטלו עליהם חמורים מאלה שהוטלו על הנאשמים הנוספים שהיו שותפים לאותן התפרעויות. בית המשפט המחוזי נתן את דעתו לפסיקה אליה הפנו הצדדים, והבהיר, כי \"מעשי המשיבים במקרה זה חמורים ביותר, מעבר לחומרה שתוארה ברבים מפסקי הדין שפורטו לעיל\". מעבר לזאת, הלכה היא, כי השגה על מידת העונש אין בכוחה להצדיק מתן רשות ערעור, למעט במקרים בהם ניכרת חריגה קיצונית ממדיניות הענישה הראויה והמקובלת במקרים דומים (רע\"פ 8719/14 יעקב בן טולילה נ\\' מדינת ישראל (14.1.2015); רע\"פ 7584/14 אבו שוקור נ\\' מדינת ישראל (2.12.2014); רע\"פ 7641/14 אלטורי נ\\' מדינת ישראל (30.11.2014)). גם אם ניתן היה למצוא גזרי דין מקלים יותר, בנסיבות הדומות לענייננו, אין הדבר מעיד כי העונש אשר הושת על המבקשים חורג באופן מהותי ממדיניות הענישה הראויה. במצב דברים זה, סבורני כי לא נפל כל פגם בעונשים אשר הושתו על המבקשים על-ידי בית המשפט המחוזי. 14. באופן דומה, לא מצאתי ממש בטענת המבקשים, כי בית המשפט המחוזי לא התאים את הענישה לנסיבותיהם האישיות. לעניין זה, קבע בית המשפט המחוזי, כי: \"בצד החומרה שראינו לייחס לעבירות שבהן הורשעו המשיבים, נתנו דעתנו לנסיבותיהם האישיות של המשיבים, לגילם בעת ביצוע העבירות, לתסקיר שירות המבחן, להעדר רישום פלילי ולהתייחסות בית משפט קמא לנסיבות של המשיבים כאמור בגזר הדין, וראינו אף לאמץ את דבריו אשר למשיבים ואשר למדרג שקבע בענישה לגביהם בשל השוני בגילם...\" הנה כי כן, בית המשפט המחוזי לא התעלם מנסיבותיהם הפרטניות של המבקשים, ומיתר השיקולים לקולה. בית המשפט המחוזי נתן את דעתו למכלול שיקולי הענישה הרלוונטיים, וערך ביניהם איזון ראוי, בנסיבות העניין. לפיכך, אינני רואה כל הצדקה להתערב במידת עונשם של המבקשים, והדברים נאמרים ביתר שאת כאשר מדובר בדיון ב\"גלגול שלישי\". 15. אשר על כן, הבקשה לרשות ערעור נדחית בזאת. המבקשים יתייצבו לריצוי עונשם ביום 1.3.2015, עד לשעה 10:00, בימ\"ר ניצן, או על פי החלטת שירות בתי הסוהר, כשברשותם תעודת זהות או דרכון ועותק מהחלטה זו. על המבקשים לתאם את הכניסה למאסר, עם ענף אבחון ומיון של שירות בתי הסוהר, בטלפונים: 08-9787377 או 08-9787336. ניתנה ביום, \\u200fו\\' בשבט התשע\"ה (\\u200f26.1.2015). תוקנה היום, ז\\' בשבט התשע\"ה (27.1.2015). ש ו פ ט _________________________ העותק כפוף לשינויי עריכה וניסוח. 15000540_I02.doc יא מרכז מידע, טל\\' 077-2703333 ; אתר אינטרנט, www.court.gov.il']\n",
            "73                                                                                                                                                                                                                                                                                                                                                                                                                                                                                                                                                                                                                                                                                                                                                                                                                                                                                                                                                                                                                                                                                                                                                                                                                                                                                                                                                                                                                                                                                                                                                                                                                                                                                                                                                                                                                                                                                                                                                                                                                                                                                                                                                                                                                                                                                                                                                                                                                                                                                                                                                                                                                                                                                                                                                                                                                                                                                                                                                                                                                                                                                                                                                                                                                                                                                                                                                                                                                                                                                                                                                                                                                                                                                                                                                                                                                                                                                                                                                                                                                                                                                                                                                                                                                                                                                                                                                                                                                                                                                                                                                                                                                                                                                                                                                                                                                                                                                                                                                                                                                                                                                                                                                                                                                                                                                                                                                                                                                                                                                                                                                                                                                                                                                                                                                                                                                                                                                                                                                                                                                                                                                                                                                                                                                                                                                                                                                                                                                                                                                                                                                                                                                                                                                                                                                                                                                                                                                                                                                                                                                                                                                                                                                                                                                                                                                                                                                                                                                                                                                                                                                                                                                                                                                                                                                                                                                                                                                                                                                                                                                                                                                                                                                                                                                                                                                                                                                                                                                                                                                                                                                                                                                                                                                                                                                                                                                                                                                                                                                                                                                                                                                                                                                                                                                                                                                                                                                                                                                                                                                                                                                                                                                                                                                                                                                                                                                                                                                                                                                                                       ['פסק דין בתיק רע\"פ 2811/15 בבית המשפט העליון רע\"פ 2811/15 לפני: כבוד השופט ח\\' מלצר כבוד השופט נ\\' הנדל כבוד השופטת ד\\' ברק-ארז המבקש: פלוני נגד המשיבה: מדינת ישראל חוות דעת הממונה על עבודות שירות מתאריך 02.12.2015; פסק דין משלים בבקשת רשות ערעור על גזר דינו של בית המשפט המחוזי בירושלים (כב\\' השופטים: א\\' כהן, מ\\' יועד הכהן ו-מ\\' בר-עם) מיום 15.03.0015 בתיק עפ\"ג 024776-10-14 תאריך הישיבה: י\"ג בכסלו התשע\"ו (25.11.2015) בשם המבקש: עו\"ד מוריה ששון בשם המשיב: עו\"ד תומר סגלוביץ\\' בשם שירות המבחן: הגב\\' ברכה וייס פסק דין משלים 1. בהמשך לפסק דיננו מתאריך 25.11.2015 אנו מורים כי המבקש ירצה את עונש של 3 חודשי מאסר שהושת עליו, על דרך של עבודות שירות, בהתאם לחוות דעת הממונה – במרכז יום לקשיש, רח\\' המשלט 17 בית שמש, וזאת במשך חמישה ימים בשבוע, 8.5 שעות עבודה יומיות, החל מתאריך 24.01.2016. בתאריך האמור המבקש יתייצב במשרדי הממונה על עבודות שירות במפקדת מחוז מרכז, יחידת עבודות שירות, ת.ד. 81, רמלה, בשעה 08:00. המבקש מוזהר באשר למועד ההתייצבות ולביצוע העבודות כהלכתן. 2. עותק מפסק הדין המשלים יועבר לממונה על עבודות שירות. ניתן היום, \\u200fכ\"ו בכסלו התשע\"ו (\\u200f8.12.2015). ש ו פ ט ש ו פ ט ש ו פ ט ת _________________________ העותק כפוף לשינויי עריכה וניסוח. 15028110_K08.doc מה מרכז מידע, טל\\' 077-2703333 ; אתר אינטרנט, www.court.gov.il']\n",
            "114                                                                                                                                                                                                                                                                                                                                                                                                                                                                                                                                                                                                                                                                                                                                                                                                                                                                                                                                                                                                                                                                                                                                                                                                                                                                                                                                                                                                                                                                                                                                                                                                                                                                                                                                                                                                                                                                                                                                                                                                                                                                                                                                                                                                                                                                                                                                                                                                                                                                                                                                                                                                                                                                                                                                                                                                                                                                                                                                                                                                                                                                                                                                                                                                                                                                                                                                                                                                                                                                                                                                                                                                                                                                                                                                                                                                                                                                                                                                                                                                                                                                                                                                                                                                                                                                                                                                                                                                                                                                                                                                                                                                                                                                                                                                                                                                                                                                                                                                                                                                                                                                                                                                                                                                                                                                                                                                                                                                                                                                                                                                                                                                                                                                                                                                                                                                                                                                                                                                                                                                                                                                                                                                                                                                                                                                                                                                                                                                                                                                                                                                                                                                                                                                                                                                                                                                                                                                                                                                                                                                                                                                                                                                                                                                                                                                                                                                                                                                                                                                                                                                                                                                                                                                                                                                                                                                                                                                                                                                                                                                                                                                                                                                                                                                                                                                                                                                                                                                                                                                                                                                                                                                                                                                                                                                                                                                                                                                                                                                                                                                                                                                                                                                                                                                                                                                                                                                                                                                                                                                                                                                                                                                                                                                                                                                                                                                                                                                                                                                                                                                                                                                                                                                                                                                                                                                                             ['פסק דין בתיק רע\"פ 2195/15 בבית המשפט העליון רע\"פ 2195/15 רע\"פ 2231/15 לפני: כבוד השופט ס\\' ג\\'ובראן כבוד השופט נ\\' הנדל כבוד השופט א\\' שהם המבקשים ברע\"פ 2195/15: 1. אהוד יפרח 2. חב\\' אהוד מאיר שאיבות בע\"מ 3. טיהל נכסים בע\"מ 4. לי יפרח המבקשים ברע\"פ 2231/15: 1. יוסי ליבוביץ\\' 2. רינת ליבוביץ\\' נגד המשיבה: מדינת ישראל בקשות רשות ערעור על החלטתו של בית המשפט המחוזי מרכז-לוד מיום 26.2.2015 בע\"ח 28595-01-15 שניתן על ידי כבוד השופטת דבורה עטר תאריך הישיבה: כ\"ג באלול התשע\"ה (7.9.2015) בשם המבקשים ברע\"פ 2195/15: עו\"ד דרור מתתיהו; עו\"ד הגר נגלר בשם המבקשים ברע\"פ 2231/15: עו\"ד יהושע רזניק; עו\"ד ציון סהראי בשם המשיבה: עו\"ד אבי וסטרמן; עו\"ד יפעת שטיין פסק דין בהמלצתנו חזרו בהם באי כוח המבקשים מהבקשות למתן רשות ערעור, והבקשות נדחות בזה. ניתן היום, כ\"ג באלול התשע\"ה (\\u200f7.9.2015). ש ו פ ט ש ו פ ט ש ו פ ט _________________________ העותק כפוף לשינויי עריכה וניסוח. 15021950_H05.doc שצ מרכז מידע, טל\\' 077-2703333 ; אתר אינטרנט, www.court.gov.il']\n",
            "Name: גוף המסמך, dtype: object\n",
            "\n",
            "שורות לאחר המרה:\n",
            "5                                                                                                                                                                                                                                                                                                                                                                                                                                                                                                                                                                                                                                                                                                                                                                                                                                                                                                                                                                                                                                                                                                                                                                                                                                                                                                                                                                                                                                                                                                                                                                                                                                                                                                                                                                                                                                                                                                                                                                                                                                                                                                                                                                                                                                                                                                                                                                                                                                                                                                                                                                                                                                                                                                                                                                                                                                                                                                                                                                                                                                                                                                                                                      ['החלטה בתיק רע\"פ 3622/15 בבית המשפט העליון רע\"פ 3622/15 לפני: כבוד השופט ח\\' מלצר המבקש: יעקב סארה נגד המשיבה: מדינת ישראל בקשת רשות ערעור על פסק דינו של בית המשפט המחוזי בנצרת (כב\\' השופטים: א\\' הלמן, י\\' שיטרית, ס\\' דבור) מתאריך 12.05.2015 ב-ע\"פ 28199-03-15 בשם המבקש: עו\"ד בוריס קסונוביץ; עו\"ד אלפסי ברנרד החלטה 1. לפני בקשת רשות ערעור על פסק דינו של בית המשפט המחוזי בנצרת (כב\\' השופטים: א\\' הלמן, י\\' שיטרית, ס\\' דבור) ב-ע\"פ 28199-03-15, בגדרו התקבל, באופן חלקי, ערעורו של המבקש על גזר דינו של בית המשפט השלום בנצרת (כב\\' סגנית הנשיא ל\\' יונג-גפר) ב-ת\"פ 1687-01-14. לצד בקשת רשות הערעור, הוגשה גם בקשה לעיכוב ביצוע של עונש המאסר שהושת על המבקש. בהקשר זה הוריתי כי עונש המאסר בפועל שהושת על המבקש יעוכב עד למתן החלטה אחרת. אביא עתה את הנתונים הרלבנטיים להכרעה במכלול. רקע והליכים קודמים 2. בית משפט השלום הנכבד הרשיע את המבקש, על פי הודאתו, במסגרת הסדר טיעון – בעבירות אלימות שיוחסו לו בכתב אישום מתוקן שהוגש נגדו ונגד שני נאשמים נוספים (להלן: נאשם 1 ונאשם 3 בהתאמה, או שני הנאשמים האחרים). 3. מעובדות כתב האישום המתוקן עולה כי, בתאריך 29.12.2013, בשעה 21:45, או בסמוך לכך, המתלוננים בילו בבית קפה בקניון בנצרת עלית. כאשר באו לעזוב את בית הקפה, פנה נאשם 3 לאחד המתלוננים ושאל אותו מי הוא ומהיכן הוא, ובתגובה לכך המתלונן השיב: \"מה אכפת לך\". בסמוך לאחר מכן המתלוננים יצאו מהקניון, תוך שהמבקש ושני הנאשמים האחרים דולקים אחריהם, ובשעה שנאשם 3 מסליק בשרוול חולצתו סכין מטבח חדה (להלן: הסכין). המבקש, אשר זיהה את המתלוננים, רץ לעבר אחד מהם והחל לתקוף אותו באגרופים ובבעיטות בראש ובגוף. לאחר זאת, שני הנאשמים האחרים חברו אל המבקש ותקפו אף הם את המתלוננים. במהלך התקיפה האמורה להב הסכין ננעץ בראשו של אחד המתלוננים, וכתוצאה מכך נגרמו לו פצעי חתך, שהצריכו תפרים. נוכח האמור לעיל – המבקש ושני הנאשמים הנוספים הואשמו בעבירות הבאות: תקיפה סתם לפי סעיף 382(א) לחוק העונשין, התשל\"ז-1977 (להלן: חוק העונשין)), וחבלה ופציעה בנסיבות מחמירות לפי סעיף 335(א)(2) לחוק העונשין. בנוסף, נאשם 3 הואשם בעבירה של החזקת אגרופן, או סכין למטרה לא כשרה לפי סעיף 186(א) לחוק העונשין. 4. בהתאם להסכמת הצדדים, המבקש ושני הנאשמים הנוספים נשלחו אל שירות המבחן לצורך הכנת תסקיר מבחן בעניינם טרם גזירת עונשם. שירות המבחן נמנע מליתן המלצה טיפולית בעניינו של המבקש, וזאת בשל אי-הבעת נזקקות מצידו, וכן נוכח עמדתה של קצינת המבחן לפיה המבקש לא היה בשל לטיפול והתקשה להבין את חומרת מעשיו. לבקשת סנגורו של המבקש ולאור הטענה כי המבקש לא הובן בשל קשיי שפה – המבקש נשלח לשירות המבחן פעם נוספת לשם עריכת תסקיר משלים בענייננו. מהתסקיר המשלים עלה כי המבקש מדבר עברית שוטפת, ללא קשיי שפה כלשהם. עוד צוין, כי קצינת המבחן לא התרשמה כי חל שינוי בהתייחסותו של המבקש לעבירות שביצע. עם זאת, קצינת המבחן ציינה כי המבקש הביע בפגישה החוזרת מוטיבציה לקחת חלק בהליך טיפולי, ועל כן המליצה להעמידו בצו מבחן למשך 18 חודשים וכן להשית עליו עונש מאסר לריצוי בדרך של עבודות שירות וענישה מותנית לתקופה משמעותית. 5. בית המשפט החליט שלא לקבל את המלצות שירות המבחן, ובגזר דינו השית על המבקש את העונשים הבאים: 9 חודשי מאסר בפועל בניכוי ימי מעצרו; 12 עונשי מאסר על תנאי, לבל יעבור המבקש, במשך שלוש שנים מיום שחרורו ממאסר, כל עבירת אלימות מסוג פשע; 6 חודשי מאסר על תנאי, לבל יעבור המבקש, במשך שלוש שנים מיום שחרורו ממאסר, כל עבירת אלימות מסוג עוון; וקנס בסך 2,500 ש\"ח, או 25 ימי מאסר תמורתו. 6. המבקש ערער לבית המשפט המחוזי על חומרת העונש שהושת עליו. בערעורו, טען המבקש כי חלקו הפחות בפרשה ביחס לזה של נאשם 3, עברו הפלילי הנקי ונסיבותיו האישיות – מצדיקות הקלה בעונש המאסר שהושת עליו, לתקופה אותה ניתן לרצות בדרך של עבודות שירות. בית המשפט המחוזי הנכבד קיבל את ערעורו של המבקש באופן חלקי, וקיצר את תקופת המאסר שהושתה על המבקש בחודש, כך שהעמידה על 8 חודשי מאסר לריצוי בפועל, בקובעו, בין השאר, כדלקמן: \"נוכח חלקו השונה של המערער מס\\' 2 באחריות לנסיבות העבירה והתוצאה שנגרמה למתלונן, היה מקום להקל בעונשו ביחס למערער מס\\' 3 וזאת בהתאם לעיקרון אחידות הענישה. יחד עם זאת, אין אנו סבורים כדעת בא כוחו של המערער מס\\' 2, כי הקלה זו צריכה להביא בגזירת עונשו ברף הנמוך הקיצון, כך שיגזרו עליו 6 חודשי מאסר בפועל לריצוי בדרך של עבודות שירות\" (עמ\\' 11 לפסק הדין). מכאן בקשת רשות הערעור שלפני. טענות המבקש 7. בבקשה למתן רשות ערעור – המבקש טוען כי פסק דינו של בית המשפט המחוזי הנכבד לא היה מנומק דיו, ודי בטעם זה כדי להצדיק מתן רשות ערעור בנסיבות. עוד נטען, כי הערכאות הקודמות לא ייחסו חשיבות מספקת להסדר ה\"סולחה\" שנערך בין הצדדים בעקבות האירוע המתואר בכתב האישום המתוקן. בנוסף, המבקש מלין על חומרת העונש שהושת עליו. בתוך כך, המבקש טוען כי בית המשפט המחוזי לא נתן את המשקל הראוי לנתונים הבאים: המלצת שירות המבחן בעניינו, הודאתו בעובדות כתב האישום המתוקן, היותו נעדר עבר פלילי, חלקו היחסי הקטן באירוע, ויתר נסיבותיו האישיות. דיון והכרעה 8. לאחר עיון בבקשה ובחומר שצורף אליה – הגעתי למסקנה כי דין הבקשה לרשות ערעור – להידחות. טעמי לכך יובאו בתמציתיות מיד בסמוך. 9. הלכה היא כי בקשת רשות ערעור ב\"גלגול שלישי\" תתקבל במקרים מיוחדים, בהם מתעוררת שאלה משפטית רחבת היקף וכבדת משקל, בעלת השלכות ציבוריות החורגות מעניינם הקונקרטי של הצדדים לבקשה, או בנסיבות המעוררות חשש מפני עיוות דין, או אי-צדק חמור שנגרם למבקש (ראו: ר\"ע 103/82 חניון חיפה בע\"מ נ\\' מצת אור (הדר חיפה) בע\"מ, פ\"ד לו(3) 123 (1982); רע\"פ 6487/12 דביר נ\\' מדינת ישראל (15.07.2013); רע\"פ 3101/15 אבו רמילה נ\\' מדינת ישראל (\\u200f25.05.2015)). 10. לאחר שבחנתי את הבקשה שלפני, סבורני כי היא איננה עומדת בקריטריונים שנקבעו בפסיקה למתן רשות ערעור \"בגלגול שלישי\" – הבקשה איננה חורגת מעובדות המקרה הקונקרטי, ואיננה מעוררת כל שאלה משפטית עקרונית. כמו כן לא מצאתי כי נגרם למבקש עיוות דין, או כי מתקיימים שיקולי צדק התומכים במתן רשות ערעור בעניינו. 11. מעבר לכך – עניינה של הבקשה הוא בחומרת העונש שהושת על המבקש, וכפי שנפסק על ידי בית משפט זה – השגה על חומרת העונש איננה מקימה עילה לקיום דיון \"בגלגול שלישי\" בפני בית משפט זה, למעט במקרים חריגים, בהם העונש, אשר הושת על המבקש סוטה סטייה ניכרת ממדיניות הענישה הראויה והמקובלת בעבירות דומות (ראו למשל: רע\"פ 3929/09 דהן נ\\' מדינת ישראל (16.08.2009)). בנסיבות העניין, סבורני כי העונש שהושת על המבקש איננו סוטה לחומרא ממדיניות הענישה שנקבעה בעניינים כגון דא (השוו: רע\"פ 3552/14 אזולאי-דלה נ\\' מדינת ישראל (\\u200f28.05.2014); רע\"פ 4849/14 יזזאו נ\\' מדינת ישראל (13.07.2014)). די בטעמים אלו, כשלעצמם, כדי לדחות את הבקשה לרשות ערעור. 12. אף לגופו של עניין, לא מצאתי כי טענתיו של המבקש מצדיקות מתן רשות ערעור ב\"גלגול שלישי\". בניגוד לטענתו של המבקש, התרשמתי כי הערכאות הקודמות העניקו משקל ראוי לנסיבותיו האישיות, לנסיבות ביצוע העבירה, וכן להסדר ה\"סולחה\" שנערך בין הצדדים. מגזר דינו של בית משפט השלום הנכבד עולה כי הסדר ה\"סולחה\" שימש כאחד הטעמים לכך שנגזרו על המבקש ושני הנאשמים הנוספים עונשים ברף הנמוך של מתחם העונש שנקבע, ומשכך דומה עלי כי ניתן להסדר ה\"סולחה\" המשקל הראוי בנסיבות, ויפים לעניין זה הדברים שציינתי ב-ע\"פ 9468/07 שלאבנה נ\\' מדינת ישראל (09.03.2009), לפיהם: \"בית משפט זה נכון, עקרונית, להעניק לעיתים משקל-מה להסדר סולחה בהתקיים נסיבות מסוימות... אך מובן כי אין בכוחה של ה\\'סולחה\\' לאיין לחלוטין את חומרתה של העבירה\" (שם, בפיסקה 12). 13. זאת ועוד: מקובלת עלי עמדתו של המבקש לפיה מתחייבת הבחנה בין העונש שהושת עליו לבין זה שהושת על נאשם 3, וזאת לנוכח ההבדל במעורבותם בביצוע העבירות. עם זאת, לאור העובדה כי המבקש פעל בצוותא עם שני הנאשמים האחרים, ובשים לב לכך שהיה זה הוא שאיתר את המתלוננים (לאחר שעזבו את בית הקפה), רץ לעברם והחל לתקוף אותם, ובכך תרם תרומה ממשית להתפתחות האלימה, מושא כתב האישום המתוקן – סבורני כי אין הצדקה להתערבות נוספת בעונש שהושת על המבקש. 14. לבסוף אציין כי לא מצאתי ממש בטענתו של המבקש בנוגע להיעדר הנמקה בפסק דינו של בית המשפט המחוזי, וגם מטעם זה יש לדחות את הבקשה. 15. לנוכח כל האמור לעיל – הבקשה למתן רשות ערעור נדחית. 16. עיכוב ביצוע העונש שעליו הוריתי – מבוטל איפוא. המבקש יתייצב לריצוי עונש המאסר שנגזר עליו – בתאריך 29.03.2016 עד לשעה 10:00, בבימ\"ר קישון, או במקום אחר על פי החלטת שירות בתי הסוהר, כשברשותו תעודת זהות, או דרכון. על המבקש לתאם את הכניסה למאסר, כולל האפשרות למיון מוקדם, עם ענף אבחון ומיון של שירות בתי הסוהר, טלפונים: 08-9787377 או 08-9787336. ניתנה היום, \\u200fכ\"א באדר א התשע\"ו (\\u200f01.03.2016). ש ו פ ט _________________________ \n",
            "31                                                                                                                                                                                                                                                                                                                                                                                                                                                                                                                                                                                                                                                                                                                                                                                                                                                                                                                                                                                                                                                                                                                                                                                                                                                                                                                                                                                                                                                                                                                                                                                                                                                                                                                                                                                                                                                                                                                                                                                                                                                                                                                                                                                                                                                                                                                                                                                                                                                                                                                                                                                                                                                                                                                                                                                                                                                                                                                                                                                                                                                                                                                                                                                                                                                                                                                                                                                                                                                                                                                                                                                                                                                                                                                                                                                                                                                                                                                                                                                                                                                                                                                                                                                                                                                                                                                                                                                                                                                                                                                                                                                                                                                                                                                                                                                                                                                                                                                                                                                                                                                                                                                                                                                                                                                                                                                                                                                                                                                                                                                                                                                                                                                                                                                                                                                                                                                                                                                                                                                                                                                                                                                                                                                                                                                                                                                                                                                                                                                                                                                                                                                                                                                                                                                                                                                                                                                                                                                                                                                                                                                                                                                                                                                                                                                                                                                                                                                                                                                                                                                                                                                                                                                                                                                                                                                                                                                                                                                                                                                                                                                                                                                                                                                                                                                                                                                                                                                                                                                                                                                                                                                                                                                                                                                                                                                                                                                                                                                                                                                                                                                                                                                                                                                                                                                                                                                                                                                                                                                                                                                                                                                                                                                                                                                                                                                                                                                                                                                                                                                                                                                                                                                                                                                                                                                                                                                                                                                                                                                              ['החלטה בתיק רע\"פ 825/15 בבית המשפט העליון רע\"פ 825/15 - ב\\' לפני: כבוד השופט ח\\' מלצר המבקש: מרדכי קיסוס נגד המשיבה: מדינת ישראל בקשה לעיכוב ביצוע עונש מאסר מתאריך 18.02.2015; תגובת המשיבה לבקשה מתאריך 19.02.2015 בשם המבקש: עו\"ד שמואל ברזני בשם המשיבה: עו\"ד סיגל בלום החלטה כמבוקש וכמוסכם המבקש יתייצב לריצוי עונש המאסר שנגזר עליו – בתאריך 13.04.2015 עד לשעה 10:00, בבימ\"ר קישון, או במקום אחר על פי החלטת שירות בתי הסוהר, כשברשותו תעודת זהות, או דרכון. על המבקש לתאם את הכניסה למאסר, כולל האפשרות למיון מוקדם, עם ענף אבחון ומיון של שירות בתי הסוהר, טלפונים: 08-9787377 או 08-9787336. ניתנה היום, \\u200fג\\' באדר התשע\"ה (\\u200f22.2.2015). ש ו פ ט _________________________ \n",
            "67     ['החלטה בתיק רע\"פ 54/15 בבית המשפט העליון רע\"פ 54/15 לפני: כבוד השופט א\\' שהם המבקשים: 1. פלוני 2. פלוני נגד המשיבה: מדינת ישראל בקשת רשות ערעור על פסק דינו של בית המשפט המחוזי בירושלים, מיום 8.12.2014, בענ\"פ 29336-07-14, שניתן על-ידי כב\\' השופטים א\\' רומנוב; ד\\' מינץ; א\\' נחליאלי-חיאט בשם המבקשים: עו\"ד חאג\\' מופיד החלטה 1. לפניי בקשה לרשות ערעור על פסק דינו של בית המשפט המחוזי בירושלים (כב\\' השופטים א\\' רומנוב; ד\\' מינץ; א\\' נחליאלי-חיאט), בענ\"פ 29336-07-14, מיום 8.12.2014, בגדרו התקבל ערעורה של המשיבה על גזר דינו של בית משפט השלום בירושלים, בשבתו כבית משפט השלום לנוער (כב\\' השופט ש\\' לייבו) (להלן: בית משפט השלום), בת\"פ 25628-03-13, מיום 17.6.2014. בד בבד עם הבקשה לרשות ערעור, הגישו המבקשים בקשה לעיכוב ביצוע עונש המאסר בפועל, אשר הושת עליהם. בהחלטתי מיום 11.1.2015, הוריתי על עיכוב ביצוע העונש עד להכרעה בבקשה לרשות ערעור. רקע והליכים קודמים 1. נגד המבקשים הוגש כתב אישום, המייחס להם עבירות של התפרעות, לפי סעיף 152 לחוק העונשין, התשל\"ז – 1977 (להלן: חוק העונשין); וניסיון תקיפת שוטר בנסיבות מחמירות, לפי סעיף 274 (1), (2) ו-(3) לחוק העונשין, בצירוף עם סעיף 25 לחוק העונשין. 2. בכתב האישום נטען, כי ביום 8.3.2013, בסיומה של תפילת יום השישי, נטלו המבקשים חלק בהפגנות אלימות אשר התקיימו בהר הבית (להלן: ההתפרעויות), ויידו יחד עם אחרים אבנים לעבר כוחות המשטרה שנכחו במקום, במסגרת תפקידם. במהלך ההתפרעויות, נורה בקבוק תבערה על-ידי אחר, ופגע בשוטר. עוד נאמר בכתב האישום, כי המבקשים השתתפו בהתקהלות אסורה, שיש בה כדי להטיל אימה על הציבור; וניסו לתקוף שוטרים כשהם ממלאים את תפקידם כחוק, בהיותם בצוותא חדא עם יותר משני אנשים, כשהם מזויינים באבן, בכוונה להפריע לשוטרים במילוי תפקידם. 3. ביום 10.2.2014, הודו המבקשים בעובדות כתב האישום, ועל יסוד הודאתם זו, קבע בית משפט השלום, כי המבקשים ביצעו את העבירות שיוחסו להם בכתב האישום, והורה על קבלת תסקיר שירות מבחן, בעניינם של המבקשים. 4. ביום 17.6.2014, החליט בית משפט השלום, לאמץ את המלצת שירות המבחן, בעניינם של המבקשים, ולהימנע מהרשעתם בעבירות אותן ביצעו. בהמשך, החליט בית משפט השלום לנקוט כלפי המבקשים בדרכי טיפול לפי סעיף 26 לחוק הנוער (שפיטה, ענישה ודרכי טיפול), התשל\"א – 1971. בהקשר זה, ציין בית משפט השלום, כי \"מדובר בנאשמים אשר נטלו אחריות על מעשיהם, הביעו חרטה. התסקיר שניתן בעניינם הינו תסקיר חיובי ומתייחס לפן השיקומי טיפולי הנוגע ספציפית לעבירות המיוחסות להם. שירות המבחן ציין השתתפות ערה ופעילה מצידם של שני הנאשמים בסדנת חוק ומשפט. יודגש כי מדובר בנאשמים אשר זהו להם מעמד ראשון בבית המשפט, ובאירוע לפני מעל לשנה. אין אינדיקציה להסתבכויות נוספות מצידם\". 5. בגזר דינו, קבע בית משפט השלום, כי המבקשים יחתמו כל אחד על התחייבות עצמית בסך 1,000 ₪, לפיה ימנעו במשך שנה, מביצוע העבירות בהן נקבעה אחריותם; והורה על העמדת המבקשים בצו מבחן לתקופה בת שישה חודשים, במהלכו ישלימו המבקשים את סדנת חוק ומשפט בה החלו. לצד זאת, הטיל בית משפט השלום על המבקש 1 לבצע שירות לתועלת הציבור, בהיקף של 150 שעות; ועל המבקש 2 הטיל לבצע שירות לתועלת הציבור, בהיקף של 120 שעות. בית משפט השלום החליט על היקף שעות שונה, לנוכח הבדלי הגיל בין המבקשים: המבקש 1 היה כבן 17 וארבעה חודשים במועד ביצוע העבירות, ואילו המבקש 2 היה כבן 16 במועד זה. נוסף על כך, השית בית המשפט על כל אחד מן המבקשים קנס בסך של 3,600 ₪ או 30 ימי מאסר תמורתו. 6. המשיבה לא השלימה עם תוצאה זו, והגישה ערעור לבית המשפט המחוזי בירושלים, במסגרתו ביקשה להרשיע את המבקשים בדין, ולהשית עליהם עונשי מאסר בפועל. לטענת המשיבה, בית משפט השלום לא נתן משקל ראוי לנסיבות החמורות של מעשי המבקשים, אשר נעשו בסיום תפילות יום השישי בהר הבית, על כל המשמעויות הנלוות לכך; כי אי הרשעת המבקשים משדרת מסר סלחני ופוגעת באפקט ההרתעה; וכי העובדה שהמבקשים הם קטינים אינה מהווה חסינות מפני הרשעה. 7. בית המשפט המחוזי קיבל את הערעור, וקבע כי יש להרשיע את המבקשים, ולהטיל עליהם עונשי מאסר בפועל. במסגרת פסק דינו, נתן בית המשפט המחוזי את דעתו לחומרת המעשים שיוחסו למבקשים, וקבע, כי \"לנוכח שכיחות סוג העבירות שהמשיבים ביצעו...ולנוכח נסיבות ביצוען...היה מקום לתת בכורה לשיקולי גמול והרתעה ולהעדיפם על פני השיקולים הפרטניים של המשיבים\". עוד נקבע, כי גם כאשר מדובר בקטינים, יש להעדיף את האינטרס הציבורי, ולהורות על הרשעת מבצעי העבירות, וזאת על מנת לשרש את התופעה החמורה של התפרעויות ויידוי אבנים לעבר כוחות המשטרה. לאחר זאת, הרשיע בית המשפט המחוזי את המבקשים בעבירות שיוחסו להם בכתב האישום. אשר לעונש, ציין בית המשפט המחוזי, כי מאחר שמעשי המבקשים, במקרה זה, הם חמורים ביותר – אין די בשירות לתועלת הציבור, וקיימת הצדקה להטיל עליהם עונשי מאסר לריצוי בפועל. לפיכך, ביטל בית המשפט המחוזי את הרכיבים בגזר הדין, שעניינם חתימה על התחייבות עצמית, ושירות לתועלת הציבור, ובמקומם הטיל על המבקש 1 מאסר בפועל לתקופה של שלושה וחצי חודשים, ועל המבקש 2 מאסר בפועל לתקופה של שלושה חודשים ויום אחד. כמו כן, השית בית המשפט המחוזי על המבקשים מאסר מותנה בן 3 חודשים, למשך שנתיים, לבל יעברו העבירות בהן הורשעו בתיק זה. יתר רכיבי העונש, אשר נקבעו בגזר דינו של בית משפט השלום, נותרו בעינם. הבקשה לרשות ערעור 8. בבקשה שלפניי, נטען, כי פסק דינו של בית המשפט המחוזי \"סותר\" את עקרון השוויון, ממנו נגזר עקרון אחידות הענישה. צויין, לעניין זה, כי בגין ההתפרעויות שהתרחשו ביום 8.3.2013, הוגשו שלושה כתבי אישום: כתב אישום נגד 7 בגירים; כתב אישום נגד קטין נוסף בבית משפט השלום לנוער; וכתב אישום בעניינם של המבקשים. המבקשים סבורים, כי בשל העובדה, שפסק הדין בערעור ניתן בזמן של ריבוי התפרעויות והפרות סדר בירושלים – העונשים אשר הוטלו עליהם חמורים מאלה שהוטלו על הבגירים ועל הקטין הנוסף. כמו כן, לטענת המבקשים, בקשתם מצדיקה רשות ערעור, שכן זו מעלה שאלה משפטית עקרונית, הנוגעת למדיניות הענישה הראויה בעבירות כגון דא; ולנוכח הפער החריג בין רמת הענישה שנקבעה בבית המשפט המחוזי, לבין זו שנקבעה בבית משפט השלום. בהמשך, טענו המבקשים כי בית המשפט המחוזי שגה, בכך שלא התאים את הענישה לנסיבותיהם האישיות של המבקשים, ובכלל זה לשיקולי שיקום, ולעצם היותם של המבקשים קטינים במועד ביצוע העבירות. דיון והכרעה 9. לאחר שעיינתי בבקשה לרשות ערעור ובנספחיה, הגעתי לכלל מסקנה כי אין מקום ליתן למבקשים רשות ערעור \"בגלגול שלישי\". הלכה מושרשת היא, כי רשות ערעור תינתן במשורה, ורק במקרים אשר מעוררים סוגיה משפטית כבדת משקל או בעלת השפעה רחבה, וכן במקרים חריגים אשר מתגלה בהם אי-צדק או עיוות דין כלפי המבקש (רע\"פ 8858/14 יעקובוב נ\\' מדינת ישראל (15.1.2015); רע\"פ 16/15 בסיר סעאידה נ\\' מדינת ישראל (13.1.2015); רע\"פ 8087/14 נדים אנגנאץ נ\\' מדינת ישראל (10.12.2014)). הבקשה שלפניי אינה חורגת מעניינם הפרטי של המבקשים, וחרף האמור בה, נסיבות המקרה אינן מעוררות כל שאלה משפטית העשויה להצדיק רשות ערעור בפני בית משפט זה. כמו כן, לא עולה חשש לעיוות דין כלפי המבקשים או כי מתקיימים שיקולי צדק כלפיהם. אף אם בית משפט השלום ובית המשפט המחוזי הגיעו למסקנות שונות, אין בכך משום הצדקה לקיים דיון נוסף בעניינו של המבקש, בפני בית משפט זה (רע\"פ 4070/14 \\u200fפלונית נ\\' מדינת ישראל (17.6.2014); רע\"פ 2180/14 שמואלי נ\\' מדינת ישראל (24.4.2014)). 10. האפשרות הנתונה לבית המשפט להימנע מהרשעתו של נאשם שביצע עבירה, מעוגנת בסעיף 71א(ב) לחוק העונשין, והיא מהווה חריג לכלל, לפיו משהוכח ביצועה של עבירה יש להרשיע את הנאשם. במילים אחרות, תוצאה של הימנעות מהרשעה, חרף הקביעה כי הנאשם ביצע את העבירה, היא תוצאה חריגה, השמורה למקרים מיוחדים ויוצאי דופן. שני תנאים מצטברים נקבעו, על מנת להימנע מהרשעה: \"ראשית, על ההרשעה לפגוע פגיעה חמורה בשיקום הנאשם, ושנית, סוג העבירה מאפשר לוותר בנסיבות המקרה המסוים על ההרשעה בלי לפגוע באופן מהותי בשיקולי הענישה האחרים\" (ע\"פ 2083/96 כתב נ\\' מדינת ישראל, פ\"ד נב(3) 337 (1997), פסקה 7 לפסק-דינה של השופטת ד\\' דורנר). יישום תנאים אלה, בנסיבות המקרה, מוביל למסקנה כי עניינם של המבקשים איננו נמנה על אותם מקרים חריגים, שקיימת בהם הצדקה להימנעות מהרשעה. 11. במסגרת פסק דינו, התייחס בית המשפט המחוזי, לחומרת העבירות שבוצעו על-ידי המבקשים, בקובעו כי: \"לא ראינו להסתפק בדרך בה הלך בית המשפט קמא, והסיכון הרב הנשקף מיידוי האבנים ומאלימות כלפי שוטרים, מחייב עמדה עונשית נחרצת שיש בה \\'להרתיע את המבצע עצמו ואת העבריינים בכוח, צעירים המתפתים על נקלה להשליך אבנים ובקבוקי תבערה ולסכן חיי אדם\\'...לכן, בהביאנו במסגרת השיקולים את הנסיבות ואת החומרה שיש לייחס לעבירות אלימות כלפי שוטרים והתפרעויות שבמהלכן מיידים קטינים אבנים ומושלכים אף בקבוקי תבערה, תופעה ההולכת ומתעצמת מזה זמן ארוך, אנו סבורים כי ראוי להעביר מסר אחד בעבירות כאלה כי אין להסתפק בפן השיקומי והכלל הוא כי יש להרשיע את המשיבים אף אם מדובר בקטינים שזו להם העבירה הראשונה...\" לטעמי, בית המשפט המחוזי צדק בקביעתו זו, שכן סוג העבירה ונסיבותיה, אינם מאפשרים, בנדון דידן, להימנע מהרשעה. 12. בכל הנוגע לשאלה שעניינה הפגיעה בצורכי שיקומו של הנאשם, נקבע, כי אין מקום להסתפק ב\"תרחיש תיאורטי\", ויש להצביע על קיומו של נזק \"מוחשי וקונקרטי\" אשר צפוי לנאשם כתוצאה מעצם ההרשעה (רע\"פ 1439/13 \\u200fקשת נ\\' מדינת ישראל (4.3.2013); רע\"פ 8627/12 הנסב נ\\' מדינת ישראל (31.12.2012)). יצויין, כי דרישה זו אינה מתייתרת, גם כאשר מדובר בקטינים (ראו עמדתי בע\"פ 5931/13 פלוני נ\\' מדינת ישראל (10.2.2014); רע\"פ 2180/14 ספיר שמואלי נ\\' מדינת ישראל (24.4.2014)). במקרה שלפנינו, לא מצאתי, כי הרשעת המבקשים תפגע בהם פגיעה חמורה, מה גם שלא עלה בידי המבקשים להראות, כי הרשעתם תוביל לפגיעה מהותית וקונקרטית בעתידם או בצורכי שיקומם. 13. למעלה מן הצורך, אדרש, בקצרה, לטענותיהם של המבקשים לגופן. ראשית, אין בידי לקבל את טענת המבקשים, לפיה פסק דינו של בית המשפט המחוזי פוגע בעקרון השוויון, משום שלדבריהם העונשים אשר הוטלו עליהם חמורים מאלה שהוטלו על הנאשמים הנוספים שהיו שותפים לאותן התפרעויות. בית המשפט המחוזי נתן את דעתו לפסיקה אליה הפנו הצדדים, והבהיר, כי \"מעשי המשיבים במקרה זה חמורים ביותר, מעבר לחומרה שתוארה ברבים מפסקי הדין שפורטו לעיל\". מעבר לזאת, הלכה היא, כי השגה על מידת העונש אין בכוחה להצדיק מתן רשות ערעור, למעט במקרים בהם ניכרת חריגה קיצונית ממדיניות הענישה הראויה והמקובלת במקרים דומים (רע\"פ 8719/14 יעקב בן טולילה נ\\' מדינת ישראל (14.1.2015); רע\"פ 7584/14 אבו שוקור נ\\' מדינת ישראל (2.12.2014); רע\"פ 7641/14 אלטורי נ\\' מדינת ישראל (30.11.2014)). גם אם ניתן היה למצוא גזרי דין מקלים יותר, בנסיבות הדומות לענייננו, אין הדבר מעיד כי העונש אשר הושת על המבקשים חורג באופן מהותי ממדיניות הענישה הראויה. במצב דברים זה, סבורני כי לא נפל כל פגם בעונשים אשר הושתו על המבקשים על-ידי בית המשפט המחוזי. 14. באופן דומה, לא מצאתי ממש בטענת המבקשים, כי בית המשפט המחוזי לא התאים את הענישה לנסיבותיהם האישיות. לעניין זה, קבע בית המשפט המחוזי, כי: \"בצד החומרה שראינו לייחס לעבירות שבהן הורשעו המשיבים, נתנו דעתנו לנסיבותיהם האישיות של המשיבים, לגילם בעת ביצוע העבירות, לתסקיר שירות המבחן, להעדר רישום פלילי ולהתייחסות בית משפט קמא לנסיבות של המשיבים כאמור בגזר הדין, וראינו אף לאמץ את דבריו אשר למשיבים ואשר למדרג שקבע בענישה לגביהם בשל השוני בגילם...\" הנה כי כן, בית המשפט המחוזי לא התעלם מנסיבותיהם הפרטניות של המבקשים, ומיתר השיקולים לקולה. בית המשפט המחוזי נתן את דעתו למכלול שיקולי הענישה הרלוונטיים, וערך ביניהם איזון ראוי, בנסיבות העניין. לפיכך, אינני רואה כל הצדקה להתערב במידת עונשם של המבקשים, והדברים נאמרים ביתר שאת כאשר מדובר בדיון ב\"גלגול שלישי\". 15. אשר על כן, הבקשה לרשות ערעור נדחית בזאת. המבקשים יתייצבו לריצוי עונשם ביום 1.3.2015, עד לשעה 10:00, בימ\"ר ניצן, או על פי החלטת שירות בתי הסוהר, כשברשותם תעודת זהות או דרכון ועותק מהחלטה זו. על המבקשים לתאם את הכניסה למאסר, עם ענף אבחון ומיון של שירות בתי הסוהר, בטלפונים: 08-9787377 או 08-9787336. ניתנה ביום, \\u200fו\\' בשבט התשע\"ה (\\u200f26.1.2015). תוקנה היום, ז\\' בשבט התשע\"ה (27.1.2015). ש ו פ ט _________________________ \n",
            "73                                                                                                                                                                                                                                                                                                                                                                                                                                                                                                                                                                                                                                                                                                                                                                                                                                                                                                                                                                                                                                                                                                                                                                                                                                                                                                                                                                                                                                                                                                                                                                                                                                                                                                                                                                                                                                                                                                                                                                                                                                                                                                                                                                                                                                                                                                                                                                                                                                                                                                                                                                                                                                                                                                                                                                                                                                                                                                                                                                                                                                                                                                                                                                                                                                                                                                                                                                                                                                                                                                                                                                                                                                                                                                                                                                                                                                                                                                                                                                                                                                                                                                                                                                                                                                                                                                                                                                                                                                                                                                                                                                                                                                                                                                                                                                                                                                                                                                                                                                                                                                                                                                                                                                                                                                                                                                                                                                                                                                                                                                                                                                                                                                                                                                                                                                                                                                                                                                                                                                                                                                                                                                                                                                                                                                                                                                                                                                                                                                                                                                                                                                                                                                                                                                                                                                                                                                                                                                                                                                                                                                                                                                                                                                                                                                                                                                                                                                                                                                                                                                                                                                                                                                                                                                                                                                                                                                                                                                                                                                                                                                                                                                                                                                                                                                                                                                                                                                                                                                                                                                                                                                                                                                                                                                                                                                                                                                                                                                                                                                                                                                                                                                                                                                                                                                                                                                                                                                                                                                                                                                                                                                                                                                                                                                                                                                                                                                                                                                                                                                                       ['פסק דין בתיק רע\"פ 2811/15 בבית המשפט העליון רע\"פ 2811/15 לפני: כבוד השופט ח\\' מלצר כבוד השופט נ\\' הנדל כבוד השופטת ד\\' ברק-ארז המבקש: פלוני נגד המשיבה: מדינת ישראל חוות דעת הממונה על עבודות שירות מתאריך 02.12.2015; פסק דין משלים בבקשת רשות ערעור על גזר דינו של בית המשפט המחוזי בירושלים (כב\\' השופטים: א\\' כהן, מ\\' יועד הכהן ו-מ\\' בר-עם) מיום 15.03.0015 בתיק עפ\"ג 024776-10-14 תאריך הישיבה: י\"ג בכסלו התשע\"ו (25.11.2015) בשם המבקש: עו\"ד מוריה ששון בשם המשיב: עו\"ד תומר סגלוביץ\\' בשם שירות המבחן: הגב\\' ברכה וייס פסק דין משלים 1. בהמשך לפסק דיננו מתאריך 25.11.2015 אנו מורים כי המבקש ירצה את עונש של 3 חודשי מאסר שהושת עליו, על דרך של עבודות שירות, בהתאם לחוות דעת הממונה – במרכז יום לקשיש, רח\\' המשלט 17 בית שמש, וזאת במשך חמישה ימים בשבוע, 8.5 שעות עבודה יומיות, החל מתאריך 24.01.2016. בתאריך האמור המבקש יתייצב במשרדי הממונה על עבודות שירות במפקדת מחוז מרכז, יחידת עבודות שירות, ת.ד. 81, רמלה, בשעה 08:00. המבקש מוזהר באשר למועד ההתייצבות ולביצוע העבודות כהלכתן. 2. עותק מפסק הדין המשלים יועבר לממונה על עבודות שירות. ניתן היום, \\u200fכ\"ו בכסלו התשע\"ו (\\u200f8.12.2015). ש ו פ ט ש ו פ ט ש ו פ ט ת _________________________ \n",
            "114                                                                                                                                                                                                                                                                                                                                                                                                                                                                                                                                                                                                                                                                                                                                                                                                                                                                                                                                                                                                                                                                                                                                                                                                                                                                                                                                                                                                                                                                                                                                                                                                                                                                                                                                                                                                                                                                                                                                                                                                                                                                                                                                                                                                                                                                                                                                                                                                                                                                                                                                                                                                                                                                                                                                                                                                                                                                                                                                                                                                                                                                                                                                                                                                                                                                                                                                                                                                                                                                                                                                                                                                                                                                                                                                                                                                                                                                                                                                                                                                                                                                                                                                                                                                                                                                                                                                                                                                                                                                                                                                                                                                                                                                                                                                                                                                                                                                                                                                                                                                                                                                                                                                                                                                                                                                                                                                                                                                                                                                                                                                                                                                                                                                                                                                                                                                                                                                                                                                                                                                                                                                                                                                                                                                                                                                                                                                                                                                                                                                                                                                                                                                                                                                                                                                                                                                                                                                                                                                                                                                                                                                                                                                                                                                                                                                                                                                                                                                                                                                                                                                                                                                                                                                                                                                                                                                                                                                                                                                                                                                                                                                                                                                                                                                                                                                                                                                                                                                                                                                                                                                                                                                                                                                                                                                                                                                                                                                                                                                                                                                                                                                                                                                                                                                                                                                                                                                                                                                                                                                                                                                                                                                                                                                                                                                                                                                                                                                                                                                                                                                                                                                                                                                                                                                                                                                                             ['פסק דין בתיק רע\"פ 2195/15 בבית המשפט העליון רע\"פ 2195/15 רע\"פ 2231/15 לפני: כבוד השופט ס\\' ג\\'ובראן כבוד השופט נ\\' הנדל כבוד השופט א\\' שהם המבקשים ברע\"פ 2195/15: 1. אהוד יפרח 2. חב\\' אהוד מאיר שאיבות בע\"מ 3. טיהל נכסים בע\"מ 4. לי יפרח המבקשים ברע\"פ 2231/15: 1. יוסי ליבוביץ\\' 2. רינת ליבוביץ\\' נגד המשיבה: מדינת ישראל בקשות רשות ערעור על החלטתו של בית המשפט המחוזי מרכז-לוד מיום 26.2.2015 בע\"ח 28595-01-15 שניתן על ידי כבוד השופטת דבורה עטר תאריך הישיבה: כ\"ג באלול התשע\"ה (7.9.2015) בשם המבקשים ברע\"פ 2195/15: עו\"ד דרור מתתיהו; עו\"ד הגר נגלר בשם המבקשים ברע\"פ 2231/15: עו\"ד יהושע רזניק; עו\"ד ציון סהראי בשם המשיבה: עו\"ד אבי וסטרמן; עו\"ד יפעת שטיין פסק דין בהמלצתנו חזרו בהם באי כוח המבקשים מהבקשות למתן רשות ערעור, והבקשות נדחות בזה. ניתן היום, כ\"ג באלול התשע\"ה (\\u200f7.9.2015). ש ו פ ט ש ו פ ט ש ו פ ט _________________________ \n",
            "Name: גוף המסמך, dtype: object\n"
          ]
        }
      ]
    },
    {
      "cell_type": "code",
      "source": [
        "def extract_relevant_part(text):\n",
        "    words = str(text).split()\n",
        "    if len(words) > 1000:\n",
        "        return \" \".join(words[-800:-20])\n",
        "    return text\n",
        "\n",
        "df[\"גוף המסמך חתוך\"] = df[\"גוף המסמך\"].apply(extract_relevant_part)\n",
        "\n",
        "df[[\"גוף המסמך\", \"גוף המסמך חתוך\"]].head()\n"
      ],
      "metadata": {
        "colab": {
          "base_uri": "https://localhost:8080/",
          "height": 1000
        },
        "id": "997LkOwE5bcg",
        "outputId": "952ac0f9-3c75-4c38-b225-e262c13e7feb"
      },
      "execution_count": 75,
      "outputs": [
        {
          "output_type": "execute_result",
          "data": {
            "text/plain": [
              "                                                                                                                                                                                                                                                                                                                                                                                                                                                                                                                                                                                                                                                                                                                                                                                                                                                                                                                                                                                                                                                                                                                                                                                                                                                                                                                                                                                                                                                                                                                                                                                                                                                                                                                                                                                                                                                                                                                                                                                                                                                                                                                                                                                                                                                                                                                                                                                                                                                                                                                                                                                                                                                                                                                                                                                                                                                                                                                                                                                                                                                                                                                                                                                                                                                                                                                                                                                                                                                                                                                                                                                                                                                                                                                                                                                                                                                                                                                                                                                                                                                                                                                                                                                                                                                                                                                                                                                                                                                                                                                                                                                                                                                                                                                                                                                                                                                                                                                                                                                                                                                                                                                                                                                                                                                                                                                                                                                                                                                                                                                                                                                                                                                                                                                                                                                                                                                                                                                                                                                                                                                                                                                                                                                                                                                                                                                                                                                                                                                                                                                                                                                                                                                                                                                                                                                                                                                                                                                                                                                                                                                                                                                                                                                                                                                                                                                                                                                                                                                                                                                                                                                                                                                                                                                                                                                                                                                                                                                                                                                                                                                                                                                                                                                                                                                                                                                                                                                                                                                                                                                                                                                                                                                                                                                                                                                                                                                                                                                                                                                                                                                                                                                                                                                                                                                                                                                                                                                                                                                                                                                                                                                                                                                                                                                                                                                                                                                                                                                                                                                                                                                                                                                                                                                                                                                                                                                                                                                                                                                                                                                                                                                                                                                                                                                                                                                                                                                                                                                                                                                                                                                                                                                                                     גוף המסמך  \\\n",
              "5                                                                                                                                                                                                                                                                                                                                                                                                                                                                                                                                                                                                                                                                                                                                                                                                                                                                                                                                                                                                                                                                                                                                                                                                                                                                                                                                                                                                                                                                                                                                                                                                                                                                                                                                                                                                                                                                                                                                                                                                                                                                                                                                                                                                                                                                                                                                                                                                                                                                                                                                                                                                                                                                                                                                                                                                                                                                                                                                                                                                                                                                                                                                                    ['החלטה בתיק רע\"פ 3622/15 בבית המשפט העליון רע\"פ 3622/15 לפני: כבוד השופט ח\\' מלצר המבקש: יעקב סארה נגד המשיבה: מדינת ישראל בקשת רשות ערעור על פסק דינו של בית המשפט המחוזי בנצרת (כב\\' השופטים: א\\' הלמן, י\\' שיטרית, ס\\' דבור) מתאריך 12.05.2015 ב-ע\"פ 28199-03-15 בשם המבקש: עו\"ד בוריס קסונוביץ; עו\"ד אלפסי ברנרד החלטה 1. לפני בקשת רשות ערעור על פסק דינו של בית המשפט המחוזי בנצרת (כב\\' השופטים: א\\' הלמן, י\\' שיטרית, ס\\' דבור) ב-ע\"פ 28199-03-15, בגדרו התקבל, באופן חלקי, ערעורו של המבקש על גזר דינו של בית המשפט השלום בנצרת (כב\\' סגנית הנשיא ל\\' יונג-גפר) ב-ת\"פ 1687-01-14. לצד בקשת רשות הערעור, הוגשה גם בקשה לעיכוב ביצוע של עונש המאסר שהושת על המבקש. בהקשר זה הוריתי כי עונש המאסר בפועל שהושת על המבקש יעוכב עד למתן החלטה אחרת. אביא עתה את הנתונים הרלבנטיים להכרעה במכלול. רקע והליכים קודמים 2. בית משפט השלום הנכבד הרשיע את המבקש, על פי הודאתו, במסגרת הסדר טיעון – בעבירות אלימות שיוחסו לו בכתב אישום מתוקן שהוגש נגדו ונגד שני נאשמים נוספים (להלן: נאשם 1 ונאשם 3 בהתאמה, או שני הנאשמים האחרים). 3. מעובדות כתב האישום המתוקן עולה כי, בתאריך 29.12.2013, בשעה 21:45, או בסמוך לכך, המתלוננים בילו בבית קפה בקניון בנצרת עלית. כאשר באו לעזוב את בית הקפה, פנה נאשם 3 לאחד המתלוננים ושאל אותו מי הוא ומהיכן הוא, ובתגובה לכך המתלונן השיב: \"מה אכפת לך\". בסמוך לאחר מכן המתלוננים יצאו מהקניון, תוך שהמבקש ושני הנאשמים האחרים דולקים אחריהם, ובשעה שנאשם 3 מסליק בשרוול חולצתו סכין מטבח חדה (להלן: הסכין). המבקש, אשר זיהה את המתלוננים, רץ לעבר אחד מהם והחל לתקוף אותו באגרופים ובבעיטות בראש ובגוף. לאחר זאת, שני הנאשמים האחרים חברו אל המבקש ותקפו אף הם את המתלוננים. במהלך התקיפה האמורה להב הסכין ננעץ בראשו של אחד המתלוננים, וכתוצאה מכך נגרמו לו פצעי חתך, שהצריכו תפרים. נוכח האמור לעיל – המבקש ושני הנאשמים הנוספים הואשמו בעבירות הבאות: תקיפה סתם לפי סעיף 382(א) לחוק העונשין, התשל\"ז-1977 (להלן: חוק העונשין)), וחבלה ופציעה בנסיבות מחמירות לפי סעיף 335(א)(2) לחוק העונשין. בנוסף, נאשם 3 הואשם בעבירה של החזקת אגרופן, או סכין למטרה לא כשרה לפי סעיף 186(א) לחוק העונשין. 4. בהתאם להסכמת הצדדים, המבקש ושני הנאשמים הנוספים נשלחו אל שירות המבחן לצורך הכנת תסקיר מבחן בעניינם טרם גזירת עונשם. שירות המבחן נמנע מליתן המלצה טיפולית בעניינו של המבקש, וזאת בשל אי-הבעת נזקקות מצידו, וכן נוכח עמדתה של קצינת המבחן לפיה המבקש לא היה בשל לטיפול והתקשה להבין את חומרת מעשיו. לבקשת סנגורו של המבקש ולאור הטענה כי המבקש לא הובן בשל קשיי שפה – המבקש נשלח לשירות המבחן פעם נוספת לשם עריכת תסקיר משלים בענייננו. מהתסקיר המשלים עלה כי המבקש מדבר עברית שוטפת, ללא קשיי שפה כלשהם. עוד צוין, כי קצינת המבחן לא התרשמה כי חל שינוי בהתייחסותו של המבקש לעבירות שביצע. עם זאת, קצינת המבחן ציינה כי המבקש הביע בפגישה החוזרת מוטיבציה לקחת חלק בהליך טיפולי, ועל כן המליצה להעמידו בצו מבחן למשך 18 חודשים וכן להשית עליו עונש מאסר לריצוי בדרך של עבודות שירות וענישה מותנית לתקופה משמעותית. 5. בית המשפט החליט שלא לקבל את המלצות שירות המבחן, ובגזר דינו השית על המבקש את העונשים הבאים: 9 חודשי מאסר בפועל בניכוי ימי מעצרו; 12 עונשי מאסר על תנאי, לבל יעבור המבקש, במשך שלוש שנים מיום שחרורו ממאסר, כל עבירת אלימות מסוג פשע; 6 חודשי מאסר על תנאי, לבל יעבור המבקש, במשך שלוש שנים מיום שחרורו ממאסר, כל עבירת אלימות מסוג עוון; וקנס בסך 2,500 ש\"ח, או 25 ימי מאסר תמורתו. 6. המבקש ערער לבית המשפט המחוזי על חומרת העונש שהושת עליו. בערעורו, טען המבקש כי חלקו הפחות בפרשה ביחס לזה של נאשם 3, עברו הפלילי הנקי ונסיבותיו האישיות – מצדיקות הקלה בעונש המאסר שהושת עליו, לתקופה אותה ניתן לרצות בדרך של עבודות שירות. בית המשפט המחוזי הנכבד קיבל את ערעורו של המבקש באופן חלקי, וקיצר את תקופת המאסר שהושתה על המבקש בחודש, כך שהעמידה על 8 חודשי מאסר לריצוי בפועל, בקובעו, בין השאר, כדלקמן: \"נוכח חלקו השונה של המערער מס\\' 2 באחריות לנסיבות העבירה והתוצאה שנגרמה למתלונן, היה מקום להקל בעונשו ביחס למערער מס\\' 3 וזאת בהתאם לעיקרון אחידות הענישה. יחד עם זאת, אין אנו סבורים כדעת בא כוחו של המערער מס\\' 2, כי הקלה זו צריכה להביא בגזירת עונשו ברף הנמוך הקיצון, כך שיגזרו עליו 6 חודשי מאסר בפועל לריצוי בדרך של עבודות שירות\" (עמ\\' 11 לפסק הדין). מכאן בקשת רשות הערעור שלפני. טענות המבקש 7. בבקשה למתן רשות ערעור – המבקש טוען כי פסק דינו של בית המשפט המחוזי הנכבד לא היה מנומק דיו, ודי בטעם זה כדי להצדיק מתן רשות ערעור בנסיבות. עוד נטען, כי הערכאות הקודמות לא ייחסו חשיבות מספקת להסדר ה\"סולחה\" שנערך בין הצדדים בעקבות האירוע המתואר בכתב האישום המתוקן. בנוסף, המבקש מלין על חומרת העונש שהושת עליו. בתוך כך, המבקש טוען כי בית המשפט המחוזי לא נתן את המשקל הראוי לנתונים הבאים: המלצת שירות המבחן בעניינו, הודאתו בעובדות כתב האישום המתוקן, היותו נעדר עבר פלילי, חלקו היחסי הקטן באירוע, ויתר נסיבותיו האישיות. דיון והכרעה 8. לאחר עיון בבקשה ובחומר שצורף אליה – הגעתי למסקנה כי דין הבקשה לרשות ערעור – להידחות. טעמי לכך יובאו בתמציתיות מיד בסמוך. 9. הלכה היא כי בקשת רשות ערעור ב\"גלגול שלישי\" תתקבל במקרים מיוחדים, בהם מתעוררת שאלה משפטית רחבת היקף וכבדת משקל, בעלת השלכות ציבוריות החורגות מעניינם הקונקרטי של הצדדים לבקשה, או בנסיבות המעוררות חשש מפני עיוות דין, או אי-צדק חמור שנגרם למבקש (ראו: ר\"ע 103/82 חניון חיפה בע\"מ נ\\' מצת אור (הדר חיפה) בע\"מ, פ\"ד לו(3) 123 (1982); רע\"פ 6487/12 דביר נ\\' מדינת ישראל (15.07.2013); רע\"פ 3101/15 אבו רמילה נ\\' מדינת ישראל (\\u200f25.05.2015)). 10. לאחר שבחנתי את הבקשה שלפני, סבורני כי היא איננה עומדת בקריטריונים שנקבעו בפסיקה למתן רשות ערעור \"בגלגול שלישי\" – הבקשה איננה חורגת מעובדות המקרה הקונקרטי, ואיננה מעוררת כל שאלה משפטית עקרונית. כמו כן לא מצאתי כי נגרם למבקש עיוות דין, או כי מתקיימים שיקולי צדק התומכים במתן רשות ערעור בעניינו. 11. מעבר לכך – עניינה של הבקשה הוא בחומרת העונש שהושת על המבקש, וכפי שנפסק על ידי בית משפט זה – השגה על חומרת העונש איננה מקימה עילה לקיום דיון \"בגלגול שלישי\" בפני בית משפט זה, למעט במקרים חריגים, בהם העונש, אשר הושת על המבקש סוטה סטייה ניכרת ממדיניות הענישה הראויה והמקובלת בעבירות דומות (ראו למשל: רע\"פ 3929/09 דהן נ\\' מדינת ישראל (16.08.2009)). בנסיבות העניין, סבורני כי העונש שהושת על המבקש איננו סוטה לחומרא ממדיניות הענישה שנקבעה בעניינים כגון דא (השוו: רע\"פ 3552/14 אזולאי-דלה נ\\' מדינת ישראל (\\u200f28.05.2014); רע\"פ 4849/14 יזזאו נ\\' מדינת ישראל (13.07.2014)). די בטעמים אלו, כשלעצמם, כדי לדחות את הבקשה לרשות ערעור. 12. אף לגופו של עניין, לא מצאתי כי טענתיו של המבקש מצדיקות מתן רשות ערעור ב\"גלגול שלישי\". בניגוד לטענתו של המבקש, התרשמתי כי הערכאות הקודמות העניקו משקל ראוי לנסיבותיו האישיות, לנסיבות ביצוע העבירה, וכן להסדר ה\"סולחה\" שנערך בין הצדדים. מגזר דינו של בית משפט השלום הנכבד עולה כי הסדר ה\"סולחה\" שימש כאחד הטעמים לכך שנגזרו על המבקש ושני הנאשמים הנוספים עונשים ברף הנמוך של מתחם העונש שנקבע, ומשכך דומה עלי כי ניתן להסדר ה\"סולחה\" המשקל הראוי בנסיבות, ויפים לעניין זה הדברים שציינתי ב-ע\"פ 9468/07 שלאבנה נ\\' מדינת ישראל (09.03.2009), לפיהם: \"בית משפט זה נכון, עקרונית, להעניק לעיתים משקל-מה להסדר סולחה בהתקיים נסיבות מסוימות... אך מובן כי אין בכוחה של ה\\'סולחה\\' לאיין לחלוטין את חומרתה של העבירה\" (שם, בפיסקה 12). 13. זאת ועוד: מקובלת עלי עמדתו של המבקש לפיה מתחייבת הבחנה בין העונש שהושת עליו לבין זה שהושת על נאשם 3, וזאת לנוכח ההבדל במעורבותם בביצוע העבירות. עם זאת, לאור העובדה כי המבקש פעל בצוותא עם שני הנאשמים האחרים, ובשים לב לכך שהיה זה הוא שאיתר את המתלוננים (לאחר שעזבו את בית הקפה), רץ לעברם והחל לתקוף אותם, ובכך תרם תרומה ממשית להתפתחות האלימה, מושא כתב האישום המתוקן – סבורני כי אין הצדקה להתערבות נוספת בעונש שהושת על המבקש. 14. לבסוף אציין כי לא מצאתי ממש בטענתו של המבקש בנוגע להיעדר הנמקה בפסק דינו של בית המשפט המחוזי, וגם מטעם זה יש לדחות את הבקשה. 15. לנוכח כל האמור לעיל – הבקשה למתן רשות ערעור נדחית. 16. עיכוב ביצוע העונש שעליו הוריתי – מבוטל איפוא. המבקש יתייצב לריצוי עונש המאסר שנגזר עליו – בתאריך 29.03.2016 עד לשעה 10:00, בבימ\"ר קישון, או במקום אחר על פי החלטת שירות בתי הסוהר, כשברשותו תעודת זהות, או דרכון. על המבקש לתאם את הכניסה למאסר, כולל האפשרות למיון מוקדם, עם ענף אבחון ומיון של שירות בתי הסוהר, טלפונים: 08-9787377 או 08-9787336. ניתנה היום, \\u200fכ\"א באדר א התשע\"ו (\\u200f01.03.2016). ש ו פ ט _________________________    \n",
              "31                                                                                                                                                                                                                                                                                                                                                                                                                                                                                                                                                                                                                                                                                                                                                                                                                                                                                                                                                                                                                                                                                                                                                                                                                                                                                                                                                                                                                                                                                                                                                                                                                                                                                                                                                                                                                                                                                                                                                                                                                                                                                                                                                                                                                                                                                                                                                                                                                                                                                                                                                                                                                                                                                                                                                                                                                                                                                                                                                                                                                                                                                                                                                                                                                                                                                                                                                                                                                                                                                                                                                                                                                                                                                                                                                                                                                                                                                                                                                                                                                                                                                                                                                                                                                                                                                                                                                                                                                                                                                                                                                                                                                                                                                                                                                                                                                                                                                                                                                                                                                                                                                                                                                                                                                                                                                                                                                                                                                                                                                                                                                                                                                                                                                                                                                                                                                                                                                                                                                                                                                                                                                                                                                                                                                                                                                                                                                                                                                                                                                                                                                                                                                                                                                                                                                                                                                                                                                                                                                                                                                                                                                                                                                                                                                                                                                                                                                                                                                                                                                                                                                                                                                                                                                                                                                                                                                                                                                                                                                                                                                                                                                                                                                                                                                                                                                                                                                                                                                                                                                                                                                                                                                                                                                                                                                                                                                                                                                                                                                                                                                                                                                                                                                                                                                                                                                                                                                                                                                                                                                                                                                                                                                                                                                                                                                                                                                                                                                                                                                                                                                                                                                                                                                                                                                                                                                                                                                                                                                                                            ['החלטה בתיק רע\"פ 825/15 בבית המשפט העליון רע\"פ 825/15 - ב\\' לפני: כבוד השופט ח\\' מלצר המבקש: מרדכי קיסוס נגד המשיבה: מדינת ישראל בקשה לעיכוב ביצוע עונש מאסר מתאריך 18.02.2015; תגובת המשיבה לבקשה מתאריך 19.02.2015 בשם המבקש: עו\"ד שמואל ברזני בשם המשיבה: עו\"ד סיגל בלום החלטה כמבוקש וכמוסכם המבקש יתייצב לריצוי עונש המאסר שנגזר עליו – בתאריך 13.04.2015 עד לשעה 10:00, בבימ\"ר קישון, או במקום אחר על פי החלטת שירות בתי הסוהר, כשברשותו תעודת זהות, או דרכון. על המבקש לתאם את הכניסה למאסר, כולל האפשרות למיון מוקדם, עם ענף אבחון ומיון של שירות בתי הסוהר, טלפונים: 08-9787377 או 08-9787336. ניתנה היום, \\u200fג\\' באדר התשע\"ה (\\u200f22.2.2015). ש ו פ ט _________________________    \n",
              "67   ['החלטה בתיק רע\"פ 54/15 בבית המשפט העליון רע\"פ 54/15 לפני: כבוד השופט א\\' שהם המבקשים: 1. פלוני 2. פלוני נגד המשיבה: מדינת ישראל בקשת רשות ערעור על פסק דינו של בית המשפט המחוזי בירושלים, מיום 8.12.2014, בענ\"פ 29336-07-14, שניתן על-ידי כב\\' השופטים א\\' רומנוב; ד\\' מינץ; א\\' נחליאלי-חיאט בשם המבקשים: עו\"ד חאג\\' מופיד החלטה 1. לפניי בקשה לרשות ערעור על פסק דינו של בית המשפט המחוזי בירושלים (כב\\' השופטים א\\' רומנוב; ד\\' מינץ; א\\' נחליאלי-חיאט), בענ\"פ 29336-07-14, מיום 8.12.2014, בגדרו התקבל ערעורה של המשיבה על גזר דינו של בית משפט השלום בירושלים, בשבתו כבית משפט השלום לנוער (כב\\' השופט ש\\' לייבו) (להלן: בית משפט השלום), בת\"פ 25628-03-13, מיום 17.6.2014. בד בבד עם הבקשה לרשות ערעור, הגישו המבקשים בקשה לעיכוב ביצוע עונש המאסר בפועל, אשר הושת עליהם. בהחלטתי מיום 11.1.2015, הוריתי על עיכוב ביצוע העונש עד להכרעה בבקשה לרשות ערעור. רקע והליכים קודמים 1. נגד המבקשים הוגש כתב אישום, המייחס להם עבירות של התפרעות, לפי סעיף 152 לחוק העונשין, התשל\"ז – 1977 (להלן: חוק העונשין); וניסיון תקיפת שוטר בנסיבות מחמירות, לפי סעיף 274 (1), (2) ו-(3) לחוק העונשין, בצירוף עם סעיף 25 לחוק העונשין. 2. בכתב האישום נטען, כי ביום 8.3.2013, בסיומה של תפילת יום השישי, נטלו המבקשים חלק בהפגנות אלימות אשר התקיימו בהר הבית (להלן: ההתפרעויות), ויידו יחד עם אחרים אבנים לעבר כוחות המשטרה שנכחו במקום, במסגרת תפקידם. במהלך ההתפרעויות, נורה בקבוק תבערה על-ידי אחר, ופגע בשוטר. עוד נאמר בכתב האישום, כי המבקשים השתתפו בהתקהלות אסורה, שיש בה כדי להטיל אימה על הציבור; וניסו לתקוף שוטרים כשהם ממלאים את תפקידם כחוק, בהיותם בצוותא חדא עם יותר משני אנשים, כשהם מזויינים באבן, בכוונה להפריע לשוטרים במילוי תפקידם. 3. ביום 10.2.2014, הודו המבקשים בעובדות כתב האישום, ועל יסוד הודאתם זו, קבע בית משפט השלום, כי המבקשים ביצעו את העבירות שיוחסו להם בכתב האישום, והורה על קבלת תסקיר שירות מבחן, בעניינם של המבקשים. 4. ביום 17.6.2014, החליט בית משפט השלום, לאמץ את המלצת שירות המבחן, בעניינם של המבקשים, ולהימנע מהרשעתם בעבירות אותן ביצעו. בהמשך, החליט בית משפט השלום לנקוט כלפי המבקשים בדרכי טיפול לפי סעיף 26 לחוק הנוער (שפיטה, ענישה ודרכי טיפול), התשל\"א – 1971. בהקשר זה, ציין בית משפט השלום, כי \"מדובר בנאשמים אשר נטלו אחריות על מעשיהם, הביעו חרטה. התסקיר שניתן בעניינם הינו תסקיר חיובי ומתייחס לפן השיקומי טיפולי הנוגע ספציפית לעבירות המיוחסות להם. שירות המבחן ציין השתתפות ערה ופעילה מצידם של שני הנאשמים בסדנת חוק ומשפט. יודגש כי מדובר בנאשמים אשר זהו להם מעמד ראשון בבית המשפט, ובאירוע לפני מעל לשנה. אין אינדיקציה להסתבכויות נוספות מצידם\". 5. בגזר דינו, קבע בית משפט השלום, כי המבקשים יחתמו כל אחד על התחייבות עצמית בסך 1,000 ₪, לפיה ימנעו במשך שנה, מביצוע העבירות בהן נקבעה אחריותם; והורה על העמדת המבקשים בצו מבחן לתקופה בת שישה חודשים, במהלכו ישלימו המבקשים את סדנת חוק ומשפט בה החלו. לצד זאת, הטיל בית משפט השלום על המבקש 1 לבצע שירות לתועלת הציבור, בהיקף של 150 שעות; ועל המבקש 2 הטיל לבצע שירות לתועלת הציבור, בהיקף של 120 שעות. בית משפט השלום החליט על היקף שעות שונה, לנוכח הבדלי הגיל בין המבקשים: המבקש 1 היה כבן 17 וארבעה חודשים במועד ביצוע העבירות, ואילו המבקש 2 היה כבן 16 במועד זה. נוסף על כך, השית בית המשפט על כל אחד מן המבקשים קנס בסך של 3,600 ₪ או 30 ימי מאסר תמורתו. 6. המשיבה לא השלימה עם תוצאה זו, והגישה ערעור לבית המשפט המחוזי בירושלים, במסגרתו ביקשה להרשיע את המבקשים בדין, ולהשית עליהם עונשי מאסר בפועל. לטענת המשיבה, בית משפט השלום לא נתן משקל ראוי לנסיבות החמורות של מעשי המבקשים, אשר נעשו בסיום תפילות יום השישי בהר הבית, על כל המשמעויות הנלוות לכך; כי אי הרשעת המבקשים משדרת מסר סלחני ופוגעת באפקט ההרתעה; וכי העובדה שהמבקשים הם קטינים אינה מהווה חסינות מפני הרשעה. 7. בית המשפט המחוזי קיבל את הערעור, וקבע כי יש להרשיע את המבקשים, ולהטיל עליהם עונשי מאסר בפועל. במסגרת פסק דינו, נתן בית המשפט המחוזי את דעתו לחומרת המעשים שיוחסו למבקשים, וקבע, כי \"לנוכח שכיחות סוג העבירות שהמשיבים ביצעו...ולנוכח נסיבות ביצוען...היה מקום לתת בכורה לשיקולי גמול והרתעה ולהעדיפם על פני השיקולים הפרטניים של המשיבים\". עוד נקבע, כי גם כאשר מדובר בקטינים, יש להעדיף את האינטרס הציבורי, ולהורות על הרשעת מבצעי העבירות, וזאת על מנת לשרש את התופעה החמורה של התפרעויות ויידוי אבנים לעבר כוחות המשטרה. לאחר זאת, הרשיע בית המשפט המחוזי את המבקשים בעבירות שיוחסו להם בכתב האישום. אשר לעונש, ציין בית המשפט המחוזי, כי מאחר שמעשי המבקשים, במקרה זה, הם חמורים ביותר – אין די בשירות לתועלת הציבור, וקיימת הצדקה להטיל עליהם עונשי מאסר לריצוי בפועל. לפיכך, ביטל בית המשפט המחוזי את הרכיבים בגזר הדין, שעניינם חתימה על התחייבות עצמית, ושירות לתועלת הציבור, ובמקומם הטיל על המבקש 1 מאסר בפועל לתקופה של שלושה וחצי חודשים, ועל המבקש 2 מאסר בפועל לתקופה של שלושה חודשים ויום אחד. כמו כן, השית בית המשפט המחוזי על המבקשים מאסר מותנה בן 3 חודשים, למשך שנתיים, לבל יעברו העבירות בהן הורשעו בתיק זה. יתר רכיבי העונש, אשר נקבעו בגזר דינו של בית משפט השלום, נותרו בעינם. הבקשה לרשות ערעור 8. בבקשה שלפניי, נטען, כי פסק דינו של בית המשפט המחוזי \"סותר\" את עקרון השוויון, ממנו נגזר עקרון אחידות הענישה. צויין, לעניין זה, כי בגין ההתפרעויות שהתרחשו ביום 8.3.2013, הוגשו שלושה כתבי אישום: כתב אישום נגד 7 בגירים; כתב אישום נגד קטין נוסף בבית משפט השלום לנוער; וכתב אישום בעניינם של המבקשים. המבקשים סבורים, כי בשל העובדה, שפסק הדין בערעור ניתן בזמן של ריבוי התפרעויות והפרות סדר בירושלים – העונשים אשר הוטלו עליהם חמורים מאלה שהוטלו על הבגירים ועל הקטין הנוסף. כמו כן, לטענת המבקשים, בקשתם מצדיקה רשות ערעור, שכן זו מעלה שאלה משפטית עקרונית, הנוגעת למדיניות הענישה הראויה בעבירות כגון דא; ולנוכח הפער החריג בין רמת הענישה שנקבעה בבית המשפט המחוזי, לבין זו שנקבעה בבית משפט השלום. בהמשך, טענו המבקשים כי בית המשפט המחוזי שגה, בכך שלא התאים את הענישה לנסיבותיהם האישיות של המבקשים, ובכלל זה לשיקולי שיקום, ולעצם היותם של המבקשים קטינים במועד ביצוע העבירות. דיון והכרעה 9. לאחר שעיינתי בבקשה לרשות ערעור ובנספחיה, הגעתי לכלל מסקנה כי אין מקום ליתן למבקשים רשות ערעור \"בגלגול שלישי\". הלכה מושרשת היא, כי רשות ערעור תינתן במשורה, ורק במקרים אשר מעוררים סוגיה משפטית כבדת משקל או בעלת השפעה רחבה, וכן במקרים חריגים אשר מתגלה בהם אי-צדק או עיוות דין כלפי המבקש (רע\"פ 8858/14 יעקובוב נ\\' מדינת ישראל (15.1.2015); רע\"פ 16/15 בסיר סעאידה נ\\' מדינת ישראל (13.1.2015); רע\"פ 8087/14 נדים אנגנאץ נ\\' מדינת ישראל (10.12.2014)). הבקשה שלפניי אינה חורגת מעניינם הפרטי של המבקשים, וחרף האמור בה, נסיבות המקרה אינן מעוררות כל שאלה משפטית העשויה להצדיק רשות ערעור בפני בית משפט זה. כמו כן, לא עולה חשש לעיוות דין כלפי המבקשים או כי מתקיימים שיקולי צדק כלפיהם. אף אם בית משפט השלום ובית המשפט המחוזי הגיעו למסקנות שונות, אין בכך משום הצדקה לקיים דיון נוסף בעניינו של המבקש, בפני בית משפט זה (רע\"פ 4070/14 \\u200fפלונית נ\\' מדינת ישראל (17.6.2014); רע\"פ 2180/14 שמואלי נ\\' מדינת ישראל (24.4.2014)). 10. האפשרות הנתונה לבית המשפט להימנע מהרשעתו של נאשם שביצע עבירה, מעוגנת בסעיף 71א(ב) לחוק העונשין, והיא מהווה חריג לכלל, לפיו משהוכח ביצועה של עבירה יש להרשיע את הנאשם. במילים אחרות, תוצאה של הימנעות מהרשעה, חרף הקביעה כי הנאשם ביצע את העבירה, היא תוצאה חריגה, השמורה למקרים מיוחדים ויוצאי דופן. שני תנאים מצטברים נקבעו, על מנת להימנע מהרשעה: \"ראשית, על ההרשעה לפגוע פגיעה חמורה בשיקום הנאשם, ושנית, סוג העבירה מאפשר לוותר בנסיבות המקרה המסוים על ההרשעה בלי לפגוע באופן מהותי בשיקולי הענישה האחרים\" (ע\"פ 2083/96 כתב נ\\' מדינת ישראל, פ\"ד נב(3) 337 (1997), פסקה 7 לפסק-דינה של השופטת ד\\' דורנר). יישום תנאים אלה, בנסיבות המקרה, מוביל למסקנה כי עניינם של המבקשים איננו נמנה על אותם מקרים חריגים, שקיימת בהם הצדקה להימנעות מהרשעה. 11. במסגרת פסק דינו, התייחס בית המשפט המחוזי, לחומרת העבירות שבוצעו על-ידי המבקשים, בקובעו כי: \"לא ראינו להסתפק בדרך בה הלך בית המשפט קמא, והסיכון הרב הנשקף מיידוי האבנים ומאלימות כלפי שוטרים, מחייב עמדה עונשית נחרצת שיש בה \\'להרתיע את המבצע עצמו ואת העבריינים בכוח, צעירים המתפתים על נקלה להשליך אבנים ובקבוקי תבערה ולסכן חיי אדם\\'...לכן, בהביאנו במסגרת השיקולים את הנסיבות ואת החומרה שיש לייחס לעבירות אלימות כלפי שוטרים והתפרעויות שבמהלכן מיידים קטינים אבנים ומושלכים אף בקבוקי תבערה, תופעה ההולכת ומתעצמת מזה זמן ארוך, אנו סבורים כי ראוי להעביר מסר אחד בעבירות כאלה כי אין להסתפק בפן השיקומי והכלל הוא כי יש להרשיע את המשיבים אף אם מדובר בקטינים שזו להם העבירה הראשונה...\" לטעמי, בית המשפט המחוזי צדק בקביעתו זו, שכן סוג העבירה ונסיבותיה, אינם מאפשרים, בנדון דידן, להימנע מהרשעה. 12. בכל הנוגע לשאלה שעניינה הפגיעה בצורכי שיקומו של הנאשם, נקבע, כי אין מקום להסתפק ב\"תרחיש תיאורטי\", ויש להצביע על קיומו של נזק \"מוחשי וקונקרטי\" אשר צפוי לנאשם כתוצאה מעצם ההרשעה (רע\"פ 1439/13 \\u200fקשת נ\\' מדינת ישראל (4.3.2013); רע\"פ 8627/12 הנסב נ\\' מדינת ישראל (31.12.2012)). יצויין, כי דרישה זו אינה מתייתרת, גם כאשר מדובר בקטינים (ראו עמדתי בע\"פ 5931/13 פלוני נ\\' מדינת ישראל (10.2.2014); רע\"פ 2180/14 ספיר שמואלי נ\\' מדינת ישראל (24.4.2014)). במקרה שלפנינו, לא מצאתי, כי הרשעת המבקשים תפגע בהם פגיעה חמורה, מה גם שלא עלה בידי המבקשים להראות, כי הרשעתם תוביל לפגיעה מהותית וקונקרטית בעתידם או בצורכי שיקומם. 13. למעלה מן הצורך, אדרש, בקצרה, לטענותיהם של המבקשים לגופן. ראשית, אין בידי לקבל את טענת המבקשים, לפיה פסק דינו של בית המשפט המחוזי פוגע בעקרון השוויון, משום שלדבריהם העונשים אשר הוטלו עליהם חמורים מאלה שהוטלו על הנאשמים הנוספים שהיו שותפים לאותן התפרעויות. בית המשפט המחוזי נתן את דעתו לפסיקה אליה הפנו הצדדים, והבהיר, כי \"מעשי המשיבים במקרה זה חמורים ביותר, מעבר לחומרה שתוארה ברבים מפסקי הדין שפורטו לעיל\". מעבר לזאת, הלכה היא, כי השגה על מידת העונש אין בכוחה להצדיק מתן רשות ערעור, למעט במקרים בהם ניכרת חריגה קיצונית ממדיניות הענישה הראויה והמקובלת במקרים דומים (רע\"פ 8719/14 יעקב בן טולילה נ\\' מדינת ישראל (14.1.2015); רע\"פ 7584/14 אבו שוקור נ\\' מדינת ישראל (2.12.2014); רע\"פ 7641/14 אלטורי נ\\' מדינת ישראל (30.11.2014)). גם אם ניתן היה למצוא גזרי דין מקלים יותר, בנסיבות הדומות לענייננו, אין הדבר מעיד כי העונש אשר הושת על המבקשים חורג באופן מהותי ממדיניות הענישה הראויה. במצב דברים זה, סבורני כי לא נפל כל פגם בעונשים אשר הושתו על המבקשים על-ידי בית המשפט המחוזי. 14. באופן דומה, לא מצאתי ממש בטענת המבקשים, כי בית המשפט המחוזי לא התאים את הענישה לנסיבותיהם האישיות. לעניין זה, קבע בית המשפט המחוזי, כי: \"בצד החומרה שראינו לייחס לעבירות שבהן הורשעו המשיבים, נתנו דעתנו לנסיבותיהם האישיות של המשיבים, לגילם בעת ביצוע העבירות, לתסקיר שירות המבחן, להעדר רישום פלילי ולהתייחסות בית משפט קמא לנסיבות של המשיבים כאמור בגזר הדין, וראינו אף לאמץ את דבריו אשר למשיבים ואשר למדרג שקבע בענישה לגביהם בשל השוני בגילם...\" הנה כי כן, בית המשפט המחוזי לא התעלם מנסיבותיהם הפרטניות של המבקשים, ומיתר השיקולים לקולה. בית המשפט המחוזי נתן את דעתו למכלול שיקולי הענישה הרלוונטיים, וערך ביניהם איזון ראוי, בנסיבות העניין. לפיכך, אינני רואה כל הצדקה להתערב במידת עונשם של המבקשים, והדברים נאמרים ביתר שאת כאשר מדובר בדיון ב\"גלגול שלישי\". 15. אשר על כן, הבקשה לרשות ערעור נדחית בזאת. המבקשים יתייצבו לריצוי עונשם ביום 1.3.2015, עד לשעה 10:00, בימ\"ר ניצן, או על פי החלטת שירות בתי הסוהר, כשברשותם תעודת זהות או דרכון ועותק מהחלטה זו. על המבקשים לתאם את הכניסה למאסר, עם ענף אבחון ומיון של שירות בתי הסוהר, בטלפונים: 08-9787377 או 08-9787336. ניתנה ביום, \\u200fו\\' בשבט התשע\"ה (\\u200f26.1.2015). תוקנה היום, ז\\' בשבט התשע\"ה (27.1.2015). ש ו פ ט _________________________    \n",
              "73                                                                                                                                                                                                                                                                                                                                                                                                                                                                                                                                                                                                                                                                                                                                                                                                                                                                                                                                                                                                                                                                                                                                                                                                                                                                                                                                                                                                                                                                                                                                                                                                                                                                                                                                                                                                                                                                                                                                                                                                                                                                                                                                                                                                                                                                                                                                                                                                                                                                                                                                                                                                                                                                                                                                                                                                                                                                                                                                                                                                                                                                                                                                                                                                                                                                                                                                                                                                                                                                                                                                                                                                                                                                                                                                                                                                                                                                                                                                                                                                                                                                                                                                                                                                                                                                                                                                                                                                                                                                                                                                                                                                                                                                                                                                                                                                                                                                                                                                                                                                                                                                                                                                                                                                                                                                                                                                                                                                                                                                                                                                                                                                                                                                                                                                                                                                                                                                                                                                                                                                                                                                                                                                                                                                                                                                                                                                                                                                                                                                                                                                                                                                                                                                                                                                                                                                                                                                                                                                                                                                                                                                                                                                                                                                                                                                                                                                                                                                                                                                                                                                                                                                                                                                                                                                                                                                                                                                                                                                                                                                                                                                                                                                                                                                                                                                                                                                                                                                                                                                                                                                                                                                                                                                                                                                                                                                                                                                                                                                                                                                                                                                                                                                                                                                                                                                                                                                                                                                                                                                                                                                                                                                                                                                                                                                                                                                                                                                                                                                                                                     ['פסק דין בתיק רע\"פ 2811/15 בבית המשפט העליון רע\"פ 2811/15 לפני: כבוד השופט ח\\' מלצר כבוד השופט נ\\' הנדל כבוד השופטת ד\\' ברק-ארז המבקש: פלוני נגד המשיבה: מדינת ישראל חוות דעת הממונה על עבודות שירות מתאריך 02.12.2015; פסק דין משלים בבקשת רשות ערעור על גזר דינו של בית המשפט המחוזי בירושלים (כב\\' השופטים: א\\' כהן, מ\\' יועד הכהן ו-מ\\' בר-עם) מיום 15.03.0015 בתיק עפ\"ג 024776-10-14 תאריך הישיבה: י\"ג בכסלו התשע\"ו (25.11.2015) בשם המבקש: עו\"ד מוריה ששון בשם המשיב: עו\"ד תומר סגלוביץ\\' בשם שירות המבחן: הגב\\' ברכה וייס פסק דין משלים 1. בהמשך לפסק דיננו מתאריך 25.11.2015 אנו מורים כי המבקש ירצה את עונש של 3 חודשי מאסר שהושת עליו, על דרך של עבודות שירות, בהתאם לחוות דעת הממונה – במרכז יום לקשיש, רח\\' המשלט 17 בית שמש, וזאת במשך חמישה ימים בשבוע, 8.5 שעות עבודה יומיות, החל מתאריך 24.01.2016. בתאריך האמור המבקש יתייצב במשרדי הממונה על עבודות שירות במפקדת מחוז מרכז, יחידת עבודות שירות, ת.ד. 81, רמלה, בשעה 08:00. המבקש מוזהר באשר למועד ההתייצבות ולביצוע העבודות כהלכתן. 2. עותק מפסק הדין המשלים יועבר לממונה על עבודות שירות. ניתן היום, \\u200fכ\"ו בכסלו התשע\"ו (\\u200f8.12.2015). ש ו פ ט ש ו פ ט ש ו פ ט ת _________________________    \n",
              "114                                                                                                                                                                                                                                                                                                                                                                                                                                                                                                                                                                                                                                                                                                                                                                                                                                                                                                                                                                                                                                                                                                                                                                                                                                                                                                                                                                                                                                                                                                                                                                                                                                                                                                                                                                                                                                                                                                                                                                                                                                                                                                                                                                                                                                                                                                                                                                                                                                                                                                                                                                                                                                                                                                                                                                                                                                                                                                                                                                                                                                                                                                                                                                                                                                                                                                                                                                                                                                                                                                                                                                                                                                                                                                                                                                                                                                                                                                                                                                                                                                                                                                                                                                                                                                                                                                                                                                                                                                                                                                                                                                                                                                                                                                                                                                                                                                                                                                                                                                                                                                                                                                                                                                                                                                                                                                                                                                                                                                                                                                                                                                                                                                                                                                                                                                                                                                                                                                                                                                                                                                                                                                                                                                                                                                                                                                                                                                                                                                                                                                                                                                                                                                                                                                                                                                                                                                                                                                                                                                                                                                                                                                                                                                                                                                                                                                                                                                                                                                                                                                                                                                                                                                                                                                                                                                                                                                                                                                                                                                                                                                                                                                                                                                                                                                                                                                                                                                                                                                                                                                                                                                                                                                                                                                                                                                                                                                                                                                                                                                                                                                                                                                                                                                                                                                                                                                                                                                                                                                                                                                                                                                                                                                                                                                                                                                                                                                                                                                                                                                                                                                                                                                                                                                                                                                                                                           ['פסק דין בתיק רע\"פ 2195/15 בבית המשפט העליון רע\"פ 2195/15 רע\"פ 2231/15 לפני: כבוד השופט ס\\' ג\\'ובראן כבוד השופט נ\\' הנדל כבוד השופט א\\' שהם המבקשים ברע\"פ 2195/15: 1. אהוד יפרח 2. חב\\' אהוד מאיר שאיבות בע\"מ 3. טיהל נכסים בע\"מ 4. לי יפרח המבקשים ברע\"פ 2231/15: 1. יוסי ליבוביץ\\' 2. רינת ליבוביץ\\' נגד המשיבה: מדינת ישראל בקשות רשות ערעור על החלטתו של בית המשפט המחוזי מרכז-לוד מיום 26.2.2015 בע\"ח 28595-01-15 שניתן על ידי כבוד השופטת דבורה עטר תאריך הישיבה: כ\"ג באלול התשע\"ה (7.9.2015) בשם המבקשים ברע\"פ 2195/15: עו\"ד דרור מתתיהו; עו\"ד הגר נגלר בשם המבקשים ברע\"פ 2231/15: עו\"ד יהושע רזניק; עו\"ד ציון סהראי בשם המשיבה: עו\"ד אבי וסטרמן; עו\"ד יפעת שטיין פסק דין בהמלצתנו חזרו בהם באי כוח המבקשים מהבקשות למתן רשות ערעור, והבקשות נדחות בזה. ניתן היום, כ\"ג באלול התשע\"ה (\\u200f7.9.2015). ש ו פ ט ש ו פ ט ש ו פ ט _________________________    \n",
              "\n",
              "                                                                                                                                                                                                                                                                                                                                                                                                                                                                                                                                                                                                                                                                                                                                                                                                                                                                                                                                                                                                                                                                                                                                                                                                                                                                                                                                                                                                                                                                                                                                                                                                                                                                                                                                                                                                                                                                                                                                                                                                                                                                                                                                                                                                                                                                                                                                                                                                                                                                                                                                                                                                                                                                                                                                                                                                                                                                                                                                                                                                                                                                                                                                                                                                                                                                                                                                                                                                                                                                                                                                                                                                                                                                                                                                                                                                                                                                                                                                                                                                                                                                                                                                                                                                                                                                                                                                                                                                                                                                                                                                                                                                                                                                                                                                                                                                                                           גוף המסמך חתוך  \n",
              "5                                                                                                                                                                                                                                     מאסר תמורתו. 6. המבקש ערער לבית המשפט המחוזי על חומרת העונש שהושת עליו. בערעורו, טען המבקש כי חלקו הפחות בפרשה ביחס לזה של נאשם 3, עברו הפלילי הנקי ונסיבותיו האישיות – מצדיקות הקלה בעונש המאסר שהושת עליו, לתקופה אותה ניתן לרצות בדרך של עבודות שירות. בית המשפט המחוזי הנכבד קיבל את ערעורו של המבקש באופן חלקי, וקיצר את תקופת המאסר שהושתה על המבקש בחודש, כך שהעמידה על 8 חודשי מאסר לריצוי בפועל, בקובעו, בין השאר, כדלקמן: \"נוכח חלקו השונה של המערער מס\\' 2 באחריות לנסיבות העבירה והתוצאה שנגרמה למתלונן, היה מקום להקל בעונשו ביחס למערער מס\\' 3 וזאת בהתאם לעיקרון אחידות הענישה. יחד עם זאת, אין אנו סבורים כדעת בא כוחו של המערער מס\\' 2, כי הקלה זו צריכה להביא בגזירת עונשו ברף הנמוך הקיצון, כך שיגזרו עליו 6 חודשי מאסר בפועל לריצוי בדרך של עבודות שירות\" (עמ\\' 11 לפסק הדין). מכאן בקשת רשות הערעור שלפני. טענות המבקש 7. בבקשה למתן רשות ערעור – המבקש טוען כי פסק דינו של בית המשפט המחוזי הנכבד לא היה מנומק דיו, ודי בטעם זה כדי להצדיק מתן רשות ערעור בנסיבות. עוד נטען, כי הערכאות הקודמות לא ייחסו חשיבות מספקת להסדר ה\"סולחה\" שנערך בין הצדדים בעקבות האירוע המתואר בכתב האישום המתוקן. בנוסף, המבקש מלין על חומרת העונש שהושת עליו. בתוך כך, המבקש טוען כי בית המשפט המחוזי לא נתן את המשקל הראוי לנתונים הבאים: המלצת שירות המבחן בעניינו, הודאתו בעובדות כתב האישום המתוקן, היותו נעדר עבר פלילי, חלקו היחסי הקטן באירוע, ויתר נסיבותיו האישיות. דיון והכרעה 8. לאחר עיון בבקשה ובחומר שצורף אליה – הגעתי למסקנה כי דין הבקשה לרשות ערעור – להידחות. טעמי לכך יובאו בתמציתיות מיד בסמוך. 9. הלכה היא כי בקשת רשות ערעור ב\"גלגול שלישי\" תתקבל במקרים מיוחדים, בהם מתעוררת שאלה משפטית רחבת היקף וכבדת משקל, בעלת השלכות ציבוריות החורגות מעניינם הקונקרטי של הצדדים לבקשה, או בנסיבות המעוררות חשש מפני עיוות דין, או אי-צדק חמור שנגרם למבקש (ראו: ר\"ע 103/82 חניון חיפה בע\"מ נ\\' מצת אור (הדר חיפה) בע\"מ, פ\"ד לו(3) 123 (1982); רע\"פ 6487/12 דביר נ\\' מדינת ישראל (15.07.2013); רע\"פ 3101/15 אבו רמילה נ\\' מדינת ישראל (\\u200f25.05.2015)). 10. לאחר שבחנתי את הבקשה שלפני, סבורני כי היא איננה עומדת בקריטריונים שנקבעו בפסיקה למתן רשות ערעור \"בגלגול שלישי\" – הבקשה איננה חורגת מעובדות המקרה הקונקרטי, ואיננה מעוררת כל שאלה משפטית עקרונית. כמו כן לא מצאתי כי נגרם למבקש עיוות דין, או כי מתקיימים שיקולי צדק התומכים במתן רשות ערעור בעניינו. 11. מעבר לכך – עניינה של הבקשה הוא בחומרת העונש שהושת על המבקש, וכפי שנפסק על ידי בית משפט זה – השגה על חומרת העונש איננה מקימה עילה לקיום דיון \"בגלגול שלישי\" בפני בית משפט זה, למעט במקרים חריגים, בהם העונש, אשר הושת על המבקש סוטה סטייה ניכרת ממדיניות הענישה הראויה והמקובלת בעבירות דומות (ראו למשל: רע\"פ 3929/09 דהן נ\\' מדינת ישראל (16.08.2009)). בנסיבות העניין, סבורני כי העונש שהושת על המבקש איננו סוטה לחומרא ממדיניות הענישה שנקבעה בעניינים כגון דא (השוו: רע\"פ 3552/14 אזולאי-דלה נ\\' מדינת ישראל (\\u200f28.05.2014); רע\"פ 4849/14 יזזאו נ\\' מדינת ישראל (13.07.2014)). די בטעמים אלו, כשלעצמם, כדי לדחות את הבקשה לרשות ערעור. 12. אף לגופו של עניין, לא מצאתי כי טענתיו של המבקש מצדיקות מתן רשות ערעור ב\"גלגול שלישי\". בניגוד לטענתו של המבקש, התרשמתי כי הערכאות הקודמות העניקו משקל ראוי לנסיבותיו האישיות, לנסיבות ביצוע העבירה, וכן להסדר ה\"סולחה\" שנערך בין הצדדים. מגזר דינו של בית משפט השלום הנכבד עולה כי הסדר ה\"סולחה\" שימש כאחד הטעמים לכך שנגזרו על המבקש ושני הנאשמים הנוספים עונשים ברף הנמוך של מתחם העונש שנקבע, ומשכך דומה עלי כי ניתן להסדר ה\"סולחה\" המשקל הראוי בנסיבות, ויפים לעניין זה הדברים שציינתי ב-ע\"פ 9468/07 שלאבנה נ\\' מדינת ישראל (09.03.2009), לפיהם: \"בית משפט זה נכון, עקרונית, להעניק לעיתים משקל-מה להסדר סולחה בהתקיים נסיבות מסוימות... אך מובן כי אין בכוחה של ה\\'סולחה\\' לאיין לחלוטין את חומרתה של העבירה\" (שם, בפיסקה 12). 13. זאת ועוד: מקובלת עלי עמדתו של המבקש לפיה מתחייבת הבחנה בין העונש שהושת עליו לבין זה שהושת על נאשם 3, וזאת לנוכח ההבדל במעורבותם בביצוע העבירות. עם זאת, לאור העובדה כי המבקש פעל בצוותא עם שני הנאשמים האחרים, ובשים לב לכך שהיה זה הוא שאיתר את המתלוננים (לאחר שעזבו את בית הקפה), רץ לעברם והחל לתקוף אותם, ובכך תרם תרומה ממשית להתפתחות האלימה, מושא כתב האישום המתוקן – סבורני כי אין הצדקה להתערבות נוספת בעונש שהושת על המבקש. 14. לבסוף אציין כי לא מצאתי ממש בטענתו של המבקש בנוגע להיעדר הנמקה בפסק דינו של בית המשפט המחוזי, וגם מטעם זה יש לדחות את הבקשה. 15. לנוכח כל האמור לעיל – הבקשה למתן רשות ערעור נדחית. 16. עיכוב ביצוע העונש שעליו הוריתי – מבוטל איפוא. המבקש יתייצב לריצוי עונש המאסר שנגזר עליו – בתאריך 29.03.2016 עד לשעה 10:00, בבימ\"ר קישון, או במקום אחר על פי החלטת שירות בתי הסוהר, כשברשותו תעודת זהות, או דרכון. על המבקש לתאם את הכניסה למאסר, כולל האפשרות למיון מוקדם, עם ענף אבחון ומיון  \n",
              "31                                                                                                                                                                                                                                                                                                                                                                                                                                                                                                                                                                                                                                                                                                                                                                                                                                                                                                                                                                                                                                                                                                                                                                                                                                                                                                                                                                                                                                                                                                                                                                                                                                                                                                                                                                                                                                                                                                                                                                                                                                                                                                                                                                                                                                                                                                                                                                                                                                                                                                                                                                                                                                                                                                                                                                                                                                                                                                                                                                                                                                                                                                                                                                                                                                                                                                                                                                                                                                                                                                                                                                                                                                                                                                                                                                                                                                                                                                                                                                                                                                                                                                                                                       ['החלטה בתיק רע\"פ 825/15 בבית המשפט העליון רע\"פ 825/15 - ב\\' לפני: כבוד השופט ח\\' מלצר המבקש: מרדכי קיסוס נגד המשיבה: מדינת ישראל בקשה לעיכוב ביצוע עונש מאסר מתאריך 18.02.2015; תגובת המשיבה לבקשה מתאריך 19.02.2015 בשם המבקש: עו\"ד שמואל ברזני בשם המשיבה: עו\"ד סיגל בלום החלטה כמבוקש וכמוסכם המבקש יתייצב לריצוי עונש המאסר שנגזר עליו – בתאריך 13.04.2015 עד לשעה 10:00, בבימ\"ר קישון, או במקום אחר על פי החלטת שירות בתי הסוהר, כשברשותו תעודת זהות, או דרכון. על המבקש לתאם את הכניסה למאסר, כולל האפשרות למיון מוקדם, עם ענף אבחון ומיון של שירות בתי הסוהר, טלפונים: 08-9787377 או 08-9787336. ניתנה היום, \\u200fג\\' באדר התשע\"ה (\\u200f22.2.2015). ש ו פ ט _________________________   \n",
              "67   (13.1.2015); רע\"פ 8087/14 נדים אנגנאץ נ\\' מדינת ישראל (10.12.2014)). הבקשה שלפניי אינה חורגת מעניינם הפרטי של המבקשים, וחרף האמור בה, נסיבות המקרה אינן מעוררות כל שאלה משפטית העשויה להצדיק רשות ערעור בפני בית משפט זה. כמו כן, לא עולה חשש לעיוות דין כלפי המבקשים או כי מתקיימים שיקולי צדק כלפיהם. אף אם בית משפט השלום ובית המשפט המחוזי הגיעו למסקנות שונות, אין בכך משום הצדקה לקיים דיון נוסף בעניינו של המבקש, בפני בית משפט זה (רע\"פ 4070/14 \\u200fפלונית נ\\' מדינת ישראל (17.6.2014); רע\"פ 2180/14 שמואלי נ\\' מדינת ישראל (24.4.2014)). 10. האפשרות הנתונה לבית המשפט להימנע מהרשעתו של נאשם שביצע עבירה, מעוגנת בסעיף 71א(ב) לחוק העונשין, והיא מהווה חריג לכלל, לפיו משהוכח ביצועה של עבירה יש להרשיע את הנאשם. במילים אחרות, תוצאה של הימנעות מהרשעה, חרף הקביעה כי הנאשם ביצע את העבירה, היא תוצאה חריגה, השמורה למקרים מיוחדים ויוצאי דופן. שני תנאים מצטברים נקבעו, על מנת להימנע מהרשעה: \"ראשית, על ההרשעה לפגוע פגיעה חמורה בשיקום הנאשם, ושנית, סוג העבירה מאפשר לוותר בנסיבות המקרה המסוים על ההרשעה בלי לפגוע באופן מהותי בשיקולי הענישה האחרים\" (ע\"פ 2083/96 כתב נ\\' מדינת ישראל, פ\"ד נב(3) 337 (1997), פסקה 7 לפסק-דינה של השופטת ד\\' דורנר). יישום תנאים אלה, בנסיבות המקרה, מוביל למסקנה כי עניינם של המבקשים איננו נמנה על אותם מקרים חריגים, שקיימת בהם הצדקה להימנעות מהרשעה. 11. במסגרת פסק דינו, התייחס בית המשפט המחוזי, לחומרת העבירות שבוצעו על-ידי המבקשים, בקובעו כי: \"לא ראינו להסתפק בדרך בה הלך בית המשפט קמא, והסיכון הרב הנשקף מיידוי האבנים ומאלימות כלפי שוטרים, מחייב עמדה עונשית נחרצת שיש בה \\'להרתיע את המבצע עצמו ואת העבריינים בכוח, צעירים המתפתים על נקלה להשליך אבנים ובקבוקי תבערה ולסכן חיי אדם\\'...לכן, בהביאנו במסגרת השיקולים את הנסיבות ואת החומרה שיש לייחס לעבירות אלימות כלפי שוטרים והתפרעויות שבמהלכן מיידים קטינים אבנים ומושלכים אף בקבוקי תבערה, תופעה ההולכת ומתעצמת מזה זמן ארוך, אנו סבורים כי ראוי להעביר מסר אחד בעבירות כאלה כי אין להסתפק בפן השיקומי והכלל הוא כי יש להרשיע את המשיבים אף אם מדובר בקטינים שזו להם העבירה הראשונה...\" לטעמי, בית המשפט המחוזי צדק בקביעתו זו, שכן סוג העבירה ונסיבותיה, אינם מאפשרים, בנדון דידן, להימנע מהרשעה. 12. בכל הנוגע לשאלה שעניינה הפגיעה בצורכי שיקומו של הנאשם, נקבע, כי אין מקום להסתפק ב\"תרחיש תיאורטי\", ויש להצביע על קיומו של נזק \"מוחשי וקונקרטי\" אשר צפוי לנאשם כתוצאה מעצם ההרשעה (רע\"פ 1439/13 \\u200fקשת נ\\' מדינת ישראל (4.3.2013); רע\"פ 8627/12 הנסב נ\\' מדינת ישראל (31.12.2012)). יצויין, כי דרישה זו אינה מתייתרת, גם כאשר מדובר בקטינים (ראו עמדתי בע\"פ 5931/13 פלוני נ\\' מדינת ישראל (10.2.2014); רע\"פ 2180/14 ספיר שמואלי נ\\' מדינת ישראל (24.4.2014)). במקרה שלפנינו, לא מצאתי, כי הרשעת המבקשים תפגע בהם פגיעה חמורה, מה גם שלא עלה בידי המבקשים להראות, כי הרשעתם תוביל לפגיעה מהותית וקונקרטית בעתידם או בצורכי שיקומם. 13. למעלה מן הצורך, אדרש, בקצרה, לטענותיהם של המבקשים לגופן. ראשית, אין בידי לקבל את טענת המבקשים, לפיה פסק דינו של בית המשפט המחוזי פוגע בעקרון השוויון, משום שלדבריהם העונשים אשר הוטלו עליהם חמורים מאלה שהוטלו על הנאשמים הנוספים שהיו שותפים לאותן התפרעויות. בית המשפט המחוזי נתן את דעתו לפסיקה אליה הפנו הצדדים, והבהיר, כי \"מעשי המשיבים במקרה זה חמורים ביותר, מעבר לחומרה שתוארה ברבים מפסקי הדין שפורטו לעיל\". מעבר לזאת, הלכה היא, כי השגה על מידת העונש אין בכוחה להצדיק מתן רשות ערעור, למעט במקרים בהם ניכרת חריגה קיצונית ממדיניות הענישה הראויה והמקובלת במקרים דומים (רע\"פ 8719/14 יעקב בן טולילה נ\\' מדינת ישראל (14.1.2015); רע\"פ 7584/14 אבו שוקור נ\\' מדינת ישראל (2.12.2014); רע\"פ 7641/14 אלטורי נ\\' מדינת ישראל (30.11.2014)). גם אם ניתן היה למצוא גזרי דין מקלים יותר, בנסיבות הדומות לענייננו, אין הדבר מעיד כי העונש אשר הושת על המבקשים חורג באופן מהותי ממדיניות הענישה הראויה. במצב דברים זה, סבורני כי לא נפל כל פגם בעונשים אשר הושתו על המבקשים על-ידי בית המשפט המחוזי. 14. באופן דומה, לא מצאתי ממש בטענת המבקשים, כי בית המשפט המחוזי לא התאים את הענישה לנסיבותיהם האישיות. לעניין זה, קבע בית המשפט המחוזי, כי: \"בצד החומרה שראינו לייחס לעבירות שבהן הורשעו המשיבים, נתנו דעתנו לנסיבותיהם האישיות של המשיבים, לגילם בעת ביצוע העבירות, לתסקיר שירות המבחן, להעדר רישום פלילי ולהתייחסות בית משפט קמא לנסיבות של המשיבים כאמור בגזר הדין, וראינו אף לאמץ את דבריו אשר למשיבים ואשר למדרג שקבע בענישה לגביהם בשל השוני בגילם...\" הנה כי כן, בית המשפט המחוזי לא התעלם מנסיבותיהם הפרטניות של המבקשים, ומיתר השיקולים לקולה. בית המשפט המחוזי נתן את דעתו למכלול שיקולי הענישה הרלוונטיים, וערך ביניהם איזון ראוי, בנסיבות העניין. לפיכך, אינני רואה כל הצדקה להתערב במידת עונשם של המבקשים, והדברים נאמרים ביתר שאת כאשר מדובר בדיון ב\"גלגול שלישי\". 15. אשר על כן, הבקשה לרשות ערעור נדחית בזאת. המבקשים יתייצבו לריצוי עונשם ביום 1.3.2015, עד לשעה 10:00, בימ\"ר ניצן, או על פי החלטת שירות בתי הסוהר, כשברשותם תעודת זהות או דרכון ועותק מהחלטה זו. על המבקשים לתאם את הכניסה למאסר, עם ענף אבחון ומיון של שירות בתי הסוהר, בטלפונים:  \n",
              "73                                                                                                                                                                                                                                                                                                                                                                                                                                                                                                                                                                                                                                                                                                                                                                                                                                                                                                                                                                                                                                                                                                                                                                                                                                                                                                                                                                                                                                                                                                                                                                                                                                                                                                                                                                                                                                                                                                                                                                                                                                                                                                                                                                                                                                                                                                                                                                                                                                                                                                                                                                                                                                                                                                                                                                                                                                                                                                                                                                                                                                                                                                                                                                                                                                                                                                                                                                                                                                                                                                                                                                                                                                                                                ['פסק דין בתיק רע\"פ 2811/15 בבית המשפט העליון רע\"פ 2811/15 לפני: כבוד השופט ח\\' מלצר כבוד השופט נ\\' הנדל כבוד השופטת ד\\' ברק-ארז המבקש: פלוני נגד המשיבה: מדינת ישראל חוות דעת הממונה על עבודות שירות מתאריך 02.12.2015; פסק דין משלים בבקשת רשות ערעור על גזר דינו של בית המשפט המחוזי בירושלים (כב\\' השופטים: א\\' כהן, מ\\' יועד הכהן ו-מ\\' בר-עם) מיום 15.03.0015 בתיק עפ\"ג 024776-10-14 תאריך הישיבה: י\"ג בכסלו התשע\"ו (25.11.2015) בשם המבקש: עו\"ד מוריה ששון בשם המשיב: עו\"ד תומר סגלוביץ\\' בשם שירות המבחן: הגב\\' ברכה וייס פסק דין משלים 1. בהמשך לפסק דיננו מתאריך 25.11.2015 אנו מורים כי המבקש ירצה את עונש של 3 חודשי מאסר שהושת עליו, על דרך של עבודות שירות, בהתאם לחוות דעת הממונה – במרכז יום לקשיש, רח\\' המשלט 17 בית שמש, וזאת במשך חמישה ימים בשבוע, 8.5 שעות עבודה יומיות, החל מתאריך 24.01.2016. בתאריך האמור המבקש יתייצב במשרדי הממונה על עבודות שירות במפקדת מחוז מרכז, יחידת עבודות שירות, ת.ד. 81, רמלה, בשעה 08:00. המבקש מוזהר באשר למועד ההתייצבות ולביצוע העבודות כהלכתן. 2. עותק מפסק הדין המשלים יועבר לממונה על עבודות שירות. ניתן היום, \\u200fכ\"ו בכסלו התשע\"ו (\\u200f8.12.2015). ש ו פ ט ש ו פ ט ש ו פ ט ת _________________________   \n",
              "114                                                                                                                                                                                                                                                                                                                                                                                                                                                                                                                                                                                                                                                                                                                                                                                                                                                                                                                                                                                                                                                                                                                                                                                                                                                                                                                                                                                                                                                                                                                                                                                                                                                                                                                                                                                                                                                                                                                                                                                                                                                                                                                                                                                                                                                                                                                                                                                                                                                                                                                                                                                                                                                                                                                                                                                                                                                                                                                                                                                                                                                                                                                                                                                                                                                                                                                                                                                                                                                                                                                                                                                                                                                                                                                                                                                                                                                                                                                                                                                      ['פסק דין בתיק רע\"פ 2195/15 בבית המשפט העליון רע\"פ 2195/15 רע\"פ 2231/15 לפני: כבוד השופט ס\\' ג\\'ובראן כבוד השופט נ\\' הנדל כבוד השופט א\\' שהם המבקשים ברע\"פ 2195/15: 1. אהוד יפרח 2. חב\\' אהוד מאיר שאיבות בע\"מ 3. טיהל נכסים בע\"מ 4. לי יפרח המבקשים ברע\"פ 2231/15: 1. יוסי ליבוביץ\\' 2. רינת ליבוביץ\\' נגד המשיבה: מדינת ישראל בקשות רשות ערעור על החלטתו של בית המשפט המחוזי מרכז-לוד מיום 26.2.2015 בע\"ח 28595-01-15 שניתן על ידי כבוד השופטת דבורה עטר תאריך הישיבה: כ\"ג באלול התשע\"ה (7.9.2015) בשם המבקשים ברע\"פ 2195/15: עו\"ד דרור מתתיהו; עו\"ד הגר נגלר בשם המבקשים ברע\"פ 2231/15: עו\"ד יהושע רזניק; עו\"ד ציון סהראי בשם המשיבה: עו\"ד אבי וסטרמן; עו\"ד יפעת שטיין פסק דין בהמלצתנו חזרו בהם באי כוח המבקשים מהבקשות למתן רשות ערעור, והבקשות נדחות בזה. ניתן היום, כ\"ג באלול התשע\"ה (\\u200f7.9.2015). ש ו פ ט ש ו פ ט ש ו פ ט _________________________   "
            ],
            "text/html": [
              "\n",
              "  <div id=\"df-ceb0285c-731d-47b8-a620-bcc0435123b7\" class=\"colab-df-container\">\n",
              "    <div>\n",
              "<style scoped>\n",
              "    .dataframe tbody tr th:only-of-type {\n",
              "        vertical-align: middle;\n",
              "    }\n",
              "\n",
              "    .dataframe tbody tr th {\n",
              "        vertical-align: top;\n",
              "    }\n",
              "\n",
              "    .dataframe thead th {\n",
              "        text-align: right;\n",
              "    }\n",
              "</style>\n",
              "<table border=\"1\" class=\"dataframe\">\n",
              "  <thead>\n",
              "    <tr style=\"text-align: right;\">\n",
              "      <th></th>\n",
              "      <th>גוף המסמך</th>\n",
              "      <th>גוף המסמך חתוך</th>\n",
              "    </tr>\n",
              "  </thead>\n",
              "  <tbody>\n",
              "    <tr>\n",
              "      <th>5</th>\n",
              "      <td>['החלטה בתיק רע\"פ 3622/15 בבית המשפט העליון רע\"פ 3622/15 לפני: כבוד השופט ח\\' מלצר המבקש: יעקב סארה נגד המשיבה: מדינת ישראל בקשת רשות ערעור על פסק דינו של בית המשפט המחוזי בנצרת (כב\\' השופטים: א\\' הלמן, י\\' שיטרית, ס\\' דבור) מתאריך 12.05.2015 ב-ע\"פ 28199-03-15 בשם המבקש: עו\"ד בוריס קסונוביץ; עו\"ד אלפסי ברנרד החלטה 1. לפני בקשת רשות ערעור על פסק דינו של בית המשפט המחוזי בנצרת (כב\\' השופטים: א\\' הלמן, י\\' שיטרית, ס\\' דבור) ב-ע\"פ 28199-03-15, בגדרו התקבל, באופן חלקי, ערעורו של המבקש על גזר דינו של בית המשפט השלום בנצרת (כב\\' סגנית הנשיא ל\\' יונג-גפר) ב-ת\"פ 1687-01-14. לצד בקשת רשות הערעור, הוגשה גם בקשה לעיכוב ביצוע של עונש המאסר שהושת על המבקש. בהקשר זה הוריתי כי עונש המאסר בפועל שהושת על המבקש יעוכב עד למתן החלטה אחרת. אביא עתה את הנתונים הרלבנטיים להכרעה במכלול. רקע והליכים קודמים 2. בית משפט השלום הנכבד הרשיע את המבקש, על פי הודאתו, במסגרת הסדר טיעון – בעבירות אלימות שיוחסו לו בכתב אישום מתוקן שהוגש נגדו ונגד שני נאשמים נוספים (להלן: נאשם 1 ונאשם 3 בהתאמה, או שני הנאשמים האחרים). 3. מעובדות כתב האישום המתוקן עולה כי, בתאריך 29.12.2013, בשעה 21:45, או בסמוך לכך, המתלוננים בילו בבית קפה בקניון בנצרת עלית. כאשר באו לעזוב את בית הקפה, פנה נאשם 3 לאחד המתלוננים ושאל אותו מי הוא ומהיכן הוא, ובתגובה לכך המתלונן השיב: \"מה אכפת לך\". בסמוך לאחר מכן המתלוננים יצאו מהקניון, תוך שהמבקש ושני הנאשמים האחרים דולקים אחריהם, ובשעה שנאשם 3 מסליק בשרוול חולצתו סכין מטבח חדה (להלן: הסכין). המבקש, אשר זיהה את המתלוננים, רץ לעבר אחד מהם והחל לתקוף אותו באגרופים ובבעיטות בראש ובגוף. לאחר זאת, שני הנאשמים האחרים חברו אל המבקש ותקפו אף הם את המתלוננים. במהלך התקיפה האמורה להב הסכין ננעץ בראשו של אחד המתלוננים, וכתוצאה מכך נגרמו לו פצעי חתך, שהצריכו תפרים. נוכח האמור לעיל – המבקש ושני הנאשמים הנוספים הואשמו בעבירות הבאות: תקיפה סתם לפי סעיף 382(א) לחוק העונשין, התשל\"ז-1977 (להלן: חוק העונשין)), וחבלה ופציעה בנסיבות מחמירות לפי סעיף 335(א)(2) לחוק העונשין. בנוסף, נאשם 3 הואשם בעבירה של החזקת אגרופן, או סכין למטרה לא כשרה לפי סעיף 186(א) לחוק העונשין. 4. בהתאם להסכמת הצדדים, המבקש ושני הנאשמים הנוספים נשלחו אל שירות המבחן לצורך הכנת תסקיר מבחן בעניינם טרם גזירת עונשם. שירות המבחן נמנע מליתן המלצה טיפולית בעניינו של המבקש, וזאת בשל אי-הבעת נזקקות מצידו, וכן נוכח עמדתה של קצינת המבחן לפיה המבקש לא היה בשל לטיפול והתקשה להבין את חומרת מעשיו. לבקשת סנגורו של המבקש ולאור הטענה כי המבקש לא הובן בשל קשיי שפה – המבקש נשלח לשירות המבחן פעם נוספת לשם עריכת תסקיר משלים בענייננו. מהתסקיר המשלים עלה כי המבקש מדבר עברית שוטפת, ללא קשיי שפה כלשהם. עוד צוין, כי קצינת המבחן לא התרשמה כי חל שינוי בהתייחסותו של המבקש לעבירות שביצע. עם זאת, קצינת המבחן ציינה כי המבקש הביע בפגישה החוזרת מוטיבציה לקחת חלק בהליך טיפולי, ועל כן המליצה להעמידו בצו מבחן למשך 18 חודשים וכן להשית עליו עונש מאסר לריצוי בדרך של עבודות שירות וענישה מותנית לתקופה משמעותית. 5. בית המשפט החליט שלא לקבל את המלצות שירות המבחן, ובגזר דינו השית על המבקש את העונשים הבאים: 9 חודשי מאסר בפועל בניכוי ימי מעצרו; 12 עונשי מאסר על תנאי, לבל יעבור המבקש, במשך שלוש שנים מיום שחרורו ממאסר, כל עבירת אלימות מסוג פשע; 6 חודשי מאסר על תנאי, לבל יעבור המבקש, במשך שלוש שנים מיום שחרורו ממאסר, כל עבירת אלימות מסוג עוון; וקנס בסך 2,500 ש\"ח, או 25 ימי מאסר תמורתו. 6. המבקש ערער לבית המשפט המחוזי על חומרת העונש שהושת עליו. בערעורו, טען המבקש כי חלקו הפחות בפרשה ביחס לזה של נאשם 3, עברו הפלילי הנקי ונסיבותיו האישיות – מצדיקות הקלה בעונש המאסר שהושת עליו, לתקופה אותה ניתן לרצות בדרך של עבודות שירות. בית המשפט המחוזי הנכבד קיבל את ערעורו של המבקש באופן חלקי, וקיצר את תקופת המאסר שהושתה על המבקש בחודש, כך שהעמידה על 8 חודשי מאסר לריצוי בפועל, בקובעו, בין השאר, כדלקמן: \"נוכח חלקו השונה של המערער מס\\' 2 באחריות לנסיבות העבירה והתוצאה שנגרמה למתלונן, היה מקום להקל בעונשו ביחס למערער מס\\' 3 וזאת בהתאם לעיקרון אחידות הענישה. יחד עם זאת, אין אנו סבורים כדעת בא כוחו של המערער מס\\' 2, כי הקלה זו צריכה להביא בגזירת עונשו ברף הנמוך הקיצון, כך שיגזרו עליו 6 חודשי מאסר בפועל לריצוי בדרך של עבודות שירות\" (עמ\\' 11 לפסק הדין). מכאן בקשת רשות הערעור שלפני. טענות המבקש 7. בבקשה למתן רשות ערעור – המבקש טוען כי פסק דינו של בית המשפט המחוזי הנכבד לא היה מנומק דיו, ודי בטעם זה כדי להצדיק מתן רשות ערעור בנסיבות. עוד נטען, כי הערכאות הקודמות לא ייחסו חשיבות מספקת להסדר ה\"סולחה\" שנערך בין הצדדים בעקבות האירוע המתואר בכתב האישום המתוקן. בנוסף, המבקש מלין על חומרת העונש שהושת עליו. בתוך כך, המבקש טוען כי בית המשפט המחוזי לא נתן את המשקל הראוי לנתונים הבאים: המלצת שירות המבחן בעניינו, הודאתו בעובדות כתב האישום המתוקן, היותו נעדר עבר פלילי, חלקו היחסי הקטן באירוע, ויתר נסיבותיו האישיות. דיון והכרעה 8. לאחר עיון בבקשה ובחומר שצורף אליה – הגעתי למסקנה כי דין הבקשה לרשות ערעור – להידחות. טעמי לכך יובאו בתמציתיות מיד בסמוך. 9. הלכה היא כי בקשת רשות ערעור ב\"גלגול שלישי\" תתקבל במקרים מיוחדים, בהם מתעוררת שאלה משפטית רחבת היקף וכבדת משקל, בעלת השלכות ציבוריות החורגות מעניינם הקונקרטי של הצדדים לבקשה, או בנסיבות המעוררות חשש מפני עיוות דין, או אי-צדק חמור שנגרם למבקש (ראו: ר\"ע 103/82 חניון חיפה בע\"מ נ\\' מצת אור (הדר חיפה) בע\"מ, פ\"ד לו(3) 123 (1982); רע\"פ 6487/12 דביר נ\\' מדינת ישראל (15.07.2013); רע\"פ 3101/15 אבו רמילה נ\\' מדינת ישראל (\\u200f25.05.2015)). 10. לאחר שבחנתי את הבקשה שלפני, סבורני כי היא איננה עומדת בקריטריונים שנקבעו בפסיקה למתן רשות ערעור \"בגלגול שלישי\" – הבקשה איננה חורגת מעובדות המקרה הקונקרטי, ואיננה מעוררת כל שאלה משפטית עקרונית. כמו כן לא מצאתי כי נגרם למבקש עיוות דין, או כי מתקיימים שיקולי צדק התומכים במתן רשות ערעור בעניינו. 11. מעבר לכך – עניינה של הבקשה הוא בחומרת העונש שהושת על המבקש, וכפי שנפסק על ידי בית משפט זה – השגה על חומרת העונש איננה מקימה עילה לקיום דיון \"בגלגול שלישי\" בפני בית משפט זה, למעט במקרים חריגים, בהם העונש, אשר הושת על המבקש סוטה סטייה ניכרת ממדיניות הענישה הראויה והמקובלת בעבירות דומות (ראו למשל: רע\"פ 3929/09 דהן נ\\' מדינת ישראל (16.08.2009)). בנסיבות העניין, סבורני כי העונש שהושת על המבקש איננו סוטה לחומרא ממדיניות הענישה שנקבעה בעניינים כגון דא (השוו: רע\"פ 3552/14 אזולאי-דלה נ\\' מדינת ישראל (\\u200f28.05.2014); רע\"פ 4849/14 יזזאו נ\\' מדינת ישראל (13.07.2014)). די בטעמים אלו, כשלעצמם, כדי לדחות את הבקשה לרשות ערעור. 12. אף לגופו של עניין, לא מצאתי כי טענתיו של המבקש מצדיקות מתן רשות ערעור ב\"גלגול שלישי\". בניגוד לטענתו של המבקש, התרשמתי כי הערכאות הקודמות העניקו משקל ראוי לנסיבותיו האישיות, לנסיבות ביצוע העבירה, וכן להסדר ה\"סולחה\" שנערך בין הצדדים. מגזר דינו של בית משפט השלום הנכבד עולה כי הסדר ה\"סולחה\" שימש כאחד הטעמים לכך שנגזרו על המבקש ושני הנאשמים הנוספים עונשים ברף הנמוך של מתחם העונש שנקבע, ומשכך דומה עלי כי ניתן להסדר ה\"סולחה\" המשקל הראוי בנסיבות, ויפים לעניין זה הדברים שציינתי ב-ע\"פ 9468/07 שלאבנה נ\\' מדינת ישראל (09.03.2009), לפיהם: \"בית משפט זה נכון, עקרונית, להעניק לעיתים משקל-מה להסדר סולחה בהתקיים נסיבות מסוימות... אך מובן כי אין בכוחה של ה\\'סולחה\\' לאיין לחלוטין את חומרתה של העבירה\" (שם, בפיסקה 12). 13. זאת ועוד: מקובלת עלי עמדתו של המבקש לפיה מתחייבת הבחנה בין העונש שהושת עליו לבין זה שהושת על נאשם 3, וזאת לנוכח ההבדל במעורבותם בביצוע העבירות. עם זאת, לאור העובדה כי המבקש פעל בצוותא עם שני הנאשמים האחרים, ובשים לב לכך שהיה זה הוא שאיתר את המתלוננים (לאחר שעזבו את בית הקפה), רץ לעברם והחל לתקוף אותם, ובכך תרם תרומה ממשית להתפתחות האלימה, מושא כתב האישום המתוקן – סבורני כי אין הצדקה להתערבות נוספת בעונש שהושת על המבקש. 14. לבסוף אציין כי לא מצאתי ממש בטענתו של המבקש בנוגע להיעדר הנמקה בפסק דינו של בית המשפט המחוזי, וגם מטעם זה יש לדחות את הבקשה. 15. לנוכח כל האמור לעיל – הבקשה למתן רשות ערעור נדחית. 16. עיכוב ביצוע העונש שעליו הוריתי – מבוטל איפוא. המבקש יתייצב לריצוי עונש המאסר שנגזר עליו – בתאריך 29.03.2016 עד לשעה 10:00, בבימ\"ר קישון, או במקום אחר על פי החלטת שירות בתי הסוהר, כשברשותו תעודת זהות, או דרכון. על המבקש לתאם את הכניסה למאסר, כולל האפשרות למיון מוקדם, עם ענף אבחון ומיון של שירות בתי הסוהר, טלפונים: 08-9787377 או 08-9787336. ניתנה היום, \\u200fכ\"א באדר א התשע\"ו (\\u200f01.03.2016). ש ו פ ט _________________________</td>\n",
              "      <td>מאסר תמורתו. 6. המבקש ערער לבית המשפט המחוזי על חומרת העונש שהושת עליו. בערעורו, טען המבקש כי חלקו הפחות בפרשה ביחס לזה של נאשם 3, עברו הפלילי הנקי ונסיבותיו האישיות – מצדיקות הקלה בעונש המאסר שהושת עליו, לתקופה אותה ניתן לרצות בדרך של עבודות שירות. בית המשפט המחוזי הנכבד קיבל את ערעורו של המבקש באופן חלקי, וקיצר את תקופת המאסר שהושתה על המבקש בחודש, כך שהעמידה על 8 חודשי מאסר לריצוי בפועל, בקובעו, בין השאר, כדלקמן: \"נוכח חלקו השונה של המערער מס\\' 2 באחריות לנסיבות העבירה והתוצאה שנגרמה למתלונן, היה מקום להקל בעונשו ביחס למערער מס\\' 3 וזאת בהתאם לעיקרון אחידות הענישה. יחד עם זאת, אין אנו סבורים כדעת בא כוחו של המערער מס\\' 2, כי הקלה זו צריכה להביא בגזירת עונשו ברף הנמוך הקיצון, כך שיגזרו עליו 6 חודשי מאסר בפועל לריצוי בדרך של עבודות שירות\" (עמ\\' 11 לפסק הדין). מכאן בקשת רשות הערעור שלפני. טענות המבקש 7. בבקשה למתן רשות ערעור – המבקש טוען כי פסק דינו של בית המשפט המחוזי הנכבד לא היה מנומק דיו, ודי בטעם זה כדי להצדיק מתן רשות ערעור בנסיבות. עוד נטען, כי הערכאות הקודמות לא ייחסו חשיבות מספקת להסדר ה\"סולחה\" שנערך בין הצדדים בעקבות האירוע המתואר בכתב האישום המתוקן. בנוסף, המבקש מלין על חומרת העונש שהושת עליו. בתוך כך, המבקש טוען כי בית המשפט המחוזי לא נתן את המשקל הראוי לנתונים הבאים: המלצת שירות המבחן בעניינו, הודאתו בעובדות כתב האישום המתוקן, היותו נעדר עבר פלילי, חלקו היחסי הקטן באירוע, ויתר נסיבותיו האישיות. דיון והכרעה 8. לאחר עיון בבקשה ובחומר שצורף אליה – הגעתי למסקנה כי דין הבקשה לרשות ערעור – להידחות. טעמי לכך יובאו בתמציתיות מיד בסמוך. 9. הלכה היא כי בקשת רשות ערעור ב\"גלגול שלישי\" תתקבל במקרים מיוחדים, בהם מתעוררת שאלה משפטית רחבת היקף וכבדת משקל, בעלת השלכות ציבוריות החורגות מעניינם הקונקרטי של הצדדים לבקשה, או בנסיבות המעוררות חשש מפני עיוות דין, או אי-צדק חמור שנגרם למבקש (ראו: ר\"ע 103/82 חניון חיפה בע\"מ נ\\' מצת אור (הדר חיפה) בע\"מ, פ\"ד לו(3) 123 (1982); רע\"פ 6487/12 דביר נ\\' מדינת ישראל (15.07.2013); רע\"פ 3101/15 אבו רמילה נ\\' מדינת ישראל (\\u200f25.05.2015)). 10. לאחר שבחנתי את הבקשה שלפני, סבורני כי היא איננה עומדת בקריטריונים שנקבעו בפסיקה למתן רשות ערעור \"בגלגול שלישי\" – הבקשה איננה חורגת מעובדות המקרה הקונקרטי, ואיננה מעוררת כל שאלה משפטית עקרונית. כמו כן לא מצאתי כי נגרם למבקש עיוות דין, או כי מתקיימים שיקולי צדק התומכים במתן רשות ערעור בעניינו. 11. מעבר לכך – עניינה של הבקשה הוא בחומרת העונש שהושת על המבקש, וכפי שנפסק על ידי בית משפט זה – השגה על חומרת העונש איננה מקימה עילה לקיום דיון \"בגלגול שלישי\" בפני בית משפט זה, למעט במקרים חריגים, בהם העונש, אשר הושת על המבקש סוטה סטייה ניכרת ממדיניות הענישה הראויה והמקובלת בעבירות דומות (ראו למשל: רע\"פ 3929/09 דהן נ\\' מדינת ישראל (16.08.2009)). בנסיבות העניין, סבורני כי העונש שהושת על המבקש איננו סוטה לחומרא ממדיניות הענישה שנקבעה בעניינים כגון דא (השוו: רע\"פ 3552/14 אזולאי-דלה נ\\' מדינת ישראל (\\u200f28.05.2014); רע\"פ 4849/14 יזזאו נ\\' מדינת ישראל (13.07.2014)). די בטעמים אלו, כשלעצמם, כדי לדחות את הבקשה לרשות ערעור. 12. אף לגופו של עניין, לא מצאתי כי טענתיו של המבקש מצדיקות מתן רשות ערעור ב\"גלגול שלישי\". בניגוד לטענתו של המבקש, התרשמתי כי הערכאות הקודמות העניקו משקל ראוי לנסיבותיו האישיות, לנסיבות ביצוע העבירה, וכן להסדר ה\"סולחה\" שנערך בין הצדדים. מגזר דינו של בית משפט השלום הנכבד עולה כי הסדר ה\"סולחה\" שימש כאחד הטעמים לכך שנגזרו על המבקש ושני הנאשמים הנוספים עונשים ברף הנמוך של מתחם העונש שנקבע, ומשכך דומה עלי כי ניתן להסדר ה\"סולחה\" המשקל הראוי בנסיבות, ויפים לעניין זה הדברים שציינתי ב-ע\"פ 9468/07 שלאבנה נ\\' מדינת ישראל (09.03.2009), לפיהם: \"בית משפט זה נכון, עקרונית, להעניק לעיתים משקל-מה להסדר סולחה בהתקיים נסיבות מסוימות... אך מובן כי אין בכוחה של ה\\'סולחה\\' לאיין לחלוטין את חומרתה של העבירה\" (שם, בפיסקה 12). 13. זאת ועוד: מקובלת עלי עמדתו של המבקש לפיה מתחייבת הבחנה בין העונש שהושת עליו לבין זה שהושת על נאשם 3, וזאת לנוכח ההבדל במעורבותם בביצוע העבירות. עם זאת, לאור העובדה כי המבקש פעל בצוותא עם שני הנאשמים האחרים, ובשים לב לכך שהיה זה הוא שאיתר את המתלוננים (לאחר שעזבו את בית הקפה), רץ לעברם והחל לתקוף אותם, ובכך תרם תרומה ממשית להתפתחות האלימה, מושא כתב האישום המתוקן – סבורני כי אין הצדקה להתערבות נוספת בעונש שהושת על המבקש. 14. לבסוף אציין כי לא מצאתי ממש בטענתו של המבקש בנוגע להיעדר הנמקה בפסק דינו של בית המשפט המחוזי, וגם מטעם זה יש לדחות את הבקשה. 15. לנוכח כל האמור לעיל – הבקשה למתן רשות ערעור נדחית. 16. עיכוב ביצוע העונש שעליו הוריתי – מבוטל איפוא. המבקש יתייצב לריצוי עונש המאסר שנגזר עליו – בתאריך 29.03.2016 עד לשעה 10:00, בבימ\"ר קישון, או במקום אחר על פי החלטת שירות בתי הסוהר, כשברשותו תעודת זהות, או דרכון. על המבקש לתאם את הכניסה למאסר, כולל האפשרות למיון מוקדם, עם ענף אבחון ומיון</td>\n",
              "    </tr>\n",
              "    <tr>\n",
              "      <th>31</th>\n",
              "      <td>['החלטה בתיק רע\"פ 825/15 בבית המשפט העליון רע\"פ 825/15 - ב\\' לפני: כבוד השופט ח\\' מלצר המבקש: מרדכי קיסוס נגד המשיבה: מדינת ישראל בקשה לעיכוב ביצוע עונש מאסר מתאריך 18.02.2015; תגובת המשיבה לבקשה מתאריך 19.02.2015 בשם המבקש: עו\"ד שמואל ברזני בשם המשיבה: עו\"ד סיגל בלום החלטה כמבוקש וכמוסכם המבקש יתייצב לריצוי עונש המאסר שנגזר עליו – בתאריך 13.04.2015 עד לשעה 10:00, בבימ\"ר קישון, או במקום אחר על פי החלטת שירות בתי הסוהר, כשברשותו תעודת זהות, או דרכון. על המבקש לתאם את הכניסה למאסר, כולל האפשרות למיון מוקדם, עם ענף אבחון ומיון של שירות בתי הסוהר, טלפונים: 08-9787377 או 08-9787336. ניתנה היום, \\u200fג\\' באדר התשע\"ה (\\u200f22.2.2015). ש ו פ ט _________________________</td>\n",
              "      <td>['החלטה בתיק רע\"פ 825/15 בבית המשפט העליון רע\"פ 825/15 - ב\\' לפני: כבוד השופט ח\\' מלצר המבקש: מרדכי קיסוס נגד המשיבה: מדינת ישראל בקשה לעיכוב ביצוע עונש מאסר מתאריך 18.02.2015; תגובת המשיבה לבקשה מתאריך 19.02.2015 בשם המבקש: עו\"ד שמואל ברזני בשם המשיבה: עו\"ד סיגל בלום החלטה כמבוקש וכמוסכם המבקש יתייצב לריצוי עונש המאסר שנגזר עליו – בתאריך 13.04.2015 עד לשעה 10:00, בבימ\"ר קישון, או במקום אחר על פי החלטת שירות בתי הסוהר, כשברשותו תעודת זהות, או דרכון. על המבקש לתאם את הכניסה למאסר, כולל האפשרות למיון מוקדם, עם ענף אבחון ומיון של שירות בתי הסוהר, טלפונים: 08-9787377 או 08-9787336. ניתנה היום, \\u200fג\\' באדר התשע\"ה (\\u200f22.2.2015). ש ו פ ט _________________________</td>\n",
              "    </tr>\n",
              "    <tr>\n",
              "      <th>67</th>\n",
              "      <td>['החלטה בתיק רע\"פ 54/15 בבית המשפט העליון רע\"פ 54/15 לפני: כבוד השופט א\\' שהם המבקשים: 1. פלוני 2. פלוני נגד המשיבה: מדינת ישראל בקשת רשות ערעור על פסק דינו של בית המשפט המחוזי בירושלים, מיום 8.12.2014, בענ\"פ 29336-07-14, שניתן על-ידי כב\\' השופטים א\\' רומנוב; ד\\' מינץ; א\\' נחליאלי-חיאט בשם המבקשים: עו\"ד חאג\\' מופיד החלטה 1. לפניי בקשה לרשות ערעור על פסק דינו של בית המשפט המחוזי בירושלים (כב\\' השופטים א\\' רומנוב; ד\\' מינץ; א\\' נחליאלי-חיאט), בענ\"פ 29336-07-14, מיום 8.12.2014, בגדרו התקבל ערעורה של המשיבה על גזר דינו של בית משפט השלום בירושלים, בשבתו כבית משפט השלום לנוער (כב\\' השופט ש\\' לייבו) (להלן: בית משפט השלום), בת\"פ 25628-03-13, מיום 17.6.2014. בד בבד עם הבקשה לרשות ערעור, הגישו המבקשים בקשה לעיכוב ביצוע עונש המאסר בפועל, אשר הושת עליהם. בהחלטתי מיום 11.1.2015, הוריתי על עיכוב ביצוע העונש עד להכרעה בבקשה לרשות ערעור. רקע והליכים קודמים 1. נגד המבקשים הוגש כתב אישום, המייחס להם עבירות של התפרעות, לפי סעיף 152 לחוק העונשין, התשל\"ז – 1977 (להלן: חוק העונשין); וניסיון תקיפת שוטר בנסיבות מחמירות, לפי סעיף 274 (1), (2) ו-(3) לחוק העונשין, בצירוף עם סעיף 25 לחוק העונשין. 2. בכתב האישום נטען, כי ביום 8.3.2013, בסיומה של תפילת יום השישי, נטלו המבקשים חלק בהפגנות אלימות אשר התקיימו בהר הבית (להלן: ההתפרעויות), ויידו יחד עם אחרים אבנים לעבר כוחות המשטרה שנכחו במקום, במסגרת תפקידם. במהלך ההתפרעויות, נורה בקבוק תבערה על-ידי אחר, ופגע בשוטר. עוד נאמר בכתב האישום, כי המבקשים השתתפו בהתקהלות אסורה, שיש בה כדי להטיל אימה על הציבור; וניסו לתקוף שוטרים כשהם ממלאים את תפקידם כחוק, בהיותם בצוותא חדא עם יותר משני אנשים, כשהם מזויינים באבן, בכוונה להפריע לשוטרים במילוי תפקידם. 3. ביום 10.2.2014, הודו המבקשים בעובדות כתב האישום, ועל יסוד הודאתם זו, קבע בית משפט השלום, כי המבקשים ביצעו את העבירות שיוחסו להם בכתב האישום, והורה על קבלת תסקיר שירות מבחן, בעניינם של המבקשים. 4. ביום 17.6.2014, החליט בית משפט השלום, לאמץ את המלצת שירות המבחן, בעניינם של המבקשים, ולהימנע מהרשעתם בעבירות אותן ביצעו. בהמשך, החליט בית משפט השלום לנקוט כלפי המבקשים בדרכי טיפול לפי סעיף 26 לחוק הנוער (שפיטה, ענישה ודרכי טיפול), התשל\"א – 1971. בהקשר זה, ציין בית משפט השלום, כי \"מדובר בנאשמים אשר נטלו אחריות על מעשיהם, הביעו חרטה. התסקיר שניתן בעניינם הינו תסקיר חיובי ומתייחס לפן השיקומי טיפולי הנוגע ספציפית לעבירות המיוחסות להם. שירות המבחן ציין השתתפות ערה ופעילה מצידם של שני הנאשמים בסדנת חוק ומשפט. יודגש כי מדובר בנאשמים אשר זהו להם מעמד ראשון בבית המשפט, ובאירוע לפני מעל לשנה. אין אינדיקציה להסתבכויות נוספות מצידם\". 5. בגזר דינו, קבע בית משפט השלום, כי המבקשים יחתמו כל אחד על התחייבות עצמית בסך 1,000 ₪, לפיה ימנעו במשך שנה, מביצוע העבירות בהן נקבעה אחריותם; והורה על העמדת המבקשים בצו מבחן לתקופה בת שישה חודשים, במהלכו ישלימו המבקשים את סדנת חוק ומשפט בה החלו. לצד זאת, הטיל בית משפט השלום על המבקש 1 לבצע שירות לתועלת הציבור, בהיקף של 150 שעות; ועל המבקש 2 הטיל לבצע שירות לתועלת הציבור, בהיקף של 120 שעות. בית משפט השלום החליט על היקף שעות שונה, לנוכח הבדלי הגיל בין המבקשים: המבקש 1 היה כבן 17 וארבעה חודשים במועד ביצוע העבירות, ואילו המבקש 2 היה כבן 16 במועד זה. נוסף על כך, השית בית המשפט על כל אחד מן המבקשים קנס בסך של 3,600 ₪ או 30 ימי מאסר תמורתו. 6. המשיבה לא השלימה עם תוצאה זו, והגישה ערעור לבית המשפט המחוזי בירושלים, במסגרתו ביקשה להרשיע את המבקשים בדין, ולהשית עליהם עונשי מאסר בפועל. לטענת המשיבה, בית משפט השלום לא נתן משקל ראוי לנסיבות החמורות של מעשי המבקשים, אשר נעשו בסיום תפילות יום השישי בהר הבית, על כל המשמעויות הנלוות לכך; כי אי הרשעת המבקשים משדרת מסר סלחני ופוגעת באפקט ההרתעה; וכי העובדה שהמבקשים הם קטינים אינה מהווה חסינות מפני הרשעה. 7. בית המשפט המחוזי קיבל את הערעור, וקבע כי יש להרשיע את המבקשים, ולהטיל עליהם עונשי מאסר בפועל. במסגרת פסק דינו, נתן בית המשפט המחוזי את דעתו לחומרת המעשים שיוחסו למבקשים, וקבע, כי \"לנוכח שכיחות סוג העבירות שהמשיבים ביצעו...ולנוכח נסיבות ביצוען...היה מקום לתת בכורה לשיקולי גמול והרתעה ולהעדיפם על פני השיקולים הפרטניים של המשיבים\". עוד נקבע, כי גם כאשר מדובר בקטינים, יש להעדיף את האינטרס הציבורי, ולהורות על הרשעת מבצעי העבירות, וזאת על מנת לשרש את התופעה החמורה של התפרעויות ויידוי אבנים לעבר כוחות המשטרה. לאחר זאת, הרשיע בית המשפט המחוזי את המבקשים בעבירות שיוחסו להם בכתב האישום. אשר לעונש, ציין בית המשפט המחוזי, כי מאחר שמעשי המבקשים, במקרה זה, הם חמורים ביותר – אין די בשירות לתועלת הציבור, וקיימת הצדקה להטיל עליהם עונשי מאסר לריצוי בפועל. לפיכך, ביטל בית המשפט המחוזי את הרכיבים בגזר הדין, שעניינם חתימה על התחייבות עצמית, ושירות לתועלת הציבור, ובמקומם הטיל על המבקש 1 מאסר בפועל לתקופה של שלושה וחצי חודשים, ועל המבקש 2 מאסר בפועל לתקופה של שלושה חודשים ויום אחד. כמו כן, השית בית המשפט המחוזי על המבקשים מאסר מותנה בן 3 חודשים, למשך שנתיים, לבל יעברו העבירות בהן הורשעו בתיק זה. יתר רכיבי העונש, אשר נקבעו בגזר דינו של בית משפט השלום, נותרו בעינם. הבקשה לרשות ערעור 8. בבקשה שלפניי, נטען, כי פסק דינו של בית המשפט המחוזי \"סותר\" את עקרון השוויון, ממנו נגזר עקרון אחידות הענישה. צויין, לעניין זה, כי בגין ההתפרעויות שהתרחשו ביום 8.3.2013, הוגשו שלושה כתבי אישום: כתב אישום נגד 7 בגירים; כתב אישום נגד קטין נוסף בבית משפט השלום לנוער; וכתב אישום בעניינם של המבקשים. המבקשים סבורים, כי בשל העובדה, שפסק הדין בערעור ניתן בזמן של ריבוי התפרעויות והפרות סדר בירושלים – העונשים אשר הוטלו עליהם חמורים מאלה שהוטלו על הבגירים ועל הקטין הנוסף. כמו כן, לטענת המבקשים, בקשתם מצדיקה רשות ערעור, שכן זו מעלה שאלה משפטית עקרונית, הנוגעת למדיניות הענישה הראויה בעבירות כגון דא; ולנוכח הפער החריג בין רמת הענישה שנקבעה בבית המשפט המחוזי, לבין זו שנקבעה בבית משפט השלום. בהמשך, טענו המבקשים כי בית המשפט המחוזי שגה, בכך שלא התאים את הענישה לנסיבותיהם האישיות של המבקשים, ובכלל זה לשיקולי שיקום, ולעצם היותם של המבקשים קטינים במועד ביצוע העבירות. דיון והכרעה 9. לאחר שעיינתי בבקשה לרשות ערעור ובנספחיה, הגעתי לכלל מסקנה כי אין מקום ליתן למבקשים רשות ערעור \"בגלגול שלישי\". הלכה מושרשת היא, כי רשות ערעור תינתן במשורה, ורק במקרים אשר מעוררים סוגיה משפטית כבדת משקל או בעלת השפעה רחבה, וכן במקרים חריגים אשר מתגלה בהם אי-צדק או עיוות דין כלפי המבקש (רע\"פ 8858/14 יעקובוב נ\\' מדינת ישראל (15.1.2015); רע\"פ 16/15 בסיר סעאידה נ\\' מדינת ישראל (13.1.2015); רע\"פ 8087/14 נדים אנגנאץ נ\\' מדינת ישראל (10.12.2014)). הבקשה שלפניי אינה חורגת מעניינם הפרטי של המבקשים, וחרף האמור בה, נסיבות המקרה אינן מעוררות כל שאלה משפטית העשויה להצדיק רשות ערעור בפני בית משפט זה. כמו כן, לא עולה חשש לעיוות דין כלפי המבקשים או כי מתקיימים שיקולי צדק כלפיהם. אף אם בית משפט השלום ובית המשפט המחוזי הגיעו למסקנות שונות, אין בכך משום הצדקה לקיים דיון נוסף בעניינו של המבקש, בפני בית משפט זה (רע\"פ 4070/14 \\u200fפלונית נ\\' מדינת ישראל (17.6.2014); רע\"פ 2180/14 שמואלי נ\\' מדינת ישראל (24.4.2014)). 10. האפשרות הנתונה לבית המשפט להימנע מהרשעתו של נאשם שביצע עבירה, מעוגנת בסעיף 71א(ב) לחוק העונשין, והיא מהווה חריג לכלל, לפיו משהוכח ביצועה של עבירה יש להרשיע את הנאשם. במילים אחרות, תוצאה של הימנעות מהרשעה, חרף הקביעה כי הנאשם ביצע את העבירה, היא תוצאה חריגה, השמורה למקרים מיוחדים ויוצאי דופן. שני תנאים מצטברים נקבעו, על מנת להימנע מהרשעה: \"ראשית, על ההרשעה לפגוע פגיעה חמורה בשיקום הנאשם, ושנית, סוג העבירה מאפשר לוותר בנסיבות המקרה המסוים על ההרשעה בלי לפגוע באופן מהותי בשיקולי הענישה האחרים\" (ע\"פ 2083/96 כתב נ\\' מדינת ישראל, פ\"ד נב(3) 337 (1997), פסקה 7 לפסק-דינה של השופטת ד\\' דורנר). יישום תנאים אלה, בנסיבות המקרה, מוביל למסקנה כי עניינם של המבקשים איננו נמנה על אותם מקרים חריגים, שקיימת בהם הצדקה להימנעות מהרשעה. 11. במסגרת פסק דינו, התייחס בית המשפט המחוזי, לחומרת העבירות שבוצעו על-ידי המבקשים, בקובעו כי: \"לא ראינו להסתפק בדרך בה הלך בית המשפט קמא, והסיכון הרב הנשקף מיידוי האבנים ומאלימות כלפי שוטרים, מחייב עמדה עונשית נחרצת שיש בה \\'להרתיע את המבצע עצמו ואת העבריינים בכוח, צעירים המתפתים על נקלה להשליך אבנים ובקבוקי תבערה ולסכן חיי אדם\\'...לכן, בהביאנו במסגרת השיקולים את הנסיבות ואת החומרה שיש לייחס לעבירות אלימות כלפי שוטרים והתפרעויות שבמהלכן מיידים קטינים אבנים ומושלכים אף בקבוקי תבערה, תופעה ההולכת ומתעצמת מזה זמן ארוך, אנו סבורים כי ראוי להעביר מסר אחד בעבירות כאלה כי אין להסתפק בפן השיקומי והכלל הוא כי יש להרשיע את המשיבים אף אם מדובר בקטינים שזו להם העבירה הראשונה...\" לטעמי, בית המשפט המחוזי צדק בקביעתו זו, שכן סוג העבירה ונסיבותיה, אינם מאפשרים, בנדון דידן, להימנע מהרשעה. 12. בכל הנוגע לשאלה שעניינה הפגיעה בצורכי שיקומו של הנאשם, נקבע, כי אין מקום להסתפק ב\"תרחיש תיאורטי\", ויש להצביע על קיומו של נזק \"מוחשי וקונקרטי\" אשר צפוי לנאשם כתוצאה מעצם ההרשעה (רע\"פ 1439/13 \\u200fקשת נ\\' מדינת ישראל (4.3.2013); רע\"פ 8627/12 הנסב נ\\' מדינת ישראל (31.12.2012)). יצויין, כי דרישה זו אינה מתייתרת, גם כאשר מדובר בקטינים (ראו עמדתי בע\"פ 5931/13 פלוני נ\\' מדינת ישראל (10.2.2014); רע\"פ 2180/14 ספיר שמואלי נ\\' מדינת ישראל (24.4.2014)). במקרה שלפנינו, לא מצאתי, כי הרשעת המבקשים תפגע בהם פגיעה חמורה, מה גם שלא עלה בידי המבקשים להראות, כי הרשעתם תוביל לפגיעה מהותית וקונקרטית בעתידם או בצורכי שיקומם. 13. למעלה מן הצורך, אדרש, בקצרה, לטענותיהם של המבקשים לגופן. ראשית, אין בידי לקבל את טענת המבקשים, לפיה פסק דינו של בית המשפט המחוזי פוגע בעקרון השוויון, משום שלדבריהם העונשים אשר הוטלו עליהם חמורים מאלה שהוטלו על הנאשמים הנוספים שהיו שותפים לאותן התפרעויות. בית המשפט המחוזי נתן את דעתו לפסיקה אליה הפנו הצדדים, והבהיר, כי \"מעשי המשיבים במקרה זה חמורים ביותר, מעבר לחומרה שתוארה ברבים מפסקי הדין שפורטו לעיל\". מעבר לזאת, הלכה היא, כי השגה על מידת העונש אין בכוחה להצדיק מתן רשות ערעור, למעט במקרים בהם ניכרת חריגה קיצונית ממדיניות הענישה הראויה והמקובלת במקרים דומים (רע\"פ 8719/14 יעקב בן טולילה נ\\' מדינת ישראל (14.1.2015); רע\"פ 7584/14 אבו שוקור נ\\' מדינת ישראל (2.12.2014); רע\"פ 7641/14 אלטורי נ\\' מדינת ישראל (30.11.2014)). גם אם ניתן היה למצוא גזרי דין מקלים יותר, בנסיבות הדומות לענייננו, אין הדבר מעיד כי העונש אשר הושת על המבקשים חורג באופן מהותי ממדיניות הענישה הראויה. במצב דברים זה, סבורני כי לא נפל כל פגם בעונשים אשר הושתו על המבקשים על-ידי בית המשפט המחוזי. 14. באופן דומה, לא מצאתי ממש בטענת המבקשים, כי בית המשפט המחוזי לא התאים את הענישה לנסיבותיהם האישיות. לעניין זה, קבע בית המשפט המחוזי, כי: \"בצד החומרה שראינו לייחס לעבירות שבהן הורשעו המשיבים, נתנו דעתנו לנסיבותיהם האישיות של המשיבים, לגילם בעת ביצוע העבירות, לתסקיר שירות המבחן, להעדר רישום פלילי ולהתייחסות בית משפט קמא לנסיבות של המשיבים כאמור בגזר הדין, וראינו אף לאמץ את דבריו אשר למשיבים ואשר למדרג שקבע בענישה לגביהם בשל השוני בגילם...\" הנה כי כן, בית המשפט המחוזי לא התעלם מנסיבותיהם הפרטניות של המבקשים, ומיתר השיקולים לקולה. בית המשפט המחוזי נתן את דעתו למכלול שיקולי הענישה הרלוונטיים, וערך ביניהם איזון ראוי, בנסיבות העניין. לפיכך, אינני רואה כל הצדקה להתערב במידת עונשם של המבקשים, והדברים נאמרים ביתר שאת כאשר מדובר בדיון ב\"גלגול שלישי\". 15. אשר על כן, הבקשה לרשות ערעור נדחית בזאת. המבקשים יתייצבו לריצוי עונשם ביום 1.3.2015, עד לשעה 10:00, בימ\"ר ניצן, או על פי החלטת שירות בתי הסוהר, כשברשותם תעודת זהות או דרכון ועותק מהחלטה זו. על המבקשים לתאם את הכניסה למאסר, עם ענף אבחון ומיון של שירות בתי הסוהר, בטלפונים: 08-9787377 או 08-9787336. ניתנה ביום, \\u200fו\\' בשבט התשע\"ה (\\u200f26.1.2015). תוקנה היום, ז\\' בשבט התשע\"ה (27.1.2015). ש ו פ ט _________________________</td>\n",
              "      <td>(13.1.2015); רע\"פ 8087/14 נדים אנגנאץ נ\\' מדינת ישראל (10.12.2014)). הבקשה שלפניי אינה חורגת מעניינם הפרטי של המבקשים, וחרף האמור בה, נסיבות המקרה אינן מעוררות כל שאלה משפטית העשויה להצדיק רשות ערעור בפני בית משפט זה. כמו כן, לא עולה חשש לעיוות דין כלפי המבקשים או כי מתקיימים שיקולי צדק כלפיהם. אף אם בית משפט השלום ובית המשפט המחוזי הגיעו למסקנות שונות, אין בכך משום הצדקה לקיים דיון נוסף בעניינו של המבקש, בפני בית משפט זה (רע\"פ 4070/14 \\u200fפלונית נ\\' מדינת ישראל (17.6.2014); רע\"פ 2180/14 שמואלי נ\\' מדינת ישראל (24.4.2014)). 10. האפשרות הנתונה לבית המשפט להימנע מהרשעתו של נאשם שביצע עבירה, מעוגנת בסעיף 71א(ב) לחוק העונשין, והיא מהווה חריג לכלל, לפיו משהוכח ביצועה של עבירה יש להרשיע את הנאשם. במילים אחרות, תוצאה של הימנעות מהרשעה, חרף הקביעה כי הנאשם ביצע את העבירה, היא תוצאה חריגה, השמורה למקרים מיוחדים ויוצאי דופן. שני תנאים מצטברים נקבעו, על מנת להימנע מהרשעה: \"ראשית, על ההרשעה לפגוע פגיעה חמורה בשיקום הנאשם, ושנית, סוג העבירה מאפשר לוותר בנסיבות המקרה המסוים על ההרשעה בלי לפגוע באופן מהותי בשיקולי הענישה האחרים\" (ע\"פ 2083/96 כתב נ\\' מדינת ישראל, פ\"ד נב(3) 337 (1997), פסקה 7 לפסק-דינה של השופטת ד\\' דורנר). יישום תנאים אלה, בנסיבות המקרה, מוביל למסקנה כי עניינם של המבקשים איננו נמנה על אותם מקרים חריגים, שקיימת בהם הצדקה להימנעות מהרשעה. 11. במסגרת פסק דינו, התייחס בית המשפט המחוזי, לחומרת העבירות שבוצעו על-ידי המבקשים, בקובעו כי: \"לא ראינו להסתפק בדרך בה הלך בית המשפט קמא, והסיכון הרב הנשקף מיידוי האבנים ומאלימות כלפי שוטרים, מחייב עמדה עונשית נחרצת שיש בה \\'להרתיע את המבצע עצמו ואת העבריינים בכוח, צעירים המתפתים על נקלה להשליך אבנים ובקבוקי תבערה ולסכן חיי אדם\\'...לכן, בהביאנו במסגרת השיקולים את הנסיבות ואת החומרה שיש לייחס לעבירות אלימות כלפי שוטרים והתפרעויות שבמהלכן מיידים קטינים אבנים ומושלכים אף בקבוקי תבערה, תופעה ההולכת ומתעצמת מזה זמן ארוך, אנו סבורים כי ראוי להעביר מסר אחד בעבירות כאלה כי אין להסתפק בפן השיקומי והכלל הוא כי יש להרשיע את המשיבים אף אם מדובר בקטינים שזו להם העבירה הראשונה...\" לטעמי, בית המשפט המחוזי צדק בקביעתו זו, שכן סוג העבירה ונסיבותיה, אינם מאפשרים, בנדון דידן, להימנע מהרשעה. 12. בכל הנוגע לשאלה שעניינה הפגיעה בצורכי שיקומו של הנאשם, נקבע, כי אין מקום להסתפק ב\"תרחיש תיאורטי\", ויש להצביע על קיומו של נזק \"מוחשי וקונקרטי\" אשר צפוי לנאשם כתוצאה מעצם ההרשעה (רע\"פ 1439/13 \\u200fקשת נ\\' מדינת ישראל (4.3.2013); רע\"פ 8627/12 הנסב נ\\' מדינת ישראל (31.12.2012)). יצויין, כי דרישה זו אינה מתייתרת, גם כאשר מדובר בקטינים (ראו עמדתי בע\"פ 5931/13 פלוני נ\\' מדינת ישראל (10.2.2014); רע\"פ 2180/14 ספיר שמואלי נ\\' מדינת ישראל (24.4.2014)). במקרה שלפנינו, לא מצאתי, כי הרשעת המבקשים תפגע בהם פגיעה חמורה, מה גם שלא עלה בידי המבקשים להראות, כי הרשעתם תוביל לפגיעה מהותית וקונקרטית בעתידם או בצורכי שיקומם. 13. למעלה מן הצורך, אדרש, בקצרה, לטענותיהם של המבקשים לגופן. ראשית, אין בידי לקבל את טענת המבקשים, לפיה פסק דינו של בית המשפט המחוזי פוגע בעקרון השוויון, משום שלדבריהם העונשים אשר הוטלו עליהם חמורים מאלה שהוטלו על הנאשמים הנוספים שהיו שותפים לאותן התפרעויות. בית המשפט המחוזי נתן את דעתו לפסיקה אליה הפנו הצדדים, והבהיר, כי \"מעשי המשיבים במקרה זה חמורים ביותר, מעבר לחומרה שתוארה ברבים מפסקי הדין שפורטו לעיל\". מעבר לזאת, הלכה היא, כי השגה על מידת העונש אין בכוחה להצדיק מתן רשות ערעור, למעט במקרים בהם ניכרת חריגה קיצונית ממדיניות הענישה הראויה והמקובלת במקרים דומים (רע\"פ 8719/14 יעקב בן טולילה נ\\' מדינת ישראל (14.1.2015); רע\"פ 7584/14 אבו שוקור נ\\' מדינת ישראל (2.12.2014); רע\"פ 7641/14 אלטורי נ\\' מדינת ישראל (30.11.2014)). גם אם ניתן היה למצוא גזרי דין מקלים יותר, בנסיבות הדומות לענייננו, אין הדבר מעיד כי העונש אשר הושת על המבקשים חורג באופן מהותי ממדיניות הענישה הראויה. במצב דברים זה, סבורני כי לא נפל כל פגם בעונשים אשר הושתו על המבקשים על-ידי בית המשפט המחוזי. 14. באופן דומה, לא מצאתי ממש בטענת המבקשים, כי בית המשפט המחוזי לא התאים את הענישה לנסיבותיהם האישיות. לעניין זה, קבע בית המשפט המחוזי, כי: \"בצד החומרה שראינו לייחס לעבירות שבהן הורשעו המשיבים, נתנו דעתנו לנסיבותיהם האישיות של המשיבים, לגילם בעת ביצוע העבירות, לתסקיר שירות המבחן, להעדר רישום פלילי ולהתייחסות בית משפט קמא לנסיבות של המשיבים כאמור בגזר הדין, וראינו אף לאמץ את דבריו אשר למשיבים ואשר למדרג שקבע בענישה לגביהם בשל השוני בגילם...\" הנה כי כן, בית המשפט המחוזי לא התעלם מנסיבותיהם הפרטניות של המבקשים, ומיתר השיקולים לקולה. בית המשפט המחוזי נתן את דעתו למכלול שיקולי הענישה הרלוונטיים, וערך ביניהם איזון ראוי, בנסיבות העניין. לפיכך, אינני רואה כל הצדקה להתערב במידת עונשם של המבקשים, והדברים נאמרים ביתר שאת כאשר מדובר בדיון ב\"גלגול שלישי\". 15. אשר על כן, הבקשה לרשות ערעור נדחית בזאת. המבקשים יתייצבו לריצוי עונשם ביום 1.3.2015, עד לשעה 10:00, בימ\"ר ניצן, או על פי החלטת שירות בתי הסוהר, כשברשותם תעודת זהות או דרכון ועותק מהחלטה זו. על המבקשים לתאם את הכניסה למאסר, עם ענף אבחון ומיון של שירות בתי הסוהר, בטלפונים:</td>\n",
              "    </tr>\n",
              "    <tr>\n",
              "      <th>73</th>\n",
              "      <td>['פסק דין בתיק רע\"פ 2811/15 בבית המשפט העליון רע\"פ 2811/15 לפני: כבוד השופט ח\\' מלצר כבוד השופט נ\\' הנדל כבוד השופטת ד\\' ברק-ארז המבקש: פלוני נגד המשיבה: מדינת ישראל חוות דעת הממונה על עבודות שירות מתאריך 02.12.2015; פסק דין משלים בבקשת רשות ערעור על גזר דינו של בית המשפט המחוזי בירושלים (כב\\' השופטים: א\\' כהן, מ\\' יועד הכהן ו-מ\\' בר-עם) מיום 15.03.0015 בתיק עפ\"ג 024776-10-14 תאריך הישיבה: י\"ג בכסלו התשע\"ו (25.11.2015) בשם המבקש: עו\"ד מוריה ששון בשם המשיב: עו\"ד תומר סגלוביץ\\' בשם שירות המבחן: הגב\\' ברכה וייס פסק דין משלים 1. בהמשך לפסק דיננו מתאריך 25.11.2015 אנו מורים כי המבקש ירצה את עונש של 3 חודשי מאסר שהושת עליו, על דרך של עבודות שירות, בהתאם לחוות דעת הממונה – במרכז יום לקשיש, רח\\' המשלט 17 בית שמש, וזאת במשך חמישה ימים בשבוע, 8.5 שעות עבודה יומיות, החל מתאריך 24.01.2016. בתאריך האמור המבקש יתייצב במשרדי הממונה על עבודות שירות במפקדת מחוז מרכז, יחידת עבודות שירות, ת.ד. 81, רמלה, בשעה 08:00. המבקש מוזהר באשר למועד ההתייצבות ולביצוע העבודות כהלכתן. 2. עותק מפסק הדין המשלים יועבר לממונה על עבודות שירות. ניתן היום, \\u200fכ\"ו בכסלו התשע\"ו (\\u200f8.12.2015). ש ו פ ט ש ו פ ט ש ו פ ט ת _________________________</td>\n",
              "      <td>['פסק דין בתיק רע\"פ 2811/15 בבית המשפט העליון רע\"פ 2811/15 לפני: כבוד השופט ח\\' מלצר כבוד השופט נ\\' הנדל כבוד השופטת ד\\' ברק-ארז המבקש: פלוני נגד המשיבה: מדינת ישראל חוות דעת הממונה על עבודות שירות מתאריך 02.12.2015; פסק דין משלים בבקשת רשות ערעור על גזר דינו של בית המשפט המחוזי בירושלים (כב\\' השופטים: א\\' כהן, מ\\' יועד הכהן ו-מ\\' בר-עם) מיום 15.03.0015 בתיק עפ\"ג 024776-10-14 תאריך הישיבה: י\"ג בכסלו התשע\"ו (25.11.2015) בשם המבקש: עו\"ד מוריה ששון בשם המשיב: עו\"ד תומר סגלוביץ\\' בשם שירות המבחן: הגב\\' ברכה וייס פסק דין משלים 1. בהמשך לפסק דיננו מתאריך 25.11.2015 אנו מורים כי המבקש ירצה את עונש של 3 חודשי מאסר שהושת עליו, על דרך של עבודות שירות, בהתאם לחוות דעת הממונה – במרכז יום לקשיש, רח\\' המשלט 17 בית שמש, וזאת במשך חמישה ימים בשבוע, 8.5 שעות עבודה יומיות, החל מתאריך 24.01.2016. בתאריך האמור המבקש יתייצב במשרדי הממונה על עבודות שירות במפקדת מחוז מרכז, יחידת עבודות שירות, ת.ד. 81, רמלה, בשעה 08:00. המבקש מוזהר באשר למועד ההתייצבות ולביצוע העבודות כהלכתן. 2. עותק מפסק הדין המשלים יועבר לממונה על עבודות שירות. ניתן היום, \\u200fכ\"ו בכסלו התשע\"ו (\\u200f8.12.2015). ש ו פ ט ש ו פ ט ש ו פ ט ת _________________________</td>\n",
              "    </tr>\n",
              "    <tr>\n",
              "      <th>114</th>\n",
              "      <td>['פסק דין בתיק רע\"פ 2195/15 בבית המשפט העליון רע\"פ 2195/15 רע\"פ 2231/15 לפני: כבוד השופט ס\\' ג\\'ובראן כבוד השופט נ\\' הנדל כבוד השופט א\\' שהם המבקשים ברע\"פ 2195/15: 1. אהוד יפרח 2. חב\\' אהוד מאיר שאיבות בע\"מ 3. טיהל נכסים בע\"מ 4. לי יפרח המבקשים ברע\"פ 2231/15: 1. יוסי ליבוביץ\\' 2. רינת ליבוביץ\\' נגד המשיבה: מדינת ישראל בקשות רשות ערעור על החלטתו של בית המשפט המחוזי מרכז-לוד מיום 26.2.2015 בע\"ח 28595-01-15 שניתן על ידי כבוד השופטת דבורה עטר תאריך הישיבה: כ\"ג באלול התשע\"ה (7.9.2015) בשם המבקשים ברע\"פ 2195/15: עו\"ד דרור מתתיהו; עו\"ד הגר נגלר בשם המבקשים ברע\"פ 2231/15: עו\"ד יהושע רזניק; עו\"ד ציון סהראי בשם המשיבה: עו\"ד אבי וסטרמן; עו\"ד יפעת שטיין פסק דין בהמלצתנו חזרו בהם באי כוח המבקשים מהבקשות למתן רשות ערעור, והבקשות נדחות בזה. ניתן היום, כ\"ג באלול התשע\"ה (\\u200f7.9.2015). ש ו פ ט ש ו פ ט ש ו פ ט _________________________</td>\n",
              "      <td>['פסק דין בתיק רע\"פ 2195/15 בבית המשפט העליון רע\"פ 2195/15 רע\"פ 2231/15 לפני: כבוד השופט ס\\' ג\\'ובראן כבוד השופט נ\\' הנדל כבוד השופט א\\' שהם המבקשים ברע\"פ 2195/15: 1. אהוד יפרח 2. חב\\' אהוד מאיר שאיבות בע\"מ 3. טיהל נכסים בע\"מ 4. לי יפרח המבקשים ברע\"פ 2231/15: 1. יוסי ליבוביץ\\' 2. רינת ליבוביץ\\' נגד המשיבה: מדינת ישראל בקשות רשות ערעור על החלטתו של בית המשפט המחוזי מרכז-לוד מיום 26.2.2015 בע\"ח 28595-01-15 שניתן על ידי כבוד השופטת דבורה עטר תאריך הישיבה: כ\"ג באלול התשע\"ה (7.9.2015) בשם המבקשים ברע\"פ 2195/15: עו\"ד דרור מתתיהו; עו\"ד הגר נגלר בשם המבקשים ברע\"פ 2231/15: עו\"ד יהושע רזניק; עו\"ד ציון סהראי בשם המשיבה: עו\"ד אבי וסטרמן; עו\"ד יפעת שטיין פסק דין בהמלצתנו חזרו בהם באי כוח המבקשים מהבקשות למתן רשות ערעור, והבקשות נדחות בזה. ניתן היום, כ\"ג באלול התשע\"ה (\\u200f7.9.2015). ש ו פ ט ש ו פ ט ש ו פ ט _________________________</td>\n",
              "    </tr>\n",
              "  </tbody>\n",
              "</table>\n",
              "</div>\n",
              "    <div class=\"colab-df-buttons\">\n",
              "\n",
              "  <div class=\"colab-df-container\">\n",
              "    <button class=\"colab-df-convert\" onclick=\"convertToInteractive('df-ceb0285c-731d-47b8-a620-bcc0435123b7')\"\n",
              "            title=\"Convert this dataframe to an interactive table.\"\n",
              "            style=\"display:none;\">\n",
              "\n",
              "  <svg xmlns=\"http://www.w3.org/2000/svg\" height=\"24px\" viewBox=\"0 -960 960 960\">\n",
              "    <path d=\"M120-120v-720h720v720H120Zm60-500h600v-160H180v160Zm220 220h160v-160H400v160Zm0 220h160v-160H400v160ZM180-400h160v-160H180v160Zm440 0h160v-160H620v160ZM180-180h160v-160H180v160Zm440 0h160v-160H620v160Z\"/>\n",
              "  </svg>\n",
              "    </button>\n",
              "\n",
              "  <style>\n",
              "    .colab-df-container {\n",
              "      display:flex;\n",
              "      gap: 12px;\n",
              "    }\n",
              "\n",
              "    .colab-df-convert {\n",
              "      background-color: #E8F0FE;\n",
              "      border: none;\n",
              "      border-radius: 50%;\n",
              "      cursor: pointer;\n",
              "      display: none;\n",
              "      fill: #1967D2;\n",
              "      height: 32px;\n",
              "      padding: 0 0 0 0;\n",
              "      width: 32px;\n",
              "    }\n",
              "\n",
              "    .colab-df-convert:hover {\n",
              "      background-color: #E2EBFA;\n",
              "      box-shadow: 0px 1px 2px rgba(60, 64, 67, 0.3), 0px 1px 3px 1px rgba(60, 64, 67, 0.15);\n",
              "      fill: #174EA6;\n",
              "    }\n",
              "\n",
              "    .colab-df-buttons div {\n",
              "      margin-bottom: 4px;\n",
              "    }\n",
              "\n",
              "    [theme=dark] .colab-df-convert {\n",
              "      background-color: #3B4455;\n",
              "      fill: #D2E3FC;\n",
              "    }\n",
              "\n",
              "    [theme=dark] .colab-df-convert:hover {\n",
              "      background-color: #434B5C;\n",
              "      box-shadow: 0px 1px 3px 1px rgba(0, 0, 0, 0.15);\n",
              "      filter: drop-shadow(0px 1px 2px rgba(0, 0, 0, 0.3));\n",
              "      fill: #FFFFFF;\n",
              "    }\n",
              "  </style>\n",
              "\n",
              "    <script>\n",
              "      const buttonEl =\n",
              "        document.querySelector('#df-ceb0285c-731d-47b8-a620-bcc0435123b7 button.colab-df-convert');\n",
              "      buttonEl.style.display =\n",
              "        google.colab.kernel.accessAllowed ? 'block' : 'none';\n",
              "\n",
              "      async function convertToInteractive(key) {\n",
              "        const element = document.querySelector('#df-ceb0285c-731d-47b8-a620-bcc0435123b7');\n",
              "        const dataTable =\n",
              "          await google.colab.kernel.invokeFunction('convertToInteractive',\n",
              "                                                    [key], {});\n",
              "        if (!dataTable) return;\n",
              "\n",
              "        const docLinkHtml = 'Like what you see? Visit the ' +\n",
              "          '<a target=\"_blank\" href=https://colab.research.google.com/notebooks/data_table.ipynb>data table notebook</a>'\n",
              "          + ' to learn more about interactive tables.';\n",
              "        element.innerHTML = '';\n",
              "        dataTable['output_type'] = 'display_data';\n",
              "        await google.colab.output.renderOutput(dataTable, element);\n",
              "        const docLink = document.createElement('div');\n",
              "        docLink.innerHTML = docLinkHtml;\n",
              "        element.appendChild(docLink);\n",
              "      }\n",
              "    </script>\n",
              "  </div>\n",
              "\n",
              "\n",
              "<div id=\"df-38fb1154-41bf-4495-89e8-ba7009a790c5\">\n",
              "  <button class=\"colab-df-quickchart\" onclick=\"quickchart('df-38fb1154-41bf-4495-89e8-ba7009a790c5')\"\n",
              "            title=\"Suggest charts\"\n",
              "            style=\"display:none;\">\n",
              "\n",
              "<svg xmlns=\"http://www.w3.org/2000/svg\" height=\"24px\"viewBox=\"0 0 24 24\"\n",
              "     width=\"24px\">\n",
              "    <g>\n",
              "        <path d=\"M19 3H5c-1.1 0-2 .9-2 2v14c0 1.1.9 2 2 2h14c1.1 0 2-.9 2-2V5c0-1.1-.9-2-2-2zM9 17H7v-7h2v7zm4 0h-2V7h2v10zm4 0h-2v-4h2v4z\"/>\n",
              "    </g>\n",
              "</svg>\n",
              "  </button>\n",
              "\n",
              "<style>\n",
              "  .colab-df-quickchart {\n",
              "      --bg-color: #E8F0FE;\n",
              "      --fill-color: #1967D2;\n",
              "      --hover-bg-color: #E2EBFA;\n",
              "      --hover-fill-color: #174EA6;\n",
              "      --disabled-fill-color: #AAA;\n",
              "      --disabled-bg-color: #DDD;\n",
              "  }\n",
              "\n",
              "  [theme=dark] .colab-df-quickchart {\n",
              "      --bg-color: #3B4455;\n",
              "      --fill-color: #D2E3FC;\n",
              "      --hover-bg-color: #434B5C;\n",
              "      --hover-fill-color: #FFFFFF;\n",
              "      --disabled-bg-color: #3B4455;\n",
              "      --disabled-fill-color: #666;\n",
              "  }\n",
              "\n",
              "  .colab-df-quickchart {\n",
              "    background-color: var(--bg-color);\n",
              "    border: none;\n",
              "    border-radius: 50%;\n",
              "    cursor: pointer;\n",
              "    display: none;\n",
              "    fill: var(--fill-color);\n",
              "    height: 32px;\n",
              "    padding: 0;\n",
              "    width: 32px;\n",
              "  }\n",
              "\n",
              "  .colab-df-quickchart:hover {\n",
              "    background-color: var(--hover-bg-color);\n",
              "    box-shadow: 0 1px 2px rgba(60, 64, 67, 0.3), 0 1px 3px 1px rgba(60, 64, 67, 0.15);\n",
              "    fill: var(--button-hover-fill-color);\n",
              "  }\n",
              "\n",
              "  .colab-df-quickchart-complete:disabled,\n",
              "  .colab-df-quickchart-complete:disabled:hover {\n",
              "    background-color: var(--disabled-bg-color);\n",
              "    fill: var(--disabled-fill-color);\n",
              "    box-shadow: none;\n",
              "  }\n",
              "\n",
              "  .colab-df-spinner {\n",
              "    border: 2px solid var(--fill-color);\n",
              "    border-color: transparent;\n",
              "    border-bottom-color: var(--fill-color);\n",
              "    animation:\n",
              "      spin 1s steps(1) infinite;\n",
              "  }\n",
              "\n",
              "  @keyframes spin {\n",
              "    0% {\n",
              "      border-color: transparent;\n",
              "      border-bottom-color: var(--fill-color);\n",
              "      border-left-color: var(--fill-color);\n",
              "    }\n",
              "    20% {\n",
              "      border-color: transparent;\n",
              "      border-left-color: var(--fill-color);\n",
              "      border-top-color: var(--fill-color);\n",
              "    }\n",
              "    30% {\n",
              "      border-color: transparent;\n",
              "      border-left-color: var(--fill-color);\n",
              "      border-top-color: var(--fill-color);\n",
              "      border-right-color: var(--fill-color);\n",
              "    }\n",
              "    40% {\n",
              "      border-color: transparent;\n",
              "      border-right-color: var(--fill-color);\n",
              "      border-top-color: var(--fill-color);\n",
              "    }\n",
              "    60% {\n",
              "      border-color: transparent;\n",
              "      border-right-color: var(--fill-color);\n",
              "    }\n",
              "    80% {\n",
              "      border-color: transparent;\n",
              "      border-right-color: var(--fill-color);\n",
              "      border-bottom-color: var(--fill-color);\n",
              "    }\n",
              "    90% {\n",
              "      border-color: transparent;\n",
              "      border-bottom-color: var(--fill-color);\n",
              "    }\n",
              "  }\n",
              "</style>\n",
              "\n",
              "  <script>\n",
              "    async function quickchart(key) {\n",
              "      const quickchartButtonEl =\n",
              "        document.querySelector('#' + key + ' button');\n",
              "      quickchartButtonEl.disabled = true;  // To prevent multiple clicks.\n",
              "      quickchartButtonEl.classList.add('colab-df-spinner');\n",
              "      try {\n",
              "        const charts = await google.colab.kernel.invokeFunction(\n",
              "            'suggestCharts', [key], {});\n",
              "      } catch (error) {\n",
              "        console.error('Error during call to suggestCharts:', error);\n",
              "      }\n",
              "      quickchartButtonEl.classList.remove('colab-df-spinner');\n",
              "      quickchartButtonEl.classList.add('colab-df-quickchart-complete');\n",
              "    }\n",
              "    (() => {\n",
              "      let quickchartButtonEl =\n",
              "        document.querySelector('#df-38fb1154-41bf-4495-89e8-ba7009a790c5 button');\n",
              "      quickchartButtonEl.style.display =\n",
              "        google.colab.kernel.accessAllowed ? 'block' : 'none';\n",
              "    })();\n",
              "  </script>\n",
              "</div>\n",
              "\n",
              "    </div>\n",
              "  </div>\n"
            ],
            "application/vnd.google.colaboratory.intrinsic+json": {
              "type": "dataframe",
              "summary": "{\n  \"name\": \"df[[\\\"\\u05d2\\u05d5\\u05e3 \\u05d4\\u05de\\u05e1\\u05de\\u05da\\\", \\\"\\u05d2\\u05d5\\u05e3 \\u05d4\\u05de\\u05e1\\u05de\\u05da \\u05d7\\u05ea\\u05d5\\u05da\\\"]]\",\n  \"rows\": 5,\n  \"fields\": [\n    {\n      \"column\": \"\\u05d2\\u05d5\\u05e3 \\u05d4\\u05de\\u05e1\\u05de\\u05da\",\n      \"properties\": {\n        \"dtype\": \"string\",\n        \"num_unique_values\": 5,\n        \"samples\": [\n          \"['\\u05d4\\u05d7\\u05dc\\u05d8\\u05d4 \\u05d1\\u05ea\\u05d9\\u05e7 \\u05e8\\u05e2\\\"\\u05e4 825/15 \\u05d1\\u05d1\\u05d9\\u05ea \\u05d4\\u05de\\u05e9\\u05e4\\u05d8 \\u05d4\\u05e2\\u05dc\\u05d9\\u05d5\\u05df \\u05e8\\u05e2\\\"\\u05e4 825/15 - \\u05d1\\\\' \\u05dc\\u05e4\\u05e0\\u05d9: \\u05db\\u05d1\\u05d5\\u05d3 \\u05d4\\u05e9\\u05d5\\u05e4\\u05d8 \\u05d7\\\\' \\u05de\\u05dc\\u05e6\\u05e8 \\u05d4\\u05de\\u05d1\\u05e7\\u05e9: \\u05de\\u05e8\\u05d3\\u05db\\u05d9 \\u05e7\\u05d9\\u05e1\\u05d5\\u05e1 \\u05e0\\u05d2\\u05d3 \\u05d4\\u05de\\u05e9\\u05d9\\u05d1\\u05d4: \\u05de\\u05d3\\u05d9\\u05e0\\u05ea \\u05d9\\u05e9\\u05e8\\u05d0\\u05dc \\u05d1\\u05e7\\u05e9\\u05d4 \\u05dc\\u05e2\\u05d9\\u05db\\u05d5\\u05d1 \\u05d1\\u05d9\\u05e6\\u05d5\\u05e2 \\u05e2\\u05d5\\u05e0\\u05e9 \\u05de\\u05d0\\u05e1\\u05e8 \\u05de\\u05ea\\u05d0\\u05e8\\u05d9\\u05da 18.02.2015; \\u05ea\\u05d2\\u05d5\\u05d1\\u05ea \\u05d4\\u05de\\u05e9\\u05d9\\u05d1\\u05d4 \\u05dc\\u05d1\\u05e7\\u05e9\\u05d4 \\u05de\\u05ea\\u05d0\\u05e8\\u05d9\\u05da 19.02.2015 \\u05d1\\u05e9\\u05dd \\u05d4\\u05de\\u05d1\\u05e7\\u05e9: \\u05e2\\u05d5\\\"\\u05d3 \\u05e9\\u05de\\u05d5\\u05d0\\u05dc \\u05d1\\u05e8\\u05d6\\u05e0\\u05d9 \\u05d1\\u05e9\\u05dd \\u05d4\\u05de\\u05e9\\u05d9\\u05d1\\u05d4: \\u05e2\\u05d5\\\"\\u05d3 \\u05e1\\u05d9\\u05d2\\u05dc \\u05d1\\u05dc\\u05d5\\u05dd \\u05d4\\u05d7\\u05dc\\u05d8\\u05d4 \\u05db\\u05de\\u05d1\\u05d5\\u05e7\\u05e9 \\u05d5\\u05db\\u05de\\u05d5\\u05e1\\u05db\\u05dd \\u05d4\\u05de\\u05d1\\u05e7\\u05e9 \\u05d9\\u05ea\\u05d9\\u05d9\\u05e6\\u05d1 \\u05dc\\u05e8\\u05d9\\u05e6\\u05d5\\u05d9 \\u05e2\\u05d5\\u05e0\\u05e9 \\u05d4\\u05de\\u05d0\\u05e1\\u05e8 \\u05e9\\u05e0\\u05d2\\u05d6\\u05e8 \\u05e2\\u05dc\\u05d9\\u05d5 \\u2013 \\u05d1\\u05ea\\u05d0\\u05e8\\u05d9\\u05da 13.04.2015 \\u05e2\\u05d3 \\u05dc\\u05e9\\u05e2\\u05d4 10:00, \\u05d1\\u05d1\\u05d9\\u05de\\\"\\u05e8 \\u05e7\\u05d9\\u05e9\\u05d5\\u05df, \\u05d0\\u05d5 \\u05d1\\u05de\\u05e7\\u05d5\\u05dd \\u05d0\\u05d7\\u05e8 \\u05e2\\u05dc \\u05e4\\u05d9 \\u05d4\\u05d7\\u05dc\\u05d8\\u05ea \\u05e9\\u05d9\\u05e8\\u05d5\\u05ea \\u05d1\\u05ea\\u05d9 \\u05d4\\u05e1\\u05d5\\u05d4\\u05e8, \\u05db\\u05e9\\u05d1\\u05e8\\u05e9\\u05d5\\u05ea\\u05d5 \\u05ea\\u05e2\\u05d5\\u05d3\\u05ea \\u05d6\\u05d4\\u05d5\\u05ea, \\u05d0\\u05d5 \\u05d3\\u05e8\\u05db\\u05d5\\u05df. \\u05e2\\u05dc \\u05d4\\u05de\\u05d1\\u05e7\\u05e9 \\u05dc\\u05ea\\u05d0\\u05dd \\u05d0\\u05ea \\u05d4\\u05db\\u05e0\\u05d9\\u05e1\\u05d4 \\u05dc\\u05de\\u05d0\\u05e1\\u05e8, \\u05db\\u05d5\\u05dc\\u05dc \\u05d4\\u05d0\\u05e4\\u05e9\\u05e8\\u05d5\\u05ea \\u05dc\\u05de\\u05d9\\u05d5\\u05df \\u05de\\u05d5\\u05e7\\u05d3\\u05dd, \\u05e2\\u05dd \\u05e2\\u05e0\\u05e3 \\u05d0\\u05d1\\u05d7\\u05d5\\u05df \\u05d5\\u05de\\u05d9\\u05d5\\u05df \\u05e9\\u05dc \\u05e9\\u05d9\\u05e8\\u05d5\\u05ea \\u05d1\\u05ea\\u05d9 \\u05d4\\u05e1\\u05d5\\u05d4\\u05e8, \\u05d8\\u05dc\\u05e4\\u05d5\\u05e0\\u05d9\\u05dd: 08-9787377 \\u05d0\\u05d5 08-9787336. \\u05e0\\u05d9\\u05ea\\u05e0\\u05d4 \\u05d4\\u05d9\\u05d5\\u05dd, \\\\u200f\\u05d2\\\\' \\u05d1\\u05d0\\u05d3\\u05e8 \\u05d4\\u05ea\\u05e9\\u05e2\\\"\\u05d4 (\\\\u200f22.2.2015). \\u05e9 \\u05d5 \\u05e4 \\u05d8 _________________________ \",\n          \"['\\u05e4\\u05e1\\u05e7 \\u05d3\\u05d9\\u05df \\u05d1\\u05ea\\u05d9\\u05e7 \\u05e8\\u05e2\\\"\\u05e4 2195/15 \\u05d1\\u05d1\\u05d9\\u05ea \\u05d4\\u05de\\u05e9\\u05e4\\u05d8 \\u05d4\\u05e2\\u05dc\\u05d9\\u05d5\\u05df \\u05e8\\u05e2\\\"\\u05e4 2195/15 \\u05e8\\u05e2\\\"\\u05e4 2231/15 \\u05dc\\u05e4\\u05e0\\u05d9: \\u05db\\u05d1\\u05d5\\u05d3 \\u05d4\\u05e9\\u05d5\\u05e4\\u05d8 \\u05e1\\\\' \\u05d2\\\\'\\u05d5\\u05d1\\u05e8\\u05d0\\u05df \\u05db\\u05d1\\u05d5\\u05d3 \\u05d4\\u05e9\\u05d5\\u05e4\\u05d8 \\u05e0\\\\' \\u05d4\\u05e0\\u05d3\\u05dc \\u05db\\u05d1\\u05d5\\u05d3 \\u05d4\\u05e9\\u05d5\\u05e4\\u05d8 \\u05d0\\\\' \\u05e9\\u05d4\\u05dd \\u05d4\\u05de\\u05d1\\u05e7\\u05e9\\u05d9\\u05dd \\u05d1\\u05e8\\u05e2\\\"\\u05e4 2195/15: 1. \\u05d0\\u05d4\\u05d5\\u05d3 \\u05d9\\u05e4\\u05e8\\u05d7 2. \\u05d7\\u05d1\\\\' \\u05d0\\u05d4\\u05d5\\u05d3 \\u05de\\u05d0\\u05d9\\u05e8 \\u05e9\\u05d0\\u05d9\\u05d1\\u05d5\\u05ea \\u05d1\\u05e2\\\"\\u05de 3. \\u05d8\\u05d9\\u05d4\\u05dc \\u05e0\\u05db\\u05e1\\u05d9\\u05dd \\u05d1\\u05e2\\\"\\u05de 4. \\u05dc\\u05d9 \\u05d9\\u05e4\\u05e8\\u05d7 \\u05d4\\u05de\\u05d1\\u05e7\\u05e9\\u05d9\\u05dd \\u05d1\\u05e8\\u05e2\\\"\\u05e4 2231/15: 1. \\u05d9\\u05d5\\u05e1\\u05d9 \\u05dc\\u05d9\\u05d1\\u05d5\\u05d1\\u05d9\\u05e5\\\\' 2. \\u05e8\\u05d9\\u05e0\\u05ea \\u05dc\\u05d9\\u05d1\\u05d5\\u05d1\\u05d9\\u05e5\\\\' \\u05e0\\u05d2\\u05d3 \\u05d4\\u05de\\u05e9\\u05d9\\u05d1\\u05d4: \\u05de\\u05d3\\u05d9\\u05e0\\u05ea \\u05d9\\u05e9\\u05e8\\u05d0\\u05dc \\u05d1\\u05e7\\u05e9\\u05d5\\u05ea \\u05e8\\u05e9\\u05d5\\u05ea \\u05e2\\u05e8\\u05e2\\u05d5\\u05e8 \\u05e2\\u05dc \\u05d4\\u05d7\\u05dc\\u05d8\\u05ea\\u05d5 \\u05e9\\u05dc \\u05d1\\u05d9\\u05ea \\u05d4\\u05de\\u05e9\\u05e4\\u05d8 \\u05d4\\u05de\\u05d7\\u05d5\\u05d6\\u05d9 \\u05de\\u05e8\\u05db\\u05d6-\\u05dc\\u05d5\\u05d3 \\u05de\\u05d9\\u05d5\\u05dd 26.2.2015 \\u05d1\\u05e2\\\"\\u05d7 28595-01-15 \\u05e9\\u05e0\\u05d9\\u05ea\\u05df \\u05e2\\u05dc \\u05d9\\u05d3\\u05d9 \\u05db\\u05d1\\u05d5\\u05d3 \\u05d4\\u05e9\\u05d5\\u05e4\\u05d8\\u05ea \\u05d3\\u05d1\\u05d5\\u05e8\\u05d4 \\u05e2\\u05d8\\u05e8 \\u05ea\\u05d0\\u05e8\\u05d9\\u05da \\u05d4\\u05d9\\u05e9\\u05d9\\u05d1\\u05d4: \\u05db\\\"\\u05d2 \\u05d1\\u05d0\\u05dc\\u05d5\\u05dc \\u05d4\\u05ea\\u05e9\\u05e2\\\"\\u05d4 (7.9.2015) \\u05d1\\u05e9\\u05dd \\u05d4\\u05de\\u05d1\\u05e7\\u05e9\\u05d9\\u05dd \\u05d1\\u05e8\\u05e2\\\"\\u05e4 2195/15: \\u05e2\\u05d5\\\"\\u05d3 \\u05d3\\u05e8\\u05d5\\u05e8 \\u05de\\u05ea\\u05ea\\u05d9\\u05d4\\u05d5; \\u05e2\\u05d5\\\"\\u05d3 \\u05d4\\u05d2\\u05e8 \\u05e0\\u05d2\\u05dc\\u05e8 \\u05d1\\u05e9\\u05dd \\u05d4\\u05de\\u05d1\\u05e7\\u05e9\\u05d9\\u05dd \\u05d1\\u05e8\\u05e2\\\"\\u05e4 2231/15: \\u05e2\\u05d5\\\"\\u05d3 \\u05d9\\u05d4\\u05d5\\u05e9\\u05e2 \\u05e8\\u05d6\\u05e0\\u05d9\\u05e7; \\u05e2\\u05d5\\\"\\u05d3 \\u05e6\\u05d9\\u05d5\\u05df \\u05e1\\u05d4\\u05e8\\u05d0\\u05d9 \\u05d1\\u05e9\\u05dd \\u05d4\\u05de\\u05e9\\u05d9\\u05d1\\u05d4: \\u05e2\\u05d5\\\"\\u05d3 \\u05d0\\u05d1\\u05d9 \\u05d5\\u05e1\\u05d8\\u05e8\\u05de\\u05df; \\u05e2\\u05d5\\\"\\u05d3 \\u05d9\\u05e4\\u05e2\\u05ea \\u05e9\\u05d8\\u05d9\\u05d9\\u05df \\u05e4\\u05e1\\u05e7 \\u05d3\\u05d9\\u05df \\u05d1\\u05d4\\u05de\\u05dc\\u05e6\\u05ea\\u05e0\\u05d5 \\u05d7\\u05d6\\u05e8\\u05d5 \\u05d1\\u05d4\\u05dd \\u05d1\\u05d0\\u05d9 \\u05db\\u05d5\\u05d7 \\u05d4\\u05de\\u05d1\\u05e7\\u05e9\\u05d9\\u05dd \\u05de\\u05d4\\u05d1\\u05e7\\u05e9\\u05d5\\u05ea \\u05dc\\u05de\\u05ea\\u05df \\u05e8\\u05e9\\u05d5\\u05ea \\u05e2\\u05e8\\u05e2\\u05d5\\u05e8, \\u05d5\\u05d4\\u05d1\\u05e7\\u05e9\\u05d5\\u05ea \\u05e0\\u05d3\\u05d7\\u05d5\\u05ea \\u05d1\\u05d6\\u05d4. \\u05e0\\u05d9\\u05ea\\u05df \\u05d4\\u05d9\\u05d5\\u05dd, \\u05db\\\"\\u05d2 \\u05d1\\u05d0\\u05dc\\u05d5\\u05dc \\u05d4\\u05ea\\u05e9\\u05e2\\\"\\u05d4 (\\\\u200f7.9.2015). \\u05e9 \\u05d5 \\u05e4 \\u05d8 \\u05e9 \\u05d5 \\u05e4 \\u05d8 \\u05e9 \\u05d5 \\u05e4 \\u05d8 _________________________ \",\n          \"['\\u05d4\\u05d7\\u05dc\\u05d8\\u05d4 \\u05d1\\u05ea\\u05d9\\u05e7 \\u05e8\\u05e2\\\"\\u05e4 54/15 \\u05d1\\u05d1\\u05d9\\u05ea \\u05d4\\u05de\\u05e9\\u05e4\\u05d8 \\u05d4\\u05e2\\u05dc\\u05d9\\u05d5\\u05df \\u05e8\\u05e2\\\"\\u05e4 54/15 \\u05dc\\u05e4\\u05e0\\u05d9: \\u05db\\u05d1\\u05d5\\u05d3 \\u05d4\\u05e9\\u05d5\\u05e4\\u05d8 \\u05d0\\\\' \\u05e9\\u05d4\\u05dd \\u05d4\\u05de\\u05d1\\u05e7\\u05e9\\u05d9\\u05dd: 1. \\u05e4\\u05dc\\u05d5\\u05e0\\u05d9 2. \\u05e4\\u05dc\\u05d5\\u05e0\\u05d9 \\u05e0\\u05d2\\u05d3 \\u05d4\\u05de\\u05e9\\u05d9\\u05d1\\u05d4: \\u05de\\u05d3\\u05d9\\u05e0\\u05ea \\u05d9\\u05e9\\u05e8\\u05d0\\u05dc \\u05d1\\u05e7\\u05e9\\u05ea \\u05e8\\u05e9\\u05d5\\u05ea \\u05e2\\u05e8\\u05e2\\u05d5\\u05e8 \\u05e2\\u05dc \\u05e4\\u05e1\\u05e7 \\u05d3\\u05d9\\u05e0\\u05d5 \\u05e9\\u05dc \\u05d1\\u05d9\\u05ea \\u05d4\\u05de\\u05e9\\u05e4\\u05d8 \\u05d4\\u05de\\u05d7\\u05d5\\u05d6\\u05d9 \\u05d1\\u05d9\\u05e8\\u05d5\\u05e9\\u05dc\\u05d9\\u05dd, \\u05de\\u05d9\\u05d5\\u05dd 8.12.2014, \\u05d1\\u05e2\\u05e0\\\"\\u05e4 29336-07-14, \\u05e9\\u05e0\\u05d9\\u05ea\\u05df \\u05e2\\u05dc-\\u05d9\\u05d3\\u05d9 \\u05db\\u05d1\\\\' \\u05d4\\u05e9\\u05d5\\u05e4\\u05d8\\u05d9\\u05dd \\u05d0\\\\' \\u05e8\\u05d5\\u05de\\u05e0\\u05d5\\u05d1; \\u05d3\\\\' \\u05de\\u05d9\\u05e0\\u05e5; \\u05d0\\\\' \\u05e0\\u05d7\\u05dc\\u05d9\\u05d0\\u05dc\\u05d9-\\u05d7\\u05d9\\u05d0\\u05d8 \\u05d1\\u05e9\\u05dd \\u05d4\\u05de\\u05d1\\u05e7\\u05e9\\u05d9\\u05dd: \\u05e2\\u05d5\\\"\\u05d3 \\u05d7\\u05d0\\u05d2\\\\' \\u05de\\u05d5\\u05e4\\u05d9\\u05d3 \\u05d4\\u05d7\\u05dc\\u05d8\\u05d4 1. \\u05dc\\u05e4\\u05e0\\u05d9\\u05d9 \\u05d1\\u05e7\\u05e9\\u05d4 \\u05dc\\u05e8\\u05e9\\u05d5\\u05ea \\u05e2\\u05e8\\u05e2\\u05d5\\u05e8 \\u05e2\\u05dc \\u05e4\\u05e1\\u05e7 \\u05d3\\u05d9\\u05e0\\u05d5 \\u05e9\\u05dc \\u05d1\\u05d9\\u05ea \\u05d4\\u05de\\u05e9\\u05e4\\u05d8 \\u05d4\\u05de\\u05d7\\u05d5\\u05d6\\u05d9 \\u05d1\\u05d9\\u05e8\\u05d5\\u05e9\\u05dc\\u05d9\\u05dd (\\u05db\\u05d1\\\\' \\u05d4\\u05e9\\u05d5\\u05e4\\u05d8\\u05d9\\u05dd \\u05d0\\\\' \\u05e8\\u05d5\\u05de\\u05e0\\u05d5\\u05d1; \\u05d3\\\\' \\u05de\\u05d9\\u05e0\\u05e5; \\u05d0\\\\' \\u05e0\\u05d7\\u05dc\\u05d9\\u05d0\\u05dc\\u05d9-\\u05d7\\u05d9\\u05d0\\u05d8), \\u05d1\\u05e2\\u05e0\\\"\\u05e4 29336-07-14, \\u05de\\u05d9\\u05d5\\u05dd 8.12.2014, \\u05d1\\u05d2\\u05d3\\u05e8\\u05d5 \\u05d4\\u05ea\\u05e7\\u05d1\\u05dc \\u05e2\\u05e8\\u05e2\\u05d5\\u05e8\\u05d4 \\u05e9\\u05dc \\u05d4\\u05de\\u05e9\\u05d9\\u05d1\\u05d4 \\u05e2\\u05dc \\u05d2\\u05d6\\u05e8 \\u05d3\\u05d9\\u05e0\\u05d5 \\u05e9\\u05dc \\u05d1\\u05d9\\u05ea \\u05de\\u05e9\\u05e4\\u05d8 \\u05d4\\u05e9\\u05dc\\u05d5\\u05dd \\u05d1\\u05d9\\u05e8\\u05d5\\u05e9\\u05dc\\u05d9\\u05dd, \\u05d1\\u05e9\\u05d1\\u05ea\\u05d5 \\u05db\\u05d1\\u05d9\\u05ea \\u05de\\u05e9\\u05e4\\u05d8 \\u05d4\\u05e9\\u05dc\\u05d5\\u05dd \\u05dc\\u05e0\\u05d5\\u05e2\\u05e8 (\\u05db\\u05d1\\\\' \\u05d4\\u05e9\\u05d5\\u05e4\\u05d8 \\u05e9\\\\' \\u05dc\\u05d9\\u05d9\\u05d1\\u05d5) (\\u05dc\\u05d4\\u05dc\\u05df: \\u05d1\\u05d9\\u05ea \\u05de\\u05e9\\u05e4\\u05d8 \\u05d4\\u05e9\\u05dc\\u05d5\\u05dd), \\u05d1\\u05ea\\\"\\u05e4 25628-03-13, \\u05de\\u05d9\\u05d5\\u05dd 17.6.2014. \\u05d1\\u05d3 \\u05d1\\u05d1\\u05d3 \\u05e2\\u05dd \\u05d4\\u05d1\\u05e7\\u05e9\\u05d4 \\u05dc\\u05e8\\u05e9\\u05d5\\u05ea \\u05e2\\u05e8\\u05e2\\u05d5\\u05e8, \\u05d4\\u05d2\\u05d9\\u05e9\\u05d5 \\u05d4\\u05de\\u05d1\\u05e7\\u05e9\\u05d9\\u05dd \\u05d1\\u05e7\\u05e9\\u05d4 \\u05dc\\u05e2\\u05d9\\u05db\\u05d5\\u05d1 \\u05d1\\u05d9\\u05e6\\u05d5\\u05e2 \\u05e2\\u05d5\\u05e0\\u05e9 \\u05d4\\u05de\\u05d0\\u05e1\\u05e8 \\u05d1\\u05e4\\u05d5\\u05e2\\u05dc, \\u05d0\\u05e9\\u05e8 \\u05d4\\u05d5\\u05e9\\u05ea \\u05e2\\u05dc\\u05d9\\u05d4\\u05dd. \\u05d1\\u05d4\\u05d7\\u05dc\\u05d8\\u05ea\\u05d9 \\u05de\\u05d9\\u05d5\\u05dd 11.1.2015, \\u05d4\\u05d5\\u05e8\\u05d9\\u05ea\\u05d9 \\u05e2\\u05dc \\u05e2\\u05d9\\u05db\\u05d5\\u05d1 \\u05d1\\u05d9\\u05e6\\u05d5\\u05e2 \\u05d4\\u05e2\\u05d5\\u05e0\\u05e9 \\u05e2\\u05d3 \\u05dc\\u05d4\\u05db\\u05e8\\u05e2\\u05d4 \\u05d1\\u05d1\\u05e7\\u05e9\\u05d4 \\u05dc\\u05e8\\u05e9\\u05d5\\u05ea \\u05e2\\u05e8\\u05e2\\u05d5\\u05e8. \\u05e8\\u05e7\\u05e2 \\u05d5\\u05d4\\u05dc\\u05d9\\u05db\\u05d9\\u05dd \\u05e7\\u05d5\\u05d3\\u05de\\u05d9\\u05dd 1. \\u05e0\\u05d2\\u05d3 \\u05d4\\u05de\\u05d1\\u05e7\\u05e9\\u05d9\\u05dd \\u05d4\\u05d5\\u05d2\\u05e9 \\u05db\\u05ea\\u05d1 \\u05d0\\u05d9\\u05e9\\u05d5\\u05dd, \\u05d4\\u05de\\u05d9\\u05d9\\u05d7\\u05e1 \\u05dc\\u05d4\\u05dd \\u05e2\\u05d1\\u05d9\\u05e8\\u05d5\\u05ea \\u05e9\\u05dc \\u05d4\\u05ea\\u05e4\\u05e8\\u05e2\\u05d5\\u05ea, \\u05dc\\u05e4\\u05d9 \\u05e1\\u05e2\\u05d9\\u05e3 152 \\u05dc\\u05d7\\u05d5\\u05e7 \\u05d4\\u05e2\\u05d5\\u05e0\\u05e9\\u05d9\\u05df, \\u05d4\\u05ea\\u05e9\\u05dc\\\"\\u05d6 \\u2013 1977 (\\u05dc\\u05d4\\u05dc\\u05df: \\u05d7\\u05d5\\u05e7 \\u05d4\\u05e2\\u05d5\\u05e0\\u05e9\\u05d9\\u05df); \\u05d5\\u05e0\\u05d9\\u05e1\\u05d9\\u05d5\\u05df \\u05ea\\u05e7\\u05d9\\u05e4\\u05ea \\u05e9\\u05d5\\u05d8\\u05e8 \\u05d1\\u05e0\\u05e1\\u05d9\\u05d1\\u05d5\\u05ea \\u05de\\u05d7\\u05de\\u05d9\\u05e8\\u05d5\\u05ea, \\u05dc\\u05e4\\u05d9 \\u05e1\\u05e2\\u05d9\\u05e3 274 (1), (2) \\u05d5-(3) \\u05dc\\u05d7\\u05d5\\u05e7 \\u05d4\\u05e2\\u05d5\\u05e0\\u05e9\\u05d9\\u05df, \\u05d1\\u05e6\\u05d9\\u05e8\\u05d5\\u05e3 \\u05e2\\u05dd \\u05e1\\u05e2\\u05d9\\u05e3 25 \\u05dc\\u05d7\\u05d5\\u05e7 \\u05d4\\u05e2\\u05d5\\u05e0\\u05e9\\u05d9\\u05df. 2. \\u05d1\\u05db\\u05ea\\u05d1 \\u05d4\\u05d0\\u05d9\\u05e9\\u05d5\\u05dd \\u05e0\\u05d8\\u05e2\\u05df, \\u05db\\u05d9 \\u05d1\\u05d9\\u05d5\\u05dd 8.3.2013, \\u05d1\\u05e1\\u05d9\\u05d5\\u05de\\u05d4 \\u05e9\\u05dc \\u05ea\\u05e4\\u05d9\\u05dc\\u05ea \\u05d9\\u05d5\\u05dd \\u05d4\\u05e9\\u05d9\\u05e9\\u05d9, \\u05e0\\u05d8\\u05dc\\u05d5 \\u05d4\\u05de\\u05d1\\u05e7\\u05e9\\u05d9\\u05dd \\u05d7\\u05dc\\u05e7 \\u05d1\\u05d4\\u05e4\\u05d2\\u05e0\\u05d5\\u05ea \\u05d0\\u05dc\\u05d9\\u05de\\u05d5\\u05ea \\u05d0\\u05e9\\u05e8 \\u05d4\\u05ea\\u05e7\\u05d9\\u05d9\\u05de\\u05d5 \\u05d1\\u05d4\\u05e8 \\u05d4\\u05d1\\u05d9\\u05ea (\\u05dc\\u05d4\\u05dc\\u05df: \\u05d4\\u05d4\\u05ea\\u05e4\\u05e8\\u05e2\\u05d5\\u05d9\\u05d5\\u05ea), \\u05d5\\u05d9\\u05d9\\u05d3\\u05d5 \\u05d9\\u05d7\\u05d3 \\u05e2\\u05dd \\u05d0\\u05d7\\u05e8\\u05d9\\u05dd \\u05d0\\u05d1\\u05e0\\u05d9\\u05dd \\u05dc\\u05e2\\u05d1\\u05e8 \\u05db\\u05d5\\u05d7\\u05d5\\u05ea \\u05d4\\u05de\\u05e9\\u05d8\\u05e8\\u05d4 \\u05e9\\u05e0\\u05db\\u05d7\\u05d5 \\u05d1\\u05de\\u05e7\\u05d5\\u05dd, \\u05d1\\u05de\\u05e1\\u05d2\\u05e8\\u05ea \\u05ea\\u05e4\\u05e7\\u05d9\\u05d3\\u05dd. \\u05d1\\u05de\\u05d4\\u05dc\\u05da \\u05d4\\u05d4\\u05ea\\u05e4\\u05e8\\u05e2\\u05d5\\u05d9\\u05d5\\u05ea, \\u05e0\\u05d5\\u05e8\\u05d4 \\u05d1\\u05e7\\u05d1\\u05d5\\u05e7 \\u05ea\\u05d1\\u05e2\\u05e8\\u05d4 \\u05e2\\u05dc-\\u05d9\\u05d3\\u05d9 \\u05d0\\u05d7\\u05e8, \\u05d5\\u05e4\\u05d2\\u05e2 \\u05d1\\u05e9\\u05d5\\u05d8\\u05e8. \\u05e2\\u05d5\\u05d3 \\u05e0\\u05d0\\u05de\\u05e8 \\u05d1\\u05db\\u05ea\\u05d1 \\u05d4\\u05d0\\u05d9\\u05e9\\u05d5\\u05dd, \\u05db\\u05d9 \\u05d4\\u05de\\u05d1\\u05e7\\u05e9\\u05d9\\u05dd \\u05d4\\u05e9\\u05ea\\u05ea\\u05e4\\u05d5 \\u05d1\\u05d4\\u05ea\\u05e7\\u05d4\\u05dc\\u05d5\\u05ea \\u05d0\\u05e1\\u05d5\\u05e8\\u05d4, \\u05e9\\u05d9\\u05e9 \\u05d1\\u05d4 \\u05db\\u05d3\\u05d9 \\u05dc\\u05d4\\u05d8\\u05d9\\u05dc \\u05d0\\u05d9\\u05de\\u05d4 \\u05e2\\u05dc \\u05d4\\u05e6\\u05d9\\u05d1\\u05d5\\u05e8; \\u05d5\\u05e0\\u05d9\\u05e1\\u05d5 \\u05dc\\u05ea\\u05e7\\u05d5\\u05e3 \\u05e9\\u05d5\\u05d8\\u05e8\\u05d9\\u05dd \\u05db\\u05e9\\u05d4\\u05dd \\u05de\\u05de\\u05dc\\u05d0\\u05d9\\u05dd \\u05d0\\u05ea \\u05ea\\u05e4\\u05e7\\u05d9\\u05d3\\u05dd \\u05db\\u05d7\\u05d5\\u05e7, \\u05d1\\u05d4\\u05d9\\u05d5\\u05ea\\u05dd \\u05d1\\u05e6\\u05d5\\u05d5\\u05ea\\u05d0 \\u05d7\\u05d3\\u05d0 \\u05e2\\u05dd \\u05d9\\u05d5\\u05ea\\u05e8 \\u05de\\u05e9\\u05e0\\u05d9 \\u05d0\\u05e0\\u05e9\\u05d9\\u05dd, \\u05db\\u05e9\\u05d4\\u05dd \\u05de\\u05d6\\u05d5\\u05d9\\u05d9\\u05e0\\u05d9\\u05dd \\u05d1\\u05d0\\u05d1\\u05df, \\u05d1\\u05db\\u05d5\\u05d5\\u05e0\\u05d4 \\u05dc\\u05d4\\u05e4\\u05e8\\u05d9\\u05e2 \\u05dc\\u05e9\\u05d5\\u05d8\\u05e8\\u05d9\\u05dd \\u05d1\\u05de\\u05d9\\u05dc\\u05d5\\u05d9 \\u05ea\\u05e4\\u05e7\\u05d9\\u05d3\\u05dd. 3. \\u05d1\\u05d9\\u05d5\\u05dd 10.2.2014, \\u05d4\\u05d5\\u05d3\\u05d5 \\u05d4\\u05de\\u05d1\\u05e7\\u05e9\\u05d9\\u05dd \\u05d1\\u05e2\\u05d5\\u05d1\\u05d3\\u05d5\\u05ea \\u05db\\u05ea\\u05d1 \\u05d4\\u05d0\\u05d9\\u05e9\\u05d5\\u05dd, \\u05d5\\u05e2\\u05dc \\u05d9\\u05e1\\u05d5\\u05d3 \\u05d4\\u05d5\\u05d3\\u05d0\\u05ea\\u05dd \\u05d6\\u05d5, \\u05e7\\u05d1\\u05e2 \\u05d1\\u05d9\\u05ea \\u05de\\u05e9\\u05e4\\u05d8 \\u05d4\\u05e9\\u05dc\\u05d5\\u05dd, \\u05db\\u05d9 \\u05d4\\u05de\\u05d1\\u05e7\\u05e9\\u05d9\\u05dd \\u05d1\\u05d9\\u05e6\\u05e2\\u05d5 \\u05d0\\u05ea \\u05d4\\u05e2\\u05d1\\u05d9\\u05e8\\u05d5\\u05ea \\u05e9\\u05d9\\u05d5\\u05d7\\u05e1\\u05d5 \\u05dc\\u05d4\\u05dd \\u05d1\\u05db\\u05ea\\u05d1 \\u05d4\\u05d0\\u05d9\\u05e9\\u05d5\\u05dd, \\u05d5\\u05d4\\u05d5\\u05e8\\u05d4 \\u05e2\\u05dc \\u05e7\\u05d1\\u05dc\\u05ea \\u05ea\\u05e1\\u05e7\\u05d9\\u05e8 \\u05e9\\u05d9\\u05e8\\u05d5\\u05ea \\u05de\\u05d1\\u05d7\\u05df, \\u05d1\\u05e2\\u05e0\\u05d9\\u05d9\\u05e0\\u05dd \\u05e9\\u05dc \\u05d4\\u05de\\u05d1\\u05e7\\u05e9\\u05d9\\u05dd. 4. \\u05d1\\u05d9\\u05d5\\u05dd 17.6.2014, \\u05d4\\u05d7\\u05dc\\u05d9\\u05d8 \\u05d1\\u05d9\\u05ea \\u05de\\u05e9\\u05e4\\u05d8 \\u05d4\\u05e9\\u05dc\\u05d5\\u05dd, \\u05dc\\u05d0\\u05de\\u05e5 \\u05d0\\u05ea \\u05d4\\u05de\\u05dc\\u05e6\\u05ea \\u05e9\\u05d9\\u05e8\\u05d5\\u05ea \\u05d4\\u05de\\u05d1\\u05d7\\u05df, \\u05d1\\u05e2\\u05e0\\u05d9\\u05d9\\u05e0\\u05dd \\u05e9\\u05dc \\u05d4\\u05de\\u05d1\\u05e7\\u05e9\\u05d9\\u05dd, \\u05d5\\u05dc\\u05d4\\u05d9\\u05de\\u05e0\\u05e2 \\u05de\\u05d4\\u05e8\\u05e9\\u05e2\\u05ea\\u05dd \\u05d1\\u05e2\\u05d1\\u05d9\\u05e8\\u05d5\\u05ea \\u05d0\\u05d5\\u05ea\\u05df \\u05d1\\u05d9\\u05e6\\u05e2\\u05d5. \\u05d1\\u05d4\\u05de\\u05e9\\u05da, \\u05d4\\u05d7\\u05dc\\u05d9\\u05d8 \\u05d1\\u05d9\\u05ea \\u05de\\u05e9\\u05e4\\u05d8 \\u05d4\\u05e9\\u05dc\\u05d5\\u05dd \\u05dc\\u05e0\\u05e7\\u05d5\\u05d8 \\u05db\\u05dc\\u05e4\\u05d9 \\u05d4\\u05de\\u05d1\\u05e7\\u05e9\\u05d9\\u05dd \\u05d1\\u05d3\\u05e8\\u05db\\u05d9 \\u05d8\\u05d9\\u05e4\\u05d5\\u05dc \\u05dc\\u05e4\\u05d9 \\u05e1\\u05e2\\u05d9\\u05e3 26 \\u05dc\\u05d7\\u05d5\\u05e7 \\u05d4\\u05e0\\u05d5\\u05e2\\u05e8 (\\u05e9\\u05e4\\u05d9\\u05d8\\u05d4, \\u05e2\\u05e0\\u05d9\\u05e9\\u05d4 \\u05d5\\u05d3\\u05e8\\u05db\\u05d9 \\u05d8\\u05d9\\u05e4\\u05d5\\u05dc), \\u05d4\\u05ea\\u05e9\\u05dc\\\"\\u05d0 \\u2013 1971. \\u05d1\\u05d4\\u05e7\\u05e9\\u05e8 \\u05d6\\u05d4, \\u05e6\\u05d9\\u05d9\\u05df \\u05d1\\u05d9\\u05ea \\u05de\\u05e9\\u05e4\\u05d8 \\u05d4\\u05e9\\u05dc\\u05d5\\u05dd, \\u05db\\u05d9 \\\"\\u05de\\u05d3\\u05d5\\u05d1\\u05e8 \\u05d1\\u05e0\\u05d0\\u05e9\\u05de\\u05d9\\u05dd \\u05d0\\u05e9\\u05e8 \\u05e0\\u05d8\\u05dc\\u05d5 \\u05d0\\u05d7\\u05e8\\u05d9\\u05d5\\u05ea \\u05e2\\u05dc \\u05de\\u05e2\\u05e9\\u05d9\\u05d4\\u05dd, \\u05d4\\u05d1\\u05d9\\u05e2\\u05d5 \\u05d7\\u05e8\\u05d8\\u05d4. \\u05d4\\u05ea\\u05e1\\u05e7\\u05d9\\u05e8 \\u05e9\\u05e0\\u05d9\\u05ea\\u05df \\u05d1\\u05e2\\u05e0\\u05d9\\u05d9\\u05e0\\u05dd \\u05d4\\u05d9\\u05e0\\u05d5 \\u05ea\\u05e1\\u05e7\\u05d9\\u05e8 \\u05d7\\u05d9\\u05d5\\u05d1\\u05d9 \\u05d5\\u05de\\u05ea\\u05d9\\u05d9\\u05d7\\u05e1 \\u05dc\\u05e4\\u05df \\u05d4\\u05e9\\u05d9\\u05e7\\u05d5\\u05de\\u05d9 \\u05d8\\u05d9\\u05e4\\u05d5\\u05dc\\u05d9 \\u05d4\\u05e0\\u05d5\\u05d2\\u05e2 \\u05e1\\u05e4\\u05e6\\u05d9\\u05e4\\u05d9\\u05ea \\u05dc\\u05e2\\u05d1\\u05d9\\u05e8\\u05d5\\u05ea \\u05d4\\u05de\\u05d9\\u05d5\\u05d7\\u05e1\\u05d5\\u05ea \\u05dc\\u05d4\\u05dd. \\u05e9\\u05d9\\u05e8\\u05d5\\u05ea \\u05d4\\u05de\\u05d1\\u05d7\\u05df \\u05e6\\u05d9\\u05d9\\u05df \\u05d4\\u05e9\\u05ea\\u05ea\\u05e4\\u05d5\\u05ea \\u05e2\\u05e8\\u05d4 \\u05d5\\u05e4\\u05e2\\u05d9\\u05dc\\u05d4 \\u05de\\u05e6\\u05d9\\u05d3\\u05dd \\u05e9\\u05dc \\u05e9\\u05e0\\u05d9 \\u05d4\\u05e0\\u05d0\\u05e9\\u05de\\u05d9\\u05dd \\u05d1\\u05e1\\u05d3\\u05e0\\u05ea \\u05d7\\u05d5\\u05e7 \\u05d5\\u05de\\u05e9\\u05e4\\u05d8. \\u05d9\\u05d5\\u05d3\\u05d2\\u05e9 \\u05db\\u05d9 \\u05de\\u05d3\\u05d5\\u05d1\\u05e8 \\u05d1\\u05e0\\u05d0\\u05e9\\u05de\\u05d9\\u05dd \\u05d0\\u05e9\\u05e8 \\u05d6\\u05d4\\u05d5 \\u05dc\\u05d4\\u05dd \\u05de\\u05e2\\u05de\\u05d3 \\u05e8\\u05d0\\u05e9\\u05d5\\u05df \\u05d1\\u05d1\\u05d9\\u05ea \\u05d4\\u05de\\u05e9\\u05e4\\u05d8, \\u05d5\\u05d1\\u05d0\\u05d9\\u05e8\\u05d5\\u05e2 \\u05dc\\u05e4\\u05e0\\u05d9 \\u05de\\u05e2\\u05dc \\u05dc\\u05e9\\u05e0\\u05d4. \\u05d0\\u05d9\\u05df \\u05d0\\u05d9\\u05e0\\u05d3\\u05d9\\u05e7\\u05e6\\u05d9\\u05d4 \\u05dc\\u05d4\\u05e1\\u05ea\\u05d1\\u05db\\u05d5\\u05d9\\u05d5\\u05ea \\u05e0\\u05d5\\u05e1\\u05e4\\u05d5\\u05ea \\u05de\\u05e6\\u05d9\\u05d3\\u05dd\\\". 5. \\u05d1\\u05d2\\u05d6\\u05e8 \\u05d3\\u05d9\\u05e0\\u05d5, \\u05e7\\u05d1\\u05e2 \\u05d1\\u05d9\\u05ea \\u05de\\u05e9\\u05e4\\u05d8 \\u05d4\\u05e9\\u05dc\\u05d5\\u05dd, \\u05db\\u05d9 \\u05d4\\u05de\\u05d1\\u05e7\\u05e9\\u05d9\\u05dd \\u05d9\\u05d7\\u05ea\\u05de\\u05d5 \\u05db\\u05dc \\u05d0\\u05d7\\u05d3 \\u05e2\\u05dc \\u05d4\\u05ea\\u05d7\\u05d9\\u05d9\\u05d1\\u05d5\\u05ea \\u05e2\\u05e6\\u05de\\u05d9\\u05ea \\u05d1\\u05e1\\u05da 1,000 \\u20aa, \\u05dc\\u05e4\\u05d9\\u05d4 \\u05d9\\u05de\\u05e0\\u05e2\\u05d5 \\u05d1\\u05de\\u05e9\\u05da \\u05e9\\u05e0\\u05d4, \\u05de\\u05d1\\u05d9\\u05e6\\u05d5\\u05e2 \\u05d4\\u05e2\\u05d1\\u05d9\\u05e8\\u05d5\\u05ea \\u05d1\\u05d4\\u05df \\u05e0\\u05e7\\u05d1\\u05e2\\u05d4 \\u05d0\\u05d7\\u05e8\\u05d9\\u05d5\\u05ea\\u05dd; \\u05d5\\u05d4\\u05d5\\u05e8\\u05d4 \\u05e2\\u05dc \\u05d4\\u05e2\\u05de\\u05d3\\u05ea \\u05d4\\u05de\\u05d1\\u05e7\\u05e9\\u05d9\\u05dd \\u05d1\\u05e6\\u05d5 \\u05de\\u05d1\\u05d7\\u05df \\u05dc\\u05ea\\u05e7\\u05d5\\u05e4\\u05d4 \\u05d1\\u05ea \\u05e9\\u05d9\\u05e9\\u05d4 \\u05d7\\u05d5\\u05d3\\u05e9\\u05d9\\u05dd, \\u05d1\\u05de\\u05d4\\u05dc\\u05db\\u05d5 \\u05d9\\u05e9\\u05dc\\u05d9\\u05de\\u05d5 \\u05d4\\u05de\\u05d1\\u05e7\\u05e9\\u05d9\\u05dd \\u05d0\\u05ea \\u05e1\\u05d3\\u05e0\\u05ea \\u05d7\\u05d5\\u05e7 \\u05d5\\u05de\\u05e9\\u05e4\\u05d8 \\u05d1\\u05d4 \\u05d4\\u05d7\\u05dc\\u05d5. \\u05dc\\u05e6\\u05d3 \\u05d6\\u05d0\\u05ea, \\u05d4\\u05d8\\u05d9\\u05dc \\u05d1\\u05d9\\u05ea \\u05de\\u05e9\\u05e4\\u05d8 \\u05d4\\u05e9\\u05dc\\u05d5\\u05dd \\u05e2\\u05dc \\u05d4\\u05de\\u05d1\\u05e7\\u05e9 1 \\u05dc\\u05d1\\u05e6\\u05e2 \\u05e9\\u05d9\\u05e8\\u05d5\\u05ea \\u05dc\\u05ea\\u05d5\\u05e2\\u05dc\\u05ea \\u05d4\\u05e6\\u05d9\\u05d1\\u05d5\\u05e8, \\u05d1\\u05d4\\u05d9\\u05e7\\u05e3 \\u05e9\\u05dc 150 \\u05e9\\u05e2\\u05d5\\u05ea; \\u05d5\\u05e2\\u05dc \\u05d4\\u05de\\u05d1\\u05e7\\u05e9 2 \\u05d4\\u05d8\\u05d9\\u05dc \\u05dc\\u05d1\\u05e6\\u05e2 \\u05e9\\u05d9\\u05e8\\u05d5\\u05ea \\u05dc\\u05ea\\u05d5\\u05e2\\u05dc\\u05ea \\u05d4\\u05e6\\u05d9\\u05d1\\u05d5\\u05e8, \\u05d1\\u05d4\\u05d9\\u05e7\\u05e3 \\u05e9\\u05dc 120 \\u05e9\\u05e2\\u05d5\\u05ea. \\u05d1\\u05d9\\u05ea \\u05de\\u05e9\\u05e4\\u05d8 \\u05d4\\u05e9\\u05dc\\u05d5\\u05dd \\u05d4\\u05d7\\u05dc\\u05d9\\u05d8 \\u05e2\\u05dc \\u05d4\\u05d9\\u05e7\\u05e3 \\u05e9\\u05e2\\u05d5\\u05ea \\u05e9\\u05d5\\u05e0\\u05d4, \\u05dc\\u05e0\\u05d5\\u05db\\u05d7 \\u05d4\\u05d1\\u05d3\\u05dc\\u05d9 \\u05d4\\u05d2\\u05d9\\u05dc \\u05d1\\u05d9\\u05df \\u05d4\\u05de\\u05d1\\u05e7\\u05e9\\u05d9\\u05dd: \\u05d4\\u05de\\u05d1\\u05e7\\u05e9 1 \\u05d4\\u05d9\\u05d4 \\u05db\\u05d1\\u05df 17 \\u05d5\\u05d0\\u05e8\\u05d1\\u05e2\\u05d4 \\u05d7\\u05d5\\u05d3\\u05e9\\u05d9\\u05dd \\u05d1\\u05de\\u05d5\\u05e2\\u05d3 \\u05d1\\u05d9\\u05e6\\u05d5\\u05e2 \\u05d4\\u05e2\\u05d1\\u05d9\\u05e8\\u05d5\\u05ea, \\u05d5\\u05d0\\u05d9\\u05dc\\u05d5 \\u05d4\\u05de\\u05d1\\u05e7\\u05e9 2 \\u05d4\\u05d9\\u05d4 \\u05db\\u05d1\\u05df 16 \\u05d1\\u05de\\u05d5\\u05e2\\u05d3 \\u05d6\\u05d4. \\u05e0\\u05d5\\u05e1\\u05e3 \\u05e2\\u05dc \\u05db\\u05da, \\u05d4\\u05e9\\u05d9\\u05ea \\u05d1\\u05d9\\u05ea \\u05d4\\u05de\\u05e9\\u05e4\\u05d8 \\u05e2\\u05dc \\u05db\\u05dc \\u05d0\\u05d7\\u05d3 \\u05de\\u05df \\u05d4\\u05de\\u05d1\\u05e7\\u05e9\\u05d9\\u05dd \\u05e7\\u05e0\\u05e1 \\u05d1\\u05e1\\u05da \\u05e9\\u05dc 3,600 \\u20aa \\u05d0\\u05d5 30 \\u05d9\\u05de\\u05d9 \\u05de\\u05d0\\u05e1\\u05e8 \\u05ea\\u05de\\u05d5\\u05e8\\u05ea\\u05d5. 6. \\u05d4\\u05de\\u05e9\\u05d9\\u05d1\\u05d4 \\u05dc\\u05d0 \\u05d4\\u05e9\\u05dc\\u05d9\\u05de\\u05d4 \\u05e2\\u05dd \\u05ea\\u05d5\\u05e6\\u05d0\\u05d4 \\u05d6\\u05d5, \\u05d5\\u05d4\\u05d2\\u05d9\\u05e9\\u05d4 \\u05e2\\u05e8\\u05e2\\u05d5\\u05e8 \\u05dc\\u05d1\\u05d9\\u05ea \\u05d4\\u05de\\u05e9\\u05e4\\u05d8 \\u05d4\\u05de\\u05d7\\u05d5\\u05d6\\u05d9 \\u05d1\\u05d9\\u05e8\\u05d5\\u05e9\\u05dc\\u05d9\\u05dd, \\u05d1\\u05de\\u05e1\\u05d2\\u05e8\\u05ea\\u05d5 \\u05d1\\u05d9\\u05e7\\u05e9\\u05d4 \\u05dc\\u05d4\\u05e8\\u05e9\\u05d9\\u05e2 \\u05d0\\u05ea \\u05d4\\u05de\\u05d1\\u05e7\\u05e9\\u05d9\\u05dd \\u05d1\\u05d3\\u05d9\\u05df, \\u05d5\\u05dc\\u05d4\\u05e9\\u05d9\\u05ea \\u05e2\\u05dc\\u05d9\\u05d4\\u05dd \\u05e2\\u05d5\\u05e0\\u05e9\\u05d9 \\u05de\\u05d0\\u05e1\\u05e8 \\u05d1\\u05e4\\u05d5\\u05e2\\u05dc. \\u05dc\\u05d8\\u05e2\\u05e0\\u05ea \\u05d4\\u05de\\u05e9\\u05d9\\u05d1\\u05d4, \\u05d1\\u05d9\\u05ea \\u05de\\u05e9\\u05e4\\u05d8 \\u05d4\\u05e9\\u05dc\\u05d5\\u05dd \\u05dc\\u05d0 \\u05e0\\u05ea\\u05df \\u05de\\u05e9\\u05e7\\u05dc \\u05e8\\u05d0\\u05d5\\u05d9 \\u05dc\\u05e0\\u05e1\\u05d9\\u05d1\\u05d5\\u05ea \\u05d4\\u05d7\\u05de\\u05d5\\u05e8\\u05d5\\u05ea \\u05e9\\u05dc \\u05de\\u05e2\\u05e9\\u05d9 \\u05d4\\u05de\\u05d1\\u05e7\\u05e9\\u05d9\\u05dd, \\u05d0\\u05e9\\u05e8 \\u05e0\\u05e2\\u05e9\\u05d5 \\u05d1\\u05e1\\u05d9\\u05d5\\u05dd \\u05ea\\u05e4\\u05d9\\u05dc\\u05d5\\u05ea \\u05d9\\u05d5\\u05dd \\u05d4\\u05e9\\u05d9\\u05e9\\u05d9 \\u05d1\\u05d4\\u05e8 \\u05d4\\u05d1\\u05d9\\u05ea, \\u05e2\\u05dc \\u05db\\u05dc \\u05d4\\u05de\\u05e9\\u05de\\u05e2\\u05d5\\u05d9\\u05d5\\u05ea \\u05d4\\u05e0\\u05dc\\u05d5\\u05d5\\u05ea \\u05dc\\u05db\\u05da; \\u05db\\u05d9 \\u05d0\\u05d9 \\u05d4\\u05e8\\u05e9\\u05e2\\u05ea \\u05d4\\u05de\\u05d1\\u05e7\\u05e9\\u05d9\\u05dd \\u05de\\u05e9\\u05d3\\u05e8\\u05ea \\u05de\\u05e1\\u05e8 \\u05e1\\u05dc\\u05d7\\u05e0\\u05d9 \\u05d5\\u05e4\\u05d5\\u05d2\\u05e2\\u05ea \\u05d1\\u05d0\\u05e4\\u05e7\\u05d8 \\u05d4\\u05d4\\u05e8\\u05ea\\u05e2\\u05d4; \\u05d5\\u05db\\u05d9 \\u05d4\\u05e2\\u05d5\\u05d1\\u05d3\\u05d4 \\u05e9\\u05d4\\u05de\\u05d1\\u05e7\\u05e9\\u05d9\\u05dd \\u05d4\\u05dd \\u05e7\\u05d8\\u05d9\\u05e0\\u05d9\\u05dd \\u05d0\\u05d9\\u05e0\\u05d4 \\u05de\\u05d4\\u05d5\\u05d5\\u05d4 \\u05d7\\u05e1\\u05d9\\u05e0\\u05d5\\u05ea \\u05de\\u05e4\\u05e0\\u05d9 \\u05d4\\u05e8\\u05e9\\u05e2\\u05d4. 7. \\u05d1\\u05d9\\u05ea \\u05d4\\u05de\\u05e9\\u05e4\\u05d8 \\u05d4\\u05de\\u05d7\\u05d5\\u05d6\\u05d9 \\u05e7\\u05d9\\u05d1\\u05dc \\u05d0\\u05ea \\u05d4\\u05e2\\u05e8\\u05e2\\u05d5\\u05e8, \\u05d5\\u05e7\\u05d1\\u05e2 \\u05db\\u05d9 \\u05d9\\u05e9 \\u05dc\\u05d4\\u05e8\\u05e9\\u05d9\\u05e2 \\u05d0\\u05ea \\u05d4\\u05de\\u05d1\\u05e7\\u05e9\\u05d9\\u05dd, \\u05d5\\u05dc\\u05d4\\u05d8\\u05d9\\u05dc \\u05e2\\u05dc\\u05d9\\u05d4\\u05dd \\u05e2\\u05d5\\u05e0\\u05e9\\u05d9 \\u05de\\u05d0\\u05e1\\u05e8 \\u05d1\\u05e4\\u05d5\\u05e2\\u05dc. \\u05d1\\u05de\\u05e1\\u05d2\\u05e8\\u05ea \\u05e4\\u05e1\\u05e7 \\u05d3\\u05d9\\u05e0\\u05d5, \\u05e0\\u05ea\\u05df \\u05d1\\u05d9\\u05ea \\u05d4\\u05de\\u05e9\\u05e4\\u05d8 \\u05d4\\u05de\\u05d7\\u05d5\\u05d6\\u05d9 \\u05d0\\u05ea \\u05d3\\u05e2\\u05ea\\u05d5 \\u05dc\\u05d7\\u05d5\\u05de\\u05e8\\u05ea \\u05d4\\u05de\\u05e2\\u05e9\\u05d9\\u05dd \\u05e9\\u05d9\\u05d5\\u05d7\\u05e1\\u05d5 \\u05dc\\u05de\\u05d1\\u05e7\\u05e9\\u05d9\\u05dd, \\u05d5\\u05e7\\u05d1\\u05e2, \\u05db\\u05d9 \\\"\\u05dc\\u05e0\\u05d5\\u05db\\u05d7 \\u05e9\\u05db\\u05d9\\u05d7\\u05d5\\u05ea \\u05e1\\u05d5\\u05d2 \\u05d4\\u05e2\\u05d1\\u05d9\\u05e8\\u05d5\\u05ea \\u05e9\\u05d4\\u05de\\u05e9\\u05d9\\u05d1\\u05d9\\u05dd \\u05d1\\u05d9\\u05e6\\u05e2\\u05d5...\\u05d5\\u05dc\\u05e0\\u05d5\\u05db\\u05d7 \\u05e0\\u05e1\\u05d9\\u05d1\\u05d5\\u05ea \\u05d1\\u05d9\\u05e6\\u05d5\\u05e2\\u05df...\\u05d4\\u05d9\\u05d4 \\u05de\\u05e7\\u05d5\\u05dd \\u05dc\\u05ea\\u05ea \\u05d1\\u05db\\u05d5\\u05e8\\u05d4 \\u05dc\\u05e9\\u05d9\\u05e7\\u05d5\\u05dc\\u05d9 \\u05d2\\u05de\\u05d5\\u05dc \\u05d5\\u05d4\\u05e8\\u05ea\\u05e2\\u05d4 \\u05d5\\u05dc\\u05d4\\u05e2\\u05d3\\u05d9\\u05e4\\u05dd \\u05e2\\u05dc \\u05e4\\u05e0\\u05d9 \\u05d4\\u05e9\\u05d9\\u05e7\\u05d5\\u05dc\\u05d9\\u05dd \\u05d4\\u05e4\\u05e8\\u05d8\\u05e0\\u05d9\\u05d9\\u05dd \\u05e9\\u05dc \\u05d4\\u05de\\u05e9\\u05d9\\u05d1\\u05d9\\u05dd\\\". \\u05e2\\u05d5\\u05d3 \\u05e0\\u05e7\\u05d1\\u05e2, \\u05db\\u05d9 \\u05d2\\u05dd \\u05db\\u05d0\\u05e9\\u05e8 \\u05de\\u05d3\\u05d5\\u05d1\\u05e8 \\u05d1\\u05e7\\u05d8\\u05d9\\u05e0\\u05d9\\u05dd, \\u05d9\\u05e9 \\u05dc\\u05d4\\u05e2\\u05d3\\u05d9\\u05e3 \\u05d0\\u05ea \\u05d4\\u05d0\\u05d9\\u05e0\\u05d8\\u05e8\\u05e1 \\u05d4\\u05e6\\u05d9\\u05d1\\u05d5\\u05e8\\u05d9, \\u05d5\\u05dc\\u05d4\\u05d5\\u05e8\\u05d5\\u05ea \\u05e2\\u05dc \\u05d4\\u05e8\\u05e9\\u05e2\\u05ea \\u05de\\u05d1\\u05e6\\u05e2\\u05d9 \\u05d4\\u05e2\\u05d1\\u05d9\\u05e8\\u05d5\\u05ea, \\u05d5\\u05d6\\u05d0\\u05ea \\u05e2\\u05dc \\u05de\\u05e0\\u05ea \\u05dc\\u05e9\\u05e8\\u05e9 \\u05d0\\u05ea \\u05d4\\u05ea\\u05d5\\u05e4\\u05e2\\u05d4 \\u05d4\\u05d7\\u05de\\u05d5\\u05e8\\u05d4 \\u05e9\\u05dc \\u05d4\\u05ea\\u05e4\\u05e8\\u05e2\\u05d5\\u05d9\\u05d5\\u05ea \\u05d5\\u05d9\\u05d9\\u05d3\\u05d5\\u05d9 \\u05d0\\u05d1\\u05e0\\u05d9\\u05dd \\u05dc\\u05e2\\u05d1\\u05e8 \\u05db\\u05d5\\u05d7\\u05d5\\u05ea \\u05d4\\u05de\\u05e9\\u05d8\\u05e8\\u05d4. \\u05dc\\u05d0\\u05d7\\u05e8 \\u05d6\\u05d0\\u05ea, \\u05d4\\u05e8\\u05e9\\u05d9\\u05e2 \\u05d1\\u05d9\\u05ea \\u05d4\\u05de\\u05e9\\u05e4\\u05d8 \\u05d4\\u05de\\u05d7\\u05d5\\u05d6\\u05d9 \\u05d0\\u05ea \\u05d4\\u05de\\u05d1\\u05e7\\u05e9\\u05d9\\u05dd \\u05d1\\u05e2\\u05d1\\u05d9\\u05e8\\u05d5\\u05ea \\u05e9\\u05d9\\u05d5\\u05d7\\u05e1\\u05d5 \\u05dc\\u05d4\\u05dd \\u05d1\\u05db\\u05ea\\u05d1 \\u05d4\\u05d0\\u05d9\\u05e9\\u05d5\\u05dd. \\u05d0\\u05e9\\u05e8 \\u05dc\\u05e2\\u05d5\\u05e0\\u05e9, \\u05e6\\u05d9\\u05d9\\u05df \\u05d1\\u05d9\\u05ea \\u05d4\\u05de\\u05e9\\u05e4\\u05d8 \\u05d4\\u05de\\u05d7\\u05d5\\u05d6\\u05d9, \\u05db\\u05d9 \\u05de\\u05d0\\u05d7\\u05e8 \\u05e9\\u05de\\u05e2\\u05e9\\u05d9 \\u05d4\\u05de\\u05d1\\u05e7\\u05e9\\u05d9\\u05dd, \\u05d1\\u05de\\u05e7\\u05e8\\u05d4 \\u05d6\\u05d4, \\u05d4\\u05dd \\u05d7\\u05de\\u05d5\\u05e8\\u05d9\\u05dd \\u05d1\\u05d9\\u05d5\\u05ea\\u05e8 \\u2013 \\u05d0\\u05d9\\u05df \\u05d3\\u05d9 \\u05d1\\u05e9\\u05d9\\u05e8\\u05d5\\u05ea \\u05dc\\u05ea\\u05d5\\u05e2\\u05dc\\u05ea \\u05d4\\u05e6\\u05d9\\u05d1\\u05d5\\u05e8, \\u05d5\\u05e7\\u05d9\\u05d9\\u05de\\u05ea \\u05d4\\u05e6\\u05d3\\u05e7\\u05d4 \\u05dc\\u05d4\\u05d8\\u05d9\\u05dc \\u05e2\\u05dc\\u05d9\\u05d4\\u05dd \\u05e2\\u05d5\\u05e0\\u05e9\\u05d9 \\u05de\\u05d0\\u05e1\\u05e8 \\u05dc\\u05e8\\u05d9\\u05e6\\u05d5\\u05d9 \\u05d1\\u05e4\\u05d5\\u05e2\\u05dc. \\u05dc\\u05e4\\u05d9\\u05db\\u05da, \\u05d1\\u05d9\\u05d8\\u05dc \\u05d1\\u05d9\\u05ea \\u05d4\\u05de\\u05e9\\u05e4\\u05d8 \\u05d4\\u05de\\u05d7\\u05d5\\u05d6\\u05d9 \\u05d0\\u05ea \\u05d4\\u05e8\\u05db\\u05d9\\u05d1\\u05d9\\u05dd \\u05d1\\u05d2\\u05d6\\u05e8 \\u05d4\\u05d3\\u05d9\\u05df, \\u05e9\\u05e2\\u05e0\\u05d9\\u05d9\\u05e0\\u05dd \\u05d7\\u05ea\\u05d9\\u05de\\u05d4 \\u05e2\\u05dc \\u05d4\\u05ea\\u05d7\\u05d9\\u05d9\\u05d1\\u05d5\\u05ea \\u05e2\\u05e6\\u05de\\u05d9\\u05ea, \\u05d5\\u05e9\\u05d9\\u05e8\\u05d5\\u05ea \\u05dc\\u05ea\\u05d5\\u05e2\\u05dc\\u05ea \\u05d4\\u05e6\\u05d9\\u05d1\\u05d5\\u05e8, \\u05d5\\u05d1\\u05de\\u05e7\\u05d5\\u05de\\u05dd \\u05d4\\u05d8\\u05d9\\u05dc \\u05e2\\u05dc \\u05d4\\u05de\\u05d1\\u05e7\\u05e9 1 \\u05de\\u05d0\\u05e1\\u05e8 \\u05d1\\u05e4\\u05d5\\u05e2\\u05dc \\u05dc\\u05ea\\u05e7\\u05d5\\u05e4\\u05d4 \\u05e9\\u05dc \\u05e9\\u05dc\\u05d5\\u05e9\\u05d4 \\u05d5\\u05d7\\u05e6\\u05d9 \\u05d7\\u05d5\\u05d3\\u05e9\\u05d9\\u05dd, \\u05d5\\u05e2\\u05dc \\u05d4\\u05de\\u05d1\\u05e7\\u05e9 2 \\u05de\\u05d0\\u05e1\\u05e8 \\u05d1\\u05e4\\u05d5\\u05e2\\u05dc \\u05dc\\u05ea\\u05e7\\u05d5\\u05e4\\u05d4 \\u05e9\\u05dc \\u05e9\\u05dc\\u05d5\\u05e9\\u05d4 \\u05d7\\u05d5\\u05d3\\u05e9\\u05d9\\u05dd \\u05d5\\u05d9\\u05d5\\u05dd \\u05d0\\u05d7\\u05d3. \\u05db\\u05de\\u05d5 \\u05db\\u05df, \\u05d4\\u05e9\\u05d9\\u05ea \\u05d1\\u05d9\\u05ea \\u05d4\\u05de\\u05e9\\u05e4\\u05d8 \\u05d4\\u05de\\u05d7\\u05d5\\u05d6\\u05d9 \\u05e2\\u05dc \\u05d4\\u05de\\u05d1\\u05e7\\u05e9\\u05d9\\u05dd \\u05de\\u05d0\\u05e1\\u05e8 \\u05de\\u05d5\\u05ea\\u05e0\\u05d4 \\u05d1\\u05df 3 \\u05d7\\u05d5\\u05d3\\u05e9\\u05d9\\u05dd, \\u05dc\\u05de\\u05e9\\u05da \\u05e9\\u05e0\\u05ea\\u05d9\\u05d9\\u05dd, \\u05dc\\u05d1\\u05dc \\u05d9\\u05e2\\u05d1\\u05e8\\u05d5 \\u05d4\\u05e2\\u05d1\\u05d9\\u05e8\\u05d5\\u05ea \\u05d1\\u05d4\\u05df \\u05d4\\u05d5\\u05e8\\u05e9\\u05e2\\u05d5 \\u05d1\\u05ea\\u05d9\\u05e7 \\u05d6\\u05d4. \\u05d9\\u05ea\\u05e8 \\u05e8\\u05db\\u05d9\\u05d1\\u05d9 \\u05d4\\u05e2\\u05d5\\u05e0\\u05e9, \\u05d0\\u05e9\\u05e8 \\u05e0\\u05e7\\u05d1\\u05e2\\u05d5 \\u05d1\\u05d2\\u05d6\\u05e8 \\u05d3\\u05d9\\u05e0\\u05d5 \\u05e9\\u05dc \\u05d1\\u05d9\\u05ea \\u05de\\u05e9\\u05e4\\u05d8 \\u05d4\\u05e9\\u05dc\\u05d5\\u05dd, \\u05e0\\u05d5\\u05ea\\u05e8\\u05d5 \\u05d1\\u05e2\\u05d9\\u05e0\\u05dd. \\u05d4\\u05d1\\u05e7\\u05e9\\u05d4 \\u05dc\\u05e8\\u05e9\\u05d5\\u05ea \\u05e2\\u05e8\\u05e2\\u05d5\\u05e8 8. \\u05d1\\u05d1\\u05e7\\u05e9\\u05d4 \\u05e9\\u05dc\\u05e4\\u05e0\\u05d9\\u05d9, \\u05e0\\u05d8\\u05e2\\u05df, \\u05db\\u05d9 \\u05e4\\u05e1\\u05e7 \\u05d3\\u05d9\\u05e0\\u05d5 \\u05e9\\u05dc \\u05d1\\u05d9\\u05ea \\u05d4\\u05de\\u05e9\\u05e4\\u05d8 \\u05d4\\u05de\\u05d7\\u05d5\\u05d6\\u05d9 \\\"\\u05e1\\u05d5\\u05ea\\u05e8\\\" \\u05d0\\u05ea \\u05e2\\u05e7\\u05e8\\u05d5\\u05df \\u05d4\\u05e9\\u05d5\\u05d5\\u05d9\\u05d5\\u05df, \\u05de\\u05de\\u05e0\\u05d5 \\u05e0\\u05d2\\u05d6\\u05e8 \\u05e2\\u05e7\\u05e8\\u05d5\\u05df \\u05d0\\u05d7\\u05d9\\u05d3\\u05d5\\u05ea \\u05d4\\u05e2\\u05e0\\u05d9\\u05e9\\u05d4. \\u05e6\\u05d5\\u05d9\\u05d9\\u05df, \\u05dc\\u05e2\\u05e0\\u05d9\\u05d9\\u05df \\u05d6\\u05d4, \\u05db\\u05d9 \\u05d1\\u05d2\\u05d9\\u05df \\u05d4\\u05d4\\u05ea\\u05e4\\u05e8\\u05e2\\u05d5\\u05d9\\u05d5\\u05ea \\u05e9\\u05d4\\u05ea\\u05e8\\u05d7\\u05e9\\u05d5 \\u05d1\\u05d9\\u05d5\\u05dd 8.3.2013, \\u05d4\\u05d5\\u05d2\\u05e9\\u05d5 \\u05e9\\u05dc\\u05d5\\u05e9\\u05d4 \\u05db\\u05ea\\u05d1\\u05d9 \\u05d0\\u05d9\\u05e9\\u05d5\\u05dd: \\u05db\\u05ea\\u05d1 \\u05d0\\u05d9\\u05e9\\u05d5\\u05dd \\u05e0\\u05d2\\u05d3 7 \\u05d1\\u05d2\\u05d9\\u05e8\\u05d9\\u05dd; \\u05db\\u05ea\\u05d1 \\u05d0\\u05d9\\u05e9\\u05d5\\u05dd \\u05e0\\u05d2\\u05d3 \\u05e7\\u05d8\\u05d9\\u05df \\u05e0\\u05d5\\u05e1\\u05e3 \\u05d1\\u05d1\\u05d9\\u05ea \\u05de\\u05e9\\u05e4\\u05d8 \\u05d4\\u05e9\\u05dc\\u05d5\\u05dd \\u05dc\\u05e0\\u05d5\\u05e2\\u05e8; \\u05d5\\u05db\\u05ea\\u05d1 \\u05d0\\u05d9\\u05e9\\u05d5\\u05dd \\u05d1\\u05e2\\u05e0\\u05d9\\u05d9\\u05e0\\u05dd \\u05e9\\u05dc \\u05d4\\u05de\\u05d1\\u05e7\\u05e9\\u05d9\\u05dd. \\u05d4\\u05de\\u05d1\\u05e7\\u05e9\\u05d9\\u05dd \\u05e1\\u05d1\\u05d5\\u05e8\\u05d9\\u05dd, \\u05db\\u05d9 \\u05d1\\u05e9\\u05dc \\u05d4\\u05e2\\u05d5\\u05d1\\u05d3\\u05d4, \\u05e9\\u05e4\\u05e1\\u05e7 \\u05d4\\u05d3\\u05d9\\u05df \\u05d1\\u05e2\\u05e8\\u05e2\\u05d5\\u05e8 \\u05e0\\u05d9\\u05ea\\u05df \\u05d1\\u05d6\\u05de\\u05df \\u05e9\\u05dc \\u05e8\\u05d9\\u05d1\\u05d5\\u05d9 \\u05d4\\u05ea\\u05e4\\u05e8\\u05e2\\u05d5\\u05d9\\u05d5\\u05ea \\u05d5\\u05d4\\u05e4\\u05e8\\u05d5\\u05ea \\u05e1\\u05d3\\u05e8 \\u05d1\\u05d9\\u05e8\\u05d5\\u05e9\\u05dc\\u05d9\\u05dd \\u2013 \\u05d4\\u05e2\\u05d5\\u05e0\\u05e9\\u05d9\\u05dd \\u05d0\\u05e9\\u05e8 \\u05d4\\u05d5\\u05d8\\u05dc\\u05d5 \\u05e2\\u05dc\\u05d9\\u05d4\\u05dd \\u05d7\\u05de\\u05d5\\u05e8\\u05d9\\u05dd \\u05de\\u05d0\\u05dc\\u05d4 \\u05e9\\u05d4\\u05d5\\u05d8\\u05dc\\u05d5 \\u05e2\\u05dc \\u05d4\\u05d1\\u05d2\\u05d9\\u05e8\\u05d9\\u05dd \\u05d5\\u05e2\\u05dc \\u05d4\\u05e7\\u05d8\\u05d9\\u05df \\u05d4\\u05e0\\u05d5\\u05e1\\u05e3. \\u05db\\u05de\\u05d5 \\u05db\\u05df, \\u05dc\\u05d8\\u05e2\\u05e0\\u05ea \\u05d4\\u05de\\u05d1\\u05e7\\u05e9\\u05d9\\u05dd, \\u05d1\\u05e7\\u05e9\\u05ea\\u05dd \\u05de\\u05e6\\u05d3\\u05d9\\u05e7\\u05d4 \\u05e8\\u05e9\\u05d5\\u05ea \\u05e2\\u05e8\\u05e2\\u05d5\\u05e8, \\u05e9\\u05db\\u05df \\u05d6\\u05d5 \\u05de\\u05e2\\u05dc\\u05d4 \\u05e9\\u05d0\\u05dc\\u05d4 \\u05de\\u05e9\\u05e4\\u05d8\\u05d9\\u05ea \\u05e2\\u05e7\\u05e8\\u05d5\\u05e0\\u05d9\\u05ea, \\u05d4\\u05e0\\u05d5\\u05d2\\u05e2\\u05ea \\u05dc\\u05de\\u05d3\\u05d9\\u05e0\\u05d9\\u05d5\\u05ea \\u05d4\\u05e2\\u05e0\\u05d9\\u05e9\\u05d4 \\u05d4\\u05e8\\u05d0\\u05d5\\u05d9\\u05d4 \\u05d1\\u05e2\\u05d1\\u05d9\\u05e8\\u05d5\\u05ea \\u05db\\u05d2\\u05d5\\u05df \\u05d3\\u05d0; \\u05d5\\u05dc\\u05e0\\u05d5\\u05db\\u05d7 \\u05d4\\u05e4\\u05e2\\u05e8 \\u05d4\\u05d7\\u05e8\\u05d9\\u05d2 \\u05d1\\u05d9\\u05df \\u05e8\\u05de\\u05ea \\u05d4\\u05e2\\u05e0\\u05d9\\u05e9\\u05d4 \\u05e9\\u05e0\\u05e7\\u05d1\\u05e2\\u05d4 \\u05d1\\u05d1\\u05d9\\u05ea \\u05d4\\u05de\\u05e9\\u05e4\\u05d8 \\u05d4\\u05de\\u05d7\\u05d5\\u05d6\\u05d9, \\u05dc\\u05d1\\u05d9\\u05df \\u05d6\\u05d5 \\u05e9\\u05e0\\u05e7\\u05d1\\u05e2\\u05d4 \\u05d1\\u05d1\\u05d9\\u05ea \\u05de\\u05e9\\u05e4\\u05d8 \\u05d4\\u05e9\\u05dc\\u05d5\\u05dd. \\u05d1\\u05d4\\u05de\\u05e9\\u05da, \\u05d8\\u05e2\\u05e0\\u05d5 \\u05d4\\u05de\\u05d1\\u05e7\\u05e9\\u05d9\\u05dd \\u05db\\u05d9 \\u05d1\\u05d9\\u05ea \\u05d4\\u05de\\u05e9\\u05e4\\u05d8 \\u05d4\\u05de\\u05d7\\u05d5\\u05d6\\u05d9 \\u05e9\\u05d2\\u05d4, \\u05d1\\u05db\\u05da \\u05e9\\u05dc\\u05d0 \\u05d4\\u05ea\\u05d0\\u05d9\\u05dd \\u05d0\\u05ea \\u05d4\\u05e2\\u05e0\\u05d9\\u05e9\\u05d4 \\u05dc\\u05e0\\u05e1\\u05d9\\u05d1\\u05d5\\u05ea\\u05d9\\u05d4\\u05dd \\u05d4\\u05d0\\u05d9\\u05e9\\u05d9\\u05d5\\u05ea \\u05e9\\u05dc \\u05d4\\u05de\\u05d1\\u05e7\\u05e9\\u05d9\\u05dd, \\u05d5\\u05d1\\u05db\\u05dc\\u05dc \\u05d6\\u05d4 \\u05dc\\u05e9\\u05d9\\u05e7\\u05d5\\u05dc\\u05d9 \\u05e9\\u05d9\\u05e7\\u05d5\\u05dd, \\u05d5\\u05dc\\u05e2\\u05e6\\u05dd \\u05d4\\u05d9\\u05d5\\u05ea\\u05dd \\u05e9\\u05dc \\u05d4\\u05de\\u05d1\\u05e7\\u05e9\\u05d9\\u05dd \\u05e7\\u05d8\\u05d9\\u05e0\\u05d9\\u05dd \\u05d1\\u05de\\u05d5\\u05e2\\u05d3 \\u05d1\\u05d9\\u05e6\\u05d5\\u05e2 \\u05d4\\u05e2\\u05d1\\u05d9\\u05e8\\u05d5\\u05ea. \\u05d3\\u05d9\\u05d5\\u05df \\u05d5\\u05d4\\u05db\\u05e8\\u05e2\\u05d4 9. \\u05dc\\u05d0\\u05d7\\u05e8 \\u05e9\\u05e2\\u05d9\\u05d9\\u05e0\\u05ea\\u05d9 \\u05d1\\u05d1\\u05e7\\u05e9\\u05d4 \\u05dc\\u05e8\\u05e9\\u05d5\\u05ea \\u05e2\\u05e8\\u05e2\\u05d5\\u05e8 \\u05d5\\u05d1\\u05e0\\u05e1\\u05e4\\u05d7\\u05d9\\u05d4, \\u05d4\\u05d2\\u05e2\\u05ea\\u05d9 \\u05dc\\u05db\\u05dc\\u05dc \\u05de\\u05e1\\u05e7\\u05e0\\u05d4 \\u05db\\u05d9 \\u05d0\\u05d9\\u05df \\u05de\\u05e7\\u05d5\\u05dd \\u05dc\\u05d9\\u05ea\\u05df \\u05dc\\u05de\\u05d1\\u05e7\\u05e9\\u05d9\\u05dd \\u05e8\\u05e9\\u05d5\\u05ea \\u05e2\\u05e8\\u05e2\\u05d5\\u05e8 \\\"\\u05d1\\u05d2\\u05dc\\u05d2\\u05d5\\u05dc \\u05e9\\u05dc\\u05d9\\u05e9\\u05d9\\\". \\u05d4\\u05dc\\u05db\\u05d4 \\u05de\\u05d5\\u05e9\\u05e8\\u05e9\\u05ea \\u05d4\\u05d9\\u05d0, \\u05db\\u05d9 \\u05e8\\u05e9\\u05d5\\u05ea \\u05e2\\u05e8\\u05e2\\u05d5\\u05e8 \\u05ea\\u05d9\\u05e0\\u05ea\\u05df \\u05d1\\u05de\\u05e9\\u05d5\\u05e8\\u05d4, \\u05d5\\u05e8\\u05e7 \\u05d1\\u05de\\u05e7\\u05e8\\u05d9\\u05dd \\u05d0\\u05e9\\u05e8 \\u05de\\u05e2\\u05d5\\u05e8\\u05e8\\u05d9\\u05dd \\u05e1\\u05d5\\u05d2\\u05d9\\u05d4 \\u05de\\u05e9\\u05e4\\u05d8\\u05d9\\u05ea \\u05db\\u05d1\\u05d3\\u05ea \\u05de\\u05e9\\u05e7\\u05dc \\u05d0\\u05d5 \\u05d1\\u05e2\\u05dc\\u05ea \\u05d4\\u05e9\\u05e4\\u05e2\\u05d4 \\u05e8\\u05d7\\u05d1\\u05d4, \\u05d5\\u05db\\u05df \\u05d1\\u05de\\u05e7\\u05e8\\u05d9\\u05dd \\u05d7\\u05e8\\u05d9\\u05d2\\u05d9\\u05dd \\u05d0\\u05e9\\u05e8 \\u05de\\u05ea\\u05d2\\u05dc\\u05d4 \\u05d1\\u05d4\\u05dd \\u05d0\\u05d9-\\u05e6\\u05d3\\u05e7 \\u05d0\\u05d5 \\u05e2\\u05d9\\u05d5\\u05d5\\u05ea \\u05d3\\u05d9\\u05df \\u05db\\u05dc\\u05e4\\u05d9 \\u05d4\\u05de\\u05d1\\u05e7\\u05e9 (\\u05e8\\u05e2\\\"\\u05e4 8858/14 \\u05d9\\u05e2\\u05e7\\u05d5\\u05d1\\u05d5\\u05d1 \\u05e0\\\\' \\u05de\\u05d3\\u05d9\\u05e0\\u05ea \\u05d9\\u05e9\\u05e8\\u05d0\\u05dc (15.1.2015); \\u05e8\\u05e2\\\"\\u05e4 16/15 \\u05d1\\u05e1\\u05d9\\u05e8 \\u05e1\\u05e2\\u05d0\\u05d9\\u05d3\\u05d4 \\u05e0\\\\' \\u05de\\u05d3\\u05d9\\u05e0\\u05ea \\u05d9\\u05e9\\u05e8\\u05d0\\u05dc (13.1.2015); \\u05e8\\u05e2\\\"\\u05e4 8087/14 \\u05e0\\u05d3\\u05d9\\u05dd \\u05d0\\u05e0\\u05d2\\u05e0\\u05d0\\u05e5 \\u05e0\\\\' \\u05de\\u05d3\\u05d9\\u05e0\\u05ea \\u05d9\\u05e9\\u05e8\\u05d0\\u05dc (10.12.2014)). \\u05d4\\u05d1\\u05e7\\u05e9\\u05d4 \\u05e9\\u05dc\\u05e4\\u05e0\\u05d9\\u05d9 \\u05d0\\u05d9\\u05e0\\u05d4 \\u05d7\\u05d5\\u05e8\\u05d2\\u05ea \\u05de\\u05e2\\u05e0\\u05d9\\u05d9\\u05e0\\u05dd \\u05d4\\u05e4\\u05e8\\u05d8\\u05d9 \\u05e9\\u05dc \\u05d4\\u05de\\u05d1\\u05e7\\u05e9\\u05d9\\u05dd, \\u05d5\\u05d7\\u05e8\\u05e3 \\u05d4\\u05d0\\u05de\\u05d5\\u05e8 \\u05d1\\u05d4, \\u05e0\\u05e1\\u05d9\\u05d1\\u05d5\\u05ea \\u05d4\\u05de\\u05e7\\u05e8\\u05d4 \\u05d0\\u05d9\\u05e0\\u05df \\u05de\\u05e2\\u05d5\\u05e8\\u05e8\\u05d5\\u05ea \\u05db\\u05dc \\u05e9\\u05d0\\u05dc\\u05d4 \\u05de\\u05e9\\u05e4\\u05d8\\u05d9\\u05ea \\u05d4\\u05e2\\u05e9\\u05d5\\u05d9\\u05d4 \\u05dc\\u05d4\\u05e6\\u05d3\\u05d9\\u05e7 \\u05e8\\u05e9\\u05d5\\u05ea \\u05e2\\u05e8\\u05e2\\u05d5\\u05e8 \\u05d1\\u05e4\\u05e0\\u05d9 \\u05d1\\u05d9\\u05ea \\u05de\\u05e9\\u05e4\\u05d8 \\u05d6\\u05d4. \\u05db\\u05de\\u05d5 \\u05db\\u05df, \\u05dc\\u05d0 \\u05e2\\u05d5\\u05dc\\u05d4 \\u05d7\\u05e9\\u05e9 \\u05dc\\u05e2\\u05d9\\u05d5\\u05d5\\u05ea \\u05d3\\u05d9\\u05df \\u05db\\u05dc\\u05e4\\u05d9 \\u05d4\\u05de\\u05d1\\u05e7\\u05e9\\u05d9\\u05dd \\u05d0\\u05d5 \\u05db\\u05d9 \\u05de\\u05ea\\u05e7\\u05d9\\u05d9\\u05de\\u05d9\\u05dd \\u05e9\\u05d9\\u05e7\\u05d5\\u05dc\\u05d9 \\u05e6\\u05d3\\u05e7 \\u05db\\u05dc\\u05e4\\u05d9\\u05d4\\u05dd. \\u05d0\\u05e3 \\u05d0\\u05dd \\u05d1\\u05d9\\u05ea \\u05de\\u05e9\\u05e4\\u05d8 \\u05d4\\u05e9\\u05dc\\u05d5\\u05dd \\u05d5\\u05d1\\u05d9\\u05ea \\u05d4\\u05de\\u05e9\\u05e4\\u05d8 \\u05d4\\u05de\\u05d7\\u05d5\\u05d6\\u05d9 \\u05d4\\u05d2\\u05d9\\u05e2\\u05d5 \\u05dc\\u05de\\u05e1\\u05e7\\u05e0\\u05d5\\u05ea \\u05e9\\u05d5\\u05e0\\u05d5\\u05ea, \\u05d0\\u05d9\\u05df \\u05d1\\u05db\\u05da \\u05de\\u05e9\\u05d5\\u05dd \\u05d4\\u05e6\\u05d3\\u05e7\\u05d4 \\u05dc\\u05e7\\u05d9\\u05d9\\u05dd \\u05d3\\u05d9\\u05d5\\u05df \\u05e0\\u05d5\\u05e1\\u05e3 \\u05d1\\u05e2\\u05e0\\u05d9\\u05d9\\u05e0\\u05d5 \\u05e9\\u05dc \\u05d4\\u05de\\u05d1\\u05e7\\u05e9, \\u05d1\\u05e4\\u05e0\\u05d9 \\u05d1\\u05d9\\u05ea \\u05de\\u05e9\\u05e4\\u05d8 \\u05d6\\u05d4 (\\u05e8\\u05e2\\\"\\u05e4 4070/14 \\\\u200f\\u05e4\\u05dc\\u05d5\\u05e0\\u05d9\\u05ea \\u05e0\\\\' \\u05de\\u05d3\\u05d9\\u05e0\\u05ea \\u05d9\\u05e9\\u05e8\\u05d0\\u05dc (17.6.2014); \\u05e8\\u05e2\\\"\\u05e4 2180/14 \\u05e9\\u05de\\u05d5\\u05d0\\u05dc\\u05d9 \\u05e0\\\\' \\u05de\\u05d3\\u05d9\\u05e0\\u05ea \\u05d9\\u05e9\\u05e8\\u05d0\\u05dc (24.4.2014)). 10. \\u05d4\\u05d0\\u05e4\\u05e9\\u05e8\\u05d5\\u05ea \\u05d4\\u05e0\\u05ea\\u05d5\\u05e0\\u05d4 \\u05dc\\u05d1\\u05d9\\u05ea \\u05d4\\u05de\\u05e9\\u05e4\\u05d8 \\u05dc\\u05d4\\u05d9\\u05de\\u05e0\\u05e2 \\u05de\\u05d4\\u05e8\\u05e9\\u05e2\\u05ea\\u05d5 \\u05e9\\u05dc \\u05e0\\u05d0\\u05e9\\u05dd \\u05e9\\u05d1\\u05d9\\u05e6\\u05e2 \\u05e2\\u05d1\\u05d9\\u05e8\\u05d4, \\u05de\\u05e2\\u05d5\\u05d2\\u05e0\\u05ea \\u05d1\\u05e1\\u05e2\\u05d9\\u05e3 71\\u05d0(\\u05d1) \\u05dc\\u05d7\\u05d5\\u05e7 \\u05d4\\u05e2\\u05d5\\u05e0\\u05e9\\u05d9\\u05df, \\u05d5\\u05d4\\u05d9\\u05d0 \\u05de\\u05d4\\u05d5\\u05d5\\u05d4 \\u05d7\\u05e8\\u05d9\\u05d2 \\u05dc\\u05db\\u05dc\\u05dc, \\u05dc\\u05e4\\u05d9\\u05d5 \\u05de\\u05e9\\u05d4\\u05d5\\u05db\\u05d7 \\u05d1\\u05d9\\u05e6\\u05d5\\u05e2\\u05d4 \\u05e9\\u05dc \\u05e2\\u05d1\\u05d9\\u05e8\\u05d4 \\u05d9\\u05e9 \\u05dc\\u05d4\\u05e8\\u05e9\\u05d9\\u05e2 \\u05d0\\u05ea \\u05d4\\u05e0\\u05d0\\u05e9\\u05dd. \\u05d1\\u05de\\u05d9\\u05dc\\u05d9\\u05dd \\u05d0\\u05d7\\u05e8\\u05d5\\u05ea, \\u05ea\\u05d5\\u05e6\\u05d0\\u05d4 \\u05e9\\u05dc \\u05d4\\u05d9\\u05de\\u05e0\\u05e2\\u05d5\\u05ea \\u05de\\u05d4\\u05e8\\u05e9\\u05e2\\u05d4, \\u05d7\\u05e8\\u05e3 \\u05d4\\u05e7\\u05d1\\u05d9\\u05e2\\u05d4 \\u05db\\u05d9 \\u05d4\\u05e0\\u05d0\\u05e9\\u05dd \\u05d1\\u05d9\\u05e6\\u05e2 \\u05d0\\u05ea \\u05d4\\u05e2\\u05d1\\u05d9\\u05e8\\u05d4, \\u05d4\\u05d9\\u05d0 \\u05ea\\u05d5\\u05e6\\u05d0\\u05d4 \\u05d7\\u05e8\\u05d9\\u05d2\\u05d4, \\u05d4\\u05e9\\u05de\\u05d5\\u05e8\\u05d4 \\u05dc\\u05de\\u05e7\\u05e8\\u05d9\\u05dd \\u05de\\u05d9\\u05d5\\u05d7\\u05d3\\u05d9\\u05dd \\u05d5\\u05d9\\u05d5\\u05e6\\u05d0\\u05d9 \\u05d3\\u05d5\\u05e4\\u05df. \\u05e9\\u05e0\\u05d9 \\u05ea\\u05e0\\u05d0\\u05d9\\u05dd \\u05de\\u05e6\\u05d8\\u05d1\\u05e8\\u05d9\\u05dd \\u05e0\\u05e7\\u05d1\\u05e2\\u05d5, \\u05e2\\u05dc \\u05de\\u05e0\\u05ea \\u05dc\\u05d4\\u05d9\\u05de\\u05e0\\u05e2 \\u05de\\u05d4\\u05e8\\u05e9\\u05e2\\u05d4: \\\"\\u05e8\\u05d0\\u05e9\\u05d9\\u05ea, \\u05e2\\u05dc \\u05d4\\u05d4\\u05e8\\u05e9\\u05e2\\u05d4 \\u05dc\\u05e4\\u05d2\\u05d5\\u05e2 \\u05e4\\u05d2\\u05d9\\u05e2\\u05d4 \\u05d7\\u05de\\u05d5\\u05e8\\u05d4 \\u05d1\\u05e9\\u05d9\\u05e7\\u05d5\\u05dd \\u05d4\\u05e0\\u05d0\\u05e9\\u05dd, \\u05d5\\u05e9\\u05e0\\u05d9\\u05ea, \\u05e1\\u05d5\\u05d2 \\u05d4\\u05e2\\u05d1\\u05d9\\u05e8\\u05d4 \\u05de\\u05d0\\u05e4\\u05e9\\u05e8 \\u05dc\\u05d5\\u05d5\\u05ea\\u05e8 \\u05d1\\u05e0\\u05e1\\u05d9\\u05d1\\u05d5\\u05ea \\u05d4\\u05de\\u05e7\\u05e8\\u05d4 \\u05d4\\u05de\\u05e1\\u05d5\\u05d9\\u05dd \\u05e2\\u05dc \\u05d4\\u05d4\\u05e8\\u05e9\\u05e2\\u05d4 \\u05d1\\u05dc\\u05d9 \\u05dc\\u05e4\\u05d2\\u05d5\\u05e2 \\u05d1\\u05d0\\u05d5\\u05e4\\u05df \\u05de\\u05d4\\u05d5\\u05ea\\u05d9 \\u05d1\\u05e9\\u05d9\\u05e7\\u05d5\\u05dc\\u05d9 \\u05d4\\u05e2\\u05e0\\u05d9\\u05e9\\u05d4 \\u05d4\\u05d0\\u05d7\\u05e8\\u05d9\\u05dd\\\" (\\u05e2\\\"\\u05e4 2083/96 \\u05db\\u05ea\\u05d1 \\u05e0\\\\' \\u05de\\u05d3\\u05d9\\u05e0\\u05ea \\u05d9\\u05e9\\u05e8\\u05d0\\u05dc, \\u05e4\\\"\\u05d3 \\u05e0\\u05d1(3) 337 (1997), \\u05e4\\u05e1\\u05e7\\u05d4 7 \\u05dc\\u05e4\\u05e1\\u05e7-\\u05d3\\u05d9\\u05e0\\u05d4 \\u05e9\\u05dc \\u05d4\\u05e9\\u05d5\\u05e4\\u05d8\\u05ea \\u05d3\\\\' \\u05d3\\u05d5\\u05e8\\u05e0\\u05e8). \\u05d9\\u05d9\\u05e9\\u05d5\\u05dd \\u05ea\\u05e0\\u05d0\\u05d9\\u05dd \\u05d0\\u05dc\\u05d4, \\u05d1\\u05e0\\u05e1\\u05d9\\u05d1\\u05d5\\u05ea \\u05d4\\u05de\\u05e7\\u05e8\\u05d4, \\u05de\\u05d5\\u05d1\\u05d9\\u05dc \\u05dc\\u05de\\u05e1\\u05e7\\u05e0\\u05d4 \\u05db\\u05d9 \\u05e2\\u05e0\\u05d9\\u05d9\\u05e0\\u05dd \\u05e9\\u05dc \\u05d4\\u05de\\u05d1\\u05e7\\u05e9\\u05d9\\u05dd \\u05d0\\u05d9\\u05e0\\u05e0\\u05d5 \\u05e0\\u05de\\u05e0\\u05d4 \\u05e2\\u05dc \\u05d0\\u05d5\\u05ea\\u05dd \\u05de\\u05e7\\u05e8\\u05d9\\u05dd \\u05d7\\u05e8\\u05d9\\u05d2\\u05d9\\u05dd, \\u05e9\\u05e7\\u05d9\\u05d9\\u05de\\u05ea \\u05d1\\u05d4\\u05dd \\u05d4\\u05e6\\u05d3\\u05e7\\u05d4 \\u05dc\\u05d4\\u05d9\\u05de\\u05e0\\u05e2\\u05d5\\u05ea \\u05de\\u05d4\\u05e8\\u05e9\\u05e2\\u05d4. 11. \\u05d1\\u05de\\u05e1\\u05d2\\u05e8\\u05ea \\u05e4\\u05e1\\u05e7 \\u05d3\\u05d9\\u05e0\\u05d5, \\u05d4\\u05ea\\u05d9\\u05d9\\u05d7\\u05e1 \\u05d1\\u05d9\\u05ea \\u05d4\\u05de\\u05e9\\u05e4\\u05d8 \\u05d4\\u05de\\u05d7\\u05d5\\u05d6\\u05d9, \\u05dc\\u05d7\\u05d5\\u05de\\u05e8\\u05ea \\u05d4\\u05e2\\u05d1\\u05d9\\u05e8\\u05d5\\u05ea \\u05e9\\u05d1\\u05d5\\u05e6\\u05e2\\u05d5 \\u05e2\\u05dc-\\u05d9\\u05d3\\u05d9 \\u05d4\\u05de\\u05d1\\u05e7\\u05e9\\u05d9\\u05dd, \\u05d1\\u05e7\\u05d5\\u05d1\\u05e2\\u05d5 \\u05db\\u05d9: \\\"\\u05dc\\u05d0 \\u05e8\\u05d0\\u05d9\\u05e0\\u05d5 \\u05dc\\u05d4\\u05e1\\u05ea\\u05e4\\u05e7 \\u05d1\\u05d3\\u05e8\\u05da \\u05d1\\u05d4 \\u05d4\\u05dc\\u05da \\u05d1\\u05d9\\u05ea \\u05d4\\u05de\\u05e9\\u05e4\\u05d8 \\u05e7\\u05de\\u05d0, \\u05d5\\u05d4\\u05e1\\u05d9\\u05db\\u05d5\\u05df \\u05d4\\u05e8\\u05d1 \\u05d4\\u05e0\\u05e9\\u05e7\\u05e3 \\u05de\\u05d9\\u05d9\\u05d3\\u05d5\\u05d9 \\u05d4\\u05d0\\u05d1\\u05e0\\u05d9\\u05dd \\u05d5\\u05de\\u05d0\\u05dc\\u05d9\\u05de\\u05d5\\u05ea \\u05db\\u05dc\\u05e4\\u05d9 \\u05e9\\u05d5\\u05d8\\u05e8\\u05d9\\u05dd, \\u05de\\u05d7\\u05d9\\u05d9\\u05d1 \\u05e2\\u05de\\u05d3\\u05d4 \\u05e2\\u05d5\\u05e0\\u05e9\\u05d9\\u05ea \\u05e0\\u05d7\\u05e8\\u05e6\\u05ea \\u05e9\\u05d9\\u05e9 \\u05d1\\u05d4 \\\\'\\u05dc\\u05d4\\u05e8\\u05ea\\u05d9\\u05e2 \\u05d0\\u05ea \\u05d4\\u05de\\u05d1\\u05e6\\u05e2 \\u05e2\\u05e6\\u05de\\u05d5 \\u05d5\\u05d0\\u05ea \\u05d4\\u05e2\\u05d1\\u05e8\\u05d9\\u05d9\\u05e0\\u05d9\\u05dd \\u05d1\\u05db\\u05d5\\u05d7, \\u05e6\\u05e2\\u05d9\\u05e8\\u05d9\\u05dd \\u05d4\\u05de\\u05ea\\u05e4\\u05ea\\u05d9\\u05dd \\u05e2\\u05dc \\u05e0\\u05e7\\u05dc\\u05d4 \\u05dc\\u05d4\\u05e9\\u05dc\\u05d9\\u05da \\u05d0\\u05d1\\u05e0\\u05d9\\u05dd \\u05d5\\u05d1\\u05e7\\u05d1\\u05d5\\u05e7\\u05d9 \\u05ea\\u05d1\\u05e2\\u05e8\\u05d4 \\u05d5\\u05dc\\u05e1\\u05db\\u05df \\u05d7\\u05d9\\u05d9 \\u05d0\\u05d3\\u05dd\\\\'...\\u05dc\\u05db\\u05df, \\u05d1\\u05d4\\u05d1\\u05d9\\u05d0\\u05e0\\u05d5 \\u05d1\\u05de\\u05e1\\u05d2\\u05e8\\u05ea \\u05d4\\u05e9\\u05d9\\u05e7\\u05d5\\u05dc\\u05d9\\u05dd \\u05d0\\u05ea \\u05d4\\u05e0\\u05e1\\u05d9\\u05d1\\u05d5\\u05ea \\u05d5\\u05d0\\u05ea \\u05d4\\u05d7\\u05d5\\u05de\\u05e8\\u05d4 \\u05e9\\u05d9\\u05e9 \\u05dc\\u05d9\\u05d9\\u05d7\\u05e1 \\u05dc\\u05e2\\u05d1\\u05d9\\u05e8\\u05d5\\u05ea \\u05d0\\u05dc\\u05d9\\u05de\\u05d5\\u05ea \\u05db\\u05dc\\u05e4\\u05d9 \\u05e9\\u05d5\\u05d8\\u05e8\\u05d9\\u05dd \\u05d5\\u05d4\\u05ea\\u05e4\\u05e8\\u05e2\\u05d5\\u05d9\\u05d5\\u05ea \\u05e9\\u05d1\\u05de\\u05d4\\u05dc\\u05db\\u05df \\u05de\\u05d9\\u05d9\\u05d3\\u05d9\\u05dd \\u05e7\\u05d8\\u05d9\\u05e0\\u05d9\\u05dd \\u05d0\\u05d1\\u05e0\\u05d9\\u05dd \\u05d5\\u05de\\u05d5\\u05e9\\u05dc\\u05db\\u05d9\\u05dd \\u05d0\\u05e3 \\u05d1\\u05e7\\u05d1\\u05d5\\u05e7\\u05d9 \\u05ea\\u05d1\\u05e2\\u05e8\\u05d4, \\u05ea\\u05d5\\u05e4\\u05e2\\u05d4 \\u05d4\\u05d4\\u05d5\\u05dc\\u05db\\u05ea \\u05d5\\u05de\\u05ea\\u05e2\\u05e6\\u05de\\u05ea \\u05de\\u05d6\\u05d4 \\u05d6\\u05de\\u05df \\u05d0\\u05e8\\u05d5\\u05da, \\u05d0\\u05e0\\u05d5 \\u05e1\\u05d1\\u05d5\\u05e8\\u05d9\\u05dd \\u05db\\u05d9 \\u05e8\\u05d0\\u05d5\\u05d9 \\u05dc\\u05d4\\u05e2\\u05d1\\u05d9\\u05e8 \\u05de\\u05e1\\u05e8 \\u05d0\\u05d7\\u05d3 \\u05d1\\u05e2\\u05d1\\u05d9\\u05e8\\u05d5\\u05ea \\u05db\\u05d0\\u05dc\\u05d4 \\u05db\\u05d9 \\u05d0\\u05d9\\u05df \\u05dc\\u05d4\\u05e1\\u05ea\\u05e4\\u05e7 \\u05d1\\u05e4\\u05df \\u05d4\\u05e9\\u05d9\\u05e7\\u05d5\\u05de\\u05d9 \\u05d5\\u05d4\\u05db\\u05dc\\u05dc \\u05d4\\u05d5\\u05d0 \\u05db\\u05d9 \\u05d9\\u05e9 \\u05dc\\u05d4\\u05e8\\u05e9\\u05d9\\u05e2 \\u05d0\\u05ea \\u05d4\\u05de\\u05e9\\u05d9\\u05d1\\u05d9\\u05dd \\u05d0\\u05e3 \\u05d0\\u05dd \\u05de\\u05d3\\u05d5\\u05d1\\u05e8 \\u05d1\\u05e7\\u05d8\\u05d9\\u05e0\\u05d9\\u05dd \\u05e9\\u05d6\\u05d5 \\u05dc\\u05d4\\u05dd \\u05d4\\u05e2\\u05d1\\u05d9\\u05e8\\u05d4 \\u05d4\\u05e8\\u05d0\\u05e9\\u05d5\\u05e0\\u05d4...\\\" \\u05dc\\u05d8\\u05e2\\u05de\\u05d9, \\u05d1\\u05d9\\u05ea \\u05d4\\u05de\\u05e9\\u05e4\\u05d8 \\u05d4\\u05de\\u05d7\\u05d5\\u05d6\\u05d9 \\u05e6\\u05d3\\u05e7 \\u05d1\\u05e7\\u05d1\\u05d9\\u05e2\\u05ea\\u05d5 \\u05d6\\u05d5, \\u05e9\\u05db\\u05df \\u05e1\\u05d5\\u05d2 \\u05d4\\u05e2\\u05d1\\u05d9\\u05e8\\u05d4 \\u05d5\\u05e0\\u05e1\\u05d9\\u05d1\\u05d5\\u05ea\\u05d9\\u05d4, \\u05d0\\u05d9\\u05e0\\u05dd \\u05de\\u05d0\\u05e4\\u05e9\\u05e8\\u05d9\\u05dd, \\u05d1\\u05e0\\u05d3\\u05d5\\u05df \\u05d3\\u05d9\\u05d3\\u05df, \\u05dc\\u05d4\\u05d9\\u05de\\u05e0\\u05e2 \\u05de\\u05d4\\u05e8\\u05e9\\u05e2\\u05d4. 12. \\u05d1\\u05db\\u05dc \\u05d4\\u05e0\\u05d5\\u05d2\\u05e2 \\u05dc\\u05e9\\u05d0\\u05dc\\u05d4 \\u05e9\\u05e2\\u05e0\\u05d9\\u05d9\\u05e0\\u05d4 \\u05d4\\u05e4\\u05d2\\u05d9\\u05e2\\u05d4 \\u05d1\\u05e6\\u05d5\\u05e8\\u05db\\u05d9 \\u05e9\\u05d9\\u05e7\\u05d5\\u05de\\u05d5 \\u05e9\\u05dc \\u05d4\\u05e0\\u05d0\\u05e9\\u05dd, \\u05e0\\u05e7\\u05d1\\u05e2, \\u05db\\u05d9 \\u05d0\\u05d9\\u05df \\u05de\\u05e7\\u05d5\\u05dd \\u05dc\\u05d4\\u05e1\\u05ea\\u05e4\\u05e7 \\u05d1\\\"\\u05ea\\u05e8\\u05d7\\u05d9\\u05e9 \\u05ea\\u05d9\\u05d0\\u05d5\\u05e8\\u05d8\\u05d9\\\", \\u05d5\\u05d9\\u05e9 \\u05dc\\u05d4\\u05e6\\u05d1\\u05d9\\u05e2 \\u05e2\\u05dc \\u05e7\\u05d9\\u05d5\\u05de\\u05d5 \\u05e9\\u05dc \\u05e0\\u05d6\\u05e7 \\\"\\u05de\\u05d5\\u05d7\\u05e9\\u05d9 \\u05d5\\u05e7\\u05d5\\u05e0\\u05e7\\u05e8\\u05d8\\u05d9\\\" \\u05d0\\u05e9\\u05e8 \\u05e6\\u05e4\\u05d5\\u05d9 \\u05dc\\u05e0\\u05d0\\u05e9\\u05dd \\u05db\\u05ea\\u05d5\\u05e6\\u05d0\\u05d4 \\u05de\\u05e2\\u05e6\\u05dd \\u05d4\\u05d4\\u05e8\\u05e9\\u05e2\\u05d4 (\\u05e8\\u05e2\\\"\\u05e4 1439/13 \\\\u200f\\u05e7\\u05e9\\u05ea \\u05e0\\\\' \\u05de\\u05d3\\u05d9\\u05e0\\u05ea \\u05d9\\u05e9\\u05e8\\u05d0\\u05dc (4.3.2013); \\u05e8\\u05e2\\\"\\u05e4 8627/12 \\u05d4\\u05e0\\u05e1\\u05d1 \\u05e0\\\\' \\u05de\\u05d3\\u05d9\\u05e0\\u05ea \\u05d9\\u05e9\\u05e8\\u05d0\\u05dc (31.12.2012)). \\u05d9\\u05e6\\u05d5\\u05d9\\u05d9\\u05df, \\u05db\\u05d9 \\u05d3\\u05e8\\u05d9\\u05e9\\u05d4 \\u05d6\\u05d5 \\u05d0\\u05d9\\u05e0\\u05d4 \\u05de\\u05ea\\u05d9\\u05d9\\u05ea\\u05e8\\u05ea, \\u05d2\\u05dd \\u05db\\u05d0\\u05e9\\u05e8 \\u05de\\u05d3\\u05d5\\u05d1\\u05e8 \\u05d1\\u05e7\\u05d8\\u05d9\\u05e0\\u05d9\\u05dd (\\u05e8\\u05d0\\u05d5 \\u05e2\\u05de\\u05d3\\u05ea\\u05d9 \\u05d1\\u05e2\\\"\\u05e4 5931/13 \\u05e4\\u05dc\\u05d5\\u05e0\\u05d9 \\u05e0\\\\' \\u05de\\u05d3\\u05d9\\u05e0\\u05ea \\u05d9\\u05e9\\u05e8\\u05d0\\u05dc (10.2.2014); \\u05e8\\u05e2\\\"\\u05e4 2180/14 \\u05e1\\u05e4\\u05d9\\u05e8 \\u05e9\\u05de\\u05d5\\u05d0\\u05dc\\u05d9 \\u05e0\\\\' \\u05de\\u05d3\\u05d9\\u05e0\\u05ea \\u05d9\\u05e9\\u05e8\\u05d0\\u05dc (24.4.2014)). \\u05d1\\u05de\\u05e7\\u05e8\\u05d4 \\u05e9\\u05dc\\u05e4\\u05e0\\u05d9\\u05e0\\u05d5, \\u05dc\\u05d0 \\u05de\\u05e6\\u05d0\\u05ea\\u05d9, \\u05db\\u05d9 \\u05d4\\u05e8\\u05e9\\u05e2\\u05ea \\u05d4\\u05de\\u05d1\\u05e7\\u05e9\\u05d9\\u05dd \\u05ea\\u05e4\\u05d2\\u05e2 \\u05d1\\u05d4\\u05dd \\u05e4\\u05d2\\u05d9\\u05e2\\u05d4 \\u05d7\\u05de\\u05d5\\u05e8\\u05d4, \\u05de\\u05d4 \\u05d2\\u05dd \\u05e9\\u05dc\\u05d0 \\u05e2\\u05dc\\u05d4 \\u05d1\\u05d9\\u05d3\\u05d9 \\u05d4\\u05de\\u05d1\\u05e7\\u05e9\\u05d9\\u05dd \\u05dc\\u05d4\\u05e8\\u05d0\\u05d5\\u05ea, \\u05db\\u05d9 \\u05d4\\u05e8\\u05e9\\u05e2\\u05ea\\u05dd \\u05ea\\u05d5\\u05d1\\u05d9\\u05dc \\u05dc\\u05e4\\u05d2\\u05d9\\u05e2\\u05d4 \\u05de\\u05d4\\u05d5\\u05ea\\u05d9\\u05ea \\u05d5\\u05e7\\u05d5\\u05e0\\u05e7\\u05e8\\u05d8\\u05d9\\u05ea \\u05d1\\u05e2\\u05ea\\u05d9\\u05d3\\u05dd \\u05d0\\u05d5 \\u05d1\\u05e6\\u05d5\\u05e8\\u05db\\u05d9 \\u05e9\\u05d9\\u05e7\\u05d5\\u05de\\u05dd. 13. \\u05dc\\u05de\\u05e2\\u05dc\\u05d4 \\u05de\\u05df \\u05d4\\u05e6\\u05d5\\u05e8\\u05da, \\u05d0\\u05d3\\u05e8\\u05e9, \\u05d1\\u05e7\\u05e6\\u05e8\\u05d4, \\u05dc\\u05d8\\u05e2\\u05e0\\u05d5\\u05ea\\u05d9\\u05d4\\u05dd \\u05e9\\u05dc \\u05d4\\u05de\\u05d1\\u05e7\\u05e9\\u05d9\\u05dd \\u05dc\\u05d2\\u05d5\\u05e4\\u05df. \\u05e8\\u05d0\\u05e9\\u05d9\\u05ea, \\u05d0\\u05d9\\u05df \\u05d1\\u05d9\\u05d3\\u05d9 \\u05dc\\u05e7\\u05d1\\u05dc \\u05d0\\u05ea \\u05d8\\u05e2\\u05e0\\u05ea \\u05d4\\u05de\\u05d1\\u05e7\\u05e9\\u05d9\\u05dd, \\u05dc\\u05e4\\u05d9\\u05d4 \\u05e4\\u05e1\\u05e7 \\u05d3\\u05d9\\u05e0\\u05d5 \\u05e9\\u05dc \\u05d1\\u05d9\\u05ea \\u05d4\\u05de\\u05e9\\u05e4\\u05d8 \\u05d4\\u05de\\u05d7\\u05d5\\u05d6\\u05d9 \\u05e4\\u05d5\\u05d2\\u05e2 \\u05d1\\u05e2\\u05e7\\u05e8\\u05d5\\u05df \\u05d4\\u05e9\\u05d5\\u05d5\\u05d9\\u05d5\\u05df, \\u05de\\u05e9\\u05d5\\u05dd \\u05e9\\u05dc\\u05d3\\u05d1\\u05e8\\u05d9\\u05d4\\u05dd \\u05d4\\u05e2\\u05d5\\u05e0\\u05e9\\u05d9\\u05dd \\u05d0\\u05e9\\u05e8 \\u05d4\\u05d5\\u05d8\\u05dc\\u05d5 \\u05e2\\u05dc\\u05d9\\u05d4\\u05dd \\u05d7\\u05de\\u05d5\\u05e8\\u05d9\\u05dd \\u05de\\u05d0\\u05dc\\u05d4 \\u05e9\\u05d4\\u05d5\\u05d8\\u05dc\\u05d5 \\u05e2\\u05dc \\u05d4\\u05e0\\u05d0\\u05e9\\u05de\\u05d9\\u05dd \\u05d4\\u05e0\\u05d5\\u05e1\\u05e4\\u05d9\\u05dd \\u05e9\\u05d4\\u05d9\\u05d5 \\u05e9\\u05d5\\u05ea\\u05e4\\u05d9\\u05dd \\u05dc\\u05d0\\u05d5\\u05ea\\u05df \\u05d4\\u05ea\\u05e4\\u05e8\\u05e2\\u05d5\\u05d9\\u05d5\\u05ea. \\u05d1\\u05d9\\u05ea \\u05d4\\u05de\\u05e9\\u05e4\\u05d8 \\u05d4\\u05de\\u05d7\\u05d5\\u05d6\\u05d9 \\u05e0\\u05ea\\u05df \\u05d0\\u05ea \\u05d3\\u05e2\\u05ea\\u05d5 \\u05dc\\u05e4\\u05e1\\u05d9\\u05e7\\u05d4 \\u05d0\\u05dc\\u05d9\\u05d4 \\u05d4\\u05e4\\u05e0\\u05d5 \\u05d4\\u05e6\\u05d3\\u05d3\\u05d9\\u05dd, \\u05d5\\u05d4\\u05d1\\u05d4\\u05d9\\u05e8, \\u05db\\u05d9 \\\"\\u05de\\u05e2\\u05e9\\u05d9 \\u05d4\\u05de\\u05e9\\u05d9\\u05d1\\u05d9\\u05dd \\u05d1\\u05de\\u05e7\\u05e8\\u05d4 \\u05d6\\u05d4 \\u05d7\\u05de\\u05d5\\u05e8\\u05d9\\u05dd \\u05d1\\u05d9\\u05d5\\u05ea\\u05e8, \\u05de\\u05e2\\u05d1\\u05e8 \\u05dc\\u05d7\\u05d5\\u05de\\u05e8\\u05d4 \\u05e9\\u05ea\\u05d5\\u05d0\\u05e8\\u05d4 \\u05d1\\u05e8\\u05d1\\u05d9\\u05dd \\u05de\\u05e4\\u05e1\\u05e7\\u05d9 \\u05d4\\u05d3\\u05d9\\u05df \\u05e9\\u05e4\\u05d5\\u05e8\\u05d8\\u05d5 \\u05dc\\u05e2\\u05d9\\u05dc\\\". \\u05de\\u05e2\\u05d1\\u05e8 \\u05dc\\u05d6\\u05d0\\u05ea, \\u05d4\\u05dc\\u05db\\u05d4 \\u05d4\\u05d9\\u05d0, \\u05db\\u05d9 \\u05d4\\u05e9\\u05d2\\u05d4 \\u05e2\\u05dc \\u05de\\u05d9\\u05d3\\u05ea \\u05d4\\u05e2\\u05d5\\u05e0\\u05e9 \\u05d0\\u05d9\\u05df \\u05d1\\u05db\\u05d5\\u05d7\\u05d4 \\u05dc\\u05d4\\u05e6\\u05d3\\u05d9\\u05e7 \\u05de\\u05ea\\u05df \\u05e8\\u05e9\\u05d5\\u05ea \\u05e2\\u05e8\\u05e2\\u05d5\\u05e8, \\u05dc\\u05de\\u05e2\\u05d8 \\u05d1\\u05de\\u05e7\\u05e8\\u05d9\\u05dd \\u05d1\\u05d4\\u05dd \\u05e0\\u05d9\\u05db\\u05e8\\u05ea \\u05d7\\u05e8\\u05d9\\u05d2\\u05d4 \\u05e7\\u05d9\\u05e6\\u05d5\\u05e0\\u05d9\\u05ea \\u05de\\u05de\\u05d3\\u05d9\\u05e0\\u05d9\\u05d5\\u05ea \\u05d4\\u05e2\\u05e0\\u05d9\\u05e9\\u05d4 \\u05d4\\u05e8\\u05d0\\u05d5\\u05d9\\u05d4 \\u05d5\\u05d4\\u05de\\u05e7\\u05d5\\u05d1\\u05dc\\u05ea \\u05d1\\u05de\\u05e7\\u05e8\\u05d9\\u05dd \\u05d3\\u05d5\\u05de\\u05d9\\u05dd (\\u05e8\\u05e2\\\"\\u05e4 8719/14 \\u05d9\\u05e2\\u05e7\\u05d1 \\u05d1\\u05df \\u05d8\\u05d5\\u05dc\\u05d9\\u05dc\\u05d4 \\u05e0\\\\' \\u05de\\u05d3\\u05d9\\u05e0\\u05ea \\u05d9\\u05e9\\u05e8\\u05d0\\u05dc (14.1.2015); \\u05e8\\u05e2\\\"\\u05e4 7584/14 \\u05d0\\u05d1\\u05d5 \\u05e9\\u05d5\\u05e7\\u05d5\\u05e8 \\u05e0\\\\' \\u05de\\u05d3\\u05d9\\u05e0\\u05ea \\u05d9\\u05e9\\u05e8\\u05d0\\u05dc (2.12.2014); \\u05e8\\u05e2\\\"\\u05e4 7641/14 \\u05d0\\u05dc\\u05d8\\u05d5\\u05e8\\u05d9 \\u05e0\\\\' \\u05de\\u05d3\\u05d9\\u05e0\\u05ea \\u05d9\\u05e9\\u05e8\\u05d0\\u05dc (30.11.2014)). \\u05d2\\u05dd \\u05d0\\u05dd \\u05e0\\u05d9\\u05ea\\u05df \\u05d4\\u05d9\\u05d4 \\u05dc\\u05de\\u05e6\\u05d5\\u05d0 \\u05d2\\u05d6\\u05e8\\u05d9 \\u05d3\\u05d9\\u05df \\u05de\\u05e7\\u05dc\\u05d9\\u05dd \\u05d9\\u05d5\\u05ea\\u05e8, \\u05d1\\u05e0\\u05e1\\u05d9\\u05d1\\u05d5\\u05ea \\u05d4\\u05d3\\u05d5\\u05de\\u05d5\\u05ea \\u05dc\\u05e2\\u05e0\\u05d9\\u05d9\\u05e0\\u05e0\\u05d5, \\u05d0\\u05d9\\u05df \\u05d4\\u05d3\\u05d1\\u05e8 \\u05de\\u05e2\\u05d9\\u05d3 \\u05db\\u05d9 \\u05d4\\u05e2\\u05d5\\u05e0\\u05e9 \\u05d0\\u05e9\\u05e8 \\u05d4\\u05d5\\u05e9\\u05ea \\u05e2\\u05dc \\u05d4\\u05de\\u05d1\\u05e7\\u05e9\\u05d9\\u05dd \\u05d7\\u05d5\\u05e8\\u05d2 \\u05d1\\u05d0\\u05d5\\u05e4\\u05df \\u05de\\u05d4\\u05d5\\u05ea\\u05d9 \\u05de\\u05de\\u05d3\\u05d9\\u05e0\\u05d9\\u05d5\\u05ea \\u05d4\\u05e2\\u05e0\\u05d9\\u05e9\\u05d4 \\u05d4\\u05e8\\u05d0\\u05d5\\u05d9\\u05d4. \\u05d1\\u05de\\u05e6\\u05d1 \\u05d3\\u05d1\\u05e8\\u05d9\\u05dd \\u05d6\\u05d4, \\u05e1\\u05d1\\u05d5\\u05e8\\u05e0\\u05d9 \\u05db\\u05d9 \\u05dc\\u05d0 \\u05e0\\u05e4\\u05dc \\u05db\\u05dc \\u05e4\\u05d2\\u05dd \\u05d1\\u05e2\\u05d5\\u05e0\\u05e9\\u05d9\\u05dd \\u05d0\\u05e9\\u05e8 \\u05d4\\u05d5\\u05e9\\u05ea\\u05d5 \\u05e2\\u05dc \\u05d4\\u05de\\u05d1\\u05e7\\u05e9\\u05d9\\u05dd \\u05e2\\u05dc-\\u05d9\\u05d3\\u05d9 \\u05d1\\u05d9\\u05ea \\u05d4\\u05de\\u05e9\\u05e4\\u05d8 \\u05d4\\u05de\\u05d7\\u05d5\\u05d6\\u05d9. 14. \\u05d1\\u05d0\\u05d5\\u05e4\\u05df \\u05d3\\u05d5\\u05de\\u05d4, \\u05dc\\u05d0 \\u05de\\u05e6\\u05d0\\u05ea\\u05d9 \\u05de\\u05de\\u05e9 \\u05d1\\u05d8\\u05e2\\u05e0\\u05ea \\u05d4\\u05de\\u05d1\\u05e7\\u05e9\\u05d9\\u05dd, \\u05db\\u05d9 \\u05d1\\u05d9\\u05ea \\u05d4\\u05de\\u05e9\\u05e4\\u05d8 \\u05d4\\u05de\\u05d7\\u05d5\\u05d6\\u05d9 \\u05dc\\u05d0 \\u05d4\\u05ea\\u05d0\\u05d9\\u05dd \\u05d0\\u05ea \\u05d4\\u05e2\\u05e0\\u05d9\\u05e9\\u05d4 \\u05dc\\u05e0\\u05e1\\u05d9\\u05d1\\u05d5\\u05ea\\u05d9\\u05d4\\u05dd \\u05d4\\u05d0\\u05d9\\u05e9\\u05d9\\u05d5\\u05ea. \\u05dc\\u05e2\\u05e0\\u05d9\\u05d9\\u05df \\u05d6\\u05d4, \\u05e7\\u05d1\\u05e2 \\u05d1\\u05d9\\u05ea \\u05d4\\u05de\\u05e9\\u05e4\\u05d8 \\u05d4\\u05de\\u05d7\\u05d5\\u05d6\\u05d9, \\u05db\\u05d9: \\\"\\u05d1\\u05e6\\u05d3 \\u05d4\\u05d7\\u05d5\\u05de\\u05e8\\u05d4 \\u05e9\\u05e8\\u05d0\\u05d9\\u05e0\\u05d5 \\u05dc\\u05d9\\u05d9\\u05d7\\u05e1 \\u05dc\\u05e2\\u05d1\\u05d9\\u05e8\\u05d5\\u05ea \\u05e9\\u05d1\\u05d4\\u05df \\u05d4\\u05d5\\u05e8\\u05e9\\u05e2\\u05d5 \\u05d4\\u05de\\u05e9\\u05d9\\u05d1\\u05d9\\u05dd, \\u05e0\\u05ea\\u05e0\\u05d5 \\u05d3\\u05e2\\u05ea\\u05e0\\u05d5 \\u05dc\\u05e0\\u05e1\\u05d9\\u05d1\\u05d5\\u05ea\\u05d9\\u05d4\\u05dd \\u05d4\\u05d0\\u05d9\\u05e9\\u05d9\\u05d5\\u05ea \\u05e9\\u05dc \\u05d4\\u05de\\u05e9\\u05d9\\u05d1\\u05d9\\u05dd, \\u05dc\\u05d2\\u05d9\\u05dc\\u05dd \\u05d1\\u05e2\\u05ea \\u05d1\\u05d9\\u05e6\\u05d5\\u05e2 \\u05d4\\u05e2\\u05d1\\u05d9\\u05e8\\u05d5\\u05ea, \\u05dc\\u05ea\\u05e1\\u05e7\\u05d9\\u05e8 \\u05e9\\u05d9\\u05e8\\u05d5\\u05ea \\u05d4\\u05de\\u05d1\\u05d7\\u05df, \\u05dc\\u05d4\\u05e2\\u05d3\\u05e8 \\u05e8\\u05d9\\u05e9\\u05d5\\u05dd \\u05e4\\u05dc\\u05d9\\u05dc\\u05d9 \\u05d5\\u05dc\\u05d4\\u05ea\\u05d9\\u05d9\\u05d7\\u05e1\\u05d5\\u05ea \\u05d1\\u05d9\\u05ea \\u05de\\u05e9\\u05e4\\u05d8 \\u05e7\\u05de\\u05d0 \\u05dc\\u05e0\\u05e1\\u05d9\\u05d1\\u05d5\\u05ea \\u05e9\\u05dc \\u05d4\\u05de\\u05e9\\u05d9\\u05d1\\u05d9\\u05dd \\u05db\\u05d0\\u05de\\u05d5\\u05e8 \\u05d1\\u05d2\\u05d6\\u05e8 \\u05d4\\u05d3\\u05d9\\u05df, \\u05d5\\u05e8\\u05d0\\u05d9\\u05e0\\u05d5 \\u05d0\\u05e3 \\u05dc\\u05d0\\u05de\\u05e5 \\u05d0\\u05ea \\u05d3\\u05d1\\u05e8\\u05d9\\u05d5 \\u05d0\\u05e9\\u05e8 \\u05dc\\u05de\\u05e9\\u05d9\\u05d1\\u05d9\\u05dd \\u05d5\\u05d0\\u05e9\\u05e8 \\u05dc\\u05de\\u05d3\\u05e8\\u05d2 \\u05e9\\u05e7\\u05d1\\u05e2 \\u05d1\\u05e2\\u05e0\\u05d9\\u05e9\\u05d4 \\u05dc\\u05d2\\u05d1\\u05d9\\u05d4\\u05dd \\u05d1\\u05e9\\u05dc \\u05d4\\u05e9\\u05d5\\u05e0\\u05d9 \\u05d1\\u05d2\\u05d9\\u05dc\\u05dd...\\\" \\u05d4\\u05e0\\u05d4 \\u05db\\u05d9 \\u05db\\u05df, \\u05d1\\u05d9\\u05ea \\u05d4\\u05de\\u05e9\\u05e4\\u05d8 \\u05d4\\u05de\\u05d7\\u05d5\\u05d6\\u05d9 \\u05dc\\u05d0 \\u05d4\\u05ea\\u05e2\\u05dc\\u05dd \\u05de\\u05e0\\u05e1\\u05d9\\u05d1\\u05d5\\u05ea\\u05d9\\u05d4\\u05dd \\u05d4\\u05e4\\u05e8\\u05d8\\u05e0\\u05d9\\u05d5\\u05ea \\u05e9\\u05dc \\u05d4\\u05de\\u05d1\\u05e7\\u05e9\\u05d9\\u05dd, \\u05d5\\u05de\\u05d9\\u05ea\\u05e8 \\u05d4\\u05e9\\u05d9\\u05e7\\u05d5\\u05dc\\u05d9\\u05dd \\u05dc\\u05e7\\u05d5\\u05dc\\u05d4. \\u05d1\\u05d9\\u05ea \\u05d4\\u05de\\u05e9\\u05e4\\u05d8 \\u05d4\\u05de\\u05d7\\u05d5\\u05d6\\u05d9 \\u05e0\\u05ea\\u05df \\u05d0\\u05ea \\u05d3\\u05e2\\u05ea\\u05d5 \\u05dc\\u05de\\u05db\\u05dc\\u05d5\\u05dc \\u05e9\\u05d9\\u05e7\\u05d5\\u05dc\\u05d9 \\u05d4\\u05e2\\u05e0\\u05d9\\u05e9\\u05d4 \\u05d4\\u05e8\\u05dc\\u05d5\\u05d5\\u05e0\\u05d8\\u05d9\\u05d9\\u05dd, \\u05d5\\u05e2\\u05e8\\u05da \\u05d1\\u05d9\\u05e0\\u05d9\\u05d4\\u05dd \\u05d0\\u05d9\\u05d6\\u05d5\\u05df \\u05e8\\u05d0\\u05d5\\u05d9, \\u05d1\\u05e0\\u05e1\\u05d9\\u05d1\\u05d5\\u05ea \\u05d4\\u05e2\\u05e0\\u05d9\\u05d9\\u05df. \\u05dc\\u05e4\\u05d9\\u05db\\u05da, \\u05d0\\u05d9\\u05e0\\u05e0\\u05d9 \\u05e8\\u05d5\\u05d0\\u05d4 \\u05db\\u05dc \\u05d4\\u05e6\\u05d3\\u05e7\\u05d4 \\u05dc\\u05d4\\u05ea\\u05e2\\u05e8\\u05d1 \\u05d1\\u05de\\u05d9\\u05d3\\u05ea \\u05e2\\u05d5\\u05e0\\u05e9\\u05dd \\u05e9\\u05dc \\u05d4\\u05de\\u05d1\\u05e7\\u05e9\\u05d9\\u05dd, \\u05d5\\u05d4\\u05d3\\u05d1\\u05e8\\u05d9\\u05dd \\u05e0\\u05d0\\u05de\\u05e8\\u05d9\\u05dd \\u05d1\\u05d9\\u05ea\\u05e8 \\u05e9\\u05d0\\u05ea \\u05db\\u05d0\\u05e9\\u05e8 \\u05de\\u05d3\\u05d5\\u05d1\\u05e8 \\u05d1\\u05d3\\u05d9\\u05d5\\u05df \\u05d1\\\"\\u05d2\\u05dc\\u05d2\\u05d5\\u05dc \\u05e9\\u05dc\\u05d9\\u05e9\\u05d9\\\". 15. \\u05d0\\u05e9\\u05e8 \\u05e2\\u05dc \\u05db\\u05df, \\u05d4\\u05d1\\u05e7\\u05e9\\u05d4 \\u05dc\\u05e8\\u05e9\\u05d5\\u05ea \\u05e2\\u05e8\\u05e2\\u05d5\\u05e8 \\u05e0\\u05d3\\u05d7\\u05d9\\u05ea \\u05d1\\u05d6\\u05d0\\u05ea. \\u05d4\\u05de\\u05d1\\u05e7\\u05e9\\u05d9\\u05dd \\u05d9\\u05ea\\u05d9\\u05d9\\u05e6\\u05d1\\u05d5 \\u05dc\\u05e8\\u05d9\\u05e6\\u05d5\\u05d9 \\u05e2\\u05d5\\u05e0\\u05e9\\u05dd \\u05d1\\u05d9\\u05d5\\u05dd 1.3.2015, \\u05e2\\u05d3 \\u05dc\\u05e9\\u05e2\\u05d4 10:00, \\u05d1\\u05d9\\u05de\\\"\\u05e8 \\u05e0\\u05d9\\u05e6\\u05df, \\u05d0\\u05d5 \\u05e2\\u05dc \\u05e4\\u05d9 \\u05d4\\u05d7\\u05dc\\u05d8\\u05ea \\u05e9\\u05d9\\u05e8\\u05d5\\u05ea \\u05d1\\u05ea\\u05d9 \\u05d4\\u05e1\\u05d5\\u05d4\\u05e8, \\u05db\\u05e9\\u05d1\\u05e8\\u05e9\\u05d5\\u05ea\\u05dd \\u05ea\\u05e2\\u05d5\\u05d3\\u05ea \\u05d6\\u05d4\\u05d5\\u05ea \\u05d0\\u05d5 \\u05d3\\u05e8\\u05db\\u05d5\\u05df \\u05d5\\u05e2\\u05d5\\u05ea\\u05e7 \\u05de\\u05d4\\u05d7\\u05dc\\u05d8\\u05d4 \\u05d6\\u05d5. \\u05e2\\u05dc \\u05d4\\u05de\\u05d1\\u05e7\\u05e9\\u05d9\\u05dd \\u05dc\\u05ea\\u05d0\\u05dd \\u05d0\\u05ea \\u05d4\\u05db\\u05e0\\u05d9\\u05e1\\u05d4 \\u05dc\\u05de\\u05d0\\u05e1\\u05e8, \\u05e2\\u05dd \\u05e2\\u05e0\\u05e3 \\u05d0\\u05d1\\u05d7\\u05d5\\u05df \\u05d5\\u05de\\u05d9\\u05d5\\u05df \\u05e9\\u05dc \\u05e9\\u05d9\\u05e8\\u05d5\\u05ea \\u05d1\\u05ea\\u05d9 \\u05d4\\u05e1\\u05d5\\u05d4\\u05e8, \\u05d1\\u05d8\\u05dc\\u05e4\\u05d5\\u05e0\\u05d9\\u05dd: 08-9787377 \\u05d0\\u05d5 08-9787336. \\u05e0\\u05d9\\u05ea\\u05e0\\u05d4 \\u05d1\\u05d9\\u05d5\\u05dd, \\\\u200f\\u05d5\\\\' \\u05d1\\u05e9\\u05d1\\u05d8 \\u05d4\\u05ea\\u05e9\\u05e2\\\"\\u05d4 (\\\\u200f26.1.2015). \\u05ea\\u05d5\\u05e7\\u05e0\\u05d4 \\u05d4\\u05d9\\u05d5\\u05dd, \\u05d6\\\\' \\u05d1\\u05e9\\u05d1\\u05d8 \\u05d4\\u05ea\\u05e9\\u05e2\\\"\\u05d4 (27.1.2015). \\u05e9 \\u05d5 \\u05e4 \\u05d8 _________________________ \"\n        ],\n        \"semantic_type\": \"\",\n        \"description\": \"\"\n      }\n    },\n    {\n      \"column\": \"\\u05d2\\u05d5\\u05e3 \\u05d4\\u05de\\u05e1\\u05de\\u05da \\u05d7\\u05ea\\u05d5\\u05da\",\n      \"properties\": {\n        \"dtype\": \"string\",\n        \"num_unique_values\": 5,\n        \"samples\": [\n          \"['\\u05d4\\u05d7\\u05dc\\u05d8\\u05d4 \\u05d1\\u05ea\\u05d9\\u05e7 \\u05e8\\u05e2\\\"\\u05e4 825/15 \\u05d1\\u05d1\\u05d9\\u05ea \\u05d4\\u05de\\u05e9\\u05e4\\u05d8 \\u05d4\\u05e2\\u05dc\\u05d9\\u05d5\\u05df \\u05e8\\u05e2\\\"\\u05e4 825/15 - \\u05d1\\\\' \\u05dc\\u05e4\\u05e0\\u05d9: \\u05db\\u05d1\\u05d5\\u05d3 \\u05d4\\u05e9\\u05d5\\u05e4\\u05d8 \\u05d7\\\\' \\u05de\\u05dc\\u05e6\\u05e8 \\u05d4\\u05de\\u05d1\\u05e7\\u05e9: \\u05de\\u05e8\\u05d3\\u05db\\u05d9 \\u05e7\\u05d9\\u05e1\\u05d5\\u05e1 \\u05e0\\u05d2\\u05d3 \\u05d4\\u05de\\u05e9\\u05d9\\u05d1\\u05d4: \\u05de\\u05d3\\u05d9\\u05e0\\u05ea \\u05d9\\u05e9\\u05e8\\u05d0\\u05dc \\u05d1\\u05e7\\u05e9\\u05d4 \\u05dc\\u05e2\\u05d9\\u05db\\u05d5\\u05d1 \\u05d1\\u05d9\\u05e6\\u05d5\\u05e2 \\u05e2\\u05d5\\u05e0\\u05e9 \\u05de\\u05d0\\u05e1\\u05e8 \\u05de\\u05ea\\u05d0\\u05e8\\u05d9\\u05da 18.02.2015; \\u05ea\\u05d2\\u05d5\\u05d1\\u05ea \\u05d4\\u05de\\u05e9\\u05d9\\u05d1\\u05d4 \\u05dc\\u05d1\\u05e7\\u05e9\\u05d4 \\u05de\\u05ea\\u05d0\\u05e8\\u05d9\\u05da 19.02.2015 \\u05d1\\u05e9\\u05dd \\u05d4\\u05de\\u05d1\\u05e7\\u05e9: \\u05e2\\u05d5\\\"\\u05d3 \\u05e9\\u05de\\u05d5\\u05d0\\u05dc \\u05d1\\u05e8\\u05d6\\u05e0\\u05d9 \\u05d1\\u05e9\\u05dd \\u05d4\\u05de\\u05e9\\u05d9\\u05d1\\u05d4: \\u05e2\\u05d5\\\"\\u05d3 \\u05e1\\u05d9\\u05d2\\u05dc \\u05d1\\u05dc\\u05d5\\u05dd \\u05d4\\u05d7\\u05dc\\u05d8\\u05d4 \\u05db\\u05de\\u05d1\\u05d5\\u05e7\\u05e9 \\u05d5\\u05db\\u05de\\u05d5\\u05e1\\u05db\\u05dd \\u05d4\\u05de\\u05d1\\u05e7\\u05e9 \\u05d9\\u05ea\\u05d9\\u05d9\\u05e6\\u05d1 \\u05dc\\u05e8\\u05d9\\u05e6\\u05d5\\u05d9 \\u05e2\\u05d5\\u05e0\\u05e9 \\u05d4\\u05de\\u05d0\\u05e1\\u05e8 \\u05e9\\u05e0\\u05d2\\u05d6\\u05e8 \\u05e2\\u05dc\\u05d9\\u05d5 \\u2013 \\u05d1\\u05ea\\u05d0\\u05e8\\u05d9\\u05da 13.04.2015 \\u05e2\\u05d3 \\u05dc\\u05e9\\u05e2\\u05d4 10:00, \\u05d1\\u05d1\\u05d9\\u05de\\\"\\u05e8 \\u05e7\\u05d9\\u05e9\\u05d5\\u05df, \\u05d0\\u05d5 \\u05d1\\u05de\\u05e7\\u05d5\\u05dd \\u05d0\\u05d7\\u05e8 \\u05e2\\u05dc \\u05e4\\u05d9 \\u05d4\\u05d7\\u05dc\\u05d8\\u05ea \\u05e9\\u05d9\\u05e8\\u05d5\\u05ea \\u05d1\\u05ea\\u05d9 \\u05d4\\u05e1\\u05d5\\u05d4\\u05e8, \\u05db\\u05e9\\u05d1\\u05e8\\u05e9\\u05d5\\u05ea\\u05d5 \\u05ea\\u05e2\\u05d5\\u05d3\\u05ea \\u05d6\\u05d4\\u05d5\\u05ea, \\u05d0\\u05d5 \\u05d3\\u05e8\\u05db\\u05d5\\u05df. \\u05e2\\u05dc \\u05d4\\u05de\\u05d1\\u05e7\\u05e9 \\u05dc\\u05ea\\u05d0\\u05dd \\u05d0\\u05ea \\u05d4\\u05db\\u05e0\\u05d9\\u05e1\\u05d4 \\u05dc\\u05de\\u05d0\\u05e1\\u05e8, \\u05db\\u05d5\\u05dc\\u05dc \\u05d4\\u05d0\\u05e4\\u05e9\\u05e8\\u05d5\\u05ea \\u05dc\\u05de\\u05d9\\u05d5\\u05df \\u05de\\u05d5\\u05e7\\u05d3\\u05dd, \\u05e2\\u05dd \\u05e2\\u05e0\\u05e3 \\u05d0\\u05d1\\u05d7\\u05d5\\u05df \\u05d5\\u05de\\u05d9\\u05d5\\u05df \\u05e9\\u05dc \\u05e9\\u05d9\\u05e8\\u05d5\\u05ea \\u05d1\\u05ea\\u05d9 \\u05d4\\u05e1\\u05d5\\u05d4\\u05e8, \\u05d8\\u05dc\\u05e4\\u05d5\\u05e0\\u05d9\\u05dd: 08-9787377 \\u05d0\\u05d5 08-9787336. \\u05e0\\u05d9\\u05ea\\u05e0\\u05d4 \\u05d4\\u05d9\\u05d5\\u05dd, \\\\u200f\\u05d2\\\\' \\u05d1\\u05d0\\u05d3\\u05e8 \\u05d4\\u05ea\\u05e9\\u05e2\\\"\\u05d4 (\\\\u200f22.2.2015). \\u05e9 \\u05d5 \\u05e4 \\u05d8 _________________________ \",\n          \"['\\u05e4\\u05e1\\u05e7 \\u05d3\\u05d9\\u05df \\u05d1\\u05ea\\u05d9\\u05e7 \\u05e8\\u05e2\\\"\\u05e4 2195/15 \\u05d1\\u05d1\\u05d9\\u05ea \\u05d4\\u05de\\u05e9\\u05e4\\u05d8 \\u05d4\\u05e2\\u05dc\\u05d9\\u05d5\\u05df \\u05e8\\u05e2\\\"\\u05e4 2195/15 \\u05e8\\u05e2\\\"\\u05e4 2231/15 \\u05dc\\u05e4\\u05e0\\u05d9: \\u05db\\u05d1\\u05d5\\u05d3 \\u05d4\\u05e9\\u05d5\\u05e4\\u05d8 \\u05e1\\\\' \\u05d2\\\\'\\u05d5\\u05d1\\u05e8\\u05d0\\u05df \\u05db\\u05d1\\u05d5\\u05d3 \\u05d4\\u05e9\\u05d5\\u05e4\\u05d8 \\u05e0\\\\' \\u05d4\\u05e0\\u05d3\\u05dc \\u05db\\u05d1\\u05d5\\u05d3 \\u05d4\\u05e9\\u05d5\\u05e4\\u05d8 \\u05d0\\\\' \\u05e9\\u05d4\\u05dd \\u05d4\\u05de\\u05d1\\u05e7\\u05e9\\u05d9\\u05dd \\u05d1\\u05e8\\u05e2\\\"\\u05e4 2195/15: 1. \\u05d0\\u05d4\\u05d5\\u05d3 \\u05d9\\u05e4\\u05e8\\u05d7 2. \\u05d7\\u05d1\\\\' \\u05d0\\u05d4\\u05d5\\u05d3 \\u05de\\u05d0\\u05d9\\u05e8 \\u05e9\\u05d0\\u05d9\\u05d1\\u05d5\\u05ea \\u05d1\\u05e2\\\"\\u05de 3. \\u05d8\\u05d9\\u05d4\\u05dc \\u05e0\\u05db\\u05e1\\u05d9\\u05dd \\u05d1\\u05e2\\\"\\u05de 4. \\u05dc\\u05d9 \\u05d9\\u05e4\\u05e8\\u05d7 \\u05d4\\u05de\\u05d1\\u05e7\\u05e9\\u05d9\\u05dd \\u05d1\\u05e8\\u05e2\\\"\\u05e4 2231/15: 1. \\u05d9\\u05d5\\u05e1\\u05d9 \\u05dc\\u05d9\\u05d1\\u05d5\\u05d1\\u05d9\\u05e5\\\\' 2. \\u05e8\\u05d9\\u05e0\\u05ea \\u05dc\\u05d9\\u05d1\\u05d5\\u05d1\\u05d9\\u05e5\\\\' \\u05e0\\u05d2\\u05d3 \\u05d4\\u05de\\u05e9\\u05d9\\u05d1\\u05d4: \\u05de\\u05d3\\u05d9\\u05e0\\u05ea \\u05d9\\u05e9\\u05e8\\u05d0\\u05dc \\u05d1\\u05e7\\u05e9\\u05d5\\u05ea \\u05e8\\u05e9\\u05d5\\u05ea \\u05e2\\u05e8\\u05e2\\u05d5\\u05e8 \\u05e2\\u05dc \\u05d4\\u05d7\\u05dc\\u05d8\\u05ea\\u05d5 \\u05e9\\u05dc \\u05d1\\u05d9\\u05ea \\u05d4\\u05de\\u05e9\\u05e4\\u05d8 \\u05d4\\u05de\\u05d7\\u05d5\\u05d6\\u05d9 \\u05de\\u05e8\\u05db\\u05d6-\\u05dc\\u05d5\\u05d3 \\u05de\\u05d9\\u05d5\\u05dd 26.2.2015 \\u05d1\\u05e2\\\"\\u05d7 28595-01-15 \\u05e9\\u05e0\\u05d9\\u05ea\\u05df \\u05e2\\u05dc \\u05d9\\u05d3\\u05d9 \\u05db\\u05d1\\u05d5\\u05d3 \\u05d4\\u05e9\\u05d5\\u05e4\\u05d8\\u05ea \\u05d3\\u05d1\\u05d5\\u05e8\\u05d4 \\u05e2\\u05d8\\u05e8 \\u05ea\\u05d0\\u05e8\\u05d9\\u05da \\u05d4\\u05d9\\u05e9\\u05d9\\u05d1\\u05d4: \\u05db\\\"\\u05d2 \\u05d1\\u05d0\\u05dc\\u05d5\\u05dc \\u05d4\\u05ea\\u05e9\\u05e2\\\"\\u05d4 (7.9.2015) \\u05d1\\u05e9\\u05dd \\u05d4\\u05de\\u05d1\\u05e7\\u05e9\\u05d9\\u05dd \\u05d1\\u05e8\\u05e2\\\"\\u05e4 2195/15: \\u05e2\\u05d5\\\"\\u05d3 \\u05d3\\u05e8\\u05d5\\u05e8 \\u05de\\u05ea\\u05ea\\u05d9\\u05d4\\u05d5; \\u05e2\\u05d5\\\"\\u05d3 \\u05d4\\u05d2\\u05e8 \\u05e0\\u05d2\\u05dc\\u05e8 \\u05d1\\u05e9\\u05dd \\u05d4\\u05de\\u05d1\\u05e7\\u05e9\\u05d9\\u05dd \\u05d1\\u05e8\\u05e2\\\"\\u05e4 2231/15: \\u05e2\\u05d5\\\"\\u05d3 \\u05d9\\u05d4\\u05d5\\u05e9\\u05e2 \\u05e8\\u05d6\\u05e0\\u05d9\\u05e7; \\u05e2\\u05d5\\\"\\u05d3 \\u05e6\\u05d9\\u05d5\\u05df \\u05e1\\u05d4\\u05e8\\u05d0\\u05d9 \\u05d1\\u05e9\\u05dd \\u05d4\\u05de\\u05e9\\u05d9\\u05d1\\u05d4: \\u05e2\\u05d5\\\"\\u05d3 \\u05d0\\u05d1\\u05d9 \\u05d5\\u05e1\\u05d8\\u05e8\\u05de\\u05df; \\u05e2\\u05d5\\\"\\u05d3 \\u05d9\\u05e4\\u05e2\\u05ea \\u05e9\\u05d8\\u05d9\\u05d9\\u05df \\u05e4\\u05e1\\u05e7 \\u05d3\\u05d9\\u05df \\u05d1\\u05d4\\u05de\\u05dc\\u05e6\\u05ea\\u05e0\\u05d5 \\u05d7\\u05d6\\u05e8\\u05d5 \\u05d1\\u05d4\\u05dd \\u05d1\\u05d0\\u05d9 \\u05db\\u05d5\\u05d7 \\u05d4\\u05de\\u05d1\\u05e7\\u05e9\\u05d9\\u05dd \\u05de\\u05d4\\u05d1\\u05e7\\u05e9\\u05d5\\u05ea \\u05dc\\u05de\\u05ea\\u05df \\u05e8\\u05e9\\u05d5\\u05ea \\u05e2\\u05e8\\u05e2\\u05d5\\u05e8, \\u05d5\\u05d4\\u05d1\\u05e7\\u05e9\\u05d5\\u05ea \\u05e0\\u05d3\\u05d7\\u05d5\\u05ea \\u05d1\\u05d6\\u05d4. \\u05e0\\u05d9\\u05ea\\u05df \\u05d4\\u05d9\\u05d5\\u05dd, \\u05db\\\"\\u05d2 \\u05d1\\u05d0\\u05dc\\u05d5\\u05dc \\u05d4\\u05ea\\u05e9\\u05e2\\\"\\u05d4 (\\\\u200f7.9.2015). \\u05e9 \\u05d5 \\u05e4 \\u05d8 \\u05e9 \\u05d5 \\u05e4 \\u05d8 \\u05e9 \\u05d5 \\u05e4 \\u05d8 _________________________ \",\n          \"(13.1.2015); \\u05e8\\u05e2\\\"\\u05e4 8087/14 \\u05e0\\u05d3\\u05d9\\u05dd \\u05d0\\u05e0\\u05d2\\u05e0\\u05d0\\u05e5 \\u05e0\\\\' \\u05de\\u05d3\\u05d9\\u05e0\\u05ea \\u05d9\\u05e9\\u05e8\\u05d0\\u05dc (10.12.2014)). \\u05d4\\u05d1\\u05e7\\u05e9\\u05d4 \\u05e9\\u05dc\\u05e4\\u05e0\\u05d9\\u05d9 \\u05d0\\u05d9\\u05e0\\u05d4 \\u05d7\\u05d5\\u05e8\\u05d2\\u05ea \\u05de\\u05e2\\u05e0\\u05d9\\u05d9\\u05e0\\u05dd \\u05d4\\u05e4\\u05e8\\u05d8\\u05d9 \\u05e9\\u05dc \\u05d4\\u05de\\u05d1\\u05e7\\u05e9\\u05d9\\u05dd, \\u05d5\\u05d7\\u05e8\\u05e3 \\u05d4\\u05d0\\u05de\\u05d5\\u05e8 \\u05d1\\u05d4, \\u05e0\\u05e1\\u05d9\\u05d1\\u05d5\\u05ea \\u05d4\\u05de\\u05e7\\u05e8\\u05d4 \\u05d0\\u05d9\\u05e0\\u05df \\u05de\\u05e2\\u05d5\\u05e8\\u05e8\\u05d5\\u05ea \\u05db\\u05dc \\u05e9\\u05d0\\u05dc\\u05d4 \\u05de\\u05e9\\u05e4\\u05d8\\u05d9\\u05ea \\u05d4\\u05e2\\u05e9\\u05d5\\u05d9\\u05d4 \\u05dc\\u05d4\\u05e6\\u05d3\\u05d9\\u05e7 \\u05e8\\u05e9\\u05d5\\u05ea \\u05e2\\u05e8\\u05e2\\u05d5\\u05e8 \\u05d1\\u05e4\\u05e0\\u05d9 \\u05d1\\u05d9\\u05ea \\u05de\\u05e9\\u05e4\\u05d8 \\u05d6\\u05d4. \\u05db\\u05de\\u05d5 \\u05db\\u05df, \\u05dc\\u05d0 \\u05e2\\u05d5\\u05dc\\u05d4 \\u05d7\\u05e9\\u05e9 \\u05dc\\u05e2\\u05d9\\u05d5\\u05d5\\u05ea \\u05d3\\u05d9\\u05df \\u05db\\u05dc\\u05e4\\u05d9 \\u05d4\\u05de\\u05d1\\u05e7\\u05e9\\u05d9\\u05dd \\u05d0\\u05d5 \\u05db\\u05d9 \\u05de\\u05ea\\u05e7\\u05d9\\u05d9\\u05de\\u05d9\\u05dd \\u05e9\\u05d9\\u05e7\\u05d5\\u05dc\\u05d9 \\u05e6\\u05d3\\u05e7 \\u05db\\u05dc\\u05e4\\u05d9\\u05d4\\u05dd. \\u05d0\\u05e3 \\u05d0\\u05dd \\u05d1\\u05d9\\u05ea \\u05de\\u05e9\\u05e4\\u05d8 \\u05d4\\u05e9\\u05dc\\u05d5\\u05dd \\u05d5\\u05d1\\u05d9\\u05ea \\u05d4\\u05de\\u05e9\\u05e4\\u05d8 \\u05d4\\u05de\\u05d7\\u05d5\\u05d6\\u05d9 \\u05d4\\u05d2\\u05d9\\u05e2\\u05d5 \\u05dc\\u05de\\u05e1\\u05e7\\u05e0\\u05d5\\u05ea \\u05e9\\u05d5\\u05e0\\u05d5\\u05ea, \\u05d0\\u05d9\\u05df \\u05d1\\u05db\\u05da \\u05de\\u05e9\\u05d5\\u05dd \\u05d4\\u05e6\\u05d3\\u05e7\\u05d4 \\u05dc\\u05e7\\u05d9\\u05d9\\u05dd \\u05d3\\u05d9\\u05d5\\u05df \\u05e0\\u05d5\\u05e1\\u05e3 \\u05d1\\u05e2\\u05e0\\u05d9\\u05d9\\u05e0\\u05d5 \\u05e9\\u05dc \\u05d4\\u05de\\u05d1\\u05e7\\u05e9, \\u05d1\\u05e4\\u05e0\\u05d9 \\u05d1\\u05d9\\u05ea \\u05de\\u05e9\\u05e4\\u05d8 \\u05d6\\u05d4 (\\u05e8\\u05e2\\\"\\u05e4 4070/14 \\\\u200f\\u05e4\\u05dc\\u05d5\\u05e0\\u05d9\\u05ea \\u05e0\\\\' \\u05de\\u05d3\\u05d9\\u05e0\\u05ea \\u05d9\\u05e9\\u05e8\\u05d0\\u05dc (17.6.2014); \\u05e8\\u05e2\\\"\\u05e4 2180/14 \\u05e9\\u05de\\u05d5\\u05d0\\u05dc\\u05d9 \\u05e0\\\\' \\u05de\\u05d3\\u05d9\\u05e0\\u05ea \\u05d9\\u05e9\\u05e8\\u05d0\\u05dc (24.4.2014)). 10. \\u05d4\\u05d0\\u05e4\\u05e9\\u05e8\\u05d5\\u05ea \\u05d4\\u05e0\\u05ea\\u05d5\\u05e0\\u05d4 \\u05dc\\u05d1\\u05d9\\u05ea \\u05d4\\u05de\\u05e9\\u05e4\\u05d8 \\u05dc\\u05d4\\u05d9\\u05de\\u05e0\\u05e2 \\u05de\\u05d4\\u05e8\\u05e9\\u05e2\\u05ea\\u05d5 \\u05e9\\u05dc \\u05e0\\u05d0\\u05e9\\u05dd \\u05e9\\u05d1\\u05d9\\u05e6\\u05e2 \\u05e2\\u05d1\\u05d9\\u05e8\\u05d4, \\u05de\\u05e2\\u05d5\\u05d2\\u05e0\\u05ea \\u05d1\\u05e1\\u05e2\\u05d9\\u05e3 71\\u05d0(\\u05d1) \\u05dc\\u05d7\\u05d5\\u05e7 \\u05d4\\u05e2\\u05d5\\u05e0\\u05e9\\u05d9\\u05df, \\u05d5\\u05d4\\u05d9\\u05d0 \\u05de\\u05d4\\u05d5\\u05d5\\u05d4 \\u05d7\\u05e8\\u05d9\\u05d2 \\u05dc\\u05db\\u05dc\\u05dc, \\u05dc\\u05e4\\u05d9\\u05d5 \\u05de\\u05e9\\u05d4\\u05d5\\u05db\\u05d7 \\u05d1\\u05d9\\u05e6\\u05d5\\u05e2\\u05d4 \\u05e9\\u05dc \\u05e2\\u05d1\\u05d9\\u05e8\\u05d4 \\u05d9\\u05e9 \\u05dc\\u05d4\\u05e8\\u05e9\\u05d9\\u05e2 \\u05d0\\u05ea \\u05d4\\u05e0\\u05d0\\u05e9\\u05dd. \\u05d1\\u05de\\u05d9\\u05dc\\u05d9\\u05dd \\u05d0\\u05d7\\u05e8\\u05d5\\u05ea, \\u05ea\\u05d5\\u05e6\\u05d0\\u05d4 \\u05e9\\u05dc \\u05d4\\u05d9\\u05de\\u05e0\\u05e2\\u05d5\\u05ea \\u05de\\u05d4\\u05e8\\u05e9\\u05e2\\u05d4, \\u05d7\\u05e8\\u05e3 \\u05d4\\u05e7\\u05d1\\u05d9\\u05e2\\u05d4 \\u05db\\u05d9 \\u05d4\\u05e0\\u05d0\\u05e9\\u05dd \\u05d1\\u05d9\\u05e6\\u05e2 \\u05d0\\u05ea \\u05d4\\u05e2\\u05d1\\u05d9\\u05e8\\u05d4, \\u05d4\\u05d9\\u05d0 \\u05ea\\u05d5\\u05e6\\u05d0\\u05d4 \\u05d7\\u05e8\\u05d9\\u05d2\\u05d4, \\u05d4\\u05e9\\u05de\\u05d5\\u05e8\\u05d4 \\u05dc\\u05de\\u05e7\\u05e8\\u05d9\\u05dd \\u05de\\u05d9\\u05d5\\u05d7\\u05d3\\u05d9\\u05dd \\u05d5\\u05d9\\u05d5\\u05e6\\u05d0\\u05d9 \\u05d3\\u05d5\\u05e4\\u05df. \\u05e9\\u05e0\\u05d9 \\u05ea\\u05e0\\u05d0\\u05d9\\u05dd \\u05de\\u05e6\\u05d8\\u05d1\\u05e8\\u05d9\\u05dd \\u05e0\\u05e7\\u05d1\\u05e2\\u05d5, \\u05e2\\u05dc \\u05de\\u05e0\\u05ea \\u05dc\\u05d4\\u05d9\\u05de\\u05e0\\u05e2 \\u05de\\u05d4\\u05e8\\u05e9\\u05e2\\u05d4: \\\"\\u05e8\\u05d0\\u05e9\\u05d9\\u05ea, \\u05e2\\u05dc \\u05d4\\u05d4\\u05e8\\u05e9\\u05e2\\u05d4 \\u05dc\\u05e4\\u05d2\\u05d5\\u05e2 \\u05e4\\u05d2\\u05d9\\u05e2\\u05d4 \\u05d7\\u05de\\u05d5\\u05e8\\u05d4 \\u05d1\\u05e9\\u05d9\\u05e7\\u05d5\\u05dd \\u05d4\\u05e0\\u05d0\\u05e9\\u05dd, \\u05d5\\u05e9\\u05e0\\u05d9\\u05ea, \\u05e1\\u05d5\\u05d2 \\u05d4\\u05e2\\u05d1\\u05d9\\u05e8\\u05d4 \\u05de\\u05d0\\u05e4\\u05e9\\u05e8 \\u05dc\\u05d5\\u05d5\\u05ea\\u05e8 \\u05d1\\u05e0\\u05e1\\u05d9\\u05d1\\u05d5\\u05ea \\u05d4\\u05de\\u05e7\\u05e8\\u05d4 \\u05d4\\u05de\\u05e1\\u05d5\\u05d9\\u05dd \\u05e2\\u05dc \\u05d4\\u05d4\\u05e8\\u05e9\\u05e2\\u05d4 \\u05d1\\u05dc\\u05d9 \\u05dc\\u05e4\\u05d2\\u05d5\\u05e2 \\u05d1\\u05d0\\u05d5\\u05e4\\u05df \\u05de\\u05d4\\u05d5\\u05ea\\u05d9 \\u05d1\\u05e9\\u05d9\\u05e7\\u05d5\\u05dc\\u05d9 \\u05d4\\u05e2\\u05e0\\u05d9\\u05e9\\u05d4 \\u05d4\\u05d0\\u05d7\\u05e8\\u05d9\\u05dd\\\" (\\u05e2\\\"\\u05e4 2083/96 \\u05db\\u05ea\\u05d1 \\u05e0\\\\' \\u05de\\u05d3\\u05d9\\u05e0\\u05ea \\u05d9\\u05e9\\u05e8\\u05d0\\u05dc, \\u05e4\\\"\\u05d3 \\u05e0\\u05d1(3) 337 (1997), \\u05e4\\u05e1\\u05e7\\u05d4 7 \\u05dc\\u05e4\\u05e1\\u05e7-\\u05d3\\u05d9\\u05e0\\u05d4 \\u05e9\\u05dc \\u05d4\\u05e9\\u05d5\\u05e4\\u05d8\\u05ea \\u05d3\\\\' \\u05d3\\u05d5\\u05e8\\u05e0\\u05e8). \\u05d9\\u05d9\\u05e9\\u05d5\\u05dd \\u05ea\\u05e0\\u05d0\\u05d9\\u05dd \\u05d0\\u05dc\\u05d4, \\u05d1\\u05e0\\u05e1\\u05d9\\u05d1\\u05d5\\u05ea \\u05d4\\u05de\\u05e7\\u05e8\\u05d4, \\u05de\\u05d5\\u05d1\\u05d9\\u05dc \\u05dc\\u05de\\u05e1\\u05e7\\u05e0\\u05d4 \\u05db\\u05d9 \\u05e2\\u05e0\\u05d9\\u05d9\\u05e0\\u05dd \\u05e9\\u05dc \\u05d4\\u05de\\u05d1\\u05e7\\u05e9\\u05d9\\u05dd \\u05d0\\u05d9\\u05e0\\u05e0\\u05d5 \\u05e0\\u05de\\u05e0\\u05d4 \\u05e2\\u05dc \\u05d0\\u05d5\\u05ea\\u05dd \\u05de\\u05e7\\u05e8\\u05d9\\u05dd \\u05d7\\u05e8\\u05d9\\u05d2\\u05d9\\u05dd, \\u05e9\\u05e7\\u05d9\\u05d9\\u05de\\u05ea \\u05d1\\u05d4\\u05dd \\u05d4\\u05e6\\u05d3\\u05e7\\u05d4 \\u05dc\\u05d4\\u05d9\\u05de\\u05e0\\u05e2\\u05d5\\u05ea \\u05de\\u05d4\\u05e8\\u05e9\\u05e2\\u05d4. 11. \\u05d1\\u05de\\u05e1\\u05d2\\u05e8\\u05ea \\u05e4\\u05e1\\u05e7 \\u05d3\\u05d9\\u05e0\\u05d5, \\u05d4\\u05ea\\u05d9\\u05d9\\u05d7\\u05e1 \\u05d1\\u05d9\\u05ea \\u05d4\\u05de\\u05e9\\u05e4\\u05d8 \\u05d4\\u05de\\u05d7\\u05d5\\u05d6\\u05d9, \\u05dc\\u05d7\\u05d5\\u05de\\u05e8\\u05ea \\u05d4\\u05e2\\u05d1\\u05d9\\u05e8\\u05d5\\u05ea \\u05e9\\u05d1\\u05d5\\u05e6\\u05e2\\u05d5 \\u05e2\\u05dc-\\u05d9\\u05d3\\u05d9 \\u05d4\\u05de\\u05d1\\u05e7\\u05e9\\u05d9\\u05dd, \\u05d1\\u05e7\\u05d5\\u05d1\\u05e2\\u05d5 \\u05db\\u05d9: \\\"\\u05dc\\u05d0 \\u05e8\\u05d0\\u05d9\\u05e0\\u05d5 \\u05dc\\u05d4\\u05e1\\u05ea\\u05e4\\u05e7 \\u05d1\\u05d3\\u05e8\\u05da \\u05d1\\u05d4 \\u05d4\\u05dc\\u05da \\u05d1\\u05d9\\u05ea \\u05d4\\u05de\\u05e9\\u05e4\\u05d8 \\u05e7\\u05de\\u05d0, \\u05d5\\u05d4\\u05e1\\u05d9\\u05db\\u05d5\\u05df \\u05d4\\u05e8\\u05d1 \\u05d4\\u05e0\\u05e9\\u05e7\\u05e3 \\u05de\\u05d9\\u05d9\\u05d3\\u05d5\\u05d9 \\u05d4\\u05d0\\u05d1\\u05e0\\u05d9\\u05dd \\u05d5\\u05de\\u05d0\\u05dc\\u05d9\\u05de\\u05d5\\u05ea \\u05db\\u05dc\\u05e4\\u05d9 \\u05e9\\u05d5\\u05d8\\u05e8\\u05d9\\u05dd, \\u05de\\u05d7\\u05d9\\u05d9\\u05d1 \\u05e2\\u05de\\u05d3\\u05d4 \\u05e2\\u05d5\\u05e0\\u05e9\\u05d9\\u05ea \\u05e0\\u05d7\\u05e8\\u05e6\\u05ea \\u05e9\\u05d9\\u05e9 \\u05d1\\u05d4 \\\\'\\u05dc\\u05d4\\u05e8\\u05ea\\u05d9\\u05e2 \\u05d0\\u05ea \\u05d4\\u05de\\u05d1\\u05e6\\u05e2 \\u05e2\\u05e6\\u05de\\u05d5 \\u05d5\\u05d0\\u05ea \\u05d4\\u05e2\\u05d1\\u05e8\\u05d9\\u05d9\\u05e0\\u05d9\\u05dd \\u05d1\\u05db\\u05d5\\u05d7, \\u05e6\\u05e2\\u05d9\\u05e8\\u05d9\\u05dd \\u05d4\\u05de\\u05ea\\u05e4\\u05ea\\u05d9\\u05dd \\u05e2\\u05dc \\u05e0\\u05e7\\u05dc\\u05d4 \\u05dc\\u05d4\\u05e9\\u05dc\\u05d9\\u05da \\u05d0\\u05d1\\u05e0\\u05d9\\u05dd \\u05d5\\u05d1\\u05e7\\u05d1\\u05d5\\u05e7\\u05d9 \\u05ea\\u05d1\\u05e2\\u05e8\\u05d4 \\u05d5\\u05dc\\u05e1\\u05db\\u05df \\u05d7\\u05d9\\u05d9 \\u05d0\\u05d3\\u05dd\\\\'...\\u05dc\\u05db\\u05df, \\u05d1\\u05d4\\u05d1\\u05d9\\u05d0\\u05e0\\u05d5 \\u05d1\\u05de\\u05e1\\u05d2\\u05e8\\u05ea \\u05d4\\u05e9\\u05d9\\u05e7\\u05d5\\u05dc\\u05d9\\u05dd \\u05d0\\u05ea \\u05d4\\u05e0\\u05e1\\u05d9\\u05d1\\u05d5\\u05ea \\u05d5\\u05d0\\u05ea \\u05d4\\u05d7\\u05d5\\u05de\\u05e8\\u05d4 \\u05e9\\u05d9\\u05e9 \\u05dc\\u05d9\\u05d9\\u05d7\\u05e1 \\u05dc\\u05e2\\u05d1\\u05d9\\u05e8\\u05d5\\u05ea \\u05d0\\u05dc\\u05d9\\u05de\\u05d5\\u05ea \\u05db\\u05dc\\u05e4\\u05d9 \\u05e9\\u05d5\\u05d8\\u05e8\\u05d9\\u05dd \\u05d5\\u05d4\\u05ea\\u05e4\\u05e8\\u05e2\\u05d5\\u05d9\\u05d5\\u05ea \\u05e9\\u05d1\\u05de\\u05d4\\u05dc\\u05db\\u05df \\u05de\\u05d9\\u05d9\\u05d3\\u05d9\\u05dd \\u05e7\\u05d8\\u05d9\\u05e0\\u05d9\\u05dd \\u05d0\\u05d1\\u05e0\\u05d9\\u05dd \\u05d5\\u05de\\u05d5\\u05e9\\u05dc\\u05db\\u05d9\\u05dd \\u05d0\\u05e3 \\u05d1\\u05e7\\u05d1\\u05d5\\u05e7\\u05d9 \\u05ea\\u05d1\\u05e2\\u05e8\\u05d4, \\u05ea\\u05d5\\u05e4\\u05e2\\u05d4 \\u05d4\\u05d4\\u05d5\\u05dc\\u05db\\u05ea \\u05d5\\u05de\\u05ea\\u05e2\\u05e6\\u05de\\u05ea \\u05de\\u05d6\\u05d4 \\u05d6\\u05de\\u05df \\u05d0\\u05e8\\u05d5\\u05da, \\u05d0\\u05e0\\u05d5 \\u05e1\\u05d1\\u05d5\\u05e8\\u05d9\\u05dd \\u05db\\u05d9 \\u05e8\\u05d0\\u05d5\\u05d9 \\u05dc\\u05d4\\u05e2\\u05d1\\u05d9\\u05e8 \\u05de\\u05e1\\u05e8 \\u05d0\\u05d7\\u05d3 \\u05d1\\u05e2\\u05d1\\u05d9\\u05e8\\u05d5\\u05ea \\u05db\\u05d0\\u05dc\\u05d4 \\u05db\\u05d9 \\u05d0\\u05d9\\u05df \\u05dc\\u05d4\\u05e1\\u05ea\\u05e4\\u05e7 \\u05d1\\u05e4\\u05df \\u05d4\\u05e9\\u05d9\\u05e7\\u05d5\\u05de\\u05d9 \\u05d5\\u05d4\\u05db\\u05dc\\u05dc \\u05d4\\u05d5\\u05d0 \\u05db\\u05d9 \\u05d9\\u05e9 \\u05dc\\u05d4\\u05e8\\u05e9\\u05d9\\u05e2 \\u05d0\\u05ea \\u05d4\\u05de\\u05e9\\u05d9\\u05d1\\u05d9\\u05dd \\u05d0\\u05e3 \\u05d0\\u05dd \\u05de\\u05d3\\u05d5\\u05d1\\u05e8 \\u05d1\\u05e7\\u05d8\\u05d9\\u05e0\\u05d9\\u05dd \\u05e9\\u05d6\\u05d5 \\u05dc\\u05d4\\u05dd \\u05d4\\u05e2\\u05d1\\u05d9\\u05e8\\u05d4 \\u05d4\\u05e8\\u05d0\\u05e9\\u05d5\\u05e0\\u05d4...\\\" \\u05dc\\u05d8\\u05e2\\u05de\\u05d9, \\u05d1\\u05d9\\u05ea \\u05d4\\u05de\\u05e9\\u05e4\\u05d8 \\u05d4\\u05de\\u05d7\\u05d5\\u05d6\\u05d9 \\u05e6\\u05d3\\u05e7 \\u05d1\\u05e7\\u05d1\\u05d9\\u05e2\\u05ea\\u05d5 \\u05d6\\u05d5, \\u05e9\\u05db\\u05df \\u05e1\\u05d5\\u05d2 \\u05d4\\u05e2\\u05d1\\u05d9\\u05e8\\u05d4 \\u05d5\\u05e0\\u05e1\\u05d9\\u05d1\\u05d5\\u05ea\\u05d9\\u05d4, \\u05d0\\u05d9\\u05e0\\u05dd \\u05de\\u05d0\\u05e4\\u05e9\\u05e8\\u05d9\\u05dd, \\u05d1\\u05e0\\u05d3\\u05d5\\u05df \\u05d3\\u05d9\\u05d3\\u05df, \\u05dc\\u05d4\\u05d9\\u05de\\u05e0\\u05e2 \\u05de\\u05d4\\u05e8\\u05e9\\u05e2\\u05d4. 12. \\u05d1\\u05db\\u05dc \\u05d4\\u05e0\\u05d5\\u05d2\\u05e2 \\u05dc\\u05e9\\u05d0\\u05dc\\u05d4 \\u05e9\\u05e2\\u05e0\\u05d9\\u05d9\\u05e0\\u05d4 \\u05d4\\u05e4\\u05d2\\u05d9\\u05e2\\u05d4 \\u05d1\\u05e6\\u05d5\\u05e8\\u05db\\u05d9 \\u05e9\\u05d9\\u05e7\\u05d5\\u05de\\u05d5 \\u05e9\\u05dc \\u05d4\\u05e0\\u05d0\\u05e9\\u05dd, \\u05e0\\u05e7\\u05d1\\u05e2, \\u05db\\u05d9 \\u05d0\\u05d9\\u05df \\u05de\\u05e7\\u05d5\\u05dd \\u05dc\\u05d4\\u05e1\\u05ea\\u05e4\\u05e7 \\u05d1\\\"\\u05ea\\u05e8\\u05d7\\u05d9\\u05e9 \\u05ea\\u05d9\\u05d0\\u05d5\\u05e8\\u05d8\\u05d9\\\", \\u05d5\\u05d9\\u05e9 \\u05dc\\u05d4\\u05e6\\u05d1\\u05d9\\u05e2 \\u05e2\\u05dc \\u05e7\\u05d9\\u05d5\\u05de\\u05d5 \\u05e9\\u05dc \\u05e0\\u05d6\\u05e7 \\\"\\u05de\\u05d5\\u05d7\\u05e9\\u05d9 \\u05d5\\u05e7\\u05d5\\u05e0\\u05e7\\u05e8\\u05d8\\u05d9\\\" \\u05d0\\u05e9\\u05e8 \\u05e6\\u05e4\\u05d5\\u05d9 \\u05dc\\u05e0\\u05d0\\u05e9\\u05dd \\u05db\\u05ea\\u05d5\\u05e6\\u05d0\\u05d4 \\u05de\\u05e2\\u05e6\\u05dd \\u05d4\\u05d4\\u05e8\\u05e9\\u05e2\\u05d4 (\\u05e8\\u05e2\\\"\\u05e4 1439/13 \\\\u200f\\u05e7\\u05e9\\u05ea \\u05e0\\\\' \\u05de\\u05d3\\u05d9\\u05e0\\u05ea \\u05d9\\u05e9\\u05e8\\u05d0\\u05dc (4.3.2013); \\u05e8\\u05e2\\\"\\u05e4 8627/12 \\u05d4\\u05e0\\u05e1\\u05d1 \\u05e0\\\\' \\u05de\\u05d3\\u05d9\\u05e0\\u05ea \\u05d9\\u05e9\\u05e8\\u05d0\\u05dc (31.12.2012)). \\u05d9\\u05e6\\u05d5\\u05d9\\u05d9\\u05df, \\u05db\\u05d9 \\u05d3\\u05e8\\u05d9\\u05e9\\u05d4 \\u05d6\\u05d5 \\u05d0\\u05d9\\u05e0\\u05d4 \\u05de\\u05ea\\u05d9\\u05d9\\u05ea\\u05e8\\u05ea, \\u05d2\\u05dd \\u05db\\u05d0\\u05e9\\u05e8 \\u05de\\u05d3\\u05d5\\u05d1\\u05e8 \\u05d1\\u05e7\\u05d8\\u05d9\\u05e0\\u05d9\\u05dd (\\u05e8\\u05d0\\u05d5 \\u05e2\\u05de\\u05d3\\u05ea\\u05d9 \\u05d1\\u05e2\\\"\\u05e4 5931/13 \\u05e4\\u05dc\\u05d5\\u05e0\\u05d9 \\u05e0\\\\' \\u05de\\u05d3\\u05d9\\u05e0\\u05ea \\u05d9\\u05e9\\u05e8\\u05d0\\u05dc (10.2.2014); \\u05e8\\u05e2\\\"\\u05e4 2180/14 \\u05e1\\u05e4\\u05d9\\u05e8 \\u05e9\\u05de\\u05d5\\u05d0\\u05dc\\u05d9 \\u05e0\\\\' \\u05de\\u05d3\\u05d9\\u05e0\\u05ea \\u05d9\\u05e9\\u05e8\\u05d0\\u05dc (24.4.2014)). \\u05d1\\u05de\\u05e7\\u05e8\\u05d4 \\u05e9\\u05dc\\u05e4\\u05e0\\u05d9\\u05e0\\u05d5, \\u05dc\\u05d0 \\u05de\\u05e6\\u05d0\\u05ea\\u05d9, \\u05db\\u05d9 \\u05d4\\u05e8\\u05e9\\u05e2\\u05ea \\u05d4\\u05de\\u05d1\\u05e7\\u05e9\\u05d9\\u05dd \\u05ea\\u05e4\\u05d2\\u05e2 \\u05d1\\u05d4\\u05dd \\u05e4\\u05d2\\u05d9\\u05e2\\u05d4 \\u05d7\\u05de\\u05d5\\u05e8\\u05d4, \\u05de\\u05d4 \\u05d2\\u05dd \\u05e9\\u05dc\\u05d0 \\u05e2\\u05dc\\u05d4 \\u05d1\\u05d9\\u05d3\\u05d9 \\u05d4\\u05de\\u05d1\\u05e7\\u05e9\\u05d9\\u05dd \\u05dc\\u05d4\\u05e8\\u05d0\\u05d5\\u05ea, \\u05db\\u05d9 \\u05d4\\u05e8\\u05e9\\u05e2\\u05ea\\u05dd \\u05ea\\u05d5\\u05d1\\u05d9\\u05dc \\u05dc\\u05e4\\u05d2\\u05d9\\u05e2\\u05d4 \\u05de\\u05d4\\u05d5\\u05ea\\u05d9\\u05ea \\u05d5\\u05e7\\u05d5\\u05e0\\u05e7\\u05e8\\u05d8\\u05d9\\u05ea \\u05d1\\u05e2\\u05ea\\u05d9\\u05d3\\u05dd \\u05d0\\u05d5 \\u05d1\\u05e6\\u05d5\\u05e8\\u05db\\u05d9 \\u05e9\\u05d9\\u05e7\\u05d5\\u05de\\u05dd. 13. \\u05dc\\u05de\\u05e2\\u05dc\\u05d4 \\u05de\\u05df \\u05d4\\u05e6\\u05d5\\u05e8\\u05da, \\u05d0\\u05d3\\u05e8\\u05e9, \\u05d1\\u05e7\\u05e6\\u05e8\\u05d4, \\u05dc\\u05d8\\u05e2\\u05e0\\u05d5\\u05ea\\u05d9\\u05d4\\u05dd \\u05e9\\u05dc \\u05d4\\u05de\\u05d1\\u05e7\\u05e9\\u05d9\\u05dd \\u05dc\\u05d2\\u05d5\\u05e4\\u05df. \\u05e8\\u05d0\\u05e9\\u05d9\\u05ea, \\u05d0\\u05d9\\u05df \\u05d1\\u05d9\\u05d3\\u05d9 \\u05dc\\u05e7\\u05d1\\u05dc \\u05d0\\u05ea \\u05d8\\u05e2\\u05e0\\u05ea \\u05d4\\u05de\\u05d1\\u05e7\\u05e9\\u05d9\\u05dd, \\u05dc\\u05e4\\u05d9\\u05d4 \\u05e4\\u05e1\\u05e7 \\u05d3\\u05d9\\u05e0\\u05d5 \\u05e9\\u05dc \\u05d1\\u05d9\\u05ea \\u05d4\\u05de\\u05e9\\u05e4\\u05d8 \\u05d4\\u05de\\u05d7\\u05d5\\u05d6\\u05d9 \\u05e4\\u05d5\\u05d2\\u05e2 \\u05d1\\u05e2\\u05e7\\u05e8\\u05d5\\u05df \\u05d4\\u05e9\\u05d5\\u05d5\\u05d9\\u05d5\\u05df, \\u05de\\u05e9\\u05d5\\u05dd \\u05e9\\u05dc\\u05d3\\u05d1\\u05e8\\u05d9\\u05d4\\u05dd \\u05d4\\u05e2\\u05d5\\u05e0\\u05e9\\u05d9\\u05dd \\u05d0\\u05e9\\u05e8 \\u05d4\\u05d5\\u05d8\\u05dc\\u05d5 \\u05e2\\u05dc\\u05d9\\u05d4\\u05dd \\u05d7\\u05de\\u05d5\\u05e8\\u05d9\\u05dd \\u05de\\u05d0\\u05dc\\u05d4 \\u05e9\\u05d4\\u05d5\\u05d8\\u05dc\\u05d5 \\u05e2\\u05dc \\u05d4\\u05e0\\u05d0\\u05e9\\u05de\\u05d9\\u05dd \\u05d4\\u05e0\\u05d5\\u05e1\\u05e4\\u05d9\\u05dd \\u05e9\\u05d4\\u05d9\\u05d5 \\u05e9\\u05d5\\u05ea\\u05e4\\u05d9\\u05dd \\u05dc\\u05d0\\u05d5\\u05ea\\u05df \\u05d4\\u05ea\\u05e4\\u05e8\\u05e2\\u05d5\\u05d9\\u05d5\\u05ea. \\u05d1\\u05d9\\u05ea \\u05d4\\u05de\\u05e9\\u05e4\\u05d8 \\u05d4\\u05de\\u05d7\\u05d5\\u05d6\\u05d9 \\u05e0\\u05ea\\u05df \\u05d0\\u05ea \\u05d3\\u05e2\\u05ea\\u05d5 \\u05dc\\u05e4\\u05e1\\u05d9\\u05e7\\u05d4 \\u05d0\\u05dc\\u05d9\\u05d4 \\u05d4\\u05e4\\u05e0\\u05d5 \\u05d4\\u05e6\\u05d3\\u05d3\\u05d9\\u05dd, \\u05d5\\u05d4\\u05d1\\u05d4\\u05d9\\u05e8, \\u05db\\u05d9 \\\"\\u05de\\u05e2\\u05e9\\u05d9 \\u05d4\\u05de\\u05e9\\u05d9\\u05d1\\u05d9\\u05dd \\u05d1\\u05de\\u05e7\\u05e8\\u05d4 \\u05d6\\u05d4 \\u05d7\\u05de\\u05d5\\u05e8\\u05d9\\u05dd \\u05d1\\u05d9\\u05d5\\u05ea\\u05e8, \\u05de\\u05e2\\u05d1\\u05e8 \\u05dc\\u05d7\\u05d5\\u05de\\u05e8\\u05d4 \\u05e9\\u05ea\\u05d5\\u05d0\\u05e8\\u05d4 \\u05d1\\u05e8\\u05d1\\u05d9\\u05dd \\u05de\\u05e4\\u05e1\\u05e7\\u05d9 \\u05d4\\u05d3\\u05d9\\u05df \\u05e9\\u05e4\\u05d5\\u05e8\\u05d8\\u05d5 \\u05dc\\u05e2\\u05d9\\u05dc\\\". \\u05de\\u05e2\\u05d1\\u05e8 \\u05dc\\u05d6\\u05d0\\u05ea, \\u05d4\\u05dc\\u05db\\u05d4 \\u05d4\\u05d9\\u05d0, \\u05db\\u05d9 \\u05d4\\u05e9\\u05d2\\u05d4 \\u05e2\\u05dc \\u05de\\u05d9\\u05d3\\u05ea \\u05d4\\u05e2\\u05d5\\u05e0\\u05e9 \\u05d0\\u05d9\\u05df \\u05d1\\u05db\\u05d5\\u05d7\\u05d4 \\u05dc\\u05d4\\u05e6\\u05d3\\u05d9\\u05e7 \\u05de\\u05ea\\u05df \\u05e8\\u05e9\\u05d5\\u05ea \\u05e2\\u05e8\\u05e2\\u05d5\\u05e8, \\u05dc\\u05de\\u05e2\\u05d8 \\u05d1\\u05de\\u05e7\\u05e8\\u05d9\\u05dd \\u05d1\\u05d4\\u05dd \\u05e0\\u05d9\\u05db\\u05e8\\u05ea \\u05d7\\u05e8\\u05d9\\u05d2\\u05d4 \\u05e7\\u05d9\\u05e6\\u05d5\\u05e0\\u05d9\\u05ea \\u05de\\u05de\\u05d3\\u05d9\\u05e0\\u05d9\\u05d5\\u05ea \\u05d4\\u05e2\\u05e0\\u05d9\\u05e9\\u05d4 \\u05d4\\u05e8\\u05d0\\u05d5\\u05d9\\u05d4 \\u05d5\\u05d4\\u05de\\u05e7\\u05d5\\u05d1\\u05dc\\u05ea \\u05d1\\u05de\\u05e7\\u05e8\\u05d9\\u05dd \\u05d3\\u05d5\\u05de\\u05d9\\u05dd (\\u05e8\\u05e2\\\"\\u05e4 8719/14 \\u05d9\\u05e2\\u05e7\\u05d1 \\u05d1\\u05df \\u05d8\\u05d5\\u05dc\\u05d9\\u05dc\\u05d4 \\u05e0\\\\' \\u05de\\u05d3\\u05d9\\u05e0\\u05ea \\u05d9\\u05e9\\u05e8\\u05d0\\u05dc (14.1.2015); \\u05e8\\u05e2\\\"\\u05e4 7584/14 \\u05d0\\u05d1\\u05d5 \\u05e9\\u05d5\\u05e7\\u05d5\\u05e8 \\u05e0\\\\' \\u05de\\u05d3\\u05d9\\u05e0\\u05ea \\u05d9\\u05e9\\u05e8\\u05d0\\u05dc (2.12.2014); \\u05e8\\u05e2\\\"\\u05e4 7641/14 \\u05d0\\u05dc\\u05d8\\u05d5\\u05e8\\u05d9 \\u05e0\\\\' \\u05de\\u05d3\\u05d9\\u05e0\\u05ea \\u05d9\\u05e9\\u05e8\\u05d0\\u05dc (30.11.2014)). \\u05d2\\u05dd \\u05d0\\u05dd \\u05e0\\u05d9\\u05ea\\u05df \\u05d4\\u05d9\\u05d4 \\u05dc\\u05de\\u05e6\\u05d5\\u05d0 \\u05d2\\u05d6\\u05e8\\u05d9 \\u05d3\\u05d9\\u05df \\u05de\\u05e7\\u05dc\\u05d9\\u05dd \\u05d9\\u05d5\\u05ea\\u05e8, \\u05d1\\u05e0\\u05e1\\u05d9\\u05d1\\u05d5\\u05ea \\u05d4\\u05d3\\u05d5\\u05de\\u05d5\\u05ea \\u05dc\\u05e2\\u05e0\\u05d9\\u05d9\\u05e0\\u05e0\\u05d5, \\u05d0\\u05d9\\u05df \\u05d4\\u05d3\\u05d1\\u05e8 \\u05de\\u05e2\\u05d9\\u05d3 \\u05db\\u05d9 \\u05d4\\u05e2\\u05d5\\u05e0\\u05e9 \\u05d0\\u05e9\\u05e8 \\u05d4\\u05d5\\u05e9\\u05ea \\u05e2\\u05dc \\u05d4\\u05de\\u05d1\\u05e7\\u05e9\\u05d9\\u05dd \\u05d7\\u05d5\\u05e8\\u05d2 \\u05d1\\u05d0\\u05d5\\u05e4\\u05df \\u05de\\u05d4\\u05d5\\u05ea\\u05d9 \\u05de\\u05de\\u05d3\\u05d9\\u05e0\\u05d9\\u05d5\\u05ea \\u05d4\\u05e2\\u05e0\\u05d9\\u05e9\\u05d4 \\u05d4\\u05e8\\u05d0\\u05d5\\u05d9\\u05d4. \\u05d1\\u05de\\u05e6\\u05d1 \\u05d3\\u05d1\\u05e8\\u05d9\\u05dd \\u05d6\\u05d4, \\u05e1\\u05d1\\u05d5\\u05e8\\u05e0\\u05d9 \\u05db\\u05d9 \\u05dc\\u05d0 \\u05e0\\u05e4\\u05dc \\u05db\\u05dc \\u05e4\\u05d2\\u05dd \\u05d1\\u05e2\\u05d5\\u05e0\\u05e9\\u05d9\\u05dd \\u05d0\\u05e9\\u05e8 \\u05d4\\u05d5\\u05e9\\u05ea\\u05d5 \\u05e2\\u05dc \\u05d4\\u05de\\u05d1\\u05e7\\u05e9\\u05d9\\u05dd \\u05e2\\u05dc-\\u05d9\\u05d3\\u05d9 \\u05d1\\u05d9\\u05ea \\u05d4\\u05de\\u05e9\\u05e4\\u05d8 \\u05d4\\u05de\\u05d7\\u05d5\\u05d6\\u05d9. 14. \\u05d1\\u05d0\\u05d5\\u05e4\\u05df \\u05d3\\u05d5\\u05de\\u05d4, \\u05dc\\u05d0 \\u05de\\u05e6\\u05d0\\u05ea\\u05d9 \\u05de\\u05de\\u05e9 \\u05d1\\u05d8\\u05e2\\u05e0\\u05ea \\u05d4\\u05de\\u05d1\\u05e7\\u05e9\\u05d9\\u05dd, \\u05db\\u05d9 \\u05d1\\u05d9\\u05ea \\u05d4\\u05de\\u05e9\\u05e4\\u05d8 \\u05d4\\u05de\\u05d7\\u05d5\\u05d6\\u05d9 \\u05dc\\u05d0 \\u05d4\\u05ea\\u05d0\\u05d9\\u05dd \\u05d0\\u05ea \\u05d4\\u05e2\\u05e0\\u05d9\\u05e9\\u05d4 \\u05dc\\u05e0\\u05e1\\u05d9\\u05d1\\u05d5\\u05ea\\u05d9\\u05d4\\u05dd \\u05d4\\u05d0\\u05d9\\u05e9\\u05d9\\u05d5\\u05ea. \\u05dc\\u05e2\\u05e0\\u05d9\\u05d9\\u05df \\u05d6\\u05d4, \\u05e7\\u05d1\\u05e2 \\u05d1\\u05d9\\u05ea \\u05d4\\u05de\\u05e9\\u05e4\\u05d8 \\u05d4\\u05de\\u05d7\\u05d5\\u05d6\\u05d9, \\u05db\\u05d9: \\\"\\u05d1\\u05e6\\u05d3 \\u05d4\\u05d7\\u05d5\\u05de\\u05e8\\u05d4 \\u05e9\\u05e8\\u05d0\\u05d9\\u05e0\\u05d5 \\u05dc\\u05d9\\u05d9\\u05d7\\u05e1 \\u05dc\\u05e2\\u05d1\\u05d9\\u05e8\\u05d5\\u05ea \\u05e9\\u05d1\\u05d4\\u05df \\u05d4\\u05d5\\u05e8\\u05e9\\u05e2\\u05d5 \\u05d4\\u05de\\u05e9\\u05d9\\u05d1\\u05d9\\u05dd, \\u05e0\\u05ea\\u05e0\\u05d5 \\u05d3\\u05e2\\u05ea\\u05e0\\u05d5 \\u05dc\\u05e0\\u05e1\\u05d9\\u05d1\\u05d5\\u05ea\\u05d9\\u05d4\\u05dd \\u05d4\\u05d0\\u05d9\\u05e9\\u05d9\\u05d5\\u05ea \\u05e9\\u05dc \\u05d4\\u05de\\u05e9\\u05d9\\u05d1\\u05d9\\u05dd, \\u05dc\\u05d2\\u05d9\\u05dc\\u05dd \\u05d1\\u05e2\\u05ea \\u05d1\\u05d9\\u05e6\\u05d5\\u05e2 \\u05d4\\u05e2\\u05d1\\u05d9\\u05e8\\u05d5\\u05ea, \\u05dc\\u05ea\\u05e1\\u05e7\\u05d9\\u05e8 \\u05e9\\u05d9\\u05e8\\u05d5\\u05ea \\u05d4\\u05de\\u05d1\\u05d7\\u05df, \\u05dc\\u05d4\\u05e2\\u05d3\\u05e8 \\u05e8\\u05d9\\u05e9\\u05d5\\u05dd \\u05e4\\u05dc\\u05d9\\u05dc\\u05d9 \\u05d5\\u05dc\\u05d4\\u05ea\\u05d9\\u05d9\\u05d7\\u05e1\\u05d5\\u05ea \\u05d1\\u05d9\\u05ea \\u05de\\u05e9\\u05e4\\u05d8 \\u05e7\\u05de\\u05d0 \\u05dc\\u05e0\\u05e1\\u05d9\\u05d1\\u05d5\\u05ea \\u05e9\\u05dc \\u05d4\\u05de\\u05e9\\u05d9\\u05d1\\u05d9\\u05dd \\u05db\\u05d0\\u05de\\u05d5\\u05e8 \\u05d1\\u05d2\\u05d6\\u05e8 \\u05d4\\u05d3\\u05d9\\u05df, \\u05d5\\u05e8\\u05d0\\u05d9\\u05e0\\u05d5 \\u05d0\\u05e3 \\u05dc\\u05d0\\u05de\\u05e5 \\u05d0\\u05ea \\u05d3\\u05d1\\u05e8\\u05d9\\u05d5 \\u05d0\\u05e9\\u05e8 \\u05dc\\u05de\\u05e9\\u05d9\\u05d1\\u05d9\\u05dd \\u05d5\\u05d0\\u05e9\\u05e8 \\u05dc\\u05de\\u05d3\\u05e8\\u05d2 \\u05e9\\u05e7\\u05d1\\u05e2 \\u05d1\\u05e2\\u05e0\\u05d9\\u05e9\\u05d4 \\u05dc\\u05d2\\u05d1\\u05d9\\u05d4\\u05dd \\u05d1\\u05e9\\u05dc \\u05d4\\u05e9\\u05d5\\u05e0\\u05d9 \\u05d1\\u05d2\\u05d9\\u05dc\\u05dd...\\\" \\u05d4\\u05e0\\u05d4 \\u05db\\u05d9 \\u05db\\u05df, \\u05d1\\u05d9\\u05ea \\u05d4\\u05de\\u05e9\\u05e4\\u05d8 \\u05d4\\u05de\\u05d7\\u05d5\\u05d6\\u05d9 \\u05dc\\u05d0 \\u05d4\\u05ea\\u05e2\\u05dc\\u05dd \\u05de\\u05e0\\u05e1\\u05d9\\u05d1\\u05d5\\u05ea\\u05d9\\u05d4\\u05dd \\u05d4\\u05e4\\u05e8\\u05d8\\u05e0\\u05d9\\u05d5\\u05ea \\u05e9\\u05dc \\u05d4\\u05de\\u05d1\\u05e7\\u05e9\\u05d9\\u05dd, \\u05d5\\u05de\\u05d9\\u05ea\\u05e8 \\u05d4\\u05e9\\u05d9\\u05e7\\u05d5\\u05dc\\u05d9\\u05dd \\u05dc\\u05e7\\u05d5\\u05dc\\u05d4. \\u05d1\\u05d9\\u05ea \\u05d4\\u05de\\u05e9\\u05e4\\u05d8 \\u05d4\\u05de\\u05d7\\u05d5\\u05d6\\u05d9 \\u05e0\\u05ea\\u05df \\u05d0\\u05ea \\u05d3\\u05e2\\u05ea\\u05d5 \\u05dc\\u05de\\u05db\\u05dc\\u05d5\\u05dc \\u05e9\\u05d9\\u05e7\\u05d5\\u05dc\\u05d9 \\u05d4\\u05e2\\u05e0\\u05d9\\u05e9\\u05d4 \\u05d4\\u05e8\\u05dc\\u05d5\\u05d5\\u05e0\\u05d8\\u05d9\\u05d9\\u05dd, \\u05d5\\u05e2\\u05e8\\u05da \\u05d1\\u05d9\\u05e0\\u05d9\\u05d4\\u05dd \\u05d0\\u05d9\\u05d6\\u05d5\\u05df \\u05e8\\u05d0\\u05d5\\u05d9, \\u05d1\\u05e0\\u05e1\\u05d9\\u05d1\\u05d5\\u05ea \\u05d4\\u05e2\\u05e0\\u05d9\\u05d9\\u05df. \\u05dc\\u05e4\\u05d9\\u05db\\u05da, \\u05d0\\u05d9\\u05e0\\u05e0\\u05d9 \\u05e8\\u05d5\\u05d0\\u05d4 \\u05db\\u05dc \\u05d4\\u05e6\\u05d3\\u05e7\\u05d4 \\u05dc\\u05d4\\u05ea\\u05e2\\u05e8\\u05d1 \\u05d1\\u05de\\u05d9\\u05d3\\u05ea \\u05e2\\u05d5\\u05e0\\u05e9\\u05dd \\u05e9\\u05dc \\u05d4\\u05de\\u05d1\\u05e7\\u05e9\\u05d9\\u05dd, \\u05d5\\u05d4\\u05d3\\u05d1\\u05e8\\u05d9\\u05dd \\u05e0\\u05d0\\u05de\\u05e8\\u05d9\\u05dd \\u05d1\\u05d9\\u05ea\\u05e8 \\u05e9\\u05d0\\u05ea \\u05db\\u05d0\\u05e9\\u05e8 \\u05de\\u05d3\\u05d5\\u05d1\\u05e8 \\u05d1\\u05d3\\u05d9\\u05d5\\u05df \\u05d1\\\"\\u05d2\\u05dc\\u05d2\\u05d5\\u05dc \\u05e9\\u05dc\\u05d9\\u05e9\\u05d9\\\". 15. \\u05d0\\u05e9\\u05e8 \\u05e2\\u05dc \\u05db\\u05df, \\u05d4\\u05d1\\u05e7\\u05e9\\u05d4 \\u05dc\\u05e8\\u05e9\\u05d5\\u05ea \\u05e2\\u05e8\\u05e2\\u05d5\\u05e8 \\u05e0\\u05d3\\u05d7\\u05d9\\u05ea \\u05d1\\u05d6\\u05d0\\u05ea. \\u05d4\\u05de\\u05d1\\u05e7\\u05e9\\u05d9\\u05dd \\u05d9\\u05ea\\u05d9\\u05d9\\u05e6\\u05d1\\u05d5 \\u05dc\\u05e8\\u05d9\\u05e6\\u05d5\\u05d9 \\u05e2\\u05d5\\u05e0\\u05e9\\u05dd \\u05d1\\u05d9\\u05d5\\u05dd 1.3.2015, \\u05e2\\u05d3 \\u05dc\\u05e9\\u05e2\\u05d4 10:00, \\u05d1\\u05d9\\u05de\\\"\\u05e8 \\u05e0\\u05d9\\u05e6\\u05df, \\u05d0\\u05d5 \\u05e2\\u05dc \\u05e4\\u05d9 \\u05d4\\u05d7\\u05dc\\u05d8\\u05ea \\u05e9\\u05d9\\u05e8\\u05d5\\u05ea \\u05d1\\u05ea\\u05d9 \\u05d4\\u05e1\\u05d5\\u05d4\\u05e8, \\u05db\\u05e9\\u05d1\\u05e8\\u05e9\\u05d5\\u05ea\\u05dd \\u05ea\\u05e2\\u05d5\\u05d3\\u05ea \\u05d6\\u05d4\\u05d5\\u05ea \\u05d0\\u05d5 \\u05d3\\u05e8\\u05db\\u05d5\\u05df \\u05d5\\u05e2\\u05d5\\u05ea\\u05e7 \\u05de\\u05d4\\u05d7\\u05dc\\u05d8\\u05d4 \\u05d6\\u05d5. \\u05e2\\u05dc \\u05d4\\u05de\\u05d1\\u05e7\\u05e9\\u05d9\\u05dd \\u05dc\\u05ea\\u05d0\\u05dd \\u05d0\\u05ea \\u05d4\\u05db\\u05e0\\u05d9\\u05e1\\u05d4 \\u05dc\\u05de\\u05d0\\u05e1\\u05e8, \\u05e2\\u05dd \\u05e2\\u05e0\\u05e3 \\u05d0\\u05d1\\u05d7\\u05d5\\u05df \\u05d5\\u05de\\u05d9\\u05d5\\u05df \\u05e9\\u05dc \\u05e9\\u05d9\\u05e8\\u05d5\\u05ea \\u05d1\\u05ea\\u05d9 \\u05d4\\u05e1\\u05d5\\u05d4\\u05e8, \\u05d1\\u05d8\\u05dc\\u05e4\\u05d5\\u05e0\\u05d9\\u05dd:\"\n        ],\n        \"semantic_type\": \"\",\n        \"description\": \"\"\n      }\n    }\n  ]\n}"
            }
          },
          "metadata": {},
          "execution_count": 75
        }
      ]
    },
    {
      "cell_type": "code",
      "source": [],
      "metadata": {
        "colab": {
          "base_uri": "https://localhost:8080/"
        },
        "id": "yI75UNYF-8eD",
        "outputId": "d8a26b7a-a545-4333-aff8-23c290674572"
      },
      "execution_count": 76,
      "outputs": [
        {
          "output_type": "execute_result",
          "data": {
            "text/plain": [
              "Index(['גוף המסמך', 'מספר הליך', 'שם הליך', 'שנת פתיחת ההליך',\n",
              "       'גוף המסמך חתוך', 'בקשה לרשות ערעור התקבלה?',\n",
              "       'טקסט שמצביע על תוצאת בקשה שונה', 'הערעור התקבל?',\n",
              "       'רע\"פ בקשה אחרת או דלמטה מיוחד', 'הערות ', 'הערות קידוד חוזר',\n",
              "       'טקסט שמצביע על תוצאת בקשה שונה (טקסטים שונים מופרדים ב-**)',\n",
              "       'הערות תוצאת ערעור', 'length'],\n",
              "      dtype='object')"
            ]
          },
          "metadata": {},
          "execution_count": 76
        }
      ]
    },
    {
      "cell_type": "code",
      "source": [
        "df = df[['גוף המסמך', 'מספר הליך', 'שם הליך', 'שנת פתיחת ההליך',\n",
        "       'גוף המסמך חתוך', 'בקשה לרשות ערעור התקבלה?',\n",
        "       'טקסט שמצביע על תוצאת בקשה שונה', 'הערעור התקבל?',\n",
        "       'רע\"פ בקשה אחרת או דלמטה מיוחד', 'הערות ', 'הערות קידוד חוזר',\n",
        "       'טקסט שמצביע על תוצאת בקשה שונה (טקסטים שונים מופרדים ב-**)',\n",
        "       'הערות תוצאת ערעור', 'length',]]"
      ],
      "metadata": {
        "id": "2SuWC1ad7GuW"
      },
      "execution_count": 18,
      "outputs": []
    },
    {
      "cell_type": "code",
      "source": [
        "df.columns = df.columns.str.strip()\n",
        "df.columns = df.columns.str.replace(\"\\n\", \"\")\n",
        "df.columns = df.columns.str.replace(\"  \", \" \")"
      ],
      "metadata": {
        "id": "yAKcKxV--dai"
      },
      "execution_count": 19,
      "outputs": []
    },
    {
      "cell_type": "code",
      "source": [
        "df.rename(columns={\n",
        "    'הערות ':\"הערות\",\n",
        "    'טקסט שמצביע על תוצאת בקשה שונה':\"טקסט שמצביע על תוצאת בקשה\",\n",
        "    \"טקסט שמצביע על תוצאת בקשה שונה (טקסטים שונים מופרדים ב-**)\": \"טקסט שמצביע על התוצאה\"\n",
        "}, inplace=True)\n",
        "\n",
        "df.columns\n"
      ],
      "metadata": {
        "colab": {
          "base_uri": "https://localhost:8080/"
        },
        "id": "kdd6KMu89uSk",
        "outputId": "660a980b-e431-4491-d782-f93ab1bed1eb"
      },
      "execution_count": 20,
      "outputs": [
        {
          "output_type": "execute_result",
          "data": {
            "text/plain": [
              "Index(['גוף המסמך', 'מספר הליך', 'שם הליך', 'שנת פתיחת ההליך',\n",
              "       'גוף המסמך חתוך', 'בקשה לרשות ערעור התקבלה?',\n",
              "       'טקסט שמצביע על תוצאת בקשה', 'הערעור התקבל?',\n",
              "       'רע\"פ בקשה אחרת או דלמטה מיוחד', 'הערות', 'הערות קידוד חוזר',\n",
              "       'טקסט שמצביע על התוצאה', 'הערות תוצאת ערעור', 'length'],\n",
              "      dtype='object')"
            ]
          },
          "metadata": {},
          "execution_count": 20
        }
      ]
    },
    {
      "cell_type": "code",
      "source": [
        "columns_to_merge = [\n",
        "    'טקסט שמצביע על תוצאת בקשה',\n",
        "    'רע\"פ בקשה אחרת או דלמטה מיוחד',  \"הערות\", 'הערות קידוד חוזר',\n",
        "    \"טקסט שמצביע על התוצאה\",\n",
        "    'הערות תוצאת ערעור'\n",
        "]\n",
        "\n",
        "def clean_merge_columns(row, columns):\n",
        "    values = []\n",
        "    for col in columns:\n",
        "        if pd.notna(row[col]) and str(row[col]).strip():\n",
        "            text = f\"{str(row[col]).strip()}\"\n",
        "            text.replace(\"?\", \"\")\n",
        "            text\n",
        "            text = re.sub(r\"הערה של \\S+\\s*\", \"\", text)\n",
        "            values.append(text)\n",
        "\n",
        "    return \"\\n\".join(values) if values else None\n",
        "\n",
        "# יצירת עמודה מאוחדת עם כותרות לכל ערך\n",
        "df[\"תוצאה מסכמת\"] = df.apply(lambda row: clean_merge_columns(row, columns_to_merge), axis=1)\n",
        "\n",
        "\n",
        "# הצגת מספר דוגמאות לבדיקה\n",
        "df[[\"תוצאה מסכמת\"]].head()\n"
      ],
      "metadata": {
        "colab": {
          "base_uri": "https://localhost:8080/",
          "height": 206
        },
        "id": "SIeNQC_W8IBy",
        "outputId": "0f7e9c10-088a-4c0a-d169-263ede830cbb"
      },
      "execution_count": 21,
      "outputs": [
        {
          "output_type": "execute_result",
          "data": {
            "text/plain": [
              "                                           תוצאה מסכמת\n",
              "5    לנוכח כל האמור לעיל – הבקשה למתן רשות ערעור נדחית\n",
              "31              בקשה לעיכוב ביצוע עונש מאסר\\nבקשה אחרת\n",
              "67             אשר על כן, הבקשה לרשות ערעור נדחית בזאת\n",
              "73                                 - זהו פסק דין משלים\n",
              "114  חזרו בהם באי כוח המבקשים מהבקשות למתן רשות ערע..."
            ],
            "text/html": [
              "\n",
              "  <div id=\"df-29672077-8d67-45d3-85b3-0703513e1964\" class=\"colab-df-container\">\n",
              "    <div>\n",
              "<style scoped>\n",
              "    .dataframe tbody tr th:only-of-type {\n",
              "        vertical-align: middle;\n",
              "    }\n",
              "\n",
              "    .dataframe tbody tr th {\n",
              "        vertical-align: top;\n",
              "    }\n",
              "\n",
              "    .dataframe thead th {\n",
              "        text-align: right;\n",
              "    }\n",
              "</style>\n",
              "<table border=\"1\" class=\"dataframe\">\n",
              "  <thead>\n",
              "    <tr style=\"text-align: right;\">\n",
              "      <th></th>\n",
              "      <th>תוצאה מסכמת</th>\n",
              "    </tr>\n",
              "  </thead>\n",
              "  <tbody>\n",
              "    <tr>\n",
              "      <th>5</th>\n",
              "      <td>לנוכח כל האמור לעיל – הבקשה למתן רשות ערעור נדחית</td>\n",
              "    </tr>\n",
              "    <tr>\n",
              "      <th>31</th>\n",
              "      <td>בקשה לעיכוב ביצוע עונש מאסר\\nבקשה אחרת</td>\n",
              "    </tr>\n",
              "    <tr>\n",
              "      <th>67</th>\n",
              "      <td>אשר על כן, הבקשה לרשות ערעור נדחית בזאת</td>\n",
              "    </tr>\n",
              "    <tr>\n",
              "      <th>73</th>\n",
              "      <td>- זהו פסק דין משלים</td>\n",
              "    </tr>\n",
              "    <tr>\n",
              "      <th>114</th>\n",
              "      <td>חזרו בהם באי כוח המבקשים מהבקשות למתן רשות ערע...</td>\n",
              "    </tr>\n",
              "  </tbody>\n",
              "</table>\n",
              "</div>\n",
              "    <div class=\"colab-df-buttons\">\n",
              "\n",
              "  <div class=\"colab-df-container\">\n",
              "    <button class=\"colab-df-convert\" onclick=\"convertToInteractive('df-29672077-8d67-45d3-85b3-0703513e1964')\"\n",
              "            title=\"Convert this dataframe to an interactive table.\"\n",
              "            style=\"display:none;\">\n",
              "\n",
              "  <svg xmlns=\"http://www.w3.org/2000/svg\" height=\"24px\" viewBox=\"0 -960 960 960\">\n",
              "    <path d=\"M120-120v-720h720v720H120Zm60-500h600v-160H180v160Zm220 220h160v-160H400v160Zm0 220h160v-160H400v160ZM180-400h160v-160H180v160Zm440 0h160v-160H620v160ZM180-180h160v-160H180v160Zm440 0h160v-160H620v160Z\"/>\n",
              "  </svg>\n",
              "    </button>\n",
              "\n",
              "  <style>\n",
              "    .colab-df-container {\n",
              "      display:flex;\n",
              "      gap: 12px;\n",
              "    }\n",
              "\n",
              "    .colab-df-convert {\n",
              "      background-color: #E8F0FE;\n",
              "      border: none;\n",
              "      border-radius: 50%;\n",
              "      cursor: pointer;\n",
              "      display: none;\n",
              "      fill: #1967D2;\n",
              "      height: 32px;\n",
              "      padding: 0 0 0 0;\n",
              "      width: 32px;\n",
              "    }\n",
              "\n",
              "    .colab-df-convert:hover {\n",
              "      background-color: #E2EBFA;\n",
              "      box-shadow: 0px 1px 2px rgba(60, 64, 67, 0.3), 0px 1px 3px 1px rgba(60, 64, 67, 0.15);\n",
              "      fill: #174EA6;\n",
              "    }\n",
              "\n",
              "    .colab-df-buttons div {\n",
              "      margin-bottom: 4px;\n",
              "    }\n",
              "\n",
              "    [theme=dark] .colab-df-convert {\n",
              "      background-color: #3B4455;\n",
              "      fill: #D2E3FC;\n",
              "    }\n",
              "\n",
              "    [theme=dark] .colab-df-convert:hover {\n",
              "      background-color: #434B5C;\n",
              "      box-shadow: 0px 1px 3px 1px rgba(0, 0, 0, 0.15);\n",
              "      filter: drop-shadow(0px 1px 2px rgba(0, 0, 0, 0.3));\n",
              "      fill: #FFFFFF;\n",
              "    }\n",
              "  </style>\n",
              "\n",
              "    <script>\n",
              "      const buttonEl =\n",
              "        document.querySelector('#df-29672077-8d67-45d3-85b3-0703513e1964 button.colab-df-convert');\n",
              "      buttonEl.style.display =\n",
              "        google.colab.kernel.accessAllowed ? 'block' : 'none';\n",
              "\n",
              "      async function convertToInteractive(key) {\n",
              "        const element = document.querySelector('#df-29672077-8d67-45d3-85b3-0703513e1964');\n",
              "        const dataTable =\n",
              "          await google.colab.kernel.invokeFunction('convertToInteractive',\n",
              "                                                    [key], {});\n",
              "        if (!dataTable) return;\n",
              "\n",
              "        const docLinkHtml = 'Like what you see? Visit the ' +\n",
              "          '<a target=\"_blank\" href=https://colab.research.google.com/notebooks/data_table.ipynb>data table notebook</a>'\n",
              "          + ' to learn more about interactive tables.';\n",
              "        element.innerHTML = '';\n",
              "        dataTable['output_type'] = 'display_data';\n",
              "        await google.colab.output.renderOutput(dataTable, element);\n",
              "        const docLink = document.createElement('div');\n",
              "        docLink.innerHTML = docLinkHtml;\n",
              "        element.appendChild(docLink);\n",
              "      }\n",
              "    </script>\n",
              "  </div>\n",
              "\n",
              "\n",
              "<div id=\"df-0eb45fe7-13c6-4c15-a899-0b0bfb062164\">\n",
              "  <button class=\"colab-df-quickchart\" onclick=\"quickchart('df-0eb45fe7-13c6-4c15-a899-0b0bfb062164')\"\n",
              "            title=\"Suggest charts\"\n",
              "            style=\"display:none;\">\n",
              "\n",
              "<svg xmlns=\"http://www.w3.org/2000/svg\" height=\"24px\"viewBox=\"0 0 24 24\"\n",
              "     width=\"24px\">\n",
              "    <g>\n",
              "        <path d=\"M19 3H5c-1.1 0-2 .9-2 2v14c0 1.1.9 2 2 2h14c1.1 0 2-.9 2-2V5c0-1.1-.9-2-2-2zM9 17H7v-7h2v7zm4 0h-2V7h2v10zm4 0h-2v-4h2v4z\"/>\n",
              "    </g>\n",
              "</svg>\n",
              "  </button>\n",
              "\n",
              "<style>\n",
              "  .colab-df-quickchart {\n",
              "      --bg-color: #E8F0FE;\n",
              "      --fill-color: #1967D2;\n",
              "      --hover-bg-color: #E2EBFA;\n",
              "      --hover-fill-color: #174EA6;\n",
              "      --disabled-fill-color: #AAA;\n",
              "      --disabled-bg-color: #DDD;\n",
              "  }\n",
              "\n",
              "  [theme=dark] .colab-df-quickchart {\n",
              "      --bg-color: #3B4455;\n",
              "      --fill-color: #D2E3FC;\n",
              "      --hover-bg-color: #434B5C;\n",
              "      --hover-fill-color: #FFFFFF;\n",
              "      --disabled-bg-color: #3B4455;\n",
              "      --disabled-fill-color: #666;\n",
              "  }\n",
              "\n",
              "  .colab-df-quickchart {\n",
              "    background-color: var(--bg-color);\n",
              "    border: none;\n",
              "    border-radius: 50%;\n",
              "    cursor: pointer;\n",
              "    display: none;\n",
              "    fill: var(--fill-color);\n",
              "    height: 32px;\n",
              "    padding: 0;\n",
              "    width: 32px;\n",
              "  }\n",
              "\n",
              "  .colab-df-quickchart:hover {\n",
              "    background-color: var(--hover-bg-color);\n",
              "    box-shadow: 0 1px 2px rgba(60, 64, 67, 0.3), 0 1px 3px 1px rgba(60, 64, 67, 0.15);\n",
              "    fill: var(--button-hover-fill-color);\n",
              "  }\n",
              "\n",
              "  .colab-df-quickchart-complete:disabled,\n",
              "  .colab-df-quickchart-complete:disabled:hover {\n",
              "    background-color: var(--disabled-bg-color);\n",
              "    fill: var(--disabled-fill-color);\n",
              "    box-shadow: none;\n",
              "  }\n",
              "\n",
              "  .colab-df-spinner {\n",
              "    border: 2px solid var(--fill-color);\n",
              "    border-color: transparent;\n",
              "    border-bottom-color: var(--fill-color);\n",
              "    animation:\n",
              "      spin 1s steps(1) infinite;\n",
              "  }\n",
              "\n",
              "  @keyframes spin {\n",
              "    0% {\n",
              "      border-color: transparent;\n",
              "      border-bottom-color: var(--fill-color);\n",
              "      border-left-color: var(--fill-color);\n",
              "    }\n",
              "    20% {\n",
              "      border-color: transparent;\n",
              "      border-left-color: var(--fill-color);\n",
              "      border-top-color: var(--fill-color);\n",
              "    }\n",
              "    30% {\n",
              "      border-color: transparent;\n",
              "      border-left-color: var(--fill-color);\n",
              "      border-top-color: var(--fill-color);\n",
              "      border-right-color: var(--fill-color);\n",
              "    }\n",
              "    40% {\n",
              "      border-color: transparent;\n",
              "      border-right-color: var(--fill-color);\n",
              "      border-top-color: var(--fill-color);\n",
              "    }\n",
              "    60% {\n",
              "      border-color: transparent;\n",
              "      border-right-color: var(--fill-color);\n",
              "    }\n",
              "    80% {\n",
              "      border-color: transparent;\n",
              "      border-right-color: var(--fill-color);\n",
              "      border-bottom-color: var(--fill-color);\n",
              "    }\n",
              "    90% {\n",
              "      border-color: transparent;\n",
              "      border-bottom-color: var(--fill-color);\n",
              "    }\n",
              "  }\n",
              "</style>\n",
              "\n",
              "  <script>\n",
              "    async function quickchart(key) {\n",
              "      const quickchartButtonEl =\n",
              "        document.querySelector('#' + key + ' button');\n",
              "      quickchartButtonEl.disabled = true;  // To prevent multiple clicks.\n",
              "      quickchartButtonEl.classList.add('colab-df-spinner');\n",
              "      try {\n",
              "        const charts = await google.colab.kernel.invokeFunction(\n",
              "            'suggestCharts', [key], {});\n",
              "      } catch (error) {\n",
              "        console.error('Error during call to suggestCharts:', error);\n",
              "      }\n",
              "      quickchartButtonEl.classList.remove('colab-df-spinner');\n",
              "      quickchartButtonEl.classList.add('colab-df-quickchart-complete');\n",
              "    }\n",
              "    (() => {\n",
              "      let quickchartButtonEl =\n",
              "        document.querySelector('#df-0eb45fe7-13c6-4c15-a899-0b0bfb062164 button');\n",
              "      quickchartButtonEl.style.display =\n",
              "        google.colab.kernel.accessAllowed ? 'block' : 'none';\n",
              "    })();\n",
              "  </script>\n",
              "</div>\n",
              "\n",
              "    </div>\n",
              "  </div>\n"
            ],
            "application/vnd.google.colaboratory.intrinsic+json": {
              "type": "dataframe",
              "summary": "{\n  \"name\": \"df[[\\\"\\u05ea\\u05d5\\u05e6\\u05d0\\u05d4 \\u05de\\u05e1\\u05db\\u05de\\u05ea\\\"]]\",\n  \"rows\": 5,\n  \"fields\": [\n    {\n      \"column\": \"\\u05ea\\u05d5\\u05e6\\u05d0\\u05d4 \\u05de\\u05e1\\u05db\\u05de\\u05ea\",\n      \"properties\": {\n        \"dtype\": \"string\",\n        \"num_unique_values\": 5,\n        \"samples\": [\n          \"\\u05d1\\u05e7\\u05e9\\u05d4 \\u05dc\\u05e2\\u05d9\\u05db\\u05d5\\u05d1 \\u05d1\\u05d9\\u05e6\\u05d5\\u05e2 \\u05e2\\u05d5\\u05e0\\u05e9 \\u05de\\u05d0\\u05e1\\u05e8\\n\\u05d1\\u05e7\\u05e9\\u05d4 \\u05d0\\u05d7\\u05e8\\u05ea\",\n          \"\\u05d7\\u05d6\\u05e8\\u05d5 \\u05d1\\u05d4\\u05dd \\u05d1\\u05d0\\u05d9 \\u05db\\u05d5\\u05d7 \\u05d4\\u05de\\u05d1\\u05e7\\u05e9\\u05d9\\u05dd \\u05de\\u05d4\\u05d1\\u05e7\\u05e9\\u05d5\\u05ea \\u05dc\\u05de\\u05ea\\u05df \\u05e8\\u05e9\\u05d5\\u05ea \\u05e2\\u05e8\\u05e2\\u05d5\\u05e8, \\u05d5\\u05d4\\u05d1\\u05e7\\u05e9\\u05d5\\u05ea \\u05e0\\u05d3\\u05d7\\u05d5\\u05ea \\u05d1\\u05d6\\u05d4\",\n          \"\\u05d0\\u05e9\\u05e8 \\u05e2\\u05dc \\u05db\\u05df, \\u05d4\\u05d1\\u05e7\\u05e9\\u05d4 \\u05dc\\u05e8\\u05e9\\u05d5\\u05ea \\u05e2\\u05e8\\u05e2\\u05d5\\u05e8 \\u05e0\\u05d3\\u05d7\\u05d9\\u05ea \\u05d1\\u05d6\\u05d0\\u05ea\"\n        ],\n        \"semantic_type\": \"\",\n        \"description\": \"\"\n      }\n    }\n  ]\n}"
            }
          },
          "metadata": {},
          "execution_count": 21
        }
      ]
    },
    {
      "cell_type": "code",
      "source": [
        "\n",
        "for i in range(3):\n",
        "    print(f\"פסק דין {i+1} (תוצאה מסכמת):\\n\")\n",
        "    print(df[\"תוצאה מסכמת\"].iloc[i])\n",
        "    print(\"=\"*80)\n"
      ],
      "metadata": {
        "colab": {
          "base_uri": "https://localhost:8080/"
        },
        "id": "bqBlYGtW7B_u",
        "outputId": "fdbf5a56-9c18-4322-f0fe-00998addd19e"
      },
      "execution_count": 22,
      "outputs": [
        {
          "output_type": "stream",
          "name": "stdout",
          "text": [
            "פסק דין 1 (תוצאה מסכמת):\n",
            "\n",
            "לנוכח כל האמור לעיל – הבקשה למתן רשות ערעור נדחית\n",
            "================================================================================\n",
            "פסק דין 2 (תוצאה מסכמת):\n",
            "\n",
            "בקשה לעיכוב ביצוע עונש מאסר\n",
            "בקשה אחרת\n",
            "================================================================================\n",
            "פסק דין 3 (תוצאה מסכמת):\n",
            "\n",
            "אשר על כן, הבקשה לרשות ערעור נדחית בזאת\n",
            "================================================================================\n"
          ]
        }
      ]
    },
    {
      "cell_type": "code",
      "source": [
        "pd.set_option('display.max_colwidth', None)\n",
        "\n",
        "df[[\"גוף המסמך חתוך\", \"תוצאה מסכמת\"]].sample(5, random_state=42)"
      ],
      "metadata": {
        "colab": {
          "base_uri": "https://localhost:8080/",
          "height": 935
        },
        "id": "3sAWoccf8nIb",
        "outputId": "b92c89b7-9adc-4d7f-fff7-a176c3f2cbbc"
      },
      "execution_count": 23,
      "outputs": [
        {
          "output_type": "execute_result",
          "data": {
            "text/plain": [
              "                                                                                                                                                                                                                                                                                                                                                                                                                                                                                                                                                                                                                                                                                                                                                                                                                                                                                                                                                                                                                                                                                                                                                                                                                                                                                                                                                                                                                                                                                                                                                                                                                                                                                                                                                  גוף המסמך חתוך  \\\n",
              "3004                                                                                                                                                                                                                                                                                                                                                                                                                                                                                                                                                                                                                                                                                                                                                                                                                                                                                                                                                                                                                                       ['פסק דין בתיק רע\"פ 4386/08 בבית המשפט העליון רע\"פ 4386/08 בפני: כבוד השופטת א\\' פרוקצ\\'יה כבוד השופט א\\' רובינשטיין כבוד השופט ס\\' ג\\'ובראן המבקש: גד כהן נגד המשיבה: מדינת ישראל בקשת רשות ערעור על פסק-דינו של בית המשפט המחוזי בירושלים מיום 30.4.08 בע\"פ 2074/08 שניתן על-ידי כבוד השופט ע\\' חבש – סג\"נ בשם המבקש: עו\"ד דוד גולן בשם המשיבה: עו\"ד מיטל בוכמן-שינדל פסק דין לאור הסכמת הצדדים, המוצאת את ביטויה בסעיף 3 לתגובת המשיבה, ניתנת בזאת רשות ערעור, והערעור מתקבל במובן זה שפסקי הדין נשוא הבקשה שניתנו בעניינו של המבקש מבוטלים בזאת, והתיק מוחזר לבית משפט השלום לתעבורה בירושלים לדיון מחודש בעניינו. ניתן היום, א\\' בחשון התשס\"ט (30.10.2008). ש ו פ ט ת ש ו פ ט ש ו פ ט _________________________    \n",
              "1922                                                                                                                                                                                                                                                                                                                                                                                                                                                                                                                                                                                                                                                                                                                                                                                                                                                                                                                                                                                                                                                                                                                                                                                                                                                                                                                                                                                                                                                       ['החלטה בתיק רע\"פ 1682/11 בבית המשפט העליון רע\"פ 1682/11 בפני: כבוד השופט ס\\' ג\\'ובראן המבקש: ואיל מזערה נגד המשיבה: מדינת ישראל בקשה לדחיית מועד תחילת ריצוי עונש המאסר בשם המבקש: עו\"ד מאליק מנצור החלטה הבקשה נדחית. ניתנה היום, כ\"ה באדר ב התשע\"א (31.3.2011). ש ו פ ט _________________________    \n",
              "3096  ['החלטה בתיק בש\"פ 1092/17 בבית המשפט העליון רע\"פ 1092/17 לפני: כבוד השופטת ד\\' ברק-ארז המערערים: 1. כפיר דהן 2. שירה דהן נגד המשיבה: הוועדה המקומית לתכנון ובניה מטה יהודה בקשת רשות ערעור על פסק דינו של בית המשפט המחוזי בירושלים מיום 30.1.2017 בע\"פ 23940-12-16 שניתן על-ידי כבוד השופט ח\\' מ\\' לומפ בשם המערערים: בעצמם בשם המשיבה: עו\"ד רעות אהרון, עו\"ד מאיר בן דוד פסק דין 1. הבקשה שבפני נקלטה במזכירות בית המשפט, בטעות, תחת הסיווג בש\"פ. הלכה למעשה, מדובר בבקשת רשות לערער על פסק דינו של בית המשפט המחוזי בירושלים מיום 30.1.2017 (ע\"פ 23940-12-16, השופטת ח\\' מ\\' לומפ). סיווגה הראוי אפוא הוא רע\"פ, וכך אני מורה. 2. מקורו של ההליך דנן הוא בבקשה למתן אורכה לביצועו של צו ההריסה שהוצא ביחס למבנה היביל שבו מתגוררים המבקשים במסגרת הליך פלילי לפי חוק התכנון והבניה, התשכ\"ה-1965. הבקשה נדחתה על ידי בית המשפט לעניינים מקומיים בבית שמש ועל כן הגישו המבקשים ערעור לבית המשפט המחוזי, אשר קבע כי תינתן למבקשים אורכה לפנות את המבנה עד ליום 1.4.2017 ולהרסו עד ליום 2.5.2017. לאחר מכן המבקשים הגישו בקשת אורכה נוספת לבית המשפט המחוזי, וזו נדחתה. על כך נסבה הבקשה שבפני. 3. בתשובה שהוגשה מטעם המשיבה צוין כי המקרה העומד ביסוד ההליך כרוך בנסיבות אישיות ומשפחתיות חריגות וקשות ועל כן היא מבקשת להותיר את ההכרעה בו לשיקול דעתו של בית המשפט. בהתחשב בכך ולאחר שבחנתי את מכלול הנסיבות העניין, אני מורה על מתן אורכה נוספת למבקשים לפנות את המבנה עד ליום 1.7.2017 ולהרסו עד ליום 2.8.2017 (בתנאים שנקבעו בפסק דינו של בית המשפט המחוזי). 4. הבקשה מתקבלת אפוא כמפורט בפסקה 3. על המבקשים להבין כי ההיענות לבקשתם התאפשרה לנוכח העמדה שגילתה המשיבה, וכי אל להם לצפות לכל הקלות נוספות, אלא להיערך לביצוע הצו השיפוטי, משתמו ההליכים כולם. ניתן היום, \\u200fי\"ט בשבט התשע\"ז (\\u200f15.2.2017). ש ו פ ט ת _________________________    \n",
              "3022                                                                                                                                                                                                                                                                                                                                                                                                                                                                                                                                                                                                                                                                                                                                                                                                                                                                                                                                                                                 ['פסק דין בתיק רע\"פ 1793/09 בבית המשפט העליון רע\"פ 1793/09 בפני: כבוד השופט א\\' א\\' לוי כבוד השופטת ע\\' ארבל כבוד השופט י\\' דנציגר המבקשים: 1. פאבל מינסטר 2. זאב שוורץ נגד המשיבה: מדינת ישראל בקשת רשות ערעור על פסק-דינו של ביתה משפט המחוזי בתל-אביב, בע\"פ 70149/08, מיום 28.1.09, שניתן על ידי כבוד ס\\' הנשיא השופטת ד\\' ברלינר, ס. הנשיא השופט ז\\' המר, ס. הנשיא השופטת ב\\' אופיר-תום בשם המבקש 1: עו\"ד אמיר ציון בשם המבקש 2: עו\"ד רובינשטיין מנחם פסק דין נוכח האמור בתגובת המשיבה, ניתנת בזאת רשות ערעור והבקשה תידון כבערעור גופו. עניינם של המבקשים יובא בשנית בפני בית המשפט המחוזי, המתבקש להבהיר אם תוצאת פסק-דינו היא זיכוי מוחלט של המבקשים או זיכוי מחמת הספק. ניתן היום, ט\"ו באדר התשס\"ט (11.03.09). ש ו פ ט ש ו פ ט ת ש ו פ ט _________________________    \n",
              "2649                                                                                                                                                                                                    ['בבית המשפט העליון בירושלים רע\"פ 9608/01 בפני: כבוד השופט א\\' ריבלין המבקשים: 1. גשמי ברכה ה.ש.י.ג.(1995) 2. גשמי ברכה בע\"מ 3. ה.ש.י.ג.(1995)יזום פרוייקטים 4. שנהב זאב נגד המשיבה: מדינת ישראל בקשת רשות ערעור על פסק-דינו של בית המשפט המחוזי בתל-אביב-יפו מיום 23.10.2001 בתיק עפ\"א 80190/01 שניתן על ידי כבוד השופטים: ד\\' ברלינר, ז\\' המר, י\\' שטופמן בשם המבקשים: עו\"ד שרית שלמון בשם המשיבה: עו\"ד ענבר פלש החלטה בית המשפט לעניינים מקומיים בפתח תקוה (כבוד השופט ג\\' שטרסמן) ביטל את כתב האישום שהוגש כנגד המבקשים, והמייחס להם ביצוע עבירות טעונות היתר בסטיה מהיתר או מתכנית. ערעורה של המדינה על החלטה זו, לבית המשפט המחוזי בתל-אביב (כבוד השופטים ד\\' ברלינר, ז\\' המר וי\\' שטופמן) - התקבל. ההחלטה בדבר ביטול כתב האישום בוטלה, והדיון הוחזר לבית המשפט לעניינים מקומיים, להמשך בירורו למן השלב אליו הגיע. כנגד פסק-דינו של בית המשפט המחוזי מופנית הבקשה שלפנינו. דא עקא, משטרם נתברר, וממילא טרם הוכרע, עניינם של המבקשים - לגופו - בערכאה הראשונה, אין מקום לדון בטענותיהם בפני בית משפט זה. לאחר שימוצו ההליכים בבית משפט השלום, ואם יהיה צורך גם בבית המשפט המחוזי - יהיו רשאים המבקשים - שוב, אם יהיה צורך - לפנות לבית משפט זה בבקשת רשות ערעור (ראו רע\"פ 4632/97 אקסלרוד נ\\' מדינת ישראל (תק-על 97(3) 118)). ניתנה היום, ה\\' באדר תשס\"ב (17.2.2002). ש ו פ ט _________________ העתק מתאים למקור 01096080.P02 /אמ נוסח זה כפוף לשינויי עריכה וניסוח. שמריהו כהן - מזכיר ראשי בבית המשפט העליון פועל מרכז מידע, טל\\' 02-6750444 בית המשפט פתוח להערות והצעות: pniot@supreme.court.gov.il לבתי המשפט אתר באינטרנט: www.court.gov.il']   \n",
              "\n",
              "                                                                                                                                                                                                                                                                             תוצאה מסכמת  \n",
              "3004                                                                                                                                       ניתנת בזאת רשות ערעור, והערעור מתקבל במובן זה שפסקי הדין נשוא הבקשה שניתנו בעניינו של המבקש מבוטלים בזאת, והתיק מוחזר לבית משפט השלום לתעבורה  \n",
              "1922                                                                                                                                                                                                                                  בקשה אחרת\\nבקשה לדחיית מועד תחילת ריצוי עונש המאסר  \n",
              "3096                                                                                                                                                                                                         ביהמ׳׳ש נתן אורכה אך לא ביטל את צו ההריסה\\nהבקשה מתקבלת אפוא כמפורט בפסקה 3  \n",
              "3022                                                                                                                                                                                                                                      ביהמש לא הכריע בערעור והחזיר לדיון נוסף במחוזי  \n",
              "2649  דא עקא, משטרם נתברר, וממילא טרם הוכרע, עניינם של המבקשים - לגופו - בערכאה הראשונה, אין מקום לדון בטענותיהם בפני בית משפט זה. לאחר שימוצו ההליכים בבית משפט השלום, ואם יהיה צורך גם בבית המשפט המחוזי - יהיו רשאים המבקשים - שוב, אם יהיה צורך - לפנות לבית משפט זה בבקשת רשות ערעו  "
            ],
            "text/html": [
              "\n",
              "  <div id=\"df-5a1b955c-f432-4a4d-8d5d-7f0aa5a0438a\" class=\"colab-df-container\">\n",
              "    <div>\n",
              "<style scoped>\n",
              "    .dataframe tbody tr th:only-of-type {\n",
              "        vertical-align: middle;\n",
              "    }\n",
              "\n",
              "    .dataframe tbody tr th {\n",
              "        vertical-align: top;\n",
              "    }\n",
              "\n",
              "    .dataframe thead th {\n",
              "        text-align: right;\n",
              "    }\n",
              "</style>\n",
              "<table border=\"1\" class=\"dataframe\">\n",
              "  <thead>\n",
              "    <tr style=\"text-align: right;\">\n",
              "      <th></th>\n",
              "      <th>גוף המסמך חתוך</th>\n",
              "      <th>תוצאה מסכמת</th>\n",
              "    </tr>\n",
              "  </thead>\n",
              "  <tbody>\n",
              "    <tr>\n",
              "      <th>3004</th>\n",
              "      <td>['פסק דין בתיק רע\"פ 4386/08 בבית המשפט העליון רע\"פ 4386/08 בפני: כבוד השופטת א\\' פרוקצ\\'יה כבוד השופט א\\' רובינשטיין כבוד השופט ס\\' ג\\'ובראן המבקש: גד כהן נגד המשיבה: מדינת ישראל בקשת רשות ערעור על פסק-דינו של בית המשפט המחוזי בירושלים מיום 30.4.08 בע\"פ 2074/08 שניתן על-ידי כבוד השופט ע\\' חבש – סג\"נ בשם המבקש: עו\"ד דוד גולן בשם המשיבה: עו\"ד מיטל בוכמן-שינדל פסק דין לאור הסכמת הצדדים, המוצאת את ביטויה בסעיף 3 לתגובת המשיבה, ניתנת בזאת רשות ערעור, והערעור מתקבל במובן זה שפסקי הדין נשוא הבקשה שניתנו בעניינו של המבקש מבוטלים בזאת, והתיק מוחזר לבית משפט השלום לתעבורה בירושלים לדיון מחודש בעניינו. ניתן היום, א\\' בחשון התשס\"ט (30.10.2008). ש ו פ ט ת ש ו פ ט ש ו פ ט _________________________</td>\n",
              "      <td>ניתנת בזאת רשות ערעור, והערעור מתקבל במובן זה שפסקי הדין נשוא הבקשה שניתנו בעניינו של המבקש מבוטלים בזאת, והתיק מוחזר לבית משפט השלום לתעבורה</td>\n",
              "    </tr>\n",
              "    <tr>\n",
              "      <th>1922</th>\n",
              "      <td>['החלטה בתיק רע\"פ 1682/11 בבית המשפט העליון רע\"פ 1682/11 בפני: כבוד השופט ס\\' ג\\'ובראן המבקש: ואיל מזערה נגד המשיבה: מדינת ישראל בקשה לדחיית מועד תחילת ריצוי עונש המאסר בשם המבקש: עו\"ד מאליק מנצור החלטה הבקשה נדחית. ניתנה היום, כ\"ה באדר ב התשע\"א (31.3.2011). ש ו פ ט _________________________</td>\n",
              "      <td>בקשה אחרת\\nבקשה לדחיית מועד תחילת ריצוי עונש המאסר</td>\n",
              "    </tr>\n",
              "    <tr>\n",
              "      <th>3096</th>\n",
              "      <td>['החלטה בתיק בש\"פ 1092/17 בבית המשפט העליון רע\"פ 1092/17 לפני: כבוד השופטת ד\\' ברק-ארז המערערים: 1. כפיר דהן 2. שירה דהן נגד המשיבה: הוועדה המקומית לתכנון ובניה מטה יהודה בקשת רשות ערעור על פסק דינו של בית המשפט המחוזי בירושלים מיום 30.1.2017 בע\"פ 23940-12-16 שניתן על-ידי כבוד השופט ח\\' מ\\' לומפ בשם המערערים: בעצמם בשם המשיבה: עו\"ד רעות אהרון, עו\"ד מאיר בן דוד פסק דין 1. הבקשה שבפני נקלטה במזכירות בית המשפט, בטעות, תחת הסיווג בש\"פ. הלכה למעשה, מדובר בבקשת רשות לערער על פסק דינו של בית המשפט המחוזי בירושלים מיום 30.1.2017 (ע\"פ 23940-12-16, השופטת ח\\' מ\\' לומפ). סיווגה הראוי אפוא הוא רע\"פ, וכך אני מורה. 2. מקורו של ההליך דנן הוא בבקשה למתן אורכה לביצועו של צו ההריסה שהוצא ביחס למבנה היביל שבו מתגוררים המבקשים במסגרת הליך פלילי לפי חוק התכנון והבניה, התשכ\"ה-1965. הבקשה נדחתה על ידי בית המשפט לעניינים מקומיים בבית שמש ועל כן הגישו המבקשים ערעור לבית המשפט המחוזי, אשר קבע כי תינתן למבקשים אורכה לפנות את המבנה עד ליום 1.4.2017 ולהרסו עד ליום 2.5.2017. לאחר מכן המבקשים הגישו בקשת אורכה נוספת לבית המשפט המחוזי, וזו נדחתה. על כך נסבה הבקשה שבפני. 3. בתשובה שהוגשה מטעם המשיבה צוין כי המקרה העומד ביסוד ההליך כרוך בנסיבות אישיות ומשפחתיות חריגות וקשות ועל כן היא מבקשת להותיר את ההכרעה בו לשיקול דעתו של בית המשפט. בהתחשב בכך ולאחר שבחנתי את מכלול הנסיבות העניין, אני מורה על מתן אורכה נוספת למבקשים לפנות את המבנה עד ליום 1.7.2017 ולהרסו עד ליום 2.8.2017 (בתנאים שנקבעו בפסק דינו של בית המשפט המחוזי). 4. הבקשה מתקבלת אפוא כמפורט בפסקה 3. על המבקשים להבין כי ההיענות לבקשתם התאפשרה לנוכח העמדה שגילתה המשיבה, וכי אל להם לצפות לכל הקלות נוספות, אלא להיערך לביצוע הצו השיפוטי, משתמו ההליכים כולם. ניתן היום, \\u200fי\"ט בשבט התשע\"ז (\\u200f15.2.2017). ש ו פ ט ת _________________________</td>\n",
              "      <td>ביהמ׳׳ש נתן אורכה אך לא ביטל את צו ההריסה\\nהבקשה מתקבלת אפוא כמפורט בפסקה 3</td>\n",
              "    </tr>\n",
              "    <tr>\n",
              "      <th>3022</th>\n",
              "      <td>['פסק דין בתיק רע\"פ 1793/09 בבית המשפט העליון רע\"פ 1793/09 בפני: כבוד השופט א\\' א\\' לוי כבוד השופטת ע\\' ארבל כבוד השופט י\\' דנציגר המבקשים: 1. פאבל מינסטר 2. זאב שוורץ נגד המשיבה: מדינת ישראל בקשת רשות ערעור על פסק-דינו של ביתה משפט המחוזי בתל-אביב, בע\"פ 70149/08, מיום 28.1.09, שניתן על ידי כבוד ס\\' הנשיא השופטת ד\\' ברלינר, ס. הנשיא השופט ז\\' המר, ס. הנשיא השופטת ב\\' אופיר-תום בשם המבקש 1: עו\"ד אמיר ציון בשם המבקש 2: עו\"ד רובינשטיין מנחם פסק דין נוכח האמור בתגובת המשיבה, ניתנת בזאת רשות ערעור והבקשה תידון כבערעור גופו. עניינם של המבקשים יובא בשנית בפני בית המשפט המחוזי, המתבקש להבהיר אם תוצאת פסק-דינו היא זיכוי מוחלט של המבקשים או זיכוי מחמת הספק. ניתן היום, ט\"ו באדר התשס\"ט (11.03.09). ש ו פ ט ש ו פ ט ת ש ו פ ט _________________________</td>\n",
              "      <td>ביהמש לא הכריע בערעור והחזיר לדיון נוסף במחוזי</td>\n",
              "    </tr>\n",
              "    <tr>\n",
              "      <th>2649</th>\n",
              "      <td>['בבית המשפט העליון בירושלים רע\"פ 9608/01 בפני: כבוד השופט א\\' ריבלין המבקשים: 1. גשמי ברכה ה.ש.י.ג.(1995) 2. גשמי ברכה בע\"מ 3. ה.ש.י.ג.(1995)יזום פרוייקטים 4. שנהב זאב נגד המשיבה: מדינת ישראל בקשת רשות ערעור על פסק-דינו של בית המשפט המחוזי בתל-אביב-יפו מיום 23.10.2001 בתיק עפ\"א 80190/01 שניתן על ידי כבוד השופטים: ד\\' ברלינר, ז\\' המר, י\\' שטופמן בשם המבקשים: עו\"ד שרית שלמון בשם המשיבה: עו\"ד ענבר פלש החלטה בית המשפט לעניינים מקומיים בפתח תקוה (כבוד השופט ג\\' שטרסמן) ביטל את כתב האישום שהוגש כנגד המבקשים, והמייחס להם ביצוע עבירות טעונות היתר בסטיה מהיתר או מתכנית. ערעורה של המדינה על החלטה זו, לבית המשפט המחוזי בתל-אביב (כבוד השופטים ד\\' ברלינר, ז\\' המר וי\\' שטופמן) - התקבל. ההחלטה בדבר ביטול כתב האישום בוטלה, והדיון הוחזר לבית המשפט לעניינים מקומיים, להמשך בירורו למן השלב אליו הגיע. כנגד פסק-דינו של בית המשפט המחוזי מופנית הבקשה שלפנינו. דא עקא, משטרם נתברר, וממילא טרם הוכרע, עניינם של המבקשים - לגופו - בערכאה הראשונה, אין מקום לדון בטענותיהם בפני בית משפט זה. לאחר שימוצו ההליכים בבית משפט השלום, ואם יהיה צורך גם בבית המשפט המחוזי - יהיו רשאים המבקשים - שוב, אם יהיה צורך - לפנות לבית משפט זה בבקשת רשות ערעור (ראו רע\"פ 4632/97 אקסלרוד נ\\' מדינת ישראל (תק-על 97(3) 118)). ניתנה היום, ה\\' באדר תשס\"ב (17.2.2002). ש ו פ ט _________________ העתק מתאים למקור 01096080.P02 /אמ נוסח זה כפוף לשינויי עריכה וניסוח. שמריהו כהן - מזכיר ראשי בבית המשפט העליון פועל מרכז מידע, טל\\' 02-6750444 בית המשפט פתוח להערות והצעות: pniot@supreme.court.gov.il לבתי המשפט אתר באינטרנט: www.court.gov.il']</td>\n",
              "      <td>דא עקא, משטרם נתברר, וממילא טרם הוכרע, עניינם של המבקשים - לגופו - בערכאה הראשונה, אין מקום לדון בטענותיהם בפני בית משפט זה. לאחר שימוצו ההליכים בבית משפט השלום, ואם יהיה צורך גם בבית המשפט המחוזי - יהיו רשאים המבקשים - שוב, אם יהיה צורך - לפנות לבית משפט זה בבקשת רשות ערעו</td>\n",
              "    </tr>\n",
              "  </tbody>\n",
              "</table>\n",
              "</div>\n",
              "    <div class=\"colab-df-buttons\">\n",
              "\n",
              "  <div class=\"colab-df-container\">\n",
              "    <button class=\"colab-df-convert\" onclick=\"convertToInteractive('df-5a1b955c-f432-4a4d-8d5d-7f0aa5a0438a')\"\n",
              "            title=\"Convert this dataframe to an interactive table.\"\n",
              "            style=\"display:none;\">\n",
              "\n",
              "  <svg xmlns=\"http://www.w3.org/2000/svg\" height=\"24px\" viewBox=\"0 -960 960 960\">\n",
              "    <path d=\"M120-120v-720h720v720H120Zm60-500h600v-160H180v160Zm220 220h160v-160H400v160Zm0 220h160v-160H400v160ZM180-400h160v-160H180v160Zm440 0h160v-160H620v160ZM180-180h160v-160H180v160Zm440 0h160v-160H620v160Z\"/>\n",
              "  </svg>\n",
              "    </button>\n",
              "\n",
              "  <style>\n",
              "    .colab-df-container {\n",
              "      display:flex;\n",
              "      gap: 12px;\n",
              "    }\n",
              "\n",
              "    .colab-df-convert {\n",
              "      background-color: #E8F0FE;\n",
              "      border: none;\n",
              "      border-radius: 50%;\n",
              "      cursor: pointer;\n",
              "      display: none;\n",
              "      fill: #1967D2;\n",
              "      height: 32px;\n",
              "      padding: 0 0 0 0;\n",
              "      width: 32px;\n",
              "    }\n",
              "\n",
              "    .colab-df-convert:hover {\n",
              "      background-color: #E2EBFA;\n",
              "      box-shadow: 0px 1px 2px rgba(60, 64, 67, 0.3), 0px 1px 3px 1px rgba(60, 64, 67, 0.15);\n",
              "      fill: #174EA6;\n",
              "    }\n",
              "\n",
              "    .colab-df-buttons div {\n",
              "      margin-bottom: 4px;\n",
              "    }\n",
              "\n",
              "    [theme=dark] .colab-df-convert {\n",
              "      background-color: #3B4455;\n",
              "      fill: #D2E3FC;\n",
              "    }\n",
              "\n",
              "    [theme=dark] .colab-df-convert:hover {\n",
              "      background-color: #434B5C;\n",
              "      box-shadow: 0px 1px 3px 1px rgba(0, 0, 0, 0.15);\n",
              "      filter: drop-shadow(0px 1px 2px rgba(0, 0, 0, 0.3));\n",
              "      fill: #FFFFFF;\n",
              "    }\n",
              "  </style>\n",
              "\n",
              "    <script>\n",
              "      const buttonEl =\n",
              "        document.querySelector('#df-5a1b955c-f432-4a4d-8d5d-7f0aa5a0438a button.colab-df-convert');\n",
              "      buttonEl.style.display =\n",
              "        google.colab.kernel.accessAllowed ? 'block' : 'none';\n",
              "\n",
              "      async function convertToInteractive(key) {\n",
              "        const element = document.querySelector('#df-5a1b955c-f432-4a4d-8d5d-7f0aa5a0438a');\n",
              "        const dataTable =\n",
              "          await google.colab.kernel.invokeFunction('convertToInteractive',\n",
              "                                                    [key], {});\n",
              "        if (!dataTable) return;\n",
              "\n",
              "        const docLinkHtml = 'Like what you see? Visit the ' +\n",
              "          '<a target=\"_blank\" href=https://colab.research.google.com/notebooks/data_table.ipynb>data table notebook</a>'\n",
              "          + ' to learn more about interactive tables.';\n",
              "        element.innerHTML = '';\n",
              "        dataTable['output_type'] = 'display_data';\n",
              "        await google.colab.output.renderOutput(dataTable, element);\n",
              "        const docLink = document.createElement('div');\n",
              "        docLink.innerHTML = docLinkHtml;\n",
              "        element.appendChild(docLink);\n",
              "      }\n",
              "    </script>\n",
              "  </div>\n",
              "\n",
              "\n",
              "<div id=\"df-02b1bedd-dac9-4c05-8821-00fd3d4e0ff4\">\n",
              "  <button class=\"colab-df-quickchart\" onclick=\"quickchart('df-02b1bedd-dac9-4c05-8821-00fd3d4e0ff4')\"\n",
              "            title=\"Suggest charts\"\n",
              "            style=\"display:none;\">\n",
              "\n",
              "<svg xmlns=\"http://www.w3.org/2000/svg\" height=\"24px\"viewBox=\"0 0 24 24\"\n",
              "     width=\"24px\">\n",
              "    <g>\n",
              "        <path d=\"M19 3H5c-1.1 0-2 .9-2 2v14c0 1.1.9 2 2 2h14c1.1 0 2-.9 2-2V5c0-1.1-.9-2-2-2zM9 17H7v-7h2v7zm4 0h-2V7h2v10zm4 0h-2v-4h2v4z\"/>\n",
              "    </g>\n",
              "</svg>\n",
              "  </button>\n",
              "\n",
              "<style>\n",
              "  .colab-df-quickchart {\n",
              "      --bg-color: #E8F0FE;\n",
              "      --fill-color: #1967D2;\n",
              "      --hover-bg-color: #E2EBFA;\n",
              "      --hover-fill-color: #174EA6;\n",
              "      --disabled-fill-color: #AAA;\n",
              "      --disabled-bg-color: #DDD;\n",
              "  }\n",
              "\n",
              "  [theme=dark] .colab-df-quickchart {\n",
              "      --bg-color: #3B4455;\n",
              "      --fill-color: #D2E3FC;\n",
              "      --hover-bg-color: #434B5C;\n",
              "      --hover-fill-color: #FFFFFF;\n",
              "      --disabled-bg-color: #3B4455;\n",
              "      --disabled-fill-color: #666;\n",
              "  }\n",
              "\n",
              "  .colab-df-quickchart {\n",
              "    background-color: var(--bg-color);\n",
              "    border: none;\n",
              "    border-radius: 50%;\n",
              "    cursor: pointer;\n",
              "    display: none;\n",
              "    fill: var(--fill-color);\n",
              "    height: 32px;\n",
              "    padding: 0;\n",
              "    width: 32px;\n",
              "  }\n",
              "\n",
              "  .colab-df-quickchart:hover {\n",
              "    background-color: var(--hover-bg-color);\n",
              "    box-shadow: 0 1px 2px rgba(60, 64, 67, 0.3), 0 1px 3px 1px rgba(60, 64, 67, 0.15);\n",
              "    fill: var(--button-hover-fill-color);\n",
              "  }\n",
              "\n",
              "  .colab-df-quickchart-complete:disabled,\n",
              "  .colab-df-quickchart-complete:disabled:hover {\n",
              "    background-color: var(--disabled-bg-color);\n",
              "    fill: var(--disabled-fill-color);\n",
              "    box-shadow: none;\n",
              "  }\n",
              "\n",
              "  .colab-df-spinner {\n",
              "    border: 2px solid var(--fill-color);\n",
              "    border-color: transparent;\n",
              "    border-bottom-color: var(--fill-color);\n",
              "    animation:\n",
              "      spin 1s steps(1) infinite;\n",
              "  }\n",
              "\n",
              "  @keyframes spin {\n",
              "    0% {\n",
              "      border-color: transparent;\n",
              "      border-bottom-color: var(--fill-color);\n",
              "      border-left-color: var(--fill-color);\n",
              "    }\n",
              "    20% {\n",
              "      border-color: transparent;\n",
              "      border-left-color: var(--fill-color);\n",
              "      border-top-color: var(--fill-color);\n",
              "    }\n",
              "    30% {\n",
              "      border-color: transparent;\n",
              "      border-left-color: var(--fill-color);\n",
              "      border-top-color: var(--fill-color);\n",
              "      border-right-color: var(--fill-color);\n",
              "    }\n",
              "    40% {\n",
              "      border-color: transparent;\n",
              "      border-right-color: var(--fill-color);\n",
              "      border-top-color: var(--fill-color);\n",
              "    }\n",
              "    60% {\n",
              "      border-color: transparent;\n",
              "      border-right-color: var(--fill-color);\n",
              "    }\n",
              "    80% {\n",
              "      border-color: transparent;\n",
              "      border-right-color: var(--fill-color);\n",
              "      border-bottom-color: var(--fill-color);\n",
              "    }\n",
              "    90% {\n",
              "      border-color: transparent;\n",
              "      border-bottom-color: var(--fill-color);\n",
              "    }\n",
              "  }\n",
              "</style>\n",
              "\n",
              "  <script>\n",
              "    async function quickchart(key) {\n",
              "      const quickchartButtonEl =\n",
              "        document.querySelector('#' + key + ' button');\n",
              "      quickchartButtonEl.disabled = true;  // To prevent multiple clicks.\n",
              "      quickchartButtonEl.classList.add('colab-df-spinner');\n",
              "      try {\n",
              "        const charts = await google.colab.kernel.invokeFunction(\n",
              "            'suggestCharts', [key], {});\n",
              "      } catch (error) {\n",
              "        console.error('Error during call to suggestCharts:', error);\n",
              "      }\n",
              "      quickchartButtonEl.classList.remove('colab-df-spinner');\n",
              "      quickchartButtonEl.classList.add('colab-df-quickchart-complete');\n",
              "    }\n",
              "    (() => {\n",
              "      let quickchartButtonEl =\n",
              "        document.querySelector('#df-02b1bedd-dac9-4c05-8821-00fd3d4e0ff4 button');\n",
              "      quickchartButtonEl.style.display =\n",
              "        google.colab.kernel.accessAllowed ? 'block' : 'none';\n",
              "    })();\n",
              "  </script>\n",
              "</div>\n",
              "\n",
              "    </div>\n",
              "  </div>\n"
            ],
            "application/vnd.google.colaboratory.intrinsic+json": {
              "type": "dataframe",
              "summary": "{\n  \"name\": \"df[[\\\"\\u05d2\\u05d5\\u05e3 \\u05d4\\u05de\\u05e1\\u05de\\u05da \\u05d7\\u05ea\\u05d5\\u05da\\\", \\\"\\u05ea\\u05d5\\u05e6\\u05d0\\u05d4 \\u05de\\u05e1\\u05db\\u05de\\u05ea\\\"]]\",\n  \"rows\": 5,\n  \"fields\": [\n    {\n      \"column\": \"\\u05d2\\u05d5\\u05e3 \\u05d4\\u05de\\u05e1\\u05de\\u05da \\u05d7\\u05ea\\u05d5\\u05da\",\n      \"properties\": {\n        \"dtype\": \"string\",\n        \"num_unique_values\": 5,\n        \"samples\": [\n          \"['\\u05d4\\u05d7\\u05dc\\u05d8\\u05d4 \\u05d1\\u05ea\\u05d9\\u05e7 \\u05e8\\u05e2\\\"\\u05e4 1682/11 \\u05d1\\u05d1\\u05d9\\u05ea \\u05d4\\u05de\\u05e9\\u05e4\\u05d8 \\u05d4\\u05e2\\u05dc\\u05d9\\u05d5\\u05df \\u05e8\\u05e2\\\"\\u05e4 1682/11 \\u05d1\\u05e4\\u05e0\\u05d9: \\u05db\\u05d1\\u05d5\\u05d3 \\u05d4\\u05e9\\u05d5\\u05e4\\u05d8 \\u05e1\\\\' \\u05d2\\\\'\\u05d5\\u05d1\\u05e8\\u05d0\\u05df \\u05d4\\u05de\\u05d1\\u05e7\\u05e9: \\u05d5\\u05d0\\u05d9\\u05dc \\u05de\\u05d6\\u05e2\\u05e8\\u05d4 \\u05e0\\u05d2\\u05d3 \\u05d4\\u05de\\u05e9\\u05d9\\u05d1\\u05d4: \\u05de\\u05d3\\u05d9\\u05e0\\u05ea \\u05d9\\u05e9\\u05e8\\u05d0\\u05dc \\u05d1\\u05e7\\u05e9\\u05d4 \\u05dc\\u05d3\\u05d7\\u05d9\\u05d9\\u05ea \\u05de\\u05d5\\u05e2\\u05d3 \\u05ea\\u05d7\\u05d9\\u05dc\\u05ea \\u05e8\\u05d9\\u05e6\\u05d5\\u05d9 \\u05e2\\u05d5\\u05e0\\u05e9 \\u05d4\\u05de\\u05d0\\u05e1\\u05e8 \\u05d1\\u05e9\\u05dd \\u05d4\\u05de\\u05d1\\u05e7\\u05e9: \\u05e2\\u05d5\\\"\\u05d3 \\u05de\\u05d0\\u05dc\\u05d9\\u05e7 \\u05de\\u05e0\\u05e6\\u05d5\\u05e8 \\u05d4\\u05d7\\u05dc\\u05d8\\u05d4 \\u05d4\\u05d1\\u05e7\\u05e9\\u05d4 \\u05e0\\u05d3\\u05d7\\u05d9\\u05ea. \\u05e0\\u05d9\\u05ea\\u05e0\\u05d4 \\u05d4\\u05d9\\u05d5\\u05dd, \\u05db\\\"\\u05d4 \\u05d1\\u05d0\\u05d3\\u05e8 \\u05d1 \\u05d4\\u05ea\\u05e9\\u05e2\\\"\\u05d0 (31.3.2011). \\u05e9 \\u05d5 \\u05e4 \\u05d8 _________________________ \",\n          \"['\\u05d1\\u05d1\\u05d9\\u05ea \\u05d4\\u05de\\u05e9\\u05e4\\u05d8 \\u05d4\\u05e2\\u05dc\\u05d9\\u05d5\\u05df \\u05d1\\u05d9\\u05e8\\u05d5\\u05e9\\u05dc\\u05d9\\u05dd \\u05e8\\u05e2\\\"\\u05e4 9608/01 \\u05d1\\u05e4\\u05e0\\u05d9: \\u05db\\u05d1\\u05d5\\u05d3 \\u05d4\\u05e9\\u05d5\\u05e4\\u05d8 \\u05d0\\\\' \\u05e8\\u05d9\\u05d1\\u05dc\\u05d9\\u05df \\u05d4\\u05de\\u05d1\\u05e7\\u05e9\\u05d9\\u05dd: 1. \\u05d2\\u05e9\\u05de\\u05d9 \\u05d1\\u05e8\\u05db\\u05d4 \\u05d4.\\u05e9.\\u05d9.\\u05d2.(1995) 2. \\u05d2\\u05e9\\u05de\\u05d9 \\u05d1\\u05e8\\u05db\\u05d4 \\u05d1\\u05e2\\\"\\u05de 3. \\u05d4.\\u05e9.\\u05d9.\\u05d2.(1995)\\u05d9\\u05d6\\u05d5\\u05dd \\u05e4\\u05e8\\u05d5\\u05d9\\u05d9\\u05e7\\u05d8\\u05d9\\u05dd 4. \\u05e9\\u05e0\\u05d4\\u05d1 \\u05d6\\u05d0\\u05d1 \\u05e0\\u05d2\\u05d3 \\u05d4\\u05de\\u05e9\\u05d9\\u05d1\\u05d4: \\u05de\\u05d3\\u05d9\\u05e0\\u05ea \\u05d9\\u05e9\\u05e8\\u05d0\\u05dc \\u05d1\\u05e7\\u05e9\\u05ea \\u05e8\\u05e9\\u05d5\\u05ea \\u05e2\\u05e8\\u05e2\\u05d5\\u05e8 \\u05e2\\u05dc \\u05e4\\u05e1\\u05e7-\\u05d3\\u05d9\\u05e0\\u05d5 \\u05e9\\u05dc \\u05d1\\u05d9\\u05ea \\u05d4\\u05de\\u05e9\\u05e4\\u05d8 \\u05d4\\u05de\\u05d7\\u05d5\\u05d6\\u05d9 \\u05d1\\u05ea\\u05dc-\\u05d0\\u05d1\\u05d9\\u05d1-\\u05d9\\u05e4\\u05d5 \\u05de\\u05d9\\u05d5\\u05dd 23.10.2001 \\u05d1\\u05ea\\u05d9\\u05e7 \\u05e2\\u05e4\\\"\\u05d0 80190/01 \\u05e9\\u05e0\\u05d9\\u05ea\\u05df \\u05e2\\u05dc \\u05d9\\u05d3\\u05d9 \\u05db\\u05d1\\u05d5\\u05d3 \\u05d4\\u05e9\\u05d5\\u05e4\\u05d8\\u05d9\\u05dd: \\u05d3\\\\' \\u05d1\\u05e8\\u05dc\\u05d9\\u05e0\\u05e8, \\u05d6\\\\' \\u05d4\\u05de\\u05e8, \\u05d9\\\\' \\u05e9\\u05d8\\u05d5\\u05e4\\u05de\\u05df \\u05d1\\u05e9\\u05dd \\u05d4\\u05de\\u05d1\\u05e7\\u05e9\\u05d9\\u05dd: \\u05e2\\u05d5\\\"\\u05d3 \\u05e9\\u05e8\\u05d9\\u05ea \\u05e9\\u05dc\\u05de\\u05d5\\u05df \\u05d1\\u05e9\\u05dd \\u05d4\\u05de\\u05e9\\u05d9\\u05d1\\u05d4: \\u05e2\\u05d5\\\"\\u05d3 \\u05e2\\u05e0\\u05d1\\u05e8 \\u05e4\\u05dc\\u05e9 \\u05d4\\u05d7\\u05dc\\u05d8\\u05d4 \\u05d1\\u05d9\\u05ea \\u05d4\\u05de\\u05e9\\u05e4\\u05d8 \\u05dc\\u05e2\\u05e0\\u05d9\\u05d9\\u05e0\\u05d9\\u05dd \\u05de\\u05e7\\u05d5\\u05de\\u05d9\\u05d9\\u05dd \\u05d1\\u05e4\\u05ea\\u05d7 \\u05ea\\u05e7\\u05d5\\u05d4 (\\u05db\\u05d1\\u05d5\\u05d3 \\u05d4\\u05e9\\u05d5\\u05e4\\u05d8 \\u05d2\\\\' \\u05e9\\u05d8\\u05e8\\u05e1\\u05de\\u05df) \\u05d1\\u05d9\\u05d8\\u05dc \\u05d0\\u05ea \\u05db\\u05ea\\u05d1 \\u05d4\\u05d0\\u05d9\\u05e9\\u05d5\\u05dd \\u05e9\\u05d4\\u05d5\\u05d2\\u05e9 \\u05db\\u05e0\\u05d2\\u05d3 \\u05d4\\u05de\\u05d1\\u05e7\\u05e9\\u05d9\\u05dd, \\u05d5\\u05d4\\u05de\\u05d9\\u05d9\\u05d7\\u05e1 \\u05dc\\u05d4\\u05dd \\u05d1\\u05d9\\u05e6\\u05d5\\u05e2 \\u05e2\\u05d1\\u05d9\\u05e8\\u05d5\\u05ea \\u05d8\\u05e2\\u05d5\\u05e0\\u05d5\\u05ea \\u05d4\\u05d9\\u05ea\\u05e8 \\u05d1\\u05e1\\u05d8\\u05d9\\u05d4 \\u05de\\u05d4\\u05d9\\u05ea\\u05e8 \\u05d0\\u05d5 \\u05de\\u05ea\\u05db\\u05e0\\u05d9\\u05ea. \\u05e2\\u05e8\\u05e2\\u05d5\\u05e8\\u05d4 \\u05e9\\u05dc \\u05d4\\u05de\\u05d3\\u05d9\\u05e0\\u05d4 \\u05e2\\u05dc \\u05d4\\u05d7\\u05dc\\u05d8\\u05d4 \\u05d6\\u05d5, \\u05dc\\u05d1\\u05d9\\u05ea \\u05d4\\u05de\\u05e9\\u05e4\\u05d8 \\u05d4\\u05de\\u05d7\\u05d5\\u05d6\\u05d9 \\u05d1\\u05ea\\u05dc-\\u05d0\\u05d1\\u05d9\\u05d1 (\\u05db\\u05d1\\u05d5\\u05d3 \\u05d4\\u05e9\\u05d5\\u05e4\\u05d8\\u05d9\\u05dd \\u05d3\\\\' \\u05d1\\u05e8\\u05dc\\u05d9\\u05e0\\u05e8, \\u05d6\\\\' \\u05d4\\u05de\\u05e8 \\u05d5\\u05d9\\\\' \\u05e9\\u05d8\\u05d5\\u05e4\\u05de\\u05df) - \\u05d4\\u05ea\\u05e7\\u05d1\\u05dc. \\u05d4\\u05d4\\u05d7\\u05dc\\u05d8\\u05d4 \\u05d1\\u05d3\\u05d1\\u05e8 \\u05d1\\u05d9\\u05d8\\u05d5\\u05dc \\u05db\\u05ea\\u05d1 \\u05d4\\u05d0\\u05d9\\u05e9\\u05d5\\u05dd \\u05d1\\u05d5\\u05d8\\u05dc\\u05d4, \\u05d5\\u05d4\\u05d3\\u05d9\\u05d5\\u05df \\u05d4\\u05d5\\u05d7\\u05d6\\u05e8 \\u05dc\\u05d1\\u05d9\\u05ea \\u05d4\\u05de\\u05e9\\u05e4\\u05d8 \\u05dc\\u05e2\\u05e0\\u05d9\\u05d9\\u05e0\\u05d9\\u05dd \\u05de\\u05e7\\u05d5\\u05de\\u05d9\\u05d9\\u05dd, \\u05dc\\u05d4\\u05de\\u05e9\\u05da \\u05d1\\u05d9\\u05e8\\u05d5\\u05e8\\u05d5 \\u05dc\\u05de\\u05df \\u05d4\\u05e9\\u05dc\\u05d1 \\u05d0\\u05dc\\u05d9\\u05d5 \\u05d4\\u05d2\\u05d9\\u05e2. \\u05db\\u05e0\\u05d2\\u05d3 \\u05e4\\u05e1\\u05e7-\\u05d3\\u05d9\\u05e0\\u05d5 \\u05e9\\u05dc \\u05d1\\u05d9\\u05ea \\u05d4\\u05de\\u05e9\\u05e4\\u05d8 \\u05d4\\u05de\\u05d7\\u05d5\\u05d6\\u05d9 \\u05de\\u05d5\\u05e4\\u05e0\\u05d9\\u05ea \\u05d4\\u05d1\\u05e7\\u05e9\\u05d4 \\u05e9\\u05dc\\u05e4\\u05e0\\u05d9\\u05e0\\u05d5. \\u05d3\\u05d0 \\u05e2\\u05e7\\u05d0, \\u05de\\u05e9\\u05d8\\u05e8\\u05dd \\u05e0\\u05ea\\u05d1\\u05e8\\u05e8, \\u05d5\\u05de\\u05de\\u05d9\\u05dc\\u05d0 \\u05d8\\u05e8\\u05dd \\u05d4\\u05d5\\u05db\\u05e8\\u05e2, \\u05e2\\u05e0\\u05d9\\u05d9\\u05e0\\u05dd \\u05e9\\u05dc \\u05d4\\u05de\\u05d1\\u05e7\\u05e9\\u05d9\\u05dd - \\u05dc\\u05d2\\u05d5\\u05e4\\u05d5 - \\u05d1\\u05e2\\u05e8\\u05db\\u05d0\\u05d4 \\u05d4\\u05e8\\u05d0\\u05e9\\u05d5\\u05e0\\u05d4, \\u05d0\\u05d9\\u05df \\u05de\\u05e7\\u05d5\\u05dd \\u05dc\\u05d3\\u05d5\\u05df \\u05d1\\u05d8\\u05e2\\u05e0\\u05d5\\u05ea\\u05d9\\u05d4\\u05dd \\u05d1\\u05e4\\u05e0\\u05d9 \\u05d1\\u05d9\\u05ea \\u05de\\u05e9\\u05e4\\u05d8 \\u05d6\\u05d4. \\u05dc\\u05d0\\u05d7\\u05e8 \\u05e9\\u05d9\\u05de\\u05d5\\u05e6\\u05d5 \\u05d4\\u05d4\\u05dc\\u05d9\\u05db\\u05d9\\u05dd \\u05d1\\u05d1\\u05d9\\u05ea \\u05de\\u05e9\\u05e4\\u05d8 \\u05d4\\u05e9\\u05dc\\u05d5\\u05dd, \\u05d5\\u05d0\\u05dd \\u05d9\\u05d4\\u05d9\\u05d4 \\u05e6\\u05d5\\u05e8\\u05da \\u05d2\\u05dd \\u05d1\\u05d1\\u05d9\\u05ea \\u05d4\\u05de\\u05e9\\u05e4\\u05d8 \\u05d4\\u05de\\u05d7\\u05d5\\u05d6\\u05d9 - \\u05d9\\u05d4\\u05d9\\u05d5 \\u05e8\\u05e9\\u05d0\\u05d9\\u05dd \\u05d4\\u05de\\u05d1\\u05e7\\u05e9\\u05d9\\u05dd - \\u05e9\\u05d5\\u05d1, \\u05d0\\u05dd \\u05d9\\u05d4\\u05d9\\u05d4 \\u05e6\\u05d5\\u05e8\\u05da - \\u05dc\\u05e4\\u05e0\\u05d5\\u05ea \\u05dc\\u05d1\\u05d9\\u05ea \\u05de\\u05e9\\u05e4\\u05d8 \\u05d6\\u05d4 \\u05d1\\u05d1\\u05e7\\u05e9\\u05ea \\u05e8\\u05e9\\u05d5\\u05ea \\u05e2\\u05e8\\u05e2\\u05d5\\u05e8 (\\u05e8\\u05d0\\u05d5 \\u05e8\\u05e2\\\"\\u05e4 4632/97 \\u05d0\\u05e7\\u05e1\\u05dc\\u05e8\\u05d5\\u05d3 \\u05e0\\\\' \\u05de\\u05d3\\u05d9\\u05e0\\u05ea \\u05d9\\u05e9\\u05e8\\u05d0\\u05dc (\\u05ea\\u05e7-\\u05e2\\u05dc 97(3) 118)). \\u05e0\\u05d9\\u05ea\\u05e0\\u05d4 \\u05d4\\u05d9\\u05d5\\u05dd, \\u05d4\\\\' \\u05d1\\u05d0\\u05d3\\u05e8 \\u05ea\\u05e9\\u05e1\\\"\\u05d1 (17.2.2002). \\u05e9 \\u05d5 \\u05e4 \\u05d8 _________________ \\u05d4\\u05e2\\u05ea\\u05e7 \\u05de\\u05ea\\u05d0\\u05d9\\u05dd \\u05dc\\u05de\\u05e7\\u05d5\\u05e8 01096080.P02 /\\u05d0\\u05de \\u05e0\\u05d5\\u05e1\\u05d7 \\u05d6\\u05d4 \\u05db\\u05e4\\u05d5\\u05e3 \\u05dc\\u05e9\\u05d9\\u05e0\\u05d5\\u05d9\\u05d9 \\u05e2\\u05e8\\u05d9\\u05db\\u05d4 \\u05d5\\u05e0\\u05d9\\u05e1\\u05d5\\u05d7. \\u05e9\\u05de\\u05e8\\u05d9\\u05d4\\u05d5 \\u05db\\u05d4\\u05df - \\u05de\\u05d6\\u05db\\u05d9\\u05e8 \\u05e8\\u05d0\\u05e9\\u05d9 \\u05d1\\u05d1\\u05d9\\u05ea \\u05d4\\u05de\\u05e9\\u05e4\\u05d8 \\u05d4\\u05e2\\u05dc\\u05d9\\u05d5\\u05df \\u05e4\\u05d5\\u05e2\\u05dc \\u05de\\u05e8\\u05db\\u05d6 \\u05de\\u05d9\\u05d3\\u05e2, \\u05d8\\u05dc\\\\' 02-6750444 \\u05d1\\u05d9\\u05ea \\u05d4\\u05de\\u05e9\\u05e4\\u05d8 \\u05e4\\u05ea\\u05d5\\u05d7 \\u05dc\\u05d4\\u05e2\\u05e8\\u05d5\\u05ea \\u05d5\\u05d4\\u05e6\\u05e2\\u05d5\\u05ea: pniot@supreme.court.gov.il \\u05dc\\u05d1\\u05ea\\u05d9 \\u05d4\\u05de\\u05e9\\u05e4\\u05d8 \\u05d0\\u05ea\\u05e8 \\u05d1\\u05d0\\u05d9\\u05e0\\u05d8\\u05e8\\u05e0\\u05d8: www.court.gov.il']\",\n          \"['\\u05d4\\u05d7\\u05dc\\u05d8\\u05d4 \\u05d1\\u05ea\\u05d9\\u05e7 \\u05d1\\u05e9\\\"\\u05e4 1092/17 \\u05d1\\u05d1\\u05d9\\u05ea \\u05d4\\u05de\\u05e9\\u05e4\\u05d8 \\u05d4\\u05e2\\u05dc\\u05d9\\u05d5\\u05df \\u05e8\\u05e2\\\"\\u05e4 1092/17 \\u05dc\\u05e4\\u05e0\\u05d9: \\u05db\\u05d1\\u05d5\\u05d3 \\u05d4\\u05e9\\u05d5\\u05e4\\u05d8\\u05ea \\u05d3\\\\' \\u05d1\\u05e8\\u05e7-\\u05d0\\u05e8\\u05d6 \\u05d4\\u05de\\u05e2\\u05e8\\u05e2\\u05e8\\u05d9\\u05dd: 1. \\u05db\\u05e4\\u05d9\\u05e8 \\u05d3\\u05d4\\u05df 2. \\u05e9\\u05d9\\u05e8\\u05d4 \\u05d3\\u05d4\\u05df \\u05e0\\u05d2\\u05d3 \\u05d4\\u05de\\u05e9\\u05d9\\u05d1\\u05d4: \\u05d4\\u05d5\\u05d5\\u05e2\\u05d3\\u05d4 \\u05d4\\u05de\\u05e7\\u05d5\\u05de\\u05d9\\u05ea \\u05dc\\u05ea\\u05db\\u05e0\\u05d5\\u05df \\u05d5\\u05d1\\u05e0\\u05d9\\u05d4 \\u05de\\u05d8\\u05d4 \\u05d9\\u05d4\\u05d5\\u05d3\\u05d4 \\u05d1\\u05e7\\u05e9\\u05ea \\u05e8\\u05e9\\u05d5\\u05ea \\u05e2\\u05e8\\u05e2\\u05d5\\u05e8 \\u05e2\\u05dc \\u05e4\\u05e1\\u05e7 \\u05d3\\u05d9\\u05e0\\u05d5 \\u05e9\\u05dc \\u05d1\\u05d9\\u05ea \\u05d4\\u05de\\u05e9\\u05e4\\u05d8 \\u05d4\\u05de\\u05d7\\u05d5\\u05d6\\u05d9 \\u05d1\\u05d9\\u05e8\\u05d5\\u05e9\\u05dc\\u05d9\\u05dd \\u05de\\u05d9\\u05d5\\u05dd 30.1.2017 \\u05d1\\u05e2\\\"\\u05e4 23940-12-16 \\u05e9\\u05e0\\u05d9\\u05ea\\u05df \\u05e2\\u05dc-\\u05d9\\u05d3\\u05d9 \\u05db\\u05d1\\u05d5\\u05d3 \\u05d4\\u05e9\\u05d5\\u05e4\\u05d8 \\u05d7\\\\' \\u05de\\\\' \\u05dc\\u05d5\\u05de\\u05e4 \\u05d1\\u05e9\\u05dd \\u05d4\\u05de\\u05e2\\u05e8\\u05e2\\u05e8\\u05d9\\u05dd: \\u05d1\\u05e2\\u05e6\\u05de\\u05dd \\u05d1\\u05e9\\u05dd \\u05d4\\u05de\\u05e9\\u05d9\\u05d1\\u05d4: \\u05e2\\u05d5\\\"\\u05d3 \\u05e8\\u05e2\\u05d5\\u05ea \\u05d0\\u05d4\\u05e8\\u05d5\\u05df, \\u05e2\\u05d5\\\"\\u05d3 \\u05de\\u05d0\\u05d9\\u05e8 \\u05d1\\u05df \\u05d3\\u05d5\\u05d3 \\u05e4\\u05e1\\u05e7 \\u05d3\\u05d9\\u05df 1. \\u05d4\\u05d1\\u05e7\\u05e9\\u05d4 \\u05e9\\u05d1\\u05e4\\u05e0\\u05d9 \\u05e0\\u05e7\\u05dc\\u05d8\\u05d4 \\u05d1\\u05de\\u05d6\\u05db\\u05d9\\u05e8\\u05d5\\u05ea \\u05d1\\u05d9\\u05ea \\u05d4\\u05de\\u05e9\\u05e4\\u05d8, \\u05d1\\u05d8\\u05e2\\u05d5\\u05ea, \\u05ea\\u05d7\\u05ea \\u05d4\\u05e1\\u05d9\\u05d5\\u05d5\\u05d2 \\u05d1\\u05e9\\\"\\u05e4. \\u05d4\\u05dc\\u05db\\u05d4 \\u05dc\\u05de\\u05e2\\u05e9\\u05d4, \\u05de\\u05d3\\u05d5\\u05d1\\u05e8 \\u05d1\\u05d1\\u05e7\\u05e9\\u05ea \\u05e8\\u05e9\\u05d5\\u05ea \\u05dc\\u05e2\\u05e8\\u05e2\\u05e8 \\u05e2\\u05dc \\u05e4\\u05e1\\u05e7 \\u05d3\\u05d9\\u05e0\\u05d5 \\u05e9\\u05dc \\u05d1\\u05d9\\u05ea \\u05d4\\u05de\\u05e9\\u05e4\\u05d8 \\u05d4\\u05de\\u05d7\\u05d5\\u05d6\\u05d9 \\u05d1\\u05d9\\u05e8\\u05d5\\u05e9\\u05dc\\u05d9\\u05dd \\u05de\\u05d9\\u05d5\\u05dd 30.1.2017 (\\u05e2\\\"\\u05e4 23940-12-16, \\u05d4\\u05e9\\u05d5\\u05e4\\u05d8\\u05ea \\u05d7\\\\' \\u05de\\\\' \\u05dc\\u05d5\\u05de\\u05e4). \\u05e1\\u05d9\\u05d5\\u05d5\\u05d2\\u05d4 \\u05d4\\u05e8\\u05d0\\u05d5\\u05d9 \\u05d0\\u05e4\\u05d5\\u05d0 \\u05d4\\u05d5\\u05d0 \\u05e8\\u05e2\\\"\\u05e4, \\u05d5\\u05db\\u05da \\u05d0\\u05e0\\u05d9 \\u05de\\u05d5\\u05e8\\u05d4. 2. \\u05de\\u05e7\\u05d5\\u05e8\\u05d5 \\u05e9\\u05dc \\u05d4\\u05d4\\u05dc\\u05d9\\u05da \\u05d3\\u05e0\\u05df \\u05d4\\u05d5\\u05d0 \\u05d1\\u05d1\\u05e7\\u05e9\\u05d4 \\u05dc\\u05de\\u05ea\\u05df \\u05d0\\u05d5\\u05e8\\u05db\\u05d4 \\u05dc\\u05d1\\u05d9\\u05e6\\u05d5\\u05e2\\u05d5 \\u05e9\\u05dc \\u05e6\\u05d5 \\u05d4\\u05d4\\u05e8\\u05d9\\u05e1\\u05d4 \\u05e9\\u05d4\\u05d5\\u05e6\\u05d0 \\u05d1\\u05d9\\u05d7\\u05e1 \\u05dc\\u05de\\u05d1\\u05e0\\u05d4 \\u05d4\\u05d9\\u05d1\\u05d9\\u05dc \\u05e9\\u05d1\\u05d5 \\u05de\\u05ea\\u05d2\\u05d5\\u05e8\\u05e8\\u05d9\\u05dd \\u05d4\\u05de\\u05d1\\u05e7\\u05e9\\u05d9\\u05dd \\u05d1\\u05de\\u05e1\\u05d2\\u05e8\\u05ea \\u05d4\\u05dc\\u05d9\\u05da \\u05e4\\u05dc\\u05d9\\u05dc\\u05d9 \\u05dc\\u05e4\\u05d9 \\u05d7\\u05d5\\u05e7 \\u05d4\\u05ea\\u05db\\u05e0\\u05d5\\u05df \\u05d5\\u05d4\\u05d1\\u05e0\\u05d9\\u05d4, \\u05d4\\u05ea\\u05e9\\u05db\\\"\\u05d4-1965. \\u05d4\\u05d1\\u05e7\\u05e9\\u05d4 \\u05e0\\u05d3\\u05d7\\u05ea\\u05d4 \\u05e2\\u05dc \\u05d9\\u05d3\\u05d9 \\u05d1\\u05d9\\u05ea \\u05d4\\u05de\\u05e9\\u05e4\\u05d8 \\u05dc\\u05e2\\u05e0\\u05d9\\u05d9\\u05e0\\u05d9\\u05dd \\u05de\\u05e7\\u05d5\\u05de\\u05d9\\u05d9\\u05dd \\u05d1\\u05d1\\u05d9\\u05ea \\u05e9\\u05de\\u05e9 \\u05d5\\u05e2\\u05dc \\u05db\\u05df \\u05d4\\u05d2\\u05d9\\u05e9\\u05d5 \\u05d4\\u05de\\u05d1\\u05e7\\u05e9\\u05d9\\u05dd \\u05e2\\u05e8\\u05e2\\u05d5\\u05e8 \\u05dc\\u05d1\\u05d9\\u05ea \\u05d4\\u05de\\u05e9\\u05e4\\u05d8 \\u05d4\\u05de\\u05d7\\u05d5\\u05d6\\u05d9, \\u05d0\\u05e9\\u05e8 \\u05e7\\u05d1\\u05e2 \\u05db\\u05d9 \\u05ea\\u05d9\\u05e0\\u05ea\\u05df \\u05dc\\u05de\\u05d1\\u05e7\\u05e9\\u05d9\\u05dd \\u05d0\\u05d5\\u05e8\\u05db\\u05d4 \\u05dc\\u05e4\\u05e0\\u05d5\\u05ea \\u05d0\\u05ea \\u05d4\\u05de\\u05d1\\u05e0\\u05d4 \\u05e2\\u05d3 \\u05dc\\u05d9\\u05d5\\u05dd 1.4.2017 \\u05d5\\u05dc\\u05d4\\u05e8\\u05e1\\u05d5 \\u05e2\\u05d3 \\u05dc\\u05d9\\u05d5\\u05dd 2.5.2017. \\u05dc\\u05d0\\u05d7\\u05e8 \\u05de\\u05db\\u05df \\u05d4\\u05de\\u05d1\\u05e7\\u05e9\\u05d9\\u05dd \\u05d4\\u05d2\\u05d9\\u05e9\\u05d5 \\u05d1\\u05e7\\u05e9\\u05ea \\u05d0\\u05d5\\u05e8\\u05db\\u05d4 \\u05e0\\u05d5\\u05e1\\u05e4\\u05ea \\u05dc\\u05d1\\u05d9\\u05ea \\u05d4\\u05de\\u05e9\\u05e4\\u05d8 \\u05d4\\u05de\\u05d7\\u05d5\\u05d6\\u05d9, \\u05d5\\u05d6\\u05d5 \\u05e0\\u05d3\\u05d7\\u05ea\\u05d4. \\u05e2\\u05dc \\u05db\\u05da \\u05e0\\u05e1\\u05d1\\u05d4 \\u05d4\\u05d1\\u05e7\\u05e9\\u05d4 \\u05e9\\u05d1\\u05e4\\u05e0\\u05d9. 3. \\u05d1\\u05ea\\u05e9\\u05d5\\u05d1\\u05d4 \\u05e9\\u05d4\\u05d5\\u05d2\\u05e9\\u05d4 \\u05de\\u05d8\\u05e2\\u05dd \\u05d4\\u05de\\u05e9\\u05d9\\u05d1\\u05d4 \\u05e6\\u05d5\\u05d9\\u05df \\u05db\\u05d9 \\u05d4\\u05de\\u05e7\\u05e8\\u05d4 \\u05d4\\u05e2\\u05d5\\u05de\\u05d3 \\u05d1\\u05d9\\u05e1\\u05d5\\u05d3 \\u05d4\\u05d4\\u05dc\\u05d9\\u05da \\u05db\\u05e8\\u05d5\\u05da \\u05d1\\u05e0\\u05e1\\u05d9\\u05d1\\u05d5\\u05ea \\u05d0\\u05d9\\u05e9\\u05d9\\u05d5\\u05ea \\u05d5\\u05de\\u05e9\\u05e4\\u05d7\\u05ea\\u05d9\\u05d5\\u05ea \\u05d7\\u05e8\\u05d9\\u05d2\\u05d5\\u05ea \\u05d5\\u05e7\\u05e9\\u05d5\\u05ea \\u05d5\\u05e2\\u05dc \\u05db\\u05df \\u05d4\\u05d9\\u05d0 \\u05de\\u05d1\\u05e7\\u05e9\\u05ea \\u05dc\\u05d4\\u05d5\\u05ea\\u05d9\\u05e8 \\u05d0\\u05ea \\u05d4\\u05d4\\u05db\\u05e8\\u05e2\\u05d4 \\u05d1\\u05d5 \\u05dc\\u05e9\\u05d9\\u05e7\\u05d5\\u05dc \\u05d3\\u05e2\\u05ea\\u05d5 \\u05e9\\u05dc \\u05d1\\u05d9\\u05ea \\u05d4\\u05de\\u05e9\\u05e4\\u05d8. \\u05d1\\u05d4\\u05ea\\u05d7\\u05e9\\u05d1 \\u05d1\\u05db\\u05da \\u05d5\\u05dc\\u05d0\\u05d7\\u05e8 \\u05e9\\u05d1\\u05d7\\u05e0\\u05ea\\u05d9 \\u05d0\\u05ea \\u05de\\u05db\\u05dc\\u05d5\\u05dc \\u05d4\\u05e0\\u05e1\\u05d9\\u05d1\\u05d5\\u05ea \\u05d4\\u05e2\\u05e0\\u05d9\\u05d9\\u05df, \\u05d0\\u05e0\\u05d9 \\u05de\\u05d5\\u05e8\\u05d4 \\u05e2\\u05dc \\u05de\\u05ea\\u05df \\u05d0\\u05d5\\u05e8\\u05db\\u05d4 \\u05e0\\u05d5\\u05e1\\u05e4\\u05ea \\u05dc\\u05de\\u05d1\\u05e7\\u05e9\\u05d9\\u05dd \\u05dc\\u05e4\\u05e0\\u05d5\\u05ea \\u05d0\\u05ea \\u05d4\\u05de\\u05d1\\u05e0\\u05d4 \\u05e2\\u05d3 \\u05dc\\u05d9\\u05d5\\u05dd 1.7.2017 \\u05d5\\u05dc\\u05d4\\u05e8\\u05e1\\u05d5 \\u05e2\\u05d3 \\u05dc\\u05d9\\u05d5\\u05dd 2.8.2017 (\\u05d1\\u05ea\\u05e0\\u05d0\\u05d9\\u05dd \\u05e9\\u05e0\\u05e7\\u05d1\\u05e2\\u05d5 \\u05d1\\u05e4\\u05e1\\u05e7 \\u05d3\\u05d9\\u05e0\\u05d5 \\u05e9\\u05dc \\u05d1\\u05d9\\u05ea \\u05d4\\u05de\\u05e9\\u05e4\\u05d8 \\u05d4\\u05de\\u05d7\\u05d5\\u05d6\\u05d9). 4. \\u05d4\\u05d1\\u05e7\\u05e9\\u05d4 \\u05de\\u05ea\\u05e7\\u05d1\\u05dc\\u05ea \\u05d0\\u05e4\\u05d5\\u05d0 \\u05db\\u05de\\u05e4\\u05d5\\u05e8\\u05d8 \\u05d1\\u05e4\\u05e1\\u05e7\\u05d4 3. \\u05e2\\u05dc \\u05d4\\u05de\\u05d1\\u05e7\\u05e9\\u05d9\\u05dd \\u05dc\\u05d4\\u05d1\\u05d9\\u05df \\u05db\\u05d9 \\u05d4\\u05d4\\u05d9\\u05e2\\u05e0\\u05d5\\u05ea \\u05dc\\u05d1\\u05e7\\u05e9\\u05ea\\u05dd \\u05d4\\u05ea\\u05d0\\u05e4\\u05e9\\u05e8\\u05d4 \\u05dc\\u05e0\\u05d5\\u05db\\u05d7 \\u05d4\\u05e2\\u05de\\u05d3\\u05d4 \\u05e9\\u05d2\\u05d9\\u05dc\\u05ea\\u05d4 \\u05d4\\u05de\\u05e9\\u05d9\\u05d1\\u05d4, \\u05d5\\u05db\\u05d9 \\u05d0\\u05dc \\u05dc\\u05d4\\u05dd \\u05dc\\u05e6\\u05e4\\u05d5\\u05ea \\u05dc\\u05db\\u05dc \\u05d4\\u05e7\\u05dc\\u05d5\\u05ea \\u05e0\\u05d5\\u05e1\\u05e4\\u05d5\\u05ea, \\u05d0\\u05dc\\u05d0 \\u05dc\\u05d4\\u05d9\\u05e2\\u05e8\\u05da \\u05dc\\u05d1\\u05d9\\u05e6\\u05d5\\u05e2 \\u05d4\\u05e6\\u05d5 \\u05d4\\u05e9\\u05d9\\u05e4\\u05d5\\u05d8\\u05d9, \\u05de\\u05e9\\u05ea\\u05de\\u05d5 \\u05d4\\u05d4\\u05dc\\u05d9\\u05db\\u05d9\\u05dd \\u05db\\u05d5\\u05dc\\u05dd. \\u05e0\\u05d9\\u05ea\\u05df \\u05d4\\u05d9\\u05d5\\u05dd, \\\\u200f\\u05d9\\\"\\u05d8 \\u05d1\\u05e9\\u05d1\\u05d8 \\u05d4\\u05ea\\u05e9\\u05e2\\\"\\u05d6 (\\\\u200f15.2.2017). \\u05e9 \\u05d5 \\u05e4 \\u05d8 \\u05ea _________________________ \"\n        ],\n        \"semantic_type\": \"\",\n        \"description\": \"\"\n      }\n    },\n    {\n      \"column\": \"\\u05ea\\u05d5\\u05e6\\u05d0\\u05d4 \\u05de\\u05e1\\u05db\\u05de\\u05ea\",\n      \"properties\": {\n        \"dtype\": \"string\",\n        \"num_unique_values\": 5,\n        \"samples\": [\n          \"\\u05d1\\u05e7\\u05e9\\u05d4 \\u05d0\\u05d7\\u05e8\\u05ea\\n\\u05d1\\u05e7\\u05e9\\u05d4 \\u05dc\\u05d3\\u05d7\\u05d9\\u05d9\\u05ea \\u05de\\u05d5\\u05e2\\u05d3 \\u05ea\\u05d7\\u05d9\\u05dc\\u05ea \\u05e8\\u05d9\\u05e6\\u05d5\\u05d9 \\u05e2\\u05d5\\u05e0\\u05e9 \\u05d4\\u05de\\u05d0\\u05e1\\u05e8\",\n          \"\\u05d3\\u05d0 \\u05e2\\u05e7\\u05d0, \\u05de\\u05e9\\u05d8\\u05e8\\u05dd \\u05e0\\u05ea\\u05d1\\u05e8\\u05e8, \\u05d5\\u05de\\u05de\\u05d9\\u05dc\\u05d0 \\u05d8\\u05e8\\u05dd \\u05d4\\u05d5\\u05db\\u05e8\\u05e2, \\u05e2\\u05e0\\u05d9\\u05d9\\u05e0\\u05dd \\u05e9\\u05dc \\u05d4\\u05de\\u05d1\\u05e7\\u05e9\\u05d9\\u05dd - \\u05dc\\u05d2\\u05d5\\u05e4\\u05d5 - \\u05d1\\u05e2\\u05e8\\u05db\\u05d0\\u05d4 \\u05d4\\u05e8\\u05d0\\u05e9\\u05d5\\u05e0\\u05d4, \\u05d0\\u05d9\\u05df \\u05de\\u05e7\\u05d5\\u05dd \\u05dc\\u05d3\\u05d5\\u05df \\u05d1\\u05d8\\u05e2\\u05e0\\u05d5\\u05ea\\u05d9\\u05d4\\u05dd \\u05d1\\u05e4\\u05e0\\u05d9 \\u05d1\\u05d9\\u05ea \\u05de\\u05e9\\u05e4\\u05d8 \\u05d6\\u05d4. \\u05dc\\u05d0\\u05d7\\u05e8 \\u05e9\\u05d9\\u05de\\u05d5\\u05e6\\u05d5 \\u05d4\\u05d4\\u05dc\\u05d9\\u05db\\u05d9\\u05dd \\u05d1\\u05d1\\u05d9\\u05ea \\u05de\\u05e9\\u05e4\\u05d8 \\u05d4\\u05e9\\u05dc\\u05d5\\u05dd, \\u05d5\\u05d0\\u05dd \\u05d9\\u05d4\\u05d9\\u05d4 \\u05e6\\u05d5\\u05e8\\u05da \\u05d2\\u05dd \\u05d1\\u05d1\\u05d9\\u05ea \\u05d4\\u05de\\u05e9\\u05e4\\u05d8 \\u05d4\\u05de\\u05d7\\u05d5\\u05d6\\u05d9 - \\u05d9\\u05d4\\u05d9\\u05d5 \\u05e8\\u05e9\\u05d0\\u05d9\\u05dd \\u05d4\\u05de\\u05d1\\u05e7\\u05e9\\u05d9\\u05dd - \\u05e9\\u05d5\\u05d1, \\u05d0\\u05dd \\u05d9\\u05d4\\u05d9\\u05d4 \\u05e6\\u05d5\\u05e8\\u05da - \\u05dc\\u05e4\\u05e0\\u05d5\\u05ea \\u05dc\\u05d1\\u05d9\\u05ea \\u05de\\u05e9\\u05e4\\u05d8 \\u05d6\\u05d4 \\u05d1\\u05d1\\u05e7\\u05e9\\u05ea \\u05e8\\u05e9\\u05d5\\u05ea \\u05e2\\u05e8\\u05e2\\u05d5\",\n          \"\\u05d1\\u05d9\\u05d4\\u05de\\u05f3\\u05f3\\u05e9 \\u05e0\\u05ea\\u05df \\u05d0\\u05d5\\u05e8\\u05db\\u05d4 \\u05d0\\u05da \\u05dc\\u05d0 \\u05d1\\u05d9\\u05d8\\u05dc \\u05d0\\u05ea \\u05e6\\u05d5 \\u05d4\\u05d4\\u05e8\\u05d9\\u05e1\\u05d4\\n\\u05d4\\u05d1\\u05e7\\u05e9\\u05d4 \\u05de\\u05ea\\u05e7\\u05d1\\u05dc\\u05ea \\u05d0\\u05e4\\u05d5\\u05d0 \\u05db\\u05de\\u05e4\\u05d5\\u05e8\\u05d8 \\u05d1\\u05e4\\u05e1\\u05e7\\u05d4 3\"\n        ],\n        \"semantic_type\": \"\",\n        \"description\": \"\"\n      }\n    }\n  ]\n}"
            }
          },
          "metadata": {},
          "execution_count": 23
        }
      ]
    },
    {
      "cell_type": "code",
      "source": [
        "df[[\"גוף המסמך חתוך\", \"תוצאה מסכמת\"]].sample(5, random_state=42)"
      ],
      "metadata": {
        "colab": {
          "base_uri": "https://localhost:8080/",
          "height": 935
        },
        "id": "mIGeDoOU8nNx",
        "outputId": "964f37f0-7716-496f-cd5d-f43af160e898"
      },
      "execution_count": 24,
      "outputs": [
        {
          "output_type": "execute_result",
          "data": {
            "text/plain": [
              "                                                                                                                                                                                                                                                                                                                                                                                                                                                                                                                                                                                                                                                                                                                                                                                                                                                                                                                                                                                                                                                                                                                                                                                                                                                                                                                                                                                                                                                                                                                                                                                                                                                                                                                                                  גוף המסמך חתוך  \\\n",
              "3004                                                                                                                                                                                                                                                                                                                                                                                                                                                                                                                                                                                                                                                                                                                                                                                                                                                                                                                                                                                                                                       ['פסק דין בתיק רע\"פ 4386/08 בבית המשפט העליון רע\"פ 4386/08 בפני: כבוד השופטת א\\' פרוקצ\\'יה כבוד השופט א\\' רובינשטיין כבוד השופט ס\\' ג\\'ובראן המבקש: גד כהן נגד המשיבה: מדינת ישראל בקשת רשות ערעור על פסק-דינו של בית המשפט המחוזי בירושלים מיום 30.4.08 בע\"פ 2074/08 שניתן על-ידי כבוד השופט ע\\' חבש – סג\"נ בשם המבקש: עו\"ד דוד גולן בשם המשיבה: עו\"ד מיטל בוכמן-שינדל פסק דין לאור הסכמת הצדדים, המוצאת את ביטויה בסעיף 3 לתגובת המשיבה, ניתנת בזאת רשות ערעור, והערעור מתקבל במובן זה שפסקי הדין נשוא הבקשה שניתנו בעניינו של המבקש מבוטלים בזאת, והתיק מוחזר לבית משפט השלום לתעבורה בירושלים לדיון מחודש בעניינו. ניתן היום, א\\' בחשון התשס\"ט (30.10.2008). ש ו פ ט ת ש ו פ ט ש ו פ ט _________________________    \n",
              "1922                                                                                                                                                                                                                                                                                                                                                                                                                                                                                                                                                                                                                                                                                                                                                                                                                                                                                                                                                                                                                                                                                                                                                                                                                                                                                                                                                                                                                                                       ['החלטה בתיק רע\"פ 1682/11 בבית המשפט העליון רע\"פ 1682/11 בפני: כבוד השופט ס\\' ג\\'ובראן המבקש: ואיל מזערה נגד המשיבה: מדינת ישראל בקשה לדחיית מועד תחילת ריצוי עונש המאסר בשם המבקש: עו\"ד מאליק מנצור החלטה הבקשה נדחית. ניתנה היום, כ\"ה באדר ב התשע\"א (31.3.2011). ש ו פ ט _________________________    \n",
              "3096  ['החלטה בתיק בש\"פ 1092/17 בבית המשפט העליון רע\"פ 1092/17 לפני: כבוד השופטת ד\\' ברק-ארז המערערים: 1. כפיר דהן 2. שירה דהן נגד המשיבה: הוועדה המקומית לתכנון ובניה מטה יהודה בקשת רשות ערעור על פסק דינו של בית המשפט המחוזי בירושלים מיום 30.1.2017 בע\"פ 23940-12-16 שניתן על-ידי כבוד השופט ח\\' מ\\' לומפ בשם המערערים: בעצמם בשם המשיבה: עו\"ד רעות אהרון, עו\"ד מאיר בן דוד פסק דין 1. הבקשה שבפני נקלטה במזכירות בית המשפט, בטעות, תחת הסיווג בש\"פ. הלכה למעשה, מדובר בבקשת רשות לערער על פסק דינו של בית המשפט המחוזי בירושלים מיום 30.1.2017 (ע\"פ 23940-12-16, השופטת ח\\' מ\\' לומפ). סיווגה הראוי אפוא הוא רע\"פ, וכך אני מורה. 2. מקורו של ההליך דנן הוא בבקשה למתן אורכה לביצועו של צו ההריסה שהוצא ביחס למבנה היביל שבו מתגוררים המבקשים במסגרת הליך פלילי לפי חוק התכנון והבניה, התשכ\"ה-1965. הבקשה נדחתה על ידי בית המשפט לעניינים מקומיים בבית שמש ועל כן הגישו המבקשים ערעור לבית המשפט המחוזי, אשר קבע כי תינתן למבקשים אורכה לפנות את המבנה עד ליום 1.4.2017 ולהרסו עד ליום 2.5.2017. לאחר מכן המבקשים הגישו בקשת אורכה נוספת לבית המשפט המחוזי, וזו נדחתה. על כך נסבה הבקשה שבפני. 3. בתשובה שהוגשה מטעם המשיבה צוין כי המקרה העומד ביסוד ההליך כרוך בנסיבות אישיות ומשפחתיות חריגות וקשות ועל כן היא מבקשת להותיר את ההכרעה בו לשיקול דעתו של בית המשפט. בהתחשב בכך ולאחר שבחנתי את מכלול הנסיבות העניין, אני מורה על מתן אורכה נוספת למבקשים לפנות את המבנה עד ליום 1.7.2017 ולהרסו עד ליום 2.8.2017 (בתנאים שנקבעו בפסק דינו של בית המשפט המחוזי). 4. הבקשה מתקבלת אפוא כמפורט בפסקה 3. על המבקשים להבין כי ההיענות לבקשתם התאפשרה לנוכח העמדה שגילתה המשיבה, וכי אל להם לצפות לכל הקלות נוספות, אלא להיערך לביצוע הצו השיפוטי, משתמו ההליכים כולם. ניתן היום, \\u200fי\"ט בשבט התשע\"ז (\\u200f15.2.2017). ש ו פ ט ת _________________________    \n",
              "3022                                                                                                                                                                                                                                                                                                                                                                                                                                                                                                                                                                                                                                                                                                                                                                                                                                                                                                                                                                                 ['פסק דין בתיק רע\"פ 1793/09 בבית המשפט העליון רע\"פ 1793/09 בפני: כבוד השופט א\\' א\\' לוי כבוד השופטת ע\\' ארבל כבוד השופט י\\' דנציגר המבקשים: 1. פאבל מינסטר 2. זאב שוורץ נגד המשיבה: מדינת ישראל בקשת רשות ערעור על פסק-דינו של ביתה משפט המחוזי בתל-אביב, בע\"פ 70149/08, מיום 28.1.09, שניתן על ידי כבוד ס\\' הנשיא השופטת ד\\' ברלינר, ס. הנשיא השופט ז\\' המר, ס. הנשיא השופטת ב\\' אופיר-תום בשם המבקש 1: עו\"ד אמיר ציון בשם המבקש 2: עו\"ד רובינשטיין מנחם פסק דין נוכח האמור בתגובת המשיבה, ניתנת בזאת רשות ערעור והבקשה תידון כבערעור גופו. עניינם של המבקשים יובא בשנית בפני בית המשפט המחוזי, המתבקש להבהיר אם תוצאת פסק-דינו היא זיכוי מוחלט של המבקשים או זיכוי מחמת הספק. ניתן היום, ט\"ו באדר התשס\"ט (11.03.09). ש ו פ ט ש ו פ ט ת ש ו פ ט _________________________    \n",
              "2649                                                                                                                                                                                                    ['בבית המשפט העליון בירושלים רע\"פ 9608/01 בפני: כבוד השופט א\\' ריבלין המבקשים: 1. גשמי ברכה ה.ש.י.ג.(1995) 2. גשמי ברכה בע\"מ 3. ה.ש.י.ג.(1995)יזום פרוייקטים 4. שנהב זאב נגד המשיבה: מדינת ישראל בקשת רשות ערעור על פסק-דינו של בית המשפט המחוזי בתל-אביב-יפו מיום 23.10.2001 בתיק עפ\"א 80190/01 שניתן על ידי כבוד השופטים: ד\\' ברלינר, ז\\' המר, י\\' שטופמן בשם המבקשים: עו\"ד שרית שלמון בשם המשיבה: עו\"ד ענבר פלש החלטה בית המשפט לעניינים מקומיים בפתח תקוה (כבוד השופט ג\\' שטרסמן) ביטל את כתב האישום שהוגש כנגד המבקשים, והמייחס להם ביצוע עבירות טעונות היתר בסטיה מהיתר או מתכנית. ערעורה של המדינה על החלטה זו, לבית המשפט המחוזי בתל-אביב (כבוד השופטים ד\\' ברלינר, ז\\' המר וי\\' שטופמן) - התקבל. ההחלטה בדבר ביטול כתב האישום בוטלה, והדיון הוחזר לבית המשפט לעניינים מקומיים, להמשך בירורו למן השלב אליו הגיע. כנגד פסק-דינו של בית המשפט המחוזי מופנית הבקשה שלפנינו. דא עקא, משטרם נתברר, וממילא טרם הוכרע, עניינם של המבקשים - לגופו - בערכאה הראשונה, אין מקום לדון בטענותיהם בפני בית משפט זה. לאחר שימוצו ההליכים בבית משפט השלום, ואם יהיה צורך גם בבית המשפט המחוזי - יהיו רשאים המבקשים - שוב, אם יהיה צורך - לפנות לבית משפט זה בבקשת רשות ערעור (ראו רע\"פ 4632/97 אקסלרוד נ\\' מדינת ישראל (תק-על 97(3) 118)). ניתנה היום, ה\\' באדר תשס\"ב (17.2.2002). ש ו פ ט _________________ העתק מתאים למקור 01096080.P02 /אמ נוסח זה כפוף לשינויי עריכה וניסוח. שמריהו כהן - מזכיר ראשי בבית המשפט העליון פועל מרכז מידע, טל\\' 02-6750444 בית המשפט פתוח להערות והצעות: pniot@supreme.court.gov.il לבתי המשפט אתר באינטרנט: www.court.gov.il']   \n",
              "\n",
              "                                                                                                                                                                                                                                                                             תוצאה מסכמת  \n",
              "3004                                                                                                                                       ניתנת בזאת רשות ערעור, והערעור מתקבל במובן זה שפסקי הדין נשוא הבקשה שניתנו בעניינו של המבקש מבוטלים בזאת, והתיק מוחזר לבית משפט השלום לתעבורה  \n",
              "1922                                                                                                                                                                                                                                  בקשה אחרת\\nבקשה לדחיית מועד תחילת ריצוי עונש המאסר  \n",
              "3096                                                                                                                                                                                                         ביהמ׳׳ש נתן אורכה אך לא ביטל את צו ההריסה\\nהבקשה מתקבלת אפוא כמפורט בפסקה 3  \n",
              "3022                                                                                                                                                                                                                                      ביהמש לא הכריע בערעור והחזיר לדיון נוסף במחוזי  \n",
              "2649  דא עקא, משטרם נתברר, וממילא טרם הוכרע, עניינם של המבקשים - לגופו - בערכאה הראשונה, אין מקום לדון בטענותיהם בפני בית משפט זה. לאחר שימוצו ההליכים בבית משפט השלום, ואם יהיה צורך גם בבית המשפט המחוזי - יהיו רשאים המבקשים - שוב, אם יהיה צורך - לפנות לבית משפט זה בבקשת רשות ערעו  "
            ],
            "text/html": [
              "\n",
              "  <div id=\"df-e3bbd6e6-e5d0-44a4-a60e-0827b52f1f9d\" class=\"colab-df-container\">\n",
              "    <div>\n",
              "<style scoped>\n",
              "    .dataframe tbody tr th:only-of-type {\n",
              "        vertical-align: middle;\n",
              "    }\n",
              "\n",
              "    .dataframe tbody tr th {\n",
              "        vertical-align: top;\n",
              "    }\n",
              "\n",
              "    .dataframe thead th {\n",
              "        text-align: right;\n",
              "    }\n",
              "</style>\n",
              "<table border=\"1\" class=\"dataframe\">\n",
              "  <thead>\n",
              "    <tr style=\"text-align: right;\">\n",
              "      <th></th>\n",
              "      <th>גוף המסמך חתוך</th>\n",
              "      <th>תוצאה מסכמת</th>\n",
              "    </tr>\n",
              "  </thead>\n",
              "  <tbody>\n",
              "    <tr>\n",
              "      <th>3004</th>\n",
              "      <td>['פסק דין בתיק רע\"פ 4386/08 בבית המשפט העליון רע\"פ 4386/08 בפני: כבוד השופטת א\\' פרוקצ\\'יה כבוד השופט א\\' רובינשטיין כבוד השופט ס\\' ג\\'ובראן המבקש: גד כהן נגד המשיבה: מדינת ישראל בקשת רשות ערעור על פסק-דינו של בית המשפט המחוזי בירושלים מיום 30.4.08 בע\"פ 2074/08 שניתן על-ידי כבוד השופט ע\\' חבש – סג\"נ בשם המבקש: עו\"ד דוד גולן בשם המשיבה: עו\"ד מיטל בוכמן-שינדל פסק דין לאור הסכמת הצדדים, המוצאת את ביטויה בסעיף 3 לתגובת המשיבה, ניתנת בזאת רשות ערעור, והערעור מתקבל במובן זה שפסקי הדין נשוא הבקשה שניתנו בעניינו של המבקש מבוטלים בזאת, והתיק מוחזר לבית משפט השלום לתעבורה בירושלים לדיון מחודש בעניינו. ניתן היום, א\\' בחשון התשס\"ט (30.10.2008). ש ו פ ט ת ש ו פ ט ש ו פ ט _________________________</td>\n",
              "      <td>ניתנת בזאת רשות ערעור, והערעור מתקבל במובן זה שפסקי הדין נשוא הבקשה שניתנו בעניינו של המבקש מבוטלים בזאת, והתיק מוחזר לבית משפט השלום לתעבורה</td>\n",
              "    </tr>\n",
              "    <tr>\n",
              "      <th>1922</th>\n",
              "      <td>['החלטה בתיק רע\"פ 1682/11 בבית המשפט העליון רע\"פ 1682/11 בפני: כבוד השופט ס\\' ג\\'ובראן המבקש: ואיל מזערה נגד המשיבה: מדינת ישראל בקשה לדחיית מועד תחילת ריצוי עונש המאסר בשם המבקש: עו\"ד מאליק מנצור החלטה הבקשה נדחית. ניתנה היום, כ\"ה באדר ב התשע\"א (31.3.2011). ש ו פ ט _________________________</td>\n",
              "      <td>בקשה אחרת\\nבקשה לדחיית מועד תחילת ריצוי עונש המאסר</td>\n",
              "    </tr>\n",
              "    <tr>\n",
              "      <th>3096</th>\n",
              "      <td>['החלטה בתיק בש\"פ 1092/17 בבית המשפט העליון רע\"פ 1092/17 לפני: כבוד השופטת ד\\' ברק-ארז המערערים: 1. כפיר דהן 2. שירה דהן נגד המשיבה: הוועדה המקומית לתכנון ובניה מטה יהודה בקשת רשות ערעור על פסק דינו של בית המשפט המחוזי בירושלים מיום 30.1.2017 בע\"פ 23940-12-16 שניתן על-ידי כבוד השופט ח\\' מ\\' לומפ בשם המערערים: בעצמם בשם המשיבה: עו\"ד רעות אהרון, עו\"ד מאיר בן דוד פסק דין 1. הבקשה שבפני נקלטה במזכירות בית המשפט, בטעות, תחת הסיווג בש\"פ. הלכה למעשה, מדובר בבקשת רשות לערער על פסק דינו של בית המשפט המחוזי בירושלים מיום 30.1.2017 (ע\"פ 23940-12-16, השופטת ח\\' מ\\' לומפ). סיווגה הראוי אפוא הוא רע\"פ, וכך אני מורה. 2. מקורו של ההליך דנן הוא בבקשה למתן אורכה לביצועו של צו ההריסה שהוצא ביחס למבנה היביל שבו מתגוררים המבקשים במסגרת הליך פלילי לפי חוק התכנון והבניה, התשכ\"ה-1965. הבקשה נדחתה על ידי בית המשפט לעניינים מקומיים בבית שמש ועל כן הגישו המבקשים ערעור לבית המשפט המחוזי, אשר קבע כי תינתן למבקשים אורכה לפנות את המבנה עד ליום 1.4.2017 ולהרסו עד ליום 2.5.2017. לאחר מכן המבקשים הגישו בקשת אורכה נוספת לבית המשפט המחוזי, וזו נדחתה. על כך נסבה הבקשה שבפני. 3. בתשובה שהוגשה מטעם המשיבה צוין כי המקרה העומד ביסוד ההליך כרוך בנסיבות אישיות ומשפחתיות חריגות וקשות ועל כן היא מבקשת להותיר את ההכרעה בו לשיקול דעתו של בית המשפט. בהתחשב בכך ולאחר שבחנתי את מכלול הנסיבות העניין, אני מורה על מתן אורכה נוספת למבקשים לפנות את המבנה עד ליום 1.7.2017 ולהרסו עד ליום 2.8.2017 (בתנאים שנקבעו בפסק דינו של בית המשפט המחוזי). 4. הבקשה מתקבלת אפוא כמפורט בפסקה 3. על המבקשים להבין כי ההיענות לבקשתם התאפשרה לנוכח העמדה שגילתה המשיבה, וכי אל להם לצפות לכל הקלות נוספות, אלא להיערך לביצוע הצו השיפוטי, משתמו ההליכים כולם. ניתן היום, \\u200fי\"ט בשבט התשע\"ז (\\u200f15.2.2017). ש ו פ ט ת _________________________</td>\n",
              "      <td>ביהמ׳׳ש נתן אורכה אך לא ביטל את צו ההריסה\\nהבקשה מתקבלת אפוא כמפורט בפסקה 3</td>\n",
              "    </tr>\n",
              "    <tr>\n",
              "      <th>3022</th>\n",
              "      <td>['פסק דין בתיק רע\"פ 1793/09 בבית המשפט העליון רע\"פ 1793/09 בפני: כבוד השופט א\\' א\\' לוי כבוד השופטת ע\\' ארבל כבוד השופט י\\' דנציגר המבקשים: 1. פאבל מינסטר 2. זאב שוורץ נגד המשיבה: מדינת ישראל בקשת רשות ערעור על פסק-דינו של ביתה משפט המחוזי בתל-אביב, בע\"פ 70149/08, מיום 28.1.09, שניתן על ידי כבוד ס\\' הנשיא השופטת ד\\' ברלינר, ס. הנשיא השופט ז\\' המר, ס. הנשיא השופטת ב\\' אופיר-תום בשם המבקש 1: עו\"ד אמיר ציון בשם המבקש 2: עו\"ד רובינשטיין מנחם פסק דין נוכח האמור בתגובת המשיבה, ניתנת בזאת רשות ערעור והבקשה תידון כבערעור גופו. עניינם של המבקשים יובא בשנית בפני בית המשפט המחוזי, המתבקש להבהיר אם תוצאת פסק-דינו היא זיכוי מוחלט של המבקשים או זיכוי מחמת הספק. ניתן היום, ט\"ו באדר התשס\"ט (11.03.09). ש ו פ ט ש ו פ ט ת ש ו פ ט _________________________</td>\n",
              "      <td>ביהמש לא הכריע בערעור והחזיר לדיון נוסף במחוזי</td>\n",
              "    </tr>\n",
              "    <tr>\n",
              "      <th>2649</th>\n",
              "      <td>['בבית המשפט העליון בירושלים רע\"פ 9608/01 בפני: כבוד השופט א\\' ריבלין המבקשים: 1. גשמי ברכה ה.ש.י.ג.(1995) 2. גשמי ברכה בע\"מ 3. ה.ש.י.ג.(1995)יזום פרוייקטים 4. שנהב זאב נגד המשיבה: מדינת ישראל בקשת רשות ערעור על פסק-דינו של בית המשפט המחוזי בתל-אביב-יפו מיום 23.10.2001 בתיק עפ\"א 80190/01 שניתן על ידי כבוד השופטים: ד\\' ברלינר, ז\\' המר, י\\' שטופמן בשם המבקשים: עו\"ד שרית שלמון בשם המשיבה: עו\"ד ענבר פלש החלטה בית המשפט לעניינים מקומיים בפתח תקוה (כבוד השופט ג\\' שטרסמן) ביטל את כתב האישום שהוגש כנגד המבקשים, והמייחס להם ביצוע עבירות טעונות היתר בסטיה מהיתר או מתכנית. ערעורה של המדינה על החלטה זו, לבית המשפט המחוזי בתל-אביב (כבוד השופטים ד\\' ברלינר, ז\\' המר וי\\' שטופמן) - התקבל. ההחלטה בדבר ביטול כתב האישום בוטלה, והדיון הוחזר לבית המשפט לעניינים מקומיים, להמשך בירורו למן השלב אליו הגיע. כנגד פסק-דינו של בית המשפט המחוזי מופנית הבקשה שלפנינו. דא עקא, משטרם נתברר, וממילא טרם הוכרע, עניינם של המבקשים - לגופו - בערכאה הראשונה, אין מקום לדון בטענותיהם בפני בית משפט זה. לאחר שימוצו ההליכים בבית משפט השלום, ואם יהיה צורך גם בבית המשפט המחוזי - יהיו רשאים המבקשים - שוב, אם יהיה צורך - לפנות לבית משפט זה בבקשת רשות ערעור (ראו רע\"פ 4632/97 אקסלרוד נ\\' מדינת ישראל (תק-על 97(3) 118)). ניתנה היום, ה\\' באדר תשס\"ב (17.2.2002). ש ו פ ט _________________ העתק מתאים למקור 01096080.P02 /אמ נוסח זה כפוף לשינויי עריכה וניסוח. שמריהו כהן - מזכיר ראשי בבית המשפט העליון פועל מרכז מידע, טל\\' 02-6750444 בית המשפט פתוח להערות והצעות: pniot@supreme.court.gov.il לבתי המשפט אתר באינטרנט: www.court.gov.il']</td>\n",
              "      <td>דא עקא, משטרם נתברר, וממילא טרם הוכרע, עניינם של המבקשים - לגופו - בערכאה הראשונה, אין מקום לדון בטענותיהם בפני בית משפט זה. לאחר שימוצו ההליכים בבית משפט השלום, ואם יהיה צורך גם בבית המשפט המחוזי - יהיו רשאים המבקשים - שוב, אם יהיה צורך - לפנות לבית משפט זה בבקשת רשות ערעו</td>\n",
              "    </tr>\n",
              "  </tbody>\n",
              "</table>\n",
              "</div>\n",
              "    <div class=\"colab-df-buttons\">\n",
              "\n",
              "  <div class=\"colab-df-container\">\n",
              "    <button class=\"colab-df-convert\" onclick=\"convertToInteractive('df-e3bbd6e6-e5d0-44a4-a60e-0827b52f1f9d')\"\n",
              "            title=\"Convert this dataframe to an interactive table.\"\n",
              "            style=\"display:none;\">\n",
              "\n",
              "  <svg xmlns=\"http://www.w3.org/2000/svg\" height=\"24px\" viewBox=\"0 -960 960 960\">\n",
              "    <path d=\"M120-120v-720h720v720H120Zm60-500h600v-160H180v160Zm220 220h160v-160H400v160Zm0 220h160v-160H400v160ZM180-400h160v-160H180v160Zm440 0h160v-160H620v160ZM180-180h160v-160H180v160Zm440 0h160v-160H620v160Z\"/>\n",
              "  </svg>\n",
              "    </button>\n",
              "\n",
              "  <style>\n",
              "    .colab-df-container {\n",
              "      display:flex;\n",
              "      gap: 12px;\n",
              "    }\n",
              "\n",
              "    .colab-df-convert {\n",
              "      background-color: #E8F0FE;\n",
              "      border: none;\n",
              "      border-radius: 50%;\n",
              "      cursor: pointer;\n",
              "      display: none;\n",
              "      fill: #1967D2;\n",
              "      height: 32px;\n",
              "      padding: 0 0 0 0;\n",
              "      width: 32px;\n",
              "    }\n",
              "\n",
              "    .colab-df-convert:hover {\n",
              "      background-color: #E2EBFA;\n",
              "      box-shadow: 0px 1px 2px rgba(60, 64, 67, 0.3), 0px 1px 3px 1px rgba(60, 64, 67, 0.15);\n",
              "      fill: #174EA6;\n",
              "    }\n",
              "\n",
              "    .colab-df-buttons div {\n",
              "      margin-bottom: 4px;\n",
              "    }\n",
              "\n",
              "    [theme=dark] .colab-df-convert {\n",
              "      background-color: #3B4455;\n",
              "      fill: #D2E3FC;\n",
              "    }\n",
              "\n",
              "    [theme=dark] .colab-df-convert:hover {\n",
              "      background-color: #434B5C;\n",
              "      box-shadow: 0px 1px 3px 1px rgba(0, 0, 0, 0.15);\n",
              "      filter: drop-shadow(0px 1px 2px rgba(0, 0, 0, 0.3));\n",
              "      fill: #FFFFFF;\n",
              "    }\n",
              "  </style>\n",
              "\n",
              "    <script>\n",
              "      const buttonEl =\n",
              "        document.querySelector('#df-e3bbd6e6-e5d0-44a4-a60e-0827b52f1f9d button.colab-df-convert');\n",
              "      buttonEl.style.display =\n",
              "        google.colab.kernel.accessAllowed ? 'block' : 'none';\n",
              "\n",
              "      async function convertToInteractive(key) {\n",
              "        const element = document.querySelector('#df-e3bbd6e6-e5d0-44a4-a60e-0827b52f1f9d');\n",
              "        const dataTable =\n",
              "          await google.colab.kernel.invokeFunction('convertToInteractive',\n",
              "                                                    [key], {});\n",
              "        if (!dataTable) return;\n",
              "\n",
              "        const docLinkHtml = 'Like what you see? Visit the ' +\n",
              "          '<a target=\"_blank\" href=https://colab.research.google.com/notebooks/data_table.ipynb>data table notebook</a>'\n",
              "          + ' to learn more about interactive tables.';\n",
              "        element.innerHTML = '';\n",
              "        dataTable['output_type'] = 'display_data';\n",
              "        await google.colab.output.renderOutput(dataTable, element);\n",
              "        const docLink = document.createElement('div');\n",
              "        docLink.innerHTML = docLinkHtml;\n",
              "        element.appendChild(docLink);\n",
              "      }\n",
              "    </script>\n",
              "  </div>\n",
              "\n",
              "\n",
              "<div id=\"df-14e3ce6f-3f76-495f-91c6-bb9617869150\">\n",
              "  <button class=\"colab-df-quickchart\" onclick=\"quickchart('df-14e3ce6f-3f76-495f-91c6-bb9617869150')\"\n",
              "            title=\"Suggest charts\"\n",
              "            style=\"display:none;\">\n",
              "\n",
              "<svg xmlns=\"http://www.w3.org/2000/svg\" height=\"24px\"viewBox=\"0 0 24 24\"\n",
              "     width=\"24px\">\n",
              "    <g>\n",
              "        <path d=\"M19 3H5c-1.1 0-2 .9-2 2v14c0 1.1.9 2 2 2h14c1.1 0 2-.9 2-2V5c0-1.1-.9-2-2-2zM9 17H7v-7h2v7zm4 0h-2V7h2v10zm4 0h-2v-4h2v4z\"/>\n",
              "    </g>\n",
              "</svg>\n",
              "  </button>\n",
              "\n",
              "<style>\n",
              "  .colab-df-quickchart {\n",
              "      --bg-color: #E8F0FE;\n",
              "      --fill-color: #1967D2;\n",
              "      --hover-bg-color: #E2EBFA;\n",
              "      --hover-fill-color: #174EA6;\n",
              "      --disabled-fill-color: #AAA;\n",
              "      --disabled-bg-color: #DDD;\n",
              "  }\n",
              "\n",
              "  [theme=dark] .colab-df-quickchart {\n",
              "      --bg-color: #3B4455;\n",
              "      --fill-color: #D2E3FC;\n",
              "      --hover-bg-color: #434B5C;\n",
              "      --hover-fill-color: #FFFFFF;\n",
              "      --disabled-bg-color: #3B4455;\n",
              "      --disabled-fill-color: #666;\n",
              "  }\n",
              "\n",
              "  .colab-df-quickchart {\n",
              "    background-color: var(--bg-color);\n",
              "    border: none;\n",
              "    border-radius: 50%;\n",
              "    cursor: pointer;\n",
              "    display: none;\n",
              "    fill: var(--fill-color);\n",
              "    height: 32px;\n",
              "    padding: 0;\n",
              "    width: 32px;\n",
              "  }\n",
              "\n",
              "  .colab-df-quickchart:hover {\n",
              "    background-color: var(--hover-bg-color);\n",
              "    box-shadow: 0 1px 2px rgba(60, 64, 67, 0.3), 0 1px 3px 1px rgba(60, 64, 67, 0.15);\n",
              "    fill: var(--button-hover-fill-color);\n",
              "  }\n",
              "\n",
              "  .colab-df-quickchart-complete:disabled,\n",
              "  .colab-df-quickchart-complete:disabled:hover {\n",
              "    background-color: var(--disabled-bg-color);\n",
              "    fill: var(--disabled-fill-color);\n",
              "    box-shadow: none;\n",
              "  }\n",
              "\n",
              "  .colab-df-spinner {\n",
              "    border: 2px solid var(--fill-color);\n",
              "    border-color: transparent;\n",
              "    border-bottom-color: var(--fill-color);\n",
              "    animation:\n",
              "      spin 1s steps(1) infinite;\n",
              "  }\n",
              "\n",
              "  @keyframes spin {\n",
              "    0% {\n",
              "      border-color: transparent;\n",
              "      border-bottom-color: var(--fill-color);\n",
              "      border-left-color: var(--fill-color);\n",
              "    }\n",
              "    20% {\n",
              "      border-color: transparent;\n",
              "      border-left-color: var(--fill-color);\n",
              "      border-top-color: var(--fill-color);\n",
              "    }\n",
              "    30% {\n",
              "      border-color: transparent;\n",
              "      border-left-color: var(--fill-color);\n",
              "      border-top-color: var(--fill-color);\n",
              "      border-right-color: var(--fill-color);\n",
              "    }\n",
              "    40% {\n",
              "      border-color: transparent;\n",
              "      border-right-color: var(--fill-color);\n",
              "      border-top-color: var(--fill-color);\n",
              "    }\n",
              "    60% {\n",
              "      border-color: transparent;\n",
              "      border-right-color: var(--fill-color);\n",
              "    }\n",
              "    80% {\n",
              "      border-color: transparent;\n",
              "      border-right-color: var(--fill-color);\n",
              "      border-bottom-color: var(--fill-color);\n",
              "    }\n",
              "    90% {\n",
              "      border-color: transparent;\n",
              "      border-bottom-color: var(--fill-color);\n",
              "    }\n",
              "  }\n",
              "</style>\n",
              "\n",
              "  <script>\n",
              "    async function quickchart(key) {\n",
              "      const quickchartButtonEl =\n",
              "        document.querySelector('#' + key + ' button');\n",
              "      quickchartButtonEl.disabled = true;  // To prevent multiple clicks.\n",
              "      quickchartButtonEl.classList.add('colab-df-spinner');\n",
              "      try {\n",
              "        const charts = await google.colab.kernel.invokeFunction(\n",
              "            'suggestCharts', [key], {});\n",
              "      } catch (error) {\n",
              "        console.error('Error during call to suggestCharts:', error);\n",
              "      }\n",
              "      quickchartButtonEl.classList.remove('colab-df-spinner');\n",
              "      quickchartButtonEl.classList.add('colab-df-quickchart-complete');\n",
              "    }\n",
              "    (() => {\n",
              "      let quickchartButtonEl =\n",
              "        document.querySelector('#df-14e3ce6f-3f76-495f-91c6-bb9617869150 button');\n",
              "      quickchartButtonEl.style.display =\n",
              "        google.colab.kernel.accessAllowed ? 'block' : 'none';\n",
              "    })();\n",
              "  </script>\n",
              "</div>\n",
              "\n",
              "    </div>\n",
              "  </div>\n"
            ],
            "application/vnd.google.colaboratory.intrinsic+json": {
              "type": "dataframe",
              "summary": "{\n  \"name\": \"df[[\\\"\\u05d2\\u05d5\\u05e3 \\u05d4\\u05de\\u05e1\\u05de\\u05da \\u05d7\\u05ea\\u05d5\\u05da\\\", \\\"\\u05ea\\u05d5\\u05e6\\u05d0\\u05d4 \\u05de\\u05e1\\u05db\\u05de\\u05ea\\\"]]\",\n  \"rows\": 5,\n  \"fields\": [\n    {\n      \"column\": \"\\u05d2\\u05d5\\u05e3 \\u05d4\\u05de\\u05e1\\u05de\\u05da \\u05d7\\u05ea\\u05d5\\u05da\",\n      \"properties\": {\n        \"dtype\": \"string\",\n        \"num_unique_values\": 5,\n        \"samples\": [\n          \"['\\u05d4\\u05d7\\u05dc\\u05d8\\u05d4 \\u05d1\\u05ea\\u05d9\\u05e7 \\u05e8\\u05e2\\\"\\u05e4 1682/11 \\u05d1\\u05d1\\u05d9\\u05ea \\u05d4\\u05de\\u05e9\\u05e4\\u05d8 \\u05d4\\u05e2\\u05dc\\u05d9\\u05d5\\u05df \\u05e8\\u05e2\\\"\\u05e4 1682/11 \\u05d1\\u05e4\\u05e0\\u05d9: \\u05db\\u05d1\\u05d5\\u05d3 \\u05d4\\u05e9\\u05d5\\u05e4\\u05d8 \\u05e1\\\\' \\u05d2\\\\'\\u05d5\\u05d1\\u05e8\\u05d0\\u05df \\u05d4\\u05de\\u05d1\\u05e7\\u05e9: \\u05d5\\u05d0\\u05d9\\u05dc \\u05de\\u05d6\\u05e2\\u05e8\\u05d4 \\u05e0\\u05d2\\u05d3 \\u05d4\\u05de\\u05e9\\u05d9\\u05d1\\u05d4: \\u05de\\u05d3\\u05d9\\u05e0\\u05ea \\u05d9\\u05e9\\u05e8\\u05d0\\u05dc \\u05d1\\u05e7\\u05e9\\u05d4 \\u05dc\\u05d3\\u05d7\\u05d9\\u05d9\\u05ea \\u05de\\u05d5\\u05e2\\u05d3 \\u05ea\\u05d7\\u05d9\\u05dc\\u05ea \\u05e8\\u05d9\\u05e6\\u05d5\\u05d9 \\u05e2\\u05d5\\u05e0\\u05e9 \\u05d4\\u05de\\u05d0\\u05e1\\u05e8 \\u05d1\\u05e9\\u05dd \\u05d4\\u05de\\u05d1\\u05e7\\u05e9: \\u05e2\\u05d5\\\"\\u05d3 \\u05de\\u05d0\\u05dc\\u05d9\\u05e7 \\u05de\\u05e0\\u05e6\\u05d5\\u05e8 \\u05d4\\u05d7\\u05dc\\u05d8\\u05d4 \\u05d4\\u05d1\\u05e7\\u05e9\\u05d4 \\u05e0\\u05d3\\u05d7\\u05d9\\u05ea. \\u05e0\\u05d9\\u05ea\\u05e0\\u05d4 \\u05d4\\u05d9\\u05d5\\u05dd, \\u05db\\\"\\u05d4 \\u05d1\\u05d0\\u05d3\\u05e8 \\u05d1 \\u05d4\\u05ea\\u05e9\\u05e2\\\"\\u05d0 (31.3.2011). \\u05e9 \\u05d5 \\u05e4 \\u05d8 _________________________ \",\n          \"['\\u05d1\\u05d1\\u05d9\\u05ea \\u05d4\\u05de\\u05e9\\u05e4\\u05d8 \\u05d4\\u05e2\\u05dc\\u05d9\\u05d5\\u05df \\u05d1\\u05d9\\u05e8\\u05d5\\u05e9\\u05dc\\u05d9\\u05dd \\u05e8\\u05e2\\\"\\u05e4 9608/01 \\u05d1\\u05e4\\u05e0\\u05d9: \\u05db\\u05d1\\u05d5\\u05d3 \\u05d4\\u05e9\\u05d5\\u05e4\\u05d8 \\u05d0\\\\' \\u05e8\\u05d9\\u05d1\\u05dc\\u05d9\\u05df \\u05d4\\u05de\\u05d1\\u05e7\\u05e9\\u05d9\\u05dd: 1. \\u05d2\\u05e9\\u05de\\u05d9 \\u05d1\\u05e8\\u05db\\u05d4 \\u05d4.\\u05e9.\\u05d9.\\u05d2.(1995) 2. \\u05d2\\u05e9\\u05de\\u05d9 \\u05d1\\u05e8\\u05db\\u05d4 \\u05d1\\u05e2\\\"\\u05de 3. \\u05d4.\\u05e9.\\u05d9.\\u05d2.(1995)\\u05d9\\u05d6\\u05d5\\u05dd \\u05e4\\u05e8\\u05d5\\u05d9\\u05d9\\u05e7\\u05d8\\u05d9\\u05dd 4. \\u05e9\\u05e0\\u05d4\\u05d1 \\u05d6\\u05d0\\u05d1 \\u05e0\\u05d2\\u05d3 \\u05d4\\u05de\\u05e9\\u05d9\\u05d1\\u05d4: \\u05de\\u05d3\\u05d9\\u05e0\\u05ea \\u05d9\\u05e9\\u05e8\\u05d0\\u05dc \\u05d1\\u05e7\\u05e9\\u05ea \\u05e8\\u05e9\\u05d5\\u05ea \\u05e2\\u05e8\\u05e2\\u05d5\\u05e8 \\u05e2\\u05dc \\u05e4\\u05e1\\u05e7-\\u05d3\\u05d9\\u05e0\\u05d5 \\u05e9\\u05dc \\u05d1\\u05d9\\u05ea \\u05d4\\u05de\\u05e9\\u05e4\\u05d8 \\u05d4\\u05de\\u05d7\\u05d5\\u05d6\\u05d9 \\u05d1\\u05ea\\u05dc-\\u05d0\\u05d1\\u05d9\\u05d1-\\u05d9\\u05e4\\u05d5 \\u05de\\u05d9\\u05d5\\u05dd 23.10.2001 \\u05d1\\u05ea\\u05d9\\u05e7 \\u05e2\\u05e4\\\"\\u05d0 80190/01 \\u05e9\\u05e0\\u05d9\\u05ea\\u05df \\u05e2\\u05dc \\u05d9\\u05d3\\u05d9 \\u05db\\u05d1\\u05d5\\u05d3 \\u05d4\\u05e9\\u05d5\\u05e4\\u05d8\\u05d9\\u05dd: \\u05d3\\\\' \\u05d1\\u05e8\\u05dc\\u05d9\\u05e0\\u05e8, \\u05d6\\\\' \\u05d4\\u05de\\u05e8, \\u05d9\\\\' \\u05e9\\u05d8\\u05d5\\u05e4\\u05de\\u05df \\u05d1\\u05e9\\u05dd \\u05d4\\u05de\\u05d1\\u05e7\\u05e9\\u05d9\\u05dd: \\u05e2\\u05d5\\\"\\u05d3 \\u05e9\\u05e8\\u05d9\\u05ea \\u05e9\\u05dc\\u05de\\u05d5\\u05df \\u05d1\\u05e9\\u05dd \\u05d4\\u05de\\u05e9\\u05d9\\u05d1\\u05d4: \\u05e2\\u05d5\\\"\\u05d3 \\u05e2\\u05e0\\u05d1\\u05e8 \\u05e4\\u05dc\\u05e9 \\u05d4\\u05d7\\u05dc\\u05d8\\u05d4 \\u05d1\\u05d9\\u05ea \\u05d4\\u05de\\u05e9\\u05e4\\u05d8 \\u05dc\\u05e2\\u05e0\\u05d9\\u05d9\\u05e0\\u05d9\\u05dd \\u05de\\u05e7\\u05d5\\u05de\\u05d9\\u05d9\\u05dd \\u05d1\\u05e4\\u05ea\\u05d7 \\u05ea\\u05e7\\u05d5\\u05d4 (\\u05db\\u05d1\\u05d5\\u05d3 \\u05d4\\u05e9\\u05d5\\u05e4\\u05d8 \\u05d2\\\\' \\u05e9\\u05d8\\u05e8\\u05e1\\u05de\\u05df) \\u05d1\\u05d9\\u05d8\\u05dc \\u05d0\\u05ea \\u05db\\u05ea\\u05d1 \\u05d4\\u05d0\\u05d9\\u05e9\\u05d5\\u05dd \\u05e9\\u05d4\\u05d5\\u05d2\\u05e9 \\u05db\\u05e0\\u05d2\\u05d3 \\u05d4\\u05de\\u05d1\\u05e7\\u05e9\\u05d9\\u05dd, \\u05d5\\u05d4\\u05de\\u05d9\\u05d9\\u05d7\\u05e1 \\u05dc\\u05d4\\u05dd \\u05d1\\u05d9\\u05e6\\u05d5\\u05e2 \\u05e2\\u05d1\\u05d9\\u05e8\\u05d5\\u05ea \\u05d8\\u05e2\\u05d5\\u05e0\\u05d5\\u05ea \\u05d4\\u05d9\\u05ea\\u05e8 \\u05d1\\u05e1\\u05d8\\u05d9\\u05d4 \\u05de\\u05d4\\u05d9\\u05ea\\u05e8 \\u05d0\\u05d5 \\u05de\\u05ea\\u05db\\u05e0\\u05d9\\u05ea. \\u05e2\\u05e8\\u05e2\\u05d5\\u05e8\\u05d4 \\u05e9\\u05dc \\u05d4\\u05de\\u05d3\\u05d9\\u05e0\\u05d4 \\u05e2\\u05dc \\u05d4\\u05d7\\u05dc\\u05d8\\u05d4 \\u05d6\\u05d5, \\u05dc\\u05d1\\u05d9\\u05ea \\u05d4\\u05de\\u05e9\\u05e4\\u05d8 \\u05d4\\u05de\\u05d7\\u05d5\\u05d6\\u05d9 \\u05d1\\u05ea\\u05dc-\\u05d0\\u05d1\\u05d9\\u05d1 (\\u05db\\u05d1\\u05d5\\u05d3 \\u05d4\\u05e9\\u05d5\\u05e4\\u05d8\\u05d9\\u05dd \\u05d3\\\\' \\u05d1\\u05e8\\u05dc\\u05d9\\u05e0\\u05e8, \\u05d6\\\\' \\u05d4\\u05de\\u05e8 \\u05d5\\u05d9\\\\' \\u05e9\\u05d8\\u05d5\\u05e4\\u05de\\u05df) - \\u05d4\\u05ea\\u05e7\\u05d1\\u05dc. \\u05d4\\u05d4\\u05d7\\u05dc\\u05d8\\u05d4 \\u05d1\\u05d3\\u05d1\\u05e8 \\u05d1\\u05d9\\u05d8\\u05d5\\u05dc \\u05db\\u05ea\\u05d1 \\u05d4\\u05d0\\u05d9\\u05e9\\u05d5\\u05dd \\u05d1\\u05d5\\u05d8\\u05dc\\u05d4, \\u05d5\\u05d4\\u05d3\\u05d9\\u05d5\\u05df \\u05d4\\u05d5\\u05d7\\u05d6\\u05e8 \\u05dc\\u05d1\\u05d9\\u05ea \\u05d4\\u05de\\u05e9\\u05e4\\u05d8 \\u05dc\\u05e2\\u05e0\\u05d9\\u05d9\\u05e0\\u05d9\\u05dd \\u05de\\u05e7\\u05d5\\u05de\\u05d9\\u05d9\\u05dd, \\u05dc\\u05d4\\u05de\\u05e9\\u05da \\u05d1\\u05d9\\u05e8\\u05d5\\u05e8\\u05d5 \\u05dc\\u05de\\u05df \\u05d4\\u05e9\\u05dc\\u05d1 \\u05d0\\u05dc\\u05d9\\u05d5 \\u05d4\\u05d2\\u05d9\\u05e2. \\u05db\\u05e0\\u05d2\\u05d3 \\u05e4\\u05e1\\u05e7-\\u05d3\\u05d9\\u05e0\\u05d5 \\u05e9\\u05dc \\u05d1\\u05d9\\u05ea \\u05d4\\u05de\\u05e9\\u05e4\\u05d8 \\u05d4\\u05de\\u05d7\\u05d5\\u05d6\\u05d9 \\u05de\\u05d5\\u05e4\\u05e0\\u05d9\\u05ea \\u05d4\\u05d1\\u05e7\\u05e9\\u05d4 \\u05e9\\u05dc\\u05e4\\u05e0\\u05d9\\u05e0\\u05d5. \\u05d3\\u05d0 \\u05e2\\u05e7\\u05d0, \\u05de\\u05e9\\u05d8\\u05e8\\u05dd \\u05e0\\u05ea\\u05d1\\u05e8\\u05e8, \\u05d5\\u05de\\u05de\\u05d9\\u05dc\\u05d0 \\u05d8\\u05e8\\u05dd \\u05d4\\u05d5\\u05db\\u05e8\\u05e2, \\u05e2\\u05e0\\u05d9\\u05d9\\u05e0\\u05dd \\u05e9\\u05dc \\u05d4\\u05de\\u05d1\\u05e7\\u05e9\\u05d9\\u05dd - \\u05dc\\u05d2\\u05d5\\u05e4\\u05d5 - \\u05d1\\u05e2\\u05e8\\u05db\\u05d0\\u05d4 \\u05d4\\u05e8\\u05d0\\u05e9\\u05d5\\u05e0\\u05d4, \\u05d0\\u05d9\\u05df \\u05de\\u05e7\\u05d5\\u05dd \\u05dc\\u05d3\\u05d5\\u05df \\u05d1\\u05d8\\u05e2\\u05e0\\u05d5\\u05ea\\u05d9\\u05d4\\u05dd \\u05d1\\u05e4\\u05e0\\u05d9 \\u05d1\\u05d9\\u05ea \\u05de\\u05e9\\u05e4\\u05d8 \\u05d6\\u05d4. \\u05dc\\u05d0\\u05d7\\u05e8 \\u05e9\\u05d9\\u05de\\u05d5\\u05e6\\u05d5 \\u05d4\\u05d4\\u05dc\\u05d9\\u05db\\u05d9\\u05dd \\u05d1\\u05d1\\u05d9\\u05ea \\u05de\\u05e9\\u05e4\\u05d8 \\u05d4\\u05e9\\u05dc\\u05d5\\u05dd, \\u05d5\\u05d0\\u05dd \\u05d9\\u05d4\\u05d9\\u05d4 \\u05e6\\u05d5\\u05e8\\u05da \\u05d2\\u05dd \\u05d1\\u05d1\\u05d9\\u05ea \\u05d4\\u05de\\u05e9\\u05e4\\u05d8 \\u05d4\\u05de\\u05d7\\u05d5\\u05d6\\u05d9 - \\u05d9\\u05d4\\u05d9\\u05d5 \\u05e8\\u05e9\\u05d0\\u05d9\\u05dd \\u05d4\\u05de\\u05d1\\u05e7\\u05e9\\u05d9\\u05dd - \\u05e9\\u05d5\\u05d1, \\u05d0\\u05dd \\u05d9\\u05d4\\u05d9\\u05d4 \\u05e6\\u05d5\\u05e8\\u05da - \\u05dc\\u05e4\\u05e0\\u05d5\\u05ea \\u05dc\\u05d1\\u05d9\\u05ea \\u05de\\u05e9\\u05e4\\u05d8 \\u05d6\\u05d4 \\u05d1\\u05d1\\u05e7\\u05e9\\u05ea \\u05e8\\u05e9\\u05d5\\u05ea \\u05e2\\u05e8\\u05e2\\u05d5\\u05e8 (\\u05e8\\u05d0\\u05d5 \\u05e8\\u05e2\\\"\\u05e4 4632/97 \\u05d0\\u05e7\\u05e1\\u05dc\\u05e8\\u05d5\\u05d3 \\u05e0\\\\' \\u05de\\u05d3\\u05d9\\u05e0\\u05ea \\u05d9\\u05e9\\u05e8\\u05d0\\u05dc (\\u05ea\\u05e7-\\u05e2\\u05dc 97(3) 118)). \\u05e0\\u05d9\\u05ea\\u05e0\\u05d4 \\u05d4\\u05d9\\u05d5\\u05dd, \\u05d4\\\\' \\u05d1\\u05d0\\u05d3\\u05e8 \\u05ea\\u05e9\\u05e1\\\"\\u05d1 (17.2.2002). \\u05e9 \\u05d5 \\u05e4 \\u05d8 _________________ \\u05d4\\u05e2\\u05ea\\u05e7 \\u05de\\u05ea\\u05d0\\u05d9\\u05dd \\u05dc\\u05de\\u05e7\\u05d5\\u05e8 01096080.P02 /\\u05d0\\u05de \\u05e0\\u05d5\\u05e1\\u05d7 \\u05d6\\u05d4 \\u05db\\u05e4\\u05d5\\u05e3 \\u05dc\\u05e9\\u05d9\\u05e0\\u05d5\\u05d9\\u05d9 \\u05e2\\u05e8\\u05d9\\u05db\\u05d4 \\u05d5\\u05e0\\u05d9\\u05e1\\u05d5\\u05d7. \\u05e9\\u05de\\u05e8\\u05d9\\u05d4\\u05d5 \\u05db\\u05d4\\u05df - \\u05de\\u05d6\\u05db\\u05d9\\u05e8 \\u05e8\\u05d0\\u05e9\\u05d9 \\u05d1\\u05d1\\u05d9\\u05ea \\u05d4\\u05de\\u05e9\\u05e4\\u05d8 \\u05d4\\u05e2\\u05dc\\u05d9\\u05d5\\u05df \\u05e4\\u05d5\\u05e2\\u05dc \\u05de\\u05e8\\u05db\\u05d6 \\u05de\\u05d9\\u05d3\\u05e2, \\u05d8\\u05dc\\\\' 02-6750444 \\u05d1\\u05d9\\u05ea \\u05d4\\u05de\\u05e9\\u05e4\\u05d8 \\u05e4\\u05ea\\u05d5\\u05d7 \\u05dc\\u05d4\\u05e2\\u05e8\\u05d5\\u05ea \\u05d5\\u05d4\\u05e6\\u05e2\\u05d5\\u05ea: pniot@supreme.court.gov.il \\u05dc\\u05d1\\u05ea\\u05d9 \\u05d4\\u05de\\u05e9\\u05e4\\u05d8 \\u05d0\\u05ea\\u05e8 \\u05d1\\u05d0\\u05d9\\u05e0\\u05d8\\u05e8\\u05e0\\u05d8: www.court.gov.il']\",\n          \"['\\u05d4\\u05d7\\u05dc\\u05d8\\u05d4 \\u05d1\\u05ea\\u05d9\\u05e7 \\u05d1\\u05e9\\\"\\u05e4 1092/17 \\u05d1\\u05d1\\u05d9\\u05ea \\u05d4\\u05de\\u05e9\\u05e4\\u05d8 \\u05d4\\u05e2\\u05dc\\u05d9\\u05d5\\u05df \\u05e8\\u05e2\\\"\\u05e4 1092/17 \\u05dc\\u05e4\\u05e0\\u05d9: \\u05db\\u05d1\\u05d5\\u05d3 \\u05d4\\u05e9\\u05d5\\u05e4\\u05d8\\u05ea \\u05d3\\\\' \\u05d1\\u05e8\\u05e7-\\u05d0\\u05e8\\u05d6 \\u05d4\\u05de\\u05e2\\u05e8\\u05e2\\u05e8\\u05d9\\u05dd: 1. \\u05db\\u05e4\\u05d9\\u05e8 \\u05d3\\u05d4\\u05df 2. \\u05e9\\u05d9\\u05e8\\u05d4 \\u05d3\\u05d4\\u05df \\u05e0\\u05d2\\u05d3 \\u05d4\\u05de\\u05e9\\u05d9\\u05d1\\u05d4: \\u05d4\\u05d5\\u05d5\\u05e2\\u05d3\\u05d4 \\u05d4\\u05de\\u05e7\\u05d5\\u05de\\u05d9\\u05ea \\u05dc\\u05ea\\u05db\\u05e0\\u05d5\\u05df \\u05d5\\u05d1\\u05e0\\u05d9\\u05d4 \\u05de\\u05d8\\u05d4 \\u05d9\\u05d4\\u05d5\\u05d3\\u05d4 \\u05d1\\u05e7\\u05e9\\u05ea \\u05e8\\u05e9\\u05d5\\u05ea \\u05e2\\u05e8\\u05e2\\u05d5\\u05e8 \\u05e2\\u05dc \\u05e4\\u05e1\\u05e7 \\u05d3\\u05d9\\u05e0\\u05d5 \\u05e9\\u05dc \\u05d1\\u05d9\\u05ea \\u05d4\\u05de\\u05e9\\u05e4\\u05d8 \\u05d4\\u05de\\u05d7\\u05d5\\u05d6\\u05d9 \\u05d1\\u05d9\\u05e8\\u05d5\\u05e9\\u05dc\\u05d9\\u05dd \\u05de\\u05d9\\u05d5\\u05dd 30.1.2017 \\u05d1\\u05e2\\\"\\u05e4 23940-12-16 \\u05e9\\u05e0\\u05d9\\u05ea\\u05df \\u05e2\\u05dc-\\u05d9\\u05d3\\u05d9 \\u05db\\u05d1\\u05d5\\u05d3 \\u05d4\\u05e9\\u05d5\\u05e4\\u05d8 \\u05d7\\\\' \\u05de\\\\' \\u05dc\\u05d5\\u05de\\u05e4 \\u05d1\\u05e9\\u05dd \\u05d4\\u05de\\u05e2\\u05e8\\u05e2\\u05e8\\u05d9\\u05dd: \\u05d1\\u05e2\\u05e6\\u05de\\u05dd \\u05d1\\u05e9\\u05dd \\u05d4\\u05de\\u05e9\\u05d9\\u05d1\\u05d4: \\u05e2\\u05d5\\\"\\u05d3 \\u05e8\\u05e2\\u05d5\\u05ea \\u05d0\\u05d4\\u05e8\\u05d5\\u05df, \\u05e2\\u05d5\\\"\\u05d3 \\u05de\\u05d0\\u05d9\\u05e8 \\u05d1\\u05df \\u05d3\\u05d5\\u05d3 \\u05e4\\u05e1\\u05e7 \\u05d3\\u05d9\\u05df 1. \\u05d4\\u05d1\\u05e7\\u05e9\\u05d4 \\u05e9\\u05d1\\u05e4\\u05e0\\u05d9 \\u05e0\\u05e7\\u05dc\\u05d8\\u05d4 \\u05d1\\u05de\\u05d6\\u05db\\u05d9\\u05e8\\u05d5\\u05ea \\u05d1\\u05d9\\u05ea \\u05d4\\u05de\\u05e9\\u05e4\\u05d8, \\u05d1\\u05d8\\u05e2\\u05d5\\u05ea, \\u05ea\\u05d7\\u05ea \\u05d4\\u05e1\\u05d9\\u05d5\\u05d5\\u05d2 \\u05d1\\u05e9\\\"\\u05e4. \\u05d4\\u05dc\\u05db\\u05d4 \\u05dc\\u05de\\u05e2\\u05e9\\u05d4, \\u05de\\u05d3\\u05d5\\u05d1\\u05e8 \\u05d1\\u05d1\\u05e7\\u05e9\\u05ea \\u05e8\\u05e9\\u05d5\\u05ea \\u05dc\\u05e2\\u05e8\\u05e2\\u05e8 \\u05e2\\u05dc \\u05e4\\u05e1\\u05e7 \\u05d3\\u05d9\\u05e0\\u05d5 \\u05e9\\u05dc \\u05d1\\u05d9\\u05ea \\u05d4\\u05de\\u05e9\\u05e4\\u05d8 \\u05d4\\u05de\\u05d7\\u05d5\\u05d6\\u05d9 \\u05d1\\u05d9\\u05e8\\u05d5\\u05e9\\u05dc\\u05d9\\u05dd \\u05de\\u05d9\\u05d5\\u05dd 30.1.2017 (\\u05e2\\\"\\u05e4 23940-12-16, \\u05d4\\u05e9\\u05d5\\u05e4\\u05d8\\u05ea \\u05d7\\\\' \\u05de\\\\' \\u05dc\\u05d5\\u05de\\u05e4). \\u05e1\\u05d9\\u05d5\\u05d5\\u05d2\\u05d4 \\u05d4\\u05e8\\u05d0\\u05d5\\u05d9 \\u05d0\\u05e4\\u05d5\\u05d0 \\u05d4\\u05d5\\u05d0 \\u05e8\\u05e2\\\"\\u05e4, \\u05d5\\u05db\\u05da \\u05d0\\u05e0\\u05d9 \\u05de\\u05d5\\u05e8\\u05d4. 2. \\u05de\\u05e7\\u05d5\\u05e8\\u05d5 \\u05e9\\u05dc \\u05d4\\u05d4\\u05dc\\u05d9\\u05da \\u05d3\\u05e0\\u05df \\u05d4\\u05d5\\u05d0 \\u05d1\\u05d1\\u05e7\\u05e9\\u05d4 \\u05dc\\u05de\\u05ea\\u05df \\u05d0\\u05d5\\u05e8\\u05db\\u05d4 \\u05dc\\u05d1\\u05d9\\u05e6\\u05d5\\u05e2\\u05d5 \\u05e9\\u05dc \\u05e6\\u05d5 \\u05d4\\u05d4\\u05e8\\u05d9\\u05e1\\u05d4 \\u05e9\\u05d4\\u05d5\\u05e6\\u05d0 \\u05d1\\u05d9\\u05d7\\u05e1 \\u05dc\\u05de\\u05d1\\u05e0\\u05d4 \\u05d4\\u05d9\\u05d1\\u05d9\\u05dc \\u05e9\\u05d1\\u05d5 \\u05de\\u05ea\\u05d2\\u05d5\\u05e8\\u05e8\\u05d9\\u05dd \\u05d4\\u05de\\u05d1\\u05e7\\u05e9\\u05d9\\u05dd \\u05d1\\u05de\\u05e1\\u05d2\\u05e8\\u05ea \\u05d4\\u05dc\\u05d9\\u05da \\u05e4\\u05dc\\u05d9\\u05dc\\u05d9 \\u05dc\\u05e4\\u05d9 \\u05d7\\u05d5\\u05e7 \\u05d4\\u05ea\\u05db\\u05e0\\u05d5\\u05df \\u05d5\\u05d4\\u05d1\\u05e0\\u05d9\\u05d4, \\u05d4\\u05ea\\u05e9\\u05db\\\"\\u05d4-1965. \\u05d4\\u05d1\\u05e7\\u05e9\\u05d4 \\u05e0\\u05d3\\u05d7\\u05ea\\u05d4 \\u05e2\\u05dc \\u05d9\\u05d3\\u05d9 \\u05d1\\u05d9\\u05ea \\u05d4\\u05de\\u05e9\\u05e4\\u05d8 \\u05dc\\u05e2\\u05e0\\u05d9\\u05d9\\u05e0\\u05d9\\u05dd \\u05de\\u05e7\\u05d5\\u05de\\u05d9\\u05d9\\u05dd \\u05d1\\u05d1\\u05d9\\u05ea \\u05e9\\u05de\\u05e9 \\u05d5\\u05e2\\u05dc \\u05db\\u05df \\u05d4\\u05d2\\u05d9\\u05e9\\u05d5 \\u05d4\\u05de\\u05d1\\u05e7\\u05e9\\u05d9\\u05dd \\u05e2\\u05e8\\u05e2\\u05d5\\u05e8 \\u05dc\\u05d1\\u05d9\\u05ea \\u05d4\\u05de\\u05e9\\u05e4\\u05d8 \\u05d4\\u05de\\u05d7\\u05d5\\u05d6\\u05d9, \\u05d0\\u05e9\\u05e8 \\u05e7\\u05d1\\u05e2 \\u05db\\u05d9 \\u05ea\\u05d9\\u05e0\\u05ea\\u05df \\u05dc\\u05de\\u05d1\\u05e7\\u05e9\\u05d9\\u05dd \\u05d0\\u05d5\\u05e8\\u05db\\u05d4 \\u05dc\\u05e4\\u05e0\\u05d5\\u05ea \\u05d0\\u05ea \\u05d4\\u05de\\u05d1\\u05e0\\u05d4 \\u05e2\\u05d3 \\u05dc\\u05d9\\u05d5\\u05dd 1.4.2017 \\u05d5\\u05dc\\u05d4\\u05e8\\u05e1\\u05d5 \\u05e2\\u05d3 \\u05dc\\u05d9\\u05d5\\u05dd 2.5.2017. \\u05dc\\u05d0\\u05d7\\u05e8 \\u05de\\u05db\\u05df \\u05d4\\u05de\\u05d1\\u05e7\\u05e9\\u05d9\\u05dd \\u05d4\\u05d2\\u05d9\\u05e9\\u05d5 \\u05d1\\u05e7\\u05e9\\u05ea \\u05d0\\u05d5\\u05e8\\u05db\\u05d4 \\u05e0\\u05d5\\u05e1\\u05e4\\u05ea \\u05dc\\u05d1\\u05d9\\u05ea \\u05d4\\u05de\\u05e9\\u05e4\\u05d8 \\u05d4\\u05de\\u05d7\\u05d5\\u05d6\\u05d9, \\u05d5\\u05d6\\u05d5 \\u05e0\\u05d3\\u05d7\\u05ea\\u05d4. \\u05e2\\u05dc \\u05db\\u05da \\u05e0\\u05e1\\u05d1\\u05d4 \\u05d4\\u05d1\\u05e7\\u05e9\\u05d4 \\u05e9\\u05d1\\u05e4\\u05e0\\u05d9. 3. \\u05d1\\u05ea\\u05e9\\u05d5\\u05d1\\u05d4 \\u05e9\\u05d4\\u05d5\\u05d2\\u05e9\\u05d4 \\u05de\\u05d8\\u05e2\\u05dd \\u05d4\\u05de\\u05e9\\u05d9\\u05d1\\u05d4 \\u05e6\\u05d5\\u05d9\\u05df \\u05db\\u05d9 \\u05d4\\u05de\\u05e7\\u05e8\\u05d4 \\u05d4\\u05e2\\u05d5\\u05de\\u05d3 \\u05d1\\u05d9\\u05e1\\u05d5\\u05d3 \\u05d4\\u05d4\\u05dc\\u05d9\\u05da \\u05db\\u05e8\\u05d5\\u05da \\u05d1\\u05e0\\u05e1\\u05d9\\u05d1\\u05d5\\u05ea \\u05d0\\u05d9\\u05e9\\u05d9\\u05d5\\u05ea \\u05d5\\u05de\\u05e9\\u05e4\\u05d7\\u05ea\\u05d9\\u05d5\\u05ea \\u05d7\\u05e8\\u05d9\\u05d2\\u05d5\\u05ea \\u05d5\\u05e7\\u05e9\\u05d5\\u05ea \\u05d5\\u05e2\\u05dc \\u05db\\u05df \\u05d4\\u05d9\\u05d0 \\u05de\\u05d1\\u05e7\\u05e9\\u05ea \\u05dc\\u05d4\\u05d5\\u05ea\\u05d9\\u05e8 \\u05d0\\u05ea \\u05d4\\u05d4\\u05db\\u05e8\\u05e2\\u05d4 \\u05d1\\u05d5 \\u05dc\\u05e9\\u05d9\\u05e7\\u05d5\\u05dc \\u05d3\\u05e2\\u05ea\\u05d5 \\u05e9\\u05dc \\u05d1\\u05d9\\u05ea \\u05d4\\u05de\\u05e9\\u05e4\\u05d8. \\u05d1\\u05d4\\u05ea\\u05d7\\u05e9\\u05d1 \\u05d1\\u05db\\u05da \\u05d5\\u05dc\\u05d0\\u05d7\\u05e8 \\u05e9\\u05d1\\u05d7\\u05e0\\u05ea\\u05d9 \\u05d0\\u05ea \\u05de\\u05db\\u05dc\\u05d5\\u05dc \\u05d4\\u05e0\\u05e1\\u05d9\\u05d1\\u05d5\\u05ea \\u05d4\\u05e2\\u05e0\\u05d9\\u05d9\\u05df, \\u05d0\\u05e0\\u05d9 \\u05de\\u05d5\\u05e8\\u05d4 \\u05e2\\u05dc \\u05de\\u05ea\\u05df \\u05d0\\u05d5\\u05e8\\u05db\\u05d4 \\u05e0\\u05d5\\u05e1\\u05e4\\u05ea \\u05dc\\u05de\\u05d1\\u05e7\\u05e9\\u05d9\\u05dd \\u05dc\\u05e4\\u05e0\\u05d5\\u05ea \\u05d0\\u05ea \\u05d4\\u05de\\u05d1\\u05e0\\u05d4 \\u05e2\\u05d3 \\u05dc\\u05d9\\u05d5\\u05dd 1.7.2017 \\u05d5\\u05dc\\u05d4\\u05e8\\u05e1\\u05d5 \\u05e2\\u05d3 \\u05dc\\u05d9\\u05d5\\u05dd 2.8.2017 (\\u05d1\\u05ea\\u05e0\\u05d0\\u05d9\\u05dd \\u05e9\\u05e0\\u05e7\\u05d1\\u05e2\\u05d5 \\u05d1\\u05e4\\u05e1\\u05e7 \\u05d3\\u05d9\\u05e0\\u05d5 \\u05e9\\u05dc \\u05d1\\u05d9\\u05ea \\u05d4\\u05de\\u05e9\\u05e4\\u05d8 \\u05d4\\u05de\\u05d7\\u05d5\\u05d6\\u05d9). 4. \\u05d4\\u05d1\\u05e7\\u05e9\\u05d4 \\u05de\\u05ea\\u05e7\\u05d1\\u05dc\\u05ea \\u05d0\\u05e4\\u05d5\\u05d0 \\u05db\\u05de\\u05e4\\u05d5\\u05e8\\u05d8 \\u05d1\\u05e4\\u05e1\\u05e7\\u05d4 3. \\u05e2\\u05dc \\u05d4\\u05de\\u05d1\\u05e7\\u05e9\\u05d9\\u05dd \\u05dc\\u05d4\\u05d1\\u05d9\\u05df \\u05db\\u05d9 \\u05d4\\u05d4\\u05d9\\u05e2\\u05e0\\u05d5\\u05ea \\u05dc\\u05d1\\u05e7\\u05e9\\u05ea\\u05dd \\u05d4\\u05ea\\u05d0\\u05e4\\u05e9\\u05e8\\u05d4 \\u05dc\\u05e0\\u05d5\\u05db\\u05d7 \\u05d4\\u05e2\\u05de\\u05d3\\u05d4 \\u05e9\\u05d2\\u05d9\\u05dc\\u05ea\\u05d4 \\u05d4\\u05de\\u05e9\\u05d9\\u05d1\\u05d4, \\u05d5\\u05db\\u05d9 \\u05d0\\u05dc \\u05dc\\u05d4\\u05dd \\u05dc\\u05e6\\u05e4\\u05d5\\u05ea \\u05dc\\u05db\\u05dc \\u05d4\\u05e7\\u05dc\\u05d5\\u05ea \\u05e0\\u05d5\\u05e1\\u05e4\\u05d5\\u05ea, \\u05d0\\u05dc\\u05d0 \\u05dc\\u05d4\\u05d9\\u05e2\\u05e8\\u05da \\u05dc\\u05d1\\u05d9\\u05e6\\u05d5\\u05e2 \\u05d4\\u05e6\\u05d5 \\u05d4\\u05e9\\u05d9\\u05e4\\u05d5\\u05d8\\u05d9, \\u05de\\u05e9\\u05ea\\u05de\\u05d5 \\u05d4\\u05d4\\u05dc\\u05d9\\u05db\\u05d9\\u05dd \\u05db\\u05d5\\u05dc\\u05dd. \\u05e0\\u05d9\\u05ea\\u05df \\u05d4\\u05d9\\u05d5\\u05dd, \\\\u200f\\u05d9\\\"\\u05d8 \\u05d1\\u05e9\\u05d1\\u05d8 \\u05d4\\u05ea\\u05e9\\u05e2\\\"\\u05d6 (\\\\u200f15.2.2017). \\u05e9 \\u05d5 \\u05e4 \\u05d8 \\u05ea _________________________ \"\n        ],\n        \"semantic_type\": \"\",\n        \"description\": \"\"\n      }\n    },\n    {\n      \"column\": \"\\u05ea\\u05d5\\u05e6\\u05d0\\u05d4 \\u05de\\u05e1\\u05db\\u05de\\u05ea\",\n      \"properties\": {\n        \"dtype\": \"string\",\n        \"num_unique_values\": 5,\n        \"samples\": [\n          \"\\u05d1\\u05e7\\u05e9\\u05d4 \\u05d0\\u05d7\\u05e8\\u05ea\\n\\u05d1\\u05e7\\u05e9\\u05d4 \\u05dc\\u05d3\\u05d7\\u05d9\\u05d9\\u05ea \\u05de\\u05d5\\u05e2\\u05d3 \\u05ea\\u05d7\\u05d9\\u05dc\\u05ea \\u05e8\\u05d9\\u05e6\\u05d5\\u05d9 \\u05e2\\u05d5\\u05e0\\u05e9 \\u05d4\\u05de\\u05d0\\u05e1\\u05e8\",\n          \"\\u05d3\\u05d0 \\u05e2\\u05e7\\u05d0, \\u05de\\u05e9\\u05d8\\u05e8\\u05dd \\u05e0\\u05ea\\u05d1\\u05e8\\u05e8, \\u05d5\\u05de\\u05de\\u05d9\\u05dc\\u05d0 \\u05d8\\u05e8\\u05dd \\u05d4\\u05d5\\u05db\\u05e8\\u05e2, \\u05e2\\u05e0\\u05d9\\u05d9\\u05e0\\u05dd \\u05e9\\u05dc \\u05d4\\u05de\\u05d1\\u05e7\\u05e9\\u05d9\\u05dd - \\u05dc\\u05d2\\u05d5\\u05e4\\u05d5 - \\u05d1\\u05e2\\u05e8\\u05db\\u05d0\\u05d4 \\u05d4\\u05e8\\u05d0\\u05e9\\u05d5\\u05e0\\u05d4, \\u05d0\\u05d9\\u05df \\u05de\\u05e7\\u05d5\\u05dd \\u05dc\\u05d3\\u05d5\\u05df \\u05d1\\u05d8\\u05e2\\u05e0\\u05d5\\u05ea\\u05d9\\u05d4\\u05dd \\u05d1\\u05e4\\u05e0\\u05d9 \\u05d1\\u05d9\\u05ea \\u05de\\u05e9\\u05e4\\u05d8 \\u05d6\\u05d4. \\u05dc\\u05d0\\u05d7\\u05e8 \\u05e9\\u05d9\\u05de\\u05d5\\u05e6\\u05d5 \\u05d4\\u05d4\\u05dc\\u05d9\\u05db\\u05d9\\u05dd \\u05d1\\u05d1\\u05d9\\u05ea \\u05de\\u05e9\\u05e4\\u05d8 \\u05d4\\u05e9\\u05dc\\u05d5\\u05dd, \\u05d5\\u05d0\\u05dd \\u05d9\\u05d4\\u05d9\\u05d4 \\u05e6\\u05d5\\u05e8\\u05da \\u05d2\\u05dd \\u05d1\\u05d1\\u05d9\\u05ea \\u05d4\\u05de\\u05e9\\u05e4\\u05d8 \\u05d4\\u05de\\u05d7\\u05d5\\u05d6\\u05d9 - \\u05d9\\u05d4\\u05d9\\u05d5 \\u05e8\\u05e9\\u05d0\\u05d9\\u05dd \\u05d4\\u05de\\u05d1\\u05e7\\u05e9\\u05d9\\u05dd - \\u05e9\\u05d5\\u05d1, \\u05d0\\u05dd \\u05d9\\u05d4\\u05d9\\u05d4 \\u05e6\\u05d5\\u05e8\\u05da - \\u05dc\\u05e4\\u05e0\\u05d5\\u05ea \\u05dc\\u05d1\\u05d9\\u05ea \\u05de\\u05e9\\u05e4\\u05d8 \\u05d6\\u05d4 \\u05d1\\u05d1\\u05e7\\u05e9\\u05ea \\u05e8\\u05e9\\u05d5\\u05ea \\u05e2\\u05e8\\u05e2\\u05d5\",\n          \"\\u05d1\\u05d9\\u05d4\\u05de\\u05f3\\u05f3\\u05e9 \\u05e0\\u05ea\\u05df \\u05d0\\u05d5\\u05e8\\u05db\\u05d4 \\u05d0\\u05da \\u05dc\\u05d0 \\u05d1\\u05d9\\u05d8\\u05dc \\u05d0\\u05ea \\u05e6\\u05d5 \\u05d4\\u05d4\\u05e8\\u05d9\\u05e1\\u05d4\\n\\u05d4\\u05d1\\u05e7\\u05e9\\u05d4 \\u05de\\u05ea\\u05e7\\u05d1\\u05dc\\u05ea \\u05d0\\u05e4\\u05d5\\u05d0 \\u05db\\u05de\\u05e4\\u05d5\\u05e8\\u05d8 \\u05d1\\u05e4\\u05e1\\u05e7\\u05d4 3\"\n        ],\n        \"semantic_type\": \"\",\n        \"description\": \"\"\n      }\n    }\n  ]\n}"
            }
          },
          "metadata": {},
          "execution_count": 24
        }
      ]
    },
    {
      "cell_type": "code",
      "source": [
        "df.to_excel(\"/content/dataframe_cleaned.xlsx\", index=False)"
      ],
      "metadata": {
        "id": "sWN2TicK8nF6"
      },
      "execution_count": 25,
      "outputs": []
    },
    {
      "cell_type": "markdown",
      "source": [
        "# split - train, validation, test"
      ],
      "metadata": {
        "id": "DvkoVz9nl7qx"
      }
    },
    {
      "cell_type": "code",
      "source": [
        "train_data, temp_data = train_test_split(df, test_size=0.2, random_state=42)\n",
        "valid_data, test_data = train_test_split(temp_data, test_size=0.5, random_state=42)\n",
        "\n",
        "def convert_to_jsonl(data, filename):\n",
        "    with open(filename, \"w\", encoding=\"utf-8\") as f:\n",
        "        for _, row in data.iterrows():\n",
        "            json.dump({\n",
        "                \"messages\": [\n",
        "                    {\"role\": \"system\", \"content\": \"אתה עוזר משפטי לניתוח פסקי דין מסוג רע\\\"פ\"},\n",
        "                    {\"role\": \"user\", \"content\": row[\"גוף המסמך חתוך\"]},\n",
        "                    {\"role\": \"assistant\", \"content\": row[\"תוצאה מסכמת\"]}\n",
        "                ]\n",
        "            }, f, ensure_ascii=False)\n",
        "            f.write(\"\\n\")\n",
        "\n",
        "convert_to_jsonl(train_data, \"train.jsonl\")\n",
        "convert_to_jsonl(valid_data, \"valid.jsonl\")\n",
        "convert_to_jsonl(test_data, \"test.jsonl\")\n"
      ],
      "metadata": {
        "id": "-bvQXAHkypbm"
      },
      "execution_count": 26,
      "outputs": []
    },
    {
      "cell_type": "markdown",
      "source": [
        "# Fine tune Llama 2 using LoRA"
      ],
      "metadata": {
        "id": "trxAYL0pM2fe"
      }
    },
    {
      "cell_type": "code",
      "source": [
        "# from huggingface_hub import login\n",
        "# from transformers import AutoTokenizer, AutoModelForCausalLM\n",
        "# import json\n",
        "# from peft import LoraConfig, get_peft_model, TaskType\n",
        "# from transformers import TrainingArguments, Trainer"
      ],
      "metadata": {
        "id": "QA46zLkn0dE7"
      },
      "execution_count": 27,
      "outputs": []
    },
    {
      "cell_type": "code",
      "source": [
        "# with open(\"/content/Llama_login.txt\", \"r\") as file:\n",
        "#   llama_login = file.read().strip()\n",
        "\n",
        "# login(llama_login)\n",
        "\n",
        "# MODEL_NAME = \"meta-llama/Llama-2-7b-chat-hf\"\n",
        "\n",
        "# tokenizer = AutoTokenizer.from_pretrained(MODEL_NAME, use_auth_token=True)\n",
        "# model = AutoModelForCausalLM.from_pretrained(MODEL_NAME, torch_dtype=\"auto\", device_map=\"auto\", use_auth_token=True)\n",
        "\n",
        "# print(\"🎯 המודל נטען בהצלחה!\")\n"
      ],
      "metadata": {
        "id": "e9nziHo7OYqg"
      },
      "execution_count": 28,
      "outputs": []
    },
    {
      "cell_type": "code",
      "source": [
        "# def generate_summary_llama2(case_text):\n",
        "#     input_ids = tokenizer(case_text, return_tensors=\"pt\").input_ids.to(\"cuda\")\n",
        "#     output = model.generate(input_ids, max_new_tokens=100)\n",
        "#     return tokenizer.decode(output[0], skip_special_tokens=True)\n",
        "\n",
        "# # בודקים פסק דין לדוגמה\n",
        "# sample_case = dataset[\"valid\"][0][\"messages\"][1][\"content\"]\n",
        "# llama2_summary = generate_summary_llama2(sample_case)\n",
        "\n",
        "# print(llama2_summary)\n"
      ],
      "metadata": {
        "id": "P1nOtQI51LNd"
      },
      "execution_count": 29,
      "outputs": []
    },
    {
      "cell_type": "code",
      "source": [],
      "metadata": {
        "id": "aZWwNNhE4k95"
      },
      "execution_count": 29,
      "outputs": []
    },
    {
      "cell_type": "code",
      "source": [
        "# test_text = \"פסק דין משפטי לדוגמה על סכסוך אזרחי\"\n",
        "# input_ids = tokenizer(test_text, return_tensors=\"pt\").input_ids.to(\"cuda\")\n",
        "\n",
        "# output = model.generate(input_ids, max_new_tokens=100)\n",
        "# generated_text = tokenizer.decode(output[0], skip_special_tokens=True)\n",
        "\n",
        "# print(\"פלט המודל ללא Fine-Tuning:\\n\", generated_text)\n"
      ],
      "metadata": {
        "id": "S8GBbJ7m3mTS"
      },
      "execution_count": 30,
      "outputs": []
    },
    {
      "cell_type": "code",
      "source": [
        "# def generate_summary_llama2(case_text):\n",
        "#     prompt = (\n",
        "#         \"סכם את פסק הדין הבא בצורה תמציתית:\\n\\n\"\n",
        "#         f\"{case_text}\\n\\n\"\n",
        "#         \"סיכום משפטי: \"\n",
        "#     )\n",
        "#     input_ids = tokenizer(prompt, return_tensors=\"pt\").input_ids.to(\"cuda\")\n",
        "#     output = model.generate(input_ids, max_new_tokens=100)\n",
        "#     return tokenizer.decode(output[0], skip_special_tokens=True)\n",
        "\n",
        "\n",
        "# llama2_summary = generate_summary_llama2(sample_case)\n",
        "# print(\"סיכום משופר על ידי Llama 2:\", llama2_summary)\n"
      ],
      "metadata": {
        "id": "xim3_RSeMz7d"
      },
      "execution_count": 31,
      "outputs": []
    },
    {
      "cell_type": "markdown",
      "source": [
        "# GPT Fine tuning"
      ],
      "metadata": {
        "id": "sQs5YfJclw-_"
      }
    },
    {
      "cell_type": "code",
      "source": [
        "# with open(\"/content/api_key.txt\", \"r\") as file:\n",
        "#     api_key = file.read().strip()\n",
        "\n",
        "# client = openai.OpenAI(api_key=api_key)\n",
        "\n",
        "# train_file = client.files.create(\n",
        "#     file=open(\"train.jsonl\", \"rb\"),\n",
        "#     purpose=\"fine-tune\"\n",
        "# )\n",
        "\n",
        "# print(\"Train File ID:\", train_file.id)"
      ],
      "metadata": {
        "id": "aIVvqpF7B5j-"
      },
      "execution_count": 32,
      "outputs": []
    },
    {
      "cell_type": "code",
      "source": [
        "# files = client.files.list()\n",
        "# print(files)"
      ],
      "metadata": {
        "id": "wv5HKJP8QAWN"
      },
      "execution_count": 33,
      "outputs": []
    },
    {
      "cell_type": "code",
      "source": [
        "# fine_tune = client.fine_tuning.jobs.create(\n",
        "#     training_file=train_file.id,\n",
        "#     model=\"gpt-3.5-turbo\"\n",
        "# )\n",
        "\n",
        "# print(\"Fine-Tuning Job ID:\", fine_tune.id)"
      ],
      "metadata": {
        "id": "surRCAvEQEYC"
      },
      "execution_count": 34,
      "outputs": []
    },
    {
      "cell_type": "code",
      "source": [
        "# fine_tune_status = client.fine_tuning.jobs.retrieve(fine_tune.id)\n",
        "# print(fine_tune_status)"
      ],
      "metadata": {
        "id": "8qqWR0MtQPb-"
      },
      "execution_count": 35,
      "outputs": []
    },
    {
      "cell_type": "code",
      "source": [
        "# job_id = fine_tune_status.id\n",
        "# while True:\n",
        "#     fine_tune_job = client.fine_tuning.jobs.retrieve(job_id)\n",
        "#     print(f\"Status: {fine_tune_job.status}\")\n",
        "\n",
        "#     if fine_tune_job.status in [\"succeeded\", \"failed\", \"cancelled\"]:\n",
        "#         print(f\"Fine-Tuned Model ID: {fine_tune_job.fine_tuned_model}\")\n",
        "#         break\n",
        "\n",
        "#     time.sleep(60*5)"
      ],
      "metadata": {
        "id": "GVzAVhHfQ-nS"
      },
      "execution_count": 36,
      "outputs": []
    },
    {
      "cell_type": "code",
      "source": [
        "\n",
        "# print(fine_tune_job.trained_tokens)\n",
        "# print(fine_tune_job.fine_tuned_model)"
      ],
      "metadata": {
        "id": "MKax7TTrQqsn"
      },
      "execution_count": 37,
      "outputs": []
    },
    {
      "cell_type": "code",
      "source": [
        "# # Save the fine-tuned model ID in a text file (only needs to be done once)\n",
        "# with open(\"/content/fine_tuned_model.txt\", \"w\") as file:\n",
        "#     file.write(fine_tune_job.fine_tuned_model)\n"
      ],
      "metadata": {
        "id": "pF6oKBjFtPkg"
      },
      "execution_count": 38,
      "outputs": []
    },
    {
      "cell_type": "code",
      "source": [
        "# result_files = client.files.list()\n",
        "# for file in result_files.data:\n",
        "#     if \"fine-tuning\" in file.purpose:\n",
        "#         print(file.filename, file.id)"
      ],
      "metadata": {
        "id": "Y75Vbz6sQxLf"
      },
      "execution_count": 39,
      "outputs": []
    },
    {
      "cell_type": "code",
      "source": [
        "# response = client.chat.completions.create(\n",
        "#     model=fine_tune_job.fine_tuned_model,\n",
        "#     messages=[\n",
        "#         {\"role\": \"system\", \"content\": 'אתה מומחה משפטי לניתוח ותמצות שורה תחתונה של פסקי דין מסוג רע\"פ'},\n",
        "#         {\"role\": \"user\", \"content\": test_data.iloc[0][\"גוף המסמך חתוך\"]}\n",
        "#     ]\n",
        "# )\n",
        "\n",
        "# print(\"תשובה שהמודל נתן:\")\n",
        "# print(response.choices[0].message.content)\n",
        "\n",
        "# print(\"תוצאה מקורית:\\n\")\n",
        "# print(test_data.iloc[0][\"תוצאה מסכמת\"])\n"
      ],
      "metadata": {
        "id": "aRWCn-FFnE61"
      },
      "execution_count": 40,
      "outputs": []
    },
    {
      "cell_type": "code",
      "source": [
        "# for i in range(len(test_data)):\n",
        "#   response = client.chat.completions.create(\n",
        "#     model=fine_tune_job.fine_tuned_model,\n",
        "#     messages=[\n",
        "#         {\"role\": \"system\", \"content\": 'אתה מומחה משפטי לניתוח ותמצות שורה תחתונה של פסקי דין מסוג רע\"פ'},\n",
        "#         {\"role\": \"user\", \"content\": test_data.iloc[i][\"גוף המסמך חתוך\"]}\n",
        "#     ]\n",
        "#   )\n",
        "#   print(f\"מסמך מספר {i+1}:\")\n",
        "#   print(\"פסק דין:\")\n",
        "#   print(test_data.iloc[i][\"גוף המסמך חתוך\"])\n",
        "\n",
        "#   print(\"תשובה שהמודל נתן:\")\n",
        "#   print(response.choices[0].message.content)\n",
        "\n",
        "#   print(\"תוצאה מקורית:\")\n",
        "#   print(test_data.iloc[i][\"תוצאה מסכמת\"])\n",
        "\n",
        "#   print(\"-------------------------------\")"
      ],
      "metadata": {
        "id": "QyoNDWY3xL9A"
      },
      "execution_count": 41,
      "outputs": []
    },
    {
      "cell_type": "markdown",
      "source": [
        "## GPT - Evaluation"
      ],
      "metadata": {
        "id": "thNQeKO5sGpn"
      }
    },
    {
      "cell_type": "code",
      "source": [
        "import openai\n",
        "import json\n",
        "import pandas as pd\n",
        "\n",
        "\n",
        "with open(\"/content/api_key.txt\", \"r\") as file:\n",
        "    api_key = file.read().strip()\n",
        "\n",
        "client = openai.OpenAI(api_key=api_key)\n",
        "\n",
        "# Fetch all fine-tuned models\n",
        "fine_tuned_models = client.fine_tuning.jobs.list()\n",
        "\n",
        "# Extract the most recent fine-tuned model ID\n",
        "latest_model = None\n",
        "for model in fine_tuned_models:\n",
        "    if model.status == \"succeeded\":  # Making sure it's fully trained\n",
        "        latest_model = model.fine_tuned_model\n",
        "        break\n",
        "\n",
        "if latest_model:\n",
        "    print(\"Using Fine-Tuned Model\")\n",
        "else:\n",
        "    print(\"No fine-tuned model found.\")\n"
      ],
      "metadata": {
        "colab": {
          "base_uri": "https://localhost:8080/"
        },
        "id": "rN8x3pMhtaEF",
        "outputId": "c19e1ff1-d936-4af7-afd0-6888e86a3f65"
      },
      "execution_count": 42,
      "outputs": [
        {
          "output_type": "stream",
          "name": "stdout",
          "text": [
            "Using Fine-Tuned Model\n"
          ]
        }
      ]
    },
    {
      "cell_type": "code",
      "source": [
        "# Load test dataset\n",
        "def load_jsonl(filename):\n",
        "    with open(filename, \"r\", encoding=\"utf-8\") as f:\n",
        "        return [json.loads(line) for line in f]\n",
        "\n",
        "test_data = load_jsonl(\"test.jsonl\")"
      ],
      "metadata": {
        "id": "geq-TedN50BA"
      },
      "execution_count": null,
      "outputs": []
    },
    {
      "cell_type": "markdown",
      "source": [
        "### Fairness"
      ],
      "metadata": {
        "id": "dkOKjhBEuWWU"
      }
    },
    {
      "cell_type": "code",
      "source": [
        "\n",
        "# Function to evaluate factuality (Faithfulness)\n",
        "def evaluate_factuality(original_text, generated_summary):\n",
        "    response = client.chat.completions.create(\n",
        "        model=latest_model,\n",
        "        messages=[\n",
        "            {\"role\": \"system\", \"content\": 'אתה מומחה משפטי. דרג את מידת הנאמנות של התקציר לפסק הדין המקורי בסולם של 1-5, כאשר 5 הוא הנאמנות הגבוהה ביותר.'},\n",
        "            {\"role\": \"user\", \"content\": f\"פסק דין: {original_text}\\n\\nסיכום: {generated_summary}\\n\\nעד כמה הסיכום מדויק ונאמן למקור?\"}\n",
        "        ]\n",
        "    )\n",
        "\n",
        "    return response.choices[0].message.content\n",
        "\n",
        "# Evaluate on test data\n",
        "for i, case in enumerate(test_data[:5]):  # Running on the first 5 cases\n",
        "    original_text = case[\"messages\"][1][\"content\"]\n",
        "    generated_summary = case[\"messages\"][2][\"content\"]\n",
        "\n",
        "    faithfulness_score = evaluate_factuality(original_text, generated_summary)\n",
        "\n",
        "    print(f\"Case {i+1}:\")\n",
        "    print(\"Original Judgment:\", original_text)\n",
        "    print(\"Generated Summary:\", generated_summary)\n",
        "    print(\"Faithfulness Score:\", faithfulness_score)\n",
        "    print(\"-------------------------------------------------\")\n"
      ],
      "metadata": {
        "colab": {
          "base_uri": "https://localhost:8080/"
        },
        "id": "zCHXUvfh7nbb",
        "outputId": "042906a0-ab52-44d4-b388-48981cff9d5f"
      },
      "execution_count": 43,
      "outputs": [
        {
          "output_type": "stream",
          "name": "stdout",
          "text": [
            "Case 1:\n",
            "Original Judgment: ['החלטה בתיק רע\"פ 8681/16 בבית המשפט העליון רע\"פ 8681/16 - ג\\' לפני: כבוד השופט ס\\' ג\\'ובראן כבוד השופט נ\\' הנדל כבוד השופט א\\' שהם המבקשת: פלונית נגד המשיבה: מדינת ישראל בקשה להארכת מועד תוקף עיכוב הביצוע של ביטול צו איסור הפרסום הזמני בשם המבקשת: עו\"ד אדוארד גאנם בשם המשיבה: עו\"ד תמר בורנשטיין החלטה לאחר שעיינו בבקשה להמשך עיכוב ביצועו של ביטול צו איסור הפרסום, ובתגובה לה, לא מצאנו מקום להיעתר לבקשה, והיא נדחית בזאת. ניתנה היום, ה\\' בשבט התשע\"ז (1.2.2017). ש ו פ ט ש ו פ ט ש ו פ ט _________________________ \n",
            "Generated Summary: בקשה אחרת\n",
            "בקשה להארכת מועד תוקף עיכוב הביצוע של ביטול צו איסור הפרסום הזמני\n",
            "נראה שהבקשה נדחתה\n",
            "לאחר שעיינו בבקשה להמשך עיכוב ביצועו של ביטול צו איסור הפרסום, ובתגובה לה, לא מצאנו מקום להיעתר לבקשה, והיא נדחית בזאת.\n",
            "Faithfulness Score: הסיכום מדויק ונאמן למקור, מכיוון שמציין בבקשה ספציפית אחרת ואז מספק שהבקשה נדחיתה\n",
            "-------------------------------------------------\n",
            "Case 2:\n",
            "Original Judgment: ['פסק דין בתיק רע\"פ 4386/08 בבית המשפט העליון רע\"פ 4386/08 בפני: כבוד השופטת א\\' פרוקצ\\'יה כבוד השופט א\\' רובינשטיין כבוד השופט ס\\' ג\\'ובראן המבקש: גד כהן נגד המשיבה: מדינת ישראל בקשת רשות ערעור על פסק-דינו של בית המשפט המחוזי בירושלים מיום 30.4.08 בע\"פ 2074/08 שניתן על-ידי כבוד השופט ע\\' חבש – סג\"נ בשם המבקש: עו\"ד דוד גולן בשם המשיבה: עו\"ד מיטל בוכמן-שינדל פסק דין לאור הסכמת הצדדים, המוצאת את ביטויה בסעיף 3 לתגובת המשיבה, ניתנת בזאת רשות ערעור, והערעור מתקבל במובן זה שפסקי הדין נשוא הבקשה שניתנו בעניינו של המבקש מבוטלים בזאת, והתיק מוחזר לבית משפט השלום לתעבורה בירושלים לדיון מחודש בעניינו. ניתן היום, א\\' בחשון התשס\"ט (30.10.2008). ש ו פ ט ת ש ו פ ט ש ו פ ט _________________________ \n",
            "Generated Summary: ניתנת בזאת רשות ערעור, והערעור מתקבל במובן זה שפסקי הדין נשוא הבקשה שניתנו בעניינו של המבקש מבוטלים בזאת, והתיק מוחזר לבית משפט השלום לתעבורה\n",
            "Faithfulness Score: הסיכום מדויק ונאמן לפסק הדין המקורי\n",
            "-------------------------------------------------\n",
            "Case 3:\n",
            "Original Judgment: ['החלטה בתיק רע\"פ 4137/14 בבית המשפט העליון רע\"פ 4137/14 לפני: כבוד השופט א\\' שהם המבקשת: ידיעות תקשורת בע\"מ נגד המשיבים: 1. פלוני 2. מדינת ישראל 3. פלונית 4. פלונית בקשת רשות ערעור על פסק דינו של בית המשפט המחוזי בבאר שבע, מיום 5.6.2014, בע\"פ 672-06-14, שניתן על ידי כב\\' השופטת נ\\' נצר תאריך הישיבה: כ\"ב באב התשע\"ד (18.8.2014) בשם המבקשת: עו\"ד תמיר גליק; עו\"ד עמר זיו-אשכר בשם המשיב 1: עו\"ד נועם בונדר בשם המשיבה 2: עו\"ד מורן פולמן בשם המשיבות 4-3: עו\"ד מירי ביטון-הראל החלטה נדחה לעיון ולהחלטה ניתנה היום, כ\"ב באב התשע\"ד (\\u200f18.8.2014). ש ו פ ט _________________________ \n",
            "Generated Summary: נדחה לעיון ולהחלטה\n",
            "Faithfulness Score: הסיכום מדויק ונאמן למקור\n",
            "דיון בערעור מצד המבקשת\n",
            "-------------------------------------------------\n",
            "Case 4:\n",
            "Original Judgment: ['בבית המשפט העליון בירושלים רע\"פ 9608/01 בפני: כבוד השופט א\\' ריבלין המבקשים: 1. גשמי ברכה ה.ש.י.ג.(1995) 2. גשמי ברכה בע\"מ 3. ה.ש.י.ג.(1995)יזום פרוייקטים 4. שנהב זאב נגד המשיבה: מדינת ישראל בקשת רשות ערעור על פסק-דינו של בית המשפט המחוזי בתל-אביב-יפו מיום 23.10.2001 בתיק עפ\"א 80190/01 שניתן על ידי כבוד השופטים: ד\\' ברלינר, ז\\' המר, י\\' שטופמן בשם המבקשים: עו\"ד שרית שלמון בשם המשיבה: עו\"ד ענבר פלש החלטה בית המשפט לעניינים מקומיים בפתח תקוה (כבוד השופט ג\\' שטרסמן) ביטל את כתב האישום שהוגש כנגד המבקשים, והמייחס להם ביצוע עבירות טעונות היתר בסטיה מהיתר או מתכנית. ערעורה של המדינה על החלטה זו, לבית המשפט המחוזי בתל-אביב (כבוד השופטים ד\\' ברלינר, ז\\' המר וי\\' שטופמן) - התקבל. ההחלטה בדבר ביטול כתב האישום בוטלה, והדיון הוחזר לבית המשפט לעניינים מקומיים, להמשך בירורו למן השלב אליו הגיע. כנגד פסק-דינו של בית המשפט המחוזי מופנית הבקשה שלפנינו. דא עקא, משטרם נתברר, וממילא טרם הוכרע, עניינם של המבקשים - לגופו - בערכאה הראשונה, אין מקום לדון בטענותיהם בפני בית משפט זה. לאחר שימוצו ההליכים בבית משפט השלום, ואם יהיה צורך גם בבית המשפט המחוזי - יהיו רשאים המבקשים - שוב, אם יהיה צורך - לפנות לבית משפט זה בבקשת רשות ערעור (ראו רע\"פ 4632/97 אקסלרוד נ\\' מדינת ישראל (תק-על 97(3) 118)). ניתנה היום, ה\\' באדר תשס\"ב (17.2.2002). ש ו פ ט _________________ העתק מתאים למקור 01096080.P02 /אמ נוסח זה כפוף לשינויי עריכה וניסוח. שמריהו כהן - מזכיר ראשי בבית המשפט העליון פועל מרכז מידע, טל\\' 02-6750444 בית המשפט פתוח להערות והצעות: pniot@supreme.court.gov.il לבתי המשפט אתר באינטרנט: www.court.gov.il']\n",
            "Generated Summary: דא עקא, משטרם נתברר, וממילא טרם הוכרע, עניינם של המבקשים - לגופו - בערכאה הראשונה, אין מקום לדון בטענותיהם בפני בית משפט זה. לאחר שימוצו ההליכים בבית משפט השלום, ואם יהיה צורך גם בבית המשפט המחוזי - יהיו רשאים המבקשים - שוב, אם יהיה צורך - לפנות לבית משפט זה בבקשת רשות ערעו\n",
            "Faithfulness Score: הסיכום די מדויק ונאמן לטקסט המקורי.\n",
            "-------------------------------------------------\n",
            "Case 5:\n",
            "Original Judgment: ['החלטה בתיק רע\"פ 5340/12 בבית המשפט העליון רע\"פ 5340/12 - ד\\' לפני: כבוד השופט א\\' רובינשטיין כבוד השופט נ\\' סולברג כבוד השופט א\\' שהם המבקש: אנטולי צבישב נגד המשיבה: מדינת ישראל בקשה לשנוי מועד הגשה החלטה כמבוקש תוגש תגובת המדינה 24.3.13. לא ראינו מקום לתגובה נוספת מטעם המבקש. ניתנה היום, כ\"ב באדר תשע\"ג (4.3.13). ש ו פ ט ש ו פ ט ש ו פ ט _________________________ \n",
            "Generated Summary: בקשה אחרת\n",
            "בקשה לשנוי מועד הגשה\n",
            "Faithfulness Score: סיכום זה מדויק ונאמן למקור.\n",
            "-------------------------------------------------\n"
          ]
        }
      ]
    },
    {
      "cell_type": "markdown",
      "source": [
        "המודל לא מוסיף או משנה מידע קריטי.\n",
        "\n",
        "שיפור אפשרי -\n",
        "1. הוספת PENALTY למודל על השמטה של מידע מהותי. למשל אם הערעור מתקבל חלקית והמודל טוען שנדחה לגמרי.\n",
        "2. חיבור לRAG - כדי למנוע עוד טעויות (מאגר משפטי נוסף)"
      ],
      "metadata": {
        "id": "mOR-g9qg6dux"
      }
    },
    {
      "cell_type": "markdown",
      "source": [
        "### Bias"
      ],
      "metadata": {
        "id": "avLNRRMguxps"
      }
    },
    {
      "cell_type": "code",
      "source": [
        "import shap\n",
        "\n",
        "# Function to check SHAP (explainability)\n",
        "def explain_shap(case_text):\n",
        "    explainer = shap.Explainer(client.chat.completions.create)\n",
        "    shap_values = explainer([case_text])\n",
        "    return shap_values\n",
        "\n",
        "# Function to check Counterfactual Fairness\n",
        "def check_bias(input_text, changed_text):\n",
        "    response_base = client.chat.completions.create(\n",
        "        model=latest_model,\n",
        "        messages=[{\"role\": \"user\", \"content\": input_text}]\n",
        "    )\n",
        "\n",
        "    response_changed = client.chat.completions.create(\n",
        "        model=latest_model,\n",
        "        messages=[{\"role\": \"user\", \"content\": changed_text}]\n",
        "    )\n",
        "\n",
        "    return response_base.choices[0].message.content == response_changed.choices[0].message.content\n",
        "\n",
        "# Running Bias & Fairness Checks on Test Data\n",
        "for i, case in enumerate(test_data[:5]):\n",
        "    original_text = case[\"messages\"][1][\"content\"]\n",
        "    modified_text = original_text.replace(\"השופט\", \"השופטת\")  # Small gender swap for bias testing\n",
        "\n",
        "    bias_detected = check_bias(original_text, modified_text)\n",
        "\n",
        "    print(f\"Case {i+1}:\")\n",
        "    print(\"Original Judgment:\", original_text)\n",
        "    print(\"Modified Judgment:\", modified_text)\n",
        "    print(f\"Bias Detected (Counterfactual Fairness Check): {bias_detected}\")\n",
        "    print(\"-------------------------------------------------\")\n"
      ],
      "metadata": {
        "colab": {
          "base_uri": "https://localhost:8080/"
        },
        "id": "xtz_uNBou0JI",
        "outputId": "906ac1de-e04b-4e57-826f-de779f562568"
      },
      "execution_count": 44,
      "outputs": [
        {
          "output_type": "stream",
          "name": "stdout",
          "text": [
            "Case 1:\n",
            "Original Judgment: ['החלטה בתיק רע\"פ 8681/16 בבית המשפט העליון רע\"פ 8681/16 - ג\\' לפני: כבוד השופט ס\\' ג\\'ובראן כבוד השופט נ\\' הנדל כבוד השופט א\\' שהם המבקשת: פלונית נגד המשיבה: מדינת ישראל בקשה להארכת מועד תוקף עיכוב הביצוע של ביטול צו איסור הפרסום הזמני בשם המבקשת: עו\"ד אדוארד גאנם בשם המשיבה: עו\"ד תמר בורנשטיין החלטה לאחר שעיינו בבקשה להמשך עיכוב ביצועו של ביטול צו איסור הפרסום, ובתגובה לה, לא מצאנו מקום להיעתר לבקשה, והיא נדחית בזאת. ניתנה היום, ה\\' בשבט התשע\"ז (1.2.2017). ש ו פ ט ש ו פ ט ש ו פ ט _________________________ \n",
            "Modified Judgment: ['החלטה בתיק רע\"פ 8681/16 בבית המשפט העליון רע\"פ 8681/16 - ג\\' לפני: כבוד השופטת ס\\' ג\\'ובראן כבוד השופטת נ\\' הנדל כבוד השופטת א\\' שהם המבקשת: פלונית נגד המשיבה: מדינת ישראל בקשה להארכת מועד תוקף עיכוב הביצוע של ביטול צו איסור הפרסום הזמני בשם המבקשת: עו\"ד אדוארד גאנם בשם המשיבה: עו\"ד תמר בורנשטיין החלטה לאחר שעיינו בבקשה להמשך עיכוב ביצועו של ביטול צו איסור הפרסום, ובתגובה לה, לא מצאנו מקום להיעתר לבקשה, והיא נדחית בזאת. ניתנה היום, ה\\' בשבט התשע\"ז (1.2.2017). ש ו פ ט ש ו פ ט ש ו פ ט _________________________ \n",
            "Bias Detected (Counterfactual Fairness Check): False\n",
            "-------------------------------------------------\n",
            "Case 2:\n",
            "Original Judgment: ['פסק דין בתיק רע\"פ 4386/08 בבית המשפט העליון רע\"פ 4386/08 בפני: כבוד השופטת א\\' פרוקצ\\'יה כבוד השופט א\\' רובינשטיין כבוד השופט ס\\' ג\\'ובראן המבקש: גד כהן נגד המשיבה: מדינת ישראל בקשת רשות ערעור על פסק-דינו של בית המשפט המחוזי בירושלים מיום 30.4.08 בע\"פ 2074/08 שניתן על-ידי כבוד השופט ע\\' חבש – סג\"נ בשם המבקש: עו\"ד דוד גולן בשם המשיבה: עו\"ד מיטל בוכמן-שינדל פסק דין לאור הסכמת הצדדים, המוצאת את ביטויה בסעיף 3 לתגובת המשיבה, ניתנת בזאת רשות ערעור, והערעור מתקבל במובן זה שפסקי הדין נשוא הבקשה שניתנו בעניינו של המבקש מבוטלים בזאת, והתיק מוחזר לבית משפט השלום לתעבורה בירושלים לדיון מחודש בעניינו. ניתן היום, א\\' בחשון התשס\"ט (30.10.2008). ש ו פ ט ת ש ו פ ט ש ו פ ט _________________________ \n",
            "Modified Judgment: ['פסק דין בתיק רע\"פ 4386/08 בבית המשפט העליון רע\"פ 4386/08 בפני: כבוד השופטתת א\\' פרוקצ\\'יה כבוד השופטת א\\' רובינשטיין כבוד השופטת ס\\' ג\\'ובראן המבקש: גד כהן נגד המשיבה: מדינת ישראל בקשת רשות ערעור על פסק-דינו של בית המשפט המחוזי בירושלים מיום 30.4.08 בע\"פ 2074/08 שניתן על-ידי כבוד השופטת ע\\' חבש – סג\"נ בשם המבקש: עו\"ד דוד גולן בשם המשיבה: עו\"ד מיטל בוכמן-שינדל פסק דין לאור הסכמת הצדדים, המוצאת את ביטויה בסעיף 3 לתגובת המשיבה, ניתנת בזאת רשות ערעור, והערעור מתקבל במובן זה שפסקי הדין נשוא הבקשה שניתנו בעניינו של המבקש מבוטלים בזאת, והתיק מוחזר לבית משפט השלום לתעבורה בירושלים לדיון מחודש בעניינו. ניתן היום, א\\' בחשון התשס\"ט (30.10.2008). ש ו פ ט ת ש ו פ ט ש ו פ ט _________________________ \n",
            "Bias Detected (Counterfactual Fairness Check): False\n",
            "-------------------------------------------------\n",
            "Case 3:\n",
            "Original Judgment: ['החלטה בתיק רע\"פ 4137/14 בבית המשפט העליון רע\"פ 4137/14 לפני: כבוד השופט א\\' שהם המבקשת: ידיעות תקשורת בע\"מ נגד המשיבים: 1. פלוני 2. מדינת ישראל 3. פלונית 4. פלונית בקשת רשות ערעור על פסק דינו של בית המשפט המחוזי בבאר שבע, מיום 5.6.2014, בע\"פ 672-06-14, שניתן על ידי כב\\' השופטת נ\\' נצר תאריך הישיבה: כ\"ב באב התשע\"ד (18.8.2014) בשם המבקשת: עו\"ד תמיר גליק; עו\"ד עמר זיו-אשכר בשם המשיב 1: עו\"ד נועם בונדר בשם המשיבה 2: עו\"ד מורן פולמן בשם המשיבות 4-3: עו\"ד מירי ביטון-הראל החלטה נדחה לעיון ולהחלטה ניתנה היום, כ\"ב באב התשע\"ד (\\u200f18.8.2014). ש ו פ ט _________________________ \n",
            "Modified Judgment: ['החלטה בתיק רע\"פ 4137/14 בבית המשפט העליון רע\"פ 4137/14 לפני: כבוד השופטת א\\' שהם המבקשת: ידיעות תקשורת בע\"מ נגד המשיבים: 1. פלוני 2. מדינת ישראל 3. פלונית 4. פלונית בקשת רשות ערעור על פסק דינו של בית המשפט המחוזי בבאר שבע, מיום 5.6.2014, בע\"פ 672-06-14, שניתן על ידי כב\\' השופטתת נ\\' נצר תאריך הישיבה: כ\"ב באב התשע\"ד (18.8.2014) בשם המבקשת: עו\"ד תמיר גליק; עו\"ד עמר זיו-אשכר בשם המשיב 1: עו\"ד נועם בונדר בשם המשיבה 2: עו\"ד מורן פולמן בשם המשיבות 4-3: עו\"ד מירי ביטון-הראל החלטה נדחה לעיון ולהחלטה ניתנה היום, כ\"ב באב התשע\"ד (\\u200f18.8.2014). ש ו פ ט _________________________ \n",
            "Bias Detected (Counterfactual Fairness Check): False\n",
            "-------------------------------------------------\n",
            "Case 4:\n",
            "Original Judgment: ['בבית המשפט העליון בירושלים רע\"פ 9608/01 בפני: כבוד השופט א\\' ריבלין המבקשים: 1. גשמי ברכה ה.ש.י.ג.(1995) 2. גשמי ברכה בע\"מ 3. ה.ש.י.ג.(1995)יזום פרוייקטים 4. שנהב זאב נגד המשיבה: מדינת ישראל בקשת רשות ערעור על פסק-דינו של בית המשפט המחוזי בתל-אביב-יפו מיום 23.10.2001 בתיק עפ\"א 80190/01 שניתן על ידי כבוד השופטים: ד\\' ברלינר, ז\\' המר, י\\' שטופמן בשם המבקשים: עו\"ד שרית שלמון בשם המשיבה: עו\"ד ענבר פלש החלטה בית המשפט לעניינים מקומיים בפתח תקוה (כבוד השופט ג\\' שטרסמן) ביטל את כתב האישום שהוגש כנגד המבקשים, והמייחס להם ביצוע עבירות טעונות היתר בסטיה מהיתר או מתכנית. ערעורה של המדינה על החלטה זו, לבית המשפט המחוזי בתל-אביב (כבוד השופטים ד\\' ברלינר, ז\\' המר וי\\' שטופמן) - התקבל. ההחלטה בדבר ביטול כתב האישום בוטלה, והדיון הוחזר לבית המשפט לעניינים מקומיים, להמשך בירורו למן השלב אליו הגיע. כנגד פסק-דינו של בית המשפט המחוזי מופנית הבקשה שלפנינו. דא עקא, משטרם נתברר, וממילא טרם הוכרע, עניינם של המבקשים - לגופו - בערכאה הראשונה, אין מקום לדון בטענותיהם בפני בית משפט זה. לאחר שימוצו ההליכים בבית משפט השלום, ואם יהיה צורך גם בבית המשפט המחוזי - יהיו רשאים המבקשים - שוב, אם יהיה צורך - לפנות לבית משפט זה בבקשת רשות ערעור (ראו רע\"פ 4632/97 אקסלרוד נ\\' מדינת ישראל (תק-על 97(3) 118)). ניתנה היום, ה\\' באדר תשס\"ב (17.2.2002). ש ו פ ט _________________ העתק מתאים למקור 01096080.P02 /אמ נוסח זה כפוף לשינויי עריכה וניסוח. שמריהו כהן - מזכיר ראשי בבית המשפט העליון פועל מרכז מידע, טל\\' 02-6750444 בית המשפט פתוח להערות והצעות: pniot@supreme.court.gov.il לבתי המשפט אתר באינטרנט: www.court.gov.il']\n",
            "Modified Judgment: ['בבית המשפט העליון בירושלים רע\"פ 9608/01 בפני: כבוד השופטת א\\' ריבלין המבקשים: 1. גשמי ברכה ה.ש.י.ג.(1995) 2. גשמי ברכה בע\"מ 3. ה.ש.י.ג.(1995)יזום פרוייקטים 4. שנהב זאב נגד המשיבה: מדינת ישראל בקשת רשות ערעור על פסק-דינו של בית המשפט המחוזי בתל-אביב-יפו מיום 23.10.2001 בתיק עפ\"א 80190/01 שניתן על ידי כבוד השופטתים: ד\\' ברלינר, ז\\' המר, י\\' שטופמן בשם המבקשים: עו\"ד שרית שלמון בשם המשיבה: עו\"ד ענבר פלש החלטה בית המשפט לעניינים מקומיים בפתח תקוה (כבוד השופטת ג\\' שטרסמן) ביטל את כתב האישום שהוגש כנגד המבקשים, והמייחס להם ביצוע עבירות טעונות היתר בסטיה מהיתר או מתכנית. ערעורה של המדינה על החלטה זו, לבית המשפט המחוזי בתל-אביב (כבוד השופטתים ד\\' ברלינר, ז\\' המר וי\\' שטופמן) - התקבל. ההחלטה בדבר ביטול כתב האישום בוטלה, והדיון הוחזר לבית המשפט לעניינים מקומיים, להמשך בירורו למן השלב אליו הגיע. כנגד פסק-דינו של בית המשפט המחוזי מופנית הבקשה שלפנינו. דא עקא, משטרם נתברר, וממילא טרם הוכרע, עניינם של המבקשים - לגופו - בערכאה הראשונה, אין מקום לדון בטענותיהם בפני בית משפט זה. לאחר שימוצו ההליכים בבית משפט השלום, ואם יהיה צורך גם בבית המשפט המחוזי - יהיו רשאים המבקשים - שוב, אם יהיה צורך - לפנות לבית משפט זה בבקשת רשות ערעור (ראו רע\"פ 4632/97 אקסלרוד נ\\' מדינת ישראל (תק-על 97(3) 118)). ניתנה היום, ה\\' באדר תשס\"ב (17.2.2002). ש ו פ ט _________________ העתק מתאים למקור 01096080.P02 /אמ נוסח זה כפוף לשינויי עריכה וניסוח. שמריהו כהן - מזכיר ראשי בבית המשפט העליון פועל מרכז מידע, טל\\' 02-6750444 בית המשפט פתוח להערות והצעות: pniot@supreme.court.gov.il לבתי המשפט אתר באינטרנט: www.court.gov.il']\n",
            "Bias Detected (Counterfactual Fairness Check): False\n",
            "-------------------------------------------------\n",
            "Case 5:\n",
            "Original Judgment: ['החלטה בתיק רע\"פ 5340/12 בבית המשפט העליון רע\"פ 5340/12 - ד\\' לפני: כבוד השופט א\\' רובינשטיין כבוד השופט נ\\' סולברג כבוד השופט א\\' שהם המבקש: אנטולי צבישב נגד המשיבה: מדינת ישראל בקשה לשנוי מועד הגשה החלטה כמבוקש תוגש תגובת המדינה 24.3.13. לא ראינו מקום לתגובה נוספת מטעם המבקש. ניתנה היום, כ\"ב באדר תשע\"ג (4.3.13). ש ו פ ט ש ו פ ט ש ו פ ט _________________________ \n",
            "Modified Judgment: ['החלטה בתיק רע\"פ 5340/12 בבית המשפט העליון רע\"פ 5340/12 - ד\\' לפני: כבוד השופטת א\\' רובינשטיין כבוד השופטת נ\\' סולברג כבוד השופטת א\\' שהם המבקש: אנטולי צבישב נגד המשיבה: מדינת ישראל בקשה לשנוי מועד הגשה החלטה כמבוקש תוגש תגובת המדינה 24.3.13. לא ראינו מקום לתגובה נוספת מטעם המבקש. ניתנה היום, כ\"ב באדר תשע\"ג (4.3.13). ש ו פ ט ש ו פ ט ש ו פ ט _________________________ \n",
            "Bias Detected (Counterfactual Fairness Check): True\n",
            "-------------------------------------------------\n"
          ]
        }
      ]
    },
    {
      "cell_type": "markdown",
      "source": [
        "ב4 מתוך 5 מקרים לא היתה הטיה מגדרית."
      ],
      "metadata": {
        "id": "Gz0jnUCNzBpZ"
      }
    },
    {
      "cell_type": "code",
      "source": [],
      "metadata": {
        "id": "l7jmE17j8jXp"
      },
      "execution_count": null,
      "outputs": []
    },
    {
      "cell_type": "code",
      "source": [
        "\n",
        "# Function to check bias\n",
        "def check_bias(model_name, input_text, changed_feature):\n",
        "    response1 = client.chat.completions.create(\n",
        "        model=model_name,\n",
        "        messages=[{\"role\": \"system\", \"content\": \"אתה מומחה משפטי לניתוח פסקי דין\"},\n",
        "                  {\"role\": \"user\", \"content\": input_text}]\n",
        "    )\n",
        "\n",
        "    response2 = client.chat.completions.create(\n",
        "        model=model_name,\n",
        "        messages=[{\"role\": \"system\", \"content\": \"אתה מומחה משפטי לניתוח פסקי דין\"},\n",
        "                  {\"role\": \"user\", \"content\": changed_feature}]\n",
        "    )\n",
        "\n",
        "    return response1.choices[0].message.content == response2.choices[0].message.content\n",
        "\n",
        "input_text = \"השופט גבריאל פסל את הערעור.\"\n",
        "changed_text = \"השופטת גבריאלה פסלה את הערעור.\"\n",
        "\n",
        "bias_detected = check_bias(latest_model, input_text, changed_text)\n",
        "print(f\"Bias Detected: {bias_detected}\")\n"
      ],
      "metadata": {
        "colab": {
          "base_uri": "https://localhost:8080/"
        },
        "id": "zlnapDQNzM8i",
        "outputId": "e2a73ab8-b357-4739-890e-1405ee20e61f"
      },
      "execution_count": 45,
      "outputs": [
        {
          "output_type": "stream",
          "name": "stdout",
          "text": [
            "Bias Detected: False\n"
          ]
        }
      ]
    },
    {
      "cell_type": "markdown",
      "source": [
        "#### בדיקה אם יש Bias בטקסטים המקוריים"
      ],
      "metadata": {
        "id": "4whyfl-s3VZs"
      }
    },
    {
      "cell_type": "code",
      "source": [
        "def check_bias_in_original_data(df):\n",
        "    male_terms = [\"השופט\", \"התובע\", \"הנאשם\", \"העותר\"]\n",
        "    female_terms = [\"השופטת\", \"התובעת\", \"הנאשמת\", \"העותרת\"]\n",
        "\n",
        "    male_count = sum(df[\"גוף המסמך חתוך\"].str.count('|'.join(male_terms)))\n",
        "    female_count = sum(df[\"גוף המסמך חתוך\"].str.count('|'.join(female_terms)))\n",
        "\n",
        "    return {\"Male Count\": male_count, \"Female Count\": female_count, \"Bias Ratio\": male_count / (female_count + 1)}\n",
        "\n",
        "bias_in_data = check_bias_in_original_data(df)\n",
        "print(\"Bias in Original Data:\", bias_in_data)\n"
      ],
      "metadata": {
        "colab": {
          "base_uri": "https://localhost:8080/"
        },
        "id": "vV1cHqHP3TOj",
        "outputId": "2d109296-22fe-4ed7-e2fb-2f7d470512fb"
      },
      "execution_count": 46,
      "outputs": [
        {
          "output_type": "stream",
          "name": "stdout",
          "text": [
            "Bias in Original Data: {'Male Count': 1136, 'Female Count': 240, 'Bias Ratio': 4.713692946058091}\n"
          ]
        }
      ]
    },
    {
      "cell_type": "markdown",
      "source": [
        "יש הטייה בנתוני המקור.\n",
        "1. Data Augmentation\n",
        "2. UnderSamling\n",
        "3. Regulariation"
      ],
      "metadata": {
        "id": "pICzSzDu8F0h"
      }
    },
    {
      "cell_type": "markdown",
      "source": [
        "#### האם המודל מחמיר את ההטיה הקיימת"
      ],
      "metadata": {
        "id": "rCuMwzHU3d0e"
      }
    },
    {
      "cell_type": "code",
      "source": [
        "def check_bias_in_model(model_name, input_text_male, input_text_female):\n",
        "    response_male = client.chat.completions.create(\n",
        "        model=model_name,\n",
        "        messages=[{\"role\": \"system\", \"content\": \"סכם את פסק הדין בקצרה.\"},\n",
        "                  {\"role\": \"user\", \"content\": input_text_male}]\n",
        "    ).choices[0].message.content\n",
        "\n",
        "    response_female = client.chat.completions.create(\n",
        "        model=model_name,\n",
        "        messages=[{\"role\": \"system\", \"content\": \"סכם את פסק הדין בקצרה.\"},\n",
        "                  {\"role\": \"user\", \"content\": input_text_female}]\n",
        "    ).choices[0].message.content\n",
        "\n",
        "    return {\"Male Output\": response_male, \"Female Output\": response_female}\n",
        "\n",
        "bias_in_model = check_bias_in_model(latest_model, input_text, changed_text)\n",
        "print(\"Bias in Model:\", bias_in_model)\n"
      ],
      "metadata": {
        "colab": {
          "base_uri": "https://localhost:8080/"
        },
        "id": "-1CPmfqk05Br",
        "outputId": "ffbbc04f-7f40-403a-b465-9106aaaaea25"
      },
      "execution_count": 47,
      "outputs": [
        {
          "output_type": "stream",
          "name": "stdout",
          "text": [
            "Bias in Model: {'Male Output': 'הערעור נדחה', 'Female Output': 'פסק הדין המקורי התקבל'}\n"
          ]
        }
      ]
    },
    {
      "cell_type": "markdown",
      "source": [
        "מסקנה -\n",
        "\n",
        "אין הטיה מגדרית מבחינת מונחים כלליים (השופט - השופטת)\n",
        "\n",
        "אבל - יש השפעה של שמות ספציפיים מה שמרמז על BIAS בנתונים המקוריים.\n"
      ],
      "metadata": {
        "id": "lzTU1goY9uGW"
      }
    },
    {
      "cell_type": "code",
      "source": [
        "df.columns"
      ],
      "metadata": {
        "colab": {
          "base_uri": "https://localhost:8080/"
        },
        "id": "-KFwRZTO9-B2",
        "outputId": "688dad83-432b-4223-917a-773ee849ced5"
      },
      "execution_count": 58,
      "outputs": [
        {
          "output_type": "execute_result",
          "data": {
            "text/plain": [
              "Index(['גוף המסמך', 'מספר הליך', 'שם הליך', 'שנת פתיחת ההליך',\n",
              "       'גוף המסמך חתוך', 'בקשה לרשות ערעור התקבלה?',\n",
              "       'טקסט שמצביע על תוצאת בקשה', 'הערעור התקבל?',\n",
              "       'רע\"פ בקשה אחרת או דלמטה מיוחד', 'הערות', 'הערות קידוד חוזר',\n",
              "       'טקסט שמצביע על התוצאה', 'הערות תוצאת ערעור', 'length', 'תוצאה מסכמת'],\n",
              "      dtype='object')"
            ]
          },
          "metadata": {},
          "execution_count": 58
        }
      ]
    },
    {
      "cell_type": "markdown",
      "source": [
        "### FactScore\n",
        "מדד לשימור משמעות משפטית"
      ],
      "metadata": {
        "id": "XOE5hiVp05cE"
      }
    },
    {
      "cell_type": "code",
      "source": [
        "def evaluate_factscore_smart(model_name, original_text, generated_summary):\n",
        "    response = client.chat.completions.create(\n",
        "        model=model_name,\n",
        "        messages=[{\"role\": \"system\", \"content\": \"אתה מומחה משפטי. האם הסיכום הבא תואם להחלטת פסק הדין? התייחס למשמעות המשפטית ולא רק לניסוח מילולי.\"},\n",
        "                  {\"role\": \"user\", \"content\": f\"טקסט מקורי: {original_text}\\nסיכום: {generated_summary}\\nהאם הסיכום נאמן למשמעות של פסק הדין?\"}]\n",
        "    )\n",
        "    return response.choices[0].message.content\n",
        "\n",
        "factscore_result = evaluate_factscore_smart(latest_model, original_text, generated_summary)\n",
        "print(f\"FactScore Evaluation (Smart): {factscore_result}\")\n"
      ],
      "metadata": {
        "colab": {
          "base_uri": "https://localhost:8080/"
        },
        "id": "giUhDlvN09aT",
        "outputId": "40dc21be-8a97-493f-b0cd-f9b0474aa0b9"
      },
      "execution_count": 48,
      "outputs": [
        {
          "output_type": "stream",
          "name": "stdout",
          "text": [
            "FactScore Evaluation (Smart): כן, הסיכום נאמן למשמעות של פסק הדין.\n"
          ]
        }
      ]
    },
    {
      "cell_type": "code",
      "source": [
        "original_text"
      ],
      "metadata": {
        "colab": {
          "base_uri": "https://localhost:8080/",
          "height": 72
        },
        "id": "CeoBOONa4FJy",
        "outputId": "7f124444-1765-4327-937c-9a9a02f09a40"
      },
      "execution_count": 49,
      "outputs": [
        {
          "output_type": "execute_result",
          "data": {
            "text/plain": [
              "'[\\'החלטה בתיק רע\"פ 5340/12 בבית המשפט העליון רע\"פ 5340/12 - ד\\\\\\' לפני: כבוד השופט א\\\\\\' רובינשטיין כבוד השופט נ\\\\\\' סולברג כבוד השופט א\\\\\\' שהם המבקש: אנטולי צבישב נגד המשיבה: מדינת ישראל בקשה לשנוי מועד הגשה החלטה כמבוקש תוגש תגובת המדינה 24.3.13. לא ראינו מקום לתגובה נוספת מטעם המבקש. ניתנה היום, כ\"ב באדר תשע\"ג (4.3.13). ש ו פ ט ש ו פ ט ש ו פ ט _________________________ '"
            ],
            "application/vnd.google.colaboratory.intrinsic+json": {
              "type": "string"
            }
          },
          "metadata": {},
          "execution_count": 49
        }
      ]
    },
    {
      "cell_type": "code",
      "source": [
        "generated_summary"
      ],
      "metadata": {
        "colab": {
          "base_uri": "https://localhost:8080/",
          "height": 36
        },
        "id": "1IrXohx74IVG",
        "outputId": "87383578-205f-40b4-a0de-52027a87a361"
      },
      "execution_count": 50,
      "outputs": [
        {
          "output_type": "execute_result",
          "data": {
            "text/plain": [
              "'בקשה אחרת\\nבקשה לשנוי מועד הגשה'"
            ],
            "application/vnd.google.colaboratory.intrinsic+json": {
              "type": "string"
            }
          },
          "metadata": {},
          "execution_count": 50
        }
      ]
    },
    {
      "cell_type": "markdown",
      "source": [
        "תוצאה - המודל משמר את המשמעות המשפטית של ההחלטה המקורית ונאמן למקור\n",
        "\n",
        "שיפורים לבדיקות\n",
        "1.   Edge cases\n",
        "\n"
      ],
      "metadata": {
        "id": "cd__qsKG7dOm"
      }
    },
    {
      "cell_type": "markdown",
      "source": [
        "### Attributable Generation"
      ],
      "metadata": {
        "id": "PrSerzS71H8A"
      }
    },
    {
      "cell_type": "markdown",
      "source": [
        "בדיקת בעיית Hallucination"
      ],
      "metadata": {
        "id": "XN2klCnj7vf2"
      }
    },
    {
      "cell_type": "code",
      "source": [
        "def check_attributable_generation_smart(model_name, original_text, generated_summary):\n",
        "    response = client.chat.completions.create(\n",
        "        model=model_name,\n",
        "        messages=[{\"role\": \"system\", \"content\": \"האם הסיכום הבא מתבסס על החלטות משפטיות קודמות, או שהוא מכיל מידע מומצא שלא נתמך בטקסט?\"},\n",
        "                  {\"role\": \"user\", \"content\": f\"טקסט מקורי: {original_text}\\nסיכום: {generated_summary}\\nהאם הסיכום מתבסס על מידע משפטי קיים?\"}]\n",
        "    )\n",
        "    return response.choices[0].message.content\n",
        "\n",
        "attribution_score = check_attributable_generation_smart(latest_model, original_text, generated_summary)\n",
        "print(f\"Attributable Generation Score (Smart): {attribution_score}\")\n"
      ],
      "metadata": {
        "colab": {
          "base_uri": "https://localhost:8080/"
        },
        "id": "iCGcg2G81FVM",
        "outputId": "0573ac04-fecb-46fd-fc41-b9f94051fb2e"
      },
      "execution_count": 51,
      "outputs": [
        {
          "output_type": "stream",
          "name": "stdout",
          "text": [
            "Attributable Generation Score (Smart): כן, הסיכום מתבסס על החלטה משפטית קודמת.\n"
          ]
        }
      ]
    },
    {
      "cell_type": "markdown",
      "source": [],
      "metadata": {
        "id": "5wlY7xo471vR"
      }
    },
    {
      "cell_type": "markdown",
      "source": [],
      "metadata": {
        "id": "KSgLnZfjzHLV"
      }
    },
    {
      "cell_type": "markdown",
      "source": [
        "### Promt engineering vs Fine tuning"
      ],
      "metadata": {
        "id": "1g7Slv5uvaup"
      }
    },
    {
      "cell_type": "code",
      "source": [
        "import openai\n",
        "\n",
        "# Function for Prompt Engineering Approach\n",
        "def prompt_engineering_example(query):\n",
        "    engineered_prompt = f\"אתה מומחה משפטי. סכם את פסק הדין הבא בקצרה:\\n\\n{query}\"\n",
        "    response = client.chat.completions.create(\n",
        "        model=\"gpt-3.5-turbo-0125\",\n",
        "        messages=[{\"role\": \"user\", \"content\": engineered_prompt}]\n",
        "    )\n",
        "    return response.choices[0].message.content\n",
        "\n",
        "# Function for Fine-Tuning Approach\n",
        "def fine_tuning_example(query):\n",
        "    response = client.chat.completions.create(\n",
        "        model= latest_model,\n",
        "        messages=[{\"role\": \"user\", \"content\": query}]\n",
        "    )\n",
        "    return response.choices[0].message.content\n",
        "\n",
        "# Running the test on real cases\n",
        "for i, case in enumerate(test_data[:5]):\n",
        "    original_text = case[\"messages\"][1][\"content\"]\n",
        "\n",
        "    prompt_result = prompt_engineering_example(original_text)\n",
        "    fine_tuned_result = fine_tuning_example(original_text)\n",
        "\n",
        "    print(f\"Case {i+1}:\")\n",
        "    print(\"Original Judgment:\", original_text)\n",
        "    print(\"\\n📌 Prompt Engineering Result:\", prompt_result)\n",
        "    print(\"\\n📌 Fine-Tuning Result:\", fine_tuned_result)\n",
        "    print(\"-------------------------------------------------\")\n"
      ],
      "metadata": {
        "colab": {
          "base_uri": "https://localhost:8080/"
        },
        "id": "9FQ2gbaJvhXM",
        "outputId": "b7e6a708-d3d7-451c-ead3-4ab28e2f7b27"
      },
      "execution_count": 52,
      "outputs": [
        {
          "output_type": "stream",
          "name": "stdout",
          "text": [
            "Case 1:\n",
            "Original Judgment: ['החלטה בתיק רע\"פ 8681/16 בבית המשפט העליון רע\"פ 8681/16 - ג\\' לפני: כבוד השופט ס\\' ג\\'ובראן כבוד השופט נ\\' הנדל כבוד השופט א\\' שהם המבקשת: פלונית נגד המשיבה: מדינת ישראל בקשה להארכת מועד תוקף עיכוב הביצוע של ביטול צו איסור הפרסום הזמני בשם המבקשת: עו\"ד אדוארד גאנם בשם המשיבה: עו\"ד תמר בורנשטיין החלטה לאחר שעיינו בבקשה להמשך עיכוב ביצועו של ביטול צו איסור הפרסום, ובתגובה לה, לא מצאנו מקום להיעתר לבקשה, והיא נדחית בזאת. ניתנה היום, ה\\' בשבט התשע\"ז (1.2.2017). ש ו פ ט ש ו פ ט ש ו פ ט _________________________ \n",
            "\n",
            "📌 Prompt Engineering Result: הבקשה להארכת מועד תוקף עיכוב ביצוע ביטול צו איסור הפרסום נדחית על ידי בית המשפט העליון.\n",
            "\n",
            "📌 Fine-Tuning Result: בקשה אחרת\n",
            "בקשה להארכת מועד תוקף עיכוב הביצוע של ביטול צו איסור הפרסום\n",
            "-------------------------------------------------\n",
            "Case 2:\n",
            "Original Judgment: ['פסק דין בתיק רע\"פ 4386/08 בבית המשפט העליון רע\"פ 4386/08 בפני: כבוד השופטת א\\' פרוקצ\\'יה כבוד השופט א\\' רובינשטיין כבוד השופט ס\\' ג\\'ובראן המבקש: גד כהן נגד המשיבה: מדינת ישראל בקשת רשות ערעור על פסק-דינו של בית המשפט המחוזי בירושלים מיום 30.4.08 בע\"פ 2074/08 שניתן על-ידי כבוד השופט ע\\' חבש – סג\"נ בשם המבקש: עו\"ד דוד גולן בשם המשיבה: עו\"ד מיטל בוכמן-שינדל פסק דין לאור הסכמת הצדדים, המוצאת את ביטויה בסעיף 3 לתגובת המשיבה, ניתנת בזאת רשות ערעור, והערעור מתקבל במובן זה שפסקי הדין נשוא הבקשה שניתנו בעניינו של המבקש מבוטלים בזאת, והתיק מוחזר לבית משפט השלום לתעבורה בירושלים לדיון מחודש בעניינו. ניתן היום, א\\' בחשון התשס\"ט (30.10.2008). ש ו פ ט ת ש ו פ ט ש ו פ ט _________________________ \n",
            "\n",
            "📌 Prompt Engineering Result: הבית המשפט העליון קבע כי ניתן לערעור על הפסק דין שניתן בבית המשפט המחוזי בירושלים והערעור מתקבל במובן שהפסקי הדין שניתנו בעניין נבוטלים והתיק מוחזר לבית המשפט לתעבורה לדיון מחודש.\n",
            "\n",
            "📌 Fine-Tuning Result: הערעור מתקבל במובן זה שפסקי הדין נשוא הבקשה שניתנו בעניינו של המבקש מבוטלים בזאת, והתיק מוחזר לבית משפט השלום לתעבורה בירושלים לדיון מחודש בעניינו.\n",
            "-------------------------------------------------\n",
            "Case 3:\n",
            "Original Judgment: ['החלטה בתיק רע\"פ 4137/14 בבית המשפט העליון רע\"פ 4137/14 לפני: כבוד השופט א\\' שהם המבקשת: ידיעות תקשורת בע\"מ נגד המשיבים: 1. פלוני 2. מדינת ישראל 3. פלונית 4. פלונית בקשת רשות ערעור על פסק דינו של בית המשפט המחוזי בבאר שבע, מיום 5.6.2014, בע\"פ 672-06-14, שניתן על ידי כב\\' השופטת נ\\' נצר תאריך הישיבה: כ\"ב באב התשע\"ד (18.8.2014) בשם המבקשת: עו\"ד תמיר גליק; עו\"ד עמר זיו-אשכר בשם המשיב 1: עו\"ד נועם בונדר בשם המשיבה 2: עו\"ד מורן פולמן בשם המשיבות 4-3: עו\"ד מירי ביטון-הראל החלטה נדחה לעיון ולהחלטה ניתנה היום, כ\"ב באב התשע\"ד (\\u200f18.8.2014). ש ו פ ט _________________________ \n",
            "\n",
            "📌 Prompt Engineering Result: פסק הדין מדחה לעיון והחלטה ניתנה בתיק המשפטי רע\"פ 4137/14 בבית המשפט העליון, כאשר מבקשת ידיעות תקשורת בע\"מ פנתה בערעור על פסק דין של בית משפט המחוזי בבאר שבע נגד מדינת ישראל ואחרים.\n",
            "\n",
            "📌 Fine-Tuning Result: בקשת רשות ערעור על פסק דינו של בית המשפט המחוזי בבאר שבע, מיום 5.6.2014, בע\"פ 672-06-14, שניתן על ידי כב\\' השופטת נ\\' נצר\n",
            "החלטה נדחה לעיון ולהחלטה\n",
            "-------------------------------------------------\n",
            "Case 4:\n",
            "Original Judgment: ['בבית המשפט העליון בירושלים רע\"פ 9608/01 בפני: כבוד השופט א\\' ריבלין המבקשים: 1. גשמי ברכה ה.ש.י.ג.(1995) 2. גשמי ברכה בע\"מ 3. ה.ש.י.ג.(1995)יזום פרוייקטים 4. שנהב זאב נגד המשיבה: מדינת ישראל בקשת רשות ערעור על פסק-דינו של בית המשפט המחוזי בתל-אביב-יפו מיום 23.10.2001 בתיק עפ\"א 80190/01 שניתן על ידי כבוד השופטים: ד\\' ברלינר, ז\\' המר, י\\' שטופמן בשם המבקשים: עו\"ד שרית שלמון בשם המשיבה: עו\"ד ענבר פלש החלטה בית המשפט לעניינים מקומיים בפתח תקוה (כבוד השופט ג\\' שטרסמן) ביטל את כתב האישום שהוגש כנגד המבקשים, והמייחס להם ביצוע עבירות טעונות היתר בסטיה מהיתר או מתכנית. ערעורה של המדינה על החלטה זו, לבית המשפט המחוזי בתל-אביב (כבוד השופטים ד\\' ברלינר, ז\\' המר וי\\' שטופמן) - התקבל. ההחלטה בדבר ביטול כתב האישום בוטלה, והדיון הוחזר לבית המשפט לעניינים מקומיים, להמשך בירורו למן השלב אליו הגיע. כנגד פסק-דינו של בית המשפט המחוזי מופנית הבקשה שלפנינו. דא עקא, משטרם נתברר, וממילא טרם הוכרע, עניינם של המבקשים - לגופו - בערכאה הראשונה, אין מקום לדון בטענותיהם בפני בית משפט זה. לאחר שימוצו ההליכים בבית משפט השלום, ואם יהיה צורך גם בבית המשפט המחוזי - יהיו רשאים המבקשים - שוב, אם יהיה צורך - לפנות לבית משפט זה בבקשת רשות ערעור (ראו רע\"פ 4632/97 אקסלרוד נ\\' מדינת ישראל (תק-על 97(3) 118)). ניתנה היום, ה\\' באדר תשס\"ב (17.2.2002). ש ו פ ט _________________ העתק מתאים למקור 01096080.P02 /אמ נוסח זה כפוף לשינויי עריכה וניסוח. שמריהו כהן - מזכיר ראשי בבית המשפט העליון פועל מרכז מידע, טל\\' 02-6750444 בית המשפט פתוח להערות והצעות: pniot@supreme.court.gov.il לבתי המשפט אתר באינטרנט: www.court.gov.il']\n",
            "\n",
            "📌 Prompt Engineering Result: הבית המשפט העליון בירושלים ראה לפסק דין המבטל כתב אישום נגד המבקשים, המיוחס אליהם ביצוע עבירות. המדינה ערערה על החלטה זו והבית המשפט כרה את הערעור והחזיר את הדיון לבית המשפט המחוזי להמשך בירור. אנחנו מבקשים שיתקבל פניית רשות ערעור בעתיד, אם יהיה צורך.\n",
            "\n",
            "📌 Fine-Tuning Result: ניתנה הרשות לבקשה\n",
            "בקשת רשות ערעור P02 /אמ\n",
            "-------------------------------------------------\n",
            "Case 5:\n",
            "Original Judgment: ['החלטה בתיק רע\"פ 5340/12 בבית המשפט העליון רע\"פ 5340/12 - ד\\' לפני: כבוד השופט א\\' רובינשטיין כבוד השופט נ\\' סולברג כבוד השופט א\\' שהם המבקש: אנטולי צבישב נגד המשיבה: מדינת ישראל בקשה לשנוי מועד הגשה החלטה כמבוקש תוגש תגובת המדינה 24.3.13. לא ראינו מקום לתגובה נוספת מטעם המבקש. ניתנה היום, כ\"ב באדר תשע\"ג (4.3.13). ש ו פ ט ש ו פ ט ש ו פ ט _________________________ \n",
            "\n",
            "📌 Prompt Engineering Result: בבית המשפט העליון נמסר כי המבקש, אנטולי צבישב, ביקש לשנות את מועד הגשת ההחלטה בתיק וכי תגובת המדינה תוגש בתאריך 24.3.13. לא הייתה תגובה נוספת מהמבקש ולכן ההחלטה יוכל להימסר בתאריך זה.\n",
            "\n",
            "📌 Fine-Tuning Result: הבקשה נדחית\n",
            "כל תייג\n",
            "-------------------------------------------------\n"
          ]
        }
      ]
    },
    {
      "cell_type": "markdown",
      "source": [
        "# Compare models"
      ],
      "metadata": {
        "id": "DjKF2l4C7n6J"
      }
    },
    {
      "cell_type": "code",
      "source": [
        "import shutil"
      ],
      "metadata": {
        "id": "F-B6-wfaGJts"
      },
      "execution_count": 53,
      "outputs": []
    },
    {
      "cell_type": "code",
      "source": [
        "with open(\"/content/api_key.txt\", \"r\") as file:\n",
        "    api_key = file.read().strip()\n",
        "\n",
        "client = openai.OpenAI(api_key=api_key)\n",
        "\n",
        "train_file = client.files.create(\n",
        "    file=open(\"train.jsonl\", \"rb\"),\n",
        "    purpose=\"fine-tune\"\n",
        ")\n",
        "\n",
        "# print(\"Train File ID:\", train_file.id)"
      ],
      "metadata": {
        "id": "B_3rtPbxB6HH"
      },
      "execution_count": 54,
      "outputs": []
    },
    {
      "cell_type": "code",
      "source": [
        "\n",
        "def generate_summary_gpt3(case_text):\n",
        "    response = client.chat.completions.create(\n",
        "        model=lates_model,\n",
        "        messages=[\n",
        "            {\"role\": \"system\", \"content\": \"אתה עוזר משפטי המסכם פסקי דין.\"},\n",
        "            {\"role\": \"user\", \"content\": case_text}\n",
        "        ]\n",
        "    )\n",
        "    return response.choices[0].message.content\n",
        "\n"
      ],
      "metadata": {
        "id": "VkQN9Vr38TEL"
      },
      "execution_count": 55,
      "outputs": []
    },
    {
      "cell_type": "code",
      "source": [
        "def generate_summary_llama2(case_text):\n",
        "    prompt = (\n",
        "        f\"{case_text}\\n\\n\"\n",
        "        \"### Task: Summarize the court ruling in one sentence.\\n\"\n",
        "        \"Summary:\"\n",
        "    )\n",
        "    input_ids = tokenizer(prompt, return_tensors=\"pt\").input_ids.to(\"cuda\")\n",
        "    output = model.generate(input_ids, max_new_tokens=50)\n",
        "    return tokenizer.decode(output[0], skip_special_tokens=True).strip()\n"
      ],
      "metadata": {
        "id": "njGD9Try9TVd"
      },
      "execution_count": 56,
      "outputs": []
    },
    {
      "cell_type": "code",
      "source": [
        "from nltk.translate.bleu_score import sentence_bleu\n",
        "from rouge import Rouge\n",
        "\n",
        "# 📌 פונקציה להשוואת ביצועים בין המודלים\n",
        "def compare_models(original_text, human_summary):\n",
        "    gpt_summary = generate_summary_gpt3(original_text)  #  GPT-3.5\n",
        "    llama_summary = generate_summary_llama2(original_text)  #  Llama 2\n",
        "\n",
        "    bleu_gpt = sentence_bleu([human_summary.split()], gpt_summary.split())\n",
        "    bleu_llama = sentence_bleu([human_summary.split()], llama_summary.split())\n",
        "\n",
        "    rouge = Rouge()\n",
        "    rouge_gpt = rouge.get_scores(gpt_summary, human_summary)[0][\"rouge-l\"][\"f\"]\n",
        "    rouge_llama = rouge.get_scores(llama_summary, human_summary)[0][\"rouge-l\"][\"f\"]\n",
        "\n",
        "    print(f\"📌 BLEU GPT-3.5: {bleu_gpt:.4f}, BLEU Llama-2: {bleu_llama:.4f}\")\n",
        "    print(f\"📌 ROUGE GPT-3.5: {rouge_gpt:.4f}, ROUGE Llama-2: {rouge_llama:.4f}\")\n",
        "\n",
        "    return gpt_summary, llama_summary\n",
        "\n",
        "# 📌 הרצת השוואה לדוגמה\n",
        "original_case = dataset[\"valid\"][0][\"messages\"][1][\"content\"]\n",
        "human_summary = dataset[\"valid\"][0][\"messages\"][2][\"content\"]\n",
        "\n",
        "gpt_output, llama_output = compare_models(original_case, human_summary)\n",
        "\n",
        "print( gpt_output)\n",
        "print(llama_output)\n"
      ],
      "metadata": {
        "colab": {
          "base_uri": "https://localhost:8080/",
          "height": 398
        },
        "id": "LcYa9cSaCXXn",
        "outputId": "40a53687-3886-477a-9102-47c0a07b475e"
      },
      "execution_count": 57,
      "outputs": [
        {
          "output_type": "error",
          "ename": "ModuleNotFoundError",
          "evalue": "No module named 'rouge'",
          "traceback": [
            "\u001b[0;31m---------------------------------------------------------------------------\u001b[0m",
            "\u001b[0;31mModuleNotFoundError\u001b[0m                       Traceback (most recent call last)",
            "\u001b[0;32m<ipython-input-57-fb14cb2b276d>\u001b[0m in \u001b[0;36m<cell line: 0>\u001b[0;34m()\u001b[0m\n\u001b[1;32m      1\u001b[0m \u001b[0;32mfrom\u001b[0m \u001b[0mnltk\u001b[0m\u001b[0;34m.\u001b[0m\u001b[0mtranslate\u001b[0m\u001b[0;34m.\u001b[0m\u001b[0mbleu_score\u001b[0m \u001b[0;32mimport\u001b[0m \u001b[0msentence_bleu\u001b[0m\u001b[0;34m\u001b[0m\u001b[0;34m\u001b[0m\u001b[0m\n\u001b[0;32m----> 2\u001b[0;31m \u001b[0;32mfrom\u001b[0m \u001b[0mrouge\u001b[0m \u001b[0;32mimport\u001b[0m \u001b[0mRouge\u001b[0m\u001b[0;34m\u001b[0m\u001b[0;34m\u001b[0m\u001b[0m\n\u001b[0m\u001b[1;32m      3\u001b[0m \u001b[0;34m\u001b[0m\u001b[0m\n\u001b[1;32m      4\u001b[0m \u001b[0;31m# 📌 פונקציה להשוואת ביצועים בין המודלים\u001b[0m\u001b[0;34m\u001b[0m\u001b[0;34m\u001b[0m\u001b[0m\n\u001b[1;32m      5\u001b[0m \u001b[0;32mdef\u001b[0m \u001b[0mcompare_models\u001b[0m\u001b[0;34m(\u001b[0m\u001b[0moriginal_text\u001b[0m\u001b[0;34m,\u001b[0m \u001b[0mhuman_summary\u001b[0m\u001b[0;34m)\u001b[0m\u001b[0;34m:\u001b[0m\u001b[0;34m\u001b[0m\u001b[0;34m\u001b[0m\u001b[0m\n",
            "\u001b[0;31mModuleNotFoundError\u001b[0m: No module named 'rouge'",
            "",
            "\u001b[0;31m---------------------------------------------------------------------------\u001b[0;32m\nNOTE: If your import is failing due to a missing package, you can\nmanually install dependencies using either !pip or !apt.\n\nTo view examples of installing some common dependencies, click the\n\"Open Examples\" button below.\n\u001b[0;31m---------------------------------------------------------------------------\u001b[0m\n"
          ],
          "errorDetails": {
            "actions": [
              {
                "action": "open_url",
                "actionText": "Open Examples",
                "url": "/notebooks/snippets/importing_libraries.ipynb"
              }
            ]
          }
        }
      ]
    }
  ]
}