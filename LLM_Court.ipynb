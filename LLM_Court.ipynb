{
  "nbformat": 4,
  "nbformat_minor": 0,
  "metadata": {
    "colab": {
      "provenance": [],
      "machine_shape": "hm",
      "gpuType": "T4",
      "cell_execution_strategy": "setup",
      "authorship_tag": "ABX9TyP3l+zJXQu+9uFRRqTAInnO",
      "include_colab_link": true
    },
    "kernelspec": {
      "name": "python3",
      "display_name": "Python 3"
    },
    "language_info": {
      "name": "python"
    },
    "accelerator": "GPU"
  },
  "cells": [
    {
      "cell_type": "markdown",
      "metadata": {
        "id": "view-in-github",
        "colab_type": "text"
      },
      "source": [
        "<a href=\"https://colab.research.google.com/github/noambassat/SupremeCourtClassifier/blob/main/LLM_Court.ipynb\" target=\"_parent\"><img src=\"https://colab.research.google.com/assets/colab-badge.svg\" alt=\"Open In Colab\"/></a>"
      ]
    },
    {
      "cell_type": "code",
      "execution_count": 1,
      "metadata": {
        "id": "vvVtg-CzCG2y"
      },
      "outputs": [],
      "source": [
        "import matplotlib.pyplot as plt\n",
        "import torch\n",
        "import joblib\n",
        "import os\n",
        "import numpy as np\n",
        "import pandas as pd\n",
        "import matplotlib.pyplot as plt\n",
        "from google.colab import drive\n",
        "import time\n",
        "import re\n",
        "import openai\n",
        "import json\n",
        "from sklearn.model_selection import train_test_split\n",
        "import ast"
      ]
    },
    {
      "cell_type": "code",
      "source": [
        "\n",
        "drive.mount('/content/drive')\n",
        "\n"
      ],
      "metadata": {
        "colab": {
          "base_uri": "https://localhost:8080/"
        },
        "id": "rUu4l0zkFPox",
        "outputId": "bfe80763-a133-4bcf-c3e8-013a964162bb"
      },
      "execution_count": 2,
      "outputs": [
        {
          "output_type": "stream",
          "name": "stdout",
          "text": [
            "Drive already mounted at /content/drive; to attempt to forcibly remount, call drive.mount(\"/content/drive\", force_remount=True).\n"
          ]
        }
      ]
    },
    {
      "cell_type": "code",
      "source": [
        "\n",
        "folder_id = \"בית המשפט - קבצים שנבדקו\"\n",
        "directory_path = f\"/content/drive/My Drive/{folder_id}\"\n",
        "classifiers_path = \"/content/drive/MyDrive/בית המשפט - מסווגים/\"\n",
        "\n",
        "if not os.path.exists(directory_path):\n",
        "    print(f\"Directory {directory_path} does not exist. Please check the folder path.\")\n",
        "else:\n",
        "    dataframes = []\n",
        "\n",
        "    for file_name in os.listdir(directory_path):\n",
        "        if file_name.endswith(\".xlsx\") or file_name.endswith(\".xls\"):\n",
        "            file_path = os.path.join(directory_path, file_name)\n",
        "            try:\n",
        "                df = pd.read_excel(file_path)\n",
        "                dataframes.append(df)\n",
        "            except Exception as e:\n",
        "                print(f\"Failed to read {file_name}: {e}\")\n",
        "\n",
        "    if dataframes:\n",
        "        combined_df = pd.concat(dataframes, ignore_index=True)\n",
        "        print(\"All Excel files have been concatenated successfully!\")"
      ],
      "metadata": {
        "colab": {
          "base_uri": "https://localhost:8080/"
        },
        "id": "7-8rCVEjDjXf",
        "outputId": "f23f7332-d00c-47a2-a290-4b21e0dc57b8"
      },
      "execution_count": 3,
      "outputs": [
        {
          "output_type": "stream",
          "name": "stderr",
          "text": [
            "/usr/local/lib/python3.11/dist-packages/openpyxl/worksheet/_reader.py:329: UserWarning: Data Validation extension is not supported and will be removed\n",
            "  warn(msg)\n",
            "/usr/local/lib/python3.11/dist-packages/openpyxl/worksheet/_reader.py:329: UserWarning: Data Validation extension is not supported and will be removed\n",
            "  warn(msg)\n",
            "/usr/local/lib/python3.11/dist-packages/openpyxl/worksheet/_reader.py:329: UserWarning: Data Validation extension is not supported and will be removed\n",
            "  warn(msg)\n",
            "/usr/local/lib/python3.11/dist-packages/openpyxl/worksheet/_reader.py:329: UserWarning: Data Validation extension is not supported and will be removed\n",
            "  warn(msg)\n"
          ]
        },
        {
          "output_type": "stream",
          "name": "stdout",
          "text": [
            "All Excel files have been concatenated successfully!\n"
          ]
        }
      ]
    },
    {
      "cell_type": "code",
      "source": [
        "len(dataframes)"
      ],
      "metadata": {
        "colab": {
          "base_uri": "https://localhost:8080/"
        },
        "id": "cPRCkVSd61os",
        "outputId": "2ae551b8-78a0-494b-a445-73514ef3e8b6"
      },
      "execution_count": 4,
      "outputs": [
        {
          "output_type": "execute_result",
          "data": {
            "text/plain": [
              "6"
            ]
          },
          "metadata": {},
          "execution_count": 4
        }
      ]
    },
    {
      "cell_type": "code",
      "source": [
        "df_1 = dataframes[0]\n",
        "\n",
        "df_1.columns"
      ],
      "metadata": {
        "colab": {
          "base_uri": "https://localhost:8080/"
        },
        "id": "5Rv2ZUDm8Dk6",
        "outputId": "b43b3c39-b3a9-4f41-d4b4-c1ab1cf59df7"
      },
      "execution_count": 5,
      "outputs": [
        {
          "output_type": "execute_result",
          "data": {
            "text/plain": [
              "Index(['level_0', 'index', 'גוף המסמך', 'מספר הליך', 'שם הליך',\n",
              "       'שנת פתיחת ההליך', 'גוף המסמך חתוך', 'predicted_probability',\n",
              "       'prediction_original_model', 'בקשה לרשות ערעור התקבלה?',\n",
              "       'טקסט שמצביע על תוצאת בקשה שונה', 'הערעור התקבל?',\n",
              "       'רע\"פ בקשה אחרת או דלמטה מיוחד', 'קידוד', 'קידוד חוזר', 'הערות ',\n",
              "       'הערות קידוד חוזר'],\n",
              "      dtype='object')"
            ]
          },
          "metadata": {},
          "execution_count": 5
        }
      ]
    },
    {
      "cell_type": "code",
      "source": [
        "df_1 = df_1[['גוף המסמך', 'מספר הליך', 'שם הליך',\n",
        "       'שנת פתיחת ההליך', 'גוף המסמך חתוך',  'בקשה לרשות ערעור התקבלה?',\n",
        "       'טקסט שמצביע על תוצאת בקשה שונה', 'הערעור התקבל?',\n",
        "       'רע\"פ בקשה אחרת או דלמטה מיוחד', 'הערות ',\n",
        "       'הערות קידוד חוזר']]"
      ],
      "metadata": {
        "id": "DY_3qlUc-I43"
      },
      "execution_count": 6,
      "outputs": []
    },
    {
      "cell_type": "code",
      "source": [
        "df_2 = dataframes[1]"
      ],
      "metadata": {
        "id": "uawB3EtE-t8N"
      },
      "execution_count": 7,
      "outputs": []
    },
    {
      "cell_type": "code",
      "source": [
        "df_2 = df_2[['גוף המסמך', 'מספר הליך', 'שם הליך',\n",
        "       'שנת פתיחת ההליך', 'גוף המסמך חתוך',\n",
        "       'בקשה לרשות ערעור התקבלה?',\n",
        "       'טקסט שמצביע על תוצאת בקשה שונה (טקסטים שונים מופרדים ב-**)',\n",
        "       'הערעור התקבל?', 'רע\"פ בקשה אחרת או דלמטה מיוחד',\n",
        "       'הערות תוצאת ערעור', 'הערות ', 'הערות קידוד חוזר']]"
      ],
      "metadata": {
        "id": "JXniQQU3-2Gz"
      },
      "execution_count": 8,
      "outputs": []
    },
    {
      "cell_type": "code",
      "source": [
        "df = pd.concat([df_1, df_2], ignore_index=True)"
      ],
      "metadata": {
        "id": "z0NIHaoM_lDF"
      },
      "execution_count": 9,
      "outputs": []
    },
    {
      "cell_type": "code",
      "source": [
        "df_3 = dataframes[2]"
      ],
      "metadata": {
        "id": "GTp1f9y2_G3l"
      },
      "execution_count": 10,
      "outputs": []
    },
    {
      "cell_type": "code",
      "source": [
        "df_3 = df_3[['גוף המסמך', 'מספר הליך', 'שם הליך',\n",
        "       'שנת פתיחת ההליך',\n",
        "       'בקשה לרשות ערעור התקבלה?',\n",
        "       'טקסט שמצביע על תוצאת בקשה שונה (טקסטים שונים מופרדים ב-**)',\n",
        "       'הערעור התקבל?', 'הערות תוצאת ערעור', 'רע\"פ בקשה אחרת או דלמטה מיוחד', 'הערות ']]"
      ],
      "metadata": {
        "id": "KY4yog2-_usH"
      },
      "execution_count": 11,
      "outputs": []
    },
    {
      "cell_type": "code",
      "source": [
        "df = pd.concat([df, df_3], ignore_index=True)"
      ],
      "metadata": {
        "id": "VVsLDIhj_G71"
      },
      "execution_count": 12,
      "outputs": []
    },
    {
      "cell_type": "code",
      "source": [
        "columns_to_check = [\n",
        "    \"הערות \",\n",
        "    \"הערות תוצאת ערעור\",\n",
        "    \"הערות קידוד חוזר\",\n",
        "    \"טקסט שמצביע על תוצאת בקשה שונה\",\n",
        "    \"טקסט שמצביע על תוצאת בקשה שונה (טקסטים שונים מופרדים ב-**)\",\n",
        "    \"טקסט שמצביע על תוצאת בקשה שונה (טקסטים שונים מופרדים ב-**)\"\n",
        "]\n",
        "\n",
        "\n",
        "df = df[~df[columns_to_check].isna().all(axis=1)]"
      ],
      "metadata": {
        "id": "HYPwg-TeAoWD"
      },
      "execution_count": 13,
      "outputs": []
    },
    {
      "cell_type": "code",
      "source": [
        "df.shape"
      ],
      "metadata": {
        "colab": {
          "base_uri": "https://localhost:8080/"
        },
        "id": "yBNrZ9ST4YK_",
        "outputId": "e855121e-5e75-4dbd-e7f8-a412bd7854a0"
      },
      "execution_count": 14,
      "outputs": [
        {
          "output_type": "execute_result",
          "data": {
            "text/plain": [
              "(348, 13)"
            ]
          },
          "metadata": {},
          "execution_count": 14
        }
      ]
    },
    {
      "cell_type": "code",
      "source": [
        "len(df[\"גוף המסמך\"])\n",
        "\n",
        "# בדיקת האורך של כל פסק דין (במילים)\n",
        "df[\"length\"] = df[\"גוף המסמך\"].apply(lambda x: len(str(x).split()))\n",
        "\n",
        "# חישוב האורך הממוצע\n",
        "average_length = df[\"length\"].mean()\n",
        "max_length = df[\"length\"].max()\n",
        "min_length = df[\"length\"].min()\n",
        "\n",
        "print(f\"אורך ממוצע של פסקי דין: {average_length:.2f} מילים\")\n",
        "print(f\"פסק הדין הארוך ביותר מכיל {max_length} מילים\")\n",
        "print(f\"פסק הדין הקצר ביותר מכיל {min_length} מילים\")\n"
      ],
      "metadata": {
        "colab": {
          "base_uri": "https://localhost:8080/"
        },
        "id": "KEkZ-UDy4gbv",
        "outputId": "556cee29-daea-4e04-afb5-1f0a3c96c622"
      },
      "execution_count": 15,
      "outputs": [
        {
          "output_type": "stream",
          "name": "stdout",
          "text": [
            "אורך ממוצע של פסקי דין: 722.41 מילים\n",
            "פסק הדין הארוך ביותר מכיל 5920 מילים\n",
            "פסק הדין הקצר ביותר מכיל 60 מילים\n"
          ]
        }
      ]
    },
    {
      "cell_type": "code",
      "source": [
        "def convert_list_to_string(text):\n",
        "    if isinstance(text, str) and text.startswith(\"[\") and text.endswith(\"]\"):\n",
        "        try:\n",
        "            text_list = ast.literal_eval(text)\n",
        "            return ' '.join(text_list)\n",
        "        except (ValueError, SyntaxError):\n",
        "            return text\n",
        "    return text\n",
        "\n",
        "def clean_text(text):\n",
        "    if isinstance(text, list):\n",
        "        text = ' '.join(text)\n",
        "    elif isinstance(text, str):\n",
        "        text = re.sub(r'\\n+', ' ', text)  # הסרת שורות חדשות מרובות\n",
        "        text = re.sub(r'\\n', '', text)   # הסרת תווי newline \\n מהטקסט\n",
        "        text = re.sub(r'\\xa0', ' ', text)  # הסרת תווי \\xa0 מהטקסט\n",
        "        text = re.sub(r'\\s+', ' ', text)  # הסרת רווחים מרובים\n",
        "\n",
        "        text = re.sub(r\"העותק כפוף לשינויי עריכה וניסוח.*?$\", \"\", text, flags=re.MULTILINE)\n",
        "        text = re.sub(r\"מרכז מידע, טל' \\d{2,3}-\\d{6,7}.*?$\", \"\", text, flags=re.MULTILINE)\n",
        "        text = re.sub(r\"אתר אינטרנט, .*?$\", \"\", text, flags=re.MULTILINE)\n",
        "    return text\n",
        "\n",
        "print(\"שורות לא קריאות לפני המרה:\")\n",
        "print(df[\"גוף המסמך\"].head())\n",
        "\n",
        "df[\"גוף המסמך\"] = df[\"גוף המסמך\"].apply(clean_text)\n",
        "\n",
        "print(\"\\nשורות לאחר המרה:\")\n",
        "print(df[\"גוף המסמך\"].head())\n",
        "\n",
        "file_path_full = 'checked_df_cleaned.csv' # FULL RAP DATA CLEANED\n",
        "df.to_csv(file_path_full, index=False, encoding='utf-8')\n"
      ],
      "metadata": {
        "colab": {
          "base_uri": "https://localhost:8080/"
        },
        "id": "lLLLzAUR6XvO",
        "outputId": "37a84d9b-2b14-4f53-af9a-fc4de6bf3bb2"
      },
      "execution_count": 16,
      "outputs": [
        {
          "output_type": "stream",
          "name": "stdout",
          "text": [
            "שורות לא קריאות לפני המרה:\n",
            "5      ['החלטה בתיק רע\"פ 3622/15 בבית המשפט העליון רע...\n",
            "31     ['החלטה בתיק רע\"פ 825/15 בבית המשפט העליון רע\"...\n",
            "67     ['החלטה בתיק רע\"פ 54/15 בבית המשפט העליון רע\"פ...\n",
            "73     ['פסק דין בתיק רע\"פ 2811/15 בבית המשפט העליון ...\n",
            "114    ['פסק דין בתיק רע\"פ 2195/15 בבית המשפט העליון ...\n",
            "Name: גוף המסמך, dtype: object\n",
            "\n",
            "שורות לאחר המרה:\n",
            "5      ['החלטה בתיק רע\"פ 3622/15 בבית המשפט העליון רע...\n",
            "31     ['החלטה בתיק רע\"פ 825/15 בבית המשפט העליון רע\"...\n",
            "67     ['החלטה בתיק רע\"פ 54/15 בבית המשפט העליון רע\"פ...\n",
            "73     ['פסק דין בתיק רע\"פ 2811/15 בבית המשפט העליון ...\n",
            "114    ['פסק דין בתיק רע\"פ 2195/15 בבית המשפט העליון ...\n",
            "Name: גוף המסמך, dtype: object\n"
          ]
        }
      ]
    },
    {
      "cell_type": "code",
      "source": [
        "def extract_relevant_part(text):\n",
        "    words = str(text).split()\n",
        "    if len(words) > 1000:\n",
        "        return \" \".join(words[-800:-20])\n",
        "    return text\n",
        "\n",
        "df[\"גוף המסמך חתוך\"] = df[\"גוף המסמך\"].apply(extract_relevant_part)\n",
        "\n",
        "df[[\"גוף המסמך\", \"גוף המסמך חתוך\"]].head()\n"
      ],
      "metadata": {
        "colab": {
          "base_uri": "https://localhost:8080/",
          "height": 206
        },
        "id": "997LkOwE5bcg",
        "outputId": "2d4150a4-5c26-4d13-c40d-ea7e878e352d"
      },
      "execution_count": 17,
      "outputs": [
        {
          "output_type": "execute_result",
          "data": {
            "text/plain": [
              "                                             גוף המסמך  \\\n",
              "5    ['החלטה בתיק רע\"פ 3622/15 בבית המשפט העליון רע...   \n",
              "31   ['החלטה בתיק רע\"פ 825/15 בבית המשפט העליון רע\"...   \n",
              "67   ['החלטה בתיק רע\"פ 54/15 בבית המשפט העליון רע\"פ...   \n",
              "73   ['פסק דין בתיק רע\"פ 2811/15 בבית המשפט העליון ...   \n",
              "114  ['פסק דין בתיק רע\"פ 2195/15 בבית המשפט העליון ...   \n",
              "\n",
              "                                        גוף המסמך חתוך  \n",
              "5    מאסר תמורתו. 6. המבקש ערער לבית המשפט המחוזי ע...  \n",
              "31   ['החלטה בתיק רע\"פ 825/15 בבית המשפט העליון רע\"...  \n",
              "67   (13.1.2015); רע\"פ 8087/14 נדים אנגנאץ נ\\' מדינ...  \n",
              "73   ['פסק דין בתיק רע\"פ 2811/15 בבית המשפט העליון ...  \n",
              "114  ['פסק דין בתיק רע\"פ 2195/15 בבית המשפט העליון ...  "
            ],
            "text/html": [
              "\n",
              "  <div id=\"df-4f2d799a-3c43-43d1-8729-b0a31970163c\" class=\"colab-df-container\">\n",
              "    <div>\n",
              "<style scoped>\n",
              "    .dataframe tbody tr th:only-of-type {\n",
              "        vertical-align: middle;\n",
              "    }\n",
              "\n",
              "    .dataframe tbody tr th {\n",
              "        vertical-align: top;\n",
              "    }\n",
              "\n",
              "    .dataframe thead th {\n",
              "        text-align: right;\n",
              "    }\n",
              "</style>\n",
              "<table border=\"1\" class=\"dataframe\">\n",
              "  <thead>\n",
              "    <tr style=\"text-align: right;\">\n",
              "      <th></th>\n",
              "      <th>גוף המסמך</th>\n",
              "      <th>גוף המסמך חתוך</th>\n",
              "    </tr>\n",
              "  </thead>\n",
              "  <tbody>\n",
              "    <tr>\n",
              "      <th>5</th>\n",
              "      <td>['החלטה בתיק רע\"פ 3622/15 בבית המשפט העליון רע...</td>\n",
              "      <td>מאסר תמורתו. 6. המבקש ערער לבית המשפט המחוזי ע...</td>\n",
              "    </tr>\n",
              "    <tr>\n",
              "      <th>31</th>\n",
              "      <td>['החלטה בתיק רע\"פ 825/15 בבית המשפט העליון רע\"...</td>\n",
              "      <td>['החלטה בתיק רע\"פ 825/15 בבית המשפט העליון רע\"...</td>\n",
              "    </tr>\n",
              "    <tr>\n",
              "      <th>67</th>\n",
              "      <td>['החלטה בתיק רע\"פ 54/15 בבית המשפט העליון רע\"פ...</td>\n",
              "      <td>(13.1.2015); רע\"פ 8087/14 נדים אנגנאץ נ\\' מדינ...</td>\n",
              "    </tr>\n",
              "    <tr>\n",
              "      <th>73</th>\n",
              "      <td>['פסק דין בתיק רע\"פ 2811/15 בבית המשפט העליון ...</td>\n",
              "      <td>['פסק דין בתיק רע\"פ 2811/15 בבית המשפט העליון ...</td>\n",
              "    </tr>\n",
              "    <tr>\n",
              "      <th>114</th>\n",
              "      <td>['פסק דין בתיק רע\"פ 2195/15 בבית המשפט העליון ...</td>\n",
              "      <td>['פסק דין בתיק רע\"פ 2195/15 בבית המשפט העליון ...</td>\n",
              "    </tr>\n",
              "  </tbody>\n",
              "</table>\n",
              "</div>\n",
              "    <div class=\"colab-df-buttons\">\n",
              "\n",
              "  <div class=\"colab-df-container\">\n",
              "    <button class=\"colab-df-convert\" onclick=\"convertToInteractive('df-4f2d799a-3c43-43d1-8729-b0a31970163c')\"\n",
              "            title=\"Convert this dataframe to an interactive table.\"\n",
              "            style=\"display:none;\">\n",
              "\n",
              "  <svg xmlns=\"http://www.w3.org/2000/svg\" height=\"24px\" viewBox=\"0 -960 960 960\">\n",
              "    <path d=\"M120-120v-720h720v720H120Zm60-500h600v-160H180v160Zm220 220h160v-160H400v160Zm0 220h160v-160H400v160ZM180-400h160v-160H180v160Zm440 0h160v-160H620v160ZM180-180h160v-160H180v160Zm440 0h160v-160H620v160Z\"/>\n",
              "  </svg>\n",
              "    </button>\n",
              "\n",
              "  <style>\n",
              "    .colab-df-container {\n",
              "      display:flex;\n",
              "      gap: 12px;\n",
              "    }\n",
              "\n",
              "    .colab-df-convert {\n",
              "      background-color: #E8F0FE;\n",
              "      border: none;\n",
              "      border-radius: 50%;\n",
              "      cursor: pointer;\n",
              "      display: none;\n",
              "      fill: #1967D2;\n",
              "      height: 32px;\n",
              "      padding: 0 0 0 0;\n",
              "      width: 32px;\n",
              "    }\n",
              "\n",
              "    .colab-df-convert:hover {\n",
              "      background-color: #E2EBFA;\n",
              "      box-shadow: 0px 1px 2px rgba(60, 64, 67, 0.3), 0px 1px 3px 1px rgba(60, 64, 67, 0.15);\n",
              "      fill: #174EA6;\n",
              "    }\n",
              "\n",
              "    .colab-df-buttons div {\n",
              "      margin-bottom: 4px;\n",
              "    }\n",
              "\n",
              "    [theme=dark] .colab-df-convert {\n",
              "      background-color: #3B4455;\n",
              "      fill: #D2E3FC;\n",
              "    }\n",
              "\n",
              "    [theme=dark] .colab-df-convert:hover {\n",
              "      background-color: #434B5C;\n",
              "      box-shadow: 0px 1px 3px 1px rgba(0, 0, 0, 0.15);\n",
              "      filter: drop-shadow(0px 1px 2px rgba(0, 0, 0, 0.3));\n",
              "      fill: #FFFFFF;\n",
              "    }\n",
              "  </style>\n",
              "\n",
              "    <script>\n",
              "      const buttonEl =\n",
              "        document.querySelector('#df-4f2d799a-3c43-43d1-8729-b0a31970163c button.colab-df-convert');\n",
              "      buttonEl.style.display =\n",
              "        google.colab.kernel.accessAllowed ? 'block' : 'none';\n",
              "\n",
              "      async function convertToInteractive(key) {\n",
              "        const element = document.querySelector('#df-4f2d799a-3c43-43d1-8729-b0a31970163c');\n",
              "        const dataTable =\n",
              "          await google.colab.kernel.invokeFunction('convertToInteractive',\n",
              "                                                    [key], {});\n",
              "        if (!dataTable) return;\n",
              "\n",
              "        const docLinkHtml = 'Like what you see? Visit the ' +\n",
              "          '<a target=\"_blank\" href=https://colab.research.google.com/notebooks/data_table.ipynb>data table notebook</a>'\n",
              "          + ' to learn more about interactive tables.';\n",
              "        element.innerHTML = '';\n",
              "        dataTable['output_type'] = 'display_data';\n",
              "        await google.colab.output.renderOutput(dataTable, element);\n",
              "        const docLink = document.createElement('div');\n",
              "        docLink.innerHTML = docLinkHtml;\n",
              "        element.appendChild(docLink);\n",
              "      }\n",
              "    </script>\n",
              "  </div>\n",
              "\n",
              "\n",
              "<div id=\"df-0df7f6d9-6da8-4f64-9a2a-e1227ded5e45\">\n",
              "  <button class=\"colab-df-quickchart\" onclick=\"quickchart('df-0df7f6d9-6da8-4f64-9a2a-e1227ded5e45')\"\n",
              "            title=\"Suggest charts\"\n",
              "            style=\"display:none;\">\n",
              "\n",
              "<svg xmlns=\"http://www.w3.org/2000/svg\" height=\"24px\"viewBox=\"0 0 24 24\"\n",
              "     width=\"24px\">\n",
              "    <g>\n",
              "        <path d=\"M19 3H5c-1.1 0-2 .9-2 2v14c0 1.1.9 2 2 2h14c1.1 0 2-.9 2-2V5c0-1.1-.9-2-2-2zM9 17H7v-7h2v7zm4 0h-2V7h2v10zm4 0h-2v-4h2v4z\"/>\n",
              "    </g>\n",
              "</svg>\n",
              "  </button>\n",
              "\n",
              "<style>\n",
              "  .colab-df-quickchart {\n",
              "      --bg-color: #E8F0FE;\n",
              "      --fill-color: #1967D2;\n",
              "      --hover-bg-color: #E2EBFA;\n",
              "      --hover-fill-color: #174EA6;\n",
              "      --disabled-fill-color: #AAA;\n",
              "      --disabled-bg-color: #DDD;\n",
              "  }\n",
              "\n",
              "  [theme=dark] .colab-df-quickchart {\n",
              "      --bg-color: #3B4455;\n",
              "      --fill-color: #D2E3FC;\n",
              "      --hover-bg-color: #434B5C;\n",
              "      --hover-fill-color: #FFFFFF;\n",
              "      --disabled-bg-color: #3B4455;\n",
              "      --disabled-fill-color: #666;\n",
              "  }\n",
              "\n",
              "  .colab-df-quickchart {\n",
              "    background-color: var(--bg-color);\n",
              "    border: none;\n",
              "    border-radius: 50%;\n",
              "    cursor: pointer;\n",
              "    display: none;\n",
              "    fill: var(--fill-color);\n",
              "    height: 32px;\n",
              "    padding: 0;\n",
              "    width: 32px;\n",
              "  }\n",
              "\n",
              "  .colab-df-quickchart:hover {\n",
              "    background-color: var(--hover-bg-color);\n",
              "    box-shadow: 0 1px 2px rgba(60, 64, 67, 0.3), 0 1px 3px 1px rgba(60, 64, 67, 0.15);\n",
              "    fill: var(--button-hover-fill-color);\n",
              "  }\n",
              "\n",
              "  .colab-df-quickchart-complete:disabled,\n",
              "  .colab-df-quickchart-complete:disabled:hover {\n",
              "    background-color: var(--disabled-bg-color);\n",
              "    fill: var(--disabled-fill-color);\n",
              "    box-shadow: none;\n",
              "  }\n",
              "\n",
              "  .colab-df-spinner {\n",
              "    border: 2px solid var(--fill-color);\n",
              "    border-color: transparent;\n",
              "    border-bottom-color: var(--fill-color);\n",
              "    animation:\n",
              "      spin 1s steps(1) infinite;\n",
              "  }\n",
              "\n",
              "  @keyframes spin {\n",
              "    0% {\n",
              "      border-color: transparent;\n",
              "      border-bottom-color: var(--fill-color);\n",
              "      border-left-color: var(--fill-color);\n",
              "    }\n",
              "    20% {\n",
              "      border-color: transparent;\n",
              "      border-left-color: var(--fill-color);\n",
              "      border-top-color: var(--fill-color);\n",
              "    }\n",
              "    30% {\n",
              "      border-color: transparent;\n",
              "      border-left-color: var(--fill-color);\n",
              "      border-top-color: var(--fill-color);\n",
              "      border-right-color: var(--fill-color);\n",
              "    }\n",
              "    40% {\n",
              "      border-color: transparent;\n",
              "      border-right-color: var(--fill-color);\n",
              "      border-top-color: var(--fill-color);\n",
              "    }\n",
              "    60% {\n",
              "      border-color: transparent;\n",
              "      border-right-color: var(--fill-color);\n",
              "    }\n",
              "    80% {\n",
              "      border-color: transparent;\n",
              "      border-right-color: var(--fill-color);\n",
              "      border-bottom-color: var(--fill-color);\n",
              "    }\n",
              "    90% {\n",
              "      border-color: transparent;\n",
              "      border-bottom-color: var(--fill-color);\n",
              "    }\n",
              "  }\n",
              "</style>\n",
              "\n",
              "  <script>\n",
              "    async function quickchart(key) {\n",
              "      const quickchartButtonEl =\n",
              "        document.querySelector('#' + key + ' button');\n",
              "      quickchartButtonEl.disabled = true;  // To prevent multiple clicks.\n",
              "      quickchartButtonEl.classList.add('colab-df-spinner');\n",
              "      try {\n",
              "        const charts = await google.colab.kernel.invokeFunction(\n",
              "            'suggestCharts', [key], {});\n",
              "      } catch (error) {\n",
              "        console.error('Error during call to suggestCharts:', error);\n",
              "      }\n",
              "      quickchartButtonEl.classList.remove('colab-df-spinner');\n",
              "      quickchartButtonEl.classList.add('colab-df-quickchart-complete');\n",
              "    }\n",
              "    (() => {\n",
              "      let quickchartButtonEl =\n",
              "        document.querySelector('#df-0df7f6d9-6da8-4f64-9a2a-e1227ded5e45 button');\n",
              "      quickchartButtonEl.style.display =\n",
              "        google.colab.kernel.accessAllowed ? 'block' : 'none';\n",
              "    })();\n",
              "  </script>\n",
              "</div>\n",
              "\n",
              "    </div>\n",
              "  </div>\n"
            ],
            "application/vnd.google.colaboratory.intrinsic+json": {
              "type": "dataframe",
              "summary": "{\n  \"name\": \"df[[\\\"\\u05d2\\u05d5\\u05e3 \\u05d4\\u05de\\u05e1\\u05de\\u05da\\\", \\\"\\u05d2\\u05d5\\u05e3 \\u05d4\\u05de\\u05e1\\u05de\\u05da \\u05d7\\u05ea\\u05d5\\u05da\\\"]]\",\n  \"rows\": 5,\n  \"fields\": [\n    {\n      \"column\": \"\\u05d2\\u05d5\\u05e3 \\u05d4\\u05de\\u05e1\\u05de\\u05da\",\n      \"properties\": {\n        \"dtype\": \"string\",\n        \"num_unique_values\": 5,\n        \"samples\": [\n          \"['\\u05d4\\u05d7\\u05dc\\u05d8\\u05d4 \\u05d1\\u05ea\\u05d9\\u05e7 \\u05e8\\u05e2\\\"\\u05e4 825/15 \\u05d1\\u05d1\\u05d9\\u05ea \\u05d4\\u05de\\u05e9\\u05e4\\u05d8 \\u05d4\\u05e2\\u05dc\\u05d9\\u05d5\\u05df \\u05e8\\u05e2\\\"\\u05e4 825/15 - \\u05d1\\\\' \\u05dc\\u05e4\\u05e0\\u05d9: \\u05db\\u05d1\\u05d5\\u05d3 \\u05d4\\u05e9\\u05d5\\u05e4\\u05d8 \\u05d7\\\\' \\u05de\\u05dc\\u05e6\\u05e8 \\u05d4\\u05de\\u05d1\\u05e7\\u05e9: \\u05de\\u05e8\\u05d3\\u05db\\u05d9 \\u05e7\\u05d9\\u05e1\\u05d5\\u05e1 \\u05e0\\u05d2\\u05d3 \\u05d4\\u05de\\u05e9\\u05d9\\u05d1\\u05d4: \\u05de\\u05d3\\u05d9\\u05e0\\u05ea \\u05d9\\u05e9\\u05e8\\u05d0\\u05dc \\u05d1\\u05e7\\u05e9\\u05d4 \\u05dc\\u05e2\\u05d9\\u05db\\u05d5\\u05d1 \\u05d1\\u05d9\\u05e6\\u05d5\\u05e2 \\u05e2\\u05d5\\u05e0\\u05e9 \\u05de\\u05d0\\u05e1\\u05e8 \\u05de\\u05ea\\u05d0\\u05e8\\u05d9\\u05da 18.02.2015; \\u05ea\\u05d2\\u05d5\\u05d1\\u05ea \\u05d4\\u05de\\u05e9\\u05d9\\u05d1\\u05d4 \\u05dc\\u05d1\\u05e7\\u05e9\\u05d4 \\u05de\\u05ea\\u05d0\\u05e8\\u05d9\\u05da 19.02.2015 \\u05d1\\u05e9\\u05dd \\u05d4\\u05de\\u05d1\\u05e7\\u05e9: \\u05e2\\u05d5\\\"\\u05d3 \\u05e9\\u05de\\u05d5\\u05d0\\u05dc \\u05d1\\u05e8\\u05d6\\u05e0\\u05d9 \\u05d1\\u05e9\\u05dd \\u05d4\\u05de\\u05e9\\u05d9\\u05d1\\u05d4: \\u05e2\\u05d5\\\"\\u05d3 \\u05e1\\u05d9\\u05d2\\u05dc \\u05d1\\u05dc\\u05d5\\u05dd \\u05d4\\u05d7\\u05dc\\u05d8\\u05d4 \\u05db\\u05de\\u05d1\\u05d5\\u05e7\\u05e9 \\u05d5\\u05db\\u05de\\u05d5\\u05e1\\u05db\\u05dd \\u05d4\\u05de\\u05d1\\u05e7\\u05e9 \\u05d9\\u05ea\\u05d9\\u05d9\\u05e6\\u05d1 \\u05dc\\u05e8\\u05d9\\u05e6\\u05d5\\u05d9 \\u05e2\\u05d5\\u05e0\\u05e9 \\u05d4\\u05de\\u05d0\\u05e1\\u05e8 \\u05e9\\u05e0\\u05d2\\u05d6\\u05e8 \\u05e2\\u05dc\\u05d9\\u05d5 \\u2013 \\u05d1\\u05ea\\u05d0\\u05e8\\u05d9\\u05da 13.04.2015 \\u05e2\\u05d3 \\u05dc\\u05e9\\u05e2\\u05d4 10:00, \\u05d1\\u05d1\\u05d9\\u05de\\\"\\u05e8 \\u05e7\\u05d9\\u05e9\\u05d5\\u05df, \\u05d0\\u05d5 \\u05d1\\u05de\\u05e7\\u05d5\\u05dd \\u05d0\\u05d7\\u05e8 \\u05e2\\u05dc \\u05e4\\u05d9 \\u05d4\\u05d7\\u05dc\\u05d8\\u05ea \\u05e9\\u05d9\\u05e8\\u05d5\\u05ea \\u05d1\\u05ea\\u05d9 \\u05d4\\u05e1\\u05d5\\u05d4\\u05e8, \\u05db\\u05e9\\u05d1\\u05e8\\u05e9\\u05d5\\u05ea\\u05d5 \\u05ea\\u05e2\\u05d5\\u05d3\\u05ea \\u05d6\\u05d4\\u05d5\\u05ea, \\u05d0\\u05d5 \\u05d3\\u05e8\\u05db\\u05d5\\u05df. \\u05e2\\u05dc \\u05d4\\u05de\\u05d1\\u05e7\\u05e9 \\u05dc\\u05ea\\u05d0\\u05dd \\u05d0\\u05ea \\u05d4\\u05db\\u05e0\\u05d9\\u05e1\\u05d4 \\u05dc\\u05de\\u05d0\\u05e1\\u05e8, \\u05db\\u05d5\\u05dc\\u05dc \\u05d4\\u05d0\\u05e4\\u05e9\\u05e8\\u05d5\\u05ea \\u05dc\\u05de\\u05d9\\u05d5\\u05df \\u05de\\u05d5\\u05e7\\u05d3\\u05dd, \\u05e2\\u05dd \\u05e2\\u05e0\\u05e3 \\u05d0\\u05d1\\u05d7\\u05d5\\u05df \\u05d5\\u05de\\u05d9\\u05d5\\u05df \\u05e9\\u05dc \\u05e9\\u05d9\\u05e8\\u05d5\\u05ea \\u05d1\\u05ea\\u05d9 \\u05d4\\u05e1\\u05d5\\u05d4\\u05e8, \\u05d8\\u05dc\\u05e4\\u05d5\\u05e0\\u05d9\\u05dd: 08-9787377 \\u05d0\\u05d5 08-9787336. \\u05e0\\u05d9\\u05ea\\u05e0\\u05d4 \\u05d4\\u05d9\\u05d5\\u05dd, \\\\u200f\\u05d2\\\\' \\u05d1\\u05d0\\u05d3\\u05e8 \\u05d4\\u05ea\\u05e9\\u05e2\\\"\\u05d4 (\\\\u200f22.2.2015). \\u05e9 \\u05d5 \\u05e4 \\u05d8 _________________________ \",\n          \"['\\u05e4\\u05e1\\u05e7 \\u05d3\\u05d9\\u05df \\u05d1\\u05ea\\u05d9\\u05e7 \\u05e8\\u05e2\\\"\\u05e4 2195/15 \\u05d1\\u05d1\\u05d9\\u05ea \\u05d4\\u05de\\u05e9\\u05e4\\u05d8 \\u05d4\\u05e2\\u05dc\\u05d9\\u05d5\\u05df \\u05e8\\u05e2\\\"\\u05e4 2195/15 \\u05e8\\u05e2\\\"\\u05e4 2231/15 \\u05dc\\u05e4\\u05e0\\u05d9: \\u05db\\u05d1\\u05d5\\u05d3 \\u05d4\\u05e9\\u05d5\\u05e4\\u05d8 \\u05e1\\\\' \\u05d2\\\\'\\u05d5\\u05d1\\u05e8\\u05d0\\u05df \\u05db\\u05d1\\u05d5\\u05d3 \\u05d4\\u05e9\\u05d5\\u05e4\\u05d8 \\u05e0\\\\' \\u05d4\\u05e0\\u05d3\\u05dc \\u05db\\u05d1\\u05d5\\u05d3 \\u05d4\\u05e9\\u05d5\\u05e4\\u05d8 \\u05d0\\\\' \\u05e9\\u05d4\\u05dd \\u05d4\\u05de\\u05d1\\u05e7\\u05e9\\u05d9\\u05dd \\u05d1\\u05e8\\u05e2\\\"\\u05e4 2195/15: 1. \\u05d0\\u05d4\\u05d5\\u05d3 \\u05d9\\u05e4\\u05e8\\u05d7 2. \\u05d7\\u05d1\\\\' \\u05d0\\u05d4\\u05d5\\u05d3 \\u05de\\u05d0\\u05d9\\u05e8 \\u05e9\\u05d0\\u05d9\\u05d1\\u05d5\\u05ea \\u05d1\\u05e2\\\"\\u05de 3. \\u05d8\\u05d9\\u05d4\\u05dc \\u05e0\\u05db\\u05e1\\u05d9\\u05dd \\u05d1\\u05e2\\\"\\u05de 4. \\u05dc\\u05d9 \\u05d9\\u05e4\\u05e8\\u05d7 \\u05d4\\u05de\\u05d1\\u05e7\\u05e9\\u05d9\\u05dd \\u05d1\\u05e8\\u05e2\\\"\\u05e4 2231/15: 1. \\u05d9\\u05d5\\u05e1\\u05d9 \\u05dc\\u05d9\\u05d1\\u05d5\\u05d1\\u05d9\\u05e5\\\\' 2. \\u05e8\\u05d9\\u05e0\\u05ea \\u05dc\\u05d9\\u05d1\\u05d5\\u05d1\\u05d9\\u05e5\\\\' \\u05e0\\u05d2\\u05d3 \\u05d4\\u05de\\u05e9\\u05d9\\u05d1\\u05d4: \\u05de\\u05d3\\u05d9\\u05e0\\u05ea \\u05d9\\u05e9\\u05e8\\u05d0\\u05dc \\u05d1\\u05e7\\u05e9\\u05d5\\u05ea \\u05e8\\u05e9\\u05d5\\u05ea \\u05e2\\u05e8\\u05e2\\u05d5\\u05e8 \\u05e2\\u05dc \\u05d4\\u05d7\\u05dc\\u05d8\\u05ea\\u05d5 \\u05e9\\u05dc \\u05d1\\u05d9\\u05ea \\u05d4\\u05de\\u05e9\\u05e4\\u05d8 \\u05d4\\u05de\\u05d7\\u05d5\\u05d6\\u05d9 \\u05de\\u05e8\\u05db\\u05d6-\\u05dc\\u05d5\\u05d3 \\u05de\\u05d9\\u05d5\\u05dd 26.2.2015 \\u05d1\\u05e2\\\"\\u05d7 28595-01-15 \\u05e9\\u05e0\\u05d9\\u05ea\\u05df \\u05e2\\u05dc \\u05d9\\u05d3\\u05d9 \\u05db\\u05d1\\u05d5\\u05d3 \\u05d4\\u05e9\\u05d5\\u05e4\\u05d8\\u05ea \\u05d3\\u05d1\\u05d5\\u05e8\\u05d4 \\u05e2\\u05d8\\u05e8 \\u05ea\\u05d0\\u05e8\\u05d9\\u05da \\u05d4\\u05d9\\u05e9\\u05d9\\u05d1\\u05d4: \\u05db\\\"\\u05d2 \\u05d1\\u05d0\\u05dc\\u05d5\\u05dc \\u05d4\\u05ea\\u05e9\\u05e2\\\"\\u05d4 (7.9.2015) \\u05d1\\u05e9\\u05dd \\u05d4\\u05de\\u05d1\\u05e7\\u05e9\\u05d9\\u05dd \\u05d1\\u05e8\\u05e2\\\"\\u05e4 2195/15: \\u05e2\\u05d5\\\"\\u05d3 \\u05d3\\u05e8\\u05d5\\u05e8 \\u05de\\u05ea\\u05ea\\u05d9\\u05d4\\u05d5; \\u05e2\\u05d5\\\"\\u05d3 \\u05d4\\u05d2\\u05e8 \\u05e0\\u05d2\\u05dc\\u05e8 \\u05d1\\u05e9\\u05dd \\u05d4\\u05de\\u05d1\\u05e7\\u05e9\\u05d9\\u05dd \\u05d1\\u05e8\\u05e2\\\"\\u05e4 2231/15: \\u05e2\\u05d5\\\"\\u05d3 \\u05d9\\u05d4\\u05d5\\u05e9\\u05e2 \\u05e8\\u05d6\\u05e0\\u05d9\\u05e7; \\u05e2\\u05d5\\\"\\u05d3 \\u05e6\\u05d9\\u05d5\\u05df \\u05e1\\u05d4\\u05e8\\u05d0\\u05d9 \\u05d1\\u05e9\\u05dd \\u05d4\\u05de\\u05e9\\u05d9\\u05d1\\u05d4: \\u05e2\\u05d5\\\"\\u05d3 \\u05d0\\u05d1\\u05d9 \\u05d5\\u05e1\\u05d8\\u05e8\\u05de\\u05df; \\u05e2\\u05d5\\\"\\u05d3 \\u05d9\\u05e4\\u05e2\\u05ea \\u05e9\\u05d8\\u05d9\\u05d9\\u05df \\u05e4\\u05e1\\u05e7 \\u05d3\\u05d9\\u05df \\u05d1\\u05d4\\u05de\\u05dc\\u05e6\\u05ea\\u05e0\\u05d5 \\u05d7\\u05d6\\u05e8\\u05d5 \\u05d1\\u05d4\\u05dd \\u05d1\\u05d0\\u05d9 \\u05db\\u05d5\\u05d7 \\u05d4\\u05de\\u05d1\\u05e7\\u05e9\\u05d9\\u05dd \\u05de\\u05d4\\u05d1\\u05e7\\u05e9\\u05d5\\u05ea \\u05dc\\u05de\\u05ea\\u05df \\u05e8\\u05e9\\u05d5\\u05ea \\u05e2\\u05e8\\u05e2\\u05d5\\u05e8, \\u05d5\\u05d4\\u05d1\\u05e7\\u05e9\\u05d5\\u05ea \\u05e0\\u05d3\\u05d7\\u05d5\\u05ea \\u05d1\\u05d6\\u05d4. \\u05e0\\u05d9\\u05ea\\u05df \\u05d4\\u05d9\\u05d5\\u05dd, \\u05db\\\"\\u05d2 \\u05d1\\u05d0\\u05dc\\u05d5\\u05dc \\u05d4\\u05ea\\u05e9\\u05e2\\\"\\u05d4 (\\\\u200f7.9.2015). \\u05e9 \\u05d5 \\u05e4 \\u05d8 \\u05e9 \\u05d5 \\u05e4 \\u05d8 \\u05e9 \\u05d5 \\u05e4 \\u05d8 _________________________ \",\n          \"['\\u05d4\\u05d7\\u05dc\\u05d8\\u05d4 \\u05d1\\u05ea\\u05d9\\u05e7 \\u05e8\\u05e2\\\"\\u05e4 54/15 \\u05d1\\u05d1\\u05d9\\u05ea \\u05d4\\u05de\\u05e9\\u05e4\\u05d8 \\u05d4\\u05e2\\u05dc\\u05d9\\u05d5\\u05df \\u05e8\\u05e2\\\"\\u05e4 54/15 \\u05dc\\u05e4\\u05e0\\u05d9: \\u05db\\u05d1\\u05d5\\u05d3 \\u05d4\\u05e9\\u05d5\\u05e4\\u05d8 \\u05d0\\\\' \\u05e9\\u05d4\\u05dd \\u05d4\\u05de\\u05d1\\u05e7\\u05e9\\u05d9\\u05dd: 1. \\u05e4\\u05dc\\u05d5\\u05e0\\u05d9 2. \\u05e4\\u05dc\\u05d5\\u05e0\\u05d9 \\u05e0\\u05d2\\u05d3 \\u05d4\\u05de\\u05e9\\u05d9\\u05d1\\u05d4: \\u05de\\u05d3\\u05d9\\u05e0\\u05ea \\u05d9\\u05e9\\u05e8\\u05d0\\u05dc \\u05d1\\u05e7\\u05e9\\u05ea \\u05e8\\u05e9\\u05d5\\u05ea \\u05e2\\u05e8\\u05e2\\u05d5\\u05e8 \\u05e2\\u05dc \\u05e4\\u05e1\\u05e7 \\u05d3\\u05d9\\u05e0\\u05d5 \\u05e9\\u05dc \\u05d1\\u05d9\\u05ea \\u05d4\\u05de\\u05e9\\u05e4\\u05d8 \\u05d4\\u05de\\u05d7\\u05d5\\u05d6\\u05d9 \\u05d1\\u05d9\\u05e8\\u05d5\\u05e9\\u05dc\\u05d9\\u05dd, \\u05de\\u05d9\\u05d5\\u05dd 8.12.2014, \\u05d1\\u05e2\\u05e0\\\"\\u05e4 29336-07-14, \\u05e9\\u05e0\\u05d9\\u05ea\\u05df \\u05e2\\u05dc-\\u05d9\\u05d3\\u05d9 \\u05db\\u05d1\\\\' \\u05d4\\u05e9\\u05d5\\u05e4\\u05d8\\u05d9\\u05dd \\u05d0\\\\' \\u05e8\\u05d5\\u05de\\u05e0\\u05d5\\u05d1; \\u05d3\\\\' \\u05de\\u05d9\\u05e0\\u05e5; \\u05d0\\\\' \\u05e0\\u05d7\\u05dc\\u05d9\\u05d0\\u05dc\\u05d9-\\u05d7\\u05d9\\u05d0\\u05d8 \\u05d1\\u05e9\\u05dd \\u05d4\\u05de\\u05d1\\u05e7\\u05e9\\u05d9\\u05dd: \\u05e2\\u05d5\\\"\\u05d3 \\u05d7\\u05d0\\u05d2\\\\' \\u05de\\u05d5\\u05e4\\u05d9\\u05d3 \\u05d4\\u05d7\\u05dc\\u05d8\\u05d4 1. \\u05dc\\u05e4\\u05e0\\u05d9\\u05d9 \\u05d1\\u05e7\\u05e9\\u05d4 \\u05dc\\u05e8\\u05e9\\u05d5\\u05ea \\u05e2\\u05e8\\u05e2\\u05d5\\u05e8 \\u05e2\\u05dc \\u05e4\\u05e1\\u05e7 \\u05d3\\u05d9\\u05e0\\u05d5 \\u05e9\\u05dc \\u05d1\\u05d9\\u05ea \\u05d4\\u05de\\u05e9\\u05e4\\u05d8 \\u05d4\\u05de\\u05d7\\u05d5\\u05d6\\u05d9 \\u05d1\\u05d9\\u05e8\\u05d5\\u05e9\\u05dc\\u05d9\\u05dd (\\u05db\\u05d1\\\\' \\u05d4\\u05e9\\u05d5\\u05e4\\u05d8\\u05d9\\u05dd \\u05d0\\\\' \\u05e8\\u05d5\\u05de\\u05e0\\u05d5\\u05d1; \\u05d3\\\\' \\u05de\\u05d9\\u05e0\\u05e5; \\u05d0\\\\' \\u05e0\\u05d7\\u05dc\\u05d9\\u05d0\\u05dc\\u05d9-\\u05d7\\u05d9\\u05d0\\u05d8), \\u05d1\\u05e2\\u05e0\\\"\\u05e4 29336-07-14, \\u05de\\u05d9\\u05d5\\u05dd 8.12.2014, \\u05d1\\u05d2\\u05d3\\u05e8\\u05d5 \\u05d4\\u05ea\\u05e7\\u05d1\\u05dc \\u05e2\\u05e8\\u05e2\\u05d5\\u05e8\\u05d4 \\u05e9\\u05dc \\u05d4\\u05de\\u05e9\\u05d9\\u05d1\\u05d4 \\u05e2\\u05dc \\u05d2\\u05d6\\u05e8 \\u05d3\\u05d9\\u05e0\\u05d5 \\u05e9\\u05dc \\u05d1\\u05d9\\u05ea \\u05de\\u05e9\\u05e4\\u05d8 \\u05d4\\u05e9\\u05dc\\u05d5\\u05dd \\u05d1\\u05d9\\u05e8\\u05d5\\u05e9\\u05dc\\u05d9\\u05dd, \\u05d1\\u05e9\\u05d1\\u05ea\\u05d5 \\u05db\\u05d1\\u05d9\\u05ea \\u05de\\u05e9\\u05e4\\u05d8 \\u05d4\\u05e9\\u05dc\\u05d5\\u05dd \\u05dc\\u05e0\\u05d5\\u05e2\\u05e8 (\\u05db\\u05d1\\\\' \\u05d4\\u05e9\\u05d5\\u05e4\\u05d8 \\u05e9\\\\' \\u05dc\\u05d9\\u05d9\\u05d1\\u05d5) (\\u05dc\\u05d4\\u05dc\\u05df: \\u05d1\\u05d9\\u05ea \\u05de\\u05e9\\u05e4\\u05d8 \\u05d4\\u05e9\\u05dc\\u05d5\\u05dd), \\u05d1\\u05ea\\\"\\u05e4 25628-03-13, \\u05de\\u05d9\\u05d5\\u05dd 17.6.2014. \\u05d1\\u05d3 \\u05d1\\u05d1\\u05d3 \\u05e2\\u05dd \\u05d4\\u05d1\\u05e7\\u05e9\\u05d4 \\u05dc\\u05e8\\u05e9\\u05d5\\u05ea \\u05e2\\u05e8\\u05e2\\u05d5\\u05e8, \\u05d4\\u05d2\\u05d9\\u05e9\\u05d5 \\u05d4\\u05de\\u05d1\\u05e7\\u05e9\\u05d9\\u05dd \\u05d1\\u05e7\\u05e9\\u05d4 \\u05dc\\u05e2\\u05d9\\u05db\\u05d5\\u05d1 \\u05d1\\u05d9\\u05e6\\u05d5\\u05e2 \\u05e2\\u05d5\\u05e0\\u05e9 \\u05d4\\u05de\\u05d0\\u05e1\\u05e8 \\u05d1\\u05e4\\u05d5\\u05e2\\u05dc, \\u05d0\\u05e9\\u05e8 \\u05d4\\u05d5\\u05e9\\u05ea \\u05e2\\u05dc\\u05d9\\u05d4\\u05dd. \\u05d1\\u05d4\\u05d7\\u05dc\\u05d8\\u05ea\\u05d9 \\u05de\\u05d9\\u05d5\\u05dd 11.1.2015, \\u05d4\\u05d5\\u05e8\\u05d9\\u05ea\\u05d9 \\u05e2\\u05dc \\u05e2\\u05d9\\u05db\\u05d5\\u05d1 \\u05d1\\u05d9\\u05e6\\u05d5\\u05e2 \\u05d4\\u05e2\\u05d5\\u05e0\\u05e9 \\u05e2\\u05d3 \\u05dc\\u05d4\\u05db\\u05e8\\u05e2\\u05d4 \\u05d1\\u05d1\\u05e7\\u05e9\\u05d4 \\u05dc\\u05e8\\u05e9\\u05d5\\u05ea \\u05e2\\u05e8\\u05e2\\u05d5\\u05e8. \\u05e8\\u05e7\\u05e2 \\u05d5\\u05d4\\u05dc\\u05d9\\u05db\\u05d9\\u05dd \\u05e7\\u05d5\\u05d3\\u05de\\u05d9\\u05dd 1. \\u05e0\\u05d2\\u05d3 \\u05d4\\u05de\\u05d1\\u05e7\\u05e9\\u05d9\\u05dd \\u05d4\\u05d5\\u05d2\\u05e9 \\u05db\\u05ea\\u05d1 \\u05d0\\u05d9\\u05e9\\u05d5\\u05dd, \\u05d4\\u05de\\u05d9\\u05d9\\u05d7\\u05e1 \\u05dc\\u05d4\\u05dd \\u05e2\\u05d1\\u05d9\\u05e8\\u05d5\\u05ea \\u05e9\\u05dc \\u05d4\\u05ea\\u05e4\\u05e8\\u05e2\\u05d5\\u05ea, \\u05dc\\u05e4\\u05d9 \\u05e1\\u05e2\\u05d9\\u05e3 152 \\u05dc\\u05d7\\u05d5\\u05e7 \\u05d4\\u05e2\\u05d5\\u05e0\\u05e9\\u05d9\\u05df, \\u05d4\\u05ea\\u05e9\\u05dc\\\"\\u05d6 \\u2013 1977 (\\u05dc\\u05d4\\u05dc\\u05df: \\u05d7\\u05d5\\u05e7 \\u05d4\\u05e2\\u05d5\\u05e0\\u05e9\\u05d9\\u05df); \\u05d5\\u05e0\\u05d9\\u05e1\\u05d9\\u05d5\\u05df \\u05ea\\u05e7\\u05d9\\u05e4\\u05ea \\u05e9\\u05d5\\u05d8\\u05e8 \\u05d1\\u05e0\\u05e1\\u05d9\\u05d1\\u05d5\\u05ea \\u05de\\u05d7\\u05de\\u05d9\\u05e8\\u05d5\\u05ea, \\u05dc\\u05e4\\u05d9 \\u05e1\\u05e2\\u05d9\\u05e3 274 (1), (2) \\u05d5-(3) \\u05dc\\u05d7\\u05d5\\u05e7 \\u05d4\\u05e2\\u05d5\\u05e0\\u05e9\\u05d9\\u05df, \\u05d1\\u05e6\\u05d9\\u05e8\\u05d5\\u05e3 \\u05e2\\u05dd \\u05e1\\u05e2\\u05d9\\u05e3 25 \\u05dc\\u05d7\\u05d5\\u05e7 \\u05d4\\u05e2\\u05d5\\u05e0\\u05e9\\u05d9\\u05df. 2. \\u05d1\\u05db\\u05ea\\u05d1 \\u05d4\\u05d0\\u05d9\\u05e9\\u05d5\\u05dd \\u05e0\\u05d8\\u05e2\\u05df, \\u05db\\u05d9 \\u05d1\\u05d9\\u05d5\\u05dd 8.3.2013, \\u05d1\\u05e1\\u05d9\\u05d5\\u05de\\u05d4 \\u05e9\\u05dc \\u05ea\\u05e4\\u05d9\\u05dc\\u05ea \\u05d9\\u05d5\\u05dd \\u05d4\\u05e9\\u05d9\\u05e9\\u05d9, \\u05e0\\u05d8\\u05dc\\u05d5 \\u05d4\\u05de\\u05d1\\u05e7\\u05e9\\u05d9\\u05dd \\u05d7\\u05dc\\u05e7 \\u05d1\\u05d4\\u05e4\\u05d2\\u05e0\\u05d5\\u05ea \\u05d0\\u05dc\\u05d9\\u05de\\u05d5\\u05ea \\u05d0\\u05e9\\u05e8 \\u05d4\\u05ea\\u05e7\\u05d9\\u05d9\\u05de\\u05d5 \\u05d1\\u05d4\\u05e8 \\u05d4\\u05d1\\u05d9\\u05ea (\\u05dc\\u05d4\\u05dc\\u05df: \\u05d4\\u05d4\\u05ea\\u05e4\\u05e8\\u05e2\\u05d5\\u05d9\\u05d5\\u05ea), \\u05d5\\u05d9\\u05d9\\u05d3\\u05d5 \\u05d9\\u05d7\\u05d3 \\u05e2\\u05dd \\u05d0\\u05d7\\u05e8\\u05d9\\u05dd \\u05d0\\u05d1\\u05e0\\u05d9\\u05dd \\u05dc\\u05e2\\u05d1\\u05e8 \\u05db\\u05d5\\u05d7\\u05d5\\u05ea \\u05d4\\u05de\\u05e9\\u05d8\\u05e8\\u05d4 \\u05e9\\u05e0\\u05db\\u05d7\\u05d5 \\u05d1\\u05de\\u05e7\\u05d5\\u05dd, \\u05d1\\u05de\\u05e1\\u05d2\\u05e8\\u05ea \\u05ea\\u05e4\\u05e7\\u05d9\\u05d3\\u05dd. \\u05d1\\u05de\\u05d4\\u05dc\\u05da \\u05d4\\u05d4\\u05ea\\u05e4\\u05e8\\u05e2\\u05d5\\u05d9\\u05d5\\u05ea, \\u05e0\\u05d5\\u05e8\\u05d4 \\u05d1\\u05e7\\u05d1\\u05d5\\u05e7 \\u05ea\\u05d1\\u05e2\\u05e8\\u05d4 \\u05e2\\u05dc-\\u05d9\\u05d3\\u05d9 \\u05d0\\u05d7\\u05e8, \\u05d5\\u05e4\\u05d2\\u05e2 \\u05d1\\u05e9\\u05d5\\u05d8\\u05e8. \\u05e2\\u05d5\\u05d3 \\u05e0\\u05d0\\u05de\\u05e8 \\u05d1\\u05db\\u05ea\\u05d1 \\u05d4\\u05d0\\u05d9\\u05e9\\u05d5\\u05dd, \\u05db\\u05d9 \\u05d4\\u05de\\u05d1\\u05e7\\u05e9\\u05d9\\u05dd \\u05d4\\u05e9\\u05ea\\u05ea\\u05e4\\u05d5 \\u05d1\\u05d4\\u05ea\\u05e7\\u05d4\\u05dc\\u05d5\\u05ea \\u05d0\\u05e1\\u05d5\\u05e8\\u05d4, \\u05e9\\u05d9\\u05e9 \\u05d1\\u05d4 \\u05db\\u05d3\\u05d9 \\u05dc\\u05d4\\u05d8\\u05d9\\u05dc \\u05d0\\u05d9\\u05de\\u05d4 \\u05e2\\u05dc \\u05d4\\u05e6\\u05d9\\u05d1\\u05d5\\u05e8; \\u05d5\\u05e0\\u05d9\\u05e1\\u05d5 \\u05dc\\u05ea\\u05e7\\u05d5\\u05e3 \\u05e9\\u05d5\\u05d8\\u05e8\\u05d9\\u05dd \\u05db\\u05e9\\u05d4\\u05dd \\u05de\\u05de\\u05dc\\u05d0\\u05d9\\u05dd \\u05d0\\u05ea \\u05ea\\u05e4\\u05e7\\u05d9\\u05d3\\u05dd \\u05db\\u05d7\\u05d5\\u05e7, \\u05d1\\u05d4\\u05d9\\u05d5\\u05ea\\u05dd \\u05d1\\u05e6\\u05d5\\u05d5\\u05ea\\u05d0 \\u05d7\\u05d3\\u05d0 \\u05e2\\u05dd \\u05d9\\u05d5\\u05ea\\u05e8 \\u05de\\u05e9\\u05e0\\u05d9 \\u05d0\\u05e0\\u05e9\\u05d9\\u05dd, \\u05db\\u05e9\\u05d4\\u05dd \\u05de\\u05d6\\u05d5\\u05d9\\u05d9\\u05e0\\u05d9\\u05dd \\u05d1\\u05d0\\u05d1\\u05df, \\u05d1\\u05db\\u05d5\\u05d5\\u05e0\\u05d4 \\u05dc\\u05d4\\u05e4\\u05e8\\u05d9\\u05e2 \\u05dc\\u05e9\\u05d5\\u05d8\\u05e8\\u05d9\\u05dd \\u05d1\\u05de\\u05d9\\u05dc\\u05d5\\u05d9 \\u05ea\\u05e4\\u05e7\\u05d9\\u05d3\\u05dd. 3. \\u05d1\\u05d9\\u05d5\\u05dd 10.2.2014, \\u05d4\\u05d5\\u05d3\\u05d5 \\u05d4\\u05de\\u05d1\\u05e7\\u05e9\\u05d9\\u05dd \\u05d1\\u05e2\\u05d5\\u05d1\\u05d3\\u05d5\\u05ea \\u05db\\u05ea\\u05d1 \\u05d4\\u05d0\\u05d9\\u05e9\\u05d5\\u05dd, \\u05d5\\u05e2\\u05dc \\u05d9\\u05e1\\u05d5\\u05d3 \\u05d4\\u05d5\\u05d3\\u05d0\\u05ea\\u05dd \\u05d6\\u05d5, \\u05e7\\u05d1\\u05e2 \\u05d1\\u05d9\\u05ea \\u05de\\u05e9\\u05e4\\u05d8 \\u05d4\\u05e9\\u05dc\\u05d5\\u05dd, \\u05db\\u05d9 \\u05d4\\u05de\\u05d1\\u05e7\\u05e9\\u05d9\\u05dd \\u05d1\\u05d9\\u05e6\\u05e2\\u05d5 \\u05d0\\u05ea \\u05d4\\u05e2\\u05d1\\u05d9\\u05e8\\u05d5\\u05ea \\u05e9\\u05d9\\u05d5\\u05d7\\u05e1\\u05d5 \\u05dc\\u05d4\\u05dd \\u05d1\\u05db\\u05ea\\u05d1 \\u05d4\\u05d0\\u05d9\\u05e9\\u05d5\\u05dd, \\u05d5\\u05d4\\u05d5\\u05e8\\u05d4 \\u05e2\\u05dc \\u05e7\\u05d1\\u05dc\\u05ea \\u05ea\\u05e1\\u05e7\\u05d9\\u05e8 \\u05e9\\u05d9\\u05e8\\u05d5\\u05ea \\u05de\\u05d1\\u05d7\\u05df, \\u05d1\\u05e2\\u05e0\\u05d9\\u05d9\\u05e0\\u05dd \\u05e9\\u05dc \\u05d4\\u05de\\u05d1\\u05e7\\u05e9\\u05d9\\u05dd. 4. \\u05d1\\u05d9\\u05d5\\u05dd 17.6.2014, \\u05d4\\u05d7\\u05dc\\u05d9\\u05d8 \\u05d1\\u05d9\\u05ea \\u05de\\u05e9\\u05e4\\u05d8 \\u05d4\\u05e9\\u05dc\\u05d5\\u05dd, \\u05dc\\u05d0\\u05de\\u05e5 \\u05d0\\u05ea \\u05d4\\u05de\\u05dc\\u05e6\\u05ea \\u05e9\\u05d9\\u05e8\\u05d5\\u05ea \\u05d4\\u05de\\u05d1\\u05d7\\u05df, \\u05d1\\u05e2\\u05e0\\u05d9\\u05d9\\u05e0\\u05dd \\u05e9\\u05dc \\u05d4\\u05de\\u05d1\\u05e7\\u05e9\\u05d9\\u05dd, \\u05d5\\u05dc\\u05d4\\u05d9\\u05de\\u05e0\\u05e2 \\u05de\\u05d4\\u05e8\\u05e9\\u05e2\\u05ea\\u05dd \\u05d1\\u05e2\\u05d1\\u05d9\\u05e8\\u05d5\\u05ea \\u05d0\\u05d5\\u05ea\\u05df \\u05d1\\u05d9\\u05e6\\u05e2\\u05d5. \\u05d1\\u05d4\\u05de\\u05e9\\u05da, \\u05d4\\u05d7\\u05dc\\u05d9\\u05d8 \\u05d1\\u05d9\\u05ea \\u05de\\u05e9\\u05e4\\u05d8 \\u05d4\\u05e9\\u05dc\\u05d5\\u05dd \\u05dc\\u05e0\\u05e7\\u05d5\\u05d8 \\u05db\\u05dc\\u05e4\\u05d9 \\u05d4\\u05de\\u05d1\\u05e7\\u05e9\\u05d9\\u05dd \\u05d1\\u05d3\\u05e8\\u05db\\u05d9 \\u05d8\\u05d9\\u05e4\\u05d5\\u05dc \\u05dc\\u05e4\\u05d9 \\u05e1\\u05e2\\u05d9\\u05e3 26 \\u05dc\\u05d7\\u05d5\\u05e7 \\u05d4\\u05e0\\u05d5\\u05e2\\u05e8 (\\u05e9\\u05e4\\u05d9\\u05d8\\u05d4, \\u05e2\\u05e0\\u05d9\\u05e9\\u05d4 \\u05d5\\u05d3\\u05e8\\u05db\\u05d9 \\u05d8\\u05d9\\u05e4\\u05d5\\u05dc), \\u05d4\\u05ea\\u05e9\\u05dc\\\"\\u05d0 \\u2013 1971. \\u05d1\\u05d4\\u05e7\\u05e9\\u05e8 \\u05d6\\u05d4, \\u05e6\\u05d9\\u05d9\\u05df \\u05d1\\u05d9\\u05ea \\u05de\\u05e9\\u05e4\\u05d8 \\u05d4\\u05e9\\u05dc\\u05d5\\u05dd, \\u05db\\u05d9 \\\"\\u05de\\u05d3\\u05d5\\u05d1\\u05e8 \\u05d1\\u05e0\\u05d0\\u05e9\\u05de\\u05d9\\u05dd \\u05d0\\u05e9\\u05e8 \\u05e0\\u05d8\\u05dc\\u05d5 \\u05d0\\u05d7\\u05e8\\u05d9\\u05d5\\u05ea \\u05e2\\u05dc \\u05de\\u05e2\\u05e9\\u05d9\\u05d4\\u05dd, \\u05d4\\u05d1\\u05d9\\u05e2\\u05d5 \\u05d7\\u05e8\\u05d8\\u05d4. \\u05d4\\u05ea\\u05e1\\u05e7\\u05d9\\u05e8 \\u05e9\\u05e0\\u05d9\\u05ea\\u05df \\u05d1\\u05e2\\u05e0\\u05d9\\u05d9\\u05e0\\u05dd \\u05d4\\u05d9\\u05e0\\u05d5 \\u05ea\\u05e1\\u05e7\\u05d9\\u05e8 \\u05d7\\u05d9\\u05d5\\u05d1\\u05d9 \\u05d5\\u05de\\u05ea\\u05d9\\u05d9\\u05d7\\u05e1 \\u05dc\\u05e4\\u05df \\u05d4\\u05e9\\u05d9\\u05e7\\u05d5\\u05de\\u05d9 \\u05d8\\u05d9\\u05e4\\u05d5\\u05dc\\u05d9 \\u05d4\\u05e0\\u05d5\\u05d2\\u05e2 \\u05e1\\u05e4\\u05e6\\u05d9\\u05e4\\u05d9\\u05ea \\u05dc\\u05e2\\u05d1\\u05d9\\u05e8\\u05d5\\u05ea \\u05d4\\u05de\\u05d9\\u05d5\\u05d7\\u05e1\\u05d5\\u05ea \\u05dc\\u05d4\\u05dd. \\u05e9\\u05d9\\u05e8\\u05d5\\u05ea \\u05d4\\u05de\\u05d1\\u05d7\\u05df \\u05e6\\u05d9\\u05d9\\u05df \\u05d4\\u05e9\\u05ea\\u05ea\\u05e4\\u05d5\\u05ea \\u05e2\\u05e8\\u05d4 \\u05d5\\u05e4\\u05e2\\u05d9\\u05dc\\u05d4 \\u05de\\u05e6\\u05d9\\u05d3\\u05dd \\u05e9\\u05dc \\u05e9\\u05e0\\u05d9 \\u05d4\\u05e0\\u05d0\\u05e9\\u05de\\u05d9\\u05dd \\u05d1\\u05e1\\u05d3\\u05e0\\u05ea \\u05d7\\u05d5\\u05e7 \\u05d5\\u05de\\u05e9\\u05e4\\u05d8. \\u05d9\\u05d5\\u05d3\\u05d2\\u05e9 \\u05db\\u05d9 \\u05de\\u05d3\\u05d5\\u05d1\\u05e8 \\u05d1\\u05e0\\u05d0\\u05e9\\u05de\\u05d9\\u05dd \\u05d0\\u05e9\\u05e8 \\u05d6\\u05d4\\u05d5 \\u05dc\\u05d4\\u05dd \\u05de\\u05e2\\u05de\\u05d3 \\u05e8\\u05d0\\u05e9\\u05d5\\u05df \\u05d1\\u05d1\\u05d9\\u05ea \\u05d4\\u05de\\u05e9\\u05e4\\u05d8, \\u05d5\\u05d1\\u05d0\\u05d9\\u05e8\\u05d5\\u05e2 \\u05dc\\u05e4\\u05e0\\u05d9 \\u05de\\u05e2\\u05dc \\u05dc\\u05e9\\u05e0\\u05d4. \\u05d0\\u05d9\\u05df \\u05d0\\u05d9\\u05e0\\u05d3\\u05d9\\u05e7\\u05e6\\u05d9\\u05d4 \\u05dc\\u05d4\\u05e1\\u05ea\\u05d1\\u05db\\u05d5\\u05d9\\u05d5\\u05ea \\u05e0\\u05d5\\u05e1\\u05e4\\u05d5\\u05ea \\u05de\\u05e6\\u05d9\\u05d3\\u05dd\\\". 5. \\u05d1\\u05d2\\u05d6\\u05e8 \\u05d3\\u05d9\\u05e0\\u05d5, \\u05e7\\u05d1\\u05e2 \\u05d1\\u05d9\\u05ea \\u05de\\u05e9\\u05e4\\u05d8 \\u05d4\\u05e9\\u05dc\\u05d5\\u05dd, \\u05db\\u05d9 \\u05d4\\u05de\\u05d1\\u05e7\\u05e9\\u05d9\\u05dd \\u05d9\\u05d7\\u05ea\\u05de\\u05d5 \\u05db\\u05dc \\u05d0\\u05d7\\u05d3 \\u05e2\\u05dc \\u05d4\\u05ea\\u05d7\\u05d9\\u05d9\\u05d1\\u05d5\\u05ea \\u05e2\\u05e6\\u05de\\u05d9\\u05ea \\u05d1\\u05e1\\u05da 1,000 \\u20aa, \\u05dc\\u05e4\\u05d9\\u05d4 \\u05d9\\u05de\\u05e0\\u05e2\\u05d5 \\u05d1\\u05de\\u05e9\\u05da \\u05e9\\u05e0\\u05d4, \\u05de\\u05d1\\u05d9\\u05e6\\u05d5\\u05e2 \\u05d4\\u05e2\\u05d1\\u05d9\\u05e8\\u05d5\\u05ea \\u05d1\\u05d4\\u05df \\u05e0\\u05e7\\u05d1\\u05e2\\u05d4 \\u05d0\\u05d7\\u05e8\\u05d9\\u05d5\\u05ea\\u05dd; \\u05d5\\u05d4\\u05d5\\u05e8\\u05d4 \\u05e2\\u05dc \\u05d4\\u05e2\\u05de\\u05d3\\u05ea \\u05d4\\u05de\\u05d1\\u05e7\\u05e9\\u05d9\\u05dd \\u05d1\\u05e6\\u05d5 \\u05de\\u05d1\\u05d7\\u05df \\u05dc\\u05ea\\u05e7\\u05d5\\u05e4\\u05d4 \\u05d1\\u05ea \\u05e9\\u05d9\\u05e9\\u05d4 \\u05d7\\u05d5\\u05d3\\u05e9\\u05d9\\u05dd, \\u05d1\\u05de\\u05d4\\u05dc\\u05db\\u05d5 \\u05d9\\u05e9\\u05dc\\u05d9\\u05de\\u05d5 \\u05d4\\u05de\\u05d1\\u05e7\\u05e9\\u05d9\\u05dd \\u05d0\\u05ea \\u05e1\\u05d3\\u05e0\\u05ea \\u05d7\\u05d5\\u05e7 \\u05d5\\u05de\\u05e9\\u05e4\\u05d8 \\u05d1\\u05d4 \\u05d4\\u05d7\\u05dc\\u05d5. \\u05dc\\u05e6\\u05d3 \\u05d6\\u05d0\\u05ea, \\u05d4\\u05d8\\u05d9\\u05dc \\u05d1\\u05d9\\u05ea \\u05de\\u05e9\\u05e4\\u05d8 \\u05d4\\u05e9\\u05dc\\u05d5\\u05dd \\u05e2\\u05dc \\u05d4\\u05de\\u05d1\\u05e7\\u05e9 1 \\u05dc\\u05d1\\u05e6\\u05e2 \\u05e9\\u05d9\\u05e8\\u05d5\\u05ea \\u05dc\\u05ea\\u05d5\\u05e2\\u05dc\\u05ea \\u05d4\\u05e6\\u05d9\\u05d1\\u05d5\\u05e8, \\u05d1\\u05d4\\u05d9\\u05e7\\u05e3 \\u05e9\\u05dc 150 \\u05e9\\u05e2\\u05d5\\u05ea; \\u05d5\\u05e2\\u05dc \\u05d4\\u05de\\u05d1\\u05e7\\u05e9 2 \\u05d4\\u05d8\\u05d9\\u05dc \\u05dc\\u05d1\\u05e6\\u05e2 \\u05e9\\u05d9\\u05e8\\u05d5\\u05ea \\u05dc\\u05ea\\u05d5\\u05e2\\u05dc\\u05ea \\u05d4\\u05e6\\u05d9\\u05d1\\u05d5\\u05e8, \\u05d1\\u05d4\\u05d9\\u05e7\\u05e3 \\u05e9\\u05dc 120 \\u05e9\\u05e2\\u05d5\\u05ea. \\u05d1\\u05d9\\u05ea \\u05de\\u05e9\\u05e4\\u05d8 \\u05d4\\u05e9\\u05dc\\u05d5\\u05dd \\u05d4\\u05d7\\u05dc\\u05d9\\u05d8 \\u05e2\\u05dc \\u05d4\\u05d9\\u05e7\\u05e3 \\u05e9\\u05e2\\u05d5\\u05ea \\u05e9\\u05d5\\u05e0\\u05d4, \\u05dc\\u05e0\\u05d5\\u05db\\u05d7 \\u05d4\\u05d1\\u05d3\\u05dc\\u05d9 \\u05d4\\u05d2\\u05d9\\u05dc \\u05d1\\u05d9\\u05df \\u05d4\\u05de\\u05d1\\u05e7\\u05e9\\u05d9\\u05dd: \\u05d4\\u05de\\u05d1\\u05e7\\u05e9 1 \\u05d4\\u05d9\\u05d4 \\u05db\\u05d1\\u05df 17 \\u05d5\\u05d0\\u05e8\\u05d1\\u05e2\\u05d4 \\u05d7\\u05d5\\u05d3\\u05e9\\u05d9\\u05dd \\u05d1\\u05de\\u05d5\\u05e2\\u05d3 \\u05d1\\u05d9\\u05e6\\u05d5\\u05e2 \\u05d4\\u05e2\\u05d1\\u05d9\\u05e8\\u05d5\\u05ea, \\u05d5\\u05d0\\u05d9\\u05dc\\u05d5 \\u05d4\\u05de\\u05d1\\u05e7\\u05e9 2 \\u05d4\\u05d9\\u05d4 \\u05db\\u05d1\\u05df 16 \\u05d1\\u05de\\u05d5\\u05e2\\u05d3 \\u05d6\\u05d4. \\u05e0\\u05d5\\u05e1\\u05e3 \\u05e2\\u05dc \\u05db\\u05da, \\u05d4\\u05e9\\u05d9\\u05ea \\u05d1\\u05d9\\u05ea \\u05d4\\u05de\\u05e9\\u05e4\\u05d8 \\u05e2\\u05dc \\u05db\\u05dc \\u05d0\\u05d7\\u05d3 \\u05de\\u05df \\u05d4\\u05de\\u05d1\\u05e7\\u05e9\\u05d9\\u05dd \\u05e7\\u05e0\\u05e1 \\u05d1\\u05e1\\u05da \\u05e9\\u05dc 3,600 \\u20aa \\u05d0\\u05d5 30 \\u05d9\\u05de\\u05d9 \\u05de\\u05d0\\u05e1\\u05e8 \\u05ea\\u05de\\u05d5\\u05e8\\u05ea\\u05d5. 6. \\u05d4\\u05de\\u05e9\\u05d9\\u05d1\\u05d4 \\u05dc\\u05d0 \\u05d4\\u05e9\\u05dc\\u05d9\\u05de\\u05d4 \\u05e2\\u05dd \\u05ea\\u05d5\\u05e6\\u05d0\\u05d4 \\u05d6\\u05d5, \\u05d5\\u05d4\\u05d2\\u05d9\\u05e9\\u05d4 \\u05e2\\u05e8\\u05e2\\u05d5\\u05e8 \\u05dc\\u05d1\\u05d9\\u05ea \\u05d4\\u05de\\u05e9\\u05e4\\u05d8 \\u05d4\\u05de\\u05d7\\u05d5\\u05d6\\u05d9 \\u05d1\\u05d9\\u05e8\\u05d5\\u05e9\\u05dc\\u05d9\\u05dd, \\u05d1\\u05de\\u05e1\\u05d2\\u05e8\\u05ea\\u05d5 \\u05d1\\u05d9\\u05e7\\u05e9\\u05d4 \\u05dc\\u05d4\\u05e8\\u05e9\\u05d9\\u05e2 \\u05d0\\u05ea \\u05d4\\u05de\\u05d1\\u05e7\\u05e9\\u05d9\\u05dd \\u05d1\\u05d3\\u05d9\\u05df, \\u05d5\\u05dc\\u05d4\\u05e9\\u05d9\\u05ea \\u05e2\\u05dc\\u05d9\\u05d4\\u05dd \\u05e2\\u05d5\\u05e0\\u05e9\\u05d9 \\u05de\\u05d0\\u05e1\\u05e8 \\u05d1\\u05e4\\u05d5\\u05e2\\u05dc. \\u05dc\\u05d8\\u05e2\\u05e0\\u05ea \\u05d4\\u05de\\u05e9\\u05d9\\u05d1\\u05d4, \\u05d1\\u05d9\\u05ea \\u05de\\u05e9\\u05e4\\u05d8 \\u05d4\\u05e9\\u05dc\\u05d5\\u05dd \\u05dc\\u05d0 \\u05e0\\u05ea\\u05df \\u05de\\u05e9\\u05e7\\u05dc \\u05e8\\u05d0\\u05d5\\u05d9 \\u05dc\\u05e0\\u05e1\\u05d9\\u05d1\\u05d5\\u05ea \\u05d4\\u05d7\\u05de\\u05d5\\u05e8\\u05d5\\u05ea \\u05e9\\u05dc \\u05de\\u05e2\\u05e9\\u05d9 \\u05d4\\u05de\\u05d1\\u05e7\\u05e9\\u05d9\\u05dd, \\u05d0\\u05e9\\u05e8 \\u05e0\\u05e2\\u05e9\\u05d5 \\u05d1\\u05e1\\u05d9\\u05d5\\u05dd \\u05ea\\u05e4\\u05d9\\u05dc\\u05d5\\u05ea \\u05d9\\u05d5\\u05dd \\u05d4\\u05e9\\u05d9\\u05e9\\u05d9 \\u05d1\\u05d4\\u05e8 \\u05d4\\u05d1\\u05d9\\u05ea, \\u05e2\\u05dc \\u05db\\u05dc \\u05d4\\u05de\\u05e9\\u05de\\u05e2\\u05d5\\u05d9\\u05d5\\u05ea \\u05d4\\u05e0\\u05dc\\u05d5\\u05d5\\u05ea \\u05dc\\u05db\\u05da; \\u05db\\u05d9 \\u05d0\\u05d9 \\u05d4\\u05e8\\u05e9\\u05e2\\u05ea \\u05d4\\u05de\\u05d1\\u05e7\\u05e9\\u05d9\\u05dd \\u05de\\u05e9\\u05d3\\u05e8\\u05ea \\u05de\\u05e1\\u05e8 \\u05e1\\u05dc\\u05d7\\u05e0\\u05d9 \\u05d5\\u05e4\\u05d5\\u05d2\\u05e2\\u05ea \\u05d1\\u05d0\\u05e4\\u05e7\\u05d8 \\u05d4\\u05d4\\u05e8\\u05ea\\u05e2\\u05d4; \\u05d5\\u05db\\u05d9 \\u05d4\\u05e2\\u05d5\\u05d1\\u05d3\\u05d4 \\u05e9\\u05d4\\u05de\\u05d1\\u05e7\\u05e9\\u05d9\\u05dd \\u05d4\\u05dd \\u05e7\\u05d8\\u05d9\\u05e0\\u05d9\\u05dd \\u05d0\\u05d9\\u05e0\\u05d4 \\u05de\\u05d4\\u05d5\\u05d5\\u05d4 \\u05d7\\u05e1\\u05d9\\u05e0\\u05d5\\u05ea \\u05de\\u05e4\\u05e0\\u05d9 \\u05d4\\u05e8\\u05e9\\u05e2\\u05d4. 7. \\u05d1\\u05d9\\u05ea \\u05d4\\u05de\\u05e9\\u05e4\\u05d8 \\u05d4\\u05de\\u05d7\\u05d5\\u05d6\\u05d9 \\u05e7\\u05d9\\u05d1\\u05dc \\u05d0\\u05ea \\u05d4\\u05e2\\u05e8\\u05e2\\u05d5\\u05e8, \\u05d5\\u05e7\\u05d1\\u05e2 \\u05db\\u05d9 \\u05d9\\u05e9 \\u05dc\\u05d4\\u05e8\\u05e9\\u05d9\\u05e2 \\u05d0\\u05ea \\u05d4\\u05de\\u05d1\\u05e7\\u05e9\\u05d9\\u05dd, \\u05d5\\u05dc\\u05d4\\u05d8\\u05d9\\u05dc \\u05e2\\u05dc\\u05d9\\u05d4\\u05dd \\u05e2\\u05d5\\u05e0\\u05e9\\u05d9 \\u05de\\u05d0\\u05e1\\u05e8 \\u05d1\\u05e4\\u05d5\\u05e2\\u05dc. \\u05d1\\u05de\\u05e1\\u05d2\\u05e8\\u05ea \\u05e4\\u05e1\\u05e7 \\u05d3\\u05d9\\u05e0\\u05d5, \\u05e0\\u05ea\\u05df \\u05d1\\u05d9\\u05ea \\u05d4\\u05de\\u05e9\\u05e4\\u05d8 \\u05d4\\u05de\\u05d7\\u05d5\\u05d6\\u05d9 \\u05d0\\u05ea \\u05d3\\u05e2\\u05ea\\u05d5 \\u05dc\\u05d7\\u05d5\\u05de\\u05e8\\u05ea \\u05d4\\u05de\\u05e2\\u05e9\\u05d9\\u05dd \\u05e9\\u05d9\\u05d5\\u05d7\\u05e1\\u05d5 \\u05dc\\u05de\\u05d1\\u05e7\\u05e9\\u05d9\\u05dd, \\u05d5\\u05e7\\u05d1\\u05e2, \\u05db\\u05d9 \\\"\\u05dc\\u05e0\\u05d5\\u05db\\u05d7 \\u05e9\\u05db\\u05d9\\u05d7\\u05d5\\u05ea \\u05e1\\u05d5\\u05d2 \\u05d4\\u05e2\\u05d1\\u05d9\\u05e8\\u05d5\\u05ea \\u05e9\\u05d4\\u05de\\u05e9\\u05d9\\u05d1\\u05d9\\u05dd \\u05d1\\u05d9\\u05e6\\u05e2\\u05d5...\\u05d5\\u05dc\\u05e0\\u05d5\\u05db\\u05d7 \\u05e0\\u05e1\\u05d9\\u05d1\\u05d5\\u05ea \\u05d1\\u05d9\\u05e6\\u05d5\\u05e2\\u05df...\\u05d4\\u05d9\\u05d4 \\u05de\\u05e7\\u05d5\\u05dd \\u05dc\\u05ea\\u05ea \\u05d1\\u05db\\u05d5\\u05e8\\u05d4 \\u05dc\\u05e9\\u05d9\\u05e7\\u05d5\\u05dc\\u05d9 \\u05d2\\u05de\\u05d5\\u05dc \\u05d5\\u05d4\\u05e8\\u05ea\\u05e2\\u05d4 \\u05d5\\u05dc\\u05d4\\u05e2\\u05d3\\u05d9\\u05e4\\u05dd \\u05e2\\u05dc \\u05e4\\u05e0\\u05d9 \\u05d4\\u05e9\\u05d9\\u05e7\\u05d5\\u05dc\\u05d9\\u05dd \\u05d4\\u05e4\\u05e8\\u05d8\\u05e0\\u05d9\\u05d9\\u05dd \\u05e9\\u05dc \\u05d4\\u05de\\u05e9\\u05d9\\u05d1\\u05d9\\u05dd\\\". \\u05e2\\u05d5\\u05d3 \\u05e0\\u05e7\\u05d1\\u05e2, \\u05db\\u05d9 \\u05d2\\u05dd \\u05db\\u05d0\\u05e9\\u05e8 \\u05de\\u05d3\\u05d5\\u05d1\\u05e8 \\u05d1\\u05e7\\u05d8\\u05d9\\u05e0\\u05d9\\u05dd, \\u05d9\\u05e9 \\u05dc\\u05d4\\u05e2\\u05d3\\u05d9\\u05e3 \\u05d0\\u05ea \\u05d4\\u05d0\\u05d9\\u05e0\\u05d8\\u05e8\\u05e1 \\u05d4\\u05e6\\u05d9\\u05d1\\u05d5\\u05e8\\u05d9, \\u05d5\\u05dc\\u05d4\\u05d5\\u05e8\\u05d5\\u05ea \\u05e2\\u05dc \\u05d4\\u05e8\\u05e9\\u05e2\\u05ea \\u05de\\u05d1\\u05e6\\u05e2\\u05d9 \\u05d4\\u05e2\\u05d1\\u05d9\\u05e8\\u05d5\\u05ea, \\u05d5\\u05d6\\u05d0\\u05ea \\u05e2\\u05dc \\u05de\\u05e0\\u05ea \\u05dc\\u05e9\\u05e8\\u05e9 \\u05d0\\u05ea \\u05d4\\u05ea\\u05d5\\u05e4\\u05e2\\u05d4 \\u05d4\\u05d7\\u05de\\u05d5\\u05e8\\u05d4 \\u05e9\\u05dc \\u05d4\\u05ea\\u05e4\\u05e8\\u05e2\\u05d5\\u05d9\\u05d5\\u05ea \\u05d5\\u05d9\\u05d9\\u05d3\\u05d5\\u05d9 \\u05d0\\u05d1\\u05e0\\u05d9\\u05dd \\u05dc\\u05e2\\u05d1\\u05e8 \\u05db\\u05d5\\u05d7\\u05d5\\u05ea \\u05d4\\u05de\\u05e9\\u05d8\\u05e8\\u05d4. \\u05dc\\u05d0\\u05d7\\u05e8 \\u05d6\\u05d0\\u05ea, \\u05d4\\u05e8\\u05e9\\u05d9\\u05e2 \\u05d1\\u05d9\\u05ea \\u05d4\\u05de\\u05e9\\u05e4\\u05d8 \\u05d4\\u05de\\u05d7\\u05d5\\u05d6\\u05d9 \\u05d0\\u05ea \\u05d4\\u05de\\u05d1\\u05e7\\u05e9\\u05d9\\u05dd \\u05d1\\u05e2\\u05d1\\u05d9\\u05e8\\u05d5\\u05ea \\u05e9\\u05d9\\u05d5\\u05d7\\u05e1\\u05d5 \\u05dc\\u05d4\\u05dd \\u05d1\\u05db\\u05ea\\u05d1 \\u05d4\\u05d0\\u05d9\\u05e9\\u05d5\\u05dd. \\u05d0\\u05e9\\u05e8 \\u05dc\\u05e2\\u05d5\\u05e0\\u05e9, \\u05e6\\u05d9\\u05d9\\u05df \\u05d1\\u05d9\\u05ea \\u05d4\\u05de\\u05e9\\u05e4\\u05d8 \\u05d4\\u05de\\u05d7\\u05d5\\u05d6\\u05d9, \\u05db\\u05d9 \\u05de\\u05d0\\u05d7\\u05e8 \\u05e9\\u05de\\u05e2\\u05e9\\u05d9 \\u05d4\\u05de\\u05d1\\u05e7\\u05e9\\u05d9\\u05dd, \\u05d1\\u05de\\u05e7\\u05e8\\u05d4 \\u05d6\\u05d4, \\u05d4\\u05dd \\u05d7\\u05de\\u05d5\\u05e8\\u05d9\\u05dd \\u05d1\\u05d9\\u05d5\\u05ea\\u05e8 \\u2013 \\u05d0\\u05d9\\u05df \\u05d3\\u05d9 \\u05d1\\u05e9\\u05d9\\u05e8\\u05d5\\u05ea \\u05dc\\u05ea\\u05d5\\u05e2\\u05dc\\u05ea \\u05d4\\u05e6\\u05d9\\u05d1\\u05d5\\u05e8, \\u05d5\\u05e7\\u05d9\\u05d9\\u05de\\u05ea \\u05d4\\u05e6\\u05d3\\u05e7\\u05d4 \\u05dc\\u05d4\\u05d8\\u05d9\\u05dc \\u05e2\\u05dc\\u05d9\\u05d4\\u05dd \\u05e2\\u05d5\\u05e0\\u05e9\\u05d9 \\u05de\\u05d0\\u05e1\\u05e8 \\u05dc\\u05e8\\u05d9\\u05e6\\u05d5\\u05d9 \\u05d1\\u05e4\\u05d5\\u05e2\\u05dc. \\u05dc\\u05e4\\u05d9\\u05db\\u05da, \\u05d1\\u05d9\\u05d8\\u05dc \\u05d1\\u05d9\\u05ea \\u05d4\\u05de\\u05e9\\u05e4\\u05d8 \\u05d4\\u05de\\u05d7\\u05d5\\u05d6\\u05d9 \\u05d0\\u05ea \\u05d4\\u05e8\\u05db\\u05d9\\u05d1\\u05d9\\u05dd \\u05d1\\u05d2\\u05d6\\u05e8 \\u05d4\\u05d3\\u05d9\\u05df, \\u05e9\\u05e2\\u05e0\\u05d9\\u05d9\\u05e0\\u05dd \\u05d7\\u05ea\\u05d9\\u05de\\u05d4 \\u05e2\\u05dc \\u05d4\\u05ea\\u05d7\\u05d9\\u05d9\\u05d1\\u05d5\\u05ea \\u05e2\\u05e6\\u05de\\u05d9\\u05ea, \\u05d5\\u05e9\\u05d9\\u05e8\\u05d5\\u05ea \\u05dc\\u05ea\\u05d5\\u05e2\\u05dc\\u05ea \\u05d4\\u05e6\\u05d9\\u05d1\\u05d5\\u05e8, \\u05d5\\u05d1\\u05de\\u05e7\\u05d5\\u05de\\u05dd \\u05d4\\u05d8\\u05d9\\u05dc \\u05e2\\u05dc \\u05d4\\u05de\\u05d1\\u05e7\\u05e9 1 \\u05de\\u05d0\\u05e1\\u05e8 \\u05d1\\u05e4\\u05d5\\u05e2\\u05dc \\u05dc\\u05ea\\u05e7\\u05d5\\u05e4\\u05d4 \\u05e9\\u05dc \\u05e9\\u05dc\\u05d5\\u05e9\\u05d4 \\u05d5\\u05d7\\u05e6\\u05d9 \\u05d7\\u05d5\\u05d3\\u05e9\\u05d9\\u05dd, \\u05d5\\u05e2\\u05dc \\u05d4\\u05de\\u05d1\\u05e7\\u05e9 2 \\u05de\\u05d0\\u05e1\\u05e8 \\u05d1\\u05e4\\u05d5\\u05e2\\u05dc \\u05dc\\u05ea\\u05e7\\u05d5\\u05e4\\u05d4 \\u05e9\\u05dc \\u05e9\\u05dc\\u05d5\\u05e9\\u05d4 \\u05d7\\u05d5\\u05d3\\u05e9\\u05d9\\u05dd \\u05d5\\u05d9\\u05d5\\u05dd \\u05d0\\u05d7\\u05d3. \\u05db\\u05de\\u05d5 \\u05db\\u05df, \\u05d4\\u05e9\\u05d9\\u05ea \\u05d1\\u05d9\\u05ea \\u05d4\\u05de\\u05e9\\u05e4\\u05d8 \\u05d4\\u05de\\u05d7\\u05d5\\u05d6\\u05d9 \\u05e2\\u05dc \\u05d4\\u05de\\u05d1\\u05e7\\u05e9\\u05d9\\u05dd \\u05de\\u05d0\\u05e1\\u05e8 \\u05de\\u05d5\\u05ea\\u05e0\\u05d4 \\u05d1\\u05df 3 \\u05d7\\u05d5\\u05d3\\u05e9\\u05d9\\u05dd, \\u05dc\\u05de\\u05e9\\u05da \\u05e9\\u05e0\\u05ea\\u05d9\\u05d9\\u05dd, \\u05dc\\u05d1\\u05dc \\u05d9\\u05e2\\u05d1\\u05e8\\u05d5 \\u05d4\\u05e2\\u05d1\\u05d9\\u05e8\\u05d5\\u05ea \\u05d1\\u05d4\\u05df \\u05d4\\u05d5\\u05e8\\u05e9\\u05e2\\u05d5 \\u05d1\\u05ea\\u05d9\\u05e7 \\u05d6\\u05d4. \\u05d9\\u05ea\\u05e8 \\u05e8\\u05db\\u05d9\\u05d1\\u05d9 \\u05d4\\u05e2\\u05d5\\u05e0\\u05e9, \\u05d0\\u05e9\\u05e8 \\u05e0\\u05e7\\u05d1\\u05e2\\u05d5 \\u05d1\\u05d2\\u05d6\\u05e8 \\u05d3\\u05d9\\u05e0\\u05d5 \\u05e9\\u05dc \\u05d1\\u05d9\\u05ea \\u05de\\u05e9\\u05e4\\u05d8 \\u05d4\\u05e9\\u05dc\\u05d5\\u05dd, \\u05e0\\u05d5\\u05ea\\u05e8\\u05d5 \\u05d1\\u05e2\\u05d9\\u05e0\\u05dd. \\u05d4\\u05d1\\u05e7\\u05e9\\u05d4 \\u05dc\\u05e8\\u05e9\\u05d5\\u05ea \\u05e2\\u05e8\\u05e2\\u05d5\\u05e8 8. \\u05d1\\u05d1\\u05e7\\u05e9\\u05d4 \\u05e9\\u05dc\\u05e4\\u05e0\\u05d9\\u05d9, \\u05e0\\u05d8\\u05e2\\u05df, \\u05db\\u05d9 \\u05e4\\u05e1\\u05e7 \\u05d3\\u05d9\\u05e0\\u05d5 \\u05e9\\u05dc \\u05d1\\u05d9\\u05ea \\u05d4\\u05de\\u05e9\\u05e4\\u05d8 \\u05d4\\u05de\\u05d7\\u05d5\\u05d6\\u05d9 \\\"\\u05e1\\u05d5\\u05ea\\u05e8\\\" \\u05d0\\u05ea \\u05e2\\u05e7\\u05e8\\u05d5\\u05df \\u05d4\\u05e9\\u05d5\\u05d5\\u05d9\\u05d5\\u05df, \\u05de\\u05de\\u05e0\\u05d5 \\u05e0\\u05d2\\u05d6\\u05e8 \\u05e2\\u05e7\\u05e8\\u05d5\\u05df \\u05d0\\u05d7\\u05d9\\u05d3\\u05d5\\u05ea \\u05d4\\u05e2\\u05e0\\u05d9\\u05e9\\u05d4. \\u05e6\\u05d5\\u05d9\\u05d9\\u05df, \\u05dc\\u05e2\\u05e0\\u05d9\\u05d9\\u05df \\u05d6\\u05d4, \\u05db\\u05d9 \\u05d1\\u05d2\\u05d9\\u05df \\u05d4\\u05d4\\u05ea\\u05e4\\u05e8\\u05e2\\u05d5\\u05d9\\u05d5\\u05ea \\u05e9\\u05d4\\u05ea\\u05e8\\u05d7\\u05e9\\u05d5 \\u05d1\\u05d9\\u05d5\\u05dd 8.3.2013, \\u05d4\\u05d5\\u05d2\\u05e9\\u05d5 \\u05e9\\u05dc\\u05d5\\u05e9\\u05d4 \\u05db\\u05ea\\u05d1\\u05d9 \\u05d0\\u05d9\\u05e9\\u05d5\\u05dd: \\u05db\\u05ea\\u05d1 \\u05d0\\u05d9\\u05e9\\u05d5\\u05dd \\u05e0\\u05d2\\u05d3 7 \\u05d1\\u05d2\\u05d9\\u05e8\\u05d9\\u05dd; \\u05db\\u05ea\\u05d1 \\u05d0\\u05d9\\u05e9\\u05d5\\u05dd \\u05e0\\u05d2\\u05d3 \\u05e7\\u05d8\\u05d9\\u05df \\u05e0\\u05d5\\u05e1\\u05e3 \\u05d1\\u05d1\\u05d9\\u05ea \\u05de\\u05e9\\u05e4\\u05d8 \\u05d4\\u05e9\\u05dc\\u05d5\\u05dd \\u05dc\\u05e0\\u05d5\\u05e2\\u05e8; \\u05d5\\u05db\\u05ea\\u05d1 \\u05d0\\u05d9\\u05e9\\u05d5\\u05dd \\u05d1\\u05e2\\u05e0\\u05d9\\u05d9\\u05e0\\u05dd \\u05e9\\u05dc \\u05d4\\u05de\\u05d1\\u05e7\\u05e9\\u05d9\\u05dd. \\u05d4\\u05de\\u05d1\\u05e7\\u05e9\\u05d9\\u05dd \\u05e1\\u05d1\\u05d5\\u05e8\\u05d9\\u05dd, \\u05db\\u05d9 \\u05d1\\u05e9\\u05dc \\u05d4\\u05e2\\u05d5\\u05d1\\u05d3\\u05d4, \\u05e9\\u05e4\\u05e1\\u05e7 \\u05d4\\u05d3\\u05d9\\u05df \\u05d1\\u05e2\\u05e8\\u05e2\\u05d5\\u05e8 \\u05e0\\u05d9\\u05ea\\u05df \\u05d1\\u05d6\\u05de\\u05df \\u05e9\\u05dc \\u05e8\\u05d9\\u05d1\\u05d5\\u05d9 \\u05d4\\u05ea\\u05e4\\u05e8\\u05e2\\u05d5\\u05d9\\u05d5\\u05ea \\u05d5\\u05d4\\u05e4\\u05e8\\u05d5\\u05ea \\u05e1\\u05d3\\u05e8 \\u05d1\\u05d9\\u05e8\\u05d5\\u05e9\\u05dc\\u05d9\\u05dd \\u2013 \\u05d4\\u05e2\\u05d5\\u05e0\\u05e9\\u05d9\\u05dd \\u05d0\\u05e9\\u05e8 \\u05d4\\u05d5\\u05d8\\u05dc\\u05d5 \\u05e2\\u05dc\\u05d9\\u05d4\\u05dd \\u05d7\\u05de\\u05d5\\u05e8\\u05d9\\u05dd \\u05de\\u05d0\\u05dc\\u05d4 \\u05e9\\u05d4\\u05d5\\u05d8\\u05dc\\u05d5 \\u05e2\\u05dc \\u05d4\\u05d1\\u05d2\\u05d9\\u05e8\\u05d9\\u05dd \\u05d5\\u05e2\\u05dc \\u05d4\\u05e7\\u05d8\\u05d9\\u05df \\u05d4\\u05e0\\u05d5\\u05e1\\u05e3. \\u05db\\u05de\\u05d5 \\u05db\\u05df, \\u05dc\\u05d8\\u05e2\\u05e0\\u05ea \\u05d4\\u05de\\u05d1\\u05e7\\u05e9\\u05d9\\u05dd, \\u05d1\\u05e7\\u05e9\\u05ea\\u05dd \\u05de\\u05e6\\u05d3\\u05d9\\u05e7\\u05d4 \\u05e8\\u05e9\\u05d5\\u05ea \\u05e2\\u05e8\\u05e2\\u05d5\\u05e8, \\u05e9\\u05db\\u05df \\u05d6\\u05d5 \\u05de\\u05e2\\u05dc\\u05d4 \\u05e9\\u05d0\\u05dc\\u05d4 \\u05de\\u05e9\\u05e4\\u05d8\\u05d9\\u05ea \\u05e2\\u05e7\\u05e8\\u05d5\\u05e0\\u05d9\\u05ea, \\u05d4\\u05e0\\u05d5\\u05d2\\u05e2\\u05ea \\u05dc\\u05de\\u05d3\\u05d9\\u05e0\\u05d9\\u05d5\\u05ea \\u05d4\\u05e2\\u05e0\\u05d9\\u05e9\\u05d4 \\u05d4\\u05e8\\u05d0\\u05d5\\u05d9\\u05d4 \\u05d1\\u05e2\\u05d1\\u05d9\\u05e8\\u05d5\\u05ea \\u05db\\u05d2\\u05d5\\u05df \\u05d3\\u05d0; \\u05d5\\u05dc\\u05e0\\u05d5\\u05db\\u05d7 \\u05d4\\u05e4\\u05e2\\u05e8 \\u05d4\\u05d7\\u05e8\\u05d9\\u05d2 \\u05d1\\u05d9\\u05df \\u05e8\\u05de\\u05ea \\u05d4\\u05e2\\u05e0\\u05d9\\u05e9\\u05d4 \\u05e9\\u05e0\\u05e7\\u05d1\\u05e2\\u05d4 \\u05d1\\u05d1\\u05d9\\u05ea \\u05d4\\u05de\\u05e9\\u05e4\\u05d8 \\u05d4\\u05de\\u05d7\\u05d5\\u05d6\\u05d9, \\u05dc\\u05d1\\u05d9\\u05df \\u05d6\\u05d5 \\u05e9\\u05e0\\u05e7\\u05d1\\u05e2\\u05d4 \\u05d1\\u05d1\\u05d9\\u05ea \\u05de\\u05e9\\u05e4\\u05d8 \\u05d4\\u05e9\\u05dc\\u05d5\\u05dd. \\u05d1\\u05d4\\u05de\\u05e9\\u05da, \\u05d8\\u05e2\\u05e0\\u05d5 \\u05d4\\u05de\\u05d1\\u05e7\\u05e9\\u05d9\\u05dd \\u05db\\u05d9 \\u05d1\\u05d9\\u05ea \\u05d4\\u05de\\u05e9\\u05e4\\u05d8 \\u05d4\\u05de\\u05d7\\u05d5\\u05d6\\u05d9 \\u05e9\\u05d2\\u05d4, \\u05d1\\u05db\\u05da \\u05e9\\u05dc\\u05d0 \\u05d4\\u05ea\\u05d0\\u05d9\\u05dd \\u05d0\\u05ea \\u05d4\\u05e2\\u05e0\\u05d9\\u05e9\\u05d4 \\u05dc\\u05e0\\u05e1\\u05d9\\u05d1\\u05d5\\u05ea\\u05d9\\u05d4\\u05dd \\u05d4\\u05d0\\u05d9\\u05e9\\u05d9\\u05d5\\u05ea \\u05e9\\u05dc \\u05d4\\u05de\\u05d1\\u05e7\\u05e9\\u05d9\\u05dd, \\u05d5\\u05d1\\u05db\\u05dc\\u05dc \\u05d6\\u05d4 \\u05dc\\u05e9\\u05d9\\u05e7\\u05d5\\u05dc\\u05d9 \\u05e9\\u05d9\\u05e7\\u05d5\\u05dd, \\u05d5\\u05dc\\u05e2\\u05e6\\u05dd \\u05d4\\u05d9\\u05d5\\u05ea\\u05dd \\u05e9\\u05dc \\u05d4\\u05de\\u05d1\\u05e7\\u05e9\\u05d9\\u05dd \\u05e7\\u05d8\\u05d9\\u05e0\\u05d9\\u05dd \\u05d1\\u05de\\u05d5\\u05e2\\u05d3 \\u05d1\\u05d9\\u05e6\\u05d5\\u05e2 \\u05d4\\u05e2\\u05d1\\u05d9\\u05e8\\u05d5\\u05ea. \\u05d3\\u05d9\\u05d5\\u05df \\u05d5\\u05d4\\u05db\\u05e8\\u05e2\\u05d4 9. \\u05dc\\u05d0\\u05d7\\u05e8 \\u05e9\\u05e2\\u05d9\\u05d9\\u05e0\\u05ea\\u05d9 \\u05d1\\u05d1\\u05e7\\u05e9\\u05d4 \\u05dc\\u05e8\\u05e9\\u05d5\\u05ea \\u05e2\\u05e8\\u05e2\\u05d5\\u05e8 \\u05d5\\u05d1\\u05e0\\u05e1\\u05e4\\u05d7\\u05d9\\u05d4, \\u05d4\\u05d2\\u05e2\\u05ea\\u05d9 \\u05dc\\u05db\\u05dc\\u05dc \\u05de\\u05e1\\u05e7\\u05e0\\u05d4 \\u05db\\u05d9 \\u05d0\\u05d9\\u05df \\u05de\\u05e7\\u05d5\\u05dd \\u05dc\\u05d9\\u05ea\\u05df \\u05dc\\u05de\\u05d1\\u05e7\\u05e9\\u05d9\\u05dd \\u05e8\\u05e9\\u05d5\\u05ea \\u05e2\\u05e8\\u05e2\\u05d5\\u05e8 \\\"\\u05d1\\u05d2\\u05dc\\u05d2\\u05d5\\u05dc \\u05e9\\u05dc\\u05d9\\u05e9\\u05d9\\\". \\u05d4\\u05dc\\u05db\\u05d4 \\u05de\\u05d5\\u05e9\\u05e8\\u05e9\\u05ea \\u05d4\\u05d9\\u05d0, \\u05db\\u05d9 \\u05e8\\u05e9\\u05d5\\u05ea \\u05e2\\u05e8\\u05e2\\u05d5\\u05e8 \\u05ea\\u05d9\\u05e0\\u05ea\\u05df \\u05d1\\u05de\\u05e9\\u05d5\\u05e8\\u05d4, \\u05d5\\u05e8\\u05e7 \\u05d1\\u05de\\u05e7\\u05e8\\u05d9\\u05dd \\u05d0\\u05e9\\u05e8 \\u05de\\u05e2\\u05d5\\u05e8\\u05e8\\u05d9\\u05dd \\u05e1\\u05d5\\u05d2\\u05d9\\u05d4 \\u05de\\u05e9\\u05e4\\u05d8\\u05d9\\u05ea \\u05db\\u05d1\\u05d3\\u05ea \\u05de\\u05e9\\u05e7\\u05dc \\u05d0\\u05d5 \\u05d1\\u05e2\\u05dc\\u05ea \\u05d4\\u05e9\\u05e4\\u05e2\\u05d4 \\u05e8\\u05d7\\u05d1\\u05d4, \\u05d5\\u05db\\u05df \\u05d1\\u05de\\u05e7\\u05e8\\u05d9\\u05dd \\u05d7\\u05e8\\u05d9\\u05d2\\u05d9\\u05dd \\u05d0\\u05e9\\u05e8 \\u05de\\u05ea\\u05d2\\u05dc\\u05d4 \\u05d1\\u05d4\\u05dd \\u05d0\\u05d9-\\u05e6\\u05d3\\u05e7 \\u05d0\\u05d5 \\u05e2\\u05d9\\u05d5\\u05d5\\u05ea \\u05d3\\u05d9\\u05df \\u05db\\u05dc\\u05e4\\u05d9 \\u05d4\\u05de\\u05d1\\u05e7\\u05e9 (\\u05e8\\u05e2\\\"\\u05e4 8858/14 \\u05d9\\u05e2\\u05e7\\u05d5\\u05d1\\u05d5\\u05d1 \\u05e0\\\\' \\u05de\\u05d3\\u05d9\\u05e0\\u05ea \\u05d9\\u05e9\\u05e8\\u05d0\\u05dc (15.1.2015); \\u05e8\\u05e2\\\"\\u05e4 16/15 \\u05d1\\u05e1\\u05d9\\u05e8 \\u05e1\\u05e2\\u05d0\\u05d9\\u05d3\\u05d4 \\u05e0\\\\' \\u05de\\u05d3\\u05d9\\u05e0\\u05ea \\u05d9\\u05e9\\u05e8\\u05d0\\u05dc (13.1.2015); \\u05e8\\u05e2\\\"\\u05e4 8087/14 \\u05e0\\u05d3\\u05d9\\u05dd \\u05d0\\u05e0\\u05d2\\u05e0\\u05d0\\u05e5 \\u05e0\\\\' \\u05de\\u05d3\\u05d9\\u05e0\\u05ea \\u05d9\\u05e9\\u05e8\\u05d0\\u05dc (10.12.2014)). \\u05d4\\u05d1\\u05e7\\u05e9\\u05d4 \\u05e9\\u05dc\\u05e4\\u05e0\\u05d9\\u05d9 \\u05d0\\u05d9\\u05e0\\u05d4 \\u05d7\\u05d5\\u05e8\\u05d2\\u05ea \\u05de\\u05e2\\u05e0\\u05d9\\u05d9\\u05e0\\u05dd \\u05d4\\u05e4\\u05e8\\u05d8\\u05d9 \\u05e9\\u05dc \\u05d4\\u05de\\u05d1\\u05e7\\u05e9\\u05d9\\u05dd, \\u05d5\\u05d7\\u05e8\\u05e3 \\u05d4\\u05d0\\u05de\\u05d5\\u05e8 \\u05d1\\u05d4, \\u05e0\\u05e1\\u05d9\\u05d1\\u05d5\\u05ea \\u05d4\\u05de\\u05e7\\u05e8\\u05d4 \\u05d0\\u05d9\\u05e0\\u05df \\u05de\\u05e2\\u05d5\\u05e8\\u05e8\\u05d5\\u05ea \\u05db\\u05dc \\u05e9\\u05d0\\u05dc\\u05d4 \\u05de\\u05e9\\u05e4\\u05d8\\u05d9\\u05ea \\u05d4\\u05e2\\u05e9\\u05d5\\u05d9\\u05d4 \\u05dc\\u05d4\\u05e6\\u05d3\\u05d9\\u05e7 \\u05e8\\u05e9\\u05d5\\u05ea \\u05e2\\u05e8\\u05e2\\u05d5\\u05e8 \\u05d1\\u05e4\\u05e0\\u05d9 \\u05d1\\u05d9\\u05ea \\u05de\\u05e9\\u05e4\\u05d8 \\u05d6\\u05d4. \\u05db\\u05de\\u05d5 \\u05db\\u05df, \\u05dc\\u05d0 \\u05e2\\u05d5\\u05dc\\u05d4 \\u05d7\\u05e9\\u05e9 \\u05dc\\u05e2\\u05d9\\u05d5\\u05d5\\u05ea \\u05d3\\u05d9\\u05df \\u05db\\u05dc\\u05e4\\u05d9 \\u05d4\\u05de\\u05d1\\u05e7\\u05e9\\u05d9\\u05dd \\u05d0\\u05d5 \\u05db\\u05d9 \\u05de\\u05ea\\u05e7\\u05d9\\u05d9\\u05de\\u05d9\\u05dd \\u05e9\\u05d9\\u05e7\\u05d5\\u05dc\\u05d9 \\u05e6\\u05d3\\u05e7 \\u05db\\u05dc\\u05e4\\u05d9\\u05d4\\u05dd. \\u05d0\\u05e3 \\u05d0\\u05dd \\u05d1\\u05d9\\u05ea \\u05de\\u05e9\\u05e4\\u05d8 \\u05d4\\u05e9\\u05dc\\u05d5\\u05dd \\u05d5\\u05d1\\u05d9\\u05ea \\u05d4\\u05de\\u05e9\\u05e4\\u05d8 \\u05d4\\u05de\\u05d7\\u05d5\\u05d6\\u05d9 \\u05d4\\u05d2\\u05d9\\u05e2\\u05d5 \\u05dc\\u05de\\u05e1\\u05e7\\u05e0\\u05d5\\u05ea \\u05e9\\u05d5\\u05e0\\u05d5\\u05ea, \\u05d0\\u05d9\\u05df \\u05d1\\u05db\\u05da \\u05de\\u05e9\\u05d5\\u05dd \\u05d4\\u05e6\\u05d3\\u05e7\\u05d4 \\u05dc\\u05e7\\u05d9\\u05d9\\u05dd \\u05d3\\u05d9\\u05d5\\u05df \\u05e0\\u05d5\\u05e1\\u05e3 \\u05d1\\u05e2\\u05e0\\u05d9\\u05d9\\u05e0\\u05d5 \\u05e9\\u05dc \\u05d4\\u05de\\u05d1\\u05e7\\u05e9, \\u05d1\\u05e4\\u05e0\\u05d9 \\u05d1\\u05d9\\u05ea \\u05de\\u05e9\\u05e4\\u05d8 \\u05d6\\u05d4 (\\u05e8\\u05e2\\\"\\u05e4 4070/14 \\\\u200f\\u05e4\\u05dc\\u05d5\\u05e0\\u05d9\\u05ea \\u05e0\\\\' \\u05de\\u05d3\\u05d9\\u05e0\\u05ea \\u05d9\\u05e9\\u05e8\\u05d0\\u05dc (17.6.2014); \\u05e8\\u05e2\\\"\\u05e4 2180/14 \\u05e9\\u05de\\u05d5\\u05d0\\u05dc\\u05d9 \\u05e0\\\\' \\u05de\\u05d3\\u05d9\\u05e0\\u05ea \\u05d9\\u05e9\\u05e8\\u05d0\\u05dc (24.4.2014)). 10. \\u05d4\\u05d0\\u05e4\\u05e9\\u05e8\\u05d5\\u05ea \\u05d4\\u05e0\\u05ea\\u05d5\\u05e0\\u05d4 \\u05dc\\u05d1\\u05d9\\u05ea \\u05d4\\u05de\\u05e9\\u05e4\\u05d8 \\u05dc\\u05d4\\u05d9\\u05de\\u05e0\\u05e2 \\u05de\\u05d4\\u05e8\\u05e9\\u05e2\\u05ea\\u05d5 \\u05e9\\u05dc \\u05e0\\u05d0\\u05e9\\u05dd \\u05e9\\u05d1\\u05d9\\u05e6\\u05e2 \\u05e2\\u05d1\\u05d9\\u05e8\\u05d4, \\u05de\\u05e2\\u05d5\\u05d2\\u05e0\\u05ea \\u05d1\\u05e1\\u05e2\\u05d9\\u05e3 71\\u05d0(\\u05d1) \\u05dc\\u05d7\\u05d5\\u05e7 \\u05d4\\u05e2\\u05d5\\u05e0\\u05e9\\u05d9\\u05df, \\u05d5\\u05d4\\u05d9\\u05d0 \\u05de\\u05d4\\u05d5\\u05d5\\u05d4 \\u05d7\\u05e8\\u05d9\\u05d2 \\u05dc\\u05db\\u05dc\\u05dc, \\u05dc\\u05e4\\u05d9\\u05d5 \\u05de\\u05e9\\u05d4\\u05d5\\u05db\\u05d7 \\u05d1\\u05d9\\u05e6\\u05d5\\u05e2\\u05d4 \\u05e9\\u05dc \\u05e2\\u05d1\\u05d9\\u05e8\\u05d4 \\u05d9\\u05e9 \\u05dc\\u05d4\\u05e8\\u05e9\\u05d9\\u05e2 \\u05d0\\u05ea \\u05d4\\u05e0\\u05d0\\u05e9\\u05dd. \\u05d1\\u05de\\u05d9\\u05dc\\u05d9\\u05dd \\u05d0\\u05d7\\u05e8\\u05d5\\u05ea, \\u05ea\\u05d5\\u05e6\\u05d0\\u05d4 \\u05e9\\u05dc \\u05d4\\u05d9\\u05de\\u05e0\\u05e2\\u05d5\\u05ea \\u05de\\u05d4\\u05e8\\u05e9\\u05e2\\u05d4, \\u05d7\\u05e8\\u05e3 \\u05d4\\u05e7\\u05d1\\u05d9\\u05e2\\u05d4 \\u05db\\u05d9 \\u05d4\\u05e0\\u05d0\\u05e9\\u05dd \\u05d1\\u05d9\\u05e6\\u05e2 \\u05d0\\u05ea \\u05d4\\u05e2\\u05d1\\u05d9\\u05e8\\u05d4, \\u05d4\\u05d9\\u05d0 \\u05ea\\u05d5\\u05e6\\u05d0\\u05d4 \\u05d7\\u05e8\\u05d9\\u05d2\\u05d4, \\u05d4\\u05e9\\u05de\\u05d5\\u05e8\\u05d4 \\u05dc\\u05de\\u05e7\\u05e8\\u05d9\\u05dd \\u05de\\u05d9\\u05d5\\u05d7\\u05d3\\u05d9\\u05dd \\u05d5\\u05d9\\u05d5\\u05e6\\u05d0\\u05d9 \\u05d3\\u05d5\\u05e4\\u05df. \\u05e9\\u05e0\\u05d9 \\u05ea\\u05e0\\u05d0\\u05d9\\u05dd \\u05de\\u05e6\\u05d8\\u05d1\\u05e8\\u05d9\\u05dd \\u05e0\\u05e7\\u05d1\\u05e2\\u05d5, \\u05e2\\u05dc \\u05de\\u05e0\\u05ea \\u05dc\\u05d4\\u05d9\\u05de\\u05e0\\u05e2 \\u05de\\u05d4\\u05e8\\u05e9\\u05e2\\u05d4: \\\"\\u05e8\\u05d0\\u05e9\\u05d9\\u05ea, \\u05e2\\u05dc \\u05d4\\u05d4\\u05e8\\u05e9\\u05e2\\u05d4 \\u05dc\\u05e4\\u05d2\\u05d5\\u05e2 \\u05e4\\u05d2\\u05d9\\u05e2\\u05d4 \\u05d7\\u05de\\u05d5\\u05e8\\u05d4 \\u05d1\\u05e9\\u05d9\\u05e7\\u05d5\\u05dd \\u05d4\\u05e0\\u05d0\\u05e9\\u05dd, \\u05d5\\u05e9\\u05e0\\u05d9\\u05ea, \\u05e1\\u05d5\\u05d2 \\u05d4\\u05e2\\u05d1\\u05d9\\u05e8\\u05d4 \\u05de\\u05d0\\u05e4\\u05e9\\u05e8 \\u05dc\\u05d5\\u05d5\\u05ea\\u05e8 \\u05d1\\u05e0\\u05e1\\u05d9\\u05d1\\u05d5\\u05ea \\u05d4\\u05de\\u05e7\\u05e8\\u05d4 \\u05d4\\u05de\\u05e1\\u05d5\\u05d9\\u05dd \\u05e2\\u05dc \\u05d4\\u05d4\\u05e8\\u05e9\\u05e2\\u05d4 \\u05d1\\u05dc\\u05d9 \\u05dc\\u05e4\\u05d2\\u05d5\\u05e2 \\u05d1\\u05d0\\u05d5\\u05e4\\u05df \\u05de\\u05d4\\u05d5\\u05ea\\u05d9 \\u05d1\\u05e9\\u05d9\\u05e7\\u05d5\\u05dc\\u05d9 \\u05d4\\u05e2\\u05e0\\u05d9\\u05e9\\u05d4 \\u05d4\\u05d0\\u05d7\\u05e8\\u05d9\\u05dd\\\" (\\u05e2\\\"\\u05e4 2083/96 \\u05db\\u05ea\\u05d1 \\u05e0\\\\' \\u05de\\u05d3\\u05d9\\u05e0\\u05ea \\u05d9\\u05e9\\u05e8\\u05d0\\u05dc, \\u05e4\\\"\\u05d3 \\u05e0\\u05d1(3) 337 (1997), \\u05e4\\u05e1\\u05e7\\u05d4 7 \\u05dc\\u05e4\\u05e1\\u05e7-\\u05d3\\u05d9\\u05e0\\u05d4 \\u05e9\\u05dc \\u05d4\\u05e9\\u05d5\\u05e4\\u05d8\\u05ea \\u05d3\\\\' \\u05d3\\u05d5\\u05e8\\u05e0\\u05e8). \\u05d9\\u05d9\\u05e9\\u05d5\\u05dd \\u05ea\\u05e0\\u05d0\\u05d9\\u05dd \\u05d0\\u05dc\\u05d4, \\u05d1\\u05e0\\u05e1\\u05d9\\u05d1\\u05d5\\u05ea \\u05d4\\u05de\\u05e7\\u05e8\\u05d4, \\u05de\\u05d5\\u05d1\\u05d9\\u05dc \\u05dc\\u05de\\u05e1\\u05e7\\u05e0\\u05d4 \\u05db\\u05d9 \\u05e2\\u05e0\\u05d9\\u05d9\\u05e0\\u05dd \\u05e9\\u05dc \\u05d4\\u05de\\u05d1\\u05e7\\u05e9\\u05d9\\u05dd \\u05d0\\u05d9\\u05e0\\u05e0\\u05d5 \\u05e0\\u05de\\u05e0\\u05d4 \\u05e2\\u05dc \\u05d0\\u05d5\\u05ea\\u05dd \\u05de\\u05e7\\u05e8\\u05d9\\u05dd \\u05d7\\u05e8\\u05d9\\u05d2\\u05d9\\u05dd, \\u05e9\\u05e7\\u05d9\\u05d9\\u05de\\u05ea \\u05d1\\u05d4\\u05dd \\u05d4\\u05e6\\u05d3\\u05e7\\u05d4 \\u05dc\\u05d4\\u05d9\\u05de\\u05e0\\u05e2\\u05d5\\u05ea \\u05de\\u05d4\\u05e8\\u05e9\\u05e2\\u05d4. 11. \\u05d1\\u05de\\u05e1\\u05d2\\u05e8\\u05ea \\u05e4\\u05e1\\u05e7 \\u05d3\\u05d9\\u05e0\\u05d5, \\u05d4\\u05ea\\u05d9\\u05d9\\u05d7\\u05e1 \\u05d1\\u05d9\\u05ea \\u05d4\\u05de\\u05e9\\u05e4\\u05d8 \\u05d4\\u05de\\u05d7\\u05d5\\u05d6\\u05d9, \\u05dc\\u05d7\\u05d5\\u05de\\u05e8\\u05ea \\u05d4\\u05e2\\u05d1\\u05d9\\u05e8\\u05d5\\u05ea \\u05e9\\u05d1\\u05d5\\u05e6\\u05e2\\u05d5 \\u05e2\\u05dc-\\u05d9\\u05d3\\u05d9 \\u05d4\\u05de\\u05d1\\u05e7\\u05e9\\u05d9\\u05dd, \\u05d1\\u05e7\\u05d5\\u05d1\\u05e2\\u05d5 \\u05db\\u05d9: \\\"\\u05dc\\u05d0 \\u05e8\\u05d0\\u05d9\\u05e0\\u05d5 \\u05dc\\u05d4\\u05e1\\u05ea\\u05e4\\u05e7 \\u05d1\\u05d3\\u05e8\\u05da \\u05d1\\u05d4 \\u05d4\\u05dc\\u05da \\u05d1\\u05d9\\u05ea \\u05d4\\u05de\\u05e9\\u05e4\\u05d8 \\u05e7\\u05de\\u05d0, \\u05d5\\u05d4\\u05e1\\u05d9\\u05db\\u05d5\\u05df \\u05d4\\u05e8\\u05d1 \\u05d4\\u05e0\\u05e9\\u05e7\\u05e3 \\u05de\\u05d9\\u05d9\\u05d3\\u05d5\\u05d9 \\u05d4\\u05d0\\u05d1\\u05e0\\u05d9\\u05dd \\u05d5\\u05de\\u05d0\\u05dc\\u05d9\\u05de\\u05d5\\u05ea \\u05db\\u05dc\\u05e4\\u05d9 \\u05e9\\u05d5\\u05d8\\u05e8\\u05d9\\u05dd, \\u05de\\u05d7\\u05d9\\u05d9\\u05d1 \\u05e2\\u05de\\u05d3\\u05d4 \\u05e2\\u05d5\\u05e0\\u05e9\\u05d9\\u05ea \\u05e0\\u05d7\\u05e8\\u05e6\\u05ea \\u05e9\\u05d9\\u05e9 \\u05d1\\u05d4 \\\\'\\u05dc\\u05d4\\u05e8\\u05ea\\u05d9\\u05e2 \\u05d0\\u05ea \\u05d4\\u05de\\u05d1\\u05e6\\u05e2 \\u05e2\\u05e6\\u05de\\u05d5 \\u05d5\\u05d0\\u05ea \\u05d4\\u05e2\\u05d1\\u05e8\\u05d9\\u05d9\\u05e0\\u05d9\\u05dd \\u05d1\\u05db\\u05d5\\u05d7, \\u05e6\\u05e2\\u05d9\\u05e8\\u05d9\\u05dd \\u05d4\\u05de\\u05ea\\u05e4\\u05ea\\u05d9\\u05dd \\u05e2\\u05dc \\u05e0\\u05e7\\u05dc\\u05d4 \\u05dc\\u05d4\\u05e9\\u05dc\\u05d9\\u05da \\u05d0\\u05d1\\u05e0\\u05d9\\u05dd \\u05d5\\u05d1\\u05e7\\u05d1\\u05d5\\u05e7\\u05d9 \\u05ea\\u05d1\\u05e2\\u05e8\\u05d4 \\u05d5\\u05dc\\u05e1\\u05db\\u05df \\u05d7\\u05d9\\u05d9 \\u05d0\\u05d3\\u05dd\\\\'...\\u05dc\\u05db\\u05df, \\u05d1\\u05d4\\u05d1\\u05d9\\u05d0\\u05e0\\u05d5 \\u05d1\\u05de\\u05e1\\u05d2\\u05e8\\u05ea \\u05d4\\u05e9\\u05d9\\u05e7\\u05d5\\u05dc\\u05d9\\u05dd \\u05d0\\u05ea \\u05d4\\u05e0\\u05e1\\u05d9\\u05d1\\u05d5\\u05ea \\u05d5\\u05d0\\u05ea \\u05d4\\u05d7\\u05d5\\u05de\\u05e8\\u05d4 \\u05e9\\u05d9\\u05e9 \\u05dc\\u05d9\\u05d9\\u05d7\\u05e1 \\u05dc\\u05e2\\u05d1\\u05d9\\u05e8\\u05d5\\u05ea \\u05d0\\u05dc\\u05d9\\u05de\\u05d5\\u05ea \\u05db\\u05dc\\u05e4\\u05d9 \\u05e9\\u05d5\\u05d8\\u05e8\\u05d9\\u05dd \\u05d5\\u05d4\\u05ea\\u05e4\\u05e8\\u05e2\\u05d5\\u05d9\\u05d5\\u05ea \\u05e9\\u05d1\\u05de\\u05d4\\u05dc\\u05db\\u05df \\u05de\\u05d9\\u05d9\\u05d3\\u05d9\\u05dd \\u05e7\\u05d8\\u05d9\\u05e0\\u05d9\\u05dd \\u05d0\\u05d1\\u05e0\\u05d9\\u05dd \\u05d5\\u05de\\u05d5\\u05e9\\u05dc\\u05db\\u05d9\\u05dd \\u05d0\\u05e3 \\u05d1\\u05e7\\u05d1\\u05d5\\u05e7\\u05d9 \\u05ea\\u05d1\\u05e2\\u05e8\\u05d4, \\u05ea\\u05d5\\u05e4\\u05e2\\u05d4 \\u05d4\\u05d4\\u05d5\\u05dc\\u05db\\u05ea \\u05d5\\u05de\\u05ea\\u05e2\\u05e6\\u05de\\u05ea \\u05de\\u05d6\\u05d4 \\u05d6\\u05de\\u05df \\u05d0\\u05e8\\u05d5\\u05da, \\u05d0\\u05e0\\u05d5 \\u05e1\\u05d1\\u05d5\\u05e8\\u05d9\\u05dd \\u05db\\u05d9 \\u05e8\\u05d0\\u05d5\\u05d9 \\u05dc\\u05d4\\u05e2\\u05d1\\u05d9\\u05e8 \\u05de\\u05e1\\u05e8 \\u05d0\\u05d7\\u05d3 \\u05d1\\u05e2\\u05d1\\u05d9\\u05e8\\u05d5\\u05ea \\u05db\\u05d0\\u05dc\\u05d4 \\u05db\\u05d9 \\u05d0\\u05d9\\u05df \\u05dc\\u05d4\\u05e1\\u05ea\\u05e4\\u05e7 \\u05d1\\u05e4\\u05df \\u05d4\\u05e9\\u05d9\\u05e7\\u05d5\\u05de\\u05d9 \\u05d5\\u05d4\\u05db\\u05dc\\u05dc \\u05d4\\u05d5\\u05d0 \\u05db\\u05d9 \\u05d9\\u05e9 \\u05dc\\u05d4\\u05e8\\u05e9\\u05d9\\u05e2 \\u05d0\\u05ea \\u05d4\\u05de\\u05e9\\u05d9\\u05d1\\u05d9\\u05dd \\u05d0\\u05e3 \\u05d0\\u05dd \\u05de\\u05d3\\u05d5\\u05d1\\u05e8 \\u05d1\\u05e7\\u05d8\\u05d9\\u05e0\\u05d9\\u05dd \\u05e9\\u05d6\\u05d5 \\u05dc\\u05d4\\u05dd \\u05d4\\u05e2\\u05d1\\u05d9\\u05e8\\u05d4 \\u05d4\\u05e8\\u05d0\\u05e9\\u05d5\\u05e0\\u05d4...\\\" \\u05dc\\u05d8\\u05e2\\u05de\\u05d9, \\u05d1\\u05d9\\u05ea \\u05d4\\u05de\\u05e9\\u05e4\\u05d8 \\u05d4\\u05de\\u05d7\\u05d5\\u05d6\\u05d9 \\u05e6\\u05d3\\u05e7 \\u05d1\\u05e7\\u05d1\\u05d9\\u05e2\\u05ea\\u05d5 \\u05d6\\u05d5, \\u05e9\\u05db\\u05df \\u05e1\\u05d5\\u05d2 \\u05d4\\u05e2\\u05d1\\u05d9\\u05e8\\u05d4 \\u05d5\\u05e0\\u05e1\\u05d9\\u05d1\\u05d5\\u05ea\\u05d9\\u05d4, \\u05d0\\u05d9\\u05e0\\u05dd \\u05de\\u05d0\\u05e4\\u05e9\\u05e8\\u05d9\\u05dd, \\u05d1\\u05e0\\u05d3\\u05d5\\u05df \\u05d3\\u05d9\\u05d3\\u05df, \\u05dc\\u05d4\\u05d9\\u05de\\u05e0\\u05e2 \\u05de\\u05d4\\u05e8\\u05e9\\u05e2\\u05d4. 12. \\u05d1\\u05db\\u05dc \\u05d4\\u05e0\\u05d5\\u05d2\\u05e2 \\u05dc\\u05e9\\u05d0\\u05dc\\u05d4 \\u05e9\\u05e2\\u05e0\\u05d9\\u05d9\\u05e0\\u05d4 \\u05d4\\u05e4\\u05d2\\u05d9\\u05e2\\u05d4 \\u05d1\\u05e6\\u05d5\\u05e8\\u05db\\u05d9 \\u05e9\\u05d9\\u05e7\\u05d5\\u05de\\u05d5 \\u05e9\\u05dc \\u05d4\\u05e0\\u05d0\\u05e9\\u05dd, \\u05e0\\u05e7\\u05d1\\u05e2, \\u05db\\u05d9 \\u05d0\\u05d9\\u05df \\u05de\\u05e7\\u05d5\\u05dd \\u05dc\\u05d4\\u05e1\\u05ea\\u05e4\\u05e7 \\u05d1\\\"\\u05ea\\u05e8\\u05d7\\u05d9\\u05e9 \\u05ea\\u05d9\\u05d0\\u05d5\\u05e8\\u05d8\\u05d9\\\", \\u05d5\\u05d9\\u05e9 \\u05dc\\u05d4\\u05e6\\u05d1\\u05d9\\u05e2 \\u05e2\\u05dc \\u05e7\\u05d9\\u05d5\\u05de\\u05d5 \\u05e9\\u05dc \\u05e0\\u05d6\\u05e7 \\\"\\u05de\\u05d5\\u05d7\\u05e9\\u05d9 \\u05d5\\u05e7\\u05d5\\u05e0\\u05e7\\u05e8\\u05d8\\u05d9\\\" \\u05d0\\u05e9\\u05e8 \\u05e6\\u05e4\\u05d5\\u05d9 \\u05dc\\u05e0\\u05d0\\u05e9\\u05dd \\u05db\\u05ea\\u05d5\\u05e6\\u05d0\\u05d4 \\u05de\\u05e2\\u05e6\\u05dd \\u05d4\\u05d4\\u05e8\\u05e9\\u05e2\\u05d4 (\\u05e8\\u05e2\\\"\\u05e4 1439/13 \\\\u200f\\u05e7\\u05e9\\u05ea \\u05e0\\\\' \\u05de\\u05d3\\u05d9\\u05e0\\u05ea \\u05d9\\u05e9\\u05e8\\u05d0\\u05dc (4.3.2013); \\u05e8\\u05e2\\\"\\u05e4 8627/12 \\u05d4\\u05e0\\u05e1\\u05d1 \\u05e0\\\\' \\u05de\\u05d3\\u05d9\\u05e0\\u05ea \\u05d9\\u05e9\\u05e8\\u05d0\\u05dc (31.12.2012)). \\u05d9\\u05e6\\u05d5\\u05d9\\u05d9\\u05df, \\u05db\\u05d9 \\u05d3\\u05e8\\u05d9\\u05e9\\u05d4 \\u05d6\\u05d5 \\u05d0\\u05d9\\u05e0\\u05d4 \\u05de\\u05ea\\u05d9\\u05d9\\u05ea\\u05e8\\u05ea, \\u05d2\\u05dd \\u05db\\u05d0\\u05e9\\u05e8 \\u05de\\u05d3\\u05d5\\u05d1\\u05e8 \\u05d1\\u05e7\\u05d8\\u05d9\\u05e0\\u05d9\\u05dd (\\u05e8\\u05d0\\u05d5 \\u05e2\\u05de\\u05d3\\u05ea\\u05d9 \\u05d1\\u05e2\\\"\\u05e4 5931/13 \\u05e4\\u05dc\\u05d5\\u05e0\\u05d9 \\u05e0\\\\' \\u05de\\u05d3\\u05d9\\u05e0\\u05ea \\u05d9\\u05e9\\u05e8\\u05d0\\u05dc (10.2.2014); \\u05e8\\u05e2\\\"\\u05e4 2180/14 \\u05e1\\u05e4\\u05d9\\u05e8 \\u05e9\\u05de\\u05d5\\u05d0\\u05dc\\u05d9 \\u05e0\\\\' \\u05de\\u05d3\\u05d9\\u05e0\\u05ea \\u05d9\\u05e9\\u05e8\\u05d0\\u05dc (24.4.2014)). \\u05d1\\u05de\\u05e7\\u05e8\\u05d4 \\u05e9\\u05dc\\u05e4\\u05e0\\u05d9\\u05e0\\u05d5, \\u05dc\\u05d0 \\u05de\\u05e6\\u05d0\\u05ea\\u05d9, \\u05db\\u05d9 \\u05d4\\u05e8\\u05e9\\u05e2\\u05ea \\u05d4\\u05de\\u05d1\\u05e7\\u05e9\\u05d9\\u05dd \\u05ea\\u05e4\\u05d2\\u05e2 \\u05d1\\u05d4\\u05dd \\u05e4\\u05d2\\u05d9\\u05e2\\u05d4 \\u05d7\\u05de\\u05d5\\u05e8\\u05d4, \\u05de\\u05d4 \\u05d2\\u05dd \\u05e9\\u05dc\\u05d0 \\u05e2\\u05dc\\u05d4 \\u05d1\\u05d9\\u05d3\\u05d9 \\u05d4\\u05de\\u05d1\\u05e7\\u05e9\\u05d9\\u05dd \\u05dc\\u05d4\\u05e8\\u05d0\\u05d5\\u05ea, \\u05db\\u05d9 \\u05d4\\u05e8\\u05e9\\u05e2\\u05ea\\u05dd \\u05ea\\u05d5\\u05d1\\u05d9\\u05dc \\u05dc\\u05e4\\u05d2\\u05d9\\u05e2\\u05d4 \\u05de\\u05d4\\u05d5\\u05ea\\u05d9\\u05ea \\u05d5\\u05e7\\u05d5\\u05e0\\u05e7\\u05e8\\u05d8\\u05d9\\u05ea \\u05d1\\u05e2\\u05ea\\u05d9\\u05d3\\u05dd \\u05d0\\u05d5 \\u05d1\\u05e6\\u05d5\\u05e8\\u05db\\u05d9 \\u05e9\\u05d9\\u05e7\\u05d5\\u05de\\u05dd. 13. \\u05dc\\u05de\\u05e2\\u05dc\\u05d4 \\u05de\\u05df \\u05d4\\u05e6\\u05d5\\u05e8\\u05da, \\u05d0\\u05d3\\u05e8\\u05e9, \\u05d1\\u05e7\\u05e6\\u05e8\\u05d4, \\u05dc\\u05d8\\u05e2\\u05e0\\u05d5\\u05ea\\u05d9\\u05d4\\u05dd \\u05e9\\u05dc \\u05d4\\u05de\\u05d1\\u05e7\\u05e9\\u05d9\\u05dd \\u05dc\\u05d2\\u05d5\\u05e4\\u05df. \\u05e8\\u05d0\\u05e9\\u05d9\\u05ea, \\u05d0\\u05d9\\u05df \\u05d1\\u05d9\\u05d3\\u05d9 \\u05dc\\u05e7\\u05d1\\u05dc \\u05d0\\u05ea \\u05d8\\u05e2\\u05e0\\u05ea \\u05d4\\u05de\\u05d1\\u05e7\\u05e9\\u05d9\\u05dd, \\u05dc\\u05e4\\u05d9\\u05d4 \\u05e4\\u05e1\\u05e7 \\u05d3\\u05d9\\u05e0\\u05d5 \\u05e9\\u05dc \\u05d1\\u05d9\\u05ea \\u05d4\\u05de\\u05e9\\u05e4\\u05d8 \\u05d4\\u05de\\u05d7\\u05d5\\u05d6\\u05d9 \\u05e4\\u05d5\\u05d2\\u05e2 \\u05d1\\u05e2\\u05e7\\u05e8\\u05d5\\u05df \\u05d4\\u05e9\\u05d5\\u05d5\\u05d9\\u05d5\\u05df, \\u05de\\u05e9\\u05d5\\u05dd \\u05e9\\u05dc\\u05d3\\u05d1\\u05e8\\u05d9\\u05d4\\u05dd \\u05d4\\u05e2\\u05d5\\u05e0\\u05e9\\u05d9\\u05dd \\u05d0\\u05e9\\u05e8 \\u05d4\\u05d5\\u05d8\\u05dc\\u05d5 \\u05e2\\u05dc\\u05d9\\u05d4\\u05dd \\u05d7\\u05de\\u05d5\\u05e8\\u05d9\\u05dd \\u05de\\u05d0\\u05dc\\u05d4 \\u05e9\\u05d4\\u05d5\\u05d8\\u05dc\\u05d5 \\u05e2\\u05dc \\u05d4\\u05e0\\u05d0\\u05e9\\u05de\\u05d9\\u05dd \\u05d4\\u05e0\\u05d5\\u05e1\\u05e4\\u05d9\\u05dd \\u05e9\\u05d4\\u05d9\\u05d5 \\u05e9\\u05d5\\u05ea\\u05e4\\u05d9\\u05dd \\u05dc\\u05d0\\u05d5\\u05ea\\u05df \\u05d4\\u05ea\\u05e4\\u05e8\\u05e2\\u05d5\\u05d9\\u05d5\\u05ea. \\u05d1\\u05d9\\u05ea \\u05d4\\u05de\\u05e9\\u05e4\\u05d8 \\u05d4\\u05de\\u05d7\\u05d5\\u05d6\\u05d9 \\u05e0\\u05ea\\u05df \\u05d0\\u05ea \\u05d3\\u05e2\\u05ea\\u05d5 \\u05dc\\u05e4\\u05e1\\u05d9\\u05e7\\u05d4 \\u05d0\\u05dc\\u05d9\\u05d4 \\u05d4\\u05e4\\u05e0\\u05d5 \\u05d4\\u05e6\\u05d3\\u05d3\\u05d9\\u05dd, \\u05d5\\u05d4\\u05d1\\u05d4\\u05d9\\u05e8, \\u05db\\u05d9 \\\"\\u05de\\u05e2\\u05e9\\u05d9 \\u05d4\\u05de\\u05e9\\u05d9\\u05d1\\u05d9\\u05dd \\u05d1\\u05de\\u05e7\\u05e8\\u05d4 \\u05d6\\u05d4 \\u05d7\\u05de\\u05d5\\u05e8\\u05d9\\u05dd \\u05d1\\u05d9\\u05d5\\u05ea\\u05e8, \\u05de\\u05e2\\u05d1\\u05e8 \\u05dc\\u05d7\\u05d5\\u05de\\u05e8\\u05d4 \\u05e9\\u05ea\\u05d5\\u05d0\\u05e8\\u05d4 \\u05d1\\u05e8\\u05d1\\u05d9\\u05dd \\u05de\\u05e4\\u05e1\\u05e7\\u05d9 \\u05d4\\u05d3\\u05d9\\u05df \\u05e9\\u05e4\\u05d5\\u05e8\\u05d8\\u05d5 \\u05dc\\u05e2\\u05d9\\u05dc\\\". \\u05de\\u05e2\\u05d1\\u05e8 \\u05dc\\u05d6\\u05d0\\u05ea, \\u05d4\\u05dc\\u05db\\u05d4 \\u05d4\\u05d9\\u05d0, \\u05db\\u05d9 \\u05d4\\u05e9\\u05d2\\u05d4 \\u05e2\\u05dc \\u05de\\u05d9\\u05d3\\u05ea \\u05d4\\u05e2\\u05d5\\u05e0\\u05e9 \\u05d0\\u05d9\\u05df \\u05d1\\u05db\\u05d5\\u05d7\\u05d4 \\u05dc\\u05d4\\u05e6\\u05d3\\u05d9\\u05e7 \\u05de\\u05ea\\u05df \\u05e8\\u05e9\\u05d5\\u05ea \\u05e2\\u05e8\\u05e2\\u05d5\\u05e8, \\u05dc\\u05de\\u05e2\\u05d8 \\u05d1\\u05de\\u05e7\\u05e8\\u05d9\\u05dd \\u05d1\\u05d4\\u05dd \\u05e0\\u05d9\\u05db\\u05e8\\u05ea \\u05d7\\u05e8\\u05d9\\u05d2\\u05d4 \\u05e7\\u05d9\\u05e6\\u05d5\\u05e0\\u05d9\\u05ea \\u05de\\u05de\\u05d3\\u05d9\\u05e0\\u05d9\\u05d5\\u05ea \\u05d4\\u05e2\\u05e0\\u05d9\\u05e9\\u05d4 \\u05d4\\u05e8\\u05d0\\u05d5\\u05d9\\u05d4 \\u05d5\\u05d4\\u05de\\u05e7\\u05d5\\u05d1\\u05dc\\u05ea \\u05d1\\u05de\\u05e7\\u05e8\\u05d9\\u05dd \\u05d3\\u05d5\\u05de\\u05d9\\u05dd (\\u05e8\\u05e2\\\"\\u05e4 8719/14 \\u05d9\\u05e2\\u05e7\\u05d1 \\u05d1\\u05df \\u05d8\\u05d5\\u05dc\\u05d9\\u05dc\\u05d4 \\u05e0\\\\' \\u05de\\u05d3\\u05d9\\u05e0\\u05ea \\u05d9\\u05e9\\u05e8\\u05d0\\u05dc (14.1.2015); \\u05e8\\u05e2\\\"\\u05e4 7584/14 \\u05d0\\u05d1\\u05d5 \\u05e9\\u05d5\\u05e7\\u05d5\\u05e8 \\u05e0\\\\' \\u05de\\u05d3\\u05d9\\u05e0\\u05ea \\u05d9\\u05e9\\u05e8\\u05d0\\u05dc (2.12.2014); \\u05e8\\u05e2\\\"\\u05e4 7641/14 \\u05d0\\u05dc\\u05d8\\u05d5\\u05e8\\u05d9 \\u05e0\\\\' \\u05de\\u05d3\\u05d9\\u05e0\\u05ea \\u05d9\\u05e9\\u05e8\\u05d0\\u05dc (30.11.2014)). \\u05d2\\u05dd \\u05d0\\u05dd \\u05e0\\u05d9\\u05ea\\u05df \\u05d4\\u05d9\\u05d4 \\u05dc\\u05de\\u05e6\\u05d5\\u05d0 \\u05d2\\u05d6\\u05e8\\u05d9 \\u05d3\\u05d9\\u05df \\u05de\\u05e7\\u05dc\\u05d9\\u05dd \\u05d9\\u05d5\\u05ea\\u05e8, \\u05d1\\u05e0\\u05e1\\u05d9\\u05d1\\u05d5\\u05ea \\u05d4\\u05d3\\u05d5\\u05de\\u05d5\\u05ea \\u05dc\\u05e2\\u05e0\\u05d9\\u05d9\\u05e0\\u05e0\\u05d5, \\u05d0\\u05d9\\u05df \\u05d4\\u05d3\\u05d1\\u05e8 \\u05de\\u05e2\\u05d9\\u05d3 \\u05db\\u05d9 \\u05d4\\u05e2\\u05d5\\u05e0\\u05e9 \\u05d0\\u05e9\\u05e8 \\u05d4\\u05d5\\u05e9\\u05ea \\u05e2\\u05dc \\u05d4\\u05de\\u05d1\\u05e7\\u05e9\\u05d9\\u05dd \\u05d7\\u05d5\\u05e8\\u05d2 \\u05d1\\u05d0\\u05d5\\u05e4\\u05df \\u05de\\u05d4\\u05d5\\u05ea\\u05d9 \\u05de\\u05de\\u05d3\\u05d9\\u05e0\\u05d9\\u05d5\\u05ea \\u05d4\\u05e2\\u05e0\\u05d9\\u05e9\\u05d4 \\u05d4\\u05e8\\u05d0\\u05d5\\u05d9\\u05d4. \\u05d1\\u05de\\u05e6\\u05d1 \\u05d3\\u05d1\\u05e8\\u05d9\\u05dd \\u05d6\\u05d4, \\u05e1\\u05d1\\u05d5\\u05e8\\u05e0\\u05d9 \\u05db\\u05d9 \\u05dc\\u05d0 \\u05e0\\u05e4\\u05dc \\u05db\\u05dc \\u05e4\\u05d2\\u05dd \\u05d1\\u05e2\\u05d5\\u05e0\\u05e9\\u05d9\\u05dd \\u05d0\\u05e9\\u05e8 \\u05d4\\u05d5\\u05e9\\u05ea\\u05d5 \\u05e2\\u05dc \\u05d4\\u05de\\u05d1\\u05e7\\u05e9\\u05d9\\u05dd \\u05e2\\u05dc-\\u05d9\\u05d3\\u05d9 \\u05d1\\u05d9\\u05ea \\u05d4\\u05de\\u05e9\\u05e4\\u05d8 \\u05d4\\u05de\\u05d7\\u05d5\\u05d6\\u05d9. 14. \\u05d1\\u05d0\\u05d5\\u05e4\\u05df \\u05d3\\u05d5\\u05de\\u05d4, \\u05dc\\u05d0 \\u05de\\u05e6\\u05d0\\u05ea\\u05d9 \\u05de\\u05de\\u05e9 \\u05d1\\u05d8\\u05e2\\u05e0\\u05ea \\u05d4\\u05de\\u05d1\\u05e7\\u05e9\\u05d9\\u05dd, \\u05db\\u05d9 \\u05d1\\u05d9\\u05ea \\u05d4\\u05de\\u05e9\\u05e4\\u05d8 \\u05d4\\u05de\\u05d7\\u05d5\\u05d6\\u05d9 \\u05dc\\u05d0 \\u05d4\\u05ea\\u05d0\\u05d9\\u05dd \\u05d0\\u05ea \\u05d4\\u05e2\\u05e0\\u05d9\\u05e9\\u05d4 \\u05dc\\u05e0\\u05e1\\u05d9\\u05d1\\u05d5\\u05ea\\u05d9\\u05d4\\u05dd \\u05d4\\u05d0\\u05d9\\u05e9\\u05d9\\u05d5\\u05ea. \\u05dc\\u05e2\\u05e0\\u05d9\\u05d9\\u05df \\u05d6\\u05d4, \\u05e7\\u05d1\\u05e2 \\u05d1\\u05d9\\u05ea \\u05d4\\u05de\\u05e9\\u05e4\\u05d8 \\u05d4\\u05de\\u05d7\\u05d5\\u05d6\\u05d9, \\u05db\\u05d9: \\\"\\u05d1\\u05e6\\u05d3 \\u05d4\\u05d7\\u05d5\\u05de\\u05e8\\u05d4 \\u05e9\\u05e8\\u05d0\\u05d9\\u05e0\\u05d5 \\u05dc\\u05d9\\u05d9\\u05d7\\u05e1 \\u05dc\\u05e2\\u05d1\\u05d9\\u05e8\\u05d5\\u05ea \\u05e9\\u05d1\\u05d4\\u05df \\u05d4\\u05d5\\u05e8\\u05e9\\u05e2\\u05d5 \\u05d4\\u05de\\u05e9\\u05d9\\u05d1\\u05d9\\u05dd, \\u05e0\\u05ea\\u05e0\\u05d5 \\u05d3\\u05e2\\u05ea\\u05e0\\u05d5 \\u05dc\\u05e0\\u05e1\\u05d9\\u05d1\\u05d5\\u05ea\\u05d9\\u05d4\\u05dd \\u05d4\\u05d0\\u05d9\\u05e9\\u05d9\\u05d5\\u05ea \\u05e9\\u05dc \\u05d4\\u05de\\u05e9\\u05d9\\u05d1\\u05d9\\u05dd, \\u05dc\\u05d2\\u05d9\\u05dc\\u05dd \\u05d1\\u05e2\\u05ea \\u05d1\\u05d9\\u05e6\\u05d5\\u05e2 \\u05d4\\u05e2\\u05d1\\u05d9\\u05e8\\u05d5\\u05ea, \\u05dc\\u05ea\\u05e1\\u05e7\\u05d9\\u05e8 \\u05e9\\u05d9\\u05e8\\u05d5\\u05ea \\u05d4\\u05de\\u05d1\\u05d7\\u05df, \\u05dc\\u05d4\\u05e2\\u05d3\\u05e8 \\u05e8\\u05d9\\u05e9\\u05d5\\u05dd \\u05e4\\u05dc\\u05d9\\u05dc\\u05d9 \\u05d5\\u05dc\\u05d4\\u05ea\\u05d9\\u05d9\\u05d7\\u05e1\\u05d5\\u05ea \\u05d1\\u05d9\\u05ea \\u05de\\u05e9\\u05e4\\u05d8 \\u05e7\\u05de\\u05d0 \\u05dc\\u05e0\\u05e1\\u05d9\\u05d1\\u05d5\\u05ea \\u05e9\\u05dc \\u05d4\\u05de\\u05e9\\u05d9\\u05d1\\u05d9\\u05dd \\u05db\\u05d0\\u05de\\u05d5\\u05e8 \\u05d1\\u05d2\\u05d6\\u05e8 \\u05d4\\u05d3\\u05d9\\u05df, \\u05d5\\u05e8\\u05d0\\u05d9\\u05e0\\u05d5 \\u05d0\\u05e3 \\u05dc\\u05d0\\u05de\\u05e5 \\u05d0\\u05ea \\u05d3\\u05d1\\u05e8\\u05d9\\u05d5 \\u05d0\\u05e9\\u05e8 \\u05dc\\u05de\\u05e9\\u05d9\\u05d1\\u05d9\\u05dd \\u05d5\\u05d0\\u05e9\\u05e8 \\u05dc\\u05de\\u05d3\\u05e8\\u05d2 \\u05e9\\u05e7\\u05d1\\u05e2 \\u05d1\\u05e2\\u05e0\\u05d9\\u05e9\\u05d4 \\u05dc\\u05d2\\u05d1\\u05d9\\u05d4\\u05dd \\u05d1\\u05e9\\u05dc \\u05d4\\u05e9\\u05d5\\u05e0\\u05d9 \\u05d1\\u05d2\\u05d9\\u05dc\\u05dd...\\\" \\u05d4\\u05e0\\u05d4 \\u05db\\u05d9 \\u05db\\u05df, \\u05d1\\u05d9\\u05ea \\u05d4\\u05de\\u05e9\\u05e4\\u05d8 \\u05d4\\u05de\\u05d7\\u05d5\\u05d6\\u05d9 \\u05dc\\u05d0 \\u05d4\\u05ea\\u05e2\\u05dc\\u05dd \\u05de\\u05e0\\u05e1\\u05d9\\u05d1\\u05d5\\u05ea\\u05d9\\u05d4\\u05dd \\u05d4\\u05e4\\u05e8\\u05d8\\u05e0\\u05d9\\u05d5\\u05ea \\u05e9\\u05dc \\u05d4\\u05de\\u05d1\\u05e7\\u05e9\\u05d9\\u05dd, \\u05d5\\u05de\\u05d9\\u05ea\\u05e8 \\u05d4\\u05e9\\u05d9\\u05e7\\u05d5\\u05dc\\u05d9\\u05dd \\u05dc\\u05e7\\u05d5\\u05dc\\u05d4. \\u05d1\\u05d9\\u05ea \\u05d4\\u05de\\u05e9\\u05e4\\u05d8 \\u05d4\\u05de\\u05d7\\u05d5\\u05d6\\u05d9 \\u05e0\\u05ea\\u05df \\u05d0\\u05ea \\u05d3\\u05e2\\u05ea\\u05d5 \\u05dc\\u05de\\u05db\\u05dc\\u05d5\\u05dc \\u05e9\\u05d9\\u05e7\\u05d5\\u05dc\\u05d9 \\u05d4\\u05e2\\u05e0\\u05d9\\u05e9\\u05d4 \\u05d4\\u05e8\\u05dc\\u05d5\\u05d5\\u05e0\\u05d8\\u05d9\\u05d9\\u05dd, \\u05d5\\u05e2\\u05e8\\u05da \\u05d1\\u05d9\\u05e0\\u05d9\\u05d4\\u05dd \\u05d0\\u05d9\\u05d6\\u05d5\\u05df \\u05e8\\u05d0\\u05d5\\u05d9, \\u05d1\\u05e0\\u05e1\\u05d9\\u05d1\\u05d5\\u05ea \\u05d4\\u05e2\\u05e0\\u05d9\\u05d9\\u05df. \\u05dc\\u05e4\\u05d9\\u05db\\u05da, \\u05d0\\u05d9\\u05e0\\u05e0\\u05d9 \\u05e8\\u05d5\\u05d0\\u05d4 \\u05db\\u05dc \\u05d4\\u05e6\\u05d3\\u05e7\\u05d4 \\u05dc\\u05d4\\u05ea\\u05e2\\u05e8\\u05d1 \\u05d1\\u05de\\u05d9\\u05d3\\u05ea \\u05e2\\u05d5\\u05e0\\u05e9\\u05dd \\u05e9\\u05dc \\u05d4\\u05de\\u05d1\\u05e7\\u05e9\\u05d9\\u05dd, \\u05d5\\u05d4\\u05d3\\u05d1\\u05e8\\u05d9\\u05dd \\u05e0\\u05d0\\u05de\\u05e8\\u05d9\\u05dd \\u05d1\\u05d9\\u05ea\\u05e8 \\u05e9\\u05d0\\u05ea \\u05db\\u05d0\\u05e9\\u05e8 \\u05de\\u05d3\\u05d5\\u05d1\\u05e8 \\u05d1\\u05d3\\u05d9\\u05d5\\u05df \\u05d1\\\"\\u05d2\\u05dc\\u05d2\\u05d5\\u05dc \\u05e9\\u05dc\\u05d9\\u05e9\\u05d9\\\". 15. \\u05d0\\u05e9\\u05e8 \\u05e2\\u05dc \\u05db\\u05df, \\u05d4\\u05d1\\u05e7\\u05e9\\u05d4 \\u05dc\\u05e8\\u05e9\\u05d5\\u05ea \\u05e2\\u05e8\\u05e2\\u05d5\\u05e8 \\u05e0\\u05d3\\u05d7\\u05d9\\u05ea \\u05d1\\u05d6\\u05d0\\u05ea. \\u05d4\\u05de\\u05d1\\u05e7\\u05e9\\u05d9\\u05dd \\u05d9\\u05ea\\u05d9\\u05d9\\u05e6\\u05d1\\u05d5 \\u05dc\\u05e8\\u05d9\\u05e6\\u05d5\\u05d9 \\u05e2\\u05d5\\u05e0\\u05e9\\u05dd \\u05d1\\u05d9\\u05d5\\u05dd 1.3.2015, \\u05e2\\u05d3 \\u05dc\\u05e9\\u05e2\\u05d4 10:00, \\u05d1\\u05d9\\u05de\\\"\\u05e8 \\u05e0\\u05d9\\u05e6\\u05df, \\u05d0\\u05d5 \\u05e2\\u05dc \\u05e4\\u05d9 \\u05d4\\u05d7\\u05dc\\u05d8\\u05ea \\u05e9\\u05d9\\u05e8\\u05d5\\u05ea \\u05d1\\u05ea\\u05d9 \\u05d4\\u05e1\\u05d5\\u05d4\\u05e8, \\u05db\\u05e9\\u05d1\\u05e8\\u05e9\\u05d5\\u05ea\\u05dd \\u05ea\\u05e2\\u05d5\\u05d3\\u05ea \\u05d6\\u05d4\\u05d5\\u05ea \\u05d0\\u05d5 \\u05d3\\u05e8\\u05db\\u05d5\\u05df \\u05d5\\u05e2\\u05d5\\u05ea\\u05e7 \\u05de\\u05d4\\u05d7\\u05dc\\u05d8\\u05d4 \\u05d6\\u05d5. \\u05e2\\u05dc \\u05d4\\u05de\\u05d1\\u05e7\\u05e9\\u05d9\\u05dd \\u05dc\\u05ea\\u05d0\\u05dd \\u05d0\\u05ea \\u05d4\\u05db\\u05e0\\u05d9\\u05e1\\u05d4 \\u05dc\\u05de\\u05d0\\u05e1\\u05e8, \\u05e2\\u05dd \\u05e2\\u05e0\\u05e3 \\u05d0\\u05d1\\u05d7\\u05d5\\u05df \\u05d5\\u05de\\u05d9\\u05d5\\u05df \\u05e9\\u05dc \\u05e9\\u05d9\\u05e8\\u05d5\\u05ea \\u05d1\\u05ea\\u05d9 \\u05d4\\u05e1\\u05d5\\u05d4\\u05e8, \\u05d1\\u05d8\\u05dc\\u05e4\\u05d5\\u05e0\\u05d9\\u05dd: 08-9787377 \\u05d0\\u05d5 08-9787336. \\u05e0\\u05d9\\u05ea\\u05e0\\u05d4 \\u05d1\\u05d9\\u05d5\\u05dd, \\\\u200f\\u05d5\\\\' \\u05d1\\u05e9\\u05d1\\u05d8 \\u05d4\\u05ea\\u05e9\\u05e2\\\"\\u05d4 (\\\\u200f26.1.2015). \\u05ea\\u05d5\\u05e7\\u05e0\\u05d4 \\u05d4\\u05d9\\u05d5\\u05dd, \\u05d6\\\\' \\u05d1\\u05e9\\u05d1\\u05d8 \\u05d4\\u05ea\\u05e9\\u05e2\\\"\\u05d4 (27.1.2015). \\u05e9 \\u05d5 \\u05e4 \\u05d8 _________________________ \"\n        ],\n        \"semantic_type\": \"\",\n        \"description\": \"\"\n      }\n    },\n    {\n      \"column\": \"\\u05d2\\u05d5\\u05e3 \\u05d4\\u05de\\u05e1\\u05de\\u05da \\u05d7\\u05ea\\u05d5\\u05da\",\n      \"properties\": {\n        \"dtype\": \"string\",\n        \"num_unique_values\": 5,\n        \"samples\": [\n          \"['\\u05d4\\u05d7\\u05dc\\u05d8\\u05d4 \\u05d1\\u05ea\\u05d9\\u05e7 \\u05e8\\u05e2\\\"\\u05e4 825/15 \\u05d1\\u05d1\\u05d9\\u05ea \\u05d4\\u05de\\u05e9\\u05e4\\u05d8 \\u05d4\\u05e2\\u05dc\\u05d9\\u05d5\\u05df \\u05e8\\u05e2\\\"\\u05e4 825/15 - \\u05d1\\\\' \\u05dc\\u05e4\\u05e0\\u05d9: \\u05db\\u05d1\\u05d5\\u05d3 \\u05d4\\u05e9\\u05d5\\u05e4\\u05d8 \\u05d7\\\\' \\u05de\\u05dc\\u05e6\\u05e8 \\u05d4\\u05de\\u05d1\\u05e7\\u05e9: \\u05de\\u05e8\\u05d3\\u05db\\u05d9 \\u05e7\\u05d9\\u05e1\\u05d5\\u05e1 \\u05e0\\u05d2\\u05d3 \\u05d4\\u05de\\u05e9\\u05d9\\u05d1\\u05d4: \\u05de\\u05d3\\u05d9\\u05e0\\u05ea \\u05d9\\u05e9\\u05e8\\u05d0\\u05dc \\u05d1\\u05e7\\u05e9\\u05d4 \\u05dc\\u05e2\\u05d9\\u05db\\u05d5\\u05d1 \\u05d1\\u05d9\\u05e6\\u05d5\\u05e2 \\u05e2\\u05d5\\u05e0\\u05e9 \\u05de\\u05d0\\u05e1\\u05e8 \\u05de\\u05ea\\u05d0\\u05e8\\u05d9\\u05da 18.02.2015; \\u05ea\\u05d2\\u05d5\\u05d1\\u05ea \\u05d4\\u05de\\u05e9\\u05d9\\u05d1\\u05d4 \\u05dc\\u05d1\\u05e7\\u05e9\\u05d4 \\u05de\\u05ea\\u05d0\\u05e8\\u05d9\\u05da 19.02.2015 \\u05d1\\u05e9\\u05dd \\u05d4\\u05de\\u05d1\\u05e7\\u05e9: \\u05e2\\u05d5\\\"\\u05d3 \\u05e9\\u05de\\u05d5\\u05d0\\u05dc \\u05d1\\u05e8\\u05d6\\u05e0\\u05d9 \\u05d1\\u05e9\\u05dd \\u05d4\\u05de\\u05e9\\u05d9\\u05d1\\u05d4: \\u05e2\\u05d5\\\"\\u05d3 \\u05e1\\u05d9\\u05d2\\u05dc \\u05d1\\u05dc\\u05d5\\u05dd \\u05d4\\u05d7\\u05dc\\u05d8\\u05d4 \\u05db\\u05de\\u05d1\\u05d5\\u05e7\\u05e9 \\u05d5\\u05db\\u05de\\u05d5\\u05e1\\u05db\\u05dd \\u05d4\\u05de\\u05d1\\u05e7\\u05e9 \\u05d9\\u05ea\\u05d9\\u05d9\\u05e6\\u05d1 \\u05dc\\u05e8\\u05d9\\u05e6\\u05d5\\u05d9 \\u05e2\\u05d5\\u05e0\\u05e9 \\u05d4\\u05de\\u05d0\\u05e1\\u05e8 \\u05e9\\u05e0\\u05d2\\u05d6\\u05e8 \\u05e2\\u05dc\\u05d9\\u05d5 \\u2013 \\u05d1\\u05ea\\u05d0\\u05e8\\u05d9\\u05da 13.04.2015 \\u05e2\\u05d3 \\u05dc\\u05e9\\u05e2\\u05d4 10:00, \\u05d1\\u05d1\\u05d9\\u05de\\\"\\u05e8 \\u05e7\\u05d9\\u05e9\\u05d5\\u05df, \\u05d0\\u05d5 \\u05d1\\u05de\\u05e7\\u05d5\\u05dd \\u05d0\\u05d7\\u05e8 \\u05e2\\u05dc \\u05e4\\u05d9 \\u05d4\\u05d7\\u05dc\\u05d8\\u05ea \\u05e9\\u05d9\\u05e8\\u05d5\\u05ea \\u05d1\\u05ea\\u05d9 \\u05d4\\u05e1\\u05d5\\u05d4\\u05e8, \\u05db\\u05e9\\u05d1\\u05e8\\u05e9\\u05d5\\u05ea\\u05d5 \\u05ea\\u05e2\\u05d5\\u05d3\\u05ea \\u05d6\\u05d4\\u05d5\\u05ea, \\u05d0\\u05d5 \\u05d3\\u05e8\\u05db\\u05d5\\u05df. \\u05e2\\u05dc \\u05d4\\u05de\\u05d1\\u05e7\\u05e9 \\u05dc\\u05ea\\u05d0\\u05dd \\u05d0\\u05ea \\u05d4\\u05db\\u05e0\\u05d9\\u05e1\\u05d4 \\u05dc\\u05de\\u05d0\\u05e1\\u05e8, \\u05db\\u05d5\\u05dc\\u05dc \\u05d4\\u05d0\\u05e4\\u05e9\\u05e8\\u05d5\\u05ea \\u05dc\\u05de\\u05d9\\u05d5\\u05df \\u05de\\u05d5\\u05e7\\u05d3\\u05dd, \\u05e2\\u05dd \\u05e2\\u05e0\\u05e3 \\u05d0\\u05d1\\u05d7\\u05d5\\u05df \\u05d5\\u05de\\u05d9\\u05d5\\u05df \\u05e9\\u05dc \\u05e9\\u05d9\\u05e8\\u05d5\\u05ea \\u05d1\\u05ea\\u05d9 \\u05d4\\u05e1\\u05d5\\u05d4\\u05e8, \\u05d8\\u05dc\\u05e4\\u05d5\\u05e0\\u05d9\\u05dd: 08-9787377 \\u05d0\\u05d5 08-9787336. \\u05e0\\u05d9\\u05ea\\u05e0\\u05d4 \\u05d4\\u05d9\\u05d5\\u05dd, \\\\u200f\\u05d2\\\\' \\u05d1\\u05d0\\u05d3\\u05e8 \\u05d4\\u05ea\\u05e9\\u05e2\\\"\\u05d4 (\\\\u200f22.2.2015). \\u05e9 \\u05d5 \\u05e4 \\u05d8 _________________________ \",\n          \"['\\u05e4\\u05e1\\u05e7 \\u05d3\\u05d9\\u05df \\u05d1\\u05ea\\u05d9\\u05e7 \\u05e8\\u05e2\\\"\\u05e4 2195/15 \\u05d1\\u05d1\\u05d9\\u05ea \\u05d4\\u05de\\u05e9\\u05e4\\u05d8 \\u05d4\\u05e2\\u05dc\\u05d9\\u05d5\\u05df \\u05e8\\u05e2\\\"\\u05e4 2195/15 \\u05e8\\u05e2\\\"\\u05e4 2231/15 \\u05dc\\u05e4\\u05e0\\u05d9: \\u05db\\u05d1\\u05d5\\u05d3 \\u05d4\\u05e9\\u05d5\\u05e4\\u05d8 \\u05e1\\\\' \\u05d2\\\\'\\u05d5\\u05d1\\u05e8\\u05d0\\u05df \\u05db\\u05d1\\u05d5\\u05d3 \\u05d4\\u05e9\\u05d5\\u05e4\\u05d8 \\u05e0\\\\' \\u05d4\\u05e0\\u05d3\\u05dc \\u05db\\u05d1\\u05d5\\u05d3 \\u05d4\\u05e9\\u05d5\\u05e4\\u05d8 \\u05d0\\\\' \\u05e9\\u05d4\\u05dd \\u05d4\\u05de\\u05d1\\u05e7\\u05e9\\u05d9\\u05dd \\u05d1\\u05e8\\u05e2\\\"\\u05e4 2195/15: 1. \\u05d0\\u05d4\\u05d5\\u05d3 \\u05d9\\u05e4\\u05e8\\u05d7 2. \\u05d7\\u05d1\\\\' \\u05d0\\u05d4\\u05d5\\u05d3 \\u05de\\u05d0\\u05d9\\u05e8 \\u05e9\\u05d0\\u05d9\\u05d1\\u05d5\\u05ea \\u05d1\\u05e2\\\"\\u05de 3. \\u05d8\\u05d9\\u05d4\\u05dc \\u05e0\\u05db\\u05e1\\u05d9\\u05dd \\u05d1\\u05e2\\\"\\u05de 4. \\u05dc\\u05d9 \\u05d9\\u05e4\\u05e8\\u05d7 \\u05d4\\u05de\\u05d1\\u05e7\\u05e9\\u05d9\\u05dd \\u05d1\\u05e8\\u05e2\\\"\\u05e4 2231/15: 1. \\u05d9\\u05d5\\u05e1\\u05d9 \\u05dc\\u05d9\\u05d1\\u05d5\\u05d1\\u05d9\\u05e5\\\\' 2. \\u05e8\\u05d9\\u05e0\\u05ea \\u05dc\\u05d9\\u05d1\\u05d5\\u05d1\\u05d9\\u05e5\\\\' \\u05e0\\u05d2\\u05d3 \\u05d4\\u05de\\u05e9\\u05d9\\u05d1\\u05d4: \\u05de\\u05d3\\u05d9\\u05e0\\u05ea \\u05d9\\u05e9\\u05e8\\u05d0\\u05dc \\u05d1\\u05e7\\u05e9\\u05d5\\u05ea \\u05e8\\u05e9\\u05d5\\u05ea \\u05e2\\u05e8\\u05e2\\u05d5\\u05e8 \\u05e2\\u05dc \\u05d4\\u05d7\\u05dc\\u05d8\\u05ea\\u05d5 \\u05e9\\u05dc \\u05d1\\u05d9\\u05ea \\u05d4\\u05de\\u05e9\\u05e4\\u05d8 \\u05d4\\u05de\\u05d7\\u05d5\\u05d6\\u05d9 \\u05de\\u05e8\\u05db\\u05d6-\\u05dc\\u05d5\\u05d3 \\u05de\\u05d9\\u05d5\\u05dd 26.2.2015 \\u05d1\\u05e2\\\"\\u05d7 28595-01-15 \\u05e9\\u05e0\\u05d9\\u05ea\\u05df \\u05e2\\u05dc \\u05d9\\u05d3\\u05d9 \\u05db\\u05d1\\u05d5\\u05d3 \\u05d4\\u05e9\\u05d5\\u05e4\\u05d8\\u05ea \\u05d3\\u05d1\\u05d5\\u05e8\\u05d4 \\u05e2\\u05d8\\u05e8 \\u05ea\\u05d0\\u05e8\\u05d9\\u05da \\u05d4\\u05d9\\u05e9\\u05d9\\u05d1\\u05d4: \\u05db\\\"\\u05d2 \\u05d1\\u05d0\\u05dc\\u05d5\\u05dc \\u05d4\\u05ea\\u05e9\\u05e2\\\"\\u05d4 (7.9.2015) \\u05d1\\u05e9\\u05dd \\u05d4\\u05de\\u05d1\\u05e7\\u05e9\\u05d9\\u05dd \\u05d1\\u05e8\\u05e2\\\"\\u05e4 2195/15: \\u05e2\\u05d5\\\"\\u05d3 \\u05d3\\u05e8\\u05d5\\u05e8 \\u05de\\u05ea\\u05ea\\u05d9\\u05d4\\u05d5; \\u05e2\\u05d5\\\"\\u05d3 \\u05d4\\u05d2\\u05e8 \\u05e0\\u05d2\\u05dc\\u05e8 \\u05d1\\u05e9\\u05dd \\u05d4\\u05de\\u05d1\\u05e7\\u05e9\\u05d9\\u05dd \\u05d1\\u05e8\\u05e2\\\"\\u05e4 2231/15: \\u05e2\\u05d5\\\"\\u05d3 \\u05d9\\u05d4\\u05d5\\u05e9\\u05e2 \\u05e8\\u05d6\\u05e0\\u05d9\\u05e7; \\u05e2\\u05d5\\\"\\u05d3 \\u05e6\\u05d9\\u05d5\\u05df \\u05e1\\u05d4\\u05e8\\u05d0\\u05d9 \\u05d1\\u05e9\\u05dd \\u05d4\\u05de\\u05e9\\u05d9\\u05d1\\u05d4: \\u05e2\\u05d5\\\"\\u05d3 \\u05d0\\u05d1\\u05d9 \\u05d5\\u05e1\\u05d8\\u05e8\\u05de\\u05df; \\u05e2\\u05d5\\\"\\u05d3 \\u05d9\\u05e4\\u05e2\\u05ea \\u05e9\\u05d8\\u05d9\\u05d9\\u05df \\u05e4\\u05e1\\u05e7 \\u05d3\\u05d9\\u05df \\u05d1\\u05d4\\u05de\\u05dc\\u05e6\\u05ea\\u05e0\\u05d5 \\u05d7\\u05d6\\u05e8\\u05d5 \\u05d1\\u05d4\\u05dd \\u05d1\\u05d0\\u05d9 \\u05db\\u05d5\\u05d7 \\u05d4\\u05de\\u05d1\\u05e7\\u05e9\\u05d9\\u05dd \\u05de\\u05d4\\u05d1\\u05e7\\u05e9\\u05d5\\u05ea \\u05dc\\u05de\\u05ea\\u05df \\u05e8\\u05e9\\u05d5\\u05ea \\u05e2\\u05e8\\u05e2\\u05d5\\u05e8, \\u05d5\\u05d4\\u05d1\\u05e7\\u05e9\\u05d5\\u05ea \\u05e0\\u05d3\\u05d7\\u05d5\\u05ea \\u05d1\\u05d6\\u05d4. \\u05e0\\u05d9\\u05ea\\u05df \\u05d4\\u05d9\\u05d5\\u05dd, \\u05db\\\"\\u05d2 \\u05d1\\u05d0\\u05dc\\u05d5\\u05dc \\u05d4\\u05ea\\u05e9\\u05e2\\\"\\u05d4 (\\\\u200f7.9.2015). \\u05e9 \\u05d5 \\u05e4 \\u05d8 \\u05e9 \\u05d5 \\u05e4 \\u05d8 \\u05e9 \\u05d5 \\u05e4 \\u05d8 _________________________ \",\n          \"(13.1.2015); \\u05e8\\u05e2\\\"\\u05e4 8087/14 \\u05e0\\u05d3\\u05d9\\u05dd \\u05d0\\u05e0\\u05d2\\u05e0\\u05d0\\u05e5 \\u05e0\\\\' \\u05de\\u05d3\\u05d9\\u05e0\\u05ea \\u05d9\\u05e9\\u05e8\\u05d0\\u05dc (10.12.2014)). \\u05d4\\u05d1\\u05e7\\u05e9\\u05d4 \\u05e9\\u05dc\\u05e4\\u05e0\\u05d9\\u05d9 \\u05d0\\u05d9\\u05e0\\u05d4 \\u05d7\\u05d5\\u05e8\\u05d2\\u05ea \\u05de\\u05e2\\u05e0\\u05d9\\u05d9\\u05e0\\u05dd \\u05d4\\u05e4\\u05e8\\u05d8\\u05d9 \\u05e9\\u05dc \\u05d4\\u05de\\u05d1\\u05e7\\u05e9\\u05d9\\u05dd, \\u05d5\\u05d7\\u05e8\\u05e3 \\u05d4\\u05d0\\u05de\\u05d5\\u05e8 \\u05d1\\u05d4, \\u05e0\\u05e1\\u05d9\\u05d1\\u05d5\\u05ea \\u05d4\\u05de\\u05e7\\u05e8\\u05d4 \\u05d0\\u05d9\\u05e0\\u05df \\u05de\\u05e2\\u05d5\\u05e8\\u05e8\\u05d5\\u05ea \\u05db\\u05dc \\u05e9\\u05d0\\u05dc\\u05d4 \\u05de\\u05e9\\u05e4\\u05d8\\u05d9\\u05ea \\u05d4\\u05e2\\u05e9\\u05d5\\u05d9\\u05d4 \\u05dc\\u05d4\\u05e6\\u05d3\\u05d9\\u05e7 \\u05e8\\u05e9\\u05d5\\u05ea \\u05e2\\u05e8\\u05e2\\u05d5\\u05e8 \\u05d1\\u05e4\\u05e0\\u05d9 \\u05d1\\u05d9\\u05ea \\u05de\\u05e9\\u05e4\\u05d8 \\u05d6\\u05d4. \\u05db\\u05de\\u05d5 \\u05db\\u05df, \\u05dc\\u05d0 \\u05e2\\u05d5\\u05dc\\u05d4 \\u05d7\\u05e9\\u05e9 \\u05dc\\u05e2\\u05d9\\u05d5\\u05d5\\u05ea \\u05d3\\u05d9\\u05df \\u05db\\u05dc\\u05e4\\u05d9 \\u05d4\\u05de\\u05d1\\u05e7\\u05e9\\u05d9\\u05dd \\u05d0\\u05d5 \\u05db\\u05d9 \\u05de\\u05ea\\u05e7\\u05d9\\u05d9\\u05de\\u05d9\\u05dd \\u05e9\\u05d9\\u05e7\\u05d5\\u05dc\\u05d9 \\u05e6\\u05d3\\u05e7 \\u05db\\u05dc\\u05e4\\u05d9\\u05d4\\u05dd. \\u05d0\\u05e3 \\u05d0\\u05dd \\u05d1\\u05d9\\u05ea \\u05de\\u05e9\\u05e4\\u05d8 \\u05d4\\u05e9\\u05dc\\u05d5\\u05dd \\u05d5\\u05d1\\u05d9\\u05ea \\u05d4\\u05de\\u05e9\\u05e4\\u05d8 \\u05d4\\u05de\\u05d7\\u05d5\\u05d6\\u05d9 \\u05d4\\u05d2\\u05d9\\u05e2\\u05d5 \\u05dc\\u05de\\u05e1\\u05e7\\u05e0\\u05d5\\u05ea \\u05e9\\u05d5\\u05e0\\u05d5\\u05ea, \\u05d0\\u05d9\\u05df \\u05d1\\u05db\\u05da \\u05de\\u05e9\\u05d5\\u05dd \\u05d4\\u05e6\\u05d3\\u05e7\\u05d4 \\u05dc\\u05e7\\u05d9\\u05d9\\u05dd \\u05d3\\u05d9\\u05d5\\u05df \\u05e0\\u05d5\\u05e1\\u05e3 \\u05d1\\u05e2\\u05e0\\u05d9\\u05d9\\u05e0\\u05d5 \\u05e9\\u05dc \\u05d4\\u05de\\u05d1\\u05e7\\u05e9, \\u05d1\\u05e4\\u05e0\\u05d9 \\u05d1\\u05d9\\u05ea \\u05de\\u05e9\\u05e4\\u05d8 \\u05d6\\u05d4 (\\u05e8\\u05e2\\\"\\u05e4 4070/14 \\\\u200f\\u05e4\\u05dc\\u05d5\\u05e0\\u05d9\\u05ea \\u05e0\\\\' \\u05de\\u05d3\\u05d9\\u05e0\\u05ea \\u05d9\\u05e9\\u05e8\\u05d0\\u05dc (17.6.2014); \\u05e8\\u05e2\\\"\\u05e4 2180/14 \\u05e9\\u05de\\u05d5\\u05d0\\u05dc\\u05d9 \\u05e0\\\\' \\u05de\\u05d3\\u05d9\\u05e0\\u05ea \\u05d9\\u05e9\\u05e8\\u05d0\\u05dc (24.4.2014)). 10. \\u05d4\\u05d0\\u05e4\\u05e9\\u05e8\\u05d5\\u05ea \\u05d4\\u05e0\\u05ea\\u05d5\\u05e0\\u05d4 \\u05dc\\u05d1\\u05d9\\u05ea \\u05d4\\u05de\\u05e9\\u05e4\\u05d8 \\u05dc\\u05d4\\u05d9\\u05de\\u05e0\\u05e2 \\u05de\\u05d4\\u05e8\\u05e9\\u05e2\\u05ea\\u05d5 \\u05e9\\u05dc \\u05e0\\u05d0\\u05e9\\u05dd \\u05e9\\u05d1\\u05d9\\u05e6\\u05e2 \\u05e2\\u05d1\\u05d9\\u05e8\\u05d4, \\u05de\\u05e2\\u05d5\\u05d2\\u05e0\\u05ea \\u05d1\\u05e1\\u05e2\\u05d9\\u05e3 71\\u05d0(\\u05d1) \\u05dc\\u05d7\\u05d5\\u05e7 \\u05d4\\u05e2\\u05d5\\u05e0\\u05e9\\u05d9\\u05df, \\u05d5\\u05d4\\u05d9\\u05d0 \\u05de\\u05d4\\u05d5\\u05d5\\u05d4 \\u05d7\\u05e8\\u05d9\\u05d2 \\u05dc\\u05db\\u05dc\\u05dc, \\u05dc\\u05e4\\u05d9\\u05d5 \\u05de\\u05e9\\u05d4\\u05d5\\u05db\\u05d7 \\u05d1\\u05d9\\u05e6\\u05d5\\u05e2\\u05d4 \\u05e9\\u05dc \\u05e2\\u05d1\\u05d9\\u05e8\\u05d4 \\u05d9\\u05e9 \\u05dc\\u05d4\\u05e8\\u05e9\\u05d9\\u05e2 \\u05d0\\u05ea \\u05d4\\u05e0\\u05d0\\u05e9\\u05dd. \\u05d1\\u05de\\u05d9\\u05dc\\u05d9\\u05dd \\u05d0\\u05d7\\u05e8\\u05d5\\u05ea, \\u05ea\\u05d5\\u05e6\\u05d0\\u05d4 \\u05e9\\u05dc \\u05d4\\u05d9\\u05de\\u05e0\\u05e2\\u05d5\\u05ea \\u05de\\u05d4\\u05e8\\u05e9\\u05e2\\u05d4, \\u05d7\\u05e8\\u05e3 \\u05d4\\u05e7\\u05d1\\u05d9\\u05e2\\u05d4 \\u05db\\u05d9 \\u05d4\\u05e0\\u05d0\\u05e9\\u05dd \\u05d1\\u05d9\\u05e6\\u05e2 \\u05d0\\u05ea \\u05d4\\u05e2\\u05d1\\u05d9\\u05e8\\u05d4, \\u05d4\\u05d9\\u05d0 \\u05ea\\u05d5\\u05e6\\u05d0\\u05d4 \\u05d7\\u05e8\\u05d9\\u05d2\\u05d4, \\u05d4\\u05e9\\u05de\\u05d5\\u05e8\\u05d4 \\u05dc\\u05de\\u05e7\\u05e8\\u05d9\\u05dd \\u05de\\u05d9\\u05d5\\u05d7\\u05d3\\u05d9\\u05dd \\u05d5\\u05d9\\u05d5\\u05e6\\u05d0\\u05d9 \\u05d3\\u05d5\\u05e4\\u05df. \\u05e9\\u05e0\\u05d9 \\u05ea\\u05e0\\u05d0\\u05d9\\u05dd \\u05de\\u05e6\\u05d8\\u05d1\\u05e8\\u05d9\\u05dd \\u05e0\\u05e7\\u05d1\\u05e2\\u05d5, \\u05e2\\u05dc \\u05de\\u05e0\\u05ea \\u05dc\\u05d4\\u05d9\\u05de\\u05e0\\u05e2 \\u05de\\u05d4\\u05e8\\u05e9\\u05e2\\u05d4: \\\"\\u05e8\\u05d0\\u05e9\\u05d9\\u05ea, \\u05e2\\u05dc \\u05d4\\u05d4\\u05e8\\u05e9\\u05e2\\u05d4 \\u05dc\\u05e4\\u05d2\\u05d5\\u05e2 \\u05e4\\u05d2\\u05d9\\u05e2\\u05d4 \\u05d7\\u05de\\u05d5\\u05e8\\u05d4 \\u05d1\\u05e9\\u05d9\\u05e7\\u05d5\\u05dd \\u05d4\\u05e0\\u05d0\\u05e9\\u05dd, \\u05d5\\u05e9\\u05e0\\u05d9\\u05ea, \\u05e1\\u05d5\\u05d2 \\u05d4\\u05e2\\u05d1\\u05d9\\u05e8\\u05d4 \\u05de\\u05d0\\u05e4\\u05e9\\u05e8 \\u05dc\\u05d5\\u05d5\\u05ea\\u05e8 \\u05d1\\u05e0\\u05e1\\u05d9\\u05d1\\u05d5\\u05ea \\u05d4\\u05de\\u05e7\\u05e8\\u05d4 \\u05d4\\u05de\\u05e1\\u05d5\\u05d9\\u05dd \\u05e2\\u05dc \\u05d4\\u05d4\\u05e8\\u05e9\\u05e2\\u05d4 \\u05d1\\u05dc\\u05d9 \\u05dc\\u05e4\\u05d2\\u05d5\\u05e2 \\u05d1\\u05d0\\u05d5\\u05e4\\u05df \\u05de\\u05d4\\u05d5\\u05ea\\u05d9 \\u05d1\\u05e9\\u05d9\\u05e7\\u05d5\\u05dc\\u05d9 \\u05d4\\u05e2\\u05e0\\u05d9\\u05e9\\u05d4 \\u05d4\\u05d0\\u05d7\\u05e8\\u05d9\\u05dd\\\" (\\u05e2\\\"\\u05e4 2083/96 \\u05db\\u05ea\\u05d1 \\u05e0\\\\' \\u05de\\u05d3\\u05d9\\u05e0\\u05ea \\u05d9\\u05e9\\u05e8\\u05d0\\u05dc, \\u05e4\\\"\\u05d3 \\u05e0\\u05d1(3) 337 (1997), \\u05e4\\u05e1\\u05e7\\u05d4 7 \\u05dc\\u05e4\\u05e1\\u05e7-\\u05d3\\u05d9\\u05e0\\u05d4 \\u05e9\\u05dc \\u05d4\\u05e9\\u05d5\\u05e4\\u05d8\\u05ea \\u05d3\\\\' \\u05d3\\u05d5\\u05e8\\u05e0\\u05e8). \\u05d9\\u05d9\\u05e9\\u05d5\\u05dd \\u05ea\\u05e0\\u05d0\\u05d9\\u05dd \\u05d0\\u05dc\\u05d4, \\u05d1\\u05e0\\u05e1\\u05d9\\u05d1\\u05d5\\u05ea \\u05d4\\u05de\\u05e7\\u05e8\\u05d4, \\u05de\\u05d5\\u05d1\\u05d9\\u05dc \\u05dc\\u05de\\u05e1\\u05e7\\u05e0\\u05d4 \\u05db\\u05d9 \\u05e2\\u05e0\\u05d9\\u05d9\\u05e0\\u05dd \\u05e9\\u05dc \\u05d4\\u05de\\u05d1\\u05e7\\u05e9\\u05d9\\u05dd \\u05d0\\u05d9\\u05e0\\u05e0\\u05d5 \\u05e0\\u05de\\u05e0\\u05d4 \\u05e2\\u05dc \\u05d0\\u05d5\\u05ea\\u05dd \\u05de\\u05e7\\u05e8\\u05d9\\u05dd \\u05d7\\u05e8\\u05d9\\u05d2\\u05d9\\u05dd, \\u05e9\\u05e7\\u05d9\\u05d9\\u05de\\u05ea \\u05d1\\u05d4\\u05dd \\u05d4\\u05e6\\u05d3\\u05e7\\u05d4 \\u05dc\\u05d4\\u05d9\\u05de\\u05e0\\u05e2\\u05d5\\u05ea \\u05de\\u05d4\\u05e8\\u05e9\\u05e2\\u05d4. 11. \\u05d1\\u05de\\u05e1\\u05d2\\u05e8\\u05ea \\u05e4\\u05e1\\u05e7 \\u05d3\\u05d9\\u05e0\\u05d5, \\u05d4\\u05ea\\u05d9\\u05d9\\u05d7\\u05e1 \\u05d1\\u05d9\\u05ea \\u05d4\\u05de\\u05e9\\u05e4\\u05d8 \\u05d4\\u05de\\u05d7\\u05d5\\u05d6\\u05d9, \\u05dc\\u05d7\\u05d5\\u05de\\u05e8\\u05ea \\u05d4\\u05e2\\u05d1\\u05d9\\u05e8\\u05d5\\u05ea \\u05e9\\u05d1\\u05d5\\u05e6\\u05e2\\u05d5 \\u05e2\\u05dc-\\u05d9\\u05d3\\u05d9 \\u05d4\\u05de\\u05d1\\u05e7\\u05e9\\u05d9\\u05dd, \\u05d1\\u05e7\\u05d5\\u05d1\\u05e2\\u05d5 \\u05db\\u05d9: \\\"\\u05dc\\u05d0 \\u05e8\\u05d0\\u05d9\\u05e0\\u05d5 \\u05dc\\u05d4\\u05e1\\u05ea\\u05e4\\u05e7 \\u05d1\\u05d3\\u05e8\\u05da \\u05d1\\u05d4 \\u05d4\\u05dc\\u05da \\u05d1\\u05d9\\u05ea \\u05d4\\u05de\\u05e9\\u05e4\\u05d8 \\u05e7\\u05de\\u05d0, \\u05d5\\u05d4\\u05e1\\u05d9\\u05db\\u05d5\\u05df \\u05d4\\u05e8\\u05d1 \\u05d4\\u05e0\\u05e9\\u05e7\\u05e3 \\u05de\\u05d9\\u05d9\\u05d3\\u05d5\\u05d9 \\u05d4\\u05d0\\u05d1\\u05e0\\u05d9\\u05dd \\u05d5\\u05de\\u05d0\\u05dc\\u05d9\\u05de\\u05d5\\u05ea \\u05db\\u05dc\\u05e4\\u05d9 \\u05e9\\u05d5\\u05d8\\u05e8\\u05d9\\u05dd, \\u05de\\u05d7\\u05d9\\u05d9\\u05d1 \\u05e2\\u05de\\u05d3\\u05d4 \\u05e2\\u05d5\\u05e0\\u05e9\\u05d9\\u05ea \\u05e0\\u05d7\\u05e8\\u05e6\\u05ea \\u05e9\\u05d9\\u05e9 \\u05d1\\u05d4 \\\\'\\u05dc\\u05d4\\u05e8\\u05ea\\u05d9\\u05e2 \\u05d0\\u05ea \\u05d4\\u05de\\u05d1\\u05e6\\u05e2 \\u05e2\\u05e6\\u05de\\u05d5 \\u05d5\\u05d0\\u05ea \\u05d4\\u05e2\\u05d1\\u05e8\\u05d9\\u05d9\\u05e0\\u05d9\\u05dd \\u05d1\\u05db\\u05d5\\u05d7, \\u05e6\\u05e2\\u05d9\\u05e8\\u05d9\\u05dd \\u05d4\\u05de\\u05ea\\u05e4\\u05ea\\u05d9\\u05dd \\u05e2\\u05dc \\u05e0\\u05e7\\u05dc\\u05d4 \\u05dc\\u05d4\\u05e9\\u05dc\\u05d9\\u05da \\u05d0\\u05d1\\u05e0\\u05d9\\u05dd \\u05d5\\u05d1\\u05e7\\u05d1\\u05d5\\u05e7\\u05d9 \\u05ea\\u05d1\\u05e2\\u05e8\\u05d4 \\u05d5\\u05dc\\u05e1\\u05db\\u05df \\u05d7\\u05d9\\u05d9 \\u05d0\\u05d3\\u05dd\\\\'...\\u05dc\\u05db\\u05df, \\u05d1\\u05d4\\u05d1\\u05d9\\u05d0\\u05e0\\u05d5 \\u05d1\\u05de\\u05e1\\u05d2\\u05e8\\u05ea \\u05d4\\u05e9\\u05d9\\u05e7\\u05d5\\u05dc\\u05d9\\u05dd \\u05d0\\u05ea \\u05d4\\u05e0\\u05e1\\u05d9\\u05d1\\u05d5\\u05ea \\u05d5\\u05d0\\u05ea \\u05d4\\u05d7\\u05d5\\u05de\\u05e8\\u05d4 \\u05e9\\u05d9\\u05e9 \\u05dc\\u05d9\\u05d9\\u05d7\\u05e1 \\u05dc\\u05e2\\u05d1\\u05d9\\u05e8\\u05d5\\u05ea \\u05d0\\u05dc\\u05d9\\u05de\\u05d5\\u05ea \\u05db\\u05dc\\u05e4\\u05d9 \\u05e9\\u05d5\\u05d8\\u05e8\\u05d9\\u05dd \\u05d5\\u05d4\\u05ea\\u05e4\\u05e8\\u05e2\\u05d5\\u05d9\\u05d5\\u05ea \\u05e9\\u05d1\\u05de\\u05d4\\u05dc\\u05db\\u05df \\u05de\\u05d9\\u05d9\\u05d3\\u05d9\\u05dd \\u05e7\\u05d8\\u05d9\\u05e0\\u05d9\\u05dd \\u05d0\\u05d1\\u05e0\\u05d9\\u05dd \\u05d5\\u05de\\u05d5\\u05e9\\u05dc\\u05db\\u05d9\\u05dd \\u05d0\\u05e3 \\u05d1\\u05e7\\u05d1\\u05d5\\u05e7\\u05d9 \\u05ea\\u05d1\\u05e2\\u05e8\\u05d4, \\u05ea\\u05d5\\u05e4\\u05e2\\u05d4 \\u05d4\\u05d4\\u05d5\\u05dc\\u05db\\u05ea \\u05d5\\u05de\\u05ea\\u05e2\\u05e6\\u05de\\u05ea \\u05de\\u05d6\\u05d4 \\u05d6\\u05de\\u05df \\u05d0\\u05e8\\u05d5\\u05da, \\u05d0\\u05e0\\u05d5 \\u05e1\\u05d1\\u05d5\\u05e8\\u05d9\\u05dd \\u05db\\u05d9 \\u05e8\\u05d0\\u05d5\\u05d9 \\u05dc\\u05d4\\u05e2\\u05d1\\u05d9\\u05e8 \\u05de\\u05e1\\u05e8 \\u05d0\\u05d7\\u05d3 \\u05d1\\u05e2\\u05d1\\u05d9\\u05e8\\u05d5\\u05ea \\u05db\\u05d0\\u05dc\\u05d4 \\u05db\\u05d9 \\u05d0\\u05d9\\u05df \\u05dc\\u05d4\\u05e1\\u05ea\\u05e4\\u05e7 \\u05d1\\u05e4\\u05df \\u05d4\\u05e9\\u05d9\\u05e7\\u05d5\\u05de\\u05d9 \\u05d5\\u05d4\\u05db\\u05dc\\u05dc \\u05d4\\u05d5\\u05d0 \\u05db\\u05d9 \\u05d9\\u05e9 \\u05dc\\u05d4\\u05e8\\u05e9\\u05d9\\u05e2 \\u05d0\\u05ea \\u05d4\\u05de\\u05e9\\u05d9\\u05d1\\u05d9\\u05dd \\u05d0\\u05e3 \\u05d0\\u05dd \\u05de\\u05d3\\u05d5\\u05d1\\u05e8 \\u05d1\\u05e7\\u05d8\\u05d9\\u05e0\\u05d9\\u05dd \\u05e9\\u05d6\\u05d5 \\u05dc\\u05d4\\u05dd \\u05d4\\u05e2\\u05d1\\u05d9\\u05e8\\u05d4 \\u05d4\\u05e8\\u05d0\\u05e9\\u05d5\\u05e0\\u05d4...\\\" \\u05dc\\u05d8\\u05e2\\u05de\\u05d9, \\u05d1\\u05d9\\u05ea \\u05d4\\u05de\\u05e9\\u05e4\\u05d8 \\u05d4\\u05de\\u05d7\\u05d5\\u05d6\\u05d9 \\u05e6\\u05d3\\u05e7 \\u05d1\\u05e7\\u05d1\\u05d9\\u05e2\\u05ea\\u05d5 \\u05d6\\u05d5, \\u05e9\\u05db\\u05df \\u05e1\\u05d5\\u05d2 \\u05d4\\u05e2\\u05d1\\u05d9\\u05e8\\u05d4 \\u05d5\\u05e0\\u05e1\\u05d9\\u05d1\\u05d5\\u05ea\\u05d9\\u05d4, \\u05d0\\u05d9\\u05e0\\u05dd \\u05de\\u05d0\\u05e4\\u05e9\\u05e8\\u05d9\\u05dd, \\u05d1\\u05e0\\u05d3\\u05d5\\u05df \\u05d3\\u05d9\\u05d3\\u05df, \\u05dc\\u05d4\\u05d9\\u05de\\u05e0\\u05e2 \\u05de\\u05d4\\u05e8\\u05e9\\u05e2\\u05d4. 12. \\u05d1\\u05db\\u05dc \\u05d4\\u05e0\\u05d5\\u05d2\\u05e2 \\u05dc\\u05e9\\u05d0\\u05dc\\u05d4 \\u05e9\\u05e2\\u05e0\\u05d9\\u05d9\\u05e0\\u05d4 \\u05d4\\u05e4\\u05d2\\u05d9\\u05e2\\u05d4 \\u05d1\\u05e6\\u05d5\\u05e8\\u05db\\u05d9 \\u05e9\\u05d9\\u05e7\\u05d5\\u05de\\u05d5 \\u05e9\\u05dc \\u05d4\\u05e0\\u05d0\\u05e9\\u05dd, \\u05e0\\u05e7\\u05d1\\u05e2, \\u05db\\u05d9 \\u05d0\\u05d9\\u05df \\u05de\\u05e7\\u05d5\\u05dd \\u05dc\\u05d4\\u05e1\\u05ea\\u05e4\\u05e7 \\u05d1\\\"\\u05ea\\u05e8\\u05d7\\u05d9\\u05e9 \\u05ea\\u05d9\\u05d0\\u05d5\\u05e8\\u05d8\\u05d9\\\", \\u05d5\\u05d9\\u05e9 \\u05dc\\u05d4\\u05e6\\u05d1\\u05d9\\u05e2 \\u05e2\\u05dc \\u05e7\\u05d9\\u05d5\\u05de\\u05d5 \\u05e9\\u05dc \\u05e0\\u05d6\\u05e7 \\\"\\u05de\\u05d5\\u05d7\\u05e9\\u05d9 \\u05d5\\u05e7\\u05d5\\u05e0\\u05e7\\u05e8\\u05d8\\u05d9\\\" \\u05d0\\u05e9\\u05e8 \\u05e6\\u05e4\\u05d5\\u05d9 \\u05dc\\u05e0\\u05d0\\u05e9\\u05dd \\u05db\\u05ea\\u05d5\\u05e6\\u05d0\\u05d4 \\u05de\\u05e2\\u05e6\\u05dd \\u05d4\\u05d4\\u05e8\\u05e9\\u05e2\\u05d4 (\\u05e8\\u05e2\\\"\\u05e4 1439/13 \\\\u200f\\u05e7\\u05e9\\u05ea \\u05e0\\\\' \\u05de\\u05d3\\u05d9\\u05e0\\u05ea \\u05d9\\u05e9\\u05e8\\u05d0\\u05dc (4.3.2013); \\u05e8\\u05e2\\\"\\u05e4 8627/12 \\u05d4\\u05e0\\u05e1\\u05d1 \\u05e0\\\\' \\u05de\\u05d3\\u05d9\\u05e0\\u05ea \\u05d9\\u05e9\\u05e8\\u05d0\\u05dc (31.12.2012)). \\u05d9\\u05e6\\u05d5\\u05d9\\u05d9\\u05df, \\u05db\\u05d9 \\u05d3\\u05e8\\u05d9\\u05e9\\u05d4 \\u05d6\\u05d5 \\u05d0\\u05d9\\u05e0\\u05d4 \\u05de\\u05ea\\u05d9\\u05d9\\u05ea\\u05e8\\u05ea, \\u05d2\\u05dd \\u05db\\u05d0\\u05e9\\u05e8 \\u05de\\u05d3\\u05d5\\u05d1\\u05e8 \\u05d1\\u05e7\\u05d8\\u05d9\\u05e0\\u05d9\\u05dd (\\u05e8\\u05d0\\u05d5 \\u05e2\\u05de\\u05d3\\u05ea\\u05d9 \\u05d1\\u05e2\\\"\\u05e4 5931/13 \\u05e4\\u05dc\\u05d5\\u05e0\\u05d9 \\u05e0\\\\' \\u05de\\u05d3\\u05d9\\u05e0\\u05ea \\u05d9\\u05e9\\u05e8\\u05d0\\u05dc (10.2.2014); \\u05e8\\u05e2\\\"\\u05e4 2180/14 \\u05e1\\u05e4\\u05d9\\u05e8 \\u05e9\\u05de\\u05d5\\u05d0\\u05dc\\u05d9 \\u05e0\\\\' \\u05de\\u05d3\\u05d9\\u05e0\\u05ea \\u05d9\\u05e9\\u05e8\\u05d0\\u05dc (24.4.2014)). \\u05d1\\u05de\\u05e7\\u05e8\\u05d4 \\u05e9\\u05dc\\u05e4\\u05e0\\u05d9\\u05e0\\u05d5, \\u05dc\\u05d0 \\u05de\\u05e6\\u05d0\\u05ea\\u05d9, \\u05db\\u05d9 \\u05d4\\u05e8\\u05e9\\u05e2\\u05ea \\u05d4\\u05de\\u05d1\\u05e7\\u05e9\\u05d9\\u05dd \\u05ea\\u05e4\\u05d2\\u05e2 \\u05d1\\u05d4\\u05dd \\u05e4\\u05d2\\u05d9\\u05e2\\u05d4 \\u05d7\\u05de\\u05d5\\u05e8\\u05d4, \\u05de\\u05d4 \\u05d2\\u05dd \\u05e9\\u05dc\\u05d0 \\u05e2\\u05dc\\u05d4 \\u05d1\\u05d9\\u05d3\\u05d9 \\u05d4\\u05de\\u05d1\\u05e7\\u05e9\\u05d9\\u05dd \\u05dc\\u05d4\\u05e8\\u05d0\\u05d5\\u05ea, \\u05db\\u05d9 \\u05d4\\u05e8\\u05e9\\u05e2\\u05ea\\u05dd \\u05ea\\u05d5\\u05d1\\u05d9\\u05dc \\u05dc\\u05e4\\u05d2\\u05d9\\u05e2\\u05d4 \\u05de\\u05d4\\u05d5\\u05ea\\u05d9\\u05ea \\u05d5\\u05e7\\u05d5\\u05e0\\u05e7\\u05e8\\u05d8\\u05d9\\u05ea \\u05d1\\u05e2\\u05ea\\u05d9\\u05d3\\u05dd \\u05d0\\u05d5 \\u05d1\\u05e6\\u05d5\\u05e8\\u05db\\u05d9 \\u05e9\\u05d9\\u05e7\\u05d5\\u05de\\u05dd. 13. \\u05dc\\u05de\\u05e2\\u05dc\\u05d4 \\u05de\\u05df \\u05d4\\u05e6\\u05d5\\u05e8\\u05da, \\u05d0\\u05d3\\u05e8\\u05e9, \\u05d1\\u05e7\\u05e6\\u05e8\\u05d4, \\u05dc\\u05d8\\u05e2\\u05e0\\u05d5\\u05ea\\u05d9\\u05d4\\u05dd \\u05e9\\u05dc \\u05d4\\u05de\\u05d1\\u05e7\\u05e9\\u05d9\\u05dd \\u05dc\\u05d2\\u05d5\\u05e4\\u05df. \\u05e8\\u05d0\\u05e9\\u05d9\\u05ea, \\u05d0\\u05d9\\u05df \\u05d1\\u05d9\\u05d3\\u05d9 \\u05dc\\u05e7\\u05d1\\u05dc \\u05d0\\u05ea \\u05d8\\u05e2\\u05e0\\u05ea \\u05d4\\u05de\\u05d1\\u05e7\\u05e9\\u05d9\\u05dd, \\u05dc\\u05e4\\u05d9\\u05d4 \\u05e4\\u05e1\\u05e7 \\u05d3\\u05d9\\u05e0\\u05d5 \\u05e9\\u05dc \\u05d1\\u05d9\\u05ea \\u05d4\\u05de\\u05e9\\u05e4\\u05d8 \\u05d4\\u05de\\u05d7\\u05d5\\u05d6\\u05d9 \\u05e4\\u05d5\\u05d2\\u05e2 \\u05d1\\u05e2\\u05e7\\u05e8\\u05d5\\u05df \\u05d4\\u05e9\\u05d5\\u05d5\\u05d9\\u05d5\\u05df, \\u05de\\u05e9\\u05d5\\u05dd \\u05e9\\u05dc\\u05d3\\u05d1\\u05e8\\u05d9\\u05d4\\u05dd \\u05d4\\u05e2\\u05d5\\u05e0\\u05e9\\u05d9\\u05dd \\u05d0\\u05e9\\u05e8 \\u05d4\\u05d5\\u05d8\\u05dc\\u05d5 \\u05e2\\u05dc\\u05d9\\u05d4\\u05dd \\u05d7\\u05de\\u05d5\\u05e8\\u05d9\\u05dd \\u05de\\u05d0\\u05dc\\u05d4 \\u05e9\\u05d4\\u05d5\\u05d8\\u05dc\\u05d5 \\u05e2\\u05dc \\u05d4\\u05e0\\u05d0\\u05e9\\u05de\\u05d9\\u05dd \\u05d4\\u05e0\\u05d5\\u05e1\\u05e4\\u05d9\\u05dd \\u05e9\\u05d4\\u05d9\\u05d5 \\u05e9\\u05d5\\u05ea\\u05e4\\u05d9\\u05dd \\u05dc\\u05d0\\u05d5\\u05ea\\u05df \\u05d4\\u05ea\\u05e4\\u05e8\\u05e2\\u05d5\\u05d9\\u05d5\\u05ea. \\u05d1\\u05d9\\u05ea \\u05d4\\u05de\\u05e9\\u05e4\\u05d8 \\u05d4\\u05de\\u05d7\\u05d5\\u05d6\\u05d9 \\u05e0\\u05ea\\u05df \\u05d0\\u05ea \\u05d3\\u05e2\\u05ea\\u05d5 \\u05dc\\u05e4\\u05e1\\u05d9\\u05e7\\u05d4 \\u05d0\\u05dc\\u05d9\\u05d4 \\u05d4\\u05e4\\u05e0\\u05d5 \\u05d4\\u05e6\\u05d3\\u05d3\\u05d9\\u05dd, \\u05d5\\u05d4\\u05d1\\u05d4\\u05d9\\u05e8, \\u05db\\u05d9 \\\"\\u05de\\u05e2\\u05e9\\u05d9 \\u05d4\\u05de\\u05e9\\u05d9\\u05d1\\u05d9\\u05dd \\u05d1\\u05de\\u05e7\\u05e8\\u05d4 \\u05d6\\u05d4 \\u05d7\\u05de\\u05d5\\u05e8\\u05d9\\u05dd \\u05d1\\u05d9\\u05d5\\u05ea\\u05e8, \\u05de\\u05e2\\u05d1\\u05e8 \\u05dc\\u05d7\\u05d5\\u05de\\u05e8\\u05d4 \\u05e9\\u05ea\\u05d5\\u05d0\\u05e8\\u05d4 \\u05d1\\u05e8\\u05d1\\u05d9\\u05dd \\u05de\\u05e4\\u05e1\\u05e7\\u05d9 \\u05d4\\u05d3\\u05d9\\u05df \\u05e9\\u05e4\\u05d5\\u05e8\\u05d8\\u05d5 \\u05dc\\u05e2\\u05d9\\u05dc\\\". \\u05de\\u05e2\\u05d1\\u05e8 \\u05dc\\u05d6\\u05d0\\u05ea, \\u05d4\\u05dc\\u05db\\u05d4 \\u05d4\\u05d9\\u05d0, \\u05db\\u05d9 \\u05d4\\u05e9\\u05d2\\u05d4 \\u05e2\\u05dc \\u05de\\u05d9\\u05d3\\u05ea \\u05d4\\u05e2\\u05d5\\u05e0\\u05e9 \\u05d0\\u05d9\\u05df \\u05d1\\u05db\\u05d5\\u05d7\\u05d4 \\u05dc\\u05d4\\u05e6\\u05d3\\u05d9\\u05e7 \\u05de\\u05ea\\u05df \\u05e8\\u05e9\\u05d5\\u05ea \\u05e2\\u05e8\\u05e2\\u05d5\\u05e8, \\u05dc\\u05de\\u05e2\\u05d8 \\u05d1\\u05de\\u05e7\\u05e8\\u05d9\\u05dd \\u05d1\\u05d4\\u05dd \\u05e0\\u05d9\\u05db\\u05e8\\u05ea \\u05d7\\u05e8\\u05d9\\u05d2\\u05d4 \\u05e7\\u05d9\\u05e6\\u05d5\\u05e0\\u05d9\\u05ea \\u05de\\u05de\\u05d3\\u05d9\\u05e0\\u05d9\\u05d5\\u05ea \\u05d4\\u05e2\\u05e0\\u05d9\\u05e9\\u05d4 \\u05d4\\u05e8\\u05d0\\u05d5\\u05d9\\u05d4 \\u05d5\\u05d4\\u05de\\u05e7\\u05d5\\u05d1\\u05dc\\u05ea \\u05d1\\u05de\\u05e7\\u05e8\\u05d9\\u05dd \\u05d3\\u05d5\\u05de\\u05d9\\u05dd (\\u05e8\\u05e2\\\"\\u05e4 8719/14 \\u05d9\\u05e2\\u05e7\\u05d1 \\u05d1\\u05df \\u05d8\\u05d5\\u05dc\\u05d9\\u05dc\\u05d4 \\u05e0\\\\' \\u05de\\u05d3\\u05d9\\u05e0\\u05ea \\u05d9\\u05e9\\u05e8\\u05d0\\u05dc (14.1.2015); \\u05e8\\u05e2\\\"\\u05e4 7584/14 \\u05d0\\u05d1\\u05d5 \\u05e9\\u05d5\\u05e7\\u05d5\\u05e8 \\u05e0\\\\' \\u05de\\u05d3\\u05d9\\u05e0\\u05ea \\u05d9\\u05e9\\u05e8\\u05d0\\u05dc (2.12.2014); \\u05e8\\u05e2\\\"\\u05e4 7641/14 \\u05d0\\u05dc\\u05d8\\u05d5\\u05e8\\u05d9 \\u05e0\\\\' \\u05de\\u05d3\\u05d9\\u05e0\\u05ea \\u05d9\\u05e9\\u05e8\\u05d0\\u05dc (30.11.2014)). \\u05d2\\u05dd \\u05d0\\u05dd \\u05e0\\u05d9\\u05ea\\u05df \\u05d4\\u05d9\\u05d4 \\u05dc\\u05de\\u05e6\\u05d5\\u05d0 \\u05d2\\u05d6\\u05e8\\u05d9 \\u05d3\\u05d9\\u05df \\u05de\\u05e7\\u05dc\\u05d9\\u05dd \\u05d9\\u05d5\\u05ea\\u05e8, \\u05d1\\u05e0\\u05e1\\u05d9\\u05d1\\u05d5\\u05ea \\u05d4\\u05d3\\u05d5\\u05de\\u05d5\\u05ea \\u05dc\\u05e2\\u05e0\\u05d9\\u05d9\\u05e0\\u05e0\\u05d5, \\u05d0\\u05d9\\u05df \\u05d4\\u05d3\\u05d1\\u05e8 \\u05de\\u05e2\\u05d9\\u05d3 \\u05db\\u05d9 \\u05d4\\u05e2\\u05d5\\u05e0\\u05e9 \\u05d0\\u05e9\\u05e8 \\u05d4\\u05d5\\u05e9\\u05ea \\u05e2\\u05dc \\u05d4\\u05de\\u05d1\\u05e7\\u05e9\\u05d9\\u05dd \\u05d7\\u05d5\\u05e8\\u05d2 \\u05d1\\u05d0\\u05d5\\u05e4\\u05df \\u05de\\u05d4\\u05d5\\u05ea\\u05d9 \\u05de\\u05de\\u05d3\\u05d9\\u05e0\\u05d9\\u05d5\\u05ea \\u05d4\\u05e2\\u05e0\\u05d9\\u05e9\\u05d4 \\u05d4\\u05e8\\u05d0\\u05d5\\u05d9\\u05d4. \\u05d1\\u05de\\u05e6\\u05d1 \\u05d3\\u05d1\\u05e8\\u05d9\\u05dd \\u05d6\\u05d4, \\u05e1\\u05d1\\u05d5\\u05e8\\u05e0\\u05d9 \\u05db\\u05d9 \\u05dc\\u05d0 \\u05e0\\u05e4\\u05dc \\u05db\\u05dc \\u05e4\\u05d2\\u05dd \\u05d1\\u05e2\\u05d5\\u05e0\\u05e9\\u05d9\\u05dd \\u05d0\\u05e9\\u05e8 \\u05d4\\u05d5\\u05e9\\u05ea\\u05d5 \\u05e2\\u05dc \\u05d4\\u05de\\u05d1\\u05e7\\u05e9\\u05d9\\u05dd \\u05e2\\u05dc-\\u05d9\\u05d3\\u05d9 \\u05d1\\u05d9\\u05ea \\u05d4\\u05de\\u05e9\\u05e4\\u05d8 \\u05d4\\u05de\\u05d7\\u05d5\\u05d6\\u05d9. 14. \\u05d1\\u05d0\\u05d5\\u05e4\\u05df \\u05d3\\u05d5\\u05de\\u05d4, \\u05dc\\u05d0 \\u05de\\u05e6\\u05d0\\u05ea\\u05d9 \\u05de\\u05de\\u05e9 \\u05d1\\u05d8\\u05e2\\u05e0\\u05ea \\u05d4\\u05de\\u05d1\\u05e7\\u05e9\\u05d9\\u05dd, \\u05db\\u05d9 \\u05d1\\u05d9\\u05ea \\u05d4\\u05de\\u05e9\\u05e4\\u05d8 \\u05d4\\u05de\\u05d7\\u05d5\\u05d6\\u05d9 \\u05dc\\u05d0 \\u05d4\\u05ea\\u05d0\\u05d9\\u05dd \\u05d0\\u05ea \\u05d4\\u05e2\\u05e0\\u05d9\\u05e9\\u05d4 \\u05dc\\u05e0\\u05e1\\u05d9\\u05d1\\u05d5\\u05ea\\u05d9\\u05d4\\u05dd \\u05d4\\u05d0\\u05d9\\u05e9\\u05d9\\u05d5\\u05ea. \\u05dc\\u05e2\\u05e0\\u05d9\\u05d9\\u05df \\u05d6\\u05d4, \\u05e7\\u05d1\\u05e2 \\u05d1\\u05d9\\u05ea \\u05d4\\u05de\\u05e9\\u05e4\\u05d8 \\u05d4\\u05de\\u05d7\\u05d5\\u05d6\\u05d9, \\u05db\\u05d9: \\\"\\u05d1\\u05e6\\u05d3 \\u05d4\\u05d7\\u05d5\\u05de\\u05e8\\u05d4 \\u05e9\\u05e8\\u05d0\\u05d9\\u05e0\\u05d5 \\u05dc\\u05d9\\u05d9\\u05d7\\u05e1 \\u05dc\\u05e2\\u05d1\\u05d9\\u05e8\\u05d5\\u05ea \\u05e9\\u05d1\\u05d4\\u05df \\u05d4\\u05d5\\u05e8\\u05e9\\u05e2\\u05d5 \\u05d4\\u05de\\u05e9\\u05d9\\u05d1\\u05d9\\u05dd, \\u05e0\\u05ea\\u05e0\\u05d5 \\u05d3\\u05e2\\u05ea\\u05e0\\u05d5 \\u05dc\\u05e0\\u05e1\\u05d9\\u05d1\\u05d5\\u05ea\\u05d9\\u05d4\\u05dd \\u05d4\\u05d0\\u05d9\\u05e9\\u05d9\\u05d5\\u05ea \\u05e9\\u05dc \\u05d4\\u05de\\u05e9\\u05d9\\u05d1\\u05d9\\u05dd, \\u05dc\\u05d2\\u05d9\\u05dc\\u05dd \\u05d1\\u05e2\\u05ea \\u05d1\\u05d9\\u05e6\\u05d5\\u05e2 \\u05d4\\u05e2\\u05d1\\u05d9\\u05e8\\u05d5\\u05ea, \\u05dc\\u05ea\\u05e1\\u05e7\\u05d9\\u05e8 \\u05e9\\u05d9\\u05e8\\u05d5\\u05ea \\u05d4\\u05de\\u05d1\\u05d7\\u05df, \\u05dc\\u05d4\\u05e2\\u05d3\\u05e8 \\u05e8\\u05d9\\u05e9\\u05d5\\u05dd \\u05e4\\u05dc\\u05d9\\u05dc\\u05d9 \\u05d5\\u05dc\\u05d4\\u05ea\\u05d9\\u05d9\\u05d7\\u05e1\\u05d5\\u05ea \\u05d1\\u05d9\\u05ea \\u05de\\u05e9\\u05e4\\u05d8 \\u05e7\\u05de\\u05d0 \\u05dc\\u05e0\\u05e1\\u05d9\\u05d1\\u05d5\\u05ea \\u05e9\\u05dc \\u05d4\\u05de\\u05e9\\u05d9\\u05d1\\u05d9\\u05dd \\u05db\\u05d0\\u05de\\u05d5\\u05e8 \\u05d1\\u05d2\\u05d6\\u05e8 \\u05d4\\u05d3\\u05d9\\u05df, \\u05d5\\u05e8\\u05d0\\u05d9\\u05e0\\u05d5 \\u05d0\\u05e3 \\u05dc\\u05d0\\u05de\\u05e5 \\u05d0\\u05ea \\u05d3\\u05d1\\u05e8\\u05d9\\u05d5 \\u05d0\\u05e9\\u05e8 \\u05dc\\u05de\\u05e9\\u05d9\\u05d1\\u05d9\\u05dd \\u05d5\\u05d0\\u05e9\\u05e8 \\u05dc\\u05de\\u05d3\\u05e8\\u05d2 \\u05e9\\u05e7\\u05d1\\u05e2 \\u05d1\\u05e2\\u05e0\\u05d9\\u05e9\\u05d4 \\u05dc\\u05d2\\u05d1\\u05d9\\u05d4\\u05dd \\u05d1\\u05e9\\u05dc \\u05d4\\u05e9\\u05d5\\u05e0\\u05d9 \\u05d1\\u05d2\\u05d9\\u05dc\\u05dd...\\\" \\u05d4\\u05e0\\u05d4 \\u05db\\u05d9 \\u05db\\u05df, \\u05d1\\u05d9\\u05ea \\u05d4\\u05de\\u05e9\\u05e4\\u05d8 \\u05d4\\u05de\\u05d7\\u05d5\\u05d6\\u05d9 \\u05dc\\u05d0 \\u05d4\\u05ea\\u05e2\\u05dc\\u05dd \\u05de\\u05e0\\u05e1\\u05d9\\u05d1\\u05d5\\u05ea\\u05d9\\u05d4\\u05dd \\u05d4\\u05e4\\u05e8\\u05d8\\u05e0\\u05d9\\u05d5\\u05ea \\u05e9\\u05dc \\u05d4\\u05de\\u05d1\\u05e7\\u05e9\\u05d9\\u05dd, \\u05d5\\u05de\\u05d9\\u05ea\\u05e8 \\u05d4\\u05e9\\u05d9\\u05e7\\u05d5\\u05dc\\u05d9\\u05dd \\u05dc\\u05e7\\u05d5\\u05dc\\u05d4. \\u05d1\\u05d9\\u05ea \\u05d4\\u05de\\u05e9\\u05e4\\u05d8 \\u05d4\\u05de\\u05d7\\u05d5\\u05d6\\u05d9 \\u05e0\\u05ea\\u05df \\u05d0\\u05ea \\u05d3\\u05e2\\u05ea\\u05d5 \\u05dc\\u05de\\u05db\\u05dc\\u05d5\\u05dc \\u05e9\\u05d9\\u05e7\\u05d5\\u05dc\\u05d9 \\u05d4\\u05e2\\u05e0\\u05d9\\u05e9\\u05d4 \\u05d4\\u05e8\\u05dc\\u05d5\\u05d5\\u05e0\\u05d8\\u05d9\\u05d9\\u05dd, \\u05d5\\u05e2\\u05e8\\u05da \\u05d1\\u05d9\\u05e0\\u05d9\\u05d4\\u05dd \\u05d0\\u05d9\\u05d6\\u05d5\\u05df \\u05e8\\u05d0\\u05d5\\u05d9, \\u05d1\\u05e0\\u05e1\\u05d9\\u05d1\\u05d5\\u05ea \\u05d4\\u05e2\\u05e0\\u05d9\\u05d9\\u05df. \\u05dc\\u05e4\\u05d9\\u05db\\u05da, \\u05d0\\u05d9\\u05e0\\u05e0\\u05d9 \\u05e8\\u05d5\\u05d0\\u05d4 \\u05db\\u05dc \\u05d4\\u05e6\\u05d3\\u05e7\\u05d4 \\u05dc\\u05d4\\u05ea\\u05e2\\u05e8\\u05d1 \\u05d1\\u05de\\u05d9\\u05d3\\u05ea \\u05e2\\u05d5\\u05e0\\u05e9\\u05dd \\u05e9\\u05dc \\u05d4\\u05de\\u05d1\\u05e7\\u05e9\\u05d9\\u05dd, \\u05d5\\u05d4\\u05d3\\u05d1\\u05e8\\u05d9\\u05dd \\u05e0\\u05d0\\u05de\\u05e8\\u05d9\\u05dd \\u05d1\\u05d9\\u05ea\\u05e8 \\u05e9\\u05d0\\u05ea \\u05db\\u05d0\\u05e9\\u05e8 \\u05de\\u05d3\\u05d5\\u05d1\\u05e8 \\u05d1\\u05d3\\u05d9\\u05d5\\u05df \\u05d1\\\"\\u05d2\\u05dc\\u05d2\\u05d5\\u05dc \\u05e9\\u05dc\\u05d9\\u05e9\\u05d9\\\". 15. \\u05d0\\u05e9\\u05e8 \\u05e2\\u05dc \\u05db\\u05df, \\u05d4\\u05d1\\u05e7\\u05e9\\u05d4 \\u05dc\\u05e8\\u05e9\\u05d5\\u05ea \\u05e2\\u05e8\\u05e2\\u05d5\\u05e8 \\u05e0\\u05d3\\u05d7\\u05d9\\u05ea \\u05d1\\u05d6\\u05d0\\u05ea. \\u05d4\\u05de\\u05d1\\u05e7\\u05e9\\u05d9\\u05dd \\u05d9\\u05ea\\u05d9\\u05d9\\u05e6\\u05d1\\u05d5 \\u05dc\\u05e8\\u05d9\\u05e6\\u05d5\\u05d9 \\u05e2\\u05d5\\u05e0\\u05e9\\u05dd \\u05d1\\u05d9\\u05d5\\u05dd 1.3.2015, \\u05e2\\u05d3 \\u05dc\\u05e9\\u05e2\\u05d4 10:00, \\u05d1\\u05d9\\u05de\\\"\\u05e8 \\u05e0\\u05d9\\u05e6\\u05df, \\u05d0\\u05d5 \\u05e2\\u05dc \\u05e4\\u05d9 \\u05d4\\u05d7\\u05dc\\u05d8\\u05ea \\u05e9\\u05d9\\u05e8\\u05d5\\u05ea \\u05d1\\u05ea\\u05d9 \\u05d4\\u05e1\\u05d5\\u05d4\\u05e8, \\u05db\\u05e9\\u05d1\\u05e8\\u05e9\\u05d5\\u05ea\\u05dd \\u05ea\\u05e2\\u05d5\\u05d3\\u05ea \\u05d6\\u05d4\\u05d5\\u05ea \\u05d0\\u05d5 \\u05d3\\u05e8\\u05db\\u05d5\\u05df \\u05d5\\u05e2\\u05d5\\u05ea\\u05e7 \\u05de\\u05d4\\u05d7\\u05dc\\u05d8\\u05d4 \\u05d6\\u05d5. \\u05e2\\u05dc \\u05d4\\u05de\\u05d1\\u05e7\\u05e9\\u05d9\\u05dd \\u05dc\\u05ea\\u05d0\\u05dd \\u05d0\\u05ea \\u05d4\\u05db\\u05e0\\u05d9\\u05e1\\u05d4 \\u05dc\\u05de\\u05d0\\u05e1\\u05e8, \\u05e2\\u05dd \\u05e2\\u05e0\\u05e3 \\u05d0\\u05d1\\u05d7\\u05d5\\u05df \\u05d5\\u05de\\u05d9\\u05d5\\u05df \\u05e9\\u05dc \\u05e9\\u05d9\\u05e8\\u05d5\\u05ea \\u05d1\\u05ea\\u05d9 \\u05d4\\u05e1\\u05d5\\u05d4\\u05e8, \\u05d1\\u05d8\\u05dc\\u05e4\\u05d5\\u05e0\\u05d9\\u05dd:\"\n        ],\n        \"semantic_type\": \"\",\n        \"description\": \"\"\n      }\n    }\n  ]\n}"
            }
          },
          "metadata": {},
          "execution_count": 17
        }
      ]
    },
    {
      "cell_type": "code",
      "source": [
        "df = df[['גוף המסמך', 'מספר הליך', 'שם הליך', 'שנת פתיחת ההליך',\n",
        "       'גוף המסמך חתוך', 'בקשה לרשות ערעור התקבלה?',\n",
        "       'טקסט שמצביע על תוצאת בקשה שונה', 'הערעור התקבל?',\n",
        "       'רע\"פ בקשה אחרת או דלמטה מיוחד', 'הערות ', 'הערות קידוד חוזר',\n",
        "       'טקסט שמצביע על תוצאת בקשה שונה (טקסטים שונים מופרדים ב-**)',\n",
        "       'הערות תוצאת ערעור', 'length',]]"
      ],
      "metadata": {
        "id": "2SuWC1ad7GuW"
      },
      "execution_count": 18,
      "outputs": []
    },
    {
      "cell_type": "code",
      "source": [
        "df.columns = df.columns.str.strip()\n",
        "df.columns = df.columns.str.replace(\"\\n\", \"\")\n",
        "df.columns = df.columns.str.replace(\"  \", \" \")"
      ],
      "metadata": {
        "id": "yAKcKxV--dai"
      },
      "execution_count": 19,
      "outputs": []
    },
    {
      "cell_type": "code",
      "source": [
        "df.rename(columns={\n",
        "    'הערות ':\"הערות\",\n",
        "    'טקסט שמצביע על תוצאת בקשה שונה':\"טקסט שמצביע על תוצאת בקשה\",\n",
        "    \"טקסט שמצביע על תוצאת בקשה שונה (טקסטים שונים מופרדים ב-**)\": \"טקסט שמצביע על התוצאה\"\n",
        "}, inplace=True)\n",
        "\n",
        "df.columns\n"
      ],
      "metadata": {
        "colab": {
          "base_uri": "https://localhost:8080/"
        },
        "id": "kdd6KMu89uSk",
        "outputId": "aebc2359-b2bf-4b3d-b2fa-1f0513925206"
      },
      "execution_count": 20,
      "outputs": [
        {
          "output_type": "execute_result",
          "data": {
            "text/plain": [
              "Index(['גוף המסמך', 'מספר הליך', 'שם הליך', 'שנת פתיחת ההליך',\n",
              "       'גוף המסמך חתוך', 'בקשה לרשות ערעור התקבלה?',\n",
              "       'טקסט שמצביע על תוצאת בקשה', 'הערעור התקבל?',\n",
              "       'רע\"פ בקשה אחרת או דלמטה מיוחד', 'הערות', 'הערות קידוד חוזר',\n",
              "       'טקסט שמצביע על התוצאה', 'הערות תוצאת ערעור', 'length'],\n",
              "      dtype='object')"
            ]
          },
          "metadata": {},
          "execution_count": 20
        }
      ]
    },
    {
      "cell_type": "code",
      "source": [
        "columns_to_merge = [\n",
        "    'טקסט שמצביע על תוצאת בקשה',\n",
        "    'רע\"פ בקשה אחרת או דלמטה מיוחד',  \"הערות\", 'הערות קידוד חוזר',\n",
        "    \"טקסט שמצביע על התוצאה\",\n",
        "    'הערות תוצאת ערעור'\n",
        "]\n",
        "\n",
        "def clean_merge_columns(row, columns):\n",
        "    values = []\n",
        "    for col in columns:\n",
        "        if pd.notna(row[col]) and str(row[col]).strip():\n",
        "            text = f\"{str(row[col]).strip()}\"\n",
        "            text.replace(\"?\", \"\")\n",
        "            text\n",
        "            text = re.sub(r\"הערה של \\S+\\s*\", \"\", text)\n",
        "            values.append(text)\n",
        "\n",
        "    return \"\\n\".join(values) if values else None\n",
        "\n",
        "# יצירת עמודה מאוחדת עם כותרות לכל ערך\n",
        "df[\"תוצאה מסכמת\"] = df.apply(lambda row: clean_merge_columns(row, columns_to_merge), axis=1)\n",
        "\n",
        "\n",
        "# הצגת מספר דוגמאות לבדיקה\n",
        "df[[\"תוצאה מסכמת\"]].head()\n"
      ],
      "metadata": {
        "colab": {
          "base_uri": "https://localhost:8080/",
          "height": 206
        },
        "id": "SIeNQC_W8IBy",
        "outputId": "e6477171-b3d5-4fb9-f6be-fc99e31f023b"
      },
      "execution_count": 21,
      "outputs": [
        {
          "output_type": "execute_result",
          "data": {
            "text/plain": [
              "                                           תוצאה מסכמת\n",
              "5    לנוכח כל האמור לעיל – הבקשה למתן רשות ערעור נדחית\n",
              "31              בקשה לעיכוב ביצוע עונש מאסר\\nבקשה אחרת\n",
              "67             אשר על כן, הבקשה לרשות ערעור נדחית בזאת\n",
              "73                                 - זהו פסק דין משלים\n",
              "114  חזרו בהם באי כוח המבקשים מהבקשות למתן רשות ערע..."
            ],
            "text/html": [
              "\n",
              "  <div id=\"df-08fceb73-875b-4018-ad39-86c54b7138cb\" class=\"colab-df-container\">\n",
              "    <div>\n",
              "<style scoped>\n",
              "    .dataframe tbody tr th:only-of-type {\n",
              "        vertical-align: middle;\n",
              "    }\n",
              "\n",
              "    .dataframe tbody tr th {\n",
              "        vertical-align: top;\n",
              "    }\n",
              "\n",
              "    .dataframe thead th {\n",
              "        text-align: right;\n",
              "    }\n",
              "</style>\n",
              "<table border=\"1\" class=\"dataframe\">\n",
              "  <thead>\n",
              "    <tr style=\"text-align: right;\">\n",
              "      <th></th>\n",
              "      <th>תוצאה מסכמת</th>\n",
              "    </tr>\n",
              "  </thead>\n",
              "  <tbody>\n",
              "    <tr>\n",
              "      <th>5</th>\n",
              "      <td>לנוכח כל האמור לעיל – הבקשה למתן רשות ערעור נדחית</td>\n",
              "    </tr>\n",
              "    <tr>\n",
              "      <th>31</th>\n",
              "      <td>בקשה לעיכוב ביצוע עונש מאסר\\nבקשה אחרת</td>\n",
              "    </tr>\n",
              "    <tr>\n",
              "      <th>67</th>\n",
              "      <td>אשר על כן, הבקשה לרשות ערעור נדחית בזאת</td>\n",
              "    </tr>\n",
              "    <tr>\n",
              "      <th>73</th>\n",
              "      <td>- זהו פסק דין משלים</td>\n",
              "    </tr>\n",
              "    <tr>\n",
              "      <th>114</th>\n",
              "      <td>חזרו בהם באי כוח המבקשים מהבקשות למתן רשות ערע...</td>\n",
              "    </tr>\n",
              "  </tbody>\n",
              "</table>\n",
              "</div>\n",
              "    <div class=\"colab-df-buttons\">\n",
              "\n",
              "  <div class=\"colab-df-container\">\n",
              "    <button class=\"colab-df-convert\" onclick=\"convertToInteractive('df-08fceb73-875b-4018-ad39-86c54b7138cb')\"\n",
              "            title=\"Convert this dataframe to an interactive table.\"\n",
              "            style=\"display:none;\">\n",
              "\n",
              "  <svg xmlns=\"http://www.w3.org/2000/svg\" height=\"24px\" viewBox=\"0 -960 960 960\">\n",
              "    <path d=\"M120-120v-720h720v720H120Zm60-500h600v-160H180v160Zm220 220h160v-160H400v160Zm0 220h160v-160H400v160ZM180-400h160v-160H180v160Zm440 0h160v-160H620v160ZM180-180h160v-160H180v160Zm440 0h160v-160H620v160Z\"/>\n",
              "  </svg>\n",
              "    </button>\n",
              "\n",
              "  <style>\n",
              "    .colab-df-container {\n",
              "      display:flex;\n",
              "      gap: 12px;\n",
              "    }\n",
              "\n",
              "    .colab-df-convert {\n",
              "      background-color: #E8F0FE;\n",
              "      border: none;\n",
              "      border-radius: 50%;\n",
              "      cursor: pointer;\n",
              "      display: none;\n",
              "      fill: #1967D2;\n",
              "      height: 32px;\n",
              "      padding: 0 0 0 0;\n",
              "      width: 32px;\n",
              "    }\n",
              "\n",
              "    .colab-df-convert:hover {\n",
              "      background-color: #E2EBFA;\n",
              "      box-shadow: 0px 1px 2px rgba(60, 64, 67, 0.3), 0px 1px 3px 1px rgba(60, 64, 67, 0.15);\n",
              "      fill: #174EA6;\n",
              "    }\n",
              "\n",
              "    .colab-df-buttons div {\n",
              "      margin-bottom: 4px;\n",
              "    }\n",
              "\n",
              "    [theme=dark] .colab-df-convert {\n",
              "      background-color: #3B4455;\n",
              "      fill: #D2E3FC;\n",
              "    }\n",
              "\n",
              "    [theme=dark] .colab-df-convert:hover {\n",
              "      background-color: #434B5C;\n",
              "      box-shadow: 0px 1px 3px 1px rgba(0, 0, 0, 0.15);\n",
              "      filter: drop-shadow(0px 1px 2px rgba(0, 0, 0, 0.3));\n",
              "      fill: #FFFFFF;\n",
              "    }\n",
              "  </style>\n",
              "\n",
              "    <script>\n",
              "      const buttonEl =\n",
              "        document.querySelector('#df-08fceb73-875b-4018-ad39-86c54b7138cb button.colab-df-convert');\n",
              "      buttonEl.style.display =\n",
              "        google.colab.kernel.accessAllowed ? 'block' : 'none';\n",
              "\n",
              "      async function convertToInteractive(key) {\n",
              "        const element = document.querySelector('#df-08fceb73-875b-4018-ad39-86c54b7138cb');\n",
              "        const dataTable =\n",
              "          await google.colab.kernel.invokeFunction('convertToInteractive',\n",
              "                                                    [key], {});\n",
              "        if (!dataTable) return;\n",
              "\n",
              "        const docLinkHtml = 'Like what you see? Visit the ' +\n",
              "          '<a target=\"_blank\" href=https://colab.research.google.com/notebooks/data_table.ipynb>data table notebook</a>'\n",
              "          + ' to learn more about interactive tables.';\n",
              "        element.innerHTML = '';\n",
              "        dataTable['output_type'] = 'display_data';\n",
              "        await google.colab.output.renderOutput(dataTable, element);\n",
              "        const docLink = document.createElement('div');\n",
              "        docLink.innerHTML = docLinkHtml;\n",
              "        element.appendChild(docLink);\n",
              "      }\n",
              "    </script>\n",
              "  </div>\n",
              "\n",
              "\n",
              "<div id=\"df-025e220b-b7ac-4627-9b94-614368ade15d\">\n",
              "  <button class=\"colab-df-quickchart\" onclick=\"quickchart('df-025e220b-b7ac-4627-9b94-614368ade15d')\"\n",
              "            title=\"Suggest charts\"\n",
              "            style=\"display:none;\">\n",
              "\n",
              "<svg xmlns=\"http://www.w3.org/2000/svg\" height=\"24px\"viewBox=\"0 0 24 24\"\n",
              "     width=\"24px\">\n",
              "    <g>\n",
              "        <path d=\"M19 3H5c-1.1 0-2 .9-2 2v14c0 1.1.9 2 2 2h14c1.1 0 2-.9 2-2V5c0-1.1-.9-2-2-2zM9 17H7v-7h2v7zm4 0h-2V7h2v10zm4 0h-2v-4h2v4z\"/>\n",
              "    </g>\n",
              "</svg>\n",
              "  </button>\n",
              "\n",
              "<style>\n",
              "  .colab-df-quickchart {\n",
              "      --bg-color: #E8F0FE;\n",
              "      --fill-color: #1967D2;\n",
              "      --hover-bg-color: #E2EBFA;\n",
              "      --hover-fill-color: #174EA6;\n",
              "      --disabled-fill-color: #AAA;\n",
              "      --disabled-bg-color: #DDD;\n",
              "  }\n",
              "\n",
              "  [theme=dark] .colab-df-quickchart {\n",
              "      --bg-color: #3B4455;\n",
              "      --fill-color: #D2E3FC;\n",
              "      --hover-bg-color: #434B5C;\n",
              "      --hover-fill-color: #FFFFFF;\n",
              "      --disabled-bg-color: #3B4455;\n",
              "      --disabled-fill-color: #666;\n",
              "  }\n",
              "\n",
              "  .colab-df-quickchart {\n",
              "    background-color: var(--bg-color);\n",
              "    border: none;\n",
              "    border-radius: 50%;\n",
              "    cursor: pointer;\n",
              "    display: none;\n",
              "    fill: var(--fill-color);\n",
              "    height: 32px;\n",
              "    padding: 0;\n",
              "    width: 32px;\n",
              "  }\n",
              "\n",
              "  .colab-df-quickchart:hover {\n",
              "    background-color: var(--hover-bg-color);\n",
              "    box-shadow: 0 1px 2px rgba(60, 64, 67, 0.3), 0 1px 3px 1px rgba(60, 64, 67, 0.15);\n",
              "    fill: var(--button-hover-fill-color);\n",
              "  }\n",
              "\n",
              "  .colab-df-quickchart-complete:disabled,\n",
              "  .colab-df-quickchart-complete:disabled:hover {\n",
              "    background-color: var(--disabled-bg-color);\n",
              "    fill: var(--disabled-fill-color);\n",
              "    box-shadow: none;\n",
              "  }\n",
              "\n",
              "  .colab-df-spinner {\n",
              "    border: 2px solid var(--fill-color);\n",
              "    border-color: transparent;\n",
              "    border-bottom-color: var(--fill-color);\n",
              "    animation:\n",
              "      spin 1s steps(1) infinite;\n",
              "  }\n",
              "\n",
              "  @keyframes spin {\n",
              "    0% {\n",
              "      border-color: transparent;\n",
              "      border-bottom-color: var(--fill-color);\n",
              "      border-left-color: var(--fill-color);\n",
              "    }\n",
              "    20% {\n",
              "      border-color: transparent;\n",
              "      border-left-color: var(--fill-color);\n",
              "      border-top-color: var(--fill-color);\n",
              "    }\n",
              "    30% {\n",
              "      border-color: transparent;\n",
              "      border-left-color: var(--fill-color);\n",
              "      border-top-color: var(--fill-color);\n",
              "      border-right-color: var(--fill-color);\n",
              "    }\n",
              "    40% {\n",
              "      border-color: transparent;\n",
              "      border-right-color: var(--fill-color);\n",
              "      border-top-color: var(--fill-color);\n",
              "    }\n",
              "    60% {\n",
              "      border-color: transparent;\n",
              "      border-right-color: var(--fill-color);\n",
              "    }\n",
              "    80% {\n",
              "      border-color: transparent;\n",
              "      border-right-color: var(--fill-color);\n",
              "      border-bottom-color: var(--fill-color);\n",
              "    }\n",
              "    90% {\n",
              "      border-color: transparent;\n",
              "      border-bottom-color: var(--fill-color);\n",
              "    }\n",
              "  }\n",
              "</style>\n",
              "\n",
              "  <script>\n",
              "    async function quickchart(key) {\n",
              "      const quickchartButtonEl =\n",
              "        document.querySelector('#' + key + ' button');\n",
              "      quickchartButtonEl.disabled = true;  // To prevent multiple clicks.\n",
              "      quickchartButtonEl.classList.add('colab-df-spinner');\n",
              "      try {\n",
              "        const charts = await google.colab.kernel.invokeFunction(\n",
              "            'suggestCharts', [key], {});\n",
              "      } catch (error) {\n",
              "        console.error('Error during call to suggestCharts:', error);\n",
              "      }\n",
              "      quickchartButtonEl.classList.remove('colab-df-spinner');\n",
              "      quickchartButtonEl.classList.add('colab-df-quickchart-complete');\n",
              "    }\n",
              "    (() => {\n",
              "      let quickchartButtonEl =\n",
              "        document.querySelector('#df-025e220b-b7ac-4627-9b94-614368ade15d button');\n",
              "      quickchartButtonEl.style.display =\n",
              "        google.colab.kernel.accessAllowed ? 'block' : 'none';\n",
              "    })();\n",
              "  </script>\n",
              "</div>\n",
              "\n",
              "    </div>\n",
              "  </div>\n"
            ],
            "application/vnd.google.colaboratory.intrinsic+json": {
              "type": "dataframe",
              "summary": "{\n  \"name\": \"df[[\\\"\\u05ea\\u05d5\\u05e6\\u05d0\\u05d4 \\u05de\\u05e1\\u05db\\u05de\\u05ea\\\"]]\",\n  \"rows\": 5,\n  \"fields\": [\n    {\n      \"column\": \"\\u05ea\\u05d5\\u05e6\\u05d0\\u05d4 \\u05de\\u05e1\\u05db\\u05de\\u05ea\",\n      \"properties\": {\n        \"dtype\": \"string\",\n        \"num_unique_values\": 5,\n        \"samples\": [\n          \"\\u05d1\\u05e7\\u05e9\\u05d4 \\u05dc\\u05e2\\u05d9\\u05db\\u05d5\\u05d1 \\u05d1\\u05d9\\u05e6\\u05d5\\u05e2 \\u05e2\\u05d5\\u05e0\\u05e9 \\u05de\\u05d0\\u05e1\\u05e8\\n\\u05d1\\u05e7\\u05e9\\u05d4 \\u05d0\\u05d7\\u05e8\\u05ea\",\n          \"\\u05d7\\u05d6\\u05e8\\u05d5 \\u05d1\\u05d4\\u05dd \\u05d1\\u05d0\\u05d9 \\u05db\\u05d5\\u05d7 \\u05d4\\u05de\\u05d1\\u05e7\\u05e9\\u05d9\\u05dd \\u05de\\u05d4\\u05d1\\u05e7\\u05e9\\u05d5\\u05ea \\u05dc\\u05de\\u05ea\\u05df \\u05e8\\u05e9\\u05d5\\u05ea \\u05e2\\u05e8\\u05e2\\u05d5\\u05e8, \\u05d5\\u05d4\\u05d1\\u05e7\\u05e9\\u05d5\\u05ea \\u05e0\\u05d3\\u05d7\\u05d5\\u05ea \\u05d1\\u05d6\\u05d4\",\n          \"\\u05d0\\u05e9\\u05e8 \\u05e2\\u05dc \\u05db\\u05df, \\u05d4\\u05d1\\u05e7\\u05e9\\u05d4 \\u05dc\\u05e8\\u05e9\\u05d5\\u05ea \\u05e2\\u05e8\\u05e2\\u05d5\\u05e8 \\u05e0\\u05d3\\u05d7\\u05d9\\u05ea \\u05d1\\u05d6\\u05d0\\u05ea\"\n        ],\n        \"semantic_type\": \"\",\n        \"description\": \"\"\n      }\n    }\n  ]\n}"
            }
          },
          "metadata": {},
          "execution_count": 21
        }
      ]
    },
    {
      "cell_type": "code",
      "source": [
        "\n",
        "for i in range(3):\n",
        "    print(f\"פסק דין {i+1} (תוצאה מסכמת):\\n\")\n",
        "    print(df[\"תוצאה מסכמת\"].iloc[i])\n",
        "    print(\"=\"*80)\n"
      ],
      "metadata": {
        "colab": {
          "base_uri": "https://localhost:8080/"
        },
        "id": "bqBlYGtW7B_u",
        "outputId": "d1a61b2c-3039-4d23-ec32-75ef8b6db1b0"
      },
      "execution_count": 22,
      "outputs": [
        {
          "output_type": "stream",
          "name": "stdout",
          "text": [
            "פסק דין 1 (תוצאה מסכמת):\n",
            "\n",
            "לנוכח כל האמור לעיל – הבקשה למתן רשות ערעור נדחית\n",
            "================================================================================\n",
            "פסק דין 2 (תוצאה מסכמת):\n",
            "\n",
            "בקשה לעיכוב ביצוע עונש מאסר\n",
            "בקשה אחרת\n",
            "================================================================================\n",
            "פסק דין 3 (תוצאה מסכמת):\n",
            "\n",
            "אשר על כן, הבקשה לרשות ערעור נדחית בזאת\n",
            "================================================================================\n"
          ]
        }
      ]
    },
    {
      "cell_type": "code",
      "source": [
        "pd.set_option('display.max_colwidth', None)\n",
        "\n",
        "df[[\"גוף המסמך חתוך\", \"תוצאה מסכמת\"]].sample(5, random_state=42)"
      ],
      "metadata": {
        "colab": {
          "base_uri": "https://localhost:8080/",
          "height": 935
        },
        "id": "3sAWoccf8nIb",
        "outputId": "60bed046-6956-4a4c-a67f-be3431e0a668"
      },
      "execution_count": 23,
      "outputs": [
        {
          "output_type": "execute_result",
          "data": {
            "text/plain": [
              "                                                                                                                                                                                                                                                                                                                                                                                                                                                                                                                                                                                                                                                                                                                                                                                                                                                                                                                                                                                                                                                                                                                                                                                                                                                                                                                                                                                                                                                                                                                                                                                                                                                                                                                                                  גוף המסמך חתוך  \\\n",
              "3004                                                                                                                                                                                                                                                                                                                                                                                                                                                                                                                                                                                                                                                                                                                                                                                                                                                                                                                                                                                                                                       ['פסק דין בתיק רע\"פ 4386/08 בבית המשפט העליון רע\"פ 4386/08 בפני: כבוד השופטת א\\' פרוקצ\\'יה כבוד השופט א\\' רובינשטיין כבוד השופט ס\\' ג\\'ובראן המבקש: גד כהן נגד המשיבה: מדינת ישראל בקשת רשות ערעור על פסק-דינו של בית המשפט המחוזי בירושלים מיום 30.4.08 בע\"פ 2074/08 שניתן על-ידי כבוד השופט ע\\' חבש – סג\"נ בשם המבקש: עו\"ד דוד גולן בשם המשיבה: עו\"ד מיטל בוכמן-שינדל פסק דין לאור הסכמת הצדדים, המוצאת את ביטויה בסעיף 3 לתגובת המשיבה, ניתנת בזאת רשות ערעור, והערעור מתקבל במובן זה שפסקי הדין נשוא הבקשה שניתנו בעניינו של המבקש מבוטלים בזאת, והתיק מוחזר לבית משפט השלום לתעבורה בירושלים לדיון מחודש בעניינו. ניתן היום, א\\' בחשון התשס\"ט (30.10.2008). ש ו פ ט ת ש ו פ ט ש ו פ ט _________________________    \n",
              "1922                                                                                                                                                                                                                                                                                                                                                                                                                                                                                                                                                                                                                                                                                                                                                                                                                                                                                                                                                                                                                                                                                                                                                                                                                                                                                                                                                                                                                                                       ['החלטה בתיק רע\"פ 1682/11 בבית המשפט העליון רע\"פ 1682/11 בפני: כבוד השופט ס\\' ג\\'ובראן המבקש: ואיל מזערה נגד המשיבה: מדינת ישראל בקשה לדחיית מועד תחילת ריצוי עונש המאסר בשם המבקש: עו\"ד מאליק מנצור החלטה הבקשה נדחית. ניתנה היום, כ\"ה באדר ב התשע\"א (31.3.2011). ש ו פ ט _________________________    \n",
              "3096  ['החלטה בתיק בש\"פ 1092/17 בבית המשפט העליון רע\"פ 1092/17 לפני: כבוד השופטת ד\\' ברק-ארז המערערים: 1. כפיר דהן 2. שירה דהן נגד המשיבה: הוועדה המקומית לתכנון ובניה מטה יהודה בקשת רשות ערעור על פסק דינו של בית המשפט המחוזי בירושלים מיום 30.1.2017 בע\"פ 23940-12-16 שניתן על-ידי כבוד השופט ח\\' מ\\' לומפ בשם המערערים: בעצמם בשם המשיבה: עו\"ד רעות אהרון, עו\"ד מאיר בן דוד פסק דין 1. הבקשה שבפני נקלטה במזכירות בית המשפט, בטעות, תחת הסיווג בש\"פ. הלכה למעשה, מדובר בבקשת רשות לערער על פסק דינו של בית המשפט המחוזי בירושלים מיום 30.1.2017 (ע\"פ 23940-12-16, השופטת ח\\' מ\\' לומפ). סיווגה הראוי אפוא הוא רע\"פ, וכך אני מורה. 2. מקורו של ההליך דנן הוא בבקשה למתן אורכה לביצועו של צו ההריסה שהוצא ביחס למבנה היביל שבו מתגוררים המבקשים במסגרת הליך פלילי לפי חוק התכנון והבניה, התשכ\"ה-1965. הבקשה נדחתה על ידי בית המשפט לעניינים מקומיים בבית שמש ועל כן הגישו המבקשים ערעור לבית המשפט המחוזי, אשר קבע כי תינתן למבקשים אורכה לפנות את המבנה עד ליום 1.4.2017 ולהרסו עד ליום 2.5.2017. לאחר מכן המבקשים הגישו בקשת אורכה נוספת לבית המשפט המחוזי, וזו נדחתה. על כך נסבה הבקשה שבפני. 3. בתשובה שהוגשה מטעם המשיבה צוין כי המקרה העומד ביסוד ההליך כרוך בנסיבות אישיות ומשפחתיות חריגות וקשות ועל כן היא מבקשת להותיר את ההכרעה בו לשיקול דעתו של בית המשפט. בהתחשב בכך ולאחר שבחנתי את מכלול הנסיבות העניין, אני מורה על מתן אורכה נוספת למבקשים לפנות את המבנה עד ליום 1.7.2017 ולהרסו עד ליום 2.8.2017 (בתנאים שנקבעו בפסק דינו של בית המשפט המחוזי). 4. הבקשה מתקבלת אפוא כמפורט בפסקה 3. על המבקשים להבין כי ההיענות לבקשתם התאפשרה לנוכח העמדה שגילתה המשיבה, וכי אל להם לצפות לכל הקלות נוספות, אלא להיערך לביצוע הצו השיפוטי, משתמו ההליכים כולם. ניתן היום, \\u200fי\"ט בשבט התשע\"ז (\\u200f15.2.2017). ש ו פ ט ת _________________________    \n",
              "3022                                                                                                                                                                                                                                                                                                                                                                                                                                                                                                                                                                                                                                                                                                                                                                                                                                                                                                                                                                                 ['פסק דין בתיק רע\"פ 1793/09 בבית המשפט העליון רע\"פ 1793/09 בפני: כבוד השופט א\\' א\\' לוי כבוד השופטת ע\\' ארבל כבוד השופט י\\' דנציגר המבקשים: 1. פאבל מינסטר 2. זאב שוורץ נגד המשיבה: מדינת ישראל בקשת רשות ערעור על פסק-דינו של ביתה משפט המחוזי בתל-אביב, בע\"פ 70149/08, מיום 28.1.09, שניתן על ידי כבוד ס\\' הנשיא השופטת ד\\' ברלינר, ס. הנשיא השופט ז\\' המר, ס. הנשיא השופטת ב\\' אופיר-תום בשם המבקש 1: עו\"ד אמיר ציון בשם המבקש 2: עו\"ד רובינשטיין מנחם פסק דין נוכח האמור בתגובת המשיבה, ניתנת בזאת רשות ערעור והבקשה תידון כבערעור גופו. עניינם של המבקשים יובא בשנית בפני בית המשפט המחוזי, המתבקש להבהיר אם תוצאת פסק-דינו היא זיכוי מוחלט של המבקשים או זיכוי מחמת הספק. ניתן היום, ט\"ו באדר התשס\"ט (11.03.09). ש ו פ ט ש ו פ ט ת ש ו פ ט _________________________    \n",
              "2649                                                                                                                                                                                                    ['בבית המשפט העליון בירושלים רע\"פ 9608/01 בפני: כבוד השופט א\\' ריבלין המבקשים: 1. גשמי ברכה ה.ש.י.ג.(1995) 2. גשמי ברכה בע\"מ 3. ה.ש.י.ג.(1995)יזום פרוייקטים 4. שנהב זאב נגד המשיבה: מדינת ישראל בקשת רשות ערעור על פסק-דינו של בית המשפט המחוזי בתל-אביב-יפו מיום 23.10.2001 בתיק עפ\"א 80190/01 שניתן על ידי כבוד השופטים: ד\\' ברלינר, ז\\' המר, י\\' שטופמן בשם המבקשים: עו\"ד שרית שלמון בשם המשיבה: עו\"ד ענבר פלש החלטה בית המשפט לעניינים מקומיים בפתח תקוה (כבוד השופט ג\\' שטרסמן) ביטל את כתב האישום שהוגש כנגד המבקשים, והמייחס להם ביצוע עבירות טעונות היתר בסטיה מהיתר או מתכנית. ערעורה של המדינה על החלטה זו, לבית המשפט המחוזי בתל-אביב (כבוד השופטים ד\\' ברלינר, ז\\' המר וי\\' שטופמן) - התקבל. ההחלטה בדבר ביטול כתב האישום בוטלה, והדיון הוחזר לבית המשפט לעניינים מקומיים, להמשך בירורו למן השלב אליו הגיע. כנגד פסק-דינו של בית המשפט המחוזי מופנית הבקשה שלפנינו. דא עקא, משטרם נתברר, וממילא טרם הוכרע, עניינם של המבקשים - לגופו - בערכאה הראשונה, אין מקום לדון בטענותיהם בפני בית משפט זה. לאחר שימוצו ההליכים בבית משפט השלום, ואם יהיה צורך גם בבית המשפט המחוזי - יהיו רשאים המבקשים - שוב, אם יהיה צורך - לפנות לבית משפט זה בבקשת רשות ערעור (ראו רע\"פ 4632/97 אקסלרוד נ\\' מדינת ישראל (תק-על 97(3) 118)). ניתנה היום, ה\\' באדר תשס\"ב (17.2.2002). ש ו פ ט _________________ העתק מתאים למקור 01096080.P02 /אמ נוסח זה כפוף לשינויי עריכה וניסוח. שמריהו כהן - מזכיר ראשי בבית המשפט העליון פועל מרכז מידע, טל\\' 02-6750444 בית המשפט פתוח להערות והצעות: pniot@supreme.court.gov.il לבתי המשפט אתר באינטרנט: www.court.gov.il']   \n",
              "\n",
              "                                                                                                                                                                                                                                                                             תוצאה מסכמת  \n",
              "3004                                                                                                                                       ניתנת בזאת רשות ערעור, והערעור מתקבל במובן זה שפסקי הדין נשוא הבקשה שניתנו בעניינו של המבקש מבוטלים בזאת, והתיק מוחזר לבית משפט השלום לתעבורה  \n",
              "1922                                                                                                                                                                                                                                  בקשה אחרת\\nבקשה לדחיית מועד תחילת ריצוי עונש המאסר  \n",
              "3096                                                                                                                                                                                                         ביהמ׳׳ש נתן אורכה אך לא ביטל את צו ההריסה\\nהבקשה מתקבלת אפוא כמפורט בפסקה 3  \n",
              "3022                                                                                                                                                                                                                                      ביהמש לא הכריע בערעור והחזיר לדיון נוסף במחוזי  \n",
              "2649  דא עקא, משטרם נתברר, וממילא טרם הוכרע, עניינם של המבקשים - לגופו - בערכאה הראשונה, אין מקום לדון בטענותיהם בפני בית משפט זה. לאחר שימוצו ההליכים בבית משפט השלום, ואם יהיה צורך גם בבית המשפט המחוזי - יהיו רשאים המבקשים - שוב, אם יהיה צורך - לפנות לבית משפט זה בבקשת רשות ערעו  "
            ],
            "text/html": [
              "\n",
              "  <div id=\"df-693dd7ad-bd62-43c8-9868-f45f609583b5\" class=\"colab-df-container\">\n",
              "    <div>\n",
              "<style scoped>\n",
              "    .dataframe tbody tr th:only-of-type {\n",
              "        vertical-align: middle;\n",
              "    }\n",
              "\n",
              "    .dataframe tbody tr th {\n",
              "        vertical-align: top;\n",
              "    }\n",
              "\n",
              "    .dataframe thead th {\n",
              "        text-align: right;\n",
              "    }\n",
              "</style>\n",
              "<table border=\"1\" class=\"dataframe\">\n",
              "  <thead>\n",
              "    <tr style=\"text-align: right;\">\n",
              "      <th></th>\n",
              "      <th>גוף המסמך חתוך</th>\n",
              "      <th>תוצאה מסכמת</th>\n",
              "    </tr>\n",
              "  </thead>\n",
              "  <tbody>\n",
              "    <tr>\n",
              "      <th>3004</th>\n",
              "      <td>['פסק דין בתיק רע\"פ 4386/08 בבית המשפט העליון רע\"פ 4386/08 בפני: כבוד השופטת א\\' פרוקצ\\'יה כבוד השופט א\\' רובינשטיין כבוד השופט ס\\' ג\\'ובראן המבקש: גד כהן נגד המשיבה: מדינת ישראל בקשת רשות ערעור על פסק-דינו של בית המשפט המחוזי בירושלים מיום 30.4.08 בע\"פ 2074/08 שניתן על-ידי כבוד השופט ע\\' חבש – סג\"נ בשם המבקש: עו\"ד דוד גולן בשם המשיבה: עו\"ד מיטל בוכמן-שינדל פסק דין לאור הסכמת הצדדים, המוצאת את ביטויה בסעיף 3 לתגובת המשיבה, ניתנת בזאת רשות ערעור, והערעור מתקבל במובן זה שפסקי הדין נשוא הבקשה שניתנו בעניינו של המבקש מבוטלים בזאת, והתיק מוחזר לבית משפט השלום לתעבורה בירושלים לדיון מחודש בעניינו. ניתן היום, א\\' בחשון התשס\"ט (30.10.2008). ש ו פ ט ת ש ו פ ט ש ו פ ט _________________________</td>\n",
              "      <td>ניתנת בזאת רשות ערעור, והערעור מתקבל במובן זה שפסקי הדין נשוא הבקשה שניתנו בעניינו של המבקש מבוטלים בזאת, והתיק מוחזר לבית משפט השלום לתעבורה</td>\n",
              "    </tr>\n",
              "    <tr>\n",
              "      <th>1922</th>\n",
              "      <td>['החלטה בתיק רע\"פ 1682/11 בבית המשפט העליון רע\"פ 1682/11 בפני: כבוד השופט ס\\' ג\\'ובראן המבקש: ואיל מזערה נגד המשיבה: מדינת ישראל בקשה לדחיית מועד תחילת ריצוי עונש המאסר בשם המבקש: עו\"ד מאליק מנצור החלטה הבקשה נדחית. ניתנה היום, כ\"ה באדר ב התשע\"א (31.3.2011). ש ו פ ט _________________________</td>\n",
              "      <td>בקשה אחרת\\nבקשה לדחיית מועד תחילת ריצוי עונש המאסר</td>\n",
              "    </tr>\n",
              "    <tr>\n",
              "      <th>3096</th>\n",
              "      <td>['החלטה בתיק בש\"פ 1092/17 בבית המשפט העליון רע\"פ 1092/17 לפני: כבוד השופטת ד\\' ברק-ארז המערערים: 1. כפיר דהן 2. שירה דהן נגד המשיבה: הוועדה המקומית לתכנון ובניה מטה יהודה בקשת רשות ערעור על פסק דינו של בית המשפט המחוזי בירושלים מיום 30.1.2017 בע\"פ 23940-12-16 שניתן על-ידי כבוד השופט ח\\' מ\\' לומפ בשם המערערים: בעצמם בשם המשיבה: עו\"ד רעות אהרון, עו\"ד מאיר בן דוד פסק דין 1. הבקשה שבפני נקלטה במזכירות בית המשפט, בטעות, תחת הסיווג בש\"פ. הלכה למעשה, מדובר בבקשת רשות לערער על פסק דינו של בית המשפט המחוזי בירושלים מיום 30.1.2017 (ע\"פ 23940-12-16, השופטת ח\\' מ\\' לומפ). סיווגה הראוי אפוא הוא רע\"פ, וכך אני מורה. 2. מקורו של ההליך דנן הוא בבקשה למתן אורכה לביצועו של צו ההריסה שהוצא ביחס למבנה היביל שבו מתגוררים המבקשים במסגרת הליך פלילי לפי חוק התכנון והבניה, התשכ\"ה-1965. הבקשה נדחתה על ידי בית המשפט לעניינים מקומיים בבית שמש ועל כן הגישו המבקשים ערעור לבית המשפט המחוזי, אשר קבע כי תינתן למבקשים אורכה לפנות את המבנה עד ליום 1.4.2017 ולהרסו עד ליום 2.5.2017. לאחר מכן המבקשים הגישו בקשת אורכה נוספת לבית המשפט המחוזי, וזו נדחתה. על כך נסבה הבקשה שבפני. 3. בתשובה שהוגשה מטעם המשיבה צוין כי המקרה העומד ביסוד ההליך כרוך בנסיבות אישיות ומשפחתיות חריגות וקשות ועל כן היא מבקשת להותיר את ההכרעה בו לשיקול דעתו של בית המשפט. בהתחשב בכך ולאחר שבחנתי את מכלול הנסיבות העניין, אני מורה על מתן אורכה נוספת למבקשים לפנות את המבנה עד ליום 1.7.2017 ולהרסו עד ליום 2.8.2017 (בתנאים שנקבעו בפסק דינו של בית המשפט המחוזי). 4. הבקשה מתקבלת אפוא כמפורט בפסקה 3. על המבקשים להבין כי ההיענות לבקשתם התאפשרה לנוכח העמדה שגילתה המשיבה, וכי אל להם לצפות לכל הקלות נוספות, אלא להיערך לביצוע הצו השיפוטי, משתמו ההליכים כולם. ניתן היום, \\u200fי\"ט בשבט התשע\"ז (\\u200f15.2.2017). ש ו פ ט ת _________________________</td>\n",
              "      <td>ביהמ׳׳ש נתן אורכה אך לא ביטל את צו ההריסה\\nהבקשה מתקבלת אפוא כמפורט בפסקה 3</td>\n",
              "    </tr>\n",
              "    <tr>\n",
              "      <th>3022</th>\n",
              "      <td>['פסק דין בתיק רע\"פ 1793/09 בבית המשפט העליון רע\"פ 1793/09 בפני: כבוד השופט א\\' א\\' לוי כבוד השופטת ע\\' ארבל כבוד השופט י\\' דנציגר המבקשים: 1. פאבל מינסטר 2. זאב שוורץ נגד המשיבה: מדינת ישראל בקשת רשות ערעור על פסק-דינו של ביתה משפט המחוזי בתל-אביב, בע\"פ 70149/08, מיום 28.1.09, שניתן על ידי כבוד ס\\' הנשיא השופטת ד\\' ברלינר, ס. הנשיא השופט ז\\' המר, ס. הנשיא השופטת ב\\' אופיר-תום בשם המבקש 1: עו\"ד אמיר ציון בשם המבקש 2: עו\"ד רובינשטיין מנחם פסק דין נוכח האמור בתגובת המשיבה, ניתנת בזאת רשות ערעור והבקשה תידון כבערעור גופו. עניינם של המבקשים יובא בשנית בפני בית המשפט המחוזי, המתבקש להבהיר אם תוצאת פסק-דינו היא זיכוי מוחלט של המבקשים או זיכוי מחמת הספק. ניתן היום, ט\"ו באדר התשס\"ט (11.03.09). ש ו פ ט ש ו פ ט ת ש ו פ ט _________________________</td>\n",
              "      <td>ביהמש לא הכריע בערעור והחזיר לדיון נוסף במחוזי</td>\n",
              "    </tr>\n",
              "    <tr>\n",
              "      <th>2649</th>\n",
              "      <td>['בבית המשפט העליון בירושלים רע\"פ 9608/01 בפני: כבוד השופט א\\' ריבלין המבקשים: 1. גשמי ברכה ה.ש.י.ג.(1995) 2. גשמי ברכה בע\"מ 3. ה.ש.י.ג.(1995)יזום פרוייקטים 4. שנהב זאב נגד המשיבה: מדינת ישראל בקשת רשות ערעור על פסק-דינו של בית המשפט המחוזי בתל-אביב-יפו מיום 23.10.2001 בתיק עפ\"א 80190/01 שניתן על ידי כבוד השופטים: ד\\' ברלינר, ז\\' המר, י\\' שטופמן בשם המבקשים: עו\"ד שרית שלמון בשם המשיבה: עו\"ד ענבר פלש החלטה בית המשפט לעניינים מקומיים בפתח תקוה (כבוד השופט ג\\' שטרסמן) ביטל את כתב האישום שהוגש כנגד המבקשים, והמייחס להם ביצוע עבירות טעונות היתר בסטיה מהיתר או מתכנית. ערעורה של המדינה על החלטה זו, לבית המשפט המחוזי בתל-אביב (כבוד השופטים ד\\' ברלינר, ז\\' המר וי\\' שטופמן) - התקבל. ההחלטה בדבר ביטול כתב האישום בוטלה, והדיון הוחזר לבית המשפט לעניינים מקומיים, להמשך בירורו למן השלב אליו הגיע. כנגד פסק-דינו של בית המשפט המחוזי מופנית הבקשה שלפנינו. דא עקא, משטרם נתברר, וממילא טרם הוכרע, עניינם של המבקשים - לגופו - בערכאה הראשונה, אין מקום לדון בטענותיהם בפני בית משפט זה. לאחר שימוצו ההליכים בבית משפט השלום, ואם יהיה צורך גם בבית המשפט המחוזי - יהיו רשאים המבקשים - שוב, אם יהיה צורך - לפנות לבית משפט זה בבקשת רשות ערעור (ראו רע\"פ 4632/97 אקסלרוד נ\\' מדינת ישראל (תק-על 97(3) 118)). ניתנה היום, ה\\' באדר תשס\"ב (17.2.2002). ש ו פ ט _________________ העתק מתאים למקור 01096080.P02 /אמ נוסח זה כפוף לשינויי עריכה וניסוח. שמריהו כהן - מזכיר ראשי בבית המשפט העליון פועל מרכז מידע, טל\\' 02-6750444 בית המשפט פתוח להערות והצעות: pniot@supreme.court.gov.il לבתי המשפט אתר באינטרנט: www.court.gov.il']</td>\n",
              "      <td>דא עקא, משטרם נתברר, וממילא טרם הוכרע, עניינם של המבקשים - לגופו - בערכאה הראשונה, אין מקום לדון בטענותיהם בפני בית משפט זה. לאחר שימוצו ההליכים בבית משפט השלום, ואם יהיה צורך גם בבית המשפט המחוזי - יהיו רשאים המבקשים - שוב, אם יהיה צורך - לפנות לבית משפט זה בבקשת רשות ערעו</td>\n",
              "    </tr>\n",
              "  </tbody>\n",
              "</table>\n",
              "</div>\n",
              "    <div class=\"colab-df-buttons\">\n",
              "\n",
              "  <div class=\"colab-df-container\">\n",
              "    <button class=\"colab-df-convert\" onclick=\"convertToInteractive('df-693dd7ad-bd62-43c8-9868-f45f609583b5')\"\n",
              "            title=\"Convert this dataframe to an interactive table.\"\n",
              "            style=\"display:none;\">\n",
              "\n",
              "  <svg xmlns=\"http://www.w3.org/2000/svg\" height=\"24px\" viewBox=\"0 -960 960 960\">\n",
              "    <path d=\"M120-120v-720h720v720H120Zm60-500h600v-160H180v160Zm220 220h160v-160H400v160Zm0 220h160v-160H400v160ZM180-400h160v-160H180v160Zm440 0h160v-160H620v160ZM180-180h160v-160H180v160Zm440 0h160v-160H620v160Z\"/>\n",
              "  </svg>\n",
              "    </button>\n",
              "\n",
              "  <style>\n",
              "    .colab-df-container {\n",
              "      display:flex;\n",
              "      gap: 12px;\n",
              "    }\n",
              "\n",
              "    .colab-df-convert {\n",
              "      background-color: #E8F0FE;\n",
              "      border: none;\n",
              "      border-radius: 50%;\n",
              "      cursor: pointer;\n",
              "      display: none;\n",
              "      fill: #1967D2;\n",
              "      height: 32px;\n",
              "      padding: 0 0 0 0;\n",
              "      width: 32px;\n",
              "    }\n",
              "\n",
              "    .colab-df-convert:hover {\n",
              "      background-color: #E2EBFA;\n",
              "      box-shadow: 0px 1px 2px rgba(60, 64, 67, 0.3), 0px 1px 3px 1px rgba(60, 64, 67, 0.15);\n",
              "      fill: #174EA6;\n",
              "    }\n",
              "\n",
              "    .colab-df-buttons div {\n",
              "      margin-bottom: 4px;\n",
              "    }\n",
              "\n",
              "    [theme=dark] .colab-df-convert {\n",
              "      background-color: #3B4455;\n",
              "      fill: #D2E3FC;\n",
              "    }\n",
              "\n",
              "    [theme=dark] .colab-df-convert:hover {\n",
              "      background-color: #434B5C;\n",
              "      box-shadow: 0px 1px 3px 1px rgba(0, 0, 0, 0.15);\n",
              "      filter: drop-shadow(0px 1px 2px rgba(0, 0, 0, 0.3));\n",
              "      fill: #FFFFFF;\n",
              "    }\n",
              "  </style>\n",
              "\n",
              "    <script>\n",
              "      const buttonEl =\n",
              "        document.querySelector('#df-693dd7ad-bd62-43c8-9868-f45f609583b5 button.colab-df-convert');\n",
              "      buttonEl.style.display =\n",
              "        google.colab.kernel.accessAllowed ? 'block' : 'none';\n",
              "\n",
              "      async function convertToInteractive(key) {\n",
              "        const element = document.querySelector('#df-693dd7ad-bd62-43c8-9868-f45f609583b5');\n",
              "        const dataTable =\n",
              "          await google.colab.kernel.invokeFunction('convertToInteractive',\n",
              "                                                    [key], {});\n",
              "        if (!dataTable) return;\n",
              "\n",
              "        const docLinkHtml = 'Like what you see? Visit the ' +\n",
              "          '<a target=\"_blank\" href=https://colab.research.google.com/notebooks/data_table.ipynb>data table notebook</a>'\n",
              "          + ' to learn more about interactive tables.';\n",
              "        element.innerHTML = '';\n",
              "        dataTable['output_type'] = 'display_data';\n",
              "        await google.colab.output.renderOutput(dataTable, element);\n",
              "        const docLink = document.createElement('div');\n",
              "        docLink.innerHTML = docLinkHtml;\n",
              "        element.appendChild(docLink);\n",
              "      }\n",
              "    </script>\n",
              "  </div>\n",
              "\n",
              "\n",
              "<div id=\"df-d8639eb9-0a35-4bf2-82d3-dce7cad353f3\">\n",
              "  <button class=\"colab-df-quickchart\" onclick=\"quickchart('df-d8639eb9-0a35-4bf2-82d3-dce7cad353f3')\"\n",
              "            title=\"Suggest charts\"\n",
              "            style=\"display:none;\">\n",
              "\n",
              "<svg xmlns=\"http://www.w3.org/2000/svg\" height=\"24px\"viewBox=\"0 0 24 24\"\n",
              "     width=\"24px\">\n",
              "    <g>\n",
              "        <path d=\"M19 3H5c-1.1 0-2 .9-2 2v14c0 1.1.9 2 2 2h14c1.1 0 2-.9 2-2V5c0-1.1-.9-2-2-2zM9 17H7v-7h2v7zm4 0h-2V7h2v10zm4 0h-2v-4h2v4z\"/>\n",
              "    </g>\n",
              "</svg>\n",
              "  </button>\n",
              "\n",
              "<style>\n",
              "  .colab-df-quickchart {\n",
              "      --bg-color: #E8F0FE;\n",
              "      --fill-color: #1967D2;\n",
              "      --hover-bg-color: #E2EBFA;\n",
              "      --hover-fill-color: #174EA6;\n",
              "      --disabled-fill-color: #AAA;\n",
              "      --disabled-bg-color: #DDD;\n",
              "  }\n",
              "\n",
              "  [theme=dark] .colab-df-quickchart {\n",
              "      --bg-color: #3B4455;\n",
              "      --fill-color: #D2E3FC;\n",
              "      --hover-bg-color: #434B5C;\n",
              "      --hover-fill-color: #FFFFFF;\n",
              "      --disabled-bg-color: #3B4455;\n",
              "      --disabled-fill-color: #666;\n",
              "  }\n",
              "\n",
              "  .colab-df-quickchart {\n",
              "    background-color: var(--bg-color);\n",
              "    border: none;\n",
              "    border-radius: 50%;\n",
              "    cursor: pointer;\n",
              "    display: none;\n",
              "    fill: var(--fill-color);\n",
              "    height: 32px;\n",
              "    padding: 0;\n",
              "    width: 32px;\n",
              "  }\n",
              "\n",
              "  .colab-df-quickchart:hover {\n",
              "    background-color: var(--hover-bg-color);\n",
              "    box-shadow: 0 1px 2px rgba(60, 64, 67, 0.3), 0 1px 3px 1px rgba(60, 64, 67, 0.15);\n",
              "    fill: var(--button-hover-fill-color);\n",
              "  }\n",
              "\n",
              "  .colab-df-quickchart-complete:disabled,\n",
              "  .colab-df-quickchart-complete:disabled:hover {\n",
              "    background-color: var(--disabled-bg-color);\n",
              "    fill: var(--disabled-fill-color);\n",
              "    box-shadow: none;\n",
              "  }\n",
              "\n",
              "  .colab-df-spinner {\n",
              "    border: 2px solid var(--fill-color);\n",
              "    border-color: transparent;\n",
              "    border-bottom-color: var(--fill-color);\n",
              "    animation:\n",
              "      spin 1s steps(1) infinite;\n",
              "  }\n",
              "\n",
              "  @keyframes spin {\n",
              "    0% {\n",
              "      border-color: transparent;\n",
              "      border-bottom-color: var(--fill-color);\n",
              "      border-left-color: var(--fill-color);\n",
              "    }\n",
              "    20% {\n",
              "      border-color: transparent;\n",
              "      border-left-color: var(--fill-color);\n",
              "      border-top-color: var(--fill-color);\n",
              "    }\n",
              "    30% {\n",
              "      border-color: transparent;\n",
              "      border-left-color: var(--fill-color);\n",
              "      border-top-color: var(--fill-color);\n",
              "      border-right-color: var(--fill-color);\n",
              "    }\n",
              "    40% {\n",
              "      border-color: transparent;\n",
              "      border-right-color: var(--fill-color);\n",
              "      border-top-color: var(--fill-color);\n",
              "    }\n",
              "    60% {\n",
              "      border-color: transparent;\n",
              "      border-right-color: var(--fill-color);\n",
              "    }\n",
              "    80% {\n",
              "      border-color: transparent;\n",
              "      border-right-color: var(--fill-color);\n",
              "      border-bottom-color: var(--fill-color);\n",
              "    }\n",
              "    90% {\n",
              "      border-color: transparent;\n",
              "      border-bottom-color: var(--fill-color);\n",
              "    }\n",
              "  }\n",
              "</style>\n",
              "\n",
              "  <script>\n",
              "    async function quickchart(key) {\n",
              "      const quickchartButtonEl =\n",
              "        document.querySelector('#' + key + ' button');\n",
              "      quickchartButtonEl.disabled = true;  // To prevent multiple clicks.\n",
              "      quickchartButtonEl.classList.add('colab-df-spinner');\n",
              "      try {\n",
              "        const charts = await google.colab.kernel.invokeFunction(\n",
              "            'suggestCharts', [key], {});\n",
              "      } catch (error) {\n",
              "        console.error('Error during call to suggestCharts:', error);\n",
              "      }\n",
              "      quickchartButtonEl.classList.remove('colab-df-spinner');\n",
              "      quickchartButtonEl.classList.add('colab-df-quickchart-complete');\n",
              "    }\n",
              "    (() => {\n",
              "      let quickchartButtonEl =\n",
              "        document.querySelector('#df-d8639eb9-0a35-4bf2-82d3-dce7cad353f3 button');\n",
              "      quickchartButtonEl.style.display =\n",
              "        google.colab.kernel.accessAllowed ? 'block' : 'none';\n",
              "    })();\n",
              "  </script>\n",
              "</div>\n",
              "\n",
              "    </div>\n",
              "  </div>\n"
            ],
            "application/vnd.google.colaboratory.intrinsic+json": {
              "type": "dataframe",
              "summary": "{\n  \"name\": \"df[[\\\"\\u05d2\\u05d5\\u05e3 \\u05d4\\u05de\\u05e1\\u05de\\u05da \\u05d7\\u05ea\\u05d5\\u05da\\\", \\\"\\u05ea\\u05d5\\u05e6\\u05d0\\u05d4 \\u05de\\u05e1\\u05db\\u05de\\u05ea\\\"]]\",\n  \"rows\": 5,\n  \"fields\": [\n    {\n      \"column\": \"\\u05d2\\u05d5\\u05e3 \\u05d4\\u05de\\u05e1\\u05de\\u05da \\u05d7\\u05ea\\u05d5\\u05da\",\n      \"properties\": {\n        \"dtype\": \"string\",\n        \"num_unique_values\": 5,\n        \"samples\": [\n          \"['\\u05d4\\u05d7\\u05dc\\u05d8\\u05d4 \\u05d1\\u05ea\\u05d9\\u05e7 \\u05e8\\u05e2\\\"\\u05e4 1682/11 \\u05d1\\u05d1\\u05d9\\u05ea \\u05d4\\u05de\\u05e9\\u05e4\\u05d8 \\u05d4\\u05e2\\u05dc\\u05d9\\u05d5\\u05df \\u05e8\\u05e2\\\"\\u05e4 1682/11 \\u05d1\\u05e4\\u05e0\\u05d9: \\u05db\\u05d1\\u05d5\\u05d3 \\u05d4\\u05e9\\u05d5\\u05e4\\u05d8 \\u05e1\\\\' \\u05d2\\\\'\\u05d5\\u05d1\\u05e8\\u05d0\\u05df \\u05d4\\u05de\\u05d1\\u05e7\\u05e9: \\u05d5\\u05d0\\u05d9\\u05dc \\u05de\\u05d6\\u05e2\\u05e8\\u05d4 \\u05e0\\u05d2\\u05d3 \\u05d4\\u05de\\u05e9\\u05d9\\u05d1\\u05d4: \\u05de\\u05d3\\u05d9\\u05e0\\u05ea \\u05d9\\u05e9\\u05e8\\u05d0\\u05dc \\u05d1\\u05e7\\u05e9\\u05d4 \\u05dc\\u05d3\\u05d7\\u05d9\\u05d9\\u05ea \\u05de\\u05d5\\u05e2\\u05d3 \\u05ea\\u05d7\\u05d9\\u05dc\\u05ea \\u05e8\\u05d9\\u05e6\\u05d5\\u05d9 \\u05e2\\u05d5\\u05e0\\u05e9 \\u05d4\\u05de\\u05d0\\u05e1\\u05e8 \\u05d1\\u05e9\\u05dd \\u05d4\\u05de\\u05d1\\u05e7\\u05e9: \\u05e2\\u05d5\\\"\\u05d3 \\u05de\\u05d0\\u05dc\\u05d9\\u05e7 \\u05de\\u05e0\\u05e6\\u05d5\\u05e8 \\u05d4\\u05d7\\u05dc\\u05d8\\u05d4 \\u05d4\\u05d1\\u05e7\\u05e9\\u05d4 \\u05e0\\u05d3\\u05d7\\u05d9\\u05ea. \\u05e0\\u05d9\\u05ea\\u05e0\\u05d4 \\u05d4\\u05d9\\u05d5\\u05dd, \\u05db\\\"\\u05d4 \\u05d1\\u05d0\\u05d3\\u05e8 \\u05d1 \\u05d4\\u05ea\\u05e9\\u05e2\\\"\\u05d0 (31.3.2011). \\u05e9 \\u05d5 \\u05e4 \\u05d8 _________________________ \",\n          \"['\\u05d1\\u05d1\\u05d9\\u05ea \\u05d4\\u05de\\u05e9\\u05e4\\u05d8 \\u05d4\\u05e2\\u05dc\\u05d9\\u05d5\\u05df \\u05d1\\u05d9\\u05e8\\u05d5\\u05e9\\u05dc\\u05d9\\u05dd \\u05e8\\u05e2\\\"\\u05e4 9608/01 \\u05d1\\u05e4\\u05e0\\u05d9: \\u05db\\u05d1\\u05d5\\u05d3 \\u05d4\\u05e9\\u05d5\\u05e4\\u05d8 \\u05d0\\\\' \\u05e8\\u05d9\\u05d1\\u05dc\\u05d9\\u05df \\u05d4\\u05de\\u05d1\\u05e7\\u05e9\\u05d9\\u05dd: 1. \\u05d2\\u05e9\\u05de\\u05d9 \\u05d1\\u05e8\\u05db\\u05d4 \\u05d4.\\u05e9.\\u05d9.\\u05d2.(1995) 2. \\u05d2\\u05e9\\u05de\\u05d9 \\u05d1\\u05e8\\u05db\\u05d4 \\u05d1\\u05e2\\\"\\u05de 3. \\u05d4.\\u05e9.\\u05d9.\\u05d2.(1995)\\u05d9\\u05d6\\u05d5\\u05dd \\u05e4\\u05e8\\u05d5\\u05d9\\u05d9\\u05e7\\u05d8\\u05d9\\u05dd 4. \\u05e9\\u05e0\\u05d4\\u05d1 \\u05d6\\u05d0\\u05d1 \\u05e0\\u05d2\\u05d3 \\u05d4\\u05de\\u05e9\\u05d9\\u05d1\\u05d4: \\u05de\\u05d3\\u05d9\\u05e0\\u05ea \\u05d9\\u05e9\\u05e8\\u05d0\\u05dc \\u05d1\\u05e7\\u05e9\\u05ea \\u05e8\\u05e9\\u05d5\\u05ea \\u05e2\\u05e8\\u05e2\\u05d5\\u05e8 \\u05e2\\u05dc \\u05e4\\u05e1\\u05e7-\\u05d3\\u05d9\\u05e0\\u05d5 \\u05e9\\u05dc \\u05d1\\u05d9\\u05ea \\u05d4\\u05de\\u05e9\\u05e4\\u05d8 \\u05d4\\u05de\\u05d7\\u05d5\\u05d6\\u05d9 \\u05d1\\u05ea\\u05dc-\\u05d0\\u05d1\\u05d9\\u05d1-\\u05d9\\u05e4\\u05d5 \\u05de\\u05d9\\u05d5\\u05dd 23.10.2001 \\u05d1\\u05ea\\u05d9\\u05e7 \\u05e2\\u05e4\\\"\\u05d0 80190/01 \\u05e9\\u05e0\\u05d9\\u05ea\\u05df \\u05e2\\u05dc \\u05d9\\u05d3\\u05d9 \\u05db\\u05d1\\u05d5\\u05d3 \\u05d4\\u05e9\\u05d5\\u05e4\\u05d8\\u05d9\\u05dd: \\u05d3\\\\' \\u05d1\\u05e8\\u05dc\\u05d9\\u05e0\\u05e8, \\u05d6\\\\' \\u05d4\\u05de\\u05e8, \\u05d9\\\\' \\u05e9\\u05d8\\u05d5\\u05e4\\u05de\\u05df \\u05d1\\u05e9\\u05dd \\u05d4\\u05de\\u05d1\\u05e7\\u05e9\\u05d9\\u05dd: \\u05e2\\u05d5\\\"\\u05d3 \\u05e9\\u05e8\\u05d9\\u05ea \\u05e9\\u05dc\\u05de\\u05d5\\u05df \\u05d1\\u05e9\\u05dd \\u05d4\\u05de\\u05e9\\u05d9\\u05d1\\u05d4: \\u05e2\\u05d5\\\"\\u05d3 \\u05e2\\u05e0\\u05d1\\u05e8 \\u05e4\\u05dc\\u05e9 \\u05d4\\u05d7\\u05dc\\u05d8\\u05d4 \\u05d1\\u05d9\\u05ea \\u05d4\\u05de\\u05e9\\u05e4\\u05d8 \\u05dc\\u05e2\\u05e0\\u05d9\\u05d9\\u05e0\\u05d9\\u05dd \\u05de\\u05e7\\u05d5\\u05de\\u05d9\\u05d9\\u05dd \\u05d1\\u05e4\\u05ea\\u05d7 \\u05ea\\u05e7\\u05d5\\u05d4 (\\u05db\\u05d1\\u05d5\\u05d3 \\u05d4\\u05e9\\u05d5\\u05e4\\u05d8 \\u05d2\\\\' \\u05e9\\u05d8\\u05e8\\u05e1\\u05de\\u05df) \\u05d1\\u05d9\\u05d8\\u05dc \\u05d0\\u05ea \\u05db\\u05ea\\u05d1 \\u05d4\\u05d0\\u05d9\\u05e9\\u05d5\\u05dd \\u05e9\\u05d4\\u05d5\\u05d2\\u05e9 \\u05db\\u05e0\\u05d2\\u05d3 \\u05d4\\u05de\\u05d1\\u05e7\\u05e9\\u05d9\\u05dd, \\u05d5\\u05d4\\u05de\\u05d9\\u05d9\\u05d7\\u05e1 \\u05dc\\u05d4\\u05dd \\u05d1\\u05d9\\u05e6\\u05d5\\u05e2 \\u05e2\\u05d1\\u05d9\\u05e8\\u05d5\\u05ea \\u05d8\\u05e2\\u05d5\\u05e0\\u05d5\\u05ea \\u05d4\\u05d9\\u05ea\\u05e8 \\u05d1\\u05e1\\u05d8\\u05d9\\u05d4 \\u05de\\u05d4\\u05d9\\u05ea\\u05e8 \\u05d0\\u05d5 \\u05de\\u05ea\\u05db\\u05e0\\u05d9\\u05ea. \\u05e2\\u05e8\\u05e2\\u05d5\\u05e8\\u05d4 \\u05e9\\u05dc \\u05d4\\u05de\\u05d3\\u05d9\\u05e0\\u05d4 \\u05e2\\u05dc \\u05d4\\u05d7\\u05dc\\u05d8\\u05d4 \\u05d6\\u05d5, \\u05dc\\u05d1\\u05d9\\u05ea \\u05d4\\u05de\\u05e9\\u05e4\\u05d8 \\u05d4\\u05de\\u05d7\\u05d5\\u05d6\\u05d9 \\u05d1\\u05ea\\u05dc-\\u05d0\\u05d1\\u05d9\\u05d1 (\\u05db\\u05d1\\u05d5\\u05d3 \\u05d4\\u05e9\\u05d5\\u05e4\\u05d8\\u05d9\\u05dd \\u05d3\\\\' \\u05d1\\u05e8\\u05dc\\u05d9\\u05e0\\u05e8, \\u05d6\\\\' \\u05d4\\u05de\\u05e8 \\u05d5\\u05d9\\\\' \\u05e9\\u05d8\\u05d5\\u05e4\\u05de\\u05df) - \\u05d4\\u05ea\\u05e7\\u05d1\\u05dc. \\u05d4\\u05d4\\u05d7\\u05dc\\u05d8\\u05d4 \\u05d1\\u05d3\\u05d1\\u05e8 \\u05d1\\u05d9\\u05d8\\u05d5\\u05dc \\u05db\\u05ea\\u05d1 \\u05d4\\u05d0\\u05d9\\u05e9\\u05d5\\u05dd \\u05d1\\u05d5\\u05d8\\u05dc\\u05d4, \\u05d5\\u05d4\\u05d3\\u05d9\\u05d5\\u05df \\u05d4\\u05d5\\u05d7\\u05d6\\u05e8 \\u05dc\\u05d1\\u05d9\\u05ea \\u05d4\\u05de\\u05e9\\u05e4\\u05d8 \\u05dc\\u05e2\\u05e0\\u05d9\\u05d9\\u05e0\\u05d9\\u05dd \\u05de\\u05e7\\u05d5\\u05de\\u05d9\\u05d9\\u05dd, \\u05dc\\u05d4\\u05de\\u05e9\\u05da \\u05d1\\u05d9\\u05e8\\u05d5\\u05e8\\u05d5 \\u05dc\\u05de\\u05df \\u05d4\\u05e9\\u05dc\\u05d1 \\u05d0\\u05dc\\u05d9\\u05d5 \\u05d4\\u05d2\\u05d9\\u05e2. \\u05db\\u05e0\\u05d2\\u05d3 \\u05e4\\u05e1\\u05e7-\\u05d3\\u05d9\\u05e0\\u05d5 \\u05e9\\u05dc \\u05d1\\u05d9\\u05ea \\u05d4\\u05de\\u05e9\\u05e4\\u05d8 \\u05d4\\u05de\\u05d7\\u05d5\\u05d6\\u05d9 \\u05de\\u05d5\\u05e4\\u05e0\\u05d9\\u05ea \\u05d4\\u05d1\\u05e7\\u05e9\\u05d4 \\u05e9\\u05dc\\u05e4\\u05e0\\u05d9\\u05e0\\u05d5. \\u05d3\\u05d0 \\u05e2\\u05e7\\u05d0, \\u05de\\u05e9\\u05d8\\u05e8\\u05dd \\u05e0\\u05ea\\u05d1\\u05e8\\u05e8, \\u05d5\\u05de\\u05de\\u05d9\\u05dc\\u05d0 \\u05d8\\u05e8\\u05dd \\u05d4\\u05d5\\u05db\\u05e8\\u05e2, \\u05e2\\u05e0\\u05d9\\u05d9\\u05e0\\u05dd \\u05e9\\u05dc \\u05d4\\u05de\\u05d1\\u05e7\\u05e9\\u05d9\\u05dd - \\u05dc\\u05d2\\u05d5\\u05e4\\u05d5 - \\u05d1\\u05e2\\u05e8\\u05db\\u05d0\\u05d4 \\u05d4\\u05e8\\u05d0\\u05e9\\u05d5\\u05e0\\u05d4, \\u05d0\\u05d9\\u05df \\u05de\\u05e7\\u05d5\\u05dd \\u05dc\\u05d3\\u05d5\\u05df \\u05d1\\u05d8\\u05e2\\u05e0\\u05d5\\u05ea\\u05d9\\u05d4\\u05dd \\u05d1\\u05e4\\u05e0\\u05d9 \\u05d1\\u05d9\\u05ea \\u05de\\u05e9\\u05e4\\u05d8 \\u05d6\\u05d4. \\u05dc\\u05d0\\u05d7\\u05e8 \\u05e9\\u05d9\\u05de\\u05d5\\u05e6\\u05d5 \\u05d4\\u05d4\\u05dc\\u05d9\\u05db\\u05d9\\u05dd \\u05d1\\u05d1\\u05d9\\u05ea \\u05de\\u05e9\\u05e4\\u05d8 \\u05d4\\u05e9\\u05dc\\u05d5\\u05dd, \\u05d5\\u05d0\\u05dd \\u05d9\\u05d4\\u05d9\\u05d4 \\u05e6\\u05d5\\u05e8\\u05da \\u05d2\\u05dd \\u05d1\\u05d1\\u05d9\\u05ea \\u05d4\\u05de\\u05e9\\u05e4\\u05d8 \\u05d4\\u05de\\u05d7\\u05d5\\u05d6\\u05d9 - \\u05d9\\u05d4\\u05d9\\u05d5 \\u05e8\\u05e9\\u05d0\\u05d9\\u05dd \\u05d4\\u05de\\u05d1\\u05e7\\u05e9\\u05d9\\u05dd - \\u05e9\\u05d5\\u05d1, \\u05d0\\u05dd \\u05d9\\u05d4\\u05d9\\u05d4 \\u05e6\\u05d5\\u05e8\\u05da - \\u05dc\\u05e4\\u05e0\\u05d5\\u05ea \\u05dc\\u05d1\\u05d9\\u05ea \\u05de\\u05e9\\u05e4\\u05d8 \\u05d6\\u05d4 \\u05d1\\u05d1\\u05e7\\u05e9\\u05ea \\u05e8\\u05e9\\u05d5\\u05ea \\u05e2\\u05e8\\u05e2\\u05d5\\u05e8 (\\u05e8\\u05d0\\u05d5 \\u05e8\\u05e2\\\"\\u05e4 4632/97 \\u05d0\\u05e7\\u05e1\\u05dc\\u05e8\\u05d5\\u05d3 \\u05e0\\\\' \\u05de\\u05d3\\u05d9\\u05e0\\u05ea \\u05d9\\u05e9\\u05e8\\u05d0\\u05dc (\\u05ea\\u05e7-\\u05e2\\u05dc 97(3) 118)). \\u05e0\\u05d9\\u05ea\\u05e0\\u05d4 \\u05d4\\u05d9\\u05d5\\u05dd, \\u05d4\\\\' \\u05d1\\u05d0\\u05d3\\u05e8 \\u05ea\\u05e9\\u05e1\\\"\\u05d1 (17.2.2002). \\u05e9 \\u05d5 \\u05e4 \\u05d8 _________________ \\u05d4\\u05e2\\u05ea\\u05e7 \\u05de\\u05ea\\u05d0\\u05d9\\u05dd \\u05dc\\u05de\\u05e7\\u05d5\\u05e8 01096080.P02 /\\u05d0\\u05de \\u05e0\\u05d5\\u05e1\\u05d7 \\u05d6\\u05d4 \\u05db\\u05e4\\u05d5\\u05e3 \\u05dc\\u05e9\\u05d9\\u05e0\\u05d5\\u05d9\\u05d9 \\u05e2\\u05e8\\u05d9\\u05db\\u05d4 \\u05d5\\u05e0\\u05d9\\u05e1\\u05d5\\u05d7. \\u05e9\\u05de\\u05e8\\u05d9\\u05d4\\u05d5 \\u05db\\u05d4\\u05df - \\u05de\\u05d6\\u05db\\u05d9\\u05e8 \\u05e8\\u05d0\\u05e9\\u05d9 \\u05d1\\u05d1\\u05d9\\u05ea \\u05d4\\u05de\\u05e9\\u05e4\\u05d8 \\u05d4\\u05e2\\u05dc\\u05d9\\u05d5\\u05df \\u05e4\\u05d5\\u05e2\\u05dc \\u05de\\u05e8\\u05db\\u05d6 \\u05de\\u05d9\\u05d3\\u05e2, \\u05d8\\u05dc\\\\' 02-6750444 \\u05d1\\u05d9\\u05ea \\u05d4\\u05de\\u05e9\\u05e4\\u05d8 \\u05e4\\u05ea\\u05d5\\u05d7 \\u05dc\\u05d4\\u05e2\\u05e8\\u05d5\\u05ea \\u05d5\\u05d4\\u05e6\\u05e2\\u05d5\\u05ea: pniot@supreme.court.gov.il \\u05dc\\u05d1\\u05ea\\u05d9 \\u05d4\\u05de\\u05e9\\u05e4\\u05d8 \\u05d0\\u05ea\\u05e8 \\u05d1\\u05d0\\u05d9\\u05e0\\u05d8\\u05e8\\u05e0\\u05d8: www.court.gov.il']\",\n          \"['\\u05d4\\u05d7\\u05dc\\u05d8\\u05d4 \\u05d1\\u05ea\\u05d9\\u05e7 \\u05d1\\u05e9\\\"\\u05e4 1092/17 \\u05d1\\u05d1\\u05d9\\u05ea \\u05d4\\u05de\\u05e9\\u05e4\\u05d8 \\u05d4\\u05e2\\u05dc\\u05d9\\u05d5\\u05df \\u05e8\\u05e2\\\"\\u05e4 1092/17 \\u05dc\\u05e4\\u05e0\\u05d9: \\u05db\\u05d1\\u05d5\\u05d3 \\u05d4\\u05e9\\u05d5\\u05e4\\u05d8\\u05ea \\u05d3\\\\' \\u05d1\\u05e8\\u05e7-\\u05d0\\u05e8\\u05d6 \\u05d4\\u05de\\u05e2\\u05e8\\u05e2\\u05e8\\u05d9\\u05dd: 1. \\u05db\\u05e4\\u05d9\\u05e8 \\u05d3\\u05d4\\u05df 2. \\u05e9\\u05d9\\u05e8\\u05d4 \\u05d3\\u05d4\\u05df \\u05e0\\u05d2\\u05d3 \\u05d4\\u05de\\u05e9\\u05d9\\u05d1\\u05d4: \\u05d4\\u05d5\\u05d5\\u05e2\\u05d3\\u05d4 \\u05d4\\u05de\\u05e7\\u05d5\\u05de\\u05d9\\u05ea \\u05dc\\u05ea\\u05db\\u05e0\\u05d5\\u05df \\u05d5\\u05d1\\u05e0\\u05d9\\u05d4 \\u05de\\u05d8\\u05d4 \\u05d9\\u05d4\\u05d5\\u05d3\\u05d4 \\u05d1\\u05e7\\u05e9\\u05ea \\u05e8\\u05e9\\u05d5\\u05ea \\u05e2\\u05e8\\u05e2\\u05d5\\u05e8 \\u05e2\\u05dc \\u05e4\\u05e1\\u05e7 \\u05d3\\u05d9\\u05e0\\u05d5 \\u05e9\\u05dc \\u05d1\\u05d9\\u05ea \\u05d4\\u05de\\u05e9\\u05e4\\u05d8 \\u05d4\\u05de\\u05d7\\u05d5\\u05d6\\u05d9 \\u05d1\\u05d9\\u05e8\\u05d5\\u05e9\\u05dc\\u05d9\\u05dd \\u05de\\u05d9\\u05d5\\u05dd 30.1.2017 \\u05d1\\u05e2\\\"\\u05e4 23940-12-16 \\u05e9\\u05e0\\u05d9\\u05ea\\u05df \\u05e2\\u05dc-\\u05d9\\u05d3\\u05d9 \\u05db\\u05d1\\u05d5\\u05d3 \\u05d4\\u05e9\\u05d5\\u05e4\\u05d8 \\u05d7\\\\' \\u05de\\\\' \\u05dc\\u05d5\\u05de\\u05e4 \\u05d1\\u05e9\\u05dd \\u05d4\\u05de\\u05e2\\u05e8\\u05e2\\u05e8\\u05d9\\u05dd: \\u05d1\\u05e2\\u05e6\\u05de\\u05dd \\u05d1\\u05e9\\u05dd \\u05d4\\u05de\\u05e9\\u05d9\\u05d1\\u05d4: \\u05e2\\u05d5\\\"\\u05d3 \\u05e8\\u05e2\\u05d5\\u05ea \\u05d0\\u05d4\\u05e8\\u05d5\\u05df, \\u05e2\\u05d5\\\"\\u05d3 \\u05de\\u05d0\\u05d9\\u05e8 \\u05d1\\u05df \\u05d3\\u05d5\\u05d3 \\u05e4\\u05e1\\u05e7 \\u05d3\\u05d9\\u05df 1. \\u05d4\\u05d1\\u05e7\\u05e9\\u05d4 \\u05e9\\u05d1\\u05e4\\u05e0\\u05d9 \\u05e0\\u05e7\\u05dc\\u05d8\\u05d4 \\u05d1\\u05de\\u05d6\\u05db\\u05d9\\u05e8\\u05d5\\u05ea \\u05d1\\u05d9\\u05ea \\u05d4\\u05de\\u05e9\\u05e4\\u05d8, \\u05d1\\u05d8\\u05e2\\u05d5\\u05ea, \\u05ea\\u05d7\\u05ea \\u05d4\\u05e1\\u05d9\\u05d5\\u05d5\\u05d2 \\u05d1\\u05e9\\\"\\u05e4. \\u05d4\\u05dc\\u05db\\u05d4 \\u05dc\\u05de\\u05e2\\u05e9\\u05d4, \\u05de\\u05d3\\u05d5\\u05d1\\u05e8 \\u05d1\\u05d1\\u05e7\\u05e9\\u05ea \\u05e8\\u05e9\\u05d5\\u05ea \\u05dc\\u05e2\\u05e8\\u05e2\\u05e8 \\u05e2\\u05dc \\u05e4\\u05e1\\u05e7 \\u05d3\\u05d9\\u05e0\\u05d5 \\u05e9\\u05dc \\u05d1\\u05d9\\u05ea \\u05d4\\u05de\\u05e9\\u05e4\\u05d8 \\u05d4\\u05de\\u05d7\\u05d5\\u05d6\\u05d9 \\u05d1\\u05d9\\u05e8\\u05d5\\u05e9\\u05dc\\u05d9\\u05dd \\u05de\\u05d9\\u05d5\\u05dd 30.1.2017 (\\u05e2\\\"\\u05e4 23940-12-16, \\u05d4\\u05e9\\u05d5\\u05e4\\u05d8\\u05ea \\u05d7\\\\' \\u05de\\\\' \\u05dc\\u05d5\\u05de\\u05e4). \\u05e1\\u05d9\\u05d5\\u05d5\\u05d2\\u05d4 \\u05d4\\u05e8\\u05d0\\u05d5\\u05d9 \\u05d0\\u05e4\\u05d5\\u05d0 \\u05d4\\u05d5\\u05d0 \\u05e8\\u05e2\\\"\\u05e4, \\u05d5\\u05db\\u05da \\u05d0\\u05e0\\u05d9 \\u05de\\u05d5\\u05e8\\u05d4. 2. \\u05de\\u05e7\\u05d5\\u05e8\\u05d5 \\u05e9\\u05dc \\u05d4\\u05d4\\u05dc\\u05d9\\u05da \\u05d3\\u05e0\\u05df \\u05d4\\u05d5\\u05d0 \\u05d1\\u05d1\\u05e7\\u05e9\\u05d4 \\u05dc\\u05de\\u05ea\\u05df \\u05d0\\u05d5\\u05e8\\u05db\\u05d4 \\u05dc\\u05d1\\u05d9\\u05e6\\u05d5\\u05e2\\u05d5 \\u05e9\\u05dc \\u05e6\\u05d5 \\u05d4\\u05d4\\u05e8\\u05d9\\u05e1\\u05d4 \\u05e9\\u05d4\\u05d5\\u05e6\\u05d0 \\u05d1\\u05d9\\u05d7\\u05e1 \\u05dc\\u05de\\u05d1\\u05e0\\u05d4 \\u05d4\\u05d9\\u05d1\\u05d9\\u05dc \\u05e9\\u05d1\\u05d5 \\u05de\\u05ea\\u05d2\\u05d5\\u05e8\\u05e8\\u05d9\\u05dd \\u05d4\\u05de\\u05d1\\u05e7\\u05e9\\u05d9\\u05dd \\u05d1\\u05de\\u05e1\\u05d2\\u05e8\\u05ea \\u05d4\\u05dc\\u05d9\\u05da \\u05e4\\u05dc\\u05d9\\u05dc\\u05d9 \\u05dc\\u05e4\\u05d9 \\u05d7\\u05d5\\u05e7 \\u05d4\\u05ea\\u05db\\u05e0\\u05d5\\u05df \\u05d5\\u05d4\\u05d1\\u05e0\\u05d9\\u05d4, \\u05d4\\u05ea\\u05e9\\u05db\\\"\\u05d4-1965. \\u05d4\\u05d1\\u05e7\\u05e9\\u05d4 \\u05e0\\u05d3\\u05d7\\u05ea\\u05d4 \\u05e2\\u05dc \\u05d9\\u05d3\\u05d9 \\u05d1\\u05d9\\u05ea \\u05d4\\u05de\\u05e9\\u05e4\\u05d8 \\u05dc\\u05e2\\u05e0\\u05d9\\u05d9\\u05e0\\u05d9\\u05dd \\u05de\\u05e7\\u05d5\\u05de\\u05d9\\u05d9\\u05dd \\u05d1\\u05d1\\u05d9\\u05ea \\u05e9\\u05de\\u05e9 \\u05d5\\u05e2\\u05dc \\u05db\\u05df \\u05d4\\u05d2\\u05d9\\u05e9\\u05d5 \\u05d4\\u05de\\u05d1\\u05e7\\u05e9\\u05d9\\u05dd \\u05e2\\u05e8\\u05e2\\u05d5\\u05e8 \\u05dc\\u05d1\\u05d9\\u05ea \\u05d4\\u05de\\u05e9\\u05e4\\u05d8 \\u05d4\\u05de\\u05d7\\u05d5\\u05d6\\u05d9, \\u05d0\\u05e9\\u05e8 \\u05e7\\u05d1\\u05e2 \\u05db\\u05d9 \\u05ea\\u05d9\\u05e0\\u05ea\\u05df \\u05dc\\u05de\\u05d1\\u05e7\\u05e9\\u05d9\\u05dd \\u05d0\\u05d5\\u05e8\\u05db\\u05d4 \\u05dc\\u05e4\\u05e0\\u05d5\\u05ea \\u05d0\\u05ea \\u05d4\\u05de\\u05d1\\u05e0\\u05d4 \\u05e2\\u05d3 \\u05dc\\u05d9\\u05d5\\u05dd 1.4.2017 \\u05d5\\u05dc\\u05d4\\u05e8\\u05e1\\u05d5 \\u05e2\\u05d3 \\u05dc\\u05d9\\u05d5\\u05dd 2.5.2017. \\u05dc\\u05d0\\u05d7\\u05e8 \\u05de\\u05db\\u05df \\u05d4\\u05de\\u05d1\\u05e7\\u05e9\\u05d9\\u05dd \\u05d4\\u05d2\\u05d9\\u05e9\\u05d5 \\u05d1\\u05e7\\u05e9\\u05ea \\u05d0\\u05d5\\u05e8\\u05db\\u05d4 \\u05e0\\u05d5\\u05e1\\u05e4\\u05ea \\u05dc\\u05d1\\u05d9\\u05ea \\u05d4\\u05de\\u05e9\\u05e4\\u05d8 \\u05d4\\u05de\\u05d7\\u05d5\\u05d6\\u05d9, \\u05d5\\u05d6\\u05d5 \\u05e0\\u05d3\\u05d7\\u05ea\\u05d4. \\u05e2\\u05dc \\u05db\\u05da \\u05e0\\u05e1\\u05d1\\u05d4 \\u05d4\\u05d1\\u05e7\\u05e9\\u05d4 \\u05e9\\u05d1\\u05e4\\u05e0\\u05d9. 3. \\u05d1\\u05ea\\u05e9\\u05d5\\u05d1\\u05d4 \\u05e9\\u05d4\\u05d5\\u05d2\\u05e9\\u05d4 \\u05de\\u05d8\\u05e2\\u05dd \\u05d4\\u05de\\u05e9\\u05d9\\u05d1\\u05d4 \\u05e6\\u05d5\\u05d9\\u05df \\u05db\\u05d9 \\u05d4\\u05de\\u05e7\\u05e8\\u05d4 \\u05d4\\u05e2\\u05d5\\u05de\\u05d3 \\u05d1\\u05d9\\u05e1\\u05d5\\u05d3 \\u05d4\\u05d4\\u05dc\\u05d9\\u05da \\u05db\\u05e8\\u05d5\\u05da \\u05d1\\u05e0\\u05e1\\u05d9\\u05d1\\u05d5\\u05ea \\u05d0\\u05d9\\u05e9\\u05d9\\u05d5\\u05ea \\u05d5\\u05de\\u05e9\\u05e4\\u05d7\\u05ea\\u05d9\\u05d5\\u05ea \\u05d7\\u05e8\\u05d9\\u05d2\\u05d5\\u05ea \\u05d5\\u05e7\\u05e9\\u05d5\\u05ea \\u05d5\\u05e2\\u05dc \\u05db\\u05df \\u05d4\\u05d9\\u05d0 \\u05de\\u05d1\\u05e7\\u05e9\\u05ea \\u05dc\\u05d4\\u05d5\\u05ea\\u05d9\\u05e8 \\u05d0\\u05ea \\u05d4\\u05d4\\u05db\\u05e8\\u05e2\\u05d4 \\u05d1\\u05d5 \\u05dc\\u05e9\\u05d9\\u05e7\\u05d5\\u05dc \\u05d3\\u05e2\\u05ea\\u05d5 \\u05e9\\u05dc \\u05d1\\u05d9\\u05ea \\u05d4\\u05de\\u05e9\\u05e4\\u05d8. \\u05d1\\u05d4\\u05ea\\u05d7\\u05e9\\u05d1 \\u05d1\\u05db\\u05da \\u05d5\\u05dc\\u05d0\\u05d7\\u05e8 \\u05e9\\u05d1\\u05d7\\u05e0\\u05ea\\u05d9 \\u05d0\\u05ea \\u05de\\u05db\\u05dc\\u05d5\\u05dc \\u05d4\\u05e0\\u05e1\\u05d9\\u05d1\\u05d5\\u05ea \\u05d4\\u05e2\\u05e0\\u05d9\\u05d9\\u05df, \\u05d0\\u05e0\\u05d9 \\u05de\\u05d5\\u05e8\\u05d4 \\u05e2\\u05dc \\u05de\\u05ea\\u05df \\u05d0\\u05d5\\u05e8\\u05db\\u05d4 \\u05e0\\u05d5\\u05e1\\u05e4\\u05ea \\u05dc\\u05de\\u05d1\\u05e7\\u05e9\\u05d9\\u05dd \\u05dc\\u05e4\\u05e0\\u05d5\\u05ea \\u05d0\\u05ea \\u05d4\\u05de\\u05d1\\u05e0\\u05d4 \\u05e2\\u05d3 \\u05dc\\u05d9\\u05d5\\u05dd 1.7.2017 \\u05d5\\u05dc\\u05d4\\u05e8\\u05e1\\u05d5 \\u05e2\\u05d3 \\u05dc\\u05d9\\u05d5\\u05dd 2.8.2017 (\\u05d1\\u05ea\\u05e0\\u05d0\\u05d9\\u05dd \\u05e9\\u05e0\\u05e7\\u05d1\\u05e2\\u05d5 \\u05d1\\u05e4\\u05e1\\u05e7 \\u05d3\\u05d9\\u05e0\\u05d5 \\u05e9\\u05dc \\u05d1\\u05d9\\u05ea \\u05d4\\u05de\\u05e9\\u05e4\\u05d8 \\u05d4\\u05de\\u05d7\\u05d5\\u05d6\\u05d9). 4. \\u05d4\\u05d1\\u05e7\\u05e9\\u05d4 \\u05de\\u05ea\\u05e7\\u05d1\\u05dc\\u05ea \\u05d0\\u05e4\\u05d5\\u05d0 \\u05db\\u05de\\u05e4\\u05d5\\u05e8\\u05d8 \\u05d1\\u05e4\\u05e1\\u05e7\\u05d4 3. \\u05e2\\u05dc \\u05d4\\u05de\\u05d1\\u05e7\\u05e9\\u05d9\\u05dd \\u05dc\\u05d4\\u05d1\\u05d9\\u05df \\u05db\\u05d9 \\u05d4\\u05d4\\u05d9\\u05e2\\u05e0\\u05d5\\u05ea \\u05dc\\u05d1\\u05e7\\u05e9\\u05ea\\u05dd \\u05d4\\u05ea\\u05d0\\u05e4\\u05e9\\u05e8\\u05d4 \\u05dc\\u05e0\\u05d5\\u05db\\u05d7 \\u05d4\\u05e2\\u05de\\u05d3\\u05d4 \\u05e9\\u05d2\\u05d9\\u05dc\\u05ea\\u05d4 \\u05d4\\u05de\\u05e9\\u05d9\\u05d1\\u05d4, \\u05d5\\u05db\\u05d9 \\u05d0\\u05dc \\u05dc\\u05d4\\u05dd \\u05dc\\u05e6\\u05e4\\u05d5\\u05ea \\u05dc\\u05db\\u05dc \\u05d4\\u05e7\\u05dc\\u05d5\\u05ea \\u05e0\\u05d5\\u05e1\\u05e4\\u05d5\\u05ea, \\u05d0\\u05dc\\u05d0 \\u05dc\\u05d4\\u05d9\\u05e2\\u05e8\\u05da \\u05dc\\u05d1\\u05d9\\u05e6\\u05d5\\u05e2 \\u05d4\\u05e6\\u05d5 \\u05d4\\u05e9\\u05d9\\u05e4\\u05d5\\u05d8\\u05d9, \\u05de\\u05e9\\u05ea\\u05de\\u05d5 \\u05d4\\u05d4\\u05dc\\u05d9\\u05db\\u05d9\\u05dd \\u05db\\u05d5\\u05dc\\u05dd. \\u05e0\\u05d9\\u05ea\\u05df \\u05d4\\u05d9\\u05d5\\u05dd, \\\\u200f\\u05d9\\\"\\u05d8 \\u05d1\\u05e9\\u05d1\\u05d8 \\u05d4\\u05ea\\u05e9\\u05e2\\\"\\u05d6 (\\\\u200f15.2.2017). \\u05e9 \\u05d5 \\u05e4 \\u05d8 \\u05ea _________________________ \"\n        ],\n        \"semantic_type\": \"\",\n        \"description\": \"\"\n      }\n    },\n    {\n      \"column\": \"\\u05ea\\u05d5\\u05e6\\u05d0\\u05d4 \\u05de\\u05e1\\u05db\\u05de\\u05ea\",\n      \"properties\": {\n        \"dtype\": \"string\",\n        \"num_unique_values\": 5,\n        \"samples\": [\n          \"\\u05d1\\u05e7\\u05e9\\u05d4 \\u05d0\\u05d7\\u05e8\\u05ea\\n\\u05d1\\u05e7\\u05e9\\u05d4 \\u05dc\\u05d3\\u05d7\\u05d9\\u05d9\\u05ea \\u05de\\u05d5\\u05e2\\u05d3 \\u05ea\\u05d7\\u05d9\\u05dc\\u05ea \\u05e8\\u05d9\\u05e6\\u05d5\\u05d9 \\u05e2\\u05d5\\u05e0\\u05e9 \\u05d4\\u05de\\u05d0\\u05e1\\u05e8\",\n          \"\\u05d3\\u05d0 \\u05e2\\u05e7\\u05d0, \\u05de\\u05e9\\u05d8\\u05e8\\u05dd \\u05e0\\u05ea\\u05d1\\u05e8\\u05e8, \\u05d5\\u05de\\u05de\\u05d9\\u05dc\\u05d0 \\u05d8\\u05e8\\u05dd \\u05d4\\u05d5\\u05db\\u05e8\\u05e2, \\u05e2\\u05e0\\u05d9\\u05d9\\u05e0\\u05dd \\u05e9\\u05dc \\u05d4\\u05de\\u05d1\\u05e7\\u05e9\\u05d9\\u05dd - \\u05dc\\u05d2\\u05d5\\u05e4\\u05d5 - \\u05d1\\u05e2\\u05e8\\u05db\\u05d0\\u05d4 \\u05d4\\u05e8\\u05d0\\u05e9\\u05d5\\u05e0\\u05d4, \\u05d0\\u05d9\\u05df \\u05de\\u05e7\\u05d5\\u05dd \\u05dc\\u05d3\\u05d5\\u05df \\u05d1\\u05d8\\u05e2\\u05e0\\u05d5\\u05ea\\u05d9\\u05d4\\u05dd \\u05d1\\u05e4\\u05e0\\u05d9 \\u05d1\\u05d9\\u05ea \\u05de\\u05e9\\u05e4\\u05d8 \\u05d6\\u05d4. \\u05dc\\u05d0\\u05d7\\u05e8 \\u05e9\\u05d9\\u05de\\u05d5\\u05e6\\u05d5 \\u05d4\\u05d4\\u05dc\\u05d9\\u05db\\u05d9\\u05dd \\u05d1\\u05d1\\u05d9\\u05ea \\u05de\\u05e9\\u05e4\\u05d8 \\u05d4\\u05e9\\u05dc\\u05d5\\u05dd, \\u05d5\\u05d0\\u05dd \\u05d9\\u05d4\\u05d9\\u05d4 \\u05e6\\u05d5\\u05e8\\u05da \\u05d2\\u05dd \\u05d1\\u05d1\\u05d9\\u05ea \\u05d4\\u05de\\u05e9\\u05e4\\u05d8 \\u05d4\\u05de\\u05d7\\u05d5\\u05d6\\u05d9 - \\u05d9\\u05d4\\u05d9\\u05d5 \\u05e8\\u05e9\\u05d0\\u05d9\\u05dd \\u05d4\\u05de\\u05d1\\u05e7\\u05e9\\u05d9\\u05dd - \\u05e9\\u05d5\\u05d1, \\u05d0\\u05dd \\u05d9\\u05d4\\u05d9\\u05d4 \\u05e6\\u05d5\\u05e8\\u05da - \\u05dc\\u05e4\\u05e0\\u05d5\\u05ea \\u05dc\\u05d1\\u05d9\\u05ea \\u05de\\u05e9\\u05e4\\u05d8 \\u05d6\\u05d4 \\u05d1\\u05d1\\u05e7\\u05e9\\u05ea \\u05e8\\u05e9\\u05d5\\u05ea \\u05e2\\u05e8\\u05e2\\u05d5\",\n          \"\\u05d1\\u05d9\\u05d4\\u05de\\u05f3\\u05f3\\u05e9 \\u05e0\\u05ea\\u05df \\u05d0\\u05d5\\u05e8\\u05db\\u05d4 \\u05d0\\u05da \\u05dc\\u05d0 \\u05d1\\u05d9\\u05d8\\u05dc \\u05d0\\u05ea \\u05e6\\u05d5 \\u05d4\\u05d4\\u05e8\\u05d9\\u05e1\\u05d4\\n\\u05d4\\u05d1\\u05e7\\u05e9\\u05d4 \\u05de\\u05ea\\u05e7\\u05d1\\u05dc\\u05ea \\u05d0\\u05e4\\u05d5\\u05d0 \\u05db\\u05de\\u05e4\\u05d5\\u05e8\\u05d8 \\u05d1\\u05e4\\u05e1\\u05e7\\u05d4 3\"\n        ],\n        \"semantic_type\": \"\",\n        \"description\": \"\"\n      }\n    }\n  ]\n}"
            }
          },
          "metadata": {},
          "execution_count": 23
        }
      ]
    },
    {
      "cell_type": "code",
      "source": [
        "df[[\"גוף המסמך חתוך\", \"תוצאה מסכמת\"]].sample(5, random_state=42)"
      ],
      "metadata": {
        "colab": {
          "base_uri": "https://localhost:8080/",
          "height": 935
        },
        "id": "mIGeDoOU8nNx",
        "outputId": "5850313e-4ee8-40fd-c844-a06a54f596b7"
      },
      "execution_count": 24,
      "outputs": [
        {
          "output_type": "execute_result",
          "data": {
            "text/plain": [
              "                                                                                                                                                                                                                                                                                                                                                                                                                                                                                                                                                                                                                                                                                                                                                                                                                                                                                                                                                                                                                                                                                                                                                                                                                                                                                                                                                                                                                                                                                                                                                                                                                                                                                                                                                  גוף המסמך חתוך  \\\n",
              "3004                                                                                                                                                                                                                                                                                                                                                                                                                                                                                                                                                                                                                                                                                                                                                                                                                                                                                                                                                                                                                                       ['פסק דין בתיק רע\"פ 4386/08 בבית המשפט העליון רע\"פ 4386/08 בפני: כבוד השופטת א\\' פרוקצ\\'יה כבוד השופט א\\' רובינשטיין כבוד השופט ס\\' ג\\'ובראן המבקש: גד כהן נגד המשיבה: מדינת ישראל בקשת רשות ערעור על פסק-דינו של בית המשפט המחוזי בירושלים מיום 30.4.08 בע\"פ 2074/08 שניתן על-ידי כבוד השופט ע\\' חבש – סג\"נ בשם המבקש: עו\"ד דוד גולן בשם המשיבה: עו\"ד מיטל בוכמן-שינדל פסק דין לאור הסכמת הצדדים, המוצאת את ביטויה בסעיף 3 לתגובת המשיבה, ניתנת בזאת רשות ערעור, והערעור מתקבל במובן זה שפסקי הדין נשוא הבקשה שניתנו בעניינו של המבקש מבוטלים בזאת, והתיק מוחזר לבית משפט השלום לתעבורה בירושלים לדיון מחודש בעניינו. ניתן היום, א\\' בחשון התשס\"ט (30.10.2008). ש ו פ ט ת ש ו פ ט ש ו פ ט _________________________    \n",
              "1922                                                                                                                                                                                                                                                                                                                                                                                                                                                                                                                                                                                                                                                                                                                                                                                                                                                                                                                                                                                                                                                                                                                                                                                                                                                                                                                                                                                                                                                       ['החלטה בתיק רע\"פ 1682/11 בבית המשפט העליון רע\"פ 1682/11 בפני: כבוד השופט ס\\' ג\\'ובראן המבקש: ואיל מזערה נגד המשיבה: מדינת ישראל בקשה לדחיית מועד תחילת ריצוי עונש המאסר בשם המבקש: עו\"ד מאליק מנצור החלטה הבקשה נדחית. ניתנה היום, כ\"ה באדר ב התשע\"א (31.3.2011). ש ו פ ט _________________________    \n",
              "3096  ['החלטה בתיק בש\"פ 1092/17 בבית המשפט העליון רע\"פ 1092/17 לפני: כבוד השופטת ד\\' ברק-ארז המערערים: 1. כפיר דהן 2. שירה דהן נגד המשיבה: הוועדה המקומית לתכנון ובניה מטה יהודה בקשת רשות ערעור על פסק דינו של בית המשפט המחוזי בירושלים מיום 30.1.2017 בע\"פ 23940-12-16 שניתן על-ידי כבוד השופט ח\\' מ\\' לומפ בשם המערערים: בעצמם בשם המשיבה: עו\"ד רעות אהרון, עו\"ד מאיר בן דוד פסק דין 1. הבקשה שבפני נקלטה במזכירות בית המשפט, בטעות, תחת הסיווג בש\"פ. הלכה למעשה, מדובר בבקשת רשות לערער על פסק דינו של בית המשפט המחוזי בירושלים מיום 30.1.2017 (ע\"פ 23940-12-16, השופטת ח\\' מ\\' לומפ). סיווגה הראוי אפוא הוא רע\"פ, וכך אני מורה. 2. מקורו של ההליך דנן הוא בבקשה למתן אורכה לביצועו של צו ההריסה שהוצא ביחס למבנה היביל שבו מתגוררים המבקשים במסגרת הליך פלילי לפי חוק התכנון והבניה, התשכ\"ה-1965. הבקשה נדחתה על ידי בית המשפט לעניינים מקומיים בבית שמש ועל כן הגישו המבקשים ערעור לבית המשפט המחוזי, אשר קבע כי תינתן למבקשים אורכה לפנות את המבנה עד ליום 1.4.2017 ולהרסו עד ליום 2.5.2017. לאחר מכן המבקשים הגישו בקשת אורכה נוספת לבית המשפט המחוזי, וזו נדחתה. על כך נסבה הבקשה שבפני. 3. בתשובה שהוגשה מטעם המשיבה צוין כי המקרה העומד ביסוד ההליך כרוך בנסיבות אישיות ומשפחתיות חריגות וקשות ועל כן היא מבקשת להותיר את ההכרעה בו לשיקול דעתו של בית המשפט. בהתחשב בכך ולאחר שבחנתי את מכלול הנסיבות העניין, אני מורה על מתן אורכה נוספת למבקשים לפנות את המבנה עד ליום 1.7.2017 ולהרסו עד ליום 2.8.2017 (בתנאים שנקבעו בפסק דינו של בית המשפט המחוזי). 4. הבקשה מתקבלת אפוא כמפורט בפסקה 3. על המבקשים להבין כי ההיענות לבקשתם התאפשרה לנוכח העמדה שגילתה המשיבה, וכי אל להם לצפות לכל הקלות נוספות, אלא להיערך לביצוע הצו השיפוטי, משתמו ההליכים כולם. ניתן היום, \\u200fי\"ט בשבט התשע\"ז (\\u200f15.2.2017). ש ו פ ט ת _________________________    \n",
              "3022                                                                                                                                                                                                                                                                                                                                                                                                                                                                                                                                                                                                                                                                                                                                                                                                                                                                                                                                                                                 ['פסק דין בתיק רע\"פ 1793/09 בבית המשפט העליון רע\"פ 1793/09 בפני: כבוד השופט א\\' א\\' לוי כבוד השופטת ע\\' ארבל כבוד השופט י\\' דנציגר המבקשים: 1. פאבל מינסטר 2. זאב שוורץ נגד המשיבה: מדינת ישראל בקשת רשות ערעור על פסק-דינו של ביתה משפט המחוזי בתל-אביב, בע\"פ 70149/08, מיום 28.1.09, שניתן על ידי כבוד ס\\' הנשיא השופטת ד\\' ברלינר, ס. הנשיא השופט ז\\' המר, ס. הנשיא השופטת ב\\' אופיר-תום בשם המבקש 1: עו\"ד אמיר ציון בשם המבקש 2: עו\"ד רובינשטיין מנחם פסק דין נוכח האמור בתגובת המשיבה, ניתנת בזאת רשות ערעור והבקשה תידון כבערעור גופו. עניינם של המבקשים יובא בשנית בפני בית המשפט המחוזי, המתבקש להבהיר אם תוצאת פסק-דינו היא זיכוי מוחלט של המבקשים או זיכוי מחמת הספק. ניתן היום, ט\"ו באדר התשס\"ט (11.03.09). ש ו פ ט ש ו פ ט ת ש ו פ ט _________________________    \n",
              "2649                                                                                                                                                                                                    ['בבית המשפט העליון בירושלים רע\"פ 9608/01 בפני: כבוד השופט א\\' ריבלין המבקשים: 1. גשמי ברכה ה.ש.י.ג.(1995) 2. גשמי ברכה בע\"מ 3. ה.ש.י.ג.(1995)יזום פרוייקטים 4. שנהב זאב נגד המשיבה: מדינת ישראל בקשת רשות ערעור על פסק-דינו של בית המשפט המחוזי בתל-אביב-יפו מיום 23.10.2001 בתיק עפ\"א 80190/01 שניתן על ידי כבוד השופטים: ד\\' ברלינר, ז\\' המר, י\\' שטופמן בשם המבקשים: עו\"ד שרית שלמון בשם המשיבה: עו\"ד ענבר פלש החלטה בית המשפט לעניינים מקומיים בפתח תקוה (כבוד השופט ג\\' שטרסמן) ביטל את כתב האישום שהוגש כנגד המבקשים, והמייחס להם ביצוע עבירות טעונות היתר בסטיה מהיתר או מתכנית. ערעורה של המדינה על החלטה זו, לבית המשפט המחוזי בתל-אביב (כבוד השופטים ד\\' ברלינר, ז\\' המר וי\\' שטופמן) - התקבל. ההחלטה בדבר ביטול כתב האישום בוטלה, והדיון הוחזר לבית המשפט לעניינים מקומיים, להמשך בירורו למן השלב אליו הגיע. כנגד פסק-דינו של בית המשפט המחוזי מופנית הבקשה שלפנינו. דא עקא, משטרם נתברר, וממילא טרם הוכרע, עניינם של המבקשים - לגופו - בערכאה הראשונה, אין מקום לדון בטענותיהם בפני בית משפט זה. לאחר שימוצו ההליכים בבית משפט השלום, ואם יהיה צורך גם בבית המשפט המחוזי - יהיו רשאים המבקשים - שוב, אם יהיה צורך - לפנות לבית משפט זה בבקשת רשות ערעור (ראו רע\"פ 4632/97 אקסלרוד נ\\' מדינת ישראל (תק-על 97(3) 118)). ניתנה היום, ה\\' באדר תשס\"ב (17.2.2002). ש ו פ ט _________________ העתק מתאים למקור 01096080.P02 /אמ נוסח זה כפוף לשינויי עריכה וניסוח. שמריהו כהן - מזכיר ראשי בבית המשפט העליון פועל מרכז מידע, טל\\' 02-6750444 בית המשפט פתוח להערות והצעות: pniot@supreme.court.gov.il לבתי המשפט אתר באינטרנט: www.court.gov.il']   \n",
              "\n",
              "                                                                                                                                                                                                                                                                             תוצאה מסכמת  \n",
              "3004                                                                                                                                       ניתנת בזאת רשות ערעור, והערעור מתקבל במובן זה שפסקי הדין נשוא הבקשה שניתנו בעניינו של המבקש מבוטלים בזאת, והתיק מוחזר לבית משפט השלום לתעבורה  \n",
              "1922                                                                                                                                                                                                                                  בקשה אחרת\\nבקשה לדחיית מועד תחילת ריצוי עונש המאסר  \n",
              "3096                                                                                                                                                                                                         ביהמ׳׳ש נתן אורכה אך לא ביטל את צו ההריסה\\nהבקשה מתקבלת אפוא כמפורט בפסקה 3  \n",
              "3022                                                                                                                                                                                                                                      ביהמש לא הכריע בערעור והחזיר לדיון נוסף במחוזי  \n",
              "2649  דא עקא, משטרם נתברר, וממילא טרם הוכרע, עניינם של המבקשים - לגופו - בערכאה הראשונה, אין מקום לדון בטענותיהם בפני בית משפט זה. לאחר שימוצו ההליכים בבית משפט השלום, ואם יהיה צורך גם בבית המשפט המחוזי - יהיו רשאים המבקשים - שוב, אם יהיה צורך - לפנות לבית משפט זה בבקשת רשות ערעו  "
            ],
            "text/html": [
              "\n",
              "  <div id=\"df-d8027f1e-9b53-4142-9177-66d9b837f1c5\" class=\"colab-df-container\">\n",
              "    <div>\n",
              "<style scoped>\n",
              "    .dataframe tbody tr th:only-of-type {\n",
              "        vertical-align: middle;\n",
              "    }\n",
              "\n",
              "    .dataframe tbody tr th {\n",
              "        vertical-align: top;\n",
              "    }\n",
              "\n",
              "    .dataframe thead th {\n",
              "        text-align: right;\n",
              "    }\n",
              "</style>\n",
              "<table border=\"1\" class=\"dataframe\">\n",
              "  <thead>\n",
              "    <tr style=\"text-align: right;\">\n",
              "      <th></th>\n",
              "      <th>גוף המסמך חתוך</th>\n",
              "      <th>תוצאה מסכמת</th>\n",
              "    </tr>\n",
              "  </thead>\n",
              "  <tbody>\n",
              "    <tr>\n",
              "      <th>3004</th>\n",
              "      <td>['פסק דין בתיק רע\"פ 4386/08 בבית המשפט העליון רע\"פ 4386/08 בפני: כבוד השופטת א\\' פרוקצ\\'יה כבוד השופט א\\' רובינשטיין כבוד השופט ס\\' ג\\'ובראן המבקש: גד כהן נגד המשיבה: מדינת ישראל בקשת רשות ערעור על פסק-דינו של בית המשפט המחוזי בירושלים מיום 30.4.08 בע\"פ 2074/08 שניתן על-ידי כבוד השופט ע\\' חבש – סג\"נ בשם המבקש: עו\"ד דוד גולן בשם המשיבה: עו\"ד מיטל בוכמן-שינדל פסק דין לאור הסכמת הצדדים, המוצאת את ביטויה בסעיף 3 לתגובת המשיבה, ניתנת בזאת רשות ערעור, והערעור מתקבל במובן זה שפסקי הדין נשוא הבקשה שניתנו בעניינו של המבקש מבוטלים בזאת, והתיק מוחזר לבית משפט השלום לתעבורה בירושלים לדיון מחודש בעניינו. ניתן היום, א\\' בחשון התשס\"ט (30.10.2008). ש ו פ ט ת ש ו פ ט ש ו פ ט _________________________</td>\n",
              "      <td>ניתנת בזאת רשות ערעור, והערעור מתקבל במובן זה שפסקי הדין נשוא הבקשה שניתנו בעניינו של המבקש מבוטלים בזאת, והתיק מוחזר לבית משפט השלום לתעבורה</td>\n",
              "    </tr>\n",
              "    <tr>\n",
              "      <th>1922</th>\n",
              "      <td>['החלטה בתיק רע\"פ 1682/11 בבית המשפט העליון רע\"פ 1682/11 בפני: כבוד השופט ס\\' ג\\'ובראן המבקש: ואיל מזערה נגד המשיבה: מדינת ישראל בקשה לדחיית מועד תחילת ריצוי עונש המאסר בשם המבקש: עו\"ד מאליק מנצור החלטה הבקשה נדחית. ניתנה היום, כ\"ה באדר ב התשע\"א (31.3.2011). ש ו פ ט _________________________</td>\n",
              "      <td>בקשה אחרת\\nבקשה לדחיית מועד תחילת ריצוי עונש המאסר</td>\n",
              "    </tr>\n",
              "    <tr>\n",
              "      <th>3096</th>\n",
              "      <td>['החלטה בתיק בש\"פ 1092/17 בבית המשפט העליון רע\"פ 1092/17 לפני: כבוד השופטת ד\\' ברק-ארז המערערים: 1. כפיר דהן 2. שירה דהן נגד המשיבה: הוועדה המקומית לתכנון ובניה מטה יהודה בקשת רשות ערעור על פסק דינו של בית המשפט המחוזי בירושלים מיום 30.1.2017 בע\"פ 23940-12-16 שניתן על-ידי כבוד השופט ח\\' מ\\' לומפ בשם המערערים: בעצמם בשם המשיבה: עו\"ד רעות אהרון, עו\"ד מאיר בן דוד פסק דין 1. הבקשה שבפני נקלטה במזכירות בית המשפט, בטעות, תחת הסיווג בש\"פ. הלכה למעשה, מדובר בבקשת רשות לערער על פסק דינו של בית המשפט המחוזי בירושלים מיום 30.1.2017 (ע\"פ 23940-12-16, השופטת ח\\' מ\\' לומפ). סיווגה הראוי אפוא הוא רע\"פ, וכך אני מורה. 2. מקורו של ההליך דנן הוא בבקשה למתן אורכה לביצועו של צו ההריסה שהוצא ביחס למבנה היביל שבו מתגוררים המבקשים במסגרת הליך פלילי לפי חוק התכנון והבניה, התשכ\"ה-1965. הבקשה נדחתה על ידי בית המשפט לעניינים מקומיים בבית שמש ועל כן הגישו המבקשים ערעור לבית המשפט המחוזי, אשר קבע כי תינתן למבקשים אורכה לפנות את המבנה עד ליום 1.4.2017 ולהרסו עד ליום 2.5.2017. לאחר מכן המבקשים הגישו בקשת אורכה נוספת לבית המשפט המחוזי, וזו נדחתה. על כך נסבה הבקשה שבפני. 3. בתשובה שהוגשה מטעם המשיבה צוין כי המקרה העומד ביסוד ההליך כרוך בנסיבות אישיות ומשפחתיות חריגות וקשות ועל כן היא מבקשת להותיר את ההכרעה בו לשיקול דעתו של בית המשפט. בהתחשב בכך ולאחר שבחנתי את מכלול הנסיבות העניין, אני מורה על מתן אורכה נוספת למבקשים לפנות את המבנה עד ליום 1.7.2017 ולהרסו עד ליום 2.8.2017 (בתנאים שנקבעו בפסק דינו של בית המשפט המחוזי). 4. הבקשה מתקבלת אפוא כמפורט בפסקה 3. על המבקשים להבין כי ההיענות לבקשתם התאפשרה לנוכח העמדה שגילתה המשיבה, וכי אל להם לצפות לכל הקלות נוספות, אלא להיערך לביצוע הצו השיפוטי, משתמו ההליכים כולם. ניתן היום, \\u200fי\"ט בשבט התשע\"ז (\\u200f15.2.2017). ש ו פ ט ת _________________________</td>\n",
              "      <td>ביהמ׳׳ש נתן אורכה אך לא ביטל את צו ההריסה\\nהבקשה מתקבלת אפוא כמפורט בפסקה 3</td>\n",
              "    </tr>\n",
              "    <tr>\n",
              "      <th>3022</th>\n",
              "      <td>['פסק דין בתיק רע\"פ 1793/09 בבית המשפט העליון רע\"פ 1793/09 בפני: כבוד השופט א\\' א\\' לוי כבוד השופטת ע\\' ארבל כבוד השופט י\\' דנציגר המבקשים: 1. פאבל מינסטר 2. זאב שוורץ נגד המשיבה: מדינת ישראל בקשת רשות ערעור על פסק-דינו של ביתה משפט המחוזי בתל-אביב, בע\"פ 70149/08, מיום 28.1.09, שניתן על ידי כבוד ס\\' הנשיא השופטת ד\\' ברלינר, ס. הנשיא השופט ז\\' המר, ס. הנשיא השופטת ב\\' אופיר-תום בשם המבקש 1: עו\"ד אמיר ציון בשם המבקש 2: עו\"ד רובינשטיין מנחם פסק דין נוכח האמור בתגובת המשיבה, ניתנת בזאת רשות ערעור והבקשה תידון כבערעור גופו. עניינם של המבקשים יובא בשנית בפני בית המשפט המחוזי, המתבקש להבהיר אם תוצאת פסק-דינו היא זיכוי מוחלט של המבקשים או זיכוי מחמת הספק. ניתן היום, ט\"ו באדר התשס\"ט (11.03.09). ש ו פ ט ש ו פ ט ת ש ו פ ט _________________________</td>\n",
              "      <td>ביהמש לא הכריע בערעור והחזיר לדיון נוסף במחוזי</td>\n",
              "    </tr>\n",
              "    <tr>\n",
              "      <th>2649</th>\n",
              "      <td>['בבית המשפט העליון בירושלים רע\"פ 9608/01 בפני: כבוד השופט א\\' ריבלין המבקשים: 1. גשמי ברכה ה.ש.י.ג.(1995) 2. גשמי ברכה בע\"מ 3. ה.ש.י.ג.(1995)יזום פרוייקטים 4. שנהב זאב נגד המשיבה: מדינת ישראל בקשת רשות ערעור על פסק-דינו של בית המשפט המחוזי בתל-אביב-יפו מיום 23.10.2001 בתיק עפ\"א 80190/01 שניתן על ידי כבוד השופטים: ד\\' ברלינר, ז\\' המר, י\\' שטופמן בשם המבקשים: עו\"ד שרית שלמון בשם המשיבה: עו\"ד ענבר פלש החלטה בית המשפט לעניינים מקומיים בפתח תקוה (כבוד השופט ג\\' שטרסמן) ביטל את כתב האישום שהוגש כנגד המבקשים, והמייחס להם ביצוע עבירות טעונות היתר בסטיה מהיתר או מתכנית. ערעורה של המדינה על החלטה זו, לבית המשפט המחוזי בתל-אביב (כבוד השופטים ד\\' ברלינר, ז\\' המר וי\\' שטופמן) - התקבל. ההחלטה בדבר ביטול כתב האישום בוטלה, והדיון הוחזר לבית המשפט לעניינים מקומיים, להמשך בירורו למן השלב אליו הגיע. כנגד פסק-דינו של בית המשפט המחוזי מופנית הבקשה שלפנינו. דא עקא, משטרם נתברר, וממילא טרם הוכרע, עניינם של המבקשים - לגופו - בערכאה הראשונה, אין מקום לדון בטענותיהם בפני בית משפט זה. לאחר שימוצו ההליכים בבית משפט השלום, ואם יהיה צורך גם בבית המשפט המחוזי - יהיו רשאים המבקשים - שוב, אם יהיה צורך - לפנות לבית משפט זה בבקשת רשות ערעור (ראו רע\"פ 4632/97 אקסלרוד נ\\' מדינת ישראל (תק-על 97(3) 118)). ניתנה היום, ה\\' באדר תשס\"ב (17.2.2002). ש ו פ ט _________________ העתק מתאים למקור 01096080.P02 /אמ נוסח זה כפוף לשינויי עריכה וניסוח. שמריהו כהן - מזכיר ראשי בבית המשפט העליון פועל מרכז מידע, טל\\' 02-6750444 בית המשפט פתוח להערות והצעות: pniot@supreme.court.gov.il לבתי המשפט אתר באינטרנט: www.court.gov.il']</td>\n",
              "      <td>דא עקא, משטרם נתברר, וממילא טרם הוכרע, עניינם של המבקשים - לגופו - בערכאה הראשונה, אין מקום לדון בטענותיהם בפני בית משפט זה. לאחר שימוצו ההליכים בבית משפט השלום, ואם יהיה צורך גם בבית המשפט המחוזי - יהיו רשאים המבקשים - שוב, אם יהיה צורך - לפנות לבית משפט זה בבקשת רשות ערעו</td>\n",
              "    </tr>\n",
              "  </tbody>\n",
              "</table>\n",
              "</div>\n",
              "    <div class=\"colab-df-buttons\">\n",
              "\n",
              "  <div class=\"colab-df-container\">\n",
              "    <button class=\"colab-df-convert\" onclick=\"convertToInteractive('df-d8027f1e-9b53-4142-9177-66d9b837f1c5')\"\n",
              "            title=\"Convert this dataframe to an interactive table.\"\n",
              "            style=\"display:none;\">\n",
              "\n",
              "  <svg xmlns=\"http://www.w3.org/2000/svg\" height=\"24px\" viewBox=\"0 -960 960 960\">\n",
              "    <path d=\"M120-120v-720h720v720H120Zm60-500h600v-160H180v160Zm220 220h160v-160H400v160Zm0 220h160v-160H400v160ZM180-400h160v-160H180v160Zm440 0h160v-160H620v160ZM180-180h160v-160H180v160Zm440 0h160v-160H620v160Z\"/>\n",
              "  </svg>\n",
              "    </button>\n",
              "\n",
              "  <style>\n",
              "    .colab-df-container {\n",
              "      display:flex;\n",
              "      gap: 12px;\n",
              "    }\n",
              "\n",
              "    .colab-df-convert {\n",
              "      background-color: #E8F0FE;\n",
              "      border: none;\n",
              "      border-radius: 50%;\n",
              "      cursor: pointer;\n",
              "      display: none;\n",
              "      fill: #1967D2;\n",
              "      height: 32px;\n",
              "      padding: 0 0 0 0;\n",
              "      width: 32px;\n",
              "    }\n",
              "\n",
              "    .colab-df-convert:hover {\n",
              "      background-color: #E2EBFA;\n",
              "      box-shadow: 0px 1px 2px rgba(60, 64, 67, 0.3), 0px 1px 3px 1px rgba(60, 64, 67, 0.15);\n",
              "      fill: #174EA6;\n",
              "    }\n",
              "\n",
              "    .colab-df-buttons div {\n",
              "      margin-bottom: 4px;\n",
              "    }\n",
              "\n",
              "    [theme=dark] .colab-df-convert {\n",
              "      background-color: #3B4455;\n",
              "      fill: #D2E3FC;\n",
              "    }\n",
              "\n",
              "    [theme=dark] .colab-df-convert:hover {\n",
              "      background-color: #434B5C;\n",
              "      box-shadow: 0px 1px 3px 1px rgba(0, 0, 0, 0.15);\n",
              "      filter: drop-shadow(0px 1px 2px rgba(0, 0, 0, 0.3));\n",
              "      fill: #FFFFFF;\n",
              "    }\n",
              "  </style>\n",
              "\n",
              "    <script>\n",
              "      const buttonEl =\n",
              "        document.querySelector('#df-d8027f1e-9b53-4142-9177-66d9b837f1c5 button.colab-df-convert');\n",
              "      buttonEl.style.display =\n",
              "        google.colab.kernel.accessAllowed ? 'block' : 'none';\n",
              "\n",
              "      async function convertToInteractive(key) {\n",
              "        const element = document.querySelector('#df-d8027f1e-9b53-4142-9177-66d9b837f1c5');\n",
              "        const dataTable =\n",
              "          await google.colab.kernel.invokeFunction('convertToInteractive',\n",
              "                                                    [key], {});\n",
              "        if (!dataTable) return;\n",
              "\n",
              "        const docLinkHtml = 'Like what you see? Visit the ' +\n",
              "          '<a target=\"_blank\" href=https://colab.research.google.com/notebooks/data_table.ipynb>data table notebook</a>'\n",
              "          + ' to learn more about interactive tables.';\n",
              "        element.innerHTML = '';\n",
              "        dataTable['output_type'] = 'display_data';\n",
              "        await google.colab.output.renderOutput(dataTable, element);\n",
              "        const docLink = document.createElement('div');\n",
              "        docLink.innerHTML = docLinkHtml;\n",
              "        element.appendChild(docLink);\n",
              "      }\n",
              "    </script>\n",
              "  </div>\n",
              "\n",
              "\n",
              "<div id=\"df-a2ff146c-d8dc-4c96-a076-445a09e99dae\">\n",
              "  <button class=\"colab-df-quickchart\" onclick=\"quickchart('df-a2ff146c-d8dc-4c96-a076-445a09e99dae')\"\n",
              "            title=\"Suggest charts\"\n",
              "            style=\"display:none;\">\n",
              "\n",
              "<svg xmlns=\"http://www.w3.org/2000/svg\" height=\"24px\"viewBox=\"0 0 24 24\"\n",
              "     width=\"24px\">\n",
              "    <g>\n",
              "        <path d=\"M19 3H5c-1.1 0-2 .9-2 2v14c0 1.1.9 2 2 2h14c1.1 0 2-.9 2-2V5c0-1.1-.9-2-2-2zM9 17H7v-7h2v7zm4 0h-2V7h2v10zm4 0h-2v-4h2v4z\"/>\n",
              "    </g>\n",
              "</svg>\n",
              "  </button>\n",
              "\n",
              "<style>\n",
              "  .colab-df-quickchart {\n",
              "      --bg-color: #E8F0FE;\n",
              "      --fill-color: #1967D2;\n",
              "      --hover-bg-color: #E2EBFA;\n",
              "      --hover-fill-color: #174EA6;\n",
              "      --disabled-fill-color: #AAA;\n",
              "      --disabled-bg-color: #DDD;\n",
              "  }\n",
              "\n",
              "  [theme=dark] .colab-df-quickchart {\n",
              "      --bg-color: #3B4455;\n",
              "      --fill-color: #D2E3FC;\n",
              "      --hover-bg-color: #434B5C;\n",
              "      --hover-fill-color: #FFFFFF;\n",
              "      --disabled-bg-color: #3B4455;\n",
              "      --disabled-fill-color: #666;\n",
              "  }\n",
              "\n",
              "  .colab-df-quickchart {\n",
              "    background-color: var(--bg-color);\n",
              "    border: none;\n",
              "    border-radius: 50%;\n",
              "    cursor: pointer;\n",
              "    display: none;\n",
              "    fill: var(--fill-color);\n",
              "    height: 32px;\n",
              "    padding: 0;\n",
              "    width: 32px;\n",
              "  }\n",
              "\n",
              "  .colab-df-quickchart:hover {\n",
              "    background-color: var(--hover-bg-color);\n",
              "    box-shadow: 0 1px 2px rgba(60, 64, 67, 0.3), 0 1px 3px 1px rgba(60, 64, 67, 0.15);\n",
              "    fill: var(--button-hover-fill-color);\n",
              "  }\n",
              "\n",
              "  .colab-df-quickchart-complete:disabled,\n",
              "  .colab-df-quickchart-complete:disabled:hover {\n",
              "    background-color: var(--disabled-bg-color);\n",
              "    fill: var(--disabled-fill-color);\n",
              "    box-shadow: none;\n",
              "  }\n",
              "\n",
              "  .colab-df-spinner {\n",
              "    border: 2px solid var(--fill-color);\n",
              "    border-color: transparent;\n",
              "    border-bottom-color: var(--fill-color);\n",
              "    animation:\n",
              "      spin 1s steps(1) infinite;\n",
              "  }\n",
              "\n",
              "  @keyframes spin {\n",
              "    0% {\n",
              "      border-color: transparent;\n",
              "      border-bottom-color: var(--fill-color);\n",
              "      border-left-color: var(--fill-color);\n",
              "    }\n",
              "    20% {\n",
              "      border-color: transparent;\n",
              "      border-left-color: var(--fill-color);\n",
              "      border-top-color: var(--fill-color);\n",
              "    }\n",
              "    30% {\n",
              "      border-color: transparent;\n",
              "      border-left-color: var(--fill-color);\n",
              "      border-top-color: var(--fill-color);\n",
              "      border-right-color: var(--fill-color);\n",
              "    }\n",
              "    40% {\n",
              "      border-color: transparent;\n",
              "      border-right-color: var(--fill-color);\n",
              "      border-top-color: var(--fill-color);\n",
              "    }\n",
              "    60% {\n",
              "      border-color: transparent;\n",
              "      border-right-color: var(--fill-color);\n",
              "    }\n",
              "    80% {\n",
              "      border-color: transparent;\n",
              "      border-right-color: var(--fill-color);\n",
              "      border-bottom-color: var(--fill-color);\n",
              "    }\n",
              "    90% {\n",
              "      border-color: transparent;\n",
              "      border-bottom-color: var(--fill-color);\n",
              "    }\n",
              "  }\n",
              "</style>\n",
              "\n",
              "  <script>\n",
              "    async function quickchart(key) {\n",
              "      const quickchartButtonEl =\n",
              "        document.querySelector('#' + key + ' button');\n",
              "      quickchartButtonEl.disabled = true;  // To prevent multiple clicks.\n",
              "      quickchartButtonEl.classList.add('colab-df-spinner');\n",
              "      try {\n",
              "        const charts = await google.colab.kernel.invokeFunction(\n",
              "            'suggestCharts', [key], {});\n",
              "      } catch (error) {\n",
              "        console.error('Error during call to suggestCharts:', error);\n",
              "      }\n",
              "      quickchartButtonEl.classList.remove('colab-df-spinner');\n",
              "      quickchartButtonEl.classList.add('colab-df-quickchart-complete');\n",
              "    }\n",
              "    (() => {\n",
              "      let quickchartButtonEl =\n",
              "        document.querySelector('#df-a2ff146c-d8dc-4c96-a076-445a09e99dae button');\n",
              "      quickchartButtonEl.style.display =\n",
              "        google.colab.kernel.accessAllowed ? 'block' : 'none';\n",
              "    })();\n",
              "  </script>\n",
              "</div>\n",
              "\n",
              "    </div>\n",
              "  </div>\n"
            ],
            "application/vnd.google.colaboratory.intrinsic+json": {
              "type": "dataframe",
              "summary": "{\n  \"name\": \"df[[\\\"\\u05d2\\u05d5\\u05e3 \\u05d4\\u05de\\u05e1\\u05de\\u05da \\u05d7\\u05ea\\u05d5\\u05da\\\", \\\"\\u05ea\\u05d5\\u05e6\\u05d0\\u05d4 \\u05de\\u05e1\\u05db\\u05de\\u05ea\\\"]]\",\n  \"rows\": 5,\n  \"fields\": [\n    {\n      \"column\": \"\\u05d2\\u05d5\\u05e3 \\u05d4\\u05de\\u05e1\\u05de\\u05da \\u05d7\\u05ea\\u05d5\\u05da\",\n      \"properties\": {\n        \"dtype\": \"string\",\n        \"num_unique_values\": 5,\n        \"samples\": [\n          \"['\\u05d4\\u05d7\\u05dc\\u05d8\\u05d4 \\u05d1\\u05ea\\u05d9\\u05e7 \\u05e8\\u05e2\\\"\\u05e4 1682/11 \\u05d1\\u05d1\\u05d9\\u05ea \\u05d4\\u05de\\u05e9\\u05e4\\u05d8 \\u05d4\\u05e2\\u05dc\\u05d9\\u05d5\\u05df \\u05e8\\u05e2\\\"\\u05e4 1682/11 \\u05d1\\u05e4\\u05e0\\u05d9: \\u05db\\u05d1\\u05d5\\u05d3 \\u05d4\\u05e9\\u05d5\\u05e4\\u05d8 \\u05e1\\\\' \\u05d2\\\\'\\u05d5\\u05d1\\u05e8\\u05d0\\u05df \\u05d4\\u05de\\u05d1\\u05e7\\u05e9: \\u05d5\\u05d0\\u05d9\\u05dc \\u05de\\u05d6\\u05e2\\u05e8\\u05d4 \\u05e0\\u05d2\\u05d3 \\u05d4\\u05de\\u05e9\\u05d9\\u05d1\\u05d4: \\u05de\\u05d3\\u05d9\\u05e0\\u05ea \\u05d9\\u05e9\\u05e8\\u05d0\\u05dc \\u05d1\\u05e7\\u05e9\\u05d4 \\u05dc\\u05d3\\u05d7\\u05d9\\u05d9\\u05ea \\u05de\\u05d5\\u05e2\\u05d3 \\u05ea\\u05d7\\u05d9\\u05dc\\u05ea \\u05e8\\u05d9\\u05e6\\u05d5\\u05d9 \\u05e2\\u05d5\\u05e0\\u05e9 \\u05d4\\u05de\\u05d0\\u05e1\\u05e8 \\u05d1\\u05e9\\u05dd \\u05d4\\u05de\\u05d1\\u05e7\\u05e9: \\u05e2\\u05d5\\\"\\u05d3 \\u05de\\u05d0\\u05dc\\u05d9\\u05e7 \\u05de\\u05e0\\u05e6\\u05d5\\u05e8 \\u05d4\\u05d7\\u05dc\\u05d8\\u05d4 \\u05d4\\u05d1\\u05e7\\u05e9\\u05d4 \\u05e0\\u05d3\\u05d7\\u05d9\\u05ea. \\u05e0\\u05d9\\u05ea\\u05e0\\u05d4 \\u05d4\\u05d9\\u05d5\\u05dd, \\u05db\\\"\\u05d4 \\u05d1\\u05d0\\u05d3\\u05e8 \\u05d1 \\u05d4\\u05ea\\u05e9\\u05e2\\\"\\u05d0 (31.3.2011). \\u05e9 \\u05d5 \\u05e4 \\u05d8 _________________________ \",\n          \"['\\u05d1\\u05d1\\u05d9\\u05ea \\u05d4\\u05de\\u05e9\\u05e4\\u05d8 \\u05d4\\u05e2\\u05dc\\u05d9\\u05d5\\u05df \\u05d1\\u05d9\\u05e8\\u05d5\\u05e9\\u05dc\\u05d9\\u05dd \\u05e8\\u05e2\\\"\\u05e4 9608/01 \\u05d1\\u05e4\\u05e0\\u05d9: \\u05db\\u05d1\\u05d5\\u05d3 \\u05d4\\u05e9\\u05d5\\u05e4\\u05d8 \\u05d0\\\\' \\u05e8\\u05d9\\u05d1\\u05dc\\u05d9\\u05df \\u05d4\\u05de\\u05d1\\u05e7\\u05e9\\u05d9\\u05dd: 1. \\u05d2\\u05e9\\u05de\\u05d9 \\u05d1\\u05e8\\u05db\\u05d4 \\u05d4.\\u05e9.\\u05d9.\\u05d2.(1995) 2. \\u05d2\\u05e9\\u05de\\u05d9 \\u05d1\\u05e8\\u05db\\u05d4 \\u05d1\\u05e2\\\"\\u05de 3. \\u05d4.\\u05e9.\\u05d9.\\u05d2.(1995)\\u05d9\\u05d6\\u05d5\\u05dd \\u05e4\\u05e8\\u05d5\\u05d9\\u05d9\\u05e7\\u05d8\\u05d9\\u05dd 4. \\u05e9\\u05e0\\u05d4\\u05d1 \\u05d6\\u05d0\\u05d1 \\u05e0\\u05d2\\u05d3 \\u05d4\\u05de\\u05e9\\u05d9\\u05d1\\u05d4: \\u05de\\u05d3\\u05d9\\u05e0\\u05ea \\u05d9\\u05e9\\u05e8\\u05d0\\u05dc \\u05d1\\u05e7\\u05e9\\u05ea \\u05e8\\u05e9\\u05d5\\u05ea \\u05e2\\u05e8\\u05e2\\u05d5\\u05e8 \\u05e2\\u05dc \\u05e4\\u05e1\\u05e7-\\u05d3\\u05d9\\u05e0\\u05d5 \\u05e9\\u05dc \\u05d1\\u05d9\\u05ea \\u05d4\\u05de\\u05e9\\u05e4\\u05d8 \\u05d4\\u05de\\u05d7\\u05d5\\u05d6\\u05d9 \\u05d1\\u05ea\\u05dc-\\u05d0\\u05d1\\u05d9\\u05d1-\\u05d9\\u05e4\\u05d5 \\u05de\\u05d9\\u05d5\\u05dd 23.10.2001 \\u05d1\\u05ea\\u05d9\\u05e7 \\u05e2\\u05e4\\\"\\u05d0 80190/01 \\u05e9\\u05e0\\u05d9\\u05ea\\u05df \\u05e2\\u05dc \\u05d9\\u05d3\\u05d9 \\u05db\\u05d1\\u05d5\\u05d3 \\u05d4\\u05e9\\u05d5\\u05e4\\u05d8\\u05d9\\u05dd: \\u05d3\\\\' \\u05d1\\u05e8\\u05dc\\u05d9\\u05e0\\u05e8, \\u05d6\\\\' \\u05d4\\u05de\\u05e8, \\u05d9\\\\' \\u05e9\\u05d8\\u05d5\\u05e4\\u05de\\u05df \\u05d1\\u05e9\\u05dd \\u05d4\\u05de\\u05d1\\u05e7\\u05e9\\u05d9\\u05dd: \\u05e2\\u05d5\\\"\\u05d3 \\u05e9\\u05e8\\u05d9\\u05ea \\u05e9\\u05dc\\u05de\\u05d5\\u05df \\u05d1\\u05e9\\u05dd \\u05d4\\u05de\\u05e9\\u05d9\\u05d1\\u05d4: \\u05e2\\u05d5\\\"\\u05d3 \\u05e2\\u05e0\\u05d1\\u05e8 \\u05e4\\u05dc\\u05e9 \\u05d4\\u05d7\\u05dc\\u05d8\\u05d4 \\u05d1\\u05d9\\u05ea \\u05d4\\u05de\\u05e9\\u05e4\\u05d8 \\u05dc\\u05e2\\u05e0\\u05d9\\u05d9\\u05e0\\u05d9\\u05dd \\u05de\\u05e7\\u05d5\\u05de\\u05d9\\u05d9\\u05dd \\u05d1\\u05e4\\u05ea\\u05d7 \\u05ea\\u05e7\\u05d5\\u05d4 (\\u05db\\u05d1\\u05d5\\u05d3 \\u05d4\\u05e9\\u05d5\\u05e4\\u05d8 \\u05d2\\\\' \\u05e9\\u05d8\\u05e8\\u05e1\\u05de\\u05df) \\u05d1\\u05d9\\u05d8\\u05dc \\u05d0\\u05ea \\u05db\\u05ea\\u05d1 \\u05d4\\u05d0\\u05d9\\u05e9\\u05d5\\u05dd \\u05e9\\u05d4\\u05d5\\u05d2\\u05e9 \\u05db\\u05e0\\u05d2\\u05d3 \\u05d4\\u05de\\u05d1\\u05e7\\u05e9\\u05d9\\u05dd, \\u05d5\\u05d4\\u05de\\u05d9\\u05d9\\u05d7\\u05e1 \\u05dc\\u05d4\\u05dd \\u05d1\\u05d9\\u05e6\\u05d5\\u05e2 \\u05e2\\u05d1\\u05d9\\u05e8\\u05d5\\u05ea \\u05d8\\u05e2\\u05d5\\u05e0\\u05d5\\u05ea \\u05d4\\u05d9\\u05ea\\u05e8 \\u05d1\\u05e1\\u05d8\\u05d9\\u05d4 \\u05de\\u05d4\\u05d9\\u05ea\\u05e8 \\u05d0\\u05d5 \\u05de\\u05ea\\u05db\\u05e0\\u05d9\\u05ea. \\u05e2\\u05e8\\u05e2\\u05d5\\u05e8\\u05d4 \\u05e9\\u05dc \\u05d4\\u05de\\u05d3\\u05d9\\u05e0\\u05d4 \\u05e2\\u05dc \\u05d4\\u05d7\\u05dc\\u05d8\\u05d4 \\u05d6\\u05d5, \\u05dc\\u05d1\\u05d9\\u05ea \\u05d4\\u05de\\u05e9\\u05e4\\u05d8 \\u05d4\\u05de\\u05d7\\u05d5\\u05d6\\u05d9 \\u05d1\\u05ea\\u05dc-\\u05d0\\u05d1\\u05d9\\u05d1 (\\u05db\\u05d1\\u05d5\\u05d3 \\u05d4\\u05e9\\u05d5\\u05e4\\u05d8\\u05d9\\u05dd \\u05d3\\\\' \\u05d1\\u05e8\\u05dc\\u05d9\\u05e0\\u05e8, \\u05d6\\\\' \\u05d4\\u05de\\u05e8 \\u05d5\\u05d9\\\\' \\u05e9\\u05d8\\u05d5\\u05e4\\u05de\\u05df) - \\u05d4\\u05ea\\u05e7\\u05d1\\u05dc. \\u05d4\\u05d4\\u05d7\\u05dc\\u05d8\\u05d4 \\u05d1\\u05d3\\u05d1\\u05e8 \\u05d1\\u05d9\\u05d8\\u05d5\\u05dc \\u05db\\u05ea\\u05d1 \\u05d4\\u05d0\\u05d9\\u05e9\\u05d5\\u05dd \\u05d1\\u05d5\\u05d8\\u05dc\\u05d4, \\u05d5\\u05d4\\u05d3\\u05d9\\u05d5\\u05df \\u05d4\\u05d5\\u05d7\\u05d6\\u05e8 \\u05dc\\u05d1\\u05d9\\u05ea \\u05d4\\u05de\\u05e9\\u05e4\\u05d8 \\u05dc\\u05e2\\u05e0\\u05d9\\u05d9\\u05e0\\u05d9\\u05dd \\u05de\\u05e7\\u05d5\\u05de\\u05d9\\u05d9\\u05dd, \\u05dc\\u05d4\\u05de\\u05e9\\u05da \\u05d1\\u05d9\\u05e8\\u05d5\\u05e8\\u05d5 \\u05dc\\u05de\\u05df \\u05d4\\u05e9\\u05dc\\u05d1 \\u05d0\\u05dc\\u05d9\\u05d5 \\u05d4\\u05d2\\u05d9\\u05e2. \\u05db\\u05e0\\u05d2\\u05d3 \\u05e4\\u05e1\\u05e7-\\u05d3\\u05d9\\u05e0\\u05d5 \\u05e9\\u05dc \\u05d1\\u05d9\\u05ea \\u05d4\\u05de\\u05e9\\u05e4\\u05d8 \\u05d4\\u05de\\u05d7\\u05d5\\u05d6\\u05d9 \\u05de\\u05d5\\u05e4\\u05e0\\u05d9\\u05ea \\u05d4\\u05d1\\u05e7\\u05e9\\u05d4 \\u05e9\\u05dc\\u05e4\\u05e0\\u05d9\\u05e0\\u05d5. \\u05d3\\u05d0 \\u05e2\\u05e7\\u05d0, \\u05de\\u05e9\\u05d8\\u05e8\\u05dd \\u05e0\\u05ea\\u05d1\\u05e8\\u05e8, \\u05d5\\u05de\\u05de\\u05d9\\u05dc\\u05d0 \\u05d8\\u05e8\\u05dd \\u05d4\\u05d5\\u05db\\u05e8\\u05e2, \\u05e2\\u05e0\\u05d9\\u05d9\\u05e0\\u05dd \\u05e9\\u05dc \\u05d4\\u05de\\u05d1\\u05e7\\u05e9\\u05d9\\u05dd - \\u05dc\\u05d2\\u05d5\\u05e4\\u05d5 - \\u05d1\\u05e2\\u05e8\\u05db\\u05d0\\u05d4 \\u05d4\\u05e8\\u05d0\\u05e9\\u05d5\\u05e0\\u05d4, \\u05d0\\u05d9\\u05df \\u05de\\u05e7\\u05d5\\u05dd \\u05dc\\u05d3\\u05d5\\u05df \\u05d1\\u05d8\\u05e2\\u05e0\\u05d5\\u05ea\\u05d9\\u05d4\\u05dd \\u05d1\\u05e4\\u05e0\\u05d9 \\u05d1\\u05d9\\u05ea \\u05de\\u05e9\\u05e4\\u05d8 \\u05d6\\u05d4. \\u05dc\\u05d0\\u05d7\\u05e8 \\u05e9\\u05d9\\u05de\\u05d5\\u05e6\\u05d5 \\u05d4\\u05d4\\u05dc\\u05d9\\u05db\\u05d9\\u05dd \\u05d1\\u05d1\\u05d9\\u05ea \\u05de\\u05e9\\u05e4\\u05d8 \\u05d4\\u05e9\\u05dc\\u05d5\\u05dd, \\u05d5\\u05d0\\u05dd \\u05d9\\u05d4\\u05d9\\u05d4 \\u05e6\\u05d5\\u05e8\\u05da \\u05d2\\u05dd \\u05d1\\u05d1\\u05d9\\u05ea \\u05d4\\u05de\\u05e9\\u05e4\\u05d8 \\u05d4\\u05de\\u05d7\\u05d5\\u05d6\\u05d9 - \\u05d9\\u05d4\\u05d9\\u05d5 \\u05e8\\u05e9\\u05d0\\u05d9\\u05dd \\u05d4\\u05de\\u05d1\\u05e7\\u05e9\\u05d9\\u05dd - \\u05e9\\u05d5\\u05d1, \\u05d0\\u05dd \\u05d9\\u05d4\\u05d9\\u05d4 \\u05e6\\u05d5\\u05e8\\u05da - \\u05dc\\u05e4\\u05e0\\u05d5\\u05ea \\u05dc\\u05d1\\u05d9\\u05ea \\u05de\\u05e9\\u05e4\\u05d8 \\u05d6\\u05d4 \\u05d1\\u05d1\\u05e7\\u05e9\\u05ea \\u05e8\\u05e9\\u05d5\\u05ea \\u05e2\\u05e8\\u05e2\\u05d5\\u05e8 (\\u05e8\\u05d0\\u05d5 \\u05e8\\u05e2\\\"\\u05e4 4632/97 \\u05d0\\u05e7\\u05e1\\u05dc\\u05e8\\u05d5\\u05d3 \\u05e0\\\\' \\u05de\\u05d3\\u05d9\\u05e0\\u05ea \\u05d9\\u05e9\\u05e8\\u05d0\\u05dc (\\u05ea\\u05e7-\\u05e2\\u05dc 97(3) 118)). \\u05e0\\u05d9\\u05ea\\u05e0\\u05d4 \\u05d4\\u05d9\\u05d5\\u05dd, \\u05d4\\\\' \\u05d1\\u05d0\\u05d3\\u05e8 \\u05ea\\u05e9\\u05e1\\\"\\u05d1 (17.2.2002). \\u05e9 \\u05d5 \\u05e4 \\u05d8 _________________ \\u05d4\\u05e2\\u05ea\\u05e7 \\u05de\\u05ea\\u05d0\\u05d9\\u05dd \\u05dc\\u05de\\u05e7\\u05d5\\u05e8 01096080.P02 /\\u05d0\\u05de \\u05e0\\u05d5\\u05e1\\u05d7 \\u05d6\\u05d4 \\u05db\\u05e4\\u05d5\\u05e3 \\u05dc\\u05e9\\u05d9\\u05e0\\u05d5\\u05d9\\u05d9 \\u05e2\\u05e8\\u05d9\\u05db\\u05d4 \\u05d5\\u05e0\\u05d9\\u05e1\\u05d5\\u05d7. \\u05e9\\u05de\\u05e8\\u05d9\\u05d4\\u05d5 \\u05db\\u05d4\\u05df - \\u05de\\u05d6\\u05db\\u05d9\\u05e8 \\u05e8\\u05d0\\u05e9\\u05d9 \\u05d1\\u05d1\\u05d9\\u05ea \\u05d4\\u05de\\u05e9\\u05e4\\u05d8 \\u05d4\\u05e2\\u05dc\\u05d9\\u05d5\\u05df \\u05e4\\u05d5\\u05e2\\u05dc \\u05de\\u05e8\\u05db\\u05d6 \\u05de\\u05d9\\u05d3\\u05e2, \\u05d8\\u05dc\\\\' 02-6750444 \\u05d1\\u05d9\\u05ea \\u05d4\\u05de\\u05e9\\u05e4\\u05d8 \\u05e4\\u05ea\\u05d5\\u05d7 \\u05dc\\u05d4\\u05e2\\u05e8\\u05d5\\u05ea \\u05d5\\u05d4\\u05e6\\u05e2\\u05d5\\u05ea: pniot@supreme.court.gov.il \\u05dc\\u05d1\\u05ea\\u05d9 \\u05d4\\u05de\\u05e9\\u05e4\\u05d8 \\u05d0\\u05ea\\u05e8 \\u05d1\\u05d0\\u05d9\\u05e0\\u05d8\\u05e8\\u05e0\\u05d8: www.court.gov.il']\",\n          \"['\\u05d4\\u05d7\\u05dc\\u05d8\\u05d4 \\u05d1\\u05ea\\u05d9\\u05e7 \\u05d1\\u05e9\\\"\\u05e4 1092/17 \\u05d1\\u05d1\\u05d9\\u05ea \\u05d4\\u05de\\u05e9\\u05e4\\u05d8 \\u05d4\\u05e2\\u05dc\\u05d9\\u05d5\\u05df \\u05e8\\u05e2\\\"\\u05e4 1092/17 \\u05dc\\u05e4\\u05e0\\u05d9: \\u05db\\u05d1\\u05d5\\u05d3 \\u05d4\\u05e9\\u05d5\\u05e4\\u05d8\\u05ea \\u05d3\\\\' \\u05d1\\u05e8\\u05e7-\\u05d0\\u05e8\\u05d6 \\u05d4\\u05de\\u05e2\\u05e8\\u05e2\\u05e8\\u05d9\\u05dd: 1. \\u05db\\u05e4\\u05d9\\u05e8 \\u05d3\\u05d4\\u05df 2. \\u05e9\\u05d9\\u05e8\\u05d4 \\u05d3\\u05d4\\u05df \\u05e0\\u05d2\\u05d3 \\u05d4\\u05de\\u05e9\\u05d9\\u05d1\\u05d4: \\u05d4\\u05d5\\u05d5\\u05e2\\u05d3\\u05d4 \\u05d4\\u05de\\u05e7\\u05d5\\u05de\\u05d9\\u05ea \\u05dc\\u05ea\\u05db\\u05e0\\u05d5\\u05df \\u05d5\\u05d1\\u05e0\\u05d9\\u05d4 \\u05de\\u05d8\\u05d4 \\u05d9\\u05d4\\u05d5\\u05d3\\u05d4 \\u05d1\\u05e7\\u05e9\\u05ea \\u05e8\\u05e9\\u05d5\\u05ea \\u05e2\\u05e8\\u05e2\\u05d5\\u05e8 \\u05e2\\u05dc \\u05e4\\u05e1\\u05e7 \\u05d3\\u05d9\\u05e0\\u05d5 \\u05e9\\u05dc \\u05d1\\u05d9\\u05ea \\u05d4\\u05de\\u05e9\\u05e4\\u05d8 \\u05d4\\u05de\\u05d7\\u05d5\\u05d6\\u05d9 \\u05d1\\u05d9\\u05e8\\u05d5\\u05e9\\u05dc\\u05d9\\u05dd \\u05de\\u05d9\\u05d5\\u05dd 30.1.2017 \\u05d1\\u05e2\\\"\\u05e4 23940-12-16 \\u05e9\\u05e0\\u05d9\\u05ea\\u05df \\u05e2\\u05dc-\\u05d9\\u05d3\\u05d9 \\u05db\\u05d1\\u05d5\\u05d3 \\u05d4\\u05e9\\u05d5\\u05e4\\u05d8 \\u05d7\\\\' \\u05de\\\\' \\u05dc\\u05d5\\u05de\\u05e4 \\u05d1\\u05e9\\u05dd \\u05d4\\u05de\\u05e2\\u05e8\\u05e2\\u05e8\\u05d9\\u05dd: \\u05d1\\u05e2\\u05e6\\u05de\\u05dd \\u05d1\\u05e9\\u05dd \\u05d4\\u05de\\u05e9\\u05d9\\u05d1\\u05d4: \\u05e2\\u05d5\\\"\\u05d3 \\u05e8\\u05e2\\u05d5\\u05ea \\u05d0\\u05d4\\u05e8\\u05d5\\u05df, \\u05e2\\u05d5\\\"\\u05d3 \\u05de\\u05d0\\u05d9\\u05e8 \\u05d1\\u05df \\u05d3\\u05d5\\u05d3 \\u05e4\\u05e1\\u05e7 \\u05d3\\u05d9\\u05df 1. \\u05d4\\u05d1\\u05e7\\u05e9\\u05d4 \\u05e9\\u05d1\\u05e4\\u05e0\\u05d9 \\u05e0\\u05e7\\u05dc\\u05d8\\u05d4 \\u05d1\\u05de\\u05d6\\u05db\\u05d9\\u05e8\\u05d5\\u05ea \\u05d1\\u05d9\\u05ea \\u05d4\\u05de\\u05e9\\u05e4\\u05d8, \\u05d1\\u05d8\\u05e2\\u05d5\\u05ea, \\u05ea\\u05d7\\u05ea \\u05d4\\u05e1\\u05d9\\u05d5\\u05d5\\u05d2 \\u05d1\\u05e9\\\"\\u05e4. \\u05d4\\u05dc\\u05db\\u05d4 \\u05dc\\u05de\\u05e2\\u05e9\\u05d4, \\u05de\\u05d3\\u05d5\\u05d1\\u05e8 \\u05d1\\u05d1\\u05e7\\u05e9\\u05ea \\u05e8\\u05e9\\u05d5\\u05ea \\u05dc\\u05e2\\u05e8\\u05e2\\u05e8 \\u05e2\\u05dc \\u05e4\\u05e1\\u05e7 \\u05d3\\u05d9\\u05e0\\u05d5 \\u05e9\\u05dc \\u05d1\\u05d9\\u05ea \\u05d4\\u05de\\u05e9\\u05e4\\u05d8 \\u05d4\\u05de\\u05d7\\u05d5\\u05d6\\u05d9 \\u05d1\\u05d9\\u05e8\\u05d5\\u05e9\\u05dc\\u05d9\\u05dd \\u05de\\u05d9\\u05d5\\u05dd 30.1.2017 (\\u05e2\\\"\\u05e4 23940-12-16, \\u05d4\\u05e9\\u05d5\\u05e4\\u05d8\\u05ea \\u05d7\\\\' \\u05de\\\\' \\u05dc\\u05d5\\u05de\\u05e4). \\u05e1\\u05d9\\u05d5\\u05d5\\u05d2\\u05d4 \\u05d4\\u05e8\\u05d0\\u05d5\\u05d9 \\u05d0\\u05e4\\u05d5\\u05d0 \\u05d4\\u05d5\\u05d0 \\u05e8\\u05e2\\\"\\u05e4, \\u05d5\\u05db\\u05da \\u05d0\\u05e0\\u05d9 \\u05de\\u05d5\\u05e8\\u05d4. 2. \\u05de\\u05e7\\u05d5\\u05e8\\u05d5 \\u05e9\\u05dc \\u05d4\\u05d4\\u05dc\\u05d9\\u05da \\u05d3\\u05e0\\u05df \\u05d4\\u05d5\\u05d0 \\u05d1\\u05d1\\u05e7\\u05e9\\u05d4 \\u05dc\\u05de\\u05ea\\u05df \\u05d0\\u05d5\\u05e8\\u05db\\u05d4 \\u05dc\\u05d1\\u05d9\\u05e6\\u05d5\\u05e2\\u05d5 \\u05e9\\u05dc \\u05e6\\u05d5 \\u05d4\\u05d4\\u05e8\\u05d9\\u05e1\\u05d4 \\u05e9\\u05d4\\u05d5\\u05e6\\u05d0 \\u05d1\\u05d9\\u05d7\\u05e1 \\u05dc\\u05de\\u05d1\\u05e0\\u05d4 \\u05d4\\u05d9\\u05d1\\u05d9\\u05dc \\u05e9\\u05d1\\u05d5 \\u05de\\u05ea\\u05d2\\u05d5\\u05e8\\u05e8\\u05d9\\u05dd \\u05d4\\u05de\\u05d1\\u05e7\\u05e9\\u05d9\\u05dd \\u05d1\\u05de\\u05e1\\u05d2\\u05e8\\u05ea \\u05d4\\u05dc\\u05d9\\u05da \\u05e4\\u05dc\\u05d9\\u05dc\\u05d9 \\u05dc\\u05e4\\u05d9 \\u05d7\\u05d5\\u05e7 \\u05d4\\u05ea\\u05db\\u05e0\\u05d5\\u05df \\u05d5\\u05d4\\u05d1\\u05e0\\u05d9\\u05d4, \\u05d4\\u05ea\\u05e9\\u05db\\\"\\u05d4-1965. \\u05d4\\u05d1\\u05e7\\u05e9\\u05d4 \\u05e0\\u05d3\\u05d7\\u05ea\\u05d4 \\u05e2\\u05dc \\u05d9\\u05d3\\u05d9 \\u05d1\\u05d9\\u05ea \\u05d4\\u05de\\u05e9\\u05e4\\u05d8 \\u05dc\\u05e2\\u05e0\\u05d9\\u05d9\\u05e0\\u05d9\\u05dd \\u05de\\u05e7\\u05d5\\u05de\\u05d9\\u05d9\\u05dd \\u05d1\\u05d1\\u05d9\\u05ea \\u05e9\\u05de\\u05e9 \\u05d5\\u05e2\\u05dc \\u05db\\u05df \\u05d4\\u05d2\\u05d9\\u05e9\\u05d5 \\u05d4\\u05de\\u05d1\\u05e7\\u05e9\\u05d9\\u05dd \\u05e2\\u05e8\\u05e2\\u05d5\\u05e8 \\u05dc\\u05d1\\u05d9\\u05ea \\u05d4\\u05de\\u05e9\\u05e4\\u05d8 \\u05d4\\u05de\\u05d7\\u05d5\\u05d6\\u05d9, \\u05d0\\u05e9\\u05e8 \\u05e7\\u05d1\\u05e2 \\u05db\\u05d9 \\u05ea\\u05d9\\u05e0\\u05ea\\u05df \\u05dc\\u05de\\u05d1\\u05e7\\u05e9\\u05d9\\u05dd \\u05d0\\u05d5\\u05e8\\u05db\\u05d4 \\u05dc\\u05e4\\u05e0\\u05d5\\u05ea \\u05d0\\u05ea \\u05d4\\u05de\\u05d1\\u05e0\\u05d4 \\u05e2\\u05d3 \\u05dc\\u05d9\\u05d5\\u05dd 1.4.2017 \\u05d5\\u05dc\\u05d4\\u05e8\\u05e1\\u05d5 \\u05e2\\u05d3 \\u05dc\\u05d9\\u05d5\\u05dd 2.5.2017. \\u05dc\\u05d0\\u05d7\\u05e8 \\u05de\\u05db\\u05df \\u05d4\\u05de\\u05d1\\u05e7\\u05e9\\u05d9\\u05dd \\u05d4\\u05d2\\u05d9\\u05e9\\u05d5 \\u05d1\\u05e7\\u05e9\\u05ea \\u05d0\\u05d5\\u05e8\\u05db\\u05d4 \\u05e0\\u05d5\\u05e1\\u05e4\\u05ea \\u05dc\\u05d1\\u05d9\\u05ea \\u05d4\\u05de\\u05e9\\u05e4\\u05d8 \\u05d4\\u05de\\u05d7\\u05d5\\u05d6\\u05d9, \\u05d5\\u05d6\\u05d5 \\u05e0\\u05d3\\u05d7\\u05ea\\u05d4. \\u05e2\\u05dc \\u05db\\u05da \\u05e0\\u05e1\\u05d1\\u05d4 \\u05d4\\u05d1\\u05e7\\u05e9\\u05d4 \\u05e9\\u05d1\\u05e4\\u05e0\\u05d9. 3. \\u05d1\\u05ea\\u05e9\\u05d5\\u05d1\\u05d4 \\u05e9\\u05d4\\u05d5\\u05d2\\u05e9\\u05d4 \\u05de\\u05d8\\u05e2\\u05dd \\u05d4\\u05de\\u05e9\\u05d9\\u05d1\\u05d4 \\u05e6\\u05d5\\u05d9\\u05df \\u05db\\u05d9 \\u05d4\\u05de\\u05e7\\u05e8\\u05d4 \\u05d4\\u05e2\\u05d5\\u05de\\u05d3 \\u05d1\\u05d9\\u05e1\\u05d5\\u05d3 \\u05d4\\u05d4\\u05dc\\u05d9\\u05da \\u05db\\u05e8\\u05d5\\u05da \\u05d1\\u05e0\\u05e1\\u05d9\\u05d1\\u05d5\\u05ea \\u05d0\\u05d9\\u05e9\\u05d9\\u05d5\\u05ea \\u05d5\\u05de\\u05e9\\u05e4\\u05d7\\u05ea\\u05d9\\u05d5\\u05ea \\u05d7\\u05e8\\u05d9\\u05d2\\u05d5\\u05ea \\u05d5\\u05e7\\u05e9\\u05d5\\u05ea \\u05d5\\u05e2\\u05dc \\u05db\\u05df \\u05d4\\u05d9\\u05d0 \\u05de\\u05d1\\u05e7\\u05e9\\u05ea \\u05dc\\u05d4\\u05d5\\u05ea\\u05d9\\u05e8 \\u05d0\\u05ea \\u05d4\\u05d4\\u05db\\u05e8\\u05e2\\u05d4 \\u05d1\\u05d5 \\u05dc\\u05e9\\u05d9\\u05e7\\u05d5\\u05dc \\u05d3\\u05e2\\u05ea\\u05d5 \\u05e9\\u05dc \\u05d1\\u05d9\\u05ea \\u05d4\\u05de\\u05e9\\u05e4\\u05d8. \\u05d1\\u05d4\\u05ea\\u05d7\\u05e9\\u05d1 \\u05d1\\u05db\\u05da \\u05d5\\u05dc\\u05d0\\u05d7\\u05e8 \\u05e9\\u05d1\\u05d7\\u05e0\\u05ea\\u05d9 \\u05d0\\u05ea \\u05de\\u05db\\u05dc\\u05d5\\u05dc \\u05d4\\u05e0\\u05e1\\u05d9\\u05d1\\u05d5\\u05ea \\u05d4\\u05e2\\u05e0\\u05d9\\u05d9\\u05df, \\u05d0\\u05e0\\u05d9 \\u05de\\u05d5\\u05e8\\u05d4 \\u05e2\\u05dc \\u05de\\u05ea\\u05df \\u05d0\\u05d5\\u05e8\\u05db\\u05d4 \\u05e0\\u05d5\\u05e1\\u05e4\\u05ea \\u05dc\\u05de\\u05d1\\u05e7\\u05e9\\u05d9\\u05dd \\u05dc\\u05e4\\u05e0\\u05d5\\u05ea \\u05d0\\u05ea \\u05d4\\u05de\\u05d1\\u05e0\\u05d4 \\u05e2\\u05d3 \\u05dc\\u05d9\\u05d5\\u05dd 1.7.2017 \\u05d5\\u05dc\\u05d4\\u05e8\\u05e1\\u05d5 \\u05e2\\u05d3 \\u05dc\\u05d9\\u05d5\\u05dd 2.8.2017 (\\u05d1\\u05ea\\u05e0\\u05d0\\u05d9\\u05dd \\u05e9\\u05e0\\u05e7\\u05d1\\u05e2\\u05d5 \\u05d1\\u05e4\\u05e1\\u05e7 \\u05d3\\u05d9\\u05e0\\u05d5 \\u05e9\\u05dc \\u05d1\\u05d9\\u05ea \\u05d4\\u05de\\u05e9\\u05e4\\u05d8 \\u05d4\\u05de\\u05d7\\u05d5\\u05d6\\u05d9). 4. \\u05d4\\u05d1\\u05e7\\u05e9\\u05d4 \\u05de\\u05ea\\u05e7\\u05d1\\u05dc\\u05ea \\u05d0\\u05e4\\u05d5\\u05d0 \\u05db\\u05de\\u05e4\\u05d5\\u05e8\\u05d8 \\u05d1\\u05e4\\u05e1\\u05e7\\u05d4 3. \\u05e2\\u05dc \\u05d4\\u05de\\u05d1\\u05e7\\u05e9\\u05d9\\u05dd \\u05dc\\u05d4\\u05d1\\u05d9\\u05df \\u05db\\u05d9 \\u05d4\\u05d4\\u05d9\\u05e2\\u05e0\\u05d5\\u05ea \\u05dc\\u05d1\\u05e7\\u05e9\\u05ea\\u05dd \\u05d4\\u05ea\\u05d0\\u05e4\\u05e9\\u05e8\\u05d4 \\u05dc\\u05e0\\u05d5\\u05db\\u05d7 \\u05d4\\u05e2\\u05de\\u05d3\\u05d4 \\u05e9\\u05d2\\u05d9\\u05dc\\u05ea\\u05d4 \\u05d4\\u05de\\u05e9\\u05d9\\u05d1\\u05d4, \\u05d5\\u05db\\u05d9 \\u05d0\\u05dc \\u05dc\\u05d4\\u05dd \\u05dc\\u05e6\\u05e4\\u05d5\\u05ea \\u05dc\\u05db\\u05dc \\u05d4\\u05e7\\u05dc\\u05d5\\u05ea \\u05e0\\u05d5\\u05e1\\u05e4\\u05d5\\u05ea, \\u05d0\\u05dc\\u05d0 \\u05dc\\u05d4\\u05d9\\u05e2\\u05e8\\u05da \\u05dc\\u05d1\\u05d9\\u05e6\\u05d5\\u05e2 \\u05d4\\u05e6\\u05d5 \\u05d4\\u05e9\\u05d9\\u05e4\\u05d5\\u05d8\\u05d9, \\u05de\\u05e9\\u05ea\\u05de\\u05d5 \\u05d4\\u05d4\\u05dc\\u05d9\\u05db\\u05d9\\u05dd \\u05db\\u05d5\\u05dc\\u05dd. \\u05e0\\u05d9\\u05ea\\u05df \\u05d4\\u05d9\\u05d5\\u05dd, \\\\u200f\\u05d9\\\"\\u05d8 \\u05d1\\u05e9\\u05d1\\u05d8 \\u05d4\\u05ea\\u05e9\\u05e2\\\"\\u05d6 (\\\\u200f15.2.2017). \\u05e9 \\u05d5 \\u05e4 \\u05d8 \\u05ea _________________________ \"\n        ],\n        \"semantic_type\": \"\",\n        \"description\": \"\"\n      }\n    },\n    {\n      \"column\": \"\\u05ea\\u05d5\\u05e6\\u05d0\\u05d4 \\u05de\\u05e1\\u05db\\u05de\\u05ea\",\n      \"properties\": {\n        \"dtype\": \"string\",\n        \"num_unique_values\": 5,\n        \"samples\": [\n          \"\\u05d1\\u05e7\\u05e9\\u05d4 \\u05d0\\u05d7\\u05e8\\u05ea\\n\\u05d1\\u05e7\\u05e9\\u05d4 \\u05dc\\u05d3\\u05d7\\u05d9\\u05d9\\u05ea \\u05de\\u05d5\\u05e2\\u05d3 \\u05ea\\u05d7\\u05d9\\u05dc\\u05ea \\u05e8\\u05d9\\u05e6\\u05d5\\u05d9 \\u05e2\\u05d5\\u05e0\\u05e9 \\u05d4\\u05de\\u05d0\\u05e1\\u05e8\",\n          \"\\u05d3\\u05d0 \\u05e2\\u05e7\\u05d0, \\u05de\\u05e9\\u05d8\\u05e8\\u05dd \\u05e0\\u05ea\\u05d1\\u05e8\\u05e8, \\u05d5\\u05de\\u05de\\u05d9\\u05dc\\u05d0 \\u05d8\\u05e8\\u05dd \\u05d4\\u05d5\\u05db\\u05e8\\u05e2, \\u05e2\\u05e0\\u05d9\\u05d9\\u05e0\\u05dd \\u05e9\\u05dc \\u05d4\\u05de\\u05d1\\u05e7\\u05e9\\u05d9\\u05dd - \\u05dc\\u05d2\\u05d5\\u05e4\\u05d5 - \\u05d1\\u05e2\\u05e8\\u05db\\u05d0\\u05d4 \\u05d4\\u05e8\\u05d0\\u05e9\\u05d5\\u05e0\\u05d4, \\u05d0\\u05d9\\u05df \\u05de\\u05e7\\u05d5\\u05dd \\u05dc\\u05d3\\u05d5\\u05df \\u05d1\\u05d8\\u05e2\\u05e0\\u05d5\\u05ea\\u05d9\\u05d4\\u05dd \\u05d1\\u05e4\\u05e0\\u05d9 \\u05d1\\u05d9\\u05ea \\u05de\\u05e9\\u05e4\\u05d8 \\u05d6\\u05d4. \\u05dc\\u05d0\\u05d7\\u05e8 \\u05e9\\u05d9\\u05de\\u05d5\\u05e6\\u05d5 \\u05d4\\u05d4\\u05dc\\u05d9\\u05db\\u05d9\\u05dd \\u05d1\\u05d1\\u05d9\\u05ea \\u05de\\u05e9\\u05e4\\u05d8 \\u05d4\\u05e9\\u05dc\\u05d5\\u05dd, \\u05d5\\u05d0\\u05dd \\u05d9\\u05d4\\u05d9\\u05d4 \\u05e6\\u05d5\\u05e8\\u05da \\u05d2\\u05dd \\u05d1\\u05d1\\u05d9\\u05ea \\u05d4\\u05de\\u05e9\\u05e4\\u05d8 \\u05d4\\u05de\\u05d7\\u05d5\\u05d6\\u05d9 - \\u05d9\\u05d4\\u05d9\\u05d5 \\u05e8\\u05e9\\u05d0\\u05d9\\u05dd \\u05d4\\u05de\\u05d1\\u05e7\\u05e9\\u05d9\\u05dd - \\u05e9\\u05d5\\u05d1, \\u05d0\\u05dd \\u05d9\\u05d4\\u05d9\\u05d4 \\u05e6\\u05d5\\u05e8\\u05da - \\u05dc\\u05e4\\u05e0\\u05d5\\u05ea \\u05dc\\u05d1\\u05d9\\u05ea \\u05de\\u05e9\\u05e4\\u05d8 \\u05d6\\u05d4 \\u05d1\\u05d1\\u05e7\\u05e9\\u05ea \\u05e8\\u05e9\\u05d5\\u05ea \\u05e2\\u05e8\\u05e2\\u05d5\",\n          \"\\u05d1\\u05d9\\u05d4\\u05de\\u05f3\\u05f3\\u05e9 \\u05e0\\u05ea\\u05df \\u05d0\\u05d5\\u05e8\\u05db\\u05d4 \\u05d0\\u05da \\u05dc\\u05d0 \\u05d1\\u05d9\\u05d8\\u05dc \\u05d0\\u05ea \\u05e6\\u05d5 \\u05d4\\u05d4\\u05e8\\u05d9\\u05e1\\u05d4\\n\\u05d4\\u05d1\\u05e7\\u05e9\\u05d4 \\u05de\\u05ea\\u05e7\\u05d1\\u05dc\\u05ea \\u05d0\\u05e4\\u05d5\\u05d0 \\u05db\\u05de\\u05e4\\u05d5\\u05e8\\u05d8 \\u05d1\\u05e4\\u05e1\\u05e7\\u05d4 3\"\n        ],\n        \"semantic_type\": \"\",\n        \"description\": \"\"\n      }\n    }\n  ]\n}"
            }
          },
          "metadata": {},
          "execution_count": 24
        }
      ]
    },
    {
      "cell_type": "code",
      "source": [
        "df.to_excel(\"/content/dataframe_cleaned.xlsx\", index=False)"
      ],
      "metadata": {
        "id": "sWN2TicK8nF6"
      },
      "execution_count": 25,
      "outputs": []
    },
    {
      "cell_type": "markdown",
      "source": [
        "# split - train, validation, test"
      ],
      "metadata": {
        "id": "DvkoVz9nl7qx"
      }
    },
    {
      "cell_type": "code",
      "source": [
        "train_data, temp_data = train_test_split(df, test_size=0.2, random_state=42)\n",
        "valid_data, test_data = train_test_split(temp_data, test_size=0.5, random_state=42)\n",
        "\n",
        "def convert_to_jsonl(data, filename):\n",
        "    with open(filename, \"w\", encoding=\"utf-8\") as f:\n",
        "        for _, row in data.iterrows():\n",
        "            json.dump({\n",
        "                \"messages\": [\n",
        "                    {\"role\": \"system\", \"content\": \"אתה עוזר משפטי לניתוח פסקי דין מסוג רע\\\"פ\"},\n",
        "                    {\"role\": \"user\", \"content\": row[\"גוף המסמך חתוך\"]},\n",
        "                    {\"role\": \"assistant\", \"content\": row[\"תוצאה מסכמת\"]}\n",
        "                ]\n",
        "            }, f, ensure_ascii=False)\n",
        "            f.write(\"\\n\")\n",
        "\n",
        "convert_to_jsonl(train_data, \"train.jsonl\")\n",
        "convert_to_jsonl(valid_data, \"valid.jsonl\")\n",
        "convert_to_jsonl(test_data, \"test.jsonl\")\n"
      ],
      "metadata": {
        "id": "-bvQXAHkypbm"
      },
      "execution_count": 26,
      "outputs": []
    },
    {
      "cell_type": "markdown",
      "source": [
        "# GPT Fine tuning"
      ],
      "metadata": {
        "id": "sQs5YfJclw-_"
      }
    },
    {
      "cell_type": "code",
      "source": [
        "with open(\"/content/api_key.txt\", \"r\") as file:\n",
        "    api_key = file.read().strip()\n",
        "\n",
        "\n",
        "client = openai.OpenAI(api_key=api_key)\n",
        "\n",
        "\n",
        "\n",
        "train_file = client.files.create(\n",
        "    file=open(\"train.jsonl\", \"rb\"),\n",
        "    purpose=\"fine-tune\"\n",
        ")\n",
        "\n",
        "print(\"Train File ID:\", train_file.id)\n"
      ],
      "metadata": {
        "colab": {
          "base_uri": "https://localhost:8080/"
        },
        "id": "aIVvqpF7B5j-",
        "outputId": "4852228d-cbab-4ccd-b392-7e60b0a7cca3"
      },
      "execution_count": 27,
      "outputs": [
        {
          "output_type": "stream",
          "name": "stdout",
          "text": [
            "Train File ID: file-7VVztU3Jp4qdfnAYiCR9q2\n"
          ]
        }
      ]
    },
    {
      "cell_type": "code",
      "source": [
        "files = client.files.list()\n",
        "print(files)"
      ],
      "metadata": {
        "colab": {
          "base_uri": "https://localhost:8080/"
        },
        "id": "wv5HKJP8QAWN",
        "outputId": "469ca75a-e43d-4450-8720-23754bb0e47d"
      },
      "execution_count": 28,
      "outputs": [
        {
          "output_type": "stream",
          "name": "stdout",
          "text": [
            "SyncCursorPage[FileObject](data=[FileObject(id='file-7VVztU3Jp4qdfnAYiCR9q2', bytes=1025228, created_at=1740495289, filename='train.jsonl', object='file', purpose='fine-tune', status='processed', status_details=None, expires_at=None), FileObject(id='file-M37a1Mw35eyjq5tSTPt2xg', bytes=1023650, created_at=1740494945, filename='train.jsonl', object='file', purpose='fine-tune', status='processed', status_details=None, expires_at=None), FileObject(id='file-2uDjhATy2M7N25mtwHgVFw', bytes=21008, created_at=1740490900, filename='step_metrics.csv', object='file', purpose='fine-tune-results', status='processed', status_details=None, expires_at=None), FileObject(id='file-53Ns892y8pFTfiYRrBJ8ki', bytes=1108947, created_at=1740489359, filename='train.jsonl', object='file', purpose='fine-tune', status='processed', status_details=None, expires_at=None), FileObject(id='file-4uQENmlKIEQklPGwd7nccNbo', bytes=351964, created_at=1700573627, filename='COCKTAIL MENU EXAMLPLE.PNG', object='file', purpose='assistants', status='processed', status_details=None, expires_at=None)], has_more=False, object='list', first_id='file-7VVztU3Jp4qdfnAYiCR9q2', last_id='file-4uQENmlKIEQklPGwd7nccNbo')\n"
          ]
        }
      ]
    },
    {
      "cell_type": "code",
      "source": [
        "fine_tune = client.fine_tuning.jobs.create(\n",
        "    training_file=train_file.id,\n",
        "    model=\"gpt-3.5-turbo\"\n",
        ")\n",
        "\n",
        "print(\"Fine-Tuning Job ID:\", fine_tune.id)\n"
      ],
      "metadata": {
        "colab": {
          "base_uri": "https://localhost:8080/"
        },
        "id": "surRCAvEQEYC",
        "outputId": "5fa1b428-23c2-4877-b91d-dc24fd8cd2b9"
      },
      "execution_count": 29,
      "outputs": [
        {
          "output_type": "stream",
          "name": "stdout",
          "text": [
            "Fine-Tuning Job ID: ftjob-Cgcdih0yQ80TUbwKrKftBITQ\n"
          ]
        }
      ]
    },
    {
      "cell_type": "code",
      "source": [
        "fine_tune_status = client.fine_tuning.jobs.retrieve(fine_tune.id)\n",
        "print(fine_tune_status)"
      ],
      "metadata": {
        "colab": {
          "base_uri": "https://localhost:8080/"
        },
        "id": "8qqWR0MtQPb-",
        "outputId": "ace2b52e-62d2-466b-f329-65b6fddc5e9e"
      },
      "execution_count": 30,
      "outputs": [
        {
          "output_type": "stream",
          "name": "stdout",
          "text": [
            "FineTuningJob(id='ftjob-Cgcdih0yQ80TUbwKrKftBITQ', created_at=1740495299, error=Error(code=None, message=None, param=None), fine_tuned_model=None, finished_at=None, hyperparameters=Hyperparameters(batch_size='auto', learning_rate_multiplier='auto', n_epochs='auto'), model='gpt-3.5-turbo-0125', object='fine_tuning.job', organization_id='org-XsklJyn5A831tAwBRgKN0tGP', result_files=[], seed=672308762, status='validating_files', trained_tokens=None, training_file='file-7VVztU3Jp4qdfnAYiCR9q2', validation_file=None, estimated_finish=None, integrations=[], method=Method(dpo=None, supervised=MethodSupervised(hyperparameters=MethodSupervisedHyperparameters(batch_size='auto', learning_rate_multiplier='auto', n_epochs='auto')), type='supervised'), user_provided_suffix=None)\n"
          ]
        }
      ]
    },
    {
      "cell_type": "code",
      "source": [
        "job_id = fine_tune_status.id\n",
        "while True:\n",
        "    fine_tune_job = client.fine_tuning.jobs.retrieve(job_id)\n",
        "    print(f\"Status: {fine_tune_job.status}\")\n",
        "\n",
        "    if fine_tune_job.status in [\"succeeded\", \"failed\", \"cancelled\"]:\n",
        "        print(f\"Fine-Tuned Model ID: {fine_tune_job.fine_tuned_model}\")\n",
        "        break\n",
        "\n",
        "    time.sleep(60*5)"
      ],
      "metadata": {
        "colab": {
          "base_uri": "https://localhost:8080/"
        },
        "id": "GVzAVhHfQ-nS",
        "outputId": "5bdd8567-e65b-47cb-e896-098a5d3e178f"
      },
      "execution_count": null,
      "outputs": [
        {
          "output_type": "stream",
          "name": "stdout",
          "text": [
            "Status: validating_files\n"
          ]
        }
      ]
    },
    {
      "cell_type": "code",
      "source": [
        "print(fine_tune_job.trained_tokens)\n",
        "print(fine_tune_job.fine_tuned_model)"
      ],
      "metadata": {
        "id": "MKax7TTrQqsn"
      },
      "execution_count": null,
      "outputs": []
    },
    {
      "cell_type": "code",
      "source": [
        "result_files = client.files.list()\n",
        "for file in result_files.data:\n",
        "    if \"fine-tuning\" in file.purpose:\n",
        "        print(file.filename, file.id)\n"
      ],
      "metadata": {
        "id": "Y75Vbz6sQxLf"
      },
      "execution_count": null,
      "outputs": []
    },
    {
      "cell_type": "code",
      "source": [
        "response = client.chat.completions.create(\n",
        "    model=fine_tune_job.fine_tuned_model,\n",
        "    messages=[\n",
        "        {\"role\": \"system\", \"content\": 'אתה מומחה משפטי לניתוח ותמצות שורה תחתונה של פסקי דין מסוג רע\"פ'},\n",
        "        {\"role\": \"user\", \"content\": test_data.iloc[0][\"גוף המסמך חתוך\"]}\n",
        "    ]\n",
        ")\n",
        "\n",
        "print(\"תשובה שהמודל נתן:\")\n",
        "print(response.choices[0].message.content)\n",
        "\n",
        "print(\"תוצאה מקורית:\\n\")\n",
        "print(test_data.iloc[0][\"תוצאה מסכמת\"])\n"
      ],
      "metadata": {
        "id": "aRWCn-FFnE61"
      },
      "execution_count": null,
      "outputs": []
    }
  ]
}