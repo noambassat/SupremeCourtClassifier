{
  "cells": [
    {
      "cell_type": "markdown",
      "metadata": {
        "id": "view-in-github",
        "colab_type": "text"
      },
      "source": [
        "<a href=\"https://colab.research.google.com/github/noambassat/SupremeCourtClassifier/blob/main/8_JONATAN_pipeline.ipynb\" target=\"_parent\"><img src=\"https://colab.research.google.com/assets/colab-badge.svg\" alt=\"Open In Colab\"/></a>"
      ]
    },
    {
      "cell_type": "code",
      "execution_count": 4,
      "id": "9E55EdbICO6k",
      "metadata": {
        "id": "9E55EdbICO6k"
      },
      "outputs": [],
      "source": [
        "from sklearn.metrics import confusion_matrix, ConfusionMatrixDisplay\n",
        "import matplotlib.pyplot as plt\n",
        "import joblib\n",
        "import numpy as np\n",
        "import pandas as pd\n",
        "import matplotlib.pyplot as plt\n",
        "from sklearn.metrics import make_scorer, accuracy_score, precision_score, recall_score, f1_score,make_scorer, accuracy_score, precision_score, recall_score, f1_score, confusion_matrix\n",
        "# from imblearn.under_sampling import RandomUnderSampler\n"
      ]
    },
    {
      "cell_type": "code",
      "source": [
        "file_path = \"final_sample_df.xlsx\""
      ],
      "metadata": {
        "id": "219K_qoHmVgd"
      },
      "id": "219K_qoHmVgd",
      "execution_count": null,
      "outputs": []
    },
    {
      "cell_type": "code",
      "source": [
        "data = pd.read_excel(file_path)"
      ],
      "metadata": {
        "id": "QH1m8uSgOx2G"
      },
      "id": "QH1m8uSgOx2G",
      "execution_count": null,
      "outputs": []
    },
    {
      "cell_type": "markdown",
      "source": [
        "# EDA\n"
      ],
      "metadata": {
        "id": "KMUnJcLW4Xy-"
      },
      "id": "KMUnJcLW4Xy-"
    },
    {
      "cell_type": "code",
      "source": [
        "data.columns"
      ],
      "metadata": {
        "id": "O-vMRqdebTEq"
      },
      "id": "O-vMRqdebTEq",
      "execution_count": null,
      "outputs": []
    },
    {
      "cell_type": "code",
      "source": [
        "data.columns"
      ],
      "metadata": {
        "id": "AdRRI7Wzelt_"
      },
      "id": "AdRRI7Wzelt_",
      "execution_count": null,
      "outputs": []
    },
    {
      "cell_type": "code",
      "source": [
        "data['רע\"פ בקשה אחרת או דלמטה מיוחד'].value_counts()\n",
        "data[(data['רע\"פ בקשה אחרת או דלמטה מיוחד'] == 'בקשה אחרת') | (data['רע\"פ בקשה אחרת או דלמטה מיוחד'] == 'דלמטה מיוחד')].shape[0]"
      ],
      "metadata": {
        "id": "jX8Ze7F7bc_o"
      },
      "id": "jX8Ze7F7bc_o",
      "execution_count": null,
      "outputs": []
    },
    {
      "cell_type": "markdown",
      "source": [
        "מחיקה של מה שהוא בקשה אחרת או דלמטה מיוחד"
      ],
      "metadata": {
        "id": "3b5oSSgiYpKf"
      },
      "id": "3b5oSSgiYpKf"
    },
    {
      "cell_type": "code",
      "source": [
        "data = data[(data['רע\"פ בקשה אחרת או דלמטה מיוחד'] != 'בקשה אחרת') & (data['רע\"פ בקשה אחרת או דלמטה מיוחד'] != 'דלמטה מיוחד')]"
      ],
      "metadata": {
        "id": "KE91qI16ckMq"
      },
      "id": "KE91qI16ckMq",
      "execution_count": null,
      "outputs": []
    },
    {
      "cell_type": "code",
      "source": [
        "check_data = data[[\n",
        "       'בקשה לרשות ערעור התקבלה?',\n",
        "       'הערעור התקבל?']]"
      ],
      "metadata": {
        "id": "QvTXEuNxfcPY"
      },
      "id": "QvTXEuNxfcPY",
      "execution_count": null,
      "outputs": []
    },
    {
      "cell_type": "code",
      "source": [
        "check_data[check_data['בקשה לרשות ערעור התקבלה?'].isnull()]"
      ],
      "metadata": {
        "id": "ibGgS6ZhD4ql"
      },
      "id": "ibGgS6ZhD4ql",
      "execution_count": null,
      "outputs": []
    },
    {
      "cell_type": "code",
      "source": [
        "check_data[check_data[ 'הערעור התקבל?'].isnull()]"
      ],
      "metadata": {
        "id": "9iGmheseEF5j"
      },
      "id": "9iGmheseEF5j",
      "execution_count": null,
      "outputs": []
    },
    {
      "cell_type": "code",
      "source": [],
      "metadata": {
        "id": "uxUdUrvkbOj2"
      },
      "id": "uxUdUrvkbOj2",
      "execution_count": null,
      "outputs": []
    },
    {
      "cell_type": "markdown",
      "source": [
        "\\אם הערך ריק ב\"בקשה לרשות הערעור\" - סימן שהתיק הזה לא נבדק."
      ],
      "metadata": {
        "id": "B8uVNshnYy1b"
      },
      "id": "B8uVNshnYy1b"
    },
    {
      "cell_type": "code",
      "source": [
        "clean_data = data.dropna(subset = ['בקשה לרשות ערעור התקבלה?'])"
      ],
      "metadata": {
        "id": "n4FIbr65EcRA"
      },
      "id": "n4FIbr65EcRA",
      "execution_count": null,
      "outputs": []
    },
    {
      "cell_type": "code",
      "source": [
        " clean_data['בקשה לרשות ערעור התקבלה?'].unique()"
      ],
      "metadata": {
        "id": "rmESrG5GEneV"
      },
      "id": "rmESrG5GEneV",
      "execution_count": null,
      "outputs": []
    },
    {
      "cell_type": "code",
      "source": [
        "clean_data[\"second_classifier_treshold_prediction\"].unique()"
      ],
      "metadata": {
        "id": "o8Cl-oA_Eniw"
      },
      "id": "o8Cl-oA_Eniw",
      "execution_count": null,
      "outputs": []
    },
    {
      "cell_type": "markdown",
      "source": [
        "אנחנו מתעלמים מכל מה שהבקשה שלו מסווגת כ\"אחר\""
      ],
      "metadata": {
        "id": "C0gn3gP9Y-X9"
      },
      "id": "C0gn3gP9Y-X9"
    },
    {
      "cell_type": "code",
      "source": [
        "clean_data = data[(data['בקשה לרשות ערעור התקבלה?'] != 'אחר')]"
      ],
      "metadata": {
        "id": "VxKOZRFdeIQ9"
      },
      "id": "VxKOZRFdeIQ9",
      "execution_count": null,
      "outputs": []
    },
    {
      "cell_type": "code",
      "source": [
        "clean_data.shape"
      ],
      "metadata": {
        "id": "tCkcugsIZIRE"
      },
      "id": "tCkcugsIZIRE",
      "execution_count": null,
      "outputs": []
    },
    {
      "cell_type": "code",
      "source": [
        "clean_data = data.dropna(subset=[\"בקשה לרשות ערעור התקבלה?\"])"
      ],
      "metadata": {
        "id": "Q7Fbg4flJGrw"
      },
      "id": "Q7Fbg4flJGrw",
      "execution_count": null,
      "outputs": []
    },
    {
      "cell_type": "code",
      "source": [
        "clean_data.shape"
      ],
      "metadata": {
        "id": "M-VG2kqMZIwj"
      },
      "id": "M-VG2kqMZIwj",
      "execution_count": null,
      "outputs": []
    },
    {
      "cell_type": "markdown",
      "source": [
        "אנו מסווגים את כל מה שחלקי\\התקבל כ1, ומה שנדחה כ0."
      ],
      "metadata": {
        "id": "IgyV8ittZMxv"
      },
      "id": "IgyV8ittZMxv"
    },
    {
      "cell_type": "code",
      "source": [
        "clean_data['binary_outcome_for_first_classifier'] = clean_data['בקשה לרשות ערעור התקבלה?'].apply(lambda x: 0 if x == 'נדחה' else 1)"
      ],
      "metadata": {
        "id": "sIQ6se6fcp1X"
      },
      "id": "sIQ6se6fcp1X",
      "execution_count": null,
      "outputs": []
    },
    {
      "cell_type": "code",
      "source": [
        "clean_data['binary_outcome_for_first_classifier'].value_counts()"
      ],
      "metadata": {
        "id": "2QZPfwpnCulf"
      },
      "id": "2QZPfwpnCulf",
      "execution_count": null,
      "outputs": []
    },
    {
      "cell_type": "code",
      "source": [
        "\n",
        "def create_CM(data, labeled_col, predicted_col):\n",
        "    # יצירת confusion matrix\n",
        "    cm = confusion_matrix(data[labeled_col], data[predicted_col])\n",
        "\n",
        "    # הצגת תוצאות confusion matrix\n",
        "    print(\"Confusion Matrix:\")\n",
        "    print(cm)\n",
        "\n",
        "    # ויזואליזציה של confusion matrix\n",
        "    disp = ConfusionMatrixDisplay(confusion_matrix=cm, display_labels=['Class 0', 'Class 1'])\n",
        "    disp.plot(cmap=plt.cm.Blues)\n",
        "    plt.title(\"Confusion Matrix\")\n",
        "    if labeled_col.find(\"threshold\") != -1:\n",
        "        plt.title(\"Confusion Matrix for Threshold\")\n",
        "    plt.show()\n",
        "\n",
        "    # חישוב Accuracy ו-F1 Score\n",
        "    accuracy = accuracy_score(data[labeled_col], data[predicted_col])\n",
        "    f1 = f1_score(data[labeled_col], data[predicted_col])\n",
        "\n",
        "    # הצגת Accuracy ו-F1 Score\n",
        "    print(f\"Accuracy: {accuracy:.2f}\")\n",
        "    print(f\"F1 Score: {f1:.2f}\")\n",
        "\n"
      ],
      "metadata": {
        "id": "tWaansyLdGm5"
      },
      "id": "tWaansyLdGm5",
      "execution_count": null,
      "outputs": []
    },
    {
      "cell_type": "markdown",
      "source": [
        "## First classifier"
      ],
      "metadata": {
        "id": "SKm5TUsYmZus"
      },
      "id": "SKm5TUsYmZus"
    },
    {
      "cell_type": "markdown",
      "source": [],
      "metadata": {
        "id": "TXupo76IZYd9"
      },
      "id": "TXupo76IZYd9"
    },
    {
      "cell_type": "code",
      "source": [
        "create_CM(clean_data,\"first_classifier_treshold_prediction\",'binary_outcome_for_first_classifier')\n",
        "# בדיקה עבור ערכים עם סף סיווג = 0.67"
      ],
      "metadata": {
        "id": "ZstcRZUaH0YU"
      },
      "id": "ZstcRZUaH0YU",
      "execution_count": null,
      "outputs": []
    },
    {
      "cell_type": "code",
      "source": [
        "create_CM(clean_data,\"first_classifier_original_prediction\",'binary_outcome_for_first_classifier')\n",
        "# בדיקת הערכים ללא סף הסיווג (דיפולטי 0.5)"
      ],
      "metadata": {
        "id": "U4NUsXWZLdtC"
      },
      "id": "U4NUsXWZLdtC",
      "execution_count": null,
      "outputs": []
    },
    {
      "cell_type": "markdown",
      "source": [],
      "metadata": {
        "id": "-774yE34aj0h"
      },
      "id": "-774yE34aj0h"
    },
    {
      "cell_type": "markdown",
      "source": [],
      "metadata": {
        "id": "f71t8EeV0qKC"
      },
      "id": "f71t8EeV0qKC"
    },
    {
      "cell_type": "markdown",
      "source": [
        "# מסווג שני"
      ],
      "metadata": {
        "id": "HW9BbmttamTA"
      },
      "id": "HW9BbmttamTA"
    },
    {
      "cell_type": "code",
      "source": [
        "[[\"מספר תיק\", \"מספר הליך\",\"Year\",\"מדינת ישראל בצד א'\",\n",
        "    'גוף המסמך חתוך', 'גוף המסמך חתוך למסווג השני',\n",
        "       'גוף המסמך חתוך - embeddings',\n",
        "       'גוף המסמך חתוך למסווג השני - embeddings',\n",
        "       'first_classifier_predicted_probability',\n",
        "       'first_classifier_original_prediction',\n",
        "       'first_classifier_treshold_prediction',\n",
        "       'second_classifier_predicted_probability',\n",
        "       'second_classifier_original_prediction',\n",
        "       'second_classifier_treshold_prediction']\n",
        "]"
      ],
      "metadata": {
        "id": "EL_O71zzhI5-"
      },
      "id": "EL_O71zzhI5-",
      "execution_count": null,
      "outputs": []
    },
    {
      "cell_type": "code",
      "source": [
        "check_data = clean_data.dropna(subset=[\"הערעור התקבל?\"])\n",
        "check_data[check_data[\"second_classifier_treshold_prediction\"].isna()]"
      ],
      "metadata": {
        "id": "tXBSBRl-KJu4"
      },
      "id": "tXBSBRl-KJu4",
      "execution_count": null,
      "outputs": []
    },
    {
      "cell_type": "code",
      "source": [
        "check_data['הערעור התקבל?'].unique()"
      ],
      "metadata": {
        "id": "PdaADpgpLaUR"
      },
      "id": "PdaADpgpLaUR",
      "execution_count": null,
      "outputs": []
    },
    {
      "cell_type": "code",
      "source": [
        "check_data[check_data['הערעור התקבל?']==\"אחר\"]"
      ],
      "metadata": {
        "id": "kKfYnG_ILfv3"
      },
      "id": "kKfYnG_ILfv3",
      "execution_count": null,
      "outputs": []
    },
    {
      "cell_type": "code",
      "source": [
        "check_data = check_data[check_data['הערעור התקבל?']!=\"אחר\"]"
      ],
      "metadata": {
        "id": "tEssr1WVLwtd"
      },
      "id": "tEssr1WVLwtd",
      "execution_count": null,
      "outputs": []
    },
    {
      "cell_type": "code",
      "source": [
        "check_data['הערעור התקבל?'].unique()"
      ],
      "metadata": {
        "id": "DWKHD2AaMPeF"
      },
      "id": "DWKHD2AaMPeF",
      "execution_count": null,
      "outputs": []
    },
    {
      "cell_type": "code",
      "source": [
        "check_data['binary_outcome_for_second_classifier'] = clean_data['הערעור התקבל?'].apply(lambda x: 0 if x == 'נדחה' else 1)"
      ],
      "metadata": {
        "id": "dZJTnheDMFXI"
      },
      "id": "dZJTnheDMFXI",
      "execution_count": null,
      "outputs": []
    },
    {
      "cell_type": "code",
      "source": [
        "check_data.dropna(subset=[\"second_classifier_treshold_prediction\"],inplace = True)"
      ],
      "metadata": {
        "id": "_xPW_9qiK6uG"
      },
      "id": "_xPW_9qiK6uG",
      "execution_count": null,
      "outputs": []
    },
    {
      "cell_type": "code",
      "source": [
        "create_CM(check_data,'second_classifier_treshold_prediction','binary_outcome_for_second_classifier')\n",
        "# עבור סף סיווג של 0.9"
      ],
      "metadata": {
        "id": "zekBq2yyfemc"
      },
      "id": "zekBq2yyfemc",
      "execution_count": null,
      "outputs": []
    },
    {
      "cell_type": "code",
      "source": [
        "create_CM(check_data,\"second_classifier_original_prediction\",'binary_outcome_for_second_classifier')\n",
        "# עבור סף סיווג דיפלוטי"
      ],
      "metadata": {
        "id": "sS0QCda7gBZm"
      },
      "id": "sS0QCda7gBZm",
      "execution_count": null,
      "outputs": []
    }
  ],
  "metadata": {
    "colab": {
      "provenance": [],
      "machine_shape": "hm",
      "include_colab_link": true
    },
    "kernelspec": {
      "display_name": "Python 3",
      "name": "python3"
    },
    "language_info": {
      "codemirror_mode": {
        "name": "ipython",
        "version": 3
      },
      "file_extension": ".py",
      "mimetype": "text/x-python",
      "name": "python",
      "nbconvert_exporter": "python",
      "pygments_lexer": "ipython3",
      "version": "3.11.7"
    }
  },
  "nbformat": 4,
  "nbformat_minor": 5
}