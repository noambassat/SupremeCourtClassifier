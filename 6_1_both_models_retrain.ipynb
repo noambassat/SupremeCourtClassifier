{
  "cells": [
    {
      "cell_type": "markdown",
      "metadata": {
        "id": "view-in-github",
        "colab_type": "text"
      },
      "source": [
        "<a href=\"https://colab.research.google.com/github/noambassat/SupremeCourtClassifier/blob/main/6_1_both_models_retrain.ipynb\" target=\"_parent\"><img src=\"https://colab.research.google.com/assets/colab-badge.svg\" alt=\"Open In Colab\"/></a>"
      ]
    },
    {
      "cell_type": "code",
      "execution_count": 176,
      "id": "9E55EdbICO6k",
      "metadata": {
        "id": "9E55EdbICO6k"
      },
      "outputs": [],
      "source": [
        "from transformers import AutoTokenizer, AutoModelForSequenceClassification, AutoModel\n",
        "from sklearn.metrics import confusion_matrix, ConfusionMatrixDisplay\n",
        "import matplotlib.pyplot as plt\n",
        "import torch\n",
        "import joblib\n",
        "import numpy as np\n",
        "import pandas as pd\n",
        "import matplotlib.pyplot as plt\n",
        "from sklearn.linear_model import LogisticRegression\n",
        "from sklearn.model_selection import cross_validate, cross_val_score, StratifiedKFold,train_test_split,cross_val_predict\n",
        "from sklearn.metrics import make_scorer, accuracy_score, precision_score, recall_score, f1_score,make_scorer, accuracy_score, precision_score, recall_score, f1_score, confusion_matrix\n",
        "# from imblearn.under_sampling import RandomUnderSampler\n",
        "from google.colab import drive\n"
      ]
    },
    {
      "cell_type": "code",
      "source": [
        "\n",
        "# התחברות ל-Google Drive\n",
        "drive.mount('/content/drive')"
      ],
      "metadata": {
        "colab": {
          "base_uri": "https://localhost:8080/"
        },
        "id": "IMHSDRj2RMcU",
        "outputId": "89c13a5e-5485-4f7e-d13d-0888cda3e1d1"
      },
      "id": "IMHSDRj2RMcU",
      "execution_count": 177,
      "outputs": [
        {
          "output_type": "stream",
          "name": "stdout",
          "text": [
            "Drive already mounted at /content/drive; to attempt to forcibly remount, call drive.mount(\"/content/drive\", force_remount=True).\n"
          ]
        }
      ]
    },
    {
      "cell_type": "code",
      "execution_count": null,
      "id": "5532189c-1b24-4839-87d4-7d1790cff00c",
      "metadata": {
        "id": "5532189c-1b24-4839-87d4-7d1790cff00c",
        "colab": {
          "base_uri": "https://localhost:8080/"
        },
        "outputId": "d93d41ca-f491-4e3e-ccee-84078e76f38a"
      },
      "outputs": [
        {
          "output_type": "stream",
          "name": "stderr",
          "text": [
            "/usr/local/lib/python3.11/dist-packages/openpyxl/worksheet/_reader.py:329: UserWarning: Data Validation extension is not supported and will be removed\n",
            "  warn(msg)\n"
          ]
        }
      ],
      "source": [
        "folder_id = \"/בית המשפט - קבצים שנבדקו/full_data_BOTH_models_with_predictions.xlsx\"\n",
        "\n",
        "file_path = f\"/content/drive/My Drive\"\n",
        "# /content/drive/MyDrive/full_rap_df_cleaned.xlsx\n",
        "\n",
        "raap = pd.read_excel(file_path+\"/full_rap_df_cleaned.xlsx\")\n",
        "data = pd.read_excel(file_path+folder_id)"
      ]
    },
    {
      "cell_type": "markdown",
      "source": [
        "# EDA\n"
      ],
      "metadata": {
        "id": "KMUnJcLW4Xy-"
      },
      "id": "KMUnJcLW4Xy-"
    },
    {
      "cell_type": "code",
      "source": [
        "data.columns"
      ],
      "metadata": {
        "id": "O-vMRqdebTEq"
      },
      "id": "O-vMRqdebTEq",
      "execution_count": null,
      "outputs": []
    },
    {
      "cell_type": "code",
      "source": [
        "data['רע\"פ בקשה אחרת או דלמטה מיוחד'].value_counts()\n",
        "data[(data['רע\"פ בקשה אחרת או דלמטה מיוחד'] == 'בקשה אחרת') | (data['רע\"פ בקשה אחרת או דלמטה מיוחד'] == 'דלמטה מיוחד')].shape[0]"
      ],
      "metadata": {
        "id": "jX8Ze7F7bc_o"
      },
      "id": "jX8Ze7F7bc_o",
      "execution_count": null,
      "outputs": []
    },
    {
      "cell_type": "code",
      "source": [
        "data = data[(data['רע\"פ בקשה אחרת או דלמטה מיוחד'] != 'בקשה אחרת') & (data['רע\"פ בקשה אחרת או דלמטה מיוחד'] != 'דלמטה מיוחד')]"
      ],
      "metadata": {
        "id": "KE91qI16ckMq"
      },
      "id": "KE91qI16ckMq",
      "execution_count": null,
      "outputs": []
    },
    {
      "cell_type": "code",
      "source": [
        "check_data = data[[\n",
        "       'בקשה לרשות ערעור התקבלה?',\n",
        "       'הערעור התקבל?']]"
      ],
      "metadata": {
        "id": "QvTXEuNxfcPY"
      },
      "id": "QvTXEuNxfcPY",
      "execution_count": null,
      "outputs": []
    },
    {
      "cell_type": "code",
      "source": [
        "check_data[check_data['בקשה לרשות ערעור התקבלה?'].isnull()]"
      ],
      "metadata": {
        "id": "ibGgS6ZhD4ql"
      },
      "id": "ibGgS6ZhD4ql",
      "execution_count": null,
      "outputs": []
    },
    {
      "cell_type": "code",
      "source": [
        "check_data[check_data[ 'הערעור התקבל?'].isnull()]"
      ],
      "metadata": {
        "id": "9iGmheseEF5j"
      },
      "id": "9iGmheseEF5j",
      "execution_count": null,
      "outputs": []
    },
    {
      "cell_type": "code",
      "source": [
        "clean_data = data.dropna(subset = ['בקשה לרשות ערעור התקבלה?']).copy()"
      ],
      "metadata": {
        "id": "n4FIbr65EcRA"
      },
      "id": "n4FIbr65EcRA",
      "execution_count": null,
      "outputs": []
    },
    {
      "cell_type": "code",
      "source": [
        "# clean_data[['גוף המסמך', 'מספר הליך', 'שם הליך',\n",
        "#        'שנת פתיחת ההליך', 'predicted_probability',\n",
        "#        'prediction_original_model',\n",
        "#        'prediction_adjusted_threshold\\nבקשת רשות ערעור התקבלה?', 'prediction_second_model',\n",
        "#        'second_model_predicted_probability',\n",
        "#        'prediction_second_model_adjusted\\nערעור התקבל?',\n",
        "#        'בקשה לרשות ערעור התקבלה?',\n",
        "#        'טקסט שמצביע על תוצאת בקשה שונה (טקסטים שונים מופרדים ב-**)',\n",
        "#        'הערעור התקבל?', 'הערות תוצאת ערעור', 'הערות ']]"
      ],
      "metadata": {
        "id": "oTzjErDGEnbw"
      },
      "id": "oTzjErDGEnbw",
      "execution_count": null,
      "outputs": []
    },
    {
      "cell_type": "code",
      "source": [
        " clean_data['בקשה לרשות ערעור התקבלה?'].unique()"
      ],
      "metadata": {
        "id": "rmESrG5GEneV"
      },
      "id": "rmESrG5GEneV",
      "execution_count": null,
      "outputs": []
    },
    {
      "cell_type": "code",
      "source": [
        "clean_data[\"prediction_second_model_adjusted\\nערעור התקבל?\"].unique()"
      ],
      "metadata": {
        "id": "o8Cl-oA_Eniw"
      },
      "id": "o8Cl-oA_Eniw",
      "execution_count": null,
      "outputs": []
    },
    {
      "cell_type": "code",
      "source": [
        "clean_data = data[(data['בקשה לרשות ערעור התקבלה?'] != 'אחר')]"
      ],
      "metadata": {
        "id": "VxKOZRFdeIQ9"
      },
      "id": "VxKOZRFdeIQ9",
      "execution_count": null,
      "outputs": []
    },
    {
      "cell_type": "code",
      "source": [
        "clean_data.dropna(subset=[\"בקשה לרשות ערעור התקבלה?\"],inplace=True)"
      ],
      "metadata": {
        "id": "Q7Fbg4flJGrw"
      },
      "id": "Q7Fbg4flJGrw",
      "execution_count": null,
      "outputs": []
    },
    {
      "cell_type": "code",
      "source": [
        "clean_data['binary_outcome_for_first_classifier'] = clean_data['בקשה לרשות ערעור התקבלה?'].apply(lambda x: 0 if x == 'נדחה' else 1)"
      ],
      "metadata": {
        "id": "sIQ6se6fcp1X"
      },
      "id": "sIQ6se6fcp1X",
      "execution_count": null,
      "outputs": []
    },
    {
      "cell_type": "code",
      "source": [],
      "metadata": {
        "id": "dYg3QLofw8MC"
      },
      "id": "dYg3QLofw8MC",
      "execution_count": null,
      "outputs": []
    },
    {
      "cell_type": "code",
      "source": [
        "clean_data['binary_outcome_for_first_classifier'].value_counts()"
      ],
      "metadata": {
        "id": "2QZPfwpnCulf"
      },
      "id": "2QZPfwpnCulf",
      "execution_count": null,
      "outputs": []
    },
    {
      "cell_type": "code",
      "source": [
        "clean_data"
      ],
      "metadata": {
        "id": "03nO0ZV4HaEV"
      },
      "id": "03nO0ZV4HaEV",
      "execution_count": null,
      "outputs": []
    },
    {
      "cell_type": "code",
      "source": [
        "clean_data.columns"
      ],
      "metadata": {
        "id": "EL_O71zzhI5-"
      },
      "id": "EL_O71zzhI5-",
      "execution_count": null,
      "outputs": []
    },
    {
      "cell_type": "code",
      "source": [
        "clean_data[\"בקשה לרשות ערעור התקבלה?\"].isnull().sum()"
      ],
      "metadata": {
        "id": "gMdcJpuIIqkv"
      },
      "id": "gMdcJpuIIqkv",
      "execution_count": null,
      "outputs": []
    },
    {
      "cell_type": "code",
      "source": [
        "\n",
        "def create_CM(data, labeled_col, predicted_col):\n",
        "    # יצירת confusion matrix\n",
        "    cm = confusion_matrix(data[labeled_col], data[predicted_col])\n",
        "\n",
        "    # הצגת תוצאות confusion matrix\n",
        "    print(\"Confusion Matrix:\")\n",
        "    print(cm)\n",
        "\n",
        "    # ויזואליזציה של confusion matrix\n",
        "    disp = ConfusionMatrixDisplay(confusion_matrix=cm, display_labels=['Class 0', 'Class 1'])\n",
        "    disp.plot(cmap=plt.cm.Blues)\n",
        "    plt.title(\"Confusion Matrix\")\n",
        "    if labeled_col.find(\"threshold\") != -1:\n",
        "        plt.title(\"Confusion Matrix for Threshold\")\n",
        "    plt.show()\n",
        "\n",
        "    # חישוב Accuracy ו-F1 Score\n",
        "    accuracy = accuracy_score(data[labeled_col], data[predicted_col])\n",
        "    f1 = f1_score(data[labeled_col], data[predicted_col])\n",
        "\n",
        "    # הצגת Accuracy ו-F1 Score\n",
        "    print(f\"Accuracy: {accuracy:.2f}\")\n",
        "    print(f\"F1 Score: {f1:.2f}\")\n",
        "\n",
        "\n",
        "\n",
        "\n"
      ],
      "metadata": {
        "id": "tWaansyLdGm5"
      },
      "id": "tWaansyLdGm5",
      "execution_count": null,
      "outputs": []
    },
    {
      "cell_type": "code",
      "source": [
        "def create_CM_and_False_DF(data, labeled_col, predicted_col, probability_col):\n",
        "    \"\"\"\n",
        "    Creates a confusion matrix, calculates accuracy and F1 score, visualizes the matrix,\n",
        "    and returns a DataFrame of errors (FN and FP).\n",
        "\n",
        "    Parameters:\n",
        "    - data (DataFrame): The DataFrame containing labeled, predicted, and probability columns.\n",
        "    - labeled_col (str): Column name of the true labels.\n",
        "    - predicted_col (str): Column name of the predicted labels.\n",
        "    - probability_col (str): Column name of the prediction probabilities.\n",
        "\n",
        "    Returns:\n",
        "    - DataFrame: A DataFrame of errors (FN and FP) containing \"מספר הליך\", \"גוף המסמך\", \"Error Type\", and \"Prediction Probability\".\n",
        "    \"\"\"\n",
        "    import matplotlib.pyplot as plt\n",
        "    from sklearn.metrics import confusion_matrix, ConfusionMatrixDisplay, accuracy_score, f1_score\n",
        "\n",
        "    # יצירת confusion matrix\n",
        "    cm = confusion_matrix(data[labeled_col], data[predicted_col])\n",
        "\n",
        "    # הצגת תוצאות confusion matrix\n",
        "    print(\"Confusion Matrix:\")\n",
        "    print(cm)\n",
        "\n",
        "    # ויזואליזציה של confusion matrix\n",
        "    disp = ConfusionMatrixDisplay(confusion_matrix=cm, display_labels=['Class 0', 'Class 1'])\n",
        "    disp.plot(cmap=plt.cm.Blues)\n",
        "    plt.title(\"Confusion Matrix\")\n",
        "    plt.show()\n",
        "\n",
        "    # חישוב Accuracy ו-F1 Score\n",
        "    accuracy = accuracy_score(data[labeled_col], data[predicted_col])\n",
        "    f1 = f1_score(data[labeled_col], data[predicted_col])\n",
        "\n",
        "    # הצגת Accuracy ו-F1 Score\n",
        "    print(f\"Accuracy: {accuracy:.2f}\")\n",
        "    print(f\"F1 Score: {f1:.2f}\")\n",
        "\n",
        "    # False Negatives: הערך בפועל 1 אך סווג כ-0\n",
        "    fn_table = data[(data[labeled_col] == 1) & (data[predicted_col] == 0)][[\"מספר הליך\", \"גוף המסמך\", probability_col]].copy()\n",
        "    fn_table[\"Error Type\"] = \"FN\"  # הוספת עמודת סוג הטעות\n",
        "\n",
        "    # False Positives: הערך בפועל 0 אך סווג כ-1\n",
        "    fp_table = data[(data[labeled_col] == 0) & (data[predicted_col] == 1)][[\"מספר הליך\", \"גוף המסמך\", probability_col]].copy()\n",
        "    fp_table[\"Error Type\"] = \"FP\"  # הוספת עמודת סוג הטעות\n",
        "\n",
        "    # איחוד הטבלאות\n",
        "    errors_table = pd.concat([fn_table, fp_table], ignore_index=True)\n",
        "    errors_table.rename(columns={probability_col: \"Prediction Probability\"}, inplace=True)\n",
        "\n",
        "    # החזרת הטבלה\n",
        "    return errors_table\n"
      ],
      "metadata": {
        "id": "Neht-yVboD1u"
      },
      "id": "Neht-yVboD1u",
      "execution_count": null,
      "outputs": []
    },
    {
      "cell_type": "code",
      "source": [
        "clean_data"
      ],
      "metadata": {
        "id": "oftKZRVCo8z3"
      },
      "id": "oftKZRVCo8z3",
      "execution_count": null,
      "outputs": []
    },
    {
      "cell_type": "code",
      "source": [
        "first_classifier_False = create_CM_and_False_DF(clean_data,\"prediction_adjusted_threshold\\nבקשת רשות ערעור התקבלה?\",'binary_outcome_for_first_classifier',\"predicted_probability\")"
      ],
      "metadata": {
        "id": "kZhsiFEKoKr1"
      },
      "id": "kZhsiFEKoKr1",
      "execution_count": null,
      "outputs": []
    },
    {
      "cell_type": "code",
      "source": [
        "first_classifier_False"
      ],
      "metadata": {
        "id": "4Zn1YII7owK9"
      },
      "id": "4Zn1YII7owK9",
      "execution_count": null,
      "outputs": []
    },
    {
      "cell_type": "markdown",
      "source": [
        "## First classifier"
      ],
      "metadata": {
        "id": "SKm5TUsYmZus"
      },
      "id": "SKm5TUsYmZus"
    },
    {
      "cell_type": "code",
      "source": [
        "create_CM(clean_data,\"prediction_adjusted_threshold\\nבקשת רשות ערעור התקבלה?\",'binary_outcome_for_first_classifier')"
      ],
      "metadata": {
        "id": "ZstcRZUaH0YU"
      },
      "id": "ZstcRZUaH0YU",
      "execution_count": null,
      "outputs": []
    },
    {
      "cell_type": "code",
      "source": [
        "create_CM(clean_data,\"prediction_original_model\",'binary_outcome_for_first_classifier')\n"
      ],
      "metadata": {
        "id": "U4NUsXWZLdtC"
      },
      "id": "U4NUsXWZLdtC",
      "execution_count": null,
      "outputs": []
    },
    {
      "cell_type": "markdown",
      "source": [],
      "metadata": {
        "id": "f71t8EeV0qKC"
      },
      "id": "f71t8EeV0qKC"
    },
    {
      "cell_type": "code",
      "source": [
        "clean_data['binary_outcome_for_second_classifier'] = clean_data['הערעור התקבל?'].apply(lambda x: 0 if x == 'נדחה' else 1)"
      ],
      "metadata": {
        "id": "QX6vQN1sTz9o"
      },
      "id": "QX6vQN1sTz9o",
      "execution_count": null,
      "outputs": []
    },
    {
      "cell_type": "code",
      "source": [
        "y_probs = \"predicted_probability\"\n",
        "y_pred_col = \"prediction_original_model\"\n",
        "y_true_col = \"binary_outcome_for_first_classifier\""
      ],
      "metadata": {
        "id": "7_Pv4bgitcMR"
      },
      "id": "7_Pv4bgitcMR",
      "execution_count": null,
      "outputs": []
    },
    {
      "cell_type": "code",
      "source": [],
      "metadata": {
        "id": "YxG7cfo8teuf"
      },
      "id": "YxG7cfo8teuf",
      "execution_count": null,
      "outputs": []
    },
    {
      "cell_type": "markdown",
      "source": [
        "### ניתוח הגרפים והסקת מסקנות תוך התחשבות במציאות האמיתית\n",
        "\n",
        "#### **1. Sigmoid Curve**\n",
        "הגרף של הסיגמואיד מדגים את פיזור הנתונים עבור עקומת המודל, כאשר בבדיקות הנוכחיות (דאטה מאוזן יחסית), יש ייצוג דומה לשתי המחלקות (0 ו-1). עם זאת, במציאות האמיתית, בה רוב הדגימות שייכות למחלקה 0 (מעל 90%), קיים סיכוי גבוה לטעויות מסוג False Positives (FP). לכן, בחירת Threshold גבוה יותר עשויה להיות עדיפה בעולם האמיתי, כדי לצמצם טעויות FP על חשבון ירידה מסוימת ב-TPR (True Positive Rate).\n",
        "\n",
        "---\n",
        "\n",
        "#### **2. ROC Curve**\n",
        "ה-ROC Curve מספק מדד מצוין לביצועי המודל, ומראה ששטח ה-AUC (Area Under Curve) הוא 0.87, מה שמעיד על הפרדה טובה בין המחלקות. ה-Optimal Threshold המוצע בגרף הוא 0.75, שמאזן היטב בין TPR ל-FPR בדאטה המאוזן. יחד עם זאת, בעולם האמיתי, רוב הדגימות שייכות למחלקה 0, ולכן Threshold זה עשוי לספק איזון טוב לצמצום FP, אך עלול להוביל לעלייה ב-FN (False Negatives).\n",
        "\n",
        "---\n",
        "\n",
        "#### **3. Cost Function**\n",
        "בגרף ה-Cost Function ניתן לראות ש-Threshold של 0.5 הוא האופטימלי מבחינת עלות עבור הדאטה המאוזן. עם זאת, במציאות שבה רוב הדגימות שייכות למחלקה 0, העלות של FN (החמצת מקרים קריטיים של מחלקה 1) עשויה להיות משמעותית מאוד. לפיכך, Threshold נמוך יותר מ-0.75 אך גבוה מ-0.5, למשל 0.67, יכול להוות פשרה טובה שמאזנת בין צמצום FP לבין שמירה על Recall גבוה עבור מחלקה 1.\n",
        "\n",
        "---\n",
        "\n",
        "#### **החלטה על Threshold מותאם לעולם האמיתי**\n",
        "בהתחשב בניתוח הגרפים והמציאות האמיתית שבה הדאטה אינו מאוזן (עם רוב של מעל 90% למחלקה 0):\n",
        "1. **Threshold של 0.67** נבחר כפשרה בין הגרפים השונים:\n",
        "   - הוא מספיק גבוה כדי לצמצם FP.\n",
        "   - שומר על Recall סביר, החשוב לאיתור נכון של מחלקה 1.\n",
        "2. Threshold זה מתאים לשימוש גם על הדאטה המאוזן וגם על המציאות האמיתית, שבה עלות של FN היא גבוהה במיוחד.\n",
        "\n",
        "---\n",
        "\n",
        "#### **המלצות להמשך**\n",
        "1. לבדוק את הביצועים של המודל עם Threshold של 0.67 על דאטה המדמה את המציאות האמיתית (עם רוב של מחלקה 0).\n",
        "2. לעדכן את Cost Function ואת ה-Precision-Recall Curve במקרה של שינוי בתנאי העלות או בנתוני המציאות.\n",
        "\n",
        "---\n",
        "\n",
        "#### **סיכום**\n",
        "Threshold של 0.67 מהווה פשרה חכמה ומעשית בהתחשב בדאטה המאוזן בבדיקות ובמציאות האמיתית של הדומיננטיות של מחלקה 0. הבחירה תאפשר איזון מיטבי בין צמצום FP לשימור Recall גבוה.\n"
      ],
      "metadata": {
        "id": "1pHf09T-yd25"
      },
      "id": "1pHf09T-yd25"
    },
    {
      "cell_type": "code",
      "source": [],
      "metadata": {
        "id": "Gn18dkHFs_ZJ"
      },
      "id": "Gn18dkHFs_ZJ",
      "execution_count": null,
      "outputs": []
    },
    {
      "cell_type": "markdown",
      "source": [
        "## Second classifier"
      ],
      "metadata": {
        "id": "PXTv40Df4QDO"
      },
      "id": "PXTv40Df4QDO"
    },
    {
      "cell_type": "code",
      "source": [
        "check_data = clean_data.dropna(subset=[\"הערעור התקבל?\"])\n",
        "check_data[check_data[\"prediction_second_model_adjusted\\nערעור התקבל?\"].isna()]"
      ],
      "metadata": {
        "id": "tXBSBRl-KJu4"
      },
      "id": "tXBSBRl-KJu4",
      "execution_count": null,
      "outputs": []
    },
    {
      "cell_type": "code",
      "source": [
        "check_data['הערעור התקבל?'].unique()"
      ],
      "metadata": {
        "id": "PdaADpgpLaUR"
      },
      "id": "PdaADpgpLaUR",
      "execution_count": null,
      "outputs": []
    },
    {
      "cell_type": "code",
      "source": [
        "check_data[check_data['הערעור התקבל?']==\"אחר\"]"
      ],
      "metadata": {
        "id": "kKfYnG_ILfv3"
      },
      "id": "kKfYnG_ILfv3",
      "execution_count": null,
      "outputs": []
    },
    {
      "cell_type": "code",
      "source": [
        "check_data.columns"
      ],
      "metadata": {
        "id": "8Tn_L2It4m0A"
      },
      "id": "8Tn_L2It4m0A",
      "execution_count": null,
      "outputs": []
    },
    {
      "cell_type": "code",
      "source": [
        "check_data = check_data[check_data['הערעור התקבל?']!=\"אחר\"]"
      ],
      "metadata": {
        "id": "tEssr1WVLwtd"
      },
      "id": "tEssr1WVLwtd",
      "execution_count": null,
      "outputs": []
    },
    {
      "cell_type": "code",
      "source": [
        "check_data['הערעור התקבל?'].unique()"
      ],
      "metadata": {
        "id": "DWKHD2AaMPeF"
      },
      "id": "DWKHD2AaMPeF",
      "execution_count": null,
      "outputs": []
    },
    {
      "cell_type": "code",
      "source": [
        "check_data['binary_outcome_for_second_classifier'] = clean_data['הערעור התקבל?'].apply(lambda x: 0 if x == 'נדחה' else 1)"
      ],
      "metadata": {
        "id": "dZJTnheDMFXI"
      },
      "id": "dZJTnheDMFXI",
      "execution_count": null,
      "outputs": []
    },
    {
      "cell_type": "code",
      "source": [
        "check_data[\"prediction_second_model_adjusted\\nערעור התקבל?\"].isna().sum()"
      ],
      "metadata": {
        "id": "V4MVjha6Mhk7"
      },
      "id": "V4MVjha6Mhk7",
      "execution_count": null,
      "outputs": []
    },
    {
      "cell_type": "code",
      "source": [
        "check_data.dropna(subset=[\"prediction_second_model_adjusted\\nערעור התקבל?\"],inplace = True)"
      ],
      "metadata": {
        "id": "_xPW_9qiK6uG"
      },
      "id": "_xPW_9qiK6uG",
      "execution_count": null,
      "outputs": []
    },
    {
      "cell_type": "code",
      "source": [
        "check_data.dropna(subset=[\"prediction_second_model_adjusted\\nערעור התקבל?\"],inplace=True)"
      ],
      "metadata": {
        "id": "UwgtGOJh34v6"
      },
      "id": "UwgtGOJh34v6",
      "execution_count": null,
      "outputs": []
    },
    {
      "cell_type": "code",
      "source": [
        "create_CM(check_data,'prediction_second_model_adjusted\\nערעור התקבל?','binary_outcome_for_second_classifier')"
      ],
      "metadata": {
        "id": "zekBq2yyfemc"
      },
      "id": "zekBq2yyfemc",
      "execution_count": null,
      "outputs": []
    },
    {
      "cell_type": "code",
      "source": [
        "create_CM(check_data,\"prediction_second_model\",'binary_outcome_for_second_classifier')"
      ],
      "metadata": {
        "id": "sS0QCda7gBZm"
      },
      "id": "sS0QCda7gBZm",
      "execution_count": null,
      "outputs": []
    },
    {
      "cell_type": "code",
      "source": [
        "check_data[\"new_prediction_col\"] = [1 if x > 0.9 else 0 for x in check_data[\"second_model_predicted_probability\"]]\n",
        "\n",
        "create_CM(check_data,\"new_prediction_col\",'binary_outcome_for_second_classifier')\n",
        "\n",
        "#0.89"
      ],
      "metadata": {
        "id": "xJxRlqvm16V-"
      },
      "id": "xJxRlqvm16V-",
      "execution_count": null,
      "outputs": []
    },
    {
      "cell_type": "code",
      "source": [
        "second_classifier_False = create_CM_and_False_DF(check_data,\"new_prediction_col\",'binary_outcome_for_second_classifier',\"second_model_predicted_probability\")"
      ],
      "metadata": {
        "id": "9C5fSVn5p1Kl"
      },
      "id": "9C5fSVn5p1Kl",
      "execution_count": null,
      "outputs": []
    },
    {
      "cell_type": "code",
      "source": [
        "second_classifier_False"
      ],
      "metadata": {
        "id": "_kn-51mlrlKB"
      },
      "id": "_kn-51mlrlKB",
      "execution_count": null,
      "outputs": []
    },
    {
      "cell_type": "code",
      "source": [
        "false_classification"
      ],
      "metadata": {
        "id": "ovVn9OnNuEwl"
      },
      "id": "ovVn9OnNuEwl",
      "execution_count": null,
      "outputs": []
    },
    {
      "cell_type": "code",
      "source": [
        "false_classification = pd.merge(\n",
        "    first_classifier_False,\n",
        "    second_classifier_False,\n",
        "    how=\"outer\",\n",
        "    on=\"מספר הליך\",\n",
        "    suffixes=('_first', '_second')  # סיומות רק לעמודות שונות\n",
        ")\n",
        "\n",
        "# שילוב עמודת \"גוף המסמך\" משני ה-DataFrames לעמודה אחת\n",
        "if \"גוף המסמך_first\" in false_classification.columns and \"גוף המסמך_second\" in false_classification.columns:\n",
        "    false_classification[\"גוף המסמך\"] = false_classification[\"גוף המסמך_first\"].combine_first(false_classification[\"גוף המסמך_second\"])\n",
        "    false_classification.drop(columns=[\"גוף המסמך_first\", \"גוף המסמך_second\"], inplace=True)\n"
      ],
      "metadata": {
        "id": "9EhpJKb6qND2"
      },
      "id": "9EhpJKb6qND2",
      "execution_count": null,
      "outputs": []
    },
    {
      "cell_type": "code",
      "source": [
        "false_classification"
      ],
      "metadata": {
        "id": "XQ_KiNO3qYdr"
      },
      "id": "XQ_KiNO3qYdr",
      "execution_count": null,
      "outputs": []
    },
    {
      "cell_type": "code",
      "source": [
        "output_file = \"/content/drive/My Drive/False_classification_report.xlsx\"  # עדכן את הנתיב לשמירת הקובץ\n",
        "false_classification.to_excel(output_file, index=False)\n",
        "print(f\"Combined file saved at: {output_file}\")"
      ],
      "metadata": {
        "id": "tb2GixLRsiE5"
      },
      "id": "tb2GixLRsiE5",
      "execution_count": null,
      "outputs": []
    },
    {
      "cell_type": "markdown",
      "source": [
        "Conclusion\n",
        "\n",
        "first classifier treshold for predction: 0.67\n",
        "second classifier treshold for prediction: 0.9\n"
      ],
      "metadata": {
        "id": "LMUfWdluR-xF"
      },
      "id": "LMUfWdluR-xF"
    },
    {
      "cell_type": "markdown",
      "source": [
        "# Re training"
      ],
      "metadata": {
        "id": "0JmYDahoN6c6"
      },
      "id": "0JmYDahoN6c6"
    },
    {
      "cell_type": "markdown",
      "source": [
        "## First classifier\n",
        "\n",
        "  "
      ],
      "metadata": {
        "id": "vGeRv0h6QFb9"
      },
      "id": "vGeRv0h6QFb9"
    },
    {
      "cell_type": "code",
      "source": [
        "data = clean_data[[\"גוף המסמך חתוך\",\"binary_outcome_for_first_classifier\"]]\n",
        "\n",
        "# Index(['level_0', 'index', 'גוף המסמך', 'מספר הליך', 'שם הליך',\n",
        "#        'שנת פתיחת ההליך', 'גוף המסמך חתוך', 'predicted_probability',\n",
        "#        'prediction_original_model',\n",
        "#        'prediction_adjusted_threshold\\nבקשת רשות ערעור התקבלה?',\n",
        "#        'גוף המסמך חתוך מסווג שני', 'prediction_second_model',\n",
        "#        'second_model_predicted_probability',\n",
        "#        'prediction_second_model_adjusted\\nערעור התקבל?',\n",
        "#        'בקשה לרשות ערעור התקבלה?',\n",
        "#        'טקסט שמצביע על תוצאת בקשה שונה (טקסטים שונים מופרדים ב-**)',\n",
        "#        'הערעור התקבל?', 'הערות תוצאת ערעור', 'רע\"פ בקשה אחרת או דלמטה מיוחד',\n",
        "#        'קידוד', 'הערות '],\n",
        "#       dtype='object')"
      ],
      "metadata": {
        "id": "os8P-uUjQJBt"
      },
      "id": "os8P-uUjQJBt",
      "execution_count": null,
      "outputs": []
    },
    {
      "cell_type": "code",
      "source": [
        "from transformers import AutoTokenizer, AutoModel\n",
        "import numpy as np\n",
        "import joblib\n",
        "import pandas as pd\n",
        "\n",
        "# טעינת המודל והטוקנייזר\n",
        "tokenizer = AutoTokenizer.from_pretrained(\"dean-ai/sentence_transformer_Legal-heBERT\")\n",
        "model = AutoModel.from_pretrained(\"dean-ai/sentence_transformer_Legal-heBERT\")\n",
        "\n",
        "# פונקציה שמקבלת טקסט ומחזירה את האימבדינג כוקטור\n",
        "def get_embeddings(text):\n",
        "    inputs = tokenizer(text, return_tensors=\"pt\", padding=True, truncation=True, max_length=512)\n",
        "    outputs = model(**inputs)\n",
        "    embeddings = outputs.last_hidden_state.mean(dim=1).detach().numpy()\n",
        "    return embeddings[0]"
      ],
      "metadata": {
        "id": "nuzTdMjP0jP1"
      },
      "id": "nuzTdMjP0jP1",
      "execution_count": null,
      "outputs": []
    },
    {
      "cell_type": "markdown",
      "source": [
        "### Embedding"
      ],
      "metadata": {
        "id": "ZFDGZbgHKR8H"
      },
      "id": "ZFDGZbgHKR8H"
    },
    {
      "cell_type": "code",
      "source": [
        "from sklearn.metrics import precision_recall_curve, accuracy_score, precision_score, recall_score, f1_score, confusion_matrix, make_scorer\n",
        "from sklearn.model_selection import cross_val_predict, cross_validate\n",
        "import joblib\n",
        "\n",
        "\n",
        "# עדכון עמודת המטרה ואימבדינג לאחר חיתוך הטקסטים\n",
        "y = data[\"binary_outcome_for_first_classifier\"].values\n",
        "embeddings = np.array([get_embeddings(text) for text in data[\"גוף המסמך חתוך\"]])\n"
      ],
      "metadata": {
        "id": "EjegoPAgIy9c"
      },
      "id": "EjegoPAgIy9c",
      "execution_count": null,
      "outputs": []
    },
    {
      "cell_type": "markdown",
      "source": [
        "### Train and fit"
      ],
      "metadata": {
        "id": "L9b9X9O-KYiX"
      },
      "id": "L9b9X9O-KYiX"
    },
    {
      "cell_type": "code",
      "source": [
        "# classifier_model_second_undersampled"
      ],
      "metadata": {
        "id": "cx6c_M1SGMm6"
      },
      "id": "cx6c_M1SGMm6",
      "execution_count": null,
      "outputs": []
    },
    {
      "cell_type": "code",
      "source": [
        "X = embeddings\n",
        "# טוען את המודל\n",
        "classifier = joblib.load(\"2_classifier_model_double_trained.pkl\")\n",
        "\n",
        "print(\"המודל נטען בהצלחה.\")\n",
        "\n",
        "# התאמת המודל לנתונים המאוזנים\n",
        "classifier.fit(X, y)\n",
        "\n",
        "# הגדרת מדדים לקרוס ולידציה\n",
        "scoring = {\n",
        "    'accuracy': make_scorer(accuracy_score),\n",
        "    'precision': make_scorer(precision_score, pos_label=1),\n",
        "    'recall': make_scorer(recall_score, pos_label=1),\n",
        "    'f1': make_scorer(f1_score, pos_label=1)\n",
        "}\n",
        "\n",
        "# ביצוע Cross Validation\n",
        "cv_results = cross_validate(classifier, X, y, cv=5, scoring=scoring)\n",
        "\n",
        "# חיזוי תוויות על כל קפל לצורך קונפיושן מטריקס\n",
        "y_pred = cross_val_predict(classifier, X, y, cv=5)\n",
        "conf_matrix = confusion_matrix(y, y_pred)\n",
        "\n",
        "# הדפסת התוצאות\n",
        "print(\"Cross-Validation Accuracy:\", cv_results['test_accuracy'])\n",
        "print(\"Mean Accuracy:\", cv_results['test_accuracy'].mean())\n",
        "print(\"Cross-Validation Precision for Class 1:\", cv_results['test_precision'])\n",
        "print(\"Mean Precision for Class 1:\", cv_results['test_precision'].mean())\n",
        "print(\"Cross-Validation Recall for Class 1:\", cv_results['test_recall'])\n",
        "print(\"Mean Recall for Class 1:\", cv_results['test_recall'].mean())\n",
        "print(\"Cross-Validation F1 Score for Class 1:\", cv_results['test_f1'])\n",
        "print(\"Mean F1 Score for Class 1:\", cv_results['test_f1'].mean())\n",
        "\n",
        "tn, fp, fn, tp = conf_matrix.ravel()\n",
        "\n",
        "# הדפסת הקונפיושן מטריקס עם תוויות\n",
        "print(\"Confusion Matrix with Labels:\")\n",
        "print(f\"True Negatives (TN): {tn}\")\n",
        "print(f\"False Positives (FP): {fp}\")\n",
        "print(f\"False Negatives (FN): {fn}\")\n",
        "print(f\"True Positives (TP): {tp}\")\n",
        "\n",
        "print(\"\\nConfusion Matrix:\")\n",
        "print(f\"[[{tn} {fp}]\")\n",
        "print(f\" [{fn} {tp}]]\")\n",
        "\n",
        "\n",
        "# --- שמירת משאבים ---\n",
        "joblib.dump(classifier, '3_first_classifier_model_Triple_trained.pkl')\n",
        "\n",
        "print(\"המודל והמשאבים נשמרו בהצלחה.\")\n"
      ],
      "metadata": {
        "id": "Gfq-hKO8KWr3",
        "colab": {
          "base_uri": "https://localhost:8080/"
        },
        "outputId": "62ade96a-e2d3-48e6-e0dc-0e8da8bef4ba"
      },
      "id": "Gfq-hKO8KWr3",
      "execution_count": null,
      "outputs": [
        {
          "output_type": "stream",
          "name": "stdout",
          "text": [
            "המודל נטען בהצלחה.\n",
            "Cross-Validation Accuracy: [0.78787879 0.90909091 0.96875    0.9375     0.875     ]\n",
            "Mean Accuracy: 0.8956439393939395\n",
            "Cross-Validation Precision for Class 1: [0.72727273 0.85       1.         0.94117647 0.84210526]\n",
            "Mean Precision for Class 1: 0.8721108922037715\n",
            "Cross-Validation Recall for Class 1: [0.94117647 1.         0.94117647 0.94117647 0.94117647]\n",
            "Mean Recall for Class 1: 0.9529411764705882\n",
            "Cross-Validation F1 Score for Class 1: [0.82051282 0.91891892 0.96969697 0.94117647 0.88888889]\n",
            "Mean F1 Score for Class 1: 0.9078388137211668\n",
            "Confusion Matrix with Labels:\n",
            "True Negatives (TN): 64\n",
            "False Positives (FP): 13\n",
            "False Negatives (FN): 4\n",
            "True Positives (TP): 81\n",
            "\n",
            "Confusion Matrix:\n",
            "[[64 13]\n",
            " [4 81]]\n",
            "המודל והמשאבים נשמרו בהצלחה.\n"
          ]
        }
      ]
    },
    {
      "cell_type": "code",
      "source": [
        "# Confusion Matrix:\n",
        "# [[52  2]\n",
        "#  [25 83]]\n",
        "\n"
      ],
      "metadata": {
        "colab": {
          "base_uri": "https://localhost:8080/"
        },
        "id": "pmZ6ULz6Q8xO",
        "outputId": "2a086409-f9f8-4585-ddf0-49cea886eba1"
      },
      "id": "pmZ6ULz6Q8xO",
      "execution_count": null,
      "outputs": [
        {
          "output_type": "execute_result",
          "data": {
            "text/plain": [
              "162"
            ]
          },
          "metadata": {},
          "execution_count": 59
        }
      ]
    },
    {
      "cell_type": "markdown",
      "source": [
        "## Second classifier\n"
      ],
      "metadata": {
        "id": "WPT90gfiQ8_M"
      },
      "id": "WPT90gfiQ8_M"
    },
    {
      "cell_type": "code",
      "source": [
        "clean_data.columns"
      ],
      "metadata": {
        "colab": {
          "base_uri": "https://localhost:8080/"
        },
        "id": "7A0EQ6TjSgfV",
        "outputId": "06b7fb1e-f6e1-4266-9790-5f4fc19e08cd"
      },
      "id": "7A0EQ6TjSgfV",
      "execution_count": null,
      "outputs": [
        {
          "output_type": "execute_result",
          "data": {
            "text/plain": [
              "Index(['level_0', 'index', 'גוף המסמך', 'מספר הליך', 'שם הליך',\n",
              "       'שנת פתיחת ההליך', 'גוף המסמך חתוך', 'predicted_probability',\n",
              "       'prediction_original_model',\n",
              "       'prediction_adjusted_threshold\\nבקשת רשות ערעור התקבלה?',\n",
              "       'גוף המסמך חתוך מסווג שני', 'prediction_second_model',\n",
              "       'second_model_predicted_probability',\n",
              "       'prediction_second_model_adjusted\\nערעור התקבל?',\n",
              "       'בקשה לרשות ערעור התקבלה?',\n",
              "       'טקסט שמצביע על תוצאת בקשה שונה (טקסטים שונים מופרדים ב-**)',\n",
              "       'הערעור התקבל?', 'הערות תוצאת ערעור', 'רע\"פ בקשה אחרת או דלמטה מיוחד',\n",
              "       'קידוד', 'הערות ', 'binary_outcome_for_first_classifier',\n",
              "       'new_prediction_col'],\n",
              "      dtype='object')"
            ]
          },
          "metadata": {},
          "execution_count": 64
        }
      ]
    },
    {
      "cell_type": "code",
      "source": [
        "data_1 = check_data[[\"גוף המסמך חתוך מסווג שני\",'binary_outcome_for_second_classifier']]"
      ],
      "metadata": {
        "id": "9sWaGyP_RIXP"
      },
      "id": "9sWaGyP_RIXP",
      "execution_count": null,
      "outputs": []
    },
    {
      "cell_type": "code",
      "source": [
        "data_1[\"binary_outcome_for_second_classifier\"].value_counts()"
      ],
      "metadata": {
        "colab": {
          "base_uri": "https://localhost:8080/",
          "height": 178
        },
        "id": "6n6sDtWuUrpg",
        "outputId": "74fcacfa-6ee7-438b-bde3-591ccbd3bc77"
      },
      "id": "6n6sDtWuUrpg",
      "execution_count": null,
      "outputs": [
        {
          "output_type": "execute_result",
          "data": {
            "text/plain": [
              "binary_outcome_for_second_classifier\n",
              "1    71\n",
              "0     9\n",
              "Name: count, dtype: int64"
            ],
            "text/html": [
              "<div>\n",
              "<style scoped>\n",
              "    .dataframe tbody tr th:only-of-type {\n",
              "        vertical-align: middle;\n",
              "    }\n",
              "\n",
              "    .dataframe tbody tr th {\n",
              "        vertical-align: top;\n",
              "    }\n",
              "\n",
              "    .dataframe thead th {\n",
              "        text-align: right;\n",
              "    }\n",
              "</style>\n",
              "<table border=\"1\" class=\"dataframe\">\n",
              "  <thead>\n",
              "    <tr style=\"text-align: right;\">\n",
              "      <th></th>\n",
              "      <th>count</th>\n",
              "    </tr>\n",
              "    <tr>\n",
              "      <th>binary_outcome_for_second_classifier</th>\n",
              "      <th></th>\n",
              "    </tr>\n",
              "  </thead>\n",
              "  <tbody>\n",
              "    <tr>\n",
              "      <th>1</th>\n",
              "      <td>71</td>\n",
              "    </tr>\n",
              "    <tr>\n",
              "      <th>0</th>\n",
              "      <td>9</td>\n",
              "    </tr>\n",
              "  </tbody>\n",
              "</table>\n",
              "</div><br><label><b>dtype:</b> int64</label>"
            ]
          },
          "metadata": {},
          "execution_count": 79
        }
      ]
    },
    {
      "cell_type": "code",
      "source": [
        "from sklearn.utils import resample\n",
        "import pandas as pd\n",
        "\n",
        "# שליפת המחלקות\n",
        "class_1 = data_1[data_1['binary_outcome_for_second_classifier'] == 1]\n",
        "class_0 = data_1[data_1['binary_outcome_for_second_classifier'] == 0]\n",
        "\n",
        "# Undersampling למחלקה הדומיננטית (class 1)\n",
        "class_1_downsampled = resample(class_1,\n",
        "                               replace=False,  # ללא החלפה\n",
        "                               n_samples=len(class_0)*4,  # מספר הדוגמאות במחלקה הקטנה\n",
        "                               random_state=42)  # לשחזור\n",
        "\n",
        "# איחוד מחדש של שתי המחלקות\n",
        "balanced_data = pd.concat([class_1_downsampled, class_0])\n",
        "\n",
        "# ערבוב הנתונים (Shuffle)\n",
        "balanced_data = balanced_data.sample(frac=1, random_state=42).reset_index(drop=True)\n",
        "\n",
        "# בדיקת התוצאה\n",
        "print(balanced_data['binary_outcome_for_second_classifier'].value_counts())\n"
      ],
      "metadata": {
        "colab": {
          "base_uri": "https://localhost:8080/"
        },
        "id": "PSjhg4IoVdQi",
        "outputId": "563c915e-0cec-4931-872d-bdb4ae2137ba"
      },
      "id": "PSjhg4IoVdQi",
      "execution_count": null,
      "outputs": [
        {
          "output_type": "stream",
          "name": "stdout",
          "text": [
            "binary_outcome_for_second_classifier\n",
            "1    36\n",
            "0     9\n",
            "Name: count, dtype: int64\n"
          ]
        }
      ]
    },
    {
      "cell_type": "code",
      "source": [
        "balanced_data"
      ],
      "metadata": {
        "colab": {
          "base_uri": "https://localhost:8080/",
          "height": 1000
        },
        "id": "tdj8Qu8aVhZi",
        "outputId": "f96549fd-d2ce-4443-9c56-22bc953465f5"
      },
      "id": "tdj8Qu8aVhZi",
      "execution_count": null,
      "outputs": [
        {
          "output_type": "execute_result",
          "data": {
            "text/plain": [
              "                             גוף המסמך חתוך מסווג שני  \\\n",
              "0   ן היום בעע\"ם 8324/12 ועע\"ם 8502/12. בפסק-הדין ...   \n",
              "1   , הוא אינו בגדר ענישה של הנאשמים, כי אם בגדר פ...   \n",
              "2   לבפיש גב\\' ברכה וייס פסק דין השופט א\\' א\\' לוי...   \n",
              "3   ב-2005, פסק הדין בערעור בבית המשפט המחוזי ובעק...   \n",
              "4    להותיר את ההכרעה בו לשיקול דעתו של בית המשפט....   \n",
              "5   כפוף, כמובן, להוראות הדין. 28. נוכח כל האמור ל...   \n",
              "6   רה של החברה נדחה אפוא (עע\"ם 6724/10). בצד האמו...   \n",
              "7   קש (שיקרא להלן: המערער). זאת ועוד – על פי ההסכ...   \n",
              "8   מאסר המותנה בן 12 החודשים שהוטל על המבקש בחפיפ...   \n",
              "9   תחו כאמור גם הליכי הוצאה לפועל הנ\"ל בידי המשיב...   \n",
              "10  אסר, שירוצו בדרך של עבודות שירות, וזאת בכפוף ל...   \n",
              "11   לחוק העונשין. 13. סוף דבר, עונש 30 ימי המאסר ...   \n",
              "12   ג ד המשיבה: מדינת ישראל בקשת רשות ערעור על פס...   \n",
              "13  ['החלטה בתיק רע\"פ 5123/08 בבית המשפט העליון רע...   \n",
              "14  ק דין בהסכמת המדינה, בקשת רשות הערעור מתקבלת, ...   \n",
              "15  מורה. ממילא נדחה מועד תחילת ריצוי עונשו של לבו...   \n",
              "16  גות המתלוננת - אלא באשר הואשם, ועל כן אין מקום...   \n",
              "17   בשאלה אם המדינה תגיש ערעור על החלטה זו. 12. ס...   \n",
              "18  פט המחוזי אכן נפלו פגמים, המחייבים בחינה מחודש...   \n",
              "19  גמאות בהן יש לייחס לתיקון המחדל משמעות פחותה ב...   \n",
              "20  ת במדינה זרה. במצב דברים זה, מבלי לדעת את זהות...   \n",
              "21  וזי ולהעמיד את עונשו של המבקש על 18 חודשי מאסר...   \n",
              "22  דינת ישראל בקשה למתן רשות ערעור על פסק דינו של...   \n",
              "23  שם המשיבה: עו\"ד עמית מררי פסק-דין באיכוח בעלי ...   \n",
              "24  ['החלטה בתיק רע\"פ 7480/09 בבית המשפט העליון רע...   \n",
              "25  טים א\\' טל וע\\' בנימיני תאריך הישיבה: ט\"ז באדר...   \n",
              "26   י\\' דר, י\\' כהן וי\\' עמית תאריך הישיבה: ז\\' ב...   \n",
              "27  רכת מועד להישפט בגין הודעת תשלום קנס מס\\' 9050...   \n",
              "28  ר מבחינת קצב התנהלותן של הרשויות, אין מנוס מן ...   \n",
              "29  כי מזכות הגישה לערכאות, הנפרטת גם לזכותו של בע...   \n",
              "30  א להרשיע תאגיד שנמצא אשם, אך יש להפעילה בצמצום...   \n",
              "31  משיבה את הסכמתה לביטול רכיב המאסר בפועל שבעונש...   \n",
              "32  ים השונים ולפיכך לא היה מקום להתערב בה. 12. אש...   \n",
              "33  ר ועניין. 2. בהמשך להחלטה מיום 8.1.2004, אנו ק...   \n",
              "34  נש השל\"ץ תוך מחויבות רבה והתנהגות נאותה ומקובל...   \n",
              "35  לל התקופה. 11. לא נעלמו מעיני – טענות המבקשים ...   \n",
              "36  תירה לשיקול דעת, אך הזכירה שהמדובר בתיק מ-2007...   \n",
              "37  יב הקנס שגזר בית המשפט לתעבורה על המבקש. הממונ...   \n",
              "38  , המשיב הוסיף וחטא בנהיגתו הרשלנית שגרמה לתאונ...   \n",
              "39  יאוחר מהשעה 10:00 בבית הסוהר \"נוה תרצה\" במתחם ...   \n",
              "40  ל זה; או שמא ישנו טעם והצדקה כענין שבמדיניותלה...   \n",
              "41  ר-הדין יוותרו על כנם. החלטנו לדון בבקשה כאילו ...   \n",
              "42  כבוד השופטת נגה אהד בשם המבקש: עו\"ד גלעד נרקיס...   \n",
              "43  ס בסך של 450 ש\"ח בגין כל הדוח\"ות אשר נרשמו לה ...   \n",
              "44  ג\\'ובראן. בתום הדיון, לאחר שמיעה נרחבת של טענו...   \n",
              "\n",
              "    binary_outcome_for_second_classifier  \n",
              "0                                      0  \n",
              "1                                      1  \n",
              "2                                      1  \n",
              "3                                      0  \n",
              "4                                      1  \n",
              "5                                      0  \n",
              "6                                      1  \n",
              "7                                      1  \n",
              "8                                      1  \n",
              "9                                      1  \n",
              "10                                     1  \n",
              "11                                     1  \n",
              "12                                     1  \n",
              "13                                     1  \n",
              "14                                     1  \n",
              "15                                     1  \n",
              "16                                     0  \n",
              "17                                     1  \n",
              "18                                     1  \n",
              "19                                     1  \n",
              "20                                     0  \n",
              "21                                     1  \n",
              "22                                     1  \n",
              "23                                     1  \n",
              "24                                     1  \n",
              "25                                     1  \n",
              "26                                     1  \n",
              "27                                     1  \n",
              "28                                     1  \n",
              "29                                     1  \n",
              "30                                     0  \n",
              "31                                     1  \n",
              "32                                     1  \n",
              "33                                     1  \n",
              "34                                     1  \n",
              "35                                     0  \n",
              "36                                     1  \n",
              "37                                     1  \n",
              "38                                     1  \n",
              "39                                     0  \n",
              "40                                     1  \n",
              "41                                     1  \n",
              "42                                     1  \n",
              "43                                     1  \n",
              "44                                     0  "
            ],
            "text/html": [
              "\n",
              "  <div id=\"df-faeb70ed-3a0e-4d7b-b24b-c12315a2214f\" class=\"colab-df-container\">\n",
              "    <div>\n",
              "<style scoped>\n",
              "    .dataframe tbody tr th:only-of-type {\n",
              "        vertical-align: middle;\n",
              "    }\n",
              "\n",
              "    .dataframe tbody tr th {\n",
              "        vertical-align: top;\n",
              "    }\n",
              "\n",
              "    .dataframe thead th {\n",
              "        text-align: right;\n",
              "    }\n",
              "</style>\n",
              "<table border=\"1\" class=\"dataframe\">\n",
              "  <thead>\n",
              "    <tr style=\"text-align: right;\">\n",
              "      <th></th>\n",
              "      <th>גוף המסמך חתוך מסווג שני</th>\n",
              "      <th>binary_outcome_for_second_classifier</th>\n",
              "    </tr>\n",
              "  </thead>\n",
              "  <tbody>\n",
              "    <tr>\n",
              "      <th>0</th>\n",
              "      <td>ן היום בעע\"ם 8324/12 ועע\"ם 8502/12. בפסק-הדין ...</td>\n",
              "      <td>0</td>\n",
              "    </tr>\n",
              "    <tr>\n",
              "      <th>1</th>\n",
              "      <td>, הוא אינו בגדר ענישה של הנאשמים, כי אם בגדר פ...</td>\n",
              "      <td>1</td>\n",
              "    </tr>\n",
              "    <tr>\n",
              "      <th>2</th>\n",
              "      <td>לבפיש גב\\' ברכה וייס פסק דין השופט א\\' א\\' לוי...</td>\n",
              "      <td>1</td>\n",
              "    </tr>\n",
              "    <tr>\n",
              "      <th>3</th>\n",
              "      <td>ב-2005, פסק הדין בערעור בבית המשפט המחוזי ובעק...</td>\n",
              "      <td>0</td>\n",
              "    </tr>\n",
              "    <tr>\n",
              "      <th>4</th>\n",
              "      <td>להותיר את ההכרעה בו לשיקול דעתו של בית המשפט....</td>\n",
              "      <td>1</td>\n",
              "    </tr>\n",
              "    <tr>\n",
              "      <th>5</th>\n",
              "      <td>כפוף, כמובן, להוראות הדין. 28. נוכח כל האמור ל...</td>\n",
              "      <td>0</td>\n",
              "    </tr>\n",
              "    <tr>\n",
              "      <th>6</th>\n",
              "      <td>רה של החברה נדחה אפוא (עע\"ם 6724/10). בצד האמו...</td>\n",
              "      <td>1</td>\n",
              "    </tr>\n",
              "    <tr>\n",
              "      <th>7</th>\n",
              "      <td>קש (שיקרא להלן: המערער). זאת ועוד – על פי ההסכ...</td>\n",
              "      <td>1</td>\n",
              "    </tr>\n",
              "    <tr>\n",
              "      <th>8</th>\n",
              "      <td>מאסר המותנה בן 12 החודשים שהוטל על המבקש בחפיפ...</td>\n",
              "      <td>1</td>\n",
              "    </tr>\n",
              "    <tr>\n",
              "      <th>9</th>\n",
              "      <td>תחו כאמור גם הליכי הוצאה לפועל הנ\"ל בידי המשיב...</td>\n",
              "      <td>1</td>\n",
              "    </tr>\n",
              "    <tr>\n",
              "      <th>10</th>\n",
              "      <td>אסר, שירוצו בדרך של עבודות שירות, וזאת בכפוף ל...</td>\n",
              "      <td>1</td>\n",
              "    </tr>\n",
              "    <tr>\n",
              "      <th>11</th>\n",
              "      <td>לחוק העונשין. 13. סוף דבר, עונש 30 ימי המאסר ...</td>\n",
              "      <td>1</td>\n",
              "    </tr>\n",
              "    <tr>\n",
              "      <th>12</th>\n",
              "      <td>ג ד המשיבה: מדינת ישראל בקשת רשות ערעור על פס...</td>\n",
              "      <td>1</td>\n",
              "    </tr>\n",
              "    <tr>\n",
              "      <th>13</th>\n",
              "      <td>['החלטה בתיק רע\"פ 5123/08 בבית המשפט העליון רע...</td>\n",
              "      <td>1</td>\n",
              "    </tr>\n",
              "    <tr>\n",
              "      <th>14</th>\n",
              "      <td>ק דין בהסכמת המדינה, בקשת רשות הערעור מתקבלת, ...</td>\n",
              "      <td>1</td>\n",
              "    </tr>\n",
              "    <tr>\n",
              "      <th>15</th>\n",
              "      <td>מורה. ממילא נדחה מועד תחילת ריצוי עונשו של לבו...</td>\n",
              "      <td>1</td>\n",
              "    </tr>\n",
              "    <tr>\n",
              "      <th>16</th>\n",
              "      <td>גות המתלוננת - אלא באשר הואשם, ועל כן אין מקום...</td>\n",
              "      <td>0</td>\n",
              "    </tr>\n",
              "    <tr>\n",
              "      <th>17</th>\n",
              "      <td>בשאלה אם המדינה תגיש ערעור על החלטה זו. 12. ס...</td>\n",
              "      <td>1</td>\n",
              "    </tr>\n",
              "    <tr>\n",
              "      <th>18</th>\n",
              "      <td>פט המחוזי אכן נפלו פגמים, המחייבים בחינה מחודש...</td>\n",
              "      <td>1</td>\n",
              "    </tr>\n",
              "    <tr>\n",
              "      <th>19</th>\n",
              "      <td>גמאות בהן יש לייחס לתיקון המחדל משמעות פחותה ב...</td>\n",
              "      <td>1</td>\n",
              "    </tr>\n",
              "    <tr>\n",
              "      <th>20</th>\n",
              "      <td>ת במדינה זרה. במצב דברים זה, מבלי לדעת את זהות...</td>\n",
              "      <td>0</td>\n",
              "    </tr>\n",
              "    <tr>\n",
              "      <th>21</th>\n",
              "      <td>וזי ולהעמיד את עונשו של המבקש על 18 חודשי מאסר...</td>\n",
              "      <td>1</td>\n",
              "    </tr>\n",
              "    <tr>\n",
              "      <th>22</th>\n",
              "      <td>דינת ישראל בקשה למתן רשות ערעור על פסק דינו של...</td>\n",
              "      <td>1</td>\n",
              "    </tr>\n",
              "    <tr>\n",
              "      <th>23</th>\n",
              "      <td>שם המשיבה: עו\"ד עמית מררי פסק-דין באיכוח בעלי ...</td>\n",
              "      <td>1</td>\n",
              "    </tr>\n",
              "    <tr>\n",
              "      <th>24</th>\n",
              "      <td>['החלטה בתיק רע\"פ 7480/09 בבית המשפט העליון רע...</td>\n",
              "      <td>1</td>\n",
              "    </tr>\n",
              "    <tr>\n",
              "      <th>25</th>\n",
              "      <td>טים א\\' טל וע\\' בנימיני תאריך הישיבה: ט\"ז באדר...</td>\n",
              "      <td>1</td>\n",
              "    </tr>\n",
              "    <tr>\n",
              "      <th>26</th>\n",
              "      <td>י\\' דר, י\\' כהן וי\\' עמית תאריך הישיבה: ז\\' ב...</td>\n",
              "      <td>1</td>\n",
              "    </tr>\n",
              "    <tr>\n",
              "      <th>27</th>\n",
              "      <td>רכת מועד להישפט בגין הודעת תשלום קנס מס\\' 9050...</td>\n",
              "      <td>1</td>\n",
              "    </tr>\n",
              "    <tr>\n",
              "      <th>28</th>\n",
              "      <td>ר מבחינת קצב התנהלותן של הרשויות, אין מנוס מן ...</td>\n",
              "      <td>1</td>\n",
              "    </tr>\n",
              "    <tr>\n",
              "      <th>29</th>\n",
              "      <td>כי מזכות הגישה לערכאות, הנפרטת גם לזכותו של בע...</td>\n",
              "      <td>1</td>\n",
              "    </tr>\n",
              "    <tr>\n",
              "      <th>30</th>\n",
              "      <td>א להרשיע תאגיד שנמצא אשם, אך יש להפעילה בצמצום...</td>\n",
              "      <td>0</td>\n",
              "    </tr>\n",
              "    <tr>\n",
              "      <th>31</th>\n",
              "      <td>משיבה את הסכמתה לביטול רכיב המאסר בפועל שבעונש...</td>\n",
              "      <td>1</td>\n",
              "    </tr>\n",
              "    <tr>\n",
              "      <th>32</th>\n",
              "      <td>ים השונים ולפיכך לא היה מקום להתערב בה. 12. אש...</td>\n",
              "      <td>1</td>\n",
              "    </tr>\n",
              "    <tr>\n",
              "      <th>33</th>\n",
              "      <td>ר ועניין. 2. בהמשך להחלטה מיום 8.1.2004, אנו ק...</td>\n",
              "      <td>1</td>\n",
              "    </tr>\n",
              "    <tr>\n",
              "      <th>34</th>\n",
              "      <td>נש השל\"ץ תוך מחויבות רבה והתנהגות נאותה ומקובל...</td>\n",
              "      <td>1</td>\n",
              "    </tr>\n",
              "    <tr>\n",
              "      <th>35</th>\n",
              "      <td>לל התקופה. 11. לא נעלמו מעיני – טענות המבקשים ...</td>\n",
              "      <td>0</td>\n",
              "    </tr>\n",
              "    <tr>\n",
              "      <th>36</th>\n",
              "      <td>תירה לשיקול דעת, אך הזכירה שהמדובר בתיק מ-2007...</td>\n",
              "      <td>1</td>\n",
              "    </tr>\n",
              "    <tr>\n",
              "      <th>37</th>\n",
              "      <td>יב הקנס שגזר בית המשפט לתעבורה על המבקש. הממונ...</td>\n",
              "      <td>1</td>\n",
              "    </tr>\n",
              "    <tr>\n",
              "      <th>38</th>\n",
              "      <td>, המשיב הוסיף וחטא בנהיגתו הרשלנית שגרמה לתאונ...</td>\n",
              "      <td>1</td>\n",
              "    </tr>\n",
              "    <tr>\n",
              "      <th>39</th>\n",
              "      <td>יאוחר מהשעה 10:00 בבית הסוהר \"נוה תרצה\" במתחם ...</td>\n",
              "      <td>0</td>\n",
              "    </tr>\n",
              "    <tr>\n",
              "      <th>40</th>\n",
              "      <td>ל זה; או שמא ישנו טעם והצדקה כענין שבמדיניותלה...</td>\n",
              "      <td>1</td>\n",
              "    </tr>\n",
              "    <tr>\n",
              "      <th>41</th>\n",
              "      <td>ר-הדין יוותרו על כנם. החלטנו לדון בבקשה כאילו ...</td>\n",
              "      <td>1</td>\n",
              "    </tr>\n",
              "    <tr>\n",
              "      <th>42</th>\n",
              "      <td>כבוד השופטת נגה אהד בשם המבקש: עו\"ד גלעד נרקיס...</td>\n",
              "      <td>1</td>\n",
              "    </tr>\n",
              "    <tr>\n",
              "      <th>43</th>\n",
              "      <td>ס בסך של 450 ש\"ח בגין כל הדוח\"ות אשר נרשמו לה ...</td>\n",
              "      <td>1</td>\n",
              "    </tr>\n",
              "    <tr>\n",
              "      <th>44</th>\n",
              "      <td>ג\\'ובראן. בתום הדיון, לאחר שמיעה נרחבת של טענו...</td>\n",
              "      <td>0</td>\n",
              "    </tr>\n",
              "  </tbody>\n",
              "</table>\n",
              "</div>\n",
              "    <div class=\"colab-df-buttons\">\n",
              "\n",
              "  <div class=\"colab-df-container\">\n",
              "    <button class=\"colab-df-convert\" onclick=\"convertToInteractive('df-faeb70ed-3a0e-4d7b-b24b-c12315a2214f')\"\n",
              "            title=\"Convert this dataframe to an interactive table.\"\n",
              "            style=\"display:none;\">\n",
              "\n",
              "  <svg xmlns=\"http://www.w3.org/2000/svg\" height=\"24px\" viewBox=\"0 -960 960 960\">\n",
              "    <path d=\"M120-120v-720h720v720H120Zm60-500h600v-160H180v160Zm220 220h160v-160H400v160Zm0 220h160v-160H400v160ZM180-400h160v-160H180v160Zm440 0h160v-160H620v160ZM180-180h160v-160H180v160Zm440 0h160v-160H620v160Z\"/>\n",
              "  </svg>\n",
              "    </button>\n",
              "\n",
              "  <style>\n",
              "    .colab-df-container {\n",
              "      display:flex;\n",
              "      gap: 12px;\n",
              "    }\n",
              "\n",
              "    .colab-df-convert {\n",
              "      background-color: #E8F0FE;\n",
              "      border: none;\n",
              "      border-radius: 50%;\n",
              "      cursor: pointer;\n",
              "      display: none;\n",
              "      fill: #1967D2;\n",
              "      height: 32px;\n",
              "      padding: 0 0 0 0;\n",
              "      width: 32px;\n",
              "    }\n",
              "\n",
              "    .colab-df-convert:hover {\n",
              "      background-color: #E2EBFA;\n",
              "      box-shadow: 0px 1px 2px rgba(60, 64, 67, 0.3), 0px 1px 3px 1px rgba(60, 64, 67, 0.15);\n",
              "      fill: #174EA6;\n",
              "    }\n",
              "\n",
              "    .colab-df-buttons div {\n",
              "      margin-bottom: 4px;\n",
              "    }\n",
              "\n",
              "    [theme=dark] .colab-df-convert {\n",
              "      background-color: #3B4455;\n",
              "      fill: #D2E3FC;\n",
              "    }\n",
              "\n",
              "    [theme=dark] .colab-df-convert:hover {\n",
              "      background-color: #434B5C;\n",
              "      box-shadow: 0px 1px 3px 1px rgba(0, 0, 0, 0.15);\n",
              "      filter: drop-shadow(0px 1px 2px rgba(0, 0, 0, 0.3));\n",
              "      fill: #FFFFFF;\n",
              "    }\n",
              "  </style>\n",
              "\n",
              "    <script>\n",
              "      const buttonEl =\n",
              "        document.querySelector('#df-faeb70ed-3a0e-4d7b-b24b-c12315a2214f button.colab-df-convert');\n",
              "      buttonEl.style.display =\n",
              "        google.colab.kernel.accessAllowed ? 'block' : 'none';\n",
              "\n",
              "      async function convertToInteractive(key) {\n",
              "        const element = document.querySelector('#df-faeb70ed-3a0e-4d7b-b24b-c12315a2214f');\n",
              "        const dataTable =\n",
              "          await google.colab.kernel.invokeFunction('convertToInteractive',\n",
              "                                                    [key], {});\n",
              "        if (!dataTable) return;\n",
              "\n",
              "        const docLinkHtml = 'Like what you see? Visit the ' +\n",
              "          '<a target=\"_blank\" href=https://colab.research.google.com/notebooks/data_table.ipynb>data table notebook</a>'\n",
              "          + ' to learn more about interactive tables.';\n",
              "        element.innerHTML = '';\n",
              "        dataTable['output_type'] = 'display_data';\n",
              "        await google.colab.output.renderOutput(dataTable, element);\n",
              "        const docLink = document.createElement('div');\n",
              "        docLink.innerHTML = docLinkHtml;\n",
              "        element.appendChild(docLink);\n",
              "      }\n",
              "    </script>\n",
              "  </div>\n",
              "\n",
              "\n",
              "<div id=\"df-c578b9de-6dc2-4ae1-953c-d8b1e3b4b679\">\n",
              "  <button class=\"colab-df-quickchart\" onclick=\"quickchart('df-c578b9de-6dc2-4ae1-953c-d8b1e3b4b679')\"\n",
              "            title=\"Suggest charts\"\n",
              "            style=\"display:none;\">\n",
              "\n",
              "<svg xmlns=\"http://www.w3.org/2000/svg\" height=\"24px\"viewBox=\"0 0 24 24\"\n",
              "     width=\"24px\">\n",
              "    <g>\n",
              "        <path d=\"M19 3H5c-1.1 0-2 .9-2 2v14c0 1.1.9 2 2 2h14c1.1 0 2-.9 2-2V5c0-1.1-.9-2-2-2zM9 17H7v-7h2v7zm4 0h-2V7h2v10zm4 0h-2v-4h2v4z\"/>\n",
              "    </g>\n",
              "</svg>\n",
              "  </button>\n",
              "\n",
              "<style>\n",
              "  .colab-df-quickchart {\n",
              "      --bg-color: #E8F0FE;\n",
              "      --fill-color: #1967D2;\n",
              "      --hover-bg-color: #E2EBFA;\n",
              "      --hover-fill-color: #174EA6;\n",
              "      --disabled-fill-color: #AAA;\n",
              "      --disabled-bg-color: #DDD;\n",
              "  }\n",
              "\n",
              "  [theme=dark] .colab-df-quickchart {\n",
              "      --bg-color: #3B4455;\n",
              "      --fill-color: #D2E3FC;\n",
              "      --hover-bg-color: #434B5C;\n",
              "      --hover-fill-color: #FFFFFF;\n",
              "      --disabled-bg-color: #3B4455;\n",
              "      --disabled-fill-color: #666;\n",
              "  }\n",
              "\n",
              "  .colab-df-quickchart {\n",
              "    background-color: var(--bg-color);\n",
              "    border: none;\n",
              "    border-radius: 50%;\n",
              "    cursor: pointer;\n",
              "    display: none;\n",
              "    fill: var(--fill-color);\n",
              "    height: 32px;\n",
              "    padding: 0;\n",
              "    width: 32px;\n",
              "  }\n",
              "\n",
              "  .colab-df-quickchart:hover {\n",
              "    background-color: var(--hover-bg-color);\n",
              "    box-shadow: 0 1px 2px rgba(60, 64, 67, 0.3), 0 1px 3px 1px rgba(60, 64, 67, 0.15);\n",
              "    fill: var(--button-hover-fill-color);\n",
              "  }\n",
              "\n",
              "  .colab-df-quickchart-complete:disabled,\n",
              "  .colab-df-quickchart-complete:disabled:hover {\n",
              "    background-color: var(--disabled-bg-color);\n",
              "    fill: var(--disabled-fill-color);\n",
              "    box-shadow: none;\n",
              "  }\n",
              "\n",
              "  .colab-df-spinner {\n",
              "    border: 2px solid var(--fill-color);\n",
              "    border-color: transparent;\n",
              "    border-bottom-color: var(--fill-color);\n",
              "    animation:\n",
              "      spin 1s steps(1) infinite;\n",
              "  }\n",
              "\n",
              "  @keyframes spin {\n",
              "    0% {\n",
              "      border-color: transparent;\n",
              "      border-bottom-color: var(--fill-color);\n",
              "      border-left-color: var(--fill-color);\n",
              "    }\n",
              "    20% {\n",
              "      border-color: transparent;\n",
              "      border-left-color: var(--fill-color);\n",
              "      border-top-color: var(--fill-color);\n",
              "    }\n",
              "    30% {\n",
              "      border-color: transparent;\n",
              "      border-left-color: var(--fill-color);\n",
              "      border-top-color: var(--fill-color);\n",
              "      border-right-color: var(--fill-color);\n",
              "    }\n",
              "    40% {\n",
              "      border-color: transparent;\n",
              "      border-right-color: var(--fill-color);\n",
              "      border-top-color: var(--fill-color);\n",
              "    }\n",
              "    60% {\n",
              "      border-color: transparent;\n",
              "      border-right-color: var(--fill-color);\n",
              "    }\n",
              "    80% {\n",
              "      border-color: transparent;\n",
              "      border-right-color: var(--fill-color);\n",
              "      border-bottom-color: var(--fill-color);\n",
              "    }\n",
              "    90% {\n",
              "      border-color: transparent;\n",
              "      border-bottom-color: var(--fill-color);\n",
              "    }\n",
              "  }\n",
              "</style>\n",
              "\n",
              "  <script>\n",
              "    async function quickchart(key) {\n",
              "      const quickchartButtonEl =\n",
              "        document.querySelector('#' + key + ' button');\n",
              "      quickchartButtonEl.disabled = true;  // To prevent multiple clicks.\n",
              "      quickchartButtonEl.classList.add('colab-df-spinner');\n",
              "      try {\n",
              "        const charts = await google.colab.kernel.invokeFunction(\n",
              "            'suggestCharts', [key], {});\n",
              "      } catch (error) {\n",
              "        console.error('Error during call to suggestCharts:', error);\n",
              "      }\n",
              "      quickchartButtonEl.classList.remove('colab-df-spinner');\n",
              "      quickchartButtonEl.classList.add('colab-df-quickchart-complete');\n",
              "    }\n",
              "    (() => {\n",
              "      let quickchartButtonEl =\n",
              "        document.querySelector('#df-c578b9de-6dc2-4ae1-953c-d8b1e3b4b679 button');\n",
              "      quickchartButtonEl.style.display =\n",
              "        google.colab.kernel.accessAllowed ? 'block' : 'none';\n",
              "    })();\n",
              "  </script>\n",
              "</div>\n",
              "\n",
              "  <div id=\"id_7652cadf-e76c-4656-b097-a56f54ff2a7e\">\n",
              "    <style>\n",
              "      .colab-df-generate {\n",
              "        background-color: #E8F0FE;\n",
              "        border: none;\n",
              "        border-radius: 50%;\n",
              "        cursor: pointer;\n",
              "        display: none;\n",
              "        fill: #1967D2;\n",
              "        height: 32px;\n",
              "        padding: 0 0 0 0;\n",
              "        width: 32px;\n",
              "      }\n",
              "\n",
              "      .colab-df-generate:hover {\n",
              "        background-color: #E2EBFA;\n",
              "        box-shadow: 0px 1px 2px rgba(60, 64, 67, 0.3), 0px 1px 3px 1px rgba(60, 64, 67, 0.15);\n",
              "        fill: #174EA6;\n",
              "      }\n",
              "\n",
              "      [theme=dark] .colab-df-generate {\n",
              "        background-color: #3B4455;\n",
              "        fill: #D2E3FC;\n",
              "      }\n",
              "\n",
              "      [theme=dark] .colab-df-generate:hover {\n",
              "        background-color: #434B5C;\n",
              "        box-shadow: 0px 1px 3px 1px rgba(0, 0, 0, 0.15);\n",
              "        filter: drop-shadow(0px 1px 2px rgba(0, 0, 0, 0.3));\n",
              "        fill: #FFFFFF;\n",
              "      }\n",
              "    </style>\n",
              "    <button class=\"colab-df-generate\" onclick=\"generateWithVariable('balanced_data')\"\n",
              "            title=\"Generate code using this dataframe.\"\n",
              "            style=\"display:none;\">\n",
              "\n",
              "  <svg xmlns=\"http://www.w3.org/2000/svg\" height=\"24px\"viewBox=\"0 0 24 24\"\n",
              "       width=\"24px\">\n",
              "    <path d=\"M7,19H8.4L18.45,9,17,7.55,7,17.6ZM5,21V16.75L18.45,3.32a2,2,0,0,1,2.83,0l1.4,1.43a1.91,1.91,0,0,1,.58,1.4,1.91,1.91,0,0,1-.58,1.4L9.25,21ZM18.45,9,17,7.55Zm-12,3A5.31,5.31,0,0,0,4.9,8.1,5.31,5.31,0,0,0,1,6.5,5.31,5.31,0,0,0,4.9,4.9,5.31,5.31,0,0,0,6.5,1,5.31,5.31,0,0,0,8.1,4.9,5.31,5.31,0,0,0,12,6.5,5.46,5.46,0,0,0,6.5,12Z\"/>\n",
              "  </svg>\n",
              "    </button>\n",
              "    <script>\n",
              "      (() => {\n",
              "      const buttonEl =\n",
              "        document.querySelector('#id_7652cadf-e76c-4656-b097-a56f54ff2a7e button.colab-df-generate');\n",
              "      buttonEl.style.display =\n",
              "        google.colab.kernel.accessAllowed ? 'block' : 'none';\n",
              "\n",
              "      buttonEl.onclick = () => {\n",
              "        google.colab.notebook.generateWithVariable('balanced_data');\n",
              "      }\n",
              "      })();\n",
              "    </script>\n",
              "  </div>\n",
              "\n",
              "    </div>\n",
              "  </div>\n"
            ],
            "application/vnd.google.colaboratory.intrinsic+json": {
              "type": "dataframe",
              "variable_name": "balanced_data",
              "summary": "{\n  \"name\": \"balanced_data\",\n  \"rows\": 45,\n  \"fields\": [\n    {\n      \"column\": \"\\u05d2\\u05d5\\u05e3 \\u05d4\\u05de\\u05e1\\u05de\\u05da \\u05d7\\u05ea\\u05d5\\u05da \\u05de\\u05e1\\u05d5\\u05d5\\u05d2 \\u05e9\\u05e0\\u05d9\",\n      \"properties\": {\n        \"dtype\": \"string\",\n        \"num_unique_values\": 45,\n        \"samples\": [\n          \"\\u05d9\\u05d0\\u05d5\\u05d7\\u05e8 \\u05de\\u05d4\\u05e9\\u05e2\\u05d4 10:00 \\u05d1\\u05d1\\u05d9\\u05ea \\u05d4\\u05e1\\u05d5\\u05d4\\u05e8 \\\"\\u05e0\\u05d5\\u05d4 \\u05ea\\u05e8\\u05e6\\u05d4\\\" \\u05d1\\u05de\\u05ea\\u05d7\\u05dd \\u05d0\\u05d9\\u05d9\\u05dc\\u05d5\\u05df, \\u05d5\\u05d4\\u05de\\u05d1\\u05e7\\u05e9 \\u05d0\\u05d5\\u05d6\\u05df \\u05d9\\u05ea\\u05d9\\u05d9\\u05e6\\u05d1 \\u05d1\\u05d0\\u05d5\\u05ea\\u05d5 \\u05d9\\u05d5\\u05dd \\u05e2\\u05d3 \\u05d4\\u05e9\\u05e2\\u05d4 10:00 \\u05d1\\u05d1\\u05d9\\u05ea \\u05d4\\u05e1\\u05d5\\u05d4\\u05e8 \\\"\\u05d3\\u05e7\\u05dc\\\" \\u05d1\\u05d1\\u05d0\\u05e8 \\u05e9\\u05d1\\u05e2, \\u05d0\\u05d5 \\u05e2\\u05dc \\u05e4\\u05d9 \\u05d4\\u05d7\\u05dc\\u05d8\\u05ea \\u05e9\\u05d9\\u05e8\\u05d5\\u05ea \\u05d1\\u05ea\\u05d9 \\u05d4\\u05e1\\u05d5\\u05d4\\u05e8. \\u05e2\\u05dc \\u05d4\\u05de\\u05d1\\u05e7\\u05e9\\u05d9\\u05dd \\u05dc\\u05d4\\u05e6\\u05d8\\u05d9\\u05d9\\u05d3 \\u05d1\\u05ea\\u05e2\\u05d5\\u05d3\\u05ea \\u05d6\\u05d4\\u05d5\\u05ea, \\u05d5\\u05d1\\u05d9\\u05d3\\u05d9\\u05d4\\u05dd \\u05dc\\u05ea\\u05d0\\u05dd \\u05d0\\u05ea \\u05d4\\u05db\\u05e0\\u05d9\\u05e1\\u05d4 \\u05dc\\u05de\\u05d0\\u05e1\\u05e8, \\u05db\\u05d5\\u05dc\\u05dc \\u05d4\\u05d0\\u05e4\\u05e9\\u05e8\\u05d5\\u05ea \\u05dc\\u05de\\u05d9\\u05d5\\u05df \\u05de\\u05d5\\u05e7\\u05d3\\u05dd, \\u05e2\\u05dd \\u05e2\\u05e0\\u05e3 \\u05d0\\u05d1\\u05d7\\u05d5\\u05df \\u05d5\\u05de\\u05d9\\u05d5\\u05df \\u05e9\\u05dc \\u05e9\\u05d9\\u05e8\\u05d5\\u05ea \\u05d1\\u05ea\\u05d9 \\u05d4\\u05e1\\u05d5\\u05d4\\u05e8. \\u05e9 \\u05d5 \\u05e4 \\u05d8 \\u05d4\\u05e9\\u05d5\\u05e4\\u05d8 \\u05e1\\\\' \\u05d2\\\\'\\u05d5\\u05d1\\u05e8\\u05d0\\u05df: \\u05d0\\u05e0\\u05d9 \\u05de\\u05e1\\u05db\\u05d9\\u05dd. \\u05e9 \\u05d5 \\u05e4 \\u05d8 \\u05d4\\u05e9\\u05d5\\u05e4\\u05d8\\u05ea \\u05d3\\\\' \\u05d1\\u05e8\\u05e7 \\u05d0\\u05e8\\u05d6: \\u05d0\\u05e0\\u05d9 \\u05de\\u05e1\\u05db\\u05d9\\u05de\\u05d4. \\u05e9 \\u05d5 \\u05e4 \\u05d8 \\u05ea \\u05d4\\u05d5\\u05d7\\u05dc\\u05d8 \\u05db\\u05d0\\u05de\\u05d5\\u05e8 \\u05d1\\u05e4\\u05e1\\u05e7 \\u05d3\\u05d9\\u05e0\\u05d5 \\u05e9\\u05dc \\u05d4\\u05e9\\u05d5\\u05e4\\u05d8 \\u05d0\\\\' \\u05e8\\u05d5\\u05d1\\u05d9\\u05e0\\u05e9\\u05d8\\u05d9\\u05d9\\u05df. \\u05e0\\u05d9\\u05ea\\u05df \\u05d4\\u05d9\\u05d5\\u05dd, \\u05d9\\\"\\u05d6 \\u05d1\\u05d0\\u05d1 \\u05ea\\u05e9\\u05e2\\\"\\u05d3 (13.8.2014). \\u05e9 \\u05d5 \\u05e4 \\u05d8 \\u05e9 \\u05d5 \\u05e4 \\u05d8 \\u05e9 \\u05d5 \\u05e4 \\u05d8 \\u05ea _________________________ \\u05d4\\u05e2\\u05d5\\u05ea\\u05e7 \\u05db\\u05e4\\u05d5\\u05e3 \\u05dc\\u05e9\\u05d9\\u05e0\\u05d5\\u05d9\\u05d9 \\u05e2\\u05e8\\u05d9\\u05db\\u05d4 \\u05d5\\u05e0\\u05d9\\u05e1\\u05d5\\u05d7. 13029960\",\n          \"\\u05d8\\u05d9\\u05dd \\u05d0\\\\' \\u05d8\\u05dc \\u05d5\\u05e2\\\\' \\u05d1\\u05e0\\u05d9\\u05de\\u05d9\\u05e0\\u05d9 \\u05ea\\u05d0\\u05e8\\u05d9\\u05da \\u05d4\\u05d9\\u05e9\\u05d9\\u05d1\\u05d4: \\u05d8\\\"\\u05d6 \\u05d1\\u05d0\\u05d3\\u05e8 \\u05ea\\u05e9\\u05e1\\\"\\u05d3 (9.3.04) \\u05d4\\u05de\\u05d1\\u05e7\\u05e9: \\u05d1\\u05e2\\u05e6\\u05de\\u05d5 \\u05d1\\u05e9\\u05dd \\u05d4\\u05de\\u05e9\\u05d9\\u05d1\\u05d4: \\u05e2\\u05d5\\\"\\u05d3 \\u05e2\\\\' \\u05d7\\u05d5\\u05dc\\u05ea\\u05d0 \\u05e4\\u05e1\\u05e7-\\u05d3\\u05d9\\u05df \\u05d1\\u05d4\\u05e1\\u05db\\u05de\\u05ea\\u05d4\\u05de\\u05e9\\u05d9\\u05d1\\u05d4 \\u05d4\\u05e0\\u05e0\\u05d5 \\u05e0\\u05d5\\u05ea\\u05e0\\u05d9\\u05dd \\u05dc\\u05de\\u05d1\\u05e7\\u05e9 \\u05e8\\u05e9\\u05d5\\u05ea \\u05e2\\u05e8\\u05e2\\u05d5\\u05e8 \\u05d5\\u05de\\u05e7\\u05d1\\u05dc\\u05d9\\u05dd \\u05d0\\u05ea \\u05e2\\u05e8\\u05e2\\u05d5\\u05e8\\u05d5 \\u05d1\\u05de\\u05d5\\u05d1\\u05df \\u05d6\\u05d4 \\u05e9\\u05de\\u05ea\\u05e7\\u05d5\\u05e4\\u05ea \\u05d4\\u05de\\u05d0\\u05e1\\u05e8\\u05e9\\u05d4\\u05d5\\u05d0 \\u05de\\u05e8\\u05e6\\u05d4 \\u05e2\\u05ea\\u05d4 \\u05ea\\u05e0\\u05d5\\u05db\\u05d4 \\u05ea\\u05e7\\u05d5\\u05e4\\u05ea \\u05de\\u05e2\\u05e6\\u05e8\\u05d5 \\u05e9\\u05de\\u05d9\\u05d5\\u05dd 30.11.02 \\u05d5\\u05e2\\u05d3 \\u05dc\\u05d9\\u05d5\\u05dd 1.3.03. \\u05d1\\u05e4\\u05d9 \\u05d4\\u05de\\u05d1\\u05e7\\u05e9 \\u05d4\\u05d9\\u05d9\\u05ea\\u05d4 \\u05d2\\u05dd \\u05d4\\u05e9\\u05d2\\u05d4 \\u05e2\\u05dc \\u05e6\\u05d3\\u05e7\\u05ea \\u05d4\\u05e4\\u05e2\\u05dc\\u05ea\\u05dd\\u05e0\\u05d2\\u05d3\\u05d5 \\u05e9\\u05dc \\u05e9\\u05de\\u05d5\\u05e0\\u05d4 \\u05e2\\u05e9\\u05e8 \\u05d7\\u05d5\\u05d3\\u05e9\\u05d9 \\u05de\\u05d0\\u05e1\\u05e8 \\u05e2\\u05dc-\\u05ea\\u05e0\\u05d0\\u05d9. \\u05d1\\u05d3\\u05e7\\u05e0\\u05d5 \\u05d8\\u05e2\\u05e0\\u05d4 \\u05d6\\u05d5 \\u05d5\\u05de\\u05e1\\u05e7\\u05e0\\u05ea\\u05e0\\u05d5 \\u05d4\\u05d9\\u05d0, \\u05db\\u05d9 \\u05d1\\u05d3\\u05d9\\u05df \\u05d4\\u05d5\\u05e4\\u05e2\\u05dc\\u05e0\\u05d2\\u05d3 \\u05d4\\u05de\\u05d1\\u05e7\\u05e9 \\u05e2\\u05d5\\u05e0\\u05e9 \\u05d4\\u05de\\u05d0\\u05e1\\u05e8 \\u05d4\\u05de\\u05d5\\u05ea\\u05e0\\u05d4 \\u05d4\\u05d0\\u05de\\u05d5\\u05e8. \\u05d7\\u05dc\\u05e7 \\u05d6\\u05d4 \\u05e9\\u05dc \\u05d4\\u05d1\\u05e7\\u05e9\\u05d4 \\u05e0\\u05d3\\u05d7\\u05d4 \\u05d0\\u05e4\\u05d5\\u05d0. \\u05e0\\u05d9\\u05ea\\u05df \\u05d4\\u05d9\\u05d5\\u05dd,\\u05d8\\\"\\u05d6 \\u05d1\\u05d0\\u05d3\\u05e8 \\u05ea\\u05e9\\u05e1\\\"\\u05d3(9.3.04). \\u05e9 \\u05d5 \\u05e4\\u05d8 \\u05e9 \\u05d5 \\u05e4 \\u05d8 \\u05e9\\u05d5 \\u05e4 \\u05d8 _________________________\\u05d4\\u05e2\\u05d5\\u05ea\\u05e7 \\u05db\\u05e4\\u05d5\\u05e3 \\u05dc\\u05e9\\u05d9\\u05e0\\u05d5\\u05d9\\u05d9 \\u05e2\\u05e8\\u05d9\\u05db\\u05d4 \\u05d5\\u05e0\\u05d9\\u05e1\\u05d5\\u05d7. 0\",\n          \" \\u05d9\\\\' \\u05d3\\u05e8, \\u05d9\\\\' \\u05db\\u05d4\\u05df \\u05d5\\u05d9\\\\' \\u05e2\\u05de\\u05d9\\u05ea \\u05ea\\u05d0\\u05e8\\u05d9\\u05da \\u05d4\\u05d9\\u05e9\\u05d9\\u05d1\\u05d4: \\u05d6\\\\' \\u05d1\\u05d0\\u05dc\\u05d5\\u05dc \\u05ea\\u05e9\\u05e1\\\"\\u05d2 (4.9.03) \\u05d1\\u05e9\\u05dd \\u05d4\\u05de\\u05d1\\u05e7\\u05e9: \\u05e2\\u05d5\\\"\\u05d3 \\u05d0\\u05d1\\u05d9 \\u05d2\\u05d5\\u05dc\\u05d3\\u05d1\\u05dc\\u05d9\\u05d8 \\u05d1\\u05e9\\u05dd \\u05d4\\u05de\\u05e9\\u05d9\\u05d1: \\u05e2\\u05d5\\\"\\u05d3 \\u05d3\\u05d2\\u05e0\\u05d9\\u05ea \\u05e7\\u05d5\\u05e8\\u05df \\u05e4\\u05e1\\u05e7-\\u05d3\\u05d9\\u05df \\u05d4\\u05e9\\u05d5\\u05e4\\u05d8\\u05ea \\u05d3\\\\' \\u05d3\\u05d5\\u05e8\\u05e0\\u05e8: \\u05d0\\u05e0\\u05d5 \\u05de\\u05e7\\u05d1\\u05dc\\u05d9\\u05dd \\u05d0\\u05ea \\u05d4\\u05d1\\u05e7\\u05e9\\u05d4, \\u05db\\u05db\\u05dc \\u05e9\\u05d4\\u05d9\\u05d0 \\u05e0\\u05d5\\u05d2\\u05e2\\u05ea\\u05dc\\u05d8\\u05e2\\u05e0\\u05d4 \\u05db\\u05e0\\u05d2\\u05d3 \\u05e4\\u05e1\\u05d9\\u05e7\\u05ea \\u05d4\\u05d5\\u05e6\\u05d0\\u05d5\\u05ea \\u05de\\u05e9\\u05e4\\u05d8, \\u05d5\\u05e8\\u05d5\\u05d0\\u05d9\\u05dd \\u05d0\\u05d5\\u05ea\\u05d4 \\u05db\\u05d0\\u05d9\\u05dc\\u05d5 \\u05d4\\u05d5\\u05d2\\u05e9 \\u05e2\\u05e8\\u05e2\\u05d5\\u05e8 \\u05e2\\u05dc-\\u05e4\\u05d9 \\u05d4\\u05d1\\u05e7\\u05e9\\u05d4 \\u05e9\\u05e0\\u05ea\\u05e7\\u05d1\\u05dc\\u05d4. \\u05d1\\u05d4\\u05de\\u05dc\\u05e6\\u05ea\\u05e0\\u05d5, \\u05d4\\u05e1\\u05db\\u05d9\\u05de\\u05d4 \\u05d1\\u05d0\\u05ea-\\u05db\\u05d5\\u05d7 \\u05d4\\u05de\\u05e9\\u05d9\\u05d1,\\u05e2\\u05d5\\u05e8\\u05db\\u05ea-\\u05d4\\u05d3\\u05d9\\u05df \\u05d3\\u05d2\\u05e0\\u05d9\\u05ea \\u05e7\\u05d5\\u05e8\\u05df \\u05dc\\u05e7\\u05d1\\u05dc\\u05ea \\u05d4\\u05e2\\u05e8\\u05e2\\u05d5\\u05e8, \\u05d1\\u05e2\\u05e0\\u05d9\\u05d9\\u05df \\u05d6\\u05d4. \\u05d0\\u05e0\\u05d5 \\u05de\\u05e7\\u05d1\\u05dc\\u05d9\\u05dd \\u05d0\\u05d9\\u05e4\\u05d5\\u05d0 \\u05d0\\u05ea \\u05d4\\u05e2\\u05e8\\u05e2\\u05d5\\u05e8, \\u05d1\\u05e2\\u05e0\\u05d9\\u05d9\\u05df \\u05d6\\u05d4,\\u05d5\\u05de\\u05d1\\u05d8\\u05dc\\u05d9\\u05dd \\u05d0\\u05ea \\u05d7\\u05d9\\u05d5\\u05d1\\u05d5 \\u05e9\\u05dc \\u05d4\\u05de\\u05d1\\u05e7\\u05e9 \\u05d1\\u05ea\\u05e9\\u05dc\\u05d5\\u05dd \\u05d4\\u05d5\\u05e6\\u05d0\\u05d5\\u05ea \\u05de\\u05e9\\u05e4\\u05d8 \\u05dc\\u05de\\u05e9\\u05d9\\u05d1. \\u05e0\\u05d9\\u05ea\\u05df \\u05d4\\u05d9\\u05d5\\u05dd, \\u05d6\\\\' \\u05d1\\u05d0\\u05dc\\u05d5\\u05dc \\u05ea\\u05e9\\u05e1\\\"\\u05d2(4.9.03). \\u05e9 \\u05d5 \\u05e4 \\u05d8 \\u05ea \\u05e9 \\u05d5 \\u05e4 \\u05d8 \\u05e9 \\u05d5 \\u05e4 \\u05d8 \\u05ea _________________________\\u05d4\\u05e2\\u05d5\\u05ea\\u05e7 \\u05db\\u05e4\\u05d5\\u05e3 \\u05dc\\u05e9\\u05d9\\u05e0\\u05d5\\u05d9\\u05d9 \\u05e2\\u05e8\\u05d9\\u05db\\u05d4 \\u05d5\\u05e0\\u05d9\\u05e1\\u05d5\"\n        ],\n        \"semantic_type\": \"\",\n        \"description\": \"\"\n      }\n    },\n    {\n      \"column\": \"binary_outcome_for_second_classifier\",\n      \"properties\": {\n        \"dtype\": \"number\",\n        \"std\": 0,\n        \"min\": 0,\n        \"max\": 1,\n        \"num_unique_values\": 2,\n        \"samples\": [\n          1,\n          0\n        ],\n        \"semantic_type\": \"\",\n        \"description\": \"\"\n      }\n    }\n  ]\n}"
            }
          },
          "metadata": {},
          "execution_count": 94
        }
      ]
    },
    {
      "cell_type": "code",
      "source": [
        "y = balanced_data[\"binary_outcome_for_second_classifier\"].values\n",
        "embeddings = np.array([get_embeddings(text) for text in balanced_data[\"גוף המסמך חתוך מסווג שני\"]])"
      ],
      "metadata": {
        "id": "Va2i7GW2RpFx"
      },
      "id": "Va2i7GW2RpFx",
      "execution_count": null,
      "outputs": []
    },
    {
      "cell_type": "code",
      "source": [
        "X = embeddings\n",
        "# טוען את המודל\n",
        "classifier = joblib.load(\"second_classifier_model.pkl\")\n",
        "\n",
        "print(\"המודל נטען בהצלחה.\")\n",
        "\n",
        "# התאמת המודל לנתונים המאוזנים\n",
        "classifier.fit(X, y)\n",
        "\n",
        "# הגדרת מדדים לקרוס ולידציה\n",
        "scoring = {\n",
        "    'accuracy': make_scorer(accuracy_score),\n",
        "    'precision': make_scorer(precision_score, pos_label=1),\n",
        "    'recall': make_scorer(recall_score, pos_label=1),\n",
        "    'f1': make_scorer(f1_score, pos_label=1)\n",
        "}\n",
        "\n",
        "# ביצוע Cross Validation\n",
        "cv_results = cross_validate(classifier, X, y, cv=5, scoring=scoring)\n",
        "\n",
        "# חיזוי תוויות על כל קפל לצורך קונפיושן מטריקס\n",
        "y_pred = cross_val_predict(classifier, X, y, cv=5)\n",
        "conf_matrix = confusion_matrix(y, y_pred)\n",
        "\n",
        "# הדפסת התוצאות\n",
        "print(\"Cross-Validation Accuracy:\", cv_results['test_accuracy'])\n",
        "print(\"Mean Accuracy:\", cv_results['test_accuracy'].mean())\n",
        "print(\"Cross-Validation Precision for Class 1:\", cv_results['test_precision'])\n",
        "print(\"Mean Precision for Class 1:\", cv_results['test_precision'].mean())\n",
        "print(\"Cross-Validation Recall for Class 1:\", cv_results['test_recall'])\n",
        "print(\"Mean Recall for Class 1:\", cv_results['test_recall'].mean())\n",
        "print(\"Cross-Validation F1 Score for Class 1:\", cv_results['test_f1'])\n",
        "print(\"Mean F1 Score for Class 1:\", cv_results['test_f1'].mean())\n",
        "\n",
        "tn, fp, fn, tp = conf_matrix.ravel()\n",
        "\n",
        "# הדפסת הקונפיושן מטריקס עם תוויות\n",
        "print(\"Confusion Matrix with Labels:\")\n",
        "print(f\"True Negatives (TN): {tn}\")\n",
        "print(f\"False Positives (FP): {fp}\")\n",
        "print(f\"False Negatives (FN): {fn}\")\n",
        "print(f\"True Positives (TP): {tp}\")\n",
        "\n",
        "print(\"\\nConfusion Matrix:\")\n",
        "print(f\"[[{tn} {fp}]\")\n",
        "print(f\" [{fn} {tp}]]\")\n",
        "\n",
        "\n",
        "# --- שמירת משאבים ---\n",
        "# joblib.dump(classifier, '2_second_classifier_model_double_trained.pkl')\n",
        "\n",
        "print(\"המודל והמשאבים נשמרו בהצלחה.\")\n"
      ],
      "metadata": {
        "colab": {
          "base_uri": "https://localhost:8080/"
        },
        "id": "ze-Kcqu2Sn6P",
        "outputId": "604bc527-8691-44a3-d179-e6f49b52505e"
      },
      "id": "ze-Kcqu2Sn6P",
      "execution_count": null,
      "outputs": [
        {
          "output_type": "stream",
          "name": "stdout",
          "text": [
            "המודל נטען בהצלחה.\n",
            "Cross-Validation Accuracy: [0.77777778 0.77777778 0.77777778 0.77777778 0.88888889]\n",
            "Mean Accuracy: 0.8\n",
            "Cross-Validation Precision for Class 1: [0.77777778 0.77777778 0.77777778 0.77777778 1.        ]\n",
            "Mean Precision for Class 1: 0.8222222222222222\n",
            "Cross-Validation Recall for Class 1: [1.    1.    1.    1.    0.875]\n",
            "Mean Recall for Class 1: 0.975\n",
            "Cross-Validation F1 Score for Class 1: [0.875      0.875      0.875      0.875      0.93333333]\n",
            "Mean F1 Score for Class 1: 0.8866666666666667\n",
            "Confusion Matrix with Labels:\n",
            "True Negatives (TN): 1\n",
            "False Positives (FP): 8\n",
            "False Negatives (FN): 1\n",
            "True Positives (TP): 35\n",
            "\n",
            "Confusion Matrix:\n",
            "[[1 8]\n",
            " [1 35]]\n",
            "המודל והמשאבים נשמרו בהצלחה.\n"
          ]
        }
      ]
    },
    {
      "cell_type": "code",
      "source": [
        "from sklearn.metrics import accuracy_score, precision_score, recall_score, f1_score, confusion_matrix\n",
        "\n",
        "# חיזוי הסתברויות על הסט המאוזן\n",
        "y_probs = classifier.predict_proba(X)[:, 1]\n",
        "\n",
        "# שינוי הסף\n",
        "new_threshold = 0.9\n",
        "y_pred_adjusted = (y_probs >= new_threshold).astype(int)\n",
        "\n",
        "# חישוב מטריקות\n",
        "accuracy = accuracy_score(y, y_pred_adjusted)\n",
        "precision = precision_score(y, y_pred_adjusted)\n",
        "recall = recall_score(y, y_pred_adjusted)\n",
        "f1 = f1_score(y, y_pred_adjusted)\n",
        "conf_matrix = confusion_matrix(y, y_pred_adjusted)\n",
        "\n",
        "# הדפסת תוצאות\n",
        "print(f\"Accuracy: {accuracy:.2f}\")\n",
        "print(f\"Precision: {precision:.2f}\")\n",
        "print(f\"Recall: {recall:.2f}\")\n",
        "print(f\"F1 Score: {f1:.2f}\")\n",
        "\n",
        "tn, fp, fn, tp = conf_matrix.ravel()\n",
        "print(\"\\nConfusion Matrix:\")\n",
        "print(f\"[[{tn} {fp}]\")\n",
        "print(f\" [{fn} {tp}]]\")\n"
      ],
      "metadata": {
        "colab": {
          "base_uri": "https://localhost:8080/"
        },
        "id": "To_FFyMvXpjN",
        "outputId": "af00f36c-beac-45c0-b89d-148a1827bfc3"
      },
      "id": "To_FFyMvXpjN",
      "execution_count": null,
      "outputs": [
        {
          "output_type": "stream",
          "name": "stdout",
          "text": [
            "Accuracy: 1.00\n",
            "Precision: 1.00\n",
            "Recall: 1.00\n",
            "F1 Score: 1.00\n",
            "\n",
            "Confusion Matrix:\n",
            "[[9 0]\n",
            " [0 36]]\n"
          ]
        }
      ]
    },
    {
      "cell_type": "markdown",
      "source": [
        "Conclusion:\n",
        "We will be using the \"3_first_classifier_model_Triple_trained\"\n",
        "and the originak \"second_classifier_model\"\n",
        "\n",
        "\n",
        "first classifier treshold for predction: 0.67\n",
        "second classifier treshold for prediction: 0.9\n"
      ],
      "metadata": {
        "id": "Bu_XDzqfY2VM"
      },
      "id": "Bu_XDzqfY2VM"
    }
  ],
  "metadata": {
    "colab": {
      "gpuType": "T4",
      "provenance": [],
      "include_colab_link": true
    },
    "kernelspec": {
      "display_name": "Python 3",
      "name": "python3"
    },
    "language_info": {
      "codemirror_mode": {
        "name": "ipython",
        "version": 3
      },
      "file_extension": ".py",
      "mimetype": "text/x-python",
      "name": "python",
      "nbconvert_exporter": "python",
      "pygments_lexer": "ipython3",
      "version": "3.11.7"
    },
    "accelerator": "GPU"
  },
  "nbformat": 4,
  "nbformat_minor": 5
}