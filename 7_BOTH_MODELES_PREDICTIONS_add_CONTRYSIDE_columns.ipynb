{
  "nbformat": 4,
  "nbformat_minor": 0,
  "metadata": {
    "colab": {
      "private_outputs": true,
      "provenance": [],
      "machine_shape": "hm",
      "gpuType": "T4",
      "name": "7_BOTH_MODELES_PREDICTIONS_add_CONTRYSIDE_columns.ipynb",
      "authorship_tag": "ABX9TyP27xcpHFEcDFVxf4lA6cu8",
      "include_colab_link": true
    },
    "kernelspec": {
      "name": "python3",
      "display_name": "Python 3"
    },
    "language_info": {
      "name": "python"
    },
    "accelerator": "GPU"
  },
  "cells": [
    {
      "cell_type": "markdown",
      "metadata": {
        "id": "view-in-github",
        "colab_type": "text"
      },
      "source": [
        "<a href=\"https://colab.research.google.com/github/noambassat/SupremeCourtClassifier/blob/main/7_BOTH_MODELES_PREDICTIONS_add_CONTRYSIDE_columns.ipynb\" target=\"_parent\"><img src=\"https://colab.research.google.com/assets/colab-badge.svg\" alt=\"Open In Colab\"/></a>"
      ]
    },
    {
      "cell_type": "code",
      "execution_count": null,
      "metadata": {
        "id": "BJg6S23X0nBC"
      },
      "outputs": [],
      "source": [
        "import re\n",
        "import pandas as pd\n",
        "import matplotlib.pyplot as plt\n",
        "from pandas.api.types import CategoricalDtype\n",
        "import ast\n",
        "import joblib\n",
        "from transformers import AutoTokenizer, AutoModel\n",
        "import numpy as np\n",
        "from google.colab import drive\n",
        "import textwrap"
      ]
    },
    {
      "cell_type": "code",
      "source": [
        "drive.mount('/content/drive')"
      ],
      "metadata": {
        "id": "0fqs8MgnTTCa"
      },
      "execution_count": null,
      "outputs": []
    },
    {
      "cell_type": "code",
      "source": [
        "file_path = \"/content/drive/MyDrive/\"\n",
        "data_name = \"full_ra_rap.xlsx\"\n"
      ],
      "metadata": {
        "id": "6JjOTmEATfoh"
      },
      "execution_count": null,
      "outputs": []
    },
    {
      "cell_type": "code",
      "source": [
        "full_ra_rap = pd.read_excel(file_path+data_name)\n"
      ],
      "metadata": {
        "id": "8UCe9a_Dnmy6"
      },
      "execution_count": null,
      "outputs": []
    },
    {
      "cell_type": "markdown",
      "source": [
        "סינון - רק תיקי רע\"פ"
      ],
      "metadata": {
        "id": "XfQnmuxFN6bh"
      }
    },
    {
      "cell_type": "code",
      "source": [
        "full_rap = full_ra_rap[full_ra_rap[\"סוג הליך\"]=='רע\"פ']\n",
        "# בדיקה גם בעמודת \"גוף המסמך\" קיימת המילה \"רע\"פ\"\n",
        "full_rap = full_rap[full_rap[\"גוף המסמך\"].str.contains('רע\"פ', na=False)]"
      ],
      "metadata": {
        "id": "0TkZXZzfzgc5"
      },
      "execution_count": null,
      "outputs": []
    },
    {
      "cell_type": "code",
      "source": [
        "full_rap.shape"
      ],
      "metadata": {
        "id": "HKyKyb6v1o4r"
      },
      "execution_count": null,
      "outputs": []
    },
    {
      "cell_type": "code",
      "source": [
        "full_rap[[\"גוף המסמך\"]].dropna(how='any', ignore_index=True,inplace=True)\n",
        "full_rap[[\"מספר הליך\",\"שם הליך\"]].dropna(how='all', ignore_index=True,inplace=True)\n",
        "full_rap[[\"מספר הליך\",\"שם הליך\"]].drop_duplicates(inplace=True, ignore_index=True)"
      ],
      "metadata": {
        "id": "yyhCbzCE18jj"
      },
      "execution_count": null,
      "outputs": []
    },
    {
      "cell_type": "code",
      "source": [
        "full_rap.shape"
      ],
      "metadata": {
        "id": "ZPNYy9P9iA_t"
      },
      "execution_count": null,
      "outputs": []
    },
    {
      "cell_type": "code",
      "source": [
        "# פונקציה להמרת טקסט שמופיע כרשימה למחרוזת רגילה\n",
        "def convert_list_to_string(text):\n",
        "    if isinstance(text, str) and text.startswith(\"[\") and text.endswith(\"]\"):\n",
        "        try:\n",
        "            text_list = ast.literal_eval(text)\n",
        "            return ' '.join(text_list)\n",
        "        except (ValueError, SyntaxError):\n",
        "            return text\n",
        "    return text\n",
        "\n",
        "# פונקציה לניקוי התווים המיותרים\n",
        "def clean_text(text):\n",
        "    if isinstance(text, list):\n",
        "        text = ' '.join(text)\n",
        "    elif isinstance(text, str):\n",
        "        # הסרת תווי רווח מיותרים ותווים מיוחדים\n",
        "        text = re.sub(r'\\n+', ' ', text)  # הסרת שורות חדשות מרובות\n",
        "        text = re.sub(r'\\\\n', '', text)   # הסרת תווי newline \\n מהטקסט\n",
        "        text = re.sub(r'\\\\xa0', ' ', text)  # הסרת תווי \\xa0 מהטקסט\n",
        "        text = re.sub(r'\\s+', ' ', text)  # הסרת רווחים מרובים\n",
        "        return text.strip()\n",
        "    return text\n",
        "\n",
        "# הדפסת שורות לא קריאות לפני המרה\n",
        "print(\"שורות לא קריאות לפני המרה:\")\n",
        "print(full_rap[\"גוף המסמך\"].head())\n",
        "\n",
        "# המרה של הטקסטים הלא קריאים לטקסטים קריאים ושמירה על הדאטה המקורי\n",
        "full_rap[\"גוף המסמך\"] = full_rap[\"גוף המסמך\"].apply(clean_text)\n",
        "\n",
        "print(\"\\nשורות לאחר המרה:\")\n",
        "print(full_rap[\"גוף המסמך\"].head())\n",
        "\n",
        "file_path_full = 'full_rap_df_cleaned.csv' # FULL RAP DATA CLEANED\n",
        "full_rap.to_csv(file_path_full, index=False, encoding='utf-8')\n",
        "\n"
      ],
      "metadata": {
        "id": "P4-tNosi2Eoc"
      },
      "execution_count": null,
      "outputs": []
    },
    {
      "cell_type": "code",
      "source": [
        "# בדיקה אם הערכים השתנו\n",
        "changed_rows = full_rap[\"גוף המסמך\"] != full_rap[\"גוף המסמך\"].apply(clean_text)\n",
        "print(f\"מספר שורות ששונו: {changed_rows.sum()}\")\n",
        "print(\"שורות ששונו:\")\n",
        "print(full_rap.loc[changed_rows, \"גוף המסמך\"].head())\n"
      ],
      "metadata": {
        "id": "zGZpVinogEnG"
      },
      "execution_count": null,
      "outputs": []
    },
    {
      "cell_type": "code",
      "source": [
        "full_rap[[\"מספר הליך\",\"גוף המסמך\"]]"
      ],
      "metadata": {
        "id": "PPlpIGQQ2bEy"
      },
      "execution_count": null,
      "outputs": []
    },
    {
      "cell_type": "code",
      "source": [
        "def format_text(text, line_length=80):\n",
        "    return \"\\n\".join(textwrap.wrap(text, width=line_length))"
      ],
      "metadata": {
        "id": "rfU7YyxL0qDg"
      },
      "execution_count": null,
      "outputs": []
    },
    {
      "cell_type": "code",
      "source": [
        "# ביטויים לבדיקה\n",
        "keywords = [\"העותק כפוף לשינויי עריכה וניסוח\", \"העתק מתאים\", 'ניתנההיום', 'ניתןהיום', 'ניתן היום', 'ניתנה היום',\n",
        "            \"העתקמתאים\", \"מזכיר ראשי\", \"supreme.court.gov.il\", \"מרכז מידע\", \"מרכזמידע\"]\n",
        "\n",
        "# בדיקה אילו שורות מכילות אחד מהביטויים\n",
        "rows_with_keyword = full_rap[\"גוף המסמך\"].apply(\n",
        "    lambda x: any(keyword in x for keyword in keywords) if isinstance(x, str) else False\n",
        ")\n",
        "\n",
        "# סינון שורות שלא מכילות את הביטוי\n",
        "filtered_data = full_rap[rows_with_keyword]\n",
        "\n",
        "# הדפסת מספר השורות שנמחקו\n",
        "num_removed = len(full_rap) - len(filtered_data)\n",
        "print(f\"\\nמספר השורות שנמחקו: {num_removed}\")\n",
        "\n",
        "missing_values_count = filtered_data[\"גוף המסמך\"].isna().sum()\n",
        "if missing_values_count > 0:\n",
        "    print(f\"\\nנותרו {missing_values_count} ערכים חסרים בעמודת 'גוף המסמך' לאחר סינון.\")\n",
        "else:\n",
        "    print(\"\\nאין ערכים חסרים בעמודת 'גוף המסמך' לאחר סינון.\")\n",
        "\n",
        "\n",
        "full_rap = filtered_data.copy()"
      ],
      "metadata": {
        "id": "hHv428bA0qF8"
      },
      "execution_count": null,
      "outputs": []
    },
    {
      "cell_type": "code",
      "source": [
        "full_rap"
      ],
      "metadata": {
        "id": "JhwsRNES0qIQ"
      },
      "execution_count": null,
      "outputs": []
    },
    {
      "cell_type": "markdown",
      "source": [
        "# Create checked data - to remove from predictions"
      ],
      "metadata": {
        "id": "LsxlzvTd0-Rp"
      }
    },
    {
      "cell_type": "code",
      "source": [
        "file_path"
      ],
      "metadata": {
        "id": "wdVs_JF3GJQ6"
      },
      "execution_count": null,
      "outputs": []
    },
    {
      "cell_type": "code",
      "source": [
        "dca = pd.read_csv(file_path+\"dca_for_classifier.csv\")\n",
        "# ignore_data = pd.read_csv(file_path+\"allready_checked_data_with_dca.csv\")\n",
        "allready_checked_data_path = file_path+\"בית המשפט - קבצים שנבדקו/\""
      ],
      "metadata": {
        "id": "K-KGNMdNestT"
      },
      "execution_count": null,
      "outputs": []
    },
    {
      "cell_type": "code",
      "source": [
        "ignore_df_1 = pd.read_excel(allready_checked_data_path+\"full_data_BOTH_models_with_predictions.xlsx\")\n",
        "ignore_df_1.dropna(subset=['בקשה לרשות ערעור התקבלה?'],inplace=True)\n",
        "ignore_df_2 = pd.read_excel(allready_checked_data_path+\"2_full_data_with_predictions V2.xlsx\")\n",
        "ignore_df_2.dropna(subset=['בקשה לרשות ערעור התקבלה?'],inplace=True)\n",
        "ignore_df_3 = pd.read_excel(allready_checked_data_path+\"full_data_with_predictions-VETTING.xlsx\")\n",
        "ignore_df_3.dropna(subset=['בקשה לרשות ערעור התקבלה?'],inplace=True)\n",
        "ignore_df = pd.concat([ignore_df_1,ignore_df_2,ignore_df_3,dca])\n",
        "ignore_df.dropna(subset=['בקשה לרשות ערעור התקבלה?'],inplace=True)\n",
        "ignore_df.drop_duplicates(subset=['מספר הליך'],keep='first',inplace=True)\n"
      ],
      "metadata": {
        "id": "Li78RR0CcKeO"
      },
      "execution_count": null,
      "outputs": []
    },
    {
      "cell_type": "code",
      "source": [
        "ignore_df.shape"
      ],
      "metadata": {
        "id": "yMx-PtivyOHU"
      },
      "execution_count": null,
      "outputs": []
    },
    {
      "cell_type": "code",
      "source": [
        "full_rap.shape"
      ],
      "metadata": {
        "id": "7tzsZLwOHLnD"
      },
      "execution_count": null,
      "outputs": []
    },
    {
      "cell_type": "markdown",
      "source": [
        "Delete 'already trained on data' from DF"
      ],
      "metadata": {
        "id": "Dh_QbdeKHeyy"
      }
    },
    {
      "cell_type": "code",
      "source": [
        "full_rap = full_rap[~full_rap[\"מספר הליך\"].isin(ignore_df[\"מספר הליך\"])]"
      ],
      "metadata": {
        "id": "WaBR91OJ0zH_"
      },
      "execution_count": null,
      "outputs": []
    },
    {
      "cell_type": "code",
      "source": [
        "full_rap.shape"
      ],
      "metadata": {
        "id": "qb_nxpPW1acn"
      },
      "execution_count": null,
      "outputs": []
    },
    {
      "cell_type": "code",
      "source": [
        "full_rap"
      ],
      "metadata": {
        "id": "RdKJgiXU1l9L"
      },
      "execution_count": null,
      "outputs": []
    },
    {
      "cell_type": "markdown",
      "source": [
        "# Cut doc's body for classifiers"
      ],
      "metadata": {
        "id": "zhwbEDCy2cVZ"
      }
    },
    {
      "cell_type": "code",
      "source": [
        "\n",
        "# פונקציה לחיתוך הטקסט בהתאם לכללים\n",
        "def trim_text(text,min_length=500,last_sen=30):\n",
        "\n",
        "\n",
        "    # שמירת אורך מקורי לאבחון\n",
        "    original_length = len(text)\n",
        "\n",
        "    # הסרת מספר תווים מסוף הטקסט\n",
        "    text = text[:-last_sen]\n",
        "\n",
        "    # חיתוך ל-min_length האחרונים אם הטקסט ארוך יותר מהמינימום\n",
        "    if len(text) > min_length:\n",
        "        text = text[-min_length:]\n",
        "\n",
        "    # הדפסת פידבק רק אם הטקסט עבר שינוי\n",
        "    # if len(text) != original_length:\n",
        "    #     print(f\"Trimmed Text (Original Length: {original_length}, Trimmed Length: {len(text)}):\")\n",
        "    #     formatted_text = \"\\n\".join([text[i:i+80] for i in range(0, len(text), 80)])\n",
        "    #     print(formatted_text)\n",
        "    #     print(\"##*******************************************************####\")\n",
        "    return text\n"
      ],
      "metadata": {
        "id": "L6mTLybi1mCj"
      },
      "execution_count": null,
      "outputs": []
    },
    {
      "cell_type": "code",
      "source": [
        "# חיתוך הטקסטים בעמודת \"גוף המסמך\"\n",
        "full_rap[\"גוף המסמך חתוך לתיקים אחרים\"] = full_rap[\"גוף המסמך\"].apply(lambda x: trim_text(x, 400, 30))\n",
        "full_rap[\"גוף המסמך חתוך\"] = full_rap[\"גוף המסמך\"].apply(trim_text)\n",
        "full_rap[\"גוף המסמך חתוך למסווג השני\"] = full_rap[\"גוף המסמך\"].apply(lambda x: trim_text(x, 550, 80))\n",
        "# שמירת האינדקס המקורי\n",
        "full_rap.reset_index(inplace=True, drop=False)\n"
      ],
      "metadata": {
        "id": "P_u9U5Ux3pjx"
      },
      "execution_count": null,
      "outputs": []
    },
    {
      "cell_type": "code",
      "source": [
        "full_rap.to_excel(file_path+\"full_rap_df_cleaned_no_checked_data_inside.xlsx\", index=False)"
      ],
      "metadata": {
        "id": "ZbNSl9lk1mFP"
      },
      "execution_count": null,
      "outputs": []
    },
    {
      "cell_type": "markdown",
      "source": [
        "# Embeddings"
      ],
      "metadata": {
        "id": "buI0ArrY4kCi"
      }
    },
    {
      "cell_type": "code",
      "source": [
        "tokenizer = AutoTokenizer.from_pretrained(\"dean-ai/sentence_transformer_Legal-heBERT\")\n",
        "model = AutoModel.from_pretrained(\"dean-ai/sentence_transformer_Legal-heBERT\")"
      ],
      "metadata": {
        "id": "6ZgQIkyD4mG4"
      },
      "execution_count": null,
      "outputs": []
    },
    {
      "cell_type": "code",
      "source": [
        "def get_embeddings(text):\n",
        "    inputs = tokenizer(text, return_tensors=\"pt\", padding=True, truncation=True, max_length=512)\n",
        "    outputs = model(**inputs)\n",
        "    embeddings = outputs.last_hidden_state.mean(dim=1).detach().numpy()\n",
        "    return embeddings[0]"
      ],
      "metadata": {
        "id": "rsX7IPEH4m_s"
      },
      "execution_count": null,
      "outputs": []
    },
    {
      "cell_type": "code",
      "source": [],
      "metadata": {
        "id": "ycowvy59IhYv"
      },
      "execution_count": null,
      "outputs": []
    },
    {
      "cell_type": "code",
      "source": [
        "def model_prediction(data, name,treshold, classifier, embeddings):\n",
        "\n",
        "  predicted_probabilities = classifier.predict_proba(embeddings)[:, 1]\n",
        "\n",
        "  data[f\"{name}_predicted_probability\"] = predicted_probabilities\n",
        "\n",
        "  data[f\"{name}_original_prediction\"] = classifier.predict(embeddings)\n",
        "\n",
        "  data[f\"{name}_treshold_prediction\"] = (predicted_probabilities > treshold).astype(int)\n",
        "\n",
        "\n",
        "\n",
        "  # PRINTS\n",
        "  class_distribution = data[f\"{name}_original_prediction\"].value_counts()\n",
        "  print(\"\\nכמות Class 0 ו-Class 1 (לפי המודל המקורי):\")\n",
        "  print(class_distribution)\n",
        "\n",
        "  # בדיקת התפלגות נורמלית\n",
        "  normalized_distribution = data[f\"{name}_original_prediction\"].value_counts(normalize=True)\n",
        "  print(\"\\nהתפלגות נורמלית של Class 0 ו-Class 1 (לפי המודל המקורי):\")\n",
        "  print(normalized_distribution)\n",
        "\n",
        "\n",
        "  # בדיקת התפלגות התחזיות עם הסף החדש\n",
        "  adjusted_class_distribution = data[f\"{name}_treshold_prediction\"].value_counts()\n",
        "  print(\"\\nכמות Class 0 ו-Class 1 (לפי הסף המותאם):\")\n",
        "  print(adjusted_class_distribution)\n",
        "\n",
        "  # בדיקת התפלגות נורמלית עם הסף החדש\n",
        "  adjusted_normalized_distribution = data[f\"{name}_treshold_prediction\"].value_counts(normalize=True)\n",
        "  print(\"\\nהתפלגות נורמלית של Class 0 ו-Class 1 (לפי הסף המותאם):\")\n",
        "  print(adjusted_normalized_distribution)\n",
        "\n",
        "  return data"
      ],
      "metadata": {
        "id": "Hzxr2oT-6sFz"
      },
      "execution_count": null,
      "outputs": []
    },
    {
      "cell_type": "code",
      "source": [
        "classifiers_path = \"/content/drive/MyDrive/בית המשפט - מסווגים/\""
      ],
      "metadata": {
        "id": "95sXD34FLo3Y"
      },
      "execution_count": null,
      "outputs": []
    },
    {
      "cell_type": "code",
      "source": [
        "Others_classifier = joblib.load(classifiers_path+\"other_cases_classifier.pkl\")\n",
        "first_classifier = joblib.load(classifiers_path+\"3_first_classifier_model_Triple_trained.pkl\")\n",
        "second_classifier = joblib.load(classifiers_path+\"second_classifier_model.pkl\")"
      ],
      "metadata": {
        "id": "axw98uCLLoty"
      },
      "execution_count": null,
      "outputs": []
    },
    {
      "cell_type": "markdown",
      "source": [
        "# \"Other cases\" classifier"
      ],
      "metadata": {
        "id": "wrtPofVeKwLL"
      }
    },
    {
      "cell_type": "code",
      "source": [
        "full_rap[\"גוף המסמך חתוך לתיקים אחרים - embeddings\"] = full_rap[\"גוף המסמך חתוך לתיקים אחרים\"] .apply(lambda text: get_embeddings(text))"
      ],
      "metadata": {
        "id": "SgDr3lff4q7Q"
      },
      "execution_count": null,
      "outputs": []
    },
    {
      "cell_type": "code",
      "source": [
        "full_rap = model_prediction(full_rap,\"Others_classifier\",0.56, Others_classifier, np.array(full_rap[\"גוף המסמך חתוך לתיקים אחרים - embeddings\"].tolist()))"
      ],
      "metadata": {
        "id": "tvwNT3nvLowt"
      },
      "execution_count": null,
      "outputs": []
    },
    {
      "cell_type": "code",
      "source": [
        "full_rap.columns"
      ],
      "metadata": {
        "id": "E-l-ipbEgEpa"
      },
      "execution_count": null,
      "outputs": []
    },
    {
      "cell_type": "markdown",
      "source": [],
      "metadata": {
        "id": "2YWzxWcNg4vT"
      }
    },
    {
      "cell_type": "code",
      "source": [
        "full_rap.shape"
      ],
      "metadata": {
        "id": "M95snpnD6DeQ"
      },
      "execution_count": null,
      "outputs": []
    },
    {
      "cell_type": "markdown",
      "source": [
        "# First classifier predictions"
      ],
      "metadata": {
        "id": "qP7mmNr86De_"
      }
    },
    {
      "cell_type": "code",
      "source": [
        "data_1 = full_rap[full_rap[\"Others_classifier_treshold_prediction\"]==0].copy() #  רק מה שלא סווג כאחר ממשיך"
      ],
      "metadata": {
        "id": "XKZP2eQVLo0Z"
      },
      "execution_count": null,
      "outputs": []
    },
    {
      "cell_type": "code",
      "source": [
        "data_1.shape"
      ],
      "metadata": {
        "id": "jqfVpMow6Fl7"
      },
      "execution_count": null,
      "outputs": []
    },
    {
      "cell_type": "code",
      "source": [
        "data_1[\"גוף המסמך חתוך - embeddings\"] = data_1[\"גוף המסמך חתוך\"].apply(lambda text: get_embeddings(text))\n",
        "print(\"אימבדינגים חושבו בהצלחה!\")\n"
      ],
      "metadata": {
        "id": "sp4VtclWTn_P"
      },
      "execution_count": null,
      "outputs": []
    },
    {
      "cell_type": "code",
      "source": [
        "model_prediction(data_1,\"first_classifier\",0.67, first_classifier, np.array(data_1[\"גוף המסמך חתוך - embeddings\"].tolist()))"
      ],
      "metadata": {
        "id": "YsFnsRvC6KXF"
      },
      "execution_count": null,
      "outputs": []
    },
    {
      "cell_type": "code",
      "source": [],
      "metadata": {
        "id": "-1l5Uz1H5vOU"
      },
      "execution_count": null,
      "outputs": []
    },
    {
      "cell_type": "markdown",
      "source": [
        "# Second classifier predictions"
      ],
      "metadata": {
        "id": "bYQBP2kd6HAu"
      }
    },
    {
      "cell_type": "code",
      "source": [
        "data = data_1[data_1[\"first_classifier_treshold_prediction\"]==1].copy()"
      ],
      "metadata": {
        "id": "Z1GO6oALV9zJ"
      },
      "execution_count": null,
      "outputs": []
    },
    {
      "cell_type": "code",
      "source": [
        "data.shape"
      ],
      "metadata": {
        "id": "YIIzsxzA5-oA"
      },
      "execution_count": null,
      "outputs": []
    },
    {
      "cell_type": "code",
      "source": [
        "print(\"מתחילים לחשב אימבדינגים על גוף המסמך החתוך השני...\")\n",
        "data[\"גוף המסמך חתוך למסווג השני - embeddings\"] = data[\"גוף המסמך חתוך למסווג השני\"].apply(lambda text: get_embeddings(text))\n",
        "print(\"אימבדינגים 2 חושבו בהצלחה!\")\n"
      ],
      "metadata": {
        "id": "Gv5ZGvddWW_o"
      },
      "execution_count": null,
      "outputs": []
    },
    {
      "cell_type": "code",
      "source": [
        "model_prediction(data, \"second_classifier\",0.9,second_classifier, np.array(data[\"גוף המסמך חתוך למסווג השני - embeddings\"] .tolist()))"
      ],
      "metadata": {
        "id": "BEFjZQCV9y-c"
      },
      "execution_count": null,
      "outputs": []
    },
    {
      "cell_type": "markdown",
      "source": [
        "# Concat all data"
      ],
      "metadata": {
        "id": "ByFnPQe2hTl8"
      }
    },
    {
      "cell_type": "code",
      "source": [
        "full_rap = pd.concat([full_rap,data_1,data])\n",
        "full_rap.drop_duplicates(subset = [\"מספר הליך\"],keep = 'last', inplace=True)\n"
      ],
      "metadata": {
        "id": "7nUxW-YpWOOV"
      },
      "execution_count": null,
      "outputs": []
    },
    {
      "cell_type": "code",
      "source": [
        "\n",
        "# הגדרת נתיב לשמירה בדרייב\n",
        "file_path = '/content/drive/My Drive/full_rap_df_cleaned_3_classifiers.xlsx'\n",
        "\n",
        "# שמירת הקובץ\n",
        "full_rap.to_excel(file_path, index=False)\n",
        "\n",
        "print(f\"File saved successfully to {file_path}\")\n"
      ],
      "metadata": {
        "id": "RZyM-fIJddno"
      },
      "execution_count": null,
      "outputs": []
    },
    {
      "cell_type": "markdown",
      "source": [
        "# Other Statistics"
      ],
      "metadata": {
        "id": "WStBLL9CVd13"
      }
    },
    {
      "cell_type": "code",
      "source": [],
      "metadata": {
        "id": "uf0aolgxjGrc"
      },
      "execution_count": null,
      "outputs": []
    },
    {
      "cell_type": "code",
      "source": [],
      "metadata": {
        "id": "cz1LRSMShu5H"
      },
      "execution_count": null,
      "outputs": []
    },
    {
      "cell_type": "markdown",
      "source": [
        "# Add Country side"
      ],
      "metadata": {
        "id": "76h1dnYFKr8H"
      }
    },
    {
      "cell_type": "markdown",
      "source": [
        "Sides - כרגע על הולד!"
      ],
      "metadata": {
        "id": "TyucDsXKPgTI"
      }
    },
    {
      "cell_type": "code",
      "source": [
        "\n",
        "# sides_path = \"sides_values with lables.xlsx\"\n",
        "# sides_df = pd.read_excel(file_path+sides_path)\n",
        "# sides_df[\"Public Sides\"].unique()\n",
        "# sides_df[\"Private Sides\"].unique()"
      ],
      "metadata": {
        "id": "TCMCN4WkPepu"
      },
      "execution_count": null,
      "outputs": []
    },
    {
      "cell_type": "code",
      "source": [
        "# for col in full_rap.columns:\n",
        "#   print(col)"
      ],
      "metadata": {
        "id": "Dnpp67hB08tY"
      },
      "execution_count": null,
      "outputs": []
    },
    {
      "cell_type": "code",
      "source": [
        "# sides = full_rap[[\n",
        "# \"צד א'\",\n",
        "# \"צד ב'\"\n",
        "# ]]"
      ],
      "metadata": {
        "id": "2fjkL6dr12hL"
      },
      "execution_count": null,
      "outputs": []
    },
    {
      "cell_type": "code",
      "source": [
        "# values = [val for value in sides.values for val in value]\n",
        "# values"
      ],
      "metadata": {
        "id": "cbgBE4ARKFuK"
      },
      "execution_count": null,
      "outputs": []
    },
    {
      "cell_type": "code",
      "source": [
        "# clean_values = set()\n",
        "# for val in values:\n",
        "#     val_str = str(val)  # המרה למחרוזת\n",
        "#     cleaned_val = re.sub(r\"[\\[\\]'\\\\n]\", \"\", val_str).strip()\n",
        "#     clean_values.add(cleaned_val)"
      ],
      "metadata": {
        "id": "2qZwFusBLqId"
      },
      "execution_count": null,
      "outputs": []
    },
    {
      "cell_type": "code",
      "source": [
        "# clean_values"
      ],
      "metadata": {
        "id": "puE5QLmQMVgk"
      },
      "execution_count": null,
      "outputs": []
    },
    {
      "cell_type": "code",
      "source": [
        "# def check_sub(value,subs):\n",
        "#   for sub in subs:\n",
        "#     if(value.find(sub)!=-1):\n",
        "#       return 1\n",
        "#   return 0"
      ],
      "metadata": {
        "id": "ewhOZUMFMdJG"
      },
      "execution_count": null,
      "outputs": []
    },
    {
      "cell_type": "code",
      "source": [
        "# sides_df = pd.read_excel(\"sides_values.xlsx\")"
      ],
      "metadata": {
        "id": "0wimtLFhKMHe"
      },
      "execution_count": null,
      "outputs": []
    },
    {
      "cell_type": "code",
      "source": [
        "# private_sides = set()\n",
        "# public_sides = set()\n",
        "# for value in clean_values:\n",
        "#   for v in value.split(\",\"):\n",
        "#     if(check_sub(v,[\"רשות מקרקעי ישראל\",\"מדינת \",\"מועצה \",\"שירות ה\",\"היחידה הארצי\",\"לאכיפת \",\"הרשות ל\",\"המשרד ל\",'יועמ\"ש',\"המשפטי לממשלה\",\"מנהל מקרקעי\",\"פרקליטות\",\"שירות בתי הסוהר\",'שב\"ס',\"מינהל מקרקעי\",\"עירית \",\"רשויות\",\"איגוד ערים\",\"עיריית \",\"מדינת ישראל\",\"משרד ה\",\"רשות ה\",\"אלוף \",'יו\"ר',\"יושב ראש\",\"מדינת ישראל\",\"ראש עיריית\",\"ועדה\",\"צבא\",\"מפקד\",\"פיקוד\",\"משטרת\"])==0):\n",
        "#       private_sides.add(v)\n",
        "#     else:\n",
        "#       public_sides.add(v)"
      ],
      "metadata": {
        "id": "yKgex7WoMzO7"
      },
      "execution_count": null,
      "outputs": []
    },
    {
      "cell_type": "code",
      "source": [],
      "metadata": {
        "id": "3m2veXcKUV1s"
      },
      "execution_count": null,
      "outputs": []
    },
    {
      "cell_type": "code",
      "source": [
        "# sides_values = {\n",
        "#     'Private Sides': list(private_sides),\n",
        "#     'Public Sides': list(public_sides)\n",
        "# }"
      ],
      "metadata": {
        "id": "lXhBMHGfOYPP"
      },
      "execution_count": null,
      "outputs": []
    },
    {
      "cell_type": "code",
      "source": [
        "# # Find the maximum length of the lists\n",
        "# max_length = max(len(v) for v in sides_values.values())\n",
        "\n",
        "# # Pad shorter lists with None\n",
        "# for key in sides_values:\n",
        "#     sides_values[key] += [None] * (max_length - len(sides_values[key]))\n",
        "\n",
        "# # Convert to DataFrame\n",
        "# df = pd.DataFrame(sides_values)\n",
        "\n",
        "# # Save to Excel\n",
        "# df.to_excel(\"sides_values.xlsx\", index=False)"
      ],
      "metadata": {
        "id": "Pvk-Y6OUQnNh"
      },
      "execution_count": null,
      "outputs": []
    },
    {
      "cell_type": "code",
      "source": [
        "# for side in private_sides:\n",
        "#   print(side)"
      ],
      "metadata": {
        "id": "HXhVK_imM-lF"
      },
      "execution_count": null,
      "outputs": []
    },
    {
      "cell_type": "code",
      "source": [
        "# for side in public_sides:\n",
        "#   print(side)"
      ],
      "metadata": {
        "id": "8mhcru_onwJf"
      },
      "execution_count": null,
      "outputs": []
    },
    {
      "cell_type": "code",
      "source": [
        "# sides_A = full_rap[[\n",
        "# \"צד א'\"\n",
        "# ]]\n",
        "\n",
        "# values_A = [val for value in sides_A.values for val in value]\n",
        "# values_A"
      ],
      "metadata": {
        "id": "LSBXxD4RbMxc"
      },
      "execution_count": null,
      "outputs": []
    },
    {
      "cell_type": "code",
      "source": [],
      "metadata": {
        "id": "08XJzGEjpEsb"
      },
      "execution_count": null,
      "outputs": []
    },
    {
      "cell_type": "code",
      "source": [
        "# def check_contry_side(value):\n",
        "#     # רשימת מילות מפתח\n",
        "#     subs = [\n",
        "#         \"רשות מקרקעי ישראל\", \"מדינת \", \"מועצה \", \"שירות ה\", \"היחידה הארצי\", \"לאכיפת \", \"הרשות ל\",\"חוף \",\n",
        "#         \"המשרד ל\", 'יועמ\"ש', \"המשפטי לממשלה\", \"מנהל מקרקעי\", \"פרקליטות\", \"שירות בתי הסוהר\", 'שב\"ס','מע\"מ',\"מכס \",'קמ\"ט',\"ועדת תכנון\",\"מרכז השלטון\",\"משטרה\",\"הסנגוריה הציבורית\",\n",
        "#         \"מינהל מקרקעי\", \"עירית \", \"רשויות\", \"איגוד ערים\", \"עיריית \", \"מדינת ישראל\", \"משרד ה\", \"מקרקעי ישראל\",\n",
        "#         \"שר ה\",\"שרת ה\",\"מועצת \",'רנ\"ג',\"סרן\",\"מחוז \",\"מ דינת ישראל\",\"שרות בתי הסוהר\",'סג\"ם',\"(במיל)\",\"(מיל)\",\"עריית \",\"המחלקה לחקירת שוטרים\",\"יושבי ראש\",\"רשות ה\", \"אלוף \", 'יו\"ר', \"יושב ראש\", \"ראש עיריית\", \"ועדה\", \"צבא\", \"מפקד\", \"פיקוד\", \"משטרת\",\"משטרה\"\n",
        "#     ]\n",
        "\n",
        "#     # ניקוי רווחים והפיכת המחרוזת לאותיות קטנות\n",
        "#     try:\n",
        "#       value = value.strip()\n",
        "\n",
        "#     except AttributeError:\n",
        "#       return 0\n",
        "\n",
        "#     # בדיקה אם אחת המחרוזות קיימת ב-value\n",
        "#     if any(sub in value for sub in subs):\n",
        "#         return 1\n",
        "\n",
        "#     return 0"
      ],
      "metadata": {
        "id": "TX02-aQbpF_v"
      },
      "execution_count": null,
      "outputs": []
    },
    {
      "cell_type": "code",
      "source": [
        "# check_none = full_rap[full_rap[\"צד א'\"].isna()]\n",
        "# check_none.loc[:,\"צד ב'\"]"
      ],
      "metadata": {
        "id": "2JQLsnYssaaR"
      },
      "execution_count": null,
      "outputs": []
    },
    {
      "cell_type": "code",
      "source": [
        "# full_rap[full_rap[\"צד א'\"].isna() & full_rap[\"צד ב'\"].isna()].shape[0]"
      ],
      "metadata": {
        "id": "r3AB0kzLr3wi"
      },
      "execution_count": null,
      "outputs": []
    },
    {
      "cell_type": "code",
      "source": [
        "# full_rap.dropna(subset=[\"צד א'\",\"צד ב'\"],how='all',inplace=True)"
      ],
      "metadata": {
        "id": "FiUfegLur3BX"
      },
      "execution_count": null,
      "outputs": []
    },
    {
      "cell_type": "code",
      "source": [
        "# full_rap[\"מדינת ישראל בצד א'\"] = full_rap[\"צד א'\"].apply(lambda x: check_contry_side(x))"
      ],
      "metadata": {
        "id": "D8Hua7gbbM0B"
      },
      "execution_count": null,
      "outputs": []
    },
    {
      "cell_type": "code",
      "source": [
        "# full_rap[\"מדינת ישראל בצד ב'\"] = full_rap[\"צד ב'\"].apply(lambda x: check_contry_side(x))"
      ],
      "metadata": {
        "id": "R1Xad7N2tbI-"
      },
      "execution_count": null,
      "outputs": []
    },
    {
      "cell_type": "code",
      "source": [
        "# sides_data = full_rap[[\"מספר הליך\",\"מדינת ישראל בצד ב'\"]]"
      ],
      "metadata": {
        "id": "1VYCZeAOeYdJ"
      },
      "execution_count": null,
      "outputs": []
    }
  ]
}