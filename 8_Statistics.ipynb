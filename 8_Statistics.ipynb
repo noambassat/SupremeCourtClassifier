{
  "nbformat": 4,
  "nbformat_minor": 0,
  "metadata": {
    "colab": {
      "provenance": [],
      "gpuType": "L4",
      "authorship_tag": "ABX9TyN5MPFEx0iLDpNRSfo96fkm",
      "include_colab_link": true
    },
    "kernelspec": {
      "name": "python3",
      "display_name": "Python 3"
    },
    "language_info": {
      "name": "python"
    },
    "accelerator": "GPU"
  },
  "cells": [
    {
      "cell_type": "markdown",
      "metadata": {
        "id": "view-in-github",
        "colab_type": "text"
      },
      "source": [
        "<a href=\"https://colab.research.google.com/github/noambassat/SupremeCourtClassifier/blob/main/8_Statistics.ipynb\" target=\"_parent\"><img src=\"https://colab.research.google.com/assets/colab-badge.svg\" alt=\"Open In Colab\"/></a>"
      ]
    },
    {
      "cell_type": "code",
      "execution_count": 93,
      "metadata": {
        "id": "gqOFqMx9KAD7"
      },
      "outputs": [],
      "source": [
        "from google.colab import drive\n",
        "import numpy as np\n",
        "import pandas as pd\n",
        "import matplotlib.pyplot as plt\n",
        "import seaborn as sns\n",
        "import re"
      ]
    },
    {
      "cell_type": "code",
      "source": [
        "drive.mount('/content/drive')"
      ],
      "metadata": {
        "colab": {
          "base_uri": "https://localhost:8080/"
        },
        "id": "6U6pdpbpK8hi",
        "outputId": "fc5a9025-13f8-432e-badb-a7e8bc497d2b"
      },
      "execution_count": 94,
      "outputs": [
        {
          "output_type": "stream",
          "name": "stdout",
          "text": [
            "Drive already mounted at /content/drive; to attempt to forcibly remount, call drive.mount(\"/content/drive\", force_remount=True).\n"
          ]
        }
      ]
    },
    {
      "cell_type": "code",
      "source": [
        "file_path = \"/content/drive/MyDrive/\"\n",
        "data_name  = \"full_rap_df_cleaned_3_classifiers.xlsx\""
      ],
      "metadata": {
        "id": "hd0sniFqK9Ff"
      },
      "execution_count": 95,
      "outputs": []
    },
    {
      "cell_type": "code",
      "source": [
        "data = pd.read_excel(file_path + data_name)"
      ],
      "metadata": {
        "id": "7h2n47FxLBEW"
      },
      "execution_count": null,
      "outputs": []
    },
    {
      "cell_type": "markdown",
      "source": [
        "# Classifier's Statistics"
      ],
      "metadata": {
        "id": "7uSDGX0r_q6b"
      }
    },
    {
      "cell_type": "code",
      "source": [
        "def plot_statistics(data, col, quest):\n",
        "    # ספירת המקרים השונים בעמודה\n",
        "    value_counts = data[col].value_counts()\n",
        "    print(value_counts)\n",
        "    # יצירת הגרף\n",
        "    fig, ax = plt.subplots(figsize=(8, 8))\n",
        "    wedges, texts, autotexts = ax.pie(\n",
        "    value_counts,\n",
        "    labels=quest,\n",
        "    autopct='%1.1f%%',\n",
        "    textprops=dict(color=\"black\"),\n",
        "    startangle=90\n",
        ")\n",
        "\n",
        "# התאמת גודל הטקסטים\n",
        "    plt.setp(autotexts, size=10, weight=\"bold\")\n",
        "    plt.setp(texts, size=12)\n",
        "    plt.title(f'Distribution of {col}')\n",
        "\n",
        "    plt.show()\n",
        "\n",
        "    # הדפסת הנתונים מתחת לגרף\n",
        "    print(f\"Data distribution for '{col}':\")\n",
        "\n",
        "    total = sum(map(lambda count: count, value_counts))\n",
        "\n",
        "    print(f\"Total of {total} cases where checked.\")"
      ],
      "metadata": {
        "id": "tpK2fFAZ6M4W"
      },
      "execution_count": null,
      "outputs": []
    },
    {
      "cell_type": "markdown",
      "source": [
        "* Classifier \"other cases\" treshold for predction: 0.56. text cut : 400 - 30\n",
        "\n",
        "* First classiier (requests) treshold : 0.67. text cut: 500 - 30\n",
        "\n",
        "* Second classifier (appeals) treshold: 0.9. text cut: 550 - 80\n",
        "\n",
        "---\n",
        "\n"
      ],
      "metadata": {
        "id": "koBGpZx69i7U"
      }
    },
    {
      "cell_type": "code",
      "source": [
        "plot_statistics(data,'Others_classifier_treshold_prediction',['No','Classified as Others'])"
      ],
      "metadata": {
        "id": "HLyViOt46066"
      },
      "execution_count": null,
      "outputs": []
    },
    {
      "cell_type": "code",
      "source": [
        "plot_statistics(data,'first_classifier_treshold_prediction',['Request Denied','Request Granted'])"
      ],
      "metadata": {
        "id": "RfNWi_A-7Uos"
      },
      "execution_count": null,
      "outputs": []
    },
    {
      "cell_type": "code",
      "source": [
        "plot_statistics(data,'second_classifier_treshold_prediction',['Apeal itself Denied','Apeal itself Granted'])"
      ],
      "metadata": {
        "id": "EhJqXU2Q_TjW"
      },
      "execution_count": null,
      "outputs": []
    },
    {
      "cell_type": "markdown",
      "source": [
        "# Add public and private sides"
      ],
      "metadata": {
        "id": "NJtKZdxK_wE5"
      }
    },
    {
      "cell_type": "code",
      "source": [
        "sides_path = \"sides_values with lables.xlsx\"\n",
        "sides_df = pd.read_excel(file_path+sides_path)"
      ],
      "metadata": {
        "id": "NeBks3u4_yr9"
      },
      "execution_count": null,
      "outputs": []
    },
    {
      "cell_type": "code",
      "source": [
        "sides_df[\"Public Sides\"].unique()[5]"
      ],
      "metadata": {
        "id": "GZS5fJRF__47"
      },
      "execution_count": null,
      "outputs": []
    },
    {
      "cell_type": "code",
      "source": [
        "sides_df[\"Private Sides\"].unique()[5]"
      ],
      "metadata": {
        "id": "5m099tTQACAC"
      },
      "execution_count": null,
      "outputs": []
    },
    {
      "cell_type": "code",
      "source": [],
      "metadata": {
        "id": "tkks8eZnkbNx"
      },
      "execution_count": null,
      "outputs": []
    },
    {
      "cell_type": "code",
      "source": [
        "def debug_message(message, value=None):\n",
        "    if value is not None:\n",
        "        print(f\"{message}: {value}\")\n",
        "    else:\n",
        "        print(message)\n",
        "\n",
        "# פונקציה לניקוי ערכים\n",
        "def safe_str(value):\n",
        "    \"\"\"\n",
        "    Converts a value to a safe string, handling non-string types gracefully.\n",
        "    \"\"\"\n",
        "    try:\n",
        "        if pd.isna(value) or value == \"\" or value == []:\n",
        "            return \"\"\n",
        "        if isinstance(value, list):\n",
        "            return \" \".join([str(v) for v in value if isinstance(v, str)]).strip()\n",
        "        return str(value).strip()\n",
        "    except Exception as e:\n",
        "        debug_message(\"Error converting value to string\", value)\n",
        "        return \"\"\n",
        "\n",
        "# פונקציה לניקוי טקסט\n",
        "def clean_text(text):\n",
        "    \"\"\"\n",
        "    Cleans the text by removing unwanted characters and fixing formatting issues.\n",
        "    \"\"\"\n",
        "    # Remove leading and trailing whitespace\n",
        "    text = text.strip()\n",
        "\n",
        "    # Fix \\n or n between Hebrew words\n",
        "    text = re.sub(r'(?<=[\\u0590-\\u05FF])\\s*[n\\\\n]+\\s*(?=[\\u0590-\\u05FF])', ' ', text)\n",
        "\n",
        "    # Replace multiple spaces with a single space\n",
        "    text = re.sub(r'\\s+', ' ', text)\n",
        "\n",
        "    return text\n",
        "\n",
        "def publc_side(value, sides_df):\n",
        "    \"\"\"\n",
        "    Determines if the value belongs to a public entity based on predefined lists and patterns.\n",
        "    \"\"\"\n",
        "    try:\n",
        "        value = safe_str(value)\n",
        "        value_cleaned = clean_text(value)\n",
        "\n",
        "        # בדיקת מילים קבועות בתור \"ציבורי\"\n",
        "        keywords = sides_df[\"Public Sides\"].dropna().unique().tolist()\n",
        "        public_terms = [\n",
        "        \"רשות מקרקעי ישראל\", \"מדינת \", \"מועצה \", \"שירות ה\", \"היחידה הארצי\", \"מדינתישראל\", \"לאכיפת \", \"הרשות ל\", \"חוף \",\n",
        "        \"המשרד ל\", 'יועמ\"ש', \"המשפטי לממשלה\", \"מנהל מקרקעי\", \"פרקליטות\", \"שירות בתי הסוהר\", 'שב\"ס', 'מע\"מ', \"מכס \", 'קמ\"ט',\n",
        "        \"ועדת תכנון\", \"מרכז השלטון\", \"משטרה\", \"הסנגוריה הציבורית\", \"מינהל מקרקעי\", \"עירית \", \"רשויות\", \"איגוד ערים\",\n",
        "        \"עיריית \", \"מדינת ישראל\", \"משרד ה\", \"מקרקעי ישראל\", \"שר ה\", \"שרת ה\", \"מועצת \", 'רנ\"ג', \"סרן\", \"מחוז \",\"מחש\",\n",
        "        \"מ דינת ישראל\", \"שרות בתי הסוהר\", 'סג\"ם', \"(במיל)\", \"(מיל)\", \"עריית \", \"המחלקה לחקירת שוטרים\", \"יושבי ראש\",'מח\"ש'\n",
        "        \"רשות ה\", \"אלוף \", 'יו\"ר', \"יושב ראש\", \"ראש עיריית\", \"ועדה\", \"צבא\", \"מפקד\", \"פיקוד\", \"משטרת\", \"משטרה\",'רנ\"ג',\"המחלקה לחקירות שוטרים\"\n",
        "    ]\n",
        "        # אם אחד מהמונחים מופיע, צד ציבורי\n",
        "        if any(term in value_cleaned for term in public_terms + keywords):\n",
        "            return 1\n",
        "\n",
        "        # במידה ואין התאמה, נבדוק לפי אורכים ודפוסים כלליים\n",
        "        if len(value_cleaned) > 5 and \" \" in value_cleaned:\n",
        "            return 0\n",
        "\n",
        "        return None\n",
        "    except Exception as e:\n",
        "        return None\n",
        "\n",
        "\n",
        "def assign_state_side_b(value, sides_df):\n",
        "    \"\"\"\n",
        "    Maps the side to public ('ב'), private ('א'), or undefined ('לא מוגדר').\n",
        "    \"\"\"\n",
        "    try:\n",
        "        value = safe_str(value)\n",
        "        result = publc_side(value, sides_df)\n",
        "\n",
        "        if result == 1:\n",
        "            return \"ב\"\n",
        "        elif result == 0:\n",
        "            return None\n",
        "        else:\n",
        "            return \"לא מוגדר\"\n",
        "    except Exception as e:\n",
        "        debug_message(\"Error assigning state side for value\", value)\n",
        "        return \"לא מוגדר\"\n",
        "\n",
        "def assign_state_side_a(value, sides_df):\n",
        "    \"\"\"\n",
        "    Maps the side to public ('ב'), private ('א'), or undefined ('לא מוגדר').\n",
        "    \"\"\"\n",
        "    try:\n",
        "        value = safe_str(value)\n",
        "        result = publc_side(value, sides_df)\n",
        "\n",
        "        if result == 1:\n",
        "            return \"א\"\n",
        "        elif result == 0:\n",
        "            return None\n",
        "        else:\n",
        "            return \"לא מוגדר\"\n",
        "    except Exception as e:\n",
        "        debug_message(\"Error assigning state side for value\", value)\n",
        "        return \"לא מוגדר\""
      ],
      "metadata": {
        "id": "_eE2ImS2ea-X"
      },
      "execution_count": null,
      "outputs": []
    },
    {
      "cell_type": "code",
      "source": [
        "check_nulls_b = data[data[\"צד ב'\"].isna()]\n",
        "check_nulls_b[\"צד א'\"].unique()"
      ],
      "metadata": {
        "id": "V3J1FnCkPLYf"
      },
      "execution_count": null,
      "outputs": []
    },
    {
      "cell_type": "code",
      "source": [
        "# ניקוי כללי של העמודה \"צד ב'\"\n",
        "data[\"צד ב'\"] = data[\"צד ב'\"].astype(str).str.strip()  # הסרת רווחים\n",
        "data[\"צד ב'\"] = data[\"צד ב'\"].replace(r'\\s+', ' ', regex=True)  # הסרת רווחים מיותרים\n",
        "data[\"צד ב'\"] = data[\"צד ב'\"].replace(r'[^\\w\\s]', '', regex=True)  # הסרת תווים מיוחדים"
      ],
      "metadata": {
        "id": "M4VajFRKBBcI"
      },
      "execution_count": null,
      "outputs": []
    },
    {
      "cell_type": "code",
      "source": [],
      "metadata": {
        "id": "K49AEyPkZOH3"
      },
      "execution_count": null,
      "outputs": []
    },
    {
      "cell_type": "code",
      "source": [],
      "metadata": {
        "id": "biYCRcX3ZOWQ"
      },
      "execution_count": null,
      "outputs": []
    },
    {
      "cell_type": "code",
      "source": [
        "data[\"צד המדינה\"] = data[\"צד ב'\"].apply(lambda x: assign_state_side_b(x, sides_df))\n",
        "data[\"צד המדינה\"] = data.apply(\n",
        "    lambda row: assign_state_side_a(row[\"צד א'\"], sides_df) if row[\"צד המדינה\"] in [\"לא מוגדר\", \"\"] else row[\"צד המדינה\"],\n",
        "    axis=1\n",
        ")"
      ],
      "metadata": {
        "id": "tx4FXvgDDv9n"
      },
      "execution_count": null,
      "outputs": []
    },
    {
      "cell_type": "code",
      "source": [],
      "metadata": {
        "id": "j26XsiBDlJxj"
      },
      "execution_count": null,
      "outputs": []
    },
    {
      "cell_type": "code",
      "source": [
        "\n",
        "unknown_values = data[data[\"צד המדינה\"] == \"לא מוגדר\"]\n",
        "unknown_values[\"צד ב'\"].unique()\n"
      ],
      "metadata": {
        "id": "38WqqSvmyTO4"
      },
      "execution_count": null,
      "outputs": []
    },
    {
      "cell_type": "code",
      "source": [],
      "metadata": {
        "id": "koAzQzPcBsx-"
      },
      "execution_count": null,
      "outputs": []
    },
    {
      "cell_type": "code",
      "source": [
        "unknown_values[\"צד א'\"].unique()"
      ],
      "metadata": {
        "id": "SZxv2w-Xjato"
      },
      "execution_count": null,
      "outputs": []
    },
    {
      "cell_type": "code",
      "source": [],
      "metadata": {
        "id": "NenMVmLPOmX6"
      },
      "execution_count": null,
      "outputs": []
    },
    {
      "cell_type": "code",
      "source": [
        "# plot_statistics(data,'צד המדינה',['א','ב',\"None\"])"
      ],
      "metadata": {
        "id": "uba97ikGDyFa"
      },
      "execution_count": null,
      "outputs": []
    },
    {
      "cell_type": "code",
      "source": [
        "data.to_excel(file_path + \"בית המשפט - קבצים סופיים/full_rap_df_cleaned_3_classifiers_with_state's_side.xlsx\", index=False)"
      ],
      "metadata": {
        "id": "EZYmFVwO4oF-"
      },
      "execution_count": null,
      "outputs": []
    },
    {
      "cell_type": "markdown",
      "source": [
        "# הוספת צד מדינה לכל הדאטה"
      ],
      "metadata": {
        "id": "yV8kfKFwDtjm"
      }
    },
    {
      "cell_type": "code",
      "source": [
        "all_data = pd.read_excel(file_path+\n",
        "    \"full_rap_df_cleaned.xlsx\",\n",
        "    engine='openpyxl'\n",
        ")"
      ],
      "metadata": {
        "id": "c9YPobI2Da1K"
      },
      "execution_count": null,
      "outputs": []
    },
    {
      "cell_type": "code",
      "source": [
        "all_data[\"צד ב'\"] = data[\"צד ב'\"].astype(str).str.strip()  # הסרת רווחים\n",
        "all_data[\"צד ב'\"] = data[\"צד ב'\"].replace(r'\\s+', ' ', regex=True)  # הסרת רווחים מיותרים\n",
        "all_data[\"צד ב'\"] = data[\"צד ב'\"].replace(r'[^\\w\\s]', '', regex=True)  # הסרת תווים מיוחדים\n",
        "\n",
        "all_data[\"צד המדינה\"] = all_data[\"צד ב'\"].apply(lambda x: assign_state_side_b(x, sides_df))\n",
        "all_data[\"צד המדינה\"] = all_data.apply(\n",
        "    lambda row: assign_state_side_a(row[\"צד א'\"], sides_df) if row[\"צד המדינה\"] in [\"לא מוגדר\", \"\"] else row[\"צד המדינה\"],\n",
        "    axis=1\n",
        ")"
      ],
      "metadata": {
        "id": "K6BN_T6_DkMK"
      },
      "execution_count": null,
      "outputs": []
    },
    {
      "cell_type": "code",
      "source": [
        "all_data.to_excel(\"/content/drive/MyDrive/בית המשפט - קבצים סופיים/full_rap_df_cleaned_with_state_side.xlsx\")"
      ],
      "metadata": {
        "id": "wK0fWMWqD-6B"
      },
      "execution_count": null,
      "outputs": []
    },
    {
      "cell_type": "code",
      "source": [
        "all_data[all_data[\"צד המדינה\"]==\"לא מוגדר\"][\"צד ב'\"].head()"
      ],
      "metadata": {
        "id": "advAsr_2EEi3"
      },
      "execution_count": null,
      "outputs": []
    },
    {
      "cell_type": "markdown",
      "source": [
        "# סטטיסטיקה עבור צד המדינה לכל תיקים הרע\"פ"
      ],
      "metadata": {
        "id": "Li_qVxzkEJ3f"
      }
    },
    {
      "cell_type": "code",
      "source": [
        "plot_statistics(all_data,'צד המדינה',['ב','None',\"א\"])"
      ],
      "metadata": {
        "id": "MigskGgGEH2J"
      },
      "execution_count": null,
      "outputs": []
    },
    {
      "cell_type": "code",
      "source": [
        "path = \"/content/drive/MyDrive/בית המשפט - קבצים סופיים\"\n",
        "\n",
        "unknown_values = all_data[all_data[\"צד המדינה\"] == \"לא מוגדר\"]\n",
        "\n",
        "unknown_values.to_excel(path + \"/תיקים בהם צד המדינה לא הוגדר.xlsx\", index=False)"
      ],
      "metadata": {
        "id": "ckFs9HrsH6S3"
      },
      "execution_count": null,
      "outputs": []
    },
    {
      "cell_type": "code",
      "source": [
        "unknown_values[\"צד א'\"].unique()[1:5]"
      ],
      "metadata": {
        "id": "ZSkQ3ZHYIAjJ"
      },
      "execution_count": null,
      "outputs": []
    },
    {
      "cell_type": "code",
      "source": [
        "only_known_sides = all_data[all_data[\"צד המדינה\"] != \"לא מוגדר\"]"
      ],
      "metadata": {
        "id": "xbHMjFSeO5fs"
      },
      "execution_count": null,
      "outputs": []
    },
    {
      "cell_type": "markdown",
      "source": [],
      "metadata": {
        "id": "Ct0lBbmSPkNo"
      }
    },
    {
      "cell_type": "markdown",
      "source": [],
      "metadata": {
        "id": "UE7V1uaGPkKr"
      }
    },
    {
      "cell_type": "code",
      "source": [
        "only_known_sides[only_known_sides[\"צד המדינה\"]==\"א\"][\"צד ב'\"].unique() # private"
      ],
      "metadata": {
        "id": "QcWS7yc6PBe-"
      },
      "execution_count": null,
      "outputs": []
    },
    {
      "cell_type": "code",
      "source": [
        "only_known_sides[only_known_sides[\"צד המדינה\"]==\"ב\"][\"צד א'\"].unique() # פרטי"
      ],
      "metadata": {
        "id": "79pDogjiPnTQ"
      },
      "execution_count": null,
      "outputs": []
    },
    {
      "cell_type": "code",
      "source": [
        "only_known_sides[only_known_sides[\"צד המדינה\"]==\"ב\"][\"צד ב'\"].unique() # מדיני\n"
      ],
      "metadata": {
        "id": "Pffp8lUUPU1h"
      },
      "execution_count": null,
      "outputs": []
    },
    {
      "cell_type": "code",
      "source": [
        "only_known_sides[only_known_sides[\"צד המדינה\"]==\"א\"][\"צד א'\"].unique() # מדיני"
      ],
      "metadata": {
        "id": "pirvvc5zP04k"
      },
      "execution_count": null,
      "outputs": []
    },
    {
      "cell_type": "code",
      "source": [
        "only_known_sides[only_known_sides[\"שנת פתיחת ההליך\"]==\"2002\"]"
      ],
      "metadata": {
        "id": "6yJAQnb6RYxz"
      },
      "execution_count": null,
      "outputs": []
    },
    {
      "cell_type": "code",
      "source": [
        "only_known_sides[only_known_sides[\"שנת פתיחת ההליך\"]==2002]"
      ],
      "metadata": {
        "id": "_bI7rQMUPF2i"
      },
      "execution_count": null,
      "outputs": []
    },
    {
      "cell_type": "code",
      "source": [
        "\n",
        "\n",
        "# # יצירת DataFrame עם איזון אורכים\n",
        "# max_length = max(len(public_side), len(private_side))\n",
        "# public_side.extend([None] * (max_length - len(public_side)))\n",
        "# private_side.extend([None] * (max_length - len(private_side)))\n",
        "\n",
        "# # יצירת הטבלה\n",
        "# sides_Public_Private = {\"Public Side\": public_side, \"Private Side\": private_side}\n",
        "# sides_Public_Private = pd.DataFrame(sides_Public_Private)\n",
        "\n",
        "\n",
        "# sides_Public_Private.drop_duplicates(inplace=True)\n",
        "# path = \"/content/drive/MyDrive/בית המשפט - קבצים סופיים\"\n",
        "# output_path = path + \"/sides_Public_Private.xlsx\"\n",
        "# sides_Public_Private.to_excel(output_path, index=False)"
      ],
      "metadata": {
        "id": "G9hYej0lO5iV"
      },
      "execution_count": null,
      "outputs": []
    }
  ]
}