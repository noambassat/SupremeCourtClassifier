{
  "nbformat": 4,
  "nbformat_minor": 0,
  "metadata": {
    "colab": {
      "provenance": [],
      "gpuType": "L4",
      "toc_visible": true,
      "authorship_tag": "ABX9TyNfeBQuM7rRyChhRkAs4ijG",
      "include_colab_link": true
    },
    "kernelspec": {
      "name": "python3",
      "display_name": "Python 3"
    },
    "language_info": {
      "name": "python"
    },
    "accelerator": "GPU"
  },
  "cells": [
    {
      "cell_type": "markdown",
      "metadata": {
        "id": "view-in-github",
        "colab_type": "text"
      },
      "source": [
        "<a href=\"https://colab.research.google.com/github/noambassat/SupremeCourtClassifier/blob/main/8_Statistics.ipynb\" target=\"_parent\"><img src=\"https://colab.research.google.com/assets/colab-badge.svg\" alt=\"Open In Colab\"/></a>"
      ]
    },
    {
      "cell_type": "code",
      "execution_count": 1,
      "metadata": {
        "id": "gqOFqMx9KAD7"
      },
      "outputs": [],
      "source": [
        "from google.colab import drive\n",
        "import numpy as np\n",
        "import pandas as pd\n",
        "import matplotlib.pyplot as plt\n",
        "import seaborn as sns\n",
        "import re"
      ]
    },
    {
      "cell_type": "code",
      "source": [
        "drive.mount('/content/drive')"
      ],
      "metadata": {
        "colab": {
          "base_uri": "https://localhost:8080/"
        },
        "id": "6U6pdpbpK8hi",
        "outputId": "1ef1b60a-6a00-40a4-8390-4fe995b0c8d1"
      },
      "execution_count": 2,
      "outputs": [
        {
          "output_type": "stream",
          "name": "stdout",
          "text": [
            "Drive already mounted at /content/drive; to attempt to forcibly remount, call drive.mount(\"/content/drive\", force_remount=True).\n"
          ]
        }
      ]
    },
    {
      "cell_type": "code",
      "source": [
        "file_path = \"/content/drive/MyDrive/\"\n",
        "data_name  = \"full_rap_df_cleaned_3_classifiers.xlsx\""
      ],
      "metadata": {
        "id": "hd0sniFqK9Ff"
      },
      "execution_count": 3,
      "outputs": []
    },
    {
      "cell_type": "code",
      "source": [
        "data = pd.read_excel(file_path + data_name)"
      ],
      "metadata": {
        "id": "7h2n47FxLBEW"
      },
      "execution_count": 4,
      "outputs": []
    },
    {
      "cell_type": "markdown",
      "source": [
        "# Classifier's Statistics"
      ],
      "metadata": {
        "id": "7uSDGX0r_q6b"
      }
    },
    {
      "cell_type": "code",
      "source": [
        "def plot_statistics(data, col, quest):\n",
        "    # ספירת המקרים השונים בעמודה\n",
        "    value_counts = data[col].value_counts()\n",
        "    print(value_counts)\n",
        "    # יצירת הגרף\n",
        "    fig, ax = plt.subplots(figsize=(8, 8))\n",
        "    wedges, texts, autotexts = ax.pie(\n",
        "    value_counts,\n",
        "    labels=quest,\n",
        "    autopct='%1.1f%%',\n",
        "    textprops=dict(color=\"black\"),\n",
        "    startangle=90\n",
        ")\n",
        "\n",
        "# התאמת גודל הטקסטים\n",
        "    plt.setp(autotexts, size=10, weight=\"bold\")\n",
        "    plt.setp(texts, size=12)\n",
        "    plt.title(f'Distribution of {col}')\n",
        "\n",
        "    plt.show()\n",
        "\n",
        "    # הדפסת הנתונים מתחת לגרף\n",
        "    print(f\"Data distribution for '{col}':\")\n",
        "\n",
        "    total = sum(map(lambda count: count, value_counts))\n",
        "\n",
        "    print(f\"Total of {total} cases where checked.\")"
      ],
      "metadata": {
        "id": "tpK2fFAZ6M4W"
      },
      "execution_count": 5,
      "outputs": []
    },
    {
      "cell_type": "markdown",
      "source": [
        "* Classifier \"other cases\" treshold for predction: 0.56. text cut : 400 - 30\n",
        "\n",
        "* First classiier (requests) treshold : 0.67. text cut: 500 - 30\n",
        "\n",
        "* Second classifier (appeals) treshold: 0.9. text cut: 550 - 80\n",
        "\n",
        "---\n",
        "\n"
      ],
      "metadata": {
        "id": "koBGpZx69i7U"
      }
    },
    {
      "cell_type": "code",
      "source": [
        "plot_statistics(data,'Others_classifier_treshold_prediction',['No','Classified as Others'])"
      ],
      "metadata": {
        "colab": {
          "base_uri": "https://localhost:8080/",
          "height": 784
        },
        "id": "HLyViOt46066",
        "outputId": "c1da7a79-0573-4945-d79d-583cc5cd26d3"
      },
      "execution_count": 6,
      "outputs": [
        {
          "output_type": "stream",
          "name": "stdout",
          "text": [
            "Others_classifier_treshold_prediction\n",
            "0    5983\n",
            "1    1115\n",
            "Name: count, dtype: int64\n"
          ]
        },
        {
          "output_type": "display_data",
          "data": {
            "text/plain": [
              "<Figure size 800x800 with 1 Axes>"
            ],
            "image/png": "[encoded data removed]"
          },
          "metadata": {}
        },
        {
          "output_type": "stream",
          "name": "stdout",
          "text": [
            "Data distribution for 'Others_classifier_treshold_prediction':\n",
            "Total of 7098 cases where checked.\n"
          ]
        }
      ]
    },
    {
      "cell_type": "code",
      "source": [
        "plot_statistics(data,'first_classifier_treshold_prediction',['Request Denied','Request Granted'])"
      ],
      "metadata": {
        "colab": {
          "base_uri": "https://localhost:8080/",
          "height": 784
        },
        "id": "RfNWi_A-7Uos",
        "outputId": "cfddc7b3-d8ba-4fe8-9571-2436feb262ce"
      },
      "execution_count": 7,
      "outputs": [
        {
          "output_type": "stream",
          "name": "stdout",
          "text": [
            "first_classifier_treshold_prediction\n",
            "0.0    5690\n",
            "1.0     293\n",
            "Name: count, dtype: int64\n"
          ]
        },
        {
          "output_type": "display_data",
          "data": {
            "text/plain": [
              "<Figure size 800x800 with 1 Axes>"
            ],
            "image/png": "[encoded data removed]"
          },
          "metadata": {}
        },
        {
          "output_type": "stream",
          "name": "stdout",
          "text": [
            "Data distribution for 'first_classifier_treshold_prediction':\n",
            "Total of 5983 cases where checked.\n"
          ]
        }
      ]
    },
    {
      "cell_type": "code",
      "source": [
        "plot_statistics(data,'second_classifier_treshold_prediction',['Apeal itself Denied','Apeal itself Granted'])"
      ],
      "metadata": {
        "colab": {
          "base_uri": "https://localhost:8080/",
          "height": 784
        },
        "id": "EhJqXU2Q_TjW",
        "outputId": "1f7e230d-bf5a-4385-daee-7cde1236aa6b"
      },
      "execution_count": 8,
      "outputs": [
        {
          "output_type": "stream",
          "name": "stdout",
          "text": [
            "second_classifier_treshold_prediction\n",
            "1.0    156\n",
            "0.0    137\n",
            "Name: count, dtype: int64\n"
          ]
        },
        {
          "output_type": "display_data",
          "data": {
            "text/plain": [
              "<Figure size 800x800 with 1 Axes>"
            ],
            "image/png": "[encoded data removed]"
          },
          "metadata": {}
        },
        {
          "output_type": "stream",
          "name": "stdout",
          "text": [
            "Data distribution for 'second_classifier_treshold_prediction':\n",
            "Total of 293 cases where checked.\n"
          ]
        }
      ]
    },
    {
      "cell_type": "markdown",
      "source": [
        "# Add public and private sides"
      ],
      "metadata": {
        "id": "NJtKZdxK_wE5"
      }
    },
    {
      "cell_type": "code",
      "source": [
        "sides_path = \"sides_values with lables.xlsx\"\n",
        "sides_df = pd.read_excel(file_path+sides_path)"
      ],
      "metadata": {
        "id": "NeBks3u4_yr9"
      },
      "execution_count": 9,
      "outputs": []
    },
    {
      "cell_type": "code",
      "source": [
        "sides_df[\"Public Sides\"].unique()[5]"
      ],
      "metadata": {
        "colab": {
          "base_uri": "https://localhost:8080/",
          "height": 36
        },
        "id": "GZS5fJRF__47",
        "outputId": "826b0e26-aa2b-4556-ac36-bd519745b915"
      },
      "execution_count": 10,
      "outputs": [
        {
          "output_type": "execute_result",
          "data": {
            "text/plain": [
              "' באמצעות השירות המשפטי של עיריית תל אביב'"
            ],
            "application/vnd.google.colaboratory.intrinsic+json": {
              "type": "string"
            }
          },
          "metadata": {},
          "execution_count": 10
        }
      ]
    },
    {
      "cell_type": "code",
      "source": [
        "sides_df[\"Private Sides\"].unique()[5]"
      ],
      "metadata": {
        "colab": {
          "base_uri": "https://localhost:8080/",
          "height": 36
        },
        "id": "5m099tTQACAC",
        "outputId": "e72089c9-5675-43fd-abe8-f2fc6ee35041"
      },
      "execution_count": 11,
      "outputs": [
        {
          "output_type": "execute_result",
          "data": {
            "text/plain": [
              "'   ניקולאי טיטוב  ויקטור שניידרמן  אלכסיי וולוביק'"
            ],
            "application/vnd.google.colaboratory.intrinsic+json": {
              "type": "string"
            }
          },
          "metadata": {},
          "execution_count": 11
        }
      ]
    },
    {
      "cell_type": "code",
      "source": [],
      "metadata": {
        "id": "tkks8eZnkbNx"
      },
      "execution_count": 11,
      "outputs": []
    },
    {
      "cell_type": "code",
      "source": [
        "def debug_message(message, value=None):\n",
        "    if value is not None:\n",
        "        print(f\"{message}: {value}\")\n",
        "    else:\n",
        "        print(message)\n",
        "\n",
        "def safe_str(value):\n",
        "    \"\"\"\n",
        "    Converts a value to a safe string, handling non-string types gracefully.\n",
        "    \"\"\"\n",
        "    try:\n",
        "        if pd.isna(value) or value == \"\" or value == []:\n",
        "            return \"\"\n",
        "        if isinstance(value, list):\n",
        "            return \" \".join([str(v) for v in value if isinstance(v, str)]).strip()\n",
        "        return str(value).strip()\n",
        "    except Exception as e:\n",
        "        debug_message(\"Error converting value to string\", value)\n",
        "        return \"\"\n",
        "\n",
        "# פונקציה לניקוי טקסט\n",
        "# פונקציה לניקוי טקסט\n",
        "def clean_text(text):\n",
        "    \"\"\"\n",
        "    Cleans the text by removing unwanted characters and fixing formatting issues.\n",
        "    \"\"\"\n",
        "    # Remove leading and trailing whitespace\n",
        "    text = text.strip()\n",
        "\n",
        "    # Fix \\n or n between Hebrew words\n",
        "    text = re.sub(r'(?<=[\\u0590-\\u05FF])\\s*[n\\\\n]+\\s*(?=[\\u0590-\\u05FF])', ' ', text)\n",
        "\n",
        "    # Replace multiple spaces with a single space\n",
        "    text = re.sub(r'\\s+', ' ', text)\n",
        "    text = re.sub(r'[\\\\/]', '', text)\n",
        "\n",
        "    return text\n",
        "\n",
        "def publc_side(value, sides_df):\n",
        "    \"\"\"\n",
        "    Determines if the value belongs to a public entity based on predefined lists and patterns.\n",
        "    \"\"\"\n",
        "    try:\n",
        "        value = safe_str(value)\n",
        "        value_cleaned = clean_text(value)\n",
        "\n",
        "        # בדיקת מילים קבועות בתור \"ציבורי\"\n",
        "        keywords = sides_df[\"Public Sides\"].dropna().unique().tolist()\n",
        "        public_terms = [\n",
        "        \"רשות מקרקעי ישראל\", \"מדינת \", \"מועצה \", \"שירות ה\", \"היחידה הארצי\", \"מדינתישראל\", \"לאכיפת \", \"הרשות ל\", \"חוף \",\n",
        "        \"המשרד ל\", 'יועמ\"ש', \"המשפטי לממשלה\", \"מנהל מקרקעי\", \"פרקליטות\", \"שירות בתי הסוהר\", 'שב\"ס', 'מע\"מ', \"מכס \", 'קמ\"ט',\n",
        "        \"ועדת תכנון\", \"מרכז השלטון\", \"משטרה\", \"הסנגוריה הציבורית\", \"מינהל מקרקעי\", \"עירית \", \"רשויות\", \"איגוד ערים\",\n",
        "        \"עיריית \", \"מדינת ישראל\", \"משרד ה\", \"מקרקעי ישראל\", \"שר ה\", \"שרת ה\", \"מועצת \", 'רנ\"ג', \"סרן\", \"מחוז \",\"מחש\",\n",
        "        \"מ דינת ישראל\", \"שרות בתי הסוהר\", 'סג\"ם', \"(במיל)\", \"(מיל)\", \"עריית \", \"המחלקה לחקירת שוטרים\", \"יושבי ראש\",'מח\"ש'\n",
        "        \"רשות ה\", \"אלוף \", 'יו\"ר', \"יושב ראש\", \"ראש עיריית\", \"ועדה\", \"צבא\", \"מפקד\", \"פיקוד\", \"משטרת\", \"משטרה\",'רנ\"ג',\"המחלקה לחקירות שוטרים\"\n",
        "    ]\n",
        "        # אם אחד מהמונחים מופיע, צד ציבורי\n",
        "        if any(term in value_cleaned for term in public_terms + keywords):\n",
        "            return 1\n",
        "\n",
        "        # במידה ואין התאמה, נבדוק לפי אורכים ודפוסים כלליים\n",
        "        if len(value_cleaned) > 5:\n",
        "            return 0\n",
        "\n",
        "        return None\n",
        "    except Exception as e:\n",
        "        return None\n",
        "\n",
        "\n",
        "def assign_state_side_b(value, sides_df):\n",
        "    \"\"\"\n",
        "    Maps the side to public ('ב'), private ('א'), or undefined ('לא מוגדר').\n",
        "    \"\"\"\n",
        "    try:\n",
        "        value = safe_str(value)\n",
        "        result = publc_side(value, sides_df)\n",
        "\n",
        "        if result == 1:\n",
        "            return \"ב\"\n",
        "\n",
        "        elif result == 0:\n",
        "            return None\n",
        "        else:\n",
        "            return \"לא מוגדר\"\n",
        "    except Exception as e:\n",
        "        debug_message(\"Error assigning state side for value\", value)\n",
        "        return \"לא מוגדר\"\n",
        "\n",
        "def assign_state_side_a(value, sides_df):\n",
        "    \"\"\"\n",
        "    Maps the side to public ('ב'), private ('א'), or undefined ('לא מוגדר').\n",
        "    \"\"\"\n",
        "    try:\n",
        "        value = safe_str(value)\n",
        "        result = publc_side(value, sides_df)\n",
        "\n",
        "        if result == 1:\n",
        "            return \"א\"\n",
        "        elif result == 0:\n",
        "            return None\n",
        "        else:\n",
        "            return \"לא מוגדר\"\n",
        "    except Exception as e:\n",
        "        debug_message(\"Error assigning state side for value\", value)\n",
        "        return \"לא מוגדר\""
      ],
      "metadata": {
        "id": "_eE2ImS2ea-X"
      },
      "execution_count": 12,
      "outputs": []
    },
    {
      "cell_type": "code",
      "source": [
        "check_nulls_b = data[data[\"צד ב'\"].isna()]\n",
        "check_nulls_b[\"צד א'\"].unique()"
      ],
      "metadata": {
        "colab": {
          "base_uri": "https://localhost:8080/"
        },
        "id": "V3J1FnCkPLYf",
        "outputId": "262fc2dc-0cc5-4f81-eaa9-2cebb17a76e8"
      },
      "execution_count": 13,
      "outputs": [
        {
          "output_type": "execute_result",
          "data": {
            "text/plain": [
              "array([\"[['יואב פרנקל', 'מילי פרנקל']]\", \"[['שופאני כרם']]\",\n",
              "       \"[['אלי חי']]\", \"[['עופר בראז']]\", \"[['פלוני']]\",\n",
              "       \"[['אבו קרינאת עבדאללה ת.ז. 029856184 ']]\", nan,\n",
              "       \"[['צבי שטיין ']]\", \"[['דניאל בן עזרא עמרם']]\", \"[['עזרא לקס']]\",\n",
              "       \"[['חיים חוטה']]\", \"[['ארקדי אלזרוב']]\", \"[['אליעזר משיאשוילי']]\",\n",
              "       \"[['יעקב שאיו']]\", \"[['מוחמד קעדאן']]\", \"[['נאסר רומל']]\",\n",
              "       \"[['יצחק זינגר']]\", \"[['טלאל מלאחי']]\", \"[['פריד שלבי']]\",\n",
              "       \"[['אליעזר לביא']]\", \"[['יגאל מדר']]\", \"[['איברהים חאג יחיא']]\",\n",
              "       \"[['בועז פרחי']]\", \"[['אוריאל דודסון ']]\", \"[['אליהו מחפוד ']]\",\n",
              "       \"[['איתמר נמדר ']]\", \"[['טוליב רחימוב ']]\", \"[['מוחמד משהראוי']]\",\n",
              "       \"[['אברהם שריקי']]\", \"[['ציון זלה']]\", \"[['מאיר טוללה ']]\",\n",
              "       \"[['יוסף סוריאס ']]\", \"[['שי שווגר ']]\", \"[['רן אברי ']]\",\n",
              "       \"[['ליאור אבוקסיס ']]\", \"[['בועז אברהם ']]\", \"[['רחמים נחום ']]\",\n",
              "       \"[['רפאל ואקין']]\", \"[['דרור כהן']]\", \"[['גאלב חרחש']]\",\n",
              "       \"[['משה חדש']]\", \"[['אמיר אורלי']]\", \"[['אשר יגודייב']]\",\n",
              "       '[[\\'ספקיוריטי המוקד המרכזי בע\"מ\\', \\'ספקטור דוד\\']]',\n",
              "       \"[['מחמוד אבו עוביד']]\", \"[['אנדרי סליחוב ']]\",\n",
              "       \"[['מחמוד מחאגנה']]\", \"[['כראדי שמעון']]\"], dtype=object)"
            ]
          },
          "metadata": {},
          "execution_count": 13
        }
      ]
    },
    {
      "cell_type": "code",
      "source": [
        "def unknown_terms(value):\n",
        "    empty_values = [\"לא מוגדר\",\"\", \"None\", \"NaN\", \"null\", \"NULL\", \"n/a\", \"N/A\", \"#N/A\", \"NA\"]\n",
        "    return pd.isna(value) or value in empty_values or (isinstance(value, str) and value.strip() == '')\n",
        "\n",
        "data[\"צד המדינה\"] = data[\"צד א'\"].apply(lambda x: assign_state_side_a(x, sides_df))\n",
        "data[\"צד המדינה\"] = data.apply(\n",
        "    lambda row: assign_state_side_b(row[\"צד ב'\"], sides_df) if unknown_terms(row[\"צד המדינה\"]) else row[\"צד המדינה\"],\n",
        "    axis=1\n",
        ")"
      ],
      "metadata": {
        "id": "tx4FXvgDDv9n"
      },
      "execution_count": 14,
      "outputs": []
    },
    {
      "cell_type": "code",
      "source": [
        "\n",
        "unknown_values = data[data[\"צד המדינה\"] == \"לא מוגדר\"]\n",
        "\n",
        "unknown_values.head()"
      ],
      "metadata": {
        "colab": {
          "base_uri": "https://localhost:8080/",
          "height": 689
        },
        "id": "38WqqSvmyTO4",
        "outputId": "3ae36ee0-17ad-4a39-82bd-f3aac34d0e0e"
      },
      "execution_count": 36,
      "outputs": [
        {
          "output_type": "execute_result",
          "data": {
            "text/plain": [
              "      index מספר תיק  מספר החלטות בתיק  \\\n",
              "519    9490  9265/09                 2   \n",
              "843   14813  5127/07                 5   \n",
              "998   17620  3466/16                 5   \n",
              "1506   2040   230/14                 1   \n",
              "1661   2269  5449/14                 2   \n",
              "\n",
              "                                                שם הליך  שנת פתיחת ההליך  \\\n",
              "519              רע\"פ 9265/09 מילי פרנקל נ. מדינת ישראל             2009   \n",
              "843              רע\"פ 5127/07 שופאני כרמ נ. מדינת ישראל             2007   \n",
              "998                                       רע\"פ 3466/16              2016   \n",
              "1506  רע\"פ 230/14 עופר ברא''ז נ. הועדה המקומית לתכנו...             2014   \n",
              "1661                                       רע\"פ 5449/14             2014   \n",
              "\n",
              "         מספר הליך סוג הליך    פירוט סוג הליך  תיק חסוי תאריך אירוע אחרון  \\\n",
              "519   רע\"פ 9265/09     רע\"פ  רשות ערעור פלילי       0.0        2009-11-23   \n",
              "843   רע\"פ 5127/07     רע\"פ  רשות ערעור פלילי       0.0        2007-07-19   \n",
              "998   רע\"פ 3466/16     רע\"פ  רשות ערעור פלילי       0.0        2017-02-21   \n",
              "1506   רע\"פ 230/14     רע\"פ  רשות ערעור פלילי       0.0        2014-01-16   \n",
              "1661  רע\"פ 5449/14     רע\"פ  רשות ערעור פלילי       1.0        1900-01-01   \n",
              "\n",
              "      ...  Others_classifier_treshold_prediction  \\\n",
              "519   ...                                      1   \n",
              "843   ...                                      1   \n",
              "998   ...                                      1   \n",
              "1506  ...                                      0   \n",
              "1661  ...                                      0   \n",
              "\n",
              "                            גוף המסמך חתוך - embeddings  \\\n",
              "519                                                 NaN   \n",
              "843                                                 NaN   \n",
              "998                                                 NaN   \n",
              "1506  [ 4.19343919e-01 -6.21535741e-02 -4.13136780e-...   \n",
              "1661  [ 3.05338472e-01 -1.32924259e-01 -3.86319458e-...   \n",
              "\n",
              "     first_classifier_predicted_probability  \\\n",
              "519                                     NaN   \n",
              "843                                     NaN   \n",
              "998                                     NaN   \n",
              "1506                               0.004019   \n",
              "1661                               0.020070   \n",
              "\n",
              "     first_classifier_original_prediction  \\\n",
              "519                                   NaN   \n",
              "843                                   NaN   \n",
              "998                                   NaN   \n",
              "1506                                  0.0   \n",
              "1661                                  0.0   \n",
              "\n",
              "     first_classifier_treshold_prediction  \\\n",
              "519                                   NaN   \n",
              "843                                   NaN   \n",
              "998                                   NaN   \n",
              "1506                                  0.0   \n",
              "1661                                  0.0   \n",
              "\n",
              "     גוף המסמך חתוך למסווג השני - embeddings  \\\n",
              "519                                      NaN   \n",
              "843                                      NaN   \n",
              "998                                      NaN   \n",
              "1506                                     NaN   \n",
              "1661                                     NaN   \n",
              "\n",
              "     second_classifier_predicted_probability  \\\n",
              "519                                      NaN   \n",
              "843                                      NaN   \n",
              "998                                      NaN   \n",
              "1506                                     NaN   \n",
              "1661                                     NaN   \n",
              "\n",
              "     second_classifier_original_prediction  \\\n",
              "519                                    NaN   \n",
              "843                                    NaN   \n",
              "998                                    NaN   \n",
              "1506                                   NaN   \n",
              "1661                                   NaN   \n",
              "\n",
              "     second_classifier_treshold_prediction צד המדינה  \n",
              "519                                    NaN  לא מוגדר  \n",
              "843                                    NaN  לא מוגדר  \n",
              "998                                    NaN  לא מוגדר  \n",
              "1506                                   NaN  לא מוגדר  \n",
              "1661                                   NaN  לא מוגדר  \n",
              "\n",
              "[5 rows x 157 columns]"
            ],
            "text/html": [
              "\n",
              "  <div id=\"df-e4b637fe-99fa-4c0f-83c1-afc6f3e244aa\" class=\"colab-df-container\">\n",
              "    <div>\n",
              "<style scoped>\n",
              "    .dataframe tbody tr th:only-of-type {\n",
              "        vertical-align: middle;\n",
              "    }\n",
              "\n",
              "    .dataframe tbody tr th {\n",
              "        vertical-align: top;\n",
              "    }\n",
              "\n",
              "    .dataframe thead th {\n",
              "        text-align: right;\n",
              "    }\n",
              "</style>\n",
              "<table border=\"1\" class=\"dataframe\">\n",
              "  <thead>\n",
              "    <tr style=\"text-align: right;\">\n",
              "      <th></th>\n",
              "      <th>index</th>\n",
              "      <th>מספר תיק</th>\n",
              "      <th>מספר החלטות בתיק</th>\n",
              "      <th>שם הליך</th>\n",
              "      <th>שנת פתיחת ההליך</th>\n",
              "      <th>מספר הליך</th>\n",
              "      <th>סוג הליך</th>\n",
              "      <th>פירוט סוג הליך</th>\n",
              "      <th>תיק חסוי</th>\n",
              "      <th>תאריך אירוע אחרון</th>\n",
              "      <th>...</th>\n",
              "      <th>Others_classifier_treshold_prediction</th>\n",
              "      <th>גוף המסמך חתוך - embeddings</th>\n",
              "      <th>first_classifier_predicted_probability</th>\n",
              "      <th>first_classifier_original_prediction</th>\n",
              "      <th>first_classifier_treshold_prediction</th>\n",
              "      <th>גוף המסמך חתוך למסווג השני - embeddings</th>\n",
              "      <th>second_classifier_predicted_probability</th>\n",
              "      <th>second_classifier_original_prediction</th>\n",
              "      <th>second_classifier_treshold_prediction</th>\n",
              "      <th>צד המדינה</th>\n",
              "    </tr>\n",
              "  </thead>\n",
              "  <tbody>\n",
              "    <tr>\n",
              "      <th>519</th>\n",
              "      <td>9490</td>\n",
              "      <td>9265/09</td>\n",
              "      <td>2</td>\n",
              "      <td>רע\"פ 9265/09 מילי פרנקל נ. מדינת ישראל</td>\n",
              "      <td>2009</td>\n",
              "      <td>רע\"פ 9265/09</td>\n",
              "      <td>רע\"פ</td>\n",
              "      <td>רשות ערעור פלילי</td>\n",
              "      <td>0.0</td>\n",
              "      <td>2009-11-23</td>\n",
              "      <td>...</td>\n",
              "      <td>1</td>\n",
              "      <td>NaN</td>\n",
              "      <td>NaN</td>\n",
              "      <td>NaN</td>\n",
              "      <td>NaN</td>\n",
              "      <td>NaN</td>\n",
              "      <td>NaN</td>\n",
              "      <td>NaN</td>\n",
              "      <td>NaN</td>\n",
              "      <td>לא מוגדר</td>\n",
              "    </tr>\n",
              "    <tr>\n",
              "      <th>843</th>\n",
              "      <td>14813</td>\n",
              "      <td>5127/07</td>\n",
              "      <td>5</td>\n",
              "      <td>רע\"פ 5127/07 שופאני כרמ נ. מדינת ישראל</td>\n",
              "      <td>2007</td>\n",
              "      <td>רע\"פ 5127/07</td>\n",
              "      <td>רע\"פ</td>\n",
              "      <td>רשות ערעור פלילי</td>\n",
              "      <td>0.0</td>\n",
              "      <td>2007-07-19</td>\n",
              "      <td>...</td>\n",
              "      <td>1</td>\n",
              "      <td>NaN</td>\n",
              "      <td>NaN</td>\n",
              "      <td>NaN</td>\n",
              "      <td>NaN</td>\n",
              "      <td>NaN</td>\n",
              "      <td>NaN</td>\n",
              "      <td>NaN</td>\n",
              "      <td>NaN</td>\n",
              "      <td>לא מוגדר</td>\n",
              "    </tr>\n",
              "    <tr>\n",
              "      <th>998</th>\n",
              "      <td>17620</td>\n",
              "      <td>3466/16</td>\n",
              "      <td>5</td>\n",
              "      <td>רע\"פ 3466/16</td>\n",
              "      <td>2016</td>\n",
              "      <td>רע\"פ 3466/16</td>\n",
              "      <td>רע\"פ</td>\n",
              "      <td>רשות ערעור פלילי</td>\n",
              "      <td>0.0</td>\n",
              "      <td>2017-02-21</td>\n",
              "      <td>...</td>\n",
              "      <td>1</td>\n",
              "      <td>NaN</td>\n",
              "      <td>NaN</td>\n",
              "      <td>NaN</td>\n",
              "      <td>NaN</td>\n",
              "      <td>NaN</td>\n",
              "      <td>NaN</td>\n",
              "      <td>NaN</td>\n",
              "      <td>NaN</td>\n",
              "      <td>לא מוגדר</td>\n",
              "    </tr>\n",
              "    <tr>\n",
              "      <th>1506</th>\n",
              "      <td>2040</td>\n",
              "      <td>230/14</td>\n",
              "      <td>1</td>\n",
              "      <td>רע\"פ 230/14 עופר ברא''ז נ. הועדה המקומית לתכנו...</td>\n",
              "      <td>2014</td>\n",
              "      <td>רע\"פ 230/14</td>\n",
              "      <td>רע\"פ</td>\n",
              "      <td>רשות ערעור פלילי</td>\n",
              "      <td>0.0</td>\n",
              "      <td>2014-01-16</td>\n",
              "      <td>...</td>\n",
              "      <td>0</td>\n",
              "      <td>[ 4.19343919e-01 -6.21535741e-02 -4.13136780e-...</td>\n",
              "      <td>0.004019</td>\n",
              "      <td>0.0</td>\n",
              "      <td>0.0</td>\n",
              "      <td>NaN</td>\n",
              "      <td>NaN</td>\n",
              "      <td>NaN</td>\n",
              "      <td>NaN</td>\n",
              "      <td>לא מוגדר</td>\n",
              "    </tr>\n",
              "    <tr>\n",
              "      <th>1661</th>\n",
              "      <td>2269</td>\n",
              "      <td>5449/14</td>\n",
              "      <td>2</td>\n",
              "      <td>רע\"פ 5449/14</td>\n",
              "      <td>2014</td>\n",
              "      <td>רע\"פ 5449/14</td>\n",
              "      <td>רע\"פ</td>\n",
              "      <td>רשות ערעור פלילי</td>\n",
              "      <td>1.0</td>\n",
              "      <td>1900-01-01</td>\n",
              "      <td>...</td>\n",
              "      <td>0</td>\n",
              "      <td>[ 3.05338472e-01 -1.32924259e-01 -3.86319458e-...</td>\n",
              "      <td>0.020070</td>\n",
              "      <td>0.0</td>\n",
              "      <td>0.0</td>\n",
              "      <td>NaN</td>\n",
              "      <td>NaN</td>\n",
              "      <td>NaN</td>\n",
              "      <td>NaN</td>\n",
              "      <td>לא מוגדר</td>\n",
              "    </tr>\n",
              "  </tbody>\n",
              "</table>\n",
              "<p>5 rows × 157 columns</p>\n",
              "</div>\n",
              "    <div class=\"colab-df-buttons\">\n",
              "\n",
              "  <div class=\"colab-df-container\">\n",
              "    <button class=\"colab-df-convert\" onclick=\"convertToInteractive('df-e4b637fe-99fa-4c0f-83c1-afc6f3e244aa')\"\n",
              "            title=\"Convert this dataframe to an interactive table.\"\n",
              "            style=\"display:none;\">\n",
              "\n",
              "  <svg xmlns=\"http://www.w3.org/2000/svg\" height=\"24px\" viewBox=\"0 -960 960 960\">\n",
              "    <path d=\"M120-120v-720h720v720H120Zm60-500h600v-160H180v160Zm220 220h160v-160H400v160Zm0 220h160v-160H400v160ZM180-400h160v-160H180v160Zm440 0h160v-160H620v160ZM180-180h160v-160H180v160Zm440 0h160v-160H620v160Z\"/>\n",
              "  </svg>\n",
              "    </button>\n",
              "\n",
              "  <style>\n",
              "    .colab-df-container {\n",
              "      display:flex;\n",
              "      gap: 12px;\n",
              "    }\n",
              "\n",
              "    .colab-df-convert {\n",
              "      background-color: #E8F0FE;\n",
              "      border: none;\n",
              "      border-radius: 50%;\n",
              "      cursor: pointer;\n",
              "      display: none;\n",
              "      fill: #1967D2;\n",
              "      height: 32px;\n",
              "      padding: 0 0 0 0;\n",
              "      width: 32px;\n",
              "    }\n",
              "\n",
              "    .colab-df-convert:hover {\n",
              "      background-color: #E2EBFA;\n",
              "      box-shadow: 0px 1px 2px rgba(60, 64, 67, 0.3), 0px 1px 3px 1px rgba(60, 64, 67, 0.15);\n",
              "      fill: #174EA6;\n",
              "    }\n",
              "\n",
              "    .colab-df-buttons div {\n",
              "      margin-bottom: 4px;\n",
              "    }\n",
              "\n",
              "    [theme=dark] .colab-df-convert {\n",
              "      background-color: #3B4455;\n",
              "      fill: #D2E3FC;\n",
              "    }\n",
              "\n",
              "    [theme=dark] .colab-df-convert:hover {\n",
              "      background-color: #434B5C;\n",
              "      box-shadow: 0px 1px 3px 1px rgba(0, 0, 0, 0.15);\n",
              "      filter: drop-shadow(0px 1px 2px rgba(0, 0, 0, 0.3));\n",
              "      fill: #FFFFFF;\n",
              "    }\n",
              "  </style>\n",
              "\n",
              "    <script>\n",
              "      const buttonEl =\n",
              "        document.querySelector('#df-e4b637fe-99fa-4c0f-83c1-afc6f3e244aa button.colab-df-convert');\n",
              "      buttonEl.style.display =\n",
              "        google.colab.kernel.accessAllowed ? 'block' : 'none';\n",
              "\n",
              "      async function convertToInteractive(key) {\n",
              "        const element = document.querySelector('#df-e4b637fe-99fa-4c0f-83c1-afc6f3e244aa');\n",
              "        const dataTable =\n",
              "          await google.colab.kernel.invokeFunction('convertToInteractive',\n",
              "                                                    [key], {});\n",
              "        if (!dataTable) return;\n",
              "\n",
              "        const docLinkHtml = 'Like what you see? Visit the ' +\n",
              "          '<a target=\"_blank\" href=https://colab.research.google.com/notebooks/data_table.ipynb>data table notebook</a>'\n",
              "          + ' to learn more about interactive tables.';\n",
              "        element.innerHTML = '';\n",
              "        dataTable['output_type'] = 'display_data';\n",
              "        await google.colab.output.renderOutput(dataTable, element);\n",
              "        const docLink = document.createElement('div');\n",
              "        docLink.innerHTML = docLinkHtml;\n",
              "        element.appendChild(docLink);\n",
              "      }\n",
              "    </script>\n",
              "  </div>\n",
              "\n",
              "\n",
              "<div id=\"df-24d4e6d3-085f-4708-86d7-4aecbe1654ae\">\n",
              "  <button class=\"colab-df-quickchart\" onclick=\"quickchart('df-24d4e6d3-085f-4708-86d7-4aecbe1654ae')\"\n",
              "            title=\"Suggest charts\"\n",
              "            style=\"display:none;\">\n",
              "\n",
              "<svg xmlns=\"http://www.w3.org/2000/svg\" height=\"24px\"viewBox=\"0 0 24 24\"\n",
              "     width=\"24px\">\n",
              "    <g>\n",
              "        <path d=\"M19 3H5c-1.1 0-2 .9-2 2v14c0 1.1.9 2 2 2h14c1.1 0 2-.9 2-2V5c0-1.1-.9-2-2-2zM9 17H7v-7h2v7zm4 0h-2V7h2v10zm4 0h-2v-4h2v4z\"/>\n",
              "    </g>\n",
              "</svg>\n",
              "  </button>\n",
              "\n",
              "<style>\n",
              "  .colab-df-quickchart {\n",
              "      --bg-color: #E8F0FE;\n",
              "      --fill-color: #1967D2;\n",
              "      --hover-bg-color: #E2EBFA;\n",
              "      --hover-fill-color: #174EA6;\n",
              "      --disabled-fill-color: #AAA;\n",
              "      --disabled-bg-color: #DDD;\n",
              "  }\n",
              "\n",
              "  [theme=dark] .colab-df-quickchart {\n",
              "      --bg-color: #3B4455;\n",
              "      --fill-color: #D2E3FC;\n",
              "      --hover-bg-color: #434B5C;\n",
              "      --hover-fill-color: #FFFFFF;\n",
              "      --disabled-bg-color: #3B4455;\n",
              "      --disabled-fill-color: #666;\n",
              "  }\n",
              "\n",
              "  .colab-df-quickchart {\n",
              "    background-color: var(--bg-color);\n",
              "    border: none;\n",
              "    border-radius: 50%;\n",
              "    cursor: pointer;\n",
              "    display: none;\n",
              "    fill: var(--fill-color);\n",
              "    height: 32px;\n",
              "    padding: 0;\n",
              "    width: 32px;\n",
              "  }\n",
              "\n",
              "  .colab-df-quickchart:hover {\n",
              "    background-color: var(--hover-bg-color);\n",
              "    box-shadow: 0 1px 2px rgba(60, 64, 67, 0.3), 0 1px 3px 1px rgba(60, 64, 67, 0.15);\n",
              "    fill: var(--button-hover-fill-color);\n",
              "  }\n",
              "\n",
              "  .colab-df-quickchart-complete:disabled,\n",
              "  .colab-df-quickchart-complete:disabled:hover {\n",
              "    background-color: var(--disabled-bg-color);\n",
              "    fill: var(--disabled-fill-color);\n",
              "    box-shadow: none;\n",
              "  }\n",
              "\n",
              "  .colab-df-spinner {\n",
              "    border: 2px solid var(--fill-color);\n",
              "    border-color: transparent;\n",
              "    border-bottom-color: var(--fill-color);\n",
              "    animation:\n",
              "      spin 1s steps(1) infinite;\n",
              "  }\n",
              "\n",
              "  @keyframes spin {\n",
              "    0% {\n",
              "      border-color: transparent;\n",
              "      border-bottom-color: var(--fill-color);\n",
              "      border-left-color: var(--fill-color);\n",
              "    }\n",
              "    20% {\n",
              "      border-color: transparent;\n",
              "      border-left-color: var(--fill-color);\n",
              "      border-top-color: var(--fill-color);\n",
              "    }\n",
              "    30% {\n",
              "      border-color: transparent;\n",
              "      border-left-color: var(--fill-color);\n",
              "      border-top-color: var(--fill-color);\n",
              "      border-right-color: var(--fill-color);\n",
              "    }\n",
              "    40% {\n",
              "      border-color: transparent;\n",
              "      border-right-color: var(--fill-color);\n",
              "      border-top-color: var(--fill-color);\n",
              "    }\n",
              "    60% {\n",
              "      border-color: transparent;\n",
              "      border-right-color: var(--fill-color);\n",
              "    }\n",
              "    80% {\n",
              "      border-color: transparent;\n",
              "      border-right-color: var(--fill-color);\n",
              "      border-bottom-color: var(--fill-color);\n",
              "    }\n",
              "    90% {\n",
              "      border-color: transparent;\n",
              "      border-bottom-color: var(--fill-color);\n",
              "    }\n",
              "  }\n",
              "</style>\n",
              "\n",
              "  <script>\n",
              "    async function quickchart(key) {\n",
              "      const quickchartButtonEl =\n",
              "        document.querySelector('#' + key + ' button');\n",
              "      quickchartButtonEl.disabled = true;  // To prevent multiple clicks.\n",
              "      quickchartButtonEl.classList.add('colab-df-spinner');\n",
              "      try {\n",
              "        const charts = await google.colab.kernel.invokeFunction(\n",
              "            'suggestCharts', [key], {});\n",
              "      } catch (error) {\n",
              "        console.error('Error during call to suggestCharts:', error);\n",
              "      }\n",
              "      quickchartButtonEl.classList.remove('colab-df-spinner');\n",
              "      quickchartButtonEl.classList.add('colab-df-quickchart-complete');\n",
              "    }\n",
              "    (() => {\n",
              "      let quickchartButtonEl =\n",
              "        document.querySelector('#df-24d4e6d3-085f-4708-86d7-4aecbe1654ae button');\n",
              "      quickchartButtonEl.style.display =\n",
              "        google.colab.kernel.accessAllowed ? 'block' : 'none';\n",
              "    })();\n",
              "  </script>\n",
              "</div>\n",
              "\n",
              "    </div>\n",
              "  </div>\n"
            ],
            "application/vnd.google.colaboratory.intrinsic+json": {
              "type": "dataframe",
              "variable_name": "unknown_values"
            }
          },
          "metadata": {},
          "execution_count": 36
        }
      ]
    },
    {
      "cell_type": "code",
      "source": [
        "unknown_values[\"צד ב'\"].unique()"
      ],
      "metadata": {
        "colab": {
          "base_uri": "https://localhost:8080/"
        },
        "id": "xlVLqP7Vyvyo",
        "outputId": "4b375ff6-bd4f-47ef-8e2d-bfc84c90f78e"
      },
      "execution_count": 33,
      "outputs": [
        {
          "output_type": "execute_result",
          "data": {
            "text/plain": [
              "array([nan], dtype=object)"
            ]
          },
          "metadata": {},
          "execution_count": 33
        }
      ]
    },
    {
      "cell_type": "code",
      "source": [
        "unknown_values[\"צד א'\"].unique()"
      ],
      "metadata": {
        "colab": {
          "base_uri": "https://localhost:8080/"
        },
        "id": "SZxv2w-Xjato",
        "outputId": "d5476162-d96f-43ab-e061-011c02c00db7"
      },
      "execution_count": 17,
      "outputs": [
        {
          "output_type": "execute_result",
          "data": {
            "text/plain": [
              "array([\"[['יואב פרנקל', 'מילי פרנקל']]\", \"[['שופאני כרם']]\",\n",
              "       \"[['אלי חי']]\", \"[['עופר בראז']]\", \"[['פלוני']]\",\n",
              "       \"[['אבו קרינאת עבדאללה ת.ז. 029856184 ']]\", nan,\n",
              "       \"[['צבי שטיין ']]\", \"[['דניאל בן עזרא עמרם']]\", \"[['עזרא לקס']]\",\n",
              "       \"[['חיים חוטה']]\", \"[['ארקדי אלזרוב']]\", \"[['אליעזר משיאשוילי']]\",\n",
              "       \"[['יעקב שאיו']]\", \"[['מוחמד קעדאן']]\", \"[['נאסר רומל']]\",\n",
              "       \"[['יצחק זינגר']]\", \"[['טלאל מלאחי']]\", \"[['פריד שלבי']]\",\n",
              "       \"[['אליעזר לביא']]\", \"[['יגאל מדר']]\", \"[['איברהים חאג יחיא']]\",\n",
              "       \"[['בועז פרחי']]\", \"[['אוריאל דודסון ']]\", \"[['אליהו מחפוד ']]\",\n",
              "       \"[['איתמר נמדר ']]\", \"[['טוליב רחימוב ']]\", \"[['מוחמד משהראוי']]\",\n",
              "       \"[['אברהם שריקי']]\", \"[['ציון זלה']]\", \"[['מאיר טוללה ']]\",\n",
              "       \"[['יוסף סוריאס ']]\", \"[['שי שווגר ']]\", \"[['רן אברי ']]\",\n",
              "       \"[['ליאור אבוקסיס ']]\", \"[['בועז אברהם ']]\", \"[['רחמים נחום ']]\",\n",
              "       \"[['רפאל ואקין']]\", \"[['דרור כהן']]\", \"[['גאלב חרחש']]\",\n",
              "       \"[['משה חדש']]\", \"[['אמיר אורלי']]\", \"[['אשר יגודייב']]\",\n",
              "       '[[\\'ספקיוריטי המוקד המרכזי בע\"מ\\', \\'ספקטור דוד\\']]',\n",
              "       \"[['מחמוד אבו עוביד']]\", \"[['אנדרי סליחוב ']]\",\n",
              "       \"[['מחמוד מחאגנה']]\", \"[['כראדי שמעון']]\"], dtype=object)"
            ]
          },
          "metadata": {},
          "execution_count": 17
        }
      ]
    },
    {
      "cell_type": "code",
      "source": [
        "plot_statistics(data,'צד המדינה',['ב',\"א\",'None'])"
      ],
      "metadata": {
        "colab": {
          "base_uri": "https://localhost:8080/",
          "height": 802
        },
        "id": "hOK5JpidwxvW",
        "outputId": "771d2a2c-d74a-4b62-e902-f9d562f49cab"
      },
      "execution_count": 34,
      "outputs": [
        {
          "output_type": "stream",
          "name": "stdout",
          "text": [
            "צד המדינה\n",
            "ב           6904\n",
            "א             72\n",
            "לא מוגדר      56\n",
            "Name: count, dtype: int64\n"
          ]
        },
        {
          "output_type": "display_data",
          "data": {
            "text/plain": [
              "<Figure size 800x800 with 1 Axes>"
            ],
            "image/png": "[encoded data removed]"
          },
          "metadata": {}
        },
        {
          "output_type": "stream",
          "name": "stdout",
          "text": [
            "Data distribution for 'צד המדינה':\n",
            "Total of 7032 cases where checked.\n"
          ]
        }
      ]
    },
    {
      "cell_type": "code",
      "source": [
        "data.to_excel(file_path + \"בית המשפט - קבצים סופיים/full_rap_df_cleaned_3_classifiers_with_state's_side.xlsx\", index=False)"
      ],
      "metadata": {
        "id": "EZYmFVwO4oF-"
      },
      "execution_count": 19,
      "outputs": []
    },
    {
      "cell_type": "markdown",
      "source": [
        "# הוספת צד מדינה לכל הדאטה"
      ],
      "metadata": {
        "id": "yV8kfKFwDtjm"
      }
    },
    {
      "cell_type": "code",
      "source": [
        "all_data = pd.read_excel(file_path+\n",
        "    \"full_rap_df_cleaned.xlsx\",\n",
        "    engine='openpyxl'\n",
        ")"
      ],
      "metadata": {
        "id": "c9YPobI2Da1K"
      },
      "execution_count": 20,
      "outputs": []
    },
    {
      "cell_type": "code",
      "source": [
        "all_data.shape"
      ],
      "metadata": {
        "colab": {
          "base_uri": "https://localhost:8080/"
        },
        "id": "hl-pR5_lobbX",
        "outputId": "0f107048-f43a-4418-8e18-bfe6c8c5989c"
      },
      "execution_count": 21,
      "outputs": [
        {
          "output_type": "execute_result",
          "data": {
            "text/plain": [
              "(7658, 152)"
            ]
          },
          "metadata": {},
          "execution_count": 21
        }
      ]
    },
    {
      "cell_type": "code",
      "source": [
        "def unknown_terms(value):\n",
        "    empty_values = [\"לא מוגדר\",\"\", \"None\", \"NaN\", \"null\", \"NULL\", \"n/a\", \"N/A\", \"#N/A\", \"NA\"]\n",
        "    return pd.isna(value) or value in empty_values or (isinstance(value, str) and value.strip() == '')\n",
        "\n",
        "all_data[\"צד המדינה\"] = all_data[\"צד א'\"].apply(lambda x: assign_state_side_a(x, sides_df))\n",
        "all_data[\"צד המדינה\"] = all_data.apply(\n",
        "    lambda row: assign_state_side_b(row[\"צד ב'\"], sides_df) if unknown_terms(row[\"צד המדינה\"]) else row[\"צד המדינה\"],\n",
        "    axis=1\n",
        ")"
      ],
      "metadata": {
        "id": "QNQIJNm2ejTX"
      },
      "execution_count": 22,
      "outputs": []
    },
    {
      "cell_type": "code",
      "source": [
        "all_data.to_excel(\"/content/drive/MyDrive/בית המשפט - קבצים סופיים/full_rap_df_cleaned_with_state_side.xlsx\")"
      ],
      "metadata": {
        "id": "wK0fWMWqD-6B"
      },
      "execution_count": 23,
      "outputs": []
    },
    {
      "cell_type": "code",
      "source": [
        "all_data[all_data[\"צד המדינה\"]==\"לא מוגדר\"][\"צד ב'\"].head()"
      ],
      "metadata": {
        "colab": {
          "base_uri": "https://localhost:8080/",
          "height": 241
        },
        "id": "advAsr_2EEi3",
        "outputId": "9e771895-c38d-4a36-de4d-48478f69d45f"
      },
      "execution_count": 24,
      "outputs": [
        {
          "output_type": "execute_result",
          "data": {
            "text/plain": [
              "81     NaN\n",
              "166    NaN\n",
              "182    NaN\n",
              "325    NaN\n",
              "438    NaN\n",
              "Name: צד ב', dtype: object"
            ],
            "text/html": [
              "<div>\n",
              "<style scoped>\n",
              "    .dataframe tbody tr th:only-of-type {\n",
              "        vertical-align: middle;\n",
              "    }\n",
              "\n",
              "    .dataframe tbody tr th {\n",
              "        vertical-align: top;\n",
              "    }\n",
              "\n",
              "    .dataframe thead th {\n",
              "        text-align: right;\n",
              "    }\n",
              "</style>\n",
              "<table border=\"1\" class=\"dataframe\">\n",
              "  <thead>\n",
              "    <tr style=\"text-align: right;\">\n",
              "      <th></th>\n",
              "      <th>צד ב'</th>\n",
              "    </tr>\n",
              "  </thead>\n",
              "  <tbody>\n",
              "    <tr>\n",
              "      <th>81</th>\n",
              "      <td>NaN</td>\n",
              "    </tr>\n",
              "    <tr>\n",
              "      <th>166</th>\n",
              "      <td>NaN</td>\n",
              "    </tr>\n",
              "    <tr>\n",
              "      <th>182</th>\n",
              "      <td>NaN</td>\n",
              "    </tr>\n",
              "    <tr>\n",
              "      <th>325</th>\n",
              "      <td>NaN</td>\n",
              "    </tr>\n",
              "    <tr>\n",
              "      <th>438</th>\n",
              "      <td>NaN</td>\n",
              "    </tr>\n",
              "  </tbody>\n",
              "</table>\n",
              "</div><br><label><b>dtype:</b> object</label>"
            ]
          },
          "metadata": {},
          "execution_count": 24
        }
      ]
    },
    {
      "cell_type": "markdown",
      "source": [
        "# סטטיסטיקה עבור צד המדינה לכל תיקי הרע\"פ"
      ],
      "metadata": {
        "id": "Li_qVxzkEJ3f"
      }
    },
    {
      "cell_type": "code",
      "source": [
        "plot_statistics(all_data,'צד המדינה',['ב',\"א\",'None'])"
      ],
      "metadata": {
        "colab": {
          "base_uri": "https://localhost:8080/",
          "height": 802
        },
        "id": "MigskGgGEH2J",
        "outputId": "bc716d49-6a4f-4d4a-97e5-7dc0bf02e4b7"
      },
      "execution_count": 35,
      "outputs": [
        {
          "output_type": "stream",
          "name": "stdout",
          "text": [
            "צד המדינה\n",
            "ב           7441\n",
            "א             91\n",
            "לא מוגדר      52\n",
            "Name: count, dtype: int64\n"
          ]
        },
        {
          "output_type": "display_data",
          "data": {
            "text/plain": [
              "<Figure size 800x800 with 1 Axes>"
            ],
            "image/png": "[encoded data removed]"
          },
          "metadata": {}
        },
        {
          "output_type": "stream",
          "name": "stdout",
          "text": [
            "Data distribution for 'צד המדינה':\n",
            "Total of 7584 cases where checked.\n"
          ]
        }
      ]
    },
    {
      "cell_type": "code",
      "source": [
        "path = \"/content/drive/MyDrive/בית המשפט - קבצים סופיים\"\n",
        "\n",
        "unknown_values = all_data[all_data[\"צד המדינה\"] == \"לא מוגדר\"]\n",
        "\n",
        "unknown_values.to_excel(path + \"/תיקים בהם צד המדינה לא הוגדר.xlsx\", index=False)"
      ],
      "metadata": {
        "id": "ckFs9HrsH6S3"
      },
      "execution_count": 26,
      "outputs": []
    },
    {
      "cell_type": "code",
      "source": [
        "unknown_values[\"צד א'\"].unique()[1:5]"
      ],
      "metadata": {
        "colab": {
          "base_uri": "https://localhost:8080/"
        },
        "id": "ZSkQ3ZHYIAjJ",
        "outputId": "8e682522-b60d-48bf-cbc4-e4393d785fac"
      },
      "execution_count": 27,
      "outputs": [
        {
          "output_type": "execute_result",
          "data": {
            "text/plain": [
              "array([\"[['ברק ימיני']]\", \"[['מחמוד מחאגנה']]\", \"[['משה מזרחי']]\",\n",
              "       \"[['כראדי שמעון']]\"], dtype=object)"
            ]
          },
          "metadata": {},
          "execution_count": 27
        }
      ]
    },
    {
      "cell_type": "code",
      "source": [
        "only_known_sides = all_data[all_data[\"צד המדינה\"] != \"לא מוגדר\"]"
      ],
      "metadata": {
        "id": "xbHMjFSeO5fs"
      },
      "execution_count": 28,
      "outputs": []
    },
    {
      "cell_type": "code",
      "source": [
        "private_side_list = np.concatenate((\n",
        "    only_known_sides[only_known_sides[\"צד המדינה\"] == \"א\"][\"צד ב'\"].unique(),\n",
        "    only_known_sides[only_known_sides[\"צד המדינה\"] == \"ב\"][\"צד א'\"].unique()\n",
        "))"
      ],
      "metadata": {
        "id": "QcWS7yc6PBe-"
      },
      "execution_count": 29,
      "outputs": []
    },
    {
      "cell_type": "code",
      "source": [
        "public_side_list = np.concatenate((\n",
        "    only_known_sides[only_known_sides[\"צד המדינה\"]==\"ב\"][\"צד ב'\"].unique(),\n",
        "    only_known_sides[only_known_sides[\"צד המדינה\"]==\"א\"][\"צד א'\"].unique()\n",
        "))"
      ],
      "metadata": {
        "id": "Pffp8lUUPU1h"
      },
      "execution_count": 30,
      "outputs": []
    },
    {
      "cell_type": "code",
      "source": [
        "public_side_list = list(set(public_side_list))\n",
        "private_side_list = list(set(private_side_list))"
      ],
      "metadata": {
        "id": "pirvvc5zP04k"
      },
      "execution_count": 31,
      "outputs": []
    },
    {
      "cell_type": "code",
      "source": [
        "max_length = max(len(public_side_list), len(private_side_list))\n",
        "public_side_list.extend([None] * (max_length - len(public_side_list)))\n",
        "private_side_list.extend([None] * (max_length - len(private_side_list)))\n",
        "\n",
        "sides_Public_Private = pd.DataFrame({\"Public Side\": public_side_list, \"Private Side\": private_side_list})\n",
        "\n",
        "path = \"/content/drive/MyDrive/בית המשפט - קבצים סופיים\"\n",
        "output_path = path + \"/sides_Public_Private.xlsx\"\n",
        "sides_Public_Private.to_excel(output_path, index=False)"
      ],
      "metadata": {
        "id": "dXu5s-Tvl7R_"
      },
      "execution_count": 32,
      "outputs": []
    }
  ]
}