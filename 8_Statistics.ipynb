{
  "nbformat": 4,
  "nbformat_minor": 0,
  "metadata": {
    "colab": {
      "provenance": [],
      "gpuType": "L4",
      "authorship_tag": "ABX9TyPDxMeDU8kX65oW7EeCofC8",
      "include_colab_link": true
    },
    "kernelspec": {
      "name": "python3",
      "display_name": "Python 3"
    },
    "language_info": {
      "name": "python"
    },
    "accelerator": "GPU"
  },
  "cells": [
    {
      "cell_type": "markdown",
      "metadata": {
        "id": "view-in-github",
        "colab_type": "text"
      },
      "source": [
        "<a href=\"https://colab.research.google.com/github/noambassat/SupremeCourtClassifier/blob/main/8_Statistics.ipynb\" target=\"_parent\"><img src=\"https://colab.research.google.com/assets/colab-badge.svg\" alt=\"Open In Colab\"/></a>"
      ]
    },
    {
      "cell_type": "code",
      "execution_count": 7,
      "metadata": {
        "id": "gqOFqMx9KAD7"
      },
      "outputs": [],
      "source": [
        "from google.colab import drive\n",
        "import numpy as np\n",
        "import pandas as pd\n",
        "import matplotlib.pyplot as plt\n",
        "import seaborn as sns"
      ]
    },
    {
      "cell_type": "code",
      "source": [
        "drive.mount('/content/drive')"
      ],
      "metadata": {
        "colab": {
          "base_uri": "https://localhost:8080/"
        },
        "id": "6U6pdpbpK8hi",
        "outputId": "bfd4b88b-f8a4-4393-8ff4-2ce5388e321b"
      },
      "execution_count": 2,
      "outputs": [
        {
          "output_type": "stream",
          "name": "stdout",
          "text": [
            "Mounted at /content/drive\n"
          ]
        }
      ]
    },
    {
      "cell_type": "code",
      "source": [
        "file_path = \"/content/drive/MyDrive/\"\n",
        "data_name  = \"full_rap_df_cleaned_3_classifiers.xlsx\""
      ],
      "metadata": {
        "id": "hd0sniFqK9Ff"
      },
      "execution_count": 3,
      "outputs": []
    },
    {
      "cell_type": "code",
      "source": [
        "data = pd.read_excel(file_path + data_name)"
      ],
      "metadata": {
        "id": "7h2n47FxLBEW"
      },
      "execution_count": 4,
      "outputs": []
    },
    {
      "cell_type": "code",
      "source": [
        "# data.columns\n",
        "# 'Others_classifier_original_prediction',\n",
        "#        'Others_classifier_treshold_prediction', 'גוף המסמך חתוך - embeddings',\n",
        "#        'first_classifier_predicted_probability',\n",
        "#        'first_classifier_original_prediction',\n",
        "#        'first_classifier_treshold_prediction',\n",
        "#        'גוף המסמך חתוך למסווג השני - embeddings',\n",
        "#        'second_classifier_predicted_probability',\n",
        "#        'second_classifier_original_prediction',\n",
        "#        'second_classifier_treshold_prediction'],"
      ],
      "metadata": {
        "id": "Vro-jTXMLQFz"
      },
      "execution_count": 6,
      "outputs": []
    },
    {
      "cell_type": "code",
      "source": [
        "def plot_statistics(data, col, quest):\n",
        "    # ספירת המקרים השונים בעמודה\n",
        "    value_counts = data[col].value_counts()\n",
        "    print(value_counts)\n",
        "    # יצירת הגרף\n",
        "    plt.figure(figsize=(10, 5))\n",
        "    plt.pie(value_counts, labels=quest, autopct='%1.1f%%', startangle=90)\n",
        "    plt.title(f'Distribution of {col}')\n",
        "    plt.show()\n",
        "\n",
        "    # הדפסת הנתונים מתחת לגרף\n",
        "    print(f\"Data distribution for '{col}':\")\n",
        "\n",
        "    total = sum(map(lambda count: count, value_counts))\n",
        "\n",
        "    print(f\"Total of {total} cases where checked.\")"
      ],
      "metadata": {
        "id": "tpK2fFAZ6M4W"
      },
      "execution_count": 43,
      "outputs": []
    },
    {
      "cell_type": "markdown",
      "source": [
        "# Others classifier"
      ],
      "metadata": {
        "id": "trbOl-hi63um"
      }
    },
    {
      "cell_type": "code",
      "source": [
        "plot_statistics(data,'Others_classifier_treshold_prediction',['No','Classified as Others'])"
      ],
      "metadata": {
        "colab": {
          "base_uri": "https://localhost:8080/",
          "height": 553
        },
        "id": "HLyViOt46066",
        "outputId": "0dcb9b8c-fc93-4508-ef53-44166498da58"
      },
      "execution_count": 44,
      "outputs": [
        {
          "output_type": "stream",
          "name": "stdout",
          "text": [
            "Others_classifier_treshold_prediction\n",
            "0    5983\n",
            "1    1115\n",
            "Name: count, dtype: int64\n"
          ]
        },
        {
          "output_type": "display_data",
          "data": {
            "text/plain": [
              "<Figure size 1000x500 with 1 Axes>"
            ],
            "image/png": "[encoded data removed]"
          },
          "metadata": {}
        },
        {
          "output_type": "stream",
          "name": "stdout",
          "text": [
            "Data distribution for 'Others_classifier_treshold_prediction':\n",
            "Total of 7098 cases where checked.\n"
          ]
        }
      ]
    },
    {
      "cell_type": "code",
      "source": [],
      "metadata": {
        "id": "RfNWi_A-7Uos"
      },
      "execution_count": null,
      "outputs": []
    }
  ]
}