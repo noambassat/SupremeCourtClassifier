{
  "nbformat": 4,
  "nbformat_minor": 0,
  "metadata": {
    "colab": {
      "provenance": [],
      "gpuType": "L4",
      "authorship_tag": "ABX9TyOKplJ42MCMCqlHiNkRhtlR",
      "include_colab_link": true
    },
    "kernelspec": {
      "name": "python3",
      "display_name": "Python 3"
    },
    "language_info": {
      "name": "python"
    },
    "accelerator": "GPU"
  },
  "cells": [
    {
      "cell_type": "markdown",
      "metadata": {
        "id": "view-in-github",
        "colab_type": "text"
      },
      "source": [
        "<a href=\"https://colab.research.google.com/github/noambassat/SupremeCourtClassifier/blob/main/8_Statistics.ipynb\" target=\"_parent\"><img src=\"https://colab.research.google.com/assets/colab-badge.svg\" alt=\"Open In Colab\"/></a>"
      ]
    },
    {
      "cell_type": "code",
      "execution_count": 152,
      "metadata": {
        "id": "gqOFqMx9KAD7"
      },
      "outputs": [],
      "source": [
        "from google.colab import drive\n",
        "import numpy as np\n",
        "import pandas as pd\n",
        "import matplotlib.pyplot as plt\n",
        "import seaborn as sns\n",
        "import re"
      ]
    },
    {
      "cell_type": "code",
      "source": [
        "drive.mount('/content/drive')"
      ],
      "metadata": {
        "colab": {
          "base_uri": "https://localhost:8080/"
        },
        "id": "6U6pdpbpK8hi",
        "outputId": "dd274e64-f134-418c-96d3-48f09cf30e68"
      },
      "execution_count": 153,
      "outputs": [
        {
          "output_type": "stream",
          "name": "stdout",
          "text": [
            "Drive already mounted at /content/drive; to attempt to forcibly remount, call drive.mount(\"/content/drive\", force_remount=True).\n"
          ]
        }
      ]
    },
    {
      "cell_type": "code",
      "source": [
        "file_path = \"/content/drive/MyDrive/\"\n",
        "data_name  = \"full_rap_df_cleaned_3_classifiers.xlsx\""
      ],
      "metadata": {
        "id": "hd0sniFqK9Ff"
      },
      "execution_count": 154,
      "outputs": []
    },
    {
      "cell_type": "code",
      "source": [
        "data = pd.read_excel(file_path + data_name)"
      ],
      "metadata": {
        "id": "7h2n47FxLBEW"
      },
      "execution_count": null,
      "outputs": []
    },
    {
      "cell_type": "markdown",
      "source": [
        "# Classifier's Statistics"
      ],
      "metadata": {
        "id": "7uSDGX0r_q6b"
      }
    },
    {
      "cell_type": "code",
      "source": [
        "def plot_statistics(data, col, quest):\n",
        "    # ספירת המקרים השונים בעמודה\n",
        "    value_counts = data[col].value_counts()\n",
        "    print(value_counts)\n",
        "    # יצירת הגרף\n",
        "    fig, ax = plt.subplots(figsize=(8, 8))\n",
        "    wedges, texts, autotexts = ax.pie(\n",
        "    value_counts,\n",
        "    labels=quest,\n",
        "    autopct='%1.1f%%',\n",
        "    textprops=dict(color=\"black\"),\n",
        "    startangle=90\n",
        ")\n",
        "\n",
        "# התאמת גודל הטקסטים\n",
        "    plt.setp(autotexts, size=10, weight=\"bold\")\n",
        "    plt.setp(texts, size=12)\n",
        "    plt.title(f'Distribution of {col}')\n",
        "\n",
        "    plt.show()\n",
        "\n",
        "    # הדפסת הנתונים מתחת לגרף\n",
        "    print(f\"Data distribution for '{col}':\")\n",
        "\n",
        "    total = sum(map(lambda count: count, value_counts))\n",
        "\n",
        "    print(f\"Total of {total} cases where checked.\")"
      ],
      "metadata": {
        "id": "tpK2fFAZ6M4W"
      },
      "execution_count": null,
      "outputs": []
    },
    {
      "cell_type": "code",
      "source": [
        "plot_statistics(data,'Others_classifier_treshold_prediction',['No','Classified as Others'])"
      ],
      "metadata": {
        "id": "HLyViOt46066"
      },
      "execution_count": null,
      "outputs": []
    },
    {
      "cell_type": "code",
      "source": [
        "plot_statistics(data,'first_classifier_treshold_prediction',['Request Denied','Request Granted'])"
      ],
      "metadata": {
        "id": "RfNWi_A-7Uos"
      },
      "execution_count": null,
      "outputs": []
    },
    {
      "cell_type": "code",
      "source": [
        "plot_statistics(data,'second_classifier_treshold_prediction',['Apeal itself Denied','Apeal itself Granted'])"
      ],
      "metadata": {
        "id": "EhJqXU2Q_TjW"
      },
      "execution_count": null,
      "outputs": []
    },
    {
      "cell_type": "markdown",
      "source": [
        "# Add public and private sides"
      ],
      "metadata": {
        "id": "NJtKZdxK_wE5"
      }
    },
    {
      "cell_type": "code",
      "source": [
        "sides_path = \"sides_values with lables.xlsx\"\n",
        "sides_df = pd.read_excel(file_path+sides_path)"
      ],
      "metadata": {
        "id": "NeBks3u4_yr9"
      },
      "execution_count": null,
      "outputs": []
    },
    {
      "cell_type": "code",
      "source": [
        "sides_df[\"Public Sides\"].unique()[5]"
      ],
      "metadata": {
        "id": "GZS5fJRF__47"
      },
      "execution_count": null,
      "outputs": []
    },
    {
      "cell_type": "code",
      "source": [
        "sides_df[\"Private Sides\"].unique()[5]"
      ],
      "metadata": {
        "id": "5m099tTQACAC"
      },
      "execution_count": null,
      "outputs": []
    },
    {
      "cell_type": "code",
      "source": [
        "public_side = []\n",
        "private_side = []"
      ],
      "metadata": {
        "id": "tkks8eZnkbNx"
      },
      "execution_count": null,
      "outputs": []
    },
    {
      "cell_type": "code",
      "source": [
        "def debug_message(message, value=None):\n",
        "    if value is not None:\n",
        "        print(f\"{message}: {value}\")\n",
        "    else:\n",
        "        print(message)\n",
        "\n",
        "# פונקציה לניקוי ערכים\n",
        "def safe_str(value):\n",
        "    \"\"\"\n",
        "    Converts a value to a safe string, handling non-string types gracefully.\n",
        "    \"\"\"\n",
        "    try:\n",
        "        if pd.isna(value) or value == \"\" or value == []:\n",
        "            return \"\"\n",
        "        if isinstance(value, list):\n",
        "            return \" \".join([str(v) for v in value if isinstance(v, str)]).strip()\n",
        "        return str(value).strip()\n",
        "    except Exception as e:\n",
        "        debug_message(\"Error converting value to string\", value)\n",
        "        return \"\"\n",
        "\n",
        "# פונקציה לניקוי טקסט\n",
        "def clean_text(text):\n",
        "    \"\"\"\n",
        "    Cleans the text by removing unwanted characters and fixing formatting issues.\n",
        "    \"\"\"\n",
        "    # Remove leading and trailing whitespace\n",
        "    text = text.strip()\n",
        "\n",
        "    # Fix \\n or n between Hebrew words\n",
        "    text = re.sub(r'(?<=[\\u0590-\\u05FF])\\s*[n\\\\n]+\\s*(?=[\\u0590-\\u05FF])', ' ', text)\n",
        "\n",
        "    # Replace multiple spaces with a single space\n",
        "    text = re.sub(r'\\s+', ' ', text)\n",
        "\n",
        "    return text\n",
        "\n",
        "def publc_side(value, sides_df):\n",
        "    \"\"\"\n",
        "    Determines if the value belongs to a public entity based on predefined lists and patterns.\n",
        "    \"\"\"\n",
        "    try:\n",
        "        value = safe_str(value)\n",
        "        value_cleaned = clean_text(value)\n",
        "\n",
        "        # בדיקת מילים קבועות בתור \"ציבורי\"\n",
        "        keywords = sides_df[\"Public Sides\"].dropna().unique().tolist()\n",
        "        public_terms = [\n",
        "        \"רשות מקרקעי ישראל\", \"מדינת \", \"מועצה \", \"שירות ה\", \"היחידה הארצי\", \"מדינתישראל\", \"לאכיפת \", \"הרשות ל\", \"חוף \",\n",
        "        \"המשרד ל\", 'יועמ\"ש', \"המשפטי לממשלה\", \"מנהל מקרקעי\", \"פרקליטות\", \"שירות בתי הסוהר\", 'שב\"ס', 'מע\"מ', \"מכס \", 'קמ\"ט',\n",
        "        \"ועדת תכנון\", \"מרכז השלטון\", \"משטרה\", \"הסנגוריה הציבורית\", \"מינהל מקרקעי\", \"עירית \", \"רשויות\", \"איגוד ערים\",\n",
        "        \"עיריית \", \"מדינת ישראל\", \"משרד ה\", \"מקרקעי ישראל\", \"שר ה\", \"שרת ה\", \"מועצת \", 'רנ\"ג', \"סרן\", \"מחוז \",\"מחש\",\n",
        "        \"מ דינת ישראל\", \"שרות בתי הסוהר\", 'סג\"ם', \"(במיל)\", \"(מיל)\", \"עריית \", \"המחלקה לחקירת שוטרים\", \"יושבי ראש\",\n",
        "        \"רשות ה\", \"אלוף \", 'יו\"ר', \"יושב ראש\", \"ראש עיריית\", \"ועדה\", \"צבא\", \"מפקד\", \"פיקוד\", \"משטרת\", \"משטרה\"\n",
        "    ]\n",
        "        # אם אחד מהמונחים מופיע, צד ציבורי\n",
        "        if any(term in value_cleaned for term in public_terms + keywords):\n",
        "            public_side.append(value_cleaned)\n",
        "            return 1\n",
        "\n",
        "        # במידה ואין התאמה, נבדוק לפי אורכים ודפוסים כלליים\n",
        "        if len(value_cleaned) > 5 and \" \" in value_cleaned:\n",
        "            private_side.append(value_cleaned)\n",
        "            return 0\n",
        "\n",
        "        return None\n",
        "    except Exception as e:\n",
        "        return None\n",
        "\n",
        "\n",
        "# פונקציה לשיוך צד המדינה\n",
        "def assign_state_side(value, sides_df):\n",
        "    \"\"\"\n",
        "    Maps the side to public ('ב'), private ('א'), or undefined ('לא מוגדר').\n",
        "    \"\"\"\n",
        "    try:\n",
        "        value = safe_str(value)\n",
        "        result = publc_side(value, sides_df)\n",
        "\n",
        "        if result == 1:\n",
        "            return \"ב\"\n",
        "        elif result == 0:\n",
        "            return \"א\"\n",
        "        else:\n",
        "            return \"לא מוגדר\"\n",
        "    except Exception as e:\n",
        "        debug_message(\"Error assigning state side for value\", value)\n",
        "        return \"לא מוגדר\"\n"
      ],
      "metadata": {
        "id": "_eE2ImS2ea-X"
      },
      "execution_count": null,
      "outputs": []
    },
    {
      "cell_type": "code",
      "source": [
        "check_nulls_b = data[data[\"צד ב'\"].isna()]\n",
        "check_nulls_b[\"צד א'\"].unique()"
      ],
      "metadata": {
        "id": "V3J1FnCkPLYf"
      },
      "execution_count": null,
      "outputs": []
    },
    {
      "cell_type": "code",
      "source": [
        "# ניקוי כללי של העמודה \"צד ב'\"\n",
        "data[\"צד ב'\"] = data[\"צד ב'\"].astype(str).str.strip()  # הסרת רווחים\n",
        "data[\"צד ב'\"] = data[\"צד ב'\"].replace(r'\\s+', ' ', regex=True)  # הסרת רווחים מיותרים\n",
        "data[\"צד ב'\"] = data[\"צד ב'\"].replace(r'[^\\w\\s]', '', regex=True)  # הסרת תווים מיוחדים\n"
      ],
      "metadata": {
        "id": "M4VajFRKBBcI"
      },
      "execution_count": null,
      "outputs": []
    },
    {
      "cell_type": "code",
      "source": [
        "data[\"צד המדינה\"] = data[\"צד ב'\"].apply(lambda x: assign_state_side(x, sides_df))\n"
      ],
      "metadata": {
        "id": "tx4FXvgDDv9n"
      },
      "execution_count": null,
      "outputs": []
    },
    {
      "cell_type": "code",
      "source": [
        "unknown_values = data[data[\"צד המדינה\"] == \"לא מוגדר\"]\n",
        "unknown_values[\"צד ב'\"].unique()"
      ],
      "metadata": {
        "id": "HhmssNYqd_8z"
      },
      "execution_count": null,
      "outputs": []
    },
    {
      "cell_type": "code",
      "source": [
        "unknown_values[\"צד א'\"].unique()"
      ],
      "metadata": {
        "id": "hysFA2ene29T"
      },
      "execution_count": null,
      "outputs": []
    },
    {
      "cell_type": "code",
      "source": [
        "data[\"צד המדינה\"].value_counts()"
      ],
      "metadata": {
        "id": "6wX7w4p6EAAi"
      },
      "execution_count": null,
      "outputs": []
    },
    {
      "cell_type": "code",
      "source": [
        "for i, value in zip(data[data[\"צד המדינה\"] == \"לא מוגדר\"].index,\n",
        "                    data[data[\"צד המדינה\"] == \"לא מוגדר\"][\"צד א'\"]):\n",
        "\n",
        "    if(assign_state_side(value,sides_df)==\"ב\"):\n",
        "      print(value)\n",
        "      data[\"צד המדינה\"][i] = 'א'\n",
        "      public_side.append(value)\n",
        "      print(\"מתוקן:\" ,data[\"צד המדינה\"][i])\n",
        "    elif(assign_state_side(value,sides_df)==\"א\"):\n",
        "      print(\"הפונציה מחזירה על  זה צד א'\")\n",
        "      print(\"צד המדינה: \",data[\"צד המדינה\"][i])\n",
        "      print(\"א: \",data[\"צד א'\"][i])\n",
        "      print(\"ב: \",data[\"צד ב'\"][i])\n",
        "      private_side.append(value)\n",
        "\n",
        "      ####### לשאול את איילת \\ יהונתן - אם בצד א' יש פלוני וצד ב' לא מוגדר, האם זה נחשב מ דינה בצד ב' בהכרח? היא תמיד באיזשהו צד??\n",
        "    # data[\"צד המדינה\"] = 'ב'\n",
        "    # print(data[\"צד המדינה\"][i])"
      ],
      "metadata": {
        "id": "dqVyLt_T9Ul5"
      },
      "execution_count": null,
      "outputs": []
    },
    {
      "cell_type": "code",
      "source": [
        "print(set(public_side))\n",
        "print(set(private_side))"
      ],
      "metadata": {
        "id": "j26XsiBDlJxj"
      },
      "execution_count": null,
      "outputs": []
    },
    {
      "cell_type": "code",
      "source": [
        "\n",
        "unknown_values = data[data[\"צד המדינה\"] == \"לא מוגדר\"]\n",
        "unknown_values[\"צד ב'\"].unique()\n"
      ],
      "metadata": {
        "id": "38WqqSvmyTO4"
      },
      "execution_count": null,
      "outputs": []
    },
    {
      "cell_type": "code",
      "source": [
        "unknown_values[\"צד א'\"].unique()"
      ],
      "metadata": {
        "id": "SZxv2w-Xjato"
      },
      "execution_count": null,
      "outputs": []
    },
    {
      "cell_type": "code",
      "source": [
        "# data[data[\"צד המדינה\"]=='ב'][\"צד ב'\"].unique()"
      ],
      "metadata": {
        "id": "bJ53w9UqjtI5"
      },
      "execution_count": null,
      "outputs": []
    },
    {
      "cell_type": "code",
      "source": [
        "plot_statistics(data,'צד המדינה',['א','ב',\"None\"])"
      ],
      "metadata": {
        "id": "uba97ikGDyFa"
      },
      "execution_count": null,
      "outputs": []
    },
    {
      "cell_type": "code",
      "source": [
        "data.to_excel(file_path + \"full_rap_df_cleaned_3_classifiers_with_state's_side.xlsx\", index=False)"
      ],
      "metadata": {
        "id": "EZYmFVwO4oF-"
      },
      "execution_count": null,
      "outputs": []
    }
  ]
}